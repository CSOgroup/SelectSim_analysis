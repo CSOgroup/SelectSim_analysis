{
 "cells": [
  {
   "cell_type": "code",
   "execution_count": 1,
   "id": "3d4e7913-c9ab-4084-8d1f-c64792a24188",
   "metadata": {
    "scrolled": true
   },
   "outputs": [
    {
     "name": "stderr",
     "output_type": "stream",
     "text": [
      "── \u001b[1mAttaching core tidyverse packages\u001b[22m ───────────────────────────────────────────────────────────────────────────────────────────────────────────────────────────────────── tidyverse 2.0.0 ──\n",
      "\u001b[32m✔\u001b[39m \u001b[34mdplyr    \u001b[39m 1.1.4     \u001b[32m✔\u001b[39m \u001b[34mreadr    \u001b[39m 2.1.5\n",
      "\u001b[32m✔\u001b[39m \u001b[34mforcats  \u001b[39m 1.0.0     \u001b[32m✔\u001b[39m \u001b[34mstringr  \u001b[39m 1.5.1\n",
      "\u001b[32m✔\u001b[39m \u001b[34mggplot2  \u001b[39m 3.4.4     \u001b[32m✔\u001b[39m \u001b[34mtibble   \u001b[39m 3.2.1\n",
      "\u001b[32m✔\u001b[39m \u001b[34mlubridate\u001b[39m 1.9.3     \u001b[32m✔\u001b[39m \u001b[34mtidyr    \u001b[39m 1.3.0\n",
      "\u001b[32m✔\u001b[39m \u001b[34mpurrr    \u001b[39m 1.0.2     \n",
      "── \u001b[1mConflicts\u001b[22m ─────────────────────────────────────────────────────────────────────────────────────────────────────────────────────────────────────────────────────── tidyverse_conflicts() ──\n",
      "\u001b[31m✖\u001b[39m \u001b[34mdplyr\u001b[39m::\u001b[32mfilter()\u001b[39m masks \u001b[34mstats\u001b[39m::filter()\n",
      "\u001b[31m✖\u001b[39m \u001b[34mdplyr\u001b[39m::\u001b[32mlag()\u001b[39m    masks \u001b[34mstats\u001b[39m::lag()\n",
      "\u001b[36mℹ\u001b[39m Use the conflicted package (\u001b[3m\u001b[34m<http://conflicted.r-lib.org/>\u001b[39m\u001b[23m) to force all conflicts to become errors\n",
      "\n",
      "Attaching package: ‘reshape2’\n",
      "\n",
      "\n",
      "The following object is masked from ‘package:tidyr’:\n",
      "\n",
      "    smiths\n",
      "\n",
      "\n"
     ]
    }
   ],
   "source": [
    "library('tidyverse')\n",
    "library('SelectSim')\n",
    "library('tictoc')\n",
    "library('reshape2')"
   ]
  },
  {
   "cell_type": "code",
   "execution_count": 2,
   "id": "577105d4-5671-43dc-b764-03600f738982",
   "metadata": {
    "scrolled": true
   },
   "outputs": [
    {
     "data": {
      "text/plain": [
       "R version 4.3.2 (2023-10-31)\n",
       "Platform: x86_64-conda-linux-gnu (64-bit)\n",
       "Running under: CentOS Linux 7 (Core)\n",
       "\n",
       "Matrix products: default\n",
       "BLAS/LAPACK: /mnt/ndata/arvind/envs/R_4/lib/libopenblasp-r0.3.25.so;  LAPACK version 3.11.0\n",
       "\n",
       "locale:\n",
       " [1] LC_CTYPE=en_US.UTF-8       LC_NUMERIC=C              \n",
       " [3] LC_TIME=en_US.UTF-8        LC_COLLATE=en_US.UTF-8    \n",
       " [5] LC_MONETARY=en_US.UTF-8    LC_MESSAGES=en_US.UTF-8   \n",
       " [7] LC_PAPER=en_US.UTF-8       LC_NAME=C                 \n",
       " [9] LC_ADDRESS=C               LC_TELEPHONE=C            \n",
       "[11] LC_MEASUREMENT=en_US.UTF-8 LC_IDENTIFICATION=C       \n",
       "\n",
       "time zone: Europe/Zurich\n",
       "tzcode source: system (glibc)\n",
       "\n",
       "attached base packages:\n",
       "[1] stats     graphics  grDevices utils     datasets  methods   base     \n",
       "\n",
       "other attached packages:\n",
       " [1] reshape2_1.4.4    tictoc_1.2        SelectSim_0.0.1.3 lubridate_1.9.3  \n",
       " [5] forcats_1.0.0     stringr_1.5.1     dplyr_1.1.4       purrr_1.0.2      \n",
       " [9] readr_2.1.5       tidyr_1.3.0       tibble_3.2.1      ggplot2_3.4.4    \n",
       "[13] tidyverse_2.0.0  \n",
       "\n",
       "loaded via a namespace (and not attached):\n",
       " [1] gtable_0.3.4       rstatix_0.7.2      lattice_0.22-5     tzdb_0.4.0        \n",
       " [5] vctrs_0.6.5        tools_4.3.2        generics_0.1.3     parallel_4.3.2    \n",
       " [9] fansi_1.0.6        pkgconfig_2.0.3    Matrix_1.6-5       ggridges_0.5.5    \n",
       "[13] rngtools_1.5.2     RcppParallel_5.1.6 uuid_1.2-0         lifecycle_1.0.4   \n",
       "[17] compiler_4.3.2     munsell_0.5.0      repr_1.1.6         codetools_0.2-19  \n",
       "[21] carData_3.0-5      htmltools_0.5.7    pillar_1.9.0       car_3.1-2         \n",
       "[25] ggpubr_0.6.0       crayon_1.5.2       doRNG_1.8.6        iterators_1.0.14  \n",
       "[29] abind_1.4-5        foreach_1.5.2      tidyselect_1.2.0   digest_0.6.34     \n",
       "[33] stringi_1.8.3      fastmap_1.1.1      grid_4.3.2         colorspace_2.1-0  \n",
       "[37] cli_3.6.2          magrittr_2.0.3     base64enc_0.1-3    Rfast_2.1.0       \n",
       "[41] utf8_1.2.4         IRdisplay_1.1      broom_1.0.5        withr_3.0.0       \n",
       "[45] scales_1.3.0       backports_1.4.1    IRkernel_1.3.2     RcppZiggurat_0.1.6\n",
       "[49] timechange_0.3.0   pbdZMQ_0.3-11      ggsignif_0.6.4     hms_1.1.3         \n",
       "[53] evaluate_0.23      doParallel_1.0.17  rlang_1.1.3        Rcpp_1.0.12       \n",
       "[57] glue_1.7.0         jsonlite_1.8.8     R6_2.5.1           plyr_1.8.9        "
      ]
     },
     "metadata": {},
     "output_type": "display_data"
    }
   ],
   "source": [
    "sessionInfo()"
   ]
  },
  {
   "cell_type": "markdown",
   "id": "f4986b4c-92cc-4387-a4ca-78deaf7cb624",
   "metadata": {},
   "source": [
    "# Note\n",
    "- Ensure the file path are correct in all read functions below of the raw downloaded data.\n",
    "- Ensure the file are saved to correct location based on path decided by the user.\n",
    "- Download the TCGA MAF file from (https://gdc.cancer.gov/about-data/publications/Pathways-2018)"
   ]
  },
  {
   "cell_type": "code",
   "execution_count": 3,
   "id": "570421ae-2ec5-441b-80e4-662c4b61e48f",
   "metadata": {},
   "outputs": [],
   "source": [
    "# Actual MAF file\n",
    "load('/mnt/ptemp/arvind/giovanni_share/data/maf/mc3.v0.2.8.PUBLIC.LAML_PATCH.RData')"
   ]
  },
  {
   "cell_type": "code",
   "execution_count": 4,
   "id": "60f5d0e4-af54-4b7f-96ee-05ee7948bbb5",
   "metadata": {},
   "outputs": [],
   "source": [
    "# TCGA Annotation from our previous paper\n",
    "load('/mnt/ptemp/arvind/giovanni_share/data/gam/tcga_mut_only_marco.RData')"
   ]
  },
  {
   "cell_type": "code",
   "execution_count": 5,
   "id": "28aef774-e5c8-443a-82b0-17d867bc0ebf",
   "metadata": {},
   "outputs": [],
   "source": [
    "filter_maf <-maf[,c('Entrez_Gene_Id','Chromosome','Start_Position','End_Position','Reference_Allele','Tumor_Seq_Allele2','Hugo_Symbol','Variant_Classification','Tumor_Sample_Barcode','HGVSp_Short')]"
   ]
  },
  {
   "cell_type": "code",
   "execution_count": 6,
   "id": "c18842d2-c8f7-4312-9565-e8e2e9adfd83",
   "metadata": {},
   "outputs": [],
   "source": [
    "filter_maf$sample <- substr(filter_maf$Tumor_Sample_Barcode,1,15)"
   ]
  },
  {
   "cell_type": "code",
   "execution_count": 7,
   "id": "ce61f49a-49bf-4ebe-ba0b-9a2cd97c8fd0",
   "metadata": {},
   "outputs": [],
   "source": [
    "input_maf<-filter_maf %>% filter(sample %in% rownames(gam_collection$gam))"
   ]
  },
  {
   "cell_type": "code",
   "execution_count": 8,
   "id": "e8f49da2-9baf-4469-a7c1-330bda5624c2",
   "metadata": {},
   "outputs": [],
   "source": [
    "mutation_type = list(\n",
    "      'ignore' = c(\"Silent\",\"Intron\",\"RNA\",\"3'UTR\",\"5'UTR\",\"5'Flank\",\"3'Flank\",\"IGR\"),\n",
    "      'truncating'= c('Frame_Shift_Del','Frame_Shift_Ins','In_Frame_Del','In_Frame_Ins','Nonsense_Mutation','Nonstop_Mutation','Splice_Region','Splice_Site','Translation_Start_Site'),\n",
    "      'missense' = c('Missense_Mutation')\n",
    ")\n",
    "custom_maf_schema = list(\n",
    "    'name' = 'custom_maf',\n",
    "    'column' = list(\n",
    "          'gene' = 'Hugo_Symbol'\n",
    "        , 'gene.name' = 'Hugo_Symbol'\n",
    "        , 'sample' = 'sample'\n",
    "        , 'sample.name' = 'sample'\n",
    "        , 'mutation.type' = 'Variant_Classification'\n",
    "        , 'mutation' = 'HGVSp_Short'\n",
    "        ),\n",
    "        'mutation.type' = mutation_type\n",
    ")"
   ]
  },
  {
   "cell_type": "code",
   "execution_count": 9,
   "id": "d763b429-fd6d-4019-a557-4aceeb00df59",
   "metadata": {},
   "outputs": [
    {
     "data": {
      "text/html": [
       "<style>\n",
       ".list-inline {list-style: none; margin:0; padding: 0}\n",
       ".list-inline>li {display: inline-block}\n",
       ".list-inline>li:not(:last-child)::after {content: \"\\00b7\"; padding: 0 .5ex}\n",
       "</style>\n",
       "<ol class=list-inline><li>2971979</li><li>11</li></ol>\n"
      ],
      "text/latex": [
       "\\begin{enumerate*}\n",
       "\\item 2971979\n",
       "\\item 11\n",
       "\\end{enumerate*}\n"
      ],
      "text/markdown": [
       "1. 2971979\n",
       "2. 11\n",
       "\n",
       "\n"
      ],
      "text/plain": [
       "[1] 2971979      11"
      ]
     },
     "metadata": {},
     "output_type": "display_data"
    }
   ],
   "source": [
    "dim(input_maf)"
   ]
  },
  {
   "cell_type": "code",
   "execution_count": 10,
   "id": "c29161fb-22fa-40d3-ab61-960ac2189fd4",
   "metadata": {},
   "outputs": [
    {
     "data": {
      "text/html": [
       "'TCGA-AB-2803-03'"
      ],
      "text/latex": [
       "'TCGA-AB-2803-03'"
      ],
      "text/markdown": [
       "'TCGA-AB-2803-03'"
      ],
      "text/plain": [
       "[1] \"TCGA-AB-2803-03\""
      ]
     },
     "metadata": {},
     "output_type": "display_data"
    }
   ],
   "source": [
    "input_maf$sample[1]"
   ]
  },
  {
   "cell_type": "code",
   "execution_count": 11,
   "id": "a70de6f0-cb4a-490f-9c48-7d39c801c3f8",
   "metadata": {},
   "outputs": [
    {
     "name": "stdout",
     "output_type": "stream",
     "text": [
      "[1] 9082\n"
     ]
    }
   ],
   "source": [
    "mut_samples = unique(input_maf[, custom_maf_schema$column$sample])\n",
    "print(length(mut_samples))"
   ]
  },
  {
   "cell_type": "code",
   "execution_count": 12,
   "id": "d09ad7c0-a84a-4ac1-9ae0-b1886f232491",
   "metadata": {},
   "outputs": [
    {
     "name": "stdout",
     "output_type": "stream",
     "text": [
      "[1] \"TCGA-AB-2803-03\" \"TCGA-02-0047-01\" \"TCGA-02-0055-01\" \"TCGA-AB-2805-03\"\n",
      "[5] \"TCGA-AB-2806-03\"\n"
     ]
    }
   ],
   "source": [
    "print(mut_samples[1:5])"
   ]
  },
  {
   "cell_type": "code",
   "execution_count": 13,
   "id": "76278693-51eb-47ad-920b-83fd989265b9",
   "metadata": {
    "scrolled": true
   },
   "outputs": [],
   "source": [
    "gene_list<-readRDS(file='/mnt/ptemp/arvind/oncokb_annotator/oncokb_data/gene_list.rds')"
   ]
  },
  {
   "cell_type": "code",
   "execution_count": 14,
   "id": "e80976bf-4031-4b21-8ac9-2b6a4f3df4a2",
   "metadata": {},
   "outputs": [
    {
     "name": "stdout",
     "output_type": "stream",
     "text": [
      "[1] \"##### Number of lines ####->2971979\"\n",
      "[1] \"##### Number of genes ####->396\"\n",
      "[1] \"##### Number of samples ####->9082\"\n",
      "[1] \"##### Number of lines ####->104962\"\n"
     ]
    }
   ],
   "source": [
    "input_maf = input_maf[,c('Hugo_Symbol','Variant_Classification','Tumor_Sample_Barcode','HGVSp_Short')]\n",
    "input_maf$sample <- substr(input_maf$Tumor_Sample_Barcode,1,15)\n",
    "print(paste('##### Number of lines ####',nrow(input_maf),sep=\"->\"))\n",
    "genes_to_consider = gene_list$gene_to_consider\n",
    "print(paste('##### Number of genes ####',length(genes_to_consider),sep=\"->\"))\n",
    "# Extact number of samples\n",
    "mut_samples = unique(input_maf[, custom_maf_schema$column$sample])\n",
    "print(paste('##### Number of samples ####',length(mut_samples),sep=\"->\"))\n",
    "# Extact mutations in genes in oncokb list\n",
    "genes_to_consider = gene_list$gene_to_consider\n",
    "maf_genes = filter_maf_gene.name(input_maf, genes = genes_to_consider, gene.col = custom_maf_schema$column$gene)\n",
    "print(paste('##### Number of lines ####',nrow(maf_genes),sep=\"->\"))"
   ]
  },
  {
   "cell_type": "code",
   "execution_count": 15,
   "id": "389179c6-dd40-4310-a16f-9da20faafb1c",
   "metadata": {
    "scrolled": true
   },
   "outputs": [
    {
     "name": "stdout",
     "output_type": "stream",
     "text": [
      "##### Creating Silent GAM ####: 4.281 sec elapsed\n"
     ]
    }
   ],
   "source": [
    "# Creating Silent GAM\n",
    "tic('##### Creating Silent GAM ####')\n",
    "\t\tmaf_genes_silent<- maf_genes %>% filter(Variant_Classification %in% c('Silent'))\n",
    "\t\tsilent_tmb <- data.frame('sample'=mut_samples,'mutation'=rep(0,length(mut_samples)))\n",
    "\t\trownames(silent_tmb)<-mut_samples\n",
    "\t\ttemp <- maf_genes_silent %>% count(sample) \n",
    "\t\trownames(temp)<-temp$sample\n",
    "\t\tsilent_tmb[intersect(silent_tmb$sample,temp$sample),]$mutation <-temp[intersect(silent_tmb$sample,temp$sample),'n']\n",
    "\t\ttcga_silent_gam = maf2gam(maf_genes_silent,\n",
    "                             sample.col = custom_maf_schema$column$sample,\n",
    "                             gene.col = custom_maf_schema$column$gene,\n",
    "                             value.var = 'Variant_Classification',\n",
    "                             samples = mut_samples,\n",
    "                             genes = genes_to_consider,\n",
    "                             fun.aggregate = length,\n",
    "                             binarize=TRUE,\n",
    "                             fill=0)\n",
    "\t\tsilent_data <- list('gam'=tcga_silent_gam,\n",
    "\t\t                    'tmb'=silent_tmb)\n",
    "toc()"
   ]
  },
  {
   "cell_type": "code",
   "execution_count": 16,
   "id": "5c116a0d-fe78-4f13-8542-32991687ad0a",
   "metadata": {},
   "outputs": [
    {
     "name": "stdout",
     "output_type": "stream",
     "text": [
      "[1] \"##### Number of lines ####->19138\"\n",
      "##### Creating Truncating GAM ####: 3.65 sec elapsed\n"
     ]
    }
   ],
   "source": [
    "\t# Creating Truncating GAM\n",
    "\ttic('##### Creating Truncating GAM ####')\n",
    "\t\tmaf_trunc = filter_maf_truncating(maf_genes,genes=gene_catalogue$gene_for_trun_mut, custom_maf_schema)\n",
    "\t\tprint(paste('##### Number of lines ####',nrow(maf_trunc),sep=\"->\"))\n",
    "        input_maf_trunc<-filter_maf_truncating(input_maf, custom_maf_schema)\n",
    "\t\ttruncating_tmb <- data.frame('sample'=mut_samples,'mutation'=rep(0,length(mut_samples)))\n",
    "\t\trownames(truncating_tmb)<-mut_samples\n",
    "\t\ttemp <- input_maf_trunc %>% count(sample) \n",
    "\t\trownames(temp)<-temp$sample\n",
    "\t\ttruncating_tmb[intersect(truncating_tmb$sample,temp$sample),]$mutation <-temp[intersect(truncating_tmb$sample,temp$sample),'n']\n",
    "\t\ttcga_truc_gam = maf2gam(maf_trunc,\n",
    "                         sample.col = custom_maf_schema$column$sample,\n",
    "                         gene.col = custom_maf_schema$column$gene,\n",
    "                         value.var = 'Variant_Classification',\n",
    "                         samples = mut_samples,\n",
    "                         genes = genes_to_consider,\n",
    "                         fun.aggregate = length,\n",
    "                         binarize=TRUE,\n",
    "                         fill=0)\n",
    "\t\ttruncating_data <- list('gam'=tcga_truc_gam,\n",
    "                \t\t\t\t'tmb'=truncating_tmb)\n",
    "\ttoc()"
   ]
  },
  {
   "cell_type": "code",
   "execution_count": 17,
   "id": "182c5c19-f4a7-4e16-8790-a0bbab29143e",
   "metadata": {},
   "outputs": [
    {
     "name": "stdout",
     "output_type": "stream",
     "text": [
      "[1] \"##### Number of lines ####->12784\"\n",
      "##### Creating Missense GAM ####: 22.409 sec elapsed\n"
     ]
    }
   ],
   "source": [
    "# Creating Missense GAM\n",
    "tic('##### Creating Missense GAM ####')\n",
    "    maf_valid = filter_maf_schema(input_maf,\n",
    "                             schema = custom_maf_schema,\n",
    "                             column = 'mutation.type',\n",
    "                             values = custom_maf_schema[['mutation.type']][['ignore']],\n",
    "                             inclusive = FALSE)\n",
    "    missense_maf<-filter_maf_mutation.type(input_maf,\n",
    "                                      variants = 'Missense_Mutation',\n",
    "                                      variant.col = custom_maf_schema$column$mutation.type)\n",
    "    missense_tmb <- data.frame('sample'=mut_samples,'mutation'=rep(0,length(mut_samples)))\n",
    "    rownames(missense_tmb)<-mut_samples\n",
    "    temp <- missense_maf %>% count(sample) \n",
    "    rownames(temp)<-temp$sample\n",
    "    missense_tmb[intersect(missense_tmb$sample,temp$sample),]$mutation <-temp[intersect(missense_tmb$sample,temp$sample),'n']\n",
    "    t_m = substr(maf_valid[[custom_maf_schema$column$mutation]],3,1000)\n",
    "    t_m1 =  gsub('[A-Z]*$', '', t_m)\n",
    "    maf_valid$HGVSp_Short_fixed = t_m1\n",
    "    maf_hotspot = filter_maf_mutations(maf_valid,\n",
    "                                  variant_catalogue,\n",
    "                                  maf.col = c(custom_maf_schema$column$gene, 'HGVSp_Short_fixed'),\n",
    "                                  values.col = c('gene', 'mut'))\n",
    "\tprint(paste('##### Number of lines ####',nrow(maf_hotspot),sep=\"->\"))\n",
    "    missense_tcga_gam = maf2gam(maf_hotspot,\n",
    "                     sample.col = custom_maf_schema$column$sample,\n",
    "                     gene.col = custom_maf_schema$column$gene,\n",
    "                     value.var = 'Variant_Classification',\n",
    "                     samples = mut_samples,\n",
    "                     genes = genes_to_consider,\n",
    "                     fun.aggregate = length,\n",
    "                     binarize=TRUE,\n",
    "                     fill=0)\n",
    "    missesne_data <- list('gam'=missense_tcga_gam,\n",
    "                          'tmb'=missense_tmb)\n",
    "toc()"
   ]
  },
  {
   "cell_type": "code",
   "execution_count": 18,
   "id": "40dea41e-3a76-42af-9209-c7cc1eecd6d0",
   "metadata": {},
   "outputs": [],
   "source": [
    "global_sample_covariates <-gam_collection$sample.class"
   ]
  },
  {
   "cell_type": "code",
   "execution_count": 19,
   "id": "9578088e-3d46-4994-bd26-2bf279513907",
   "metadata": {},
   "outputs": [],
   "source": [
    "gene_to_take <- colnames(missesne_data$gam)\n",
    "order <- names(global_sample_covariates[rownames(missesne_data$gam)])\n",
    "\n",
    "data <-list('M'=list('missense'=t(missesne_data$gam[order,gene_to_take]),\n",
    "                             'truncating'=t(truncating_data$gam[rownames(missesne_data$gam[order,]),gene_to_take])),\n",
    "                    'tmb'=list('missense'=missesne_data$tmb[order,],\n",
    "                               'truncating'=truncating_data$tmb[order,]))\n",
    "\n",
    "alteration_covariates <- rep('MUT',ncol(missesne_data$gam[order,gene_to_take]))\n",
    "names(alteration_covariates)<-colnames(missesne_data$gam[order,gene_to_take])\n",
    "sample_covariates<-global_sample_covariates[rownames(missesne_data$gam)]"
   ]
  },
  {
   "cell_type": "code",
   "execution_count": 20,
   "id": "577d2c3a-0421-4f7d-a87f-c0d521782411",
   "metadata": {},
   "outputs": [],
   "source": [
    "run_data <- list('M'=data,'sample.class' = sample_covariates,'alteration.class' = alteration_covariates)"
   ]
  },
  {
   "cell_type": "code",
   "execution_count": 21,
   "id": "ddc89271-485f-4b72-af63-ea9a37731969",
   "metadata": {
    "scrolled": true
   },
   "outputs": [
    {
     "name": "stdout",
     "output_type": "stream",
     "text": [
      "List of 3\n",
      " $ M               :List of 2\n",
      "  ..$ M  :List of 2\n",
      "  .. ..$ missense  : num [1:396, 1:9082] 0 0 0 0 0 0 0 0 0 0 ...\n",
      "  .. .. ..- attr(*, \"dimnames\")=List of 2\n",
      "  .. .. .. ..$ : chr [1:396] \"AKT1\" \"ALK\" \"APC\" \"AR\" ...\n",
      "  .. .. .. ..$ : chr [1:9082] \"TCGA-02-0047-01\" \"TCGA-02-0055-01\" \"TCGA-AB-2805-03\" \"TCGA-AB-2806-03\" ...\n",
      "  .. ..$ truncating: num [1:396, 1:9082] 0 0 0 0 0 0 0 0 0 0 ...\n",
      "  .. .. ..- attr(*, \"dimnames\")=List of 2\n",
      "  .. .. .. ..$ : chr [1:396] \"AKT1\" \"ALK\" \"APC\" \"AR\" ...\n",
      "  .. .. .. ..$ : chr [1:9082] \"TCGA-02-0047-01\" \"TCGA-02-0055-01\" \"TCGA-AB-2805-03\" \"TCGA-AB-2806-03\" ...\n",
      "  ..$ tmb:List of 2\n",
      "  .. ..$ missense  :'data.frame':\t9082 obs. of  2 variables:\n",
      "  .. .. ..$ sample  : chr [1:9082] \"TCGA-02-0047-01\" \"TCGA-02-0055-01\" \"TCGA-AB-2805-03\" \"TCGA-AB-2806-03\" ...\n",
      "  .. .. ..$ mutation: num [1:9082] 56 47 40 422 214 588 14 8 19 8 ...\n",
      "  .. ..$ truncating:'data.frame':\t9082 obs. of  2 variables:\n",
      "  .. .. ..$ sample  : chr [1:9082] \"TCGA-02-0047-01\" \"TCGA-02-0055-01\" \"TCGA-AB-2805-03\" \"TCGA-AB-2806-03\" ...\n",
      "  .. .. ..$ mutation: num [1:9082] 7 3 17 85 47 183 3 3 1 2 ...\n",
      " $ sample.class    : Named chr [1:9082] \"GBM\" \"GBM\" \"LAML\" \"LAML\" ...\n",
      "  ..- attr(*, \"names\")= chr [1:9082] \"TCGA-02-0047-01\" \"TCGA-02-0055-01\" \"TCGA-AB-2805-03\" \"TCGA-AB-2806-03\" ...\n",
      " $ alteration.class: Named chr [1:396] \"MUT\" \"MUT\" \"MUT\" \"MUT\" ...\n",
      "  ..- attr(*, \"names\")= chr [1:396] \"AKT1\" \"ALK\" \"APC\" \"AR\" ...\n"
     ]
    }
   ],
   "source": [
    "str(run_data)"
   ]
  },
  {
   "cell_type": "code",
   "execution_count": 22,
   "id": "d23eb025-5dcb-44d5-8ced-c47ecf789841",
   "metadata": {},
   "outputs": [],
   "source": [
    "saveRDS(run_data,file='../data/processed/gams/pan_can_tcga_run_data.rds')"
   ]
  }
 ],
 "metadata": {
  "kernelspec": {
   "display_name": "R",
   "language": "R",
   "name": "ir"
  },
  "language_info": {
   "codemirror_mode": "r",
   "file_extension": ".r",
   "mimetype": "text/x-r-source",
   "name": "R",
   "pygments_lexer": "r",
   "version": "4.3.2"
  }
 },
 "nbformat": 4,
 "nbformat_minor": 5
}
