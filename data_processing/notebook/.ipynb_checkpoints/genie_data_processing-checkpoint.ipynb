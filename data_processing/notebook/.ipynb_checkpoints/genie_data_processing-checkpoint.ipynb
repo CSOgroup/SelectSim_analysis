{
 "cells": [
  {
   "cell_type": "code",
   "execution_count": 1,
   "id": "c667c5c7-3211-4a80-a0e1-1ae382ba9a54",
   "metadata": {
    "scrolled": true
   },
   "outputs": [
    {
     "name": "stderr",
     "output_type": "stream",
     "text": [
      "── \u001b[1mAttaching core tidyverse packages\u001b[22m ───────────────────────────────────────────────────────────────────────────────────────────────────────────────────────────────────── tidyverse 2.0.0 ──\n",
      "\u001b[32m✔\u001b[39m \u001b[34mdplyr    \u001b[39m 1.1.4     \u001b[32m✔\u001b[39m \u001b[34mreadr    \u001b[39m 2.1.5\n",
      "\u001b[32m✔\u001b[39m \u001b[34mforcats  \u001b[39m 1.0.0     \u001b[32m✔\u001b[39m \u001b[34mstringr  \u001b[39m 1.5.1\n",
      "\u001b[32m✔\u001b[39m \u001b[34mggplot2  \u001b[39m 3.4.4     \u001b[32m✔\u001b[39m \u001b[34mtibble   \u001b[39m 3.2.1\n",
      "\u001b[32m✔\u001b[39m \u001b[34mlubridate\u001b[39m 1.9.3     \u001b[32m✔\u001b[39m \u001b[34mtidyr    \u001b[39m 1.3.0\n",
      "\u001b[32m✔\u001b[39m \u001b[34mpurrr    \u001b[39m 1.0.2     \n",
      "── \u001b[1mConflicts\u001b[22m ─────────────────────────────────────────────────────────────────────────────────────────────────────────────────────────────────────────────────────── tidyverse_conflicts() ──\n",
      "\u001b[31m✖\u001b[39m \u001b[34mdplyr\u001b[39m::\u001b[32mfilter()\u001b[39m masks \u001b[34mstats\u001b[39m::filter()\n",
      "\u001b[31m✖\u001b[39m \u001b[34mdplyr\u001b[39m::\u001b[32mlag()\u001b[39m    masks \u001b[34mstats\u001b[39m::lag()\n",
      "\u001b[36mℹ\u001b[39m Use the conflicted package (\u001b[3m\u001b[34m<http://conflicted.r-lib.org/>\u001b[39m\u001b[23m) to force all conflicts to become errors\n"
     ]
    }
   ],
   "source": [
    "library('SelectSim')\n",
    "library('tidyverse')"
   ]
  },
  {
   "cell_type": "code",
   "execution_count": 2,
   "id": "b4f0b086-6f76-47d7-bc31-baed26dd0ba7",
   "metadata": {
    "scrolled": true
   },
   "outputs": [
    {
     "data": {
      "text/plain": [
       "R version 4.3.2 (2023-10-31)\n",
       "Platform: x86_64-conda-linux-gnu (64-bit)\n",
       "Running under: CentOS Linux 7 (Core)\n",
       "\n",
       "Matrix products: default\n",
       "BLAS/LAPACK: /mnt/ndata/arvind/envs/R_4/lib/libopenblasp-r0.3.25.so;  LAPACK version 3.11.0\n",
       "\n",
       "locale:\n",
       " [1] LC_CTYPE=en_US.UTF-8       LC_NUMERIC=C              \n",
       " [3] LC_TIME=en_US.UTF-8        LC_COLLATE=en_US.UTF-8    \n",
       " [5] LC_MONETARY=en_US.UTF-8    LC_MESSAGES=en_US.UTF-8   \n",
       " [7] LC_PAPER=en_US.UTF-8       LC_NAME=C                 \n",
       " [9] LC_ADDRESS=C               LC_TELEPHONE=C            \n",
       "[11] LC_MEASUREMENT=en_US.UTF-8 LC_IDENTIFICATION=C       \n",
       "\n",
       "time zone: Europe/Zurich\n",
       "tzcode source: system (glibc)\n",
       "\n",
       "attached base packages:\n",
       "[1] stats     graphics  grDevices utils     datasets  methods   base     \n",
       "\n",
       "other attached packages:\n",
       " [1] lubridate_1.9.3   forcats_1.0.0     stringr_1.5.1     dplyr_1.1.4      \n",
       " [5] purrr_1.0.2       readr_2.1.5       tidyr_1.3.0       tibble_3.2.1     \n",
       " [9] ggplot2_3.4.4     tidyverse_2.0.0   SelectSim_0.0.1.3\n",
       "\n",
       "loaded via a namespace (and not attached):\n",
       " [1] gtable_0.3.4       rstatix_0.7.2      lattice_0.22-5     tzdb_0.4.0        \n",
       " [5] vctrs_0.6.5        tools_4.3.2        generics_0.1.3     parallel_4.3.2    \n",
       " [9] fansi_1.0.6        pkgconfig_2.0.3    Matrix_1.6-5       ggridges_0.5.5    \n",
       "[13] rngtools_1.5.2     RcppParallel_5.1.6 uuid_1.2-0         lifecycle_1.0.4   \n",
       "[17] compiler_4.3.2     tictoc_1.2         munsell_0.5.0      repr_1.1.6        \n",
       "[21] codetools_0.2-19   carData_3.0-5      htmltools_0.5.7    pillar_1.9.0      \n",
       "[25] car_3.1-2          ggpubr_0.6.0       crayon_1.5.2       doRNG_1.8.6       \n",
       "[29] iterators_1.0.14   abind_1.4-5        foreach_1.5.2      tidyselect_1.2.0  \n",
       "[33] digest_0.6.34      stringi_1.8.3      reshape2_1.4.4     fastmap_1.1.1     \n",
       "[37] grid_4.3.2         colorspace_2.1-0   cli_3.6.2          magrittr_2.0.3    \n",
       "[41] base64enc_0.1-3    Rfast_2.1.0        utf8_1.2.4         IRdisplay_1.1     \n",
       "[45] broom_1.0.5        withr_3.0.0        scales_1.3.0       backports_1.4.1   \n",
       "[49] IRkernel_1.3.2     RcppZiggurat_0.1.6 timechange_0.3.0   pbdZMQ_0.3-11     \n",
       "[53] ggsignif_0.6.4     hms_1.1.3          evaluate_0.23      doParallel_1.0.17 \n",
       "[57] rlang_1.1.3        Rcpp_1.0.12        glue_1.7.0         jsonlite_1.8.8    \n",
       "[61] R6_2.5.1           plyr_1.8.9        "
      ]
     },
     "metadata": {},
     "output_type": "display_data"
    }
   ],
   "source": [
    "sessionInfo()"
   ]
  },
  {
   "cell_type": "code",
   "execution_count": 3,
   "id": "76dfa084-50c1-4895-9de3-f8f17e89ea54",
   "metadata": {},
   "outputs": [],
   "source": [
    "`%notin%` <- Negate(`%in%`)"
   ]
  },
  {
   "attachments": {},
   "cell_type": "markdown",
   "id": "d33dfc33-d969-4fb5-a337-cba4c9374fff",
   "metadata": {},
   "source": [
    "# Download the GENIE Data\n",
    "- Download the GENIE (V15) data from (https://doi.org/10.7303/syn53210170)"
   ]
  },
  {
   "cell_type": "markdown",
   "id": "3b94e509-87b0-4d0f-83f8-0beacc20aea3",
   "metadata": {},
   "source": [
    "# Metadata\n",
    "- Ensure the file path are correct in read functions below of the raw downloaded data"
   ]
  },
  {
   "cell_type": "code",
   "execution_count": 4,
   "id": "8cc5a002-f757-47fc-aabb-c844d1489650",
   "metadata": {},
   "outputs": [],
   "source": [
    "genie_15_metadata_sample <- read.delim('../data/raw/genie/data_clinical_sample.txt')\n",
    "genie_15_metadata_paitent <- read.delim('../data/raw/genie/data_clinical_patient.txt')"
   ]
  },
  {
   "cell_type": "code",
   "execution_count": 5,
   "id": "24ccb75c-2381-4e8d-a640-244b16a215d9",
   "metadata": {
    "scrolled": true
   },
   "outputs": [
    {
     "data": {
      "text/html": [
       "<table class=\"dataframe\">\n",
       "<caption>A data.frame: 6 × 10</caption>\n",
       "<thead>\n",
       "\t<tr><th></th><th scope=col>PATIENT_ID</th><th scope=col>SEX</th><th scope=col>PRIMARY_RACE</th><th scope=col>ETHNICITY</th><th scope=col>CENTER</th><th scope=col>INT_CONTACT</th><th scope=col>INT_DOD</th><th scope=col>YEAR_CONTACT</th><th scope=col>DEAD</th><th scope=col>YEAR_DEATH</th></tr>\n",
       "\t<tr><th></th><th scope=col>&lt;chr&gt;</th><th scope=col>&lt;chr&gt;</th><th scope=col>&lt;chr&gt;</th><th scope=col>&lt;chr&gt;</th><th scope=col>&lt;chr&gt;</th><th scope=col>&lt;chr&gt;</th><th scope=col>&lt;chr&gt;</th><th scope=col>&lt;chr&gt;</th><th scope=col>&lt;chr&gt;</th><th scope=col>&lt;chr&gt;</th></tr>\n",
       "</thead>\n",
       "<tbody>\n",
       "\t<tr><th scope=row>1</th><td>GENIE-VICC-101416</td><td>Female</td><td>White  </td><td>Non-Spanish/non-Hispanic</td><td>VICC</td><td>19225</td><td>Not Applicable</td><td>2014</td><td>False</td><td>Not Applicable</td></tr>\n",
       "\t<tr><th scope=row>2</th><td>GENIE-VICC-102225</td><td>Female</td><td>White  </td><td>Non-Spanish/non-Hispanic</td><td>VICC</td><td>12057</td><td>12487         </td><td>2015</td><td>True </td><td>2017          </td></tr>\n",
       "\t<tr><th scope=row>3</th><td>GENIE-VICC-102424</td><td>Female</td><td>White  </td><td>Non-Spanish/non-Hispanic</td><td>VICC</td><td>23505</td><td>23625         </td><td>2016</td><td>True </td><td>2016          </td></tr>\n",
       "\t<tr><th scope=row>4</th><td>GENIE-VICC-102966</td><td>Male  </td><td>White  </td><td>Non-Spanish/non-Hispanic</td><td>VICC</td><td>23426</td><td>23430         </td><td>2015</td><td>True </td><td>2015          </td></tr>\n",
       "\t<tr><th scope=row>5</th><td>GENIE-VICC-103244</td><td>Female</td><td>Unknown</td><td>Unknown                 </td><td>VICC</td><td>18267</td><td>18311         </td><td>2014</td><td>True </td><td>2014          </td></tr>\n",
       "\t<tr><th scope=row>6</th><td>GENIE-VICC-103477</td><td>Male  </td><td>Unknown</td><td>Non-Spanish/non-Hispanic</td><td>VICC</td><td>14626</td><td>14646         </td><td>2014</td><td>True </td><td>2014          </td></tr>\n",
       "</tbody>\n",
       "</table>\n"
      ],
      "text/latex": [
       "A data.frame: 6 × 10\n",
       "\\begin{tabular}{r|llllllllll}\n",
       "  & PATIENT\\_ID & SEX & PRIMARY\\_RACE & ETHNICITY & CENTER & INT\\_CONTACT & INT\\_DOD & YEAR\\_CONTACT & DEAD & YEAR\\_DEATH\\\\\n",
       "  & <chr> & <chr> & <chr> & <chr> & <chr> & <chr> & <chr> & <chr> & <chr> & <chr>\\\\\n",
       "\\hline\n",
       "\t1 & GENIE-VICC-101416 & Female & White   & Non-Spanish/non-Hispanic & VICC & 19225 & Not Applicable & 2014 & False & Not Applicable\\\\\n",
       "\t2 & GENIE-VICC-102225 & Female & White   & Non-Spanish/non-Hispanic & VICC & 12057 & 12487          & 2015 & True  & 2017          \\\\\n",
       "\t3 & GENIE-VICC-102424 & Female & White   & Non-Spanish/non-Hispanic & VICC & 23505 & 23625          & 2016 & True  & 2016          \\\\\n",
       "\t4 & GENIE-VICC-102966 & Male   & White   & Non-Spanish/non-Hispanic & VICC & 23426 & 23430          & 2015 & True  & 2015          \\\\\n",
       "\t5 & GENIE-VICC-103244 & Female & Unknown & Unknown                  & VICC & 18267 & 18311          & 2014 & True  & 2014          \\\\\n",
       "\t6 & GENIE-VICC-103477 & Male   & Unknown & Non-Spanish/non-Hispanic & VICC & 14626 & 14646          & 2014 & True  & 2014          \\\\\n",
       "\\end{tabular}\n"
      ],
      "text/markdown": [
       "\n",
       "A data.frame: 6 × 10\n",
       "\n",
       "| <!--/--> | PATIENT_ID &lt;chr&gt; | SEX &lt;chr&gt; | PRIMARY_RACE &lt;chr&gt; | ETHNICITY &lt;chr&gt; | CENTER &lt;chr&gt; | INT_CONTACT &lt;chr&gt; | INT_DOD &lt;chr&gt; | YEAR_CONTACT &lt;chr&gt; | DEAD &lt;chr&gt; | YEAR_DEATH &lt;chr&gt; |\n",
       "|---|---|---|---|---|---|---|---|---|---|---|\n",
       "| 1 | GENIE-VICC-101416 | Female | White   | Non-Spanish/non-Hispanic | VICC | 19225 | Not Applicable | 2014 | False | Not Applicable |\n",
       "| 2 | GENIE-VICC-102225 | Female | White   | Non-Spanish/non-Hispanic | VICC | 12057 | 12487          | 2015 | True  | 2017           |\n",
       "| 3 | GENIE-VICC-102424 | Female | White   | Non-Spanish/non-Hispanic | VICC | 23505 | 23625          | 2016 | True  | 2016           |\n",
       "| 4 | GENIE-VICC-102966 | Male   | White   | Non-Spanish/non-Hispanic | VICC | 23426 | 23430          | 2015 | True  | 2015           |\n",
       "| 5 | GENIE-VICC-103244 | Female | Unknown | Unknown                  | VICC | 18267 | 18311          | 2014 | True  | 2014           |\n",
       "| 6 | GENIE-VICC-103477 | Male   | Unknown | Non-Spanish/non-Hispanic | VICC | 14626 | 14646          | 2014 | True  | 2014           |\n",
       "\n"
      ],
      "text/plain": [
       "  PATIENT_ID        SEX    PRIMARY_RACE ETHNICITY                CENTER\n",
       "1 GENIE-VICC-101416 Female White        Non-Spanish/non-Hispanic VICC  \n",
       "2 GENIE-VICC-102225 Female White        Non-Spanish/non-Hispanic VICC  \n",
       "3 GENIE-VICC-102424 Female White        Non-Spanish/non-Hispanic VICC  \n",
       "4 GENIE-VICC-102966 Male   White        Non-Spanish/non-Hispanic VICC  \n",
       "5 GENIE-VICC-103244 Female Unknown      Unknown                  VICC  \n",
       "6 GENIE-VICC-103477 Male   Unknown      Non-Spanish/non-Hispanic VICC  \n",
       "  INT_CONTACT INT_DOD        YEAR_CONTACT DEAD  YEAR_DEATH    \n",
       "1 19225       Not Applicable 2014         False Not Applicable\n",
       "2 12057       12487          2015         True  2017          \n",
       "3 23505       23625          2016         True  2016          \n",
       "4 23426       23430          2015         True  2015          \n",
       "5 18267       18311          2014         True  2014          \n",
       "6 14626       14646          2014         True  2014          "
      ]
     },
     "metadata": {},
     "output_type": "display_data"
    },
    {
     "data": {
      "text/html": [
       "<table class=\"dataframe\">\n",
       "<caption>A data.frame: 6 × 9</caption>\n",
       "<thead>\n",
       "\t<tr><th></th><th scope=col>PATIENT_ID</th><th scope=col>SAMPLE_ID</th><th scope=col>AGE_AT_SEQ_REPORT</th><th scope=col>ONCOTREE_CODE</th><th scope=col>SAMPLE_TYPE</th><th scope=col>SEQ_ASSAY_ID</th><th scope=col>CANCER_TYPE</th><th scope=col>CANCER_TYPE_DETAILED</th><th scope=col>SAMPLE_TYPE_DETAILED</th></tr>\n",
       "\t<tr><th></th><th scope=col>&lt;chr&gt;</th><th scope=col>&lt;chr&gt;</th><th scope=col>&lt;chr&gt;</th><th scope=col>&lt;chr&gt;</th><th scope=col>&lt;chr&gt;</th><th scope=col>&lt;chr&gt;</th><th scope=col>&lt;chr&gt;</th><th scope=col>&lt;chr&gt;</th><th scope=col>&lt;chr&gt;</th></tr>\n",
       "</thead>\n",
       "<tbody>\n",
       "\t<tr><th scope=row>1</th><td>GENIE-VICC-101416</td><td>GENIE-VICC-101416-unk-1</td><td>52</td><td>MAAP  </td><td>Primary   </td><td>VICC-01-T7 </td><td>Appendiceal Cancer        </td><td>Mucinous Adenocarcinoma of the Appendix</td><td>Primary tumor              </td></tr>\n",
       "\t<tr><th scope=row>2</th><td>GENIE-VICC-102225</td><td>GENIE-VICC-102225-unk-1</td><td>31</td><td>READ  </td><td>Metastasis</td><td>VICC-01-T7 </td><td>Colorectal Cancer         </td><td>Rectal Adenocarcinoma                  </td><td>Metastasis site unspecified</td></tr>\n",
       "\t<tr><th scope=row>3</th><td>GENIE-VICC-102424</td><td>GENIE-VICC-102424-unk-1</td><td>63</td><td>SCCNOS</td><td>Metastasis</td><td>VICC-01-T7 </td><td>Cancer of Unknown Primary </td><td>Squamous Cell Carcinoma, NOS           </td><td>Metastasis site unspecified</td></tr>\n",
       "\t<tr><th scope=row>4</th><td>GENIE-VICC-102966</td><td>GENIE-VICC-102966-unk-1</td><td>64</td><td>LUAD  </td><td>Metastasis</td><td>VICC-01-T7 </td><td>Non-Small Cell Lung Cancer</td><td>Lung Adenocarcinoma                    </td><td>Metastasis site unspecified</td></tr>\n",
       "\t<tr><th scope=row>5</th><td>GENIE-VICC-103244</td><td>GENIE-VICC-103244-unk-1</td><td>50</td><td>IDC   </td><td>Primary   </td><td>VICC-01-T5A</td><td>Breast Cancer             </td><td>Breast Invasive Ductal Carcinoma       </td><td>Primary tumor              </td></tr>\n",
       "\t<tr><th scope=row>6</th><td>GENIE-VICC-103477</td><td>GENIE-VICC-103477-unk-1</td><td>40</td><td>MRLS  </td><td>Primary   </td><td>VICC-01-D2 </td><td>Soft Tissue Sarcoma       </td><td>Myxoid/Round-Cell Liposarcoma          </td><td>Primary tumor              </td></tr>\n",
       "</tbody>\n",
       "</table>\n"
      ],
      "text/latex": [
       "A data.frame: 6 × 9\n",
       "\\begin{tabular}{r|lllllllll}\n",
       "  & PATIENT\\_ID & SAMPLE\\_ID & AGE\\_AT\\_SEQ\\_REPORT & ONCOTREE\\_CODE & SAMPLE\\_TYPE & SEQ\\_ASSAY\\_ID & CANCER\\_TYPE & CANCER\\_TYPE\\_DETAILED & SAMPLE\\_TYPE\\_DETAILED\\\\\n",
       "  & <chr> & <chr> & <chr> & <chr> & <chr> & <chr> & <chr> & <chr> & <chr>\\\\\n",
       "\\hline\n",
       "\t1 & GENIE-VICC-101416 & GENIE-VICC-101416-unk-1 & 52 & MAAP   & Primary    & VICC-01-T7  & Appendiceal Cancer         & Mucinous Adenocarcinoma of the Appendix & Primary tumor              \\\\\n",
       "\t2 & GENIE-VICC-102225 & GENIE-VICC-102225-unk-1 & 31 & READ   & Metastasis & VICC-01-T7  & Colorectal Cancer          & Rectal Adenocarcinoma                   & Metastasis site unspecified\\\\\n",
       "\t3 & GENIE-VICC-102424 & GENIE-VICC-102424-unk-1 & 63 & SCCNOS & Metastasis & VICC-01-T7  & Cancer of Unknown Primary  & Squamous Cell Carcinoma, NOS            & Metastasis site unspecified\\\\\n",
       "\t4 & GENIE-VICC-102966 & GENIE-VICC-102966-unk-1 & 64 & LUAD   & Metastasis & VICC-01-T7  & Non-Small Cell Lung Cancer & Lung Adenocarcinoma                     & Metastasis site unspecified\\\\\n",
       "\t5 & GENIE-VICC-103244 & GENIE-VICC-103244-unk-1 & 50 & IDC    & Primary    & VICC-01-T5A & Breast Cancer              & Breast Invasive Ductal Carcinoma        & Primary tumor              \\\\\n",
       "\t6 & GENIE-VICC-103477 & GENIE-VICC-103477-unk-1 & 40 & MRLS   & Primary    & VICC-01-D2  & Soft Tissue Sarcoma        & Myxoid/Round-Cell Liposarcoma           & Primary tumor              \\\\\n",
       "\\end{tabular}\n"
      ],
      "text/markdown": [
       "\n",
       "A data.frame: 6 × 9\n",
       "\n",
       "| <!--/--> | PATIENT_ID &lt;chr&gt; | SAMPLE_ID &lt;chr&gt; | AGE_AT_SEQ_REPORT &lt;chr&gt; | ONCOTREE_CODE &lt;chr&gt; | SAMPLE_TYPE &lt;chr&gt; | SEQ_ASSAY_ID &lt;chr&gt; | CANCER_TYPE &lt;chr&gt; | CANCER_TYPE_DETAILED &lt;chr&gt; | SAMPLE_TYPE_DETAILED &lt;chr&gt; |\n",
       "|---|---|---|---|---|---|---|---|---|---|\n",
       "| 1 | GENIE-VICC-101416 | GENIE-VICC-101416-unk-1 | 52 | MAAP   | Primary    | VICC-01-T7  | Appendiceal Cancer         | Mucinous Adenocarcinoma of the Appendix | Primary tumor               |\n",
       "| 2 | GENIE-VICC-102225 | GENIE-VICC-102225-unk-1 | 31 | READ   | Metastasis | VICC-01-T7  | Colorectal Cancer          | Rectal Adenocarcinoma                   | Metastasis site unspecified |\n",
       "| 3 | GENIE-VICC-102424 | GENIE-VICC-102424-unk-1 | 63 | SCCNOS | Metastasis | VICC-01-T7  | Cancer of Unknown Primary  | Squamous Cell Carcinoma, NOS            | Metastasis site unspecified |\n",
       "| 4 | GENIE-VICC-102966 | GENIE-VICC-102966-unk-1 | 64 | LUAD   | Metastasis | VICC-01-T7  | Non-Small Cell Lung Cancer | Lung Adenocarcinoma                     | Metastasis site unspecified |\n",
       "| 5 | GENIE-VICC-103244 | GENIE-VICC-103244-unk-1 | 50 | IDC    | Primary    | VICC-01-T5A | Breast Cancer              | Breast Invasive Ductal Carcinoma        | Primary tumor               |\n",
       "| 6 | GENIE-VICC-103477 | GENIE-VICC-103477-unk-1 | 40 | MRLS   | Primary    | VICC-01-D2  | Soft Tissue Sarcoma        | Myxoid/Round-Cell Liposarcoma           | Primary tumor               |\n",
       "\n"
      ],
      "text/plain": [
       "  PATIENT_ID        SAMPLE_ID               AGE_AT_SEQ_REPORT ONCOTREE_CODE\n",
       "1 GENIE-VICC-101416 GENIE-VICC-101416-unk-1 52                MAAP         \n",
       "2 GENIE-VICC-102225 GENIE-VICC-102225-unk-1 31                READ         \n",
       "3 GENIE-VICC-102424 GENIE-VICC-102424-unk-1 63                SCCNOS       \n",
       "4 GENIE-VICC-102966 GENIE-VICC-102966-unk-1 64                LUAD         \n",
       "5 GENIE-VICC-103244 GENIE-VICC-103244-unk-1 50                IDC          \n",
       "6 GENIE-VICC-103477 GENIE-VICC-103477-unk-1 40                MRLS         \n",
       "  SAMPLE_TYPE SEQ_ASSAY_ID CANCER_TYPE               \n",
       "1 Primary     VICC-01-T7   Appendiceal Cancer        \n",
       "2 Metastasis  VICC-01-T7   Colorectal Cancer         \n",
       "3 Metastasis  VICC-01-T7   Cancer of Unknown Primary \n",
       "4 Metastasis  VICC-01-T7   Non-Small Cell Lung Cancer\n",
       "5 Primary     VICC-01-T5A  Breast Cancer             \n",
       "6 Primary     VICC-01-D2   Soft Tissue Sarcoma       \n",
       "  CANCER_TYPE_DETAILED                    SAMPLE_TYPE_DETAILED       \n",
       "1 Mucinous Adenocarcinoma of the Appendix Primary tumor              \n",
       "2 Rectal Adenocarcinoma                   Metastasis site unspecified\n",
       "3 Squamous Cell Carcinoma, NOS            Metastasis site unspecified\n",
       "4 Lung Adenocarcinoma                     Metastasis site unspecified\n",
       "5 Breast Invasive Ductal Carcinoma        Primary tumor              \n",
       "6 Myxoid/Round-Cell Liposarcoma           Primary tumor              "
      ]
     },
     "metadata": {},
     "output_type": "display_data"
    }
   ],
   "source": [
    "head(genie_15_metadata_paitent)\n",
    "head(genie_15_metadata_sample)"
   ]
  },
  {
   "cell_type": "code",
   "execution_count": 6,
   "id": "8571ceb3-6702-44f3-8283-8bfe17703be1",
   "metadata": {},
   "outputs": [],
   "source": [
    "genie_metadata <- inner_join(genie_15_metadata_paitent,genie_15_metadata_sample,by = \"PATIENT_ID\")"
   ]
  },
  {
   "cell_type": "code",
   "execution_count": 7,
   "id": "d81e386b-87d9-445a-aae2-be7bc83feb45",
   "metadata": {
    "scrolled": true
   },
   "outputs": [
    {
     "data": {
      "text/html": [
       "<table class=\"dataframe\">\n",
       "<caption>A data.frame: 6 × 18</caption>\n",
       "<thead>\n",
       "\t<tr><th></th><th scope=col>PATIENT_ID</th><th scope=col>SEX</th><th scope=col>PRIMARY_RACE</th><th scope=col>ETHNICITY</th><th scope=col>CENTER</th><th scope=col>INT_CONTACT</th><th scope=col>INT_DOD</th><th scope=col>YEAR_CONTACT</th><th scope=col>DEAD</th><th scope=col>YEAR_DEATH</th><th scope=col>SAMPLE_ID</th><th scope=col>AGE_AT_SEQ_REPORT</th><th scope=col>ONCOTREE_CODE</th><th scope=col>SAMPLE_TYPE</th><th scope=col>SEQ_ASSAY_ID</th><th scope=col>CANCER_TYPE</th><th scope=col>CANCER_TYPE_DETAILED</th><th scope=col>SAMPLE_TYPE_DETAILED</th></tr>\n",
       "\t<tr><th></th><th scope=col>&lt;chr&gt;</th><th scope=col>&lt;chr&gt;</th><th scope=col>&lt;chr&gt;</th><th scope=col>&lt;chr&gt;</th><th scope=col>&lt;chr&gt;</th><th scope=col>&lt;chr&gt;</th><th scope=col>&lt;chr&gt;</th><th scope=col>&lt;chr&gt;</th><th scope=col>&lt;chr&gt;</th><th scope=col>&lt;chr&gt;</th><th scope=col>&lt;chr&gt;</th><th scope=col>&lt;chr&gt;</th><th scope=col>&lt;chr&gt;</th><th scope=col>&lt;chr&gt;</th><th scope=col>&lt;chr&gt;</th><th scope=col>&lt;chr&gt;</th><th scope=col>&lt;chr&gt;</th><th scope=col>&lt;chr&gt;</th></tr>\n",
       "</thead>\n",
       "<tbody>\n",
       "\t<tr><th scope=row>1</th><td>GENIE-VICC-101416</td><td>Female</td><td>White  </td><td>Non-Spanish/non-Hispanic</td><td>VICC</td><td>19225</td><td>Not Applicable</td><td>2014</td><td>False</td><td>Not Applicable</td><td>GENIE-VICC-101416-unk-1</td><td>52</td><td>MAAP  </td><td>Primary   </td><td>VICC-01-T7 </td><td>Appendiceal Cancer        </td><td>Mucinous Adenocarcinoma of the Appendix</td><td>Primary tumor              </td></tr>\n",
       "\t<tr><th scope=row>2</th><td>GENIE-VICC-102225</td><td>Female</td><td>White  </td><td>Non-Spanish/non-Hispanic</td><td>VICC</td><td>12057</td><td>12487         </td><td>2015</td><td>True </td><td>2017          </td><td>GENIE-VICC-102225-unk-1</td><td>31</td><td>READ  </td><td>Metastasis</td><td>VICC-01-T7 </td><td>Colorectal Cancer         </td><td>Rectal Adenocarcinoma                  </td><td>Metastasis site unspecified</td></tr>\n",
       "\t<tr><th scope=row>3</th><td>GENIE-VICC-102424</td><td>Female</td><td>White  </td><td>Non-Spanish/non-Hispanic</td><td>VICC</td><td>23505</td><td>23625         </td><td>2016</td><td>True </td><td>2016          </td><td>GENIE-VICC-102424-unk-1</td><td>63</td><td>SCCNOS</td><td>Metastasis</td><td>VICC-01-T7 </td><td>Cancer of Unknown Primary </td><td>Squamous Cell Carcinoma, NOS           </td><td>Metastasis site unspecified</td></tr>\n",
       "\t<tr><th scope=row>4</th><td>GENIE-VICC-102966</td><td>Male  </td><td>White  </td><td>Non-Spanish/non-Hispanic</td><td>VICC</td><td>23426</td><td>23430         </td><td>2015</td><td>True </td><td>2015          </td><td>GENIE-VICC-102966-unk-1</td><td>64</td><td>LUAD  </td><td>Metastasis</td><td>VICC-01-T7 </td><td>Non-Small Cell Lung Cancer</td><td>Lung Adenocarcinoma                    </td><td>Metastasis site unspecified</td></tr>\n",
       "\t<tr><th scope=row>5</th><td>GENIE-VICC-103244</td><td>Female</td><td>Unknown</td><td>Unknown                 </td><td>VICC</td><td>18267</td><td>18311         </td><td>2014</td><td>True </td><td>2014          </td><td>GENIE-VICC-103244-unk-1</td><td>50</td><td>IDC   </td><td>Primary   </td><td>VICC-01-T5A</td><td>Breast Cancer             </td><td>Breast Invasive Ductal Carcinoma       </td><td>Primary tumor              </td></tr>\n",
       "\t<tr><th scope=row>6</th><td>GENIE-VICC-103477</td><td>Male  </td><td>Unknown</td><td>Non-Spanish/non-Hispanic</td><td>VICC</td><td>14626</td><td>14646         </td><td>2014</td><td>True </td><td>2014          </td><td>GENIE-VICC-103477-unk-1</td><td>40</td><td>MRLS  </td><td>Primary   </td><td>VICC-01-D2 </td><td>Soft Tissue Sarcoma       </td><td>Myxoid/Round-Cell Liposarcoma          </td><td>Primary tumor              </td></tr>\n",
       "</tbody>\n",
       "</table>\n"
      ],
      "text/latex": [
       "A data.frame: 6 × 18\n",
       "\\begin{tabular}{r|llllllllllllllllll}\n",
       "  & PATIENT\\_ID & SEX & PRIMARY\\_RACE & ETHNICITY & CENTER & INT\\_CONTACT & INT\\_DOD & YEAR\\_CONTACT & DEAD & YEAR\\_DEATH & SAMPLE\\_ID & AGE\\_AT\\_SEQ\\_REPORT & ONCOTREE\\_CODE & SAMPLE\\_TYPE & SEQ\\_ASSAY\\_ID & CANCER\\_TYPE & CANCER\\_TYPE\\_DETAILED & SAMPLE\\_TYPE\\_DETAILED\\\\\n",
       "  & <chr> & <chr> & <chr> & <chr> & <chr> & <chr> & <chr> & <chr> & <chr> & <chr> & <chr> & <chr> & <chr> & <chr> & <chr> & <chr> & <chr> & <chr>\\\\\n",
       "\\hline\n",
       "\t1 & GENIE-VICC-101416 & Female & White   & Non-Spanish/non-Hispanic & VICC & 19225 & Not Applicable & 2014 & False & Not Applicable & GENIE-VICC-101416-unk-1 & 52 & MAAP   & Primary    & VICC-01-T7  & Appendiceal Cancer         & Mucinous Adenocarcinoma of the Appendix & Primary tumor              \\\\\n",
       "\t2 & GENIE-VICC-102225 & Female & White   & Non-Spanish/non-Hispanic & VICC & 12057 & 12487          & 2015 & True  & 2017           & GENIE-VICC-102225-unk-1 & 31 & READ   & Metastasis & VICC-01-T7  & Colorectal Cancer          & Rectal Adenocarcinoma                   & Metastasis site unspecified\\\\\n",
       "\t3 & GENIE-VICC-102424 & Female & White   & Non-Spanish/non-Hispanic & VICC & 23505 & 23625          & 2016 & True  & 2016           & GENIE-VICC-102424-unk-1 & 63 & SCCNOS & Metastasis & VICC-01-T7  & Cancer of Unknown Primary  & Squamous Cell Carcinoma, NOS            & Metastasis site unspecified\\\\\n",
       "\t4 & GENIE-VICC-102966 & Male   & White   & Non-Spanish/non-Hispanic & VICC & 23426 & 23430          & 2015 & True  & 2015           & GENIE-VICC-102966-unk-1 & 64 & LUAD   & Metastasis & VICC-01-T7  & Non-Small Cell Lung Cancer & Lung Adenocarcinoma                     & Metastasis site unspecified\\\\\n",
       "\t5 & GENIE-VICC-103244 & Female & Unknown & Unknown                  & VICC & 18267 & 18311          & 2014 & True  & 2014           & GENIE-VICC-103244-unk-1 & 50 & IDC    & Primary    & VICC-01-T5A & Breast Cancer              & Breast Invasive Ductal Carcinoma        & Primary tumor              \\\\\n",
       "\t6 & GENIE-VICC-103477 & Male   & Unknown & Non-Spanish/non-Hispanic & VICC & 14626 & 14646          & 2014 & True  & 2014           & GENIE-VICC-103477-unk-1 & 40 & MRLS   & Primary    & VICC-01-D2  & Soft Tissue Sarcoma        & Myxoid/Round-Cell Liposarcoma           & Primary tumor              \\\\\n",
       "\\end{tabular}\n"
      ],
      "text/markdown": [
       "\n",
       "A data.frame: 6 × 18\n",
       "\n",
       "| <!--/--> | PATIENT_ID &lt;chr&gt; | SEX &lt;chr&gt; | PRIMARY_RACE &lt;chr&gt; | ETHNICITY &lt;chr&gt; | CENTER &lt;chr&gt; | INT_CONTACT &lt;chr&gt; | INT_DOD &lt;chr&gt; | YEAR_CONTACT &lt;chr&gt; | DEAD &lt;chr&gt; | YEAR_DEATH &lt;chr&gt; | SAMPLE_ID &lt;chr&gt; | AGE_AT_SEQ_REPORT &lt;chr&gt; | ONCOTREE_CODE &lt;chr&gt; | SAMPLE_TYPE &lt;chr&gt; | SEQ_ASSAY_ID &lt;chr&gt; | CANCER_TYPE &lt;chr&gt; | CANCER_TYPE_DETAILED &lt;chr&gt; | SAMPLE_TYPE_DETAILED &lt;chr&gt; |\n",
       "|---|---|---|---|---|---|---|---|---|---|---|---|---|---|---|---|---|---|---|\n",
       "| 1 | GENIE-VICC-101416 | Female | White   | Non-Spanish/non-Hispanic | VICC | 19225 | Not Applicable | 2014 | False | Not Applicable | GENIE-VICC-101416-unk-1 | 52 | MAAP   | Primary    | VICC-01-T7  | Appendiceal Cancer         | Mucinous Adenocarcinoma of the Appendix | Primary tumor               |\n",
       "| 2 | GENIE-VICC-102225 | Female | White   | Non-Spanish/non-Hispanic | VICC | 12057 | 12487          | 2015 | True  | 2017           | GENIE-VICC-102225-unk-1 | 31 | READ   | Metastasis | VICC-01-T7  | Colorectal Cancer          | Rectal Adenocarcinoma                   | Metastasis site unspecified |\n",
       "| 3 | GENIE-VICC-102424 | Female | White   | Non-Spanish/non-Hispanic | VICC | 23505 | 23625          | 2016 | True  | 2016           | GENIE-VICC-102424-unk-1 | 63 | SCCNOS | Metastasis | VICC-01-T7  | Cancer of Unknown Primary  | Squamous Cell Carcinoma, NOS            | Metastasis site unspecified |\n",
       "| 4 | GENIE-VICC-102966 | Male   | White   | Non-Spanish/non-Hispanic | VICC | 23426 | 23430          | 2015 | True  | 2015           | GENIE-VICC-102966-unk-1 | 64 | LUAD   | Metastasis | VICC-01-T7  | Non-Small Cell Lung Cancer | Lung Adenocarcinoma                     | Metastasis site unspecified |\n",
       "| 5 | GENIE-VICC-103244 | Female | Unknown | Unknown                  | VICC | 18267 | 18311          | 2014 | True  | 2014           | GENIE-VICC-103244-unk-1 | 50 | IDC    | Primary    | VICC-01-T5A | Breast Cancer              | Breast Invasive Ductal Carcinoma        | Primary tumor               |\n",
       "| 6 | GENIE-VICC-103477 | Male   | Unknown | Non-Spanish/non-Hispanic | VICC | 14626 | 14646          | 2014 | True  | 2014           | GENIE-VICC-103477-unk-1 | 40 | MRLS   | Primary    | VICC-01-D2  | Soft Tissue Sarcoma        | Myxoid/Round-Cell Liposarcoma           | Primary tumor               |\n",
       "\n"
      ],
      "text/plain": [
       "  PATIENT_ID        SEX    PRIMARY_RACE ETHNICITY                CENTER\n",
       "1 GENIE-VICC-101416 Female White        Non-Spanish/non-Hispanic VICC  \n",
       "2 GENIE-VICC-102225 Female White        Non-Spanish/non-Hispanic VICC  \n",
       "3 GENIE-VICC-102424 Female White        Non-Spanish/non-Hispanic VICC  \n",
       "4 GENIE-VICC-102966 Male   White        Non-Spanish/non-Hispanic VICC  \n",
       "5 GENIE-VICC-103244 Female Unknown      Unknown                  VICC  \n",
       "6 GENIE-VICC-103477 Male   Unknown      Non-Spanish/non-Hispanic VICC  \n",
       "  INT_CONTACT INT_DOD        YEAR_CONTACT DEAD  YEAR_DEATH    \n",
       "1 19225       Not Applicable 2014         False Not Applicable\n",
       "2 12057       12487          2015         True  2017          \n",
       "3 23505       23625          2016         True  2016          \n",
       "4 23426       23430          2015         True  2015          \n",
       "5 18267       18311          2014         True  2014          \n",
       "6 14626       14646          2014         True  2014          \n",
       "  SAMPLE_ID               AGE_AT_SEQ_REPORT ONCOTREE_CODE SAMPLE_TYPE\n",
       "1 GENIE-VICC-101416-unk-1 52                MAAP          Primary    \n",
       "2 GENIE-VICC-102225-unk-1 31                READ          Metastasis \n",
       "3 GENIE-VICC-102424-unk-1 63                SCCNOS        Metastasis \n",
       "4 GENIE-VICC-102966-unk-1 64                LUAD          Metastasis \n",
       "5 GENIE-VICC-103244-unk-1 50                IDC           Primary    \n",
       "6 GENIE-VICC-103477-unk-1 40                MRLS          Primary    \n",
       "  SEQ_ASSAY_ID CANCER_TYPE               \n",
       "1 VICC-01-T7   Appendiceal Cancer        \n",
       "2 VICC-01-T7   Colorectal Cancer         \n",
       "3 VICC-01-T7   Cancer of Unknown Primary \n",
       "4 VICC-01-T7   Non-Small Cell Lung Cancer\n",
       "5 VICC-01-T5A  Breast Cancer             \n",
       "6 VICC-01-D2   Soft Tissue Sarcoma       \n",
       "  CANCER_TYPE_DETAILED                    SAMPLE_TYPE_DETAILED       \n",
       "1 Mucinous Adenocarcinoma of the Appendix Primary tumor              \n",
       "2 Rectal Adenocarcinoma                   Metastasis site unspecified\n",
       "3 Squamous Cell Carcinoma, NOS            Metastasis site unspecified\n",
       "4 Lung Adenocarcinoma                     Metastasis site unspecified\n",
       "5 Breast Invasive Ductal Carcinoma        Primary tumor              \n",
       "6 Myxoid/Round-Cell Liposarcoma           Primary tumor              "
      ]
     },
     "metadata": {},
     "output_type": "display_data"
    }
   ],
   "source": [
    "head(genie_metadata)"
   ]
  },
  {
   "cell_type": "code",
   "execution_count": 8,
   "id": "894f4e19-5d45-4d9b-a697-89e4284dbfe9",
   "metadata": {},
   "outputs": [],
   "source": [
    "genie_maf <- read.delim('../data/raw/genie/data_mutations_extended.txt')"
   ]
  },
  {
   "cell_type": "code",
   "execution_count": 9,
   "id": "4ac2a126-48fd-4174-825a-dcdb317e5ccf",
   "metadata": {},
   "outputs": [
    {
     "data": {
      "text/html": [
       "<style>\n",
       ".list-inline {list-style: none; margin:0; padding: 0}\n",
       ".list-inline>li {display: inline-block}\n",
       ".list-inline>li:not(:last-child)::after {content: \"\\00b7\"; padding: 0 .5ex}\n",
       "</style>\n",
       "<ol class=list-inline><li>198041</li><li>18</li></ol>\n"
      ],
      "text/latex": [
       "\\begin{enumerate*}\n",
       "\\item 198041\n",
       "\\item 18\n",
       "\\end{enumerate*}\n"
      ],
      "text/markdown": [
       "1. 198041\n",
       "2. 18\n",
       "\n",
       "\n"
      ],
      "text/plain": [
       "[1] 198041     18"
      ]
     },
     "metadata": {},
     "output_type": "display_data"
    }
   ],
   "source": [
    "dim(genie_metadata)"
   ]
  },
  {
   "cell_type": "markdown",
   "id": "b9ef4a5b-31bd-4089-abd6-5785ad0ecc16",
   "metadata": {},
   "source": [
    "# Overall Stats"
   ]
  },
  {
   "cell_type": "code",
   "execution_count": 10,
   "id": "80249c56-c18c-46e0-bbd8-ae80c72a6bae",
   "metadata": {},
   "outputs": [],
   "source": [
    "genie_mutation_maf <- genie_maf %>% select(Chromosome,Start_Position,End_Position,Hugo_Symbol,Variant_Classification,Tumor_Sample_Barcode,HGVSp_Short,Center) %>%\n",
    "filter(Tumor_Sample_Barcode %in% genie_metadata$SAMPLE_ID)"
   ]
  },
  {
   "cell_type": "code",
   "execution_count": 11,
   "id": "6e695a5e-a6f3-40fc-9cc7-b860c32df640",
   "metadata": {},
   "outputs": [
    {
     "data": {
      "text/html": [
       "<style>\n",
       ".list-inline {list-style: none; margin:0; padding: 0}\n",
       ".list-inline>li {display: inline-block}\n",
       ".list-inline>li:not(:last-child)::after {content: \"\\00b7\"; padding: 0 .5ex}\n",
       "</style>\n",
       "<ol class=list-inline><li>1840311</li><li>8</li></ol>\n"
      ],
      "text/latex": [
       "\\begin{enumerate*}\n",
       "\\item 1840311\n",
       "\\item 8\n",
       "\\end{enumerate*}\n"
      ],
      "text/markdown": [
       "1. 1840311\n",
       "2. 8\n",
       "\n",
       "\n"
      ],
      "text/plain": [
       "[1] 1840311       8"
      ]
     },
     "metadata": {},
     "output_type": "display_data"
    }
   ],
   "source": [
    "dim(genie_mutation_maf)"
   ]
  },
  {
   "cell_type": "code",
   "execution_count": 12,
   "id": "f584b58b-b96d-4e18-9e6c-bf5a8449eec0",
   "metadata": {},
   "outputs": [
    {
     "data": {
      "text/html": [
       "171195"
      ],
      "text/latex": [
       "171195"
      ],
      "text/markdown": [
       "171195"
      ],
      "text/plain": [
       "[1] 171195"
      ]
     },
     "metadata": {},
     "output_type": "display_data"
    }
   ],
   "source": [
    "length(unique(genie_mutation_maf$Tumor_Sample_Barcode))"
   ]
  },
  {
   "cell_type": "code",
   "execution_count": 13,
   "id": "8e0efcc9-326f-4fa0-8283-d85c506520bd",
   "metadata": {
    "scrolled": true
   },
   "outputs": [
    {
     "data": {
      "text/html": [
       "<table class=\"dataframe\">\n",
       "<caption>A data.frame: 19 × 2</caption>\n",
       "<thead>\n",
       "\t<tr><th scope=col>CENTER</th><th scope=col>n</th></tr>\n",
       "\t<tr><th scope=col>&lt;chr&gt;</th><th scope=col>&lt;int&gt;</th></tr>\n",
       "</thead>\n",
       "<tbody>\n",
       "\t<tr><td>CHOP</td><td>  969</td></tr>\n",
       "\t<tr><td>COLU</td><td> 3959</td></tr>\n",
       "\t<tr><td>CRUK</td><td> 2035</td></tr>\n",
       "\t<tr><td>DFCI</td><td>32980</td></tr>\n",
       "\t<tr><td>DUKE</td><td> 3049</td></tr>\n",
       "\t<tr><td>GRCC</td><td> 1302</td></tr>\n",
       "\t<tr><td>JHU </td><td> 6128</td></tr>\n",
       "\t<tr><td>MDA </td><td> 2605</td></tr>\n",
       "\t<tr><td>MSK </td><td>63596</td></tr>\n",
       "\t<tr><td>NKI </td><td> 2442</td></tr>\n",
       "\t<tr><td>PROV</td><td>12506</td></tr>\n",
       "\t<tr><td>SCI </td><td>  723</td></tr>\n",
       "\t<tr><td>UCHI</td><td>  463</td></tr>\n",
       "\t<tr><td>UCSF</td><td>10386</td></tr>\n",
       "\t<tr><td>UHN </td><td> 4402</td></tr>\n",
       "\t<tr><td>VHIO</td><td> 1615</td></tr>\n",
       "\t<tr><td>VICC</td><td>  716</td></tr>\n",
       "\t<tr><td>WAKE</td><td> 1387</td></tr>\n",
       "\t<tr><td>YALE</td><td> 1263</td></tr>\n",
       "</tbody>\n",
       "</table>\n"
      ],
      "text/latex": [
       "A data.frame: 19 × 2\n",
       "\\begin{tabular}{ll}\n",
       " CENTER & n\\\\\n",
       " <chr> & <int>\\\\\n",
       "\\hline\n",
       "\t CHOP &   969\\\\\n",
       "\t COLU &  3959\\\\\n",
       "\t CRUK &  2035\\\\\n",
       "\t DFCI & 32980\\\\\n",
       "\t DUKE &  3049\\\\\n",
       "\t GRCC &  1302\\\\\n",
       "\t JHU  &  6128\\\\\n",
       "\t MDA  &  2605\\\\\n",
       "\t MSK  & 63596\\\\\n",
       "\t NKI  &  2442\\\\\n",
       "\t PROV & 12506\\\\\n",
       "\t SCI  &   723\\\\\n",
       "\t UCHI &   463\\\\\n",
       "\t UCSF & 10386\\\\\n",
       "\t UHN  &  4402\\\\\n",
       "\t VHIO &  1615\\\\\n",
       "\t VICC &   716\\\\\n",
       "\t WAKE &  1387\\\\\n",
       "\t YALE &  1263\\\\\n",
       "\\end{tabular}\n"
      ],
      "text/markdown": [
       "\n",
       "A data.frame: 19 × 2\n",
       "\n",
       "| CENTER &lt;chr&gt; | n &lt;int&gt; |\n",
       "|---|---|\n",
       "| CHOP |   969 |\n",
       "| COLU |  3959 |\n",
       "| CRUK |  2035 |\n",
       "| DFCI | 32980 |\n",
       "| DUKE |  3049 |\n",
       "| GRCC |  1302 |\n",
       "| JHU  |  6128 |\n",
       "| MDA  |  2605 |\n",
       "| MSK  | 63596 |\n",
       "| NKI  |  2442 |\n",
       "| PROV | 12506 |\n",
       "| SCI  |   723 |\n",
       "| UCHI |   463 |\n",
       "| UCSF | 10386 |\n",
       "| UHN  |  4402 |\n",
       "| VHIO |  1615 |\n",
       "| VICC |   716 |\n",
       "| WAKE |  1387 |\n",
       "| YALE |  1263 |\n",
       "\n"
      ],
      "text/plain": [
       "   CENTER n    \n",
       "1  CHOP     969\n",
       "2  COLU    3959\n",
       "3  CRUK    2035\n",
       "4  DFCI   32980\n",
       "5  DUKE    3049\n",
       "6  GRCC    1302\n",
       "7  JHU     6128\n",
       "8  MDA     2605\n",
       "9  MSK    63596\n",
       "10 NKI     2442\n",
       "11 PROV   12506\n",
       "12 SCI      723\n",
       "13 UCHI     463\n",
       "14 UCSF   10386\n",
       "15 UHN     4402\n",
       "16 VHIO    1615\n",
       "17 VICC     716\n",
       "18 WAKE    1387\n",
       "19 YALE    1263"
      ]
     },
     "metadata": {},
     "output_type": "display_data"
    }
   ],
   "source": [
    "genie_metadata %>% filter(SAMPLE_ID %in% unique(genie_mutation_maf$Tumor_Sample_Barcode)) %>% select(PATIENT_ID,CENTER) %>% distinct() %>% count(CENTER)"
   ]
  },
  {
   "cell_type": "code",
   "execution_count": 14,
   "id": "24c185ca-98b6-4c2d-8e10-b8019136cab7",
   "metadata": {},
   "outputs": [],
   "source": [
    "genie_genomic_information <- read.delim('../data/raw/genie/genomic_information.txt')"
   ]
  },
  {
   "cell_type": "code",
   "execution_count": 15,
   "id": "34ed4a72-3972-4a89-90c6-ed9a76656902",
   "metadata": {},
   "outputs": [
    {
     "data": {
      "text/html": [
       "<table class=\"dataframe\">\n",
       "<caption>A data.frame: 6 × 9</caption>\n",
       "<thead>\n",
       "\t<tr><th></th><th scope=col>Chromosome</th><th scope=col>Start_Position</th><th scope=col>End_Position</th><th scope=col>Hugo_Symbol</th><th scope=col>ID</th><th scope=col>SEQ_ASSAY_ID</th><th scope=col>Feature_Type</th><th scope=col>includeInPanel</th><th scope=col>clinicalReported</th></tr>\n",
       "\t<tr><th></th><th scope=col>&lt;chr&gt;</th><th scope=col>&lt;int&gt;</th><th scope=col>&lt;int&gt;</th><th scope=col>&lt;chr&gt;</th><th scope=col>&lt;chr&gt;</th><th scope=col>&lt;chr&gt;</th><th scope=col>&lt;chr&gt;</th><th scope=col>&lt;chr&gt;</th><th scope=col>&lt;chr&gt;</th></tr>\n",
       "</thead>\n",
       "<tbody>\n",
       "\t<tr><th scope=row>1</th><td>9 </td><td>133738302</td><td>133738491</td><td>ABL1</td><td>ABL1</td><td>UHN-48-V1</td><td>exon</td><td>True</td><td></td></tr>\n",
       "\t<tr><th scope=row>2</th><td>9 </td><td>133747476</td><td>133747664</td><td>ABL1</td><td>ABL1</td><td>UHN-48-V1</td><td>exon</td><td>True</td><td></td></tr>\n",
       "\t<tr><th scope=row>3</th><td>9 </td><td>133748157</td><td>133748327</td><td>ABL1</td><td>ABL1</td><td>UHN-48-V1</td><td>exon</td><td>True</td><td></td></tr>\n",
       "\t<tr><th scope=row>4</th><td>9 </td><td>133748277</td><td>133748457</td><td>ABL1</td><td>ABL1</td><td>UHN-48-V1</td><td>exon</td><td>True</td><td></td></tr>\n",
       "\t<tr><th scope=row>5</th><td>9 </td><td>133750328</td><td>133750516</td><td>ABL1</td><td>ABL1</td><td>UHN-48-V1</td><td>exon</td><td>True</td><td></td></tr>\n",
       "\t<tr><th scope=row>6</th><td>14</td><td>105246429</td><td>105246600</td><td>AKT1</td><td>AKT1</td><td>UHN-48-V1</td><td>exon</td><td>True</td><td></td></tr>\n",
       "</tbody>\n",
       "</table>\n"
      ],
      "text/latex": [
       "A data.frame: 6 × 9\n",
       "\\begin{tabular}{r|lllllllll}\n",
       "  & Chromosome & Start\\_Position & End\\_Position & Hugo\\_Symbol & ID & SEQ\\_ASSAY\\_ID & Feature\\_Type & includeInPanel & clinicalReported\\\\\n",
       "  & <chr> & <int> & <int> & <chr> & <chr> & <chr> & <chr> & <chr> & <chr>\\\\\n",
       "\\hline\n",
       "\t1 & 9  & 133738302 & 133738491 & ABL1 & ABL1 & UHN-48-V1 & exon & True & \\\\\n",
       "\t2 & 9  & 133747476 & 133747664 & ABL1 & ABL1 & UHN-48-V1 & exon & True & \\\\\n",
       "\t3 & 9  & 133748157 & 133748327 & ABL1 & ABL1 & UHN-48-V1 & exon & True & \\\\\n",
       "\t4 & 9  & 133748277 & 133748457 & ABL1 & ABL1 & UHN-48-V1 & exon & True & \\\\\n",
       "\t5 & 9  & 133750328 & 133750516 & ABL1 & ABL1 & UHN-48-V1 & exon & True & \\\\\n",
       "\t6 & 14 & 105246429 & 105246600 & AKT1 & AKT1 & UHN-48-V1 & exon & True & \\\\\n",
       "\\end{tabular}\n"
      ],
      "text/markdown": [
       "\n",
       "A data.frame: 6 × 9\n",
       "\n",
       "| <!--/--> | Chromosome &lt;chr&gt; | Start_Position &lt;int&gt; | End_Position &lt;int&gt; | Hugo_Symbol &lt;chr&gt; | ID &lt;chr&gt; | SEQ_ASSAY_ID &lt;chr&gt; | Feature_Type &lt;chr&gt; | includeInPanel &lt;chr&gt; | clinicalReported &lt;chr&gt; |\n",
       "|---|---|---|---|---|---|---|---|---|---|\n",
       "| 1 | 9  | 133738302 | 133738491 | ABL1 | ABL1 | UHN-48-V1 | exon | True | <!----> |\n",
       "| 2 | 9  | 133747476 | 133747664 | ABL1 | ABL1 | UHN-48-V1 | exon | True | <!----> |\n",
       "| 3 | 9  | 133748157 | 133748327 | ABL1 | ABL1 | UHN-48-V1 | exon | True | <!----> |\n",
       "| 4 | 9  | 133748277 | 133748457 | ABL1 | ABL1 | UHN-48-V1 | exon | True | <!----> |\n",
       "| 5 | 9  | 133750328 | 133750516 | ABL1 | ABL1 | UHN-48-V1 | exon | True | <!----> |\n",
       "| 6 | 14 | 105246429 | 105246600 | AKT1 | AKT1 | UHN-48-V1 | exon | True | <!----> |\n",
       "\n"
      ],
      "text/plain": [
       "  Chromosome Start_Position End_Position Hugo_Symbol ID   SEQ_ASSAY_ID\n",
       "1 9          133738302      133738491    ABL1        ABL1 UHN-48-V1   \n",
       "2 9          133747476      133747664    ABL1        ABL1 UHN-48-V1   \n",
       "3 9          133748157      133748327    ABL1        ABL1 UHN-48-V1   \n",
       "4 9          133748277      133748457    ABL1        ABL1 UHN-48-V1   \n",
       "5 9          133750328      133750516    ABL1        ABL1 UHN-48-V1   \n",
       "6 14         105246429      105246600    AKT1        AKT1 UHN-48-V1   \n",
       "  Feature_Type includeInPanel clinicalReported\n",
       "1 exon         True                           \n",
       "2 exon         True                           \n",
       "3 exon         True                           \n",
       "4 exon         True                           \n",
       "5 exon         True                           \n",
       "6 exon         True                           "
      ]
     },
     "metadata": {},
     "output_type": "display_data"
    }
   ],
   "source": [
    "head(genie_genomic_information)"
   ]
  },
  {
   "cell_type": "code",
   "execution_count": 16,
   "id": "96830b09-f635-4a6d-b955-ab7bd54d99a1",
   "metadata": {
    "scrolled": true
   },
   "outputs": [],
   "source": [
    "gene_panels<-genie_genomic_information %>% select(Hugo_Symbol,SEQ_ASSAY_ID) %>% distinct()"
   ]
  },
  {
   "cell_type": "code",
   "execution_count": 17,
   "id": "84256436-a43b-4cfd-bb13-b04752d9fe64",
   "metadata": {},
   "outputs": [
    {
     "data": {
      "text/html": [
       "<table class=\"dataframe\">\n",
       "<caption>A data.frame: 6 × 2</caption>\n",
       "<thead>\n",
       "\t<tr><th></th><th scope=col>Hugo_Symbol</th><th scope=col>SEQ_ASSAY_ID</th></tr>\n",
       "\t<tr><th></th><th scope=col>&lt;chr&gt;</th><th scope=col>&lt;chr&gt;</th></tr>\n",
       "</thead>\n",
       "<tbody>\n",
       "\t<tr><th scope=row>1</th><td>ABL1</td><td>UHN-48-V1</td></tr>\n",
       "\t<tr><th scope=row>2</th><td>AKT1</td><td>UHN-48-V1</td></tr>\n",
       "\t<tr><th scope=row>3</th><td>ALK </td><td>UHN-48-V1</td></tr>\n",
       "\t<tr><th scope=row>4</th><td>APC </td><td>UHN-48-V1</td></tr>\n",
       "\t<tr><th scope=row>5</th><td>ATM </td><td>UHN-48-V1</td></tr>\n",
       "\t<tr><th scope=row>6</th><td>BRAF</td><td>UHN-48-V1</td></tr>\n",
       "</tbody>\n",
       "</table>\n"
      ],
      "text/latex": [
       "A data.frame: 6 × 2\n",
       "\\begin{tabular}{r|ll}\n",
       "  & Hugo\\_Symbol & SEQ\\_ASSAY\\_ID\\\\\n",
       "  & <chr> & <chr>\\\\\n",
       "\\hline\n",
       "\t1 & ABL1 & UHN-48-V1\\\\\n",
       "\t2 & AKT1 & UHN-48-V1\\\\\n",
       "\t3 & ALK  & UHN-48-V1\\\\\n",
       "\t4 & APC  & UHN-48-V1\\\\\n",
       "\t5 & ATM  & UHN-48-V1\\\\\n",
       "\t6 & BRAF & UHN-48-V1\\\\\n",
       "\\end{tabular}\n"
      ],
      "text/markdown": [
       "\n",
       "A data.frame: 6 × 2\n",
       "\n",
       "| <!--/--> | Hugo_Symbol &lt;chr&gt; | SEQ_ASSAY_ID &lt;chr&gt; |\n",
       "|---|---|---|\n",
       "| 1 | ABL1 | UHN-48-V1 |\n",
       "| 2 | AKT1 | UHN-48-V1 |\n",
       "| 3 | ALK  | UHN-48-V1 |\n",
       "| 4 | APC  | UHN-48-V1 |\n",
       "| 5 | ATM  | UHN-48-V1 |\n",
       "| 6 | BRAF | UHN-48-V1 |\n",
       "\n"
      ],
      "text/plain": [
       "  Hugo_Symbol SEQ_ASSAY_ID\n",
       "1 ABL1        UHN-48-V1   \n",
       "2 AKT1        UHN-48-V1   \n",
       "3 ALK         UHN-48-V1   \n",
       "4 APC         UHN-48-V1   \n",
       "5 ATM         UHN-48-V1   \n",
       "6 BRAF        UHN-48-V1   "
      ]
     },
     "metadata": {},
     "output_type": "display_data"
    }
   ],
   "source": [
    "head(gene_panels)"
   ]
  },
  {
   "cell_type": "code",
   "execution_count": 18,
   "id": "e4cea0dc-7df3-403c-a5c1-ae078a3e5283",
   "metadata": {
    "scrolled": true
   },
   "outputs": [
    {
     "name": "stderr",
     "output_type": "stream",
     "text": [
      "Warning message:\n",
      "“\u001b[1m\u001b[22mExpected 1 pieces. Additional pieces discarded in 34876 rows [1, 2, 3, 4, 5, 6, 7, 8, 9, 10, 11, 12, 13, 14, 15, 16, 17, 18, 19, 20, ...].”\n"
     ]
    }
   ],
   "source": [
    "gene_panels<-gene_panels %>% separate(SEQ_ASSAY_ID,into=c('Center'),sep=\"-\",remove = FALSE)"
   ]
  },
  {
   "cell_type": "code",
   "execution_count": 19,
   "id": "1c3a8e00-98c8-4431-b6f5-7689961e3864",
   "metadata": {},
   "outputs": [
    {
     "data": {
      "text/html": [
       "<table class=\"dataframe\">\n",
       "<caption>A data.frame: 6 × 3</caption>\n",
       "<thead>\n",
       "\t<tr><th></th><th scope=col>Hugo_Symbol</th><th scope=col>SEQ_ASSAY_ID</th><th scope=col>Center</th></tr>\n",
       "\t<tr><th></th><th scope=col>&lt;chr&gt;</th><th scope=col>&lt;chr&gt;</th><th scope=col>&lt;chr&gt;</th></tr>\n",
       "</thead>\n",
       "<tbody>\n",
       "\t<tr><th scope=row>1</th><td>ABL1</td><td>UHN-48-V1</td><td>UHN</td></tr>\n",
       "\t<tr><th scope=row>2</th><td>AKT1</td><td>UHN-48-V1</td><td>UHN</td></tr>\n",
       "\t<tr><th scope=row>3</th><td>ALK </td><td>UHN-48-V1</td><td>UHN</td></tr>\n",
       "\t<tr><th scope=row>4</th><td>APC </td><td>UHN-48-V1</td><td>UHN</td></tr>\n",
       "\t<tr><th scope=row>5</th><td>ATM </td><td>UHN-48-V1</td><td>UHN</td></tr>\n",
       "\t<tr><th scope=row>6</th><td>BRAF</td><td>UHN-48-V1</td><td>UHN</td></tr>\n",
       "</tbody>\n",
       "</table>\n"
      ],
      "text/latex": [
       "A data.frame: 6 × 3\n",
       "\\begin{tabular}{r|lll}\n",
       "  & Hugo\\_Symbol & SEQ\\_ASSAY\\_ID & Center\\\\\n",
       "  & <chr> & <chr> & <chr>\\\\\n",
       "\\hline\n",
       "\t1 & ABL1 & UHN-48-V1 & UHN\\\\\n",
       "\t2 & AKT1 & UHN-48-V1 & UHN\\\\\n",
       "\t3 & ALK  & UHN-48-V1 & UHN\\\\\n",
       "\t4 & APC  & UHN-48-V1 & UHN\\\\\n",
       "\t5 & ATM  & UHN-48-V1 & UHN\\\\\n",
       "\t6 & BRAF & UHN-48-V1 & UHN\\\\\n",
       "\\end{tabular}\n"
      ],
      "text/markdown": [
       "\n",
       "A data.frame: 6 × 3\n",
       "\n",
       "| <!--/--> | Hugo_Symbol &lt;chr&gt; | SEQ_ASSAY_ID &lt;chr&gt; | Center &lt;chr&gt; |\n",
       "|---|---|---|---|\n",
       "| 1 | ABL1 | UHN-48-V1 | UHN |\n",
       "| 2 | AKT1 | UHN-48-V1 | UHN |\n",
       "| 3 | ALK  | UHN-48-V1 | UHN |\n",
       "| 4 | APC  | UHN-48-V1 | UHN |\n",
       "| 5 | ATM  | UHN-48-V1 | UHN |\n",
       "| 6 | BRAF | UHN-48-V1 | UHN |\n",
       "\n"
      ],
      "text/plain": [
       "  Hugo_Symbol SEQ_ASSAY_ID Center\n",
       "1 ABL1        UHN-48-V1    UHN   \n",
       "2 AKT1        UHN-48-V1    UHN   \n",
       "3 ALK         UHN-48-V1    UHN   \n",
       "4 APC         UHN-48-V1    UHN   \n",
       "5 ATM         UHN-48-V1    UHN   \n",
       "6 BRAF        UHN-48-V1    UHN   "
      ]
     },
     "metadata": {},
     "output_type": "display_data"
    }
   ],
   "source": [
    "head(gene_panels)"
   ]
  },
  {
   "cell_type": "code",
   "execution_count": 20,
   "id": "ae525b9c-1682-4659-9639-0d6f8680f418",
   "metadata": {},
   "outputs": [
    {
     "data": {
      "text/html": [
       "113"
      ],
      "text/latex": [
       "113"
      ],
      "text/markdown": [
       "113"
      ],
      "text/plain": [
       "[1] 113"
      ]
     },
     "metadata": {},
     "output_type": "display_data"
    }
   ],
   "source": [
    "length(unique(gene_panels$SEQ_ASSAY_ID))"
   ]
  },
  {
   "cell_type": "code",
   "execution_count": 21,
   "id": "2397ba0d-a826-491a-9b3e-a9c521168501",
   "metadata": {},
   "outputs": [],
   "source": [
    "# Split the values in Column1 based on the values in Column2\n",
    "elements_list <- split(gene_panels$Hugo_Symbol, gene_panels$SEQ_ASSAY_ID)"
   ]
  },
  {
   "cell_type": "code",
   "execution_count": 22,
   "id": "555d52b2-7cbe-444e-974e-82d5631b32aa",
   "metadata": {},
   "outputs": [
    {
     "data": {
      "text/html": [
       "113"
      ],
      "text/latex": [
       "113"
      ],
      "text/markdown": [
       "113"
      ],
      "text/plain": [
       "[1] 113"
      ]
     },
     "metadata": {},
     "output_type": "display_data"
    }
   ],
   "source": [
    "length(elements_list)"
   ]
  },
  {
   "cell_type": "code",
   "execution_count": 23,
   "id": "f1725c75-feff-4e9b-a6b2-5dbd434d3a1b",
   "metadata": {
    "scrolled": true
   },
   "outputs": [
    {
     "name": "stdout",
     "output_type": "stream",
     "text": [
      "List of 113\n",
      " $ CHOP-COMPT              : chr [1:239] \"SUFU\" \"FGFR2\" \"RET\" \"JMJD1C\" ...\n",
      " $ CHOP-COMPT-V2           : chr [1:247] \"MTOR\" \"NRAS\" \"FAM46C\" \"NOTCH2\" ...\n",
      " $ CHOP-FUSIP              : chr [1:139] \"RBM15\" \"SLC16A4\" \"NOTCH2\" \"NTRK1\" ...\n",
      " $ CHOP-HEMEP              : chr [1:119] \"TLX1\" \"NT5C2\" \"SMC3\" \"GATA3\" ...\n",
      " $ CHOP-STNGS              : chr [1:239] \"SUFU\" \"FGFR2\" \"RET\" \"JMJD1C\" ...\n",
      " $ CHOP-STNGS-V2           : chr [1:248] \"MTOR\" \"NRAS\" \"FAM46C\" \"NOTCH2\" ...\n",
      " $ COLU-CCCP-V1            : chr [1:466] \"\" \"ABL1\" \"AKT1\" \"AKT2\" ...\n",
      " $ COLU-CCCP-V2            : chr [1:591] \"KIF1B\" \"MTOR\" \"NRAS\" \"CD58\" ...\n",
      " $ COLU-CSTP-V1            : chr [1:46] \"NRAS\" \"NTRK1\" \"DDR2\" \"H3F3A\" ...\n",
      " $ COLU-CSTP-V2            : chr [1:50] \"NRAS\" \"MPL\" \"FGFR2\" \"RET\" ...\n",
      " $ COLU-TSACP-V1           : chr [1:50] \"\" \"ABL1\" \"AKT1\" \"ALK\" ...\n",
      " $ CRUK-TS                 : chr [1:174] \"ACVRL1\" \"AFF2\" \"AGTR2\" \"AHNAK2\" ...\n",
      " $ DFCI-ONCOPANEL-1        : chr [1:330] \"GSTM5\" \"MTOR\" \"NRAS\" \"CD58\" ...\n",
      " $ DFCI-ONCOPANEL-2        : chr [1:603] \"GSTM5\" \"MTOR\" \"NRAS\" \"CD58\" ...\n",
      " $ DFCI-ONCOPANEL-3        : chr [1:1286] \"KIF1B\" \"MTOR\" \"NRAS\" \"FAM46C\" ...\n",
      " $ DFCI-ONCOPANEL-3.1      : chr [1:1286] \"KIF1B\" \"MTOR\" \"NRAS\" \"FAM46C\" ...\n",
      " $ DUKE-F1-DX1             : chr [1:325] \"MTOR\" \"NRAS\" \"FAM46C\" \"HSD3B1\" ...\n",
      " $ DUKE-F1-T5A             : chr [1:328] \"MTOR\" \"NRAS\" \"FAM46C\" \"MTHFR\" ...\n",
      " $ DUKE-F1-T7              : chr [1:433] \"MTOR\" \"NRAS\" \"FAM46C\" \"MTHFR\" ...\n",
      " $ GRCC-CHP2               : chr [1:50] \"ABL1\" \"AKT1\" \"ALK\" \"APC\" ...\n",
      " $ GRCC-CP1                : chr [1:46] \"ABL1\" \"AKT1\" \"ALK\" \"APC\" ...\n",
      " $ GRCC-MOSC3              : chr [1:74] \"ABL1\" \"AKT1\" \"AKT2\" \"AKT3\" ...\n",
      " $ GRCC-MOSC4              : chr [1:89] \"MTOR\" \"NRAS\" \"DDR2\" \"H3F3A\" ...\n",
      " $ GRCC-OCAV3              : chr [1:147] \"MTOR\" \"NRAS\" \"NOTCH2\" \"NTRK1\" ...\n",
      " $ GRCC-SAFIR02            : chr [1:50] \"MTOR\" \"\" \"NRAS\" \"NOTCH2\" ...\n",
      " $ JHU-500STP              : chr [1:761] \"RBM15\" \"MTOR\" \"TRIM33\" \"NRAS\" ...\n",
      " $ JHU-50GP                : chr [1:50] \"NRAS\" \"MPL\" \"FGFR2\" \"RET\" ...\n",
      " $ MDA-409-V1              : chr [1:409] \"ABL1\" \"ABL2\" \"ACVR2A\" \"ADAMTS20\" ...\n",
      " $ MDA-46-V1               : chr [1:46] \"ABL1\" \"AKT1\" \"ALK\" \"APC\" ...\n",
      " $ MDA-50-V1               : chr [1:50] \"ABL1\" \"AKT1\" \"ALK\" \"APC\" ...\n",
      " $ MSK-IMPACT-HEME-400     : chr [1:399] \"MTOR\" \"NRAS\" \"CD58\" \"FAM46C\" ...\n",
      " $ MSK-IMPACT-HEME-468     : chr [1:1433] \"COL11A1\" \"NRBF2P3\" \"MTOR\" \"MOV10\" ...\n",
      " $ MSK-IMPACT341           : chr [1:341] \"MTOR\" \"NRAS\" \"VTCN1\" \"FAM46C\" ...\n",
      " $ MSK-IMPACT410           : chr [1:410] \"MTOR\" \"NRAS\" \"VTCN1\" \"FAM46C\" ...\n",
      " $ MSK-IMPACT468           : chr [1:468] \"MTOR\" \"NRAS\" \"CSDE1\" \"VTCN1\" ...\n",
      " $ MSK-IMPACT505           : chr [1:506] \"MTOR\" \"NRAS\" \"CSDE1\" \"MAD2L2\" ...\n",
      " $ NKI-CHP-V2-PLUS         : chr [1:52] \"NRAS\" \"MPL\" \"FGFR2\" \"RET\" ...\n",
      " $ NKI-CHPV2-NGS           : chr [1:50] \"NRAS\" \"MPL\" \"FGFR2\" \"RET\" ...\n",
      " $ NKI-CHPV2-SOCV2-NGS     : chr [1:52] \"NRAS\" \"MPL\" \"FGFR2\" \"RET\" ...\n",
      " $ NKI-PATH-NGS            : chr [1:32] \"FGFR2\" \"MDM2\" \"PIK3CA\" \"FGFR3\" ...\n",
      " $ NKI-TSACP-MISEQ-NGS     : chr [1:48] \"ABL1\" \"AKT1\" \"ALK\" \"APC\" ...\n",
      " $ PROV-FOCUS-V1           : chr [1:47] \"MTOR\" \"NRAS\" \"DDR2\" \"JAK1\" ...\n",
      " $ PROV-TRISEQ-V2          : chr [1:324] \"RBM15\" \"MTOR\" \"NRAS\" \"FAM46C\" ...\n",
      " $ PROV-TSO500HT-V2        : chr [1:613] \"MTOR\" \"NRAS\" \"CSDE1\" \"VTCN1\" ...\n",
      " $ PROV-TST170-V1          : chr [1:222] \"MTOR\" \"NRAS\" \"NOTCH2\" \"MCL1\" ...\n",
      " $ SCI-PMP68-V1            : chr [1:67] \"ABL1\" \"AKT1\" \"ALK\" \"APC\" ...\n",
      " $ UCHI-ONCOHEME55-V1      : chr [1:54] \"ABL1\" \"ASXL1\" \"ATRX\" \"BCORL1\" ...\n",
      " $ UCHI-ONCOSCREEN50-V1    : chr [1:50] \"ABL1\" \"AKT1\" \"ALK\" \"APC\" ...\n",
      " $ UCSF-IDTV5-TN           : chr [1:1422] \"MTOR\" \"NRAS\" \"FAM46C\" \"MFN2\" ...\n",
      " $ UCSF-IDTV5-TO           : chr [1:1422] \"MTOR\" \"NRAS\" \"FAM46C\" \"MFN2\" ...\n",
      " $ UCSF-NIMV4-TN           : chr [1:1258] \"\" \"DFFA\" \"MTOR\" \"NRAS\" ...\n",
      " $ UCSF-NIMV4-TO           : chr [1:1258] \"\" \"DFFA\" \"MTOR\" \"NRAS\" ...\n",
      " $ UHN-48-V1               : chr [1:48] \"ABL1\" \"AKT1\" \"ALK\" \"APC\" ...\n",
      " $ UHN-50-V2               : chr [1:50] \"ABL1\" \"AKT1\" \"ALK\" \"APC\" ...\n",
      " $ UHN-54-V1               : chr [1:54] \"ASXL1\" \"BCOR\" \"BCORL1\" \"CEBPA\" ...\n",
      " $ UHN-555-BLADDER-V1      : chr [1:594] \"AMER1\" \"CEBPA\" \"FANCF\" \"FOXL2\" ...\n",
      " $ UHN-555-BREAST-V1       : chr [1:594] \"AMER1\" \"CEBPA\" \"FANCF\" \"FOXL2\" ...\n",
      " $ UHN-555-GLIOMA-V1       : chr [1:594] \"AMER1\" \"CEBPA\" \"FANCF\" \"FOXL2\" ...\n",
      " $ UHN-555-GYNE-V1         : chr [1:594] \"AMER1\" \"CEBPA\" \"FANCF\" \"FOXL2\" ...\n",
      " $ UHN-555-HEAD-NECK-V1    : chr [1:594] \"AMER1\" \"CEBPA\" \"FANCF\" \"FOXL2\" ...\n",
      " $ UHN-555-LUNG-V1         : chr [1:594] \"AMER1\" \"CEBPA\" \"FANCF\" \"FOXL2\" ...\n",
      " $ UHN-555-MELANOMA-V1     : chr [1:594] \"AMER1\" \"CEBPA\" \"FANCF\" \"FOXL2\" ...\n",
      " $ UHN-555-PAN-GI-V1       : chr [1:594] \"AMER1\" \"CEBPA\" \"FANCF\" \"FOXL2\" ...\n",
      " $ UHN-555-PROSTATE-V1     : chr [1:594] \"AMER1\" \"CEBPA\" \"FANCF\" \"FOXL2\" ...\n",
      " $ UHN-555-RENAL-V1        : chr [1:594] \"AMER1\" \"CEBPA\" \"FANCF\" \"FOXL2\" ...\n",
      " $ UHN-555-V1              : chr [1:594] \"AMER1\" \"CEBPA\" \"FANCF\" \"FOXL2\" ...\n",
      " $ UHN-555-V2              : chr [1:611] \"GNAI3\" \"RBM15\" \"MTOR\" \"TRIM33\" ...\n",
      " $ UHN-OCA-V3              : chr [1:146] \"MTOR\" \"NRAS\" \"NOTCH2\" \"NTRK1\" ...\n",
      " $ UHN-TSO500-V1           : chr [1:552] \"MTOR\" \"NRAS\" \"CSDE1\" \"VTCN1\" ...\n",
      " $ VHIO-300                : chr [1:434] \"RNPC3\" \"EXOSC10\" \"MTOR\" \"NRAS\" ...\n",
      " $ VHIO-BILIARY-V01        : chr [1:59] \"ABL1\" \"AKT1\" \"AKT2\" \"AKT3\" ...\n",
      " $ VHIO-BRAIN-V01          : chr [1:57] \"ABL1\" \"AKT1\" \"AKT2\" \"AKT3\" ...\n",
      " $ VHIO-BREAST-V01         : chr [1:60] \"ABL1\" \"AKT1\" \"AKT2\" \"AKT3\" ...\n",
      " $ VHIO-BREAST-V02         : chr [1:62] \"NRAS\" \"NOTCH2\" \"AKT3\" \"MPL\" ...\n",
      " $ VHIO-COLORECTAL-V01     : chr [1:60] \"ABL1\" \"AKT1\" \"AKT2\" \"AKT3\" ...\n",
      " $ VHIO-ENDOMETRIUM-V01    : chr [1:60] \"ABL1\" \"AKT1\" \"AKT2\" \"AKT3\" ...\n",
      " $ VHIO-GASTRIC-V01        : chr [1:63] \"ABL1\" \"AKT1\" \"AKT2\" \"AKT3\" ...\n",
      " $ VHIO-GENERAL-V01        : chr [1:56] \"ABL1\" \"AKT1\" \"AKT2\" \"AKT3\" ...\n",
      " $ VHIO-HEAD-NECK-V01      : chr [1:61] \"ABL1\" \"AKT1\" \"AKT2\" \"AKT3\" ...\n",
      " $ VHIO-KIDNEY-V01         : chr [1:59] \"ABL1\" \"AKT1\" \"AKT2\" \"AKT3\" ...\n",
      " $ VHIO-LUNG-V01           : chr [1:58] \"ABL1\" \"AKT1\" \"AKT2\" \"AKT3\" ...\n",
      " $ VHIO-OVARY-V01          : chr [1:58] \"ABL1\" \"AKT1\" \"AKT2\" \"AKT3\" ...\n",
      " $ VHIO-PANCREAS-V01       : chr [1:60] \"ABL1\" \"AKT1\" \"AKT2\" \"AKT3\" ...\n",
      " $ VHIO-PAROTIDE-V01       : chr [1:58] \"ABL1\" \"AKT1\" \"AKT2\" \"AKT3\" ...\n",
      " $ VHIO-SKIN-V01           : chr [1:60] \"ABL1\" \"AKT1\" \"AKT2\" \"AKT3\" ...\n",
      " $ VHIO-URINARY-BLADDER-V01: chr [1:61] \"ABL1\" \"AKT1\" \"AKT2\" \"AKT3\" ...\n",
      " $ VICC-01-D2              : chr [1:504] \"ABCB1\" \"ABCC4\" \"ABCG2\" \"ABL1\" ...\n",
      " $ VICC-01-DX1             : chr [1:325] \"ABL1\" \"ACVR1B\" \"AKT1\" \"AKT2\" ...\n",
      " $ VICC-01-MYELOID         : chr [1:37] \"ABL1\" \"ASXL1\" \"BCORL1\" \"BCOR\" ...\n",
      " $ VICC-01-SOLIDTUMOR      : chr [1:31] \"AKT1\" \"ALK\" \"BRAF\" \"CTNNB1\" ...\n",
      " $ VICC-01-T4B             : chr [1:280] \"ABCB1\" \"ABCC4\" \"ABCG2\" \"ABL1\" ...\n",
      " $ VICC-01-T5A             : chr [1:328] \"ABCB1\" \"ABCC4\" \"ABCG2\" \"ABL1\" ...\n",
      " $ VICC-01-T6B             : chr [1:412] \"ABCB1\" \"ABCC4\" \"ABCG2\" \"ABL1\" ...\n",
      " $ VICC-01-T7              : chr [1:433] \"ABCB1\" \"ABCC4\" \"ABCG2\" \"ABL1\" ...\n",
      " $ VICC-02-XTV2            : chr [1:596] \"KIF1B\" \"MTOR\" \"PTPN22\" \"NRAS\" ...\n",
      " $ VICC-02-XTV3            : chr [1:649] \"KIF1B\" \"MTOR\" \"PTPN22\" \"NRAS\" ...\n",
      " $ VICC-02-XTV4            : chr [1:650] \"KIF1B\" \"MTOR\" \"PTPN22\" \"NRAS\" ...\n",
      " $ WAKE-CA-01              : chr [1:91] \"AKT1\" \"ATM\" \"BRAF\" \"BRCA1\" ...\n",
      " $ WAKE-CA-NGSQ3           : chr [1:499] \"ABL2\" \"ACKR3\" \"AFF1\" \"AFF3\" ...\n",
      "  [list output truncated]\n"
     ]
    }
   ],
   "source": [
    "str(elements_list)"
   ]
  },
  {
   "cell_type": "code",
   "execution_count": 24,
   "id": "728da842-9017-474e-adbd-a4f7af3ef74f",
   "metadata": {},
   "outputs": [],
   "source": [
    "element_list_oncokb <- list()\n",
    "for(element in names(elements_list)){\n",
    "    element_list_oncokb[[element]]<-intersect(oncokb_genes,elements_list[[element]])\n",
    "}"
   ]
  },
  {
   "cell_type": "code",
   "execution_count": 25,
   "id": "68bb19a9-cc59-47d7-92b2-c9c2411e6aec",
   "metadata": {
    "scrolled": true
   },
   "outputs": [
    {
     "name": "stdout",
     "output_type": "stream",
     "text": [
      "List of 113\n",
      " $ CHOP-COMPT              : chr [1:189] \"AKT1\" \"ALK\" \"APC\" \"AR\" ...\n",
      " $ CHOP-COMPT-V2           : chr [1:189] \"AKT1\" \"ALK\" \"APC\" \"AR\" ...\n",
      " $ CHOP-FUSIP              : chr [1:39] \"AKT1\" \"ALK\" \"BRAF\" \"CIC\" ...\n",
      " $ CHOP-HEMEP              : chr [1:81] \"BRAF\" \"CBL\" \"CDKN2A\" \"CREBBP\" ...\n",
      " $ CHOP-STNGS              : chr [1:189] \"AKT1\" \"ALK\" \"APC\" \"AR\" ...\n",
      " $ CHOP-STNGS-V2           : chr [1:190] \"AKT1\" \"ALK\" \"APC\" \"AR\" ...\n",
      " $ COLU-CCCP-V1            : chr [1:273] \"AKT1\" \"ALK\" \"APC\" \"AR\" ...\n",
      " $ COLU-CCCP-V2            : chr [1:314] \"AKT1\" \"ALK\" \"APC\" \"AR\" ...\n",
      " $ COLU-CSTP-V1            : chr [1:41] \"AKT1\" \"ALK\" \"BRAF\" \"CDKN2A\" ...\n",
      " $ COLU-CSTP-V2            : chr [1:47] \"AKT1\" \"ALK\" \"APC\" \"ATM\" ...\n",
      " $ COLU-TSACP-V1           : chr [1:47] \"AKT1\" \"ALK\" \"APC\" \"ATM\" ...\n",
      " $ CRUK-TS                 : chr [1:69] \"AKT1\" \"ALK\" \"APC\" \"BAP1\" ...\n",
      " $ DFCI-ONCOPANEL-1        : chr [1:183] \"AKT1\" \"ALK\" \"APC\" \"AR\" ...\n",
      " $ DFCI-ONCOPANEL-2        : chr [1:194] \"AKT1\" \"ALK\" \"APC\" \"AR\" ...\n",
      " $ DFCI-ONCOPANEL-3        : chr [1:257] \"AKT1\" \"ALK\" \"APC\" \"AR\" ...\n",
      " $ DFCI-ONCOPANEL-3.1      : chr [1:257] \"AKT1\" \"ALK\" \"APC\" \"AR\" ...\n",
      " $ DUKE-F1-DX1             : chr [1:207] \"AKT1\" \"ALK\" \"APC\" \"AR\" ...\n",
      " $ DUKE-F1-T5A             : chr [1:190] \"AKT1\" \"ALK\" \"APC\" \"AR\" ...\n",
      " $ DUKE-F1-T7              : chr [1:232] \"AKT1\" \"ALK\" \"APC\" \"AR\" ...\n",
      " $ GRCC-CHP2               : chr [1:50] \"AKT1\" \"ALK\" \"APC\" \"ATM\" ...\n",
      " $ GRCC-CP1                : chr [1:46] \"AKT1\" \"ALK\" \"APC\" \"ATM\" ...\n",
      " $ GRCC-MOSC3              : chr [1:72] \"AKT1\" \"ALK\" \"APC\" \"ATM\" ...\n",
      " $ GRCC-MOSC4              : chr [1:82] \"AKT1\" \"ALK\" \"APC\" \"ATM\" ...\n",
      " $ GRCC-OCAV3              : chr [1:127] \"AKT1\" \"ALK\" \"AR\" \"ATM\" ...\n",
      " $ GRCC-SAFIR02            : chr [1:47] \"AKT1\" \"ALK\" \"BRAF\" \"BRCA2\" ...\n",
      " $ JHU-500STP              : chr [1:283] \"AKT1\" \"ALK\" \"APC\" \"AR\" ...\n",
      " $ JHU-50GP                : chr [1:50] \"AKT1\" \"ALK\" \"APC\" \"ATM\" ...\n",
      " $ MDA-409-V1              : chr [1:191] \"AKT1\" \"ALK\" \"APC\" \"AR\" ...\n",
      " $ MDA-46-V1               : chr [1:46] \"AKT1\" \"ALK\" \"APC\" \"ATM\" ...\n",
      " $ MDA-50-V1               : chr [1:50] \"AKT1\" \"ALK\" \"APC\" \"ATM\" ...\n",
      " $ MSK-IMPACT-HEME-400     : chr [1:267] \"AKT1\" \"ALK\" \"APC\" \"AR\" ...\n",
      " $ MSK-IMPACT-HEME-468     : chr [1:284] \"AKT1\" \"ALK\" \"APC\" \"AR\" ...\n",
      " $ MSK-IMPACT341           : chr [1:249] \"AKT1\" \"ALK\" \"APC\" \"AR\" ...\n",
      " $ MSK-IMPACT410           : chr [1:282] \"AKT1\" \"ALK\" \"APC\" \"AR\" ...\n",
      " $ MSK-IMPACT468           : chr [1:306] \"AKT1\" \"ALK\" \"APC\" \"AR\" ...\n",
      " $ MSK-IMPACT505           : chr [1:327] \"AKT1\" \"ALK\" \"APC\" \"AR\" ...\n",
      " $ NKI-CHP-V2-PLUS         : chr [1:52] \"AKT1\" \"ALK\" \"APC\" \"ATM\" ...\n",
      " $ NKI-CHPV2-NGS           : chr [1:50] \"AKT1\" \"ALK\" \"APC\" \"ATM\" ...\n",
      " $ NKI-CHPV2-SOCV2-NGS     : chr [1:52] \"AKT1\" \"ALK\" \"APC\" \"ATM\" ...\n",
      " $ NKI-PATH-NGS            : chr [1:31] \"AKT1\" \"ALK\" \"BRAF\" \"EGFR\" ...\n",
      " $ NKI-TSACP-MISEQ-NGS     : chr [1:48] \"AKT1\" \"ALK\" \"APC\" \"ATM\" ...\n",
      " $ PROV-FOCUS-V1           : chr [1:45] \"AKT1\" \"ALK\" \"APC\" \"AR\" ...\n",
      " $ PROV-TRISEQ-V2          : chr [1:205] \"AKT1\" \"ALK\" \"APC\" \"AR\" ...\n",
      " $ PROV-TSO500HT-V2        : chr [1:298] \"AKT1\" \"ALK\" \"APC\" \"AR\" ...\n",
      " $ PROV-TST170-V1          : chr [1:117] \"AKT1\" \"ALK\" \"APC\" \"AR\" ...\n",
      " $ SCI-PMP68-V1            : chr [1:63] \"AKT1\" \"ALK\" \"APC\" \"ATM\" ...\n",
      " $ UCHI-ONCOHEME55-V1      : chr [1:48] \"BRAF\" \"CBL\" \"CDKN2A\" \"DNMT3A\" ...\n",
      " $ UCHI-ONCOSCREEN50-V1    : chr [1:50] \"AKT1\" \"ALK\" \"APC\" \"ATM\" ...\n",
      " $ UCSF-IDTV5-TN           : chr [1:285] \"AKT1\" \"ALK\" \"APC\" \"AR\" ...\n",
      " $ UCSF-IDTV5-TO           : chr [1:285] \"AKT1\" \"ALK\" \"APC\" \"AR\" ...\n",
      " $ UCSF-NIMV4-TN           : chr [1:261] \"AKT1\" \"ALK\" \"APC\" \"AR\" ...\n",
      " $ UCSF-NIMV4-TO           : chr [1:261] \"AKT1\" \"ALK\" \"APC\" \"AR\" ...\n",
      " $ UHN-48-V1               : chr [1:48] \"AKT1\" \"ALK\" \"APC\" \"ATM\" ...\n",
      " $ UHN-50-V2               : chr [1:50] \"AKT1\" \"ALK\" \"APC\" \"ATM\" ...\n",
      " $ UHN-54-V1               : chr [1:48] \"BRAF\" \"CBL\" \"CDKN2A\" \"DNMT3A\" ...\n",
      " $ UHN-555-BLADDER-V1      : chr [1:246] \"AKT1\" \"ALK\" \"APC\" \"AR\" ...\n",
      " $ UHN-555-BREAST-V1       : chr [1:246] \"AKT1\" \"ALK\" \"APC\" \"AR\" ...\n",
      " $ UHN-555-GLIOMA-V1       : chr [1:246] \"AKT1\" \"ALK\" \"APC\" \"AR\" ...\n",
      " $ UHN-555-GYNE-V1         : chr [1:246] \"AKT1\" \"ALK\" \"APC\" \"AR\" ...\n",
      " $ UHN-555-HEAD-NECK-V1    : chr [1:246] \"AKT1\" \"ALK\" \"APC\" \"AR\" ...\n",
      " $ UHN-555-LUNG-V1         : chr [1:246] \"AKT1\" \"ALK\" \"APC\" \"AR\" ...\n",
      " $ UHN-555-MELANOMA-V1     : chr [1:246] \"AKT1\" \"ALK\" \"APC\" \"AR\" ...\n",
      " $ UHN-555-PAN-GI-V1       : chr [1:246] \"AKT1\" \"ALK\" \"APC\" \"AR\" ...\n",
      " $ UHN-555-PROSTATE-V1     : chr [1:246] \"AKT1\" \"ALK\" \"APC\" \"AR\" ...\n",
      " $ UHN-555-RENAL-V1        : chr [1:246] \"AKT1\" \"ALK\" \"APC\" \"AR\" ...\n",
      " $ UHN-555-V1              : chr [1:246] \"AKT1\" \"ALK\" \"APC\" \"AR\" ...\n",
      " $ UHN-555-V2              : chr [1:255] \"AKT1\" \"ALK\" \"APC\" \"AR\" ...\n",
      " $ UHN-OCA-V3              : chr [1:127] \"AKT1\" \"ALK\" \"AR\" \"ATM\" ...\n",
      " $ UHN-TSO500-V1           : chr [1:298] \"AKT1\" \"ALK\" \"APC\" \"AR\" ...\n",
      " $ VHIO-300                : chr [1:269] \"AKT1\" \"ALK\" \"APC\" \"AR\" ...\n",
      " $ VHIO-BILIARY-V01        : chr [1:54] \"AKT1\" \"ALK\" \"APC\" \"BRAF\" ...\n",
      " $ VHIO-BRAIN-V01          : chr [1:54] \"AKT1\" \"ALK\" \"APC\" \"BRAF\" ...\n",
      " $ VHIO-BREAST-V01         : chr [1:55] \"AKT1\" \"ALK\" \"APC\" \"BRAF\" ...\n",
      " $ VHIO-BREAST-V02         : chr [1:57] \"AKT1\" \"ALK\" \"APC\" \"BRAF\" ...\n",
      " $ VHIO-COLORECTAL-V01     : chr [1:55] \"AKT1\" \"ALK\" \"APC\" \"BRAF\" ...\n",
      " $ VHIO-ENDOMETRIUM-V01    : chr [1:57] \"AKT1\" \"ALK\" \"APC\" \"BRAF\" ...\n",
      " $ VHIO-GASTRIC-V01        : chr [1:58] \"AKT1\" \"ALK\" \"APC\" \"BRAF\" ...\n",
      " $ VHIO-GENERAL-V01        : chr [1:53] \"AKT1\" \"ALK\" \"APC\" \"BRAF\" ...\n",
      " $ VHIO-HEAD-NECK-V01      : chr [1:56] \"AKT1\" \"ALK\" \"APC\" \"BRAF\" ...\n",
      " $ VHIO-KIDNEY-V01         : chr [1:56] \"AKT1\" \"ALK\" \"APC\" \"BRAF\" ...\n",
      " $ VHIO-LUNG-V01           : chr [1:55] \"AKT1\" \"ALK\" \"APC\" \"BRAF\" ...\n",
      " $ VHIO-OVARY-V01          : chr [1:55] \"AKT1\" \"ALK\" \"APC\" \"BRAF\" ...\n",
      " $ VHIO-PANCREAS-V01       : chr [1:57] \"AKT1\" \"ALK\" \"APC\" \"BRAF\" ...\n",
      " $ VHIO-PAROTIDE-V01       : chr [1:53] \"AKT1\" \"ALK\" \"APC\" \"BRAF\" ...\n",
      " $ VHIO-SKIN-V01           : chr [1:57] \"AKT1\" \"ALK\" \"APC\" \"BRAF\" ...\n",
      " $ VHIO-URINARY-BLADDER-V01: chr [1:58] \"AKT1\" \"ALK\" \"APC\" \"BRAF\" ...\n",
      " $ VICC-01-D2              : chr [1:244] \"AKT1\" \"ALK\" \"APC\" \"AR\" ...\n",
      " $ VICC-01-DX1             : chr [1:207] \"AKT1\" \"ALK\" \"APC\" \"AR\" ...\n",
      " $ VICC-01-MYELOID         : chr [1:36] \"BRAF\" \"CBL\" \"CDKN2A\" \"DNMT3A\" ...\n",
      " $ VICC-01-SOLIDTUMOR      : chr [1:30] \"AKT1\" \"ALK\" \"BRAF\" \"CTNNB1\" ...\n",
      " $ VICC-01-T4B             : chr [1:126] \"AKT1\" \"ALK\" \"APC\" \"AR\" ...\n",
      " $ VICC-01-T5A             : chr [1:190] \"AKT1\" \"ALK\" \"APC\" \"AR\" ...\n",
      " $ VICC-01-T6B             : chr [1:221] \"AKT1\" \"ALK\" \"APC\" \"AR\" ...\n",
      " $ VICC-01-T7              : chr [1:232] \"AKT1\" \"ALK\" \"APC\" \"AR\" ...\n",
      " $ VICC-02-XTV2            : chr [1:284] \"AKT1\" \"ALK\" \"APC\" \"AR\" ...\n",
      " $ VICC-02-XTV3            : chr [1:294] \"AKT1\" \"ALK\" \"APC\" \"AR\" ...\n",
      " $ VICC-02-XTV4            : chr [1:294] \"AKT1\" \"ALK\" \"APC\" \"AR\" ...\n",
      " $ WAKE-CA-01              : chr [1:53] \"AKT1\" \"APC\" \"ATM\" \"BRAF\" ...\n",
      " $ WAKE-CA-NGSQ3           : chr [1:204] \"AKT1\" \"ALK\" \"APC\" \"AR\" ...\n",
      "  [list output truncated]\n"
     ]
    }
   ],
   "source": [
    "str(element_list_oncokb)"
   ]
  },
  {
   "cell_type": "markdown",
   "id": "2796f550-7a72-4cda-acbe-e2257ac3bba3",
   "metadata": {},
   "source": [
    "# Create the GAM from the MAF"
   ]
  },
  {
   "cell_type": "code",
   "execution_count": 28,
   "id": "4e8b2c65-60bf-4b58-9c66-85e586acaf35",
   "metadata": {},
   "outputs": [],
   "source": [
    "consider_genes<-oncokb_genes"
   ]
  },
  {
   "cell_type": "code",
   "execution_count": 29,
   "id": "8115d515-b8b9-4d9f-b80b-e4c64e482638",
   "metadata": {},
   "outputs": [
    {
     "data": {
      "text/html": [
       "<table class=\"dataframe\">\n",
       "<caption>A data.frame: 6 × 8</caption>\n",
       "<thead>\n",
       "\t<tr><th></th><th scope=col>Chromosome</th><th scope=col>Start_Position</th><th scope=col>End_Position</th><th scope=col>Hugo_Symbol</th><th scope=col>Variant_Classification</th><th scope=col>Tumor_Sample_Barcode</th><th scope=col>HGVSp_Short</th><th scope=col>Center</th></tr>\n",
       "\t<tr><th></th><th scope=col>&lt;chr&gt;</th><th scope=col>&lt;int&gt;</th><th scope=col>&lt;int&gt;</th><th scope=col>&lt;chr&gt;</th><th scope=col>&lt;chr&gt;</th><th scope=col>&lt;chr&gt;</th><th scope=col>&lt;chr&gt;</th><th scope=col>&lt;chr&gt;</th></tr>\n",
       "</thead>\n",
       "<tbody>\n",
       "\t<tr><th scope=row>1</th><td>12</td><td> 25398285</td><td> 25398285</td><td>KRAS  </td><td>Missense_Mutation</td><td>GENIE-JHU-00006-00185</td><td>p.G12C  </td><td>JHU</td></tr>\n",
       "\t<tr><th scope=row>2</th><td>7 </td><td>140453136</td><td>140453136</td><td>BRAF  </td><td>Missense_Mutation</td><td>GENIE-JHU-00006-00185</td><td>p.V600E </td><td>JHU</td></tr>\n",
       "\t<tr><th scope=row>3</th><td>7 </td><td> 55249071</td><td> 55249071</td><td>EGFR  </td><td>Missense_Mutation</td><td>GENIE-JHU-00006-00185</td><td>p.T790M </td><td>JHU</td></tr>\n",
       "\t<tr><th scope=row>4</th><td>17</td><td>  7577120</td><td>  7577120</td><td>TP53  </td><td>Missense_Mutation</td><td>GENIE-JHU-00006-00185</td><td>p.R273H </td><td>JHU</td></tr>\n",
       "\t<tr><th scope=row>5</th><td>1 </td><td>115256529</td><td>115256529</td><td>NRAS  </td><td>Missense_Mutation</td><td>GENIE-JHU-00006-00185</td><td>p.Q61R  </td><td>JHU</td></tr>\n",
       "\t<tr><th scope=row>6</th><td>3 </td><td>178952085</td><td>178952085</td><td>PIK3CA</td><td>Missense_Mutation</td><td>GENIE-JHU-00006-00185</td><td>p.H1047R</td><td>JHU</td></tr>\n",
       "</tbody>\n",
       "</table>\n"
      ],
      "text/latex": [
       "A data.frame: 6 × 8\n",
       "\\begin{tabular}{r|llllllll}\n",
       "  & Chromosome & Start\\_Position & End\\_Position & Hugo\\_Symbol & Variant\\_Classification & Tumor\\_Sample\\_Barcode & HGVSp\\_Short & Center\\\\\n",
       "  & <chr> & <int> & <int> & <chr> & <chr> & <chr> & <chr> & <chr>\\\\\n",
       "\\hline\n",
       "\t1 & 12 &  25398285 &  25398285 & KRAS   & Missense\\_Mutation & GENIE-JHU-00006-00185 & p.G12C   & JHU\\\\\n",
       "\t2 & 7  & 140453136 & 140453136 & BRAF   & Missense\\_Mutation & GENIE-JHU-00006-00185 & p.V600E  & JHU\\\\\n",
       "\t3 & 7  &  55249071 &  55249071 & EGFR   & Missense\\_Mutation & GENIE-JHU-00006-00185 & p.T790M  & JHU\\\\\n",
       "\t4 & 17 &   7577120 &   7577120 & TP53   & Missense\\_Mutation & GENIE-JHU-00006-00185 & p.R273H  & JHU\\\\\n",
       "\t5 & 1  & 115256529 & 115256529 & NRAS   & Missense\\_Mutation & GENIE-JHU-00006-00185 & p.Q61R   & JHU\\\\\n",
       "\t6 & 3  & 178952085 & 178952085 & PIK3CA & Missense\\_Mutation & GENIE-JHU-00006-00185 & p.H1047R & JHU\\\\\n",
       "\\end{tabular}\n"
      ],
      "text/markdown": [
       "\n",
       "A data.frame: 6 × 8\n",
       "\n",
       "| <!--/--> | Chromosome &lt;chr&gt; | Start_Position &lt;int&gt; | End_Position &lt;int&gt; | Hugo_Symbol &lt;chr&gt; | Variant_Classification &lt;chr&gt; | Tumor_Sample_Barcode &lt;chr&gt; | HGVSp_Short &lt;chr&gt; | Center &lt;chr&gt; |\n",
       "|---|---|---|---|---|---|---|---|---|\n",
       "| 1 | 12 |  25398285 |  25398285 | KRAS   | Missense_Mutation | GENIE-JHU-00006-00185 | p.G12C   | JHU |\n",
       "| 2 | 7  | 140453136 | 140453136 | BRAF   | Missense_Mutation | GENIE-JHU-00006-00185 | p.V600E  | JHU |\n",
       "| 3 | 7  |  55249071 |  55249071 | EGFR   | Missense_Mutation | GENIE-JHU-00006-00185 | p.T790M  | JHU |\n",
       "| 4 | 17 |   7577120 |   7577120 | TP53   | Missense_Mutation | GENIE-JHU-00006-00185 | p.R273H  | JHU |\n",
       "| 5 | 1  | 115256529 | 115256529 | NRAS   | Missense_Mutation | GENIE-JHU-00006-00185 | p.Q61R   | JHU |\n",
       "| 6 | 3  | 178952085 | 178952085 | PIK3CA | Missense_Mutation | GENIE-JHU-00006-00185 | p.H1047R | JHU |\n",
       "\n"
      ],
      "text/plain": [
       "  Chromosome Start_Position End_Position Hugo_Symbol Variant_Classification\n",
       "1 12          25398285       25398285    KRAS        Missense_Mutation     \n",
       "2 7          140453136      140453136    BRAF        Missense_Mutation     \n",
       "3 7           55249071       55249071    EGFR        Missense_Mutation     \n",
       "4 17           7577120        7577120    TP53        Missense_Mutation     \n",
       "5 1          115256529      115256529    NRAS        Missense_Mutation     \n",
       "6 3          178952085      178952085    PIK3CA      Missense_Mutation     \n",
       "  Tumor_Sample_Barcode  HGVSp_Short Center\n",
       "1 GENIE-JHU-00006-00185 p.G12C      JHU   \n",
       "2 GENIE-JHU-00006-00185 p.V600E     JHU   \n",
       "3 GENIE-JHU-00006-00185 p.T790M     JHU   \n",
       "4 GENIE-JHU-00006-00185 p.R273H     JHU   \n",
       "5 GENIE-JHU-00006-00185 p.Q61R      JHU   \n",
       "6 GENIE-JHU-00006-00185 p.H1047R    JHU   "
      ]
     },
     "metadata": {},
     "output_type": "display_data"
    }
   ],
   "source": [
    "head(genie_mutation_maf)"
   ]
  },
  {
   "cell_type": "code",
   "execution_count": 30,
   "id": "4da46264-8962-4f40-9b45-dab000813a5c",
   "metadata": {},
   "outputs": [],
   "source": [
    "genie_mutation_maf$sample<-genie_mutation_maf$Tumor_Sample_Barcode"
   ]
  },
  {
   "cell_type": "code",
   "execution_count": 32,
   "id": "1fb6b03d-98ba-4658-a2f8-a49d665a0a3f",
   "metadata": {},
   "outputs": [
    {
     "name": "stdout",
     "output_type": "stream",
     "text": [
      "[1] \"##### Number of lines ####->1840311\"\n",
      "[1] \"##### Number of genes ####->396\"\n"
     ]
    }
   ],
   "source": [
    "input_maf <- genie_mutation_maf\n",
    "print(paste('##### Number of lines ####',nrow(input_maf),sep=\"->\"))\n",
    "genes_to_consider =  consider_genes\n",
    "print(paste('##### Number of genes ####',length(genes_to_consider),sep=\"->\"))"
   ]
  },
  {
   "cell_type": "code",
   "execution_count": 33,
   "id": "8d521d1f-5d5e-491b-ad1b-07b7f3b1458d",
   "metadata": {},
   "outputs": [],
   "source": [
    "mutation_type = list(\n",
    "      'ignore' = c(\"Silent\",\"Intron\",\"RNA\",\"3'UTR\",\"5'UTR\",\"5'Flank\",\"3'Flank\",\"IGR\"),\n",
    "      'truncating'= c('Frame_Shift_Del','Frame_Shift_Ins','In_Frame_Del','In_Frame_Ins','Nonsense_Mutation','Nonstop_Mutation','Splice_Region','Splice_Site','Translation_Start_Site'),\n",
    "      'missense' = c('Missense_Mutation')\n",
    ")\n",
    "custom_maf_schema = list(\n",
    "    'name' = 'custom_maf',\n",
    "    'column' = list(\n",
    "          'gene' = 'Hugo_Symbol'\n",
    "        , 'gene.name' = 'Hugo_Symbol'\n",
    "        , 'sample' = 'sample'\n",
    "        , 'sample.name' = 'sample'\n",
    "        , 'mutation.type' = 'Variant_Classification'\n",
    "        , 'mutation' = 'HGVSp_Short'\n",
    "        ),\n",
    "        'mutation.type' = mutation_type\n",
    ")"
   ]
  },
  {
   "cell_type": "code",
   "execution_count": 34,
   "id": "5840a6c3-a568-451b-81fe-a1819afd0f9d",
   "metadata": {
    "scrolled": true
   },
   "outputs": [
    {
     "data": {
      "text/html": [
       "<table class=\"dataframe\">\n",
       "<caption>A data.frame: 6 × 9</caption>\n",
       "<thead>\n",
       "\t<tr><th></th><th scope=col>Chromosome</th><th scope=col>Start_Position</th><th scope=col>End_Position</th><th scope=col>Hugo_Symbol</th><th scope=col>Variant_Classification</th><th scope=col>Tumor_Sample_Barcode</th><th scope=col>HGVSp_Short</th><th scope=col>Center</th><th scope=col>sample</th></tr>\n",
       "\t<tr><th></th><th scope=col>&lt;chr&gt;</th><th scope=col>&lt;int&gt;</th><th scope=col>&lt;int&gt;</th><th scope=col>&lt;chr&gt;</th><th scope=col>&lt;chr&gt;</th><th scope=col>&lt;chr&gt;</th><th scope=col>&lt;chr&gt;</th><th scope=col>&lt;chr&gt;</th><th scope=col>&lt;chr&gt;</th></tr>\n",
       "</thead>\n",
       "<tbody>\n",
       "\t<tr><th scope=row>1</th><td>12</td><td> 25398285</td><td> 25398285</td><td>KRAS  </td><td>Missense_Mutation</td><td>GENIE-JHU-00006-00185</td><td>p.G12C  </td><td>JHU</td><td>GENIE-JHU-00006-00185</td></tr>\n",
       "\t<tr><th scope=row>2</th><td>7 </td><td>140453136</td><td>140453136</td><td>BRAF  </td><td>Missense_Mutation</td><td>GENIE-JHU-00006-00185</td><td>p.V600E </td><td>JHU</td><td>GENIE-JHU-00006-00185</td></tr>\n",
       "\t<tr><th scope=row>3</th><td>7 </td><td> 55249071</td><td> 55249071</td><td>EGFR  </td><td>Missense_Mutation</td><td>GENIE-JHU-00006-00185</td><td>p.T790M </td><td>JHU</td><td>GENIE-JHU-00006-00185</td></tr>\n",
       "\t<tr><th scope=row>4</th><td>17</td><td>  7577120</td><td>  7577120</td><td>TP53  </td><td>Missense_Mutation</td><td>GENIE-JHU-00006-00185</td><td>p.R273H </td><td>JHU</td><td>GENIE-JHU-00006-00185</td></tr>\n",
       "\t<tr><th scope=row>5</th><td>1 </td><td>115256529</td><td>115256529</td><td>NRAS  </td><td>Missense_Mutation</td><td>GENIE-JHU-00006-00185</td><td>p.Q61R  </td><td>JHU</td><td>GENIE-JHU-00006-00185</td></tr>\n",
       "\t<tr><th scope=row>6</th><td>3 </td><td>178952085</td><td>178952085</td><td>PIK3CA</td><td>Missense_Mutation</td><td>GENIE-JHU-00006-00185</td><td>p.H1047R</td><td>JHU</td><td>GENIE-JHU-00006-00185</td></tr>\n",
       "</tbody>\n",
       "</table>\n"
      ],
      "text/latex": [
       "A data.frame: 6 × 9\n",
       "\\begin{tabular}{r|lllllllll}\n",
       "  & Chromosome & Start\\_Position & End\\_Position & Hugo\\_Symbol & Variant\\_Classification & Tumor\\_Sample\\_Barcode & HGVSp\\_Short & Center & sample\\\\\n",
       "  & <chr> & <int> & <int> & <chr> & <chr> & <chr> & <chr> & <chr> & <chr>\\\\\n",
       "\\hline\n",
       "\t1 & 12 &  25398285 &  25398285 & KRAS   & Missense\\_Mutation & GENIE-JHU-00006-00185 & p.G12C   & JHU & GENIE-JHU-00006-00185\\\\\n",
       "\t2 & 7  & 140453136 & 140453136 & BRAF   & Missense\\_Mutation & GENIE-JHU-00006-00185 & p.V600E  & JHU & GENIE-JHU-00006-00185\\\\\n",
       "\t3 & 7  &  55249071 &  55249071 & EGFR   & Missense\\_Mutation & GENIE-JHU-00006-00185 & p.T790M  & JHU & GENIE-JHU-00006-00185\\\\\n",
       "\t4 & 17 &   7577120 &   7577120 & TP53   & Missense\\_Mutation & GENIE-JHU-00006-00185 & p.R273H  & JHU & GENIE-JHU-00006-00185\\\\\n",
       "\t5 & 1  & 115256529 & 115256529 & NRAS   & Missense\\_Mutation & GENIE-JHU-00006-00185 & p.Q61R   & JHU & GENIE-JHU-00006-00185\\\\\n",
       "\t6 & 3  & 178952085 & 178952085 & PIK3CA & Missense\\_Mutation & GENIE-JHU-00006-00185 & p.H1047R & JHU & GENIE-JHU-00006-00185\\\\\n",
       "\\end{tabular}\n"
      ],
      "text/markdown": [
       "\n",
       "A data.frame: 6 × 9\n",
       "\n",
       "| <!--/--> | Chromosome &lt;chr&gt; | Start_Position &lt;int&gt; | End_Position &lt;int&gt; | Hugo_Symbol &lt;chr&gt; | Variant_Classification &lt;chr&gt; | Tumor_Sample_Barcode &lt;chr&gt; | HGVSp_Short &lt;chr&gt; | Center &lt;chr&gt; | sample &lt;chr&gt; |\n",
       "|---|---|---|---|---|---|---|---|---|---|\n",
       "| 1 | 12 |  25398285 |  25398285 | KRAS   | Missense_Mutation | GENIE-JHU-00006-00185 | p.G12C   | JHU | GENIE-JHU-00006-00185 |\n",
       "| 2 | 7  | 140453136 | 140453136 | BRAF   | Missense_Mutation | GENIE-JHU-00006-00185 | p.V600E  | JHU | GENIE-JHU-00006-00185 |\n",
       "| 3 | 7  |  55249071 |  55249071 | EGFR   | Missense_Mutation | GENIE-JHU-00006-00185 | p.T790M  | JHU | GENIE-JHU-00006-00185 |\n",
       "| 4 | 17 |   7577120 |   7577120 | TP53   | Missense_Mutation | GENIE-JHU-00006-00185 | p.R273H  | JHU | GENIE-JHU-00006-00185 |\n",
       "| 5 | 1  | 115256529 | 115256529 | NRAS   | Missense_Mutation | GENIE-JHU-00006-00185 | p.Q61R   | JHU | GENIE-JHU-00006-00185 |\n",
       "| 6 | 3  | 178952085 | 178952085 | PIK3CA | Missense_Mutation | GENIE-JHU-00006-00185 | p.H1047R | JHU | GENIE-JHU-00006-00185 |\n",
       "\n"
      ],
      "text/plain": [
       "  Chromosome Start_Position End_Position Hugo_Symbol Variant_Classification\n",
       "1 12          25398285       25398285    KRAS        Missense_Mutation     \n",
       "2 7          140453136      140453136    BRAF        Missense_Mutation     \n",
       "3 7           55249071       55249071    EGFR        Missense_Mutation     \n",
       "4 17           7577120        7577120    TP53        Missense_Mutation     \n",
       "5 1          115256529      115256529    NRAS        Missense_Mutation     \n",
       "6 3          178952085      178952085    PIK3CA      Missense_Mutation     \n",
       "  Tumor_Sample_Barcode  HGVSp_Short Center sample               \n",
       "1 GENIE-JHU-00006-00185 p.G12C      JHU    GENIE-JHU-00006-00185\n",
       "2 GENIE-JHU-00006-00185 p.V600E     JHU    GENIE-JHU-00006-00185\n",
       "3 GENIE-JHU-00006-00185 p.T790M     JHU    GENIE-JHU-00006-00185\n",
       "4 GENIE-JHU-00006-00185 p.R273H     JHU    GENIE-JHU-00006-00185\n",
       "5 GENIE-JHU-00006-00185 p.Q61R      JHU    GENIE-JHU-00006-00185\n",
       "6 GENIE-JHU-00006-00185 p.H1047R    JHU    GENIE-JHU-00006-00185"
      ]
     },
     "metadata": {},
     "output_type": "display_data"
    }
   ],
   "source": [
    "head(genie_mutation_maf)"
   ]
  },
  {
   "cell_type": "code",
   "execution_count": 35,
   "id": "a003b997-7f85-4979-b440-052bb39a254d",
   "metadata": {},
   "outputs": [
    {
     "name": "stdout",
     "output_type": "stream",
     "text": [
      "[1] \"##### Number of samples ####->171195\"\n"
     ]
    }
   ],
   "source": [
    "mut_samples = unique(input_maf[, custom_maf_schema$column$sample])\n",
    "print(paste('##### Number of samples ####',length(mut_samples),sep=\"->\"))"
   ]
  },
  {
   "cell_type": "code",
   "execution_count": 36,
   "id": "f2095eba-b461-432b-8aa7-2d07b8c41d09",
   "metadata": {},
   "outputs": [
    {
     "name": "stdout",
     "output_type": "stream",
     "text": [
      "[1] \"##### Number of lines ####->1294806\"\n"
     ]
    }
   ],
   "source": [
    "maf_genes = filter_maf_gene.name(input_maf, genes = genes_to_consider, gene.col = custom_maf_schema$column$gene)\n",
    "print(paste('##### Number of lines ####',nrow(maf_genes),sep=\"->\"))"
   ]
  },
  {
   "cell_type": "code",
   "execution_count": 37,
   "id": "e2a1e462-2461-4a94-9a44-8140a2255cd0",
   "metadata": {
    "scrolled": true
   },
   "outputs": [
    {
     "data": {
      "text/html": [
       "<table class=\"dataframe\">\n",
       "<caption>A data.frame: 6 × 9</caption>\n",
       "<thead>\n",
       "\t<tr><th></th><th scope=col>Chromosome</th><th scope=col>Start_Position</th><th scope=col>End_Position</th><th scope=col>Hugo_Symbol</th><th scope=col>Variant_Classification</th><th scope=col>Tumor_Sample_Barcode</th><th scope=col>HGVSp_Short</th><th scope=col>Center</th><th scope=col>sample</th></tr>\n",
       "\t<tr><th></th><th scope=col>&lt;chr&gt;</th><th scope=col>&lt;int&gt;</th><th scope=col>&lt;int&gt;</th><th scope=col>&lt;chr&gt;</th><th scope=col>&lt;chr&gt;</th><th scope=col>&lt;chr&gt;</th><th scope=col>&lt;chr&gt;</th><th scope=col>&lt;chr&gt;</th><th scope=col>&lt;chr&gt;</th></tr>\n",
       "</thead>\n",
       "<tbody>\n",
       "\t<tr><th scope=row>1</th><td>12</td><td> 25398285</td><td> 25398285</td><td>KRAS  </td><td>Missense_Mutation</td><td>GENIE-JHU-00006-00185</td><td>p.G12C  </td><td>JHU</td><td>GENIE-JHU-00006-00185</td></tr>\n",
       "\t<tr><th scope=row>2</th><td>7 </td><td>140453136</td><td>140453136</td><td>BRAF  </td><td>Missense_Mutation</td><td>GENIE-JHU-00006-00185</td><td>p.V600E </td><td>JHU</td><td>GENIE-JHU-00006-00185</td></tr>\n",
       "\t<tr><th scope=row>3</th><td>7 </td><td> 55249071</td><td> 55249071</td><td>EGFR  </td><td>Missense_Mutation</td><td>GENIE-JHU-00006-00185</td><td>p.T790M </td><td>JHU</td><td>GENIE-JHU-00006-00185</td></tr>\n",
       "\t<tr><th scope=row>4</th><td>17</td><td>  7577120</td><td>  7577120</td><td>TP53  </td><td>Missense_Mutation</td><td>GENIE-JHU-00006-00185</td><td>p.R273H </td><td>JHU</td><td>GENIE-JHU-00006-00185</td></tr>\n",
       "\t<tr><th scope=row>5</th><td>1 </td><td>115256529</td><td>115256529</td><td>NRAS  </td><td>Missense_Mutation</td><td>GENIE-JHU-00006-00185</td><td>p.Q61R  </td><td>JHU</td><td>GENIE-JHU-00006-00185</td></tr>\n",
       "\t<tr><th scope=row>6</th><td>3 </td><td>178952085</td><td>178952085</td><td>PIK3CA</td><td>Missense_Mutation</td><td>GENIE-JHU-00006-00185</td><td>p.H1047R</td><td>JHU</td><td>GENIE-JHU-00006-00185</td></tr>\n",
       "</tbody>\n",
       "</table>\n"
      ],
      "text/latex": [
       "A data.frame: 6 × 9\n",
       "\\begin{tabular}{r|lllllllll}\n",
       "  & Chromosome & Start\\_Position & End\\_Position & Hugo\\_Symbol & Variant\\_Classification & Tumor\\_Sample\\_Barcode & HGVSp\\_Short & Center & sample\\\\\n",
       "  & <chr> & <int> & <int> & <chr> & <chr> & <chr> & <chr> & <chr> & <chr>\\\\\n",
       "\\hline\n",
       "\t1 & 12 &  25398285 &  25398285 & KRAS   & Missense\\_Mutation & GENIE-JHU-00006-00185 & p.G12C   & JHU & GENIE-JHU-00006-00185\\\\\n",
       "\t2 & 7  & 140453136 & 140453136 & BRAF   & Missense\\_Mutation & GENIE-JHU-00006-00185 & p.V600E  & JHU & GENIE-JHU-00006-00185\\\\\n",
       "\t3 & 7  &  55249071 &  55249071 & EGFR   & Missense\\_Mutation & GENIE-JHU-00006-00185 & p.T790M  & JHU & GENIE-JHU-00006-00185\\\\\n",
       "\t4 & 17 &   7577120 &   7577120 & TP53   & Missense\\_Mutation & GENIE-JHU-00006-00185 & p.R273H  & JHU & GENIE-JHU-00006-00185\\\\\n",
       "\t5 & 1  & 115256529 & 115256529 & NRAS   & Missense\\_Mutation & GENIE-JHU-00006-00185 & p.Q61R   & JHU & GENIE-JHU-00006-00185\\\\\n",
       "\t6 & 3  & 178952085 & 178952085 & PIK3CA & Missense\\_Mutation & GENIE-JHU-00006-00185 & p.H1047R & JHU & GENIE-JHU-00006-00185\\\\\n",
       "\\end{tabular}\n"
      ],
      "text/markdown": [
       "\n",
       "A data.frame: 6 × 9\n",
       "\n",
       "| <!--/--> | Chromosome &lt;chr&gt; | Start_Position &lt;int&gt; | End_Position &lt;int&gt; | Hugo_Symbol &lt;chr&gt; | Variant_Classification &lt;chr&gt; | Tumor_Sample_Barcode &lt;chr&gt; | HGVSp_Short &lt;chr&gt; | Center &lt;chr&gt; | sample &lt;chr&gt; |\n",
       "|---|---|---|---|---|---|---|---|---|---|\n",
       "| 1 | 12 |  25398285 |  25398285 | KRAS   | Missense_Mutation | GENIE-JHU-00006-00185 | p.G12C   | JHU | GENIE-JHU-00006-00185 |\n",
       "| 2 | 7  | 140453136 | 140453136 | BRAF   | Missense_Mutation | GENIE-JHU-00006-00185 | p.V600E  | JHU | GENIE-JHU-00006-00185 |\n",
       "| 3 | 7  |  55249071 |  55249071 | EGFR   | Missense_Mutation | GENIE-JHU-00006-00185 | p.T790M  | JHU | GENIE-JHU-00006-00185 |\n",
       "| 4 | 17 |   7577120 |   7577120 | TP53   | Missense_Mutation | GENIE-JHU-00006-00185 | p.R273H  | JHU | GENIE-JHU-00006-00185 |\n",
       "| 5 | 1  | 115256529 | 115256529 | NRAS   | Missense_Mutation | GENIE-JHU-00006-00185 | p.Q61R   | JHU | GENIE-JHU-00006-00185 |\n",
       "| 6 | 3  | 178952085 | 178952085 | PIK3CA | Missense_Mutation | GENIE-JHU-00006-00185 | p.H1047R | JHU | GENIE-JHU-00006-00185 |\n",
       "\n"
      ],
      "text/plain": [
       "  Chromosome Start_Position End_Position Hugo_Symbol Variant_Classification\n",
       "1 12          25398285       25398285    KRAS        Missense_Mutation     \n",
       "2 7          140453136      140453136    BRAF        Missense_Mutation     \n",
       "3 7           55249071       55249071    EGFR        Missense_Mutation     \n",
       "4 17           7577120        7577120    TP53        Missense_Mutation     \n",
       "5 1          115256529      115256529    NRAS        Missense_Mutation     \n",
       "6 3          178952085      178952085    PIK3CA      Missense_Mutation     \n",
       "  Tumor_Sample_Barcode  HGVSp_Short Center sample               \n",
       "1 GENIE-JHU-00006-00185 p.G12C      JHU    GENIE-JHU-00006-00185\n",
       "2 GENIE-JHU-00006-00185 p.V600E     JHU    GENIE-JHU-00006-00185\n",
       "3 GENIE-JHU-00006-00185 p.T790M     JHU    GENIE-JHU-00006-00185\n",
       "4 GENIE-JHU-00006-00185 p.R273H     JHU    GENIE-JHU-00006-00185\n",
       "5 GENIE-JHU-00006-00185 p.Q61R      JHU    GENIE-JHU-00006-00185\n",
       "6 GENIE-JHU-00006-00185 p.H1047R    JHU    GENIE-JHU-00006-00185"
      ]
     },
     "metadata": {},
     "output_type": "display_data"
    }
   ],
   "source": [
    "head(input_maf)"
   ]
  },
  {
   "cell_type": "code",
   "execution_count": 39,
   "id": "e80159d3-0257-447e-8ff4-00d6c4f15e23",
   "metadata": {
    "scrolled": true
   },
   "outputs": [
    {
     "data": {
      "text/html": [
       "<table class=\"dataframe\">\n",
       "<caption>A data.frame: 17 × 2</caption>\n",
       "<thead>\n",
       "\t<tr><th scope=col>Variant_Classification</th><th scope=col>n</th></tr>\n",
       "\t<tr><th scope=col>&lt;chr&gt;</th><th scope=col>&lt;int&gt;</th></tr>\n",
       "</thead>\n",
       "<tbody>\n",
       "\t<tr><td>3'Flank               </td><td>   6991</td></tr>\n",
       "\t<tr><td>3'UTR                 </td><td>   3873</td></tr>\n",
       "\t<tr><td>5'Flank               </td><td>  25546</td></tr>\n",
       "\t<tr><td>5'UTR                 </td><td>   3801</td></tr>\n",
       "\t<tr><td>Frame_Shift_Del       </td><td> 102725</td></tr>\n",
       "\t<tr><td>Frame_Shift_Ins       </td><td>  46969</td></tr>\n",
       "\t<tr><td>In_Frame_Del          </td><td>  24542</td></tr>\n",
       "\t<tr><td>In_Frame_Ins          </td><td>   9225</td></tr>\n",
       "\t<tr><td>Intron                </td><td>  54127</td></tr>\n",
       "\t<tr><td>Missense_Mutation     </td><td>1209408</td></tr>\n",
       "\t<tr><td>Nonsense_Mutation     </td><td> 127372</td></tr>\n",
       "\t<tr><td>Nonstop_Mutation      </td><td>    924</td></tr>\n",
       "\t<tr><td>RNA                   </td><td>   2090</td></tr>\n",
       "\t<tr><td>Silent                </td><td> 124278</td></tr>\n",
       "\t<tr><td>Splice_Region         </td><td>  51972</td></tr>\n",
       "\t<tr><td>Splice_Site           </td><td>  44459</td></tr>\n",
       "\t<tr><td>Translation_Start_Site</td><td>   2009</td></tr>\n",
       "</tbody>\n",
       "</table>\n"
      ],
      "text/latex": [
       "A data.frame: 17 × 2\n",
       "\\begin{tabular}{ll}\n",
       " Variant\\_Classification & n\\\\\n",
       " <chr> & <int>\\\\\n",
       "\\hline\n",
       "\t 3'Flank                &    6991\\\\\n",
       "\t 3'UTR                  &    3873\\\\\n",
       "\t 5'Flank                &   25546\\\\\n",
       "\t 5'UTR                  &    3801\\\\\n",
       "\t Frame\\_Shift\\_Del        &  102725\\\\\n",
       "\t Frame\\_Shift\\_Ins        &   46969\\\\\n",
       "\t In\\_Frame\\_Del           &   24542\\\\\n",
       "\t In\\_Frame\\_Ins           &    9225\\\\\n",
       "\t Intron                 &   54127\\\\\n",
       "\t Missense\\_Mutation      & 1209408\\\\\n",
       "\t Nonsense\\_Mutation      &  127372\\\\\n",
       "\t Nonstop\\_Mutation       &     924\\\\\n",
       "\t RNA                    &    2090\\\\\n",
       "\t Silent                 &  124278\\\\\n",
       "\t Splice\\_Region          &   51972\\\\\n",
       "\t Splice\\_Site            &   44459\\\\\n",
       "\t Translation\\_Start\\_Site &    2009\\\\\n",
       "\\end{tabular}\n"
      ],
      "text/markdown": [
       "\n",
       "A data.frame: 17 × 2\n",
       "\n",
       "| Variant_Classification &lt;chr&gt; | n &lt;int&gt; |\n",
       "|---|---|\n",
       "| 3'Flank                |    6991 |\n",
       "| 3'UTR                  |    3873 |\n",
       "| 5'Flank                |   25546 |\n",
       "| 5'UTR                  |    3801 |\n",
       "| Frame_Shift_Del        |  102725 |\n",
       "| Frame_Shift_Ins        |   46969 |\n",
       "| In_Frame_Del           |   24542 |\n",
       "| In_Frame_Ins           |    9225 |\n",
       "| Intron                 |   54127 |\n",
       "| Missense_Mutation      | 1209408 |\n",
       "| Nonsense_Mutation      |  127372 |\n",
       "| Nonstop_Mutation       |     924 |\n",
       "| RNA                    |    2090 |\n",
       "| Silent                 |  124278 |\n",
       "| Splice_Region          |   51972 |\n",
       "| Splice_Site            |   44459 |\n",
       "| Translation_Start_Site |    2009 |\n",
       "\n"
      ],
      "text/plain": [
       "   Variant_Classification n      \n",
       "1  3'Flank                   6991\n",
       "2  3'UTR                     3873\n",
       "3  5'Flank                  25546\n",
       "4  5'UTR                     3801\n",
       "5  Frame_Shift_Del         102725\n",
       "6  Frame_Shift_Ins          46969\n",
       "7  In_Frame_Del             24542\n",
       "8  In_Frame_Ins              9225\n",
       "9  Intron                   54127\n",
       "10 Missense_Mutation      1209408\n",
       "11 Nonsense_Mutation       127372\n",
       "12 Nonstop_Mutation           924\n",
       "13 RNA                       2090\n",
       "14 Silent                  124278\n",
       "15 Splice_Region            51972\n",
       "16 Splice_Site              44459\n",
       "17 Translation_Start_Site    2009"
      ]
     },
     "metadata": {},
     "output_type": "display_data"
    }
   ],
   "source": [
    "genie_mutation_maf %>% count(Variant_Classification)"
   ]
  },
  {
   "cell_type": "code",
   "execution_count": 40,
   "id": "6e01541d-4004-4ebd-b70d-83072476fb76",
   "metadata": {},
   "outputs": [
    {
     "name": "stdout",
     "output_type": "stream",
     "text": [
      "##### Creating Truncating GAM ####: 46.991 sec elapsed\n"
     ]
    }
   ],
   "source": [
    "tictoc::tic('##### Creating Truncating GAM ####')\n",
    "    maf_trunc = filter_maf_truncating(maf_genes,genes=oncokb_truncating_genes, custom_maf_schema)\n",
    "    input_maf_trunc<-filter_maf_truncating(input_maf, custom_maf_schema)\n",
    "    truncating_tmb <- data.frame('sample'=mut_samples,'mutation'=rep(0,length(mut_samples)))\n",
    "    rownames(truncating_tmb)<-mut_samples\n",
    "    temp <- input_maf_trunc %>% count(sample) \n",
    "    rownames(temp)<-temp$sample\n",
    "    truncating_tmb[intersect(truncating_tmb$sample,temp$sample),]$mutation <-temp[intersect(truncating_tmb$sample,temp$sample),'n']\n",
    "    tcga_truc_gam = maf2gam(maf_trunc,\n",
    "                     sample.col = custom_maf_schema$column$sample,\n",
    "                     gene.col = custom_maf_schema$column$gene,\n",
    "                     value.var = 'Variant_Classification',\n",
    "                     samples = mut_samples,\n",
    "                     genes = genes_to_consider,\n",
    "                     fun.aggregate = length,\n",
    "                     binarize=TRUE,\n",
    "                     fill=0)\n",
    "    truncating_data <- list('gam'=tcga_truc_gam,\n",
    "                            'tmb'=truncating_tmb)\n",
    "tictoc::toc()"
   ]
  },
  {
   "cell_type": "code",
   "execution_count": 41,
   "id": "c2f755a2-bed3-4aed-b338-17a6842c50d4",
   "metadata": {},
   "outputs": [
    {
     "name": "stdout",
     "output_type": "stream",
     "text": [
      "##### Creating Missense GAM ####: 41.084 sec elapsed\n"
     ]
    }
   ],
   "source": [
    "tictoc::tic('##### Creating Missense GAM ####')\n",
    "    maf_valid = filter_maf_schema(input_maf,\n",
    "                             schema = custom_maf_schema,\n",
    "                             column = 'mutation.type',\n",
    "                             values = custom_maf_schema[['mutation.type']][['ignore']],\n",
    "                             inclusive = FALSE)\n",
    "    missense_maf<-filter_maf_mutation.type(input_maf,\n",
    "                                      variants = 'Missense_Mutation',\n",
    "                                      variant.col = custom_maf_schema$column$mutation.type)\n",
    "    missense_tmb <- data.frame('sample'=mut_samples,'mutation'=rep(0,length(mut_samples)))\n",
    "    rownames(missense_tmb)<-mut_samples\n",
    "    temp <- missense_maf %>% count(sample) \n",
    "    rownames(temp)<-temp$sample\n",
    "    missense_tmb[intersect(missense_tmb$sample,temp$sample),]$mutation <-temp[intersect(missense_tmb$sample,temp$sample),'n']\n",
    "    t_m = substr(maf_valid[[custom_maf_schema$column$mutation]],3,1000)\n",
    "    t_m1 =  gsub('[A-Z]*$', '', t_m)\n",
    "    maf_valid$HGVSp_Short_fixed = t_m1\n",
    "    maf_hotspot = filter_maf_mutations(maf_valid,\n",
    "                                  variant_catalogue,\n",
    "                                  maf.col = c(custom_maf_schema$column$gene, 'HGVSp_Short_fixed'),\n",
    "                                  values.col = c('gene', 'mut'))\n",
    "\n",
    "    missense_tcga_gam = maf2gam(maf_hotspot,\n",
    "                     sample.col = custom_maf_schema$column$sample,\n",
    "                     gene.col = custom_maf_schema$column$gene,\n",
    "                     value.var = 'Variant_Classification',\n",
    "                     samples = mut_samples,\n",
    "                     genes = genes_to_consider,\n",
    "                     fun.aggregate = length,\n",
    "                     binarize=TRUE,\n",
    "                     fill=0)\n",
    "    missesne_data <- list('gam'=missense_tcga_gam,\n",
    "                          'tmb'=missense_tmb)\n",
    "\n",
    "tictoc::toc()"
   ]
  },
  {
   "cell_type": "code",
   "execution_count": 42,
   "id": "38685aff-2785-404e-ac85-1cbb00ad5eab",
   "metadata": {
    "scrolled": true
   },
   "outputs": [
    {
     "name": "stdout",
     "output_type": "stream",
     "text": [
      "List of 2\n",
      " $ gam: num [1:171195, 1:396] 0 0 0 0 0 0 0 0 0 0 ...\n",
      "  ..- attr(*, \"dimnames\")=List of 2\n",
      "  .. ..$ : chr [1:171195] \"GENIE-JHU-00006-00185\" \"GENIE-JHU-00007-00187\" \"GENIE-JHU-00024-00426\" \"GENIE-JHU-00026-01223\" ...\n",
      "  .. ..$ : chr [1:396] \"AKT1\" \"ALK\" \"APC\" \"AR\" ...\n",
      " $ tmb:'data.frame':\t171195 obs. of  2 variables:\n",
      "  ..$ sample  : chr [1:171195] \"GENIE-JHU-00006-00185\" \"GENIE-JHU-00007-00187\" \"GENIE-JHU-00024-00426\" \"GENIE-JHU-00026-01223\" ...\n",
      "  ..$ mutation: num [1:171195] 2 2 1 1 1 0 0 0 0 0 ...\n",
      "List of 2\n",
      " $ gam: num [1:171195, 1:396] 1 0 0 0 0 0 0 0 0 0 ...\n",
      "  ..- attr(*, \"dimnames\")=List of 2\n",
      "  .. ..$ : chr [1:171195] \"GENIE-JHU-00006-00185\" \"GENIE-JHU-00007-00187\" \"GENIE-JHU-00024-00426\" \"GENIE-JHU-00026-01223\" ...\n",
      "  .. ..$ : chr [1:396] \"AKT1\" \"ALK\" \"APC\" \"AR\" ...\n",
      " $ tmb:'data.frame':\t171195 obs. of  2 variables:\n",
      "  ..$ sample  : chr [1:171195] \"GENIE-JHU-00006-00185\" \"GENIE-JHU-00007-00187\" \"GENIE-JHU-00024-00426\" \"GENIE-JHU-00026-01223\" ...\n",
      "  ..$ mutation: num [1:171195] 16 1 3 1 1 1 3 1 3 1 ...\n"
     ]
    }
   ],
   "source": [
    "str(truncating_data)\n",
    "str(missesne_data)"
   ]
  },
  {
   "cell_type": "markdown",
   "id": "e4f5acf3-d219-480e-8d96-bfb559acf2dd",
   "metadata": {},
   "source": [
    "# Storing the GAMs \n",
    "- Creating supplementary data-1"
   ]
  },
  {
   "cell_type": "code",
   "execution_count": 43,
   "id": "8a773243-b279-40fa-b84e-e5903426f06b",
   "metadata": {},
   "outputs": [
    {
     "data": {
      "text/html": [
       "113"
      ],
      "text/latex": [
       "113"
      ],
      "text/markdown": [
       "113"
      ],
      "text/plain": [
       "[1] 113"
      ]
     },
     "metadata": {},
     "output_type": "display_data"
    }
   ],
   "source": [
    "length(element_list_oncokb)"
   ]
  },
  {
   "cell_type": "code",
   "execution_count": 44,
   "id": "1f694406-d33a-48e9-9524-a945bbdd78f2",
   "metadata": {
    "scrolled": true
   },
   "outputs": [
    {
     "data": {
      "text/html": [
       "<table class=\"dataframe\">\n",
       "<caption>A data.frame: 6 × 18</caption>\n",
       "<thead>\n",
       "\t<tr><th></th><th scope=col>PATIENT_ID</th><th scope=col>SEX</th><th scope=col>PRIMARY_RACE</th><th scope=col>ETHNICITY</th><th scope=col>CENTER</th><th scope=col>INT_CONTACT</th><th scope=col>INT_DOD</th><th scope=col>YEAR_CONTACT</th><th scope=col>DEAD</th><th scope=col>YEAR_DEATH</th><th scope=col>SAMPLE_ID</th><th scope=col>AGE_AT_SEQ_REPORT</th><th scope=col>ONCOTREE_CODE</th><th scope=col>SAMPLE_TYPE</th><th scope=col>SEQ_ASSAY_ID</th><th scope=col>CANCER_TYPE</th><th scope=col>CANCER_TYPE_DETAILED</th><th scope=col>SAMPLE_TYPE_DETAILED</th></tr>\n",
       "\t<tr><th></th><th scope=col>&lt;chr&gt;</th><th scope=col>&lt;chr&gt;</th><th scope=col>&lt;chr&gt;</th><th scope=col>&lt;chr&gt;</th><th scope=col>&lt;chr&gt;</th><th scope=col>&lt;chr&gt;</th><th scope=col>&lt;chr&gt;</th><th scope=col>&lt;chr&gt;</th><th scope=col>&lt;chr&gt;</th><th scope=col>&lt;chr&gt;</th><th scope=col>&lt;chr&gt;</th><th scope=col>&lt;chr&gt;</th><th scope=col>&lt;chr&gt;</th><th scope=col>&lt;chr&gt;</th><th scope=col>&lt;chr&gt;</th><th scope=col>&lt;chr&gt;</th><th scope=col>&lt;chr&gt;</th><th scope=col>&lt;chr&gt;</th></tr>\n",
       "</thead>\n",
       "<tbody>\n",
       "\t<tr><th scope=row>1</th><td>GENIE-VICC-101416</td><td>Female</td><td>White  </td><td>Non-Spanish/non-Hispanic</td><td>VICC</td><td>19225</td><td>Not Applicable</td><td>2014</td><td>False</td><td>Not Applicable</td><td>GENIE-VICC-101416-unk-1</td><td>52</td><td>MAAP  </td><td>Primary   </td><td>VICC-01-T7 </td><td>Appendiceal Cancer        </td><td>Mucinous Adenocarcinoma of the Appendix</td><td>Primary tumor              </td></tr>\n",
       "\t<tr><th scope=row>2</th><td>GENIE-VICC-102225</td><td>Female</td><td>White  </td><td>Non-Spanish/non-Hispanic</td><td>VICC</td><td>12057</td><td>12487         </td><td>2015</td><td>True </td><td>2017          </td><td>GENIE-VICC-102225-unk-1</td><td>31</td><td>READ  </td><td>Metastasis</td><td>VICC-01-T7 </td><td>Colorectal Cancer         </td><td>Rectal Adenocarcinoma                  </td><td>Metastasis site unspecified</td></tr>\n",
       "\t<tr><th scope=row>3</th><td>GENIE-VICC-102424</td><td>Female</td><td>White  </td><td>Non-Spanish/non-Hispanic</td><td>VICC</td><td>23505</td><td>23625         </td><td>2016</td><td>True </td><td>2016          </td><td>GENIE-VICC-102424-unk-1</td><td>63</td><td>SCCNOS</td><td>Metastasis</td><td>VICC-01-T7 </td><td>Cancer of Unknown Primary </td><td>Squamous Cell Carcinoma, NOS           </td><td>Metastasis site unspecified</td></tr>\n",
       "\t<tr><th scope=row>4</th><td>GENIE-VICC-102966</td><td>Male  </td><td>White  </td><td>Non-Spanish/non-Hispanic</td><td>VICC</td><td>23426</td><td>23430         </td><td>2015</td><td>True </td><td>2015          </td><td>GENIE-VICC-102966-unk-1</td><td>64</td><td>LUAD  </td><td>Metastasis</td><td>VICC-01-T7 </td><td>Non-Small Cell Lung Cancer</td><td>Lung Adenocarcinoma                    </td><td>Metastasis site unspecified</td></tr>\n",
       "\t<tr><th scope=row>5</th><td>GENIE-VICC-103244</td><td>Female</td><td>Unknown</td><td>Unknown                 </td><td>VICC</td><td>18267</td><td>18311         </td><td>2014</td><td>True </td><td>2014          </td><td>GENIE-VICC-103244-unk-1</td><td>50</td><td>IDC   </td><td>Primary   </td><td>VICC-01-T5A</td><td>Breast Cancer             </td><td>Breast Invasive Ductal Carcinoma       </td><td>Primary tumor              </td></tr>\n",
       "\t<tr><th scope=row>6</th><td>GENIE-VICC-103477</td><td>Male  </td><td>Unknown</td><td>Non-Spanish/non-Hispanic</td><td>VICC</td><td>14626</td><td>14646         </td><td>2014</td><td>True </td><td>2014          </td><td>GENIE-VICC-103477-unk-1</td><td>40</td><td>MRLS  </td><td>Primary   </td><td>VICC-01-D2 </td><td>Soft Tissue Sarcoma       </td><td>Myxoid/Round-Cell Liposarcoma          </td><td>Primary tumor              </td></tr>\n",
       "</tbody>\n",
       "</table>\n"
      ],
      "text/latex": [
       "A data.frame: 6 × 18\n",
       "\\begin{tabular}{r|llllllllllllllllll}\n",
       "  & PATIENT\\_ID & SEX & PRIMARY\\_RACE & ETHNICITY & CENTER & INT\\_CONTACT & INT\\_DOD & YEAR\\_CONTACT & DEAD & YEAR\\_DEATH & SAMPLE\\_ID & AGE\\_AT\\_SEQ\\_REPORT & ONCOTREE\\_CODE & SAMPLE\\_TYPE & SEQ\\_ASSAY\\_ID & CANCER\\_TYPE & CANCER\\_TYPE\\_DETAILED & SAMPLE\\_TYPE\\_DETAILED\\\\\n",
       "  & <chr> & <chr> & <chr> & <chr> & <chr> & <chr> & <chr> & <chr> & <chr> & <chr> & <chr> & <chr> & <chr> & <chr> & <chr> & <chr> & <chr> & <chr>\\\\\n",
       "\\hline\n",
       "\t1 & GENIE-VICC-101416 & Female & White   & Non-Spanish/non-Hispanic & VICC & 19225 & Not Applicable & 2014 & False & Not Applicable & GENIE-VICC-101416-unk-1 & 52 & MAAP   & Primary    & VICC-01-T7  & Appendiceal Cancer         & Mucinous Adenocarcinoma of the Appendix & Primary tumor              \\\\\n",
       "\t2 & GENIE-VICC-102225 & Female & White   & Non-Spanish/non-Hispanic & VICC & 12057 & 12487          & 2015 & True  & 2017           & GENIE-VICC-102225-unk-1 & 31 & READ   & Metastasis & VICC-01-T7  & Colorectal Cancer          & Rectal Adenocarcinoma                   & Metastasis site unspecified\\\\\n",
       "\t3 & GENIE-VICC-102424 & Female & White   & Non-Spanish/non-Hispanic & VICC & 23505 & 23625          & 2016 & True  & 2016           & GENIE-VICC-102424-unk-1 & 63 & SCCNOS & Metastasis & VICC-01-T7  & Cancer of Unknown Primary  & Squamous Cell Carcinoma, NOS            & Metastasis site unspecified\\\\\n",
       "\t4 & GENIE-VICC-102966 & Male   & White   & Non-Spanish/non-Hispanic & VICC & 23426 & 23430          & 2015 & True  & 2015           & GENIE-VICC-102966-unk-1 & 64 & LUAD   & Metastasis & VICC-01-T7  & Non-Small Cell Lung Cancer & Lung Adenocarcinoma                     & Metastasis site unspecified\\\\\n",
       "\t5 & GENIE-VICC-103244 & Female & Unknown & Unknown                  & VICC & 18267 & 18311          & 2014 & True  & 2014           & GENIE-VICC-103244-unk-1 & 50 & IDC    & Primary    & VICC-01-T5A & Breast Cancer              & Breast Invasive Ductal Carcinoma        & Primary tumor              \\\\\n",
       "\t6 & GENIE-VICC-103477 & Male   & Unknown & Non-Spanish/non-Hispanic & VICC & 14626 & 14646          & 2014 & True  & 2014           & GENIE-VICC-103477-unk-1 & 40 & MRLS   & Primary    & VICC-01-D2  & Soft Tissue Sarcoma        & Myxoid/Round-Cell Liposarcoma           & Primary tumor              \\\\\n",
       "\\end{tabular}\n"
      ],
      "text/markdown": [
       "\n",
       "A data.frame: 6 × 18\n",
       "\n",
       "| <!--/--> | PATIENT_ID &lt;chr&gt; | SEX &lt;chr&gt; | PRIMARY_RACE &lt;chr&gt; | ETHNICITY &lt;chr&gt; | CENTER &lt;chr&gt; | INT_CONTACT &lt;chr&gt; | INT_DOD &lt;chr&gt; | YEAR_CONTACT &lt;chr&gt; | DEAD &lt;chr&gt; | YEAR_DEATH &lt;chr&gt; | SAMPLE_ID &lt;chr&gt; | AGE_AT_SEQ_REPORT &lt;chr&gt; | ONCOTREE_CODE &lt;chr&gt; | SAMPLE_TYPE &lt;chr&gt; | SEQ_ASSAY_ID &lt;chr&gt; | CANCER_TYPE &lt;chr&gt; | CANCER_TYPE_DETAILED &lt;chr&gt; | SAMPLE_TYPE_DETAILED &lt;chr&gt; |\n",
       "|---|---|---|---|---|---|---|---|---|---|---|---|---|---|---|---|---|---|---|\n",
       "| 1 | GENIE-VICC-101416 | Female | White   | Non-Spanish/non-Hispanic | VICC | 19225 | Not Applicable | 2014 | False | Not Applicable | GENIE-VICC-101416-unk-1 | 52 | MAAP   | Primary    | VICC-01-T7  | Appendiceal Cancer         | Mucinous Adenocarcinoma of the Appendix | Primary tumor               |\n",
       "| 2 | GENIE-VICC-102225 | Female | White   | Non-Spanish/non-Hispanic | VICC | 12057 | 12487          | 2015 | True  | 2017           | GENIE-VICC-102225-unk-1 | 31 | READ   | Metastasis | VICC-01-T7  | Colorectal Cancer          | Rectal Adenocarcinoma                   | Metastasis site unspecified |\n",
       "| 3 | GENIE-VICC-102424 | Female | White   | Non-Spanish/non-Hispanic | VICC | 23505 | 23625          | 2016 | True  | 2016           | GENIE-VICC-102424-unk-1 | 63 | SCCNOS | Metastasis | VICC-01-T7  | Cancer of Unknown Primary  | Squamous Cell Carcinoma, NOS            | Metastasis site unspecified |\n",
       "| 4 | GENIE-VICC-102966 | Male   | White   | Non-Spanish/non-Hispanic | VICC | 23426 | 23430          | 2015 | True  | 2015           | GENIE-VICC-102966-unk-1 | 64 | LUAD   | Metastasis | VICC-01-T7  | Non-Small Cell Lung Cancer | Lung Adenocarcinoma                     | Metastasis site unspecified |\n",
       "| 5 | GENIE-VICC-103244 | Female | Unknown | Unknown                  | VICC | 18267 | 18311          | 2014 | True  | 2014           | GENIE-VICC-103244-unk-1 | 50 | IDC    | Primary    | VICC-01-T5A | Breast Cancer              | Breast Invasive Ductal Carcinoma        | Primary tumor               |\n",
       "| 6 | GENIE-VICC-103477 | Male   | Unknown | Non-Spanish/non-Hispanic | VICC | 14626 | 14646          | 2014 | True  | 2014           | GENIE-VICC-103477-unk-1 | 40 | MRLS   | Primary    | VICC-01-D2  | Soft Tissue Sarcoma        | Myxoid/Round-Cell Liposarcoma           | Primary tumor               |\n",
       "\n"
      ],
      "text/plain": [
       "  PATIENT_ID        SEX    PRIMARY_RACE ETHNICITY                CENTER\n",
       "1 GENIE-VICC-101416 Female White        Non-Spanish/non-Hispanic VICC  \n",
       "2 GENIE-VICC-102225 Female White        Non-Spanish/non-Hispanic VICC  \n",
       "3 GENIE-VICC-102424 Female White        Non-Spanish/non-Hispanic VICC  \n",
       "4 GENIE-VICC-102966 Male   White        Non-Spanish/non-Hispanic VICC  \n",
       "5 GENIE-VICC-103244 Female Unknown      Unknown                  VICC  \n",
       "6 GENIE-VICC-103477 Male   Unknown      Non-Spanish/non-Hispanic VICC  \n",
       "  INT_CONTACT INT_DOD        YEAR_CONTACT DEAD  YEAR_DEATH    \n",
       "1 19225       Not Applicable 2014         False Not Applicable\n",
       "2 12057       12487          2015         True  2017          \n",
       "3 23505       23625          2016         True  2016          \n",
       "4 23426       23430          2015         True  2015          \n",
       "5 18267       18311          2014         True  2014          \n",
       "6 14626       14646          2014         True  2014          \n",
       "  SAMPLE_ID               AGE_AT_SEQ_REPORT ONCOTREE_CODE SAMPLE_TYPE\n",
       "1 GENIE-VICC-101416-unk-1 52                MAAP          Primary    \n",
       "2 GENIE-VICC-102225-unk-1 31                READ          Metastasis \n",
       "3 GENIE-VICC-102424-unk-1 63                SCCNOS        Metastasis \n",
       "4 GENIE-VICC-102966-unk-1 64                LUAD          Metastasis \n",
       "5 GENIE-VICC-103244-unk-1 50                IDC           Primary    \n",
       "6 GENIE-VICC-103477-unk-1 40                MRLS          Primary    \n",
       "  SEQ_ASSAY_ID CANCER_TYPE               \n",
       "1 VICC-01-T7   Appendiceal Cancer        \n",
       "2 VICC-01-T7   Colorectal Cancer         \n",
       "3 VICC-01-T7   Cancer of Unknown Primary \n",
       "4 VICC-01-T7   Non-Small Cell Lung Cancer\n",
       "5 VICC-01-T5A  Breast Cancer             \n",
       "6 VICC-01-D2   Soft Tissue Sarcoma       \n",
       "  CANCER_TYPE_DETAILED                    SAMPLE_TYPE_DETAILED       \n",
       "1 Mucinous Adenocarcinoma of the Appendix Primary tumor              \n",
       "2 Rectal Adenocarcinoma                   Metastasis site unspecified\n",
       "3 Squamous Cell Carcinoma, NOS            Metastasis site unspecified\n",
       "4 Lung Adenocarcinoma                     Metastasis site unspecified\n",
       "5 Breast Invasive Ductal Carcinoma        Primary tumor              \n",
       "6 Myxoid/Round-Cell Liposarcoma           Primary tumor              "
      ]
     },
     "metadata": {},
     "output_type": "display_data"
    }
   ],
   "source": [
    "head(genie_metadata)"
   ]
  },
  {
   "cell_type": "code",
   "execution_count": 49,
   "id": "87ceee76-a630-403b-a832-c09be9be087c",
   "metadata": {
    "scrolled": true
   },
   "outputs": [],
   "source": [
    "mapped_df<-(genie_metadata %>% count(CENTER,SEQ_ASSAY_ID))"
   ]
  },
  {
   "cell_type": "code",
   "execution_count": 50,
   "id": "2daf726e-5157-4a8d-ab8c-ede03a8cc861",
   "metadata": {
    "scrolled": true
   },
   "outputs": [
    {
     "data": {
      "text/html": [
       "<table class=\"dataframe\">\n",
       "<caption>A data.frame: 6 × 3</caption>\n",
       "<thead>\n",
       "\t<tr><th></th><th scope=col>CENTER</th><th scope=col>SEQ_ASSAY_ID</th><th scope=col>n</th></tr>\n",
       "\t<tr><th></th><th scope=col>&lt;chr&gt;</th><th scope=col>&lt;chr&gt;</th><th scope=col>&lt;int&gt;</th></tr>\n",
       "</thead>\n",
       "<tbody>\n",
       "\t<tr><th scope=row>1</th><td>CHOP</td><td>CHOP-COMPT   </td><td>320</td></tr>\n",
       "\t<tr><th scope=row>2</th><td>CHOP</td><td>CHOP-COMPT-V2</td><td>  7</td></tr>\n",
       "\t<tr><th scope=row>3</th><td>CHOP</td><td>CHOP-FUSIP   </td><td>465</td></tr>\n",
       "\t<tr><th scope=row>4</th><td>CHOP</td><td>CHOP-HEMEP   </td><td>215</td></tr>\n",
       "\t<tr><th scope=row>5</th><td>CHOP</td><td>CHOP-STNGS   </td><td>601</td></tr>\n",
       "\t<tr><th scope=row>6</th><td>CHOP</td><td>CHOP-STNGS-V2</td><td>  4</td></tr>\n",
       "</tbody>\n",
       "</table>\n"
      ],
      "text/latex": [
       "A data.frame: 6 × 3\n",
       "\\begin{tabular}{r|lll}\n",
       "  & CENTER & SEQ\\_ASSAY\\_ID & n\\\\\n",
       "  & <chr> & <chr> & <int>\\\\\n",
       "\\hline\n",
       "\t1 & CHOP & CHOP-COMPT    & 320\\\\\n",
       "\t2 & CHOP & CHOP-COMPT-V2 &   7\\\\\n",
       "\t3 & CHOP & CHOP-FUSIP    & 465\\\\\n",
       "\t4 & CHOP & CHOP-HEMEP    & 215\\\\\n",
       "\t5 & CHOP & CHOP-STNGS    & 601\\\\\n",
       "\t6 & CHOP & CHOP-STNGS-V2 &   4\\\\\n",
       "\\end{tabular}\n"
      ],
      "text/markdown": [
       "\n",
       "A data.frame: 6 × 3\n",
       "\n",
       "| <!--/--> | CENTER &lt;chr&gt; | SEQ_ASSAY_ID &lt;chr&gt; | n &lt;int&gt; |\n",
       "|---|---|---|---|\n",
       "| 1 | CHOP | CHOP-COMPT    | 320 |\n",
       "| 2 | CHOP | CHOP-COMPT-V2 |   7 |\n",
       "| 3 | CHOP | CHOP-FUSIP    | 465 |\n",
       "| 4 | CHOP | CHOP-HEMEP    | 215 |\n",
       "| 5 | CHOP | CHOP-STNGS    | 601 |\n",
       "| 6 | CHOP | CHOP-STNGS-V2 |   4 |\n",
       "\n"
      ],
      "text/plain": [
       "  CENTER SEQ_ASSAY_ID  n  \n",
       "1 CHOP   CHOP-COMPT    320\n",
       "2 CHOP   CHOP-COMPT-V2   7\n",
       "3 CHOP   CHOP-FUSIP    465\n",
       "4 CHOP   CHOP-HEMEP    215\n",
       "5 CHOP   CHOP-STNGS    601\n",
       "6 CHOP   CHOP-STNGS-V2   4"
      ]
     },
     "metadata": {},
     "output_type": "display_data"
    }
   ],
   "source": [
    "head(mapped_df)"
   ]
  },
  {
   "cell_type": "code",
   "execution_count": 73,
   "id": "9615356e-8e5c-42b9-a5bc-30f6c5c58a1e",
   "metadata": {
    "scrolled": true
   },
   "outputs": [
    {
     "name": "stdout",
     "output_type": "stream",
     "text": [
      "[1] \"CHOP\"\n",
      "[1] \"COLU\"\n",
      "[1] \"CRUK\"\n",
      "[1] \"DFCI\"\n",
      "[1] \"DUKE\"\n",
      "[1] \"GRCC\"\n",
      "[1] \"JHU\"\n",
      "[1] \"MDA\"\n",
      "[1] \"MSK\"\n",
      "[1] \"NKI\"\n",
      "[1] \"PROV\"\n",
      "[1] \"SCI\"\n",
      "[1] \"UCHI\"\n",
      "[1] \"UCSF\"\n",
      "[1] \"UHN\"\n",
      "[1] \"VHIO\"\n",
      "[1] \"VICC\"\n",
      "[1] \"WAKE\"\n",
      "[1] \"YALE\"\n"
     ]
    }
   ],
   "source": [
    "for(i in unique(mapped_df$CENTER)){\n",
    "    print(i)\n",
    "    dir.create(file.path('/mnt/ndata/arvind/co_mutation_project/submission_work/data/supplementary_data/', i), showWarnings = FALSE)\n",
    "}\n"
   ]
  },
  {
   "cell_type": "code",
   "execution_count": 58,
   "id": "ec39fca7-0923-46ed-bcd0-34359a639dce",
   "metadata": {
    "scrolled": true
   },
   "outputs": [
    {
     "data": {
      "text/html": [
       "<style>\n",
       ".list-inline {list-style: none; margin:0; padding: 0}\n",
       ".list-inline>li {display: inline-block}\n",
       ".list-inline>li:not(:last-child)::after {content: \"\\00b7\"; padding: 0 .5ex}\n",
       "</style>\n",
       "<ol class=list-inline><li>'CHOP-COMPT'</li><li>'CHOP-COMPT-V2'</li><li>'CHOP-FUSIP'</li><li>'CHOP-HEMEP'</li><li>'CHOP-STNGS'</li><li>'CHOP-STNGS-V2'</li><li>'COLU-CCCP-V1'</li><li>'COLU-CCCP-V2'</li><li>'COLU-CSTP-V1'</li><li>'COLU-CSTP-V2'</li><li>'COLU-TSACP-V1'</li><li>'CRUK-TS'</li><li>'DFCI-ONCOPANEL-1'</li><li>'DFCI-ONCOPANEL-2'</li><li>'DFCI-ONCOPANEL-3'</li><li>'DFCI-ONCOPANEL-3.1'</li><li>'DUKE-F1-DX1'</li><li>'DUKE-F1-T5A'</li><li>'DUKE-F1-T7'</li><li>'GRCC-CHP2'</li><li>'GRCC-CP1'</li><li>'GRCC-MOSC3'</li><li>'GRCC-MOSC4'</li><li>'GRCC-OCAV3'</li><li>'GRCC-SAFIR02'</li><li>'JHU-500STP'</li><li>'JHU-50GP'</li><li>'MDA-409-V1'</li><li>'MDA-46-V1'</li><li>'MDA-50-V1'</li><li>'MSK-IMPACT-HEME-400'</li><li>'MSK-IMPACT-HEME-468'</li><li>'MSK-IMPACT341'</li><li>'MSK-IMPACT410'</li><li>'MSK-IMPACT468'</li><li>'MSK-IMPACT505'</li><li>'NKI-CHP-V2-PLUS'</li><li>'NKI-CHPV2-NGS'</li><li>'NKI-CHPV2-SOCV2-NGS'</li><li>'NKI-PATH-NGS'</li><li>'NKI-TSACP-MISEQ-NGS'</li><li>'PROV-FOCUS-V1'</li><li>'PROV-TRISEQ-V2'</li><li>'PROV-TSO500HT-V2'</li><li>'PROV-TST170-V1'</li><li>'SCI-PMP68-V1'</li><li>'UCHI-ONCOHEME55-V1'</li><li>'UCHI-ONCOSCREEN50-V1'</li><li>'UCSF-IDTV5-TN'</li><li>'UCSF-IDTV5-TO'</li><li>'UCSF-NIMV4-TN'</li><li>'UCSF-NIMV4-TO'</li><li>'UHN-48-V1'</li><li>'UHN-50-V2'</li><li>'UHN-54-V1'</li><li>'UHN-555-BLADDER-V1'</li><li>'UHN-555-BREAST-V1'</li><li>'UHN-555-GLIOMA-V1'</li><li>'UHN-555-GYNE-V1'</li><li>'UHN-555-HEAD-NECK-V1'</li><li>'UHN-555-LUNG-V1'</li><li>'UHN-555-MELANOMA-V1'</li><li>'UHN-555-PAN-GI-V1'</li><li>'UHN-555-PROSTATE-V1'</li><li>'UHN-555-RENAL-V1'</li><li>'UHN-555-V1'</li><li>'UHN-555-V2'</li><li>'UHN-OCA-V3'</li><li>'UHN-TSO500-V1'</li><li>'VHIO-300'</li><li>'VHIO-BILIARY-V01'</li><li>'VHIO-BRAIN-V01'</li><li>'VHIO-BREAST-V01'</li><li>'VHIO-BREAST-V02'</li><li>'VHIO-COLORECTAL-V01'</li><li>'VHIO-ENDOMETRIUM-V01'</li><li>'VHIO-GASTRIC-V01'</li><li>'VHIO-GENERAL-V01'</li><li>'VHIO-HEAD-NECK-V01'</li><li>'VHIO-KIDNEY-V01'</li><li>'VHIO-LUNG-V01'</li><li>'VHIO-OVARY-V01'</li><li>'VHIO-PANCREAS-V01'</li><li>'VHIO-PAROTIDE-V01'</li><li>'VHIO-SKIN-V01'</li><li>'VHIO-URINARY-BLADDER-V01'</li><li>'VICC-01-D2'</li><li>'VICC-01-DX1'</li><li>'VICC-01-MYELOID'</li><li>'VICC-01-SOLIDTUMOR'</li><li>'VICC-01-T4B'</li><li>'VICC-01-T5A'</li><li>'VICC-01-T6B'</li><li>'VICC-01-T7'</li><li>'VICC-02-XTV2'</li><li>'VICC-02-XTV3'</li><li>'VICC-02-XTV4'</li><li>'WAKE-CA-01'</li><li>'WAKE-CA-NGSQ3'</li><li>'WAKE-CLINICAL-AB1'</li><li>'WAKE-CLINICAL-AB2'</li><li>'WAKE-CLINICAL-AB3'</li><li>'WAKE-CLINICAL-CF2'</li><li>'WAKE-CLINICAL-CF3'</li><li>'WAKE-CLINICAL-D2'</li><li>'WAKE-CLINICAL-DX1'</li><li>'WAKE-CLINICAL-R2'</li><li>'WAKE-CLINICAL-R2D2'</li><li>'WAKE-CLINICAL-T5A'</li><li>'WAKE-CLINICAL-T7'</li><li>'YALE-HSM-V1'</li><li>'YALE-OCP-V2'</li><li>'YALE-OCP-V3'</li></ol>\n"
      ],
      "text/latex": [
       "\\begin{enumerate*}\n",
       "\\item 'CHOP-COMPT'\n",
       "\\item 'CHOP-COMPT-V2'\n",
       "\\item 'CHOP-FUSIP'\n",
       "\\item 'CHOP-HEMEP'\n",
       "\\item 'CHOP-STNGS'\n",
       "\\item 'CHOP-STNGS-V2'\n",
       "\\item 'COLU-CCCP-V1'\n",
       "\\item 'COLU-CCCP-V2'\n",
       "\\item 'COLU-CSTP-V1'\n",
       "\\item 'COLU-CSTP-V2'\n",
       "\\item 'COLU-TSACP-V1'\n",
       "\\item 'CRUK-TS'\n",
       "\\item 'DFCI-ONCOPANEL-1'\n",
       "\\item 'DFCI-ONCOPANEL-2'\n",
       "\\item 'DFCI-ONCOPANEL-3'\n",
       "\\item 'DFCI-ONCOPANEL-3.1'\n",
       "\\item 'DUKE-F1-DX1'\n",
       "\\item 'DUKE-F1-T5A'\n",
       "\\item 'DUKE-F1-T7'\n",
       "\\item 'GRCC-CHP2'\n",
       "\\item 'GRCC-CP1'\n",
       "\\item 'GRCC-MOSC3'\n",
       "\\item 'GRCC-MOSC4'\n",
       "\\item 'GRCC-OCAV3'\n",
       "\\item 'GRCC-SAFIR02'\n",
       "\\item 'JHU-500STP'\n",
       "\\item 'JHU-50GP'\n",
       "\\item 'MDA-409-V1'\n",
       "\\item 'MDA-46-V1'\n",
       "\\item 'MDA-50-V1'\n",
       "\\item 'MSK-IMPACT-HEME-400'\n",
       "\\item 'MSK-IMPACT-HEME-468'\n",
       "\\item 'MSK-IMPACT341'\n",
       "\\item 'MSK-IMPACT410'\n",
       "\\item 'MSK-IMPACT468'\n",
       "\\item 'MSK-IMPACT505'\n",
       "\\item 'NKI-CHP-V2-PLUS'\n",
       "\\item 'NKI-CHPV2-NGS'\n",
       "\\item 'NKI-CHPV2-SOCV2-NGS'\n",
       "\\item 'NKI-PATH-NGS'\n",
       "\\item 'NKI-TSACP-MISEQ-NGS'\n",
       "\\item 'PROV-FOCUS-V1'\n",
       "\\item 'PROV-TRISEQ-V2'\n",
       "\\item 'PROV-TSO500HT-V2'\n",
       "\\item 'PROV-TST170-V1'\n",
       "\\item 'SCI-PMP68-V1'\n",
       "\\item 'UCHI-ONCOHEME55-V1'\n",
       "\\item 'UCHI-ONCOSCREEN50-V1'\n",
       "\\item 'UCSF-IDTV5-TN'\n",
       "\\item 'UCSF-IDTV5-TO'\n",
       "\\item 'UCSF-NIMV4-TN'\n",
       "\\item 'UCSF-NIMV4-TO'\n",
       "\\item 'UHN-48-V1'\n",
       "\\item 'UHN-50-V2'\n",
       "\\item 'UHN-54-V1'\n",
       "\\item 'UHN-555-BLADDER-V1'\n",
       "\\item 'UHN-555-BREAST-V1'\n",
       "\\item 'UHN-555-GLIOMA-V1'\n",
       "\\item 'UHN-555-GYNE-V1'\n",
       "\\item 'UHN-555-HEAD-NECK-V1'\n",
       "\\item 'UHN-555-LUNG-V1'\n",
       "\\item 'UHN-555-MELANOMA-V1'\n",
       "\\item 'UHN-555-PAN-GI-V1'\n",
       "\\item 'UHN-555-PROSTATE-V1'\n",
       "\\item 'UHN-555-RENAL-V1'\n",
       "\\item 'UHN-555-V1'\n",
       "\\item 'UHN-555-V2'\n",
       "\\item 'UHN-OCA-V3'\n",
       "\\item 'UHN-TSO500-V1'\n",
       "\\item 'VHIO-300'\n",
       "\\item 'VHIO-BILIARY-V01'\n",
       "\\item 'VHIO-BRAIN-V01'\n",
       "\\item 'VHIO-BREAST-V01'\n",
       "\\item 'VHIO-BREAST-V02'\n",
       "\\item 'VHIO-COLORECTAL-V01'\n",
       "\\item 'VHIO-ENDOMETRIUM-V01'\n",
       "\\item 'VHIO-GASTRIC-V01'\n",
       "\\item 'VHIO-GENERAL-V01'\n",
       "\\item 'VHIO-HEAD-NECK-V01'\n",
       "\\item 'VHIO-KIDNEY-V01'\n",
       "\\item 'VHIO-LUNG-V01'\n",
       "\\item 'VHIO-OVARY-V01'\n",
       "\\item 'VHIO-PANCREAS-V01'\n",
       "\\item 'VHIO-PAROTIDE-V01'\n",
       "\\item 'VHIO-SKIN-V01'\n",
       "\\item 'VHIO-URINARY-BLADDER-V01'\n",
       "\\item 'VICC-01-D2'\n",
       "\\item 'VICC-01-DX1'\n",
       "\\item 'VICC-01-MYELOID'\n",
       "\\item 'VICC-01-SOLIDTUMOR'\n",
       "\\item 'VICC-01-T4B'\n",
       "\\item 'VICC-01-T5A'\n",
       "\\item 'VICC-01-T6B'\n",
       "\\item 'VICC-01-T7'\n",
       "\\item 'VICC-02-XTV2'\n",
       "\\item 'VICC-02-XTV3'\n",
       "\\item 'VICC-02-XTV4'\n",
       "\\item 'WAKE-CA-01'\n",
       "\\item 'WAKE-CA-NGSQ3'\n",
       "\\item 'WAKE-CLINICAL-AB1'\n",
       "\\item 'WAKE-CLINICAL-AB2'\n",
       "\\item 'WAKE-CLINICAL-AB3'\n",
       "\\item 'WAKE-CLINICAL-CF2'\n",
       "\\item 'WAKE-CLINICAL-CF3'\n",
       "\\item 'WAKE-CLINICAL-D2'\n",
       "\\item 'WAKE-CLINICAL-DX1'\n",
       "\\item 'WAKE-CLINICAL-R2'\n",
       "\\item 'WAKE-CLINICAL-R2D2'\n",
       "\\item 'WAKE-CLINICAL-T5A'\n",
       "\\item 'WAKE-CLINICAL-T7'\n",
       "\\item 'YALE-HSM-V1'\n",
       "\\item 'YALE-OCP-V2'\n",
       "\\item 'YALE-OCP-V3'\n",
       "\\end{enumerate*}\n"
      ],
      "text/markdown": [
       "1. 'CHOP-COMPT'\n",
       "2. 'CHOP-COMPT-V2'\n",
       "3. 'CHOP-FUSIP'\n",
       "4. 'CHOP-HEMEP'\n",
       "5. 'CHOP-STNGS'\n",
       "6. 'CHOP-STNGS-V2'\n",
       "7. 'COLU-CCCP-V1'\n",
       "8. 'COLU-CCCP-V2'\n",
       "9. 'COLU-CSTP-V1'\n",
       "10. 'COLU-CSTP-V2'\n",
       "11. 'COLU-TSACP-V1'\n",
       "12. 'CRUK-TS'\n",
       "13. 'DFCI-ONCOPANEL-1'\n",
       "14. 'DFCI-ONCOPANEL-2'\n",
       "15. 'DFCI-ONCOPANEL-3'\n",
       "16. 'DFCI-ONCOPANEL-3.1'\n",
       "17. 'DUKE-F1-DX1'\n",
       "18. 'DUKE-F1-T5A'\n",
       "19. 'DUKE-F1-T7'\n",
       "20. 'GRCC-CHP2'\n",
       "21. 'GRCC-CP1'\n",
       "22. 'GRCC-MOSC3'\n",
       "23. 'GRCC-MOSC4'\n",
       "24. 'GRCC-OCAV3'\n",
       "25. 'GRCC-SAFIR02'\n",
       "26. 'JHU-500STP'\n",
       "27. 'JHU-50GP'\n",
       "28. 'MDA-409-V1'\n",
       "29. 'MDA-46-V1'\n",
       "30. 'MDA-50-V1'\n",
       "31. 'MSK-IMPACT-HEME-400'\n",
       "32. 'MSK-IMPACT-HEME-468'\n",
       "33. 'MSK-IMPACT341'\n",
       "34. 'MSK-IMPACT410'\n",
       "35. 'MSK-IMPACT468'\n",
       "36. 'MSK-IMPACT505'\n",
       "37. 'NKI-CHP-V2-PLUS'\n",
       "38. 'NKI-CHPV2-NGS'\n",
       "39. 'NKI-CHPV2-SOCV2-NGS'\n",
       "40. 'NKI-PATH-NGS'\n",
       "41. 'NKI-TSACP-MISEQ-NGS'\n",
       "42. 'PROV-FOCUS-V1'\n",
       "43. 'PROV-TRISEQ-V2'\n",
       "44. 'PROV-TSO500HT-V2'\n",
       "45. 'PROV-TST170-V1'\n",
       "46. 'SCI-PMP68-V1'\n",
       "47. 'UCHI-ONCOHEME55-V1'\n",
       "48. 'UCHI-ONCOSCREEN50-V1'\n",
       "49. 'UCSF-IDTV5-TN'\n",
       "50. 'UCSF-IDTV5-TO'\n",
       "51. 'UCSF-NIMV4-TN'\n",
       "52. 'UCSF-NIMV4-TO'\n",
       "53. 'UHN-48-V1'\n",
       "54. 'UHN-50-V2'\n",
       "55. 'UHN-54-V1'\n",
       "56. 'UHN-555-BLADDER-V1'\n",
       "57. 'UHN-555-BREAST-V1'\n",
       "58. 'UHN-555-GLIOMA-V1'\n",
       "59. 'UHN-555-GYNE-V1'\n",
       "60. 'UHN-555-HEAD-NECK-V1'\n",
       "61. 'UHN-555-LUNG-V1'\n",
       "62. 'UHN-555-MELANOMA-V1'\n",
       "63. 'UHN-555-PAN-GI-V1'\n",
       "64. 'UHN-555-PROSTATE-V1'\n",
       "65. 'UHN-555-RENAL-V1'\n",
       "66. 'UHN-555-V1'\n",
       "67. 'UHN-555-V2'\n",
       "68. 'UHN-OCA-V3'\n",
       "69. 'UHN-TSO500-V1'\n",
       "70. 'VHIO-300'\n",
       "71. 'VHIO-BILIARY-V01'\n",
       "72. 'VHIO-BRAIN-V01'\n",
       "73. 'VHIO-BREAST-V01'\n",
       "74. 'VHIO-BREAST-V02'\n",
       "75. 'VHIO-COLORECTAL-V01'\n",
       "76. 'VHIO-ENDOMETRIUM-V01'\n",
       "77. 'VHIO-GASTRIC-V01'\n",
       "78. 'VHIO-GENERAL-V01'\n",
       "79. 'VHIO-HEAD-NECK-V01'\n",
       "80. 'VHIO-KIDNEY-V01'\n",
       "81. 'VHIO-LUNG-V01'\n",
       "82. 'VHIO-OVARY-V01'\n",
       "83. 'VHIO-PANCREAS-V01'\n",
       "84. 'VHIO-PAROTIDE-V01'\n",
       "85. 'VHIO-SKIN-V01'\n",
       "86. 'VHIO-URINARY-BLADDER-V01'\n",
       "87. 'VICC-01-D2'\n",
       "88. 'VICC-01-DX1'\n",
       "89. 'VICC-01-MYELOID'\n",
       "90. 'VICC-01-SOLIDTUMOR'\n",
       "91. 'VICC-01-T4B'\n",
       "92. 'VICC-01-T5A'\n",
       "93. 'VICC-01-T6B'\n",
       "94. 'VICC-01-T7'\n",
       "95. 'VICC-02-XTV2'\n",
       "96. 'VICC-02-XTV3'\n",
       "97. 'VICC-02-XTV4'\n",
       "98. 'WAKE-CA-01'\n",
       "99. 'WAKE-CA-NGSQ3'\n",
       "100. 'WAKE-CLINICAL-AB1'\n",
       "101. 'WAKE-CLINICAL-AB2'\n",
       "102. 'WAKE-CLINICAL-AB3'\n",
       "103. 'WAKE-CLINICAL-CF2'\n",
       "104. 'WAKE-CLINICAL-CF3'\n",
       "105. 'WAKE-CLINICAL-D2'\n",
       "106. 'WAKE-CLINICAL-DX1'\n",
       "107. 'WAKE-CLINICAL-R2'\n",
       "108. 'WAKE-CLINICAL-R2D2'\n",
       "109. 'WAKE-CLINICAL-T5A'\n",
       "110. 'WAKE-CLINICAL-T7'\n",
       "111. 'YALE-HSM-V1'\n",
       "112. 'YALE-OCP-V2'\n",
       "113. 'YALE-OCP-V3'\n",
       "\n",
       "\n"
      ],
      "text/plain": [
       "  [1] \"CHOP-COMPT\"               \"CHOP-COMPT-V2\"           \n",
       "  [3] \"CHOP-FUSIP\"               \"CHOP-HEMEP\"              \n",
       "  [5] \"CHOP-STNGS\"               \"CHOP-STNGS-V2\"           \n",
       "  [7] \"COLU-CCCP-V1\"             \"COLU-CCCP-V2\"            \n",
       "  [9] \"COLU-CSTP-V1\"             \"COLU-CSTP-V2\"            \n",
       " [11] \"COLU-TSACP-V1\"            \"CRUK-TS\"                 \n",
       " [13] \"DFCI-ONCOPANEL-1\"         \"DFCI-ONCOPANEL-2\"        \n",
       " [15] \"DFCI-ONCOPANEL-3\"         \"DFCI-ONCOPANEL-3.1\"      \n",
       " [17] \"DUKE-F1-DX1\"              \"DUKE-F1-T5A\"             \n",
       " [19] \"DUKE-F1-T7\"               \"GRCC-CHP2\"               \n",
       " [21] \"GRCC-CP1\"                 \"GRCC-MOSC3\"              \n",
       " [23] \"GRCC-MOSC4\"               \"GRCC-OCAV3\"              \n",
       " [25] \"GRCC-SAFIR02\"             \"JHU-500STP\"              \n",
       " [27] \"JHU-50GP\"                 \"MDA-409-V1\"              \n",
       " [29] \"MDA-46-V1\"                \"MDA-50-V1\"               \n",
       " [31] \"MSK-IMPACT-HEME-400\"      \"MSK-IMPACT-HEME-468\"     \n",
       " [33] \"MSK-IMPACT341\"            \"MSK-IMPACT410\"           \n",
       " [35] \"MSK-IMPACT468\"            \"MSK-IMPACT505\"           \n",
       " [37] \"NKI-CHP-V2-PLUS\"          \"NKI-CHPV2-NGS\"           \n",
       " [39] \"NKI-CHPV2-SOCV2-NGS\"      \"NKI-PATH-NGS\"            \n",
       " [41] \"NKI-TSACP-MISEQ-NGS\"      \"PROV-FOCUS-V1\"           \n",
       " [43] \"PROV-TRISEQ-V2\"           \"PROV-TSO500HT-V2\"        \n",
       " [45] \"PROV-TST170-V1\"           \"SCI-PMP68-V1\"            \n",
       " [47] \"UCHI-ONCOHEME55-V1\"       \"UCHI-ONCOSCREEN50-V1\"    \n",
       " [49] \"UCSF-IDTV5-TN\"            \"UCSF-IDTV5-TO\"           \n",
       " [51] \"UCSF-NIMV4-TN\"            \"UCSF-NIMV4-TO\"           \n",
       " [53] \"UHN-48-V1\"                \"UHN-50-V2\"               \n",
       " [55] \"UHN-54-V1\"                \"UHN-555-BLADDER-V1\"      \n",
       " [57] \"UHN-555-BREAST-V1\"        \"UHN-555-GLIOMA-V1\"       \n",
       " [59] \"UHN-555-GYNE-V1\"          \"UHN-555-HEAD-NECK-V1\"    \n",
       " [61] \"UHN-555-LUNG-V1\"          \"UHN-555-MELANOMA-V1\"     \n",
       " [63] \"UHN-555-PAN-GI-V1\"        \"UHN-555-PROSTATE-V1\"     \n",
       " [65] \"UHN-555-RENAL-V1\"         \"UHN-555-V1\"              \n",
       " [67] \"UHN-555-V2\"               \"UHN-OCA-V3\"              \n",
       " [69] \"UHN-TSO500-V1\"            \"VHIO-300\"                \n",
       " [71] \"VHIO-BILIARY-V01\"         \"VHIO-BRAIN-V01\"          \n",
       " [73] \"VHIO-BREAST-V01\"          \"VHIO-BREAST-V02\"         \n",
       " [75] \"VHIO-COLORECTAL-V01\"      \"VHIO-ENDOMETRIUM-V01\"    \n",
       " [77] \"VHIO-GASTRIC-V01\"         \"VHIO-GENERAL-V01\"        \n",
       " [79] \"VHIO-HEAD-NECK-V01\"       \"VHIO-KIDNEY-V01\"         \n",
       " [81] \"VHIO-LUNG-V01\"            \"VHIO-OVARY-V01\"          \n",
       " [83] \"VHIO-PANCREAS-V01\"        \"VHIO-PAROTIDE-V01\"       \n",
       " [85] \"VHIO-SKIN-V01\"            \"VHIO-URINARY-BLADDER-V01\"\n",
       " [87] \"VICC-01-D2\"               \"VICC-01-DX1\"             \n",
       " [89] \"VICC-01-MYELOID\"          \"VICC-01-SOLIDTUMOR\"      \n",
       " [91] \"VICC-01-T4B\"              \"VICC-01-T5A\"             \n",
       " [93] \"VICC-01-T6B\"              \"VICC-01-T7\"              \n",
       " [95] \"VICC-02-XTV2\"             \"VICC-02-XTV3\"            \n",
       " [97] \"VICC-02-XTV4\"             \"WAKE-CA-01\"              \n",
       " [99] \"WAKE-CA-NGSQ3\"            \"WAKE-CLINICAL-AB1\"       \n",
       "[101] \"WAKE-CLINICAL-AB2\"        \"WAKE-CLINICAL-AB3\"       \n",
       "[103] \"WAKE-CLINICAL-CF2\"        \"WAKE-CLINICAL-CF3\"       \n",
       "[105] \"WAKE-CLINICAL-D2\"         \"WAKE-CLINICAL-DX1\"       \n",
       "[107] \"WAKE-CLINICAL-R2\"         \"WAKE-CLINICAL-R2D2\"      \n",
       "[109] \"WAKE-CLINICAL-T5A\"        \"WAKE-CLINICAL-T7\"        \n",
       "[111] \"YALE-HSM-V1\"              \"YALE-OCP-V2\"             \n",
       "[113] \"YALE-OCP-V3\"             "
      ]
     },
     "metadata": {},
     "output_type": "display_data"
    }
   ],
   "source": [
    "names(element_list_oncokb)"
   ]
  },
  {
   "cell_type": "code",
   "execution_count": 72,
   "id": "afe98683-c299-4bf5-adea-9e896fb22048",
   "metadata": {
    "scrolled": true
   },
   "outputs": [
    {
     "data": {
      "text/html": [
       "<style>\n",
       ".list-inline {list-style: none; margin:0; padding: 0}\n",
       ".list-inline>li {display: inline-block}\n",
       ".list-inline>li:not(:last-child)::after {content: \"\\00b7\"; padding: 0 .5ex}\n",
       "</style>\n",
       "<ol class=list-inline><li>171195</li><li>396</li></ol>\n"
      ],
      "text/latex": [
       "\\begin{enumerate*}\n",
       "\\item 171195\n",
       "\\item 396\n",
       "\\end{enumerate*}\n"
      ],
      "text/markdown": [
       "1. 171195\n",
       "2. 396\n",
       "\n",
       "\n"
      ],
      "text/plain": [
       "[1] 171195    396"
      ]
     },
     "metadata": {},
     "output_type": "display_data"
    }
   ],
   "source": [
    "dim(missesne_data$gam)"
   ]
  },
  {
   "cell_type": "code",
   "execution_count": 71,
   "id": "3c328055-038f-4b6e-9aaf-25e648adc11c",
   "metadata": {
    "scrolled": true
   },
   "outputs": [
    {
     "data": {
      "text/html": [
       "198041"
      ],
      "text/latex": [
       "198041"
      ],
      "text/markdown": [
       "198041"
      ],
      "text/plain": [
       "[1] 198041"
      ]
     },
     "metadata": {},
     "output_type": "display_data"
    }
   ],
   "source": [
    "length(unique(genie_metadata$SAMPLE_ID))"
   ]
  },
  {
   "cell_type": "code",
   "execution_count": 74,
   "id": "1fcd2613-6b02-4a0a-9167-f06c8c5f1bdb",
   "metadata": {
    "scrolled": true
   },
   "outputs": [
    {
     "name": "stdout",
     "output_type": "stream",
     "text": [
      "CHOP-COMPT[1] 316 189\n",
      "[1] 316 189\n",
      "[1] 101\n",
      "[1] 187\n",
      "\n",
      "CHOP-COMPT-V2[1]   7 189\n",
      "[1]   7 189\n",
      "[1] 5\n",
      "[1] 1\n",
      "\n",
      "CHOP-FUSIP[1]  0 39\n",
      "[1]  0 39\n",
      "[1] 0\n",
      "[1] 0\n",
      "\n",
      "CHOP-HEMEP[1] 198  81\n",
      "[1] 198  81\n",
      "[1] 120\n",
      "[1] 124\n",
      "\n",
      "CHOP-STNGS[1] 584 189\n",
      "[1] 584 189\n",
      "[1] 212\n",
      "[1] 391\n",
      "\n",
      "CHOP-STNGS-V2[1]   4 190\n",
      "[1]   4 190\n",
      "[1] 1\n",
      "[1] 0\n",
      "\n",
      "COLU-CCCP-V1[1] 769 273\n",
      "[1] 769 273\n",
      "[1] 665\n",
      "[1] 1898\n",
      "\n",
      "COLU-CCCP-V2[1]   3 314\n",
      "[1]   3 314\n",
      "[1] 5\n",
      "[1] 14\n",
      "\n",
      "COLU-CSTP-V1[1] 1846   41\n",
      "[1] 1846   41\n",
      "[1] 2217\n",
      "[1] 959\n",
      "\n",
      "COLU-CSTP-V2[1] 1166   47\n",
      "[1] 1166   47\n",
      "[1] 1576\n",
      "[1] 664\n",
      "\n",
      "COLU-TSACP-V1[1] 572  47\n",
      "[1] 572  47\n",
      "[1] 668\n",
      "[1] 862\n",
      "\n",
      "CRUK-TS[1] 2035   69\n",
      "[1] 2035   69\n",
      "[1] 1394\n",
      "[1] 1823\n",
      "\n",
      "DFCI-ONCOPANEL-1[1] 2976  183\n",
      "[1] 2976  183\n",
      "[1] 2565\n",
      "[1] 3854\n",
      "\n",
      "DFCI-ONCOPANEL-2[1] 8238  194\n",
      "[1] 8238  194\n",
      "[1] 7317\n",
      "[1] 13989\n",
      "\n",
      "DFCI-ONCOPANEL-3[1] 6728  257\n",
      "[1] 6728  257\n",
      "[1] 6494\n",
      "[1] 15126\n",
      "\n",
      "DFCI-ONCOPANEL-3.1[1] 16949   257\n",
      "[1] 16949   257\n",
      "[1] 17744\n",
      "[1] 39131\n",
      "\n",
      "DUKE-F1-DX1[1] 1970  207\n",
      "[1] 1970  207\n",
      "[1] 2401\n",
      "[1] 4081\n",
      "\n",
      "DUKE-F1-T5A[1]  84 190\n",
      "[1]  84 190\n",
      "[1] 86\n",
      "[1] 182\n",
      "\n",
      "DUKE-F1-T7[1] 1061  232\n",
      "[1] 1061  232\n",
      "[1] 1107\n",
      "[1] 2077\n",
      "\n",
      "GRCC-CHP2[1] 99 50\n",
      "[1] 99 50\n",
      "[1] 96\n",
      "[1] 40\n",
      "\n",
      "GRCC-CP1[1] 26 46\n",
      "[1] 26 46\n",
      "[1] 32\n",
      "[1] 5\n",
      "\n",
      "GRCC-MOSC3[1] 737  72\n",
      "[1] 737  72\n",
      "[1] 666\n",
      "[1] 213\n",
      "\n",
      "GRCC-MOSC4[1] 302  82\n",
      "[1] 302  82\n",
      "[1] 254\n",
      "[1] 180\n",
      "\n",
      "GRCC-OCAV3[1] 131 127\n",
      "[1] 131 127\n",
      "[1] 115\n",
      "[1] 174\n",
      "\n",
      "GRCC-SAFIR02[1]  7 47\n",
      "[1]  7 47\n",
      "[1] 7\n",
      "[1] 2\n",
      "\n",
      "JHU-500STP[1] 1224  283\n",
      "[1] 1224  283\n",
      "[1] 1390\n",
      "[1] 366\n",
      "\n",
      "JHU-50GP[1] 5289   50\n",
      "[1] 5289   50\n",
      "[1] 6094\n",
      "[1] 2318\n",
      "\n",
      "MDA-409-V1[1] 395 191\n",
      "[1] 395 191\n",
      "[1] 263\n",
      "[1] 311\n",
      "\n",
      "MDA-46-V1[1] 944  46\n",
      "[1] 944  46\n",
      "[1] 1068\n",
      "[1] 198\n",
      "\n",
      "MDA-50-V1[1] 1266   50\n",
      "[1] 1266   50\n",
      "[1] 1358\n",
      "[1] 499\n",
      "\n",
      "MSK-IMPACT-HEME-400[1] 8848  267\n",
      "[1] 8848  267\n",
      "[1] 7992\n",
      "[1] 11731\n",
      "\n",
      "MSK-IMPACT-HEME-468[1] 3838  284\n",
      "[1] 3838  284\n",
      "[1] 3207\n",
      "[1] 4957\n",
      "\n",
      "MSK-IMPACT341[1] 2539  249\n",
      "[1] 2539  249\n",
      "[1] 2287\n",
      "[1] 3767\n",
      "\n",
      "MSK-IMPACT410[1] 9172  282\n",
      "[1] 9172  282\n",
      "[1] 9257\n",
      "[1] 16379\n",
      "\n",
      "MSK-IMPACT468[1] 33880   306\n",
      "[1] 33880   306\n",
      "[1] 35084\n",
      "[1] 69792\n",
      "\n",
      "MSK-IMPACT505[1] 19121   327\n",
      "[1] 19121   327\n",
      "[1] 20333\n",
      "[1] 43486\n",
      "\n",
      "NKI-CHP-V2-PLUS[1] 186  52\n",
      "[1] 186  52\n",
      "[1] 124\n",
      "[1] 111\n",
      "\n",
      "NKI-CHPV2-NGS[1] 79 50\n",
      "[1] 79 50\n",
      "[1] 77\n",
      "[1] 42\n",
      "\n",
      "NKI-CHPV2-SOCV2-NGS[1] 1713   52\n",
      "[1] 1713   52\n",
      "[1] 1827\n",
      "[1] 805\n",
      "\n",
      "NKI-PATH-NGS[1] 31 31\n",
      "[1] 31 31\n",
      "[1] 35\n",
      "[1] 11\n",
      "\n",
      "NKI-TSACP-MISEQ-NGS[1] 728  48\n",
      "[1] 728  48\n",
      "[1] 786\n",
      "[1] 406\n",
      "\n",
      "PROV-FOCUS-V1[1] 554  45\n",
      "[1] 554  45\n",
      "[1] 471\n",
      "[1] 118\n",
      "\n",
      "PROV-TRISEQ-V2[1] 387 205\n",
      "[1] 387 205\n",
      "[1] 403\n",
      "[1] 362\n",
      "\n",
      "PROV-TSO500HT-V2[1] 11815   298\n",
      "[1] 11815   298\n",
      "[1] 13117\n",
      "[1] 20292\n",
      "\n",
      "PROV-TST170-V1[1] 465 117\n",
      "[1] 465 117\n",
      "[1] 438\n",
      "[1] 490\n",
      "\n",
      "SCI-PMP68-V1[1] 736  63\n",
      "[1] 736  63\n",
      "[1] 649\n",
      "[1] 495\n",
      "\n",
      "UCHI-ONCOHEME55-V1[1] 302  48\n",
      "[1] 302  48\n",
      "[1] 255\n",
      "[1] 414\n",
      "\n",
      "UCHI-ONCOSCREEN50-V1[1] 198  50\n",
      "[1] 198  50\n",
      "[1] 188\n",
      "[1] 103\n",
      "\n",
      "UCSF-IDTV5-TN[1] 1207  285\n",
      "[1] 1207  285\n",
      "[1] 1260\n",
      "[1] 2929\n",
      "\n",
      "UCSF-IDTV5-TO[1] 5967  285\n",
      "[1] 5967  285\n",
      "[1] 6038\n",
      "[1] 13184\n",
      "\n",
      "UCSF-NIMV4-TN[1] 1745  261\n",
      "[1] 1745  261\n",
      "[1] 1583\n",
      "[1] 3686\n",
      "\n",
      "UCSF-NIMV4-TO[1] 2240  261\n",
      "[1] 2240  261\n",
      "[1] 1711\n",
      "[1] 3956\n",
      "\n",
      "UHN-48-V1[1] 1182   48\n",
      "[1] 1182   48\n",
      "[1] 1125\n",
      "[1] 599\n",
      "\n",
      "UHN-50-V2[1]  7 50\n",
      "[1]  7 50\n",
      "[1] 0\n",
      "[1] 0\n",
      "\n",
      "UHN-54-V1[1] 1019   48\n",
      "[1] 1019   48\n",
      "[1] 1138\n",
      "[1] 1201\n",
      "\n",
      "UHN-555-BLADDER-V1[1]   4 246\n",
      "[1]   4 246\n",
      "[1] 2\n",
      "[1] 11\n",
      "\n",
      "UHN-555-BREAST-V1[1]  54 246\n",
      "[1]  54 246\n",
      "[1] 49\n",
      "[1] 207\n",
      "\n",
      "UHN-555-GLIOMA-V1[1]   9 246\n",
      "[1]   9 246\n",
      "[1] 10\n",
      "[1] 56\n",
      "\n",
      "UHN-555-GYNE-V1[1] 259 246\n",
      "[1] 259 246\n",
      "[1] 307\n",
      "[1] 1255\n",
      "\n",
      "UHN-555-HEAD-NECK-V1[1]  34 246\n",
      "[1]  34 246\n",
      "[1] 35\n",
      "[1] 146\n",
      "\n",
      "UHN-555-LUNG-V1[1]  26 246\n",
      "[1]  26 246\n",
      "[1] 37\n",
      "[1] 122\n",
      "\n",
      "UHN-555-MELANOMA-V1[1]  10 246\n",
      "[1]  10 246\n",
      "[1] 15\n",
      "[1] 39\n",
      "\n",
      "UHN-555-PAN-GI-V1[1] 117 246\n",
      "[1] 117 246\n",
      "[1] 155\n",
      "[1] 560\n",
      "\n",
      "UHN-555-PROSTATE-V1[1]  13 246\n",
      "[1]  13 246\n",
      "[1] 8\n",
      "[1] 49\n",
      "\n",
      "UHN-555-RENAL-V1[1]   8 246\n",
      "[1]   8 246\n",
      "[1] 6\n",
      "[1] 25\n",
      "\n",
      "UHN-555-V1[1] 490 246\n",
      "[1] 490 246\n",
      "[1] 599\n",
      "[1] 2418\n",
      "\n",
      "UHN-555-V2[1] 213 255\n",
      "[1] 213 255\n",
      "[1] 167\n",
      "[1] 877\n",
      "\n",
      "UHN-OCA-V3[1] 550 127\n",
      "[1] 550 127\n",
      "[1] 426\n",
      "[1] 285\n",
      "\n",
      "UHN-TSO500-V1[1] 452 298\n",
      "[1] 452 298\n",
      "[1] 290\n",
      "[1] 432\n",
      "\n",
      "VHIO-300[1] 665 269\n",
      "[1] 665 269\n",
      "[1] 567\n",
      "[1] 869\n",
      "\n",
      "VHIO-BILIARY-V01[1] 31 54\n",
      "[1] 31 54\n",
      "[1] 29\n",
      "[1] 9\n",
      "\n",
      "VHIO-BRAIN-V01[1] 36 54\n",
      "[1] 36 54\n",
      "[1] 28\n",
      "[1] 16\n",
      "\n",
      "VHIO-BREAST-V01[1] 54 55\n",
      "[1] 54 55\n",
      "[1] 48\n",
      "[1] 17\n",
      "\n",
      "VHIO-BREAST-V02[1] 70 57\n",
      "[1] 70 57\n",
      "[1] 50\n",
      "[1] 27\n",
      "\n",
      "VHIO-COLORECTAL-V01[1] 244  55\n",
      "[1] 244  55\n",
      "[1] 357\n",
      "[1] 200\n",
      "\n",
      "VHIO-ENDOMETRIUM-V01[1] 27 57\n",
      "[1] 27 57\n",
      "[1] 35\n",
      "[1] 8\n",
      "\n",
      "VHIO-GASTRIC-V01[1] 51 58\n",
      "[1] 51 58\n",
      "[1] 48\n",
      "[1] 23\n",
      "\n",
      "VHIO-GENERAL-V01[1] 63 53\n",
      "[1] 63 53\n",
      "[1] 64\n",
      "[1] 18\n",
      "\n",
      "VHIO-HEAD-NECK-V01[1] 58 56\n",
      "[1] 58 56\n",
      "[1] 56\n",
      "[1] 20\n",
      "\n",
      "VHIO-KIDNEY-V01[1] 16 56\n",
      "[1] 16 56\n",
      "[1] 10\n",
      "[1] 9\n",
      "\n",
      "VHIO-LUNG-V01[1] 61 55\n",
      "[1] 61 55\n",
      "[1] 61\n",
      "[1] 21\n",
      "\n",
      "VHIO-OVARY-V01[1] 75 55\n",
      "[1] 75 55\n",
      "[1] 63\n",
      "[1] 28\n",
      "\n",
      "VHIO-PANCREAS-V01[1] 168  57\n",
      "[1] 168  57\n",
      "[1] 240\n",
      "[1] 68\n",
      "\n",
      "VHIO-PAROTIDE-V01[1]  4 53\n",
      "[1]  4 53\n",
      "[1] 1\n",
      "[1] 2\n",
      "\n",
      "VHIO-SKIN-V01[1] 16 57\n",
      "[1] 16 57\n",
      "[1] 17\n",
      "[1] 1\n",
      "\n",
      "VHIO-URINARY-BLADDER-V01[1] 21 58\n",
      "[1] 21 58\n",
      "[1] 20\n",
      "[1] 5\n",
      "\n",
      "VICC-01-D2[1]   0 244\n",
      "[1]   0 244\n",
      "[1] 0\n",
      "[1] 0\n",
      "\n",
      "VICC-01-DX1[1]   0 207\n",
      "[1]   0 207\n",
      "[1] 0\n",
      "[1] 0\n",
      "\n",
      "VICC-01-MYELOID[1]  0 36\n",
      "[1]  0 36\n",
      "[1] 0\n",
      "[1] 0\n",
      "\n",
      "VICC-01-SOLIDTUMOR[1]  0 30\n",
      "[1]  0 30\n",
      "[1] 0\n",
      "[1] 0\n",
      "\n",
      "VICC-01-T4B[1]   0 126\n",
      "[1]   0 126\n",
      "[1] 0\n",
      "[1] 0\n",
      "\n",
      "VICC-01-T5A[1]   0 190\n",
      "[1]   0 190\n",
      "[1] 0\n",
      "[1] 0\n",
      "\n",
      "VICC-01-T6B[1]   0 221\n",
      "[1]   0 221\n",
      "[1] 0\n",
      "[1] 0\n",
      "\n",
      "VICC-01-T7[1]   0 232\n",
      "[1]   0 232\n",
      "[1] 0\n",
      "[1] 0\n",
      "\n",
      "VICC-02-XTV2[1]  24 284\n",
      "[1]  24 284\n",
      "[1] 18\n",
      "[1] 66\n",
      "\n",
      "VICC-02-XTV3[1] 268 294\n",
      "[1] 268 294\n",
      "[1] 276\n",
      "[1] 844\n",
      "\n",
      "VICC-02-XTV4[1] 438 294\n",
      "[1] 438 294\n",
      "[1] 416\n",
      "[1] 1428\n",
      "\n",
      "WAKE-CA-01[1] 172  53\n",
      "[1] 172  53\n",
      "[1] 194\n",
      "[1] 29\n",
      "\n",
      "WAKE-CA-NGSQ3[1] 281 204\n",
      "[1] 281 204\n",
      "[1] 212\n",
      "[1] 117\n",
      "\n",
      "WAKE-CLINICAL-AB1[1]  0 27\n",
      "[1]  0 27\n",
      "[1] 0\n",
      "[1] 0\n",
      "\n",
      "WAKE-CLINICAL-AB2NULL\n",
      "NULL\n",
      "[1] 0\n",
      "[1] 1\n",
      "\n",
      "WAKE-CLINICAL-AB3NULL\n",
      "NULL\n",
      "[1] 0\n",
      "[1] 1\n",
      "\n",
      "WAKE-CLINICAL-CF2[1] 0 4\n",
      "[1] 0 4\n",
      "[1] 0\n",
      "[1] 0\n",
      "\n",
      "WAKE-CLINICAL-CF3NULL\n",
      "NULL\n",
      "[1] 0\n",
      "[1] 0\n",
      "\n",
      "WAKE-CLINICAL-D2[1]  0 23\n",
      "[1]  0 23\n",
      "[1] 0\n",
      "[1] 0\n",
      "\n",
      "WAKE-CLINICAL-DX1[1] 390 178\n",
      "[1] 390 178\n",
      "[1] 268\n",
      "[1] 187\n",
      "\n",
      "WAKE-CLINICAL-R2[1]  2 20\n",
      "[1]  2 20\n",
      "[1] 0\n",
      "[1] 0\n",
      "\n",
      "WAKE-CLINICAL-R2D2[1]  72 144\n",
      "[1]  72 144\n",
      "[1] 40\n",
      "[1] 51\n",
      "\n",
      "WAKE-CLINICAL-T5A[1] 12 57\n",
      "[1] 12 57\n",
      "[1] 13\n",
      "[1] 22\n",
      "\n",
      "WAKE-CLINICAL-T7[1] 464  86\n",
      "[1] 464  86\n",
      "[1] 296\n",
      "[1] 139\n",
      "\n",
      "YALE-HSM-V1[1] 234  50\n",
      "[1] 234  50\n",
      "[1] 271\n",
      "[1] 125\n",
      "\n",
      "YALE-OCP-V2[1]  44 106\n",
      "[1]  44 106\n",
      "[1] 46\n",
      "[1] 38\n",
      "\n",
      "YALE-OCP-V3[1] 1007  127\n",
      "[1] 1007  127\n",
      "[1] 1064\n",
      "[1] 987\n",
      "\n"
     ]
    }
   ],
   "source": [
    "for(i in c(1:113)){\n",
    "    panel<-(mapped_df[i,'SEQ_ASSAY_ID'])\n",
    "    samples <-intersect(rownames(missesne_data$gam),(genie_metadata %>% filter(SEQ_ASSAY_ID==panel))$SAMPLE_ID)    \n",
    "    trunc <- truncating_data$gam[samples,element_list_oncokb[[panel]]]\n",
    "    miss <- missesne_data$gam[samples,element_list_oncokb[[panel]]]\n",
    "    cat(panel)\n",
    "    print(dim(miss))\n",
    "    print(dim(trunc))\n",
    "    print(sum(miss))\n",
    "    print(sum(trunc))\n",
    "    gam <- list('missense'=miss,\n",
    "                'truncating'=trunc)\n",
    "    dir<-paste('/mnt/ndata/arvind/co_mutation_project/submission_work/data/supplementary_data/',\n",
    "               mapped_df[i,'CENTER'],'/',panel,'.rds',sep=\"\")\n",
    "    saveRDS(gam,file=dir) \n",
    "    cat('\\n')\n",
    "}"
   ]
  },
  {
   "cell_type": "code",
   "execution_count": 75,
   "id": "b404a467-7996-4aeb-917d-2a1e43cc4104",
   "metadata": {},
   "outputs": [
    {
     "name": "stdout",
     "output_type": "stream",
     "text": [
      "List of 2\n",
      " $ missense  : num [1:1007, 1:127] 0 0 0 0 0 0 0 0 0 0 ...\n",
      "  ..- attr(*, \"dimnames\")=List of 2\n",
      "  .. ..$ : chr [1:1007] \"GENIE-YALE-TPL1000-1\" \"GENIE-YALE-TPL1001-1\" \"GENIE-YALE-TPL1002-1\" \"GENIE-YALE-TPL1003-1\" ...\n",
      "  .. ..$ : chr [1:127] \"AKT1\" \"ALK\" \"AR\" \"ATM\" ...\n",
      " $ truncating: num [1:1007, 1:127] 0 0 0 0 0 0 0 0 0 0 ...\n",
      "  ..- attr(*, \"dimnames\")=List of 2\n",
      "  .. ..$ : chr [1:1007] \"GENIE-YALE-TPL1000-1\" \"GENIE-YALE-TPL1001-1\" \"GENIE-YALE-TPL1002-1\" \"GENIE-YALE-TPL1003-1\" ...\n",
      "  .. ..$ : chr [1:127] \"AKT1\" \"ALK\" \"AR\" \"ATM\" ...\n"
     ]
    }
   ],
   "source": [
    "str(gam)"
   ]
  },
  {
   "cell_type": "markdown",
   "id": "518118ed-790f-4a25-b06b-a96d57cd2024",
   "metadata": {},
   "source": [
    "# Check \n",
    "- read one stored .rds file"
   ]
  },
  {
   "cell_type": "code",
   "execution_count": 76,
   "id": "9a1f17de-31ad-4041-82e9-90737440bd82",
   "metadata": {},
   "outputs": [],
   "source": [
    "data <- readRDS('../submission_work/data//supplementary_data/MSK/MSK-IMPACT468.rds')"
   ]
  },
  {
   "cell_type": "code",
   "execution_count": 77,
   "id": "74728bdf-b882-4790-a38a-1143f09c5f40",
   "metadata": {},
   "outputs": [
    {
     "name": "stdout",
     "output_type": "stream",
     "text": [
      "List of 2\n",
      " $ missense  : num [1:33880, 1:306] 0 0 0 0 0 0 0 0 0 0 ...\n",
      "  ..- attr(*, \"dimnames\")=List of 2\n",
      "  .. ..$ : chr [1:33880] \"GENIE-MSK-P-0039091-T01-IM6\" \"GENIE-MSK-P-0052339-T02-IM6\" \"GENIE-MSK-P-0043596-T01-IM6\" \"GENIE-MSK-P-0029826-T01-IM6\" ...\n",
      "  .. ..$ : chr [1:306] \"AKT1\" \"ALK\" \"APC\" \"AR\" ...\n",
      " $ truncating: num [1:33880, 1:306] 0 0 0 0 0 0 0 0 0 0 ...\n",
      "  ..- attr(*, \"dimnames\")=List of 2\n",
      "  .. ..$ : chr [1:33880] \"GENIE-MSK-P-0039091-T01-IM6\" \"GENIE-MSK-P-0052339-T02-IM6\" \"GENIE-MSK-P-0043596-T01-IM6\" \"GENIE-MSK-P-0029826-T01-IM6\" ...\n",
      "  .. ..$ : chr [1:306] \"AKT1\" \"ALK\" \"APC\" \"AR\" ...\n"
     ]
    }
   ],
   "source": [
    "str(data)"
   ]
  }
 ],
 "metadata": {
  "kernelspec": {
   "display_name": "R",
   "language": "R",
   "name": "ir"
  },
  "language_info": {
   "codemirror_mode": "r",
   "file_extension": ".r",
   "mimetype": "text/x-r-source",
   "name": "R",
   "pygments_lexer": "r",
   "version": "4.3.2"
  }
 },
 "nbformat": 4,
 "nbformat_minor": 5
}
