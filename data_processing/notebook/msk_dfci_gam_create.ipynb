{
 "cells": [
  {
   "cell_type": "code",
   "execution_count": 1,
   "id": "94e006cf-1f45-4d28-a57f-c9ec4e249486",
   "metadata": {},
   "outputs": [
    {
     "name": "stderr",
     "output_type": "stream",
     "text": [
      "── \u001b[1mAttaching core tidyverse packages\u001b[22m ───────────────────────────────────────────────────────────────────────────────────────────────────────────────────────────────────── tidyverse 2.0.0 ──\n",
      "\u001b[32m✔\u001b[39m \u001b[34mdplyr    \u001b[39m 1.1.4     \u001b[32m✔\u001b[39m \u001b[34mreadr    \u001b[39m 2.1.5\n",
      "\u001b[32m✔\u001b[39m \u001b[34mforcats  \u001b[39m 1.0.0     \u001b[32m✔\u001b[39m \u001b[34mstringr  \u001b[39m 1.5.1\n",
      "\u001b[32m✔\u001b[39m \u001b[34mggplot2  \u001b[39m 3.4.4     \u001b[32m✔\u001b[39m \u001b[34mtibble   \u001b[39m 3.2.1\n",
      "\u001b[32m✔\u001b[39m \u001b[34mlubridate\u001b[39m 1.9.3     \u001b[32m✔\u001b[39m \u001b[34mtidyr    \u001b[39m 1.3.0\n",
      "\u001b[32m✔\u001b[39m \u001b[34mpurrr    \u001b[39m 1.0.2     \n",
      "── \u001b[1mConflicts\u001b[22m ─────────────────────────────────────────────────────────────────────────────────────────────────────────────────────────────────────────────────────── tidyverse_conflicts() ──\n",
      "\u001b[31m✖\u001b[39m \u001b[34mdplyr\u001b[39m::\u001b[32mfilter()\u001b[39m masks \u001b[34mstats\u001b[39m::filter()\n",
      "\u001b[31m✖\u001b[39m \u001b[34mdplyr\u001b[39m::\u001b[32mlag()\u001b[39m    masks \u001b[34mstats\u001b[39m::lag()\n",
      "\u001b[36mℹ\u001b[39m Use the conflicted package (\u001b[3m\u001b[34m<http://conflicted.r-lib.org/>\u001b[39m\u001b[23m) to force all conflicts to become errors\n"
     ]
    }
   ],
   "source": [
    "library('SelectSim')\n",
    "library('tidyverse')\n",
    "library('ggplot2')\n",
    "library('ggpubr')"
   ]
  },
  {
   "cell_type": "code",
   "execution_count": 2,
   "id": "3c08c808-1227-4486-b4e8-bf4f1fb04d0f",
   "metadata": {
    "scrolled": true
   },
   "outputs": [
    {
     "data": {
      "text/plain": [
       "R version 4.3.2 (2023-10-31)\n",
       "Platform: x86_64-conda-linux-gnu (64-bit)\n",
       "Running under: CentOS Linux 7 (Core)\n",
       "\n",
       "Matrix products: default\n",
       "BLAS/LAPACK: /mnt/ndata/arvind/envs/R_4/lib/libopenblasp-r0.3.25.so;  LAPACK version 3.11.0\n",
       "\n",
       "locale:\n",
       " [1] LC_CTYPE=en_US.UTF-8       LC_NUMERIC=C              \n",
       " [3] LC_TIME=en_US.UTF-8        LC_COLLATE=en_US.UTF-8    \n",
       " [5] LC_MONETARY=en_US.UTF-8    LC_MESSAGES=en_US.UTF-8   \n",
       " [7] LC_PAPER=en_US.UTF-8       LC_NAME=C                 \n",
       " [9] LC_ADDRESS=C               LC_TELEPHONE=C            \n",
       "[11] LC_MEASUREMENT=en_US.UTF-8 LC_IDENTIFICATION=C       \n",
       "\n",
       "time zone: Europe/Zurich\n",
       "tzcode source: system (glibc)\n",
       "\n",
       "attached base packages:\n",
       "[1] stats     graphics  grDevices utils     datasets  methods   base     \n",
       "\n",
       "other attached packages:\n",
       " [1] ggpubr_0.6.0      lubridate_1.9.3   forcats_1.0.0     stringr_1.5.1    \n",
       " [5] dplyr_1.1.4       purrr_1.0.2       readr_2.1.5       tidyr_1.3.0      \n",
       " [9] tibble_3.2.1      ggplot2_3.4.4     tidyverse_2.0.0   SelectSim_0.0.1.3\n",
       "\n",
       "loaded via a namespace (and not attached):\n",
       " [1] gtable_0.3.4       rstatix_0.7.2      lattice_0.22-5     tzdb_0.4.0        \n",
       " [5] vctrs_0.6.5        tools_4.3.2        generics_0.1.3     parallel_4.3.2    \n",
       " [9] fansi_1.0.6        pkgconfig_2.0.3    Matrix_1.6-5       ggridges_0.5.5    \n",
       "[13] rngtools_1.5.2     RcppParallel_5.1.6 uuid_1.2-0         lifecycle_1.0.4   \n",
       "[17] compiler_4.3.2     tictoc_1.2         munsell_0.5.0      repr_1.1.6        \n",
       "[21] codetools_0.2-19   carData_3.0-5      htmltools_0.5.7    pillar_1.9.0      \n",
       "[25] car_3.1-2          crayon_1.5.2       doRNG_1.8.6        iterators_1.0.14  \n",
       "[29] abind_1.4-5        foreach_1.5.2      tidyselect_1.2.0   digest_0.6.34     \n",
       "[33] stringi_1.8.3      reshape2_1.4.4     fastmap_1.1.1      grid_4.3.2        \n",
       "[37] colorspace_2.1-0   cli_3.6.2          magrittr_2.0.3     base64enc_0.1-3   \n",
       "[41] Rfast_2.1.0        utf8_1.2.4         IRdisplay_1.1      broom_1.0.5       \n",
       "[45] withr_3.0.0        scales_1.3.0       backports_1.4.1    IRkernel_1.3.2    \n",
       "[49] RcppZiggurat_0.1.6 timechange_0.3.0   pbdZMQ_0.3-11      ggsignif_0.6.4    \n",
       "[53] hms_1.1.3          evaluate_0.23      doParallel_1.0.17  rlang_1.1.3       \n",
       "[57] Rcpp_1.0.12        glue_1.7.0         jsonlite_1.8.8     R6_2.5.1          \n",
       "[61] plyr_1.8.9        "
      ]
     },
     "metadata": {},
     "output_type": "display_data"
    }
   ],
   "source": [
    "sessionInfo()"
   ]
  },
  {
   "cell_type": "code",
   "execution_count": 3,
   "id": "9e2b7e27-b2b4-4594-9a05-c59da7d94b48",
   "metadata": {},
   "outputs": [],
   "source": [
    "`%notin%` <- Negate(`%in%`)"
   ]
  },
  {
   "cell_type": "markdown",
   "id": "dde504b7-2dfb-408f-9e9e-a3cd5427faab",
   "metadata": {},
   "source": [
    "# Note\n",
    "- Ensure the file path are correct in read functions below of the raw downloaded data.\n",
    "- Ensure the file are saved to correct location based on path decided by the user."
   ]
  },
  {
   "cell_type": "markdown",
   "id": "2897241f-9e78-4e67-aaa1-cbff5a717eb3",
   "metadata": {},
   "source": [
    "# Metadata "
   ]
  },
  {
   "cell_type": "code",
   "execution_count": 4,
   "id": "f88d60fb-ca3e-482e-a7cc-315508085356",
   "metadata": {},
   "outputs": [],
   "source": [
    "genie_metadata_15_msk_with_mutation_selected_final_atleast_100_samples<-readRDS(file='../data/processed/genie/msk_one_patient_one_sample_final.rds')\n",
    "genie_metadata_15_dfci_with_mutation_selected_final_atleast_100_samples<-readRDS(file='../data/processed/genie/dfci_one_patient_one_sample_final.rds')"
   ]
  },
  {
   "cell_type": "markdown",
   "id": "2870c89b-745a-42f3-9be6-58f2d7aadfac",
   "metadata": {},
   "source": [
    "# MAF"
   ]
  },
  {
   "cell_type": "code",
   "execution_count": 5,
   "id": "7d3504dd-c93e-4292-a66b-efdb94e72f66",
   "metadata": {},
   "outputs": [],
   "source": [
    "genie_maf <- read.delim('../data/raw/genie/data_mutations_extended.txt')"
   ]
  },
  {
   "cell_type": "markdown",
   "id": "ccb96b9b-6cff-4c8b-8bc5-2613ff94bcfd",
   "metadata": {},
   "source": [
    "# MSK GAMs Generation"
   ]
  },
  {
   "cell_type": "code",
   "execution_count": 6,
   "id": "631fcc99-1513-41b8-877e-d04407f7cace",
   "metadata": {},
   "outputs": [],
   "source": [
    "genie_maf_msk <- genie_maf %>% select(Chromosome,Start_Position,End_Position,Hugo_Symbol,Variant_Classification,Tumor_Sample_Barcode,HGVSp_Short) %>%\n",
    "filter(Tumor_Sample_Barcode %in% genie_metadata_15_msk_with_mutation_selected_final_atleast_100_samples$SAMPLE_ID)"
   ]
  },
  {
   "cell_type": "code",
   "execution_count": 7,
   "id": "bcf6a14e-a656-4837-884e-e3910431c888",
   "metadata": {},
   "outputs": [],
   "source": [
    "msk_genes<-oncokb_genes"
   ]
  },
  {
   "cell_type": "code",
   "execution_count": 8,
   "id": "03ee6024-2620-404a-b631-0c139503eeb6",
   "metadata": {},
   "outputs": [],
   "source": [
    "genie_maf_msk$sample<-genie_maf_msk$Tumor_Sample_Barcode"
   ]
  },
  {
   "cell_type": "code",
   "execution_count": 9,
   "id": "046865af-0e9f-4a09-a5d8-251a60f1f588",
   "metadata": {},
   "outputs": [
    {
     "name": "stdout",
     "output_type": "stream",
     "text": [
      "[1] \"##### Number of lines ####->413413\"\n",
      "[1] \"##### Number of genes ####->396\"\n"
     ]
    }
   ],
   "source": [
    "input_maf <- genie_maf_msk\n",
    "print(paste('##### Number of lines ####',nrow(input_maf),sep=\"->\"))\n",
    "genes_to_consider =  msk_genes\n",
    "print(paste('##### Number of genes ####',length(genes_to_consider),sep=\"->\"))"
   ]
  },
  {
   "cell_type": "code",
   "execution_count": 10,
   "id": "6f558b0d-dce3-4404-a588-2a068b4b914f",
   "metadata": {},
   "outputs": [],
   "source": [
    "mutation_type = list(\n",
    "      'ignore' = c(\"Silent\",\"Intron\",\"RNA\",\"3'UTR\",\"5'UTR\",\"5'Flank\",\"3'Flank\",\"IGR\"),\n",
    "      'truncating'= c('Frame_Shift_Del','Frame_Shift_Ins','In_Frame_Del','In_Frame_Ins','Nonsense_Mutation','Nonstop_Mutation','Splice_Region','Splice_Site','Translation_Start_Site'),\n",
    "      'missense' = c('Missense_Mutation')\n",
    ")\n",
    "custom_maf_schema = list(\n",
    "    'name' = 'custom_maf',\n",
    "    'column' = list(\n",
    "          'gene' = 'Hugo_Symbol'\n",
    "        , 'gene.name' = 'Hugo_Symbol'\n",
    "        , 'sample' = 'sample'\n",
    "        , 'sample.name' = 'sample'\n",
    "        , 'mutation.type' = 'Variant_Classification'\n",
    "        , 'mutation' = 'HGVSp_Short'\n",
    "        ),\n",
    "        'mutation.type' = mutation_type\n",
    ")"
   ]
  },
  {
   "cell_type": "code",
   "execution_count": 11,
   "id": "def0db99-6f0a-4619-acd7-a6cf95391315",
   "metadata": {
    "scrolled": true
   },
   "outputs": [
    {
     "data": {
      "text/html": [
       "<table class=\"dataframe\">\n",
       "<caption>A data.frame: 6 × 8</caption>\n",
       "<thead>\n",
       "\t<tr><th></th><th scope=col>Chromosome</th><th scope=col>Start_Position</th><th scope=col>End_Position</th><th scope=col>Hugo_Symbol</th><th scope=col>Variant_Classification</th><th scope=col>Tumor_Sample_Barcode</th><th scope=col>HGVSp_Short</th><th scope=col>sample</th></tr>\n",
       "\t<tr><th></th><th scope=col>&lt;chr&gt;</th><th scope=col>&lt;int&gt;</th><th scope=col>&lt;int&gt;</th><th scope=col>&lt;chr&gt;</th><th scope=col>&lt;chr&gt;</th><th scope=col>&lt;chr&gt;</th><th scope=col>&lt;chr&gt;</th><th scope=col>&lt;chr&gt;</th></tr>\n",
       "</thead>\n",
       "<tbody>\n",
       "\t<tr><th scope=row>1</th><td>1 </td><td>118165602</td><td>118165602</td><td>FAM46C</td><td>Nonsense_Mutation</td><td>GENIE-MSK-P-0081662-T01-IM7</td><td>p.R38*   </td><td>GENIE-MSK-P-0081662-T01-IM7</td></tr>\n",
       "\t<tr><th scope=row>2</th><td>9 </td><td> 27209136</td><td> 27209136</td><td>TEK   </td><td>Missense_Mutation</td><td>GENIE-MSK-P-0039091-T01-IM6</td><td>p.D865Y  </td><td>GENIE-MSK-P-0039091-T01-IM6</td></tr>\n",
       "\t<tr><th scope=row>3</th><td>20</td><td> 31372564</td><td> 31372564</td><td>DNMT3B</td><td>Missense_Mutation</td><td>GENIE-MSK-P-0013676-T01-IM5</td><td>p.D69Y   </td><td>GENIE-MSK-P-0013676-T01-IM5</td></tr>\n",
       "\t<tr><th scope=row>4</th><td>4 </td><td>143003288</td><td>143003288</td><td>INPP4B</td><td>Missense_Mutation</td><td>GENIE-MSK-P-0043596-T01-IM6</td><td>p.K846N  </td><td>GENIE-MSK-P-0043596-T01-IM6</td></tr>\n",
       "\t<tr><th scope=row>5</th><td>17</td><td> 70118924</td><td> 70118926</td><td>SOX9  </td><td>In_Frame_Del     </td><td>GENIE-MSK-P-0076002-T01-IM7</td><td>p.K167del</td><td>GENIE-MSK-P-0076002-T01-IM7</td></tr>\n",
       "\t<tr><th scope=row>6</th><td>16</td><td>   347904</td><td>   347904</td><td>AXIN1 </td><td>Missense_Mutation</td><td>GENIE-MSK-P-0002914-T01-IM3</td><td>p.H534Q  </td><td>GENIE-MSK-P-0002914-T01-IM3</td></tr>\n",
       "</tbody>\n",
       "</table>\n"
      ],
      "text/latex": [
       "A data.frame: 6 × 8\n",
       "\\begin{tabular}{r|llllllll}\n",
       "  & Chromosome & Start\\_Position & End\\_Position & Hugo\\_Symbol & Variant\\_Classification & Tumor\\_Sample\\_Barcode & HGVSp\\_Short & sample\\\\\n",
       "  & <chr> & <int> & <int> & <chr> & <chr> & <chr> & <chr> & <chr>\\\\\n",
       "\\hline\n",
       "\t1 & 1  & 118165602 & 118165602 & FAM46C & Nonsense\\_Mutation & GENIE-MSK-P-0081662-T01-IM7 & p.R38*    & GENIE-MSK-P-0081662-T01-IM7\\\\\n",
       "\t2 & 9  &  27209136 &  27209136 & TEK    & Missense\\_Mutation & GENIE-MSK-P-0039091-T01-IM6 & p.D865Y   & GENIE-MSK-P-0039091-T01-IM6\\\\\n",
       "\t3 & 20 &  31372564 &  31372564 & DNMT3B & Missense\\_Mutation & GENIE-MSK-P-0013676-T01-IM5 & p.D69Y    & GENIE-MSK-P-0013676-T01-IM5\\\\\n",
       "\t4 & 4  & 143003288 & 143003288 & INPP4B & Missense\\_Mutation & GENIE-MSK-P-0043596-T01-IM6 & p.K846N   & GENIE-MSK-P-0043596-T01-IM6\\\\\n",
       "\t5 & 17 &  70118924 &  70118926 & SOX9   & In\\_Frame\\_Del      & GENIE-MSK-P-0076002-T01-IM7 & p.K167del & GENIE-MSK-P-0076002-T01-IM7\\\\\n",
       "\t6 & 16 &    347904 &    347904 & AXIN1  & Missense\\_Mutation & GENIE-MSK-P-0002914-T01-IM3 & p.H534Q   & GENIE-MSK-P-0002914-T01-IM3\\\\\n",
       "\\end{tabular}\n"
      ],
      "text/markdown": [
       "\n",
       "A data.frame: 6 × 8\n",
       "\n",
       "| <!--/--> | Chromosome &lt;chr&gt; | Start_Position &lt;int&gt; | End_Position &lt;int&gt; | Hugo_Symbol &lt;chr&gt; | Variant_Classification &lt;chr&gt; | Tumor_Sample_Barcode &lt;chr&gt; | HGVSp_Short &lt;chr&gt; | sample &lt;chr&gt; |\n",
       "|---|---|---|---|---|---|---|---|---|\n",
       "| 1 | 1  | 118165602 | 118165602 | FAM46C | Nonsense_Mutation | GENIE-MSK-P-0081662-T01-IM7 | p.R38*    | GENIE-MSK-P-0081662-T01-IM7 |\n",
       "| 2 | 9  |  27209136 |  27209136 | TEK    | Missense_Mutation | GENIE-MSK-P-0039091-T01-IM6 | p.D865Y   | GENIE-MSK-P-0039091-T01-IM6 |\n",
       "| 3 | 20 |  31372564 |  31372564 | DNMT3B | Missense_Mutation | GENIE-MSK-P-0013676-T01-IM5 | p.D69Y    | GENIE-MSK-P-0013676-T01-IM5 |\n",
       "| 4 | 4  | 143003288 | 143003288 | INPP4B | Missense_Mutation | GENIE-MSK-P-0043596-T01-IM6 | p.K846N   | GENIE-MSK-P-0043596-T01-IM6 |\n",
       "| 5 | 17 |  70118924 |  70118926 | SOX9   | In_Frame_Del      | GENIE-MSK-P-0076002-T01-IM7 | p.K167del | GENIE-MSK-P-0076002-T01-IM7 |\n",
       "| 6 | 16 |    347904 |    347904 | AXIN1  | Missense_Mutation | GENIE-MSK-P-0002914-T01-IM3 | p.H534Q   | GENIE-MSK-P-0002914-T01-IM3 |\n",
       "\n"
      ],
      "text/plain": [
       "  Chromosome Start_Position End_Position Hugo_Symbol Variant_Classification\n",
       "1 1          118165602      118165602    FAM46C      Nonsense_Mutation     \n",
       "2 9           27209136       27209136    TEK         Missense_Mutation     \n",
       "3 20          31372564       31372564    DNMT3B      Missense_Mutation     \n",
       "4 4          143003288      143003288    INPP4B      Missense_Mutation     \n",
       "5 17          70118924       70118926    SOX9        In_Frame_Del          \n",
       "6 16            347904         347904    AXIN1       Missense_Mutation     \n",
       "  Tumor_Sample_Barcode        HGVSp_Short sample                     \n",
       "1 GENIE-MSK-P-0081662-T01-IM7 p.R38*      GENIE-MSK-P-0081662-T01-IM7\n",
       "2 GENIE-MSK-P-0039091-T01-IM6 p.D865Y     GENIE-MSK-P-0039091-T01-IM6\n",
       "3 GENIE-MSK-P-0013676-T01-IM5 p.D69Y      GENIE-MSK-P-0013676-T01-IM5\n",
       "4 GENIE-MSK-P-0043596-T01-IM6 p.K846N     GENIE-MSK-P-0043596-T01-IM6\n",
       "5 GENIE-MSK-P-0076002-T01-IM7 p.K167del   GENIE-MSK-P-0076002-T01-IM7\n",
       "6 GENIE-MSK-P-0002914-T01-IM3 p.H534Q     GENIE-MSK-P-0002914-T01-IM3"
      ]
     },
     "metadata": {},
     "output_type": "display_data"
    }
   ],
   "source": [
    "head(genie_maf_msk)"
   ]
  },
  {
   "cell_type": "code",
   "execution_count": 12,
   "id": "7e6ca1db-923b-499b-ae5c-2c970c6f8630",
   "metadata": {},
   "outputs": [
    {
     "name": "stdout",
     "output_type": "stream",
     "text": [
      "[1] \"##### Number of samples ####->42790\"\n"
     ]
    }
   ],
   "source": [
    "mut_samples = unique(input_maf[, custom_maf_schema$column$sample])\n",
    "print(paste('##### Number of samples ####',length(mut_samples),sep=\"->\"))"
   ]
  },
  {
   "cell_type": "code",
   "execution_count": 13,
   "id": "20d90efd-1921-4dfc-bf25-22d6c4c2fc04",
   "metadata": {},
   "outputs": [
    {
     "name": "stdout",
     "output_type": "stream",
     "text": [
      "[1] \"##### Number of lines ####->336381\"\n"
     ]
    }
   ],
   "source": [
    "maf_genes = filter_maf_gene.name(input_maf, genes = genes_to_consider, gene.col = custom_maf_schema$column$gene)\n",
    "print(paste('##### Number of lines ####',nrow(maf_genes),sep=\"->\"))"
   ]
  },
  {
   "cell_type": "code",
   "execution_count": 14,
   "id": "1d05fd5a-b399-44c5-a975-d1facbd65921",
   "metadata": {},
   "outputs": [
    {
     "data": {
      "text/html": [
       "<table class=\"dataframe\">\n",
       "<caption>A data.frame: 6 × 8</caption>\n",
       "<thead>\n",
       "\t<tr><th></th><th scope=col>Chromosome</th><th scope=col>Start_Position</th><th scope=col>End_Position</th><th scope=col>Hugo_Symbol</th><th scope=col>Variant_Classification</th><th scope=col>Tumor_Sample_Barcode</th><th scope=col>HGVSp_Short</th><th scope=col>sample</th></tr>\n",
       "\t<tr><th></th><th scope=col>&lt;chr&gt;</th><th scope=col>&lt;int&gt;</th><th scope=col>&lt;int&gt;</th><th scope=col>&lt;chr&gt;</th><th scope=col>&lt;chr&gt;</th><th scope=col>&lt;chr&gt;</th><th scope=col>&lt;chr&gt;</th><th scope=col>&lt;chr&gt;</th></tr>\n",
       "</thead>\n",
       "<tbody>\n",
       "\t<tr><th scope=row>1</th><td>1 </td><td>118165602</td><td>118165602</td><td>FAM46C</td><td>Nonsense_Mutation</td><td>GENIE-MSK-P-0081662-T01-IM7</td><td>p.R38*   </td><td>GENIE-MSK-P-0081662-T01-IM7</td></tr>\n",
       "\t<tr><th scope=row>2</th><td>9 </td><td> 27209136</td><td> 27209136</td><td>TEK   </td><td>Missense_Mutation</td><td>GENIE-MSK-P-0039091-T01-IM6</td><td>p.D865Y  </td><td>GENIE-MSK-P-0039091-T01-IM6</td></tr>\n",
       "\t<tr><th scope=row>3</th><td>20</td><td> 31372564</td><td> 31372564</td><td>DNMT3B</td><td>Missense_Mutation</td><td>GENIE-MSK-P-0013676-T01-IM5</td><td>p.D69Y   </td><td>GENIE-MSK-P-0013676-T01-IM5</td></tr>\n",
       "\t<tr><th scope=row>4</th><td>4 </td><td>143003288</td><td>143003288</td><td>INPP4B</td><td>Missense_Mutation</td><td>GENIE-MSK-P-0043596-T01-IM6</td><td>p.K846N  </td><td>GENIE-MSK-P-0043596-T01-IM6</td></tr>\n",
       "\t<tr><th scope=row>5</th><td>17</td><td> 70118924</td><td> 70118926</td><td>SOX9  </td><td>In_Frame_Del     </td><td>GENIE-MSK-P-0076002-T01-IM7</td><td>p.K167del</td><td>GENIE-MSK-P-0076002-T01-IM7</td></tr>\n",
       "\t<tr><th scope=row>6</th><td>16</td><td>   347904</td><td>   347904</td><td>AXIN1 </td><td>Missense_Mutation</td><td>GENIE-MSK-P-0002914-T01-IM3</td><td>p.H534Q  </td><td>GENIE-MSK-P-0002914-T01-IM3</td></tr>\n",
       "</tbody>\n",
       "</table>\n"
      ],
      "text/latex": [
       "A data.frame: 6 × 8\n",
       "\\begin{tabular}{r|llllllll}\n",
       "  & Chromosome & Start\\_Position & End\\_Position & Hugo\\_Symbol & Variant\\_Classification & Tumor\\_Sample\\_Barcode & HGVSp\\_Short & sample\\\\\n",
       "  & <chr> & <int> & <int> & <chr> & <chr> & <chr> & <chr> & <chr>\\\\\n",
       "\\hline\n",
       "\t1 & 1  & 118165602 & 118165602 & FAM46C & Nonsense\\_Mutation & GENIE-MSK-P-0081662-T01-IM7 & p.R38*    & GENIE-MSK-P-0081662-T01-IM7\\\\\n",
       "\t2 & 9  &  27209136 &  27209136 & TEK    & Missense\\_Mutation & GENIE-MSK-P-0039091-T01-IM6 & p.D865Y   & GENIE-MSK-P-0039091-T01-IM6\\\\\n",
       "\t3 & 20 &  31372564 &  31372564 & DNMT3B & Missense\\_Mutation & GENIE-MSK-P-0013676-T01-IM5 & p.D69Y    & GENIE-MSK-P-0013676-T01-IM5\\\\\n",
       "\t4 & 4  & 143003288 & 143003288 & INPP4B & Missense\\_Mutation & GENIE-MSK-P-0043596-T01-IM6 & p.K846N   & GENIE-MSK-P-0043596-T01-IM6\\\\\n",
       "\t5 & 17 &  70118924 &  70118926 & SOX9   & In\\_Frame\\_Del      & GENIE-MSK-P-0076002-T01-IM7 & p.K167del & GENIE-MSK-P-0076002-T01-IM7\\\\\n",
       "\t6 & 16 &    347904 &    347904 & AXIN1  & Missense\\_Mutation & GENIE-MSK-P-0002914-T01-IM3 & p.H534Q   & GENIE-MSK-P-0002914-T01-IM3\\\\\n",
       "\\end{tabular}\n"
      ],
      "text/markdown": [
       "\n",
       "A data.frame: 6 × 8\n",
       "\n",
       "| <!--/--> | Chromosome &lt;chr&gt; | Start_Position &lt;int&gt; | End_Position &lt;int&gt; | Hugo_Symbol &lt;chr&gt; | Variant_Classification &lt;chr&gt; | Tumor_Sample_Barcode &lt;chr&gt; | HGVSp_Short &lt;chr&gt; | sample &lt;chr&gt; |\n",
       "|---|---|---|---|---|---|---|---|---|\n",
       "| 1 | 1  | 118165602 | 118165602 | FAM46C | Nonsense_Mutation | GENIE-MSK-P-0081662-T01-IM7 | p.R38*    | GENIE-MSK-P-0081662-T01-IM7 |\n",
       "| 2 | 9  |  27209136 |  27209136 | TEK    | Missense_Mutation | GENIE-MSK-P-0039091-T01-IM6 | p.D865Y   | GENIE-MSK-P-0039091-T01-IM6 |\n",
       "| 3 | 20 |  31372564 |  31372564 | DNMT3B | Missense_Mutation | GENIE-MSK-P-0013676-T01-IM5 | p.D69Y    | GENIE-MSK-P-0013676-T01-IM5 |\n",
       "| 4 | 4  | 143003288 | 143003288 | INPP4B | Missense_Mutation | GENIE-MSK-P-0043596-T01-IM6 | p.K846N   | GENIE-MSK-P-0043596-T01-IM6 |\n",
       "| 5 | 17 |  70118924 |  70118926 | SOX9   | In_Frame_Del      | GENIE-MSK-P-0076002-T01-IM7 | p.K167del | GENIE-MSK-P-0076002-T01-IM7 |\n",
       "| 6 | 16 |    347904 |    347904 | AXIN1  | Missense_Mutation | GENIE-MSK-P-0002914-T01-IM3 | p.H534Q   | GENIE-MSK-P-0002914-T01-IM3 |\n",
       "\n"
      ],
      "text/plain": [
       "  Chromosome Start_Position End_Position Hugo_Symbol Variant_Classification\n",
       "1 1          118165602      118165602    FAM46C      Nonsense_Mutation     \n",
       "2 9           27209136       27209136    TEK         Missense_Mutation     \n",
       "3 20          31372564       31372564    DNMT3B      Missense_Mutation     \n",
       "4 4          143003288      143003288    INPP4B      Missense_Mutation     \n",
       "5 17          70118924       70118926    SOX9        In_Frame_Del          \n",
       "6 16            347904         347904    AXIN1       Missense_Mutation     \n",
       "  Tumor_Sample_Barcode        HGVSp_Short sample                     \n",
       "1 GENIE-MSK-P-0081662-T01-IM7 p.R38*      GENIE-MSK-P-0081662-T01-IM7\n",
       "2 GENIE-MSK-P-0039091-T01-IM6 p.D865Y     GENIE-MSK-P-0039091-T01-IM6\n",
       "3 GENIE-MSK-P-0013676-T01-IM5 p.D69Y      GENIE-MSK-P-0013676-T01-IM5\n",
       "4 GENIE-MSK-P-0043596-T01-IM6 p.K846N     GENIE-MSK-P-0043596-T01-IM6\n",
       "5 GENIE-MSK-P-0076002-T01-IM7 p.K167del   GENIE-MSK-P-0076002-T01-IM7\n",
       "6 GENIE-MSK-P-0002914-T01-IM3 p.H534Q     GENIE-MSK-P-0002914-T01-IM3"
      ]
     },
     "metadata": {},
     "output_type": "display_data"
    }
   ],
   "source": [
    "head(input_maf)"
   ]
  },
  {
   "cell_type": "code",
   "execution_count": 15,
   "id": "45346574-20a5-4167-8f57-8d34e901652f",
   "metadata": {},
   "outputs": [
    {
     "data": {
      "text/html": [
       "<table class=\"dataframe\">\n",
       "<caption>A data.frame: 16 × 2</caption>\n",
       "<thead>\n",
       "\t<tr><th scope=col>Variant_Classification</th><th scope=col>n</th></tr>\n",
       "\t<tr><th scope=col>&lt;chr&gt;</th><th scope=col>&lt;int&gt;</th></tr>\n",
       "</thead>\n",
       "<tbody>\n",
       "\t<tr><td>3'Flank               </td><td>   878</td></tr>\n",
       "\t<tr><td>3'UTR                 </td><td>   122</td></tr>\n",
       "\t<tr><td>5'Flank               </td><td>  4774</td></tr>\n",
       "\t<tr><td>5'UTR                 </td><td>   253</td></tr>\n",
       "\t<tr><td>Frame_Shift_Del       </td><td> 39357</td></tr>\n",
       "\t<tr><td>Frame_Shift_Ins       </td><td> 14971</td></tr>\n",
       "\t<tr><td>In_Frame_Del          </td><td>  6858</td></tr>\n",
       "\t<tr><td>In_Frame_Ins          </td><td>  1483</td></tr>\n",
       "\t<tr><td>Intron                </td><td>   725</td></tr>\n",
       "\t<tr><td>Missense_Mutation     </td><td>289852</td></tr>\n",
       "\t<tr><td>Nonsense_Mutation     </td><td> 39149</td></tr>\n",
       "\t<tr><td>Nonstop_Mutation      </td><td>   300</td></tr>\n",
       "\t<tr><td>Silent                </td><td>    59</td></tr>\n",
       "\t<tr><td>Splice_Region         </td><td>   308</td></tr>\n",
       "\t<tr><td>Splice_Site           </td><td> 13708</td></tr>\n",
       "\t<tr><td>Translation_Start_Site</td><td>   616</td></tr>\n",
       "</tbody>\n",
       "</table>\n"
      ],
      "text/latex": [
       "A data.frame: 16 × 2\n",
       "\\begin{tabular}{ll}\n",
       " Variant\\_Classification & n\\\\\n",
       " <chr> & <int>\\\\\n",
       "\\hline\n",
       "\t 3'Flank                &    878\\\\\n",
       "\t 3'UTR                  &    122\\\\\n",
       "\t 5'Flank                &   4774\\\\\n",
       "\t 5'UTR                  &    253\\\\\n",
       "\t Frame\\_Shift\\_Del        &  39357\\\\\n",
       "\t Frame\\_Shift\\_Ins        &  14971\\\\\n",
       "\t In\\_Frame\\_Del           &   6858\\\\\n",
       "\t In\\_Frame\\_Ins           &   1483\\\\\n",
       "\t Intron                 &    725\\\\\n",
       "\t Missense\\_Mutation      & 289852\\\\\n",
       "\t Nonsense\\_Mutation      &  39149\\\\\n",
       "\t Nonstop\\_Mutation       &    300\\\\\n",
       "\t Silent                 &     59\\\\\n",
       "\t Splice\\_Region          &    308\\\\\n",
       "\t Splice\\_Site            &  13708\\\\\n",
       "\t Translation\\_Start\\_Site &    616\\\\\n",
       "\\end{tabular}\n"
      ],
      "text/markdown": [
       "\n",
       "A data.frame: 16 × 2\n",
       "\n",
       "| Variant_Classification &lt;chr&gt; | n &lt;int&gt; |\n",
       "|---|---|\n",
       "| 3'Flank                |    878 |\n",
       "| 3'UTR                  |    122 |\n",
       "| 5'Flank                |   4774 |\n",
       "| 5'UTR                  |    253 |\n",
       "| Frame_Shift_Del        |  39357 |\n",
       "| Frame_Shift_Ins        |  14971 |\n",
       "| In_Frame_Del           |   6858 |\n",
       "| In_Frame_Ins           |   1483 |\n",
       "| Intron                 |    725 |\n",
       "| Missense_Mutation      | 289852 |\n",
       "| Nonsense_Mutation      |  39149 |\n",
       "| Nonstop_Mutation       |    300 |\n",
       "| Silent                 |     59 |\n",
       "| Splice_Region          |    308 |\n",
       "| Splice_Site            |  13708 |\n",
       "| Translation_Start_Site |    616 |\n",
       "\n"
      ],
      "text/plain": [
       "   Variant_Classification n     \n",
       "1  3'Flank                   878\n",
       "2  3'UTR                     122\n",
       "3  5'Flank                  4774\n",
       "4  5'UTR                     253\n",
       "5  Frame_Shift_Del         39357\n",
       "6  Frame_Shift_Ins         14971\n",
       "7  In_Frame_Del             6858\n",
       "8  In_Frame_Ins             1483\n",
       "9  Intron                    725\n",
       "10 Missense_Mutation      289852\n",
       "11 Nonsense_Mutation       39149\n",
       "12 Nonstop_Mutation          300\n",
       "13 Silent                     59\n",
       "14 Splice_Region             308\n",
       "15 Splice_Site             13708\n",
       "16 Translation_Start_Site    616"
      ]
     },
     "metadata": {},
     "output_type": "display_data"
    }
   ],
   "source": [
    "genie_maf_msk %>% count(Variant_Classification)"
   ]
  },
  {
   "cell_type": "code",
   "execution_count": 16,
   "id": "91828424-8fda-44ca-8cae-b8bdaeb27990",
   "metadata": {},
   "outputs": [
    {
     "name": "stdout",
     "output_type": "stream",
     "text": [
      "##### Creating Truncating GAM ####: 15.95 sec elapsed\n"
     ]
    }
   ],
   "source": [
    "tictoc::tic('##### Creating Truncating GAM ####')\n",
    "    maf_trunc = filter_maf_truncating(maf_genes,genes=oncokb_truncating_genes, custom_maf_schema)\n",
    "    input_maf_trunc<-filter_maf_truncating(input_maf, custom_maf_schema)\n",
    "    truncating_tmb <- data.frame('sample'=mut_samples,'mutation'=rep(0,length(mut_samples)))\n",
    "    rownames(truncating_tmb)<-mut_samples\n",
    "    temp <- input_maf_trunc %>% count(sample) \n",
    "    rownames(temp)<-temp$sample\n",
    "    truncating_tmb[intersect(truncating_tmb$sample,temp$sample),]$mutation <-temp[intersect(truncating_tmb$sample,temp$sample),'n']\n",
    "    tcga_truc_gam = maf2gam(maf_trunc,\n",
    "                     sample.col = custom_maf_schema$column$sample,\n",
    "                     gene.col = custom_maf_schema$column$gene,\n",
    "                     value.var = 'Variant_Classification',\n",
    "                     samples = mut_samples,\n",
    "                     genes = genes_to_consider,\n",
    "                     fun.aggregate = length,\n",
    "                     binarize=TRUE,\n",
    "                     fill=0)\n",
    "    truncating_data <- list('gam'=tcga_truc_gam,\n",
    "                            'tmb'=truncating_tmb)\n",
    "tictoc::toc()"
   ]
  },
  {
   "cell_type": "code",
   "execution_count": 17,
   "id": "f114cf93-3035-4cd4-bf60-10b07cc37743",
   "metadata": {},
   "outputs": [
    {
     "name": "stdout",
     "output_type": "stream",
     "text": [
      "##### Creating Missense GAM ####: 12.068 sec elapsed\n"
     ]
    }
   ],
   "source": [
    "tictoc::tic('##### Creating Missense GAM ####')\n",
    "    maf_valid = filter_maf_schema(input_maf,\n",
    "                             schema = custom_maf_schema,\n",
    "                             column = 'mutation.type',\n",
    "                             values = custom_maf_schema[['mutation.type']][['ignore']],\n",
    "                             inclusive = FALSE)\n",
    "    missense_maf<-filter_maf_mutation.type(input_maf,\n",
    "                                      variants = 'Missense_Mutation',\n",
    "                                      variant.col = custom_maf_schema$column$mutation.type)\n",
    "    missense_tmb <- data.frame('sample'=mut_samples,'mutation'=rep(0,length(mut_samples)))\n",
    "    rownames(missense_tmb)<-mut_samples\n",
    "    temp <- missense_maf %>% count(sample) \n",
    "    rownames(temp)<-temp$sample\n",
    "    missense_tmb[intersect(missense_tmb$sample,temp$sample),]$mutation <-temp[intersect(missense_tmb$sample,temp$sample),'n']\n",
    "    t_m = substr(maf_valid[[custom_maf_schema$column$mutation]],3,1000)\n",
    "    t_m1 =  gsub('[A-Z]*$', '', t_m)\n",
    "    maf_valid$HGVSp_Short_fixed = t_m1\n",
    "    maf_hotspot = filter_maf_mutations(maf_valid,\n",
    "                                  variant_catalogue,\n",
    "                                  maf.col = c(custom_maf_schema$column$gene, 'HGVSp_Short_fixed'),\n",
    "                                  values.col = c('gene', 'mut'))\n",
    "\n",
    "    missense_tcga_gam = maf2gam(maf_hotspot,\n",
    "                     sample.col = custom_maf_schema$column$sample,\n",
    "                     gene.col = custom_maf_schema$column$gene,\n",
    "                     value.var = 'Variant_Classification',\n",
    "                     samples = mut_samples,\n",
    "                     genes = genes_to_consider,\n",
    "                     fun.aggregate = length,\n",
    "                     binarize=TRUE,\n",
    "                     fill=0)\n",
    "    missesne_data <- list('gam'=missense_tcga_gam,\n",
    "                          'tmb'=missense_tmb)\n",
    "\n",
    "tictoc::toc()"
   ]
  },
  {
   "cell_type": "code",
   "execution_count": 18,
   "id": "4f24a3fe-a48e-4be0-bd7b-09eb8fd2ab75",
   "metadata": {
    "scrolled": true
   },
   "outputs": [
    {
     "name": "stdout",
     "output_type": "stream",
     "text": [
      "List of 2\n",
      " $ gam: num [1:42790, 1:396] 0 0 0 0 0 0 0 0 0 0 ...\n",
      "  ..- attr(*, \"dimnames\")=List of 2\n",
      "  .. ..$ : chr [1:42790] \"GENIE-MSK-P-0081662-T01-IM7\" \"GENIE-MSK-P-0039091-T01-IM6\" \"GENIE-MSK-P-0013676-T01-IM5\" \"GENIE-MSK-P-0043596-T01-IM6\" ...\n",
      "  .. ..$ : chr [1:396] \"AKT1\" \"ALK\" \"APC\" \"AR\" ...\n",
      " $ tmb:'data.frame':\t42790 obs. of  2 variables:\n",
      "  ..$ sample  : chr [1:42790] \"GENIE-MSK-P-0081662-T01-IM7\" \"GENIE-MSK-P-0039091-T01-IM6\" \"GENIE-MSK-P-0013676-T01-IM5\" \"GENIE-MSK-P-0043596-T01-IM6\" ...\n",
      "  ..$ mutation: num [1:42790] 45 13 42 87 2 0 1 7 31 0 ...\n",
      "List of 2\n",
      " $ gam: num [1:42790, 1:396] 0 0 0 0 0 0 0 0 0 0 ...\n",
      "  ..- attr(*, \"dimnames\")=List of 2\n",
      "  .. ..$ : chr [1:42790] \"GENIE-MSK-P-0081662-T01-IM7\" \"GENIE-MSK-P-0039091-T01-IM6\" \"GENIE-MSK-P-0013676-T01-IM5\" \"GENIE-MSK-P-0043596-T01-IM6\" ...\n",
      "  .. ..$ : chr [1:396] \"AKT1\" \"ALK\" \"APC\" \"AR\" ...\n",
      " $ tmb:'data.frame':\t42790 obs. of  2 variables:\n",
      "  ..$ sample  : chr [1:42790] \"GENIE-MSK-P-0081662-T01-IM7\" \"GENIE-MSK-P-0039091-T01-IM6\" \"GENIE-MSK-P-0013676-T01-IM5\" \"GENIE-MSK-P-0043596-T01-IM6\" ...\n",
      "  ..$ mutation: num [1:42790] 23 105 405 652 3 22 7 43 38 2 ...\n"
     ]
    }
   ],
   "source": [
    "str(truncating_data)\n",
    "str(missesne_data)"
   ]
  },
  {
   "cell_type": "code",
   "execution_count": 19,
   "id": "b2c572a8-2d0e-4298-83f0-e86ebe8b3a1a",
   "metadata": {},
   "outputs": [
    {
     "data": {
      "text/html": [
       "<style>\n",
       ".list-inline {list-style: none; margin:0; padding: 0}\n",
       ".list-inline>li {display: inline-block}\n",
       ".list-inline>li:not(:last-child)::after {content: \"\\00b7\"; padding: 0 .5ex}\n",
       "</style>\n",
       "<ol class=list-inline><li>42790</li><li>22</li></ol>\n"
      ],
      "text/latex": [
       "\\begin{enumerate*}\n",
       "\\item 42790\n",
       "\\item 22\n",
       "\\end{enumerate*}\n"
      ],
      "text/markdown": [
       "1. 42790\n",
       "2. 22\n",
       "\n",
       "\n"
      ],
      "text/plain": [
       "[1] 42790    22"
      ]
     },
     "metadata": {},
     "output_type": "display_data"
    }
   ],
   "source": [
    "dim(genie_metadata_15_msk_with_mutation_selected_final_atleast_100_samples)"
   ]
  },
  {
   "cell_type": "code",
   "execution_count": 20,
   "id": "5ead9e98-b93e-45d3-af56-fc8287783da1",
   "metadata": {},
   "outputs": [
    {
     "data": {
      "text/html": [
       "<table class=\"dataframe\">\n",
       "<caption>A data.frame: 2 × 22</caption>\n",
       "<thead>\n",
       "\t<tr><th></th><th scope=col>PATIENT_ID</th><th scope=col>SEX</th><th scope=col>PRIMARY_RACE</th><th scope=col>ETHNICITY</th><th scope=col>CENTER</th><th scope=col>INT_CONTACT</th><th scope=col>INT_DOD</th><th scope=col>YEAR_CONTACT</th><th scope=col>DEAD</th><th scope=col>YEAR_DEATH</th><th scope=col>⋯</th><th scope=col>ONCOTREE_CODE</th><th scope=col>SAMPLE_TYPE</th><th scope=col>SEQ_ASSAY_ID</th><th scope=col>CANCER_TYPE</th><th scope=col>CANCER_TYPE_DETAILED</th><th scope=col>SAMPLE_TYPE_DETAILED</th><th scope=col>class</th><th scope=col>Tumor_run_group</th><th scope=col>final_class</th><th scope=col>final_run_group</th></tr>\n",
       "\t<tr><th></th><th scope=col>&lt;chr&gt;</th><th scope=col>&lt;chr&gt;</th><th scope=col>&lt;chr&gt;</th><th scope=col>&lt;chr&gt;</th><th scope=col>&lt;chr&gt;</th><th scope=col>&lt;chr&gt;</th><th scope=col>&lt;chr&gt;</th><th scope=col>&lt;chr&gt;</th><th scope=col>&lt;chr&gt;</th><th scope=col>&lt;chr&gt;</th><th scope=col>⋯</th><th scope=col>&lt;chr&gt;</th><th scope=col>&lt;chr&gt;</th><th scope=col>&lt;chr&gt;</th><th scope=col>&lt;chr&gt;</th><th scope=col>&lt;chr&gt;</th><th scope=col>&lt;chr&gt;</th><th scope=col>&lt;chr&gt;</th><th scope=col>&lt;chr&gt;</th><th scope=col>&lt;chr&gt;</th><th scope=col>&lt;chr&gt;</th></tr>\n",
       "</thead>\n",
       "<tbody>\n",
       "\t<tr><th scope=row>1</th><td>GENIE-MSK-P-0000223</td><td>Female</td><td>White</td><td>Non-Spanish/non-Hispanic</td><td>MSK</td><td>11142</td><td>11142</td><td>2016</td><td>TRUE</td><td>2016</td><td>⋯</td><td>AASTR</td><td>Primary</td><td>MSK-IMPACT341</td><td>Glioma</td><td>Anaplastic Astrocytoma</td><td>Primary tumor</td><td>AASTR</td><td>AASTR</td><td>Glioma_low_grade</td><td>Glioma</td></tr>\n",
       "\t<tr><th scope=row>2</th><td>GENIE-MSK-P-0000679</td><td>Female</td><td>White</td><td>Non-Spanish/non-Hispanic</td><td>MSK</td><td>22267</td><td>22267</td><td>2015</td><td>TRUE</td><td>2015</td><td>⋯</td><td>AASTR</td><td>Primary</td><td>MSK-IMPACT341</td><td>Glioma</td><td>Anaplastic Astrocytoma</td><td>Primary tumor</td><td>AASTR</td><td>AASTR</td><td>Glioma_low_grade</td><td>Glioma</td></tr>\n",
       "</tbody>\n",
       "</table>\n"
      ],
      "text/latex": [
       "A data.frame: 2 × 22\n",
       "\\begin{tabular}{r|lllllllllllllllllllll}\n",
       "  & PATIENT\\_ID & SEX & PRIMARY\\_RACE & ETHNICITY & CENTER & INT\\_CONTACT & INT\\_DOD & YEAR\\_CONTACT & DEAD & YEAR\\_DEATH & ⋯ & ONCOTREE\\_CODE & SAMPLE\\_TYPE & SEQ\\_ASSAY\\_ID & CANCER\\_TYPE & CANCER\\_TYPE\\_DETAILED & SAMPLE\\_TYPE\\_DETAILED & class & Tumor\\_run\\_group & final\\_class & final\\_run\\_group\\\\\n",
       "  & <chr> & <chr> & <chr> & <chr> & <chr> & <chr> & <chr> & <chr> & <chr> & <chr> & ⋯ & <chr> & <chr> & <chr> & <chr> & <chr> & <chr> & <chr> & <chr> & <chr> & <chr>\\\\\n",
       "\\hline\n",
       "\t1 & GENIE-MSK-P-0000223 & Female & White & Non-Spanish/non-Hispanic & MSK & 11142 & 11142 & 2016 & TRUE & 2016 & ⋯ & AASTR & Primary & MSK-IMPACT341 & Glioma & Anaplastic Astrocytoma & Primary tumor & AASTR & AASTR & Glioma\\_low\\_grade & Glioma\\\\\n",
       "\t2 & GENIE-MSK-P-0000679 & Female & White & Non-Spanish/non-Hispanic & MSK & 22267 & 22267 & 2015 & TRUE & 2015 & ⋯ & AASTR & Primary & MSK-IMPACT341 & Glioma & Anaplastic Astrocytoma & Primary tumor & AASTR & AASTR & Glioma\\_low\\_grade & Glioma\\\\\n",
       "\\end{tabular}\n"
      ],
      "text/markdown": [
       "\n",
       "A data.frame: 2 × 22\n",
       "\n",
       "| <!--/--> | PATIENT_ID &lt;chr&gt; | SEX &lt;chr&gt; | PRIMARY_RACE &lt;chr&gt; | ETHNICITY &lt;chr&gt; | CENTER &lt;chr&gt; | INT_CONTACT &lt;chr&gt; | INT_DOD &lt;chr&gt; | YEAR_CONTACT &lt;chr&gt; | DEAD &lt;chr&gt; | YEAR_DEATH &lt;chr&gt; | ⋯ ⋯ | ONCOTREE_CODE &lt;chr&gt; | SAMPLE_TYPE &lt;chr&gt; | SEQ_ASSAY_ID &lt;chr&gt; | CANCER_TYPE &lt;chr&gt; | CANCER_TYPE_DETAILED &lt;chr&gt; | SAMPLE_TYPE_DETAILED &lt;chr&gt; | class &lt;chr&gt; | Tumor_run_group &lt;chr&gt; | final_class &lt;chr&gt; | final_run_group &lt;chr&gt; |\n",
       "|---|---|---|---|---|---|---|---|---|---|---|---|---|---|---|---|---|---|---|---|---|---|\n",
       "| 1 | GENIE-MSK-P-0000223 | Female | White | Non-Spanish/non-Hispanic | MSK | 11142 | 11142 | 2016 | TRUE | 2016 | ⋯ | AASTR | Primary | MSK-IMPACT341 | Glioma | Anaplastic Astrocytoma | Primary tumor | AASTR | AASTR | Glioma_low_grade | Glioma |\n",
       "| 2 | GENIE-MSK-P-0000679 | Female | White | Non-Spanish/non-Hispanic | MSK | 22267 | 22267 | 2015 | TRUE | 2015 | ⋯ | AASTR | Primary | MSK-IMPACT341 | Glioma | Anaplastic Astrocytoma | Primary tumor | AASTR | AASTR | Glioma_low_grade | Glioma |\n",
       "\n"
      ],
      "text/plain": [
       "  PATIENT_ID          SEX    PRIMARY_RACE ETHNICITY                CENTER\n",
       "1 GENIE-MSK-P-0000223 Female White        Non-Spanish/non-Hispanic MSK   \n",
       "2 GENIE-MSK-P-0000679 Female White        Non-Spanish/non-Hispanic MSK   \n",
       "  INT_CONTACT INT_DOD YEAR_CONTACT DEAD YEAR_DEATH ⋯ ONCOTREE_CODE SAMPLE_TYPE\n",
       "1 11142       11142   2016         TRUE 2016       ⋯ AASTR         Primary    \n",
       "2 22267       22267   2015         TRUE 2015       ⋯ AASTR         Primary    \n",
       "  SEQ_ASSAY_ID  CANCER_TYPE CANCER_TYPE_DETAILED   SAMPLE_TYPE_DETAILED class\n",
       "1 MSK-IMPACT341 Glioma      Anaplastic Astrocytoma Primary tumor        AASTR\n",
       "2 MSK-IMPACT341 Glioma      Anaplastic Astrocytoma Primary tumor        AASTR\n",
       "  Tumor_run_group final_class      final_run_group\n",
       "1 AASTR           Glioma_low_grade Glioma         \n",
       "2 AASTR           Glioma_low_grade Glioma         "
      ]
     },
     "metadata": {},
     "output_type": "display_data"
    }
   ],
   "source": [
    "head(genie_metadata_15_msk_with_mutation_selected_final_atleast_100_samples,2)"
   ]
  },
  {
   "cell_type": "code",
   "execution_count": 21,
   "id": "f03039af-3c9c-4741-884e-b1f330df476a",
   "metadata": {},
   "outputs": [],
   "source": [
    "sample_annoation <- (genie_metadata_15_msk_with_mutation_selected_final_atleast_100_samples %>% filter(SAMPLE_ID %in% mut_samples))$final_class\n",
    "names(sample_annoation)<-(genie_metadata_15_msk_with_mutation_selected_final_atleast_100_samples %>% filter(SAMPLE_ID %in% mut_samples))$SAMPLE_ID"
   ]
  },
  {
   "cell_type": "code",
   "execution_count": 22,
   "id": "a6f41ecd-dc91-4534-b5e0-433994e1792f",
   "metadata": {},
   "outputs": [
    {
     "name": "stdout",
     "output_type": "stream",
     "text": [
      " Named chr [1:42790] \"Glioma_low_grade\" \"Glioma_low_grade\" ...\n",
      " - attr(*, \"names\")= chr [1:42790] \"GENIE-MSK-P-0000223-T01-IM3\" \"GENIE-MSK-P-0000679-T01-IM3\" \"GENIE-MSK-P-0000748-T01-IM3\" \"GENIE-MSK-P-0001408-T01-IM3\" ...\n"
     ]
    }
   ],
   "source": [
    "str(sample_annoation)"
   ]
  },
  {
   "cell_type": "markdown",
   "id": "37c96902-2d1d-4dcd-bc7e-5357e43cf281",
   "metadata": {},
   "source": [
    "## Creating Primary Run GAM"
   ]
  },
  {
   "cell_type": "code",
   "execution_count": 23,
   "id": "b0b995de-343e-49a9-bac5-e04262777872",
   "metadata": {},
   "outputs": [],
   "source": [
    "primary_samples<-(genie_metadata_15_msk_with_mutation_selected_final_atleast_100_samples %>% filter(SAMPLE_TYPE=='Primary'))$SAMPLE_ID"
   ]
  },
  {
   "cell_type": "code",
   "execution_count": 24,
   "id": "b491cc52-59be-4b54-8890-95382f7852f1",
   "metadata": {},
   "outputs": [],
   "source": [
    "gene_to_take <- colnames(missesne_data$gam)\n",
    "order <- primary_samples\n",
    "\n",
    "data <-list('M'=list('missense'=t(missesne_data$gam[order,gene_to_take]),\n",
    "                     'truncating'=t(truncating_data$gam[rownames(missesne_data$gam[order,]),gene_to_take])),\n",
    "            'tmb'=list('missense'=missesne_data$tmb[order,],\n",
    "                       'truncating'=truncating_data$tmb[order,]))\n",
    "\n",
    "alteration_covariates <- rep('MUT',ncol(missesne_data$gam[order,gene_to_take]))\n",
    "names(alteration_covariates)<-colnames(missesne_data$gam[order,gene_to_take])"
   ]
  },
  {
   "cell_type": "code",
   "execution_count": 25,
   "id": "d0189ec1-4fe5-432b-8a58-13b16949b878",
   "metadata": {
    "scrolled": true
   },
   "outputs": [
    {
     "name": "stdout",
     "output_type": "stream",
     "text": [
      "List of 3\n",
      " $ M               :List of 2\n",
      "  ..$ M  :List of 2\n",
      "  .. ..$ missense  : num [1:396, 1:27825] 0 0 0 0 0 0 0 0 0 0 ...\n",
      "  .. .. ..- attr(*, \"dimnames\")=List of 2\n",
      "  .. .. .. ..$ : chr [1:396] \"AKT1\" \"ALK\" \"APC\" \"AR\" ...\n",
      "  .. .. .. ..$ : chr [1:27825] \"GENIE-MSK-P-0000223-T01-IM3\" \"GENIE-MSK-P-0000679-T01-IM3\" \"GENIE-MSK-P-0000748-T01-IM3\" \"GENIE-MSK-P-0001408-T01-IM3\" ...\n",
      "  .. ..$ truncating: num [1:396, 1:27825] 0 0 0 0 0 0 0 0 0 0 ...\n",
      "  .. .. ..- attr(*, \"dimnames\")=List of 2\n",
      "  .. .. .. ..$ : chr [1:396] \"AKT1\" \"ALK\" \"APC\" \"AR\" ...\n",
      "  .. .. .. ..$ : chr [1:27825] \"GENIE-MSK-P-0000223-T01-IM3\" \"GENIE-MSK-P-0000679-T01-IM3\" \"GENIE-MSK-P-0000748-T01-IM3\" \"GENIE-MSK-P-0001408-T01-IM3\" ...\n",
      "  ..$ tmb:List of 2\n",
      "  .. ..$ missense  :'data.frame':\t27825 obs. of  2 variables:\n",
      "  .. .. ..$ sample  : chr [1:27825] \"GENIE-MSK-P-0000223-T01-IM3\" \"GENIE-MSK-P-0000679-T01-IM3\" \"GENIE-MSK-P-0000748-T01-IM3\" \"GENIE-MSK-P-0001408-T01-IM3\" ...\n",
      "  .. .. ..$ mutation: num [1:27825] 4 4 1 0 4 2 3 3 2 3 ...\n",
      "  .. ..$ truncating:'data.frame':\t27825 obs. of  2 variables:\n",
      "  .. .. ..$ sample  : chr [1:27825] \"GENIE-MSK-P-0000223-T01-IM3\" \"GENIE-MSK-P-0000679-T01-IM3\" \"GENIE-MSK-P-0000748-T01-IM3\" \"GENIE-MSK-P-0001408-T01-IM3\" ...\n",
      "  .. .. ..$ mutation: num [1:27825] 1 3 0 3 1 0 0 0 0 2 ...\n",
      " $ sample.class    : Named chr [1:27825] \"Glioma_low_grade\" \"Glioma_low_grade\" \"Glioma_low_grade\" \"Glioma_low_grade\" ...\n",
      "  ..- attr(*, \"names\")= chr [1:27825] \"GENIE-MSK-P-0000223-T01-IM3\" \"GENIE-MSK-P-0000679-T01-IM3\" \"GENIE-MSK-P-0000748-T01-IM3\" \"GENIE-MSK-P-0001408-T01-IM3\" ...\n",
      " $ alteration.class: Named chr [1:396] \"MUT\" \"MUT\" \"MUT\" \"MUT\" ...\n",
      "  ..- attr(*, \"names\")= chr [1:396] \"AKT1\" \"ALK\" \"APC\" \"AR\" ...\n"
     ]
    }
   ],
   "source": [
    "run_data <- list('M'=data,'sample.class' = sample_annoation[order],'alteration.class' = alteration_covariates)\n",
    "str(run_data)"
   ]
  },
  {
   "cell_type": "code",
   "execution_count": 26,
   "id": "b2ebf72f-8a92-4889-b310-2887f0e7c99b",
   "metadata": {},
   "outputs": [],
   "source": [
    "saveRDS(run_data,file='../data/processed/gams/pan_can_msk_primary_run_data_v15.rds')"
   ]
  },
  {
   "cell_type": "markdown",
   "id": "18dff3a9-d5de-4d8e-8ad1-e1819b1a50d2",
   "metadata": {},
   "source": [
    "## Creating Metastasis Run GAM"
   ]
  },
  {
   "cell_type": "code",
   "execution_count": 27,
   "id": "20a3cfb3-c738-4a27-a0c6-476528a80696",
   "metadata": {},
   "outputs": [],
   "source": [
    "meta_samples<-(genie_metadata_15_msk_with_mutation_selected_final_atleast_100_samples %>% filter(SAMPLE_TYPE!='Primary'))$SAMPLE_ID"
   ]
  },
  {
   "cell_type": "code",
   "execution_count": 28,
   "id": "5796c217-6086-4373-992b-9355105f5638",
   "metadata": {},
   "outputs": [],
   "source": [
    "gene_to_take <- colnames(missesne_data$gam)\n",
    "order <- meta_samples\n",
    "\n",
    "data <-list('M'=list('missense'=t(missesne_data$gam[order,gene_to_take]),\n",
    "                     'truncating'=t(truncating_data$gam[rownames(missesne_data$gam[order,]),gene_to_take])),\n",
    "            'tmb'=list('missense'=missesne_data$tmb[order,],\n",
    "                       'truncating'=truncating_data$tmb[order,]))\n",
    "\n",
    "alteration_covariates <- rep('MUT',ncol(missesne_data$gam[order,gene_to_take]))\n",
    "names(alteration_covariates)<-colnames(missesne_data$gam[order,gene_to_take])"
   ]
  },
  {
   "cell_type": "code",
   "execution_count": 29,
   "id": "d64cfd3c-7b24-47d4-8c7a-3bfe27ba8a98",
   "metadata": {
    "scrolled": true
   },
   "outputs": [
    {
     "name": "stdout",
     "output_type": "stream",
     "text": [
      "List of 3\n",
      " $ M               :List of 2\n",
      "  ..$ M  :List of 2\n",
      "  .. ..$ missense  : num [1:396, 1:14965] 0 0 0 0 0 0 0 0 0 0 ...\n",
      "  .. .. ..- attr(*, \"dimnames\")=List of 2\n",
      "  .. .. .. ..$ : chr [1:396] \"AKT1\" \"ALK\" \"APC\" \"AR\" ...\n",
      "  .. .. .. ..$ : chr [1:14965] \"GENIE-MSK-P-0020921-T01-IM6\" \"GENIE-MSK-P-0027135-T01-IM6\" \"GENIE-MSK-P-0045988-T02-IM6\" \"GENIE-MSK-P-0001029-T01-IM3\" ...\n",
      "  .. ..$ truncating: num [1:396, 1:14965] 0 0 0 0 0 0 0 0 0 0 ...\n",
      "  .. .. ..- attr(*, \"dimnames\")=List of 2\n",
      "  .. .. .. ..$ : chr [1:396] \"AKT1\" \"ALK\" \"APC\" \"AR\" ...\n",
      "  .. .. .. ..$ : chr [1:14965] \"GENIE-MSK-P-0020921-T01-IM6\" \"GENIE-MSK-P-0027135-T01-IM6\" \"GENIE-MSK-P-0045988-T02-IM6\" \"GENIE-MSK-P-0001029-T01-IM3\" ...\n",
      "  ..$ tmb:List of 2\n",
      "  .. ..$ missense  :'data.frame':\t14965 obs. of  2 variables:\n",
      "  .. .. ..$ sample  : chr [1:14965] \"GENIE-MSK-P-0020921-T01-IM6\" \"GENIE-MSK-P-0027135-T01-IM6\" \"GENIE-MSK-P-0045988-T02-IM6\" \"GENIE-MSK-P-0001029-T01-IM3\" ...\n",
      "  .. .. ..$ mutation: num [1:14965] 7 3 1 1 1 3 2 6 1 1 ...\n",
      "  .. ..$ truncating:'data.frame':\t14965 obs. of  2 variables:\n",
      "  .. .. ..$ sample  : chr [1:14965] \"GENIE-MSK-P-0020921-T01-IM6\" \"GENIE-MSK-P-0027135-T01-IM6\" \"GENIE-MSK-P-0045988-T02-IM6\" \"GENIE-MSK-P-0001029-T01-IM3\" ...\n",
      "  .. .. ..$ mutation: num [1:14965] 2 3 1 1 0 0 0 1 3 1 ...\n",
      " $ sample.class    : Named chr [1:14965] \"Glioma_low_grade\" \"Glioma_low_grade\" \"Glioma_low_grade\" \"ACRM\" ...\n",
      "  ..- attr(*, \"names\")= chr [1:14965] \"GENIE-MSK-P-0020921-T01-IM6\" \"GENIE-MSK-P-0027135-T01-IM6\" \"GENIE-MSK-P-0045988-T02-IM6\" \"GENIE-MSK-P-0001029-T01-IM3\" ...\n",
      " $ alteration.class: Named chr [1:396] \"MUT\" \"MUT\" \"MUT\" \"MUT\" ...\n",
      "  ..- attr(*, \"names\")= chr [1:396] \"AKT1\" \"ALK\" \"APC\" \"AR\" ...\n"
     ]
    }
   ],
   "source": [
    "run_data <- list('M'=data,'sample.class' = sample_annoation[order],'alteration.class' = alteration_covariates)\n",
    "str(run_data)"
   ]
  },
  {
   "cell_type": "code",
   "execution_count": 30,
   "id": "0a2afeda-4bcb-45b2-b156-54458b37fdb9",
   "metadata": {},
   "outputs": [],
   "source": [
    "saveRDS(run_data,file='../data/processed/gams/pan_can_msk_meta_run_data_v15.rds')"
   ]
  },
  {
   "cell_type": "markdown",
   "id": "2273f1b8-6b28-45e8-86bb-78f62b8827a6",
   "metadata": {},
   "source": [
    "# DFCI GAMs Generation"
   ]
  },
  {
   "cell_type": "code",
   "execution_count": 31,
   "id": "56ad96ea-67a2-4c06-9a97-5ccd4c30fc80",
   "metadata": {},
   "outputs": [],
   "source": [
    "genie_maf_dfci <- genie_maf %>% select(Chromosome,Start_Position,End_Position,Hugo_Symbol,Variant_Classification,Tumor_Sample_Barcode,HGVSp_Short) %>%\n",
    "filter(Tumor_Sample_Barcode %in% genie_metadata_15_dfci_with_mutation_selected_final_atleast_100_samples$SAMPLE_ID)"
   ]
  },
  {
   "cell_type": "code",
   "execution_count": 32,
   "id": "52be9062-d37a-4a71-9b4b-74ef06c11abb",
   "metadata": {},
   "outputs": [],
   "source": [
    "dfci_genes<-oncokb_genes"
   ]
  },
  {
   "cell_type": "code",
   "execution_count": 33,
   "id": "151e6793-39fa-4fea-8913-7893419ec5b2",
   "metadata": {},
   "outputs": [],
   "source": [
    "genie_maf_dfci$sample<-genie_maf_dfci$Tumor_Sample_Barcode"
   ]
  },
  {
   "cell_type": "code",
   "execution_count": 34,
   "id": "fd077bc1-c965-4e3a-a06d-cd33f4d8cd77",
   "metadata": {},
   "outputs": [
    {
     "name": "stdout",
     "output_type": "stream",
     "text": [
      "[1] \"##### Number of lines ####->284213\"\n",
      "[1] \"##### Number of genes ####->396\"\n"
     ]
    }
   ],
   "source": [
    "input_maf <- genie_maf_dfci\n",
    "print(paste('##### Number of lines ####',nrow(input_maf),sep=\"->\"))\n",
    "genes_to_consider =  dfci_genes\n",
    "print(paste('##### Number of genes ####',length(genes_to_consider),sep=\"->\"))"
   ]
  },
  {
   "cell_type": "code",
   "execution_count": 35,
   "id": "643c59e0-1fc4-4b2d-9bf6-78c8f0e85b07",
   "metadata": {},
   "outputs": [],
   "source": [
    "mutation_type = list(\n",
    "      'ignore' = c(\"Silent\",\"Intron\",\"RNA\",\"3'UTR\",\"5'UTR\",\"5'Flank\",\"3'Flank\",\"IGR\"),\n",
    "      'truncating'= c('Frame_Shift_Del','Frame_Shift_Ins','In_Frame_Del','In_Frame_Ins','Nonsense_Mutation','Nonstop_Mutation','Splice_Region','Splice_Site','Translation_Start_Site'),\n",
    "      'missense' = c('Missense_Mutation')\n",
    ")\n",
    "custom_maf_schema = list(\n",
    "    'name' = 'custom_maf',\n",
    "    'column' = list(\n",
    "          'gene' = 'Hugo_Symbol'\n",
    "        , 'gene.name' = 'Hugo_Symbol'\n",
    "        , 'sample' = 'sample'\n",
    "        , 'sample.name' = 'sample'\n",
    "        , 'mutation.type' = 'Variant_Classification'\n",
    "        , 'mutation' = 'HGVSp_Short'\n",
    "        ),\n",
    "        'mutation.type' = mutation_type\n",
    ")"
   ]
  },
  {
   "cell_type": "code",
   "execution_count": 36,
   "id": "351f1eab-8acd-45bc-90eb-c40a130838d4",
   "metadata": {},
   "outputs": [
    {
     "data": {
      "text/html": [
       "<table class=\"dataframe\">\n",
       "<caption>A data.frame: 6 × 8</caption>\n",
       "<thead>\n",
       "\t<tr><th></th><th scope=col>Chromosome</th><th scope=col>Start_Position</th><th scope=col>End_Position</th><th scope=col>Hugo_Symbol</th><th scope=col>Variant_Classification</th><th scope=col>Tumor_Sample_Barcode</th><th scope=col>HGVSp_Short</th><th scope=col>sample</th></tr>\n",
       "\t<tr><th></th><th scope=col>&lt;chr&gt;</th><th scope=col>&lt;int&gt;</th><th scope=col>&lt;int&gt;</th><th scope=col>&lt;chr&gt;</th><th scope=col>&lt;chr&gt;</th><th scope=col>&lt;chr&gt;</th><th scope=col>&lt;chr&gt;</th><th scope=col>&lt;chr&gt;</th></tr>\n",
       "</thead>\n",
       "<tbody>\n",
       "\t<tr><th scope=row>1</th><td>19</td><td> 42777065</td><td> 42777065</td><td>CIC   </td><td>Missense_Mutation</td><td>GENIE-DFCI-183676-2518535</td><td>p.K377R     </td><td>GENIE-DFCI-183676-2518535</td></tr>\n",
       "\t<tr><th scope=row>2</th><td>9 </td><td>139399555</td><td>139399555</td><td>NOTCH1</td><td>Missense_Mutation</td><td>GENIE-DFCI-183676-2518535</td><td>p.P1530S    </td><td>GENIE-DFCI-183676-2518535</td></tr>\n",
       "\t<tr><th scope=row>3</th><td>11</td><td>108163428</td><td>108163431</td><td>ATM   </td><td>Frame_Shift_Del  </td><td>GENIE-DFCI-183676-2518535</td><td>p.Y1508Vfs*5</td><td>GENIE-DFCI-183676-2518535</td></tr>\n",
       "\t<tr><th scope=row>4</th><td>8 </td><td> 41790280</td><td> 41790280</td><td>KAT6A </td><td>Missense_Mutation</td><td>GENIE-DFCI-183676-2518535</td><td>p.T1820A    </td><td>GENIE-DFCI-183676-2518535</td></tr>\n",
       "\t<tr><th scope=row>5</th><td>7 </td><td> 55233012</td><td> 55233012</td><td>EGFR  </td><td>Missense_Mutation</td><td>GENIE-DFCI-183676-2518535</td><td>p.G588S     </td><td>GENIE-DFCI-183676-2518535</td></tr>\n",
       "\t<tr><th scope=row>6</th><td>11</td><td> 94192612</td><td> 94192612</td><td>MRE11A</td><td>Missense_Mutation</td><td>GENIE-DFCI-183676-2518535</td><td>p.R488C     </td><td>GENIE-DFCI-183676-2518535</td></tr>\n",
       "</tbody>\n",
       "</table>\n"
      ],
      "text/latex": [
       "A data.frame: 6 × 8\n",
       "\\begin{tabular}{r|llllllll}\n",
       "  & Chromosome & Start\\_Position & End\\_Position & Hugo\\_Symbol & Variant\\_Classification & Tumor\\_Sample\\_Barcode & HGVSp\\_Short & sample\\\\\n",
       "  & <chr> & <int> & <int> & <chr> & <chr> & <chr> & <chr> & <chr>\\\\\n",
       "\\hline\n",
       "\t1 & 19 &  42777065 &  42777065 & CIC    & Missense\\_Mutation & GENIE-DFCI-183676-2518535 & p.K377R      & GENIE-DFCI-183676-2518535\\\\\n",
       "\t2 & 9  & 139399555 & 139399555 & NOTCH1 & Missense\\_Mutation & GENIE-DFCI-183676-2518535 & p.P1530S     & GENIE-DFCI-183676-2518535\\\\\n",
       "\t3 & 11 & 108163428 & 108163431 & ATM    & Frame\\_Shift\\_Del   & GENIE-DFCI-183676-2518535 & p.Y1508Vfs*5 & GENIE-DFCI-183676-2518535\\\\\n",
       "\t4 & 8  &  41790280 &  41790280 & KAT6A  & Missense\\_Mutation & GENIE-DFCI-183676-2518535 & p.T1820A     & GENIE-DFCI-183676-2518535\\\\\n",
       "\t5 & 7  &  55233012 &  55233012 & EGFR   & Missense\\_Mutation & GENIE-DFCI-183676-2518535 & p.G588S      & GENIE-DFCI-183676-2518535\\\\\n",
       "\t6 & 11 &  94192612 &  94192612 & MRE11A & Missense\\_Mutation & GENIE-DFCI-183676-2518535 & p.R488C      & GENIE-DFCI-183676-2518535\\\\\n",
       "\\end{tabular}\n"
      ],
      "text/markdown": [
       "\n",
       "A data.frame: 6 × 8\n",
       "\n",
       "| <!--/--> | Chromosome &lt;chr&gt; | Start_Position &lt;int&gt; | End_Position &lt;int&gt; | Hugo_Symbol &lt;chr&gt; | Variant_Classification &lt;chr&gt; | Tumor_Sample_Barcode &lt;chr&gt; | HGVSp_Short &lt;chr&gt; | sample &lt;chr&gt; |\n",
       "|---|---|---|---|---|---|---|---|---|\n",
       "| 1 | 19 |  42777065 |  42777065 | CIC    | Missense_Mutation | GENIE-DFCI-183676-2518535 | p.K377R      | GENIE-DFCI-183676-2518535 |\n",
       "| 2 | 9  | 139399555 | 139399555 | NOTCH1 | Missense_Mutation | GENIE-DFCI-183676-2518535 | p.P1530S     | GENIE-DFCI-183676-2518535 |\n",
       "| 3 | 11 | 108163428 | 108163431 | ATM    | Frame_Shift_Del   | GENIE-DFCI-183676-2518535 | p.Y1508Vfs*5 | GENIE-DFCI-183676-2518535 |\n",
       "| 4 | 8  |  41790280 |  41790280 | KAT6A  | Missense_Mutation | GENIE-DFCI-183676-2518535 | p.T1820A     | GENIE-DFCI-183676-2518535 |\n",
       "| 5 | 7  |  55233012 |  55233012 | EGFR   | Missense_Mutation | GENIE-DFCI-183676-2518535 | p.G588S      | GENIE-DFCI-183676-2518535 |\n",
       "| 6 | 11 |  94192612 |  94192612 | MRE11A | Missense_Mutation | GENIE-DFCI-183676-2518535 | p.R488C      | GENIE-DFCI-183676-2518535 |\n",
       "\n"
      ],
      "text/plain": [
       "  Chromosome Start_Position End_Position Hugo_Symbol Variant_Classification\n",
       "1 19          42777065       42777065    CIC         Missense_Mutation     \n",
       "2 9          139399555      139399555    NOTCH1      Missense_Mutation     \n",
       "3 11         108163428      108163431    ATM         Frame_Shift_Del       \n",
       "4 8           41790280       41790280    KAT6A       Missense_Mutation     \n",
       "5 7           55233012       55233012    EGFR        Missense_Mutation     \n",
       "6 11          94192612       94192612    MRE11A      Missense_Mutation     \n",
       "  Tumor_Sample_Barcode      HGVSp_Short  sample                   \n",
       "1 GENIE-DFCI-183676-2518535 p.K377R      GENIE-DFCI-183676-2518535\n",
       "2 GENIE-DFCI-183676-2518535 p.P1530S     GENIE-DFCI-183676-2518535\n",
       "3 GENIE-DFCI-183676-2518535 p.Y1508Vfs*5 GENIE-DFCI-183676-2518535\n",
       "4 GENIE-DFCI-183676-2518535 p.T1820A     GENIE-DFCI-183676-2518535\n",
       "5 GENIE-DFCI-183676-2518535 p.G588S      GENIE-DFCI-183676-2518535\n",
       "6 GENIE-DFCI-183676-2518535 p.R488C      GENIE-DFCI-183676-2518535"
      ]
     },
     "metadata": {},
     "output_type": "display_data"
    }
   ],
   "source": [
    "head(genie_maf_dfci)"
   ]
  },
  {
   "cell_type": "code",
   "execution_count": 37,
   "id": "1b29e170-4842-4924-8a65-f36eaf57b3ea",
   "metadata": {},
   "outputs": [
    {
     "name": "stdout",
     "output_type": "stream",
     "text": [
      "[1] \"##### Number of samples ####->22264\"\n"
     ]
    }
   ],
   "source": [
    "mut_samples = unique(input_maf[, custom_maf_schema$column$sample])\n",
    "print(paste('##### Number of samples ####',length(mut_samples),sep=\"->\"))"
   ]
  },
  {
   "cell_type": "code",
   "execution_count": 38,
   "id": "66799539-a9c2-4381-a8ba-a7510fb90e79",
   "metadata": {},
   "outputs": [
    {
     "name": "stdout",
     "output_type": "stream",
     "text": [
      "[1] \"##### Number of lines ####->192526\"\n"
     ]
    }
   ],
   "source": [
    "maf_genes = filter_maf_gene.name(input_maf, genes = genes_to_consider, gene.col = custom_maf_schema$column$gene)\n",
    "print(paste('##### Number of lines ####',nrow(maf_genes),sep=\"->\"))"
   ]
  },
  {
   "cell_type": "code",
   "execution_count": 39,
   "id": "03b3ae81-7fce-4d92-bd6c-4f652623821e",
   "metadata": {},
   "outputs": [
    {
     "name": "stdout",
     "output_type": "stream",
     "text": [
      "##### Creating Truncating GAM ####: 4.393 sec elapsed\n"
     ]
    }
   ],
   "source": [
    "tictoc::tic('##### Creating Truncating GAM ####')\n",
    "    maf_trunc = filter_maf_truncating(maf_genes,genes=oncokb_truncating_genes, custom_maf_schema)\n",
    "    input_maf_trunc<-filter_maf_truncating(input_maf, custom_maf_schema)\n",
    "    truncating_tmb <- data.frame('sample'=mut_samples,'mutation'=rep(0,length(mut_samples)))\n",
    "    rownames(truncating_tmb)<-mut_samples\n",
    "    temp <- input_maf_trunc %>% count(sample) \n",
    "    rownames(temp)<-temp$sample\n",
    "    truncating_tmb[intersect(truncating_tmb$sample,temp$sample),]$mutation <-temp[intersect(truncating_tmb$sample,temp$sample),'n']\n",
    "    tcga_truc_gam = maf2gam(maf_trunc,\n",
    "                     sample.col = custom_maf_schema$column$sample,\n",
    "                     gene.col = custom_maf_schema$column$gene,\n",
    "                     value.var = 'Variant_Classification',\n",
    "                     samples = mut_samples,\n",
    "                     genes = genes_to_consider,\n",
    "                     fun.aggregate = length,\n",
    "                     binarize=TRUE,\n",
    "                     fill=0)\n",
    "    truncating_data <- list('gam'=tcga_truc_gam,\n",
    "                            'tmb'=truncating_tmb)\n",
    "tictoc::toc()"
   ]
  },
  {
   "cell_type": "code",
   "execution_count": 40,
   "id": "f77b6bf2-6bc8-4040-b8cb-a1206db2e955",
   "metadata": {},
   "outputs": [
    {
     "name": "stdout",
     "output_type": "stream",
     "text": [
      "##### Creating Missense GAM ####: 5.791 sec elapsed\n"
     ]
    }
   ],
   "source": [
    "tictoc::tic('##### Creating Missense GAM ####')\n",
    "    maf_valid = filter_maf_schema(input_maf,\n",
    "                             schema = custom_maf_schema,\n",
    "                             column = 'mutation.type',\n",
    "                             values = custom_maf_schema[['mutation.type']][['ignore']],\n",
    "                             inclusive = FALSE)\n",
    "    missense_maf<-filter_maf_mutation.type(input_maf,\n",
    "                                      variants = 'Missense_Mutation',\n",
    "                                      variant.col = custom_maf_schema$column$mutation.type)\n",
    "    missense_tmb <- data.frame('sample'=mut_samples,'mutation'=rep(0,length(mut_samples)))\n",
    "    rownames(missense_tmb)<-mut_samples\n",
    "    temp <- missense_maf %>% count(sample) \n",
    "    rownames(temp)<-temp$sample\n",
    "    missense_tmb[intersect(missense_tmb$sample,temp$sample),]$mutation <-temp[intersect(missense_tmb$sample,temp$sample),'n']\n",
    "    t_m = substr(maf_valid[[custom_maf_schema$column$mutation]],3,1000)\n",
    "    t_m1 =  gsub('[A-Z]*$', '', t_m)\n",
    "    maf_valid$HGVSp_Short_fixed = t_m1\n",
    "    maf_hotspot = filter_maf_mutations(maf_valid,\n",
    "                                  variant_catalogue,\n",
    "                                  maf.col = c(custom_maf_schema$column$gene, 'HGVSp_Short_fixed'),\n",
    "                                  values.col = c('gene', 'mut'))\n",
    "\n",
    "    missense_tcga_gam = maf2gam(maf_hotspot,\n",
    "                     sample.col = custom_maf_schema$column$sample,\n",
    "                     gene.col = custom_maf_schema$column$gene,\n",
    "                     value.var = 'Variant_Classification',\n",
    "                     samples = mut_samples,\n",
    "                     genes = genes_to_consider,\n",
    "                     fun.aggregate = length,\n",
    "                     binarize=TRUE,\n",
    "                     fill=0)\n",
    "    missesne_data <- list('gam'=missense_tcga_gam,\n",
    "                          'tmb'=missense_tmb)\n",
    "\n",
    "tictoc::toc()"
   ]
  },
  {
   "cell_type": "code",
   "execution_count": 41,
   "id": "d0bf8d29-8c1d-4e33-94fd-e98eab65e1e5",
   "metadata": {
    "scrolled": true
   },
   "outputs": [
    {
     "name": "stdout",
     "output_type": "stream",
     "text": [
      "List of 2\n",
      " $ gam: num [1:22264, 1:396] 0 0 0 0 0 0 0 0 0 0 ...\n",
      "  ..- attr(*, \"dimnames\")=List of 2\n",
      "  .. ..$ : chr [1:22264] \"GENIE-DFCI-183676-2518535\" \"GENIE-DFCI-000605-5717\" \"GENIE-DFCI-006285-6798\" \"GENIE-DFCI-008427-5883\" ...\n",
      "  .. ..$ : chr [1:396] \"AKT1\" \"ALK\" \"APC\" \"AR\" ...\n",
      " $ tmb:'data.frame':\t22264 obs. of  2 variables:\n",
      "  ..$ sample  : chr [1:22264] \"GENIE-DFCI-183676-2518535\" \"GENIE-DFCI-000605-5717\" \"GENIE-DFCI-008456-8063\" \"GENIE-DFCI-006285-6798\" ...\n",
      "  ..$ mutation: num [1:22264] 4 2 1 1 2 1 3 1 0 3 ...\n",
      "List of 2\n",
      " $ gam: num [1:22264, 1:396] 0 0 0 0 0 0 0 0 0 0 ...\n",
      "  ..- attr(*, \"dimnames\")=List of 2\n",
      "  .. ..$ : chr [1:22264] \"GENIE-DFCI-183676-2518535\" \"GENIE-DFCI-000605-5717\" \"GENIE-DFCI-008456-8063\" \"GENIE-DFCI-008516-7383\" ...\n",
      "  .. ..$ : chr [1:396] \"AKT1\" \"ALK\" \"APC\" \"AR\" ...\n",
      " $ tmb:'data.frame':\t22264 obs. of  2 variables:\n",
      "  ..$ sample  : chr [1:22264] \"GENIE-DFCI-183676-2518535\" \"GENIE-DFCI-000605-5717\" \"GENIE-DFCI-008456-8063\" \"GENIE-DFCI-006285-6798\" ...\n",
      "  ..$ mutation: num [1:22264] 7 1 5 1 7 9 6 1 10 1 ...\n"
     ]
    }
   ],
   "source": [
    "str(truncating_data)\n",
    "str(missesne_data)"
   ]
  },
  {
   "cell_type": "code",
   "execution_count": 42,
   "id": "988d3439-93c7-4f3b-b889-ad19b6f1a552",
   "metadata": {},
   "outputs": [
    {
     "data": {
      "text/html": [
       "<style>\n",
       ".list-inline {list-style: none; margin:0; padding: 0}\n",
       ".list-inline>li {display: inline-block}\n",
       ".list-inline>li:not(:last-child)::after {content: \"\\00b7\"; padding: 0 .5ex}\n",
       "</style>\n",
       "<ol class=list-inline><li>22264</li><li>20</li></ol>\n"
      ],
      "text/latex": [
       "\\begin{enumerate*}\n",
       "\\item 22264\n",
       "\\item 20\n",
       "\\end{enumerate*}\n"
      ],
      "text/markdown": [
       "1. 22264\n",
       "2. 20\n",
       "\n",
       "\n"
      ],
      "text/plain": [
       "[1] 22264    20"
      ]
     },
     "metadata": {},
     "output_type": "display_data"
    }
   ],
   "source": [
    "dim(genie_metadata_15_dfci_with_mutation_selected_final_atleast_100_samples)"
   ]
  },
  {
   "cell_type": "code",
   "execution_count": 43,
   "id": "8cbd9d99-0eb4-46b2-903b-35f39ced3e29",
   "metadata": {},
   "outputs": [
    {
     "data": {
      "text/html": [
       "<table class=\"dataframe\">\n",
       "<caption>A data.frame: 2 × 20</caption>\n",
       "<thead>\n",
       "\t<tr><th></th><th scope=col>PATIENT_ID</th><th scope=col>SEX</th><th scope=col>PRIMARY_RACE</th><th scope=col>ETHNICITY</th><th scope=col>CENTER</th><th scope=col>INT_CONTACT</th><th scope=col>INT_DOD</th><th scope=col>YEAR_CONTACT</th><th scope=col>DEAD</th><th scope=col>YEAR_DEATH</th><th scope=col>SAMPLE_ID</th><th scope=col>AGE_AT_SEQ_REPORT</th><th scope=col>ONCOTREE_CODE</th><th scope=col>SAMPLE_TYPE</th><th scope=col>SEQ_ASSAY_ID</th><th scope=col>CANCER_TYPE</th><th scope=col>CANCER_TYPE_DETAILED</th><th scope=col>SAMPLE_TYPE_DETAILED</th><th scope=col>final_class</th><th scope=col>final_run_group</th></tr>\n",
       "\t<tr><th></th><th scope=col>&lt;chr&gt;</th><th scope=col>&lt;chr&gt;</th><th scope=col>&lt;chr&gt;</th><th scope=col>&lt;chr&gt;</th><th scope=col>&lt;chr&gt;</th><th scope=col>&lt;chr&gt;</th><th scope=col>&lt;chr&gt;</th><th scope=col>&lt;chr&gt;</th><th scope=col>&lt;chr&gt;</th><th scope=col>&lt;chr&gt;</th><th scope=col>&lt;chr&gt;</th><th scope=col>&lt;chr&gt;</th><th scope=col>&lt;chr&gt;</th><th scope=col>&lt;chr&gt;</th><th scope=col>&lt;chr&gt;</th><th scope=col>&lt;chr&gt;</th><th scope=col>&lt;chr&gt;</th><th scope=col>&lt;chr&gt;</th><th scope=col>&lt;chr&gt;</th><th scope=col>&lt;chr&gt;</th></tr>\n",
       "</thead>\n",
       "<tbody>\n",
       "\t<tr><th scope=row>1</th><td>GENIE-DFCI-000145</td><td>Male</td><td>White</td><td>Non-Spanish/non-Hispanic</td><td>DFCI</td><td>26418</td><td>Not Applicable</td><td>2022</td><td>False</td><td>Not Applicable</td><td>GENIE-DFCI-000145-3971</td><td>64</td><td>LUAD</td><td>Metastasis</td><td>DFCI-ONCOPANEL-2</td><td>Non-Small Cell Lung Cancer</td><td>Lung Adenocarcinoma</td><td>Metastasis site unspecified</td><td>LUAD</td><td>Non-Small Cell Lung Cancer</td></tr>\n",
       "\t<tr><th scope=row>2</th><td>GENIE-DFCI-007383</td><td>Male</td><td>White</td><td>Non-Spanish/non-Hispanic</td><td>DFCI</td><td>23668</td><td>23673         </td><td>2015</td><td>True </td><td>2015          </td><td>GENIE-DFCI-007383-3930</td><td>64</td><td>LUAD</td><td>Metastasis</td><td>DFCI-ONCOPANEL-2</td><td>Non-Small Cell Lung Cancer</td><td>Lung Adenocarcinoma</td><td>Metastasis site unspecified</td><td>LUAD</td><td>Non-Small Cell Lung Cancer</td></tr>\n",
       "</tbody>\n",
       "</table>\n"
      ],
      "text/latex": [
       "A data.frame: 2 × 20\n",
       "\\begin{tabular}{r|llllllllllllllllllll}\n",
       "  & PATIENT\\_ID & SEX & PRIMARY\\_RACE & ETHNICITY & CENTER & INT\\_CONTACT & INT\\_DOD & YEAR\\_CONTACT & DEAD & YEAR\\_DEATH & SAMPLE\\_ID & AGE\\_AT\\_SEQ\\_REPORT & ONCOTREE\\_CODE & SAMPLE\\_TYPE & SEQ\\_ASSAY\\_ID & CANCER\\_TYPE & CANCER\\_TYPE\\_DETAILED & SAMPLE\\_TYPE\\_DETAILED & final\\_class & final\\_run\\_group\\\\\n",
       "  & <chr> & <chr> & <chr> & <chr> & <chr> & <chr> & <chr> & <chr> & <chr> & <chr> & <chr> & <chr> & <chr> & <chr> & <chr> & <chr> & <chr> & <chr> & <chr> & <chr>\\\\\n",
       "\\hline\n",
       "\t1 & GENIE-DFCI-000145 & Male & White & Non-Spanish/non-Hispanic & DFCI & 26418 & Not Applicable & 2022 & False & Not Applicable & GENIE-DFCI-000145-3971 & 64 & LUAD & Metastasis & DFCI-ONCOPANEL-2 & Non-Small Cell Lung Cancer & Lung Adenocarcinoma & Metastasis site unspecified & LUAD & Non-Small Cell Lung Cancer\\\\\n",
       "\t2 & GENIE-DFCI-007383 & Male & White & Non-Spanish/non-Hispanic & DFCI & 23668 & 23673          & 2015 & True  & 2015           & GENIE-DFCI-007383-3930 & 64 & LUAD & Metastasis & DFCI-ONCOPANEL-2 & Non-Small Cell Lung Cancer & Lung Adenocarcinoma & Metastasis site unspecified & LUAD & Non-Small Cell Lung Cancer\\\\\n",
       "\\end{tabular}\n"
      ],
      "text/markdown": [
       "\n",
       "A data.frame: 2 × 20\n",
       "\n",
       "| <!--/--> | PATIENT_ID &lt;chr&gt; | SEX &lt;chr&gt; | PRIMARY_RACE &lt;chr&gt; | ETHNICITY &lt;chr&gt; | CENTER &lt;chr&gt; | INT_CONTACT &lt;chr&gt; | INT_DOD &lt;chr&gt; | YEAR_CONTACT &lt;chr&gt; | DEAD &lt;chr&gt; | YEAR_DEATH &lt;chr&gt; | SAMPLE_ID &lt;chr&gt; | AGE_AT_SEQ_REPORT &lt;chr&gt; | ONCOTREE_CODE &lt;chr&gt; | SAMPLE_TYPE &lt;chr&gt; | SEQ_ASSAY_ID &lt;chr&gt; | CANCER_TYPE &lt;chr&gt; | CANCER_TYPE_DETAILED &lt;chr&gt; | SAMPLE_TYPE_DETAILED &lt;chr&gt; | final_class &lt;chr&gt; | final_run_group &lt;chr&gt; |\n",
       "|---|---|---|---|---|---|---|---|---|---|---|---|---|---|---|---|---|---|---|---|---|\n",
       "| 1 | GENIE-DFCI-000145 | Male | White | Non-Spanish/non-Hispanic | DFCI | 26418 | Not Applicable | 2022 | False | Not Applicable | GENIE-DFCI-000145-3971 | 64 | LUAD | Metastasis | DFCI-ONCOPANEL-2 | Non-Small Cell Lung Cancer | Lung Adenocarcinoma | Metastasis site unspecified | LUAD | Non-Small Cell Lung Cancer |\n",
       "| 2 | GENIE-DFCI-007383 | Male | White | Non-Spanish/non-Hispanic | DFCI | 23668 | 23673          | 2015 | True  | 2015           | GENIE-DFCI-007383-3930 | 64 | LUAD | Metastasis | DFCI-ONCOPANEL-2 | Non-Small Cell Lung Cancer | Lung Adenocarcinoma | Metastasis site unspecified | LUAD | Non-Small Cell Lung Cancer |\n",
       "\n"
      ],
      "text/plain": [
       "  PATIENT_ID        SEX  PRIMARY_RACE ETHNICITY                CENTER\n",
       "1 GENIE-DFCI-000145 Male White        Non-Spanish/non-Hispanic DFCI  \n",
       "2 GENIE-DFCI-007383 Male White        Non-Spanish/non-Hispanic DFCI  \n",
       "  INT_CONTACT INT_DOD        YEAR_CONTACT DEAD  YEAR_DEATH    \n",
       "1 26418       Not Applicable 2022         False Not Applicable\n",
       "2 23668       23673          2015         True  2015          \n",
       "  SAMPLE_ID              AGE_AT_SEQ_REPORT ONCOTREE_CODE SAMPLE_TYPE\n",
       "1 GENIE-DFCI-000145-3971 64                LUAD          Metastasis \n",
       "2 GENIE-DFCI-007383-3930 64                LUAD          Metastasis \n",
       "  SEQ_ASSAY_ID     CANCER_TYPE                CANCER_TYPE_DETAILED\n",
       "1 DFCI-ONCOPANEL-2 Non-Small Cell Lung Cancer Lung Adenocarcinoma \n",
       "2 DFCI-ONCOPANEL-2 Non-Small Cell Lung Cancer Lung Adenocarcinoma \n",
       "  SAMPLE_TYPE_DETAILED        final_class final_run_group           \n",
       "1 Metastasis site unspecified LUAD        Non-Small Cell Lung Cancer\n",
       "2 Metastasis site unspecified LUAD        Non-Small Cell Lung Cancer"
      ]
     },
     "metadata": {},
     "output_type": "display_data"
    }
   ],
   "source": [
    "head(genie_metadata_15_dfci_with_mutation_selected_final_atleast_100_samples,2)"
   ]
  },
  {
   "cell_type": "code",
   "execution_count": 44,
   "id": "2ba38366-7207-426b-9d1d-99203dede14d",
   "metadata": {},
   "outputs": [],
   "source": [
    "sample_annoation <- (genie_metadata_15_dfci_with_mutation_selected_final_atleast_100_samples %>% filter(SAMPLE_ID %in% mut_samples))$final_class\n",
    "names(sample_annoation)<-(genie_metadata_15_dfci_with_mutation_selected_final_atleast_100_samples %>% filter(SAMPLE_ID %in% mut_samples))$SAMPLE_ID"
   ]
  },
  {
   "cell_type": "code",
   "execution_count": 45,
   "id": "9f265f2e-fbfb-439b-beed-8b62879111d5",
   "metadata": {},
   "outputs": [
    {
     "name": "stdout",
     "output_type": "stream",
     "text": [
      " Named chr [1:22264] \"LUAD\" \"LUAD\" \"BLCA\" \"LUAD\" \"LUSC\" \"THPA\" \"STAD\" \"IDC\" ...\n",
      " - attr(*, \"names\")= chr [1:22264] \"GENIE-DFCI-000145-3971\" \"GENIE-DFCI-007383-3930\" \"GENIE-DFCI-000018-4015\" \"GENIE-DFCI-000544-5758\" ...\n"
     ]
    }
   ],
   "source": [
    "str(sample_annoation)"
   ]
  },
  {
   "cell_type": "markdown",
   "id": "a5f4aa0a-5278-4aaa-96cf-8d1431198325",
   "metadata": {},
   "source": [
    "## Creating Primary Run GAM"
   ]
  },
  {
   "cell_type": "code",
   "execution_count": 46,
   "id": "e59b5017-2325-4ad6-be14-aded7887e6ac",
   "metadata": {},
   "outputs": [],
   "source": [
    "primary_samples<-(genie_metadata_15_dfci_with_mutation_selected_final_atleast_100_samples %>% filter(SAMPLE_TYPE=='Primary'))$SAMPLE_ID"
   ]
  },
  {
   "cell_type": "code",
   "execution_count": 47,
   "id": "c3d67425-b325-4dda-b44f-76bf616c06e2",
   "metadata": {},
   "outputs": [],
   "source": [
    "gene_to_take <- colnames(missesne_data$gam)\n",
    "order <- primary_samples\n",
    "\n",
    "data <-list('M'=list('missense'=t(missesne_data$gam[order,gene_to_take]),\n",
    "                     'truncating'=t(truncating_data$gam[rownames(missesne_data$gam[order,]),gene_to_take])),\n",
    "            'tmb'=list('missense'=missesne_data$tmb[order,],\n",
    "                       'truncating'=truncating_data$tmb[order,]))\n",
    "\n",
    "alteration_covariates <- rep('MUT',ncol(missesne_data$gam[order,gene_to_take]))\n",
    "names(alteration_covariates)<-colnames(missesne_data$gam[order,gene_to_take])"
   ]
  },
  {
   "cell_type": "code",
   "execution_count": 48,
   "id": "242d187b-84e9-4bf5-9445-df0ded036c7f",
   "metadata": {
    "scrolled": true
   },
   "outputs": [
    {
     "name": "stdout",
     "output_type": "stream",
     "text": [
      "List of 3\n",
      " $ M               :List of 2\n",
      "  ..$ M  :List of 2\n",
      "  .. ..$ missense  : num [1:396, 1:14657] 0 0 0 0 0 0 0 0 0 0 ...\n",
      "  .. .. ..- attr(*, \"dimnames\")=List of 2\n",
      "  .. .. .. ..$ : chr [1:396] \"AKT1\" \"ALK\" \"APC\" \"AR\" ...\n",
      "  .. .. .. ..$ : chr [1:14657] \"GENIE-DFCI-000018-4015\" \"GENIE-DFCI-003388-5143\" \"GENIE-DFCI-001376-5688\" \"GENIE-DFCI-001329-1827\" ...\n",
      "  .. ..$ truncating: num [1:396, 1:14657] 0 0 0 0 0 0 0 0 0 0 ...\n",
      "  .. .. ..- attr(*, \"dimnames\")=List of 2\n",
      "  .. .. .. ..$ : chr [1:396] \"AKT1\" \"ALK\" \"APC\" \"AR\" ...\n",
      "  .. .. .. ..$ : chr [1:14657] \"GENIE-DFCI-000018-4015\" \"GENIE-DFCI-003388-5143\" \"GENIE-DFCI-001376-5688\" \"GENIE-DFCI-001329-1827\" ...\n",
      "  ..$ tmb:List of 2\n",
      "  .. ..$ missense  :'data.frame':\t14657 obs. of  2 variables:\n",
      "  .. .. ..$ sample  : chr [1:14657] \"GENIE-DFCI-000018-4015\" \"GENIE-DFCI-003388-5143\" \"GENIE-DFCI-001376-5688\" \"GENIE-DFCI-001329-1827\" ...\n",
      "  .. .. ..$ mutation: num [1:14657] 6 9 3 5 1 1 7 5 0 2 ...\n",
      "  .. ..$ truncating:'data.frame':\t14657 obs. of  2 variables:\n",
      "  .. .. ..$ sample  : chr [1:14657] \"GENIE-DFCI-000018-4015\" \"GENIE-DFCI-003388-5143\" \"GENIE-DFCI-001376-5688\" \"GENIE-DFCI-001329-1827\" ...\n",
      "  .. .. ..$ mutation: num [1:14657] 0 2 1 3 2 5 1 1 1 1 ...\n",
      " $ sample.class    : Named chr [1:14657] \"BLCA\" \"LUSC\" \"THPA\" \"UCEC_LM\" ...\n",
      "  ..- attr(*, \"names\")= chr [1:14657] \"GENIE-DFCI-000018-4015\" \"GENIE-DFCI-003388-5143\" \"GENIE-DFCI-001376-5688\" \"GENIE-DFCI-001329-1827\" ...\n",
      " $ alteration.class: Named chr [1:396] \"MUT\" \"MUT\" \"MUT\" \"MUT\" ...\n",
      "  ..- attr(*, \"names\")= chr [1:396] \"AKT1\" \"ALK\" \"APC\" \"AR\" ...\n"
     ]
    }
   ],
   "source": [
    "run_data <- list('M'=data,'sample.class' = sample_annoation[order],'alteration.class' = alteration_covariates)\n",
    "str(run_data)"
   ]
  },
  {
   "cell_type": "code",
   "execution_count": 49,
   "id": "7899e788-abb2-43b3-98bf-70a500dce0c7",
   "metadata": {},
   "outputs": [],
   "source": [
    "saveRDS(run_data,file='../data/processed/gams/pan_can_dfci_primary_run_data_v15.rds')"
   ]
  },
  {
   "cell_type": "markdown",
   "id": "1e235750-6ff0-4911-8034-dbca5767d6c6",
   "metadata": {},
   "source": [
    "## Creating Metastasis Run GAM"
   ]
  },
  {
   "cell_type": "code",
   "execution_count": 50,
   "id": "ddb19ccd-2b8f-410b-b274-86b0b2696e71",
   "metadata": {},
   "outputs": [],
   "source": [
    "meta_samples<-(genie_metadata_15_dfci_with_mutation_selected_final_atleast_100_samples %>% filter(SAMPLE_TYPE!='Primary'))$SAMPLE_ID"
   ]
  },
  {
   "cell_type": "code",
   "execution_count": 51,
   "id": "12bbf25a-f436-4b99-a231-00bf306e45dd",
   "metadata": {},
   "outputs": [],
   "source": [
    "gene_to_take <- colnames(missesne_data$gam)\n",
    "order <- meta_samples\n",
    "\n",
    "data <-list('M'=list('missense'=t(missesne_data$gam[order,gene_to_take]),\n",
    "                     'truncating'=t(truncating_data$gam[rownames(missesne_data$gam[order,]),gene_to_take])),\n",
    "            'tmb'=list('missense'=missesne_data$tmb[order,],\n",
    "                       'truncating'=truncating_data$tmb[order,]))\n",
    "\n",
    "alteration_covariates <- rep('MUT',ncol(missesne_data$gam[order,gene_to_take]))\n",
    "names(alteration_covariates)<-colnames(missesne_data$gam[order,gene_to_take])"
   ]
  },
  {
   "cell_type": "code",
   "execution_count": 52,
   "id": "d1f8f8d7-3bcf-4e41-8c4a-ddd7a1e0c499",
   "metadata": {
    "scrolled": true
   },
   "outputs": [
    {
     "name": "stdout",
     "output_type": "stream",
     "text": [
      "List of 3\n",
      " $ M               :List of 2\n",
      "  ..$ M  :List of 2\n",
      "  .. ..$ missense  : num [1:396, 1:7607] 0 0 0 0 0 0 0 0 0 0 ...\n",
      "  .. .. ..- attr(*, \"dimnames\")=List of 2\n",
      "  .. .. .. ..$ : chr [1:396] \"AKT1\" \"ALK\" \"APC\" \"AR\" ...\n",
      "  .. .. .. ..$ : chr [1:7607] \"GENIE-DFCI-000145-3971\" \"GENIE-DFCI-007383-3930\" \"GENIE-DFCI-000544-5758\" \"GENIE-DFCI-008041-5875\" ...\n",
      "  .. ..$ truncating: num [1:396, 1:7607] 0 0 0 0 0 0 0 0 0 0 ...\n",
      "  .. .. ..- attr(*, \"dimnames\")=List of 2\n",
      "  .. .. .. ..$ : chr [1:396] \"AKT1\" \"ALK\" \"APC\" \"AR\" ...\n",
      "  .. .. .. ..$ : chr [1:7607] \"GENIE-DFCI-000145-3971\" \"GENIE-DFCI-007383-3930\" \"GENIE-DFCI-000544-5758\" \"GENIE-DFCI-008041-5875\" ...\n",
      "  ..$ tmb:List of 2\n",
      "  .. ..$ missense  :'data.frame':\t7607 obs. of  2 variables:\n",
      "  .. .. ..$ sample  : chr [1:7607] \"GENIE-DFCI-000145-3971\" \"GENIE-DFCI-007383-3930\" \"GENIE-DFCI-000544-5758\" \"GENIE-DFCI-008041-5875\" ...\n",
      "  .. .. ..$ mutation: num [1:7607] 2 5 11 1 2 4 4 5 4 5 ...\n",
      "  .. ..$ truncating:'data.frame':\t7607 obs. of  2 variables:\n",
      "  .. .. ..$ sample  : chr [1:7607] \"GENIE-DFCI-000145-3971\" \"GENIE-DFCI-007383-3930\" \"GENIE-DFCI-000544-5758\" \"GENIE-DFCI-008041-5875\" ...\n",
      "  .. .. ..$ mutation: num [1:7607] 1 1 3 0 1 0 0 1 1 3 ...\n",
      " $ sample.class    : Named chr [1:7607] \"LUAD\" \"LUAD\" \"LUAD\" \"STAD\" ...\n",
      "  ..- attr(*, \"names\")= chr [1:7607] \"GENIE-DFCI-000145-3971\" \"GENIE-DFCI-007383-3930\" \"GENIE-DFCI-000544-5758\" \"GENIE-DFCI-008041-5875\" ...\n",
      " $ alteration.class: Named chr [1:396] \"MUT\" \"MUT\" \"MUT\" \"MUT\" ...\n",
      "  ..- attr(*, \"names\")= chr [1:396] \"AKT1\" \"ALK\" \"APC\" \"AR\" ...\n"
     ]
    }
   ],
   "source": [
    "run_data <- list('M'=data,'sample.class' = sample_annoation[order],'alteration.class' = alteration_covariates)\n",
    "str(run_data)"
   ]
  },
  {
   "cell_type": "code",
   "execution_count": 53,
   "id": "84847dab-9389-4ae0-aa98-c041d11dcc70",
   "metadata": {},
   "outputs": [],
   "source": [
    "saveRDS(run_data,file='../data/processed/gams/pan_can_dfci_meta_run_data_v15.rds')"
   ]
  }
 ],
 "metadata": {
  "kernelspec": {
   "display_name": "R",
   "language": "R",
   "name": "ir"
  },
  "language_info": {
   "codemirror_mode": "r",
   "file_extension": ".r",
   "mimetype": "text/x-r-source",
   "name": "R",
   "pygments_lexer": "r",
   "version": "4.3.2"
  }
 },
 "nbformat": 4,
 "nbformat_minor": 5
}
