{
 "cells": [
  {
   "cell_type": "code",
   "execution_count": 1,
   "id": "8cc30cfd-f7bb-493d-aa8f-1fbc5eedd2bc",
   "metadata": {
    "scrolled": true
   },
   "outputs": [
    {
     "name": "stderr",
     "output_type": "stream",
     "text": [
      "── \u001b[1mAttaching core tidyverse packages\u001b[22m ───────────────────────────────────────────────────────────────────────────────────────────────────────────────────────────────────── tidyverse 2.0.0 ──\n",
      "\u001b[32m✔\u001b[39m \u001b[34mdplyr    \u001b[39m 1.1.4     \u001b[32m✔\u001b[39m \u001b[34mreadr    \u001b[39m 2.1.5\n",
      "\u001b[32m✔\u001b[39m \u001b[34mforcats  \u001b[39m 1.0.0     \u001b[32m✔\u001b[39m \u001b[34mstringr  \u001b[39m 1.5.1\n",
      "\u001b[32m✔\u001b[39m \u001b[34mggplot2  \u001b[39m 3.4.4     \u001b[32m✔\u001b[39m \u001b[34mtibble   \u001b[39m 3.2.1\n",
      "\u001b[32m✔\u001b[39m \u001b[34mlubridate\u001b[39m 1.9.3     \u001b[32m✔\u001b[39m \u001b[34mtidyr    \u001b[39m 1.3.0\n",
      "\u001b[32m✔\u001b[39m \u001b[34mpurrr    \u001b[39m 1.0.2     \n",
      "── \u001b[1mConflicts\u001b[22m ─────────────────────────────────────────────────────────────────────────────────────────────────────────────────────────────────────────────────────── tidyverse_conflicts() ──\n",
      "\u001b[31m✖\u001b[39m \u001b[34mdplyr\u001b[39m::\u001b[32mfilter()\u001b[39m masks \u001b[34mstats\u001b[39m::filter()\n",
      "\u001b[31m✖\u001b[39m \u001b[34mdplyr\u001b[39m::\u001b[32mlag()\u001b[39m    masks \u001b[34mstats\u001b[39m::lag()\n",
      "\u001b[36mℹ\u001b[39m Use the conflicted package (\u001b[3m\u001b[34m<http://conflicted.r-lib.org/>\u001b[39m\u001b[23m) to force all conflicts to become errors\n"
     ]
    }
   ],
   "source": [
    "library('SelectSim')\n",
    "library('tidyverse')\n",
    "library('tictoc')"
   ]
  },
  {
   "cell_type": "code",
   "execution_count": 2,
   "id": "da2b1217-55d2-4532-870d-1ae521b6a54a",
   "metadata": {
    "scrolled": true
   },
   "outputs": [
    {
     "data": {
      "text/plain": [
       "R version 4.3.2 (2023-10-31)\n",
       "Platform: x86_64-conda-linux-gnu (64-bit)\n",
       "Running under: CentOS Linux 7 (Core)\n",
       "\n",
       "Matrix products: default\n",
       "BLAS/LAPACK: /mnt/ndata/arvind/envs/R_4/lib/libopenblasp-r0.3.25.so;  LAPACK version 3.11.0\n",
       "\n",
       "locale:\n",
       " [1] LC_CTYPE=en_US.UTF-8       LC_NUMERIC=C              \n",
       " [3] LC_TIME=en_US.UTF-8        LC_COLLATE=en_US.UTF-8    \n",
       " [5] LC_MONETARY=en_US.UTF-8    LC_MESSAGES=en_US.UTF-8   \n",
       " [7] LC_PAPER=en_US.UTF-8       LC_NAME=C                 \n",
       " [9] LC_ADDRESS=C               LC_TELEPHONE=C            \n",
       "[11] LC_MEASUREMENT=en_US.UTF-8 LC_IDENTIFICATION=C       \n",
       "\n",
       "time zone: Europe/Zurich\n",
       "tzcode source: system (glibc)\n",
       "\n",
       "attached base packages:\n",
       "[1] stats     graphics  grDevices utils     datasets  methods   base     \n",
       "\n",
       "other attached packages:\n",
       " [1] tictoc_1.2        lubridate_1.9.3   forcats_1.0.0     stringr_1.5.1    \n",
       " [5] dplyr_1.1.4       purrr_1.0.2       readr_2.1.5       tidyr_1.3.0      \n",
       " [9] tibble_3.2.1      ggplot2_3.4.4     tidyverse_2.0.0   SelectSim_0.0.1.3\n",
       "\n",
       "loaded via a namespace (and not attached):\n",
       " [1] gtable_0.3.4       rstatix_0.7.2      lattice_0.22-5     tzdb_0.4.0        \n",
       " [5] vctrs_0.6.5        tools_4.3.2        generics_0.1.3     parallel_4.3.2    \n",
       " [9] fansi_1.0.6        pkgconfig_2.0.3    Matrix_1.6-5       ggridges_0.5.5    \n",
       "[13] rngtools_1.5.2     RcppParallel_5.1.6 uuid_1.2-0         lifecycle_1.0.4   \n",
       "[17] compiler_4.3.2     munsell_0.5.0      repr_1.1.6         codetools_0.2-19  \n",
       "[21] carData_3.0-5      htmltools_0.5.7    pillar_1.9.0       car_3.1-2         \n",
       "[25] ggpubr_0.6.0       crayon_1.5.2       doRNG_1.8.6        iterators_1.0.14  \n",
       "[29] abind_1.4-5        foreach_1.5.2      tidyselect_1.2.0   digest_0.6.34     \n",
       "[33] stringi_1.8.3      reshape2_1.4.4     fastmap_1.1.1      grid_4.3.2        \n",
       "[37] colorspace_2.1-0   cli_3.6.2          magrittr_2.0.3     base64enc_0.1-3   \n",
       "[41] Rfast_2.1.0        utf8_1.2.4         IRdisplay_1.1      broom_1.0.5       \n",
       "[45] withr_3.0.0        scales_1.3.0       backports_1.4.1    IRkernel_1.3.2    \n",
       "[49] RcppZiggurat_0.1.6 timechange_0.3.0   pbdZMQ_0.3-11      ggsignif_0.6.4    \n",
       "[53] hms_1.1.3          evaluate_0.23      doParallel_1.0.17  rlang_1.1.3       \n",
       "[57] Rcpp_1.0.12        glue_1.7.0         jsonlite_1.8.8     R6_2.5.1          \n",
       "[61] plyr_1.8.9        "
      ]
     },
     "metadata": {},
     "output_type": "display_data"
    }
   ],
   "source": [
    "sessionInfo()"
   ]
  },
  {
   "cell_type": "markdown",
   "id": "919fb966-9e03-44c0-a505-78ec5530e886",
   "metadata": {},
   "source": [
    "# MSK P vs M gene frequency analysis"
   ]
  },
  {
   "cell_type": "code",
   "execution_count": 3,
   "id": "9f991398-484a-44cc-a6f4-f832c6b20c58",
   "metadata": {},
   "outputs": [],
   "source": [
    "msk_p_sample_run_list <- readRDS('/mnt/ndata/arvind/co_mutation_project/analysis/primary_met_work/data/msk_p_sample_run_data_list.rds')\n",
    "msk_m_sample_run_list <- readRDS('/mnt/ndata/arvind/co_mutation_project/analysis/primary_met_work/data/msk_m_sample_run_data_list.rds')"
   ]
  },
  {
   "cell_type": "code",
   "execution_count": 4,
   "id": "bbfda9aa-bc5b-422d-a74e-831b1db39e04",
   "metadata": {},
   "outputs": [
    {
     "name": "stdout",
     "output_type": "stream",
     "text": [
      "List of 3\n",
      " $ M               :List of 2\n",
      "  ..$ M  :List of 2\n",
      "  .. ..$ missense  : num [1:306, 1:8195] 0 0 0 0 0 0 0 0 0 0 ...\n",
      "  .. .. ..- attr(*, \"dimnames\")=List of 2\n",
      "  .. .. .. ..$ : chr [1:306] \"MTOR\" \"NRAS\" \"RIT1\" \"NTRK1\" ...\n",
      "  .. .. .. ..$ : chr [1:8195] \"GENIE-MSK-P-0038488-T01-IM6\" \"GENIE-MSK-P-0019305-T01-IM6\" \"GENIE-MSK-P-0014508-T01-IM6\" \"GENIE-MSK-P-0069371-T01-IM7\" ...\n",
      "  .. ..$ truncating: num [1:306, 1:8195] 0 0 0 0 0 0 0 0 0 0 ...\n",
      "  .. .. ..- attr(*, \"dimnames\")=List of 2\n",
      "  .. .. .. ..$ : chr [1:306] \"MTOR\" \"NRAS\" \"RIT1\" \"NTRK1\" ...\n",
      "  .. .. .. ..$ : chr [1:8195] \"GENIE-MSK-P-0038488-T01-IM6\" \"GENIE-MSK-P-0019305-T01-IM6\" \"GENIE-MSK-P-0014508-T01-IM6\" \"GENIE-MSK-P-0069371-T01-IM7\" ...\n",
      "  ..$ tmb:List of 2\n",
      "  .. ..$ missense  :'data.frame':\t8195 obs. of  2 variables:\n",
      "  .. .. ..$ sample  : chr [1:8195] \"GENIE-MSK-P-0038488-T01-IM6\" \"GENIE-MSK-P-0019305-T01-IM6\" \"GENIE-MSK-P-0014508-T01-IM6\" \"GENIE-MSK-P-0069371-T01-IM7\" ...\n",
      "  .. .. ..$ mutation: num [1:8195] 2 0 2 2 3 1 4 2 1 2 ...\n",
      "  .. ..$ truncating:'data.frame':\t8195 obs. of  2 variables:\n",
      "  .. .. ..$ sample  : chr [1:8195] \"GENIE-MSK-P-0038488-T01-IM6\" \"GENIE-MSK-P-0019305-T01-IM6\" \"GENIE-MSK-P-0014508-T01-IM6\" \"GENIE-MSK-P-0069371-T01-IM7\" ...\n",
      "  .. .. ..$ mutation: num [1:8195] 0 0 1 0 0 0 0 1 0 0 ...\n",
      " $ sample.class    : Named chr [1:8195] \"ACRM\" \"ACRM\" \"ACRM\" \"ACRM\" ...\n",
      "  ..- attr(*, \"names\")= chr [1:8195] \"GENIE-MSK-P-0038488-T01-IM6\" \"GENIE-MSK-P-0019305-T01-IM6\" \"GENIE-MSK-P-0014508-T01-IM6\" \"GENIE-MSK-P-0069371-T01-IM7\" ...\n",
      " $ alteration.class: Named chr [1:306] \"MUT\" \"MUT\" \"MUT\" \"MUT\" ...\n",
      "  ..- attr(*, \"names\")= chr [1:306] \"MTOR\" \"NRAS\" \"RIT1\" \"NTRK1\" ...\n"
     ]
    }
   ],
   "source": [
    "str(msk_p_sample_run_list[[1]])"
   ]
  },
  {
   "cell_type": "code",
   "execution_count": 5,
   "id": "08eb2652-15b4-4038-8de8-d6fd1054f040",
   "metadata": {},
   "outputs": [],
   "source": [
    "create_pct <- function(run_list){\n",
    "    pct_df <- list()\n",
    "    i=1\n",
    "    for(run in run_list){\n",
    "        gene_order <- rownames(run$M$M$missense)\n",
    "        sample_order <- colnames(run$M$M$missense)\n",
    "        full_gam <-run$M$M$missense+run$M$M$truncating[gene_order,sample_order]\n",
    "        full_gam[full_gam>1]<-1\n",
    "        pct_df[[i]]<-data.frame('gene'=rownames(full_gam),'total'=rowSums(full_gam),'pct'=rowSums(full_gam)*100/ncol(full_gam))\n",
    "        pct_df[[i]] <- pct_df[[i]] %>% mutate('sampling'=paste('Run',i,sep=\"_\"))\n",
    "        i=i+1\n",
    "    }\n",
    "    return(pct_df)\n",
    "}"
   ]
  },
  {
   "cell_type": "code",
   "execution_count": 6,
   "id": "3a3b08d5-5a96-47c3-92ef-c1e761c96446",
   "metadata": {},
   "outputs": [
    {
     "name": "stdout",
     "output_type": "stream",
     "text": [
      " num [1:306, 1:8195] 0 0 0 0 0 0 0 0 0 0 ...\n",
      " - attr(*, \"dimnames\")=List of 2\n",
      "  ..$ : chr [1:306] \"MTOR\" \"NRAS\" \"RIT1\" \"NTRK1\" ...\n",
      "  ..$ : chr [1:8195] \"GENIE-MSK-P-0038488-T01-IM6\" \"GENIE-MSK-P-0019305-T01-IM6\" \"GENIE-MSK-P-0014508-T01-IM6\" \"GENIE-MSK-P-0069371-T01-IM7\" ...\n",
      " num [1:306, 1:8195] 0 0 0 0 0 0 0 0 0 0 ...\n",
      " - attr(*, \"dimnames\")=List of 2\n",
      "  ..$ : chr [1:306] \"MTOR\" \"NRAS\" \"RIT1\" \"NTRK1\" ...\n",
      "  ..$ : chr [1:8195] \"GENIE-MSK-P-0038488-T01-IM6\" \"GENIE-MSK-P-0019305-T01-IM6\" \"GENIE-MSK-P-0014508-T01-IM6\" \"GENIE-MSK-P-0069371-T01-IM7\" ...\n"
     ]
    }
   ],
   "source": [
    "str(msk_p_sample_run_list[[1]]$M$M$missense)\n",
    "str(msk_p_sample_run_list[[1]]$M$M$truncating)"
   ]
  },
  {
   "cell_type": "code",
   "execution_count": 7,
   "id": "a298429f-c37f-4320-8d15-1632c2843cc5",
   "metadata": {},
   "outputs": [],
   "source": [
    "msk_p_df <- create_pct(msk_p_sample_run_list)\n",
    "msk_m_df <- create_pct(msk_m_sample_run_list)"
   ]
  },
  {
   "cell_type": "code",
   "execution_count": 8,
   "id": "c2048e46-6cea-49a0-ab14-8dd0bae0ee17",
   "metadata": {
    "scrolled": true
   },
   "outputs": [
    {
     "name": "stdout",
     "output_type": "stream",
     "text": [
      "List of 10\n",
      " $ :'data.frame':\t306 obs. of  4 variables:\n",
      "  ..$ gene    : chr [1:306] \"MTOR\" \"NRAS\" \"RIT1\" \"NTRK1\" ...\n",
      "  ..$ total   : num [1:306] 62 194 14 12 2 91 20 11 79 3 ...\n",
      "  ..$ pct     : num [1:306] 0.7566 2.3673 0.1708 0.1464 0.0244 ...\n",
      "  ..$ sampling: chr [1:306] \"Run_1\" \"Run_1\" \"Run_1\" \"Run_1\" ...\n",
      " $ :'data.frame':\t306 obs. of  4 variables:\n",
      "  ..$ gene    : chr [1:306] \"MTOR\" \"NRAS\" \"RIT1\" \"NTRK1\" ...\n",
      "  ..$ total   : num [1:306] 65 187 16 14 3 91 18 12 73 3 ...\n",
      "  ..$ pct     : num [1:306] 0.7932 2.2819 0.1952 0.1708 0.0366 ...\n",
      "  ..$ sampling: chr [1:306] \"Run_2\" \"Run_2\" \"Run_2\" \"Run_2\" ...\n",
      " $ :'data.frame':\t306 obs. of  4 variables:\n",
      "  ..$ gene    : chr [1:306] \"MTOR\" \"NRAS\" \"RIT1\" \"NTRK1\" ...\n",
      "  ..$ total   : num [1:306] 75 191 18 22 2 89 20 18 78 2 ...\n",
      "  ..$ pct     : num [1:306] 0.9152 2.3307 0.2196 0.2685 0.0244 ...\n",
      "  ..$ sampling: chr [1:306] \"Run_3\" \"Run_3\" \"Run_3\" \"Run_3\" ...\n",
      " $ :'data.frame':\t306 obs. of  4 variables:\n",
      "  ..$ gene    : chr [1:306] \"MTOR\" \"NRAS\" \"RIT1\" \"NTRK1\" ...\n",
      "  ..$ total   : num [1:306] 68 198 15 16 5 93 17 16 77 5 ...\n",
      "  ..$ pct     : num [1:306] 0.83 2.416 0.183 0.195 0.061 ...\n",
      "  ..$ sampling: chr [1:306] \"Run_4\" \"Run_4\" \"Run_4\" \"Run_4\" ...\n",
      " $ :'data.frame':\t306 obs. of  4 variables:\n",
      "  ..$ gene    : chr [1:306] \"MTOR\" \"NRAS\" \"RIT1\" \"NTRK1\" ...\n",
      "  ..$ total   : num [1:306] 68 195 21 17 3 81 19 17 69 2 ...\n",
      "  ..$ pct     : num [1:306] 0.8298 2.3795 0.2563 0.2074 0.0366 ...\n",
      "  ..$ sampling: chr [1:306] \"Run_5\" \"Run_5\" \"Run_5\" \"Run_5\" ...\n",
      " $ :'data.frame':\t306 obs. of  4 variables:\n",
      "  ..$ gene    : chr [1:306] \"MTOR\" \"NRAS\" \"RIT1\" \"NTRK1\" ...\n",
      "  ..$ total   : num [1:306] 63 188 19 15 3 88 19 16 80 3 ...\n",
      "  ..$ pct     : num [1:306] 0.7688 2.2941 0.2318 0.183 0.0366 ...\n",
      "  ..$ sampling: chr [1:306] \"Run_6\" \"Run_6\" \"Run_6\" \"Run_6\" ...\n",
      " $ :'data.frame':\t306 obs. of  4 variables:\n",
      "  ..$ gene    : chr [1:306] \"MTOR\" \"NRAS\" \"RIT1\" \"NTRK1\" ...\n",
      "  ..$ total   : num [1:306] 79 189 16 11 1 88 19 14 85 3 ...\n",
      "  ..$ pct     : num [1:306] 0.964 2.3063 0.1952 0.1342 0.0122 ...\n",
      "  ..$ sampling: chr [1:306] \"Run_7\" \"Run_7\" \"Run_7\" \"Run_7\" ...\n",
      " $ :'data.frame':\t306 obs. of  4 variables:\n",
      "  ..$ gene    : chr [1:306] \"MTOR\" \"NRAS\" \"RIT1\" \"NTRK1\" ...\n",
      "  ..$ total   : num [1:306] 62 201 13 10 0 84 20 15 81 4 ...\n",
      "  ..$ pct     : num [1:306] 0.757 2.453 0.159 0.122 0 ...\n",
      "  ..$ sampling: chr [1:306] \"Run_8\" \"Run_8\" \"Run_8\" \"Run_8\" ...\n",
      " $ :'data.frame':\t306 obs. of  4 variables:\n",
      "  ..$ gene    : chr [1:306] \"MTOR\" \"NRAS\" \"RIT1\" \"NTRK1\" ...\n",
      "  ..$ total   : num [1:306] 68 186 14 11 2 87 25 16 89 3 ...\n",
      "  ..$ pct     : num [1:306] 0.8298 2.2697 0.1708 0.1342 0.0244 ...\n",
      "  ..$ sampling: chr [1:306] \"Run_9\" \"Run_9\" \"Run_9\" \"Run_9\" ...\n",
      " $ :'data.frame':\t306 obs. of  4 variables:\n",
      "  ..$ gene    : chr [1:306] \"MTOR\" \"NRAS\" \"RIT1\" \"NTRK1\" ...\n",
      "  ..$ total   : num [1:306] 64 191 11 10 4 66 14 13 90 5 ...\n",
      "  ..$ pct     : num [1:306] 0.781 2.3307 0.1342 0.122 0.0488 ...\n",
      "  ..$ sampling: chr [1:306] \"Run_10\" \"Run_10\" \"Run_10\" \"Run_10\" ...\n"
     ]
    }
   ],
   "source": [
    "str(msk_p_df)"
   ]
  },
  {
   "cell_type": "code",
   "execution_count": 9,
   "id": "ec79247a-a4cf-4f8a-98d2-0539c6281a70",
   "metadata": {},
   "outputs": [],
   "source": [
    "msk_p_df_all <- bind_rows(msk_p_df)\n",
    "rownames(msk_p_df_all)<-c(1:nrow(msk_p_df_all))\n",
    "msk_m_df_all <- bind_rows(msk_m_df)\n",
    "rownames(msk_m_df_all)<-c(1:nrow(msk_m_df_all))"
   ]
  },
  {
   "cell_type": "code",
   "execution_count": 10,
   "id": "fd33184c-4991-4905-8e07-8d13e6d52e67",
   "metadata": {},
   "outputs": [
    {
     "data": {
      "text/html": [
       "<table class=\"dataframe\">\n",
       "<caption>A data.frame: 6 × 4</caption>\n",
       "<thead>\n",
       "\t<tr><th></th><th scope=col>gene</th><th scope=col>total</th><th scope=col>pct</th><th scope=col>sampling</th></tr>\n",
       "\t<tr><th></th><th scope=col>&lt;chr&gt;</th><th scope=col>&lt;dbl&gt;</th><th scope=col>&lt;dbl&gt;</th><th scope=col>&lt;chr&gt;</th></tr>\n",
       "</thead>\n",
       "<tbody>\n",
       "\t<tr><th scope=row>1</th><td>MTOR </td><td> 62</td><td>0.75655888</td><td>Run_1</td></tr>\n",
       "\t<tr><th scope=row>2</th><td>NRAS </td><td>194</td><td>2.36729713</td><td>Run_1</td></tr>\n",
       "\t<tr><th scope=row>3</th><td>RIT1 </td><td> 14</td><td>0.17083588</td><td>Run_1</td></tr>\n",
       "\t<tr><th scope=row>4</th><td>NTRK1</td><td> 12</td><td>0.14643075</td><td>Run_1</td></tr>\n",
       "\t<tr><th scope=row>5</th><td>SDHC </td><td>  2</td><td>0.02440513</td><td>Run_1</td></tr>\n",
       "\t<tr><th scope=row>6</th><td>SPEN </td><td> 91</td><td>1.11043319</td><td>Run_1</td></tr>\n",
       "</tbody>\n",
       "</table>\n"
      ],
      "text/latex": [
       "A data.frame: 6 × 4\n",
       "\\begin{tabular}{r|llll}\n",
       "  & gene & total & pct & sampling\\\\\n",
       "  & <chr> & <dbl> & <dbl> & <chr>\\\\\n",
       "\\hline\n",
       "\t1 & MTOR  &  62 & 0.75655888 & Run\\_1\\\\\n",
       "\t2 & NRAS  & 194 & 2.36729713 & Run\\_1\\\\\n",
       "\t3 & RIT1  &  14 & 0.17083588 & Run\\_1\\\\\n",
       "\t4 & NTRK1 &  12 & 0.14643075 & Run\\_1\\\\\n",
       "\t5 & SDHC  &   2 & 0.02440513 & Run\\_1\\\\\n",
       "\t6 & SPEN  &  91 & 1.11043319 & Run\\_1\\\\\n",
       "\\end{tabular}\n"
      ],
      "text/markdown": [
       "\n",
       "A data.frame: 6 × 4\n",
       "\n",
       "| <!--/--> | gene &lt;chr&gt; | total &lt;dbl&gt; | pct &lt;dbl&gt; | sampling &lt;chr&gt; |\n",
       "|---|---|---|---|---|\n",
       "| 1 | MTOR  |  62 | 0.75655888 | Run_1 |\n",
       "| 2 | NRAS  | 194 | 2.36729713 | Run_1 |\n",
       "| 3 | RIT1  |  14 | 0.17083588 | Run_1 |\n",
       "| 4 | NTRK1 |  12 | 0.14643075 | Run_1 |\n",
       "| 5 | SDHC  |   2 | 0.02440513 | Run_1 |\n",
       "| 6 | SPEN  |  91 | 1.11043319 | Run_1 |\n",
       "\n"
      ],
      "text/plain": [
       "  gene  total pct        sampling\n",
       "1 MTOR   62   0.75655888 Run_1   \n",
       "2 NRAS  194   2.36729713 Run_1   \n",
       "3 RIT1   14   0.17083588 Run_1   \n",
       "4 NTRK1  12   0.14643075 Run_1   \n",
       "5 SDHC    2   0.02440513 Run_1   \n",
       "6 SPEN   91   1.11043319 Run_1   "
      ]
     },
     "metadata": {},
     "output_type": "display_data"
    }
   ],
   "source": [
    "head(msk_p_df_all)"
   ]
  },
  {
   "cell_type": "code",
   "execution_count": 11,
   "id": "a5ec0f63-9774-44b2-bcea-4dcc3cdff763",
   "metadata": {},
   "outputs": [],
   "source": [
    "msk_p_df <- msk_p_df_all %>% pivot_wider(id_cols = gene,names_from = sampling,values_from = total) \n",
    "msk_m_df <- msk_m_df_all %>% pivot_wider(id_cols = gene,names_from = sampling,values_from = total) "
   ]
  },
  {
   "cell_type": "code",
   "execution_count": 12,
   "id": "87b1663b-e6c2-42ad-a3d7-f7233dbbb985",
   "metadata": {},
   "outputs": [],
   "source": [
    "msk_p_df$average <- rowMeans(msk_p_df[, grep(\"^Run_\", names(msk_p_df))])\n",
    "msk_m_df$average <- rowMeans(msk_m_df[, grep(\"^Run_\", names(msk_m_df))])"
   ]
  },
  {
   "cell_type": "code",
   "execution_count": 13,
   "id": "cebc50d6-d403-46f7-908d-4cb60c08011f",
   "metadata": {},
   "outputs": [
    {
     "data": {
      "text/html": [
       "<table class=\"dataframe\">\n",
       "<caption>A tibble: 6 × 12</caption>\n",
       "<thead>\n",
       "\t<tr><th scope=col>gene</th><th scope=col>Run_1</th><th scope=col>Run_2</th><th scope=col>Run_3</th><th scope=col>Run_4</th><th scope=col>Run_5</th><th scope=col>Run_6</th><th scope=col>Run_7</th><th scope=col>Run_8</th><th scope=col>Run_9</th><th scope=col>Run_10</th><th scope=col>average</th></tr>\n",
       "\t<tr><th scope=col>&lt;chr&gt;</th><th scope=col>&lt;dbl&gt;</th><th scope=col>&lt;dbl&gt;</th><th scope=col>&lt;dbl&gt;</th><th scope=col>&lt;dbl&gt;</th><th scope=col>&lt;dbl&gt;</th><th scope=col>&lt;dbl&gt;</th><th scope=col>&lt;dbl&gt;</th><th scope=col>&lt;dbl&gt;</th><th scope=col>&lt;dbl&gt;</th><th scope=col>&lt;dbl&gt;</th><th scope=col>&lt;dbl&gt;</th></tr>\n",
       "</thead>\n",
       "<tbody>\n",
       "\t<tr><td>MTOR </td><td> 59</td><td> 60</td><td> 61</td><td> 55</td><td> 57</td><td> 57</td><td> 57</td><td> 55</td><td> 62</td><td> 54</td><td> 57.7</td></tr>\n",
       "\t<tr><td>NRAS </td><td>186</td><td>181</td><td>207</td><td>187</td><td>207</td><td>202</td><td>183</td><td>191</td><td>198</td><td>211</td><td>195.3</td></tr>\n",
       "\t<tr><td>RIT1 </td><td> 17</td><td> 22</td><td> 15</td><td> 17</td><td> 20</td><td> 18</td><td> 19</td><td> 19</td><td> 15</td><td> 18</td><td> 18.0</td></tr>\n",
       "\t<tr><td>NTRK1</td><td> 21</td><td> 21</td><td> 17</td><td> 17</td><td> 19</td><td> 14</td><td> 16</td><td> 20</td><td> 20</td><td> 18</td><td> 18.3</td></tr>\n",
       "\t<tr><td>SDHC </td><td>  5</td><td>  4</td><td>  6</td><td>  8</td><td>  5</td><td>  7</td><td>  6</td><td>  8</td><td>  6</td><td>  6</td><td>  6.1</td></tr>\n",
       "\t<tr><td>SPEN </td><td> 77</td><td> 90</td><td> 75</td><td> 71</td><td> 81</td><td> 74</td><td> 85</td><td> 81</td><td> 92</td><td> 84</td><td> 81.0</td></tr>\n",
       "</tbody>\n",
       "</table>\n"
      ],
      "text/latex": [
       "A tibble: 6 × 12\n",
       "\\begin{tabular}{llllllllllll}\n",
       " gene & Run\\_1 & Run\\_2 & Run\\_3 & Run\\_4 & Run\\_5 & Run\\_6 & Run\\_7 & Run\\_8 & Run\\_9 & Run\\_10 & average\\\\\n",
       " <chr> & <dbl> & <dbl> & <dbl> & <dbl> & <dbl> & <dbl> & <dbl> & <dbl> & <dbl> & <dbl> & <dbl>\\\\\n",
       "\\hline\n",
       "\t MTOR  &  59 &  60 &  61 &  55 &  57 &  57 &  57 &  55 &  62 &  54 &  57.7\\\\\n",
       "\t NRAS  & 186 & 181 & 207 & 187 & 207 & 202 & 183 & 191 & 198 & 211 & 195.3\\\\\n",
       "\t RIT1  &  17 &  22 &  15 &  17 &  20 &  18 &  19 &  19 &  15 &  18 &  18.0\\\\\n",
       "\t NTRK1 &  21 &  21 &  17 &  17 &  19 &  14 &  16 &  20 &  20 &  18 &  18.3\\\\\n",
       "\t SDHC  &   5 &   4 &   6 &   8 &   5 &   7 &   6 &   8 &   6 &   6 &   6.1\\\\\n",
       "\t SPEN  &  77 &  90 &  75 &  71 &  81 &  74 &  85 &  81 &  92 &  84 &  81.0\\\\\n",
       "\\end{tabular}\n"
      ],
      "text/markdown": [
       "\n",
       "A tibble: 6 × 12\n",
       "\n",
       "| gene &lt;chr&gt; | Run_1 &lt;dbl&gt; | Run_2 &lt;dbl&gt; | Run_3 &lt;dbl&gt; | Run_4 &lt;dbl&gt; | Run_5 &lt;dbl&gt; | Run_6 &lt;dbl&gt; | Run_7 &lt;dbl&gt; | Run_8 &lt;dbl&gt; | Run_9 &lt;dbl&gt; | Run_10 &lt;dbl&gt; | average &lt;dbl&gt; |\n",
       "|---|---|---|---|---|---|---|---|---|---|---|---|\n",
       "| MTOR  |  59 |  60 |  61 |  55 |  57 |  57 |  57 |  55 |  62 |  54 |  57.7 |\n",
       "| NRAS  | 186 | 181 | 207 | 187 | 207 | 202 | 183 | 191 | 198 | 211 | 195.3 |\n",
       "| RIT1  |  17 |  22 |  15 |  17 |  20 |  18 |  19 |  19 |  15 |  18 |  18.0 |\n",
       "| NTRK1 |  21 |  21 |  17 |  17 |  19 |  14 |  16 |  20 |  20 |  18 |  18.3 |\n",
       "| SDHC  |   5 |   4 |   6 |   8 |   5 |   7 |   6 |   8 |   6 |   6 |   6.1 |\n",
       "| SPEN  |  77 |  90 |  75 |  71 |  81 |  74 |  85 |  81 |  92 |  84 |  81.0 |\n",
       "\n"
      ],
      "text/plain": [
       "  gene  Run_1 Run_2 Run_3 Run_4 Run_5 Run_6 Run_7 Run_8 Run_9 Run_10 average\n",
       "1 MTOR   59    60    61    55    57    57    57    55    62    54     57.7  \n",
       "2 NRAS  186   181   207   187   207   202   183   191   198   211    195.3  \n",
       "3 RIT1   17    22    15    17    20    18    19    19    15    18     18.0  \n",
       "4 NTRK1  21    21    17    17    19    14    16    20    20    18     18.3  \n",
       "5 SDHC    5     4     6     8     5     7     6     8     6     6      6.1  \n",
       "6 SPEN   77    90    75    71    81    74    85    81    92    84     81.0  "
      ]
     },
     "metadata": {},
     "output_type": "display_data"
    },
    {
     "data": {
      "text/html": [
       "<table class=\"dataframe\">\n",
       "<caption>A tibble: 6 × 12</caption>\n",
       "<thead>\n",
       "\t<tr><th scope=col>gene</th><th scope=col>Run_1</th><th scope=col>Run_2</th><th scope=col>Run_3</th><th scope=col>Run_4</th><th scope=col>Run_5</th><th scope=col>Run_6</th><th scope=col>Run_7</th><th scope=col>Run_8</th><th scope=col>Run_9</th><th scope=col>Run_10</th><th scope=col>average</th></tr>\n",
       "\t<tr><th scope=col>&lt;chr&gt;</th><th scope=col>&lt;dbl&gt;</th><th scope=col>&lt;dbl&gt;</th><th scope=col>&lt;dbl&gt;</th><th scope=col>&lt;dbl&gt;</th><th scope=col>&lt;dbl&gt;</th><th scope=col>&lt;dbl&gt;</th><th scope=col>&lt;dbl&gt;</th><th scope=col>&lt;dbl&gt;</th><th scope=col>&lt;dbl&gt;</th><th scope=col>&lt;dbl&gt;</th><th scope=col>&lt;dbl&gt;</th></tr>\n",
       "</thead>\n",
       "<tbody>\n",
       "\t<tr><td>MTOR </td><td> 62</td><td> 65</td><td> 75</td><td> 68</td><td> 68</td><td> 63</td><td> 79</td><td> 62</td><td> 68</td><td> 64</td><td> 67.4</td></tr>\n",
       "\t<tr><td>NRAS </td><td>194</td><td>187</td><td>191</td><td>198</td><td>195</td><td>188</td><td>189</td><td>201</td><td>186</td><td>191</td><td>192.0</td></tr>\n",
       "\t<tr><td>RIT1 </td><td> 14</td><td> 16</td><td> 18</td><td> 15</td><td> 21</td><td> 19</td><td> 16</td><td> 13</td><td> 14</td><td> 11</td><td> 15.7</td></tr>\n",
       "\t<tr><td>NTRK1</td><td> 12</td><td> 14</td><td> 22</td><td> 16</td><td> 17</td><td> 15</td><td> 11</td><td> 10</td><td> 11</td><td> 10</td><td> 13.8</td></tr>\n",
       "\t<tr><td>SDHC </td><td>  2</td><td>  3</td><td>  2</td><td>  5</td><td>  3</td><td>  3</td><td>  1</td><td>  0</td><td>  2</td><td>  4</td><td>  2.5</td></tr>\n",
       "\t<tr><td>SPEN </td><td> 91</td><td> 91</td><td> 89</td><td> 93</td><td> 81</td><td> 88</td><td> 88</td><td> 84</td><td> 87</td><td> 66</td><td> 85.8</td></tr>\n",
       "</tbody>\n",
       "</table>\n"
      ],
      "text/latex": [
       "A tibble: 6 × 12\n",
       "\\begin{tabular}{llllllllllll}\n",
       " gene & Run\\_1 & Run\\_2 & Run\\_3 & Run\\_4 & Run\\_5 & Run\\_6 & Run\\_7 & Run\\_8 & Run\\_9 & Run\\_10 & average\\\\\n",
       " <chr> & <dbl> & <dbl> & <dbl> & <dbl> & <dbl> & <dbl> & <dbl> & <dbl> & <dbl> & <dbl> & <dbl>\\\\\n",
       "\\hline\n",
       "\t MTOR  &  62 &  65 &  75 &  68 &  68 &  63 &  79 &  62 &  68 &  64 &  67.4\\\\\n",
       "\t NRAS  & 194 & 187 & 191 & 198 & 195 & 188 & 189 & 201 & 186 & 191 & 192.0\\\\\n",
       "\t RIT1  &  14 &  16 &  18 &  15 &  21 &  19 &  16 &  13 &  14 &  11 &  15.7\\\\\n",
       "\t NTRK1 &  12 &  14 &  22 &  16 &  17 &  15 &  11 &  10 &  11 &  10 &  13.8\\\\\n",
       "\t SDHC  &   2 &   3 &   2 &   5 &   3 &   3 &   1 &   0 &   2 &   4 &   2.5\\\\\n",
       "\t SPEN  &  91 &  91 &  89 &  93 &  81 &  88 &  88 &  84 &  87 &  66 &  85.8\\\\\n",
       "\\end{tabular}\n"
      ],
      "text/markdown": [
       "\n",
       "A tibble: 6 × 12\n",
       "\n",
       "| gene &lt;chr&gt; | Run_1 &lt;dbl&gt; | Run_2 &lt;dbl&gt; | Run_3 &lt;dbl&gt; | Run_4 &lt;dbl&gt; | Run_5 &lt;dbl&gt; | Run_6 &lt;dbl&gt; | Run_7 &lt;dbl&gt; | Run_8 &lt;dbl&gt; | Run_9 &lt;dbl&gt; | Run_10 &lt;dbl&gt; | average &lt;dbl&gt; |\n",
       "|---|---|---|---|---|---|---|---|---|---|---|---|\n",
       "| MTOR  |  62 |  65 |  75 |  68 |  68 |  63 |  79 |  62 |  68 |  64 |  67.4 |\n",
       "| NRAS  | 194 | 187 | 191 | 198 | 195 | 188 | 189 | 201 | 186 | 191 | 192.0 |\n",
       "| RIT1  |  14 |  16 |  18 |  15 |  21 |  19 |  16 |  13 |  14 |  11 |  15.7 |\n",
       "| NTRK1 |  12 |  14 |  22 |  16 |  17 |  15 |  11 |  10 |  11 |  10 |  13.8 |\n",
       "| SDHC  |   2 |   3 |   2 |   5 |   3 |   3 |   1 |   0 |   2 |   4 |   2.5 |\n",
       "| SPEN  |  91 |  91 |  89 |  93 |  81 |  88 |  88 |  84 |  87 |  66 |  85.8 |\n",
       "\n"
      ],
      "text/plain": [
       "  gene  Run_1 Run_2 Run_3 Run_4 Run_5 Run_6 Run_7 Run_8 Run_9 Run_10 average\n",
       "1 MTOR   62    65    75    68    68    63    79    62    68    64     67.4  \n",
       "2 NRAS  194   187   191   198   195   188   189   201   186   191    192.0  \n",
       "3 RIT1   14    16    18    15    21    19    16    13    14    11     15.7  \n",
       "4 NTRK1  12    14    22    16    17    15    11    10    11    10     13.8  \n",
       "5 SDHC    2     3     2     5     3     3     1     0     2     4      2.5  \n",
       "6 SPEN   91    91    89    93    81    88    88    84    87    66     85.8  "
      ]
     },
     "metadata": {},
     "output_type": "display_data"
    }
   ],
   "source": [
    "head(msk_m_df)\n",
    "head(msk_p_df)"
   ]
  },
  {
   "cell_type": "code",
   "execution_count": 14,
   "id": "387436ca-3a99-46ce-95d4-ba68bad05816",
   "metadata": {},
   "outputs": [],
   "source": [
    "plot_df <- data.frame('gene'=msk_p_df$gene,'primary_pct'=round(msk_p_df$average,3),'met_pct'=round(msk_m_df$average,3))"
   ]
  },
  {
   "cell_type": "code",
   "execution_count": 15,
   "id": "d8c41bb8-2839-4992-8ceb-51997820ea87",
   "metadata": {},
   "outputs": [],
   "source": [
    "plot_df <- na.omit(plot_df)"
   ]
  },
  {
   "cell_type": "code",
   "execution_count": 16,
   "id": "976e3a14-fec2-4ec5-a388-af2581808ce3",
   "metadata": {
    "scrolled": true
   },
   "outputs": [
    {
     "data": {
      "text/html": [
       "<table class=\"dataframe\">\n",
       "<caption>A data.frame: 6 × 3</caption>\n",
       "<thead>\n",
       "\t<tr><th></th><th scope=col>gene</th><th scope=col>primary_pct</th><th scope=col>met_pct</th></tr>\n",
       "\t<tr><th></th><th scope=col>&lt;chr&gt;</th><th scope=col>&lt;dbl&gt;</th><th scope=col>&lt;dbl&gt;</th></tr>\n",
       "</thead>\n",
       "<tbody>\n",
       "\t<tr><th scope=row>1</th><td>MTOR </td><td> 67.4</td><td> 57.7</td></tr>\n",
       "\t<tr><th scope=row>2</th><td>NRAS </td><td>192.0</td><td>195.3</td></tr>\n",
       "\t<tr><th scope=row>3</th><td>RIT1 </td><td> 15.7</td><td> 18.0</td></tr>\n",
       "\t<tr><th scope=row>4</th><td>NTRK1</td><td> 13.8</td><td> 18.3</td></tr>\n",
       "\t<tr><th scope=row>5</th><td>SDHC </td><td>  2.5</td><td>  6.1</td></tr>\n",
       "\t<tr><th scope=row>6</th><td>SPEN </td><td> 85.8</td><td> 81.0</td></tr>\n",
       "</tbody>\n",
       "</table>\n"
      ],
      "text/latex": [
       "A data.frame: 6 × 3\n",
       "\\begin{tabular}{r|lll}\n",
       "  & gene & primary\\_pct & met\\_pct\\\\\n",
       "  & <chr> & <dbl> & <dbl>\\\\\n",
       "\\hline\n",
       "\t1 & MTOR  &  67.4 &  57.7\\\\\n",
       "\t2 & NRAS  & 192.0 & 195.3\\\\\n",
       "\t3 & RIT1  &  15.7 &  18.0\\\\\n",
       "\t4 & NTRK1 &  13.8 &  18.3\\\\\n",
       "\t5 & SDHC  &   2.5 &   6.1\\\\\n",
       "\t6 & SPEN  &  85.8 &  81.0\\\\\n",
       "\\end{tabular}\n"
      ],
      "text/markdown": [
       "\n",
       "A data.frame: 6 × 3\n",
       "\n",
       "| <!--/--> | gene &lt;chr&gt; | primary_pct &lt;dbl&gt; | met_pct &lt;dbl&gt; |\n",
       "|---|---|---|---|\n",
       "| 1 | MTOR  |  67.4 |  57.7 |\n",
       "| 2 | NRAS  | 192.0 | 195.3 |\n",
       "| 3 | RIT1  |  15.7 |  18.0 |\n",
       "| 4 | NTRK1 |  13.8 |  18.3 |\n",
       "| 5 | SDHC  |   2.5 |   6.1 |\n",
       "| 6 | SPEN  |  85.8 |  81.0 |\n",
       "\n"
      ],
      "text/plain": [
       "  gene  primary_pct met_pct\n",
       "1 MTOR   67.4        57.7  \n",
       "2 NRAS  192.0       195.3  \n",
       "3 RIT1   15.7        18.0  \n",
       "4 NTRK1  13.8        18.3  \n",
       "5 SDHC    2.5         6.1  \n",
       "6 SPEN   85.8        81.0  "
      ]
     },
     "metadata": {},
     "output_type": "display_data"
    }
   ],
   "source": [
    "head(plot_df)"
   ]
  },
  {
   "cell_type": "code",
   "execution_count": 17,
   "id": "0c467699-1413-4542-b5ab-c795e1615205",
   "metadata": {
    "scrolled": true
   },
   "outputs": [
    {
     "name": "stdout",
     "output_type": "stream",
     "text": [
      "[1] \"MTOR\"\n",
      "[1] \"NRAS\"\n",
      "[1] \"RIT1\"\n",
      "[1] \"NTRK1\"\n",
      "[1] \"SDHC\"\n",
      "[1] \"SPEN\"\n",
      "[1] \"DDR2\"\n",
      "[1] \"CDC73\"\n",
      "[1] \"ELF3\"\n",
      "[1] \"MDM4\"\n",
      "[1] \"PARP1\"\n",
      "[1] \"ID3\"\n",
      "[1] \"FH\"\n",
      "[1] \"AKT3\"\n",
      "[1] \"TNFRSF14\"\n",
      "[1] \"ARID1A\"\n",
      "[1] \"SESN2\"\n",
      "[1] \"CSF3R\"\n",
      "[1] \"MPL\"\n",
      "[1] \"MUTYH\"\n",
      "[1] \"PIK3R3\"\n",
      "[1] \"RAD54L\"\n",
      "[1] \"CDKN2C\"\n",
      "[1] \"JAK1\"\n",
      "[1] \"FUBP1\"\n",
      "[1] \"ERRFI1\"\n",
      "[1] \"BCL10\"\n",
      "[1] \"PIK3CD\"\n",
      "[1] \"SUFU\"\n",
      "[1] \"SHOC2\"\n",
      "[1] \"TCF7L2\"\n",
      "[1] \"FGFR2\"\n",
      "[1] \"RET\"\n",
      "[1] \"ARID5B\"\n",
      "[1] \"TET1\"\n",
      "[1] \"GATA3\"\n",
      "[1] \"BMPR1A\"\n",
      "[1] \"PTEN\"\n",
      "[1] \"YAP1\"\n",
      "[1] \"BIRC3\"\n",
      "[1] \"ATM\"\n",
      "[1] \"SDHD\"\n",
      "[1] \"KMT2A\"\n",
      "[1] \"CBL\"\n",
      "[1] \"CHEK1\"\n",
      "[1] \"RRAS2\"\n",
      "[1] \"MYOD1\"\n",
      "[1] \"WT1\"\n",
      "[1] \"HRAS\"\n",
      "[1] \"SDHAF2\"\n",
      "[1] \"MEN1\"\n",
      "[1] \"CCND1\"\n",
      "[1] \"INPPL1\"\n",
      "[1] \"EED\"\n",
      "[1] \"SESN3\"\n",
      "[1] \"SH2B3\"\n",
      "[1] \"PTPN11\"\n",
      "[1] \"TBX3\"\n",
      "[1] \"ETV6\"\n",
      "[1] \"RAB35\"\n",
      "[1] \"HNF1A\"\n",
      "[1] \"CDKN1B\"\n",
      "[1] \"POLE\"\n",
      "[1] \"RECQL\"\n",
      "[1] \"KRAS\"\n",
      "[1] \"KMT2D\"\n",
      "[1] \"ERBB3\"\n",
      "[1] \"GLI1\"\n",
      "[1] \"CDK4\"\n",
      "[1] \"LATS2\"\n",
      "[1] \"FLT3\"\n",
      "[1] \"BRCA2\"\n",
      "[1] \"FOXO1\"\n",
      "[1] \"RB1\"\n",
      "[1] \"CYSLTR2\"\n",
      "[1] \"DIS3\"\n",
      "[1] \"AKT1\"\n",
      "[1] \"NFKBIA\"\n",
      "[1] \"NKX2-1\"\n",
      "[1] \"FOXA1\"\n",
      "[1] \"MAX\"\n",
      "[1] \"RAD51B\"\n",
      "[1] \"DICER1\"\n",
      "[1] \"SPRED1\"\n",
      "[1] \"KNSTRN\"\n",
      "[1] \"RAD51\"\n",
      "[1] \"MGA\"\n",
      "[1] \"TP53BP1\"\n",
      "[1] \"B2M\"\n",
      "[1] \"MAP2K1\"\n",
      "[1] \"SMAD3\"\n",
      "[1] \"NTRK3\"\n",
      "[1] \"IDH2\"\n",
      "[1] \"BLM\"\n",
      "[1] \"IGF1R\"\n",
      "[1] \"GRIN2A\"\n",
      "[1] \"SOCS1\"\n",
      "[1] \"ERCC4\"\n",
      "[1] \"NTHL1\"\n",
      "[1] \"TSC2\"\n",
      "[1] \"PALB2\"\n",
      "[1] \"AXIN1\"\n",
      "[1] \"SLX4\"\n",
      "[1] \"CREBBP\"\n",
      "[1] \"CYLD\"\n",
      "[1] \"CBFB\"\n",
      "[1] \"CTCF\"\n",
      "[1] \"CDH1\"\n",
      "[1] \"ZFHX3\"\n",
      "[1] \"PLCG2\"\n",
      "[1] \"ANKRD11\"\n",
      "[1] \"FANCA\"\n",
      "[1] \"MAP2K4\"\n",
      "[1] \"NCOR1\"\n",
      "[1] \"FLCN\"\n",
      "[1] \"NF1\"\n",
      "[1] \"SUZ12\"\n",
      "[1] \"RAD51D\"\n",
      "[1] \"CDK12\"\n",
      "[1] \"ERBB2\"\n",
      "[1] \"STAT5B\"\n",
      "[1] \"STAT3\"\n",
      "[1] \"BRCA1\"\n",
      "[1] \"HOXB13\"\n",
      "[1] \"SPOP\"\n",
      "[1] \"RNF43\"\n",
      "[1] \"RAD51C\"\n",
      "[1] \"BRIP1\"\n",
      "[1] \"CD79B\"\n",
      "[1] \"AXIN2\"\n",
      "[1] \"SOX9\"\n",
      "[1] \"GPS2\"\n",
      "[1] \"SRSF2\"\n",
      "[1] \"TP53\"\n",
      "[1] \"SMAD2\"\n",
      "[1] \"SMAD4\"\n",
      "[1] \"PMAIP1\"\n",
      "[1] \"BCL2\"\n",
      "[1] \"KEAP1\"\n",
      "[1] \"SMARCA4\"\n",
      "[1] \"STK11\"\n",
      "[1] \"TCF3\"\n",
      "[1] \"JAK3\"\n",
      "[1] \"PIK3R2\"\n",
      "[1] \"MEF2B\"\n",
      "[1] \"GNA11\"\n",
      "[1] \"CEBPA\"\n",
      "[1] \"KMT2B\"\n",
      "[1] \"AKT2\"\n",
      "[1] \"MAP2K2\"\n",
      "[1] \"ERF\"\n",
      "[1] \"CIC\"\n",
      "[1] \"ERCC2\"\n",
      "[1] \"BBC3\"\n",
      "[1] \"POLD1\"\n",
      "[1] \"PTPRS\"\n",
      "[1] \"PPP2R1A\"\n",
      "[1] \"BCL2L11\"\n",
      "[1] \"ERCC3\"\n",
      "[1] \"CXCR4\"\n",
      "[1] \"ACVR1\"\n",
      "[1] \"MYCN\"\n",
      "[1] \"NFE2L2\"\n",
      "[1] \"PMS1\"\n",
      "[1] \"SF3B1\"\n",
      "[1] \"CASP8\"\n",
      "[1] \"IDH1\"\n",
      "[1] \"ERBB4\"\n",
      "[1] \"BARD1\"\n",
      "[1] \"INHA\"\n",
      "[1] \"DNMT3A\"\n",
      "[1] \"ASXL2\"\n",
      "[1] \"ALK\"\n",
      "[1] \"SOS1\"\n",
      "[1] \"EPAS1\"\n",
      "[1] \"EPCAM\"\n",
      "[1] \"MSH2\"\n",
      "[1] \"MSH6\"\n",
      "[1] \"XPO1\"\n",
      "[1] \"TMEM127\"\n",
      "[1] \"ASXL1\"\n",
      "[1] \"DNMT3B\"\n",
      "[1] \"SRC\"\n",
      "[1] \"TOP1\"\n",
      "[1] \"PTPRT\"\n",
      "[1] \"AURKA\"\n",
      "[1] \"GNAS\"\n",
      "[1] \"RTEL1\"\n",
      "[1] \"RUNX1\"\n",
      "[1] \"U2AF1\"\n",
      "[1] \"MAPK1\"\n",
      "[1] \"SMARCB1\"\n",
      "[1] \"CHEK2\"\n",
      "[1] \"NF2\"\n",
      "[1] \"EP300\"\n",
      "[1] \"VHL\"\n",
      "[1] \"RAF1\"\n",
      "[1] \"GATA2\"\n",
      "[1] \"EPHB1\"\n",
      "[1] \"PIK3CB\"\n",
      "[1] \"FOXL2\"\n",
      "[1] \"ATR\"\n",
      "[1] \"PIK3CA\"\n",
      "[1] \"DCUN1D1\"\n",
      "[1] \"TP63\"\n",
      "[1] \"TGFBR2\"\n",
      "[1] \"MLH1\"\n",
      "[1] \"MYD88\"\n",
      "[1] \"CTNNB1\"\n",
      "[1] \"SETD2\"\n",
      "[1] \"RHOA\"\n",
      "[1] \"BAP1\"\n",
      "[1] \"PBRM1\"\n",
      "[1] \"MITF\"\n",
      "[1] \"FOXP1\"\n",
      "[1] \"RYBP\"\n",
      "[1] \"SHQ1\"\n",
      "[1] \"EPHA3\"\n",
      "[1] \"TET2\"\n",
      "[1] \"INPP4B\"\n",
      "[1] \"FBXW7\"\n",
      "[1] \"FGFR3\"\n",
      "[1] \"FAT1\"\n",
      "[1] \"PHOX2B\"\n",
      "[1] \"PDGFRA\"\n",
      "[1] \"KIT\"\n",
      "[1] \"KDR\"\n",
      "[1] \"APC\"\n",
      "[1] \"TERT\"\n",
      "[1] \"RAD50\"\n",
      "[1] \"CSF1R\"\n",
      "[1] \"PDGFRB\"\n",
      "[1] \"NPM1\"\n",
      "[1] \"FGFR4\"\n",
      "[1] \"NSD1\"\n",
      "[1] \"SDHA\"\n",
      "[1] \"IL7R\"\n",
      "[1] \"MAP3K1\"\n",
      "[1] \"PIK3R1\"\n",
      "[1] \"MSH3\"\n",
      "[1] \"RASA1\"\n",
      "[1] \"PRDM1\"\n",
      "[1] \"SESN1\"\n",
      "[1] \"ROS1\"\n",
      "[1] \"TNFAIP3\"\n",
      "[1] \"LATS1\"\n",
      "[1] \"ESR1\"\n",
      "[1] \"ARID1B\"\n",
      "[1] \"HLA-A\"\n",
      "[1] \"HLA-B\"\n",
      "[1] \"NOTCH4\"\n",
      "[1] \"DAXX\"\n",
      "[1] \"CDKN1A\"\n",
      "[1] \"PIM1\"\n",
      "[1] \"CCND3\"\n",
      "[1] \"EPHA7\"\n",
      "[1] \"MET\"\n",
      "[1] \"SMO\"\n",
      "[1] \"BRAF\"\n",
      "[1] \"EZH2\"\n",
      "[1] \"RHEB\"\n",
      "[1] \"KMT2C\"\n",
      "[1] \"XRCC2\"\n",
      "[1] \"CARD11\"\n",
      "[1] \"IKZF1\"\n",
      "[1] \"EGFR\"\n",
      "[1] \"PMS2\"\n",
      "[1] \"RAC1\"\n",
      "[1] \"RAD21\"\n",
      "[1] \"MYC\"\n",
      "[1] \"RECQL4\"\n",
      "[1] \"NKX3-1\"\n",
      "[1] \"DUSP4\"\n",
      "[1] \"FGFR1\"\n",
      "[1] \"SOX17\"\n",
      "[1] \"PREX2\"\n",
      "[1] \"NBN\"\n",
      "[1] \"TGFBR1\"\n",
      "[1] \"KLF4\"\n",
      "[1] \"PPP6C\"\n",
      "[1] \"ABL1\"\n",
      "[1] \"TSC1\"\n",
      "[1] \"NOTCH1\"\n",
      "[1] \"CDKN2A\"\n",
      "[1] \"CDKN2B\"\n",
      "[1] \"PAX5\"\n",
      "[1] \"JAK2\"\n",
      "[1] \"GNAQ\"\n",
      "[1] \"PTPRD\"\n",
      "[1] \"FANCC\"\n",
      "[1] \"PTCH1\"\n",
      "[1] \"BTK\"\n",
      "[1] \"STAG2\"\n",
      "[1] \"SH2D1A\"\n",
      "[1] \"CRLF2\"\n",
      "[1] \"ZRSR2\"\n",
      "[1] \"EIF1AX\"\n",
      "[1] \"BCOR\"\n",
      "[1] \"KDM6A\"\n",
      "[1] \"RBM10\"\n",
      "[1] \"ARAF\"\n",
      "[1] \"KDM5C\"\n",
      "[1] \"AMER1\"\n",
      "[1] \"AR\"\n",
      "[1] \"MED12\"\n",
      "[1] \"ATRX\"\n"
     ]
    }
   ],
   "source": [
    "p_values <- list()\n",
    "for(g in plot_df$gene){\n",
    "    print(g)\n",
    "    a<-unlist((unlist(msk_p_df %>% filter(gene==g) %>% select(grep(\"^Run_\", names(msk_p_df))))))\n",
    "    b<-unlist((unlist(msk_m_df %>% filter(gene==g) %>% select(grep(\"^Run_\", names(msk_m_df))))))\n",
    "    p_values[[g]]<- t.test(a,b,exact = FALSE)$p.value\n",
    "}"
   ]
  },
  {
   "cell_type": "code",
   "execution_count": 18,
   "id": "3138018a-47dc-4e71-9b2a-80400cbc7d30",
   "metadata": {},
   "outputs": [],
   "source": [
    "plot_df$log10_primary<-log10(plot_df$primary_pct+1)\n",
    "plot_df$log10_met<-log10(plot_df$met_pct+1)"
   ]
  },
  {
   "cell_type": "code",
   "execution_count": 19,
   "id": "ae2f578b-8131-439d-b63d-3b58627358be",
   "metadata": {},
   "outputs": [],
   "source": [
    "plot_df<-plot_df %>% mutate('p_val'=unlist(p_values[gene]))"
   ]
  },
  {
   "cell_type": "code",
   "execution_count": 20,
   "id": "c0d16c55-9884-461f-90e0-baa9abd97004",
   "metadata": {
    "scrolled": true
   },
   "outputs": [
    {
     "data": {
      "text/html": [
       "<table class=\"dataframe\">\n",
       "<caption>A data.frame: 306 × 6</caption>\n",
       "<thead>\n",
       "\t<tr><th scope=col>gene</th><th scope=col>primary_pct</th><th scope=col>met_pct</th><th scope=col>log10_primary</th><th scope=col>log10_met</th><th scope=col>p_val</th></tr>\n",
       "\t<tr><th scope=col>&lt;chr&gt;</th><th scope=col>&lt;dbl&gt;</th><th scope=col>&lt;dbl&gt;</th><th scope=col>&lt;dbl&gt;</th><th scope=col>&lt;dbl&gt;</th><th scope=col>&lt;dbl&gt;</th></tr>\n",
       "</thead>\n",
       "<tbody>\n",
       "\t<tr><td>TP53  </td><td>3742.2</td><td>3934.7</td><td>3.573243</td><td>3.595022</td><td>2.152602e-12</td></tr>\n",
       "\t<tr><td>KRAS  </td><td>1711.3</td><td>1763.0</td><td>3.233580</td><td>3.246499</td><td>7.665606e-06</td></tr>\n",
       "\t<tr><td>PIK3CA</td><td>1130.8</td><td>1122.8</td><td>3.053770</td><td>3.050689</td><td>2.885436e-01</td></tr>\n",
       "\t<tr><td>APC   </td><td> 789.4</td><td> 786.6</td><td>2.897847</td><td>2.896306</td><td>4.840429e-01</td></tr>\n",
       "\t<tr><td>ARID1A</td><td> 537.9</td><td> 606.3</td><td>2.731508</td><td>2.783403</td><td>1.343183e-09</td></tr>\n",
       "\t<tr><td>PTEN  </td><td> 437.1</td><td> 444.7</td><td>2.641573</td><td>2.649043</td><td>2.830290e-01</td></tr>\n",
       "\t<tr><td>BRAF  </td><td> 392.1</td><td> 380.8</td><td>2.594503</td><td>2.581836</td><td>1.239725e-02</td></tr>\n",
       "\t<tr><td>EGFR  </td><td> 351.0</td><td> 373.0</td><td>2.546543</td><td>2.572872</td><td>1.028680e-04</td></tr>\n",
       "\t<tr><td>RB1   </td><td> 325.1</td><td> 348.8</td><td>2.513351</td><td>2.543820</td><td>1.057453e-05</td></tr>\n",
       "\t<tr><td>SMAD4 </td><td> 302.4</td><td> 331.6</td><td>2.482016</td><td>2.521922</td><td>7.343852e-05</td></tr>\n",
       "\t<tr><td>KMT2D </td><td> 295.2</td><td> 307.8</td><td>2.471585</td><td>2.489677</td><td>7.237372e-02</td></tr>\n",
       "\t<tr><td>NF1   </td><td> 271.0</td><td> 290.2</td><td>2.434569</td><td>2.464191</td><td>5.107595e-05</td></tr>\n",
       "\t<tr><td>KMT2C </td><td> 255.1</td><td> 270.8</td><td>2.408410</td><td>2.434249</td><td>7.122727e-03</td></tr>\n",
       "\t<tr><td>FBXW7 </td><td> 227.4</td><td> 192.4</td><td>2.358696</td><td>2.286456</td><td>2.012963e-05</td></tr>\n",
       "\t<tr><td>GATA3 </td><td> 214.9</td><td> 234.4</td><td>2.334253</td><td>2.371806</td><td>2.887393e-04</td></tr>\n",
       "\t<tr><td>STK11 </td><td> 205.4</td><td> 221.5</td><td>2.314710</td><td>2.347330</td><td>7.213951e-05</td></tr>\n",
       "\t<tr><td>PIK3R1</td><td> 197.4</td><td> 178.9</td><td>2.297542</td><td>2.255031</td><td>1.035740e-04</td></tr>\n",
       "\t<tr><td>ATM   </td><td> 196.1</td><td> 201.8</td><td>2.294687</td><td>2.307068</td><td>2.041176e-01</td></tr>\n",
       "\t<tr><td>RBM10 </td><td> 193.6</td><td> 173.9</td><td>2.289143</td><td>2.242790</td><td>1.003971e-05</td></tr>\n",
       "\t<tr><td>NRAS  </td><td> 192.0</td><td> 195.3</td><td>2.285557</td><td>2.292920</td><td>4.051999e-01</td></tr>\n",
       "\t<tr><td>CDH1  </td><td> 187.2</td><td> 266.9</td><td>2.274620</td><td>2.427973</td><td>3.614273e-14</td></tr>\n",
       "\t<tr><td>CTNNB1</td><td> 179.9</td><td> 211.8</td><td>2.257439</td><td>2.327972</td><td>1.188348e-07</td></tr>\n",
       "\t<tr><td>SETD2 </td><td> 154.0</td><td> 152.6</td><td>2.190332</td><td>2.186391</td><td>6.921166e-01</td></tr>\n",
       "\t<tr><td>ERBB2 </td><td> 153.4</td><td> 173.6</td><td>2.188647</td><td>2.242044</td><td>4.412396e-05</td></tr>\n",
       "\t<tr><td>KDM6A </td><td> 144.2</td><td> 139.5</td><td>2.161967</td><td>2.147676</td><td>1.984085e-01</td></tr>\n",
       "\t<tr><td>FOXA1 </td><td> 142.3</td><td> 130.8</td><td>2.156246</td><td>2.119915</td><td>8.334638e-03</td></tr>\n",
       "\t<tr><td>MAP3K1</td><td> 140.3</td><td> 129.4</td><td>2.150142</td><td>2.115278</td><td>4.409975e-06</td></tr>\n",
       "\t<tr><td>RNF43 </td><td> 138.2</td><td> 126.9</td><td>2.143639</td><td>2.106871</td><td>2.733208e-04</td></tr>\n",
       "\t<tr><td>ZFHX3 </td><td> 136.7</td><td> 155.2</td><td>2.138934</td><td>2.193681</td><td>3.099247e-06</td></tr>\n",
       "\t<tr><td>PBRM1 </td><td> 135.3</td><td> 159.7</td><td>2.134496</td><td>2.206016</td><td>2.949319e-08</td></tr>\n",
       "\t<tr><td>⋮</td><td>⋮</td><td>⋮</td><td>⋮</td><td>⋮</td><td>⋮</td></tr>\n",
       "\t<tr><td>PHOX2B </td><td>5.7</td><td> 6.7</td><td>0.8260748</td><td>0.8864907</td><td>1.226721e-01</td></tr>\n",
       "\t<tr><td>SOCS1  </td><td>5.3</td><td> 4.8</td><td>0.7993405</td><td>0.7634280</td><td>4.872478e-01</td></tr>\n",
       "\t<tr><td>NPM1   </td><td>5.0</td><td> 6.7</td><td>0.7781513</td><td>0.8864907</td><td>2.115226e-02</td></tr>\n",
       "\t<tr><td>DCUN1D1</td><td>4.7</td><td> 3.4</td><td>0.7558749</td><td>0.6434527</td><td>8.967992e-02</td></tr>\n",
       "\t<tr><td>RAD51C </td><td>4.6</td><td> 7.7</td><td>0.7481880</td><td>0.9395193</td><td>1.955378e-04</td></tr>\n",
       "\t<tr><td>CXCR4  </td><td>4.6</td><td> 4.0</td><td>0.7481880</td><td>0.6989700</td><td>3.993472e-01</td></tr>\n",
       "\t<tr><td>AURKA  </td><td>4.6</td><td>11.3</td><td>0.7481880</td><td>1.0899051</td><td>7.852960e-08</td></tr>\n",
       "\t<tr><td>SH2D1A </td><td>4.6</td><td> 2.1</td><td>0.7481880</td><td>0.4913617</td><td>1.838042e-03</td></tr>\n",
       "\t<tr><td>CYSLTR2</td><td>4.5</td><td> 6.3</td><td>0.7403627</td><td>0.8633229</td><td>9.723382e-03</td></tr>\n",
       "\t<tr><td>PIM1   </td><td>4.5</td><td> 1.9</td><td>0.7403627</td><td>0.4623980</td><td>2.647506e-05</td></tr>\n",
       "\t<tr><td>RHEB   </td><td>4.5</td><td> 5.4</td><td>0.7403627</td><td>0.8061800</td><td>8.065718e-02</td></tr>\n",
       "\t<tr><td>CDKN2C </td><td>4.4</td><td> 4.6</td><td>0.7323938</td><td>0.7481880</td><td>7.771771e-01</td></tr>\n",
       "\t<tr><td>MYOD1  </td><td>4.4</td><td> 4.6</td><td>0.7323938</td><td>0.7481880</td><td>7.377355e-01</td></tr>\n",
       "\t<tr><td>RAB35  </td><td>4.4</td><td> 4.3</td><td>0.7323938</td><td>0.7242759</td><td>8.656085e-01</td></tr>\n",
       "\t<tr><td>CCND3  </td><td>4.2</td><td> 7.8</td><td>0.7160033</td><td>0.9444827</td><td>4.384890e-04</td></tr>\n",
       "\t<tr><td>CRLF2  </td><td>4.2</td><td> 5.8</td><td>0.7160033</td><td>0.8325089</td><td>3.475703e-02</td></tr>\n",
       "\t<tr><td>INHA   </td><td>4.1</td><td> 5.2</td><td>0.7075702</td><td>0.7923917</td><td>2.049282e-01</td></tr>\n",
       "\t<tr><td>NTHL1  </td><td>3.9</td><td> 6.1</td><td>0.6901961</td><td>0.8512583</td><td>1.387137e-03</td></tr>\n",
       "\t<tr><td>MDM4   </td><td>3.3</td><td> 3.9</td><td>0.6334685</td><td>0.6901961</td><td>1.609519e-01</td></tr>\n",
       "\t<tr><td>TMEM127</td><td>3.3</td><td> 2.2</td><td>0.6334685</td><td>0.5051500</td><td>9.940860e-02</td></tr>\n",
       "\t<tr><td>CDKN2B </td><td>2.7</td><td> 3.6</td><td>0.5682017</td><td>0.6627578</td><td>1.029968e-02</td></tr>\n",
       "\t<tr><td>SDHC   </td><td>2.5</td><td> 6.1</td><td>0.5440680</td><td>0.8512583</td><td>1.422821e-05</td></tr>\n",
       "\t<tr><td>SDHD   </td><td>2.1</td><td> 0.0</td><td>0.4913617</td><td>0.0000000</td><td>1.322951e-03</td></tr>\n",
       "\t<tr><td>RAD51  </td><td>2.0</td><td> 3.7</td><td>0.4771213</td><td>0.6720979</td><td>2.228536e-02</td></tr>\n",
       "\t<tr><td>PMAIP1 </td><td>1.9</td><td> 0.5</td><td>0.4623980</td><td>0.1760913</td><td>2.327803e-02</td></tr>\n",
       "\t<tr><td>ID3    </td><td>1.7</td><td> 1.6</td><td>0.4313638</td><td>0.4149733</td><td>8.073228e-01</td></tr>\n",
       "\t<tr><td>SDHAF2 </td><td>1.7</td><td> 5.0</td><td>0.4313638</td><td>0.7781513</td><td>4.406799e-08</td></tr>\n",
       "\t<tr><td>BCL2   </td><td>1.2</td><td> 1.9</td><td>0.3424227</td><td>0.4623980</td><td>2.460133e-01</td></tr>\n",
       "\t<tr><td>MEF2B  </td><td>0.0</td><td> 0.0</td><td>0.0000000</td><td>0.0000000</td><td>         NaN</td></tr>\n",
       "\t<tr><td>RECQL4 </td><td>0.0</td><td> 0.0</td><td>0.0000000</td><td>0.0000000</td><td>         NaN</td></tr>\n",
       "</tbody>\n",
       "</table>\n"
      ],
      "text/latex": [
       "A data.frame: 306 × 6\n",
       "\\begin{tabular}{llllll}\n",
       " gene & primary\\_pct & met\\_pct & log10\\_primary & log10\\_met & p\\_val\\\\\n",
       " <chr> & <dbl> & <dbl> & <dbl> & <dbl> & <dbl>\\\\\n",
       "\\hline\n",
       "\t TP53   & 3742.2 & 3934.7 & 3.573243 & 3.595022 & 2.152602e-12\\\\\n",
       "\t KRAS   & 1711.3 & 1763.0 & 3.233580 & 3.246499 & 7.665606e-06\\\\\n",
       "\t PIK3CA & 1130.8 & 1122.8 & 3.053770 & 3.050689 & 2.885436e-01\\\\\n",
       "\t APC    &  789.4 &  786.6 & 2.897847 & 2.896306 & 4.840429e-01\\\\\n",
       "\t ARID1A &  537.9 &  606.3 & 2.731508 & 2.783403 & 1.343183e-09\\\\\n",
       "\t PTEN   &  437.1 &  444.7 & 2.641573 & 2.649043 & 2.830290e-01\\\\\n",
       "\t BRAF   &  392.1 &  380.8 & 2.594503 & 2.581836 & 1.239725e-02\\\\\n",
       "\t EGFR   &  351.0 &  373.0 & 2.546543 & 2.572872 & 1.028680e-04\\\\\n",
       "\t RB1    &  325.1 &  348.8 & 2.513351 & 2.543820 & 1.057453e-05\\\\\n",
       "\t SMAD4  &  302.4 &  331.6 & 2.482016 & 2.521922 & 7.343852e-05\\\\\n",
       "\t KMT2D  &  295.2 &  307.8 & 2.471585 & 2.489677 & 7.237372e-02\\\\\n",
       "\t NF1    &  271.0 &  290.2 & 2.434569 & 2.464191 & 5.107595e-05\\\\\n",
       "\t KMT2C  &  255.1 &  270.8 & 2.408410 & 2.434249 & 7.122727e-03\\\\\n",
       "\t FBXW7  &  227.4 &  192.4 & 2.358696 & 2.286456 & 2.012963e-05\\\\\n",
       "\t GATA3  &  214.9 &  234.4 & 2.334253 & 2.371806 & 2.887393e-04\\\\\n",
       "\t STK11  &  205.4 &  221.5 & 2.314710 & 2.347330 & 7.213951e-05\\\\\n",
       "\t PIK3R1 &  197.4 &  178.9 & 2.297542 & 2.255031 & 1.035740e-04\\\\\n",
       "\t ATM    &  196.1 &  201.8 & 2.294687 & 2.307068 & 2.041176e-01\\\\\n",
       "\t RBM10  &  193.6 &  173.9 & 2.289143 & 2.242790 & 1.003971e-05\\\\\n",
       "\t NRAS   &  192.0 &  195.3 & 2.285557 & 2.292920 & 4.051999e-01\\\\\n",
       "\t CDH1   &  187.2 &  266.9 & 2.274620 & 2.427973 & 3.614273e-14\\\\\n",
       "\t CTNNB1 &  179.9 &  211.8 & 2.257439 & 2.327972 & 1.188348e-07\\\\\n",
       "\t SETD2  &  154.0 &  152.6 & 2.190332 & 2.186391 & 6.921166e-01\\\\\n",
       "\t ERBB2  &  153.4 &  173.6 & 2.188647 & 2.242044 & 4.412396e-05\\\\\n",
       "\t KDM6A  &  144.2 &  139.5 & 2.161967 & 2.147676 & 1.984085e-01\\\\\n",
       "\t FOXA1  &  142.3 &  130.8 & 2.156246 & 2.119915 & 8.334638e-03\\\\\n",
       "\t MAP3K1 &  140.3 &  129.4 & 2.150142 & 2.115278 & 4.409975e-06\\\\\n",
       "\t RNF43  &  138.2 &  126.9 & 2.143639 & 2.106871 & 2.733208e-04\\\\\n",
       "\t ZFHX3  &  136.7 &  155.2 & 2.138934 & 2.193681 & 3.099247e-06\\\\\n",
       "\t PBRM1  &  135.3 &  159.7 & 2.134496 & 2.206016 & 2.949319e-08\\\\\n",
       "\t ⋮ & ⋮ & ⋮ & ⋮ & ⋮ & ⋮\\\\\n",
       "\t PHOX2B  & 5.7 &  6.7 & 0.8260748 & 0.8864907 & 1.226721e-01\\\\\n",
       "\t SOCS1   & 5.3 &  4.8 & 0.7993405 & 0.7634280 & 4.872478e-01\\\\\n",
       "\t NPM1    & 5.0 &  6.7 & 0.7781513 & 0.8864907 & 2.115226e-02\\\\\n",
       "\t DCUN1D1 & 4.7 &  3.4 & 0.7558749 & 0.6434527 & 8.967992e-02\\\\\n",
       "\t RAD51C  & 4.6 &  7.7 & 0.7481880 & 0.9395193 & 1.955378e-04\\\\\n",
       "\t CXCR4   & 4.6 &  4.0 & 0.7481880 & 0.6989700 & 3.993472e-01\\\\\n",
       "\t AURKA   & 4.6 & 11.3 & 0.7481880 & 1.0899051 & 7.852960e-08\\\\\n",
       "\t SH2D1A  & 4.6 &  2.1 & 0.7481880 & 0.4913617 & 1.838042e-03\\\\\n",
       "\t CYSLTR2 & 4.5 &  6.3 & 0.7403627 & 0.8633229 & 9.723382e-03\\\\\n",
       "\t PIM1    & 4.5 &  1.9 & 0.7403627 & 0.4623980 & 2.647506e-05\\\\\n",
       "\t RHEB    & 4.5 &  5.4 & 0.7403627 & 0.8061800 & 8.065718e-02\\\\\n",
       "\t CDKN2C  & 4.4 &  4.6 & 0.7323938 & 0.7481880 & 7.771771e-01\\\\\n",
       "\t MYOD1   & 4.4 &  4.6 & 0.7323938 & 0.7481880 & 7.377355e-01\\\\\n",
       "\t RAB35   & 4.4 &  4.3 & 0.7323938 & 0.7242759 & 8.656085e-01\\\\\n",
       "\t CCND3   & 4.2 &  7.8 & 0.7160033 & 0.9444827 & 4.384890e-04\\\\\n",
       "\t CRLF2   & 4.2 &  5.8 & 0.7160033 & 0.8325089 & 3.475703e-02\\\\\n",
       "\t INHA    & 4.1 &  5.2 & 0.7075702 & 0.7923917 & 2.049282e-01\\\\\n",
       "\t NTHL1   & 3.9 &  6.1 & 0.6901961 & 0.8512583 & 1.387137e-03\\\\\n",
       "\t MDM4    & 3.3 &  3.9 & 0.6334685 & 0.6901961 & 1.609519e-01\\\\\n",
       "\t TMEM127 & 3.3 &  2.2 & 0.6334685 & 0.5051500 & 9.940860e-02\\\\\n",
       "\t CDKN2B  & 2.7 &  3.6 & 0.5682017 & 0.6627578 & 1.029968e-02\\\\\n",
       "\t SDHC    & 2.5 &  6.1 & 0.5440680 & 0.8512583 & 1.422821e-05\\\\\n",
       "\t SDHD    & 2.1 &  0.0 & 0.4913617 & 0.0000000 & 1.322951e-03\\\\\n",
       "\t RAD51   & 2.0 &  3.7 & 0.4771213 & 0.6720979 & 2.228536e-02\\\\\n",
       "\t PMAIP1  & 1.9 &  0.5 & 0.4623980 & 0.1760913 & 2.327803e-02\\\\\n",
       "\t ID3     & 1.7 &  1.6 & 0.4313638 & 0.4149733 & 8.073228e-01\\\\\n",
       "\t SDHAF2  & 1.7 &  5.0 & 0.4313638 & 0.7781513 & 4.406799e-08\\\\\n",
       "\t BCL2    & 1.2 &  1.9 & 0.3424227 & 0.4623980 & 2.460133e-01\\\\\n",
       "\t MEF2B   & 0.0 &  0.0 & 0.0000000 & 0.0000000 &          NaN\\\\\n",
       "\t RECQL4  & 0.0 &  0.0 & 0.0000000 & 0.0000000 &          NaN\\\\\n",
       "\\end{tabular}\n"
      ],
      "text/markdown": [
       "\n",
       "A data.frame: 306 × 6\n",
       "\n",
       "| gene &lt;chr&gt; | primary_pct &lt;dbl&gt; | met_pct &lt;dbl&gt; | log10_primary &lt;dbl&gt; | log10_met &lt;dbl&gt; | p_val &lt;dbl&gt; |\n",
       "|---|---|---|---|---|---|\n",
       "| TP53   | 3742.2 | 3934.7 | 3.573243 | 3.595022 | 2.152602e-12 |\n",
       "| KRAS   | 1711.3 | 1763.0 | 3.233580 | 3.246499 | 7.665606e-06 |\n",
       "| PIK3CA | 1130.8 | 1122.8 | 3.053770 | 3.050689 | 2.885436e-01 |\n",
       "| APC    |  789.4 |  786.6 | 2.897847 | 2.896306 | 4.840429e-01 |\n",
       "| ARID1A |  537.9 |  606.3 | 2.731508 | 2.783403 | 1.343183e-09 |\n",
       "| PTEN   |  437.1 |  444.7 | 2.641573 | 2.649043 | 2.830290e-01 |\n",
       "| BRAF   |  392.1 |  380.8 | 2.594503 | 2.581836 | 1.239725e-02 |\n",
       "| EGFR   |  351.0 |  373.0 | 2.546543 | 2.572872 | 1.028680e-04 |\n",
       "| RB1    |  325.1 |  348.8 | 2.513351 | 2.543820 | 1.057453e-05 |\n",
       "| SMAD4  |  302.4 |  331.6 | 2.482016 | 2.521922 | 7.343852e-05 |\n",
       "| KMT2D  |  295.2 |  307.8 | 2.471585 | 2.489677 | 7.237372e-02 |\n",
       "| NF1    |  271.0 |  290.2 | 2.434569 | 2.464191 | 5.107595e-05 |\n",
       "| KMT2C  |  255.1 |  270.8 | 2.408410 | 2.434249 | 7.122727e-03 |\n",
       "| FBXW7  |  227.4 |  192.4 | 2.358696 | 2.286456 | 2.012963e-05 |\n",
       "| GATA3  |  214.9 |  234.4 | 2.334253 | 2.371806 | 2.887393e-04 |\n",
       "| STK11  |  205.4 |  221.5 | 2.314710 | 2.347330 | 7.213951e-05 |\n",
       "| PIK3R1 |  197.4 |  178.9 | 2.297542 | 2.255031 | 1.035740e-04 |\n",
       "| ATM    |  196.1 |  201.8 | 2.294687 | 2.307068 | 2.041176e-01 |\n",
       "| RBM10  |  193.6 |  173.9 | 2.289143 | 2.242790 | 1.003971e-05 |\n",
       "| NRAS   |  192.0 |  195.3 | 2.285557 | 2.292920 | 4.051999e-01 |\n",
       "| CDH1   |  187.2 |  266.9 | 2.274620 | 2.427973 | 3.614273e-14 |\n",
       "| CTNNB1 |  179.9 |  211.8 | 2.257439 | 2.327972 | 1.188348e-07 |\n",
       "| SETD2  |  154.0 |  152.6 | 2.190332 | 2.186391 | 6.921166e-01 |\n",
       "| ERBB2  |  153.4 |  173.6 | 2.188647 | 2.242044 | 4.412396e-05 |\n",
       "| KDM6A  |  144.2 |  139.5 | 2.161967 | 2.147676 | 1.984085e-01 |\n",
       "| FOXA1  |  142.3 |  130.8 | 2.156246 | 2.119915 | 8.334638e-03 |\n",
       "| MAP3K1 |  140.3 |  129.4 | 2.150142 | 2.115278 | 4.409975e-06 |\n",
       "| RNF43  |  138.2 |  126.9 | 2.143639 | 2.106871 | 2.733208e-04 |\n",
       "| ZFHX3  |  136.7 |  155.2 | 2.138934 | 2.193681 | 3.099247e-06 |\n",
       "| PBRM1  |  135.3 |  159.7 | 2.134496 | 2.206016 | 2.949319e-08 |\n",
       "| ⋮ | ⋮ | ⋮ | ⋮ | ⋮ | ⋮ |\n",
       "| PHOX2B  | 5.7 |  6.7 | 0.8260748 | 0.8864907 | 1.226721e-01 |\n",
       "| SOCS1   | 5.3 |  4.8 | 0.7993405 | 0.7634280 | 4.872478e-01 |\n",
       "| NPM1    | 5.0 |  6.7 | 0.7781513 | 0.8864907 | 2.115226e-02 |\n",
       "| DCUN1D1 | 4.7 |  3.4 | 0.7558749 | 0.6434527 | 8.967992e-02 |\n",
       "| RAD51C  | 4.6 |  7.7 | 0.7481880 | 0.9395193 | 1.955378e-04 |\n",
       "| CXCR4   | 4.6 |  4.0 | 0.7481880 | 0.6989700 | 3.993472e-01 |\n",
       "| AURKA   | 4.6 | 11.3 | 0.7481880 | 1.0899051 | 7.852960e-08 |\n",
       "| SH2D1A  | 4.6 |  2.1 | 0.7481880 | 0.4913617 | 1.838042e-03 |\n",
       "| CYSLTR2 | 4.5 |  6.3 | 0.7403627 | 0.8633229 | 9.723382e-03 |\n",
       "| PIM1    | 4.5 |  1.9 | 0.7403627 | 0.4623980 | 2.647506e-05 |\n",
       "| RHEB    | 4.5 |  5.4 | 0.7403627 | 0.8061800 | 8.065718e-02 |\n",
       "| CDKN2C  | 4.4 |  4.6 | 0.7323938 | 0.7481880 | 7.771771e-01 |\n",
       "| MYOD1   | 4.4 |  4.6 | 0.7323938 | 0.7481880 | 7.377355e-01 |\n",
       "| RAB35   | 4.4 |  4.3 | 0.7323938 | 0.7242759 | 8.656085e-01 |\n",
       "| CCND3   | 4.2 |  7.8 | 0.7160033 | 0.9444827 | 4.384890e-04 |\n",
       "| CRLF2   | 4.2 |  5.8 | 0.7160033 | 0.8325089 | 3.475703e-02 |\n",
       "| INHA    | 4.1 |  5.2 | 0.7075702 | 0.7923917 | 2.049282e-01 |\n",
       "| NTHL1   | 3.9 |  6.1 | 0.6901961 | 0.8512583 | 1.387137e-03 |\n",
       "| MDM4    | 3.3 |  3.9 | 0.6334685 | 0.6901961 | 1.609519e-01 |\n",
       "| TMEM127 | 3.3 |  2.2 | 0.6334685 | 0.5051500 | 9.940860e-02 |\n",
       "| CDKN2B  | 2.7 |  3.6 | 0.5682017 | 0.6627578 | 1.029968e-02 |\n",
       "| SDHC    | 2.5 |  6.1 | 0.5440680 | 0.8512583 | 1.422821e-05 |\n",
       "| SDHD    | 2.1 |  0.0 | 0.4913617 | 0.0000000 | 1.322951e-03 |\n",
       "| RAD51   | 2.0 |  3.7 | 0.4771213 | 0.6720979 | 2.228536e-02 |\n",
       "| PMAIP1  | 1.9 |  0.5 | 0.4623980 | 0.1760913 | 2.327803e-02 |\n",
       "| ID3     | 1.7 |  1.6 | 0.4313638 | 0.4149733 | 8.073228e-01 |\n",
       "| SDHAF2  | 1.7 |  5.0 | 0.4313638 | 0.7781513 | 4.406799e-08 |\n",
       "| BCL2    | 1.2 |  1.9 | 0.3424227 | 0.4623980 | 2.460133e-01 |\n",
       "| MEF2B   | 0.0 |  0.0 | 0.0000000 | 0.0000000 |          NaN |\n",
       "| RECQL4  | 0.0 |  0.0 | 0.0000000 | 0.0000000 |          NaN |\n",
       "\n"
      ],
      "text/plain": [
       "    gene    primary_pct met_pct log10_primary log10_met p_val       \n",
       "1   TP53    3742.2      3934.7  3.573243      3.595022  2.152602e-12\n",
       "2   KRAS    1711.3      1763.0  3.233580      3.246499  7.665606e-06\n",
       "3   PIK3CA  1130.8      1122.8  3.053770      3.050689  2.885436e-01\n",
       "4   APC      789.4       786.6  2.897847      2.896306  4.840429e-01\n",
       "5   ARID1A   537.9       606.3  2.731508      2.783403  1.343183e-09\n",
       "6   PTEN     437.1       444.7  2.641573      2.649043  2.830290e-01\n",
       "7   BRAF     392.1       380.8  2.594503      2.581836  1.239725e-02\n",
       "8   EGFR     351.0       373.0  2.546543      2.572872  1.028680e-04\n",
       "9   RB1      325.1       348.8  2.513351      2.543820  1.057453e-05\n",
       "10  SMAD4    302.4       331.6  2.482016      2.521922  7.343852e-05\n",
       "11  KMT2D    295.2       307.8  2.471585      2.489677  7.237372e-02\n",
       "12  NF1      271.0       290.2  2.434569      2.464191  5.107595e-05\n",
       "13  KMT2C    255.1       270.8  2.408410      2.434249  7.122727e-03\n",
       "14  FBXW7    227.4       192.4  2.358696      2.286456  2.012963e-05\n",
       "15  GATA3    214.9       234.4  2.334253      2.371806  2.887393e-04\n",
       "16  STK11    205.4       221.5  2.314710      2.347330  7.213951e-05\n",
       "17  PIK3R1   197.4       178.9  2.297542      2.255031  1.035740e-04\n",
       "18  ATM      196.1       201.8  2.294687      2.307068  2.041176e-01\n",
       "19  RBM10    193.6       173.9  2.289143      2.242790  1.003971e-05\n",
       "20  NRAS     192.0       195.3  2.285557      2.292920  4.051999e-01\n",
       "21  CDH1     187.2       266.9  2.274620      2.427973  3.614273e-14\n",
       "22  CTNNB1   179.9       211.8  2.257439      2.327972  1.188348e-07\n",
       "23  SETD2    154.0       152.6  2.190332      2.186391  6.921166e-01\n",
       "24  ERBB2    153.4       173.6  2.188647      2.242044  4.412396e-05\n",
       "25  KDM6A    144.2       139.5  2.161967      2.147676  1.984085e-01\n",
       "26  FOXA1    142.3       130.8  2.156246      2.119915  8.334638e-03\n",
       "27  MAP3K1   140.3       129.4  2.150142      2.115278  4.409975e-06\n",
       "28  RNF43    138.2       126.9  2.143639      2.106871  2.733208e-04\n",
       "29  ZFHX3    136.7       155.2  2.138934      2.193681  3.099247e-06\n",
       "30  PBRM1    135.3       159.7  2.134496      2.206016  2.949319e-08\n",
       "⋮   ⋮       ⋮           ⋮       ⋮             ⋮         ⋮           \n",
       "277 PHOX2B  5.7          6.7    0.8260748     0.8864907 1.226721e-01\n",
       "278 SOCS1   5.3          4.8    0.7993405     0.7634280 4.872478e-01\n",
       "279 NPM1    5.0          6.7    0.7781513     0.8864907 2.115226e-02\n",
       "280 DCUN1D1 4.7          3.4    0.7558749     0.6434527 8.967992e-02\n",
       "281 RAD51C  4.6          7.7    0.7481880     0.9395193 1.955378e-04\n",
       "282 CXCR4   4.6          4.0    0.7481880     0.6989700 3.993472e-01\n",
       "283 AURKA   4.6         11.3    0.7481880     1.0899051 7.852960e-08\n",
       "284 SH2D1A  4.6          2.1    0.7481880     0.4913617 1.838042e-03\n",
       "285 CYSLTR2 4.5          6.3    0.7403627     0.8633229 9.723382e-03\n",
       "286 PIM1    4.5          1.9    0.7403627     0.4623980 2.647506e-05\n",
       "287 RHEB    4.5          5.4    0.7403627     0.8061800 8.065718e-02\n",
       "288 CDKN2C  4.4          4.6    0.7323938     0.7481880 7.771771e-01\n",
       "289 MYOD1   4.4          4.6    0.7323938     0.7481880 7.377355e-01\n",
       "290 RAB35   4.4          4.3    0.7323938     0.7242759 8.656085e-01\n",
       "291 CCND3   4.2          7.8    0.7160033     0.9444827 4.384890e-04\n",
       "292 CRLF2   4.2          5.8    0.7160033     0.8325089 3.475703e-02\n",
       "293 INHA    4.1          5.2    0.7075702     0.7923917 2.049282e-01\n",
       "294 NTHL1   3.9          6.1    0.6901961     0.8512583 1.387137e-03\n",
       "295 MDM4    3.3          3.9    0.6334685     0.6901961 1.609519e-01\n",
       "296 TMEM127 3.3          2.2    0.6334685     0.5051500 9.940860e-02\n",
       "297 CDKN2B  2.7          3.6    0.5682017     0.6627578 1.029968e-02\n",
       "298 SDHC    2.5          6.1    0.5440680     0.8512583 1.422821e-05\n",
       "299 SDHD    2.1          0.0    0.4913617     0.0000000 1.322951e-03\n",
       "300 RAD51   2.0          3.7    0.4771213     0.6720979 2.228536e-02\n",
       "301 PMAIP1  1.9          0.5    0.4623980     0.1760913 2.327803e-02\n",
       "302 ID3     1.7          1.6    0.4313638     0.4149733 8.073228e-01\n",
       "303 SDHAF2  1.7          5.0    0.4313638     0.7781513 4.406799e-08\n",
       "304 BCL2    1.2          1.9    0.3424227     0.4623980 2.460133e-01\n",
       "305 MEF2B   0.0          0.0    0.0000000     0.0000000          NaN\n",
       "306 RECQL4  0.0          0.0    0.0000000     0.0000000          NaN"
      ]
     },
     "metadata": {},
     "output_type": "display_data"
    }
   ],
   "source": [
    "plot_df %>% arrange(desc(primary_pct))"
   ]
  },
  {
   "cell_type": "code",
   "execution_count": 21,
   "id": "0b08e206-a77d-43c8-adfb-5c7de951a13f",
   "metadata": {},
   "outputs": [],
   "source": [
    "plot_df<-na.omit(plot_df)"
   ]
  },
  {
   "cell_type": "code",
   "execution_count": 22,
   "id": "d0a2d446-65cd-48b0-9093-bdd6b0d6d258",
   "metadata": {},
   "outputs": [],
   "source": [
    "plot_df$qval <- p.adjust(plot_df$p_val) # p value FDR correction"
   ]
  },
  {
   "cell_type": "code",
   "execution_count": 23,
   "id": "81b4b4f7-4081-4edd-9204-a81ed8c85a0b",
   "metadata": {},
   "outputs": [
    {
     "data": {
      "text/html": [
       "<table class=\"dataframe\">\n",
       "<caption>A data.frame: 6 × 7</caption>\n",
       "<thead>\n",
       "\t<tr><th></th><th scope=col>gene</th><th scope=col>primary_pct</th><th scope=col>met_pct</th><th scope=col>log10_primary</th><th scope=col>log10_met</th><th scope=col>p_val</th><th scope=col>qval</th></tr>\n",
       "\t<tr><th></th><th scope=col>&lt;chr&gt;</th><th scope=col>&lt;dbl&gt;</th><th scope=col>&lt;dbl&gt;</th><th scope=col>&lt;dbl&gt;</th><th scope=col>&lt;dbl&gt;</th><th scope=col>&lt;dbl&gt;</th><th scope=col>&lt;dbl&gt;</th></tr>\n",
       "</thead>\n",
       "<tbody>\n",
       "\t<tr><th scope=row>1</th><td>MTOR </td><td> 67.4</td><td> 57.7</td><td>1.835056</td><td>1.7686381</td><td>3.019830e-04</td><td>0.064926337</td></tr>\n",
       "\t<tr><th scope=row>2</th><td>NRAS </td><td>192.0</td><td>195.3</td><td>2.285557</td><td>2.2929203</td><td>4.051999e-01</td><td>1.000000000</td></tr>\n",
       "\t<tr><th scope=row>3</th><td>RIT1 </td><td> 15.7</td><td> 18.0</td><td>1.222716</td><td>1.2787536</td><td>6.538795e-02</td><td>1.000000000</td></tr>\n",
       "\t<tr><th scope=row>4</th><td>NTRK1</td><td> 13.8</td><td> 18.3</td><td>1.170262</td><td>1.2855573</td><td>6.239557e-03</td><td>1.000000000</td></tr>\n",
       "\t<tr><th scope=row>5</th><td>SDHC </td><td>  2.5</td><td>  6.1</td><td>0.544068</td><td>0.8512583</td><td>1.422821e-05</td><td>0.003613966</td></tr>\n",
       "\t<tr><th scope=row>6</th><td>SPEN </td><td> 85.8</td><td> 81.0</td><td>1.938520</td><td>1.9138139</td><td>1.619371e-01</td><td>1.000000000</td></tr>\n",
       "</tbody>\n",
       "</table>\n"
      ],
      "text/latex": [
       "A data.frame: 6 × 7\n",
       "\\begin{tabular}{r|lllllll}\n",
       "  & gene & primary\\_pct & met\\_pct & log10\\_primary & log10\\_met & p\\_val & qval\\\\\n",
       "  & <chr> & <dbl> & <dbl> & <dbl> & <dbl> & <dbl> & <dbl>\\\\\n",
       "\\hline\n",
       "\t1 & MTOR  &  67.4 &  57.7 & 1.835056 & 1.7686381 & 3.019830e-04 & 0.064926337\\\\\n",
       "\t2 & NRAS  & 192.0 & 195.3 & 2.285557 & 2.2929203 & 4.051999e-01 & 1.000000000\\\\\n",
       "\t3 & RIT1  &  15.7 &  18.0 & 1.222716 & 1.2787536 & 6.538795e-02 & 1.000000000\\\\\n",
       "\t4 & NTRK1 &  13.8 &  18.3 & 1.170262 & 1.2855573 & 6.239557e-03 & 1.000000000\\\\\n",
       "\t5 & SDHC  &   2.5 &   6.1 & 0.544068 & 0.8512583 & 1.422821e-05 & 0.003613966\\\\\n",
       "\t6 & SPEN  &  85.8 &  81.0 & 1.938520 & 1.9138139 & 1.619371e-01 & 1.000000000\\\\\n",
       "\\end{tabular}\n"
      ],
      "text/markdown": [
       "\n",
       "A data.frame: 6 × 7\n",
       "\n",
       "| <!--/--> | gene &lt;chr&gt; | primary_pct &lt;dbl&gt; | met_pct &lt;dbl&gt; | log10_primary &lt;dbl&gt; | log10_met &lt;dbl&gt; | p_val &lt;dbl&gt; | qval &lt;dbl&gt; |\n",
       "|---|---|---|---|---|---|---|---|\n",
       "| 1 | MTOR  |  67.4 |  57.7 | 1.835056 | 1.7686381 | 3.019830e-04 | 0.064926337 |\n",
       "| 2 | NRAS  | 192.0 | 195.3 | 2.285557 | 2.2929203 | 4.051999e-01 | 1.000000000 |\n",
       "| 3 | RIT1  |  15.7 |  18.0 | 1.222716 | 1.2787536 | 6.538795e-02 | 1.000000000 |\n",
       "| 4 | NTRK1 |  13.8 |  18.3 | 1.170262 | 1.2855573 | 6.239557e-03 | 1.000000000 |\n",
       "| 5 | SDHC  |   2.5 |   6.1 | 0.544068 | 0.8512583 | 1.422821e-05 | 0.003613966 |\n",
       "| 6 | SPEN  |  85.8 |  81.0 | 1.938520 | 1.9138139 | 1.619371e-01 | 1.000000000 |\n",
       "\n"
      ],
      "text/plain": [
       "  gene  primary_pct met_pct log10_primary log10_met p_val        qval       \n",
       "1 MTOR   67.4        57.7   1.835056      1.7686381 3.019830e-04 0.064926337\n",
       "2 NRAS  192.0       195.3   2.285557      2.2929203 4.051999e-01 1.000000000\n",
       "3 RIT1   15.7        18.0   1.222716      1.2787536 6.538795e-02 1.000000000\n",
       "4 NTRK1  13.8        18.3   1.170262      1.2855573 6.239557e-03 1.000000000\n",
       "5 SDHC    2.5         6.1   0.544068      0.8512583 1.422821e-05 0.003613966\n",
       "6 SPEN   85.8        81.0   1.938520      1.9138139 1.619371e-01 1.000000000"
      ]
     },
     "metadata": {},
     "output_type": "display_data"
    }
   ],
   "source": [
    "head(plot_df)"
   ]
  },
  {
   "cell_type": "code",
   "execution_count": 24,
   "id": "33aeac8f-5fd8-4958-9366-ba3dba219904",
   "metadata": {},
   "outputs": [],
   "source": [
    "plot_df$ratio <- (plot_df$met_pct+1)/(plot_df$primary_pct+1)"
   ]
  },
  {
   "cell_type": "code",
   "execution_count": 25,
   "id": "184f68f6-4417-4403-b9fe-f8cd11806ef2",
   "metadata": {},
   "outputs": [],
   "source": [
    "plot_df$log_pval<- -1*log10(plot_df$p_val)\n",
    "plot_df$log_FDR<- -1*log10(plot_df$qval)\n",
    "plot_df$log_ratio<- log2(plot_df$ratio)"
   ]
  },
  {
   "cell_type": "code",
   "execution_count": 26,
   "id": "d9be6a29-8ff7-4a0b-acd6-b6fcef44db22",
   "metadata": {},
   "outputs": [],
   "source": [
    "plot_df<-plot_df %>% mutate(category=case_when( (qval<=0.05 & primary_pct>met_pct) ~ 'blue',\n",
    "                                       (qval<=0.05 & primary_pct<met_pct) ~ 'red',\n",
    "                                       TRUE ~ 'grey'))"
   ]
  },
  {
   "cell_type": "code",
   "execution_count": 27,
   "id": "4478dbcd-b29f-40f8-9b1a-29c4dfa1e24a",
   "metadata": {
    "scrolled": true
   },
   "outputs": [
    {
     "data": {
      "text/html": [
       "<table class=\"dataframe\">\n",
       "<caption>A data.frame: 6 × 12</caption>\n",
       "<thead>\n",
       "\t<tr><th></th><th scope=col>gene</th><th scope=col>primary_pct</th><th scope=col>met_pct</th><th scope=col>log10_primary</th><th scope=col>log10_met</th><th scope=col>p_val</th><th scope=col>qval</th><th scope=col>ratio</th><th scope=col>log_pval</th><th scope=col>log_FDR</th><th scope=col>log_ratio</th><th scope=col>category</th></tr>\n",
       "\t<tr><th></th><th scope=col>&lt;chr&gt;</th><th scope=col>&lt;dbl&gt;</th><th scope=col>&lt;dbl&gt;</th><th scope=col>&lt;dbl&gt;</th><th scope=col>&lt;dbl&gt;</th><th scope=col>&lt;dbl&gt;</th><th scope=col>&lt;dbl&gt;</th><th scope=col>&lt;dbl&gt;</th><th scope=col>&lt;dbl&gt;</th><th scope=col>&lt;dbl&gt;</th><th scope=col>&lt;dbl&gt;</th><th scope=col>&lt;chr&gt;</th></tr>\n",
       "</thead>\n",
       "<tbody>\n",
       "\t<tr><th scope=row>1</th><td>MTOR </td><td> 67.4</td><td> 57.7</td><td>1.835056</td><td>1.7686381</td><td>3.019830e-04</td><td>0.064926337</td><td>0.8581871</td><td>3.5200176</td><td>1.187579</td><td>-0.22063582</td><td>grey</td></tr>\n",
       "\t<tr><th scope=row>2</th><td>NRAS </td><td>192.0</td><td>195.3</td><td>2.285557</td><td>2.2929203</td><td>4.051999e-01</td><td>1.000000000</td><td>1.0170984</td><td>0.3923306</td><td>0.000000</td><td> 0.02445933</td><td>grey</td></tr>\n",
       "\t<tr><th scope=row>3</th><td>RIT1 </td><td> 15.7</td><td> 18.0</td><td>1.222716</td><td>1.2787536</td><td>6.538795e-02</td><td>1.000000000</td><td>1.1377246</td><td>1.1845023</td><td>0.000000</td><td> 0.18615132</td><td>grey</td></tr>\n",
       "\t<tr><th scope=row>4</th><td>NTRK1</td><td> 13.8</td><td> 18.3</td><td>1.170262</td><td>1.2855573</td><td>6.239557e-03</td><td>1.000000000</td><td>1.3040541</td><td>2.2048463</td><td>0.000000</td><td> 0.38300367</td><td>grey</td></tr>\n",
       "\t<tr><th scope=row>5</th><td>SDHC </td><td>  2.5</td><td>  6.1</td><td>0.544068</td><td>0.8512583</td><td>1.422821e-05</td><td>0.003613966</td><td>2.0285714</td><td>4.8468496</td><td>2.442016</td><td> 1.02046410</td><td>red </td></tr>\n",
       "\t<tr><th scope=row>6</th><td>SPEN </td><td> 85.8</td><td> 81.0</td><td>1.938520</td><td>1.9138139</td><td>1.619371e-01</td><td>1.000000000</td><td>0.9447005</td><td>0.7906537</td><td>0.000000</td><td>-0.08207113</td><td>grey</td></tr>\n",
       "</tbody>\n",
       "</table>\n"
      ],
      "text/latex": [
       "A data.frame: 6 × 12\n",
       "\\begin{tabular}{r|llllllllllll}\n",
       "  & gene & primary\\_pct & met\\_pct & log10\\_primary & log10\\_met & p\\_val & qval & ratio & log\\_pval & log\\_FDR & log\\_ratio & category\\\\\n",
       "  & <chr> & <dbl> & <dbl> & <dbl> & <dbl> & <dbl> & <dbl> & <dbl> & <dbl> & <dbl> & <dbl> & <chr>\\\\\n",
       "\\hline\n",
       "\t1 & MTOR  &  67.4 &  57.7 & 1.835056 & 1.7686381 & 3.019830e-04 & 0.064926337 & 0.8581871 & 3.5200176 & 1.187579 & -0.22063582 & grey\\\\\n",
       "\t2 & NRAS  & 192.0 & 195.3 & 2.285557 & 2.2929203 & 4.051999e-01 & 1.000000000 & 1.0170984 & 0.3923306 & 0.000000 &  0.02445933 & grey\\\\\n",
       "\t3 & RIT1  &  15.7 &  18.0 & 1.222716 & 1.2787536 & 6.538795e-02 & 1.000000000 & 1.1377246 & 1.1845023 & 0.000000 &  0.18615132 & grey\\\\\n",
       "\t4 & NTRK1 &  13.8 &  18.3 & 1.170262 & 1.2855573 & 6.239557e-03 & 1.000000000 & 1.3040541 & 2.2048463 & 0.000000 &  0.38300367 & grey\\\\\n",
       "\t5 & SDHC  &   2.5 &   6.1 & 0.544068 & 0.8512583 & 1.422821e-05 & 0.003613966 & 2.0285714 & 4.8468496 & 2.442016 &  1.02046410 & red \\\\\n",
       "\t6 & SPEN  &  85.8 &  81.0 & 1.938520 & 1.9138139 & 1.619371e-01 & 1.000000000 & 0.9447005 & 0.7906537 & 0.000000 & -0.08207113 & grey\\\\\n",
       "\\end{tabular}\n"
      ],
      "text/markdown": [
       "\n",
       "A data.frame: 6 × 12\n",
       "\n",
       "| <!--/--> | gene &lt;chr&gt; | primary_pct &lt;dbl&gt; | met_pct &lt;dbl&gt; | log10_primary &lt;dbl&gt; | log10_met &lt;dbl&gt; | p_val &lt;dbl&gt; | qval &lt;dbl&gt; | ratio &lt;dbl&gt; | log_pval &lt;dbl&gt; | log_FDR &lt;dbl&gt; | log_ratio &lt;dbl&gt; | category &lt;chr&gt; |\n",
       "|---|---|---|---|---|---|---|---|---|---|---|---|---|\n",
       "| 1 | MTOR  |  67.4 |  57.7 | 1.835056 | 1.7686381 | 3.019830e-04 | 0.064926337 | 0.8581871 | 3.5200176 | 1.187579 | -0.22063582 | grey |\n",
       "| 2 | NRAS  | 192.0 | 195.3 | 2.285557 | 2.2929203 | 4.051999e-01 | 1.000000000 | 1.0170984 | 0.3923306 | 0.000000 |  0.02445933 | grey |\n",
       "| 3 | RIT1  |  15.7 |  18.0 | 1.222716 | 1.2787536 | 6.538795e-02 | 1.000000000 | 1.1377246 | 1.1845023 | 0.000000 |  0.18615132 | grey |\n",
       "| 4 | NTRK1 |  13.8 |  18.3 | 1.170262 | 1.2855573 | 6.239557e-03 | 1.000000000 | 1.3040541 | 2.2048463 | 0.000000 |  0.38300367 | grey |\n",
       "| 5 | SDHC  |   2.5 |   6.1 | 0.544068 | 0.8512583 | 1.422821e-05 | 0.003613966 | 2.0285714 | 4.8468496 | 2.442016 |  1.02046410 | red  |\n",
       "| 6 | SPEN  |  85.8 |  81.0 | 1.938520 | 1.9138139 | 1.619371e-01 | 1.000000000 | 0.9447005 | 0.7906537 | 0.000000 | -0.08207113 | grey |\n",
       "\n"
      ],
      "text/plain": [
       "  gene  primary_pct met_pct log10_primary log10_met p_val        qval       \n",
       "1 MTOR   67.4        57.7   1.835056      1.7686381 3.019830e-04 0.064926337\n",
       "2 NRAS  192.0       195.3   2.285557      2.2929203 4.051999e-01 1.000000000\n",
       "3 RIT1   15.7        18.0   1.222716      1.2787536 6.538795e-02 1.000000000\n",
       "4 NTRK1  13.8        18.3   1.170262      1.2855573 6.239557e-03 1.000000000\n",
       "5 SDHC    2.5         6.1   0.544068      0.8512583 1.422821e-05 0.003613966\n",
       "6 SPEN   85.8        81.0   1.938520      1.9138139 1.619371e-01 1.000000000\n",
       "  ratio     log_pval  log_FDR  log_ratio   category\n",
       "1 0.8581871 3.5200176 1.187579 -0.22063582 grey    \n",
       "2 1.0170984 0.3923306 0.000000  0.02445933 grey    \n",
       "3 1.1377246 1.1845023 0.000000  0.18615132 grey    \n",
       "4 1.3040541 2.2048463 0.000000  0.38300367 grey    \n",
       "5 2.0285714 4.8468496 2.442016  1.02046410 red     \n",
       "6 0.9447005 0.7906537 0.000000 -0.08207113 grey    "
      ]
     },
     "metadata": {},
     "output_type": "display_data"
    }
   ],
   "source": [
    "head(plot_df)"
   ]
  },
  {
   "cell_type": "code",
   "execution_count": 28,
   "id": "e36a3148-1a81-4460-b8fc-68f0e32b7934",
   "metadata": {},
   "outputs": [
    {
     "data": {
      "text/html": [
       "<table class=\"dataframe\">\n",
       "<caption>A data.frame: 3 × 2</caption>\n",
       "<thead>\n",
       "\t<tr><th scope=col>category</th><th scope=col>n</th></tr>\n",
       "\t<tr><th scope=col>&lt;chr&gt;</th><th scope=col>&lt;int&gt;</th></tr>\n",
       "</thead>\n",
       "<tbody>\n",
       "\t<tr><td>blue</td><td> 29</td></tr>\n",
       "\t<tr><td>grey</td><td>218</td></tr>\n",
       "\t<tr><td>red </td><td> 57</td></tr>\n",
       "</tbody>\n",
       "</table>\n"
      ],
      "text/latex": [
       "A data.frame: 3 × 2\n",
       "\\begin{tabular}{ll}\n",
       " category & n\\\\\n",
       " <chr> & <int>\\\\\n",
       "\\hline\n",
       "\t blue &  29\\\\\n",
       "\t grey & 218\\\\\n",
       "\t red  &  57\\\\\n",
       "\\end{tabular}\n"
      ],
      "text/markdown": [
       "\n",
       "A data.frame: 3 × 2\n",
       "\n",
       "| category &lt;chr&gt; | n &lt;int&gt; |\n",
       "|---|---|\n",
       "| blue |  29 |\n",
       "| grey | 218 |\n",
       "| red  |  57 |\n",
       "\n"
      ],
      "text/plain": [
       "  category n  \n",
       "1 blue      29\n",
       "2 grey     218\n",
       "3 red       57"
      ]
     },
     "metadata": {},
     "output_type": "display_data"
    }
   ],
   "source": [
    "plot_df %>% count(category)"
   ]
  },
  {
   "cell_type": "code",
   "execution_count": 29,
   "id": "d6c617f3-c713-4a6c-b77d-925e897b703a",
   "metadata": {},
   "outputs": [
    {
     "data": {
      "text/html": [
       "<style>\n",
       ".list-inline {list-style: none; margin:0; padding: 0}\n",
       ".list-inline>li {display: inline-block}\n",
       ".list-inline>li:not(:last-child)::after {content: \"\\00b7\"; padding: 0 .5ex}\n",
       "</style>\n",
       "<ol class=list-inline><li>304</li><li>12</li></ol>\n"
      ],
      "text/latex": [
       "\\begin{enumerate*}\n",
       "\\item 304\n",
       "\\item 12\n",
       "\\end{enumerate*}\n"
      ],
      "text/markdown": [
       "1. 304\n",
       "2. 12\n",
       "\n",
       "\n"
      ],
      "text/plain": [
       "[1] 304  12"
      ]
     },
     "metadata": {},
     "output_type": "display_data"
    }
   ],
   "source": [
    "dim(plot_df)"
   ]
  },
  {
   "cell_type": "code",
   "execution_count": 31,
   "id": "6ebc02d1-f04f-4a66-a535-b49b91776a1d",
   "metadata": {
    "scrolled": true
   },
   "outputs": [
    {
     "data": {
      "text/html": [
       "<style>\n",
       ".list-inline {list-style: none; margin:0; padding: 0}\n",
       ".list-inline>li {display: inline-block}\n",
       ".list-inline>li:not(:last-child)::after {content: \"\\00b7\"; padding: 0 .5ex}\n",
       "</style>\n",
       "<ol class=list-inline><li>304</li><li>12</li></ol>\n"
      ],
      "text/latex": [
       "\\begin{enumerate*}\n",
       "\\item 304\n",
       "\\item 12\n",
       "\\end{enumerate*}\n"
      ],
      "text/markdown": [
       "1. 304\n",
       "2. 12\n",
       "\n",
       "\n"
      ],
      "text/plain": [
       "[1] 304  12"
      ]
     },
     "metadata": {},
     "output_type": "display_data"
    }
   ],
   "source": [
    "dim(plot_df)"
   ]
  },
  {
   "cell_type": "code",
   "execution_count": null,
   "id": "34df7540-f16f-40a4-aefe-c9597cda04a6",
   "metadata": {},
   "outputs": [],
   "source": [
    "saveRDS(plot_df,file='../figures_data/msk_p_m_gene_volcano_plot_data.rds')\n"
   ]
  }
 ],
 "metadata": {
  "kernelspec": {
   "display_name": "R",
   "language": "R",
   "name": "ir"
  },
  "language_info": {
   "codemirror_mode": "r",
   "file_extension": ".r",
   "mimetype": "text/x-r-source",
   "name": "R",
   "pygments_lexer": "r",
   "version": "4.3.2"
  }
 },
 "nbformat": 4,
 "nbformat_minor": 5
}
