{
 "cells": [
  {
   "cell_type": "code",
   "execution_count": 1,
   "id": "2f3e4f00-54bb-4553-aab3-50c4a106be40",
   "metadata": {},
   "outputs": [
    {
     "name": "stderr",
     "output_type": "stream",
     "text": [
      "── \u001b[1mAttaching core tidyverse packages\u001b[22m ───────────────────────────────────────────────────────────────────────────────────────────────────────────────────────────────────── tidyverse 2.0.0 ──\n",
      "\u001b[32m✔\u001b[39m \u001b[34mdplyr    \u001b[39m 1.1.4     \u001b[32m✔\u001b[39m \u001b[34mreadr    \u001b[39m 2.1.5\n",
      "\u001b[32m✔\u001b[39m \u001b[34mforcats  \u001b[39m 1.0.0     \u001b[32m✔\u001b[39m \u001b[34mstringr  \u001b[39m 1.5.1\n",
      "\u001b[32m✔\u001b[39m \u001b[34mggplot2  \u001b[39m 3.4.4     \u001b[32m✔\u001b[39m \u001b[34mtibble   \u001b[39m 3.2.1\n",
      "\u001b[32m✔\u001b[39m \u001b[34mlubridate\u001b[39m 1.9.3     \u001b[32m✔\u001b[39m \u001b[34mtidyr    \u001b[39m 1.3.0\n",
      "\u001b[32m✔\u001b[39m \u001b[34mpurrr    \u001b[39m 1.0.2     \n",
      "── \u001b[1mConflicts\u001b[22m ─────────────────────────────────────────────────────────────────────────────────────────────────────────────────────────────────────────────────────── tidyverse_conflicts() ──\n",
      "\u001b[31m✖\u001b[39m \u001b[34mdplyr\u001b[39m::\u001b[32mfilter()\u001b[39m masks \u001b[34mstats\u001b[39m::filter()\n",
      "\u001b[31m✖\u001b[39m \u001b[34mdplyr\u001b[39m::\u001b[32mlag()\u001b[39m    masks \u001b[34mstats\u001b[39m::lag()\n",
      "\u001b[36mℹ\u001b[39m Use the conflicted package (\u001b[3m\u001b[34m<http://conflicted.r-lib.org/>\u001b[39m\u001b[23m) to force all conflicts to become errors\n"
     ]
    }
   ],
   "source": [
    "library('SelectSim')\n",
    "library('tidyverse')"
   ]
  },
  {
   "cell_type": "code",
   "execution_count": 2,
   "id": "078390a7-ef1b-4faf-bccb-432cf9028445",
   "metadata": {
    "scrolled": true
   },
   "outputs": [
    {
     "data": {
      "text/plain": [
       "R version 4.3.2 (2023-10-31)\n",
       "Platform: x86_64-conda-linux-gnu (64-bit)\n",
       "Running under: CentOS Linux 7 (Core)\n",
       "\n",
       "Matrix products: default\n",
       "BLAS/LAPACK: /mnt/ndata/arvind/envs/R_4/lib/libopenblasp-r0.3.25.so;  LAPACK version 3.11.0\n",
       "\n",
       "locale:\n",
       " [1] LC_CTYPE=en_US.UTF-8       LC_NUMERIC=C              \n",
       " [3] LC_TIME=en_US.UTF-8        LC_COLLATE=en_US.UTF-8    \n",
       " [5] LC_MONETARY=en_US.UTF-8    LC_MESSAGES=en_US.UTF-8   \n",
       " [7] LC_PAPER=en_US.UTF-8       LC_NAME=C                 \n",
       " [9] LC_ADDRESS=C               LC_TELEPHONE=C            \n",
       "[11] LC_MEASUREMENT=en_US.UTF-8 LC_IDENTIFICATION=C       \n",
       "\n",
       "time zone: Europe/Zurich\n",
       "tzcode source: system (glibc)\n",
       "\n",
       "attached base packages:\n",
       "[1] stats     graphics  grDevices utils     datasets  methods   base     \n",
       "\n",
       "other attached packages:\n",
       " [1] lubridate_1.9.3   forcats_1.0.0     stringr_1.5.1     dplyr_1.1.4      \n",
       " [5] purrr_1.0.2       readr_2.1.5       tidyr_1.3.0       tibble_3.2.1     \n",
       " [9] ggplot2_3.4.4     tidyverse_2.0.0   SelectSim_0.0.1.3\n",
       "\n",
       "loaded via a namespace (and not attached):\n",
       " [1] gtable_0.3.4       rstatix_0.7.2      lattice_0.22-5     tzdb_0.4.0        \n",
       " [5] vctrs_0.6.5        tools_4.3.2        generics_0.1.3     parallel_4.3.2    \n",
       " [9] fansi_1.0.6        pkgconfig_2.0.3    Matrix_1.6-5       ggridges_0.5.5    \n",
       "[13] rngtools_1.5.2     RcppParallel_5.1.6 uuid_1.2-0         lifecycle_1.0.4   \n",
       "[17] compiler_4.3.2     tictoc_1.2         munsell_0.5.0      repr_1.1.6        \n",
       "[21] codetools_0.2-19   carData_3.0-5      htmltools_0.5.7    pillar_1.9.0      \n",
       "[25] car_3.1-2          ggpubr_0.6.0       crayon_1.5.2       doRNG_1.8.6       \n",
       "[29] iterators_1.0.14   abind_1.4-5        foreach_1.5.2      tidyselect_1.2.0  \n",
       "[33] digest_0.6.34      stringi_1.8.3      reshape2_1.4.4     fastmap_1.1.1     \n",
       "[37] grid_4.3.2         colorspace_2.1-0   cli_3.6.2          magrittr_2.0.3    \n",
       "[41] base64enc_0.1-3    Rfast_2.1.0        utf8_1.2.4         IRdisplay_1.1     \n",
       "[45] broom_1.0.5        withr_3.0.0        scales_1.3.0       backports_1.4.1   \n",
       "[49] IRkernel_1.3.2     RcppZiggurat_0.1.6 timechange_0.3.0   pbdZMQ_0.3-11     \n",
       "[53] ggsignif_0.6.4     hms_1.1.3          evaluate_0.23      doParallel_1.0.17 \n",
       "[57] rlang_1.1.3        Rcpp_1.0.12        glue_1.7.0         jsonlite_1.8.8    \n",
       "[61] R6_2.5.1           plyr_1.8.9        "
      ]
     },
     "metadata": {},
     "output_type": "display_data"
    }
   ],
   "source": [
    "sessionInfo()"
   ]
  },
  {
   "cell_type": "markdown",
   "id": "8c7d03e0-a7c4-40f4-b494-92580ef352cc",
   "metadata": {},
   "source": [
    "## MSK primary sampling runs"
   ]
  },
  {
   "cell_type": "code",
   "execution_count": null,
   "id": "9f86d1ef-c932-4293-a0d1-4a556b0786e3",
   "metadata": {},
   "outputs": [],
   "source": [
    "msk_p_sample_run_list <- readRDS('/mnt/ndata/arvind/co_mutation_project/analysis/primary_met_work/data/msk_p_sample_run_data_list.rds')"
   ]
  },
  {
   "cell_type": "code",
   "execution_count": null,
   "id": "f753858a-ce20-4b46-bd28-2e29d4f76bad",
   "metadata": {},
   "outputs": [],
   "source": [
    "msk_results<-list()\n",
    "for(i in c(1:10)){\n",
    "    cat('---Running----',paste('run',i,sep=\"_\"),\"\\n\")\n",
    "    temp<-msk_p_sample_run_list[[i]]\n",
    "    msk_result <- selectX(M = temp$M,\n",
    "                            sample.class = temp$sample.class,\n",
    "                            alteration.class = temp$alteration.class,\n",
    "                            n.cores = 15,\n",
    "                            min.freq = round(0.001*length(temp$sample.class)),\n",
    "                            n.permut = 1000,\n",
    "                            lambda = 0.3,\n",
    "                            tao = 1,\n",
    "                            save.object = FALSE,\n",
    "                            verbose = FALSE,\n",
    "                            estimate_pairwise = FALSE,\n",
    "                            maxFDR = 0.25,\n",
    "                            seed = 42)\n",
    "    msk_result$result<- msk_result$result %>% mutate('sampling_run'=paste('run',i,sep=\"_\"))\n",
    "    msk_results[[i]]<-msk_result$result\n",
    "    label<-paste('../results/','msk_p_sample_run_',i,'_result.rds',sep=\"\")\n",
    "    saveRDS(msk_result,file = label,compress = TRUE)\n",
    "    rm(msk_result)\n",
    "}"
   ]
  },
  {
   "cell_type": "code",
   "execution_count": null,
   "id": "19fe1ea0-cad1-4b8e-a668-f98c34fa992a",
   "metadata": {},
   "outputs": [],
   "source": [
    "length(msk_results)"
   ]
  },
  {
   "cell_type": "code",
   "execution_count": null,
   "id": "18f178c1-2918-4864-b911-d442fccc1e3a",
   "metadata": {},
   "outputs": [],
   "source": [
    "str(msk_results,max.level=1)"
   ]
  },
  {
   "cell_type": "code",
   "execution_count": null,
   "id": "3342237d-d883-4a3b-876b-4c4112f33ea1",
   "metadata": {},
   "outputs": [],
   "source": [
    "saveRDS(msk_results,file='../results/msk_p_sampling_results_list.rds')"
   ]
  },
  {
   "cell_type": "markdown",
   "id": "cfd77cb2-c0f9-4c0a-b655-0d4b560fe2d9",
   "metadata": {},
   "source": [
    "## MSK metastasis sampling runs"
   ]
  },
  {
   "cell_type": "code",
   "execution_count": null,
   "id": "8f700c67-3d0d-4f25-8ba2-19763e483125",
   "metadata": {},
   "outputs": [],
   "source": [
    "msk_m_sample_run_list <- readRDS('/mnt/ndata/arvind/co_mutation_project/analysis/primary_met_work/data/msk_m_sample_run_data_list.rds')"
   ]
  },
  {
   "cell_type": "code",
   "execution_count": null,
   "id": "ec63537e-f513-4f45-84dc-8a7d15448fee",
   "metadata": {},
   "outputs": [],
   "source": [
    "msk_results<-list()\n",
    "for(i in c(1:10)){\n",
    "    cat('---Running----',paste('run',i,sep=\"_\"),\"\\n\")\n",
    "    temp<-msk_m_sample_run_list[[i]]\n",
    "    msk_result <- selectX(M = temp$M,\n",
    "                            sample.class = temp$sample.class,\n",
    "                            alteration.class = temp$alteration.class,\n",
    "                            n.cores = 15,\n",
    "                            min.freq = round(0.001*length(temp$sample.class)),\n",
    "                            n.permut = 1000,\n",
    "                            lambda = 0.3,\n",
    "                            tao = 1,\n",
    "                            save.object = FALSE,\n",
    "                            verbose = FALSE,\n",
    "                            estimate_pairwise = FALSE,\n",
    "                            maxFDR = 0.25,\n",
    "                            seed = 42)\n",
    "    msk_result$result<- msk_result$result %>% mutate('sampling_run'=paste('run',i,sep=\"_\"))\n",
    "    msk_results[[i]]<-msk_result$result\n",
    "    label<-paste('../results/','msk_m_sample_run_',i,'_result.rds',sep=\"\")\n",
    "    saveRDS(msk_result,file = label,compress = TRUE)\n",
    "    rm(msk_result)\n",
    "}"
   ]
  },
  {
   "cell_type": "code",
   "execution_count": null,
   "id": "496dcb34-cf19-4e83-b983-06e0b2259065",
   "metadata": {},
   "outputs": [],
   "source": [
    "length(msk_results)"
   ]
  },
  {
   "cell_type": "code",
   "execution_count": null,
   "id": "fe0de8b1-26b2-447b-84d3-b10b29a186d4",
   "metadata": {},
   "outputs": [],
   "source": [
    "str(msk_results,max.level=1)"
   ]
  },
  {
   "cell_type": "code",
   "execution_count": null,
   "id": "41e92978-a969-4c90-88a3-8c05b3c51aa6",
   "metadata": {},
   "outputs": [],
   "source": [
    "saveRDS(msk_results,file='../results/msk_m_sampling_results_list.rds')"
   ]
  },
  {
   "cell_type": "markdown",
   "id": "47bbfb2a-3200-4742-8d3c-762fad2dbaa1",
   "metadata": {},
   "source": [
    "## MSK combined sampling runs"
   ]
  },
  {
   "cell_type": "code",
   "execution_count": null,
   "id": "59ab298b-01ae-4a54-a329-7f804d8ec3de",
   "metadata": {},
   "outputs": [],
   "source": [
    "msk_p_m_sample_run_list <- readRDS('/mnt/ndata/arvind/co_mutation_project/analysis/primary_met_work/data/msk_p_m_sample_run_data_list.rds')"
   ]
  },
  {
   "cell_type": "code",
   "execution_count": null,
   "id": "c7f68310-7983-49b0-86ef-cd1fab50358f",
   "metadata": {
    "scrolled": true
   },
   "outputs": [],
   "source": [
    "str(msk_p_m_sample_run_list,max.level = 1)"
   ]
  },
  {
   "cell_type": "code",
   "execution_count": null,
   "id": "b36e9e59-3f65-4fc7-b4cf-bc6b5cc038a1",
   "metadata": {},
   "outputs": [],
   "source": [
    "msk_results<-list()\n",
    "for(i in c(1:20)){\n",
    "    cat('---Running----',paste('run',i,sep=\"_\"),\"\\n\")\n",
    "    temp<-msk_p_m_sample_run_list[[i]]\n",
    "    msk_result <- selectX(M = temp$M,\n",
    "                            sample.class = temp$sample.class,\n",
    "                            alteration.class = temp$alteration.class,\n",
    "                            n.cores = 15,\n",
    "                            min.freq = round(0.001*length(temp$sample.class)),\n",
    "                            n.permut = 1000,\n",
    "                            lambda = 0.3,\n",
    "                            tao = 1,\n",
    "                            save.object = FALSE,\n",
    "                            verbose = FALSE,\n",
    "                            estimate_pairwise = FALSE,\n",
    "                            maxFDR = 0.25,\n",
    "                            seed = 42)\n",
    "    msk_result$result<- msk_result$result %>% mutate('sampling_run'=paste('run',i,sep=\"_\"))\n",
    "    msk_results[[i]]<-msk_result$result\n",
    "    label<-paste('../results/','msk_p_m_sample_run_',i,'_result.rds',sep=\"\")\n",
    "    saveRDS(msk_result,file = label,compress = TRUE)\n",
    "    rm(msk_result)\n",
    "}"
   ]
  },
  {
   "cell_type": "code",
   "execution_count": null,
   "id": "1450fbae-ea12-4c9d-adcc-501f3770d870",
   "metadata": {},
   "outputs": [],
   "source": [
    "length(msk_results)"
   ]
  },
  {
   "cell_type": "code",
   "execution_count": null,
   "id": "55f8353f-0c38-4eab-b4e4-5a00f238e583",
   "metadata": {},
   "outputs": [],
   "source": [
    "str(msk_results,max.level=1)"
   ]
  },
  {
   "cell_type": "code",
   "execution_count": null,
   "id": "ff91e0e0-0e51-46ac-bf65-696b90b11dc2",
   "metadata": {},
   "outputs": [],
   "source": [
    "saveRDS(msk_results,file='../results/msk_p_m_sampling_results_list.rds')"
   ]
  }
 ],
 "metadata": {
  "kernelspec": {
   "display_name": "R",
   "language": "R",
   "name": "ir"
  },
  "language_info": {
   "codemirror_mode": "r",
   "file_extension": ".r",
   "mimetype": "text/x-r-source",
   "name": "R",
   "pygments_lexer": "r",
   "version": "4.3.2"
  }
 },
 "nbformat": 4,
 "nbformat_minor": 5
}
