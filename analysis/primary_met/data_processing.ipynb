{
 "cells": [
  {
   "cell_type": "code",
   "execution_count": 1,
   "id": "681b6640-45da-49b0-acc9-ef85566f6026",
   "metadata": {},
   "outputs": [
    {
     "name": "stderr",
     "output_type": "stream",
     "text": [
      "── \u001b[1mAttaching core tidyverse packages\u001b[22m ───────────────────────────────────────────────────────────────────────────────────────────────────────────────────────────────────── tidyverse 2.0.0 ──\n",
      "\u001b[32m✔\u001b[39m \u001b[34mdplyr    \u001b[39m 1.1.4     \u001b[32m✔\u001b[39m \u001b[34mreadr    \u001b[39m 2.1.5\n",
      "\u001b[32m✔\u001b[39m \u001b[34mforcats  \u001b[39m 1.0.0     \u001b[32m✔\u001b[39m \u001b[34mstringr  \u001b[39m 1.5.1\n",
      "\u001b[32m✔\u001b[39m \u001b[34mggplot2  \u001b[39m 3.4.4     \u001b[32m✔\u001b[39m \u001b[34mtibble   \u001b[39m 3.2.1\n",
      "\u001b[32m✔\u001b[39m \u001b[34mlubridate\u001b[39m 1.9.3     \u001b[32m✔\u001b[39m \u001b[34mtidyr    \u001b[39m 1.3.0\n",
      "\u001b[32m✔\u001b[39m \u001b[34mpurrr    \u001b[39m 1.0.2     \n",
      "── \u001b[1mConflicts\u001b[22m ─────────────────────────────────────────────────────────────────────────────────────────────────────────────────────────────────────────────────────── tidyverse_conflicts() ──\n",
      "\u001b[31m✖\u001b[39m \u001b[34mdplyr\u001b[39m::\u001b[32mfilter()\u001b[39m masks \u001b[34mstats\u001b[39m::filter()\n",
      "\u001b[31m✖\u001b[39m \u001b[34mdplyr\u001b[39m::\u001b[32mlag()\u001b[39m    masks \u001b[34mstats\u001b[39m::lag()\n",
      "\u001b[36mℹ\u001b[39m Use the conflicted package (\u001b[3m\u001b[34m<http://conflicted.r-lib.org/>\u001b[39m\u001b[23m) to force all conflicts to become errors\n"
     ]
    }
   ],
   "source": [
    "library('SelectSim')\n",
    "library('tidyverse')"
   ]
  },
  {
   "cell_type": "code",
   "execution_count": 2,
   "id": "054d6d33-5679-4218-8087-5c66dc6ad5ac",
   "metadata": {},
   "outputs": [],
   "source": [
    "set.seed(42)"
   ]
  },
  {
   "cell_type": "code",
   "execution_count": 3,
   "id": "2edf5f41-dbed-47b3-ac9c-407acd93ca5d",
   "metadata": {
    "scrolled": true
   },
   "outputs": [
    {
     "data": {
      "text/plain": [
       "R version 4.3.2 (2023-10-31)\n",
       "Platform: x86_64-conda-linux-gnu (64-bit)\n",
       "Running under: CentOS Linux 7 (Core)\n",
       "\n",
       "Matrix products: default\n",
       "BLAS/LAPACK: /mnt/ndata/arvind/envs/R_4/lib/libopenblasp-r0.3.25.so;  LAPACK version 3.11.0\n",
       "\n",
       "locale:\n",
       " [1] LC_CTYPE=en_US.UTF-8       LC_NUMERIC=C              \n",
       " [3] LC_TIME=en_US.UTF-8        LC_COLLATE=en_US.UTF-8    \n",
       " [5] LC_MONETARY=en_US.UTF-8    LC_MESSAGES=en_US.UTF-8   \n",
       " [7] LC_PAPER=en_US.UTF-8       LC_NAME=C                 \n",
       " [9] LC_ADDRESS=C               LC_TELEPHONE=C            \n",
       "[11] LC_MEASUREMENT=en_US.UTF-8 LC_IDENTIFICATION=C       \n",
       "\n",
       "time zone: Europe/Zurich\n",
       "tzcode source: system (glibc)\n",
       "\n",
       "attached base packages:\n",
       "[1] stats     graphics  grDevices utils     datasets  methods   base     \n",
       "\n",
       "other attached packages:\n",
       " [1] lubridate_1.9.3   forcats_1.0.0     stringr_1.5.1     dplyr_1.1.4      \n",
       " [5] purrr_1.0.2       readr_2.1.5       tidyr_1.3.0       tibble_3.2.1     \n",
       " [9] ggplot2_3.4.4     tidyverse_2.0.0   SelectSim_0.0.1.3\n",
       "\n",
       "loaded via a namespace (and not attached):\n",
       " [1] gtable_0.3.4       rstatix_0.7.2      lattice_0.22-5     tzdb_0.4.0        \n",
       " [5] vctrs_0.6.5        tools_4.3.2        generics_0.1.3     parallel_4.3.2    \n",
       " [9] fansi_1.0.6        pkgconfig_2.0.3    Matrix_1.6-5       ggridges_0.5.5    \n",
       "[13] rngtools_1.5.2     RcppParallel_5.1.6 uuid_1.2-0         lifecycle_1.0.4   \n",
       "[17] compiler_4.3.2     tictoc_1.2         munsell_0.5.0      repr_1.1.6        \n",
       "[21] codetools_0.2-19   carData_3.0-5      htmltools_0.5.7    pillar_1.9.0      \n",
       "[25] car_3.1-2          ggpubr_0.6.0       crayon_1.5.2       doRNG_1.8.6       \n",
       "[29] iterators_1.0.14   abind_1.4-5        foreach_1.5.2      tidyselect_1.2.0  \n",
       "[33] digest_0.6.34      stringi_1.8.3      reshape2_1.4.4     fastmap_1.1.1     \n",
       "[37] grid_4.3.2         colorspace_2.1-0   cli_3.6.2          magrittr_2.0.3    \n",
       "[41] base64enc_0.1-3    Rfast_2.1.0        utf8_1.2.4         IRdisplay_1.1     \n",
       "[45] broom_1.0.5        withr_3.0.0        scales_1.3.0       backports_1.4.1   \n",
       "[49] IRkernel_1.3.2     RcppZiggurat_0.1.6 timechange_0.3.0   pbdZMQ_0.3-11     \n",
       "[53] ggsignif_0.6.4     hms_1.1.3          evaluate_0.23      doParallel_1.0.17 \n",
       "[57] rlang_1.1.3        Rcpp_1.0.12        glue_1.7.0         jsonlite_1.8.8    \n",
       "[61] R6_2.5.1           plyr_1.8.9        "
      ]
     },
     "metadata": {},
     "output_type": "display_data"
    }
   ],
   "source": [
    "sessionInfo()"
   ]
  },
  {
   "cell_type": "markdown",
   "id": "05ce8912-510c-485d-b517-59835c559c05",
   "metadata": {},
   "source": [
    "# Functions"
   ]
  },
  {
   "cell_type": "code",
   "execution_count": 4,
   "id": "0a138a8b-60e5-4f20-b879-a7d47d3c7619",
   "metadata": {},
   "outputs": [],
   "source": [
    "filter_run_data <- function(run_data,gene_order,sample_order){\n",
    "    final_run_data<-run_data\n",
    "    final_run_data$M$M$missense<-run_data$M$M$missense[gene_order,sample_order]\n",
    "    final_run_data$M$M$truncating<-run_data$M$M$truncating[gene_order,sample_order]\n",
    "    final_run_data$alteration.class<- run_data$alteration.class[gene_order]\n",
    "    final_run_data$sample.class<-run_data$sample.class[sample_order]\n",
    "    final_run_data$M$tmb$missense<-run_data$M$tmb$missense[sample_order,]\n",
    "    final_run_data$M$tmb$truncating<-run_data$M$tmb$truncating[sample_order,]\n",
    "    return(final_run_data)\n",
    "}"
   ]
  },
  {
   "cell_type": "markdown",
   "id": "86e95e6b-3186-49d0-80b5-b50a85ffc886",
   "metadata": {},
   "source": [
    "# Read metadata and the pan-can run data for MSK"
   ]
  },
  {
   "cell_type": "code",
   "execution_count": 5,
   "id": "231e75d9-43ed-40ad-ab0a-1f6c0477389d",
   "metadata": {},
   "outputs": [],
   "source": [
    "all_merged_metadata<- readRDS(file='/mnt/ndata/arvind/co_mutation_project/data/processed/all_merged_data_genie_v15.rds')"
   ]
  },
  {
   "cell_type": "code",
   "execution_count": 6,
   "id": "8e149a94-fa57-4c74-af5a-2a1056fe053c",
   "metadata": {},
   "outputs": [],
   "source": [
    "msk_p_run_data <- readRDS(file='/mnt/ndata/arvind/co_mutation_project/data/processed/gams/pan_can_msk_primary_run_data_v15.rds')\n",
    "msk_m_run_data <- readRDS(file='/mnt/ndata/arvind/co_mutation_project/data/processed/gams/pan_can_msk_meta_run_data_v15.rds')"
   ]
  },
  {
   "cell_type": "code",
   "execution_count": 7,
   "id": "f9c281e7-5b74-47d8-849c-e69df8e511ba",
   "metadata": {},
   "outputs": [],
   "source": [
    "genie_metadata_15_msk_with_mutation_selected_final_atleast_100_samples<-readRDS(file='/mnt/ndata/arvind/co_mutation_project/data/processed/genie/msk_one_patient_one_sample_final.rds')"
   ]
  },
  {
   "cell_type": "markdown",
   "id": "343b4a4a-b372-49f0-9bec-fcc824487cd2",
   "metadata": {},
   "source": [
    "# MSK"
   ]
  },
  {
   "cell_type": "code",
   "execution_count": 8,
   "id": "b9a7189e-5026-4200-aadf-863057c85d74",
   "metadata": {},
   "outputs": [
    {
     "name": "stdout",
     "output_type": "stream",
     "text": [
      "List of 3\n",
      " $ M               :List of 2\n",
      "  ..$ M  :List of 2\n",
      "  .. ..$ missense  : num [1:396, 1:27825] 0 0 0 0 0 0 0 0 0 0 ...\n",
      "  .. .. ..- attr(*, \"dimnames\")=List of 2\n",
      "  .. .. .. ..$ : chr [1:396] \"AKT1\" \"ALK\" \"APC\" \"AR\" ...\n",
      "  .. .. .. ..$ : chr [1:27825] \"GENIE-MSK-P-0000223-T01-IM3\" \"GENIE-MSK-P-0000679-T01-IM3\" \"GENIE-MSK-P-0000748-T01-IM3\" \"GENIE-MSK-P-0001408-T01-IM3\" ...\n",
      "  .. ..$ truncating: num [1:396, 1:27825] 0 0 0 0 0 0 0 0 0 0 ...\n",
      "  .. .. ..- attr(*, \"dimnames\")=List of 2\n",
      "  .. .. .. ..$ : chr [1:396] \"AKT1\" \"ALK\" \"APC\" \"AR\" ...\n",
      "  .. .. .. ..$ : chr [1:27825] \"GENIE-MSK-P-0000223-T01-IM3\" \"GENIE-MSK-P-0000679-T01-IM3\" \"GENIE-MSK-P-0000748-T01-IM3\" \"GENIE-MSK-P-0001408-T01-IM3\" ...\n",
      "  ..$ tmb:List of 2\n",
      "  .. ..$ missense  :'data.frame':\t27825 obs. of  2 variables:\n",
      "  .. .. ..$ sample  : chr [1:27825] \"GENIE-MSK-P-0000223-T01-IM3\" \"GENIE-MSK-P-0000679-T01-IM3\" \"GENIE-MSK-P-0000748-T01-IM3\" \"GENIE-MSK-P-0001408-T01-IM3\" ...\n",
      "  .. .. ..$ mutation: num [1:27825] 4 4 1 0 4 2 3 3 2 3 ...\n",
      "  .. ..$ truncating:'data.frame':\t27825 obs. of  2 variables:\n",
      "  .. .. ..$ sample  : chr [1:27825] \"GENIE-MSK-P-0000223-T01-IM3\" \"GENIE-MSK-P-0000679-T01-IM3\" \"GENIE-MSK-P-0000748-T01-IM3\" \"GENIE-MSK-P-0001408-T01-IM3\" ...\n",
      "  .. .. ..$ mutation: num [1:27825] 1 3 0 3 1 0 0 0 0 2 ...\n",
      " $ sample.class    : Named chr [1:27825] \"Glioma_low_grade\" \"Glioma_low_grade\" \"Glioma_low_grade\" \"Glioma_low_grade\" ...\n",
      "  ..- attr(*, \"names\")= chr [1:27825] \"GENIE-MSK-P-0000223-T01-IM3\" \"GENIE-MSK-P-0000679-T01-IM3\" \"GENIE-MSK-P-0000748-T01-IM3\" \"GENIE-MSK-P-0001408-T01-IM3\" ...\n",
      " $ alteration.class: Named chr [1:396] \"MUT\" \"MUT\" \"MUT\" \"MUT\" ...\n",
      "  ..- attr(*, \"names\")= chr [1:396] \"AKT1\" \"ALK\" \"APC\" \"AR\" ...\n"
     ]
    }
   ],
   "source": [
    "str(msk_p_run_data)"
   ]
  },
  {
   "cell_type": "code",
   "execution_count": 12,
   "id": "ba7000ab-63dd-4e73-a00b-50319a4cc4f1",
   "metadata": {},
   "outputs": [],
   "source": [
    "genie_metadata_15_msk_with_mutation_selected_final_atleast_100_samples_filter <- genie_metadata_15_msk_with_mutation_selected_final_atleast_100_samples %>% \n",
    "filter(SEQ_ASSAY_ID %in% c('MSK-IMPACT468','MSK-IMPACT505'))"
   ]
  },
  {
   "cell_type": "code",
   "execution_count": 13,
   "id": "c1dfdd61-53f9-4dc0-b5eb-695f8d5044c1",
   "metadata": {
    "scrolled": true
   },
   "outputs": [
    {
     "name": "stderr",
     "output_type": "stream",
     "text": [
      "\u001b[1m\u001b[22m`summarise()` has grouped output by 'final_class'. You can override using the `.groups` argument.\n"
     ]
    }
   ],
   "source": [
    "sample_count<-genie_metadata_15_msk_with_mutation_selected_final_atleast_100_samples_filter %>%\n",
    "  group_by(final_class, SAMPLE_TYPE) %>%\n",
    "  summarise(sample_count = n()) %>%\n",
    "  filter(SAMPLE_TYPE %in% c(\"Primary\", \"Metastasis\")) %>%\n",
    "  group_by(final_class) %>%\n",
    "  filter(all(sample_count >= 30))"
   ]
  },
  {
   "cell_type": "code",
   "execution_count": 14,
   "id": "7fea96f4-687d-492f-b018-c2315e021a61",
   "metadata": {},
   "outputs": [
    {
     "data": {
      "text/html": [
       "<style>\n",
       ".list-inline {list-style: none; margin:0; padding: 0}\n",
       ".list-inline>li {display: inline-block}\n",
       ".list-inline>li:not(:last-child)::after {content: \"\\00b7\"; padding: 0 .5ex}\n",
       "</style>\n",
       "<ol class=list-inline><li>33306</li><li>22</li></ol>\n"
      ],
      "text/latex": [
       "\\begin{enumerate*}\n",
       "\\item 33306\n",
       "\\item 22\n",
       "\\end{enumerate*}\n"
      ],
      "text/markdown": [
       "1. 33306\n",
       "2. 22\n",
       "\n",
       "\n"
      ],
      "text/plain": [
       "[1] 33306    22"
      ]
     },
     "metadata": {},
     "output_type": "display_data"
    }
   ],
   "source": [
    "dim(genie_metadata_15_msk_with_mutation_selected_final_atleast_100_samples_filter)"
   ]
  },
  {
   "cell_type": "code",
   "execution_count": 15,
   "id": "83bcffb8-3ba6-4d21-8033-77a2fe211a3f",
   "metadata": {},
   "outputs": [
    {
     "data": {
      "text/html": [
       "<table class=\"dataframe\">\n",
       "<caption>A data.frame: 2 × 2</caption>\n",
       "<thead>\n",
       "\t<tr><th scope=col>SEQ_ASSAY_ID</th><th scope=col>n</th></tr>\n",
       "\t<tr><th scope=col>&lt;chr&gt;</th><th scope=col>&lt;int&gt;</th></tr>\n",
       "</thead>\n",
       "<tbody>\n",
       "\t<tr><td>MSK-IMPACT468</td><td>21672</td></tr>\n",
       "\t<tr><td>MSK-IMPACT505</td><td>11634</td></tr>\n",
       "</tbody>\n",
       "</table>\n"
      ],
      "text/latex": [
       "A data.frame: 2 × 2\n",
       "\\begin{tabular}{ll}\n",
       " SEQ\\_ASSAY\\_ID & n\\\\\n",
       " <chr> & <int>\\\\\n",
       "\\hline\n",
       "\t MSK-IMPACT468 & 21672\\\\\n",
       "\t MSK-IMPACT505 & 11634\\\\\n",
       "\\end{tabular}\n"
      ],
      "text/markdown": [
       "\n",
       "A data.frame: 2 × 2\n",
       "\n",
       "| SEQ_ASSAY_ID &lt;chr&gt; | n &lt;int&gt; |\n",
       "|---|---|\n",
       "| MSK-IMPACT468 | 21672 |\n",
       "| MSK-IMPACT505 | 11634 |\n",
       "\n"
      ],
      "text/plain": [
       "  SEQ_ASSAY_ID  n    \n",
       "1 MSK-IMPACT468 21672\n",
       "2 MSK-IMPACT505 11634"
      ]
     },
     "metadata": {},
     "output_type": "display_data"
    }
   ],
   "source": [
    "genie_metadata_15_msk_with_mutation_selected_final_atleast_100_samples_filter %>% count(SEQ_ASSAY_ID)"
   ]
  },
  {
   "cell_type": "code",
   "execution_count": 17,
   "id": "4c801881-adbc-409f-ac2b-c2bbc3610608",
   "metadata": {},
   "outputs": [
    {
     "data": {
      "text/html": [
       "50"
      ],
      "text/latex": [
       "50"
      ],
      "text/markdown": [
       "50"
      ],
      "text/plain": [
       "[1] 50"
      ]
     },
     "metadata": {},
     "output_type": "display_data"
    }
   ],
   "source": [
    "length(unique(sample_count$final_class))"
   ]
  },
  {
   "cell_type": "code",
   "execution_count": 18,
   "id": "5f4acd2e-e27e-4315-bd90-58571958bceb",
   "metadata": {},
   "outputs": [],
   "source": [
    "genie_metadata_15_msk_with_mutation_selected_final_atleast_100_samples_filter<-genie_metadata_15_msk_with_mutation_selected_final_atleast_100_samples_filter %>%\n",
    "  filter(final_class %in% sample_count$final_class)"
   ]
  },
  {
   "cell_type": "code",
   "execution_count": 19,
   "id": "5aa75549-e046-4ce1-be2e-c5994edd4f3b",
   "metadata": {},
   "outputs": [
    {
     "data": {
      "text/html": [
       "<table class=\"dataframe\">\n",
       "<caption>A data.frame: 2 × 22</caption>\n",
       "<thead>\n",
       "\t<tr><th></th><th scope=col>PATIENT_ID</th><th scope=col>SEX</th><th scope=col>PRIMARY_RACE</th><th scope=col>ETHNICITY</th><th scope=col>CENTER</th><th scope=col>INT_CONTACT</th><th scope=col>INT_DOD</th><th scope=col>YEAR_CONTACT</th><th scope=col>DEAD</th><th scope=col>YEAR_DEATH</th><th scope=col>⋯</th><th scope=col>ONCOTREE_CODE</th><th scope=col>SAMPLE_TYPE</th><th scope=col>SEQ_ASSAY_ID</th><th scope=col>CANCER_TYPE</th><th scope=col>CANCER_TYPE_DETAILED</th><th scope=col>SAMPLE_TYPE_DETAILED</th><th scope=col>class</th><th scope=col>Tumor_run_group</th><th scope=col>final_class</th><th scope=col>final_run_group</th></tr>\n",
       "\t<tr><th></th><th scope=col>&lt;chr&gt;</th><th scope=col>&lt;chr&gt;</th><th scope=col>&lt;chr&gt;</th><th scope=col>&lt;chr&gt;</th><th scope=col>&lt;chr&gt;</th><th scope=col>&lt;chr&gt;</th><th scope=col>&lt;chr&gt;</th><th scope=col>&lt;chr&gt;</th><th scope=col>&lt;chr&gt;</th><th scope=col>&lt;chr&gt;</th><th scope=col>⋯</th><th scope=col>&lt;chr&gt;</th><th scope=col>&lt;chr&gt;</th><th scope=col>&lt;chr&gt;</th><th scope=col>&lt;chr&gt;</th><th scope=col>&lt;chr&gt;</th><th scope=col>&lt;chr&gt;</th><th scope=col>&lt;chr&gt;</th><th scope=col>&lt;chr&gt;</th><th scope=col>&lt;chr&gt;</th><th scope=col>&lt;chr&gt;</th></tr>\n",
       "</thead>\n",
       "<tbody>\n",
       "\t<tr><th scope=row>1</th><td>GENIE-MSK-P-0014666</td><td>Female</td><td>White</td><td>Non-Spanish/non-Hispanic</td><td>MSK</td><td>11687</td><td>11687</td><td>2018</td><td>TRUE</td><td>2018</td><td>⋯</td><td>ACRM</td><td>Metastasis</td><td>MSK-IMPACT468</td><td>Melanoma</td><td>Acral Melanoma</td><td>Metastasis site unspecified</td><td>ACRM</td><td>ACRM</td><td>ACRM</td><td>Melanoma</td></tr>\n",
       "\t<tr><th scope=row>2</th><td>GENIE-MSK-P-0014884</td><td>Male  </td><td>White</td><td>Non-Spanish/non-Hispanic</td><td>MSK</td><td>20758</td><td>20758</td><td>2016</td><td>TRUE</td><td>2016</td><td>⋯</td><td>ACRM</td><td>Metastasis</td><td>MSK-IMPACT468</td><td>Melanoma</td><td>Acral Melanoma</td><td>Metastasis site unspecified</td><td>ACRM</td><td>ACRM</td><td>ACRM</td><td>Melanoma</td></tr>\n",
       "</tbody>\n",
       "</table>\n"
      ],
      "text/latex": [
       "A data.frame: 2 × 22\n",
       "\\begin{tabular}{r|lllllllllllllllllllll}\n",
       "  & PATIENT\\_ID & SEX & PRIMARY\\_RACE & ETHNICITY & CENTER & INT\\_CONTACT & INT\\_DOD & YEAR\\_CONTACT & DEAD & YEAR\\_DEATH & ⋯ & ONCOTREE\\_CODE & SAMPLE\\_TYPE & SEQ\\_ASSAY\\_ID & CANCER\\_TYPE & CANCER\\_TYPE\\_DETAILED & SAMPLE\\_TYPE\\_DETAILED & class & Tumor\\_run\\_group & final\\_class & final\\_run\\_group\\\\\n",
       "  & <chr> & <chr> & <chr> & <chr> & <chr> & <chr> & <chr> & <chr> & <chr> & <chr> & ⋯ & <chr> & <chr> & <chr> & <chr> & <chr> & <chr> & <chr> & <chr> & <chr> & <chr>\\\\\n",
       "\\hline\n",
       "\t1 & GENIE-MSK-P-0014666 & Female & White & Non-Spanish/non-Hispanic & MSK & 11687 & 11687 & 2018 & TRUE & 2018 & ⋯ & ACRM & Metastasis & MSK-IMPACT468 & Melanoma & Acral Melanoma & Metastasis site unspecified & ACRM & ACRM & ACRM & Melanoma\\\\\n",
       "\t2 & GENIE-MSK-P-0014884 & Male   & White & Non-Spanish/non-Hispanic & MSK & 20758 & 20758 & 2016 & TRUE & 2016 & ⋯ & ACRM & Metastasis & MSK-IMPACT468 & Melanoma & Acral Melanoma & Metastasis site unspecified & ACRM & ACRM & ACRM & Melanoma\\\\\n",
       "\\end{tabular}\n"
      ],
      "text/markdown": [
       "\n",
       "A data.frame: 2 × 22\n",
       "\n",
       "| <!--/--> | PATIENT_ID &lt;chr&gt; | SEX &lt;chr&gt; | PRIMARY_RACE &lt;chr&gt; | ETHNICITY &lt;chr&gt; | CENTER &lt;chr&gt; | INT_CONTACT &lt;chr&gt; | INT_DOD &lt;chr&gt; | YEAR_CONTACT &lt;chr&gt; | DEAD &lt;chr&gt; | YEAR_DEATH &lt;chr&gt; | ⋯ ⋯ | ONCOTREE_CODE &lt;chr&gt; | SAMPLE_TYPE &lt;chr&gt; | SEQ_ASSAY_ID &lt;chr&gt; | CANCER_TYPE &lt;chr&gt; | CANCER_TYPE_DETAILED &lt;chr&gt; | SAMPLE_TYPE_DETAILED &lt;chr&gt; | class &lt;chr&gt; | Tumor_run_group &lt;chr&gt; | final_class &lt;chr&gt; | final_run_group &lt;chr&gt; |\n",
       "|---|---|---|---|---|---|---|---|---|---|---|---|---|---|---|---|---|---|---|---|---|---|\n",
       "| 1 | GENIE-MSK-P-0014666 | Female | White | Non-Spanish/non-Hispanic | MSK | 11687 | 11687 | 2018 | TRUE | 2018 | ⋯ | ACRM | Metastasis | MSK-IMPACT468 | Melanoma | Acral Melanoma | Metastasis site unspecified | ACRM | ACRM | ACRM | Melanoma |\n",
       "| 2 | GENIE-MSK-P-0014884 | Male   | White | Non-Spanish/non-Hispanic | MSK | 20758 | 20758 | 2016 | TRUE | 2016 | ⋯ | ACRM | Metastasis | MSK-IMPACT468 | Melanoma | Acral Melanoma | Metastasis site unspecified | ACRM | ACRM | ACRM | Melanoma |\n",
       "\n"
      ],
      "text/plain": [
       "  PATIENT_ID          SEX    PRIMARY_RACE ETHNICITY                CENTER\n",
       "1 GENIE-MSK-P-0014666 Female White        Non-Spanish/non-Hispanic MSK   \n",
       "2 GENIE-MSK-P-0014884 Male   White        Non-Spanish/non-Hispanic MSK   \n",
       "  INT_CONTACT INT_DOD YEAR_CONTACT DEAD YEAR_DEATH ⋯ ONCOTREE_CODE SAMPLE_TYPE\n",
       "1 11687       11687   2018         TRUE 2018       ⋯ ACRM          Metastasis \n",
       "2 20758       20758   2016         TRUE 2016       ⋯ ACRM          Metastasis \n",
       "  SEQ_ASSAY_ID  CANCER_TYPE CANCER_TYPE_DETAILED SAMPLE_TYPE_DETAILED       \n",
       "1 MSK-IMPACT468 Melanoma    Acral Melanoma       Metastasis site unspecified\n",
       "2 MSK-IMPACT468 Melanoma    Acral Melanoma       Metastasis site unspecified\n",
       "  class Tumor_run_group final_class final_run_group\n",
       "1 ACRM  ACRM            ACRM        Melanoma       \n",
       "2 ACRM  ACRM            ACRM        Melanoma       "
      ]
     },
     "metadata": {},
     "output_type": "display_data"
    }
   ],
   "source": [
    "genie_metadata_15_msk_with_mutation_selected_final_atleast_100_samples_filter %>% head(2)"
   ]
  },
  {
   "cell_type": "code",
   "execution_count": 20,
   "id": "038554fc-bc8e-4112-8d81-60e477e4d33f",
   "metadata": {},
   "outputs": [
    {
     "data": {
      "text/html": [
       "<table class=\"dataframe\">\n",
       "<caption>A data.frame: 2 × 2</caption>\n",
       "<thead>\n",
       "\t<tr><th scope=col>SAMPLE_TYPE</th><th scope=col>n</th></tr>\n",
       "\t<tr><th scope=col>&lt;chr&gt;</th><th scope=col>&lt;int&gt;</th></tr>\n",
       "</thead>\n",
       "<tbody>\n",
       "\t<tr><td>Metastasis</td><td>11102</td></tr>\n",
       "\t<tr><td>Primary   </td><td>20376</td></tr>\n",
       "</tbody>\n",
       "</table>\n"
      ],
      "text/latex": [
       "A data.frame: 2 × 2\n",
       "\\begin{tabular}{ll}\n",
       " SAMPLE\\_TYPE & n\\\\\n",
       " <chr> & <int>\\\\\n",
       "\\hline\n",
       "\t Metastasis & 11102\\\\\n",
       "\t Primary    & 20376\\\\\n",
       "\\end{tabular}\n"
      ],
      "text/markdown": [
       "\n",
       "A data.frame: 2 × 2\n",
       "\n",
       "| SAMPLE_TYPE &lt;chr&gt; | n &lt;int&gt; |\n",
       "|---|---|\n",
       "| Metastasis | 11102 |\n",
       "| Primary    | 20376 |\n",
       "\n"
      ],
      "text/plain": [
       "  SAMPLE_TYPE n    \n",
       "1 Metastasis  11102\n",
       "2 Primary     20376"
      ]
     },
     "metadata": {},
     "output_type": "display_data"
    }
   ],
   "source": [
    "genie_metadata_15_msk_with_mutation_selected_final_atleast_100_samples_filter %>% count(SAMPLE_TYPE)"
   ]
  },
  {
   "cell_type": "code",
   "execution_count": 22,
   "id": "666d2646-e80e-4416-babd-8b131271ba04",
   "metadata": {},
   "outputs": [],
   "source": [
    "msk_run_gene_list <- readRDS(file='/mnt/ndata/arvind/co_mutation_project/analysis/catalogue/data/msk_oncokb_gene_run_list.rds')"
   ]
  },
  {
   "cell_type": "code",
   "execution_count": 23,
   "id": "1451eb9b-71c8-475a-b106-d12643f3a80c",
   "metadata": {},
   "outputs": [
    {
     "name": "stdout",
     "output_type": "stream",
     "text": [
      "List of 6\n",
      " $ all   : chr [1:202] \"MTOR\" \"NRAS\" \"NTRK1\" \"SDHC\" ...\n",
      " $ p_505 : chr [1:327] \"MTOR\" \"NRAS\" \"RIT1\" \"NTRK1\" ...\n",
      " $ p_468 : chr [1:306] \"MTOR\" \"NRAS\" \"RIT1\" \"NTRK1\" ...\n",
      " $ p_410 : chr [1:282] \"MTOR\" \"NRAS\" \"RIT1\" \"NTRK1\" ...\n",
      " $ p_341 : chr [1:249] \"MTOR\" \"NRAS\" \"RIT1\" \"NTRK1\" ...\n",
      " $ p_heme: chr [1:267] \"MTOR\" \"NRAS\" \"CD58\" \"NTRK1\" ...\n"
     ]
    }
   ],
   "source": [
    "str(msk_run_gene_list)"
   ]
  },
  {
   "cell_type": "code",
   "execution_count": 24,
   "id": "c3994743-1f85-496d-87e0-03397507cf5b",
   "metadata": {},
   "outputs": [],
   "source": [
    "consider_genes<-intersect(msk_run_gene_list$p_505,msk_run_gene_list$p_468)"
   ]
  },
  {
   "cell_type": "code",
   "execution_count": 25,
   "id": "a17856c2-0408-4cd5-836d-27af3b59f70a",
   "metadata": {},
   "outputs": [
    {
     "data": {
      "text/html": [
       "306"
      ],
      "text/latex": [
       "306"
      ],
      "text/markdown": [
       "306"
      ],
      "text/plain": [
       "[1] 306"
      ]
     },
     "metadata": {},
     "output_type": "display_data"
    }
   ],
   "source": [
    "length(consider_genes)"
   ]
  },
  {
   "cell_type": "code",
   "execution_count": 26,
   "id": "040c6f88-2e34-459f-a54d-71e1ad288188",
   "metadata": {
    "scrolled": true
   },
   "outputs": [
    {
     "name": "stdout",
     "output_type": "stream",
     "text": [
      "List of 3\n",
      " $ M               :List of 2\n",
      "  ..$ M  :List of 2\n",
      "  .. ..$ missense  : num [1:396, 1:27825] 0 0 0 0 0 0 0 0 0 0 ...\n",
      "  .. .. ..- attr(*, \"dimnames\")=List of 2\n",
      "  .. .. .. ..$ : chr [1:396] \"AKT1\" \"ALK\" \"APC\" \"AR\" ...\n",
      "  .. .. .. ..$ : chr [1:27825] \"GENIE-MSK-P-0000223-T01-IM3\" \"GENIE-MSK-P-0000679-T01-IM3\" \"GENIE-MSK-P-0000748-T01-IM3\" \"GENIE-MSK-P-0001408-T01-IM3\" ...\n",
      "  .. ..$ truncating: num [1:396, 1:27825] 0 0 0 0 0 0 0 0 0 0 ...\n",
      "  .. .. ..- attr(*, \"dimnames\")=List of 2\n",
      "  .. .. .. ..$ : chr [1:396] \"AKT1\" \"ALK\" \"APC\" \"AR\" ...\n",
      "  .. .. .. ..$ : chr [1:27825] \"GENIE-MSK-P-0000223-T01-IM3\" \"GENIE-MSK-P-0000679-T01-IM3\" \"GENIE-MSK-P-0000748-T01-IM3\" \"GENIE-MSK-P-0001408-T01-IM3\" ...\n",
      "  ..$ tmb:List of 2\n",
      "  .. ..$ missense  :'data.frame':\t27825 obs. of  2 variables:\n",
      "  .. .. ..$ sample  : chr [1:27825] \"GENIE-MSK-P-0000223-T01-IM3\" \"GENIE-MSK-P-0000679-T01-IM3\" \"GENIE-MSK-P-0000748-T01-IM3\" \"GENIE-MSK-P-0001408-T01-IM3\" ...\n",
      "  .. .. ..$ mutation: num [1:27825] 4 4 1 0 4 2 3 3 2 3 ...\n",
      "  .. ..$ truncating:'data.frame':\t27825 obs. of  2 variables:\n",
      "  .. .. ..$ sample  : chr [1:27825] \"GENIE-MSK-P-0000223-T01-IM3\" \"GENIE-MSK-P-0000679-T01-IM3\" \"GENIE-MSK-P-0000748-T01-IM3\" \"GENIE-MSK-P-0001408-T01-IM3\" ...\n",
      "  .. .. ..$ mutation: num [1:27825] 1 3 0 3 1 0 0 0 0 2 ...\n",
      " $ sample.class    : Named chr [1:27825] \"Glioma_low_grade\" \"Glioma_low_grade\" \"Glioma_low_grade\" \"Glioma_low_grade\" ...\n",
      "  ..- attr(*, \"names\")= chr [1:27825] \"GENIE-MSK-P-0000223-T01-IM3\" \"GENIE-MSK-P-0000679-T01-IM3\" \"GENIE-MSK-P-0000748-T01-IM3\" \"GENIE-MSK-P-0001408-T01-IM3\" ...\n",
      " $ alteration.class: Named chr [1:396] \"MUT\" \"MUT\" \"MUT\" \"MUT\" ...\n",
      "  ..- attr(*, \"names\")= chr [1:396] \"AKT1\" \"ALK\" \"APC\" \"AR\" ...\n"
     ]
    }
   ],
   "source": [
    "str(msk_p_run_data)"
   ]
  },
  {
   "cell_type": "markdown",
   "id": "dd4ffffb-e6ef-4b03-8d85-1cccc891dc79",
   "metadata": {},
   "source": [
    "## Create Equal Sample size primary and met sampling runs"
   ]
  },
  {
   "cell_type": "code",
   "execution_count": 27,
   "id": "bef0d83f-e531-4666-a672-cb0b8dd336f9",
   "metadata": {},
   "outputs": [
    {
     "data": {
      "text/html": [
       "<table class=\"dataframe\">\n",
       "<caption>A data.frame: 2 × 2</caption>\n",
       "<thead>\n",
       "\t<tr><th scope=col>SAMPLE_TYPE</th><th scope=col>n</th></tr>\n",
       "\t<tr><th scope=col>&lt;chr&gt;</th><th scope=col>&lt;int&gt;</th></tr>\n",
       "</thead>\n",
       "<tbody>\n",
       "\t<tr><td>Metastasis</td><td>11102</td></tr>\n",
       "\t<tr><td>Primary   </td><td>20376</td></tr>\n",
       "</tbody>\n",
       "</table>\n"
      ],
      "text/latex": [
       "A data.frame: 2 × 2\n",
       "\\begin{tabular}{ll}\n",
       " SAMPLE\\_TYPE & n\\\\\n",
       " <chr> & <int>\\\\\n",
       "\\hline\n",
       "\t Metastasis & 11102\\\\\n",
       "\t Primary    & 20376\\\\\n",
       "\\end{tabular}\n"
      ],
      "text/markdown": [
       "\n",
       "A data.frame: 2 × 2\n",
       "\n",
       "| SAMPLE_TYPE &lt;chr&gt; | n &lt;int&gt; |\n",
       "|---|---|\n",
       "| Metastasis | 11102 |\n",
       "| Primary    | 20376 |\n",
       "\n"
      ],
      "text/plain": [
       "  SAMPLE_TYPE n    \n",
       "1 Metastasis  11102\n",
       "2 Primary     20376"
      ]
     },
     "metadata": {},
     "output_type": "display_data"
    }
   ],
   "source": [
    "genie_metadata_15_msk_with_mutation_selected_final_atleast_100_samples_filter %>% count(SAMPLE_TYPE)"
   ]
  },
  {
   "cell_type": "code",
   "execution_count": 28,
   "id": "5b4d89cd-b85a-4133-a938-3256cd995b8b",
   "metadata": {},
   "outputs": [],
   "source": [
    "primary_samples<-unique((genie_metadata_15_msk_with_mutation_selected_final_atleast_100_samples_filter %>% filter(SAMPLE_TYPE=='Primary'))$SAMPLE_ID)\n",
    "met_samples<-unique((genie_metadata_15_msk_with_mutation_selected_final_atleast_100_samples_filter %>% filter(SAMPLE_TYPE!='Primary'))$SAMPLE_ID)"
   ]
  },
  {
   "cell_type": "code",
   "execution_count": 29,
   "id": "0d297ac0-9cf3-4cf3-a7a9-29e0cf1a69c5",
   "metadata": {},
   "outputs": [],
   "source": [
    "msk_p_filter_run_data<- filter_run_data(run_data = msk_p_run_data,gene_order = consider_genes,sample_order = primary_samples)\n",
    "msk_m_filter_run_data<- filter_run_data(run_data = msk_m_run_data,gene_order = consider_genes,sample_order = met_samples)"
   ]
  },
  {
   "cell_type": "code",
   "execution_count": 30,
   "id": "e138a83f-5cf2-4023-8a12-a1e253beeaa7",
   "metadata": {
    "scrolled": true
   },
   "outputs": [
    {
     "name": "stdout",
     "output_type": "stream",
     "text": [
      "List of 3\n",
      " $ M               :List of 2\n",
      "  ..$ M  :List of 2\n",
      "  .. ..$ missense  : num [1:306, 1:20376] 0 0 0 0 0 0 0 0 0 0 ...\n",
      "  .. .. ..- attr(*, \"dimnames\")=List of 2\n",
      "  .. .. .. ..$ : chr [1:306] \"MTOR\" \"NRAS\" \"RIT1\" \"NTRK1\" ...\n",
      "  .. .. .. ..$ : chr [1:20376] \"GENIE-MSK-P-0014508-T01-IM6\" \"GENIE-MSK-P-0014893-T01-IM6\" \"GENIE-MSK-P-0018569-T01-IM6\" \"GENIE-MSK-P-0020908-T01-IM6\" ...\n",
      "  .. ..$ truncating: num [1:306, 1:20376] 0 0 0 0 0 0 0 0 0 0 ...\n",
      "  .. .. ..- attr(*, \"dimnames\")=List of 2\n",
      "  .. .. .. ..$ : chr [1:306] \"MTOR\" \"NRAS\" \"RIT1\" \"NTRK1\" ...\n",
      "  .. .. .. ..$ : chr [1:20376] \"GENIE-MSK-P-0014508-T01-IM6\" \"GENIE-MSK-P-0014893-T01-IM6\" \"GENIE-MSK-P-0018569-T01-IM6\" \"GENIE-MSK-P-0020908-T01-IM6\" ...\n",
      "  ..$ tmb:List of 2\n",
      "  .. ..$ missense  :'data.frame':\t20376 obs. of  2 variables:\n",
      "  .. .. ..$ sample  : chr [1:20376] \"GENIE-MSK-P-0014508-T01-IM6\" \"GENIE-MSK-P-0014893-T01-IM6\" \"GENIE-MSK-P-0018569-T01-IM6\" \"GENIE-MSK-P-0020908-T01-IM6\" ...\n",
      "  .. .. ..$ mutation: num [1:20376] 2 1 1 1 0 4 2 2 2 3 ...\n",
      "  .. ..$ truncating:'data.frame':\t20376 obs. of  2 variables:\n",
      "  .. .. ..$ sample  : chr [1:20376] \"GENIE-MSK-P-0014508-T01-IM6\" \"GENIE-MSK-P-0014893-T01-IM6\" \"GENIE-MSK-P-0018569-T01-IM6\" \"GENIE-MSK-P-0020908-T01-IM6\" ...\n",
      "  .. .. ..$ mutation: num [1:20376] 1 0 0 0 0 1 0 0 0 0 ...\n",
      " $ sample.class    : Named chr [1:20376] \"ACRM\" \"ACRM\" \"ACRM\" \"ACRM\" ...\n",
      "  ..- attr(*, \"names\")= chr [1:20376] \"GENIE-MSK-P-0014508-T01-IM6\" \"GENIE-MSK-P-0014893-T01-IM6\" \"GENIE-MSK-P-0018569-T01-IM6\" \"GENIE-MSK-P-0020908-T01-IM6\" ...\n",
      " $ alteration.class: Named chr [1:306] \"MUT\" \"MUT\" \"MUT\" \"MUT\" ...\n",
      "  ..- attr(*, \"names\")= chr [1:306] \"MTOR\" \"NRAS\" \"RIT1\" \"NTRK1\" ...\n",
      "List of 3\n",
      " $ M               :List of 2\n",
      "  ..$ M  :List of 2\n",
      "  .. ..$ missense  : num [1:306, 1:11102] 0 0 0 0 0 0 0 0 0 0 ...\n",
      "  .. .. ..- attr(*, \"dimnames\")=List of 2\n",
      "  .. .. .. ..$ : chr [1:306] \"MTOR\" \"NRAS\" \"RIT1\" \"NTRK1\" ...\n",
      "  .. .. .. ..$ : chr [1:11102] \"GENIE-MSK-P-0014666-T02-IM6\" \"GENIE-MSK-P-0014884-T01-IM6\" \"GENIE-MSK-P-0016451-T01-IM6\" \"GENIE-MSK-P-0015575-T01-IM6\" ...\n",
      "  .. ..$ truncating: num [1:306, 1:11102] 0 0 0 0 0 0 0 0 0 0 ...\n",
      "  .. .. ..- attr(*, \"dimnames\")=List of 2\n",
      "  .. .. .. ..$ : chr [1:306] \"MTOR\" \"NRAS\" \"RIT1\" \"NTRK1\" ...\n",
      "  .. .. .. ..$ : chr [1:11102] \"GENIE-MSK-P-0014666-T02-IM6\" \"GENIE-MSK-P-0014884-T01-IM6\" \"GENIE-MSK-P-0016451-T01-IM6\" \"GENIE-MSK-P-0015575-T01-IM6\" ...\n",
      "  ..$ tmb:List of 2\n",
      "  .. ..$ missense  :'data.frame':\t11102 obs. of  2 variables:\n",
      "  .. .. ..$ sample  : chr [1:11102] \"GENIE-MSK-P-0014666-T02-IM6\" \"GENIE-MSK-P-0014884-T01-IM6\" \"GENIE-MSK-P-0016451-T01-IM6\" \"GENIE-MSK-P-0015575-T01-IM6\" ...\n",
      "  .. .. ..$ mutation: num [1:11102] 5 2 1 3 1 1 1 2 2 4 ...\n",
      "  .. ..$ truncating:'data.frame':\t11102 obs. of  2 variables:\n",
      "  .. .. ..$ sample  : chr [1:11102] \"GENIE-MSK-P-0014666-T02-IM6\" \"GENIE-MSK-P-0014884-T01-IM6\" \"GENIE-MSK-P-0016451-T01-IM6\" \"GENIE-MSK-P-0015575-T01-IM6\" ...\n",
      "  .. .. ..$ mutation: num [1:11102] 1 0 0 0 1 1 0 0 0 1 ...\n",
      " $ sample.class    : Named chr [1:11102] \"ACRM\" \"ACRM\" \"ACRM\" \"ACRM\" ...\n",
      "  ..- attr(*, \"names\")= chr [1:11102] \"GENIE-MSK-P-0014666-T02-IM6\" \"GENIE-MSK-P-0014884-T01-IM6\" \"GENIE-MSK-P-0016451-T01-IM6\" \"GENIE-MSK-P-0015575-T01-IM6\" ...\n",
      " $ alteration.class: Named chr [1:306] \"MUT\" \"MUT\" \"MUT\" \"MUT\" ...\n",
      "  ..- attr(*, \"names\")= chr [1:306] \"MTOR\" \"NRAS\" \"RIT1\" \"NTRK1\" ...\n"
     ]
    }
   ],
   "source": [
    "str(msk_p_filter_run_data)\n",
    "str(msk_m_filter_run_data)"
   ]
  },
  {
   "cell_type": "code",
   "execution_count": 31,
   "id": "510e11b4-6834-4650-a6bf-0db7a4d92dfa",
   "metadata": {},
   "outputs": [
    {
     "data": {
      "text/plain": [
       "\n",
       "   ACRM    ACYC    ANSC    APAD    BLCA    CCOV    CESC    CHOL  CRC_HM  CRC_LM \n",
       "     32      49      83      48    1080      90     101     104     531    3079 \n",
       "   DDLS    EHCH    ESCA    GBAD     GBC    GIST   HGSFT   HGSOC    HNSC     IDC \n",
       "    107      57     635      60      44     273      88     567     179    1973 \n",
       "   IHCH     ILC   LGSOC     LMS    LUAD    LUNE    LUSC    MAAP     MEL     MFH \n",
       "    308     228      40     102    2365      40     419      42     367     118 \n",
       "   MGCT     NBL   NSCLC      OS    PAAD   PANET    PRAD     RCC SARCNOS    SCLC \n",
       "     45     113     200      52    1576      91    1559     407     173     161 \n",
       "   STAD    THPA    THPD UCEC_HM UCEC_LM     UCS    ULMS      UM     USC    UTUC \n",
       "    324     126      72     486     992     205      79      33     308     165 "
      ]
     },
     "metadata": {},
     "output_type": "display_data"
    }
   ],
   "source": [
    "table(msk_p_filter_run_data$sample.class)"
   ]
  },
  {
   "cell_type": "code",
   "execution_count": 32,
   "id": "f21259f7-912e-46f2-8b02-12860ff97e13",
   "metadata": {},
   "outputs": [
    {
     "data": {
      "text/plain": [
       "\n",
       "   ACRM    ACYC    ANSC    APAD    BLCA    CCOV    CESC    CHOL  CRC_HM  CRC_LM \n",
       "     41      70      35      51     158      38      46      79      41    1043 \n",
       "   DDLS    EHCH    ESCA    GBAD     GBC    GIST   HGSFT   HGSOC    HNSC     IDC \n",
       "     48      30     151      40      42      82      47     905     155    1750 \n",
       "   IHCH     ILC   LGSOC     LMS    LUAD    LUNE    LUSC    MAAP     MEL     MFH \n",
       "     67     174      48      96    1342      49     148      56     762      48 \n",
       "   MGCT     NBL   NSCLC      OS    PAAD   PANET    PRAD     RCC SARCNOS    SCLC \n",
       "     30      68     183      39     913      96     793     213      72     178 \n",
       "   STAD    THPA    THPD UCEC_HM UCEC_LM     UCS    ULMS      UM     USC    UTUC \n",
       "    103     148      55      79     196      60      63      48      93      30 "
      ]
     },
     "metadata": {},
     "output_type": "display_data"
    }
   ],
   "source": [
    "table(msk_m_filter_run_data$sample.class)"
   ]
  },
  {
   "cell_type": "code",
   "execution_count": 33,
   "id": "b875f8e1-66b7-4375-9e7c-c1f86cc631fb",
   "metadata": {},
   "outputs": [],
   "source": [
    "sample_count_80_pct <- round(pmin(table(msk_p_filter_run_data$sample.class),table(msk_m_filter_run_data$sample.class))*.8)"
   ]
  },
  {
   "cell_type": "code",
   "execution_count": 34,
   "id": "a590e699-8c24-4b07-8e81-b5c2cc696bf7",
   "metadata": {},
   "outputs": [
    {
     "data": {
      "text/plain": [
       "\n",
       "   ACRM    ACYC    ANSC    APAD    BLCA    CCOV    CESC    CHOL  CRC_HM  CRC_LM \n",
       "     26      39      28      38     126      30      37      63      33     834 \n",
       "   DDLS    EHCH    ESCA    GBAD     GBC    GIST   HGSFT   HGSOC    HNSC     IDC \n",
       "     38      24     121      32      34      66      38     454     124    1400 \n",
       "   IHCH     ILC   LGSOC     LMS    LUAD    LUNE    LUSC    MAAP     MEL     MFH \n",
       "     54     139      32      77    1074      32     118      34     294      38 \n",
       "   MGCT     NBL   NSCLC      OS    PAAD   PANET    PRAD     RCC SARCNOS    SCLC \n",
       "     24      54     146      31     730      73     634     170      58     129 \n",
       "   STAD    THPA    THPD UCEC_HM UCEC_LM     UCS    ULMS      UM     USC    UTUC \n",
       "     82     101      44      63     157      48      50      26      74      24 "
      ]
     },
     "metadata": {},
     "output_type": "display_data"
    }
   ],
   "source": [
    "sample_count_80_pct"
   ]
  },
  {
   "cell_type": "code",
   "execution_count": 35,
   "id": "0e97be09-ff3c-4a62-8553-6480e6c29a52",
   "metadata": {},
   "outputs": [],
   "source": [
    "create_sample_list <- function(sample_count_80_pct,actual_data,times=10){\n",
    "    sample_list <- c()\n",
    "    for(i in c(1:times)){\n",
    "        samples<-c()\n",
    "        for(tumor in names(sample_count_80_pct)){\n",
    "            samples<-c(samples,sample(names(which(actual_data==tumor)),sample_count_80_pct[tumor]))\n",
    "        }\n",
    "        sample_list[[i]]<-actual_data[samples]\n",
    "    }\n",
    "    return(sample_list)\n",
    "}"
   ]
  },
  {
   "cell_type": "code",
   "execution_count": 36,
   "id": "43e0ca28-a649-4a41-b73e-d9f5f46d0d65",
   "metadata": {},
   "outputs": [],
   "source": [
    "msk_p_sampling_run_samples <- create_sample_list(sample_count_80_pct = sample_count_80_pct,actual_data = msk_p_filter_run_data$sample.class)\n",
    "msk_m_sampling_run_samples <- create_sample_list(sample_count_80_pct = sample_count_80_pct,actual_data = msk_m_filter_run_data$sample.class)"
   ]
  },
  {
   "cell_type": "code",
   "execution_count": 37,
   "id": "89cd754f-cc5f-469a-9997-ac70285a59c2",
   "metadata": {},
   "outputs": [
    {
     "data": {
      "text/html": [
       "10"
      ],
      "text/latex": [
       "10"
      ],
      "text/markdown": [
       "10"
      ],
      "text/plain": [
       "[1] 10"
      ]
     },
     "metadata": {},
     "output_type": "display_data"
    },
    {
     "data": {
      "text/html": [
       "10"
      ],
      "text/latex": [
       "10"
      ],
      "text/markdown": [
       "10"
      ],
      "text/plain": [
       "[1] 10"
      ]
     },
     "metadata": {},
     "output_type": "display_data"
    }
   ],
   "source": [
    "length(msk_p_sampling_run_samples)\n",
    "length(msk_m_sampling_run_samples)"
   ]
  },
  {
   "cell_type": "code",
   "execution_count": 38,
   "id": "9665dd8a-9a08-46ca-b7ab-e8f2130f2ec2",
   "metadata": {},
   "outputs": [],
   "source": [
    "msk_p_sample_run <- list()\n",
    "msk_m_sample_run <- list()\n",
    "for(i in c(1:10)){\n",
    "    msk_p_sample_run[[i]]<-filter_run_data(run_data = msk_p_filter_run_data,gene_order = consider_genes,sample_order = names(msk_p_sampling_run_samples[[i]]))\n",
    "    msk_m_sample_run[[i]]<-filter_run_data(run_data = msk_m_filter_run_data,gene_order = consider_genes,sample_order = names(msk_m_sampling_run_samples[[i]]))\n",
    "}"
   ]
  },
  {
   "cell_type": "code",
   "execution_count": null,
   "id": "d7e892fc-27d9-4543-98f1-b10d5b961847",
   "metadata": {},
   "outputs": [],
   "source": [
    "saveRDS(msk_p_sample_run,file='../data/msk_p_sample_run_data_list.rds')\n",
    "saveRDS(msk_m_sample_run,file='../data/msk_m_sample_run_data_list.rds')"
   ]
  },
  {
   "cell_type": "code",
   "execution_count": 39,
   "id": "68994a6f-103b-4370-8ac4-9e56a6a878d9",
   "metadata": {},
   "outputs": [],
   "source": [
    "combine_run_data <- function(run_data1,run_data2,gene_order,sample_order1,sample_order2){\n",
    "    final_run_data<-run_data1\n",
    "    final_run_data$M$M$missense<-cbind(run_data1$M$M$missense[gene_order,sample_order1],run_data2$M$M$missense[gene_order,sample_order2])\n",
    "    final_run_data$M$M$truncating<-cbind(run_data1$M$M$truncating[gene_order,sample_order1],run_data2$M$M$truncating[gene_order,sample_order2])\n",
    "    final_run_data$alteration.class<- run_data1$alteration.class[gene_order]\n",
    "    final_run_data$sample.class<-c(run_data1$sample.class[sample_order1],run_data2$sample.class[sample_order2])\n",
    "    final_run_data$M$tmb$missense<-rbind(run_data1$M$tmb$missense[sample_order1,],run_data2$M$tmb$missense[sample_order2,])\n",
    "    final_run_data$M$tmb$truncating<-rbind(run_data1$M$tmb$truncating[sample_order1,],run_data2$M$tmb$truncating[sample_order2,])\n",
    "    return(final_run_data)\n",
    "}"
   ]
  },
  {
   "cell_type": "code",
   "execution_count": 40,
   "id": "c0811fbb-eb1d-4456-b18d-6dc89e678d24",
   "metadata": {},
   "outputs": [],
   "source": [
    "sample_count_80_pct_half<-round(sample_count_80_pct/2)"
   ]
  },
  {
   "cell_type": "code",
   "execution_count": 41,
   "id": "1030b58b-de81-453e-bbc9-df4ac57c9489",
   "metadata": {},
   "outputs": [],
   "source": [
    "sample_count_80_pct_primary<- sample_count_80_pct-round(sample_count_80_pct/2)"
   ]
  },
  {
   "cell_type": "code",
   "execution_count": 42,
   "id": "1045b6c9-64ca-4ed6-9a20-0811bdceddd4",
   "metadata": {},
   "outputs": [
    {
     "data": {
      "text/html": [
       "8195"
      ],
      "text/latex": [
       "8195"
      ],
      "text/markdown": [
       "8195"
      ],
      "text/plain": [
       "[1] 8195"
      ]
     },
     "metadata": {},
     "output_type": "display_data"
    }
   ],
   "source": [
    "sum(sample_count_80_pct_half+sample_count_80_pct_primary)"
   ]
  },
  {
   "cell_type": "code",
   "execution_count": 43,
   "id": "745ae79e-6721-4aca-98a9-285affa5940a",
   "metadata": {},
   "outputs": [
    {
     "data": {
      "text/html": [
       "8195"
      ],
      "text/latex": [
       "8195"
      ],
      "text/markdown": [
       "8195"
      ],
      "text/plain": [
       "[1] 8195"
      ]
     },
     "metadata": {},
     "output_type": "display_data"
    }
   ],
   "source": [
    "sum(sample_count_80_pct)"
   ]
  },
  {
   "cell_type": "code",
   "execution_count": 44,
   "id": "60b1e96e-4d31-4a3c-ae3b-c18e3c058601",
   "metadata": {},
   "outputs": [],
   "source": [
    "msk_p_sampling_run_samples <- create_sample_list(sample_count_80_pct = sample_count_80_pct_primary,actual_data = msk_p_filter_run_data$sample.class,times = 20)\n",
    "msk_m_sampling_run_samples <- create_sample_list(sample_count_80_pct = sample_count_80_pct_half,actual_data = msk_m_filter_run_data$sample.class,times = 20)"
   ]
  },
  {
   "cell_type": "code",
   "execution_count": 45,
   "id": "b8d1f11d-7a28-4d6b-907f-e6a6de3b535e",
   "metadata": {},
   "outputs": [],
   "source": [
    "combine_run_sample_run<-list()\n",
    "for(i in c(1:20)){\n",
    "    combine_run_sample_run[[i]]<-combine_run_data(run_data1= msk_p_filter_run_data,run_data2 = msk_m_filter_run_data,gene_order = consider_genes,sample_order1 = names(msk_p_sampling_run_samples[[i]]),\n",
    "                                                  sample_order2 =names(msk_m_sampling_run_samples[[i]]) )\n",
    "}"
   ]
  },
  {
   "cell_type": "code",
   "execution_count": 46,
   "id": "15292614-aa52-4ccf-b04a-9f3a06c1f504",
   "metadata": {},
   "outputs": [
    {
     "name": "stdout",
     "output_type": "stream",
     "text": [
      "List of 20\n",
      " $ :List of 3\n",
      " $ :List of 3\n",
      " $ :List of 3\n",
      " $ :List of 3\n",
      " $ :List of 3\n",
      " $ :List of 3\n",
      " $ :List of 3\n",
      " $ :List of 3\n",
      " $ :List of 3\n",
      " $ :List of 3\n",
      " $ :List of 3\n",
      " $ :List of 3\n",
      " $ :List of 3\n",
      " $ :List of 3\n",
      " $ :List of 3\n",
      " $ :List of 3\n",
      " $ :List of 3\n",
      " $ :List of 3\n",
      " $ :List of 3\n",
      " $ :List of 3\n"
     ]
    }
   ],
   "source": [
    "str(combine_run_sample_run,max.level = 1)"
   ]
  },
  {
   "cell_type": "code",
   "execution_count": 47,
   "id": "fe36dfb8-b3a6-4627-8657-cf3e8f939529",
   "metadata": {},
   "outputs": [
    {
     "data": {
      "text/plain": [
       "\n",
       "   ACRM    ACYC    ANSC    APAD    BLCA    CCOV    CESC    CHOL  CRC_HM  CRC_LM \n",
       "     26      39      28      38     126      30      37      63      33     834 \n",
       "   DDLS    EHCH    ESCA    GBAD     GBC    GIST   HGSFT   HGSOC    HNSC     IDC \n",
       "     38      24     121      32      34      66      38     454     124    1400 \n",
       "   IHCH     ILC   LGSOC     LMS    LUAD    LUNE    LUSC    MAAP     MEL     MFH \n",
       "     54     139      32      77    1074      32     118      34     294      38 \n",
       "   MGCT     NBL   NSCLC      OS    PAAD   PANET    PRAD     RCC SARCNOS    SCLC \n",
       "     24      54     146      31     730      73     634     170      58     129 \n",
       "   STAD    THPA    THPD UCEC_HM UCEC_LM     UCS    ULMS      UM     USC    UTUC \n",
       "     82     101      44      63     157      48      50      26      74      24 "
      ]
     },
     "metadata": {},
     "output_type": "display_data"
    }
   ],
   "source": [
    "table(combine_run_sample_run[[1]]$sample.class)"
   ]
  },
  {
   "cell_type": "code",
   "execution_count": null,
   "id": "bb66ac28-8c1f-4b18-a954-aaad55c8ce2c",
   "metadata": {},
   "outputs": [],
   "source": [
    "saveRDS(combine_run_sample_run,file='../data/msk_p_m_sample_run_data_list.rds')"
   ]
  }
 ],
 "metadata": {
  "kernelspec": {
   "display_name": "R",
   "language": "R",
   "name": "ir"
  },
  "language_info": {
   "codemirror_mode": "r",
   "file_extension": ".r",
   "mimetype": "text/x-r-source",
   "name": "R",
   "pygments_lexer": "r",
   "version": "4.3.2"
  }
 },
 "nbformat": 4,
 "nbformat_minor": 5
}
