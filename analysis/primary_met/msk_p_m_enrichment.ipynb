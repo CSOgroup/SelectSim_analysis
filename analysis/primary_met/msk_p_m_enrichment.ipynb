{
 "cells": [
  {
   "cell_type": "code",
   "execution_count": 1,
   "id": "15faeb6f-ef16-42be-a8f7-cd96f6e21454",
   "metadata": {},
   "outputs": [
    {
     "name": "stderr",
     "output_type": "stream",
     "text": [
      "── \u001b[1mAttaching core tidyverse packages\u001b[22m ───────────────────────────────────────────────────────────────────────────────────────────────────────────────────────────────────── tidyverse 2.0.0 ──\n",
      "\u001b[32m✔\u001b[39m \u001b[34mdplyr    \u001b[39m 1.1.4     \u001b[32m✔\u001b[39m \u001b[34mreadr    \u001b[39m 2.1.5\n",
      "\u001b[32m✔\u001b[39m \u001b[34mforcats  \u001b[39m 1.0.0     \u001b[32m✔\u001b[39m \u001b[34mstringr  \u001b[39m 1.5.1\n",
      "\u001b[32m✔\u001b[39m \u001b[34mggplot2  \u001b[39m 3.4.4     \u001b[32m✔\u001b[39m \u001b[34mtibble   \u001b[39m 3.2.1\n",
      "\u001b[32m✔\u001b[39m \u001b[34mlubridate\u001b[39m 1.9.3     \u001b[32m✔\u001b[39m \u001b[34mtidyr    \u001b[39m 1.3.0\n",
      "\u001b[32m✔\u001b[39m \u001b[34mpurrr    \u001b[39m 1.0.2     \n",
      "── \u001b[1mConflicts\u001b[22m ─────────────────────────────────────────────────────────────────────────────────────────────────────────────────────────────────────────────────────── tidyverse_conflicts() ──\n",
      "\u001b[31m✖\u001b[39m \u001b[34mdplyr\u001b[39m::\u001b[32mfilter()\u001b[39m masks \u001b[34mstats\u001b[39m::filter()\n",
      "\u001b[31m✖\u001b[39m \u001b[34mdplyr\u001b[39m::\u001b[32mlag()\u001b[39m    masks \u001b[34mstats\u001b[39m::lag()\n",
      "\u001b[36mℹ\u001b[39m Use the conflicted package (\u001b[3m\u001b[34m<http://conflicted.r-lib.org/>\u001b[39m\u001b[23m) to force all conflicts to become errors\n"
     ]
    }
   ],
   "source": [
    "library('SelectSim')\n",
    "library('tidyverse')\n",
    "library('tictoc')"
   ]
  },
  {
   "cell_type": "code",
   "execution_count": 2,
   "id": "0880aa1e-64e2-483d-a810-4170d495059f",
   "metadata": {
    "scrolled": true
   },
   "outputs": [
    {
     "data": {
      "text/plain": [
       "R version 4.3.2 (2023-10-31)\n",
       "Platform: x86_64-conda-linux-gnu (64-bit)\n",
       "Running under: CentOS Linux 7 (Core)\n",
       "\n",
       "Matrix products: default\n",
       "BLAS/LAPACK: /mnt/ndata/arvind/envs/R_4/lib/libopenblasp-r0.3.25.so;  LAPACK version 3.11.0\n",
       "\n",
       "locale:\n",
       " [1] LC_CTYPE=en_US.UTF-8       LC_NUMERIC=C              \n",
       " [3] LC_TIME=en_US.UTF-8        LC_COLLATE=en_US.UTF-8    \n",
       " [5] LC_MONETARY=en_US.UTF-8    LC_MESSAGES=en_US.UTF-8   \n",
       " [7] LC_PAPER=en_US.UTF-8       LC_NAME=C                 \n",
       " [9] LC_ADDRESS=C               LC_TELEPHONE=C            \n",
       "[11] LC_MEASUREMENT=en_US.UTF-8 LC_IDENTIFICATION=C       \n",
       "\n",
       "time zone: Europe/Zurich\n",
       "tzcode source: system (glibc)\n",
       "\n",
       "attached base packages:\n",
       "[1] stats     graphics  grDevices utils     datasets  methods   base     \n",
       "\n",
       "other attached packages:\n",
       " [1] tictoc_1.2        lubridate_1.9.3   forcats_1.0.0     stringr_1.5.1    \n",
       " [5] dplyr_1.1.4       purrr_1.0.2       readr_2.1.5       tidyr_1.3.0      \n",
       " [9] tibble_3.2.1      ggplot2_3.4.4     tidyverse_2.0.0   SelectSim_0.0.1.3\n",
       "\n",
       "loaded via a namespace (and not attached):\n",
       " [1] gtable_0.3.4       rstatix_0.7.2      lattice_0.22-5     tzdb_0.4.0        \n",
       " [5] vctrs_0.6.5        tools_4.3.2        generics_0.1.3     parallel_4.3.2    \n",
       " [9] fansi_1.0.6        pkgconfig_2.0.3    Matrix_1.6-5       ggridges_0.5.5    \n",
       "[13] rngtools_1.5.2     RcppParallel_5.1.6 uuid_1.2-0         lifecycle_1.0.4   \n",
       "[17] compiler_4.3.2     munsell_0.5.0      repr_1.1.6         codetools_0.2-19  \n",
       "[21] carData_3.0-5      htmltools_0.5.7    pillar_1.9.0       car_3.1-2         \n",
       "[25] ggpubr_0.6.0       crayon_1.5.2       doRNG_1.8.6        iterators_1.0.14  \n",
       "[29] abind_1.4-5        foreach_1.5.2      tidyselect_1.2.0   digest_0.6.34     \n",
       "[33] stringi_1.8.3      reshape2_1.4.4     fastmap_1.1.1      grid_4.3.2        \n",
       "[37] colorspace_2.1-0   cli_3.6.2          magrittr_2.0.3     base64enc_0.1-3   \n",
       "[41] Rfast_2.1.0        utf8_1.2.4         IRdisplay_1.1      broom_1.0.5       \n",
       "[45] withr_3.0.0        scales_1.3.0       backports_1.4.1    IRkernel_1.3.2    \n",
       "[49] RcppZiggurat_0.1.6 timechange_0.3.0   pbdZMQ_0.3-11      ggsignif_0.6.4    \n",
       "[53] hms_1.1.3          evaluate_0.23      doParallel_1.0.17  rlang_1.1.3       \n",
       "[57] Rcpp_1.0.12        glue_1.7.0         jsonlite_1.8.8     R6_2.5.1          \n",
       "[61] plyr_1.8.9        "
      ]
     },
     "metadata": {},
     "output_type": "display_data"
    }
   ],
   "source": [
    "sessionInfo()"
   ]
  },
  {
   "cell_type": "markdown",
   "id": "e68d2136-4e38-44d2-b74c-a95d1bb7128a",
   "metadata": {},
   "source": [
    "# MSK enrichmenet analysis "
   ]
  },
  {
   "cell_type": "code",
   "execution_count": 3,
   "id": "ac692e76-07f9-4ab9-91ca-1e046b6b92fa",
   "metadata": {},
   "outputs": [],
   "source": [
    "msk_p_m_results <- readRDS(file='/mnt/ndata/arvind/co_mutation_project/analysis/primary_met_work/results/msk_p_m_sampling_results_list.rds')\n",
    "msk_m_results<-readRDS(file='/mnt/ndata/arvind/co_mutation_project/analysis/primary_met_work/results/msk_m_sampling_results_list.rds')\n",
    "msk_p_results<-readRDS(file='/mnt/ndata/arvind/co_mutation_project/analysis/primary_met_work/results/msk_p_sampling_results_list.rds')"
   ]
  },
  {
   "cell_type": "code",
   "execution_count": 4,
   "id": "2c3bc9a7-a9da-416a-ba80-21fb6a986b0d",
   "metadata": {
    "scrolled": true
   },
   "outputs": [
    {
     "name": "stdout",
     "output_type": "stream",
     "text": [
      "List of 10\n",
      " $ :'data.frame':\t31626 obs. of  23 variables:\n",
      " $ :'data.frame':\t30628 obs. of  23 variables:\n",
      " $ :'data.frame':\t28920 obs. of  23 variables:\n",
      " $ :'data.frame':\t30628 obs. of  23 variables:\n",
      " $ :'data.frame':\t30381 obs. of  23 variables:\n",
      " $ :'data.frame':\t30876 obs. of  23 variables:\n",
      " $ :'data.frame':\t29890 obs. of  23 variables:\n",
      " $ :'data.frame':\t32385 obs. of  23 variables:\n",
      " $ :'data.frame':\t31626 obs. of  23 variables:\n",
      " $ :'data.frame':\t31125 obs. of  23 variables:\n",
      "List of 10\n",
      " $ :'data.frame':\t32896 obs. of  23 variables:\n",
      " $ :'data.frame':\t31626 obs. of  23 variables:\n",
      " $ :'data.frame':\t31878 obs. of  23 variables:\n",
      " $ :'data.frame':\t31375 obs. of  23 variables:\n",
      " $ :'data.frame':\t32131 obs. of  23 variables:\n",
      " $ :'data.frame':\t31878 obs. of  23 variables:\n",
      " $ :'data.frame':\t32896 obs. of  23 variables:\n",
      " $ :'data.frame':\t32131 obs. of  23 variables:\n",
      " $ :'data.frame':\t32131 obs. of  23 variables:\n",
      " $ :'data.frame':\t32385 obs. of  23 variables:\n",
      "List of 20\n",
      " $ :'data.frame':\t31375 obs. of  23 variables:\n",
      " $ :'data.frame':\t30381 obs. of  23 variables:\n",
      " $ :'data.frame':\t31375 obs. of  23 variables:\n",
      " $ :'data.frame':\t30381 obs. of  23 variables:\n",
      " $ :'data.frame':\t32131 obs. of  23 variables:\n",
      " $ :'data.frame':\t32896 obs. of  23 variables:\n",
      " $ :'data.frame':\t31125 obs. of  23 variables:\n",
      " $ :'data.frame':\t31375 obs. of  23 variables:\n",
      " $ :'data.frame':\t32385 obs. of  23 variables:\n",
      " $ :'data.frame':\t31375 obs. of  23 variables:\n",
      " $ :'data.frame':\t31626 obs. of  23 variables:\n",
      " $ :'data.frame':\t31878 obs. of  23 variables:\n",
      " $ :'data.frame':\t32640 obs. of  23 variables:\n",
      " $ :'data.frame':\t30876 obs. of  23 variables:\n",
      " $ :'data.frame':\t29403 obs. of  23 variables:\n",
      " $ :'data.frame':\t31878 obs. of  23 variables:\n",
      " $ :'data.frame':\t32131 obs. of  23 variables:\n",
      " $ :'data.frame':\t31125 obs. of  23 variables:\n",
      " $ :'data.frame':\t30381 obs. of  23 variables:\n",
      " $ :'data.frame':\t30628 obs. of  23 variables:\n"
     ]
    }
   ],
   "source": [
    "str(msk_p_results,max.level = 1)\n",
    "str(msk_m_results,max.level = 1)\n",
    "str(msk_p_m_results,max.level = 1)"
   ]
  },
  {
   "cell_type": "code",
   "execution_count": 5,
   "id": "74df31a1-8159-4033-bf91-0c7d1539f01e",
   "metadata": {},
   "outputs": [],
   "source": [
    "for(i in c(1:10)){\n",
    "    msk_p_results[[i]]<-msk_p_results[[i]] %>% mutate(id=case_when(SFE_1>SFE_2 ~paste(SFE_2,SFE_1,sep=\" - \"),\n",
    "                        SFE_1<SFE_2 ~paste(SFE_1,SFE_2,sep=\" - \")))\n",
    "    msk_m_results[[i]]<-msk_m_results[[i]] %>% mutate(id=case_when(SFE_1>SFE_2 ~paste(SFE_2,SFE_1,sep=\" - \"),\n",
    "                        SFE_1<SFE_2 ~paste(SFE_1,SFE_2,sep=\" - \")))\n",
    "}"
   ]
  },
  {
   "cell_type": "code",
   "execution_count": 6,
   "id": "69af0c46-b0d4-4aa4-9ffa-2ee72d26de15",
   "metadata": {},
   "outputs": [],
   "source": [
    "for(i in c(1:20)){\n",
    "    msk_p_m_results[[i]]<-msk_p_m_results[[i]] %>% mutate(id=case_when(SFE_1>SFE_2 ~paste(SFE_2,SFE_1,sep=\" - \"),\n",
    "                        SFE_1<SFE_2 ~paste(SFE_1,SFE_2,sep=\" - \")))\n",
    "}"
   ]
  },
  {
   "cell_type": "code",
   "execution_count": 7,
   "id": "2d6fbf82-7a8f-4655-aef8-9e3c282ae16c",
   "metadata": {},
   "outputs": [],
   "source": [
    "msk_p_m_results_cat1 <- list()\n",
    "msk_p_m_results_cat2 <- list()\n",
    "k=1\n",
    "for(i in c(1:10)){\n",
    "    msk_p_m_results_cat1[[k]]<- msk_p_m_results[[i]]\n",
    "    msk_p_m_results_cat2[[k]]<- msk_p_m_results[[i+10]]\n",
    "    k=k+1\n",
    "}"
   ]
  },
  {
   "cell_type": "code",
   "execution_count": 8,
   "id": "f5c31273-8409-4eaa-90a7-2173dc1a72c1",
   "metadata": {},
   "outputs": [
    {
     "name": "stdout",
     "output_type": "stream",
     "text": [
      "List of 10\n",
      " $ :'data.frame':\t31375 obs. of  24 variables:\n",
      " $ :'data.frame':\t30381 obs. of  24 variables:\n",
      " $ :'data.frame':\t31375 obs. of  24 variables:\n",
      " $ :'data.frame':\t30381 obs. of  24 variables:\n",
      " $ :'data.frame':\t32131 obs. of  24 variables:\n",
      " $ :'data.frame':\t32896 obs. of  24 variables:\n",
      " $ :'data.frame':\t31125 obs. of  24 variables:\n",
      " $ :'data.frame':\t31375 obs. of  24 variables:\n",
      " $ :'data.frame':\t32385 obs. of  24 variables:\n",
      " $ :'data.frame':\t31375 obs. of  24 variables:\n",
      "List of 10\n",
      " $ :'data.frame':\t31626 obs. of  24 variables:\n",
      " $ :'data.frame':\t31878 obs. of  24 variables:\n",
      " $ :'data.frame':\t32640 obs. of  24 variables:\n",
      " $ :'data.frame':\t30876 obs. of  24 variables:\n",
      " $ :'data.frame':\t29403 obs. of  24 variables:\n",
      " $ :'data.frame':\t31878 obs. of  24 variables:\n",
      " $ :'data.frame':\t32131 obs. of  24 variables:\n",
      " $ :'data.frame':\t31125 obs. of  24 variables:\n",
      " $ :'data.frame':\t30381 obs. of  24 variables:\n",
      " $ :'data.frame':\t30628 obs. of  24 variables:\n"
     ]
    }
   ],
   "source": [
    "str(msk_p_m_results_cat1,max.level = 1)\n",
    "str(msk_p_m_results_cat2,max.level = 1)"
   ]
  },
  {
   "cell_type": "code",
   "execution_count": 9,
   "id": "48f8337e-2150-4c93-b65c-f0f90ae343e7",
   "metadata": {
    "scrolled": true
   },
   "outputs": [],
   "source": [
    "list1 <- c(1:10)\n",
    "list2 <- c(1:10)\n",
    "combinations <- expand.grid(list1, list2)\n",
    "unique_combinations <- combinations[combinations$Var1 < combinations$Var2, ]"
   ]
  },
  {
   "cell_type": "code",
   "execution_count": 10,
   "id": "8bfeda9d-9e03-4686-80fb-d28ba878102e",
   "metadata": {},
   "outputs": [
    {
     "data": {
      "text/html": [
       "<table class=\"dataframe\">\n",
       "<caption>A data.frame: 6 × 2</caption>\n",
       "<thead>\n",
       "\t<tr><th></th><th scope=col>Var1</th><th scope=col>Var2</th></tr>\n",
       "\t<tr><th></th><th scope=col>&lt;int&gt;</th><th scope=col>&lt;int&gt;</th></tr>\n",
       "</thead>\n",
       "<tbody>\n",
       "\t<tr><th scope=row>11</th><td>1</td><td>2</td></tr>\n",
       "\t<tr><th scope=row>21</th><td>1</td><td>3</td></tr>\n",
       "\t<tr><th scope=row>22</th><td>2</td><td>3</td></tr>\n",
       "\t<tr><th scope=row>31</th><td>1</td><td>4</td></tr>\n",
       "\t<tr><th scope=row>32</th><td>2</td><td>4</td></tr>\n",
       "\t<tr><th scope=row>33</th><td>3</td><td>4</td></tr>\n",
       "</tbody>\n",
       "</table>\n"
      ],
      "text/latex": [
       "A data.frame: 6 × 2\n",
       "\\begin{tabular}{r|ll}\n",
       "  & Var1 & Var2\\\\\n",
       "  & <int> & <int>\\\\\n",
       "\\hline\n",
       "\t11 & 1 & 2\\\\\n",
       "\t21 & 1 & 3\\\\\n",
       "\t22 & 2 & 3\\\\\n",
       "\t31 & 1 & 4\\\\\n",
       "\t32 & 2 & 4\\\\\n",
       "\t33 & 3 & 4\\\\\n",
       "\\end{tabular}\n"
      ],
      "text/markdown": [
       "\n",
       "A data.frame: 6 × 2\n",
       "\n",
       "| <!--/--> | Var1 &lt;int&gt; | Var2 &lt;int&gt; |\n",
       "|---|---|---|\n",
       "| 11 | 1 | 2 |\n",
       "| 21 | 1 | 3 |\n",
       "| 22 | 2 | 3 |\n",
       "| 31 | 1 | 4 |\n",
       "| 32 | 2 | 4 |\n",
       "| 33 | 3 | 4 |\n",
       "\n"
      ],
      "text/plain": [
       "   Var1 Var2\n",
       "11 1    2   \n",
       "21 1    3   \n",
       "22 2    3   \n",
       "31 1    4   \n",
       "32 2    4   \n",
       "33 3    4   "
      ]
     },
     "metadata": {},
     "output_type": "display_data"
    }
   ],
   "source": [
    "unique_combinations %>% head()"
   ]
  },
  {
   "cell_type": "code",
   "execution_count": 11,
   "id": "99f5f056-6b22-4f57-a61d-ab73c49a0972",
   "metadata": {},
   "outputs": [],
   "source": [
    "fold_change_function <- function(combinations, msk_p_result, msk_m_result){\n",
    "    fold_change_df <- list()\n",
    "    fold_change_common_pairs <- list()\n",
    "    obsered_fc<-c()\n",
    "    for(i in c(1:nrow(combinations))){\n",
    "        rows<-combinations[[i,1]]\n",
    "        cols<-combinations[[i,2]]\n",
    "        cat('--Running Combination',rows,' ',cols,'---\\n')\n",
    "        common_pairs <- unique(intersect(msk_p_result[[rows]]$id,msk_m_result[[cols]]$id))\n",
    "        temp <- merge(msk_p_result[[rows]],msk_m_result[[cols]],by = 'id',suffixes = c('_primary','_met'))\n",
    "        temp$FC <- log2((abs(temp$wES_met))/(abs(temp$wES_primary)))\n",
    "        fold_change_df[[i]]<-temp\n",
    "        significant_df <- temp %>% filter(FDR_primary==TRUE | FDR_met==TRUE)\n",
    "        obsered_fc <- c(obsered_fc,significant_df$FC)\n",
    "        fold_change_common_pairs[[i]]<-common_pairs\n",
    "    }\n",
    "    return(list('df'=fold_change_df,'pairs'=fold_change_common_pairs,'FC'=obsered_fc))\n",
    "}"
   ]
  },
  {
   "cell_type": "code",
   "execution_count": 12,
   "id": "e54bf456-fd97-4dad-87a1-af68dfd2a6f1",
   "metadata": {
    "scrolled": true
   },
   "outputs": [
    {
     "name": "stdout",
     "output_type": "stream",
     "text": [
      "--Running Combination 1   2 ---\n",
      "--Running Combination 1   3 ---\n",
      "--Running Combination 2   3 ---\n",
      "--Running Combination 1   4 ---\n",
      "--Running Combination 2   4 ---\n",
      "--Running Combination 3   4 ---\n",
      "--Running Combination 1   5 ---\n",
      "--Running Combination 2   5 ---\n",
      "--Running Combination 3   5 ---\n",
      "--Running Combination 4   5 ---\n",
      "--Running Combination 1   6 ---\n",
      "--Running Combination 2   6 ---\n",
      "--Running Combination 3   6 ---\n",
      "--Running Combination 4   6 ---\n",
      "--Running Combination 5   6 ---\n",
      "--Running Combination 1   7 ---\n",
      "--Running Combination 2   7 ---\n",
      "--Running Combination 3   7 ---\n",
      "--Running Combination 4   7 ---\n",
      "--Running Combination 5   7 ---\n",
      "--Running Combination 6   7 ---\n",
      "--Running Combination 1   8 ---\n",
      "--Running Combination 2   8 ---\n",
      "--Running Combination 3   8 ---\n",
      "--Running Combination 4   8 ---\n",
      "--Running Combination 5   8 ---\n",
      "--Running Combination 6   8 ---\n",
      "--Running Combination 7   8 ---\n",
      "--Running Combination 1   9 ---\n",
      "--Running Combination 2   9 ---\n",
      "--Running Combination 3   9 ---\n",
      "--Running Combination 4   9 ---\n",
      "--Running Combination 5   9 ---\n",
      "--Running Combination 6   9 ---\n",
      "--Running Combination 7   9 ---\n",
      "--Running Combination 8   9 ---\n",
      "--Running Combination 1   10 ---\n",
      "--Running Combination 2   10 ---\n",
      "--Running Combination 3   10 ---\n",
      "--Running Combination 4   10 ---\n",
      "--Running Combination 5   10 ---\n",
      "--Running Combination 6   10 ---\n",
      "--Running Combination 7   10 ---\n",
      "--Running Combination 8   10 ---\n",
      "--Running Combination 9   10 ---\n"
     ]
    }
   ],
   "source": [
    "actual_fc_list <- fold_change_function(combinations = unique_combinations,msk_p_result = msk_p_results,msk_m_result = msk_m_results)"
   ]
  },
  {
   "cell_type": "code",
   "execution_count": 13,
   "id": "205d6b53-8cc1-4610-bd3b-de5d56210412",
   "metadata": {
    "scrolled": true
   },
   "outputs": [
    {
     "name": "stdout",
     "output_type": "stream",
     "text": [
      "--Running Combination 1   2 ---\n",
      "--Running Combination 1   3 ---\n",
      "--Running Combination 2   3 ---\n",
      "--Running Combination 1   4 ---\n",
      "--Running Combination 2   4 ---\n",
      "--Running Combination 3   4 ---\n",
      "--Running Combination 1   5 ---\n",
      "--Running Combination 2   5 ---\n",
      "--Running Combination 3   5 ---\n",
      "--Running Combination 4   5 ---\n",
      "--Running Combination 1   6 ---\n",
      "--Running Combination 2   6 ---\n",
      "--Running Combination 3   6 ---\n",
      "--Running Combination 4   6 ---\n",
      "--Running Combination 5   6 ---\n",
      "--Running Combination 1   7 ---\n",
      "--Running Combination 2   7 ---\n",
      "--Running Combination 3   7 ---\n",
      "--Running Combination 4   7 ---\n",
      "--Running Combination 5   7 ---\n",
      "--Running Combination 6   7 ---\n",
      "--Running Combination 1   8 ---\n",
      "--Running Combination 2   8 ---\n",
      "--Running Combination 3   8 ---\n",
      "--Running Combination 4   8 ---\n",
      "--Running Combination 5   8 ---\n",
      "--Running Combination 6   8 ---\n",
      "--Running Combination 7   8 ---\n",
      "--Running Combination 1   9 ---\n",
      "--Running Combination 2   9 ---\n",
      "--Running Combination 3   9 ---\n",
      "--Running Combination 4   9 ---\n",
      "--Running Combination 5   9 ---\n",
      "--Running Combination 6   9 ---\n",
      "--Running Combination 7   9 ---\n",
      "--Running Combination 8   9 ---\n",
      "--Running Combination 1   10 ---\n",
      "--Running Combination 2   10 ---\n",
      "--Running Combination 3   10 ---\n",
      "--Running Combination 4   10 ---\n",
      "--Running Combination 5   10 ---\n",
      "--Running Combination 6   10 ---\n",
      "--Running Combination 7   10 ---\n",
      "--Running Combination 8   10 ---\n",
      "--Running Combination 9   10 ---\n"
     ]
    }
   ],
   "source": [
    "random_fc_list <- fold_change_function(combinations = unique_combinations,msk_p_result = msk_p_m_results_cat1,msk_m_result = msk_p_m_results_cat2)"
   ]
  },
  {
   "cell_type": "code",
   "execution_count": 14,
   "id": "cfe3960d-5418-4121-bdc2-2fdb7d63026d",
   "metadata": {},
   "outputs": [],
   "source": [
    "consider_hits <- list()\n",
    "consider_hit_df<-list()"
   ]
  },
  {
   "cell_type": "code",
   "execution_count": 15,
   "id": "73e8ba6f-acc8-4415-a529-22eff29f2878",
   "metadata": {
    "scrolled": true
   },
   "outputs": [],
   "source": [
    "for(i in c(1:45)){\n",
    "   consider_hits[[i]]<-(actual_fc_list$df[[i]] %>% filter( FDR_primary==TRUE | FDR_met==TRUE))$id\n",
    "   consider_hit_df[[i]]<-(actual_fc_list$df[[i]] %>% filter( FDR_primary==TRUE | FDR_met==TRUE)) %>% select(id,FC,wES_primary,wES_met,FDR_primary,FDR_met)\n",
    "}"
   ]
  },
  {
   "cell_type": "code",
   "execution_count": 16,
   "id": "a58914e2-04e1-4b9b-bd82-6dadd19abbf3",
   "metadata": {},
   "outputs": [],
   "source": [
    "all_considered_hits <- unique(Reduce(union,consider_hits))"
   ]
  },
  {
   "cell_type": "code",
   "execution_count": 17,
   "id": "33f23951-6083-4719-9dba-40323a2c8878",
   "metadata": {},
   "outputs": [
    {
     "name": "stdout",
     "output_type": "stream",
     "text": [
      "List of 3\n",
      " $ df   :List of 45\n",
      " $ pairs:List of 45\n",
      " $ FC   : num [1:13173] 0.1981 -2.8914 1.2162 0.4604 0.0496 ...\n"
     ]
    }
   ],
   "source": [
    "str(actual_fc_list,max.level = 1)"
   ]
  },
  {
   "cell_type": "code",
   "execution_count": 18,
   "id": "43a33aa1-25d0-4835-944d-12f4a7bc0ae1",
   "metadata": {},
   "outputs": [
    {
     "data": {
      "text/html": [
       "502"
      ],
      "text/latex": [
       "502"
      ],
      "text/markdown": [
       "502"
      ],
      "text/plain": [
       "[1] 502"
      ]
     },
     "metadata": {},
     "output_type": "display_data"
    }
   ],
   "source": [
    "length(all_considered_hits)"
   ]
  },
  {
   "cell_type": "code",
   "execution_count": 19,
   "id": "8c0f89b7-c4c8-4cea-ba77-7df202cddd92",
   "metadata": {},
   "outputs": [],
   "source": [
    "filter_msk_p_result<-list()\n",
    "filter_msk_m_result<-list()"
   ]
  },
  {
   "cell_type": "code",
   "execution_count": 20,
   "id": "5185561f-1a5e-43c5-953e-ece35a52442e",
   "metadata": {},
   "outputs": [],
   "source": [
    "for(i in c(1:10)){\n",
    "    filter_msk_p_result[[i]]<-msk_p_results[[i]] %>% mutate(id=case_when(SFE_1>SFE_2 ~paste(SFE_2,SFE_1,sep=\" - \"),\n",
    "                        SFE_1<SFE_2 ~paste(SFE_1,SFE_2,sep=\" - \"))) %>% filter(id %in% all_considered_hits)\n",
    "    filter_msk_m_result[[i]]<-msk_m_results[[i]] %>% mutate(id=case_when(SFE_1>SFE_2 ~paste(SFE_2,SFE_1,sep=\" - \"),\n",
    "                        SFE_1<SFE_2 ~paste(SFE_1,SFE_2,sep=\" - \")))%>% filter(id %in% all_considered_hits)\n",
    "}"
   ]
  },
  {
   "cell_type": "code",
   "execution_count": 21,
   "id": "2a5aaf1b-07dc-4e0f-a8e8-fb524989d295",
   "metadata": {},
   "outputs": [],
   "source": [
    "merge_msk_p_result <- bind_rows(filter_msk_p_result)\n",
    "rownames(merge_msk_p_result)<-c(1:nrow(merge_msk_p_result))\n",
    "merge_msk_m_result <- bind_rows(filter_msk_m_result)\n",
    "rownames(merge_msk_m_result)<-c(1:nrow(merge_msk_m_result))"
   ]
  },
  {
   "cell_type": "code",
   "execution_count": 22,
   "id": "7c26f86b-fcc6-45d4-b531-2af5ced1c387",
   "metadata": {
    "scrolled": true
   },
   "outputs": [],
   "source": [
    "df1<-merge_msk_p_result %>% select(id,sampling_run,wES) %>% pivot_wider(names_from = sampling_run,id_cols = id,values_from = wES)\n",
    "df2<-merge_msk_m_result %>% select(id,sampling_run,wES) %>% pivot_wider(names_from = sampling_run,id_cols = id,values_from = wES)"
   ]
  },
  {
   "cell_type": "code",
   "execution_count": 23,
   "id": "e9663773-e640-4e88-9c04-69e55389794f",
   "metadata": {},
   "outputs": [],
   "source": [
    "df1$mean_nES<-rowMeans(df1[, !names(df1) %in% 'id'],na.rm = TRUE)\n",
    "df2$mean_nES<-rowMeans(df2[, !names(df2) %in% 'id'],na.rm = TRUE)"
   ]
  },
  {
   "cell_type": "code",
   "execution_count": 24,
   "id": "e7af3412-2c97-4cb4-8cc0-cb7849e922c2",
   "metadata": {},
   "outputs": [
    {
     "data": {
      "text/html": [
       "<style>\n",
       ".list-inline {list-style: none; margin:0; padding: 0}\n",
       ".list-inline>li {display: inline-block}\n",
       ".list-inline>li:not(:last-child)::after {content: \"\\00b7\"; padding: 0 .5ex}\n",
       "</style>\n",
       "<ol class=list-inline><li>502</li><li>12</li></ol>\n"
      ],
      "text/latex": [
       "\\begin{enumerate*}\n",
       "\\item 502\n",
       "\\item 12\n",
       "\\end{enumerate*}\n"
      ],
      "text/markdown": [
       "1. 502\n",
       "2. 12\n",
       "\n",
       "\n"
      ],
      "text/plain": [
       "[1] 502  12"
      ]
     },
     "metadata": {},
     "output_type": "display_data"
    },
    {
     "data": {
      "text/html": [
       "<style>\n",
       ".list-inline {list-style: none; margin:0; padding: 0}\n",
       ".list-inline>li {display: inline-block}\n",
       ".list-inline>li:not(:last-child)::after {content: \"\\00b7\"; padding: 0 .5ex}\n",
       "</style>\n",
       "<ol class=list-inline><li>502</li><li>12</li></ol>\n"
      ],
      "text/latex": [
       "\\begin{enumerate*}\n",
       "\\item 502\n",
       "\\item 12\n",
       "\\end{enumerate*}\n"
      ],
      "text/markdown": [
       "1. 502\n",
       "2. 12\n",
       "\n",
       "\n"
      ],
      "text/plain": [
       "[1] 502  12"
      ]
     },
     "metadata": {},
     "output_type": "display_data"
    }
   ],
   "source": [
    "dim(df1)\n",
    "dim(df2)"
   ]
  },
  {
   "cell_type": "code",
   "execution_count": 25,
   "id": "bd1e0259-8562-44a8-9d53-388f053d4c02",
   "metadata": {},
   "outputs": [],
   "source": [
    "plot_df <- data.frame('id'=(df1 %>% arrange(id))$id,'primary_wES'=(df1 %>% arrange(id))$mean_nES,'met_wES'=(df2 %>% arrange(id))$mean_nES)"
   ]
  },
  {
   "cell_type": "code",
   "execution_count": 26,
   "id": "bf789e12-53db-466b-87b7-f5593b1af817",
   "metadata": {},
   "outputs": [],
   "source": [
    "actual_df <- plot_df"
   ]
  },
  {
   "cell_type": "code",
   "execution_count": 27,
   "id": "5b31b1ac-4e4e-47e2-bed1-53c6cd1b6561",
   "metadata": {},
   "outputs": [
    {
     "name": "stdout",
     "output_type": "stream",
     "text": [
      "List of 3\n",
      " $ df   :List of 45\n",
      " $ pairs:List of 45\n",
      " $ FC   : num [1:13173] 0.1981 -2.8914 1.2162 0.4604 0.0496 ...\n",
      "List of 3\n",
      " $ df   :List of 45\n",
      " $ pairs:List of 45\n",
      " $ FC   : num [1:13334] -1.401 -0.33 -0.386 -0.327 -0.625 ...\n"
     ]
    }
   ],
   "source": [
    "str(actual_fc_list,max.level = 1)\n",
    "str(random_fc_list,max.level = 1)"
   ]
  },
  {
   "cell_type": "code",
   "execution_count": 28,
   "id": "ceb5c8af-3617-4c4f-aff2-71e039505822",
   "metadata": {},
   "outputs": [
    {
     "data": {
      "text/html": [
       "<table class=\"dataframe\">\n",
       "<caption>A data.frame: 6 × 3</caption>\n",
       "<thead>\n",
       "\t<tr><th></th><th scope=col>id</th><th scope=col>primary_wES</th><th scope=col>met_wES</th></tr>\n",
       "\t<tr><th></th><th scope=col>&lt;chr&gt;</th><th scope=col>&lt;dbl&gt;</th><th scope=col>&lt;dbl&gt;</th></tr>\n",
       "</thead>\n",
       "<tbody>\n",
       "\t<tr><th scope=row>1</th><td>AKT1 - CTNNB1</td><td>  2.560476</td><td>  3.431055</td></tr>\n",
       "\t<tr><th scope=row>2</th><td>AKT1 - ERBB2 </td><td> -1.722873</td><td> -3.177890</td></tr>\n",
       "\t<tr><th scope=row>3</th><td>AKT1 - GATA3 </td><td>  4.569404</td><td>  1.326602</td></tr>\n",
       "\t<tr><th scope=row>4</th><td>AKT1 - KRAS  </td><td> -2.076782</td><td> -4.054555</td></tr>\n",
       "\t<tr><th scope=row>5</th><td>AKT1 - MTOR  </td><td>  1.917500</td><td>  2.069202</td></tr>\n",
       "\t<tr><th scope=row>6</th><td>AKT1 - PIK3CA</td><td>-17.336163</td><td>-25.883842</td></tr>\n",
       "</tbody>\n",
       "</table>\n"
      ],
      "text/latex": [
       "A data.frame: 6 × 3\n",
       "\\begin{tabular}{r|lll}\n",
       "  & id & primary\\_wES & met\\_wES\\\\\n",
       "  & <chr> & <dbl> & <dbl>\\\\\n",
       "\\hline\n",
       "\t1 & AKT1 - CTNNB1 &   2.560476 &   3.431055\\\\\n",
       "\t2 & AKT1 - ERBB2  &  -1.722873 &  -3.177890\\\\\n",
       "\t3 & AKT1 - GATA3  &   4.569404 &   1.326602\\\\\n",
       "\t4 & AKT1 - KRAS   &  -2.076782 &  -4.054555\\\\\n",
       "\t5 & AKT1 - MTOR   &   1.917500 &   2.069202\\\\\n",
       "\t6 & AKT1 - PIK3CA & -17.336163 & -25.883842\\\\\n",
       "\\end{tabular}\n"
      ],
      "text/markdown": [
       "\n",
       "A data.frame: 6 × 3\n",
       "\n",
       "| <!--/--> | id &lt;chr&gt; | primary_wES &lt;dbl&gt; | met_wES &lt;dbl&gt; |\n",
       "|---|---|---|---|\n",
       "| 1 | AKT1 - CTNNB1 |   2.560476 |   3.431055 |\n",
       "| 2 | AKT1 - ERBB2  |  -1.722873 |  -3.177890 |\n",
       "| 3 | AKT1 - GATA3  |   4.569404 |   1.326602 |\n",
       "| 4 | AKT1 - KRAS   |  -2.076782 |  -4.054555 |\n",
       "| 5 | AKT1 - MTOR   |   1.917500 |   2.069202 |\n",
       "| 6 | AKT1 - PIK3CA | -17.336163 | -25.883842 |\n",
       "\n"
      ],
      "text/plain": [
       "  id            primary_wES met_wES   \n",
       "1 AKT1 - CTNNB1   2.560476    3.431055\n",
       "2 AKT1 - ERBB2   -1.722873   -3.177890\n",
       "3 AKT1 - GATA3    4.569404    1.326602\n",
       "4 AKT1 - KRAS    -2.076782   -4.054555\n",
       "5 AKT1 - MTOR     1.917500    2.069202\n",
       "6 AKT1 - PIK3CA -17.336163  -25.883842"
      ]
     },
     "metadata": {},
     "output_type": "display_data"
    }
   ],
   "source": [
    "head(actual_df)"
   ]
  },
  {
   "cell_type": "code",
   "execution_count": 29,
   "id": "d96e549c-762f-4b28-8d74-a7f932d8c475",
   "metadata": {},
   "outputs": [],
   "source": [
    "actual_df$FC <- log2(abs(actual_df$met_wES)/abs(actual_df$primary_wES))"
   ]
  },
  {
   "cell_type": "code",
   "execution_count": 30,
   "id": "ca42e9b2-aec8-4006-bf25-acf8b3d7c6c6",
   "metadata": {},
   "outputs": [
    {
     "data": {
      "text/html": [
       "<table class=\"dataframe\">\n",
       "<caption>A data.frame: 6 × 4</caption>\n",
       "<thead>\n",
       "\t<tr><th></th><th scope=col>id</th><th scope=col>primary_wES</th><th scope=col>met_wES</th><th scope=col>FC</th></tr>\n",
       "\t<tr><th></th><th scope=col>&lt;chr&gt;</th><th scope=col>&lt;dbl&gt;</th><th scope=col>&lt;dbl&gt;</th><th scope=col>&lt;dbl&gt;</th></tr>\n",
       "</thead>\n",
       "<tbody>\n",
       "\t<tr><th scope=row>1</th><td>AKT1 - CTNNB1</td><td>  2.560476</td><td>  3.431055</td><td> 0.4222401</td></tr>\n",
       "\t<tr><th scope=row>2</th><td>AKT1 - ERBB2 </td><td> -1.722873</td><td> -3.177890</td><td> 0.8832525</td></tr>\n",
       "\t<tr><th scope=row>3</th><td>AKT1 - GATA3 </td><td>  4.569404</td><td>  1.326602</td><td>-1.7842708</td></tr>\n",
       "\t<tr><th scope=row>4</th><td>AKT1 - KRAS  </td><td> -2.076782</td><td> -4.054555</td><td> 0.9651935</td></tr>\n",
       "\t<tr><th scope=row>5</th><td>AKT1 - MTOR  </td><td>  1.917500</td><td>  2.069202</td><td> 0.1098482</td></tr>\n",
       "\t<tr><th scope=row>6</th><td>AKT1 - PIK3CA</td><td>-17.336163</td><td>-25.883842</td><td> 0.5782672</td></tr>\n",
       "</tbody>\n",
       "</table>\n"
      ],
      "text/latex": [
       "A data.frame: 6 × 4\n",
       "\\begin{tabular}{r|llll}\n",
       "  & id & primary\\_wES & met\\_wES & FC\\\\\n",
       "  & <chr> & <dbl> & <dbl> & <dbl>\\\\\n",
       "\\hline\n",
       "\t1 & AKT1 - CTNNB1 &   2.560476 &   3.431055 &  0.4222401\\\\\n",
       "\t2 & AKT1 - ERBB2  &  -1.722873 &  -3.177890 &  0.8832525\\\\\n",
       "\t3 & AKT1 - GATA3  &   4.569404 &   1.326602 & -1.7842708\\\\\n",
       "\t4 & AKT1 - KRAS   &  -2.076782 &  -4.054555 &  0.9651935\\\\\n",
       "\t5 & AKT1 - MTOR   &   1.917500 &   2.069202 &  0.1098482\\\\\n",
       "\t6 & AKT1 - PIK3CA & -17.336163 & -25.883842 &  0.5782672\\\\\n",
       "\\end{tabular}\n"
      ],
      "text/markdown": [
       "\n",
       "A data.frame: 6 × 4\n",
       "\n",
       "| <!--/--> | id &lt;chr&gt; | primary_wES &lt;dbl&gt; | met_wES &lt;dbl&gt; | FC &lt;dbl&gt; |\n",
       "|---|---|---|---|---|\n",
       "| 1 | AKT1 - CTNNB1 |   2.560476 |   3.431055 |  0.4222401 |\n",
       "| 2 | AKT1 - ERBB2  |  -1.722873 |  -3.177890 |  0.8832525 |\n",
       "| 3 | AKT1 - GATA3  |   4.569404 |   1.326602 | -1.7842708 |\n",
       "| 4 | AKT1 - KRAS   |  -2.076782 |  -4.054555 |  0.9651935 |\n",
       "| 5 | AKT1 - MTOR   |   1.917500 |   2.069202 |  0.1098482 |\n",
       "| 6 | AKT1 - PIK3CA | -17.336163 | -25.883842 |  0.5782672 |\n",
       "\n"
      ],
      "text/plain": [
       "  id            primary_wES met_wES    FC        \n",
       "1 AKT1 - CTNNB1   2.560476    3.431055  0.4222401\n",
       "2 AKT1 - ERBB2   -1.722873   -3.177890  0.8832525\n",
       "3 AKT1 - GATA3    4.569404    1.326602 -1.7842708\n",
       "4 AKT1 - KRAS    -2.076782   -4.054555  0.9651935\n",
       "5 AKT1 - MTOR     1.917500    2.069202  0.1098482\n",
       "6 AKT1 - PIK3CA -17.336163  -25.883842  0.5782672"
      ]
     },
     "metadata": {},
     "output_type": "display_data"
    }
   ],
   "source": [
    "head(actual_df)"
   ]
  },
  {
   "cell_type": "code",
   "execution_count": 31,
   "id": "fab4f770-938e-4081-ab75-f5ca451422f2",
   "metadata": {},
   "outputs": [],
   "source": [
    "filter_msk_p_result_cat1<-list()\n",
    "filter_msk_m_result_cat2<-list()"
   ]
  },
  {
   "cell_type": "code",
   "execution_count": 32,
   "id": "3fe52a0f-3139-4043-9fc0-66cd9b4f443f",
   "metadata": {},
   "outputs": [],
   "source": [
    "for(i in c(1:10)){\n",
    "    filter_msk_p_result_cat1[[i]]<-msk_p_m_results[[i]] %>% mutate(id=case_when(SFE_1>SFE_2 ~paste(SFE_2,SFE_1,sep=\" - \"),\n",
    "                        SFE_1<SFE_2 ~paste(SFE_1,SFE_2,sep=\" - \"))) \n",
    "    filter_msk_m_result_cat2[[i]]<-msk_p_m_results[[i+10]] %>% mutate(id=case_when(SFE_1>SFE_2 ~paste(SFE_2,SFE_1,sep=\" - \"),\n",
    "                        SFE_1<SFE_2 ~paste(SFE_1,SFE_2,sep=\" - \")))\n",
    "}"
   ]
  },
  {
   "cell_type": "code",
   "execution_count": 33,
   "id": "cc79c273-4183-4f14-b3f6-359e8e3c36c9",
   "metadata": {},
   "outputs": [],
   "source": [
    "merge_msk_p_result_comb <- bind_rows(filter_msk_p_result_cat1)\n",
    "rownames(merge_msk_p_result_comb)<-c(1:nrow(merge_msk_p_result_comb))\n",
    "merge_msk_m_result_comb <- bind_rows(filter_msk_m_result_cat2)\n",
    "rownames(merge_msk_m_result_comb)<-c(1:nrow(merge_msk_m_result_comb))"
   ]
  },
  {
   "cell_type": "code",
   "execution_count": 34,
   "id": "35415497-c558-4ab0-8ddd-a9e98fbfc551",
   "metadata": {
    "scrolled": true
   },
   "outputs": [],
   "source": [
    "df1<-merge_msk_p_result_comb %>% select(id,sampling_run,wES) %>% pivot_wider(names_from = sampling_run,id_cols = id,values_from = wES)\n",
    "df2<-merge_msk_m_result_comb %>% select(id,sampling_run,wES) %>% pivot_wider(names_from = sampling_run,id_cols = id,values_from = wES)"
   ]
  },
  {
   "cell_type": "code",
   "execution_count": 35,
   "id": "0da166bd-1079-4e00-8acb-df424f490316",
   "metadata": {},
   "outputs": [],
   "source": [
    "df1$mean_nES<-rowMeans(df1[, !names(df1) %in% 'id'],na.rm = FALSE)\n",
    "df2$mean_nES<-rowMeans(df2[, !names(df2) %in% 'id'],na.rm = FALSE)"
   ]
  },
  {
   "cell_type": "code",
   "execution_count": 36,
   "id": "e6c601c4-e150-48d7-b9a5-4b546ce01541",
   "metadata": {},
   "outputs": [
    {
     "data": {
      "text/html": [
       "<style>\n",
       ".list-inline {list-style: none; margin:0; padding: 0}\n",
       ".list-inline>li {display: inline-block}\n",
       ".list-inline>li:not(:last-child)::after {content: \"\\00b7\"; padding: 0 .5ex}\n",
       "</style>\n",
       "<ol class=list-inline><li>38036</li><li>12</li></ol>\n"
      ],
      "text/latex": [
       "\\begin{enumerate*}\n",
       "\\item 38036\n",
       "\\item 12\n",
       "\\end{enumerate*}\n"
      ],
      "text/markdown": [
       "1. 38036\n",
       "2. 12\n",
       "\n",
       "\n"
      ],
      "text/plain": [
       "[1] 38036    12"
      ]
     },
     "metadata": {},
     "output_type": "display_data"
    },
    {
     "data": {
      "text/html": [
       "<style>\n",
       ".list-inline {list-style: none; margin:0; padding: 0}\n",
       ".list-inline>li {display: inline-block}\n",
       ".list-inline>li:not(:last-child)::after {content: \"\\00b7\"; padding: 0 .5ex}\n",
       "</style>\n",
       "<ol class=list-inline><li>38786</li><li>12</li></ol>\n"
      ],
      "text/latex": [
       "\\begin{enumerate*}\n",
       "\\item 38786\n",
       "\\item 12\n",
       "\\end{enumerate*}\n"
      ],
      "text/markdown": [
       "1. 38786\n",
       "2. 12\n",
       "\n",
       "\n"
      ],
      "text/plain": [
       "[1] 38786    12"
      ]
     },
     "metadata": {},
     "output_type": "display_data"
    }
   ],
   "source": [
    "dim(df1)\n",
    "dim(df2)"
   ]
  },
  {
   "cell_type": "code",
   "execution_count": 37,
   "id": "d6c26428-3928-43e9-a415-9b7fb6578b2c",
   "metadata": {},
   "outputs": [],
   "source": [
    "random_df <- data.frame('id'=(df1 %>% filter(id %in% actual_df$id)%>% arrange(id))$id,\n",
    "                        'primary_wES'=(df1  %>% filter(id %in% actual_df$id) %>% arrange(id))$mean_nES,\n",
    "                        'met_wES'=(df2 %>% filter(id %in% actual_df$id) %>% arrange(id))$mean_nES)"
   ]
  },
  {
   "cell_type": "code",
   "execution_count": 38,
   "id": "c5ebec11-6ad8-4b27-957e-ce8acd98ff95",
   "metadata": {
    "scrolled": true
   },
   "outputs": [
    {
     "data": {
      "text/html": [
       "<table class=\"dataframe\">\n",
       "<caption>A data.frame: 6 × 3</caption>\n",
       "<thead>\n",
       "\t<tr><th></th><th scope=col>id</th><th scope=col>primary_wES</th><th scope=col>met_wES</th></tr>\n",
       "\t<tr><th></th><th scope=col>&lt;chr&gt;</th><th scope=col>&lt;dbl&gt;</th><th scope=col>&lt;dbl&gt;</th></tr>\n",
       "</thead>\n",
       "<tbody>\n",
       "\t<tr><th scope=row>1</th><td>AKT1 - CTNNB1</td><td>  2.458196</td><td>  2.310384</td></tr>\n",
       "\t<tr><th scope=row>2</th><td>AKT1 - ERBB2 </td><td> -2.274579</td><td> -2.225329</td></tr>\n",
       "\t<tr><th scope=row>3</th><td>AKT1 - GATA3 </td><td>  2.951097</td><td>  3.640077</td></tr>\n",
       "\t<tr><th scope=row>4</th><td>AKT1 - KRAS  </td><td> -2.523518</td><td> -3.033103</td></tr>\n",
       "\t<tr><th scope=row>5</th><td>AKT1 - MTOR  </td><td>  1.523225</td><td>  1.818350</td></tr>\n",
       "\t<tr><th scope=row>6</th><td>AKT1 - PIK3CA</td><td>-21.183948</td><td>-20.930818</td></tr>\n",
       "</tbody>\n",
       "</table>\n"
      ],
      "text/latex": [
       "A data.frame: 6 × 3\n",
       "\\begin{tabular}{r|lll}\n",
       "  & id & primary\\_wES & met\\_wES\\\\\n",
       "  & <chr> & <dbl> & <dbl>\\\\\n",
       "\\hline\n",
       "\t1 & AKT1 - CTNNB1 &   2.458196 &   2.310384\\\\\n",
       "\t2 & AKT1 - ERBB2  &  -2.274579 &  -2.225329\\\\\n",
       "\t3 & AKT1 - GATA3  &   2.951097 &   3.640077\\\\\n",
       "\t4 & AKT1 - KRAS   &  -2.523518 &  -3.033103\\\\\n",
       "\t5 & AKT1 - MTOR   &   1.523225 &   1.818350\\\\\n",
       "\t6 & AKT1 - PIK3CA & -21.183948 & -20.930818\\\\\n",
       "\\end{tabular}\n"
      ],
      "text/markdown": [
       "\n",
       "A data.frame: 6 × 3\n",
       "\n",
       "| <!--/--> | id &lt;chr&gt; | primary_wES &lt;dbl&gt; | met_wES &lt;dbl&gt; |\n",
       "|---|---|---|---|\n",
       "| 1 | AKT1 - CTNNB1 |   2.458196 |   2.310384 |\n",
       "| 2 | AKT1 - ERBB2  |  -2.274579 |  -2.225329 |\n",
       "| 3 | AKT1 - GATA3  |   2.951097 |   3.640077 |\n",
       "| 4 | AKT1 - KRAS   |  -2.523518 |  -3.033103 |\n",
       "| 5 | AKT1 - MTOR   |   1.523225 |   1.818350 |\n",
       "| 6 | AKT1 - PIK3CA | -21.183948 | -20.930818 |\n",
       "\n"
      ],
      "text/plain": [
       "  id            primary_wES met_wES   \n",
       "1 AKT1 - CTNNB1   2.458196    2.310384\n",
       "2 AKT1 - ERBB2   -2.274579   -2.225329\n",
       "3 AKT1 - GATA3    2.951097    3.640077\n",
       "4 AKT1 - KRAS    -2.523518   -3.033103\n",
       "5 AKT1 - MTOR     1.523225    1.818350\n",
       "6 AKT1 - PIK3CA -21.183948  -20.930818"
      ]
     },
     "metadata": {},
     "output_type": "display_data"
    }
   ],
   "source": [
    "head(random_df)"
   ]
  },
  {
   "cell_type": "code",
   "execution_count": 39,
   "id": "86547fec-14fa-457f-b8a9-a4b73a4a4b17",
   "metadata": {},
   "outputs": [],
   "source": [
    "random_df$FC <- log2(abs(random_df$met)/abs(random_df$primary))"
   ]
  },
  {
   "cell_type": "code",
   "execution_count": 40,
   "id": "e73ae441-c348-4a84-9df1-803a52fee3f7",
   "metadata": {},
   "outputs": [
    {
     "data": {
      "text/html": [
       "<table class=\"dataframe\">\n",
       "<caption>A data.frame: 6 × 4</caption>\n",
       "<thead>\n",
       "\t<tr><th></th><th scope=col>id</th><th scope=col>primary_wES</th><th scope=col>met_wES</th><th scope=col>FC</th></tr>\n",
       "\t<tr><th></th><th scope=col>&lt;chr&gt;</th><th scope=col>&lt;dbl&gt;</th><th scope=col>&lt;dbl&gt;</th><th scope=col>&lt;dbl&gt;</th></tr>\n",
       "</thead>\n",
       "<tbody>\n",
       "\t<tr><th scope=row>1</th><td>AKT1 - CTNNB1</td><td>  2.458196</td><td>  2.310384</td><td>-0.08946738</td></tr>\n",
       "\t<tr><th scope=row>2</th><td>AKT1 - ERBB2 </td><td> -2.274579</td><td> -2.225329</td><td>-0.03158092</td></tr>\n",
       "\t<tr><th scope=row>3</th><td>AKT1 - GATA3 </td><td>  2.951097</td><td>  3.640077</td><td> 0.30271776</td></tr>\n",
       "\t<tr><th scope=row>4</th><td>AKT1 - KRAS  </td><td> -2.523518</td><td> -3.033103</td><td> 0.26535835</td></tr>\n",
       "\t<tr><th scope=row>5</th><td>AKT1 - MTOR  </td><td>  1.523225</td><td>  1.818350</td><td> 0.25550064</td></tr>\n",
       "\t<tr><th scope=row>6</th><td>AKT1 - PIK3CA</td><td>-21.183948</td><td>-20.930818</td><td>-0.01734278</td></tr>\n",
       "</tbody>\n",
       "</table>\n"
      ],
      "text/latex": [
       "A data.frame: 6 × 4\n",
       "\\begin{tabular}{r|llll}\n",
       "  & id & primary\\_wES & met\\_wES & FC\\\\\n",
       "  & <chr> & <dbl> & <dbl> & <dbl>\\\\\n",
       "\\hline\n",
       "\t1 & AKT1 - CTNNB1 &   2.458196 &   2.310384 & -0.08946738\\\\\n",
       "\t2 & AKT1 - ERBB2  &  -2.274579 &  -2.225329 & -0.03158092\\\\\n",
       "\t3 & AKT1 - GATA3  &   2.951097 &   3.640077 &  0.30271776\\\\\n",
       "\t4 & AKT1 - KRAS   &  -2.523518 &  -3.033103 &  0.26535835\\\\\n",
       "\t5 & AKT1 - MTOR   &   1.523225 &   1.818350 &  0.25550064\\\\\n",
       "\t6 & AKT1 - PIK3CA & -21.183948 & -20.930818 & -0.01734278\\\\\n",
       "\\end{tabular}\n"
      ],
      "text/markdown": [
       "\n",
       "A data.frame: 6 × 4\n",
       "\n",
       "| <!--/--> | id &lt;chr&gt; | primary_wES &lt;dbl&gt; | met_wES &lt;dbl&gt; | FC &lt;dbl&gt; |\n",
       "|---|---|---|---|---|\n",
       "| 1 | AKT1 - CTNNB1 |   2.458196 |   2.310384 | -0.08946738 |\n",
       "| 2 | AKT1 - ERBB2  |  -2.274579 |  -2.225329 | -0.03158092 |\n",
       "| 3 | AKT1 - GATA3  |   2.951097 |   3.640077 |  0.30271776 |\n",
       "| 4 | AKT1 - KRAS   |  -2.523518 |  -3.033103 |  0.26535835 |\n",
       "| 5 | AKT1 - MTOR   |   1.523225 |   1.818350 |  0.25550064 |\n",
       "| 6 | AKT1 - PIK3CA | -21.183948 | -20.930818 | -0.01734278 |\n",
       "\n"
      ],
      "text/plain": [
       "  id            primary_wES met_wES    FC         \n",
       "1 AKT1 - CTNNB1   2.458196    2.310384 -0.08946738\n",
       "2 AKT1 - ERBB2   -2.274579   -2.225329 -0.03158092\n",
       "3 AKT1 - GATA3    2.951097    3.640077  0.30271776\n",
       "4 AKT1 - KRAS    -2.523518   -3.033103  0.26535835\n",
       "5 AKT1 - MTOR     1.523225    1.818350  0.25550064\n",
       "6 AKT1 - PIK3CA -21.183948  -20.930818 -0.01734278"
      ]
     },
     "metadata": {},
     "output_type": "display_data"
    }
   ],
   "source": [
    "head(random_df)"
   ]
  },
  {
   "cell_type": "code",
   "execution_count": 41,
   "id": "ba7a9dde-23ae-4b11-bd13-65fed9fcc2a1",
   "metadata": {},
   "outputs": [
    {
     "data": {
      "text/html": [
       "<style>\n",
       ".list-inline {list-style: none; margin:0; padding: 0}\n",
       ".list-inline>li {display: inline-block}\n",
       ".list-inline>li:not(:last-child)::after {content: \"\\00b7\"; padding: 0 .5ex}\n",
       "</style>\n",
       "<ol class=list-inline><li>502</li><li>4</li></ol>\n"
      ],
      "text/latex": [
       "\\begin{enumerate*}\n",
       "\\item 502\n",
       "\\item 4\n",
       "\\end{enumerate*}\n"
      ],
      "text/markdown": [
       "1. 502\n",
       "2. 4\n",
       "\n",
       "\n"
      ],
      "text/plain": [
       "[1] 502   4"
      ]
     },
     "metadata": {},
     "output_type": "display_data"
    },
    {
     "data": {
      "text/html": [
       "<style>\n",
       ".list-inline {list-style: none; margin:0; padding: 0}\n",
       ".list-inline>li {display: inline-block}\n",
       ".list-inline>li:not(:last-child)::after {content: \"\\00b7\"; padding: 0 .5ex}\n",
       "</style>\n",
       "<ol class=list-inline><li>502</li><li>4</li></ol>\n"
      ],
      "text/latex": [
       "\\begin{enumerate*}\n",
       "\\item 502\n",
       "\\item 4\n",
       "\\end{enumerate*}\n"
      ],
      "text/markdown": [
       "1. 502\n",
       "2. 4\n",
       "\n",
       "\n"
      ],
      "text/plain": [
       "[1] 502   4"
      ]
     },
     "metadata": {},
     "output_type": "display_data"
    }
   ],
   "source": [
    "dim(actual_df)\n",
    "dim(random_df)"
   ]
  },
  {
   "cell_type": "code",
   "execution_count": 42,
   "id": "22b49a1a-0e90-4b53-8262-4da1407a2ce1",
   "metadata": {},
   "outputs": [],
   "source": [
    "# Create a data frame\n",
    "df <- data.frame(value =c(actual_df$FC,random_df$FC),\n",
    "                 group = c(rep('Observed',502),rep('Expected',502)))"
   ]
  },
  {
   "cell_type": "code",
   "execution_count": 43,
   "id": "2d21c977-a3ab-4b6f-815f-3c039ef01011",
   "metadata": {
    "scrolled": true
   },
   "outputs": [
    {
     "data": {
      "text/html": [
       "<table class=\"dataframe\">\n",
       "<caption>A data.frame: 1004 × 2</caption>\n",
       "<thead>\n",
       "\t<tr><th scope=col>value</th><th scope=col>group</th></tr>\n",
       "\t<tr><th scope=col>&lt;dbl&gt;</th><th scope=col>&lt;chr&gt;</th></tr>\n",
       "</thead>\n",
       "<tbody>\n",
       "\t<tr><td> 0.42224007</td><td>Observed</td></tr>\n",
       "\t<tr><td> 0.88325254</td><td>Observed</td></tr>\n",
       "\t<tr><td>-1.78427081</td><td>Observed</td></tr>\n",
       "\t<tr><td> 0.96519354</td><td>Observed</td></tr>\n",
       "\t<tr><td> 0.10984817</td><td>Observed</td></tr>\n",
       "\t<tr><td> 0.57826716</td><td>Observed</td></tr>\n",
       "\t<tr><td> 0.37517363</td><td>Observed</td></tr>\n",
       "\t<tr><td>-3.30612308</td><td>Observed</td></tr>\n",
       "\t<tr><td> 1.79059977</td><td>Observed</td></tr>\n",
       "\t<tr><td>-0.13366207</td><td>Observed</td></tr>\n",
       "\t<tr><td> 3.22136750</td><td>Observed</td></tr>\n",
       "\t<tr><td> 0.72973733</td><td>Observed</td></tr>\n",
       "\t<tr><td>-0.88846168</td><td>Observed</td></tr>\n",
       "\t<tr><td>-0.38587411</td><td>Observed</td></tr>\n",
       "\t<tr><td>-0.62328283</td><td>Observed</td></tr>\n",
       "\t<tr><td> 0.87059470</td><td>Observed</td></tr>\n",
       "\t<tr><td>-0.26791353</td><td>Observed</td></tr>\n",
       "\t<tr><td> 0.44798399</td><td>Observed</td></tr>\n",
       "\t<tr><td> 0.41993425</td><td>Observed</td></tr>\n",
       "\t<tr><td>-0.34016957</td><td>Observed</td></tr>\n",
       "\t<tr><td> 0.01794344</td><td>Observed</td></tr>\n",
       "\t<tr><td> 0.33236427</td><td>Observed</td></tr>\n",
       "\t<tr><td>-0.14890555</td><td>Observed</td></tr>\n",
       "\t<tr><td>-0.39380442</td><td>Observed</td></tr>\n",
       "\t<tr><td> 1.23149511</td><td>Observed</td></tr>\n",
       "\t<tr><td> 0.59117985</td><td>Observed</td></tr>\n",
       "\t<tr><td> 0.47217661</td><td>Observed</td></tr>\n",
       "\t<tr><td> 1.51185815</td><td>Observed</td></tr>\n",
       "\t<tr><td> 0.76066131</td><td>Observed</td></tr>\n",
       "\t<tr><td> 0.97800864</td><td>Observed</td></tr>\n",
       "\t<tr><td>⋮</td><td>⋮</td></tr>\n",
       "\t<tr><td> 0.01698099</td><td>Expected</td></tr>\n",
       "\t<tr><td>-0.02279082</td><td>Expected</td></tr>\n",
       "\t<tr><td>-0.24620927</td><td>Expected</td></tr>\n",
       "\t<tr><td>-0.11225861</td><td>Expected</td></tr>\n",
       "\t<tr><td>-0.02389817</td><td>Expected</td></tr>\n",
       "\t<tr><td>-0.04084739</td><td>Expected</td></tr>\n",
       "\t<tr><td> 0.08316059</td><td>Expected</td></tr>\n",
       "\t<tr><td> 0.13565257</td><td>Expected</td></tr>\n",
       "\t<tr><td> 0.06210320</td><td>Expected</td></tr>\n",
       "\t<tr><td> 0.08880554</td><td>Expected</td></tr>\n",
       "\t<tr><td> 0.11177130</td><td>Expected</td></tr>\n",
       "\t<tr><td>-0.41554654</td><td>Expected</td></tr>\n",
       "\t<tr><td>-0.10917362</td><td>Expected</td></tr>\n",
       "\t<tr><td>-0.15488405</td><td>Expected</td></tr>\n",
       "\t<tr><td> 0.08507522</td><td>Expected</td></tr>\n",
       "\t<tr><td>-0.53758268</td><td>Expected</td></tr>\n",
       "\t<tr><td> 0.02827960</td><td>Expected</td></tr>\n",
       "\t<tr><td>         NA</td><td>Expected</td></tr>\n",
       "\t<tr><td> 0.07541533</td><td>Expected</td></tr>\n",
       "\t<tr><td> 0.19380069</td><td>Expected</td></tr>\n",
       "\t<tr><td> 0.05790571</td><td>Expected</td></tr>\n",
       "\t<tr><td> 0.24713509</td><td>Expected</td></tr>\n",
       "\t<tr><td> 0.15288923</td><td>Expected</td></tr>\n",
       "\t<tr><td>-0.14372190</td><td>Expected</td></tr>\n",
       "\t<tr><td> 0.17839173</td><td>Expected</td></tr>\n",
       "\t<tr><td>-0.16238718</td><td>Expected</td></tr>\n",
       "\t<tr><td> 1.00595025</td><td>Expected</td></tr>\n",
       "\t<tr><td> 0.52197758</td><td>Expected</td></tr>\n",
       "\t<tr><td> 0.05886834</td><td>Expected</td></tr>\n",
       "\t<tr><td> 0.12048637</td><td>Expected</td></tr>\n",
       "</tbody>\n",
       "</table>\n"
      ],
      "text/latex": [
       "A data.frame: 1004 × 2\n",
       "\\begin{tabular}{ll}\n",
       " value & group\\\\\n",
       " <dbl> & <chr>\\\\\n",
       "\\hline\n",
       "\t  0.42224007 & Observed\\\\\n",
       "\t  0.88325254 & Observed\\\\\n",
       "\t -1.78427081 & Observed\\\\\n",
       "\t  0.96519354 & Observed\\\\\n",
       "\t  0.10984817 & Observed\\\\\n",
       "\t  0.57826716 & Observed\\\\\n",
       "\t  0.37517363 & Observed\\\\\n",
       "\t -3.30612308 & Observed\\\\\n",
       "\t  1.79059977 & Observed\\\\\n",
       "\t -0.13366207 & Observed\\\\\n",
       "\t  3.22136750 & Observed\\\\\n",
       "\t  0.72973733 & Observed\\\\\n",
       "\t -0.88846168 & Observed\\\\\n",
       "\t -0.38587411 & Observed\\\\\n",
       "\t -0.62328283 & Observed\\\\\n",
       "\t  0.87059470 & Observed\\\\\n",
       "\t -0.26791353 & Observed\\\\\n",
       "\t  0.44798399 & Observed\\\\\n",
       "\t  0.41993425 & Observed\\\\\n",
       "\t -0.34016957 & Observed\\\\\n",
       "\t  0.01794344 & Observed\\\\\n",
       "\t  0.33236427 & Observed\\\\\n",
       "\t -0.14890555 & Observed\\\\\n",
       "\t -0.39380442 & Observed\\\\\n",
       "\t  1.23149511 & Observed\\\\\n",
       "\t  0.59117985 & Observed\\\\\n",
       "\t  0.47217661 & Observed\\\\\n",
       "\t  1.51185815 & Observed\\\\\n",
       "\t  0.76066131 & Observed\\\\\n",
       "\t  0.97800864 & Observed\\\\\n",
       "\t ⋮ & ⋮\\\\\n",
       "\t  0.01698099 & Expected\\\\\n",
       "\t -0.02279082 & Expected\\\\\n",
       "\t -0.24620927 & Expected\\\\\n",
       "\t -0.11225861 & Expected\\\\\n",
       "\t -0.02389817 & Expected\\\\\n",
       "\t -0.04084739 & Expected\\\\\n",
       "\t  0.08316059 & Expected\\\\\n",
       "\t  0.13565257 & Expected\\\\\n",
       "\t  0.06210320 & Expected\\\\\n",
       "\t  0.08880554 & Expected\\\\\n",
       "\t  0.11177130 & Expected\\\\\n",
       "\t -0.41554654 & Expected\\\\\n",
       "\t -0.10917362 & Expected\\\\\n",
       "\t -0.15488405 & Expected\\\\\n",
       "\t  0.08507522 & Expected\\\\\n",
       "\t -0.53758268 & Expected\\\\\n",
       "\t  0.02827960 & Expected\\\\\n",
       "\t          NA & Expected\\\\\n",
       "\t  0.07541533 & Expected\\\\\n",
       "\t  0.19380069 & Expected\\\\\n",
       "\t  0.05790571 & Expected\\\\\n",
       "\t  0.24713509 & Expected\\\\\n",
       "\t  0.15288923 & Expected\\\\\n",
       "\t -0.14372190 & Expected\\\\\n",
       "\t  0.17839173 & Expected\\\\\n",
       "\t -0.16238718 & Expected\\\\\n",
       "\t  1.00595025 & Expected\\\\\n",
       "\t  0.52197758 & Expected\\\\\n",
       "\t  0.05886834 & Expected\\\\\n",
       "\t  0.12048637 & Expected\\\\\n",
       "\\end{tabular}\n"
      ],
      "text/markdown": [
       "\n",
       "A data.frame: 1004 × 2\n",
       "\n",
       "| value &lt;dbl&gt; | group &lt;chr&gt; |\n",
       "|---|---|\n",
       "|  0.42224007 | Observed |\n",
       "|  0.88325254 | Observed |\n",
       "| -1.78427081 | Observed |\n",
       "|  0.96519354 | Observed |\n",
       "|  0.10984817 | Observed |\n",
       "|  0.57826716 | Observed |\n",
       "|  0.37517363 | Observed |\n",
       "| -3.30612308 | Observed |\n",
       "|  1.79059977 | Observed |\n",
       "| -0.13366207 | Observed |\n",
       "|  3.22136750 | Observed |\n",
       "|  0.72973733 | Observed |\n",
       "| -0.88846168 | Observed |\n",
       "| -0.38587411 | Observed |\n",
       "| -0.62328283 | Observed |\n",
       "|  0.87059470 | Observed |\n",
       "| -0.26791353 | Observed |\n",
       "|  0.44798399 | Observed |\n",
       "|  0.41993425 | Observed |\n",
       "| -0.34016957 | Observed |\n",
       "|  0.01794344 | Observed |\n",
       "|  0.33236427 | Observed |\n",
       "| -0.14890555 | Observed |\n",
       "| -0.39380442 | Observed |\n",
       "|  1.23149511 | Observed |\n",
       "|  0.59117985 | Observed |\n",
       "|  0.47217661 | Observed |\n",
       "|  1.51185815 | Observed |\n",
       "|  0.76066131 | Observed |\n",
       "|  0.97800864 | Observed |\n",
       "| ⋮ | ⋮ |\n",
       "|  0.01698099 | Expected |\n",
       "| -0.02279082 | Expected |\n",
       "| -0.24620927 | Expected |\n",
       "| -0.11225861 | Expected |\n",
       "| -0.02389817 | Expected |\n",
       "| -0.04084739 | Expected |\n",
       "|  0.08316059 | Expected |\n",
       "|  0.13565257 | Expected |\n",
       "|  0.06210320 | Expected |\n",
       "|  0.08880554 | Expected |\n",
       "|  0.11177130 | Expected |\n",
       "| -0.41554654 | Expected |\n",
       "| -0.10917362 | Expected |\n",
       "| -0.15488405 | Expected |\n",
       "|  0.08507522 | Expected |\n",
       "| -0.53758268 | Expected |\n",
       "|  0.02827960 | Expected |\n",
       "|          NA | Expected |\n",
       "|  0.07541533 | Expected |\n",
       "|  0.19380069 | Expected |\n",
       "|  0.05790571 | Expected |\n",
       "|  0.24713509 | Expected |\n",
       "|  0.15288923 | Expected |\n",
       "| -0.14372190 | Expected |\n",
       "|  0.17839173 | Expected |\n",
       "| -0.16238718 | Expected |\n",
       "|  1.00595025 | Expected |\n",
       "|  0.52197758 | Expected |\n",
       "|  0.05886834 | Expected |\n",
       "|  0.12048637 | Expected |\n",
       "\n"
      ],
      "text/plain": [
       "     value       group   \n",
       "1     0.42224007 Observed\n",
       "2     0.88325254 Observed\n",
       "3    -1.78427081 Observed\n",
       "4     0.96519354 Observed\n",
       "5     0.10984817 Observed\n",
       "6     0.57826716 Observed\n",
       "7     0.37517363 Observed\n",
       "8    -3.30612308 Observed\n",
       "9     1.79059977 Observed\n",
       "10   -0.13366207 Observed\n",
       "11    3.22136750 Observed\n",
       "12    0.72973733 Observed\n",
       "13   -0.88846168 Observed\n",
       "14   -0.38587411 Observed\n",
       "15   -0.62328283 Observed\n",
       "16    0.87059470 Observed\n",
       "17   -0.26791353 Observed\n",
       "18    0.44798399 Observed\n",
       "19    0.41993425 Observed\n",
       "20   -0.34016957 Observed\n",
       "21    0.01794344 Observed\n",
       "22    0.33236427 Observed\n",
       "23   -0.14890555 Observed\n",
       "24   -0.39380442 Observed\n",
       "25    1.23149511 Observed\n",
       "26    0.59117985 Observed\n",
       "27    0.47217661 Observed\n",
       "28    1.51185815 Observed\n",
       "29    0.76066131 Observed\n",
       "30    0.97800864 Observed\n",
       "⋮    ⋮           ⋮       \n",
       "975   0.01698099 Expected\n",
       "976  -0.02279082 Expected\n",
       "977  -0.24620927 Expected\n",
       "978  -0.11225861 Expected\n",
       "979  -0.02389817 Expected\n",
       "980  -0.04084739 Expected\n",
       "981   0.08316059 Expected\n",
       "982   0.13565257 Expected\n",
       "983   0.06210320 Expected\n",
       "984   0.08880554 Expected\n",
       "985   0.11177130 Expected\n",
       "986  -0.41554654 Expected\n",
       "987  -0.10917362 Expected\n",
       "988  -0.15488405 Expected\n",
       "989   0.08507522 Expected\n",
       "990  -0.53758268 Expected\n",
       "991   0.02827960 Expected\n",
       "992           NA Expected\n",
       "993   0.07541533 Expected\n",
       "994   0.19380069 Expected\n",
       "995   0.05790571 Expected\n",
       "996   0.24713509 Expected\n",
       "997   0.15288923 Expected\n",
       "998  -0.14372190 Expected\n",
       "999   0.17839173 Expected\n",
       "1000 -0.16238718 Expected\n",
       "1001  1.00595025 Expected\n",
       "1002  0.52197758 Expected\n",
       "1003  0.05886834 Expected\n",
       "1004  0.12048637 Expected"
      ]
     },
     "metadata": {},
     "output_type": "display_data"
    }
   ],
   "source": [
    "df"
   ]
  },
  {
   "cell_type": "code",
   "execution_count": 44,
   "id": "8062590d-40be-4aaa-8d67-f6d08d99f625",
   "metadata": {},
   "outputs": [],
   "source": [
    "ids <- actual_df$id"
   ]
  },
  {
   "cell_type": "code",
   "execution_count": 45,
   "id": "79b6ec86-e1bf-4fb3-acec-9ad0ac9a6a8b",
   "metadata": {},
   "outputs": [],
   "source": [
    "# Create a data frame\n",
    "pair_df <- data.frame(pairs=ids,\n",
    "                 background=(random_df%>%filter(id %in% ids))$FC,\n",
    "                 actual=(actual_df%>%filter(id %in% ids))$FC)"
   ]
  },
  {
   "cell_type": "code",
   "execution_count": 46,
   "id": "f71fe06d-9a98-495b-ba29-b7d9ad485284",
   "metadata": {},
   "outputs": [
    {
     "data": {
      "text/html": [
       "<table class=\"dataframe\">\n",
       "<caption>A data.frame: 6 × 3</caption>\n",
       "<thead>\n",
       "\t<tr><th></th><th scope=col>pairs</th><th scope=col>background</th><th scope=col>actual</th></tr>\n",
       "\t<tr><th></th><th scope=col>&lt;chr&gt;</th><th scope=col>&lt;dbl&gt;</th><th scope=col>&lt;dbl&gt;</th></tr>\n",
       "</thead>\n",
       "<tbody>\n",
       "\t<tr><th scope=row>1</th><td>AKT1 - CTNNB1</td><td>-0.08946738</td><td> 0.4222401</td></tr>\n",
       "\t<tr><th scope=row>2</th><td>AKT1 - ERBB2 </td><td>-0.03158092</td><td> 0.8832525</td></tr>\n",
       "\t<tr><th scope=row>3</th><td>AKT1 - GATA3 </td><td> 0.30271776</td><td>-1.7842708</td></tr>\n",
       "\t<tr><th scope=row>4</th><td>AKT1 - KRAS  </td><td> 0.26535835</td><td> 0.9651935</td></tr>\n",
       "\t<tr><th scope=row>5</th><td>AKT1 - MTOR  </td><td> 0.25550064</td><td> 0.1098482</td></tr>\n",
       "\t<tr><th scope=row>6</th><td>AKT1 - PIK3CA</td><td>-0.01734278</td><td> 0.5782672</td></tr>\n",
       "</tbody>\n",
       "</table>\n"
      ],
      "text/latex": [
       "A data.frame: 6 × 3\n",
       "\\begin{tabular}{r|lll}\n",
       "  & pairs & background & actual\\\\\n",
       "  & <chr> & <dbl> & <dbl>\\\\\n",
       "\\hline\n",
       "\t1 & AKT1 - CTNNB1 & -0.08946738 &  0.4222401\\\\\n",
       "\t2 & AKT1 - ERBB2  & -0.03158092 &  0.8832525\\\\\n",
       "\t3 & AKT1 - GATA3  &  0.30271776 & -1.7842708\\\\\n",
       "\t4 & AKT1 - KRAS   &  0.26535835 &  0.9651935\\\\\n",
       "\t5 & AKT1 - MTOR   &  0.25550064 &  0.1098482\\\\\n",
       "\t6 & AKT1 - PIK3CA & -0.01734278 &  0.5782672\\\\\n",
       "\\end{tabular}\n"
      ],
      "text/markdown": [
       "\n",
       "A data.frame: 6 × 3\n",
       "\n",
       "| <!--/--> | pairs &lt;chr&gt; | background &lt;dbl&gt; | actual &lt;dbl&gt; |\n",
       "|---|---|---|---|\n",
       "| 1 | AKT1 - CTNNB1 | -0.08946738 |  0.4222401 |\n",
       "| 2 | AKT1 - ERBB2  | -0.03158092 |  0.8832525 |\n",
       "| 3 | AKT1 - GATA3  |  0.30271776 | -1.7842708 |\n",
       "| 4 | AKT1 - KRAS   |  0.26535835 |  0.9651935 |\n",
       "| 5 | AKT1 - MTOR   |  0.25550064 |  0.1098482 |\n",
       "| 6 | AKT1 - PIK3CA | -0.01734278 |  0.5782672 |\n",
       "\n"
      ],
      "text/plain": [
       "  pairs         background  actual    \n",
       "1 AKT1 - CTNNB1 -0.08946738  0.4222401\n",
       "2 AKT1 - ERBB2  -0.03158092  0.8832525\n",
       "3 AKT1 - GATA3   0.30271776 -1.7842708\n",
       "4 AKT1 - KRAS    0.26535835  0.9651935\n",
       "5 AKT1 - MTOR    0.25550064  0.1098482\n",
       "6 AKT1 - PIK3CA -0.01734278  0.5782672"
      ]
     },
     "metadata": {},
     "output_type": "display_data"
    }
   ],
   "source": [
    "head(pair_df)"
   ]
  },
  {
   "cell_type": "code",
   "execution_count": 47,
   "id": "30db077a-c18d-4712-8090-ea807a14657b",
   "metadata": {},
   "outputs": [],
   "source": [
    "df <- data.frame(value =c(actual_df$FC,random_df$FC),\n",
    "                 group = c(rep('Observed',502),rep('Expected',502)))"
   ]
  },
  {
   "cell_type": "code",
   "execution_count": 48,
   "id": "cab806b5-7092-47dd-a4b8-c062cab680d6",
   "metadata": {},
   "outputs": [],
   "source": [
    "pair_df<-pair_df %>% mutate(diff=abs(abs(actual)-abs(background)))"
   ]
  },
  {
   "cell_type": "code",
   "execution_count": 49,
   "id": "e22ec918-4afa-439d-af36-5aad164b0187",
   "metadata": {},
   "outputs": [
    {
     "data": {
      "text/plain": [
       "    Min.  1st Qu.   Median     Mean  3rd Qu.     Max.     NA's \n",
       "0.000144 0.190585 0.488932 0.968812 1.296148 7.327313        3 "
      ]
     },
     "metadata": {},
     "output_type": "display_data"
    }
   ],
   "source": [
    "summary(pair_df$diff)"
   ]
  },
  {
   "cell_type": "code",
   "execution_count": 50,
   "id": "b9bda1d7-9608-4faf-bb20-70546de53379",
   "metadata": {},
   "outputs": [],
   "source": [
    "msk_p_mat_df <-merge_msk_p_result %>% select(id,sampling_run,FDR) %>% pivot_wider(names_from = sampling_run,id_cols = id,values_from = FDR)\n",
    "msk_m_mat_df <-merge_msk_m_result %>% select(id,sampling_run,FDR) %>% pivot_wider(names_from = sampling_run,id_cols = id,values_from = FDR)"
   ]
  },
  {
   "cell_type": "code",
   "execution_count": 51,
   "id": "253b5a4d-0a1c-4460-a46b-b666c6a25d59",
   "metadata": {},
   "outputs": [],
   "source": [
    "sum_excluding <- rowSums(msk_p_mat_df[, !names(msk_p_mat_df) %in% 'id'],na.rm = TRUE)"
   ]
  },
  {
   "cell_type": "code",
   "execution_count": 52,
   "id": "7c78ae59-a37a-4333-8f2d-75d2bdef8847",
   "metadata": {},
   "outputs": [],
   "source": [
    "msk_p_mat_df$count <-sum_excluding"
   ]
  },
  {
   "cell_type": "code",
   "execution_count": 53,
   "id": "e1bfbc72-87e6-4d5c-ac14-f2fdb3dcf314",
   "metadata": {},
   "outputs": [],
   "source": [
    "sum_excluding <- rowSums(msk_m_mat_df[, !names(msk_m_mat_df) %in% 'id'],na.rm = TRUE)"
   ]
  },
  {
   "cell_type": "code",
   "execution_count": 54,
   "id": "f767ee4b-c6c0-4e81-ae5e-a34b31b3a17e",
   "metadata": {},
   "outputs": [],
   "source": [
    "msk_m_mat_df$count <-sum_excluding"
   ]
  },
  {
   "cell_type": "code",
   "execution_count": 55,
   "id": "d55ef4a8-f214-4209-b295-ac9f78545965",
   "metadata": {},
   "outputs": [
    {
     "data": {
      "text/html": [
       "<table class=\"dataframe\">\n",
       "<caption>A data.frame: 6 × 4</caption>\n",
       "<thead>\n",
       "\t<tr><th></th><th scope=col>pairs</th><th scope=col>background</th><th scope=col>actual</th><th scope=col>diff</th></tr>\n",
       "\t<tr><th></th><th scope=col>&lt;chr&gt;</th><th scope=col>&lt;dbl&gt;</th><th scope=col>&lt;dbl&gt;</th><th scope=col>&lt;dbl&gt;</th></tr>\n",
       "</thead>\n",
       "<tbody>\n",
       "\t<tr><th scope=row>1</th><td>AKT1 - CTNNB1</td><td>-0.08946738</td><td> 0.4222401</td><td>0.3327727</td></tr>\n",
       "\t<tr><th scope=row>2</th><td>AKT1 - ERBB2 </td><td>-0.03158092</td><td> 0.8832525</td><td>0.8516716</td></tr>\n",
       "\t<tr><th scope=row>3</th><td>AKT1 - GATA3 </td><td> 0.30271776</td><td>-1.7842708</td><td>1.4815531</td></tr>\n",
       "\t<tr><th scope=row>4</th><td>AKT1 - KRAS  </td><td> 0.26535835</td><td> 0.9651935</td><td>0.6998352</td></tr>\n",
       "\t<tr><th scope=row>5</th><td>AKT1 - MTOR  </td><td> 0.25550064</td><td> 0.1098482</td><td>0.1456525</td></tr>\n",
       "\t<tr><th scope=row>6</th><td>AKT1 - PIK3CA</td><td>-0.01734278</td><td> 0.5782672</td><td>0.5609244</td></tr>\n",
       "</tbody>\n",
       "</table>\n"
      ],
      "text/latex": [
       "A data.frame: 6 × 4\n",
       "\\begin{tabular}{r|llll}\n",
       "  & pairs & background & actual & diff\\\\\n",
       "  & <chr> & <dbl> & <dbl> & <dbl>\\\\\n",
       "\\hline\n",
       "\t1 & AKT1 - CTNNB1 & -0.08946738 &  0.4222401 & 0.3327727\\\\\n",
       "\t2 & AKT1 - ERBB2  & -0.03158092 &  0.8832525 & 0.8516716\\\\\n",
       "\t3 & AKT1 - GATA3  &  0.30271776 & -1.7842708 & 1.4815531\\\\\n",
       "\t4 & AKT1 - KRAS   &  0.26535835 &  0.9651935 & 0.6998352\\\\\n",
       "\t5 & AKT1 - MTOR   &  0.25550064 &  0.1098482 & 0.1456525\\\\\n",
       "\t6 & AKT1 - PIK3CA & -0.01734278 &  0.5782672 & 0.5609244\\\\\n",
       "\\end{tabular}\n"
      ],
      "text/markdown": [
       "\n",
       "A data.frame: 6 × 4\n",
       "\n",
       "| <!--/--> | pairs &lt;chr&gt; | background &lt;dbl&gt; | actual &lt;dbl&gt; | diff &lt;dbl&gt; |\n",
       "|---|---|---|---|---|\n",
       "| 1 | AKT1 - CTNNB1 | -0.08946738 |  0.4222401 | 0.3327727 |\n",
       "| 2 | AKT1 - ERBB2  | -0.03158092 |  0.8832525 | 0.8516716 |\n",
       "| 3 | AKT1 - GATA3  |  0.30271776 | -1.7842708 | 1.4815531 |\n",
       "| 4 | AKT1 - KRAS   |  0.26535835 |  0.9651935 | 0.6998352 |\n",
       "| 5 | AKT1 - MTOR   |  0.25550064 |  0.1098482 | 0.1456525 |\n",
       "| 6 | AKT1 - PIK3CA | -0.01734278 |  0.5782672 | 0.5609244 |\n",
       "\n"
      ],
      "text/plain": [
       "  pairs         background  actual     diff     \n",
       "1 AKT1 - CTNNB1 -0.08946738  0.4222401 0.3327727\n",
       "2 AKT1 - ERBB2  -0.03158092  0.8832525 0.8516716\n",
       "3 AKT1 - GATA3   0.30271776 -1.7842708 1.4815531\n",
       "4 AKT1 - KRAS    0.26535835  0.9651935 0.6998352\n",
       "5 AKT1 - MTOR    0.25550064  0.1098482 0.1456525\n",
       "6 AKT1 - PIK3CA -0.01734278  0.5782672 0.5609244"
      ]
     },
     "metadata": {},
     "output_type": "display_data"
    }
   ],
   "source": [
    "head(pair_df)"
   ]
  },
  {
   "cell_type": "code",
   "execution_count": 56,
   "id": "ca013d11-5794-436e-b306-2040f83b3204",
   "metadata": {
    "scrolled": true
   },
   "outputs": [],
   "source": [
    "df1<-merge_msk_p_result %>% select(id,sampling_run,wES) %>% pivot_wider(names_from = sampling_run,id_cols = id,values_from = wES)\n",
    "df2<-merge_msk_m_result %>% select(id,sampling_run,wES) %>% pivot_wider(names_from = sampling_run,id_cols = id,values_from = wES)"
   ]
  },
  {
   "cell_type": "code",
   "execution_count": 57,
   "id": "080b54df-a53c-4fd1-8e63-457d8702e406",
   "metadata": {},
   "outputs": [],
   "source": [
    "df1$mean_nES<-rowMeans(df1[, !names(df1) %in% 'id'],na.rm = TRUE)\n",
    "df2$mean_nES<-rowMeans(df2[, !names(df2) %in% 'id'],na.rm = TRUE)"
   ]
  },
  {
   "cell_type": "code",
   "execution_count": 58,
   "id": "c7d86653-32da-4f02-98ed-64960dbc0dfc",
   "metadata": {},
   "outputs": [
    {
     "data": {
      "text/html": [
       "<style>\n",
       ".list-inline {list-style: none; margin:0; padding: 0}\n",
       ".list-inline>li {display: inline-block}\n",
       ".list-inline>li:not(:last-child)::after {content: \"\\00b7\"; padding: 0 .5ex}\n",
       "</style>\n",
       "<ol class=list-inline><li>502</li><li>12</li></ol>\n"
      ],
      "text/latex": [
       "\\begin{enumerate*}\n",
       "\\item 502\n",
       "\\item 12\n",
       "\\end{enumerate*}\n"
      ],
      "text/markdown": [
       "1. 502\n",
       "2. 12\n",
       "\n",
       "\n"
      ],
      "text/plain": [
       "[1] 502  12"
      ]
     },
     "metadata": {},
     "output_type": "display_data"
    },
    {
     "data": {
      "text/html": [
       "<style>\n",
       ".list-inline {list-style: none; margin:0; padding: 0}\n",
       ".list-inline>li {display: inline-block}\n",
       ".list-inline>li:not(:last-child)::after {content: \"\\00b7\"; padding: 0 .5ex}\n",
       "</style>\n",
       "<ol class=list-inline><li>502</li><li>12</li></ol>\n"
      ],
      "text/latex": [
       "\\begin{enumerate*}\n",
       "\\item 502\n",
       "\\item 12\n",
       "\\end{enumerate*}\n"
      ],
      "text/markdown": [
       "1. 502\n",
       "2. 12\n",
       "\n",
       "\n"
      ],
      "text/plain": [
       "[1] 502  12"
      ]
     },
     "metadata": {},
     "output_type": "display_data"
    }
   ],
   "source": [
    "dim(df1)\n",
    "dim(df2)"
   ]
  },
  {
   "cell_type": "code",
   "execution_count": 59,
   "id": "d2a6f7b2-a56f-40b6-8ded-ac83bcceacca",
   "metadata": {},
   "outputs": [],
   "source": [
    "plot_df <- data.frame('id'=(df1 %>% arrange(id))$id,'primary_wES'=(df1 %>% arrange(id))$mean_nES,'met_wES'=(df2 %>% arrange(id))$mean_nES)"
   ]
  },
  {
   "cell_type": "code",
   "execution_count": 60,
   "id": "23f9a481-0200-4160-ae0e-d1142ac61576",
   "metadata": {},
   "outputs": [
    {
     "data": {
      "text/html": [
       "<table class=\"dataframe\">\n",
       "<caption>A data.frame: 6 × 3</caption>\n",
       "<thead>\n",
       "\t<tr><th></th><th scope=col>id</th><th scope=col>primary_wES</th><th scope=col>met_wES</th></tr>\n",
       "\t<tr><th></th><th scope=col>&lt;chr&gt;</th><th scope=col>&lt;dbl&gt;</th><th scope=col>&lt;dbl&gt;</th></tr>\n",
       "</thead>\n",
       "<tbody>\n",
       "\t<tr><th scope=row>1</th><td>AKT1 - CTNNB1</td><td>  2.560476</td><td>  3.431055</td></tr>\n",
       "\t<tr><th scope=row>2</th><td>AKT1 - ERBB2 </td><td> -1.722873</td><td> -3.177890</td></tr>\n",
       "\t<tr><th scope=row>3</th><td>AKT1 - GATA3 </td><td>  4.569404</td><td>  1.326602</td></tr>\n",
       "\t<tr><th scope=row>4</th><td>AKT1 - KRAS  </td><td> -2.076782</td><td> -4.054555</td></tr>\n",
       "\t<tr><th scope=row>5</th><td>AKT1 - MTOR  </td><td>  1.917500</td><td>  2.069202</td></tr>\n",
       "\t<tr><th scope=row>6</th><td>AKT1 - PIK3CA</td><td>-17.336163</td><td>-25.883842</td></tr>\n",
       "</tbody>\n",
       "</table>\n"
      ],
      "text/latex": [
       "A data.frame: 6 × 3\n",
       "\\begin{tabular}{r|lll}\n",
       "  & id & primary\\_wES & met\\_wES\\\\\n",
       "  & <chr> & <dbl> & <dbl>\\\\\n",
       "\\hline\n",
       "\t1 & AKT1 - CTNNB1 &   2.560476 &   3.431055\\\\\n",
       "\t2 & AKT1 - ERBB2  &  -1.722873 &  -3.177890\\\\\n",
       "\t3 & AKT1 - GATA3  &   4.569404 &   1.326602\\\\\n",
       "\t4 & AKT1 - KRAS   &  -2.076782 &  -4.054555\\\\\n",
       "\t5 & AKT1 - MTOR   &   1.917500 &   2.069202\\\\\n",
       "\t6 & AKT1 - PIK3CA & -17.336163 & -25.883842\\\\\n",
       "\\end{tabular}\n"
      ],
      "text/markdown": [
       "\n",
       "A data.frame: 6 × 3\n",
       "\n",
       "| <!--/--> | id &lt;chr&gt; | primary_wES &lt;dbl&gt; | met_wES &lt;dbl&gt; |\n",
       "|---|---|---|---|\n",
       "| 1 | AKT1 - CTNNB1 |   2.560476 |   3.431055 |\n",
       "| 2 | AKT1 - ERBB2  |  -1.722873 |  -3.177890 |\n",
       "| 3 | AKT1 - GATA3  |   4.569404 |   1.326602 |\n",
       "| 4 | AKT1 - KRAS   |  -2.076782 |  -4.054555 |\n",
       "| 5 | AKT1 - MTOR   |   1.917500 |   2.069202 |\n",
       "| 6 | AKT1 - PIK3CA | -17.336163 | -25.883842 |\n",
       "\n"
      ],
      "text/plain": [
       "  id            primary_wES met_wES   \n",
       "1 AKT1 - CTNNB1   2.560476    3.431055\n",
       "2 AKT1 - ERBB2   -1.722873   -3.177890\n",
       "3 AKT1 - GATA3    4.569404    1.326602\n",
       "4 AKT1 - KRAS    -2.076782   -4.054555\n",
       "5 AKT1 - MTOR     1.917500    2.069202\n",
       "6 AKT1 - PIK3CA -17.336163  -25.883842"
      ]
     },
     "metadata": {},
     "output_type": "display_data"
    }
   ],
   "source": [
    "head(plot_df)"
   ]
  },
  {
   "cell_type": "code",
   "execution_count": 61,
   "id": "e673af82-8071-440f-8480-072f09402d41",
   "metadata": {},
   "outputs": [],
   "source": [
    "msk_count_m <- msk_m_mat_df$count\n",
    "names(msk_count_m)<-msk_m_mat_df$id\n",
    "msk_count_p <- msk_p_mat_df$count\n",
    "names(msk_count_p)<-msk_p_mat_df$id"
   ]
  },
  {
   "cell_type": "code",
   "execution_count": 62,
   "id": "c852e90a-7c39-432a-8c74-c7f23839d09d",
   "metadata": {},
   "outputs": [],
   "source": [
    "plot_df<-plot_df %>% mutate(m_count =msk_count_m[id],p_count=msk_count_p[id])"
   ]
  },
  {
   "cell_type": "code",
   "execution_count": 63,
   "id": "75f97cf1-2349-46b4-a81a-f6ed17c36c69",
   "metadata": {},
   "outputs": [
    {
     "data": {
      "text/html": [
       "<table class=\"dataframe\">\n",
       "<caption>A data.frame: 6 × 5</caption>\n",
       "<thead>\n",
       "\t<tr><th></th><th scope=col>id</th><th scope=col>primary_wES</th><th scope=col>met_wES</th><th scope=col>m_count</th><th scope=col>p_count</th></tr>\n",
       "\t<tr><th></th><th scope=col>&lt;chr&gt;</th><th scope=col>&lt;dbl&gt;</th><th scope=col>&lt;dbl&gt;</th><th scope=col>&lt;dbl&gt;</th><th scope=col>&lt;dbl&gt;</th></tr>\n",
       "</thead>\n",
       "<tbody>\n",
       "\t<tr><th scope=row>1</th><td>AKT1 - CTNNB1</td><td>  2.560476</td><td>  3.431055</td><td> 4</td><td> 2</td></tr>\n",
       "\t<tr><th scope=row>2</th><td>AKT1 - ERBB2 </td><td> -1.722873</td><td> -3.177890</td><td> 1</td><td> 0</td></tr>\n",
       "\t<tr><th scope=row>3</th><td>AKT1 - GATA3 </td><td>  4.569404</td><td>  1.326602</td><td> 0</td><td> 9</td></tr>\n",
       "\t<tr><th scope=row>4</th><td>AKT1 - KRAS  </td><td> -2.076782</td><td> -4.054555</td><td> 9</td><td> 1</td></tr>\n",
       "\t<tr><th scope=row>5</th><td>AKT1 - MTOR  </td><td>  1.917500</td><td>  2.069202</td><td> 0</td><td> 3</td></tr>\n",
       "\t<tr><th scope=row>6</th><td>AKT1 - PIK3CA</td><td>-17.336163</td><td>-25.883842</td><td>10</td><td>10</td></tr>\n",
       "</tbody>\n",
       "</table>\n"
      ],
      "text/latex": [
       "A data.frame: 6 × 5\n",
       "\\begin{tabular}{r|lllll}\n",
       "  & id & primary\\_wES & met\\_wES & m\\_count & p\\_count\\\\\n",
       "  & <chr> & <dbl> & <dbl> & <dbl> & <dbl>\\\\\n",
       "\\hline\n",
       "\t1 & AKT1 - CTNNB1 &   2.560476 &   3.431055 &  4 &  2\\\\\n",
       "\t2 & AKT1 - ERBB2  &  -1.722873 &  -3.177890 &  1 &  0\\\\\n",
       "\t3 & AKT1 - GATA3  &   4.569404 &   1.326602 &  0 &  9\\\\\n",
       "\t4 & AKT1 - KRAS   &  -2.076782 &  -4.054555 &  9 &  1\\\\\n",
       "\t5 & AKT1 - MTOR   &   1.917500 &   2.069202 &  0 &  3\\\\\n",
       "\t6 & AKT1 - PIK3CA & -17.336163 & -25.883842 & 10 & 10\\\\\n",
       "\\end{tabular}\n"
      ],
      "text/markdown": [
       "\n",
       "A data.frame: 6 × 5\n",
       "\n",
       "| <!--/--> | id &lt;chr&gt; | primary_wES &lt;dbl&gt; | met_wES &lt;dbl&gt; | m_count &lt;dbl&gt; | p_count &lt;dbl&gt; |\n",
       "|---|---|---|---|---|---|\n",
       "| 1 | AKT1 - CTNNB1 |   2.560476 |   3.431055 |  4 |  2 |\n",
       "| 2 | AKT1 - ERBB2  |  -1.722873 |  -3.177890 |  1 |  0 |\n",
       "| 3 | AKT1 - GATA3  |   4.569404 |   1.326602 |  0 |  9 |\n",
       "| 4 | AKT1 - KRAS   |  -2.076782 |  -4.054555 |  9 |  1 |\n",
       "| 5 | AKT1 - MTOR   |   1.917500 |   2.069202 |  0 |  3 |\n",
       "| 6 | AKT1 - PIK3CA | -17.336163 | -25.883842 | 10 | 10 |\n",
       "\n"
      ],
      "text/plain": [
       "  id            primary_wES met_wES    m_count p_count\n",
       "1 AKT1 - CTNNB1   2.560476    3.431055  4       2     \n",
       "2 AKT1 - ERBB2   -1.722873   -3.177890  1       0     \n",
       "3 AKT1 - GATA3    4.569404    1.326602  0       9     \n",
       "4 AKT1 - KRAS    -2.076782   -4.054555  9       1     \n",
       "5 AKT1 - MTOR     1.917500    2.069202  0       3     \n",
       "6 AKT1 - PIK3CA -17.336163  -25.883842 10      10     "
      ]
     },
     "metadata": {},
     "output_type": "display_data"
    }
   ],
   "source": [
    "head(plot_df)"
   ]
  },
  {
   "cell_type": "code",
   "execution_count": 64,
   "id": "4e3a4809-7d90-4403-bcf1-946c3d4f9de8",
   "metadata": {},
   "outputs": [],
   "source": [
    "diff_FC <- pair_df$diff\n",
    "names(diff_FC)<-pair_df$pairs"
   ]
  },
  {
   "cell_type": "code",
   "execution_count": 65,
   "id": "4f828fb7-cd9c-43c9-97a1-0162b713fba1",
   "metadata": {},
   "outputs": [],
   "source": [
    "FC_actual <- pair_df$actual\n",
    "names(FC_actual)<-pair_df$pairs\n",
    "\n",
    "FC_random <- pair_df$background\n",
    "names(FC_random)<-pair_df$pairs"
   ]
  },
  {
   "cell_type": "code",
   "execution_count": 66,
   "id": "1d620f0a-8a9d-4362-925e-4d969e1fa66f",
   "metadata": {},
   "outputs": [],
   "source": [
    "plot_df<-plot_df %>% mutate(diff=diff_FC[id],'FC_observed'=FC_actual[id],'FC_background'=FC_random[id])"
   ]
  },
  {
   "cell_type": "code",
   "execution_count": 67,
   "id": "43c7ae20-7c7b-4d30-851e-eaab7d970953",
   "metadata": {
    "scrolled": true
   },
   "outputs": [
    {
     "data": {
      "text/html": [
       "<table class=\"dataframe\">\n",
       "<caption>A data.frame: 6 × 8</caption>\n",
       "<thead>\n",
       "\t<tr><th></th><th scope=col>id</th><th scope=col>primary_wES</th><th scope=col>met_wES</th><th scope=col>m_count</th><th scope=col>p_count</th><th scope=col>diff</th><th scope=col>FC_observed</th><th scope=col>FC_background</th></tr>\n",
       "\t<tr><th></th><th scope=col>&lt;chr&gt;</th><th scope=col>&lt;dbl&gt;</th><th scope=col>&lt;dbl&gt;</th><th scope=col>&lt;dbl&gt;</th><th scope=col>&lt;dbl&gt;</th><th scope=col>&lt;dbl&gt;</th><th scope=col>&lt;dbl&gt;</th><th scope=col>&lt;dbl&gt;</th></tr>\n",
       "</thead>\n",
       "<tbody>\n",
       "\t<tr><th scope=row>1</th><td>AKT1 - CTNNB1</td><td>  2.560476</td><td>  3.431055</td><td> 4</td><td> 2</td><td>0.3327727</td><td> 0.4222401</td><td>-0.08946738</td></tr>\n",
       "\t<tr><th scope=row>2</th><td>AKT1 - ERBB2 </td><td> -1.722873</td><td> -3.177890</td><td> 1</td><td> 0</td><td>0.8516716</td><td> 0.8832525</td><td>-0.03158092</td></tr>\n",
       "\t<tr><th scope=row>3</th><td>AKT1 - GATA3 </td><td>  4.569404</td><td>  1.326602</td><td> 0</td><td> 9</td><td>1.4815531</td><td>-1.7842708</td><td> 0.30271776</td></tr>\n",
       "\t<tr><th scope=row>4</th><td>AKT1 - KRAS  </td><td> -2.076782</td><td> -4.054555</td><td> 9</td><td> 1</td><td>0.6998352</td><td> 0.9651935</td><td> 0.26535835</td></tr>\n",
       "\t<tr><th scope=row>5</th><td>AKT1 - MTOR  </td><td>  1.917500</td><td>  2.069202</td><td> 0</td><td> 3</td><td>0.1456525</td><td> 0.1098482</td><td> 0.25550064</td></tr>\n",
       "\t<tr><th scope=row>6</th><td>AKT1 - PIK3CA</td><td>-17.336163</td><td>-25.883842</td><td>10</td><td>10</td><td>0.5609244</td><td> 0.5782672</td><td>-0.01734278</td></tr>\n",
       "</tbody>\n",
       "</table>\n"
      ],
      "text/latex": [
       "A data.frame: 6 × 8\n",
       "\\begin{tabular}{r|llllllll}\n",
       "  & id & primary\\_wES & met\\_wES & m\\_count & p\\_count & diff & FC\\_observed & FC\\_background\\\\\n",
       "  & <chr> & <dbl> & <dbl> & <dbl> & <dbl> & <dbl> & <dbl> & <dbl>\\\\\n",
       "\\hline\n",
       "\t1 & AKT1 - CTNNB1 &   2.560476 &   3.431055 &  4 &  2 & 0.3327727 &  0.4222401 & -0.08946738\\\\\n",
       "\t2 & AKT1 - ERBB2  &  -1.722873 &  -3.177890 &  1 &  0 & 0.8516716 &  0.8832525 & -0.03158092\\\\\n",
       "\t3 & AKT1 - GATA3  &   4.569404 &   1.326602 &  0 &  9 & 1.4815531 & -1.7842708 &  0.30271776\\\\\n",
       "\t4 & AKT1 - KRAS   &  -2.076782 &  -4.054555 &  9 &  1 & 0.6998352 &  0.9651935 &  0.26535835\\\\\n",
       "\t5 & AKT1 - MTOR   &   1.917500 &   2.069202 &  0 &  3 & 0.1456525 &  0.1098482 &  0.25550064\\\\\n",
       "\t6 & AKT1 - PIK3CA & -17.336163 & -25.883842 & 10 & 10 & 0.5609244 &  0.5782672 & -0.01734278\\\\\n",
       "\\end{tabular}\n"
      ],
      "text/markdown": [
       "\n",
       "A data.frame: 6 × 8\n",
       "\n",
       "| <!--/--> | id &lt;chr&gt; | primary_wES &lt;dbl&gt; | met_wES &lt;dbl&gt; | m_count &lt;dbl&gt; | p_count &lt;dbl&gt; | diff &lt;dbl&gt; | FC_observed &lt;dbl&gt; | FC_background &lt;dbl&gt; |\n",
       "|---|---|---|---|---|---|---|---|---|\n",
       "| 1 | AKT1 - CTNNB1 |   2.560476 |   3.431055 |  4 |  2 | 0.3327727 |  0.4222401 | -0.08946738 |\n",
       "| 2 | AKT1 - ERBB2  |  -1.722873 |  -3.177890 |  1 |  0 | 0.8516716 |  0.8832525 | -0.03158092 |\n",
       "| 3 | AKT1 - GATA3  |   4.569404 |   1.326602 |  0 |  9 | 1.4815531 | -1.7842708 |  0.30271776 |\n",
       "| 4 | AKT1 - KRAS   |  -2.076782 |  -4.054555 |  9 |  1 | 0.6998352 |  0.9651935 |  0.26535835 |\n",
       "| 5 | AKT1 - MTOR   |   1.917500 |   2.069202 |  0 |  3 | 0.1456525 |  0.1098482 |  0.25550064 |\n",
       "| 6 | AKT1 - PIK3CA | -17.336163 | -25.883842 | 10 | 10 | 0.5609244 |  0.5782672 | -0.01734278 |\n",
       "\n"
      ],
      "text/plain": [
       "  id            primary_wES met_wES    m_count p_count diff      FC_observed\n",
       "1 AKT1 - CTNNB1   2.560476    3.431055  4       2      0.3327727  0.4222401 \n",
       "2 AKT1 - ERBB2   -1.722873   -3.177890  1       0      0.8516716  0.8832525 \n",
       "3 AKT1 - GATA3    4.569404    1.326602  0       9      1.4815531 -1.7842708 \n",
       "4 AKT1 - KRAS    -2.076782   -4.054555  9       1      0.6998352  0.9651935 \n",
       "5 AKT1 - MTOR     1.917500    2.069202  0       3      0.1456525  0.1098482 \n",
       "6 AKT1 - PIK3CA -17.336163  -25.883842 10      10      0.5609244  0.5782672 \n",
       "  FC_background\n",
       "1 -0.08946738  \n",
       "2 -0.03158092  \n",
       "3  0.30271776  \n",
       "4  0.26535835  \n",
       "5  0.25550064  \n",
       "6 -0.01734278  "
      ]
     },
     "metadata": {},
     "output_type": "display_data"
    }
   ],
   "source": [
    "head(plot_df)"
   ]
  },
  {
   "cell_type": "code",
   "execution_count": 68,
   "id": "1970ab06-5a78-4d25-a4f3-0cef2edc3ad5",
   "metadata": {
    "scrolled": true
   },
   "outputs": [],
   "source": [
    "# Distance Metric\n",
    "plot_df<-plot_df %>% mutate(distance_observed = (met_wES-primary_wES)*(1/sqrt(2))) %>% arrange(desc(abs(distance_observed)))"
   ]
  },
  {
   "cell_type": "code",
   "execution_count": 69,
   "id": "dc3a96fc-fb50-4d3c-afc7-f44342137b27",
   "metadata": {},
   "outputs": [
    {
     "data": {
      "text/html": [
       "<table class=\"dataframe\">\n",
       "<caption>A data.frame: 6 × 9</caption>\n",
       "<thead>\n",
       "\t<tr><th></th><th scope=col>id</th><th scope=col>primary_wES</th><th scope=col>met_wES</th><th scope=col>m_count</th><th scope=col>p_count</th><th scope=col>diff</th><th scope=col>FC_observed</th><th scope=col>FC_background</th><th scope=col>distance_observed</th></tr>\n",
       "\t<tr><th></th><th scope=col>&lt;chr&gt;</th><th scope=col>&lt;dbl&gt;</th><th scope=col>&lt;dbl&gt;</th><th scope=col>&lt;dbl&gt;</th><th scope=col>&lt;dbl&gt;</th><th scope=col>&lt;dbl&gt;</th><th scope=col>&lt;dbl&gt;</th><th scope=col>&lt;dbl&gt;</th><th scope=col>&lt;dbl&gt;</th></tr>\n",
       "</thead>\n",
       "<tbody>\n",
       "\t<tr><th scope=row>1</th><td>ESR1 - TP53   </td><td>  -5.611450</td><td> -42.251919</td><td>10</td><td>10</td><td>2.8805392</td><td> 2.9125714</td><td>-0.032032182</td><td>-25.908724</td></tr>\n",
       "\t<tr><th scope=row>2</th><td>EGFR - TP53   </td><td>  -9.544392</td><td>  15.431348</td><td>10</td><td> 8</td><td>0.3846001</td><td> 0.6931388</td><td> 0.308538701</td><td> 17.660515</td></tr>\n",
       "\t<tr><th scope=row>3</th><td>GATA3 - PIK3CA</td><td>  -3.056907</td><td> -24.611199</td><td>10</td><td> 1</td><td>2.7249020</td><td> 3.0091706</td><td>-0.284268551</td><td>-15.241186</td></tr>\n",
       "\t<tr><th scope=row>4</th><td>PIK3CA - TP53 </td><td>-119.710968</td><td>-103.943677</td><td>10</td><td>10</td><td>0.2000666</td><td>-0.2037533</td><td>-0.003686738</td><td> 11.149158</td></tr>\n",
       "\t<tr><th scope=row>5</th><td>EGFR - RBM10  </td><td>   7.429290</td><td>  -4.939398</td><td> 6</td><td>10</td><td>0.4175098</td><td>-0.5888893</td><td> 1.006399020</td><td> -8.745983</td></tr>\n",
       "\t<tr><th scope=row>6</th><td>CBFB - PIK3CA </td><td>  11.100302</td><td>  -1.072184</td><td> 0</td><td>10</td><td>3.2172097</td><td>-3.3719744</td><td> 0.154764709</td><td> -8.607247</td></tr>\n",
       "</tbody>\n",
       "</table>\n"
      ],
      "text/latex": [
       "A data.frame: 6 × 9\n",
       "\\begin{tabular}{r|lllllllll}\n",
       "  & id & primary\\_wES & met\\_wES & m\\_count & p\\_count & diff & FC\\_observed & FC\\_background & distance\\_observed\\\\\n",
       "  & <chr> & <dbl> & <dbl> & <dbl> & <dbl> & <dbl> & <dbl> & <dbl> & <dbl>\\\\\n",
       "\\hline\n",
       "\t1 & ESR1 - TP53    &   -5.611450 &  -42.251919 & 10 & 10 & 2.8805392 &  2.9125714 & -0.032032182 & -25.908724\\\\\n",
       "\t2 & EGFR - TP53    &   -9.544392 &   15.431348 & 10 &  8 & 0.3846001 &  0.6931388 &  0.308538701 &  17.660515\\\\\n",
       "\t3 & GATA3 - PIK3CA &   -3.056907 &  -24.611199 & 10 &  1 & 2.7249020 &  3.0091706 & -0.284268551 & -15.241186\\\\\n",
       "\t4 & PIK3CA - TP53  & -119.710968 & -103.943677 & 10 & 10 & 0.2000666 & -0.2037533 & -0.003686738 &  11.149158\\\\\n",
       "\t5 & EGFR - RBM10   &    7.429290 &   -4.939398 &  6 & 10 & 0.4175098 & -0.5888893 &  1.006399020 &  -8.745983\\\\\n",
       "\t6 & CBFB - PIK3CA  &   11.100302 &   -1.072184 &  0 & 10 & 3.2172097 & -3.3719744 &  0.154764709 &  -8.607247\\\\\n",
       "\\end{tabular}\n"
      ],
      "text/markdown": [
       "\n",
       "A data.frame: 6 × 9\n",
       "\n",
       "| <!--/--> | id &lt;chr&gt; | primary_wES &lt;dbl&gt; | met_wES &lt;dbl&gt; | m_count &lt;dbl&gt; | p_count &lt;dbl&gt; | diff &lt;dbl&gt; | FC_observed &lt;dbl&gt; | FC_background &lt;dbl&gt; | distance_observed &lt;dbl&gt; |\n",
       "|---|---|---|---|---|---|---|---|---|---|\n",
       "| 1 | ESR1 - TP53    |   -5.611450 |  -42.251919 | 10 | 10 | 2.8805392 |  2.9125714 | -0.032032182 | -25.908724 |\n",
       "| 2 | EGFR - TP53    |   -9.544392 |   15.431348 | 10 |  8 | 0.3846001 |  0.6931388 |  0.308538701 |  17.660515 |\n",
       "| 3 | GATA3 - PIK3CA |   -3.056907 |  -24.611199 | 10 |  1 | 2.7249020 |  3.0091706 | -0.284268551 | -15.241186 |\n",
       "| 4 | PIK3CA - TP53  | -119.710968 | -103.943677 | 10 | 10 | 0.2000666 | -0.2037533 | -0.003686738 |  11.149158 |\n",
       "| 5 | EGFR - RBM10   |    7.429290 |   -4.939398 |  6 | 10 | 0.4175098 | -0.5888893 |  1.006399020 |  -8.745983 |\n",
       "| 6 | CBFB - PIK3CA  |   11.100302 |   -1.072184 |  0 | 10 | 3.2172097 | -3.3719744 |  0.154764709 |  -8.607247 |\n",
       "\n"
      ],
      "text/plain": [
       "  id             primary_wES met_wES     m_count p_count diff      FC_observed\n",
       "1 ESR1 - TP53      -5.611450  -42.251919 10      10      2.8805392  2.9125714 \n",
       "2 EGFR - TP53      -9.544392   15.431348 10       8      0.3846001  0.6931388 \n",
       "3 GATA3 - PIK3CA   -3.056907  -24.611199 10       1      2.7249020  3.0091706 \n",
       "4 PIK3CA - TP53  -119.710968 -103.943677 10      10      0.2000666 -0.2037533 \n",
       "5 EGFR - RBM10      7.429290   -4.939398  6      10      0.4175098 -0.5888893 \n",
       "6 CBFB - PIK3CA    11.100302   -1.072184  0      10      3.2172097 -3.3719744 \n",
       "  FC_background distance_observed\n",
       "1 -0.032032182  -25.908724       \n",
       "2  0.308538701   17.660515       \n",
       "3 -0.284268551  -15.241186       \n",
       "4 -0.003686738   11.149158       \n",
       "5  1.006399020   -8.745983       \n",
       "6  0.154764709   -8.607247       "
      ]
     },
     "metadata": {},
     "output_type": "display_data"
    }
   ],
   "source": [
    "head(plot_df)"
   ]
  },
  {
   "cell_type": "markdown",
   "id": "36be5eb4-d797-40d8-9213-b0e5b88f8d82",
   "metadata": {},
   "source": [
    "# Distane Cutoff selection : TODO to be added\n",
    "- Category of hits.\n",
    "    - PM_enriched: Hits greater than cutoff\n",
    "    - M_enriched: m_count>=6 & p_count<3\n",
    "    - P_enriched: p_count>=6 & m_count<3\n",
    "    - PM_switch:  p_count>=6 & m_count>=6 & sign(met_wES*primary_wES)==-1"
   ]
  },
  {
   "cell_type": "code",
   "execution_count": null,
   "id": "be5017dc-6ef2-4adf-b8b4-ee23c1c7778e",
   "metadata": {},
   "outputs": [],
   "source": [
    "saveRDS(plot_df,file='../results/msk_p_m_fold_change_data_frame.rds')"
   ]
  }
 ],
 "metadata": {
  "kernelspec": {
   "display_name": "R",
   "language": "R",
   "name": "ir"
  },
  "language_info": {
   "codemirror_mode": "r",
   "file_extension": ".r",
   "mimetype": "text/x-r-source",
   "name": "R",
   "pygments_lexer": "r",
   "version": "4.3.2"
  }
 },
 "nbformat": 4,
 "nbformat_minor": 5
}
