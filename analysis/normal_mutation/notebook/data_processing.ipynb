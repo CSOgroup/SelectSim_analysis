{
 "cells": [
  {
   "cell_type": "code",
   "execution_count": 1,
   "id": "eb5f5d8b-423b-4e22-805a-03699bd6a8ca",
   "metadata": {
    "scrolled": true
   },
   "outputs": [
    {
     "name": "stderr",
     "output_type": "stream",
     "text": [
      "── \u001b[1mAttaching core tidyverse packages\u001b[22m ───────────────────────────────────────────────────────────────────────────────────────────────────────────────────────────────────── tidyverse 2.0.0 ──\n",
      "\u001b[32m✔\u001b[39m \u001b[34mdplyr    \u001b[39m 1.1.4     \u001b[32m✔\u001b[39m \u001b[34mreadr    \u001b[39m 2.1.5\n",
      "\u001b[32m✔\u001b[39m \u001b[34mforcats  \u001b[39m 1.0.0     \u001b[32m✔\u001b[39m \u001b[34mstringr  \u001b[39m 1.5.1\n",
      "\u001b[32m✔\u001b[39m \u001b[34mggplot2  \u001b[39m 3.4.4     \u001b[32m✔\u001b[39m \u001b[34mtibble   \u001b[39m 3.2.1\n",
      "\u001b[32m✔\u001b[39m \u001b[34mlubridate\u001b[39m 1.9.3     \u001b[32m✔\u001b[39m \u001b[34mtidyr    \u001b[39m 1.3.0\n",
      "\u001b[32m✔\u001b[39m \u001b[34mpurrr    \u001b[39m 1.0.2     \n",
      "── \u001b[1mConflicts\u001b[22m ─────────────────────────────────────────────────────────────────────────────────────────────────────────────────────────────────────────────────────── tidyverse_conflicts() ──\n",
      "\u001b[31m✖\u001b[39m \u001b[34mdplyr\u001b[39m::\u001b[32mfilter()\u001b[39m masks \u001b[34mstats\u001b[39m::filter()\n",
      "\u001b[31m✖\u001b[39m \u001b[34mdplyr\u001b[39m::\u001b[32mlag()\u001b[39m    masks \u001b[34mstats\u001b[39m::lag()\n",
      "\u001b[36mℹ\u001b[39m Use the conflicted package (\u001b[3m\u001b[34m<http://conflicted.r-lib.org/>\u001b[39m\u001b[23m) to force all conflicts to become errors\n"
     ]
    }
   ],
   "source": [
    "library('SelectSim')\n",
    "library('tidyverse')\n",
    "library('tictoc')"
   ]
  },
  {
   "cell_type": "code",
   "execution_count": 2,
   "id": "b035932a-4fe8-4a10-8c6a-58dc8d81980c",
   "metadata": {
    "scrolled": true
   },
   "outputs": [
    {
     "data": {
      "text/plain": [
       "R version 4.3.2 (2023-10-31)\n",
       "Platform: x86_64-conda-linux-gnu (64-bit)\n",
       "Running under: CentOS Linux 7 (Core)\n",
       "\n",
       "Matrix products: default\n",
       "BLAS/LAPACK: /mnt/ndata/arvind/envs/R_4/lib/libopenblasp-r0.3.25.so;  LAPACK version 3.11.0\n",
       "\n",
       "locale:\n",
       " [1] LC_CTYPE=en_US.UTF-8       LC_NUMERIC=C              \n",
       " [3] LC_TIME=en_US.UTF-8        LC_COLLATE=en_US.UTF-8    \n",
       " [5] LC_MONETARY=en_US.UTF-8    LC_MESSAGES=en_US.UTF-8   \n",
       " [7] LC_PAPER=en_US.UTF-8       LC_NAME=C                 \n",
       " [9] LC_ADDRESS=C               LC_TELEPHONE=C            \n",
       "[11] LC_MEASUREMENT=en_US.UTF-8 LC_IDENTIFICATION=C       \n",
       "\n",
       "time zone: Europe/Zurich\n",
       "tzcode source: system (glibc)\n",
       "\n",
       "attached base packages:\n",
       "[1] stats     graphics  grDevices utils     datasets  methods   base     \n",
       "\n",
       "other attached packages:\n",
       " [1] tictoc_1.2        lubridate_1.9.3   forcats_1.0.0     stringr_1.5.1    \n",
       " [5] dplyr_1.1.4       purrr_1.0.2       readr_2.1.5       tidyr_1.3.0      \n",
       " [9] tibble_3.2.1      ggplot2_3.4.4     tidyverse_2.0.0   SelectSim_0.0.1.3\n",
       "\n",
       "loaded via a namespace (and not attached):\n",
       " [1] gtable_0.3.4       rstatix_0.7.2      lattice_0.22-5     tzdb_0.4.0        \n",
       " [5] vctrs_0.6.5        tools_4.3.2        generics_0.1.3     parallel_4.3.2    \n",
       " [9] fansi_1.0.6        pkgconfig_2.0.3    Matrix_1.6-5       ggridges_0.5.5    \n",
       "[13] rngtools_1.5.2     RcppParallel_5.1.6 uuid_1.2-0         lifecycle_1.0.4   \n",
       "[17] compiler_4.3.2     munsell_0.5.0      repr_1.1.6         codetools_0.2-19  \n",
       "[21] carData_3.0-5      htmltools_0.5.7    pillar_1.9.0       car_3.1-2         \n",
       "[25] ggpubr_0.6.0       crayon_1.5.2       doRNG_1.8.6        iterators_1.0.14  \n",
       "[29] abind_1.4-5        foreach_1.5.2      tidyselect_1.2.0   digest_0.6.34     \n",
       "[33] stringi_1.8.3      reshape2_1.4.4     fastmap_1.1.1      grid_4.3.2        \n",
       "[37] colorspace_2.1-0   cli_3.6.2          magrittr_2.0.3     base64enc_0.1-3   \n",
       "[41] Rfast_2.1.0        utf8_1.2.4         IRdisplay_1.1      broom_1.0.5       \n",
       "[45] withr_3.0.0        scales_1.3.0       backports_1.4.1    IRkernel_1.3.2    \n",
       "[49] RcppZiggurat_0.1.6 timechange_0.3.0   pbdZMQ_0.3-11      ggsignif_0.6.4    \n",
       "[53] hms_1.1.3          evaluate_0.23      doParallel_1.0.17  rlang_1.1.3       \n",
       "[57] Rcpp_1.0.12        glue_1.7.0         jsonlite_1.8.8     R6_2.5.1          \n",
       "[61] plyr_1.8.9        "
      ]
     },
     "metadata": {},
     "output_type": "display_data"
    }
   ],
   "source": [
    "sessionInfo()"
   ]
  },
  {
   "cell_type": "markdown",
   "id": "2c56d2b9-14eb-45a5-8ff7-545ef6d3d269",
   "metadata": {},
   "source": [
    "# Metdata\n",
    "- Provide supplementary data from the paper (https://doi.org/10.1126/science.aba7300)"
   ]
  },
  {
   "cell_type": "markdown",
   "id": "0c5b0108-e107-4adb-ae12-ce0db582db21",
   "metadata": {},
   "source": [
    "# Normal MNU sample processing"
   ]
  },
  {
   "cell_type": "code",
   "execution_count": 3,
   "id": "3c72d05e-7a31-4f6b-b477-33545c530d00",
   "metadata": {},
   "outputs": [],
   "source": [
    "all_maf<-readRDS(file='/mnt/ndata/arvind/co_mutation_project/analysis/normal_mutation/data/li_normal_vep_annotated_maf_file_supplemenatry.rds')"
   ]
  },
  {
   "cell_type": "code",
   "execution_count": 4,
   "id": "bf9791ba-4dcb-4c1f-bb70-860d2fd84059",
   "metadata": {
    "scrolled": true
   },
   "outputs": [],
   "source": [
    "input_maf <- all_maf"
   ]
  },
  {
   "cell_type": "code",
   "execution_count": 5,
   "id": "de46a401-1c03-49c3-9494-fbc6d43a133b",
   "metadata": {},
   "outputs": [],
   "source": [
    "input_maf$sample<-all_maf$Sample"
   ]
  },
  {
   "cell_type": "code",
   "execution_count": 6,
   "id": "87d1fc81-2b92-4d3d-897c-24c22393a41f",
   "metadata": {},
   "outputs": [
    {
     "data": {
      "text/html": [
       "<table class=\"dataframe\">\n",
       "<caption>A data.frame: 6 × 10</caption>\n",
       "<thead>\n",
       "\t<tr><th></th><th scope=col>Variant</th><th scope=col>Gene</th><th scope=col>Protein</th><th scope=col>HGSvp_short</th><th scope=col>Chr</th><th scope=col>Pos</th><th scope=col>Ref</th><th scope=col>Alt</th><th scope=col>Sample</th><th scope=col>sample</th></tr>\n",
       "\t<tr><th></th><th scope=col>&lt;chr&gt;</th><th scope=col>&lt;chr&gt;</th><th scope=col>&lt;chr&gt;</th><th scope=col>&lt;chr&gt;</th><th scope=col>&lt;chr&gt;</th><th scope=col>&lt;chr&gt;</th><th scope=col>&lt;chr&gt;</th><th scope=col>&lt;chr&gt;</th><th scope=col>&lt;chr&gt;</th><th scope=col>&lt;chr&gt;</th></tr>\n",
       "</thead>\n",
       "<tbody>\n",
       "\t<tr><th scope=row>1</th><td>SPLICE_SITE_DONOR    </td><td>SAMD11</td><td>SAMD11</td><td>NA  </td><td>1</td><td>878759</td><td>T</td><td>G</td><td>P91U</td><td>P91U</td></tr>\n",
       "\t<tr><th scope=row>2</th><td>SPLICE_SITE_DONOR    </td><td>NOC2L </td><td>SAMD11</td><td>NA  </td><td>1</td><td>878759</td><td>T</td><td>G</td><td>P91U</td><td>P91U</td></tr>\n",
       "\t<tr><th scope=row>3</th><td>SYNONYMOUS_CODING    </td><td>SAMD11</td><td>SAMD11</td><td>A602</td><td>1</td><td>879293</td><td>C</td><td>G</td><td>P43U</td><td>P43U</td></tr>\n",
       "\t<tr><th scope=row>4</th><td>SYNONYMOUS_CODING    </td><td>NOC2L </td><td>SAMD11</td><td>A   </td><td>1</td><td>879293</td><td>C</td><td>G</td><td>P43U</td><td>P43U</td></tr>\n",
       "\t<tr><th scope=row>5</th><td>NON_SYNONYMOUS_CODING</td><td>NOC2L </td><td>NOC2L </td><td>R455</td><td>1</td><td>886586</td><td>C</td><td>T</td><td>P65U</td><td>P65U</td></tr>\n",
       "\t<tr><th scope=row>6</th><td>SYNONYMOUS_CODING    </td><td>NOC2L </td><td>NOC2L </td><td>S348</td><td>1</td><td>887939</td><td>C</td><td>A</td><td>P22U</td><td>P22U</td></tr>\n",
       "</tbody>\n",
       "</table>\n"
      ],
      "text/latex": [
       "A data.frame: 6 × 10\n",
       "\\begin{tabular}{r|llllllllll}\n",
       "  & Variant & Gene & Protein & HGSvp\\_short & Chr & Pos & Ref & Alt & Sample & sample\\\\\n",
       "  & <chr> & <chr> & <chr> & <chr> & <chr> & <chr> & <chr> & <chr> & <chr> & <chr>\\\\\n",
       "\\hline\n",
       "\t1 & SPLICE\\_SITE\\_DONOR     & SAMD11 & SAMD11 & NA   & 1 & 878759 & T & G & P91U & P91U\\\\\n",
       "\t2 & SPLICE\\_SITE\\_DONOR     & NOC2L  & SAMD11 & NA   & 1 & 878759 & T & G & P91U & P91U\\\\\n",
       "\t3 & SYNONYMOUS\\_CODING     & SAMD11 & SAMD11 & A602 & 1 & 879293 & C & G & P43U & P43U\\\\\n",
       "\t4 & SYNONYMOUS\\_CODING     & NOC2L  & SAMD11 & A    & 1 & 879293 & C & G & P43U & P43U\\\\\n",
       "\t5 & NON\\_SYNONYMOUS\\_CODING & NOC2L  & NOC2L  & R455 & 1 & 886586 & C & T & P65U & P65U\\\\\n",
       "\t6 & SYNONYMOUS\\_CODING     & NOC2L  & NOC2L  & S348 & 1 & 887939 & C & A & P22U & P22U\\\\\n",
       "\\end{tabular}\n"
      ],
      "text/markdown": [
       "\n",
       "A data.frame: 6 × 10\n",
       "\n",
       "| <!--/--> | Variant &lt;chr&gt; | Gene &lt;chr&gt; | Protein &lt;chr&gt; | HGSvp_short &lt;chr&gt; | Chr &lt;chr&gt; | Pos &lt;chr&gt; | Ref &lt;chr&gt; | Alt &lt;chr&gt; | Sample &lt;chr&gt; | sample &lt;chr&gt; |\n",
       "|---|---|---|---|---|---|---|---|---|---|---|\n",
       "| 1 | SPLICE_SITE_DONOR     | SAMD11 | SAMD11 | NA   | 1 | 878759 | T | G | P91U | P91U |\n",
       "| 2 | SPLICE_SITE_DONOR     | NOC2L  | SAMD11 | NA   | 1 | 878759 | T | G | P91U | P91U |\n",
       "| 3 | SYNONYMOUS_CODING     | SAMD11 | SAMD11 | A602 | 1 | 879293 | C | G | P43U | P43U |\n",
       "| 4 | SYNONYMOUS_CODING     | NOC2L  | SAMD11 | A    | 1 | 879293 | C | G | P43U | P43U |\n",
       "| 5 | NON_SYNONYMOUS_CODING | NOC2L  | NOC2L  | R455 | 1 | 886586 | C | T | P65U | P65U |\n",
       "| 6 | SYNONYMOUS_CODING     | NOC2L  | NOC2L  | S348 | 1 | 887939 | C | A | P22U | P22U |\n",
       "\n"
      ],
      "text/plain": [
       "  Variant               Gene   Protein HGSvp_short Chr Pos    Ref Alt Sample\n",
       "1 SPLICE_SITE_DONOR     SAMD11 SAMD11  NA          1   878759 T   G   P91U  \n",
       "2 SPLICE_SITE_DONOR     NOC2L  SAMD11  NA          1   878759 T   G   P91U  \n",
       "3 SYNONYMOUS_CODING     SAMD11 SAMD11  A602        1   879293 C   G   P43U  \n",
       "4 SYNONYMOUS_CODING     NOC2L  SAMD11  A           1   879293 C   G   P43U  \n",
       "5 NON_SYNONYMOUS_CODING NOC2L  NOC2L   R455        1   886586 C   T   P65U  \n",
       "6 SYNONYMOUS_CODING     NOC2L  NOC2L   S348        1   887939 C   A   P22U  \n",
       "  sample\n",
       "1 P91U  \n",
       "2 P91U  \n",
       "3 P43U  \n",
       "4 P43U  \n",
       "5 P65U  \n",
       "6 P22U  "
      ]
     },
     "metadata": {},
     "output_type": "display_data"
    }
   ],
   "source": [
    "head(input_maf)"
   ]
  },
  {
   "cell_type": "code",
   "execution_count": 7,
   "id": "50244524-db85-40db-867b-fddc2d52245f",
   "metadata": {},
   "outputs": [
    {
     "name": "stdout",
     "output_type": "stream",
     "text": [
      "[1] \"##### Number of lines ####->52467\"\n",
      "[1] \"##### Number of genes ####->396\"\n"
     ]
    }
   ],
   "source": [
    "print(paste('##### Number of lines ####',nrow(input_maf),sep=\"->\"))\n",
    "genes_to_consider =  oncokb_genes\n",
    "print(paste('##### Number of genes ####',length(genes_to_consider),sep=\"->\"))"
   ]
  },
  {
   "cell_type": "code",
   "execution_count": 8,
   "id": "bd98a192-cd10-45ea-b583-485be385d7ac",
   "metadata": {},
   "outputs": [
    {
     "data": {
      "text/html": [
       "<style>\n",
       ".list-inline {list-style: none; margin:0; padding: 0}\n",
       ".list-inline>li {display: inline-block}\n",
       ".list-inline>li:not(:last-child)::after {content: \"\\00b7\"; padding: 0 .5ex}\n",
       "</style>\n",
       "<ol class=list-inline><li>'P91U'</li><li>'P43U'</li><li>'P65U'</li><li>'P22U'</li><li>'P6U1'</li><li>'P15U'</li><li>'P16U'</li><li>'P6U5'</li><li>'P6U2'</li><li>'P51U'</li><li>'P4U2'</li><li>'P80U'</li><li>'P3U3'</li><li>'P3U5'</li><li>'P4U1'</li><li>'P3U6'</li><li>'P4U4'</li><li>'P62U'</li><li>'P63U'</li><li>'ZS39U'</li><li>'ZS45U'</li><li>'P6U6'</li><li>'P20U'</li><li>'P35U'</li><li>'P89U'</li><li>'P21U'</li><li>'ZS19U'</li><li>'P7U3'</li><li>'P7U1'</li><li>'P7U2'</li><li>'P7U4'</li><li>'P7U5'</li><li>'P7U6'</li><li>'ZS56U'</li><li>'P8U4'</li><li>'P44U'</li><li>'P70U'</li><li>'ZS27U'</li><li>'ZS47U'</li><li>'ZS23U'</li><li>'P9U1'</li><li>'P9U2'</li><li>'P83U'</li><li>'ZS2U'</li><li>'P47U'</li><li>'ZS50U'</li><li>'P25U'</li><li>'P9U5'</li><li>'P3U7'</li><li>'P3U2'</li><li>'ZS4U'</li><li>'P26U'</li><li>'ZS25U'</li><li>'P54U'</li><li>'P94U'</li><li>'P8U2'</li><li>'P5U2'</li><li>'ZS28U'</li><li>'P97U'</li><li>'ZS3U'</li><li>'P10U4'</li><li>'P1U3'</li><li>'P1U6'</li><li>'ZS57U'</li><li>'P9U6'</li><li>'P1U1'</li><li>'P8U6'</li><li>'P36U'</li><li>'P74U'</li><li>'P40U'</li><li>'P1U7'</li><li>'P8U3'</li><li>'P14U2'</li><li>'P31U'</li><li>'P34U'</li><li>'ZS24U'</li><li>'P87U'</li><li>'P50U'</li><li>'P68U'</li><li>'P82U'</li><li>'P49U'</li><li>'P85U'</li><li>'P67U'</li><li>'P8U1'</li><li>'P11U'</li><li>'P1U5'</li><li>'P32U'</li><li>'P93U'</li><li>'P59U'</li><li>'P45U'</li><li>'P71U5'</li><li>'P1U8'</li><li>'ZS49U'</li><li>'ZS43U'</li><li>'ZS52U'</li><li>'P38U'</li><li>'P52U'</li><li>'P8U5'</li><li>'P53U'</li><li>'ZS54U'</li><li>'P3U1'</li><li>'P58U'</li><li>'P60U'</li><li>'P14U1'</li><li>'ZS33U'</li><li>'P33U'</li><li>'ZS31U'</li><li>'P81U'</li><li>'P12U'</li><li>'ZS35U'</li><li>'P56U'</li><li>'ZS42U'</li><li>'P69U'</li><li>'P55U'</li><li>'P30U'</li><li>'P39U'</li><li>'P1U2'</li><li>'P10U2'</li><li>'P61U'</li><li>'ZS20U'</li><li>'ZS8U'</li><li>'P9U4'</li><li>'P5U3'</li><li>'P41U'</li><li>'P66U'</li><li>'ZS46U'</li><li>'P71U2'</li><li>'P5U8'</li><li>'P46U'</li><li>'P23U'</li><li>'P48U'</li><li>'P1U4'</li><li>'P92U'</li><li>'P28U'</li><li>'P5U5'</li><li>'ZS21U'</li><li>'P19U'</li><li>'ZS41U'</li><li>'P90U'</li><li>'P64U'</li><li>'P29U'</li><li>'P10U5'</li><li>'ZS32U'</li><li>'P27U'</li><li>'P42U'</li><li>'ZS48U'</li><li>'P71U3'</li><li>'ZS55U'</li><li>'P9U3'</li><li>'P5U1'</li><li>'P5U6'</li><li>'P71U4'</li><li>'P14U6'</li><li>'P5U7'</li><li>'P37U'</li><li>'P17U'</li><li>'P18U'</li><li>'P24U'</li><li>'P10'</li><li>'P11'</li><li>'P13'</li><li>'P15'</li><li>'P17'</li><li>'P19'</li><li>'P20'</li><li>'P21'</li><li>'P22'</li><li>'P23'</li><li>'P24'</li><li>'P26'</li><li>'P27'</li><li>'P28'</li><li>'P29'</li><li>'P31'</li><li>'P34'</li><li>'P37'</li><li>'P38'</li><li>'P4'</li><li>'P41'</li><li>'P42'</li><li>'P43'</li><li>'P44'</li><li>'P45'</li><li>'P46'</li><li>'P48'</li><li>'P49'</li><li>'P5'</li><li>'P50'</li><li>'P51'</li><li>'P52'</li><li>'P53'</li><li>'P54'</li><li>'P55'</li><li>'P56'</li><li>'P57'</li><li>'P58'</li><li>'P59'</li><li>'P6'</li><li>'P60'</li><li>'P61'</li><li>'P62'</li><li>'P63'</li><li>'P64'</li><li>'P65'</li><li>'P67'</li><li>'P68'</li><li>'P70'</li><li>'P71'</li><li>'P73'</li><li>'P74'</li><li>'P8'</li><li>'P80'</li><li>'P81'</li><li>'P82'</li><li>'P83'</li><li>'P84'</li><li>'P85'</li><li>'P86'</li><li>'P89'</li><li>'P9'</li><li>'P90'</li><li>'P91'</li><li>'P92'</li><li>'P93'</li><li>'P94'</li><li>'P95'</li><li>'P97'</li><li>'ZS19'</li><li>'ZS2'</li><li>'ZS23'</li><li>'ZS24'</li><li>'ZS25'</li><li>'ZS27'</li><li>'ZS28'</li><li>'ZS31'</li><li>'ZS32'</li><li>'ZS33'</li><li>'ZS35'</li><li>'ZS4'</li><li>'ZS41'</li><li>'ZS42'</li><li>'ZS45'</li><li>'ZS46'</li><li>'ZS47'</li><li>'ZS48'</li><li>'ZS49'</li><li>'ZS54'</li><li>'ZS55'</li><li>'ZS56'</li><li>'ZS57'</li></ol>\n"
      ],
      "text/latex": [
       "\\begin{enumerate*}\n",
       "\\item 'P91U'\n",
       "\\item 'P43U'\n",
       "\\item 'P65U'\n",
       "\\item 'P22U'\n",
       "\\item 'P6U1'\n",
       "\\item 'P15U'\n",
       "\\item 'P16U'\n",
       "\\item 'P6U5'\n",
       "\\item 'P6U2'\n",
       "\\item 'P51U'\n",
       "\\item 'P4U2'\n",
       "\\item 'P80U'\n",
       "\\item 'P3U3'\n",
       "\\item 'P3U5'\n",
       "\\item 'P4U1'\n",
       "\\item 'P3U6'\n",
       "\\item 'P4U4'\n",
       "\\item 'P62U'\n",
       "\\item 'P63U'\n",
       "\\item 'ZS39U'\n",
       "\\item 'ZS45U'\n",
       "\\item 'P6U6'\n",
       "\\item 'P20U'\n",
       "\\item 'P35U'\n",
       "\\item 'P89U'\n",
       "\\item 'P21U'\n",
       "\\item 'ZS19U'\n",
       "\\item 'P7U3'\n",
       "\\item 'P7U1'\n",
       "\\item 'P7U2'\n",
       "\\item 'P7U4'\n",
       "\\item 'P7U5'\n",
       "\\item 'P7U6'\n",
       "\\item 'ZS56U'\n",
       "\\item 'P8U4'\n",
       "\\item 'P44U'\n",
       "\\item 'P70U'\n",
       "\\item 'ZS27U'\n",
       "\\item 'ZS47U'\n",
       "\\item 'ZS23U'\n",
       "\\item 'P9U1'\n",
       "\\item 'P9U2'\n",
       "\\item 'P83U'\n",
       "\\item 'ZS2U'\n",
       "\\item 'P47U'\n",
       "\\item 'ZS50U'\n",
       "\\item 'P25U'\n",
       "\\item 'P9U5'\n",
       "\\item 'P3U7'\n",
       "\\item 'P3U2'\n",
       "\\item 'ZS4U'\n",
       "\\item 'P26U'\n",
       "\\item 'ZS25U'\n",
       "\\item 'P54U'\n",
       "\\item 'P94U'\n",
       "\\item 'P8U2'\n",
       "\\item 'P5U2'\n",
       "\\item 'ZS28U'\n",
       "\\item 'P97U'\n",
       "\\item 'ZS3U'\n",
       "\\item 'P10U4'\n",
       "\\item 'P1U3'\n",
       "\\item 'P1U6'\n",
       "\\item 'ZS57U'\n",
       "\\item 'P9U6'\n",
       "\\item 'P1U1'\n",
       "\\item 'P8U6'\n",
       "\\item 'P36U'\n",
       "\\item 'P74U'\n",
       "\\item 'P40U'\n",
       "\\item 'P1U7'\n",
       "\\item 'P8U3'\n",
       "\\item 'P14U2'\n",
       "\\item 'P31U'\n",
       "\\item 'P34U'\n",
       "\\item 'ZS24U'\n",
       "\\item 'P87U'\n",
       "\\item 'P50U'\n",
       "\\item 'P68U'\n",
       "\\item 'P82U'\n",
       "\\item 'P49U'\n",
       "\\item 'P85U'\n",
       "\\item 'P67U'\n",
       "\\item 'P8U1'\n",
       "\\item 'P11U'\n",
       "\\item 'P1U5'\n",
       "\\item 'P32U'\n",
       "\\item 'P93U'\n",
       "\\item 'P59U'\n",
       "\\item 'P45U'\n",
       "\\item 'P71U5'\n",
       "\\item 'P1U8'\n",
       "\\item 'ZS49U'\n",
       "\\item 'ZS43U'\n",
       "\\item 'ZS52U'\n",
       "\\item 'P38U'\n",
       "\\item 'P52U'\n",
       "\\item 'P8U5'\n",
       "\\item 'P53U'\n",
       "\\item 'ZS54U'\n",
       "\\item 'P3U1'\n",
       "\\item 'P58U'\n",
       "\\item 'P60U'\n",
       "\\item 'P14U1'\n",
       "\\item 'ZS33U'\n",
       "\\item 'P33U'\n",
       "\\item 'ZS31U'\n",
       "\\item 'P81U'\n",
       "\\item 'P12U'\n",
       "\\item 'ZS35U'\n",
       "\\item 'P56U'\n",
       "\\item 'ZS42U'\n",
       "\\item 'P69U'\n",
       "\\item 'P55U'\n",
       "\\item 'P30U'\n",
       "\\item 'P39U'\n",
       "\\item 'P1U2'\n",
       "\\item 'P10U2'\n",
       "\\item 'P61U'\n",
       "\\item 'ZS20U'\n",
       "\\item 'ZS8U'\n",
       "\\item 'P9U4'\n",
       "\\item 'P5U3'\n",
       "\\item 'P41U'\n",
       "\\item 'P66U'\n",
       "\\item 'ZS46U'\n",
       "\\item 'P71U2'\n",
       "\\item 'P5U8'\n",
       "\\item 'P46U'\n",
       "\\item 'P23U'\n",
       "\\item 'P48U'\n",
       "\\item 'P1U4'\n",
       "\\item 'P92U'\n",
       "\\item 'P28U'\n",
       "\\item 'P5U5'\n",
       "\\item 'ZS21U'\n",
       "\\item 'P19U'\n",
       "\\item 'ZS41U'\n",
       "\\item 'P90U'\n",
       "\\item 'P64U'\n",
       "\\item 'P29U'\n",
       "\\item 'P10U5'\n",
       "\\item 'ZS32U'\n",
       "\\item 'P27U'\n",
       "\\item 'P42U'\n",
       "\\item 'ZS48U'\n",
       "\\item 'P71U3'\n",
       "\\item 'ZS55U'\n",
       "\\item 'P9U3'\n",
       "\\item 'P5U1'\n",
       "\\item 'P5U6'\n",
       "\\item 'P71U4'\n",
       "\\item 'P14U6'\n",
       "\\item 'P5U7'\n",
       "\\item 'P37U'\n",
       "\\item 'P17U'\n",
       "\\item 'P18U'\n",
       "\\item 'P24U'\n",
       "\\item 'P10'\n",
       "\\item 'P11'\n",
       "\\item 'P13'\n",
       "\\item 'P15'\n",
       "\\item 'P17'\n",
       "\\item 'P19'\n",
       "\\item 'P20'\n",
       "\\item 'P21'\n",
       "\\item 'P22'\n",
       "\\item 'P23'\n",
       "\\item 'P24'\n",
       "\\item 'P26'\n",
       "\\item 'P27'\n",
       "\\item 'P28'\n",
       "\\item 'P29'\n",
       "\\item 'P31'\n",
       "\\item 'P34'\n",
       "\\item 'P37'\n",
       "\\item 'P38'\n",
       "\\item 'P4'\n",
       "\\item 'P41'\n",
       "\\item 'P42'\n",
       "\\item 'P43'\n",
       "\\item 'P44'\n",
       "\\item 'P45'\n",
       "\\item 'P46'\n",
       "\\item 'P48'\n",
       "\\item 'P49'\n",
       "\\item 'P5'\n",
       "\\item 'P50'\n",
       "\\item 'P51'\n",
       "\\item 'P52'\n",
       "\\item 'P53'\n",
       "\\item 'P54'\n",
       "\\item 'P55'\n",
       "\\item 'P56'\n",
       "\\item 'P57'\n",
       "\\item 'P58'\n",
       "\\item 'P59'\n",
       "\\item 'P6'\n",
       "\\item 'P60'\n",
       "\\item 'P61'\n",
       "\\item 'P62'\n",
       "\\item 'P63'\n",
       "\\item 'P64'\n",
       "\\item 'P65'\n",
       "\\item 'P67'\n",
       "\\item 'P68'\n",
       "\\item 'P70'\n",
       "\\item 'P71'\n",
       "\\item 'P73'\n",
       "\\item 'P74'\n",
       "\\item 'P8'\n",
       "\\item 'P80'\n",
       "\\item 'P81'\n",
       "\\item 'P82'\n",
       "\\item 'P83'\n",
       "\\item 'P84'\n",
       "\\item 'P85'\n",
       "\\item 'P86'\n",
       "\\item 'P89'\n",
       "\\item 'P9'\n",
       "\\item 'P90'\n",
       "\\item 'P91'\n",
       "\\item 'P92'\n",
       "\\item 'P93'\n",
       "\\item 'P94'\n",
       "\\item 'P95'\n",
       "\\item 'P97'\n",
       "\\item 'ZS19'\n",
       "\\item 'ZS2'\n",
       "\\item 'ZS23'\n",
       "\\item 'ZS24'\n",
       "\\item 'ZS25'\n",
       "\\item 'ZS27'\n",
       "\\item 'ZS28'\n",
       "\\item 'ZS31'\n",
       "\\item 'ZS32'\n",
       "\\item 'ZS33'\n",
       "\\item 'ZS35'\n",
       "\\item 'ZS4'\n",
       "\\item 'ZS41'\n",
       "\\item 'ZS42'\n",
       "\\item 'ZS45'\n",
       "\\item 'ZS46'\n",
       "\\item 'ZS47'\n",
       "\\item 'ZS48'\n",
       "\\item 'ZS49'\n",
       "\\item 'ZS54'\n",
       "\\item 'ZS55'\n",
       "\\item 'ZS56'\n",
       "\\item 'ZS57'\n",
       "\\end{enumerate*}\n"
      ],
      "text/markdown": [
       "1. 'P91U'\n",
       "2. 'P43U'\n",
       "3. 'P65U'\n",
       "4. 'P22U'\n",
       "5. 'P6U1'\n",
       "6. 'P15U'\n",
       "7. 'P16U'\n",
       "8. 'P6U5'\n",
       "9. 'P6U2'\n",
       "10. 'P51U'\n",
       "11. 'P4U2'\n",
       "12. 'P80U'\n",
       "13. 'P3U3'\n",
       "14. 'P3U5'\n",
       "15. 'P4U1'\n",
       "16. 'P3U6'\n",
       "17. 'P4U4'\n",
       "18. 'P62U'\n",
       "19. 'P63U'\n",
       "20. 'ZS39U'\n",
       "21. 'ZS45U'\n",
       "22. 'P6U6'\n",
       "23. 'P20U'\n",
       "24. 'P35U'\n",
       "25. 'P89U'\n",
       "26. 'P21U'\n",
       "27. 'ZS19U'\n",
       "28. 'P7U3'\n",
       "29. 'P7U1'\n",
       "30. 'P7U2'\n",
       "31. 'P7U4'\n",
       "32. 'P7U5'\n",
       "33. 'P7U6'\n",
       "34. 'ZS56U'\n",
       "35. 'P8U4'\n",
       "36. 'P44U'\n",
       "37. 'P70U'\n",
       "38. 'ZS27U'\n",
       "39. 'ZS47U'\n",
       "40. 'ZS23U'\n",
       "41. 'P9U1'\n",
       "42. 'P9U2'\n",
       "43. 'P83U'\n",
       "44. 'ZS2U'\n",
       "45. 'P47U'\n",
       "46. 'ZS50U'\n",
       "47. 'P25U'\n",
       "48. 'P9U5'\n",
       "49. 'P3U7'\n",
       "50. 'P3U2'\n",
       "51. 'ZS4U'\n",
       "52. 'P26U'\n",
       "53. 'ZS25U'\n",
       "54. 'P54U'\n",
       "55. 'P94U'\n",
       "56. 'P8U2'\n",
       "57. 'P5U2'\n",
       "58. 'ZS28U'\n",
       "59. 'P97U'\n",
       "60. 'ZS3U'\n",
       "61. 'P10U4'\n",
       "62. 'P1U3'\n",
       "63. 'P1U6'\n",
       "64. 'ZS57U'\n",
       "65. 'P9U6'\n",
       "66. 'P1U1'\n",
       "67. 'P8U6'\n",
       "68. 'P36U'\n",
       "69. 'P74U'\n",
       "70. 'P40U'\n",
       "71. 'P1U7'\n",
       "72. 'P8U3'\n",
       "73. 'P14U2'\n",
       "74. 'P31U'\n",
       "75. 'P34U'\n",
       "76. 'ZS24U'\n",
       "77. 'P87U'\n",
       "78. 'P50U'\n",
       "79. 'P68U'\n",
       "80. 'P82U'\n",
       "81. 'P49U'\n",
       "82. 'P85U'\n",
       "83. 'P67U'\n",
       "84. 'P8U1'\n",
       "85. 'P11U'\n",
       "86. 'P1U5'\n",
       "87. 'P32U'\n",
       "88. 'P93U'\n",
       "89. 'P59U'\n",
       "90. 'P45U'\n",
       "91. 'P71U5'\n",
       "92. 'P1U8'\n",
       "93. 'ZS49U'\n",
       "94. 'ZS43U'\n",
       "95. 'ZS52U'\n",
       "96. 'P38U'\n",
       "97. 'P52U'\n",
       "98. 'P8U5'\n",
       "99. 'P53U'\n",
       "100. 'ZS54U'\n",
       "101. 'P3U1'\n",
       "102. 'P58U'\n",
       "103. 'P60U'\n",
       "104. 'P14U1'\n",
       "105. 'ZS33U'\n",
       "106. 'P33U'\n",
       "107. 'ZS31U'\n",
       "108. 'P81U'\n",
       "109. 'P12U'\n",
       "110. 'ZS35U'\n",
       "111. 'P56U'\n",
       "112. 'ZS42U'\n",
       "113. 'P69U'\n",
       "114. 'P55U'\n",
       "115. 'P30U'\n",
       "116. 'P39U'\n",
       "117. 'P1U2'\n",
       "118. 'P10U2'\n",
       "119. 'P61U'\n",
       "120. 'ZS20U'\n",
       "121. 'ZS8U'\n",
       "122. 'P9U4'\n",
       "123. 'P5U3'\n",
       "124. 'P41U'\n",
       "125. 'P66U'\n",
       "126. 'ZS46U'\n",
       "127. 'P71U2'\n",
       "128. 'P5U8'\n",
       "129. 'P46U'\n",
       "130. 'P23U'\n",
       "131. 'P48U'\n",
       "132. 'P1U4'\n",
       "133. 'P92U'\n",
       "134. 'P28U'\n",
       "135. 'P5U5'\n",
       "136. 'ZS21U'\n",
       "137. 'P19U'\n",
       "138. 'ZS41U'\n",
       "139. 'P90U'\n",
       "140. 'P64U'\n",
       "141. 'P29U'\n",
       "142. 'P10U5'\n",
       "143. 'ZS32U'\n",
       "144. 'P27U'\n",
       "145. 'P42U'\n",
       "146. 'ZS48U'\n",
       "147. 'P71U3'\n",
       "148. 'ZS55U'\n",
       "149. 'P9U3'\n",
       "150. 'P5U1'\n",
       "151. 'P5U6'\n",
       "152. 'P71U4'\n",
       "153. 'P14U6'\n",
       "154. 'P5U7'\n",
       "155. 'P37U'\n",
       "156. 'P17U'\n",
       "157. 'P18U'\n",
       "158. 'P24U'\n",
       "159. 'P10'\n",
       "160. 'P11'\n",
       "161. 'P13'\n",
       "162. 'P15'\n",
       "163. 'P17'\n",
       "164. 'P19'\n",
       "165. 'P20'\n",
       "166. 'P21'\n",
       "167. 'P22'\n",
       "168. 'P23'\n",
       "169. 'P24'\n",
       "170. 'P26'\n",
       "171. 'P27'\n",
       "172. 'P28'\n",
       "173. 'P29'\n",
       "174. 'P31'\n",
       "175. 'P34'\n",
       "176. 'P37'\n",
       "177. 'P38'\n",
       "178. 'P4'\n",
       "179. 'P41'\n",
       "180. 'P42'\n",
       "181. 'P43'\n",
       "182. 'P44'\n",
       "183. 'P45'\n",
       "184. 'P46'\n",
       "185. 'P48'\n",
       "186. 'P49'\n",
       "187. 'P5'\n",
       "188. 'P50'\n",
       "189. 'P51'\n",
       "190. 'P52'\n",
       "191. 'P53'\n",
       "192. 'P54'\n",
       "193. 'P55'\n",
       "194. 'P56'\n",
       "195. 'P57'\n",
       "196. 'P58'\n",
       "197. 'P59'\n",
       "198. 'P6'\n",
       "199. 'P60'\n",
       "200. 'P61'\n",
       "201. 'P62'\n",
       "202. 'P63'\n",
       "203. 'P64'\n",
       "204. 'P65'\n",
       "205. 'P67'\n",
       "206. 'P68'\n",
       "207. 'P70'\n",
       "208. 'P71'\n",
       "209. 'P73'\n",
       "210. 'P74'\n",
       "211. 'P8'\n",
       "212. 'P80'\n",
       "213. 'P81'\n",
       "214. 'P82'\n",
       "215. 'P83'\n",
       "216. 'P84'\n",
       "217. 'P85'\n",
       "218. 'P86'\n",
       "219. 'P89'\n",
       "220. 'P9'\n",
       "221. 'P90'\n",
       "222. 'P91'\n",
       "223. 'P92'\n",
       "224. 'P93'\n",
       "225. 'P94'\n",
       "226. 'P95'\n",
       "227. 'P97'\n",
       "228. 'ZS19'\n",
       "229. 'ZS2'\n",
       "230. 'ZS23'\n",
       "231. 'ZS24'\n",
       "232. 'ZS25'\n",
       "233. 'ZS27'\n",
       "234. 'ZS28'\n",
       "235. 'ZS31'\n",
       "236. 'ZS32'\n",
       "237. 'ZS33'\n",
       "238. 'ZS35'\n",
       "239. 'ZS4'\n",
       "240. 'ZS41'\n",
       "241. 'ZS42'\n",
       "242. 'ZS45'\n",
       "243. 'ZS46'\n",
       "244. 'ZS47'\n",
       "245. 'ZS48'\n",
       "246. 'ZS49'\n",
       "247. 'ZS54'\n",
       "248. 'ZS55'\n",
       "249. 'ZS56'\n",
       "250. 'ZS57'\n",
       "\n",
       "\n"
      ],
      "text/plain": [
       "  [1] \"P91U\"  \"P43U\"  \"P65U\"  \"P22U\"  \"P6U1\"  \"P15U\"  \"P16U\"  \"P6U5\"  \"P6U2\" \n",
       " [10] \"P51U\"  \"P4U2\"  \"P80U\"  \"P3U3\"  \"P3U5\"  \"P4U1\"  \"P3U6\"  \"P4U4\"  \"P62U\" \n",
       " [19] \"P63U\"  \"ZS39U\" \"ZS45U\" \"P6U6\"  \"P20U\"  \"P35U\"  \"P89U\"  \"P21U\"  \"ZS19U\"\n",
       " [28] \"P7U3\"  \"P7U1\"  \"P7U2\"  \"P7U4\"  \"P7U5\"  \"P7U6\"  \"ZS56U\" \"P8U4\"  \"P44U\" \n",
       " [37] \"P70U\"  \"ZS27U\" \"ZS47U\" \"ZS23U\" \"P9U1\"  \"P9U2\"  \"P83U\"  \"ZS2U\"  \"P47U\" \n",
       " [46] \"ZS50U\" \"P25U\"  \"P9U5\"  \"P3U7\"  \"P3U2\"  \"ZS4U\"  \"P26U\"  \"ZS25U\" \"P54U\" \n",
       " [55] \"P94U\"  \"P8U2\"  \"P5U2\"  \"ZS28U\" \"P97U\"  \"ZS3U\"  \"P10U4\" \"P1U3\"  \"P1U6\" \n",
       " [64] \"ZS57U\" \"P9U6\"  \"P1U1\"  \"P8U6\"  \"P36U\"  \"P74U\"  \"P40U\"  \"P1U7\"  \"P8U3\" \n",
       " [73] \"P14U2\" \"P31U\"  \"P34U\"  \"ZS24U\" \"P87U\"  \"P50U\"  \"P68U\"  \"P82U\"  \"P49U\" \n",
       " [82] \"P85U\"  \"P67U\"  \"P8U1\"  \"P11U\"  \"P1U5\"  \"P32U\"  \"P93U\"  \"P59U\"  \"P45U\" \n",
       " [91] \"P71U5\" \"P1U8\"  \"ZS49U\" \"ZS43U\" \"ZS52U\" \"P38U\"  \"P52U\"  \"P8U5\"  \"P53U\" \n",
       "[100] \"ZS54U\" \"P3U1\"  \"P58U\"  \"P60U\"  \"P14U1\" \"ZS33U\" \"P33U\"  \"ZS31U\" \"P81U\" \n",
       "[109] \"P12U\"  \"ZS35U\" \"P56U\"  \"ZS42U\" \"P69U\"  \"P55U\"  \"P30U\"  \"P39U\"  \"P1U2\" \n",
       "[118] \"P10U2\" \"P61U\"  \"ZS20U\" \"ZS8U\"  \"P9U4\"  \"P5U3\"  \"P41U\"  \"P66U\"  \"ZS46U\"\n",
       "[127] \"P71U2\" \"P5U8\"  \"P46U\"  \"P23U\"  \"P48U\"  \"P1U4\"  \"P92U\"  \"P28U\"  \"P5U5\" \n",
       "[136] \"ZS21U\" \"P19U\"  \"ZS41U\" \"P90U\"  \"P64U\"  \"P29U\"  \"P10U5\" \"ZS32U\" \"P27U\" \n",
       "[145] \"P42U\"  \"ZS48U\" \"P71U3\" \"ZS55U\" \"P9U3\"  \"P5U1\"  \"P5U6\"  \"P71U4\" \"P14U6\"\n",
       "[154] \"P5U7\"  \"P37U\"  \"P17U\"  \"P18U\"  \"P24U\"  \"P10\"   \"P11\"   \"P13\"   \"P15\"  \n",
       "[163] \"P17\"   \"P19\"   \"P20\"   \"P21\"   \"P22\"   \"P23\"   \"P24\"   \"P26\"   \"P27\"  \n",
       "[172] \"P28\"   \"P29\"   \"P31\"   \"P34\"   \"P37\"   \"P38\"   \"P4\"    \"P41\"   \"P42\"  \n",
       "[181] \"P43\"   \"P44\"   \"P45\"   \"P46\"   \"P48\"   \"P49\"   \"P5\"    \"P50\"   \"P51\"  \n",
       "[190] \"P52\"   \"P53\"   \"P54\"   \"P55\"   \"P56\"   \"P57\"   \"P58\"   \"P59\"   \"P6\"   \n",
       "[199] \"P60\"   \"P61\"   \"P62\"   \"P63\"   \"P64\"   \"P65\"   \"P67\"   \"P68\"   \"P70\"  \n",
       "[208] \"P71\"   \"P73\"   \"P74\"   \"P8\"    \"P80\"   \"P81\"   \"P82\"   \"P83\"   \"P84\"  \n",
       "[217] \"P85\"   \"P86\"   \"P89\"   \"P9\"    \"P90\"   \"P91\"   \"P92\"   \"P93\"   \"P94\"  \n",
       "[226] \"P95\"   \"P97\"   \"ZS19\"  \"ZS2\"   \"ZS23\"  \"ZS24\"  \"ZS25\"  \"ZS27\"  \"ZS28\" \n",
       "[235] \"ZS31\"  \"ZS32\"  \"ZS33\"  \"ZS35\"  \"ZS4\"   \"ZS41\"  \"ZS42\"  \"ZS45\"  \"ZS46\" \n",
       "[244] \"ZS47\"  \"ZS48\"  \"ZS49\"  \"ZS54\"  \"ZS55\"  \"ZS56\"  \"ZS57\" "
      ]
     },
     "metadata": {},
     "output_type": "display_data"
    }
   ],
   "source": [
    "unique(input_maf$sample)"
   ]
  },
  {
   "cell_type": "code",
   "execution_count": 9,
   "id": "4bbbebfd-4e74-4608-b939-579f87878fbc",
   "metadata": {},
   "outputs": [],
   "source": [
    "input_maf<-input_maf %>% filter(grepl('U',sample)) "
   ]
  },
  {
   "cell_type": "code",
   "execution_count": 10,
   "id": "9276f6ac-454f-4777-857c-ce0051c00acd",
   "metadata": {
    "scrolled": true
   },
   "outputs": [
    {
     "data": {
      "text/html": [
       "<table class=\"dataframe\">\n",
       "<caption>A data.frame: 9 × 2</caption>\n",
       "<thead>\n",
       "\t<tr><th scope=col>Variant</th><th scope=col>n</th></tr>\n",
       "\t<tr><th scope=col>&lt;chr&gt;</th><th scope=col>&lt;int&gt;</th></tr>\n",
       "</thead>\n",
       "<tbody>\n",
       "\t<tr><td>NON_SYNONYMOUS_CODING</td><td>33800</td></tr>\n",
       "\t<tr><td>NON_SYNONYMOUS_START </td><td>   43</td></tr>\n",
       "\t<tr><td>SPLICE_SITE_ACCEPTOR </td><td> 1541</td></tr>\n",
       "\t<tr><td>SPLICE_SITE_DONOR    </td><td>  273</td></tr>\n",
       "\t<tr><td>START_LOST           </td><td>   51</td></tr>\n",
       "\t<tr><td>STOP_GAINED          </td><td> 3624</td></tr>\n",
       "\t<tr><td>STOP_LOST            </td><td>  118</td></tr>\n",
       "\t<tr><td>SYNONYMOUS_CODING    </td><td>12191</td></tr>\n",
       "\t<tr><td>SYNONYMOUS_STOP      </td><td>   15</td></tr>\n",
       "</tbody>\n",
       "</table>\n"
      ],
      "text/latex": [
       "A data.frame: 9 × 2\n",
       "\\begin{tabular}{ll}\n",
       " Variant & n\\\\\n",
       " <chr> & <int>\\\\\n",
       "\\hline\n",
       "\t NON\\_SYNONYMOUS\\_CODING & 33800\\\\\n",
       "\t NON\\_SYNONYMOUS\\_START  &    43\\\\\n",
       "\t SPLICE\\_SITE\\_ACCEPTOR  &  1541\\\\\n",
       "\t SPLICE\\_SITE\\_DONOR     &   273\\\\\n",
       "\t START\\_LOST            &    51\\\\\n",
       "\t STOP\\_GAINED           &  3624\\\\\n",
       "\t STOP\\_LOST             &   118\\\\\n",
       "\t SYNONYMOUS\\_CODING     & 12191\\\\\n",
       "\t SYNONYMOUS\\_STOP       &    15\\\\\n",
       "\\end{tabular}\n"
      ],
      "text/markdown": [
       "\n",
       "A data.frame: 9 × 2\n",
       "\n",
       "| Variant &lt;chr&gt; | n &lt;int&gt; |\n",
       "|---|---|\n",
       "| NON_SYNONYMOUS_CODING | 33800 |\n",
       "| NON_SYNONYMOUS_START  |    43 |\n",
       "| SPLICE_SITE_ACCEPTOR  |  1541 |\n",
       "| SPLICE_SITE_DONOR     |   273 |\n",
       "| START_LOST            |    51 |\n",
       "| STOP_GAINED           |  3624 |\n",
       "| STOP_LOST             |   118 |\n",
       "| SYNONYMOUS_CODING     | 12191 |\n",
       "| SYNONYMOUS_STOP       |    15 |\n",
       "\n"
      ],
      "text/plain": [
       "  Variant               n    \n",
       "1 NON_SYNONYMOUS_CODING 33800\n",
       "2 NON_SYNONYMOUS_START     43\n",
       "3 SPLICE_SITE_ACCEPTOR   1541\n",
       "4 SPLICE_SITE_DONOR       273\n",
       "5 START_LOST               51\n",
       "6 STOP_GAINED            3624\n",
       "7 STOP_LOST               118\n",
       "8 SYNONYMOUS_CODING     12191\n",
       "9 SYNONYMOUS_STOP          15"
      ]
     },
     "metadata": {},
     "output_type": "display_data"
    }
   ],
   "source": [
    "input_maf %>% count(Variant)"
   ]
  },
  {
   "cell_type": "code",
   "execution_count": 11,
   "id": "b5b44ca7-8127-4177-8b69-5c0ecf105a8f",
   "metadata": {},
   "outputs": [],
   "source": [
    "mutation_type = list(\n",
    "      'ignore' = c(\"SYNONYMOUS_CODING\",\"SYNONYMOUS_STOP\",\"RNA\",\"3'UTR\",\"5'UTR\",\"5'Flank\",\"3'Flank\",\"IGR\"),\n",
    "      'truncating'= c('CODON_CHANGE_PLUS_CODON_DELETION','CODON_CHANGE_PLUS_CODON_INSERTION','CODON_DELETION','stop_retained_variant','missense_variant&splice_region_variant&NMD_transcript_variant',\n",
    "                      'splice_acceptor_variant&non_coding_transcript_variant','splice_region_variant&non_coding_transcript_exon_variant','splice_region_variant&synonymous_variant',\n",
    "                      'start_lost&splice_region_variant','stop_gained&splice_region_variant','stop_retained_variant',\n",
    "                      'start_lost&splice_region_variant','stop_retained_variant','splice_donor_variant','splice_acceptor_variant',\n",
    "                      'CODON_INSERTION','FRAME_SHIFT','SPLICE_SITE_ACCEPTOR','SPLICE_SITE_DONOR','START_LOST','STOP_GAINED','NON_SYNONYMOUS_START',\n",
    "                     'splice_donor_variant','start_lost','stop_gained','stop_lost','missense_variant&splice_region_variant'),\n",
    "      'missense' = c('missense_variant','missense_variant&NMD_transcript_variant','NON_SYNONYMOUS_CODING')\n",
    ")\n",
    "custom_maf_schema = list(\n",
    "    'name' = 'custom_maf',\n",
    "    'column' = list(\n",
    "          'gene' = 'Gene'\n",
    "        , 'gene.name' = 'Gene'\n",
    "        , 'sample' = 'sample'\n",
    "        , 'sample.name' = 'sample'\n",
    "        , 'mutation.type' = 'Variant'\n",
    "        , 'mutation' = 'HGSvp_short'\n",
    "        ),\n",
    "        'mutation.type' = mutation_type\n",
    ")"
   ]
  },
  {
   "cell_type": "code",
   "execution_count": 12,
   "id": "9920328f-3b2c-4b4d-933b-d1bfca5c4295",
   "metadata": {},
   "outputs": [],
   "source": [
    "input_maf<-input_maf %>% separate(sample,into=c('patient','sample_no'),sep=\"U\")"
   ]
  },
  {
   "cell_type": "code",
   "execution_count": 13,
   "id": "efbba45c-c98f-4a57-a4db-bd79ac8f9853",
   "metadata": {},
   "outputs": [
    {
     "data": {
      "text/html": [
       "<table class=\"dataframe\">\n",
       "<caption>A data.frame: 6 × 11</caption>\n",
       "<thead>\n",
       "\t<tr><th></th><th scope=col>Variant</th><th scope=col>Gene</th><th scope=col>Protein</th><th scope=col>HGSvp_short</th><th scope=col>Chr</th><th scope=col>Pos</th><th scope=col>Ref</th><th scope=col>Alt</th><th scope=col>Sample</th><th scope=col>patient</th><th scope=col>sample_no</th></tr>\n",
       "\t<tr><th></th><th scope=col>&lt;chr&gt;</th><th scope=col>&lt;chr&gt;</th><th scope=col>&lt;chr&gt;</th><th scope=col>&lt;chr&gt;</th><th scope=col>&lt;chr&gt;</th><th scope=col>&lt;chr&gt;</th><th scope=col>&lt;chr&gt;</th><th scope=col>&lt;chr&gt;</th><th scope=col>&lt;chr&gt;</th><th scope=col>&lt;chr&gt;</th><th scope=col>&lt;chr&gt;</th></tr>\n",
       "</thead>\n",
       "<tbody>\n",
       "\t<tr><th scope=row>1</th><td>SPLICE_SITE_DONOR    </td><td>SAMD11</td><td>SAMD11</td><td>NA  </td><td>1</td><td>878759</td><td>T</td><td>G</td><td>P91U</td><td>P91</td><td></td></tr>\n",
       "\t<tr><th scope=row>2</th><td>SPLICE_SITE_DONOR    </td><td>NOC2L </td><td>SAMD11</td><td>NA  </td><td>1</td><td>878759</td><td>T</td><td>G</td><td>P91U</td><td>P91</td><td></td></tr>\n",
       "\t<tr><th scope=row>3</th><td>SYNONYMOUS_CODING    </td><td>SAMD11</td><td>SAMD11</td><td>A602</td><td>1</td><td>879293</td><td>C</td><td>G</td><td>P43U</td><td>P43</td><td></td></tr>\n",
       "\t<tr><th scope=row>4</th><td>SYNONYMOUS_CODING    </td><td>NOC2L </td><td>SAMD11</td><td>A   </td><td>1</td><td>879293</td><td>C</td><td>G</td><td>P43U</td><td>P43</td><td></td></tr>\n",
       "\t<tr><th scope=row>5</th><td>NON_SYNONYMOUS_CODING</td><td>NOC2L </td><td>NOC2L </td><td>R455</td><td>1</td><td>886586</td><td>C</td><td>T</td><td>P65U</td><td>P65</td><td></td></tr>\n",
       "\t<tr><th scope=row>6</th><td>SYNONYMOUS_CODING    </td><td>NOC2L </td><td>NOC2L </td><td>S348</td><td>1</td><td>887939</td><td>C</td><td>A</td><td>P22U</td><td>P22</td><td></td></tr>\n",
       "</tbody>\n",
       "</table>\n"
      ],
      "text/latex": [
       "A data.frame: 6 × 11\n",
       "\\begin{tabular}{r|lllllllllll}\n",
       "  & Variant & Gene & Protein & HGSvp\\_short & Chr & Pos & Ref & Alt & Sample & patient & sample\\_no\\\\\n",
       "  & <chr> & <chr> & <chr> & <chr> & <chr> & <chr> & <chr> & <chr> & <chr> & <chr> & <chr>\\\\\n",
       "\\hline\n",
       "\t1 & SPLICE\\_SITE\\_DONOR     & SAMD11 & SAMD11 & NA   & 1 & 878759 & T & G & P91U & P91 & \\\\\n",
       "\t2 & SPLICE\\_SITE\\_DONOR     & NOC2L  & SAMD11 & NA   & 1 & 878759 & T & G & P91U & P91 & \\\\\n",
       "\t3 & SYNONYMOUS\\_CODING     & SAMD11 & SAMD11 & A602 & 1 & 879293 & C & G & P43U & P43 & \\\\\n",
       "\t4 & SYNONYMOUS\\_CODING     & NOC2L  & SAMD11 & A    & 1 & 879293 & C & G & P43U & P43 & \\\\\n",
       "\t5 & NON\\_SYNONYMOUS\\_CODING & NOC2L  & NOC2L  & R455 & 1 & 886586 & C & T & P65U & P65 & \\\\\n",
       "\t6 & SYNONYMOUS\\_CODING     & NOC2L  & NOC2L  & S348 & 1 & 887939 & C & A & P22U & P22 & \\\\\n",
       "\\end{tabular}\n"
      ],
      "text/markdown": [
       "\n",
       "A data.frame: 6 × 11\n",
       "\n",
       "| <!--/--> | Variant &lt;chr&gt; | Gene &lt;chr&gt; | Protein &lt;chr&gt; | HGSvp_short &lt;chr&gt; | Chr &lt;chr&gt; | Pos &lt;chr&gt; | Ref &lt;chr&gt; | Alt &lt;chr&gt; | Sample &lt;chr&gt; | patient &lt;chr&gt; | sample_no &lt;chr&gt; |\n",
       "|---|---|---|---|---|---|---|---|---|---|---|---|\n",
       "| 1 | SPLICE_SITE_DONOR     | SAMD11 | SAMD11 | NA   | 1 | 878759 | T | G | P91U | P91 | <!----> |\n",
       "| 2 | SPLICE_SITE_DONOR     | NOC2L  | SAMD11 | NA   | 1 | 878759 | T | G | P91U | P91 | <!----> |\n",
       "| 3 | SYNONYMOUS_CODING     | SAMD11 | SAMD11 | A602 | 1 | 879293 | C | G | P43U | P43 | <!----> |\n",
       "| 4 | SYNONYMOUS_CODING     | NOC2L  | SAMD11 | A    | 1 | 879293 | C | G | P43U | P43 | <!----> |\n",
       "| 5 | NON_SYNONYMOUS_CODING | NOC2L  | NOC2L  | R455 | 1 | 886586 | C | T | P65U | P65 | <!----> |\n",
       "| 6 | SYNONYMOUS_CODING     | NOC2L  | NOC2L  | S348 | 1 | 887939 | C | A | P22U | P22 | <!----> |\n",
       "\n"
      ],
      "text/plain": [
       "  Variant               Gene   Protein HGSvp_short Chr Pos    Ref Alt Sample\n",
       "1 SPLICE_SITE_DONOR     SAMD11 SAMD11  NA          1   878759 T   G   P91U  \n",
       "2 SPLICE_SITE_DONOR     NOC2L  SAMD11  NA          1   878759 T   G   P91U  \n",
       "3 SYNONYMOUS_CODING     SAMD11 SAMD11  A602        1   879293 C   G   P43U  \n",
       "4 SYNONYMOUS_CODING     NOC2L  SAMD11  A           1   879293 C   G   P43U  \n",
       "5 NON_SYNONYMOUS_CODING NOC2L  NOC2L   R455        1   886586 C   T   P65U  \n",
       "6 SYNONYMOUS_CODING     NOC2L  NOC2L   S348        1   887939 C   A   P22U  \n",
       "  patient sample_no\n",
       "1 P91              \n",
       "2 P91              \n",
       "3 P43              \n",
       "4 P43              \n",
       "5 P65              \n",
       "6 P22              "
      ]
     },
     "metadata": {},
     "output_type": "display_data"
    }
   ],
   "source": [
    "head(input_maf)"
   ]
  },
  {
   "cell_type": "code",
   "execution_count": 14,
   "id": "15405a7d-1015-4cbf-b07a-1d51b974706c",
   "metadata": {},
   "outputs": [],
   "source": [
    "input_maf$sample<-input_maf$patient"
   ]
  },
  {
   "cell_type": "code",
   "execution_count": 15,
   "id": "54671d05-bf46-4e35-804c-ae47141deaae",
   "metadata": {},
   "outputs": [
    {
     "name": "stdout",
     "output_type": "stream",
     "text": [
      "[1] \"##### Number of samples ####->113\"\n"
     ]
    }
   ],
   "source": [
    "mut_samples = unique(input_maf[, custom_maf_schema$column$sample])\n",
    "print(paste('##### Number of samples ####',length(mut_samples),sep=\"->\"))"
   ]
  },
  {
   "cell_type": "code",
   "execution_count": 16,
   "id": "e3ca316f-a998-4c1a-b9e9-fcaffa174d94",
   "metadata": {},
   "outputs": [
    {
     "name": "stdout",
     "output_type": "stream",
     "text": [
      "[1] \"##### Number of lines ####->1426\"\n"
     ]
    }
   ],
   "source": [
    "maf_genes = filter_maf_gene.name(input_maf, genes = genes_to_consider, gene.col = custom_maf_schema$column$gene)\n",
    "print(paste('##### Number of lines ####',nrow(maf_genes),sep=\"->\"))"
   ]
  },
  {
   "cell_type": "code",
   "execution_count": 17,
   "id": "f9851f36-7116-49fb-bdd6-a911e8dccbaf",
   "metadata": {},
   "outputs": [
    {
     "name": "stdout",
     "output_type": "stream",
     "text": [
      "##### Creating Truncating GAM ####: 0.177 sec elapsed\n"
     ]
    }
   ],
   "source": [
    "# Creating Truncating GAM\n",
    "tic('##### Creating Truncating GAM ####')\n",
    "    maf_trunc = filter_maf_truncating(maf_genes,genes=oncokb_truncating_genes, custom_maf_schema)\n",
    "    input_maf_trunc<-filter_maf_truncating(input_maf, custom_maf_schema)\n",
    "    truncating_tmb <- data.frame('sample'=mut_samples,'mutation'=rep(0,length(mut_samples)))\n",
    "    rownames(truncating_tmb)<-mut_samples\n",
    "    temp <- input_maf_trunc %>% count(sample) \n",
    "    rownames(temp)<-temp$sample\n",
    "    truncating_tmb[intersect(truncating_tmb$sample,temp$sample),]$mutation <-temp[intersect(truncating_tmb$sample,temp$sample),'n']\n",
    "    tcga_truc_gam = maf2gam(maf_trunc,\n",
    "                     sample.col = custom_maf_schema$column$sample,\n",
    "                     gene.col = custom_maf_schema$column$gene,\n",
    "                     value.var = 'Variant',\n",
    "                     samples = mut_samples,\n",
    "                     genes = genes_to_consider,\n",
    "                     fun.aggregate = length,\n",
    "                     binarize=TRUE,\n",
    "                     fill=0)\n",
    "    truncating_data <- list('gam'=tcga_truc_gam,\n",
    "                            'tmb'=truncating_tmb)\n",
    "toc()"
   ]
  },
  {
   "cell_type": "code",
   "execution_count": 18,
   "id": "18d0b7a7-40d3-4cdf-8409-690a23a0381e",
   "metadata": {},
   "outputs": [
    {
     "name": "stdout",
     "output_type": "stream",
     "text": [
      "List of 2\n",
      " $ gam: num [1:113, 1:396] 0 0 1 0 0 0 0 0 0 0 ...\n",
      "  ..- attr(*, \"dimnames\")=List of 2\n",
      "  .. ..$ : chr [1:113] \"P43\" \"P65\" \"P22\" \"P6\" ...\n",
      "  .. ..$ : chr [1:396] \"APC\" \"ATM\" \"CARD11\" \"CDKN2A\" ...\n",
      " $ tmb:'data.frame':\t113 obs. of  2 variables:\n",
      "  ..$ sample  : chr [1:113] \"P91\" \"P43\" \"P65\" \"P22\" ...\n",
      "  ..$ mutation: num [1:113] 12 14 708 605 1482 ...\n"
     ]
    }
   ],
   "source": [
    "str(truncating_data)"
   ]
  },
  {
   "cell_type": "code",
   "execution_count": 19,
   "id": "65ee8b0e-d555-46b8-a073-50267e79d884",
   "metadata": {},
   "outputs": [
    {
     "name": "stdout",
     "output_type": "stream",
     "text": [
      "##### Creating Missense GAM ####: 0.713 sec elapsed\n"
     ]
    }
   ],
   "source": [
    "tic('##### Creating Missense GAM ####')\n",
    "    maf_valid = filter_maf_schema(input_maf,\n",
    "                             schema = custom_maf_schema,\n",
    "                             column = 'mutation.type',\n",
    "                             values = custom_maf_schema[['mutation.type']][['ignore']],\n",
    "                             inclusive = FALSE)\n",
    "    missense_maf<-filter_maf_mutation.type(input_maf,\n",
    "                                      variants = 'NON_SYNONYMOUS_CODING',\n",
    "                                      variant.col = custom_maf_schema$column$mutation.type)\n",
    "    missense_tmb <- data.frame('sample'=mut_samples,'mutation'=rep(0,length(mut_samples)))\n",
    "    rownames(missense_tmb)<-mut_samples\n",
    "    temp <- missense_maf %>% count(sample) \n",
    "    rownames(temp)<-temp$sample\n",
    "    missense_tmb[intersect(missense_tmb$sample,temp$sample),]$mutation <-temp[intersect(missense_tmb$sample,temp$sample),'n']\n",
    "    t_m = substr(maf_valid[[custom_maf_schema$column$mutation]],1,1000)\n",
    "    t_m1 =  gsub('[A-Z]*$', '', t_m)\n",
    "    maf_valid$HGVSp_Short_fixed = t_m1\n",
    "    maf_hotspot = filter_maf_mutations(maf_valid,\n",
    "                                  variant_catalogue,\n",
    "                                  maf.col = c(custom_maf_schema$column$gene, 'HGVSp_Short_fixed'),\n",
    "                                  values.col = c('gene', 'mut'))\n",
    "\n",
    "    missense_tcga_gam = maf2gam(maf_hotspot,\n",
    "                     sample.col = custom_maf_schema$column$sample,\n",
    "                     gene.col = custom_maf_schema$column$gene,\n",
    "                     value.var = 'Variant',\n",
    "                     samples = mut_samples,\n",
    "                     genes = genes_to_consider,\n",
    "                     fun.aggregate = length,\n",
    "                     binarize=TRUE,\n",
    "                     fill=0)\n",
    "    missesne_data <- list('gam'=missense_tcga_gam,\n",
    "                          'tmb'=missense_tmb)\n",
    "\n",
    "toc()"
   ]
  },
  {
   "cell_type": "code",
   "execution_count": 20,
   "id": "00f9fcda-da57-4d5f-af56-1d81ac2b36a0",
   "metadata": {},
   "outputs": [
    {
     "name": "stdout",
     "output_type": "stream",
     "text": [
      "List of 2\n",
      " $ gam: num [1:113, 1:396] 0 0 0 0 0 0 0 1 0 0 ...\n",
      "  ..- attr(*, \"dimnames\")=List of 2\n",
      "  .. ..$ : chr [1:113] \"P65\" \"P22\" \"P6\" \"P51\" ...\n",
      "  .. ..$ : chr [1:396] \"CDKN2A\" \"CREBBP\" \"CTNNB1\" \"EP300\" ...\n",
      " $ tmb:'data.frame':\t113 obs. of  2 variables:\n",
      "  ..$ sample  : chr [1:113] \"P91\" \"P43\" \"P65\" \"P22\" ...\n",
      "  ..$ mutation: num [1:113] 38 396 3847 3789 8667 ...\n"
     ]
    }
   ],
   "source": [
    "str(missesne_data)"
   ]
  },
  {
   "cell_type": "code",
   "execution_count": 21,
   "id": "bb6810e3-d487-4bee-95ce-26c2793691d0",
   "metadata": {},
   "outputs": [],
   "source": [
    "gene_to_take <- oncokb_genes\n",
    "order <- rownames(missesne_data$gam)\n",
    "\n",
    "data <-list('M'=list('missense'=t(missesne_data$gam[order,gene_to_take]),\n",
    "                     'truncating'=t(truncating_data$gam[rownames(missesne_data$gam[order,]),gene_to_take])),\n",
    "            'tmb'=list('missense'=missesne_data$tmb[order,],\n",
    "                       'truncating'=truncating_data$tmb[order,]))\n",
    "\n",
    "alteration_covariates <- rep('MUT',ncol(missesne_data$gam[order,gene_to_take]))\n",
    "names(alteration_covariates)<-colnames(missesne_data$gam[order,gene_to_take])"
   ]
  },
  {
   "cell_type": "code",
   "execution_count": 22,
   "id": "d01e0f99-e7d5-4b2e-ac00-11109808213c",
   "metadata": {},
   "outputs": [
    {
     "data": {
      "text/html": [
       "<table class=\"dataframe\">\n",
       "<caption>A data.frame: 6 × 12</caption>\n",
       "<thead>\n",
       "\t<tr><th></th><th scope=col>Variant</th><th scope=col>Gene</th><th scope=col>Protein</th><th scope=col>HGSvp_short</th><th scope=col>Chr</th><th scope=col>Pos</th><th scope=col>Ref</th><th scope=col>Alt</th><th scope=col>Sample</th><th scope=col>patient</th><th scope=col>sample_no</th><th scope=col>sample</th></tr>\n",
       "\t<tr><th></th><th scope=col>&lt;chr&gt;</th><th scope=col>&lt;chr&gt;</th><th scope=col>&lt;chr&gt;</th><th scope=col>&lt;chr&gt;</th><th scope=col>&lt;chr&gt;</th><th scope=col>&lt;chr&gt;</th><th scope=col>&lt;chr&gt;</th><th scope=col>&lt;chr&gt;</th><th scope=col>&lt;chr&gt;</th><th scope=col>&lt;chr&gt;</th><th scope=col>&lt;chr&gt;</th><th scope=col>&lt;chr&gt;</th></tr>\n",
       "</thead>\n",
       "<tbody>\n",
       "\t<tr><th scope=row>1</th><td>SPLICE_SITE_DONOR    </td><td>SAMD11</td><td>SAMD11</td><td>NA  </td><td>1</td><td>878759</td><td>T</td><td>G</td><td>P91U</td><td>P91</td><td></td><td>P91</td></tr>\n",
       "\t<tr><th scope=row>2</th><td>SPLICE_SITE_DONOR    </td><td>NOC2L </td><td>SAMD11</td><td>NA  </td><td>1</td><td>878759</td><td>T</td><td>G</td><td>P91U</td><td>P91</td><td></td><td>P91</td></tr>\n",
       "\t<tr><th scope=row>3</th><td>SYNONYMOUS_CODING    </td><td>SAMD11</td><td>SAMD11</td><td>A602</td><td>1</td><td>879293</td><td>C</td><td>G</td><td>P43U</td><td>P43</td><td></td><td>P43</td></tr>\n",
       "\t<tr><th scope=row>4</th><td>SYNONYMOUS_CODING    </td><td>NOC2L </td><td>SAMD11</td><td>A   </td><td>1</td><td>879293</td><td>C</td><td>G</td><td>P43U</td><td>P43</td><td></td><td>P43</td></tr>\n",
       "\t<tr><th scope=row>5</th><td>NON_SYNONYMOUS_CODING</td><td>NOC2L </td><td>NOC2L </td><td>R455</td><td>1</td><td>886586</td><td>C</td><td>T</td><td>P65U</td><td>P65</td><td></td><td>P65</td></tr>\n",
       "\t<tr><th scope=row>6</th><td>SYNONYMOUS_CODING    </td><td>NOC2L </td><td>NOC2L </td><td>S348</td><td>1</td><td>887939</td><td>C</td><td>A</td><td>P22U</td><td>P22</td><td></td><td>P22</td></tr>\n",
       "</tbody>\n",
       "</table>\n"
      ],
      "text/latex": [
       "A data.frame: 6 × 12\n",
       "\\begin{tabular}{r|llllllllllll}\n",
       "  & Variant & Gene & Protein & HGSvp\\_short & Chr & Pos & Ref & Alt & Sample & patient & sample\\_no & sample\\\\\n",
       "  & <chr> & <chr> & <chr> & <chr> & <chr> & <chr> & <chr> & <chr> & <chr> & <chr> & <chr> & <chr>\\\\\n",
       "\\hline\n",
       "\t1 & SPLICE\\_SITE\\_DONOR     & SAMD11 & SAMD11 & NA   & 1 & 878759 & T & G & P91U & P91 &  & P91\\\\\n",
       "\t2 & SPLICE\\_SITE\\_DONOR     & NOC2L  & SAMD11 & NA   & 1 & 878759 & T & G & P91U & P91 &  & P91\\\\\n",
       "\t3 & SYNONYMOUS\\_CODING     & SAMD11 & SAMD11 & A602 & 1 & 879293 & C & G & P43U & P43 &  & P43\\\\\n",
       "\t4 & SYNONYMOUS\\_CODING     & NOC2L  & SAMD11 & A    & 1 & 879293 & C & G & P43U & P43 &  & P43\\\\\n",
       "\t5 & NON\\_SYNONYMOUS\\_CODING & NOC2L  & NOC2L  & R455 & 1 & 886586 & C & T & P65U & P65 &  & P65\\\\\n",
       "\t6 & SYNONYMOUS\\_CODING     & NOC2L  & NOC2L  & S348 & 1 & 887939 & C & A & P22U & P22 &  & P22\\\\\n",
       "\\end{tabular}\n"
      ],
      "text/markdown": [
       "\n",
       "A data.frame: 6 × 12\n",
       "\n",
       "| <!--/--> | Variant &lt;chr&gt; | Gene &lt;chr&gt; | Protein &lt;chr&gt; | HGSvp_short &lt;chr&gt; | Chr &lt;chr&gt; | Pos &lt;chr&gt; | Ref &lt;chr&gt; | Alt &lt;chr&gt; | Sample &lt;chr&gt; | patient &lt;chr&gt; | sample_no &lt;chr&gt; | sample &lt;chr&gt; |\n",
       "|---|---|---|---|---|---|---|---|---|---|---|---|---|\n",
       "| 1 | SPLICE_SITE_DONOR     | SAMD11 | SAMD11 | NA   | 1 | 878759 | T | G | P91U | P91 | <!----> | P91 |\n",
       "| 2 | SPLICE_SITE_DONOR     | NOC2L  | SAMD11 | NA   | 1 | 878759 | T | G | P91U | P91 | <!----> | P91 |\n",
       "| 3 | SYNONYMOUS_CODING     | SAMD11 | SAMD11 | A602 | 1 | 879293 | C | G | P43U | P43 | <!----> | P43 |\n",
       "| 4 | SYNONYMOUS_CODING     | NOC2L  | SAMD11 | A    | 1 | 879293 | C | G | P43U | P43 | <!----> | P43 |\n",
       "| 5 | NON_SYNONYMOUS_CODING | NOC2L  | NOC2L  | R455 | 1 | 886586 | C | T | P65U | P65 | <!----> | P65 |\n",
       "| 6 | SYNONYMOUS_CODING     | NOC2L  | NOC2L  | S348 | 1 | 887939 | C | A | P22U | P22 | <!----> | P22 |\n",
       "\n"
      ],
      "text/plain": [
       "  Variant               Gene   Protein HGSvp_short Chr Pos    Ref Alt Sample\n",
       "1 SPLICE_SITE_DONOR     SAMD11 SAMD11  NA          1   878759 T   G   P91U  \n",
       "2 SPLICE_SITE_DONOR     NOC2L  SAMD11  NA          1   878759 T   G   P91U  \n",
       "3 SYNONYMOUS_CODING     SAMD11 SAMD11  A602        1   879293 C   G   P43U  \n",
       "4 SYNONYMOUS_CODING     NOC2L  SAMD11  A           1   879293 C   G   P43U  \n",
       "5 NON_SYNONYMOUS_CODING NOC2L  NOC2L   R455        1   886586 C   T   P65U  \n",
       "6 SYNONYMOUS_CODING     NOC2L  NOC2L   S348        1   887939 C   A   P22U  \n",
       "  patient sample_no sample\n",
       "1 P91               P91   \n",
       "2 P91               P91   \n",
       "3 P43               P43   \n",
       "4 P43               P43   \n",
       "5 P65               P65   \n",
       "6 P22               P22   "
      ]
     },
     "metadata": {},
     "output_type": "display_data"
    }
   ],
   "source": [
    "head(input_maf)"
   ]
  },
  {
   "cell_type": "code",
   "execution_count": 23,
   "id": "9b4041dc-c213-49d0-8a44-bfbcef9c6a07",
   "metadata": {
    "scrolled": true
   },
   "outputs": [],
   "source": [
    "sample_covariates<-rep('normal',113)\n",
    "names(sample_covariates)<-(input_maf %>% select(sample) %>% distinct())$sample"
   ]
  },
  {
   "cell_type": "code",
   "execution_count": 24,
   "id": "b45e9057-4ff2-43be-b3bf-aecf43cbe69c",
   "metadata": {},
   "outputs": [],
   "source": [
    "run_data <- list('M'=data,'sample.class' = sample_covariates[order],'alteration.class' = alteration_covariates)"
   ]
  },
  {
   "cell_type": "code",
   "execution_count": 25,
   "id": "33e94988-aa86-4d15-9f86-c610624197fd",
   "metadata": {},
   "outputs": [
    {
     "name": "stdout",
     "output_type": "stream",
     "text": [
      "List of 3\n",
      " $ M               :List of 2\n",
      "  ..$ M  :List of 2\n",
      "  .. ..$ missense  : num [1:396, 1:113] 0 0 0 0 0 0 0 0 0 0 ...\n",
      "  .. .. ..- attr(*, \"dimnames\")=List of 2\n",
      "  .. .. .. ..$ : chr [1:396] \"AKT1\" \"ALK\" \"APC\" \"AR\" ...\n",
      "  .. .. .. ..$ : chr [1:113] \"P65\" \"P22\" \"P6\" \"P51\" ...\n",
      "  .. ..$ truncating: num [1:396, 1:113] 0 0 0 0 1 0 0 0 0 0 ...\n",
      "  .. .. ..- attr(*, \"dimnames\")=List of 2\n",
      "  .. .. .. ..$ : chr [1:396] \"AKT1\" \"ALK\" \"APC\" \"AR\" ...\n",
      "  .. .. .. ..$ : chr [1:113] \"P65\" \"P22\" \"P6\" \"P51\" ...\n",
      "  ..$ tmb:List of 2\n",
      "  .. ..$ missense  :'data.frame':\t113 obs. of  2 variables:\n",
      "  .. .. ..$ sample  : chr [1:113] \"P65\" \"P22\" \"P6\" \"P51\" ...\n",
      "  .. .. ..$ mutation: num [1:113] 3847 3789 8667 50 4235 ...\n",
      "  .. ..$ truncating:'data.frame':\t113 obs. of  2 variables:\n",
      "  .. .. ..$ sample  : chr [1:113] \"P65\" \"P22\" \"P6\" \"P51\" ...\n",
      "  .. .. ..$ mutation: num [1:113] 708 605 1482 4 786 ...\n",
      " $ sample.class    : Named chr [1:113] \"normal\" \"normal\" \"normal\" \"normal\" ...\n",
      "  ..- attr(*, \"names\")= chr [1:113] \"P65\" \"P22\" \"P6\" \"P51\" ...\n",
      " $ alteration.class: Named chr [1:396] \"MUT\" \"MUT\" \"MUT\" \"MUT\" ...\n",
      "  ..- attr(*, \"names\")= chr [1:396] \"AKT1\" \"ALK\" \"APC\" \"AR\" ...\n"
     ]
    }
   ],
   "source": [
    "str(run_data)"
   ]
  },
  {
   "cell_type": "code",
   "execution_count": 26,
   "id": "c5c63920-dbf8-40eb-a443-791e5345dcb3",
   "metadata": {},
   "outputs": [],
   "source": [
    "filter_run_data <- function(run_data,gene_order,sample_order){\n",
    "    final_run_data<-run_data\n",
    "    final_run_data$M$M$missense<-run_data$M$M$missense[gene_order,sample_order]\n",
    "    final_run_data$M$M$truncating<-run_data$M$M$truncating[gene_order,sample_order]\n",
    "    final_run_data$alteration.class<- run_data$alteration.class[gene_order]\n",
    "    final_run_data$sample.class<-run_data$sample.class[sample_order]\n",
    "    final_run_data$M$tmb$missense<-run_data$M$tmb$missense[sample_order,]\n",
    "    final_run_data$M$tmb$truncating<-run_data$M$tmb$truncating[sample_order,]\n",
    "    return(final_run_data)\n",
    "}"
   ]
  },
  {
   "cell_type": "code",
   "execution_count": 27,
   "id": "ece314f6-8124-489b-b795-8a59cb36ed6b",
   "metadata": {},
   "outputs": [],
   "source": [
    "normal_run_data <- run_data"
   ]
  },
  {
   "cell_type": "code",
   "execution_count": 28,
   "id": "c86992b6-b52c-45b6-becc-7d8929ed7bc2",
   "metadata": {},
   "outputs": [
    {
     "name": "stdout",
     "output_type": "stream",
     "text": [
      "List of 3\n",
      " $ M               :List of 2\n",
      "  ..$ M  :List of 2\n",
      "  .. ..$ missense  : num [1:396, 1:113] 0 0 0 0 0 0 0 0 0 0 ...\n",
      "  .. .. ..- attr(*, \"dimnames\")=List of 2\n",
      "  .. .. .. ..$ : chr [1:396] \"AKT1\" \"ALK\" \"APC\" \"AR\" ...\n",
      "  .. .. .. ..$ : chr [1:113] \"P65\" \"P22\" \"P6\" \"P51\" ...\n",
      "  .. ..$ truncating: num [1:396, 1:113] 0 0 0 0 1 0 0 0 0 0 ...\n",
      "  .. .. ..- attr(*, \"dimnames\")=List of 2\n",
      "  .. .. .. ..$ : chr [1:396] \"AKT1\" \"ALK\" \"APC\" \"AR\" ...\n",
      "  .. .. .. ..$ : chr [1:113] \"P65\" \"P22\" \"P6\" \"P51\" ...\n",
      "  ..$ tmb:List of 2\n",
      "  .. ..$ missense  :'data.frame':\t113 obs. of  2 variables:\n",
      "  .. .. ..$ sample  : chr [1:113] \"P65\" \"P22\" \"P6\" \"P51\" ...\n",
      "  .. .. ..$ mutation: num [1:113] 3847 3789 8667 50 4235 ...\n",
      "  .. ..$ truncating:'data.frame':\t113 obs. of  2 variables:\n",
      "  .. .. ..$ sample  : chr [1:113] \"P65\" \"P22\" \"P6\" \"P51\" ...\n",
      "  .. .. ..$ mutation: num [1:113] 708 605 1482 4 786 ...\n",
      " $ sample.class    : Named chr [1:113] \"normal\" \"normal\" \"normal\" \"normal\" ...\n",
      "  ..- attr(*, \"names\")= chr [1:113] \"P65\" \"P22\" \"P6\" \"P51\" ...\n",
      " $ alteration.class: Named chr [1:396] \"MUT\" \"MUT\" \"MUT\" \"MUT\" ...\n",
      "  ..- attr(*, \"names\")= chr [1:396] \"AKT1\" \"ALK\" \"APC\" \"AR\" ...\n"
     ]
    }
   ],
   "source": [
    "str(normal_run_data)"
   ]
  },
  {
   "cell_type": "code",
   "execution_count": 29,
   "id": "0323f381-6107-49af-8952-b548311dc08f",
   "metadata": {},
   "outputs": [
    {
     "data": {
      "text/html": [
       "32"
      ],
      "text/latex": [
       "32"
      ],
      "text/markdown": [
       "32"
      ],
      "text/plain": [
       "[1] 32"
      ]
     },
     "metadata": {},
     "output_type": "display_data"
    },
    {
     "data": {
      "text/html": [
       "189"
      ],
      "text/latex": [
       "189"
      ],
      "text/markdown": [
       "189"
      ],
      "text/plain": [
       "[1] 189"
      ]
     },
     "metadata": {},
     "output_type": "display_data"
    }
   ],
   "source": [
    "sum(normal_run_data$M$M$missense)\n",
    "sum(normal_run_data$M$M$truncating)"
   ]
  },
  {
   "cell_type": "code",
   "execution_count": null,
   "id": "cb0e3135-dbea-462b-bba9-094af0f88045",
   "metadata": {},
   "outputs": [],
   "source": [
    "saveRDS(normal_run_data,file='/mnt/ndata/arvind/co_mutation_project/analysis/normal_mutation/data/li_et_al_normal_run_data_patient_v2.rds')"
   ]
  },
  {
   "cell_type": "markdown",
   "id": "3ffaaead-1836-458d-b0ac-07a86e114214",
   "metadata": {},
   "source": [
    "# Cancer sample processing"
   ]
  },
  {
   "cell_type": "code",
   "execution_count": 30,
   "id": "e5c92feb-c0a4-4481-bc96-b50efdbaf79a",
   "metadata": {},
   "outputs": [],
   "source": [
    "all_maf<-readRDS(file='/mnt/ndata/arvind/co_mutation_project/analysis/normal_mutation/data/li_cancer_vep_annotated_maf_file_supplemenatry.rds')"
   ]
  },
  {
   "cell_type": "code",
   "execution_count": 31,
   "id": "aee7e5e2-711e-4f44-81f4-02717b1c685a",
   "metadata": {
    "scrolled": true
   },
   "outputs": [],
   "source": [
    "input_maf <- all_maf"
   ]
  },
  {
   "cell_type": "code",
   "execution_count": 32,
   "id": "93a54f4e-9387-4d04-a4ff-a61fbafafa45",
   "metadata": {},
   "outputs": [],
   "source": [
    "input_maf$sample<-all_maf$Sample"
   ]
  },
  {
   "cell_type": "code",
   "execution_count": 33,
   "id": "114608dc-0753-4f71-9f18-3bd64eb074ff",
   "metadata": {},
   "outputs": [
    {
     "data": {
      "text/html": [
       "<table class=\"dataframe\">\n",
       "<caption>A data.frame: 6 × 10</caption>\n",
       "<thead>\n",
       "\t<tr><th></th><th scope=col>Variant</th><th scope=col>Gene</th><th scope=col>Protein</th><th scope=col>HGSvp_short</th><th scope=col>Chr</th><th scope=col>Pos</th><th scope=col>Ref</th><th scope=col>Alt</th><th scope=col>Sample</th><th scope=col>sample</th></tr>\n",
       "\t<tr><th></th><th scope=col>&lt;chr&gt;</th><th scope=col>&lt;chr&gt;</th><th scope=col>&lt;chr&gt;</th><th scope=col>&lt;chr&gt;</th><th scope=col>&lt;chr&gt;</th><th scope=col>&lt;chr&gt;</th><th scope=col>&lt;chr&gt;</th><th scope=col>&lt;chr&gt;</th><th scope=col>&lt;chr&gt;</th><th scope=col>&lt;chr&gt;</th></tr>\n",
       "</thead>\n",
       "<tbody>\n",
       "\t<tr><th scope=row>1</th><td>SYNONYMOUS_CODING    </td><td>SAMD11     </td><td>SAMD11</td><td>P11 </td><td>1</td><td>861354</td><td>G</td><td>A</td><td>P7C </td><td>P7C </td></tr>\n",
       "\t<tr><th scope=row>2</th><td>SYNONYMOUS_CODING    </td><td>AL645608.1 </td><td>SAMD11</td><td>P82 </td><td>1</td><td>861354</td><td>G</td><td>A</td><td>P7C </td><td>P7C </td></tr>\n",
       "\t<tr><th scope=row>3</th><td>SYNONYMOUS_CODING    </td><td>RP11-54O7.3</td><td>SAMD11</td><td>P   </td><td>1</td><td>861354</td><td>G</td><td>A</td><td>P7C </td><td>P7C </td></tr>\n",
       "\t<tr><th scope=row>4</th><td>NON_SYNONYMOUS_CODING</td><td>NOC2L      </td><td>SAMD11</td><td>E   </td><td>1</td><td>878297</td><td>G</td><td>A</td><td>P74C</td><td>P74C</td></tr>\n",
       "\t<tr><th scope=row>5</th><td>NON_SYNONYMOUS_CODING</td><td>SAMD11     </td><td>SAMD11</td><td>E475</td><td>1</td><td>878297</td><td>G</td><td>A</td><td>P74C</td><td>P74C</td></tr>\n",
       "\t<tr><th scope=row>6</th><td>NON_SYNONYMOUS_CODING</td><td>NOC2L      </td><td>SAMD11</td><td>E   </td><td>1</td><td>878363</td><td>G</td><td>A</td><td>P74C</td><td>P74C</td></tr>\n",
       "</tbody>\n",
       "</table>\n"
      ],
      "text/latex": [
       "A data.frame: 6 × 10\n",
       "\\begin{tabular}{r|llllllllll}\n",
       "  & Variant & Gene & Protein & HGSvp\\_short & Chr & Pos & Ref & Alt & Sample & sample\\\\\n",
       "  & <chr> & <chr> & <chr> & <chr> & <chr> & <chr> & <chr> & <chr> & <chr> & <chr>\\\\\n",
       "\\hline\n",
       "\t1 & SYNONYMOUS\\_CODING     & SAMD11      & SAMD11 & P11  & 1 & 861354 & G & A & P7C  & P7C \\\\\n",
       "\t2 & SYNONYMOUS\\_CODING     & AL645608.1  & SAMD11 & P82  & 1 & 861354 & G & A & P7C  & P7C \\\\\n",
       "\t3 & SYNONYMOUS\\_CODING     & RP11-54O7.3 & SAMD11 & P    & 1 & 861354 & G & A & P7C  & P7C \\\\\n",
       "\t4 & NON\\_SYNONYMOUS\\_CODING & NOC2L       & SAMD11 & E    & 1 & 878297 & G & A & P74C & P74C\\\\\n",
       "\t5 & NON\\_SYNONYMOUS\\_CODING & SAMD11      & SAMD11 & E475 & 1 & 878297 & G & A & P74C & P74C\\\\\n",
       "\t6 & NON\\_SYNONYMOUS\\_CODING & NOC2L       & SAMD11 & E    & 1 & 878363 & G & A & P74C & P74C\\\\\n",
       "\\end{tabular}\n"
      ],
      "text/markdown": [
       "\n",
       "A data.frame: 6 × 10\n",
       "\n",
       "| <!--/--> | Variant &lt;chr&gt; | Gene &lt;chr&gt; | Protein &lt;chr&gt; | HGSvp_short &lt;chr&gt; | Chr &lt;chr&gt; | Pos &lt;chr&gt; | Ref &lt;chr&gt; | Alt &lt;chr&gt; | Sample &lt;chr&gt; | sample &lt;chr&gt; |\n",
       "|---|---|---|---|---|---|---|---|---|---|---|\n",
       "| 1 | SYNONYMOUS_CODING     | SAMD11      | SAMD11 | P11  | 1 | 861354 | G | A | P7C  | P7C  |\n",
       "| 2 | SYNONYMOUS_CODING     | AL645608.1  | SAMD11 | P82  | 1 | 861354 | G | A | P7C  | P7C  |\n",
       "| 3 | SYNONYMOUS_CODING     | RP11-54O7.3 | SAMD11 | P    | 1 | 861354 | G | A | P7C  | P7C  |\n",
       "| 4 | NON_SYNONYMOUS_CODING | NOC2L       | SAMD11 | E    | 1 | 878297 | G | A | P74C | P74C |\n",
       "| 5 | NON_SYNONYMOUS_CODING | SAMD11      | SAMD11 | E475 | 1 | 878297 | G | A | P74C | P74C |\n",
       "| 6 | NON_SYNONYMOUS_CODING | NOC2L       | SAMD11 | E    | 1 | 878363 | G | A | P74C | P74C |\n",
       "\n"
      ],
      "text/plain": [
       "  Variant               Gene        Protein HGSvp_short Chr Pos    Ref Alt\n",
       "1 SYNONYMOUS_CODING     SAMD11      SAMD11  P11         1   861354 G   A  \n",
       "2 SYNONYMOUS_CODING     AL645608.1  SAMD11  P82         1   861354 G   A  \n",
       "3 SYNONYMOUS_CODING     RP11-54O7.3 SAMD11  P           1   861354 G   A  \n",
       "4 NON_SYNONYMOUS_CODING NOC2L       SAMD11  E           1   878297 G   A  \n",
       "5 NON_SYNONYMOUS_CODING SAMD11      SAMD11  E475        1   878297 G   A  \n",
       "6 NON_SYNONYMOUS_CODING NOC2L       SAMD11  E           1   878363 G   A  \n",
       "  Sample sample\n",
       "1 P7C    P7C   \n",
       "2 P7C    P7C   \n",
       "3 P7C    P7C   \n",
       "4 P74C   P74C  \n",
       "5 P74C   P74C  \n",
       "6 P74C   P74C  "
      ]
     },
     "metadata": {},
     "output_type": "display_data"
    }
   ],
   "source": [
    "head(input_maf)"
   ]
  },
  {
   "cell_type": "code",
   "execution_count": 34,
   "id": "820ff34d-ac15-4099-a493-33bf703f7e51",
   "metadata": {},
   "outputs": [
    {
     "name": "stdout",
     "output_type": "stream",
     "text": [
      "[1] \"##### Number of lines ####->61972\"\n",
      "[1] \"##### Number of genes ####->396\"\n"
     ]
    }
   ],
   "source": [
    "print(paste('##### Number of lines ####',nrow(input_maf),sep=\"->\"))\n",
    "genes_to_consider =  oncokb_genes\n",
    "print(paste('##### Number of genes ####',length(genes_to_consider),sep=\"->\"))"
   ]
  },
  {
   "cell_type": "code",
   "execution_count": 35,
   "id": "07c6a9cf-62dc-4205-9cb8-dc14bd0de585",
   "metadata": {},
   "outputs": [
    {
     "data": {
      "text/html": [
       "<table class=\"dataframe\">\n",
       "<caption>A data.frame: 6 × 10</caption>\n",
       "<thead>\n",
       "\t<tr><th></th><th scope=col>Variant</th><th scope=col>Gene</th><th scope=col>Protein</th><th scope=col>HGSvp_short</th><th scope=col>Chr</th><th scope=col>Pos</th><th scope=col>Ref</th><th scope=col>Alt</th><th scope=col>Sample</th><th scope=col>sample</th></tr>\n",
       "\t<tr><th></th><th scope=col>&lt;chr&gt;</th><th scope=col>&lt;chr&gt;</th><th scope=col>&lt;chr&gt;</th><th scope=col>&lt;chr&gt;</th><th scope=col>&lt;chr&gt;</th><th scope=col>&lt;chr&gt;</th><th scope=col>&lt;chr&gt;</th><th scope=col>&lt;chr&gt;</th><th scope=col>&lt;chr&gt;</th><th scope=col>&lt;chr&gt;</th></tr>\n",
       "</thead>\n",
       "<tbody>\n",
       "\t<tr><th scope=row>1</th><td>SYNONYMOUS_CODING    </td><td>SAMD11     </td><td>SAMD11</td><td>P11 </td><td>1</td><td>861354</td><td>G</td><td>A</td><td>P7C </td><td>P7C </td></tr>\n",
       "\t<tr><th scope=row>2</th><td>SYNONYMOUS_CODING    </td><td>AL645608.1 </td><td>SAMD11</td><td>P82 </td><td>1</td><td>861354</td><td>G</td><td>A</td><td>P7C </td><td>P7C </td></tr>\n",
       "\t<tr><th scope=row>3</th><td>SYNONYMOUS_CODING    </td><td>RP11-54O7.3</td><td>SAMD11</td><td>P   </td><td>1</td><td>861354</td><td>G</td><td>A</td><td>P7C </td><td>P7C </td></tr>\n",
       "\t<tr><th scope=row>4</th><td>NON_SYNONYMOUS_CODING</td><td>NOC2L      </td><td>SAMD11</td><td>E   </td><td>1</td><td>878297</td><td>G</td><td>A</td><td>P74C</td><td>P74C</td></tr>\n",
       "\t<tr><th scope=row>5</th><td>NON_SYNONYMOUS_CODING</td><td>SAMD11     </td><td>SAMD11</td><td>E475</td><td>1</td><td>878297</td><td>G</td><td>A</td><td>P74C</td><td>P74C</td></tr>\n",
       "\t<tr><th scope=row>6</th><td>NON_SYNONYMOUS_CODING</td><td>NOC2L      </td><td>SAMD11</td><td>E   </td><td>1</td><td>878363</td><td>G</td><td>A</td><td>P74C</td><td>P74C</td></tr>\n",
       "</tbody>\n",
       "</table>\n"
      ],
      "text/latex": [
       "A data.frame: 6 × 10\n",
       "\\begin{tabular}{r|llllllllll}\n",
       "  & Variant & Gene & Protein & HGSvp\\_short & Chr & Pos & Ref & Alt & Sample & sample\\\\\n",
       "  & <chr> & <chr> & <chr> & <chr> & <chr> & <chr> & <chr> & <chr> & <chr> & <chr>\\\\\n",
       "\\hline\n",
       "\t1 & SYNONYMOUS\\_CODING     & SAMD11      & SAMD11 & P11  & 1 & 861354 & G & A & P7C  & P7C \\\\\n",
       "\t2 & SYNONYMOUS\\_CODING     & AL645608.1  & SAMD11 & P82  & 1 & 861354 & G & A & P7C  & P7C \\\\\n",
       "\t3 & SYNONYMOUS\\_CODING     & RP11-54O7.3 & SAMD11 & P    & 1 & 861354 & G & A & P7C  & P7C \\\\\n",
       "\t4 & NON\\_SYNONYMOUS\\_CODING & NOC2L       & SAMD11 & E    & 1 & 878297 & G & A & P74C & P74C\\\\\n",
       "\t5 & NON\\_SYNONYMOUS\\_CODING & SAMD11      & SAMD11 & E475 & 1 & 878297 & G & A & P74C & P74C\\\\\n",
       "\t6 & NON\\_SYNONYMOUS\\_CODING & NOC2L       & SAMD11 & E    & 1 & 878363 & G & A & P74C & P74C\\\\\n",
       "\\end{tabular}\n"
      ],
      "text/markdown": [
       "\n",
       "A data.frame: 6 × 10\n",
       "\n",
       "| <!--/--> | Variant &lt;chr&gt; | Gene &lt;chr&gt; | Protein &lt;chr&gt; | HGSvp_short &lt;chr&gt; | Chr &lt;chr&gt; | Pos &lt;chr&gt; | Ref &lt;chr&gt; | Alt &lt;chr&gt; | Sample &lt;chr&gt; | sample &lt;chr&gt; |\n",
       "|---|---|---|---|---|---|---|---|---|---|---|\n",
       "| 1 | SYNONYMOUS_CODING     | SAMD11      | SAMD11 | P11  | 1 | 861354 | G | A | P7C  | P7C  |\n",
       "| 2 | SYNONYMOUS_CODING     | AL645608.1  | SAMD11 | P82  | 1 | 861354 | G | A | P7C  | P7C  |\n",
       "| 3 | SYNONYMOUS_CODING     | RP11-54O7.3 | SAMD11 | P    | 1 | 861354 | G | A | P7C  | P7C  |\n",
       "| 4 | NON_SYNONYMOUS_CODING | NOC2L       | SAMD11 | E    | 1 | 878297 | G | A | P74C | P74C |\n",
       "| 5 | NON_SYNONYMOUS_CODING | SAMD11      | SAMD11 | E475 | 1 | 878297 | G | A | P74C | P74C |\n",
       "| 6 | NON_SYNONYMOUS_CODING | NOC2L       | SAMD11 | E    | 1 | 878363 | G | A | P74C | P74C |\n",
       "\n"
      ],
      "text/plain": [
       "  Variant               Gene        Protein HGSvp_short Chr Pos    Ref Alt\n",
       "1 SYNONYMOUS_CODING     SAMD11      SAMD11  P11         1   861354 G   A  \n",
       "2 SYNONYMOUS_CODING     AL645608.1  SAMD11  P82         1   861354 G   A  \n",
       "3 SYNONYMOUS_CODING     RP11-54O7.3 SAMD11  P           1   861354 G   A  \n",
       "4 NON_SYNONYMOUS_CODING NOC2L       SAMD11  E           1   878297 G   A  \n",
       "5 NON_SYNONYMOUS_CODING SAMD11      SAMD11  E475        1   878297 G   A  \n",
       "6 NON_SYNONYMOUS_CODING NOC2L       SAMD11  E           1   878363 G   A  \n",
       "  Sample sample\n",
       "1 P7C    P7C   \n",
       "2 P7C    P7C   \n",
       "3 P7C    P7C   \n",
       "4 P74C   P74C  \n",
       "5 P74C   P74C  \n",
       "6 P74C   P74C  "
      ]
     },
     "metadata": {},
     "output_type": "display_data"
    }
   ],
   "source": [
    "head(input_maf)"
   ]
  },
  {
   "cell_type": "code",
   "execution_count": 36,
   "id": "f498b0f1-cd90-4eac-876f-b7de44560b16",
   "metadata": {},
   "outputs": [],
   "source": [
    "input_maf<-input_maf %>% filter(grepl('C',sample)) "
   ]
  },
  {
   "cell_type": "code",
   "execution_count": 37,
   "id": "c570eff9-48ff-4c08-b18a-ced13abc9624",
   "metadata": {
    "scrolled": true
   },
   "outputs": [
    {
     "data": {
      "text/html": [
       "<table class=\"dataframe\">\n",
       "<caption>A data.frame: 9 × 2</caption>\n",
       "<thead>\n",
       "\t<tr><th scope=col>Variant</th><th scope=col>n</th></tr>\n",
       "\t<tr><th scope=col>&lt;chr&gt;</th><th scope=col>&lt;int&gt;</th></tr>\n",
       "</thead>\n",
       "<tbody>\n",
       "\t<tr><td>NON_SYNONYMOUS_CODING</td><td>39976</td></tr>\n",
       "\t<tr><td>NON_SYNONYMOUS_START </td><td>   28</td></tr>\n",
       "\t<tr><td>SPLICE_SITE_ACCEPTOR </td><td> 1210</td></tr>\n",
       "\t<tr><td>SPLICE_SITE_DONOR    </td><td>  235</td></tr>\n",
       "\t<tr><td>START_LOST           </td><td>   97</td></tr>\n",
       "\t<tr><td>STOP_GAINED          </td><td> 3585</td></tr>\n",
       "\t<tr><td>STOP_LOST            </td><td>  139</td></tr>\n",
       "\t<tr><td>SYNONYMOUS_CODING    </td><td>15826</td></tr>\n",
       "\t<tr><td>SYNONYMOUS_STOP      </td><td>   65</td></tr>\n",
       "</tbody>\n",
       "</table>\n"
      ],
      "text/latex": [
       "A data.frame: 9 × 2\n",
       "\\begin{tabular}{ll}\n",
       " Variant & n\\\\\n",
       " <chr> & <int>\\\\\n",
       "\\hline\n",
       "\t NON\\_SYNONYMOUS\\_CODING & 39976\\\\\n",
       "\t NON\\_SYNONYMOUS\\_START  &    28\\\\\n",
       "\t SPLICE\\_SITE\\_ACCEPTOR  &  1210\\\\\n",
       "\t SPLICE\\_SITE\\_DONOR     &   235\\\\\n",
       "\t START\\_LOST            &    97\\\\\n",
       "\t STOP\\_GAINED           &  3585\\\\\n",
       "\t STOP\\_LOST             &   139\\\\\n",
       "\t SYNONYMOUS\\_CODING     & 15826\\\\\n",
       "\t SYNONYMOUS\\_STOP       &    65\\\\\n",
       "\\end{tabular}\n"
      ],
      "text/markdown": [
       "\n",
       "A data.frame: 9 × 2\n",
       "\n",
       "| Variant &lt;chr&gt; | n &lt;int&gt; |\n",
       "|---|---|\n",
       "| NON_SYNONYMOUS_CODING | 39976 |\n",
       "| NON_SYNONYMOUS_START  |    28 |\n",
       "| SPLICE_SITE_ACCEPTOR  |  1210 |\n",
       "| SPLICE_SITE_DONOR     |   235 |\n",
       "| START_LOST            |    97 |\n",
       "| STOP_GAINED           |  3585 |\n",
       "| STOP_LOST             |   139 |\n",
       "| SYNONYMOUS_CODING     | 15826 |\n",
       "| SYNONYMOUS_STOP       |    65 |\n",
       "\n"
      ],
      "text/plain": [
       "  Variant               n    \n",
       "1 NON_SYNONYMOUS_CODING 39976\n",
       "2 NON_SYNONYMOUS_START     28\n",
       "3 SPLICE_SITE_ACCEPTOR   1210\n",
       "4 SPLICE_SITE_DONOR       235\n",
       "5 START_LOST               97\n",
       "6 STOP_GAINED            3585\n",
       "7 STOP_LOST               139\n",
       "8 SYNONYMOUS_CODING     15826\n",
       "9 SYNONYMOUS_STOP          65"
      ]
     },
     "metadata": {},
     "output_type": "display_data"
    }
   ],
   "source": [
    "input_maf %>% count(Variant)"
   ]
  },
  {
   "cell_type": "code",
   "execution_count": 38,
   "id": "eded5a95-df69-4ea8-b9c5-464718c3aa0b",
   "metadata": {},
   "outputs": [],
   "source": [
    "mutation_type = list(\n",
    "      'ignore' = c(\"SYNONYMOUS_CODING\",\"SYNONYMOUS_STOP\",\"RNA\",\"3'UTR\",\"5'UTR\",\"5'Flank\",\"3'Flank\",\"IGR\"),\n",
    "      'truncating'= c('CODON_CHANGE_PLUS_CODON_DELETION','CODON_CHANGE_PLUS_CODON_INSERTION','CODON_DELETION','stop_retained_variant','missense_variant&splice_region_variant&NMD_transcript_variant',\n",
    "                      'splice_acceptor_variant&non_coding_transcript_variant','splice_region_variant&non_coding_transcript_exon_variant','splice_region_variant&synonymous_variant',\n",
    "                      'start_lost&splice_region_variant','stop_gained&splice_region_variant','stop_retained_variant',\n",
    "                      'start_lost&splice_region_variant','stop_retained_variant','splice_donor_variant','splice_acceptor_variant',\n",
    "                      'CODON_INSERTION','FRAME_SHIFT','SPLICE_SITE_ACCEPTOR','SPLICE_SITE_DONOR','START_LOST','STOP_GAINED','NON_SYNONYMOUS_START',\n",
    "                     'splice_donor_variant','start_lost','stop_gained','stop_lost','missense_variant&splice_region_variant'),\n",
    "      'missense' = c('missense_variant','missense_variant&NMD_transcript_variant','NON_SYNONYMOUS_CODING')\n",
    ")\n",
    "custom_maf_schema = list(\n",
    "    'name' = 'custom_maf',\n",
    "    'column' = list(\n",
    "          'gene' = 'Gene'\n",
    "        , 'gene.name' = 'Gene'\n",
    "        , 'sample' = 'sample'\n",
    "        , 'sample.name' = 'sample'\n",
    "        , 'mutation.type' = 'Variant'\n",
    "        , 'mutation' = 'HGSvp_short'\n",
    "        ),\n",
    "        'mutation.type' = mutation_type\n",
    ")"
   ]
  },
  {
   "cell_type": "code",
   "execution_count": 39,
   "id": "e677831e-ffd0-4365-be45-db96a90eccca",
   "metadata": {},
   "outputs": [
    {
     "data": {
      "text/html": [
       "<table class=\"dataframe\">\n",
       "<caption>A data.frame: 6 × 10</caption>\n",
       "<thead>\n",
       "\t<tr><th></th><th scope=col>Variant</th><th scope=col>Gene</th><th scope=col>Protein</th><th scope=col>HGSvp_short</th><th scope=col>Chr</th><th scope=col>Pos</th><th scope=col>Ref</th><th scope=col>Alt</th><th scope=col>Sample</th><th scope=col>sample</th></tr>\n",
       "\t<tr><th></th><th scope=col>&lt;chr&gt;</th><th scope=col>&lt;chr&gt;</th><th scope=col>&lt;chr&gt;</th><th scope=col>&lt;chr&gt;</th><th scope=col>&lt;chr&gt;</th><th scope=col>&lt;chr&gt;</th><th scope=col>&lt;chr&gt;</th><th scope=col>&lt;chr&gt;</th><th scope=col>&lt;chr&gt;</th><th scope=col>&lt;chr&gt;</th></tr>\n",
       "</thead>\n",
       "<tbody>\n",
       "\t<tr><th scope=row>1</th><td>SYNONYMOUS_CODING    </td><td>SAMD11     </td><td>SAMD11</td><td>P11 </td><td>1</td><td>861354</td><td>G</td><td>A</td><td>P7C </td><td>P7C </td></tr>\n",
       "\t<tr><th scope=row>2</th><td>SYNONYMOUS_CODING    </td><td>AL645608.1 </td><td>SAMD11</td><td>P82 </td><td>1</td><td>861354</td><td>G</td><td>A</td><td>P7C </td><td>P7C </td></tr>\n",
       "\t<tr><th scope=row>3</th><td>SYNONYMOUS_CODING    </td><td>RP11-54O7.3</td><td>SAMD11</td><td>P   </td><td>1</td><td>861354</td><td>G</td><td>A</td><td>P7C </td><td>P7C </td></tr>\n",
       "\t<tr><th scope=row>4</th><td>NON_SYNONYMOUS_CODING</td><td>NOC2L      </td><td>SAMD11</td><td>E   </td><td>1</td><td>878297</td><td>G</td><td>A</td><td>P74C</td><td>P74C</td></tr>\n",
       "\t<tr><th scope=row>5</th><td>NON_SYNONYMOUS_CODING</td><td>SAMD11     </td><td>SAMD11</td><td>E475</td><td>1</td><td>878297</td><td>G</td><td>A</td><td>P74C</td><td>P74C</td></tr>\n",
       "\t<tr><th scope=row>6</th><td>NON_SYNONYMOUS_CODING</td><td>NOC2L      </td><td>SAMD11</td><td>E   </td><td>1</td><td>878363</td><td>G</td><td>A</td><td>P74C</td><td>P74C</td></tr>\n",
       "</tbody>\n",
       "</table>\n"
      ],
      "text/latex": [
       "A data.frame: 6 × 10\n",
       "\\begin{tabular}{r|llllllllll}\n",
       "  & Variant & Gene & Protein & HGSvp\\_short & Chr & Pos & Ref & Alt & Sample & sample\\\\\n",
       "  & <chr> & <chr> & <chr> & <chr> & <chr> & <chr> & <chr> & <chr> & <chr> & <chr>\\\\\n",
       "\\hline\n",
       "\t1 & SYNONYMOUS\\_CODING     & SAMD11      & SAMD11 & P11  & 1 & 861354 & G & A & P7C  & P7C \\\\\n",
       "\t2 & SYNONYMOUS\\_CODING     & AL645608.1  & SAMD11 & P82  & 1 & 861354 & G & A & P7C  & P7C \\\\\n",
       "\t3 & SYNONYMOUS\\_CODING     & RP11-54O7.3 & SAMD11 & P    & 1 & 861354 & G & A & P7C  & P7C \\\\\n",
       "\t4 & NON\\_SYNONYMOUS\\_CODING & NOC2L       & SAMD11 & E    & 1 & 878297 & G & A & P74C & P74C\\\\\n",
       "\t5 & NON\\_SYNONYMOUS\\_CODING & SAMD11      & SAMD11 & E475 & 1 & 878297 & G & A & P74C & P74C\\\\\n",
       "\t6 & NON\\_SYNONYMOUS\\_CODING & NOC2L       & SAMD11 & E    & 1 & 878363 & G & A & P74C & P74C\\\\\n",
       "\\end{tabular}\n"
      ],
      "text/markdown": [
       "\n",
       "A data.frame: 6 × 10\n",
       "\n",
       "| <!--/--> | Variant &lt;chr&gt; | Gene &lt;chr&gt; | Protein &lt;chr&gt; | HGSvp_short &lt;chr&gt; | Chr &lt;chr&gt; | Pos &lt;chr&gt; | Ref &lt;chr&gt; | Alt &lt;chr&gt; | Sample &lt;chr&gt; | sample &lt;chr&gt; |\n",
       "|---|---|---|---|---|---|---|---|---|---|---|\n",
       "| 1 | SYNONYMOUS_CODING     | SAMD11      | SAMD11 | P11  | 1 | 861354 | G | A | P7C  | P7C  |\n",
       "| 2 | SYNONYMOUS_CODING     | AL645608.1  | SAMD11 | P82  | 1 | 861354 | G | A | P7C  | P7C  |\n",
       "| 3 | SYNONYMOUS_CODING     | RP11-54O7.3 | SAMD11 | P    | 1 | 861354 | G | A | P7C  | P7C  |\n",
       "| 4 | NON_SYNONYMOUS_CODING | NOC2L       | SAMD11 | E    | 1 | 878297 | G | A | P74C | P74C |\n",
       "| 5 | NON_SYNONYMOUS_CODING | SAMD11      | SAMD11 | E475 | 1 | 878297 | G | A | P74C | P74C |\n",
       "| 6 | NON_SYNONYMOUS_CODING | NOC2L       | SAMD11 | E    | 1 | 878363 | G | A | P74C | P74C |\n",
       "\n"
      ],
      "text/plain": [
       "  Variant               Gene        Protein HGSvp_short Chr Pos    Ref Alt\n",
       "1 SYNONYMOUS_CODING     SAMD11      SAMD11  P11         1   861354 G   A  \n",
       "2 SYNONYMOUS_CODING     AL645608.1  SAMD11  P82         1   861354 G   A  \n",
       "3 SYNONYMOUS_CODING     RP11-54O7.3 SAMD11  P           1   861354 G   A  \n",
       "4 NON_SYNONYMOUS_CODING NOC2L       SAMD11  E           1   878297 G   A  \n",
       "5 NON_SYNONYMOUS_CODING SAMD11      SAMD11  E475        1   878297 G   A  \n",
       "6 NON_SYNONYMOUS_CODING NOC2L       SAMD11  E           1   878363 G   A  \n",
       "  Sample sample\n",
       "1 P7C    P7C   \n",
       "2 P7C    P7C   \n",
       "3 P7C    P7C   \n",
       "4 P74C   P74C  \n",
       "5 P74C   P74C  \n",
       "6 P74C   P74C  "
      ]
     },
     "metadata": {},
     "output_type": "display_data"
    }
   ],
   "source": [
    "head(input_maf)"
   ]
  },
  {
   "cell_type": "code",
   "execution_count": 40,
   "id": "7f98e201-8ace-4f5d-a4c2-9930387c0da7",
   "metadata": {},
   "outputs": [],
   "source": [
    "input_maf<-input_maf %>% separate(sample,into=c('patient','sample_no'),sep=\"C\")"
   ]
  },
  {
   "cell_type": "code",
   "execution_count": 41,
   "id": "d30c7f67-1f1c-4dc5-8765-093ab7686768",
   "metadata": {},
   "outputs": [
    {
     "data": {
      "text/html": [
       "<table class=\"dataframe\">\n",
       "<caption>A data.frame: 6 × 11</caption>\n",
       "<thead>\n",
       "\t<tr><th></th><th scope=col>Variant</th><th scope=col>Gene</th><th scope=col>Protein</th><th scope=col>HGSvp_short</th><th scope=col>Chr</th><th scope=col>Pos</th><th scope=col>Ref</th><th scope=col>Alt</th><th scope=col>Sample</th><th scope=col>patient</th><th scope=col>sample_no</th></tr>\n",
       "\t<tr><th></th><th scope=col>&lt;chr&gt;</th><th scope=col>&lt;chr&gt;</th><th scope=col>&lt;chr&gt;</th><th scope=col>&lt;chr&gt;</th><th scope=col>&lt;chr&gt;</th><th scope=col>&lt;chr&gt;</th><th scope=col>&lt;chr&gt;</th><th scope=col>&lt;chr&gt;</th><th scope=col>&lt;chr&gt;</th><th scope=col>&lt;chr&gt;</th><th scope=col>&lt;chr&gt;</th></tr>\n",
       "</thead>\n",
       "<tbody>\n",
       "\t<tr><th scope=row>1</th><td>SYNONYMOUS_CODING    </td><td>SAMD11     </td><td>SAMD11</td><td>P11 </td><td>1</td><td>861354</td><td>G</td><td>A</td><td>P7C </td><td>P7 </td><td></td></tr>\n",
       "\t<tr><th scope=row>2</th><td>SYNONYMOUS_CODING    </td><td>AL645608.1 </td><td>SAMD11</td><td>P82 </td><td>1</td><td>861354</td><td>G</td><td>A</td><td>P7C </td><td>P7 </td><td></td></tr>\n",
       "\t<tr><th scope=row>3</th><td>SYNONYMOUS_CODING    </td><td>RP11-54O7.3</td><td>SAMD11</td><td>P   </td><td>1</td><td>861354</td><td>G</td><td>A</td><td>P7C </td><td>P7 </td><td></td></tr>\n",
       "\t<tr><th scope=row>4</th><td>NON_SYNONYMOUS_CODING</td><td>NOC2L      </td><td>SAMD11</td><td>E   </td><td>1</td><td>878297</td><td>G</td><td>A</td><td>P74C</td><td>P74</td><td></td></tr>\n",
       "\t<tr><th scope=row>5</th><td>NON_SYNONYMOUS_CODING</td><td>SAMD11     </td><td>SAMD11</td><td>E475</td><td>1</td><td>878297</td><td>G</td><td>A</td><td>P74C</td><td>P74</td><td></td></tr>\n",
       "\t<tr><th scope=row>6</th><td>NON_SYNONYMOUS_CODING</td><td>NOC2L      </td><td>SAMD11</td><td>E   </td><td>1</td><td>878363</td><td>G</td><td>A</td><td>P74C</td><td>P74</td><td></td></tr>\n",
       "</tbody>\n",
       "</table>\n"
      ],
      "text/latex": [
       "A data.frame: 6 × 11\n",
       "\\begin{tabular}{r|lllllllllll}\n",
       "  & Variant & Gene & Protein & HGSvp\\_short & Chr & Pos & Ref & Alt & Sample & patient & sample\\_no\\\\\n",
       "  & <chr> & <chr> & <chr> & <chr> & <chr> & <chr> & <chr> & <chr> & <chr> & <chr> & <chr>\\\\\n",
       "\\hline\n",
       "\t1 & SYNONYMOUS\\_CODING     & SAMD11      & SAMD11 & P11  & 1 & 861354 & G & A & P7C  & P7  & \\\\\n",
       "\t2 & SYNONYMOUS\\_CODING     & AL645608.1  & SAMD11 & P82  & 1 & 861354 & G & A & P7C  & P7  & \\\\\n",
       "\t3 & SYNONYMOUS\\_CODING     & RP11-54O7.3 & SAMD11 & P    & 1 & 861354 & G & A & P7C  & P7  & \\\\\n",
       "\t4 & NON\\_SYNONYMOUS\\_CODING & NOC2L       & SAMD11 & E    & 1 & 878297 & G & A & P74C & P74 & \\\\\n",
       "\t5 & NON\\_SYNONYMOUS\\_CODING & SAMD11      & SAMD11 & E475 & 1 & 878297 & G & A & P74C & P74 & \\\\\n",
       "\t6 & NON\\_SYNONYMOUS\\_CODING & NOC2L       & SAMD11 & E    & 1 & 878363 & G & A & P74C & P74 & \\\\\n",
       "\\end{tabular}\n"
      ],
      "text/markdown": [
       "\n",
       "A data.frame: 6 × 11\n",
       "\n",
       "| <!--/--> | Variant &lt;chr&gt; | Gene &lt;chr&gt; | Protein &lt;chr&gt; | HGSvp_short &lt;chr&gt; | Chr &lt;chr&gt; | Pos &lt;chr&gt; | Ref &lt;chr&gt; | Alt &lt;chr&gt; | Sample &lt;chr&gt; | patient &lt;chr&gt; | sample_no &lt;chr&gt; |\n",
       "|---|---|---|---|---|---|---|---|---|---|---|---|\n",
       "| 1 | SYNONYMOUS_CODING     | SAMD11      | SAMD11 | P11  | 1 | 861354 | G | A | P7C  | P7  | <!----> |\n",
       "| 2 | SYNONYMOUS_CODING     | AL645608.1  | SAMD11 | P82  | 1 | 861354 | G | A | P7C  | P7  | <!----> |\n",
       "| 3 | SYNONYMOUS_CODING     | RP11-54O7.3 | SAMD11 | P    | 1 | 861354 | G | A | P7C  | P7  | <!----> |\n",
       "| 4 | NON_SYNONYMOUS_CODING | NOC2L       | SAMD11 | E    | 1 | 878297 | G | A | P74C | P74 | <!----> |\n",
       "| 5 | NON_SYNONYMOUS_CODING | SAMD11      | SAMD11 | E475 | 1 | 878297 | G | A | P74C | P74 | <!----> |\n",
       "| 6 | NON_SYNONYMOUS_CODING | NOC2L       | SAMD11 | E    | 1 | 878363 | G | A | P74C | P74 | <!----> |\n",
       "\n"
      ],
      "text/plain": [
       "  Variant               Gene        Protein HGSvp_short Chr Pos    Ref Alt\n",
       "1 SYNONYMOUS_CODING     SAMD11      SAMD11  P11         1   861354 G   A  \n",
       "2 SYNONYMOUS_CODING     AL645608.1  SAMD11  P82         1   861354 G   A  \n",
       "3 SYNONYMOUS_CODING     RP11-54O7.3 SAMD11  P           1   861354 G   A  \n",
       "4 NON_SYNONYMOUS_CODING NOC2L       SAMD11  E           1   878297 G   A  \n",
       "5 NON_SYNONYMOUS_CODING SAMD11      SAMD11  E475        1   878297 G   A  \n",
       "6 NON_SYNONYMOUS_CODING NOC2L       SAMD11  E           1   878363 G   A  \n",
       "  Sample patient sample_no\n",
       "1 P7C    P7               \n",
       "2 P7C    P7               \n",
       "3 P7C    P7               \n",
       "4 P74C   P74              \n",
       "5 P74C   P74              \n",
       "6 P74C   P74              "
      ]
     },
     "metadata": {},
     "output_type": "display_data"
    }
   ],
   "source": [
    "head(input_maf)"
   ]
  },
  {
   "cell_type": "code",
   "execution_count": 42,
   "id": "3fcb8ee9-425f-46cf-8aa1-03590d838af9",
   "metadata": {},
   "outputs": [],
   "source": [
    "input_maf$sample<-input_maf$patient"
   ]
  },
  {
   "cell_type": "code",
   "execution_count": 43,
   "id": "c0099469-e744-4ee3-bda3-ac8cdbc83e4a",
   "metadata": {},
   "outputs": [
    {
     "name": "stdout",
     "output_type": "stream",
     "text": [
      "[1] \"##### Number of samples ####->117\"\n"
     ]
    }
   ],
   "source": [
    "mut_samples = unique(input_maf[, custom_maf_schema$column$sample])\n",
    "print(paste('##### Number of samples ####',length(mut_samples),sep=\"->\"))"
   ]
  },
  {
   "cell_type": "code",
   "execution_count": 44,
   "id": "54bd2792-9a60-46f8-bfc7-c612d671e9c8",
   "metadata": {},
   "outputs": [
    {
     "name": "stdout",
     "output_type": "stream",
     "text": [
      "[1] \"##### Number of lines ####->1928\"\n"
     ]
    }
   ],
   "source": [
    "maf_genes = filter_maf_gene.name(input_maf, genes = genes_to_consider, gene.col = custom_maf_schema$column$gene)\n",
    "print(paste('##### Number of lines ####',nrow(maf_genes),sep=\"->\"))"
   ]
  },
  {
   "cell_type": "code",
   "execution_count": 45,
   "id": "f56b66be-4fb6-4746-a488-b17f06112406",
   "metadata": {},
   "outputs": [
    {
     "name": "stdout",
     "output_type": "stream",
     "text": [
      "##### Creating Truncating GAM ####: 0.058 sec elapsed\n"
     ]
    }
   ],
   "source": [
    "# Creating Truncating GAM\n",
    "tic('##### Creating Truncating GAM ####')\n",
    "    maf_trunc = filter_maf_truncating(maf_genes,genes=oncokb_truncating_genes, custom_maf_schema)\n",
    "    input_maf_trunc<-filter_maf_truncating(input_maf, custom_maf_schema)\n",
    "    truncating_tmb <- data.frame('sample'=mut_samples,'mutation'=rep(0,length(mut_samples)))\n",
    "    rownames(truncating_tmb)<-mut_samples\n",
    "    temp <- input_maf_trunc %>% count(sample) \n",
    "    rownames(temp)<-temp$sample\n",
    "    truncating_tmb[intersect(truncating_tmb$sample,temp$sample),]$mutation <-temp[intersect(truncating_tmb$sample,temp$sample),'n']\n",
    "    tcga_truc_gam = maf2gam(maf_trunc,\n",
    "                     sample.col = custom_maf_schema$column$sample,\n",
    "                     gene.col = custom_maf_schema$column$gene,\n",
    "                     value.var = 'Variant',\n",
    "                     samples = mut_samples,\n",
    "                     genes = genes_to_consider,\n",
    "                     fun.aggregate = length,\n",
    "                     binarize=TRUE,\n",
    "                     fill=0)\n",
    "    truncating_data <- list('gam'=tcga_truc_gam,\n",
    "                            'tmb'=truncating_tmb)\n",
    "toc()"
   ]
  },
  {
   "cell_type": "code",
   "execution_count": 46,
   "id": "67e1ad5f-a907-44b7-8776-98d27e484cbc",
   "metadata": {},
   "outputs": [
    {
     "name": "stdout",
     "output_type": "stream",
     "text": [
      "List of 2\n",
      " $ gam: num [1:117, 1:396] 0 0 0 0 0 1 0 0 0 0 ...\n",
      "  ..- attr(*, \"dimnames\")=List of 2\n",
      "  .. ..$ : chr [1:117] \"P7\" \"P74\" \"P10\" \"P43\" ...\n",
      "  .. ..$ : chr [1:396] \"ALK\" \"APC\" \"ATM\" \"BAP1\" ...\n",
      " $ tmb:'data.frame':\t117 obs. of  2 variables:\n",
      "  ..$ sample  : chr [1:117] \"P7\" \"P74\" \"P10\" \"P43\" ...\n",
      "  ..$ mutation: num [1:117] 98 159 140 46 122 38 24 48 36 57 ...\n"
     ]
    }
   ],
   "source": [
    "str(truncating_data)"
   ]
  },
  {
   "cell_type": "code",
   "execution_count": 47,
   "id": "d2b6732e-a23c-45c9-8b92-a21307ee078d",
   "metadata": {},
   "outputs": [
    {
     "name": "stdout",
     "output_type": "stream",
     "text": [
      "##### Creating Missense GAM ####: 0.787 sec elapsed\n"
     ]
    }
   ],
   "source": [
    "tic('##### Creating Missense GAM ####')\n",
    "    maf_valid = filter_maf_schema(input_maf,\n",
    "                             schema = custom_maf_schema,\n",
    "                             column = 'mutation.type',\n",
    "                             values = custom_maf_schema[['mutation.type']][['ignore']],\n",
    "                             inclusive = FALSE)\n",
    "    missense_maf<-filter_maf_mutation.type(input_maf,\n",
    "                                      variants = 'NON_SYNONYMOUS_CODING',\n",
    "                                      variant.col = custom_maf_schema$column$mutation.type)\n",
    "    missense_tmb <- data.frame('sample'=mut_samples,'mutation'=rep(0,length(mut_samples)))\n",
    "    rownames(missense_tmb)<-mut_samples\n",
    "    temp <- missense_maf %>% count(sample) \n",
    "    rownames(temp)<-temp$sample\n",
    "    missense_tmb[intersect(missense_tmb$sample,temp$sample),]$mutation <-temp[intersect(missense_tmb$sample,temp$sample),'n']\n",
    "    t_m = substr(maf_valid[[custom_maf_schema$column$mutation]],1,1000)\n",
    "    t_m1 =  gsub('[A-Z]*$', '', t_m)\n",
    "    maf_valid$HGVSp_Short_fixed = t_m1\n",
    "    maf_hotspot = filter_maf_mutations(maf_valid,\n",
    "                                  variant_catalogue,\n",
    "                                  maf.col = c(custom_maf_schema$column$gene, 'HGVSp_Short_fixed'),\n",
    "                                  values.col = c('gene', 'mut'))\n",
    "\n",
    "    missense_tcga_gam = maf2gam(maf_hotspot,\n",
    "                     sample.col = custom_maf_schema$column$sample,\n",
    "                     gene.col = custom_maf_schema$column$gene,\n",
    "                     value.var = 'Variant',\n",
    "                     samples = mut_samples,\n",
    "                     genes = genes_to_consider,\n",
    "                     fun.aggregate = length,\n",
    "                     binarize=TRUE,\n",
    "                     fill=0)\n",
    "    missesne_data <- list('gam'=missense_tcga_gam,\n",
    "                          'tmb'=missense_tmb)\n",
    "\n",
    "toc()"
   ]
  },
  {
   "cell_type": "code",
   "execution_count": 48,
   "id": "10f51d89-8563-490b-a3a2-6cc5d6cd33ba",
   "metadata": {},
   "outputs": [
    {
     "name": "stdout",
     "output_type": "stream",
     "text": [
      "List of 2\n",
      " $ gam: num [1:117, 1:396] 0 0 0 0 0 0 0 0 0 0 ...\n",
      "  ..- attr(*, \"dimnames\")=List of 2\n",
      "  .. ..$ : chr [1:117] \"P7\" \"P74\" \"P10\" \"ZS42\" ...\n",
      "  .. ..$ : chr [1:396] \"AKT1\" \"ATM\" \"BAP1\" \"BRAF\" ...\n",
      " $ tmb:'data.frame':\t117 obs. of  2 variables:\n",
      "  ..$ sample  : chr [1:117] \"P7\" \"P74\" \"P10\" \"P43\" ...\n",
      "  ..$ mutation: num [1:117] 633 1511 886 704 1594 ...\n"
     ]
    }
   ],
   "source": [
    "str(missesne_data)"
   ]
  },
  {
   "cell_type": "code",
   "execution_count": 49,
   "id": "56066f38-ea75-4d8f-a3c1-4397ad9c0c32",
   "metadata": {},
   "outputs": [],
   "source": [
    "gene_to_take <- oncokb_genes\n",
    "order <- rownames(missesne_data$gam)\n",
    "\n",
    "data <-list('M'=list('missense'=t(missesne_data$gam[order,gene_to_take]),\n",
    "                     'truncating'=t(truncating_data$gam[rownames(missesne_data$gam[order,]),gene_to_take])),\n",
    "            'tmb'=list('missense'=missesne_data$tmb[order,],\n",
    "                       'truncating'=truncating_data$tmb[order,]))\n",
    "\n",
    "alteration_covariates <- rep('MUT',ncol(missesne_data$gam[order,gene_to_take]))\n",
    "names(alteration_covariates)<-colnames(missesne_data$gam[order,gene_to_take])"
   ]
  },
  {
   "cell_type": "code",
   "execution_count": 50,
   "id": "c5228312-00c9-4311-a8a4-86a2d99b82dc",
   "metadata": {},
   "outputs": [
    {
     "data": {
      "text/html": [
       "<table class=\"dataframe\">\n",
       "<caption>A data.frame: 6 × 12</caption>\n",
       "<thead>\n",
       "\t<tr><th></th><th scope=col>Variant</th><th scope=col>Gene</th><th scope=col>Protein</th><th scope=col>HGSvp_short</th><th scope=col>Chr</th><th scope=col>Pos</th><th scope=col>Ref</th><th scope=col>Alt</th><th scope=col>Sample</th><th scope=col>patient</th><th scope=col>sample_no</th><th scope=col>sample</th></tr>\n",
       "\t<tr><th></th><th scope=col>&lt;chr&gt;</th><th scope=col>&lt;chr&gt;</th><th scope=col>&lt;chr&gt;</th><th scope=col>&lt;chr&gt;</th><th scope=col>&lt;chr&gt;</th><th scope=col>&lt;chr&gt;</th><th scope=col>&lt;chr&gt;</th><th scope=col>&lt;chr&gt;</th><th scope=col>&lt;chr&gt;</th><th scope=col>&lt;chr&gt;</th><th scope=col>&lt;chr&gt;</th><th scope=col>&lt;chr&gt;</th></tr>\n",
       "</thead>\n",
       "<tbody>\n",
       "\t<tr><th scope=row>1</th><td>SYNONYMOUS_CODING    </td><td>SAMD11     </td><td>SAMD11</td><td>P11 </td><td>1</td><td>861354</td><td>G</td><td>A</td><td>P7C </td><td>P7 </td><td></td><td>P7 </td></tr>\n",
       "\t<tr><th scope=row>2</th><td>SYNONYMOUS_CODING    </td><td>AL645608.1 </td><td>SAMD11</td><td>P82 </td><td>1</td><td>861354</td><td>G</td><td>A</td><td>P7C </td><td>P7 </td><td></td><td>P7 </td></tr>\n",
       "\t<tr><th scope=row>3</th><td>SYNONYMOUS_CODING    </td><td>RP11-54O7.3</td><td>SAMD11</td><td>P   </td><td>1</td><td>861354</td><td>G</td><td>A</td><td>P7C </td><td>P7 </td><td></td><td>P7 </td></tr>\n",
       "\t<tr><th scope=row>4</th><td>NON_SYNONYMOUS_CODING</td><td>NOC2L      </td><td>SAMD11</td><td>E   </td><td>1</td><td>878297</td><td>G</td><td>A</td><td>P74C</td><td>P74</td><td></td><td>P74</td></tr>\n",
       "\t<tr><th scope=row>5</th><td>NON_SYNONYMOUS_CODING</td><td>SAMD11     </td><td>SAMD11</td><td>E475</td><td>1</td><td>878297</td><td>G</td><td>A</td><td>P74C</td><td>P74</td><td></td><td>P74</td></tr>\n",
       "\t<tr><th scope=row>6</th><td>NON_SYNONYMOUS_CODING</td><td>NOC2L      </td><td>SAMD11</td><td>E   </td><td>1</td><td>878363</td><td>G</td><td>A</td><td>P74C</td><td>P74</td><td></td><td>P74</td></tr>\n",
       "</tbody>\n",
       "</table>\n"
      ],
      "text/latex": [
       "A data.frame: 6 × 12\n",
       "\\begin{tabular}{r|llllllllllll}\n",
       "  & Variant & Gene & Protein & HGSvp\\_short & Chr & Pos & Ref & Alt & Sample & patient & sample\\_no & sample\\\\\n",
       "  & <chr> & <chr> & <chr> & <chr> & <chr> & <chr> & <chr> & <chr> & <chr> & <chr> & <chr> & <chr>\\\\\n",
       "\\hline\n",
       "\t1 & SYNONYMOUS\\_CODING     & SAMD11      & SAMD11 & P11  & 1 & 861354 & G & A & P7C  & P7  &  & P7 \\\\\n",
       "\t2 & SYNONYMOUS\\_CODING     & AL645608.1  & SAMD11 & P82  & 1 & 861354 & G & A & P7C  & P7  &  & P7 \\\\\n",
       "\t3 & SYNONYMOUS\\_CODING     & RP11-54O7.3 & SAMD11 & P    & 1 & 861354 & G & A & P7C  & P7  &  & P7 \\\\\n",
       "\t4 & NON\\_SYNONYMOUS\\_CODING & NOC2L       & SAMD11 & E    & 1 & 878297 & G & A & P74C & P74 &  & P74\\\\\n",
       "\t5 & NON\\_SYNONYMOUS\\_CODING & SAMD11      & SAMD11 & E475 & 1 & 878297 & G & A & P74C & P74 &  & P74\\\\\n",
       "\t6 & NON\\_SYNONYMOUS\\_CODING & NOC2L       & SAMD11 & E    & 1 & 878363 & G & A & P74C & P74 &  & P74\\\\\n",
       "\\end{tabular}\n"
      ],
      "text/markdown": [
       "\n",
       "A data.frame: 6 × 12\n",
       "\n",
       "| <!--/--> | Variant &lt;chr&gt; | Gene &lt;chr&gt; | Protein &lt;chr&gt; | HGSvp_short &lt;chr&gt; | Chr &lt;chr&gt; | Pos &lt;chr&gt; | Ref &lt;chr&gt; | Alt &lt;chr&gt; | Sample &lt;chr&gt; | patient &lt;chr&gt; | sample_no &lt;chr&gt; | sample &lt;chr&gt; |\n",
       "|---|---|---|---|---|---|---|---|---|---|---|---|---|\n",
       "| 1 | SYNONYMOUS_CODING     | SAMD11      | SAMD11 | P11  | 1 | 861354 | G | A | P7C  | P7  | <!----> | P7  |\n",
       "| 2 | SYNONYMOUS_CODING     | AL645608.1  | SAMD11 | P82  | 1 | 861354 | G | A | P7C  | P7  | <!----> | P7  |\n",
       "| 3 | SYNONYMOUS_CODING     | RP11-54O7.3 | SAMD11 | P    | 1 | 861354 | G | A | P7C  | P7  | <!----> | P7  |\n",
       "| 4 | NON_SYNONYMOUS_CODING | NOC2L       | SAMD11 | E    | 1 | 878297 | G | A | P74C | P74 | <!----> | P74 |\n",
       "| 5 | NON_SYNONYMOUS_CODING | SAMD11      | SAMD11 | E475 | 1 | 878297 | G | A | P74C | P74 | <!----> | P74 |\n",
       "| 6 | NON_SYNONYMOUS_CODING | NOC2L       | SAMD11 | E    | 1 | 878363 | G | A | P74C | P74 | <!----> | P74 |\n",
       "\n"
      ],
      "text/plain": [
       "  Variant               Gene        Protein HGSvp_short Chr Pos    Ref Alt\n",
       "1 SYNONYMOUS_CODING     SAMD11      SAMD11  P11         1   861354 G   A  \n",
       "2 SYNONYMOUS_CODING     AL645608.1  SAMD11  P82         1   861354 G   A  \n",
       "3 SYNONYMOUS_CODING     RP11-54O7.3 SAMD11  P           1   861354 G   A  \n",
       "4 NON_SYNONYMOUS_CODING NOC2L       SAMD11  E           1   878297 G   A  \n",
       "5 NON_SYNONYMOUS_CODING SAMD11      SAMD11  E475        1   878297 G   A  \n",
       "6 NON_SYNONYMOUS_CODING NOC2L       SAMD11  E           1   878363 G   A  \n",
       "  Sample patient sample_no sample\n",
       "1 P7C    P7                P7    \n",
       "2 P7C    P7                P7    \n",
       "3 P7C    P7                P7    \n",
       "4 P74C   P74               P74   \n",
       "5 P74C   P74               P74   \n",
       "6 P74C   P74               P74   "
      ]
     },
     "metadata": {},
     "output_type": "display_data"
    }
   ],
   "source": [
    "head(input_maf)"
   ]
  },
  {
   "cell_type": "code",
   "execution_count": 51,
   "id": "4c8b90ac-6ee3-44c2-8620-70f75c0b549b",
   "metadata": {
    "scrolled": true
   },
   "outputs": [],
   "source": [
    "sample_covariates<-rep('cancer',119)\n",
    "names(sample_covariates)<-(input_maf %>% select(sample) %>% distinct())$sample"
   ]
  },
  {
   "cell_type": "code",
   "execution_count": 52,
   "id": "d0e30b66-0bdb-4149-9e7a-d76c71cedd8a",
   "metadata": {},
   "outputs": [],
   "source": [
    "run_data <- list('M'=data,'sample.class' = sample_covariates[order],'alteration.class' = alteration_covariates)"
   ]
  },
  {
   "cell_type": "code",
   "execution_count": 53,
   "id": "d06a2121-2722-4866-9ae1-1bdb145bef21",
   "metadata": {},
   "outputs": [
    {
     "name": "stdout",
     "output_type": "stream",
     "text": [
      "List of 3\n",
      " $ M               :List of 2\n",
      "  ..$ M  :List of 2\n",
      "  .. ..$ missense  : num [1:396, 1:117] 0 0 0 0 0 0 0 0 0 0 ...\n",
      "  .. .. ..- attr(*, \"dimnames\")=List of 2\n",
      "  .. .. .. ..$ : chr [1:396] \"AKT1\" \"ALK\" \"APC\" \"AR\" ...\n",
      "  .. .. .. ..$ : chr [1:117] \"P7\" \"P74\" \"P10\" \"ZS42\" ...\n",
      "  .. ..$ truncating: num [1:396, 1:117] 0 0 0 0 0 0 0 0 0 0 ...\n",
      "  .. .. ..- attr(*, \"dimnames\")=List of 2\n",
      "  .. .. .. ..$ : chr [1:396] \"AKT1\" \"ALK\" \"APC\" \"AR\" ...\n",
      "  .. .. .. ..$ : chr [1:117] \"P7\" \"P74\" \"P10\" \"ZS42\" ...\n",
      "  ..$ tmb:List of 2\n",
      "  .. ..$ missense  :'data.frame':\t117 obs. of  2 variables:\n",
      "  .. .. ..$ sample  : chr [1:117] \"P7\" \"P74\" \"P10\" \"ZS42\" ...\n",
      "  .. .. ..$ mutation: num [1:117] 633 1511 886 1594 368 ...\n",
      "  .. ..$ truncating:'data.frame':\t117 obs. of  2 variables:\n",
      "  .. .. ..$ sample  : chr [1:117] \"P7\" \"P74\" \"P10\" \"ZS42\" ...\n",
      "  .. .. ..$ mutation: num [1:117] 98 159 140 122 38 151 13 33 67 128 ...\n",
      " $ sample.class    : Named chr [1:117] \"cancer\" \"cancer\" \"cancer\" \"cancer\" ...\n",
      "  ..- attr(*, \"names\")= chr [1:117] \"P7\" \"P74\" \"P10\" \"ZS42\" ...\n",
      " $ alteration.class: Named chr [1:396] \"MUT\" \"MUT\" \"MUT\" \"MUT\" ...\n",
      "  ..- attr(*, \"names\")= chr [1:396] \"AKT1\" \"ALK\" \"APC\" \"AR\" ...\n"
     ]
    }
   ],
   "source": [
    "str(run_data)"
   ]
  },
  {
   "cell_type": "code",
   "execution_count": 54,
   "id": "465a50db-f27c-4557-ad08-9c533eed6c9e",
   "metadata": {},
   "outputs": [],
   "source": [
    "cancer_run_data <- run_data"
   ]
  },
  {
   "cell_type": "code",
   "execution_count": 55,
   "id": "c0946e82-485b-4d40-b3d3-f32849b31ede",
   "metadata": {},
   "outputs": [
    {
     "name": "stdout",
     "output_type": "stream",
     "text": [
      "List of 3\n",
      " $ M               :List of 2\n",
      "  ..$ M  :List of 2\n",
      "  .. ..$ missense  : num [1:396, 1:117] 0 0 0 0 0 0 0 0 0 0 ...\n",
      "  .. .. ..- attr(*, \"dimnames\")=List of 2\n",
      "  .. .. .. ..$ : chr [1:396] \"AKT1\" \"ALK\" \"APC\" \"AR\" ...\n",
      "  .. .. .. ..$ : chr [1:117] \"P7\" \"P74\" \"P10\" \"ZS42\" ...\n",
      "  .. ..$ truncating: num [1:396, 1:117] 0 0 0 0 0 0 0 0 0 0 ...\n",
      "  .. .. ..- attr(*, \"dimnames\")=List of 2\n",
      "  .. .. .. ..$ : chr [1:396] \"AKT1\" \"ALK\" \"APC\" \"AR\" ...\n",
      "  .. .. .. ..$ : chr [1:117] \"P7\" \"P74\" \"P10\" \"ZS42\" ...\n",
      "  ..$ tmb:List of 2\n",
      "  .. ..$ missense  :'data.frame':\t117 obs. of  2 variables:\n",
      "  .. .. ..$ sample  : chr [1:117] \"P7\" \"P74\" \"P10\" \"ZS42\" ...\n",
      "  .. .. ..$ mutation: num [1:117] 633 1511 886 1594 368 ...\n",
      "  .. ..$ truncating:'data.frame':\t117 obs. of  2 variables:\n",
      "  .. .. ..$ sample  : chr [1:117] \"P7\" \"P74\" \"P10\" \"ZS42\" ...\n",
      "  .. .. ..$ mutation: num [1:117] 98 159 140 122 38 151 13 33 67 128 ...\n",
      " $ sample.class    : Named chr [1:117] \"cancer\" \"cancer\" \"cancer\" \"cancer\" ...\n",
      "  ..- attr(*, \"names\")= chr [1:117] \"P7\" \"P74\" \"P10\" \"ZS42\" ...\n",
      " $ alteration.class: Named chr [1:396] \"MUT\" \"MUT\" \"MUT\" \"MUT\" ...\n",
      "  ..- attr(*, \"names\")= chr [1:396] \"AKT1\" \"ALK\" \"APC\" \"AR\" ...\n"
     ]
    }
   ],
   "source": [
    "str(cancer_run_data)"
   ]
  },
  {
   "cell_type": "code",
   "execution_count": 56,
   "id": "7af04884-d1e7-4475-891d-b11e69761aae",
   "metadata": {},
   "outputs": [
    {
     "data": {
      "text/html": [
       "104"
      ],
      "text/latex": [
       "104"
      ],
      "text/markdown": [
       "104"
      ],
      "text/plain": [
       "[1] 104"
      ]
     },
     "metadata": {},
     "output_type": "display_data"
    },
    {
     "data": {
      "text/html": [
       "263"
      ],
      "text/latex": [
       "263"
      ],
      "text/markdown": [
       "263"
      ],
      "text/plain": [
       "[1] 263"
      ]
     },
     "metadata": {},
     "output_type": "display_data"
    }
   ],
   "source": [
    "sum(cancer_run_data$M$M$missense)\n",
    "sum(cancer_run_data$M$M$truncating)"
   ]
  },
  {
   "cell_type": "code",
   "execution_count": null,
   "id": "65b176da-e350-463f-b542-27c783c10dbe",
   "metadata": {},
   "outputs": [],
   "source": [
    "saveRDS(cancer_run_data,file='/mnt/ndata/arvind/co_mutation_project/analysis/normal_mutation/data/li_et_al_cancer_run_data_patient_v2.rds')"
   ]
  }
 ],
 "metadata": {
  "kernelspec": {
   "display_name": "R",
   "language": "R",
   "name": "ir"
  },
  "language_info": {
   "codemirror_mode": "r",
   "file_extension": ".r",
   "mimetype": "text/x-r-source",
   "name": "R",
   "pygments_lexer": "r",
   "version": "4.3.2"
  }
 },
 "nbformat": 4,
 "nbformat_minor": 5
}
