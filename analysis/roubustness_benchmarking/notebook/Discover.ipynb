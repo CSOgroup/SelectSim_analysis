{
 "cells": [
  {
   "cell_type": "code",
   "execution_count": 1,
   "id": "7bed9174-7da9-4f81-9aab-5b8429f2443d",
   "metadata": {},
   "outputs": [
    {
     "name": "stderr",
     "output_type": "stream",
     "text": [
      "── \u001b[1mAttaching core tidyverse packages\u001b[22m ───────────────────────────────────────────────────────────────────────────────────────────────────────────────────────────────────── tidyverse 2.0.0 ──\n",
      "\u001b[32m✔\u001b[39m \u001b[34mdplyr    \u001b[39m 1.1.4     \u001b[32m✔\u001b[39m \u001b[34mreadr    \u001b[39m 2.1.5\n",
      "\u001b[32m✔\u001b[39m \u001b[34mforcats  \u001b[39m 1.0.0     \u001b[32m✔\u001b[39m \u001b[34mstringr  \u001b[39m 1.5.1\n",
      "\u001b[32m✔\u001b[39m \u001b[34mggplot2  \u001b[39m 3.4.4     \u001b[32m✔\u001b[39m \u001b[34mtibble   \u001b[39m 3.2.1\n",
      "\u001b[32m✔\u001b[39m \u001b[34mlubridate\u001b[39m 1.9.3     \u001b[32m✔\u001b[39m \u001b[34mtidyr    \u001b[39m 1.3.0\n",
      "\u001b[32m✔\u001b[39m \u001b[34mpurrr    \u001b[39m 1.0.2     \n",
      "── \u001b[1mConflicts\u001b[22m ─────────────────────────────────────────────────────────────────────────────────────────────────────────────────────────────────────────────────────── tidyverse_conflicts() ──\n",
      "\u001b[31m✖\u001b[39m \u001b[34mdplyr\u001b[39m::\u001b[32mfilter()\u001b[39m masks \u001b[34mstats\u001b[39m::filter()\n",
      "\u001b[31m✖\u001b[39m \u001b[34mdplyr\u001b[39m::\u001b[32mlag()\u001b[39m    masks \u001b[34mstats\u001b[39m::lag()\n",
      "\u001b[36mℹ\u001b[39m Use the conflicted package (\u001b[3m\u001b[34m<http://conflicted.r-lib.org/>\u001b[39m\u001b[23m) to force all conflicts to become errors\n"
     ]
    }
   ],
   "source": [
    "library(\"discover\")\n",
    "library(\"tidyverse\")"
   ]
  },
  {
   "cell_type": "code",
   "execution_count": 2,
   "id": "c2dbaf83-321e-46f2-aba7-bbc5e417d823",
   "metadata": {
    "scrolled": true
   },
   "outputs": [
    {
     "data": {
      "text/plain": [
       "R version 4.3.2 (2023-10-31)\n",
       "Platform: x86_64-conda-linux-gnu (64-bit)\n",
       "Running under: CentOS Linux 7 (Core)\n",
       "\n",
       "Matrix products: default\n",
       "BLAS/LAPACK: /mnt/ndata/arvind/envs/R_4/lib/libopenblasp-r0.3.25.so;  LAPACK version 3.11.0\n",
       "\n",
       "locale:\n",
       " [1] LC_CTYPE=en_US.UTF-8       LC_NUMERIC=C              \n",
       " [3] LC_TIME=en_US.UTF-8        LC_COLLATE=en_US.UTF-8    \n",
       " [5] LC_MONETARY=en_US.UTF-8    LC_MESSAGES=en_US.UTF-8   \n",
       " [7] LC_PAPER=en_US.UTF-8       LC_NAME=C                 \n",
       " [9] LC_ADDRESS=C               LC_TELEPHONE=C            \n",
       "[11] LC_MEASUREMENT=en_US.UTF-8 LC_IDENTIFICATION=C       \n",
       "\n",
       "time zone: Europe/Zurich\n",
       "tzcode source: system (glibc)\n",
       "\n",
       "attached base packages:\n",
       "[1] stats     graphics  grDevices utils     datasets  methods   base     \n",
       "\n",
       "other attached packages:\n",
       " [1] lubridate_1.9.3 forcats_1.0.0   stringr_1.5.1   dplyr_1.1.4    \n",
       " [5] purrr_1.0.2     readr_2.1.5     tidyr_1.3.0     tibble_3.2.1   \n",
       " [9] ggplot2_3.4.4   tidyverse_2.0.0 discover_0.9.4 \n",
       "\n",
       "loaded via a namespace (and not attached):\n",
       " [1] gtable_0.3.4     jsonlite_1.8.8   compiler_4.3.2   crayon_1.5.2    \n",
       " [5] tidyselect_1.2.0 IRdisplay_1.1    scales_1.3.0     uuid_1.2-0      \n",
       " [9] fastmap_1.1.1    IRkernel_1.3.2   R6_2.5.1         generics_0.1.3  \n",
       "[13] munsell_0.5.0    pillar_1.9.0     tzdb_0.4.0       rlang_1.1.3     \n",
       "[17] utf8_1.2.4       stringi_1.8.3    repr_1.1.6       timechange_0.3.0\n",
       "[21] cli_3.6.2        withr_3.0.0      magrittr_2.0.3   digest_0.6.34   \n",
       "[25] grid_4.3.2       base64enc_0.1-3  hms_1.1.3        pbdZMQ_0.3-11   \n",
       "[29] lifecycle_1.0.4  vctrs_0.6.5      evaluate_0.23    glue_1.7.0      \n",
       "[33] fansi_1.0.6      colorspace_2.1-0 tools_4.3.2      pkgconfig_2.0.3 \n",
       "[37] htmltools_0.5.7 "
      ]
     },
     "metadata": {},
     "output_type": "display_data"
    }
   ],
   "source": [
    "sessionInfo()"
   ]
  },
  {
   "cell_type": "code",
   "execution_count": 3,
   "id": "79442088-c5c9-4a5d-84b2-f14e7dfbb2cc",
   "metadata": {},
   "outputs": [],
   "source": [
    "filter_run_data <- function(run_data,gene_order,sample_order){\n",
    "    final_run_data<-run_data\n",
    "    final_run_data$M$M$missense<-run_data$M$M$missense[gene_order,sample_order]\n",
    "    final_run_data$M$M$truncating<-run_data$M$M$truncating[gene_order,sample_order]\n",
    "    final_run_data$alteration.class<- run_data$alteration.class[gene_order]\n",
    "    final_run_data$sample.class<-run_data$sample.class[sample_order]\n",
    "    final_run_data$M$tmb$missense<-run_data$M$tmb$missense[sample_order,]\n",
    "    final_run_data$M$tmb$truncating<-run_data$M$tmb$truncating[sample_order,]\n",
    "    return(final_run_data)\n",
    "}"
   ]
  },
  {
   "cell_type": "markdown",
   "id": "ba1426d4-5f5d-4170-98c6-9c0d88067cc3",
   "metadata": {},
   "source": [
    "# TCGA"
   ]
  },
  {
   "cell_type": "code",
   "execution_count": 4,
   "id": "4ec643d2-d8a1-45d8-ba84-d3ab08b74e19",
   "metadata": {},
   "outputs": [],
   "source": [
    "run_data <- readRDS('/mnt/ndata/arvind/co_mutation_project/data/processed/gams/pan_can_tcga_run_data.rds')"
   ]
  },
  {
   "cell_type": "code",
   "execution_count": 5,
   "id": "871b8eb2-4229-4faf-acd3-4dbe83d2cf94",
   "metadata": {},
   "outputs": [
    {
     "name": "stdout",
     "output_type": "stream",
     "text": [
      "List of 3\n",
      " $ M               :List of 2\n",
      "  ..$ M  :List of 2\n",
      "  .. ..$ missense  : num [1:396, 1:9082] 0 0 0 0 0 0 0 0 0 0 ...\n",
      "  .. .. ..- attr(*, \"dimnames\")=List of 2\n",
      "  .. .. .. ..$ : chr [1:396] \"AKT1\" \"ALK\" \"APC\" \"AR\" ...\n",
      "  .. .. .. ..$ : chr [1:9082] \"TCGA-02-0047-01\" \"TCGA-02-0055-01\" \"TCGA-AB-2805-03\" \"TCGA-AB-2806-03\" ...\n",
      "  .. ..$ truncating: num [1:396, 1:9082] 0 0 0 0 0 0 0 0 0 0 ...\n",
      "  .. .. ..- attr(*, \"dimnames\")=List of 2\n",
      "  .. .. .. ..$ : chr [1:396] \"AKT1\" \"ALK\" \"APC\" \"AR\" ...\n",
      "  .. .. .. ..$ : chr [1:9082] \"TCGA-02-0047-01\" \"TCGA-02-0055-01\" \"TCGA-AB-2805-03\" \"TCGA-AB-2806-03\" ...\n",
      "  ..$ tmb:List of 2\n",
      "  .. ..$ missense  :'data.frame':\t9082 obs. of  2 variables:\n",
      "  .. .. ..$ sample  : chr [1:9082] \"TCGA-02-0047-01\" \"TCGA-02-0055-01\" \"TCGA-AB-2805-03\" \"TCGA-AB-2806-03\" ...\n",
      "  .. .. ..$ mutation: num [1:9082] 56 47 40 422 214 588 14 8 19 8 ...\n",
      "  .. ..$ truncating:'data.frame':\t9082 obs. of  2 variables:\n",
      "  .. .. ..$ sample  : chr [1:9082] \"TCGA-02-0047-01\" \"TCGA-02-0055-01\" \"TCGA-AB-2805-03\" \"TCGA-AB-2806-03\" ...\n",
      "  .. .. ..$ mutation: num [1:9082] 7 3 17 85 47 183 3 3 1 2 ...\n",
      " $ sample.class    : Named chr [1:9082] \"GBM\" \"GBM\" \"LAML\" \"LAML\" ...\n",
      "  ..- attr(*, \"names\")= chr [1:9082] \"TCGA-02-0047-01\" \"TCGA-02-0055-01\" \"TCGA-AB-2805-03\" \"TCGA-AB-2806-03\" ...\n",
      " $ alteration.class: Named chr [1:396] \"MUT\" \"MUT\" \"MUT\" \"MUT\" ...\n",
      "  ..- attr(*, \"names\")= chr [1:396] \"AKT1\" \"ALK\" \"APC\" \"AR\" ...\n"
     ]
    }
   ],
   "source": [
    "str(run_data)"
   ]
  },
  {
   "cell_type": "code",
   "execution_count": 7,
   "id": "ecdcfa26-538f-4744-ad4a-fd9afdc64e85",
   "metadata": {},
   "outputs": [],
   "source": [
    "globa_gam<-run_data$M$M[[1]]+run_data$M$M[[2]][rownames(run_data$M$M[[1]]),colnames(run_data$M$M[[1]])]\n",
    "globa_gam[globa_gam>1]<-1"
   ]
  },
  {
   "cell_type": "code",
   "execution_count": 8,
   "id": "c95a0f7e-5bca-4d53-bad8-3f1288bca223",
   "metadata": {},
   "outputs": [
    {
     "data": {
      "text/html": [
       "<style>\n",
       ".list-inline {list-style: none; margin:0; padding: 0}\n",
       ".list-inline>li {display: inline-block}\n",
       ".list-inline>li:not(:last-child)::after {content: \"\\00b7\"; padding: 0 .5ex}\n",
       "</style>\n",
       "<ol class=list-inline><li>396</li><li>9082</li></ol>\n"
      ],
      "text/latex": [
       "\\begin{enumerate*}\n",
       "\\item 396\n",
       "\\item 9082\n",
       "\\end{enumerate*}\n"
      ],
      "text/markdown": [
       "1. 396\n",
       "2. 9082\n",
       "\n",
       "\n"
      ],
      "text/plain": [
       "[1]  396 9082"
      ]
     },
     "metadata": {},
     "output_type": "display_data"
    }
   ],
   "source": [
    "dim(globa_gam)"
   ]
  },
  {
   "cell_type": "code",
   "execution_count": null,
   "id": "b22fd7fa-99fe-4324-b302-5fc060f5fb00",
   "metadata": {},
   "outputs": [],
   "source": [
    "gam_discover <-discover.matrix(globa_gam[,names(run_data$sample.class)],strata = unlist(run_data$sample.class))"
   ]
  },
  {
   "cell_type": "code",
   "execution_count": null,
   "id": "a285b2a8-572f-40a9-b3c5-b9b5d9ad71e2",
   "metadata": {},
   "outputs": [],
   "source": [
    "result.mutex <- pairwise.discover.test(gam_discover,fdr.method='DBH',alternative='less')\n",
    "result.co <- pairwise.discover.test(gam_discover,fdr.method='DBH',alternative='greater')\n",
    "ME_discover <- as.data.frame(result.mutex,q.threshold=0.25)\n",
    "CO_discover <- as.data.frame(result.co,q.threshold=0.25)\n",
    "discover_result <- rbind(ME_discover,CO_discover)"
   ]
  },
  {
   "cell_type": "code",
   "execution_count": null,
   "id": "53f53539-237a-41a6-a093-146cee0b750f",
   "metadata": {},
   "outputs": [],
   "source": [
    "saveRDS(discover_result,file='../results/Discover/tcga_all.rds')"
   ]
  },
  {
   "cell_type": "markdown",
   "id": "42c1187e-c2d7-402e-91f7-2f2eff2b33a0",
   "metadata": {},
   "source": [
    "## TCGA sampling "
   ]
  },
  {
   "cell_type": "code",
   "execution_count": 10,
   "id": "7e9c2f10-b90a-4f79-9be9-b5d7a17dcd1c",
   "metadata": {},
   "outputs": [],
   "source": [
    "sampling_list <- readRDS('/mnt/ptemp/arvind/robustness_analysis/TCGA robustness analysis/data/sampling_list.rds')"
   ]
  },
  {
   "cell_type": "code",
   "execution_count": 11,
   "id": "1d5b5e65-6aef-4193-8dc2-6b5eed11a415",
   "metadata": {},
   "outputs": [],
   "source": [
    "sample_list<- sampling_list[26:30]"
   ]
  },
  {
   "cell_type": "code",
   "execution_count": 12,
   "id": "43560d59-11e2-4d8c-a770-d13693cf5ce3",
   "metadata": {},
   "outputs": [
    {
     "name": "stdout",
     "output_type": "stream",
     "text": [
      "List of 5\n",
      " $ : Named chr [1:7266] \"BRCA_LumA\" \"THYM\" \"BRCA_LumA\" \"LIHC\" ...\n",
      "  ..- attr(*, \"names\")= chr [1:7266] \"TCGA-A2-A0YD-01\" \"TCGA-ZB-A96D-01\" \"TCGA-AO-A0JF-01\" \"TCGA-KR-A7K2-01\" ...\n",
      " $ : Named chr [1:7266] \"BLCA\" \"HNSC_HPV-\" \"OV\" \"CHOL\" ...\n",
      "  ..- attr(*, \"names\")= chr [1:7266] \"TCGA-XF-A9SI-01\" \"TCGA-UF-A7JO-01\" \"TCGA-61-2110-01\" \"TCGA-W5-AA38-01\" ...\n",
      " $ : Named chr [1:7266] \"BLCA\" \"CRC_CIN\" \"MESO\" \"GBM\" ...\n",
      "  ..- attr(*, \"names\")= chr [1:7266] \"TCGA-E5-A4U1-01\" \"TCGA-DM-A285-01\" \"TCGA-ZN-A9VS-01\" \"TCGA-06-2558-01\" ...\n",
      " $ : Named chr [1:7266] \"UCEC_MSI\" \"BRCA_LumA\" \"SARC_LMS\" \"BRCA_LumB\" ...\n",
      "  ..- attr(*, \"names\")= chr [1:7266] \"TCGA-AX-A1C4-01\" \"TCGA-AQ-A1H2-01\" \"TCGA-DX-A6Z2-01\" \"TCGA-AR-A24Z-01\" ...\n",
      " $ : Named chr [1:7266] \"BRCA_Basal\" \"LAML\" \"SKCM\" \"BRCA_Her2\" ...\n",
      "  ..- attr(*, \"names\")= chr [1:7266] \"TCGA-E9-A22G-01\" \"TCGA-AB-2815-03\" \"TCGA-GN-A265-06\" \"TCGA-A8-A09G-01\" ...\n"
     ]
    }
   ],
   "source": [
    "str(sample_list)"
   ]
  },
  {
   "cell_type": "code",
   "execution_count": 13,
   "id": "16012fc7-fc7b-4b6c-b4d4-747eac9d77b2",
   "metadata": {},
   "outputs": [
    {
     "data": {
      "text/html": [
       "<style>\n",
       ".list-inline {list-style: none; margin:0; padding: 0}\n",
       ".list-inline>li {display: inline-block}\n",
       ".list-inline>li:not(:last-child)::after {content: \"\\00b7\"; padding: 0 .5ex}\n",
       "</style>\n",
       "<ol class=list-inline><li>396</li><li>9082</li></ol>\n"
      ],
      "text/latex": [
       "\\begin{enumerate*}\n",
       "\\item 396\n",
       "\\item 9082\n",
       "\\end{enumerate*}\n"
      ],
      "text/markdown": [
       "1. 396\n",
       "2. 9082\n",
       "\n",
       "\n"
      ],
      "text/plain": [
       "[1]  396 9082"
      ]
     },
     "metadata": {},
     "output_type": "display_data"
    }
   ],
   "source": [
    "dim(globa_gam)"
   ]
  },
  {
   "cell_type": "code",
   "execution_count": null,
   "id": "48caac68-e54e-4df0-8f96-42bc7aecbbe1",
   "metadata": {},
   "outputs": [],
   "source": [
    "results_discover <- list()\n",
    "k=1\n",
    "for (obj in sample_list[1:5] ){\n",
    "    print(paste('#Running run-> ',k))\n",
    "    samples<-names(obj)\n",
    "    local_gam <- globa_gam[,samples]\n",
    "    print(dim(local_gam))\n",
    "    gam_discover <-discover.matrix(local_gam,strata = unlist(obj))\n",
    "    \n",
    "    # Generating Results discover\n",
    "    result.mutex <- pairwise.discover.test(gam_discover,fdr.method='DBH',alternative='less')\n",
    "    result.co <- pairwise.discover.test(gam_discover,fdr.method='DBH',alternative='greater')\n",
    "    ME_discover <- as.data.frame(result.mutex,q.threshold=0.25)\n",
    "    CO_discover <- as.data.frame(result.co,q.threshold=0.25)\n",
    "    discover_result <- rbind(ME_discover,CO_discover)\n",
    "    discover_result$type <- c(rep('ME',nrow(ME_discover)),rep('CO',nrow(CO_discover)))\n",
    "    results_discover[[k]]<-discover_result\n",
    "    k=k+1\n",
    "\n",
    "}"
   ]
  },
  {
   "cell_type": "code",
   "execution_count": null,
   "id": "b81ec431-156d-4455-a5ec-f86f17a9a9eb",
   "metadata": {},
   "outputs": [],
   "source": [
    "str(results_discover)"
   ]
  },
  {
   "cell_type": "code",
   "execution_count": null,
   "id": "fc8b95ff-66f4-4d71-830c-7b6513877091",
   "metadata": {},
   "outputs": [],
   "source": [
    "i=1\n",
    "for(obj in results_discover){\n",
    "    saveRDS(obj,file=paste('/mnt/ptemp/arvind/tool_comaprision/results/Discover/sampling_run_tcga_result_80_',i,'.rds',sep=\"\"))        \n",
    "    i=i+1\n",
    "}"
   ]
  },
  {
   "cell_type": "code",
   "execution_count": null,
   "id": "9eadff92-23a2-406a-b7f8-011256a16f99",
   "metadata": {},
   "outputs": [],
   "source": [
    "saveRDS(results_discover,file='/mnt/ptemp/arvind/tool_comaprision/results/Discover/sampling_run_brca_result_80_list.rds')"
   ]
  },
  {
   "cell_type": "markdown",
   "id": "75c4f156-f743-4993-88e7-f25eb11bcf32",
   "metadata": {
    "jp-MarkdownHeadingCollapsed": true
   },
   "source": [
    "# LUAD"
   ]
  },
  {
   "cell_type": "code",
   "execution_count": 14,
   "id": "9e795693-52e5-409b-ba63-6064b78b34d3",
   "metadata": {},
   "outputs": [],
   "source": [
    "run_data <- readRDS('/mnt/ndata/arvind/co_mutation_project/data/processed/gams/pan_can_tcga_run_data.rds')"
   ]
  },
  {
   "cell_type": "code",
   "execution_count": 15,
   "id": "3d4deabb-45a0-4070-839e-a4a1225f8903",
   "metadata": {},
   "outputs": [],
   "source": [
    "sample_covariates<-run_data$sample.class"
   ]
  },
  {
   "cell_type": "code",
   "execution_count": 16,
   "id": "367d1094-da39-4dc0-8363-803d86f87a6d",
   "metadata": {},
   "outputs": [],
   "source": [
    "luad_samples <- names(sample_covariates[(which(sample_covariates %in% c('LUAD')))])"
   ]
  },
  {
   "cell_type": "code",
   "execution_count": 17,
   "id": "13db1ecf-d9c8-4049-a6ba-a34c873e9166",
   "metadata": {},
   "outputs": [],
   "source": [
    "data<- filter_run_data(run_data = run_data,gene_order = names(run_data$alteration.class),sample_order = luad_samples)"
   ]
  },
  {
   "cell_type": "code",
   "execution_count": 18,
   "id": "e387c9a0-f49c-4e78-9de3-79d9eaad1204",
   "metadata": {},
   "outputs": [],
   "source": [
    "globa_gam<-data$M$M[[1]]+data$M$M[[2]][rownames(data$M$M[[1]]),colnames(data$M$M[[1]])]\n",
    "globa_gam[globa_gam>1]<-1"
   ]
  },
  {
   "cell_type": "code",
   "execution_count": 19,
   "id": "a10110c0-4631-4b8c-8aeb-baa49c190444",
   "metadata": {},
   "outputs": [
    {
     "data": {
      "text/html": [
       "<style>\n",
       ".list-inline {list-style: none; margin:0; padding: 0}\n",
       ".list-inline>li {display: inline-block}\n",
       ".list-inline>li:not(:last-child)::after {content: \"\\00b7\"; padding: 0 .5ex}\n",
       "</style>\n",
       "<ol class=list-inline><li>396</li><li>502</li></ol>\n"
      ],
      "text/latex": [
       "\\begin{enumerate*}\n",
       "\\item 396\n",
       "\\item 502\n",
       "\\end{enumerate*}\n"
      ],
      "text/markdown": [
       "1. 396\n",
       "2. 502\n",
       "\n",
       "\n"
      ],
      "text/plain": [
       "[1] 396 502"
      ]
     },
     "metadata": {},
     "output_type": "display_data"
    }
   ],
   "source": [
    "dim(globa_gam)"
   ]
  },
  {
   "cell_type": "code",
   "execution_count": null,
   "id": "54689cf2-0f72-4beb-aaa2-d2ae5eee9964",
   "metadata": {},
   "outputs": [],
   "source": [
    "gam_discover <-discover.matrix(globa_gam[,names(run_data$sample.class)],strata = unlist(run_data$sample.class))"
   ]
  },
  {
   "cell_type": "code",
   "execution_count": null,
   "id": "e5a2caae-053b-4811-b568-e73dd07a823e",
   "metadata": {},
   "outputs": [],
   "source": [
    "result.mutex <- pairwise.discover.test(gam_discover,fdr.method='DBH',alternative='less')\n",
    "result.co <- pairwise.discover.test(gam_discover,fdr.method='DBH',alternative='greater')\n",
    "ME_discover <- as.data.frame(result.mutex,q.threshold=0.25)\n",
    "CO_discover <- as.data.frame(result.co,q.threshold=0.25)\n",
    "discover_result <- rbind(ME_discover,CO_discover)"
   ]
  },
  {
   "cell_type": "code",
   "execution_count": null,
   "id": "62b0568c-7a1c-4bb4-b92d-7a65b8d60e5f",
   "metadata": {},
   "outputs": [],
   "source": [
    "saveRDS(discover_result,file='../results/Discover/luad_all.rds')"
   ]
  },
  {
   "cell_type": "markdown",
   "id": "c7c550bf-b4cb-4c36-836a-30bd008ced83",
   "metadata": {},
   "source": [
    "## LUAD sampling "
   ]
  },
  {
   "cell_type": "code",
   "execution_count": 20,
   "id": "8c65d8a1-b073-43ec-924d-b453fcae1a07",
   "metadata": {},
   "outputs": [],
   "source": [
    "sample_list1 <- readRDS('/mnt/ptemp/arvind/tool_comaprision/data/sampling_list_luad.rds')\n",
    "sample_list2 <- readRDS('/mnt/ptemp/arvind/tool_comaprision/data/sampling_list_luad_2.rds')"
   ]
  },
  {
   "cell_type": "code",
   "execution_count": 21,
   "id": "a51ca9b1-a223-431f-8aee-659d708806e3",
   "metadata": {
    "scrolled": true
   },
   "outputs": [
    {
     "name": "stdout",
     "output_type": "stream",
     "text": [
      "List of 10\n",
      " $ : Named chr [1:401] \"LUAD\" \"LUAD\" \"LUAD\" \"LUAD\" ...\n",
      "  ..- attr(*, \"names\")= chr [1:401] \"TCGA-78-7539-01\" \"TCGA-99-8033-01\" \"TCGA-73-4670-01\" \"TCGA-75-5146-01\" ...\n",
      " $ : Named chr [1:401] \"LUAD\" \"LUAD\" \"LUAD\" \"LUAD\" ...\n",
      "  ..- attr(*, \"names\")= chr [1:401] \"TCGA-75-6214-01\" \"TCGA-64-5775-01\" \"TCGA-97-A4M3-01\" \"TCGA-93-A4JO-01\" ...\n",
      " $ : Named chr [1:401] \"LUAD\" \"LUAD\" \"LUAD\" \"LUAD\" ...\n",
      "  ..- attr(*, \"names\")= chr [1:401] \"TCGA-64-1679-01\" \"TCGA-64-1676-01\" \"TCGA-55-8505-01\" \"TCGA-97-8547-01\" ...\n",
      " $ : Named chr [1:401] \"LUAD\" \"LUAD\" \"LUAD\" \"LUAD\" ...\n",
      "  ..- attr(*, \"names\")= chr [1:401] \"TCGA-55-8204-01\" \"TCGA-55-8094-01\" \"TCGA-49-AARE-01\" \"TCGA-44-A47G-01\" ...\n",
      " $ : Named chr [1:401] \"LUAD\" \"LUAD\" \"LUAD\" \"LUAD\" ...\n",
      "  ..- attr(*, \"names\")= chr [1:401] \"TCGA-05-4422-01\" \"TCGA-49-AAR9-01\" \"TCGA-05-4417-01\" \"TCGA-55-6984-01\" ...\n",
      " $ : Named chr [1:401] \"LUAD\" \"LUAD\" \"LUAD\" \"LUAD\" ...\n",
      "  ..- attr(*, \"names\")= chr [1:401] \"TCGA-91-6848-01\" \"TCGA-55-6971-01\" \"TCGA-S2-AA1A-01\" \"TCGA-86-7713-01\" ...\n",
      " $ : Named chr [1:401] \"LUAD\" \"LUAD\" \"LUAD\" \"LUAD\" ...\n",
      "  ..- attr(*, \"names\")= chr [1:401] \"TCGA-MN-A4N1-01\" \"TCGA-97-A4M3-01\" \"TCGA-49-4486-01\" \"TCGA-05-4427-01\" ...\n",
      " $ : Named chr [1:401] \"LUAD\" \"LUAD\" \"LUAD\" \"LUAD\" ...\n",
      "  ..- attr(*, \"names\")= chr [1:401] \"TCGA-95-8494-01\" \"TCGA-78-7542-01\" \"TCGA-44-3396-01\" \"TCGA-97-8179-01\" ...\n",
      " $ : Named chr [1:401] \"LUAD\" \"LUAD\" \"LUAD\" \"LUAD\" ...\n",
      "  ..- attr(*, \"names\")= chr [1:401] \"TCGA-38-4631-01\" \"TCGA-55-7994-01\" \"TCGA-97-8171-01\" \"TCGA-78-8648-01\" ...\n",
      " $ : Named chr [1:401] \"LUAD\" \"LUAD\" \"LUAD\" \"LUAD\" ...\n",
      "  ..- attr(*, \"names\")= chr [1:401] \"TCGA-97-8179-01\" \"TCGA-44-2666-01\" \"TCGA-44-8119-01\" \"TCGA-78-7539-01\" ...\n"
     ]
    }
   ],
   "source": [
    "str(c(sample_list1[11:15],sample_list2[11:15]))"
   ]
  },
  {
   "cell_type": "code",
   "execution_count": null,
   "id": "abf01e70-fd61-4be9-ab1d-401daf0d822b",
   "metadata": {},
   "outputs": [],
   "source": [
    "sample_list<-c(sample_list1[11:15],sample_list2[11:15])"
   ]
  },
  {
   "cell_type": "code",
   "execution_count": null,
   "id": "bc6a6eb5-61ea-4b6e-99c8-0368e33f9789",
   "metadata": {},
   "outputs": [],
   "source": [
    "results_discover <- list()\n",
    "k=1\n",
    "for (obj in sample_list[11:20] ){\n",
    "    print(paste('#Running run-> ',k))\n",
    "    samples<-names(obj)\n",
    "    local_gam <- globa_gam[,samples]\n",
    "    print(dim(local_gam))\n",
    "    gam_discover <-discover.matrix(local_gam)\n",
    "    \n",
    "    # Generating Results discover\n",
    "    result.mutex <- pairwise.discover.test(gam_discover,fdr.method='DBH',alternative='less')\n",
    "    result.co <- pairwise.discover.test(gam_discover,fdr.method='DBH',alternative='greater')\n",
    "    ME_discover <- as.data.frame(result.mutex,q.threshold=0.25)\n",
    "    CO_discover <- as.data.frame(result.co,q.threshold=0.25)\n",
    "    discover_result <- rbind(ME_discover,CO_discover)\n",
    "    discover_result$type <- c(rep('ME',nrow(ME_discover)),rep('CO',nrow(CO_discover)))\n",
    "    results_discover[[k]]<-discover_result\n",
    "    k=k+1\n",
    "\n",
    "}"
   ]
  },
  {
   "cell_type": "code",
   "execution_count": null,
   "id": "7fddb3fb-8ecf-48cd-9f21-d29d2fc0fd36",
   "metadata": {},
   "outputs": [],
   "source": [
    "str(results_discover)"
   ]
  },
  {
   "cell_type": "code",
   "execution_count": null,
   "id": "27d23ef3-18c9-4f43-a1c2-2ce12b87d6aa",
   "metadata": {},
   "outputs": [],
   "source": [
    "i=1\n",
    "for(obj in results_discover){\n",
    "    saveRDS(obj,file=paste('/mnt/ptemp/arvind/tool_comaprision/results/Discover/sampling_run_luad_result_80_',i,'.rds',sep=\"\"))        \n",
    "    i=i+1\n",
    "}"
   ]
  },
  {
   "cell_type": "code",
   "execution_count": null,
   "id": "c1414934-e944-4574-8a39-f06e50c3e648",
   "metadata": {},
   "outputs": [],
   "source": [
    "saveRDS(results_discover,file='/mnt/ptemp/arvind/tool_comaprision/results/Discover/sampling_run_luad_result_80_list.rds')"
   ]
  }
 ],
 "metadata": {
  "kernelspec": {
   "display_name": "R",
   "language": "R",
   "name": "ir"
  },
  "language_info": {
   "codemirror_mode": "r",
   "file_extension": ".r",
   "mimetype": "text/x-r-source",
   "name": "R",
   "pygments_lexer": "r",
   "version": "4.3.2"
  }
 },
 "nbformat": 4,
 "nbformat_minor": 5
}
