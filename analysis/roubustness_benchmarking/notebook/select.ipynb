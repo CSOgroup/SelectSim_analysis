{
 "cells": [
  {
   "cell_type": "code",
   "execution_count": 1,
   "id": "9247ee53-5c6f-41aa-8236-c2b1024cebdc",
   "metadata": {},
   "outputs": [
    {
     "name": "stderr",
     "output_type": "stream",
     "text": [
      "── \u001b[1mAttaching core tidyverse packages\u001b[22m ───────────────────────────────────────────────────────────────────────────────────────────────────────────────────────────────────── tidyverse 2.0.0 ──\n",
      "\u001b[32m✔\u001b[39m \u001b[34mdplyr    \u001b[39m 1.1.4     \u001b[32m✔\u001b[39m \u001b[34mreadr    \u001b[39m 2.1.5\n",
      "\u001b[32m✔\u001b[39m \u001b[34mforcats  \u001b[39m 1.0.0     \u001b[32m✔\u001b[39m \u001b[34mstringr  \u001b[39m 1.5.1\n",
      "\u001b[32m✔\u001b[39m \u001b[34mggplot2  \u001b[39m 3.4.4     \u001b[32m✔\u001b[39m \u001b[34mtibble   \u001b[39m 3.2.1\n",
      "\u001b[32m✔\u001b[39m \u001b[34mlubridate\u001b[39m 1.9.3     \u001b[32m✔\u001b[39m \u001b[34mtidyr    \u001b[39m 1.3.0\n",
      "\u001b[32m✔\u001b[39m \u001b[34mpurrr    \u001b[39m 1.0.2     \n",
      "── \u001b[1mConflicts\u001b[22m ─────────────────────────────────────────────────────────────────────────────────────────────────────────────────────────────────────────────────────── tidyverse_conflicts() ──\n",
      "\u001b[31m✖\u001b[39m \u001b[34mdplyr\u001b[39m::\u001b[32mfilter()\u001b[39m masks \u001b[34mstats\u001b[39m::filter()\n",
      "\u001b[31m✖\u001b[39m \u001b[34mdplyr\u001b[39m::\u001b[32mlag()\u001b[39m    masks \u001b[34mstats\u001b[39m::lag()\n",
      "\u001b[31m✖\u001b[39m \u001b[34mdplyr\u001b[39m::\u001b[32mselect()\u001b[39m masks \u001b[34mselect\u001b[39m::select()\n",
      "\u001b[36mℹ\u001b[39m Use the conflicted package (\u001b[3m\u001b[34m<http://conflicted.r-lib.org/>\u001b[39m\u001b[23m) to force all conflicts to become errors\n"
     ]
    }
   ],
   "source": [
    "library(select)\n",
    "library(tidyverse)"
   ]
  },
  {
   "cell_type": "code",
   "execution_count": 2,
   "id": "e421b151-b25f-4546-b377-3436a00c2bc1",
   "metadata": {
    "scrolled": true
   },
   "outputs": [
    {
     "data": {
      "text/plain": [
       "R version 4.3.2 (2023-10-31)\n",
       "Platform: x86_64-conda-linux-gnu (64-bit)\n",
       "Running under: CentOS Linux 7 (Core)\n",
       "\n",
       "Matrix products: default\n",
       "BLAS/LAPACK: /mnt/ndata/arvind/envs/R_4/lib/libopenblasp-r0.3.25.so;  LAPACK version 3.11.0\n",
       "\n",
       "locale:\n",
       " [1] LC_CTYPE=en_US.UTF-8       LC_NUMERIC=C              \n",
       " [3] LC_TIME=en_US.UTF-8        LC_COLLATE=en_US.UTF-8    \n",
       " [5] LC_MONETARY=en_US.UTF-8    LC_MESSAGES=en_US.UTF-8   \n",
       " [7] LC_PAPER=en_US.UTF-8       LC_NAME=C                 \n",
       " [9] LC_ADDRESS=C               LC_TELEPHONE=C            \n",
       "[11] LC_MEASUREMENT=en_US.UTF-8 LC_IDENTIFICATION=C       \n",
       "\n",
       "time zone: Europe/Zurich\n",
       "tzcode source: system (glibc)\n",
       "\n",
       "attached base packages:\n",
       "[1] stats     graphics  grDevices utils     datasets  methods   base     \n",
       "\n",
       "other attached packages:\n",
       " [1] lubridate_1.9.3 forcats_1.0.0   stringr_1.5.1   dplyr_1.1.4    \n",
       " [5] purrr_1.0.2     readr_2.1.5     tidyr_1.3.0     tibble_3.2.1   \n",
       " [9] ggplot2_3.4.4   tidyverse_2.0.0 select_1.6.4   \n",
       "\n",
       "loaded via a namespace (and not attached):\n",
       " [1] utf8_1.2.4        generics_0.1.3    slam_0.1-50       stringi_1.8.3    \n",
       " [5] lattice_0.22-5    hms_1.1.3         digest_0.6.34     magrittr_2.0.3   \n",
       " [9] timechange_0.3.0  evaluate_0.23     grid_4.3.2        pbdZMQ_0.3-11    \n",
       "[13] iterators_1.0.14  fastmap_1.1.1     foreach_1.5.2     doParallel_1.0.17\n",
       "[17] jsonlite_1.8.8    Matrix_1.6-5      fansi_1.0.6       scales_1.3.0     \n",
       "[21] BiRewire_3.34.0   codetools_0.2-19  cli_3.6.2         rlang_1.1.3      \n",
       "[25] crayon_1.5.2      munsell_0.5.0     base64enc_0.1-3   withr_3.0.0      \n",
       "[29] repr_1.1.6        Rtsne_0.17        tools_4.3.2       parallel_4.3.2   \n",
       "[33] tzdb_0.4.0        uuid_1.2-0        colorspace_2.1-0  IRdisplay_1.1    \n",
       "[37] vctrs_0.6.5       R6_2.5.1          matrixStats_1.2.0 lifecycle_1.0.4  \n",
       "[41] pkgconfig_2.0.3   pillar_1.9.0      gtable_0.3.4      glue_1.7.0       \n",
       "[45] Rcpp_1.0.12       tidyselect_1.2.0  IRkernel_1.3.2    htmltools_0.5.7  \n",
       "[49] igraph_1.6.0      compiler_4.3.2   "
      ]
     },
     "metadata": {},
     "output_type": "display_data"
    }
   ],
   "source": [
    "sessionInfo()"
   ]
  },
  {
   "cell_type": "code",
   "execution_count": 3,
   "id": "b911dbde-f7c1-475a-a8eb-8d4482089315",
   "metadata": {},
   "outputs": [],
   "source": [
    "filter_run_data <- function(run_data,gene_order,sample_order){\n",
    "    final_run_data<-run_data\n",
    "    final_run_data$M$M$missense<-run_data$M$M$missense[gene_order,sample_order]\n",
    "    final_run_data$M$M$truncating<-run_data$M$M$truncating[gene_order,sample_order]\n",
    "    final_run_data$alteration.class<- run_data$alteration.class[gene_order]\n",
    "    final_run_data$sample.class<-run_data$sample.class[sample_order]\n",
    "    final_run_data$M$tmb$missense<-run_data$M$tmb$missense[sample_order,]\n",
    "    final_run_data$M$tmb$truncating<-run_data$M$tmb$truncating[sample_order,]\n",
    "    return(final_run_data)\n",
    "}"
   ]
  },
  {
   "cell_type": "markdown",
   "id": "35d72b8e-c481-4d53-8166-ca8e1c566e63",
   "metadata": {},
   "source": [
    "# Note\n",
    "- Similar way to do for TCGA pan-cancer oncogenic and silent mutations"
   ]
  },
  {
   "cell_type": "markdown",
   "id": "d670ed27-c0e9-47fe-af93-8a8be63ce2aa",
   "metadata": {},
   "source": [
    "# LUAD"
   ]
  },
  {
   "cell_type": "code",
   "execution_count": 4,
   "id": "9fe7d5a6-1a59-4c60-b3e9-c04aeb8d55cf",
   "metadata": {},
   "outputs": [],
   "source": [
    "run_data <- readRDS('/mnt/ndata/arvind/co_mutation_project/data/processed/gams/pan_can_tcga_run_data.rds')"
   ]
  },
  {
   "cell_type": "code",
   "execution_count": 5,
   "id": "69ec125d-a8ca-44f1-a04d-c37e0ee97fb4",
   "metadata": {},
   "outputs": [],
   "source": [
    "sample_covariates<-run_data$sample.class"
   ]
  },
  {
   "cell_type": "code",
   "execution_count": 6,
   "id": "bddb7be7-acbd-4f6e-9a82-960b97360b76",
   "metadata": {},
   "outputs": [],
   "source": [
    "luad_samples <- names(sample_covariates[(which(sample_covariates %in% c('LUAD')))])"
   ]
  },
  {
   "cell_type": "code",
   "execution_count": 7,
   "id": "8e28e7ee-29bd-4a13-8093-d6f37d6dee6f",
   "metadata": {},
   "outputs": [],
   "source": [
    "data<- filter_run_data(run_data = run_data,gene_order = names(run_data$alteration.class),sample_order = luad_samples)"
   ]
  },
  {
   "cell_type": "code",
   "execution_count": 8,
   "id": "81308595-f30b-48be-8792-3a076a971b43",
   "metadata": {},
   "outputs": [
    {
     "name": "stdout",
     "output_type": "stream",
     "text": [
      "List of 3\n",
      " $ M               :List of 2\n",
      "  ..$ M  :List of 2\n",
      "  .. ..$ missense  : num [1:396, 1:9082] 0 0 0 0 0 0 0 0 0 0 ...\n",
      "  .. .. ..- attr(*, \"dimnames\")=List of 2\n",
      "  .. .. .. ..$ : chr [1:396] \"AKT1\" \"ALK\" \"APC\" \"AR\" ...\n",
      "  .. .. .. ..$ : chr [1:9082] \"TCGA-02-0047-01\" \"TCGA-02-0055-01\" \"TCGA-AB-2805-03\" \"TCGA-AB-2806-03\" ...\n",
      "  .. ..$ truncating: num [1:396, 1:9082] 0 0 0 0 0 0 0 0 0 0 ...\n",
      "  .. .. ..- attr(*, \"dimnames\")=List of 2\n",
      "  .. .. .. ..$ : chr [1:396] \"AKT1\" \"ALK\" \"APC\" \"AR\" ...\n",
      "  .. .. .. ..$ : chr [1:9082] \"TCGA-02-0047-01\" \"TCGA-02-0055-01\" \"TCGA-AB-2805-03\" \"TCGA-AB-2806-03\" ...\n",
      "  ..$ tmb:List of 2\n",
      "  .. ..$ missense  :'data.frame':\t9082 obs. of  2 variables:\n",
      "  .. .. ..$ sample  : chr [1:9082] \"TCGA-02-0047-01\" \"TCGA-02-0055-01\" \"TCGA-AB-2805-03\" \"TCGA-AB-2806-03\" ...\n",
      "  .. .. ..$ mutation: num [1:9082] 56 47 40 422 214 588 14 8 19 8 ...\n",
      "  .. ..$ truncating:'data.frame':\t9082 obs. of  2 variables:\n",
      "  .. .. ..$ sample  : chr [1:9082] \"TCGA-02-0047-01\" \"TCGA-02-0055-01\" \"TCGA-AB-2805-03\" \"TCGA-AB-2806-03\" ...\n",
      "  .. .. ..$ mutation: num [1:9082] 7 3 17 85 47 183 3 3 1 2 ...\n",
      " $ sample.class    : Named chr [1:9082] \"GBM\" \"GBM\" \"LAML\" \"LAML\" ...\n",
      "  ..- attr(*, \"names\")= chr [1:9082] \"TCGA-02-0047-01\" \"TCGA-02-0055-01\" \"TCGA-AB-2805-03\" \"TCGA-AB-2806-03\" ...\n",
      " $ alteration.class: Named chr [1:396] \"MUT\" \"MUT\" \"MUT\" \"MUT\" ...\n",
      "  ..- attr(*, \"names\")= chr [1:396] \"AKT1\" \"ALK\" \"APC\" \"AR\" ...\n"
     ]
    }
   ],
   "source": [
    "str(run_data)"
   ]
  },
  {
   "cell_type": "code",
   "execution_count": 9,
   "id": "b763bea7-d2f6-4192-a9f2-0846eae25276",
   "metadata": {},
   "outputs": [],
   "source": [
    "gam<-data$M$M[[1]]+data$M$M[[2]][rownames(data$M$M[[1]]),colnames(data$M$M[[1]])]"
   ]
  },
  {
   "cell_type": "code",
   "execution_count": 10,
   "id": "b5b17643-cea3-46d9-967d-8ef09899ac75",
   "metadata": {},
   "outputs": [],
   "source": [
    "gam[gam>1]<-1"
   ]
  },
  {
   "cell_type": "code",
   "execution_count": 13,
   "id": "459ab2fb-958e-403f-a596-b83f1e7d6c67",
   "metadata": {},
   "outputs": [],
   "source": [
    "gam_list <- list('gam'=t(gam),'alt'=data$alteration_covariates,'samples'=data$sample_covariates)        "
   ]
  },
  {
   "cell_type": "code",
   "execution_count": 14,
   "id": "5460dd17-25d2-462d-9abf-020e4d512218",
   "metadata": {},
   "outputs": [
    {
     "name": "stdout",
     "output_type": "stream",
     "text": [
      "List of 3\n",
      " $ gam    : num [1:502, 1:396] 0 0 0 0 0 0 0 0 0 0 ...\n",
      "  ..- attr(*, \"dimnames\")=List of 2\n",
      "  .. ..$ : chr [1:502] \"TCGA-05-4244-01\" \"TCGA-05-4249-01\" \"TCGA-05-4250-01\" \"TCGA-05-4382-01\" ...\n",
      "  .. ..$ : chr [1:396] \"AKT1\" \"ALK\" \"APC\" \"AR\" ...\n",
      " $ alt    : NULL\n",
      " $ samples: NULL\n"
     ]
    }
   ],
   "source": [
    "str(gam_list)"
   ]
  },
  {
   "cell_type": "code",
   "execution_count": null,
   "id": "fc181e85-72b9-4d6d-a8af-147deb99540c",
   "metadata": {
    "scrolled": true
   },
   "outputs": [],
   "source": [
    "select_run<-select::select(M = gam_list$gam,\n",
    "                           sample.class = gam_list$samples,\n",
    "                           alteration.class = gam_list$alt,\n",
    "                           folder ='.',\n",
    "                           r.seed = 110,\n",
    "                           n.cores = 30,\n",
    "                           n.permut = 1000,\n",
    "                           min.feature.support = 1,\n",
    "                           save.intermediate.files=FALSE,\n",
    "                           randomization.switch.threshold =20,\n",
    "                           verbose = TRUE,\n",
    "                           FDR.thresh = 0.25)"
   ]
  },
  {
   "cell_type": "code",
   "execution_count": 22,
   "id": "da848344-b671-4b25-86c7-51989444e324",
   "metadata": {},
   "outputs": [
    {
     "data": {
      "text/html": [
       "<table class=\"dataframe\">\n",
       "<caption>A data.frame: 2 × 2</caption>\n",
       "<thead>\n",
       "\t<tr><th scope=col>direction</th><th scope=col>n</th></tr>\n",
       "\t<tr><th scope=col>&lt;chr&gt;</th><th scope=col>&lt;int&gt;</th></tr>\n",
       "</thead>\n",
       "<tbody>\n",
       "\t<tr><td>CO</td><td>117</td></tr>\n",
       "\t<tr><td>ME</td><td> 79</td></tr>\n",
       "</tbody>\n",
       "</table>\n"
      ],
      "text/latex": [
       "A data.frame: 2 × 2\n",
       "\\begin{tabular}{ll}\n",
       " direction & n\\\\\n",
       " <chr> & <int>\\\\\n",
       "\\hline\n",
       "\t CO & 117\\\\\n",
       "\t ME &  79\\\\\n",
       "\\end{tabular}\n"
      ],
      "text/markdown": [
       "\n",
       "A data.frame: 2 × 2\n",
       "\n",
       "| direction &lt;chr&gt; | n &lt;int&gt; |\n",
       "|---|---|\n",
       "| CO | 117 |\n",
       "| ME |  79 |\n",
       "\n"
      ],
      "text/plain": [
       "  direction n  \n",
       "1 CO        117\n",
       "2 ME         79"
      ]
     },
     "metadata": {},
     "output_type": "display_data"
    }
   ],
   "source": [
    "select_run %>% filter(wMI_p.value_FDR) %>% count(direction)"
   ]
  },
  {
   "cell_type": "code",
   "execution_count": 14,
   "id": "e3a3b799-b085-4acb-9306-48a71fb7dc72",
   "metadata": {},
   "outputs": [],
   "source": [
    "saveRDS(select_run,'../results/luad_all_results.rds')"
   ]
  },
  {
   "cell_type": "markdown",
   "id": "4706648e-0dfd-4640-9d87-bfdf5916bb73",
   "metadata": {
    "tags": []
   },
   "source": [
    "## Sampling Run"
   ]
  },
  {
   "cell_type": "code",
   "execution_count": 15,
   "id": "b19cd172-d09f-4666-89b6-5b9d6b472dae",
   "metadata": {},
   "outputs": [],
   "source": [
    "sample_list1 <- readRDS('/mnt/ptemp/arvind/tool_comaprision/data/sampling_list_luad.rds')\n",
    "sample_list2 <- readRDS('/mnt/ptemp/arvind/tool_comaprision/data/sampling_list_luad_2.rds')"
   ]
  },
  {
   "cell_type": "code",
   "execution_count": 16,
   "id": "438e4b25-4bf4-420b-9e1e-4cff7e6151d2",
   "metadata": {
    "scrolled": true
   },
   "outputs": [
    {
     "name": "stdout",
     "output_type": "stream",
     "text": [
      "List of 10\n",
      " $ : Named chr [1:401] \"LUAD\" \"LUAD\" \"LUAD\" \"LUAD\" ...\n",
      "  ..- attr(*, \"names\")= chr [1:401] \"TCGA-78-7539-01\" \"TCGA-99-8033-01\" \"TCGA-73-4670-01\" \"TCGA-75-5146-01\" ...\n",
      " $ : Named chr [1:401] \"LUAD\" \"LUAD\" \"LUAD\" \"LUAD\" ...\n",
      "  ..- attr(*, \"names\")= chr [1:401] \"TCGA-75-6214-01\" \"TCGA-64-5775-01\" \"TCGA-97-A4M3-01\" \"TCGA-93-A4JO-01\" ...\n",
      " $ : Named chr [1:401] \"LUAD\" \"LUAD\" \"LUAD\" \"LUAD\" ...\n",
      "  ..- attr(*, \"names\")= chr [1:401] \"TCGA-64-1679-01\" \"TCGA-64-1676-01\" \"TCGA-55-8505-01\" \"TCGA-97-8547-01\" ...\n",
      " $ : Named chr [1:401] \"LUAD\" \"LUAD\" \"LUAD\" \"LUAD\" ...\n",
      "  ..- attr(*, \"names\")= chr [1:401] \"TCGA-55-8204-01\" \"TCGA-55-8094-01\" \"TCGA-49-AARE-01\" \"TCGA-44-A47G-01\" ...\n",
      " $ : Named chr [1:401] \"LUAD\" \"LUAD\" \"LUAD\" \"LUAD\" ...\n",
      "  ..- attr(*, \"names\")= chr [1:401] \"TCGA-05-4422-01\" \"TCGA-49-AAR9-01\" \"TCGA-05-4417-01\" \"TCGA-55-6984-01\" ...\n",
      " $ : Named chr [1:401] \"LUAD\" \"LUAD\" \"LUAD\" \"LUAD\" ...\n",
      "  ..- attr(*, \"names\")= chr [1:401] \"TCGA-91-6848-01\" \"TCGA-55-6971-01\" \"TCGA-S2-AA1A-01\" \"TCGA-86-7713-01\" ...\n",
      " $ : Named chr [1:401] \"LUAD\" \"LUAD\" \"LUAD\" \"LUAD\" ...\n",
      "  ..- attr(*, \"names\")= chr [1:401] \"TCGA-MN-A4N1-01\" \"TCGA-97-A4M3-01\" \"TCGA-49-4486-01\" \"TCGA-05-4427-01\" ...\n",
      " $ : Named chr [1:401] \"LUAD\" \"LUAD\" \"LUAD\" \"LUAD\" ...\n",
      "  ..- attr(*, \"names\")= chr [1:401] \"TCGA-95-8494-01\" \"TCGA-78-7542-01\" \"TCGA-44-3396-01\" \"TCGA-97-8179-01\" ...\n",
      " $ : Named chr [1:401] \"LUAD\" \"LUAD\" \"LUAD\" \"LUAD\" ...\n",
      "  ..- attr(*, \"names\")= chr [1:401] \"TCGA-38-4631-01\" \"TCGA-55-7994-01\" \"TCGA-97-8171-01\" \"TCGA-78-8648-01\" ...\n",
      " $ : Named chr [1:401] \"LUAD\" \"LUAD\" \"LUAD\" \"LUAD\" ...\n",
      "  ..- attr(*, \"names\")= chr [1:401] \"TCGA-97-8179-01\" \"TCGA-44-2666-01\" \"TCGA-44-8119-01\" \"TCGA-78-7539-01\" ...\n"
     ]
    }
   ],
   "source": [
    "str(c(sample_list1[11:15],sample_list2[11:15]))"
   ]
  },
  {
   "cell_type": "code",
   "execution_count": 17,
   "id": "8089336b-d413-44c8-87c9-5cecf46e9d30",
   "metadata": {},
   "outputs": [],
   "source": [
    "sample_list<-c(sample_list1[11:15],sample_list2[11:15])"
   ]
  },
  {
   "cell_type": "code",
   "execution_count": 18,
   "id": "0ff9bc25-68fb-4a1f-968d-2df0dd0117fc",
   "metadata": {},
   "outputs": [
    {
     "name": "stdout",
     "output_type": "stream",
     "text": [
      "List of 10\n",
      " $ : Named chr [1:401] \"LUAD\" \"LUAD\" \"LUAD\" \"LUAD\" ...\n",
      "  ..- attr(*, \"names\")= chr [1:401] \"TCGA-78-7539-01\" \"TCGA-99-8033-01\" \"TCGA-73-4670-01\" \"TCGA-75-5146-01\" ...\n",
      " $ : Named chr [1:401] \"LUAD\" \"LUAD\" \"LUAD\" \"LUAD\" ...\n",
      "  ..- attr(*, \"names\")= chr [1:401] \"TCGA-75-6214-01\" \"TCGA-64-5775-01\" \"TCGA-97-A4M3-01\" \"TCGA-93-A4JO-01\" ...\n",
      " $ : Named chr [1:401] \"LUAD\" \"LUAD\" \"LUAD\" \"LUAD\" ...\n",
      "  ..- attr(*, \"names\")= chr [1:401] \"TCGA-64-1679-01\" \"TCGA-64-1676-01\" \"TCGA-55-8505-01\" \"TCGA-97-8547-01\" ...\n",
      " $ : Named chr [1:401] \"LUAD\" \"LUAD\" \"LUAD\" \"LUAD\" ...\n",
      "  ..- attr(*, \"names\")= chr [1:401] \"TCGA-55-8204-01\" \"TCGA-55-8094-01\" \"TCGA-49-AARE-01\" \"TCGA-44-A47G-01\" ...\n",
      " $ : Named chr [1:401] \"LUAD\" \"LUAD\" \"LUAD\" \"LUAD\" ...\n",
      "  ..- attr(*, \"names\")= chr [1:401] \"TCGA-05-4422-01\" \"TCGA-49-AAR9-01\" \"TCGA-05-4417-01\" \"TCGA-55-6984-01\" ...\n",
      " $ : Named chr [1:401] \"LUAD\" \"LUAD\" \"LUAD\" \"LUAD\" ...\n",
      "  ..- attr(*, \"names\")= chr [1:401] \"TCGA-91-6848-01\" \"TCGA-55-6971-01\" \"TCGA-S2-AA1A-01\" \"TCGA-86-7713-01\" ...\n",
      " $ : Named chr [1:401] \"LUAD\" \"LUAD\" \"LUAD\" \"LUAD\" ...\n",
      "  ..- attr(*, \"names\")= chr [1:401] \"TCGA-MN-A4N1-01\" \"TCGA-97-A4M3-01\" \"TCGA-49-4486-01\" \"TCGA-05-4427-01\" ...\n",
      " $ : Named chr [1:401] \"LUAD\" \"LUAD\" \"LUAD\" \"LUAD\" ...\n",
      "  ..- attr(*, \"names\")= chr [1:401] \"TCGA-95-8494-01\" \"TCGA-78-7542-01\" \"TCGA-44-3396-01\" \"TCGA-97-8179-01\" ...\n",
      " $ : Named chr [1:401] \"LUAD\" \"LUAD\" \"LUAD\" \"LUAD\" ...\n",
      "  ..- attr(*, \"names\")= chr [1:401] \"TCGA-38-4631-01\" \"TCGA-55-7994-01\" \"TCGA-97-8171-01\" \"TCGA-78-8648-01\" ...\n",
      " $ : Named chr [1:401] \"LUAD\" \"LUAD\" \"LUAD\" \"LUAD\" ...\n",
      "  ..- attr(*, \"names\")= chr [1:401] \"TCGA-97-8179-01\" \"TCGA-44-2666-01\" \"TCGA-44-8119-01\" \"TCGA-78-7539-01\" ...\n"
     ]
    }
   ],
   "source": [
    "str(sample_list)"
   ]
  },
  {
   "cell_type": "code",
   "execution_count": null,
   "id": "902db61f-fa13-4557-a91a-74b6aba2cf98",
   "metadata": {
    "scrolled": true
   },
   "outputs": [],
   "source": [
    "result_vec<-list()\n",
    "for(i in c(1:10)){\n",
    "    order <- names(sample_list[[i]])\n",
    "    data<- filter_run_data(run_data = run_data,gene_order = names(run_data$alteration.class),sample_order = order)\n",
    "    sample_covariates<-run_data$sample.class\n",
    "    sample_covariates<-sample_covariates[[order]]\n",
    "    data <- list('M'=data,'sample.class' = sample_covariates,'alteration.class' = alteration_covariates)\n",
    "    gam<-data$M$M[[1]]+data$M$M[[2]][rownames(data$M$M[[1]]),colnames(data$M$M[[1]])]\n",
    "    gam[gam>1]<-1\n",
    "    gam_list <- list('gam'=t(gam),'alt'=data$alteration_covariates,'samples'=data$sample_covariates)\n",
    "    select_run<-select::select(M = gam_list$gam,\n",
    "                           sample.class = gam_list$samples,\n",
    "                           alteration.class = gam_list$alt,\n",
    "                           folder ='.',\n",
    "                           r.seed = 110,\n",
    "                           n.cores = 30,\n",
    "                           n.permut = 1000,\n",
    "                           min.feature.support = 1,\n",
    "                           save.intermediate.files=FALSE,\n",
    "                           randomization.switch.threshold =20,\n",
    "                           verbose = TRUE,\n",
    "                           FDR.thresh = 0.25)\n",
    "    result_vec[[i]]<-select_run\n",
    "    saveRDS(select_run,file=paste('/mnt/ptemp/arvind/tool_comaprision/results/select/sampling_run_result_80_',i,'.rds',sep=\"\"))    \n",
    "    rm(select_run)\n",
    "}"
   ]
  }
 ],
 "metadata": {
  "kernelspec": {
   "display_name": "R",
   "language": "R",
   "name": "ir"
  },
  "language_info": {
   "codemirror_mode": "r",
   "file_extension": ".r",
   "mimetype": "text/x-r-source",
   "name": "R",
   "pygments_lexer": "r",
   "version": "4.3.2"
  }
 },
 "nbformat": 4,
 "nbformat_minor": 5
}
