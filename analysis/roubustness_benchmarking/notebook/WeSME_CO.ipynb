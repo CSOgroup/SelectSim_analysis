{
 "cells": [
  {
   "cell_type": "code",
   "execution_count": 1,
   "id": "3413197b-8ea2-4d21-8fc2-cf1810a20cb3",
   "metadata": {
    "tags": []
   },
   "outputs": [],
   "source": [
    "import pandas as pd\n",
    "import numpy as np\n",
    "import json"
   ]
  },
  {
   "cell_type": "markdown",
   "id": "b47cba38-d32f-43f4-9988-9d079fe77097",
   "metadata": {},
   "source": [
    "# Note\n",
    "- Download the python package (https://www.ncbi.nlm.nih.gov/CBBresearch/Przytycka/index.cgi#wesme)\n",
    "- Code is in python v2\n",
    "- Provided here is the processing of input and script run after puttting the files in directory as mentioned by tool"
   ]
  },
  {
   "cell_type": "code",
   "execution_count": 2,
   "id": "ae178d6a-b260-4962-a846-d3f902e7a6d5",
   "metadata": {},
   "outputs": [],
   "source": [
    "data = pd.read_csv('/mnt/ptemp/arvind/tool_comaprision/data/luad_orginal_gam_wesme.tsv',sep=\"\\t\")"
   ]
  },
  {
   "cell_type": "code",
   "execution_count": 3,
   "id": "8ebe1650-8a7c-4583-804d-6bbe455509a0",
   "metadata": {},
   "outputs": [],
   "source": [
    "with open(\"/mnt/ptemp/arvind/tool_comaprision/data/luad_sampling_list.json\") as f:\n",
    "    l = json.load(f)"
   ]
  },
  {
   "cell_type": "code",
   "execution_count": 4,
   "id": "cdc82053-1a6e-42d4-9db0-c08c23184e91",
   "metadata": {},
   "outputs": [
    {
     "data": {
      "text/plain": [
       "401"
      ]
     },
     "execution_count": 4,
     "metadata": {},
     "output_type": "execute_result"
    }
   ],
   "source": [
    "len(l[1])"
   ]
  },
  {
   "cell_type": "code",
   "execution_count": 5,
   "id": "66df1258-39bb-4809-8f05-78e42ca5ed72",
   "metadata": {},
   "outputs": [
    {
     "data": {
      "text/html": [
       "<div>\n",
       "<style scoped>\n",
       "    .dataframe tbody tr th:only-of-type {\n",
       "        vertical-align: middle;\n",
       "    }\n",
       "\n",
       "    .dataframe tbody tr th {\n",
       "        vertical-align: top;\n",
       "    }\n",
       "\n",
       "    .dataframe thead th {\n",
       "        text-align: right;\n",
       "    }\n",
       "</style>\n",
       "<table border=\"1\" class=\"dataframe\">\n",
       "  <thead>\n",
       "    <tr style=\"text-align: right;\">\n",
       "      <th></th>\n",
       "      <th>TCGA-05-4244-01</th>\n",
       "      <th>TCGA-05-4249-01</th>\n",
       "      <th>TCGA-05-4250-01</th>\n",
       "      <th>TCGA-05-4382-01</th>\n",
       "      <th>TCGA-05-4384-01</th>\n",
       "      <th>TCGA-05-4389-01</th>\n",
       "      <th>TCGA-05-4390-01</th>\n",
       "      <th>TCGA-05-4395-01</th>\n",
       "      <th>TCGA-05-4396-01</th>\n",
       "      <th>TCGA-05-4397-01</th>\n",
       "      <th>...</th>\n",
       "      <th>TCGA-NJ-A4YG-01</th>\n",
       "      <th>TCGA-NJ-A4YI-01</th>\n",
       "      <th>TCGA-NJ-A4YP-01</th>\n",
       "      <th>TCGA-NJ-A4YQ-01</th>\n",
       "      <th>TCGA-NJ-A55A-01</th>\n",
       "      <th>TCGA-NJ-A55O-01</th>\n",
       "      <th>TCGA-NJ-A55R-01</th>\n",
       "      <th>TCGA-NJ-A7XG-01</th>\n",
       "      <th>TCGA-O1-A52J-01</th>\n",
       "      <th>TCGA-S2-AA1A-01</th>\n",
       "    </tr>\n",
       "  </thead>\n",
       "  <tbody>\n",
       "    <tr>\n",
       "      <th>ABL1</th>\n",
       "      <td>0</td>\n",
       "      <td>0</td>\n",
       "      <td>0</td>\n",
       "      <td>0</td>\n",
       "      <td>0</td>\n",
       "      <td>0</td>\n",
       "      <td>0</td>\n",
       "      <td>0</td>\n",
       "      <td>0</td>\n",
       "      <td>0</td>\n",
       "      <td>...</td>\n",
       "      <td>0</td>\n",
       "      <td>0</td>\n",
       "      <td>0</td>\n",
       "      <td>0</td>\n",
       "      <td>0</td>\n",
       "      <td>0</td>\n",
       "      <td>0</td>\n",
       "      <td>0</td>\n",
       "      <td>0</td>\n",
       "      <td>0</td>\n",
       "    </tr>\n",
       "    <tr>\n",
       "      <th>AKT1</th>\n",
       "      <td>0</td>\n",
       "      <td>0</td>\n",
       "      <td>0</td>\n",
       "      <td>0</td>\n",
       "      <td>0</td>\n",
       "      <td>0</td>\n",
       "      <td>0</td>\n",
       "      <td>0</td>\n",
       "      <td>0</td>\n",
       "      <td>0</td>\n",
       "      <td>...</td>\n",
       "      <td>0</td>\n",
       "      <td>0</td>\n",
       "      <td>0</td>\n",
       "      <td>0</td>\n",
       "      <td>0</td>\n",
       "      <td>0</td>\n",
       "      <td>0</td>\n",
       "      <td>0</td>\n",
       "      <td>0</td>\n",
       "      <td>0</td>\n",
       "    </tr>\n",
       "  </tbody>\n",
       "</table>\n",
       "<p>2 rows × 502 columns</p>\n",
       "</div>"
      ],
      "text/plain": [
       "      TCGA-05-4244-01  TCGA-05-4249-01  TCGA-05-4250-01  TCGA-05-4382-01  \\\n",
       "ABL1                0                0                0                0   \n",
       "AKT1                0                0                0                0   \n",
       "\n",
       "      TCGA-05-4384-01  TCGA-05-4389-01  TCGA-05-4390-01  TCGA-05-4395-01  \\\n",
       "ABL1                0                0                0                0   \n",
       "AKT1                0                0                0                0   \n",
       "\n",
       "      TCGA-05-4396-01  TCGA-05-4397-01  ...  TCGA-NJ-A4YG-01  TCGA-NJ-A4YI-01  \\\n",
       "ABL1                0                0  ...                0                0   \n",
       "AKT1                0                0  ...                0                0   \n",
       "\n",
       "      TCGA-NJ-A4YP-01  TCGA-NJ-A4YQ-01  TCGA-NJ-A55A-01  TCGA-NJ-A55O-01  \\\n",
       "ABL1                0                0                0                0   \n",
       "AKT1                0                0                0                0   \n",
       "\n",
       "      TCGA-NJ-A55R-01  TCGA-NJ-A7XG-01  TCGA-O1-A52J-01  TCGA-S2-AA1A-01  \n",
       "ABL1                0                0                0                0  \n",
       "AKT1                0                0                0                0  \n",
       "\n",
       "[2 rows x 502 columns]"
      ]
     },
     "execution_count": 5,
     "metadata": {},
     "output_type": "execute_result"
    }
   ],
   "source": [
    "data.head(2)"
   ]
  },
  {
   "cell_type": "code",
   "execution_count": 6,
   "id": "350d8fb2-4c7e-416a-ac58-e137019dafeb",
   "metadata": {},
   "outputs": [
    {
     "data": {
      "text/plain": [
       "281"
      ]
     },
     "execution_count": 6,
     "metadata": {},
     "output_type": "execute_result"
    }
   ],
   "source": [
    "len(data.loc[:,l[1]].sum(0).loc[data.loc[:,l[1]].sum(0)!=0,].index.tolist())"
   ]
  },
  {
   "cell_type": "code",
   "execution_count": 7,
   "id": "96d5101b-2b9e-44c6-9dd9-fadfa251f29d",
   "metadata": {},
   "outputs": [
    {
     "name": "stdout",
     "output_type": "stream",
     "text": [
      "401\n",
      "401\n",
      "401\n",
      "401\n",
      "401\n",
      "401\n",
      "401\n",
      "401\n",
      "401\n",
      "401\n"
     ]
    }
   ],
   "source": [
    "k=1\n",
    "for i in range(0,10):\n",
    "    f = open('/mnt/ptemp/arvind/tool_comaprision/data/LUAD_'+str(k)+'_smut_list.txt', 'w')\n",
    "    f.write('samples\\t')\n",
    "    temp = [\"%s,\" % item  for item in data.loc[:,l[i]].sum(0).loc[data.loc[:,l[i]].sum(0)!=0,].index.tolist()]\n",
    "    f.writelines(temp[0:len(temp)-1])\n",
    "    f.writelines(str(data.columns.tolist()[-1]))\n",
    "    f.write('\\n')\n",
    "    temp = [\"%s,\" % item  for item in data.loc[:,l[i]].sum(0).loc[data.loc[:,l[i]].sum(0)!=0,].index.tolist()]\n",
    "    for index, row in data.loc[:,data.loc[:,l[i]].sum(0).loc[data.loc[:,l[i]].sum(0)!=0,].index.tolist()].iterrows():\n",
    "        result = np.where(row == 1)\n",
    "        result = result[0].tolist()\n",
    "        temp=[\"%s,\" % item  for item in result]\n",
    "        if len(temp)>=1:\n",
    "            f.write(str(index)+'\\t')\n",
    "            f.writelines(temp[0:len(temp)-1])\n",
    "            f.writelines(str(result[-1])+'\\n')\n",
    "    f.close()\n",
    "    print(len(l[i]))\n",
    "    k=k+1"
   ]
  },
  {
   "cell_type": "code",
   "execution_count": null,
   "id": "ca9c69bd-575e-4b51-8ea1-51985c861da0",
   "metadata": {},
   "outputs": [],
   "source": [
    "# Script to in terminal\n",
    "python comp_sample_weights.py LUAD_5 smut\n",
    "python run_weighted_sampling.py LUAD_5 smut 1000\n",
    "python comp_me_for_all_pairs.py LUAD_5 smut 0.1\n",
    "python comp_co_for_all_pairs.py LUAD_5 smut 0.1"
   ]
  },
  {
   "cell_type": "markdown",
   "id": "f33bdd8b-03a8-4139-84c2-fb58544e10ad",
   "metadata": {
    "tags": []
   },
   "source": [
    "## TCGA Silent Data results"
   ]
  },
  {
   "cell_type": "code",
   "execution_count": null,
   "id": "aae1c0ed-9f2c-42fe-a732-08083904adaf",
   "metadata": {},
   "outputs": [],
   "source": [
    "data = pd.read_csv('/mnt/ptemp/arvind/tool_comaprision/data/tcga_silent_gam_wesme_data.tsv',sep=\"\\t\")"
   ]
  },
  {
   "cell_type": "code",
   "execution_count": null,
   "id": "c281f88c-6ef4-4a6f-984d-85a660ea2184",
   "metadata": {},
   "outputs": [],
   "source": [
    "data.head(2)"
   ]
  },
  {
   "cell_type": "code",
   "execution_count": null,
   "id": "d2435772-4e69-4a88-beef-2c1a93dd141f",
   "metadata": {
    "scrolled": true
   },
   "outputs": [],
   "source": [
    "(data.sum(0).loc[data.sum(0)!=0,].index.tolist())"
   ]
  },
  {
   "cell_type": "code",
   "execution_count": null,
   "id": "caedf229-438a-4f58-af59-6d14d8832e0b",
   "metadata": {},
   "outputs": [],
   "source": [
    "f = open('/mnt/ptemp/arvind/tool_comaprision/data/tcga_silent'+'_smut_list.txt', 'w')\n",
    "f.write('samples\\t')\n",
    "temp = [\"%s,\" % item  for item in data.sum(0).loc[data.sum(0)!=0,].index.tolist()]\n",
    "f.writelines(temp[0:len(temp)-1])\n",
    "f.writelines(str(data.columns.tolist()[-1]))\n",
    "f.write('\\n')\n",
    "temp = [\"%s,\" % item  for item in (data.sum(0).loc[data.sum(0)!=0,].index.tolist())]\n",
    "for index, row in data.loc[:,data.sum(0).loc[data.sum(0)!=0,].index.tolist()].iterrows():\n",
    "        result = np.where(row == 1)\n",
    "        result = result[0].tolist()\n",
    "        temp=[\"%s,\" % item  for item in result]\n",
    "        if len(temp)>=1:\n",
    "            f.write(str(index)+'\\t')\n",
    "            f.writelines(temp[0:len(temp)-1])\n",
    "            f.writelines(str(result[-1])+'\\n')\n",
    "f.close()"
   ]
  },
  {
   "cell_type": "code",
   "execution_count": null,
   "id": "ff26cc49-d3da-4161-868d-077d1975f248",
   "metadata": {},
   "outputs": [],
   "source": [
    "python comp_sample_weights.py tcga_silent smut\n",
    "python run_weighted_sampling.py tcga_silent smut 1000\n",
    "python comp_me_for_all_pairs.py tcga_silent smut 0.1\n",
    "python comp_co_for_all_pairs.py tcga_silent smut 0.1"
   ]
  }
 ],
 "metadata": {
  "kernelspec": {
   "display_name": "Python 3 (ipykernel)",
   "language": "python",
   "name": "python3"
  },
  "language_info": {
   "codemirror_mode": {
    "name": "ipython",
    "version": 3
   },
   "file_extension": ".py",
   "mimetype": "text/x-python",
   "name": "python",
   "nbconvert_exporter": "python",
   "pygments_lexer": "ipython3",
   "version": "3.12.1"
  }
 },
 "nbformat": 4,
 "nbformat_minor": 5
}
