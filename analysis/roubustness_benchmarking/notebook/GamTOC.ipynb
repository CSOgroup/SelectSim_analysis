{
 "cells": [
  {
   "cell_type": "code",
   "execution_count": 1,
   "id": "09fdc17e-102e-42d4-aa84-4c65c7abd2fe",
   "metadata": {
    "scrolled": true,
    "tags": []
   },
   "outputs": [
    {
     "name": "stderr",
     "output_type": "stream",
     "text": [
      "── \u001b[1mAttaching core tidyverse packages\u001b[22m ───────────────────────────────────────────────────────────────────────────────────────────────────────────────────────────────────── tidyverse 2.0.0 ──\n",
      "\u001b[32m✔\u001b[39m \u001b[34mdplyr    \u001b[39m 1.1.4     \u001b[32m✔\u001b[39m \u001b[34mreadr    \u001b[39m 2.1.5\n",
      "\u001b[32m✔\u001b[39m \u001b[34mforcats  \u001b[39m 1.0.0     \u001b[32m✔\u001b[39m \u001b[34mstringr  \u001b[39m 1.5.1\n",
      "\u001b[32m✔\u001b[39m \u001b[34mggplot2  \u001b[39m 3.4.4     \u001b[32m✔\u001b[39m \u001b[34mtibble   \u001b[39m 3.2.1\n",
      "\u001b[32m✔\u001b[39m \u001b[34mlubridate\u001b[39m 1.9.3     \u001b[32m✔\u001b[39m \u001b[34mtidyr    \u001b[39m 1.3.0\n",
      "\u001b[32m✔\u001b[39m \u001b[34mpurrr    \u001b[39m 1.0.2     \n",
      "── \u001b[1mConflicts\u001b[22m ─────────────────────────────────────────────────────────────────────────────────────────────────────────────────────────────────────────────────────── tidyverse_conflicts() ──\n",
      "\u001b[31m✖\u001b[39m \u001b[34mdplyr\u001b[39m::\u001b[32mfilter()\u001b[39m masks \u001b[34mstats\u001b[39m::filter()\n",
      "\u001b[31m✖\u001b[39m \u001b[34mdplyr\u001b[39m::\u001b[32mlag()\u001b[39m    masks \u001b[34mstats\u001b[39m::lag()\n",
      "\u001b[36mℹ\u001b[39m Use the conflicted package (\u001b[3m\u001b[34m<http://conflicted.r-lib.org/>\u001b[39m\u001b[23m) to force all conflicts to become errors\n"
     ]
    }
   ],
   "source": [
    "library(reshape2)\n",
    "library(tidyverse)"
   ]
  },
  {
   "cell_type": "code",
   "execution_count": 2,
   "id": "35f65b84-b70c-49eb-9edf-ba5e82ded344",
   "metadata": {
    "scrolled": true
   },
   "outputs": [
    {
     "data": {
      "text/plain": [
       "R version 4.3.2 (2023-10-31)\n",
       "Platform: x86_64-conda-linux-gnu (64-bit)\n",
       "Running under: CentOS Linux 7 (Core)\n",
       "\n",
       "Matrix products: default\n",
       "BLAS/LAPACK: /mnt/ndata/arvind/envs/R_4/lib/libopenblasp-r0.3.25.so;  LAPACK version 3.11.0\n",
       "\n",
       "locale:\n",
       " [1] LC_CTYPE=en_US.UTF-8       LC_NUMERIC=C              \n",
       " [3] LC_TIME=en_US.UTF-8        LC_COLLATE=en_US.UTF-8    \n",
       " [5] LC_MONETARY=en_US.UTF-8    LC_MESSAGES=en_US.UTF-8   \n",
       " [7] LC_PAPER=en_US.UTF-8       LC_NAME=C                 \n",
       " [9] LC_ADDRESS=C               LC_TELEPHONE=C            \n",
       "[11] LC_MEASUREMENT=en_US.UTF-8 LC_IDENTIFICATION=C       \n",
       "\n",
       "time zone: Europe/Zurich\n",
       "tzcode source: system (glibc)\n",
       "\n",
       "attached base packages:\n",
       "[1] stats     graphics  grDevices utils     datasets  methods   base     \n",
       "\n",
       "other attached packages:\n",
       " [1] lubridate_1.9.3 forcats_1.0.0   stringr_1.5.1   dplyr_1.1.4    \n",
       " [5] purrr_1.0.2     readr_2.1.5     tidyr_1.3.0     tibble_3.2.1   \n",
       " [9] ggplot2_3.4.4   tidyverse_2.0.0 reshape2_1.4.4 \n",
       "\n",
       "loaded via a namespace (and not attached):\n",
       " [1] gtable_0.3.4     jsonlite_1.8.8   compiler_4.3.2   crayon_1.5.2    \n",
       " [5] tidyselect_1.2.0 Rcpp_1.0.12      IRdisplay_1.1    scales_1.3.0    \n",
       " [9] uuid_1.2-0       fastmap_1.1.1    IRkernel_1.3.2   R6_2.5.1        \n",
       "[13] plyr_1.8.9       generics_0.1.3   munsell_0.5.0    tzdb_0.4.0      \n",
       "[17] pillar_1.9.0     rlang_1.1.3      utf8_1.2.4       stringi_1.8.3   \n",
       "[21] repr_1.1.6       timechange_0.3.0 cli_3.6.2        withr_3.0.0     \n",
       "[25] magrittr_2.0.3   digest_0.6.34    grid_4.3.2       hms_1.1.3       \n",
       "[29] base64enc_0.1-3  pbdZMQ_0.3-11    lifecycle_1.0.4  vctrs_0.6.5     \n",
       "[33] evaluate_0.23    glue_1.7.0       fansi_1.0.6      colorspace_2.1-0\n",
       "[37] tools_4.3.2      pkgconfig_2.0.3  htmltools_0.5.7 "
      ]
     },
     "metadata": {},
     "output_type": "display_data"
    }
   ],
   "source": [
    "sessionInfo()"
   ]
  },
  {
   "cell_type": "markdown",
   "id": "0464dd3d-c026-4826-b51c-a412e57be1e3",
   "metadata": {},
   "source": [
    "# Note\n",
    "- Download the GAMToc Matlab code (https://sourceforge.net/projects/melamedgamtoc/)\n",
    "- This notebook prepares the input to run GAMToc in matlab\n",
    "    - Sample for running LUAD is presented here.\n",
    "    - Similar way it was run for TCGA pan-cancer oncogenic and silent mutations"
   ]
  },
  {
   "cell_type": "code",
   "execution_count": 3,
   "id": "d7779965-7b33-44d3-92f7-5b3a273c26e6",
   "metadata": {},
   "outputs": [],
   "source": [
    "filter_run_data <- function(run_data,gene_order,sample_order){\n",
    "    final_run_data<-run_data\n",
    "    final_run_data$M$M$missense<-run_data$M$M$missense[gene_order,sample_order]\n",
    "    final_run_data$M$M$truncating<-run_data$M$M$truncating[gene_order,sample_order]\n",
    "    final_run_data$alteration.class<- run_data$alteration.class[gene_order]\n",
    "    final_run_data$sample.class<-run_data$sample.class[sample_order]\n",
    "    final_run_data$M$tmb$missense<-run_data$M$tmb$missense[sample_order,]\n",
    "    final_run_data$M$tmb$truncating<-run_data$M$tmb$truncating[sample_order,]\n",
    "    return(final_run_data)\n",
    "}"
   ]
  },
  {
   "cell_type": "markdown",
   "id": "c9d56199-05cd-4867-9c4a-bb4b940007d5",
   "metadata": {},
   "source": [
    "# LUAD"
   ]
  },
  {
   "cell_type": "code",
   "execution_count": 4,
   "id": "7cb8ec16-69ee-44a6-b1dc-d3040c871695",
   "metadata": {},
   "outputs": [],
   "source": [
    "run_data <- readRDS('/mnt/ndata/arvind/co_mutation_project/data/processed/gams/pan_can_tcga_run_data.rds')"
   ]
  },
  {
   "cell_type": "code",
   "execution_count": 5,
   "id": "4b3ce7f5-8d9c-40e5-b25d-28d3ddfa36af",
   "metadata": {},
   "outputs": [],
   "source": [
    "sample_covariates<-run_data$sample.class"
   ]
  },
  {
   "cell_type": "code",
   "execution_count": 6,
   "id": "c2e0ad6d-4aa9-48e5-af44-647d8e858b5a",
   "metadata": {},
   "outputs": [],
   "source": [
    "luad_samples <- names(sample_covariates[(which(sample_covariates %in% c('LUAD')))])"
   ]
  },
  {
   "cell_type": "code",
   "execution_count": 7,
   "id": "f630cbba-562e-46d0-9afa-532485b455ea",
   "metadata": {},
   "outputs": [],
   "source": [
    "data<- filter_run_data(run_data = run_data,gene_order = names(run_data$alteration.class),sample_order = luad_samples)"
   ]
  },
  {
   "cell_type": "code",
   "execution_count": 8,
   "id": "7312a34a-f32d-422d-ab6c-de7c81dfd1fd",
   "metadata": {
    "tags": []
   },
   "outputs": [],
   "source": [
    "globa_gam<-data$M$M[[1]]+data$M$M[[2]][rownames(data$M$M[[1]]),colnames(data$M$M[[1]])]\n",
    "globa_gam[globa_gam>1]<-1"
   ]
  },
  {
   "cell_type": "code",
   "execution_count": 9,
   "id": "e424f758-7eaf-4a66-898f-08b0fe96cbe5",
   "metadata": {
    "tags": []
   },
   "outputs": [
    {
     "data": {
      "text/html": [
       "<style>\n",
       ".list-inline {list-style: none; margin:0; padding: 0}\n",
       ".list-inline>li {display: inline-block}\n",
       ".list-inline>li:not(:last-child)::after {content: \"\\00b7\"; padding: 0 .5ex}\n",
       "</style>\n",
       "<ol class=list-inline><li>396</li><li>502</li></ol>\n"
      ],
      "text/latex": [
       "\\begin{enumerate*}\n",
       "\\item 396\n",
       "\\item 502\n",
       "\\end{enumerate*}\n"
      ],
      "text/markdown": [
       "1. 396\n",
       "2. 502\n",
       "\n",
       "\n"
      ],
      "text/plain": [
       "[1] 396 502"
      ]
     },
     "metadata": {},
     "output_type": "display_data"
    }
   ],
   "source": [
    "dim(globa_gam)"
   ]
  },
  {
   "cell_type": "code",
   "execution_count": 10,
   "id": "e1933dfa-c511-406a-995f-e34934ba4149",
   "metadata": {},
   "outputs": [],
   "source": [
    "sample_list1 <- readRDS('../data/sampling_list_luad.rds')\n",
    "sample_list2 <- readRDS('../data/sampling_list_luad_2.rds')"
   ]
  },
  {
   "cell_type": "code",
   "execution_count": 11,
   "id": "7f3eb4e4-8422-4a1b-9377-fe94ddab7898",
   "metadata": {
    "scrolled": true
   },
   "outputs": [
    {
     "name": "stdout",
     "output_type": "stream",
     "text": [
      "List of 10\n",
      " $ : Named chr [1:401] \"LUAD\" \"LUAD\" \"LUAD\" \"LUAD\" ...\n",
      "  ..- attr(*, \"names\")= chr [1:401] \"TCGA-78-7539-01\" \"TCGA-99-8033-01\" \"TCGA-73-4670-01\" \"TCGA-75-5146-01\" ...\n",
      " $ : Named chr [1:401] \"LUAD\" \"LUAD\" \"LUAD\" \"LUAD\" ...\n",
      "  ..- attr(*, \"names\")= chr [1:401] \"TCGA-75-6214-01\" \"TCGA-64-5775-01\" \"TCGA-97-A4M3-01\" \"TCGA-93-A4JO-01\" ...\n",
      " $ : Named chr [1:401] \"LUAD\" \"LUAD\" \"LUAD\" \"LUAD\" ...\n",
      "  ..- attr(*, \"names\")= chr [1:401] \"TCGA-64-1679-01\" \"TCGA-64-1676-01\" \"TCGA-55-8505-01\" \"TCGA-97-8547-01\" ...\n",
      " $ : Named chr [1:401] \"LUAD\" \"LUAD\" \"LUAD\" \"LUAD\" ...\n",
      "  ..- attr(*, \"names\")= chr [1:401] \"TCGA-55-8204-01\" \"TCGA-55-8094-01\" \"TCGA-49-AARE-01\" \"TCGA-44-A47G-01\" ...\n",
      " $ : Named chr [1:401] \"LUAD\" \"LUAD\" \"LUAD\" \"LUAD\" ...\n",
      "  ..- attr(*, \"names\")= chr [1:401] \"TCGA-05-4422-01\" \"TCGA-49-AAR9-01\" \"TCGA-05-4417-01\" \"TCGA-55-6984-01\" ...\n",
      " $ : Named chr [1:401] \"LUAD\" \"LUAD\" \"LUAD\" \"LUAD\" ...\n",
      "  ..- attr(*, \"names\")= chr [1:401] \"TCGA-91-6848-01\" \"TCGA-55-6971-01\" \"TCGA-S2-AA1A-01\" \"TCGA-86-7713-01\" ...\n",
      " $ : Named chr [1:401] \"LUAD\" \"LUAD\" \"LUAD\" \"LUAD\" ...\n",
      "  ..- attr(*, \"names\")= chr [1:401] \"TCGA-MN-A4N1-01\" \"TCGA-97-A4M3-01\" \"TCGA-49-4486-01\" \"TCGA-05-4427-01\" ...\n",
      " $ : Named chr [1:401] \"LUAD\" \"LUAD\" \"LUAD\" \"LUAD\" ...\n",
      "  ..- attr(*, \"names\")= chr [1:401] \"TCGA-95-8494-01\" \"TCGA-78-7542-01\" \"TCGA-44-3396-01\" \"TCGA-97-8179-01\" ...\n",
      " $ : Named chr [1:401] \"LUAD\" \"LUAD\" \"LUAD\" \"LUAD\" ...\n",
      "  ..- attr(*, \"names\")= chr [1:401] \"TCGA-38-4631-01\" \"TCGA-55-7994-01\" \"TCGA-97-8171-01\" \"TCGA-78-8648-01\" ...\n",
      " $ : Named chr [1:401] \"LUAD\" \"LUAD\" \"LUAD\" \"LUAD\" ...\n",
      "  ..- attr(*, \"names\")= chr [1:401] \"TCGA-97-8179-01\" \"TCGA-44-2666-01\" \"TCGA-44-8119-01\" \"TCGA-78-7539-01\" ...\n"
     ]
    }
   ],
   "source": [
    "str(c(sample_list1[11:15],sample_list2[11:15]))"
   ]
  },
  {
   "cell_type": "code",
   "execution_count": 12,
   "id": "e34e0376-cb86-49e8-83d8-105ba92fc47f",
   "metadata": {},
   "outputs": [],
   "source": [
    "sample_list<-c(sample_list1[11:15],sample_list2[11:15])"
   ]
  },
  {
   "cell_type": "code",
   "execution_count": null,
   "id": "cb986667-621e-4f58-a338-324b97b42f0d",
   "metadata": {},
   "outputs": [],
   "source": [
    "for(i in c(1:10)){\n",
    " gam <- globa_gam[,names(sample_list[[i]])]   \n",
    " a<-setNames(melt(gam), c('gene', 'case', 'values'))\n",
    " save_data <- a %>% filter(values==1)\n",
    " print(dim(save_data[,c('case','gene')]))\n",
    " write.table(x = save_data[,c('case','gene')],file = paste('../data/gamtoc_luad_data_80_',i,'.txt',sep=\"\"),quote = FALSE,sep = \"\\t\",row.names = FALSE,col.names = TRUE)   \n",
    "}"
   ]
  },
  {
   "cell_type": "code",
   "execution_count": null,
   "id": "660ae394-5f19-48ae-a98a-da325499c7da",
   "metadata": {},
   "outputs": [],
   "source": [
    "addpath(genpath('/mnt/ptemp/arvind/tool_comaprision/tool/gamtoc/gamtoc_code'))\n",
    "diary log_1\n",
    "gamtoc('/mnt/ptemp/arvind/tool_comaprision/tool/gamtoc/silent_tcga/config.txt') \n",
    "diary off"
   ]
  },
  {
   "cell_type": "code",
   "execution_count": null,
   "id": "c0fe45fd-87b9-4b52-ae26-552a59a820da",
   "metadata": {},
   "outputs": [],
   "source": [
    "# Sample Config file \n",
    "save_name = silent_tcga\n",
    "patient_mutations = gamtoc_tcga_silent_data.txt\n",
    "mutation_frequency = 10  ### threshold for genes of interest\n",
    "algorithm = GREEDY   ### options are GREEDY, SA, GREEDY_QSUB, SEED"
   ]
  }
 ],
 "metadata": {
  "kernelspec": {
   "display_name": "R",
   "language": "R",
   "name": "ir"
  },
  "language_info": {
   "codemirror_mode": "r",
   "file_extension": ".r",
   "mimetype": "text/x-r-source",
   "name": "R",
   "pygments_lexer": "r",
   "version": "4.3.2"
  }
 },
 "nbformat": 4,
 "nbformat_minor": 5
}
