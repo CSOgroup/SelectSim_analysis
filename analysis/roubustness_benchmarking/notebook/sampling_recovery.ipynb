{
 "cells": [
  {
   "cell_type": "code",
   "execution_count": 1,
   "id": "d100b825-2606-4800-897c-7bb7105914c8",
   "metadata": {
    "tags": []
   },
   "outputs": [
    {
     "name": "stderr",
     "output_type": "stream",
     "text": [
      "── \u001b[1mAttaching core tidyverse packages\u001b[22m ───────────────────────────────────────────────────────────────────────────────────────────────────────────────────────────────────── tidyverse 2.0.0 ──\n",
      "\u001b[32m✔\u001b[39m \u001b[34mdplyr    \u001b[39m 1.1.4     \u001b[32m✔\u001b[39m \u001b[34mreadr    \u001b[39m 2.1.5\n",
      "\u001b[32m✔\u001b[39m \u001b[34mforcats  \u001b[39m 1.0.0     \u001b[32m✔\u001b[39m \u001b[34mstringr  \u001b[39m 1.5.1\n",
      "\u001b[32m✔\u001b[39m \u001b[34mlubridate\u001b[39m 1.9.3     \u001b[32m✔\u001b[39m \u001b[34mtibble   \u001b[39m 3.2.1\n",
      "\u001b[32m✔\u001b[39m \u001b[34mpurrr    \u001b[39m 1.0.2     \u001b[32m✔\u001b[39m \u001b[34mtidyr    \u001b[39m 1.3.0\n",
      "── \u001b[1mConflicts\u001b[22m ─────────────────────────────────────────────────────────────────────────────────────────────────────────────────────────────────────────────────────── tidyverse_conflicts() ──\n",
      "\u001b[31m✖\u001b[39m \u001b[34mreadr\u001b[39m::\u001b[32mcol_factor()\u001b[39m masks \u001b[34mscales\u001b[39m::col_factor()\n",
      "\u001b[31m✖\u001b[39m \u001b[34mpurrr\u001b[39m::\u001b[32mdiscard()\u001b[39m    masks \u001b[34mscales\u001b[39m::discard()\n",
      "\u001b[31m✖\u001b[39m \u001b[34mdplyr\u001b[39m::\u001b[32mfilter()\u001b[39m     masks \u001b[34mstats\u001b[39m::filter()\n",
      "\u001b[31m✖\u001b[39m \u001b[34mdplyr\u001b[39m::\u001b[32mlag()\u001b[39m        masks \u001b[34mstats\u001b[39m::lag()\n",
      "\u001b[36mℹ\u001b[39m Use the conflicted package (\u001b[3m\u001b[34m<http://conflicted.r-lib.org/>\u001b[39m\u001b[23m) to force all conflicts to become errors\n"
     ]
    }
   ],
   "source": [
    "library('ggplot2')\n",
    "library('ggpubr')\n",
    "library('scales')\n",
    "library('tidyverse')"
   ]
  },
  {
   "cell_type": "code",
   "execution_count": 2,
   "id": "055cfe21-71bc-4d78-9e8a-6e133b74c4e7",
   "metadata": {
    "scrolled": true,
    "tags": []
   },
   "outputs": [
    {
     "data": {
      "text/plain": [
       "R version 4.3.2 (2023-10-31)\n",
       "Platform: x86_64-conda-linux-gnu (64-bit)\n",
       "Running under: CentOS Linux 7 (Core)\n",
       "\n",
       "Matrix products: default\n",
       "BLAS/LAPACK: /mnt/ndata/arvind/envs/R_4/lib/libopenblasp-r0.3.25.so;  LAPACK version 3.11.0\n",
       "\n",
       "locale:\n",
       " [1] LC_CTYPE=en_US.UTF-8       LC_NUMERIC=C              \n",
       " [3] LC_TIME=en_US.UTF-8        LC_COLLATE=en_US.UTF-8    \n",
       " [5] LC_MONETARY=en_US.UTF-8    LC_MESSAGES=en_US.UTF-8   \n",
       " [7] LC_PAPER=en_US.UTF-8       LC_NAME=C                 \n",
       " [9] LC_ADDRESS=C               LC_TELEPHONE=C            \n",
       "[11] LC_MEASUREMENT=en_US.UTF-8 LC_IDENTIFICATION=C       \n",
       "\n",
       "time zone: Europe/Zurich\n",
       "tzcode source: system (glibc)\n",
       "\n",
       "attached base packages:\n",
       "[1] stats     graphics  grDevices utils     datasets  methods   base     \n",
       "\n",
       "other attached packages:\n",
       " [1] lubridate_1.9.3 forcats_1.0.0   stringr_1.5.1   dplyr_1.1.4    \n",
       " [5] purrr_1.0.2     readr_2.1.5     tidyr_1.3.0     tibble_3.2.1   \n",
       " [9] tidyverse_2.0.0 scales_1.3.0    ggpubr_0.6.0    ggplot2_3.4.4  \n",
       "\n",
       "loaded via a namespace (and not attached):\n",
       " [1] gtable_0.3.4     jsonlite_1.8.8   compiler_4.3.2   ggsignif_0.6.4  \n",
       " [5] crayon_1.5.2     tidyselect_1.2.0 IRdisplay_1.1    uuid_1.2-0      \n",
       " [9] fastmap_1.1.1    IRkernel_1.3.2   R6_2.5.1         generics_0.1.3  \n",
       "[13] backports_1.4.1  car_3.1-2        munsell_0.5.0    tzdb_0.4.0      \n",
       "[17] pillar_1.9.0     rlang_1.1.3      utf8_1.2.4       stringi_1.8.3   \n",
       "[21] broom_1.0.5      repr_1.1.6       timechange_0.3.0 cli_3.6.2       \n",
       "[25] withr_3.0.0      magrittr_2.0.3   digest_0.6.34    grid_4.3.2      \n",
       "[29] hms_1.1.3        base64enc_0.1-3  pbdZMQ_0.3-11    lifecycle_1.0.4 \n",
       "[33] vctrs_0.6.5      rstatix_0.7.2    evaluate_0.23    glue_1.7.0      \n",
       "[37] abind_1.4-5      carData_3.0-5    fansi_1.0.6      colorspace_2.1-0\n",
       "[41] tools_4.3.2      pkgconfig_2.0.3  htmltools_0.5.7 "
      ]
     },
     "metadata": {},
     "output_type": "display_data"
    }
   ],
   "source": [
    "sessionInfo()"
   ]
  },
  {
   "cell_type": "markdown",
   "id": "4378628e-ee62-476c-af5f-8fce8bf89789",
   "metadata": {
    "jp-MarkdownHeadingCollapsed": true,
    "tags": []
   },
   "source": [
    "# LUAD"
   ]
  },
  {
   "cell_type": "markdown",
   "id": "29f99694-f1c7-4bc8-b906-bf88deb610e3",
   "metadata": {
    "jp-MarkdownHeadingCollapsed": true,
    "tags": []
   },
   "source": [
    "## SelectSim Results"
   ]
  },
  {
   "cell_type": "code",
   "execution_count": 3,
   "id": "8449de8e-7c3e-4953-b4a8-fbfe8dd4d59b",
   "metadata": {},
   "outputs": [],
   "source": [
    "obj <- readRDS('/mnt/ptemp/arvind/catalogue_work_update/data/results/tumor_run/tcga/tcga_LUAD.rds')"
   ]
  },
  {
   "cell_type": "code",
   "execution_count": 4,
   "id": "03a1f5fc-d897-4b4e-a772-03f47bd5e5c4",
   "metadata": {},
   "outputs": [],
   "source": [
    "select_orginal <- obj$result"
   ]
  },
  {
   "cell_type": "code",
   "execution_count": 5,
   "id": "fa0f52c0-e93a-4711-abfe-c1e7b588a097",
   "metadata": {},
   "outputs": [],
   "source": [
    "boot_results <- list()\n",
    "k=1\n",
    "for (i in c(1:10)){\n",
    "    name <- paste('/mnt/ptemp/arvind/tool_comaprision/results/selectX/sampling_run_selectX_v4_result_80_',i,'.rds',sep=\"\")\n",
    "    boot_results[[k]] <- (readRDS(file=name))$result\n",
    "    k=k+1\n",
    "}"
   ]
  },
  {
   "cell_type": "code",
   "execution_count": 6,
   "id": "90ffc210-877e-42d8-ba09-e1122ffb6fac",
   "metadata": {},
   "outputs": [
    {
     "data": {
      "text/html": [
       "10"
      ],
      "text/latex": [
       "10"
      ],
      "text/markdown": [
       "10"
      ],
      "text/plain": [
       "[1] 10"
      ]
     },
     "metadata": {},
     "output_type": "display_data"
    }
   ],
   "source": [
    "length(boot_results)"
   ]
  },
  {
   "cell_type": "code",
   "execution_count": 7,
   "id": "ce699bc6-a34d-4074-a7c4-d1a354711eb5",
   "metadata": {},
   "outputs": [
    {
     "data": {
      "text/html": [
       "<table class=\"dataframe\">\n",
       "<caption>A data.frame: 6 × 22</caption>\n",
       "<thead>\n",
       "\t<tr><th></th><th scope=col>SFE_1</th><th scope=col>SFE_2</th><th scope=col>name</th><th scope=col>support_1</th><th scope=col>support_2</th><th scope=col>freq_1</th><th scope=col>freq_2</th><th scope=col>overlap</th><th scope=col>w_overlap</th><th scope=col>max_overlap</th><th scope=col>⋯</th><th scope=col>w_r_overlap</th><th scope=col>wES</th><th scope=col>wFDR</th><th scope=col>nES</th><th scope=col>mean_r_nES</th><th scope=col>nFDR</th><th scope=col>cum_freq</th><th scope=col>nFDR2</th><th scope=col>type</th><th scope=col>FDR</th></tr>\n",
       "\t<tr><th></th><th scope=col>&lt;chr&gt;</th><th scope=col>&lt;chr&gt;</th><th scope=col>&lt;chr&gt;</th><th scope=col>&lt;dbl&gt;</th><th scope=col>&lt;dbl&gt;</th><th scope=col>&lt;dbl&gt;</th><th scope=col>&lt;dbl&gt;</th><th scope=col>&lt;dbl&gt;</th><th scope=col>&lt;dbl&gt;</th><th scope=col>&lt;dbl&gt;</th><th scope=col>⋯</th><th scope=col>&lt;dbl&gt;</th><th scope=col>&lt;dbl&gt;</th><th scope=col>&lt;dbl&gt;</th><th scope=col>&lt;dbl&gt;</th><th scope=col>&lt;dbl&gt;</th><th scope=col>&lt;dbl&gt;</th><th scope=col>&lt;dbl&gt;</th><th scope=col>&lt;dbl&gt;</th><th scope=col>&lt;chr&gt;</th><th scope=col>&lt;lgl&gt;</th></tr>\n",
       "</thead>\n",
       "<tbody>\n",
       "\t<tr><th scope=row>EGFR - KRAS</th><td>EGFR </td><td>KRAS </td><td>EGFR - KRAS </td><td> 50</td><td>122</td><td>0.12468828</td><td>0.3042394</td><td> 0</td><td> 0.000000</td><td> 50</td><td>⋯</td><td>15.103560</td><td>-10.679830</td><td>0.000000000</td><td>-9.460696</td><td>-1.2191335</td><td>0.0000000000</td><td>172</td><td>0.0000000000</td><td>ME</td><td>TRUE</td></tr>\n",
       "\t<tr><th scope=row>KRAS - TP53</th><td>KRAS </td><td>TP53 </td><td>KRAS - TP53 </td><td>122</td><td>180</td><td>0.30423940</td><td>0.4488778</td><td>43</td><td>32.382186</td><td>122</td><td>⋯</td><td>48.137634</td><td>-11.140784</td><td>0.000000000</td><td>-9.375665</td><td>-1.7651192</td><td>0.0000000000</td><td>302</td><td>0.0000000000</td><td>ME</td><td>TRUE</td></tr>\n",
       "\t<tr><th scope=row>STK11 - TP53</th><td>STK11</td><td>TP53 </td><td>STK11 - TP53</td><td> 47</td><td>180</td><td>0.11720698</td><td>0.4488778</td><td>10</td><td> 7.769323</td><td> 47</td><td>⋯</td><td>18.491694</td><td> -7.581862</td><td>0.001109878</td><td>-6.361211</td><td>-1.2206505</td><td>0.0003699593</td><td>227</td><td>0.0003699593</td><td>ME</td><td>TRUE</td></tr>\n",
       "\t<tr><th scope=row>BRAF - KRAS</th><td>BRAF </td><td>KRAS </td><td>BRAF - KRAS </td><td> 28</td><td>122</td><td>0.06982544</td><td>0.3042394</td><td> 2</td><td> 1.025000</td><td> 28</td><td>⋯</td><td> 8.510871</td><td> -5.293310</td><td>0.004716981</td><td>-4.405507</td><td>-0.8878030</td><td>0.0022197558</td><td>150</td><td>0.0022197558</td><td>ME</td><td>TRUE</td></tr>\n",
       "\t<tr><th scope=row>EGFR - STK11</th><td>EGFR </td><td>STK11</td><td>EGFR - STK11</td><td> 50</td><td> 47</td><td>0.12468828</td><td>0.1172070</td><td> 0</td><td> 0.000000</td><td> 47</td><td>⋯</td><td> 5.939998</td><td> -4.200213</td><td>0.014428413</td><td>-3.341331</td><td>-0.8588823</td><td>0.0062153163</td><td> 97</td><td>0.0062153163</td><td>ME</td><td>TRUE</td></tr>\n",
       "\t<tr><th scope=row>KRAS - NF1</th><td>KRAS </td><td>NF1  </td><td>KRAS - NF1  </td><td>122</td><td> 29</td><td>0.30423940</td><td>0.0723192</td><td> 4</td><td> 3.250000</td><td> 29</td><td>⋯</td><td> 8.786415</td><td> -3.914837</td><td>0.014844617</td><td>-2.982953</td><td>-0.9318839</td><td>0.0079541250</td><td>151</td><td>0.0077691454</td><td>ME</td><td>TRUE</td></tr>\n",
       "</tbody>\n",
       "</table>\n"
      ],
      "text/latex": [
       "A data.frame: 6 × 22\n",
       "\\begin{tabular}{r|lllllllllllllllllllll}\n",
       "  & SFE\\_1 & SFE\\_2 & name & support\\_1 & support\\_2 & freq\\_1 & freq\\_2 & overlap & w\\_overlap & max\\_overlap & ⋯ & w\\_r\\_overlap & wES & wFDR & nES & mean\\_r\\_nES & nFDR & cum\\_freq & nFDR2 & type & FDR\\\\\n",
       "  & <chr> & <chr> & <chr> & <dbl> & <dbl> & <dbl> & <dbl> & <dbl> & <dbl> & <dbl> & ⋯ & <dbl> & <dbl> & <dbl> & <dbl> & <dbl> & <dbl> & <dbl> & <dbl> & <chr> & <lgl>\\\\\n",
       "\\hline\n",
       "\tEGFR - KRAS & EGFR  & KRAS  & EGFR - KRAS  &  50 & 122 & 0.12468828 & 0.3042394 &  0 &  0.000000 &  50 & ⋯ & 15.103560 & -10.679830 & 0.000000000 & -9.460696 & -1.2191335 & 0.0000000000 & 172 & 0.0000000000 & ME & TRUE\\\\\n",
       "\tKRAS - TP53 & KRAS  & TP53  & KRAS - TP53  & 122 & 180 & 0.30423940 & 0.4488778 & 43 & 32.382186 & 122 & ⋯ & 48.137634 & -11.140784 & 0.000000000 & -9.375665 & -1.7651192 & 0.0000000000 & 302 & 0.0000000000 & ME & TRUE\\\\\n",
       "\tSTK11 - TP53 & STK11 & TP53  & STK11 - TP53 &  47 & 180 & 0.11720698 & 0.4488778 & 10 &  7.769323 &  47 & ⋯ & 18.491694 &  -7.581862 & 0.001109878 & -6.361211 & -1.2206505 & 0.0003699593 & 227 & 0.0003699593 & ME & TRUE\\\\\n",
       "\tBRAF - KRAS & BRAF  & KRAS  & BRAF - KRAS  &  28 & 122 & 0.06982544 & 0.3042394 &  2 &  1.025000 &  28 & ⋯ &  8.510871 &  -5.293310 & 0.004716981 & -4.405507 & -0.8878030 & 0.0022197558 & 150 & 0.0022197558 & ME & TRUE\\\\\n",
       "\tEGFR - STK11 & EGFR  & STK11 & EGFR - STK11 &  50 &  47 & 0.12468828 & 0.1172070 &  0 &  0.000000 &  47 & ⋯ &  5.939998 &  -4.200213 & 0.014428413 & -3.341331 & -0.8588823 & 0.0062153163 &  97 & 0.0062153163 & ME & TRUE\\\\\n",
       "\tKRAS - NF1 & KRAS  & NF1   & KRAS - NF1   & 122 &  29 & 0.30423940 & 0.0723192 &  4 &  3.250000 &  29 & ⋯ &  8.786415 &  -3.914837 & 0.014844617 & -2.982953 & -0.9318839 & 0.0079541250 & 151 & 0.0077691454 & ME & TRUE\\\\\n",
       "\\end{tabular}\n"
      ],
      "text/markdown": [
       "\n",
       "A data.frame: 6 × 22\n",
       "\n",
       "| <!--/--> | SFE_1 &lt;chr&gt; | SFE_2 &lt;chr&gt; | name &lt;chr&gt; | support_1 &lt;dbl&gt; | support_2 &lt;dbl&gt; | freq_1 &lt;dbl&gt; | freq_2 &lt;dbl&gt; | overlap &lt;dbl&gt; | w_overlap &lt;dbl&gt; | max_overlap &lt;dbl&gt; | ⋯ ⋯ | w_r_overlap &lt;dbl&gt; | wES &lt;dbl&gt; | wFDR &lt;dbl&gt; | nES &lt;dbl&gt; | mean_r_nES &lt;dbl&gt; | nFDR &lt;dbl&gt; | cum_freq &lt;dbl&gt; | nFDR2 &lt;dbl&gt; | type &lt;chr&gt; | FDR &lt;lgl&gt; |\n",
       "|---|---|---|---|---|---|---|---|---|---|---|---|---|---|---|---|---|---|---|---|---|---|\n",
       "| EGFR - KRAS | EGFR  | KRAS  | EGFR - KRAS  |  50 | 122 | 0.12468828 | 0.3042394 |  0 |  0.000000 |  50 | ⋯ | 15.103560 | -10.679830 | 0.000000000 | -9.460696 | -1.2191335 | 0.0000000000 | 172 | 0.0000000000 | ME | TRUE |\n",
       "| KRAS - TP53 | KRAS  | TP53  | KRAS - TP53  | 122 | 180 | 0.30423940 | 0.4488778 | 43 | 32.382186 | 122 | ⋯ | 48.137634 | -11.140784 | 0.000000000 | -9.375665 | -1.7651192 | 0.0000000000 | 302 | 0.0000000000 | ME | TRUE |\n",
       "| STK11 - TP53 | STK11 | TP53  | STK11 - TP53 |  47 | 180 | 0.11720698 | 0.4488778 | 10 |  7.769323 |  47 | ⋯ | 18.491694 |  -7.581862 | 0.001109878 | -6.361211 | -1.2206505 | 0.0003699593 | 227 | 0.0003699593 | ME | TRUE |\n",
       "| BRAF - KRAS | BRAF  | KRAS  | BRAF - KRAS  |  28 | 122 | 0.06982544 | 0.3042394 |  2 |  1.025000 |  28 | ⋯ |  8.510871 |  -5.293310 | 0.004716981 | -4.405507 | -0.8878030 | 0.0022197558 | 150 | 0.0022197558 | ME | TRUE |\n",
       "| EGFR - STK11 | EGFR  | STK11 | EGFR - STK11 |  50 |  47 | 0.12468828 | 0.1172070 |  0 |  0.000000 |  47 | ⋯ |  5.939998 |  -4.200213 | 0.014428413 | -3.341331 | -0.8588823 | 0.0062153163 |  97 | 0.0062153163 | ME | TRUE |\n",
       "| KRAS - NF1 | KRAS  | NF1   | KRAS - NF1   | 122 |  29 | 0.30423940 | 0.0723192 |  4 |  3.250000 |  29 | ⋯ |  8.786415 |  -3.914837 | 0.014844617 | -2.982953 | -0.9318839 | 0.0079541250 | 151 | 0.0077691454 | ME | TRUE |\n",
       "\n"
      ],
      "text/plain": [
       "             SFE_1 SFE_2 name         support_1 support_2 freq_1     freq_2   \n",
       "EGFR - KRAS  EGFR  KRAS  EGFR - KRAS   50       122       0.12468828 0.3042394\n",
       "KRAS - TP53  KRAS  TP53  KRAS - TP53  122       180       0.30423940 0.4488778\n",
       "STK11 - TP53 STK11 TP53  STK11 - TP53  47       180       0.11720698 0.4488778\n",
       "BRAF - KRAS  BRAF  KRAS  BRAF - KRAS   28       122       0.06982544 0.3042394\n",
       "EGFR - STK11 EGFR  STK11 EGFR - STK11  50        47       0.12468828 0.1172070\n",
       "KRAS - NF1   KRAS  NF1   KRAS - NF1   122        29       0.30423940 0.0723192\n",
       "             overlap w_overlap max_overlap ⋯ w_r_overlap wES        wFDR       \n",
       "EGFR - KRAS   0       0.000000  50         ⋯ 15.103560   -10.679830 0.000000000\n",
       "KRAS - TP53  43      32.382186 122         ⋯ 48.137634   -11.140784 0.000000000\n",
       "STK11 - TP53 10       7.769323  47         ⋯ 18.491694    -7.581862 0.001109878\n",
       "BRAF - KRAS   2       1.025000  28         ⋯  8.510871    -5.293310 0.004716981\n",
       "EGFR - STK11  0       0.000000  47         ⋯  5.939998    -4.200213 0.014428413\n",
       "KRAS - NF1    4       3.250000  29         ⋯  8.786415    -3.914837 0.014844617\n",
       "             nES       mean_r_nES nFDR         cum_freq nFDR2        type FDR \n",
       "EGFR - KRAS  -9.460696 -1.2191335 0.0000000000 172      0.0000000000 ME   TRUE\n",
       "KRAS - TP53  -9.375665 -1.7651192 0.0000000000 302      0.0000000000 ME   TRUE\n",
       "STK11 - TP53 -6.361211 -1.2206505 0.0003699593 227      0.0003699593 ME   TRUE\n",
       "BRAF - KRAS  -4.405507 -0.8878030 0.0022197558 150      0.0022197558 ME   TRUE\n",
       "EGFR - STK11 -3.341331 -0.8588823 0.0062153163  97      0.0062153163 ME   TRUE\n",
       "KRAS - NF1   -2.982953 -0.9318839 0.0079541250 151      0.0077691454 ME   TRUE"
      ]
     },
     "metadata": {},
     "output_type": "display_data"
    }
   ],
   "source": [
    "head(boot_results[[1]])"
   ]
  },
  {
   "cell_type": "code",
   "execution_count": 8,
   "id": "17c77b60-6ffb-448a-b0df-8917fe19b8b0",
   "metadata": {},
   "outputs": [],
   "source": [
    "selectX_100_pct_significnat_results <- select_orginal %>% filter(nFDR2<=0.25) "
   ]
  },
  {
   "cell_type": "code",
   "execution_count": 9,
   "id": "27a0d899-1f99-4401-b0c4-b550f11c2a97",
   "metadata": {},
   "outputs": [
    {
     "data": {
      "text/html": [
       "<table class=\"dataframe\">\n",
       "<caption>A data.frame: 1 × 1</caption>\n",
       "<thead>\n",
       "\t<tr><th scope=col>n</th></tr>\n",
       "\t<tr><th scope=col>&lt;int&gt;</th></tr>\n",
       "</thead>\n",
       "<tbody>\n",
       "\t<tr><td>57</td></tr>\n",
       "</tbody>\n",
       "</table>\n"
      ],
      "text/latex": [
       "A data.frame: 1 × 1\n",
       "\\begin{tabular}{l}\n",
       " n\\\\\n",
       " <int>\\\\\n",
       "\\hline\n",
       "\t 57\\\\\n",
       "\\end{tabular}\n"
      ],
      "text/markdown": [
       "\n",
       "A data.frame: 1 × 1\n",
       "\n",
       "| n &lt;int&gt; |\n",
       "|---|\n",
       "| 57 |\n",
       "\n"
      ],
      "text/plain": [
       "  n \n",
       "1 57"
      ]
     },
     "metadata": {},
     "output_type": "display_data"
    }
   ],
   "source": [
    "select_orginal %>% filter(nFDR2<=0.25)  %>% count()"
   ]
  },
  {
   "cell_type": "code",
   "execution_count": 10,
   "id": "9c7ea6a6-f2c1-4b2e-87a4-5ab7337e4f3c",
   "metadata": {},
   "outputs": [],
   "source": [
    "score_df<-data.frame('pairs'=selectX_100_pct_significnat_results$name)\n",
    "rownames(score_df)<-score_df$pairs\n",
    "score_df$Run_100<-1"
   ]
  },
  {
   "cell_type": "code",
   "execution_count": 11,
   "id": "e7c02ccd-6a93-4ac2-b55d-650594131bc4",
   "metadata": {},
   "outputs": [
    {
     "data": {
      "text/html": [
       "<table class=\"dataframe\">\n",
       "<caption>A data.frame: 6 × 2</caption>\n",
       "<thead>\n",
       "\t<tr><th></th><th scope=col>pairs</th><th scope=col>Run_100</th></tr>\n",
       "\t<tr><th></th><th scope=col>&lt;chr&gt;</th><th scope=col>&lt;dbl&gt;</th></tr>\n",
       "</thead>\n",
       "<tbody>\n",
       "\t<tr><th scope=row>KRAS - TP53</th><td>KRAS - TP53 </td><td>1</td></tr>\n",
       "\t<tr><th scope=row>EGFR - KRAS</th><td>EGFR - KRAS </td><td>1</td></tr>\n",
       "\t<tr><th scope=row>STK11 - TP53</th><td>STK11 - TP53</td><td>1</td></tr>\n",
       "\t<tr><th scope=row>BRAF - KRAS</th><td>BRAF - KRAS </td><td>1</td></tr>\n",
       "\t<tr><th scope=row>KRAS - STK11</th><td>KRAS - STK11</td><td>1</td></tr>\n",
       "\t<tr><th scope=row>EGFR - TP53</th><td>EGFR - TP53 </td><td>1</td></tr>\n",
       "</tbody>\n",
       "</table>\n"
      ],
      "text/latex": [
       "A data.frame: 6 × 2\n",
       "\\begin{tabular}{r|ll}\n",
       "  & pairs & Run\\_100\\\\\n",
       "  & <chr> & <dbl>\\\\\n",
       "\\hline\n",
       "\tKRAS - TP53 & KRAS - TP53  & 1\\\\\n",
       "\tEGFR - KRAS & EGFR - KRAS  & 1\\\\\n",
       "\tSTK11 - TP53 & STK11 - TP53 & 1\\\\\n",
       "\tBRAF - KRAS & BRAF - KRAS  & 1\\\\\n",
       "\tKRAS - STK11 & KRAS - STK11 & 1\\\\\n",
       "\tEGFR - TP53 & EGFR - TP53  & 1\\\\\n",
       "\\end{tabular}\n"
      ],
      "text/markdown": [
       "\n",
       "A data.frame: 6 × 2\n",
       "\n",
       "| <!--/--> | pairs &lt;chr&gt; | Run_100 &lt;dbl&gt; |\n",
       "|---|---|---|\n",
       "| KRAS - TP53 | KRAS - TP53  | 1 |\n",
       "| EGFR - KRAS | EGFR - KRAS  | 1 |\n",
       "| STK11 - TP53 | STK11 - TP53 | 1 |\n",
       "| BRAF - KRAS | BRAF - KRAS  | 1 |\n",
       "| KRAS - STK11 | KRAS - STK11 | 1 |\n",
       "| EGFR - TP53 | EGFR - TP53  | 1 |\n",
       "\n"
      ],
      "text/plain": [
       "             pairs        Run_100\n",
       "KRAS - TP53  KRAS - TP53  1      \n",
       "EGFR - KRAS  EGFR - KRAS  1      \n",
       "STK11 - TP53 STK11 - TP53 1      \n",
       "BRAF - KRAS  BRAF - KRAS  1      \n",
       "KRAS - STK11 KRAS - STK11 1      \n",
       "EGFR - TP53  EGFR - TP53  1      "
      ]
     },
     "metadata": {},
     "output_type": "display_data"
    }
   ],
   "source": [
    "head(score_df)"
   ]
  },
  {
   "cell_type": "code",
   "execution_count": 12,
   "id": "b7c06df7-8cb2-45f9-98cf-6c44773b4f30",
   "metadata": {},
   "outputs": [],
   "source": [
    "for (i in c(1:10)){\n",
    "    score_df[[paste('Run',i,sep=\"_\")]]<-0\n",
    "    temp <- (boot_results[[i]] %>% filter(name %in% score_df$pairs) %>% filter(nFDR2<=0.25))$name\n",
    "    score_df[temp,][[paste('Run',i,sep=\"_\")]]<-1\n",
    "}"
   ]
  },
  {
   "cell_type": "code",
   "execution_count": 13,
   "id": "b263303e-823f-45a4-931e-ded541785d6e",
   "metadata": {},
   "outputs": [],
   "source": [
    "score_df$Total_count<-(score_df$Run_1+score_df$Run_2+score_df$Run_3+score_df$Run_4+score_df$Run_5+score_df$Run_6+score_df$Run_7+score_df$Run_8+score_df$Run_9+score_df$Run_10)\n",
    "score_df$Total <- (score_df$Run_1+score_df$Run_2+score_df$Run_3+score_df$Run_4+score_df$Run_5+score_df$Run_6+score_df$Run_7+score_df$Run_8+score_df$Run_9+score_df$Run_10)/10"
   ]
  },
  {
   "cell_type": "code",
   "execution_count": 14,
   "id": "c40cfb9f-ca6a-4708-b89b-c373b51488b9",
   "metadata": {},
   "outputs": [],
   "source": [
    "cum_pct<-list()\n",
    "cum_pairs<-list()\n",
    "for(i in c(1:10)){\n",
    "    cum_pct[[i]]<-sum(rowSums(score_df[,c(3:12)])>=i)*100/57\n",
    "    cum_pairs[[i]]<-sum(rowSums(score_df[,c(3:12)])>=i)\n",
    "}"
   ]
  },
  {
   "cell_type": "code",
   "execution_count": 15,
   "id": "f45d1b85-1845-4f73-9595-0fa9c3328d62",
   "metadata": {},
   "outputs": [],
   "source": [
    "score_df_v3<-data.frame('Recovery'=c(1:10),'n'=unlist(cum_pairs),'pct'=unlist(cum_pct))\n",
    "score_df_v3$Recovery <-as.factor(score_df_v3$Recovery)"
   ]
  },
  {
   "cell_type": "code",
   "execution_count": 16,
   "id": "cd77386b-cf08-44a1-aa1a-7aa37580c012",
   "metadata": {},
   "outputs": [
    {
     "data": {
      "text/html": [
       "<table class=\"dataframe\">\n",
       "<caption>A data.frame: 10 × 3</caption>\n",
       "<thead>\n",
       "\t<tr><th scope=col>Recovery</th><th scope=col>n</th><th scope=col>pct</th></tr>\n",
       "\t<tr><th scope=col>&lt;fct&gt;</th><th scope=col>&lt;int&gt;</th><th scope=col>&lt;dbl&gt;</th></tr>\n",
       "</thead>\n",
       "<tbody>\n",
       "\t<tr><td>1 </td><td>56</td><td>98.24561</td></tr>\n",
       "\t<tr><td>2 </td><td>54</td><td>94.73684</td></tr>\n",
       "\t<tr><td>3 </td><td>52</td><td>91.22807</td></tr>\n",
       "\t<tr><td>4 </td><td>50</td><td>87.71930</td></tr>\n",
       "\t<tr><td>5 </td><td>46</td><td>80.70175</td></tr>\n",
       "\t<tr><td>6 </td><td>42</td><td>73.68421</td></tr>\n",
       "\t<tr><td>7 </td><td>38</td><td>66.66667</td></tr>\n",
       "\t<tr><td>8 </td><td>37</td><td>64.91228</td></tr>\n",
       "\t<tr><td>9 </td><td>30</td><td>52.63158</td></tr>\n",
       "\t<tr><td>10</td><td>26</td><td>45.61404</td></tr>\n",
       "</tbody>\n",
       "</table>\n"
      ],
      "text/latex": [
       "A data.frame: 10 × 3\n",
       "\\begin{tabular}{lll}\n",
       " Recovery & n & pct\\\\\n",
       " <fct> & <int> & <dbl>\\\\\n",
       "\\hline\n",
       "\t 1  & 56 & 98.24561\\\\\n",
       "\t 2  & 54 & 94.73684\\\\\n",
       "\t 3  & 52 & 91.22807\\\\\n",
       "\t 4  & 50 & 87.71930\\\\\n",
       "\t 5  & 46 & 80.70175\\\\\n",
       "\t 6  & 42 & 73.68421\\\\\n",
       "\t 7  & 38 & 66.66667\\\\\n",
       "\t 8  & 37 & 64.91228\\\\\n",
       "\t 9  & 30 & 52.63158\\\\\n",
       "\t 10 & 26 & 45.61404\\\\\n",
       "\\end{tabular}\n"
      ],
      "text/markdown": [
       "\n",
       "A data.frame: 10 × 3\n",
       "\n",
       "| Recovery &lt;fct&gt; | n &lt;int&gt; | pct &lt;dbl&gt; |\n",
       "|---|---|---|\n",
       "| 1  | 56 | 98.24561 |\n",
       "| 2  | 54 | 94.73684 |\n",
       "| 3  | 52 | 91.22807 |\n",
       "| 4  | 50 | 87.71930 |\n",
       "| 5  | 46 | 80.70175 |\n",
       "| 6  | 42 | 73.68421 |\n",
       "| 7  | 38 | 66.66667 |\n",
       "| 8  | 37 | 64.91228 |\n",
       "| 9  | 30 | 52.63158 |\n",
       "| 10 | 26 | 45.61404 |\n",
       "\n"
      ],
      "text/plain": [
       "   Recovery n  pct     \n",
       "1  1        56 98.24561\n",
       "2  2        54 94.73684\n",
       "3  3        52 91.22807\n",
       "4  4        50 87.71930\n",
       "5  5        46 80.70175\n",
       "6  6        42 73.68421\n",
       "7  7        38 66.66667\n",
       "8  8        37 64.91228\n",
       "9  9        30 52.63158\n",
       "10 10       26 45.61404"
      ]
     },
     "metadata": {},
     "output_type": "display_data"
    }
   ],
   "source": [
    "score_df_v3"
   ]
  },
  {
   "cell_type": "code",
   "execution_count": 17,
   "id": "3b0b6e01-850c-484f-9610-5b6212b5e140",
   "metadata": {},
   "outputs": [
    {
     "data": {
      "text/html": [
       "<table class=\"dataframe\">\n",
       "<caption>A data.frame: 11 × 3</caption>\n",
       "<thead>\n",
       "\t<tr><th scope=col>Total</th><th scope=col>n</th><th scope=col>pct</th></tr>\n",
       "\t<tr><th scope=col>&lt;dbl&gt;</th><th scope=col>&lt;int&gt;</th><th scope=col>&lt;dbl&gt;</th></tr>\n",
       "</thead>\n",
       "<tbody>\n",
       "\t<tr><td>0.0</td><td> 1</td><td> 1.754386</td></tr>\n",
       "\t<tr><td>0.1</td><td> 2</td><td> 3.508772</td></tr>\n",
       "\t<tr><td>0.2</td><td> 2</td><td> 3.508772</td></tr>\n",
       "\t<tr><td>0.3</td><td> 2</td><td> 3.508772</td></tr>\n",
       "\t<tr><td>0.4</td><td> 4</td><td> 7.017544</td></tr>\n",
       "\t<tr><td>0.5</td><td> 4</td><td> 7.017544</td></tr>\n",
       "\t<tr><td>0.6</td><td> 4</td><td> 7.017544</td></tr>\n",
       "\t<tr><td>0.7</td><td> 1</td><td> 1.754386</td></tr>\n",
       "\t<tr><td>0.8</td><td> 7</td><td>12.280702</td></tr>\n",
       "\t<tr><td>0.9</td><td> 4</td><td> 7.017544</td></tr>\n",
       "\t<tr><td>1.0</td><td>26</td><td>45.614035</td></tr>\n",
       "</tbody>\n",
       "</table>\n"
      ],
      "text/latex": [
       "A data.frame: 11 × 3\n",
       "\\begin{tabular}{lll}\n",
       " Total & n & pct\\\\\n",
       " <dbl> & <int> & <dbl>\\\\\n",
       "\\hline\n",
       "\t 0.0 &  1 &  1.754386\\\\\n",
       "\t 0.1 &  2 &  3.508772\\\\\n",
       "\t 0.2 &  2 &  3.508772\\\\\n",
       "\t 0.3 &  2 &  3.508772\\\\\n",
       "\t 0.4 &  4 &  7.017544\\\\\n",
       "\t 0.5 &  4 &  7.017544\\\\\n",
       "\t 0.6 &  4 &  7.017544\\\\\n",
       "\t 0.7 &  1 &  1.754386\\\\\n",
       "\t 0.8 &  7 & 12.280702\\\\\n",
       "\t 0.9 &  4 &  7.017544\\\\\n",
       "\t 1.0 & 26 & 45.614035\\\\\n",
       "\\end{tabular}\n"
      ],
      "text/markdown": [
       "\n",
       "A data.frame: 11 × 3\n",
       "\n",
       "| Total &lt;dbl&gt; | n &lt;int&gt; | pct &lt;dbl&gt; |\n",
       "|---|---|---|\n",
       "| 0.0 |  1 |  1.754386 |\n",
       "| 0.1 |  2 |  3.508772 |\n",
       "| 0.2 |  2 |  3.508772 |\n",
       "| 0.3 |  2 |  3.508772 |\n",
       "| 0.4 |  4 |  7.017544 |\n",
       "| 0.5 |  4 |  7.017544 |\n",
       "| 0.6 |  4 |  7.017544 |\n",
       "| 0.7 |  1 |  1.754386 |\n",
       "| 0.8 |  7 | 12.280702 |\n",
       "| 0.9 |  4 |  7.017544 |\n",
       "| 1.0 | 26 | 45.614035 |\n",
       "\n"
      ],
      "text/plain": [
       "   Total n  pct      \n",
       "1  0.0    1  1.754386\n",
       "2  0.1    2  3.508772\n",
       "3  0.2    2  3.508772\n",
       "4  0.3    2  3.508772\n",
       "5  0.4    4  7.017544\n",
       "6  0.5    4  7.017544\n",
       "7  0.6    4  7.017544\n",
       "8  0.7    1  1.754386\n",
       "9  0.8    7 12.280702\n",
       "10 0.9    4  7.017544\n",
       "11 1.0   26 45.614035"
      ]
     },
     "metadata": {},
     "output_type": "display_data"
    }
   ],
   "source": [
    "score_df %>% count(Total) %>% mutate(pct=(n*100/57))"
   ]
  },
  {
   "cell_type": "markdown",
   "id": "426334de-9ef0-4929-9a18-056f359b829a",
   "metadata": {
    "jp-MarkdownHeadingCollapsed": true,
    "tags": []
   },
   "source": [
    "## Select "
   ]
  },
  {
   "cell_type": "code",
   "execution_count": 20,
   "id": "e6397c7c-449b-4ff8-937f-6bd93032f181",
   "metadata": {},
   "outputs": [],
   "source": [
    "select_orginal <- readRDS('/mnt/ptemp/arvind/tool_comaprision/results/select/luad_all_results.rds')"
   ]
  },
  {
   "cell_type": "code",
   "execution_count": 21,
   "id": "311f8a77-a580-4317-8189-8d924ec94091",
   "metadata": {},
   "outputs": [],
   "source": [
    "boot_results <- list()\n",
    "k=1\n",
    "for (i in c(1:10)){\n",
    "    name <- paste('/mnt/ptemp/arvind/tool_comaprision/results/select/sampling_run_result_80_',i,'.rds',sep=\"\")\n",
    "    boot_results[[k]] <- readRDS(file=name)\n",
    "    k=k+1\n",
    "}"
   ]
  },
  {
   "cell_type": "code",
   "execution_count": 22,
   "id": "c2e89c87-853a-4815-9673-ab6228a58363",
   "metadata": {},
   "outputs": [
    {
     "data": {
      "text/html": [
       "10"
      ],
      "text/latex": [
       "10"
      ],
      "text/markdown": [
       "10"
      ],
      "text/plain": [
       "[1] 10"
      ]
     },
     "metadata": {},
     "output_type": "display_data"
    }
   ],
   "source": [
    "length(boot_results)"
   ]
  },
  {
   "cell_type": "code",
   "execution_count": 23,
   "id": "5b5e5d35-f60f-4244-b2ea-2d3cb7e2134f",
   "metadata": {},
   "outputs": [
    {
     "data": {
      "text/html": [
       "<table class=\"dataframe\">\n",
       "<caption>A data.frame: 6 × 26</caption>\n",
       "<thead>\n",
       "\t<tr><th></th><th scope=col>SFE_1</th><th scope=col>SFE_2</th><th scope=col>name</th><th scope=col>type_1</th><th scope=col>type_2</th><th scope=col>int_type</th><th scope=col>support_1</th><th scope=col>support_2</th><th scope=col>freq_1</th><th scope=col>freq_2</th><th scope=col>⋯</th><th scope=col>abs_diff_overlap</th><th scope=col>direction</th><th scope=col>wMI_stat</th><th scope=col>wMI_p.value</th><th scope=col>ME_p.value</th><th scope=col>E.r.wMI_stat</th><th scope=col>MI_diff</th><th scope=col>wMI_p.value_FDR</th><th scope=col>select_score_good_cancer_cell_2017_criterion_1</th><th scope=col>select_score</th></tr>\n",
       "\t<tr><th></th><th scope=col>&lt;chr&gt;</th><th scope=col>&lt;chr&gt;</th><th scope=col>&lt;chr&gt;</th><th scope=col>&lt;chr&gt;</th><th scope=col>&lt;chr&gt;</th><th scope=col>&lt;chr&gt;</th><th scope=col>&lt;dbl&gt;</th><th scope=col>&lt;dbl&gt;</th><th scope=col>&lt;dbl&gt;</th><th scope=col>&lt;dbl&gt;</th><th scope=col>⋯</th><th scope=col>&lt;dbl&gt;</th><th scope=col>&lt;chr&gt;</th><th scope=col>&lt;dbl&gt;</th><th scope=col>&lt;dbl&gt;</th><th scope=col>&lt;dbl&gt;</th><th scope=col>&lt;dbl&gt;</th><th scope=col>&lt;dbl&gt;</th><th scope=col>&lt;lgl&gt;</th><th scope=col>&lt;lgl&gt;</th><th scope=col>&lt;dbl&gt;</th></tr>\n",
       "</thead>\n",
       "<tbody>\n",
       "\t<tr><th scope=row>AKT1 - ALK</th><td>AKT1</td><td>ALK </td><td>AKT1 - ALK </td><td>MUT</td><td>MUT</td><td>MUT - MUT</td><td>3</td><td> 3</td><td>0.007978723</td><td>0.007978723</td><td>⋯</td><td>0.026</td><td>ME</td><td>0.002341008</td><td>1.000</td><td>0.974</td><td>0.002341008</td><td> 0.000000000</td><td>FALSE</td><td>FALSE</td><td>NA</td></tr>\n",
       "\t<tr><th scope=row>AKT1 - APC</th><td>AKT1</td><td>APC </td><td>AKT1 - APC </td><td>MUT</td><td>MUT</td><td>MUT - MUT</td><td>3</td><td> 8</td><td>0.007978723</td><td>0.021276596</td><td>⋯</td><td>0.078</td><td>ME</td><td>0.004773510</td><td>1.000</td><td>0.925</td><td>0.004773510</td><td> 0.000000000</td><td>FALSE</td><td>FALSE</td><td>NA</td></tr>\n",
       "\t<tr><th scope=row>AKT1 - AR</th><td>AKT1</td><td>AR  </td><td>AKT1 - AR  </td><td>MUT</td><td>MUT</td><td>MUT - MUT</td><td>3</td><td> 2</td><td>0.007978723</td><td>0.005319149</td><td>⋯</td><td>0.026</td><td>ME</td><td>0.001549930</td><td>1.000</td><td>0.974</td><td>0.001549930</td><td> 0.000000000</td><td>FALSE</td><td>FALSE</td><td>NA</td></tr>\n",
       "\t<tr><th scope=row>AKT1 - ATM</th><td>AKT1</td><td>ATM </td><td>AKT1 - ATM </td><td>MUT</td><td>MUT</td><td>MUT - MUT</td><td>3</td><td>15</td><td>0.007978723</td><td>0.039893617</td><td>⋯</td><td>0.141</td><td>ME</td><td>0.005967738</td><td>0.869</td><td>0.864</td><td>0.005967738</td><td> 0.000000000</td><td>FALSE</td><td>FALSE</td><td>NA</td></tr>\n",
       "\t<tr><th scope=row>AKT1 - BAP1</th><td>AKT1</td><td>BAP1</td><td>AKT1 - BAP1</td><td>MUT</td><td>MUT</td><td>MUT - MUT</td><td>3</td><td> 4</td><td>0.007978723</td><td>0.010638298</td><td>⋯</td><td>0.042</td><td>ME</td><td>0.002980355</td><td>1.000</td><td>0.958</td><td>0.002980355</td><td> 0.000000000</td><td>FALSE</td><td>FALSE</td><td>NA</td></tr>\n",
       "\t<tr><th scope=row>AKT1 - BRAF</th><td>AKT1</td><td>BRAF</td><td>AKT1 - BRAF</td><td>MUT</td><td>MUT</td><td>MUT - MUT</td><td>3</td><td>28</td><td>0.007978723</td><td>0.074468085</td><td>⋯</td><td>0.737</td><td>CO</td><td>0.001839621</td><td>1.000</td><td>0.241</td><td>0.005861722</td><td>-0.004022101</td><td>FALSE</td><td>FALSE</td><td>NA</td></tr>\n",
       "</tbody>\n",
       "</table>\n"
      ],
      "text/latex": [
       "A data.frame: 6 × 26\n",
       "\\begin{tabular}{r|lllllllllllllllllllll}\n",
       "  & SFE\\_1 & SFE\\_2 & name & type\\_1 & type\\_2 & int\\_type & support\\_1 & support\\_2 & freq\\_1 & freq\\_2 & ⋯ & abs\\_diff\\_overlap & direction & wMI\\_stat & wMI\\_p.value & ME\\_p.value & E.r.wMI\\_stat & MI\\_diff & wMI\\_p.value\\_FDR & select\\_score\\_good\\_cancer\\_cell\\_2017\\_criterion\\_1 & select\\_score\\\\\n",
       "  & <chr> & <chr> & <chr> & <chr> & <chr> & <chr> & <dbl> & <dbl> & <dbl> & <dbl> & ⋯ & <dbl> & <chr> & <dbl> & <dbl> & <dbl> & <dbl> & <dbl> & <lgl> & <lgl> & <dbl>\\\\\n",
       "\\hline\n",
       "\tAKT1 - ALK & AKT1 & ALK  & AKT1 - ALK  & MUT & MUT & MUT - MUT & 3 &  3 & 0.007978723 & 0.007978723 & ⋯ & 0.026 & ME & 0.002341008 & 1.000 & 0.974 & 0.002341008 &  0.000000000 & FALSE & FALSE & NA\\\\\n",
       "\tAKT1 - APC & AKT1 & APC  & AKT1 - APC  & MUT & MUT & MUT - MUT & 3 &  8 & 0.007978723 & 0.021276596 & ⋯ & 0.078 & ME & 0.004773510 & 1.000 & 0.925 & 0.004773510 &  0.000000000 & FALSE & FALSE & NA\\\\\n",
       "\tAKT1 - AR & AKT1 & AR   & AKT1 - AR   & MUT & MUT & MUT - MUT & 3 &  2 & 0.007978723 & 0.005319149 & ⋯ & 0.026 & ME & 0.001549930 & 1.000 & 0.974 & 0.001549930 &  0.000000000 & FALSE & FALSE & NA\\\\\n",
       "\tAKT1 - ATM & AKT1 & ATM  & AKT1 - ATM  & MUT & MUT & MUT - MUT & 3 & 15 & 0.007978723 & 0.039893617 & ⋯ & 0.141 & ME & 0.005967738 & 0.869 & 0.864 & 0.005967738 &  0.000000000 & FALSE & FALSE & NA\\\\\n",
       "\tAKT1 - BAP1 & AKT1 & BAP1 & AKT1 - BAP1 & MUT & MUT & MUT - MUT & 3 &  4 & 0.007978723 & 0.010638298 & ⋯ & 0.042 & ME & 0.002980355 & 1.000 & 0.958 & 0.002980355 &  0.000000000 & FALSE & FALSE & NA\\\\\n",
       "\tAKT1 - BRAF & AKT1 & BRAF & AKT1 - BRAF & MUT & MUT & MUT - MUT & 3 & 28 & 0.007978723 & 0.074468085 & ⋯ & 0.737 & CO & 0.001839621 & 1.000 & 0.241 & 0.005861722 & -0.004022101 & FALSE & FALSE & NA\\\\\n",
       "\\end{tabular}\n"
      ],
      "text/markdown": [
       "\n",
       "A data.frame: 6 × 26\n",
       "\n",
       "| <!--/--> | SFE_1 &lt;chr&gt; | SFE_2 &lt;chr&gt; | name &lt;chr&gt; | type_1 &lt;chr&gt; | type_2 &lt;chr&gt; | int_type &lt;chr&gt; | support_1 &lt;dbl&gt; | support_2 &lt;dbl&gt; | freq_1 &lt;dbl&gt; | freq_2 &lt;dbl&gt; | ⋯ ⋯ | abs_diff_overlap &lt;dbl&gt; | direction &lt;chr&gt; | wMI_stat &lt;dbl&gt; | wMI_p.value &lt;dbl&gt; | ME_p.value &lt;dbl&gt; | E.r.wMI_stat &lt;dbl&gt; | MI_diff &lt;dbl&gt; | wMI_p.value_FDR &lt;lgl&gt; | select_score_good_cancer_cell_2017_criterion_1 &lt;lgl&gt; | select_score &lt;dbl&gt; |\n",
       "|---|---|---|---|---|---|---|---|---|---|---|---|---|---|---|---|---|---|---|---|---|---|\n",
       "| AKT1 - ALK | AKT1 | ALK  | AKT1 - ALK  | MUT | MUT | MUT - MUT | 3 |  3 | 0.007978723 | 0.007978723 | ⋯ | 0.026 | ME | 0.002341008 | 1.000 | 0.974 | 0.002341008 |  0.000000000 | FALSE | FALSE | NA |\n",
       "| AKT1 - APC | AKT1 | APC  | AKT1 - APC  | MUT | MUT | MUT - MUT | 3 |  8 | 0.007978723 | 0.021276596 | ⋯ | 0.078 | ME | 0.004773510 | 1.000 | 0.925 | 0.004773510 |  0.000000000 | FALSE | FALSE | NA |\n",
       "| AKT1 - AR | AKT1 | AR   | AKT1 - AR   | MUT | MUT | MUT - MUT | 3 |  2 | 0.007978723 | 0.005319149 | ⋯ | 0.026 | ME | 0.001549930 | 1.000 | 0.974 | 0.001549930 |  0.000000000 | FALSE | FALSE | NA |\n",
       "| AKT1 - ATM | AKT1 | ATM  | AKT1 - ATM  | MUT | MUT | MUT - MUT | 3 | 15 | 0.007978723 | 0.039893617 | ⋯ | 0.141 | ME | 0.005967738 | 0.869 | 0.864 | 0.005967738 |  0.000000000 | FALSE | FALSE | NA |\n",
       "| AKT1 - BAP1 | AKT1 | BAP1 | AKT1 - BAP1 | MUT | MUT | MUT - MUT | 3 |  4 | 0.007978723 | 0.010638298 | ⋯ | 0.042 | ME | 0.002980355 | 1.000 | 0.958 | 0.002980355 |  0.000000000 | FALSE | FALSE | NA |\n",
       "| AKT1 - BRAF | AKT1 | BRAF | AKT1 - BRAF | MUT | MUT | MUT - MUT | 3 | 28 | 0.007978723 | 0.074468085 | ⋯ | 0.737 | CO | 0.001839621 | 1.000 | 0.241 | 0.005861722 | -0.004022101 | FALSE | FALSE | NA |\n",
       "\n"
      ],
      "text/plain": [
       "            SFE_1 SFE_2 name        type_1 type_2 int_type  support_1 support_2\n",
       "AKT1 - ALK  AKT1  ALK   AKT1 - ALK  MUT    MUT    MUT - MUT 3          3       \n",
       "AKT1 - APC  AKT1  APC   AKT1 - APC  MUT    MUT    MUT - MUT 3          8       \n",
       "AKT1 - AR   AKT1  AR    AKT1 - AR   MUT    MUT    MUT - MUT 3          2       \n",
       "AKT1 - ATM  AKT1  ATM   AKT1 - ATM  MUT    MUT    MUT - MUT 3         15       \n",
       "AKT1 - BAP1 AKT1  BAP1  AKT1 - BAP1 MUT    MUT    MUT - MUT 3          4       \n",
       "AKT1 - BRAF AKT1  BRAF  AKT1 - BRAF MUT    MUT    MUT - MUT 3         28       \n",
       "            freq_1      freq_2      ⋯ abs_diff_overlap direction wMI_stat   \n",
       "AKT1 - ALK  0.007978723 0.007978723 ⋯ 0.026            ME        0.002341008\n",
       "AKT1 - APC  0.007978723 0.021276596 ⋯ 0.078            ME        0.004773510\n",
       "AKT1 - AR   0.007978723 0.005319149 ⋯ 0.026            ME        0.001549930\n",
       "AKT1 - ATM  0.007978723 0.039893617 ⋯ 0.141            ME        0.005967738\n",
       "AKT1 - BAP1 0.007978723 0.010638298 ⋯ 0.042            ME        0.002980355\n",
       "AKT1 - BRAF 0.007978723 0.074468085 ⋯ 0.737            CO        0.001839621\n",
       "            wMI_p.value ME_p.value E.r.wMI_stat MI_diff      wMI_p.value_FDR\n",
       "AKT1 - ALK  1.000       0.974      0.002341008   0.000000000 FALSE          \n",
       "AKT1 - APC  1.000       0.925      0.004773510   0.000000000 FALSE          \n",
       "AKT1 - AR   1.000       0.974      0.001549930   0.000000000 FALSE          \n",
       "AKT1 - ATM  0.869       0.864      0.005967738   0.000000000 FALSE          \n",
       "AKT1 - BAP1 1.000       0.958      0.002980355   0.000000000 FALSE          \n",
       "AKT1 - BRAF 1.000       0.241      0.005861722  -0.004022101 FALSE          \n",
       "            select_score_good_cancer_cell_2017_criterion_1 select_score\n",
       "AKT1 - ALK  FALSE                                          NA          \n",
       "AKT1 - APC  FALSE                                          NA          \n",
       "AKT1 - AR   FALSE                                          NA          \n",
       "AKT1 - ATM  FALSE                                          NA          \n",
       "AKT1 - BAP1 FALSE                                          NA          \n",
       "AKT1 - BRAF FALSE                                          NA          "
      ]
     },
     "metadata": {},
     "output_type": "display_data"
    }
   ],
   "source": [
    "head(boot_results[[1]])"
   ]
  },
  {
   "cell_type": "code",
   "execution_count": 24,
   "id": "019068f9-a37f-41bc-a163-65a76f19f04f",
   "metadata": {},
   "outputs": [],
   "source": [
    "selectX_100_pct_significnat_results <- select_orginal %>% filter(wMI_p.value_FDR) "
   ]
  },
  {
   "cell_type": "code",
   "execution_count": 25,
   "id": "deeb4918-4bce-49fe-a3de-dd973c8ab0a7",
   "metadata": {},
   "outputs": [
    {
     "data": {
      "text/html": [
       "<table class=\"dataframe\">\n",
       "<caption>A data.frame: 1 × 1</caption>\n",
       "<thead>\n",
       "\t<tr><th scope=col>n</th></tr>\n",
       "\t<tr><th scope=col>&lt;int&gt;</th></tr>\n",
       "</thead>\n",
       "<tbody>\n",
       "\t<tr><td>20</td></tr>\n",
       "</tbody>\n",
       "</table>\n"
      ],
      "text/latex": [
       "A data.frame: 1 × 1\n",
       "\\begin{tabular}{l}\n",
       " n\\\\\n",
       " <int>\\\\\n",
       "\\hline\n",
       "\t 20\\\\\n",
       "\\end{tabular}\n"
      ],
      "text/markdown": [
       "\n",
       "A data.frame: 1 × 1\n",
       "\n",
       "| n &lt;int&gt; |\n",
       "|---|\n",
       "| 20 |\n",
       "\n"
      ],
      "text/plain": [
       "  n \n",
       "1 20"
      ]
     },
     "metadata": {},
     "output_type": "display_data"
    }
   ],
   "source": [
    "select_orginal %>% filter(wMI_p.value_FDR)  %>% count()"
   ]
  },
  {
   "cell_type": "code",
   "execution_count": 26,
   "id": "6576880b-af81-4ec1-bbe5-b20de2e4b6a1",
   "metadata": {},
   "outputs": [],
   "source": [
    "score_df<-data.frame('pairs'=selectX_100_pct_significnat_results$name)\n",
    "rownames(score_df)<-score_df$pairs\n",
    "score_df$Run_100<-1"
   ]
  },
  {
   "cell_type": "code",
   "execution_count": 27,
   "id": "b12e60bd-c85a-4daa-8537-5c29ecf66a20",
   "metadata": {},
   "outputs": [
    {
     "data": {
      "text/html": [
       "<table class=\"dataframe\">\n",
       "<caption>A data.frame: 6 × 2</caption>\n",
       "<thead>\n",
       "\t<tr><th></th><th scope=col>pairs</th><th scope=col>Run_100</th></tr>\n",
       "\t<tr><th></th><th scope=col>&lt;chr&gt;</th><th scope=col>&lt;dbl&gt;</th></tr>\n",
       "</thead>\n",
       "<tbody>\n",
       "\t<tr><th scope=row>BRAF - KRAS</th><td>BRAF - KRAS    </td><td>1</td></tr>\n",
       "\t<tr><th scope=row>CARD11 - ARID1A</th><td>CARD11 - ARID1A</td><td>1</td></tr>\n",
       "\t<tr><th scope=row>CDH1 - SMAD2</th><td>CDH1 - SMAD2   </td><td>1</td></tr>\n",
       "\t<tr><th scope=row>EGFR - KRAS</th><td>EGFR - KRAS    </td><td>1</td></tr>\n",
       "\t<tr><th scope=row>EGFR - STK11</th><td>EGFR - STK11   </td><td>1</td></tr>\n",
       "\t<tr><th scope=row>EZH2 - GNAS</th><td>EZH2 - GNAS    </td><td>1</td></tr>\n",
       "</tbody>\n",
       "</table>\n"
      ],
      "text/latex": [
       "A data.frame: 6 × 2\n",
       "\\begin{tabular}{r|ll}\n",
       "  & pairs & Run\\_100\\\\\n",
       "  & <chr> & <dbl>\\\\\n",
       "\\hline\n",
       "\tBRAF - KRAS & BRAF - KRAS     & 1\\\\\n",
       "\tCARD11 - ARID1A & CARD11 - ARID1A & 1\\\\\n",
       "\tCDH1 - SMAD2 & CDH1 - SMAD2    & 1\\\\\n",
       "\tEGFR - KRAS & EGFR - KRAS     & 1\\\\\n",
       "\tEGFR - STK11 & EGFR - STK11    & 1\\\\\n",
       "\tEZH2 - GNAS & EZH2 - GNAS     & 1\\\\\n",
       "\\end{tabular}\n"
      ],
      "text/markdown": [
       "\n",
       "A data.frame: 6 × 2\n",
       "\n",
       "| <!--/--> | pairs &lt;chr&gt; | Run_100 &lt;dbl&gt; |\n",
       "|---|---|---|\n",
       "| BRAF - KRAS | BRAF - KRAS     | 1 |\n",
       "| CARD11 - ARID1A | CARD11 - ARID1A | 1 |\n",
       "| CDH1 - SMAD2 | CDH1 - SMAD2    | 1 |\n",
       "| EGFR - KRAS | EGFR - KRAS     | 1 |\n",
       "| EGFR - STK11 | EGFR - STK11    | 1 |\n",
       "| EZH2 - GNAS | EZH2 - GNAS     | 1 |\n",
       "\n"
      ],
      "text/plain": [
       "                pairs           Run_100\n",
       "BRAF - KRAS     BRAF - KRAS     1      \n",
       "CARD11 - ARID1A CARD11 - ARID1A 1      \n",
       "CDH1 - SMAD2    CDH1 - SMAD2    1      \n",
       "EGFR - KRAS     EGFR - KRAS     1      \n",
       "EGFR - STK11    EGFR - STK11    1      \n",
       "EZH2 - GNAS     EZH2 - GNAS     1      "
      ]
     },
     "metadata": {},
     "output_type": "display_data"
    }
   ],
   "source": [
    "head(score_df)"
   ]
  },
  {
   "cell_type": "code",
   "execution_count": 28,
   "id": "8387dc53-02ce-47f6-a502-e3e6fbe2cccb",
   "metadata": {},
   "outputs": [],
   "source": [
    "for (i in c(1:10)){\n",
    "    score_df[[paste('Run',i,sep=\"_\")]]<-0\n",
    "    temp <- (boot_results[[i]] %>% filter(name %in% score_df$pairs) %>% filter(wMI_p.value_FDR))$name\n",
    "    score_df[temp,][[paste('Run',i,sep=\"_\")]]<-1\n",
    "}"
   ]
  },
  {
   "cell_type": "code",
   "execution_count": 29,
   "id": "383cea17-b0b4-49f0-afdf-c3fabd7a8645",
   "metadata": {},
   "outputs": [],
   "source": [
    "score_df$Total_count<-(score_df$Run_1+score_df$Run_2+score_df$Run_3+score_df$Run_4+score_df$Run_5+score_df$Run_6+score_df$Run_7+score_df$Run_8+score_df$Run_9+score_df$Run_10)\n",
    "score_df$Total <- (score_df$Run_1+score_df$Run_2+score_df$Run_3+score_df$Run_4+score_df$Run_5+score_df$Run_6+score_df$Run_7+score_df$Run_8+score_df$Run_9+score_df$Run_10)/10"
   ]
  },
  {
   "cell_type": "code",
   "execution_count": 30,
   "id": "135eb543-bce9-4c4f-95cc-38c181f49b17",
   "metadata": {
    "scrolled": true,
    "tags": []
   },
   "outputs": [
    {
     "data": {
      "text/html": [
       "<table class=\"dataframe\">\n",
       "<caption>A data.frame: 20 × 14</caption>\n",
       "<thead>\n",
       "\t<tr><th></th><th scope=col>pairs</th><th scope=col>Run_100</th><th scope=col>Run_1</th><th scope=col>Run_2</th><th scope=col>Run_3</th><th scope=col>Run_4</th><th scope=col>Run_5</th><th scope=col>Run_6</th><th scope=col>Run_7</th><th scope=col>Run_8</th><th scope=col>Run_9</th><th scope=col>Run_10</th><th scope=col>Total_count</th><th scope=col>Total</th></tr>\n",
       "\t<tr><th></th><th scope=col>&lt;chr&gt;</th><th scope=col>&lt;dbl&gt;</th><th scope=col>&lt;dbl&gt;</th><th scope=col>&lt;dbl&gt;</th><th scope=col>&lt;dbl&gt;</th><th scope=col>&lt;dbl&gt;</th><th scope=col>&lt;dbl&gt;</th><th scope=col>&lt;dbl&gt;</th><th scope=col>&lt;dbl&gt;</th><th scope=col>&lt;dbl&gt;</th><th scope=col>&lt;dbl&gt;</th><th scope=col>&lt;dbl&gt;</th><th scope=col>&lt;dbl&gt;</th><th scope=col>&lt;dbl&gt;</th></tr>\n",
       "</thead>\n",
       "<tbody>\n",
       "\t<tr><th scope=row>BRAF - KRAS</th><td>BRAF - KRAS    </td><td>1</td><td>1</td><td>1</td><td>1</td><td>1</td><td>1</td><td>1</td><td>1</td><td>1</td><td>1</td><td>0</td><td> 9</td><td>0.9</td></tr>\n",
       "\t<tr><th scope=row>CARD11 - ARID1A</th><td>CARD11 - ARID1A</td><td>1</td><td>1</td><td>1</td><td>0</td><td>1</td><td>0</td><td>1</td><td>0</td><td>0</td><td>0</td><td>0</td><td> 4</td><td>0.4</td></tr>\n",
       "\t<tr><th scope=row>CDH1 - SMAD2</th><td>CDH1 - SMAD2   </td><td>1</td><td>0</td><td>0</td><td>0</td><td>0</td><td>0</td><td>0</td><td>0</td><td>0</td><td>0</td><td>0</td><td> 0</td><td>0.0</td></tr>\n",
       "\t<tr><th scope=row>EGFR - KRAS</th><td>EGFR - KRAS    </td><td>1</td><td>1</td><td>1</td><td>1</td><td>1</td><td>1</td><td>1</td><td>1</td><td>1</td><td>1</td><td>1</td><td>10</td><td>1.0</td></tr>\n",
       "\t<tr><th scope=row>EGFR - STK11</th><td>EGFR - STK11   </td><td>1</td><td>1</td><td>1</td><td>1</td><td>1</td><td>0</td><td>1</td><td>0</td><td>1</td><td>1</td><td>1</td><td> 8</td><td>0.8</td></tr>\n",
       "\t<tr><th scope=row>EZH2 - GNAS</th><td>EZH2 - GNAS    </td><td>1</td><td>0</td><td>0</td><td>0</td><td>0</td><td>0</td><td>0</td><td>0</td><td>0</td><td>0</td><td>1</td><td> 1</td><td>0.1</td></tr>\n",
       "\t<tr><th scope=row>GNAQ - SPRTN</th><td>GNAQ - SPRTN   </td><td>1</td><td>0</td><td>0</td><td>0</td><td>0</td><td>0</td><td>0</td><td>0</td><td>0</td><td>0</td><td>0</td><td> 0</td><td>0.0</td></tr>\n",
       "\t<tr><th scope=row>KRAS - TP53</th><td>KRAS - TP53    </td><td>1</td><td>1</td><td>1</td><td>1</td><td>1</td><td>1</td><td>1</td><td>1</td><td>1</td><td>1</td><td>1</td><td>10</td><td>1.0</td></tr>\n",
       "\t<tr><th scope=row>STK11 - TP53</th><td>STK11 - TP53   </td><td>1</td><td>1</td><td>1</td><td>1</td><td>0</td><td>1</td><td>1</td><td>1</td><td>1</td><td>1</td><td>1</td><td> 9</td><td>0.9</td></tr>\n",
       "\t<tr><th scope=row>KDR - SLFN11</th><td>KDR - SLFN11   </td><td>1</td><td>0</td><td>1</td><td>0</td><td>0</td><td>1</td><td>0</td><td>1</td><td>1</td><td>1</td><td>0</td><td> 5</td><td>0.5</td></tr>\n",
       "\t<tr><th scope=row>KDR - BRCA1</th><td>KDR - BRCA1    </td><td>1</td><td>1</td><td>1</td><td>0</td><td>1</td><td>1</td><td>1</td><td>1</td><td>0</td><td>0</td><td>1</td><td> 7</td><td>0.7</td></tr>\n",
       "\t<tr><th scope=row>SETBP1 - PBRM1</th><td>SETBP1 - PBRM1 </td><td>1</td><td>1</td><td>1</td><td>0</td><td>0</td><td>0</td><td>0</td><td>1</td><td>0</td><td>0</td><td>0</td><td> 3</td><td>0.3</td></tr>\n",
       "\t<tr><th scope=row>DIS3 - HOXB13</th><td>DIS3 - HOXB13  </td><td>1</td><td>0</td><td>0</td><td>0</td><td>0</td><td>0</td><td>1</td><td>0</td><td>0</td><td>0</td><td>0</td><td> 1</td><td>0.1</td></tr>\n",
       "\t<tr><th scope=row>FOXA1 - CASP8</th><td>FOXA1 - CASP8  </td><td>1</td><td>1</td><td>0</td><td>0</td><td>0</td><td>0</td><td>0</td><td>0</td><td>0</td><td>0</td><td>0</td><td> 1</td><td>0.1</td></tr>\n",
       "\t<tr><th scope=row>KNSTRN - NBN</th><td>KNSTRN - NBN   </td><td>1</td><td>0</td><td>0</td><td>0</td><td>0</td><td>0</td><td>0</td><td>0</td><td>0</td><td>0</td><td>0</td><td> 0</td><td>0.0</td></tr>\n",
       "\t<tr><th scope=row>VAV1 - ATRX</th><td>VAV1 - ATRX    </td><td>1</td><td>1</td><td>0</td><td>0</td><td>1</td><td>1</td><td>1</td><td>0</td><td>0</td><td>1</td><td>1</td><td> 6</td><td>0.6</td></tr>\n",
       "\t<tr><th scope=row>BIRC3 - AJUBA</th><td>BIRC3 - AJUBA  </td><td>1</td><td>0</td><td>0</td><td>0</td><td>0</td><td>0</td><td>0</td><td>0</td><td>0</td><td>1</td><td>0</td><td> 1</td><td>0.1</td></tr>\n",
       "\t<tr><th scope=row>BLM - KMT2B</th><td>BLM - KMT2B    </td><td>1</td><td>0</td><td>0</td><td>0</td><td>0</td><td>1</td><td>0</td><td>0</td><td>1</td><td>0</td><td>0</td><td> 2</td><td>0.2</td></tr>\n",
       "\t<tr><th scope=row>FH - ARID5B</th><td>FH - ARID5B    </td><td>1</td><td>0</td><td>0</td><td>0</td><td>1</td><td>0</td><td>0</td><td>0</td><td>0</td><td>0</td><td>0</td><td> 1</td><td>0.1</td></tr>\n",
       "\t<tr><th scope=row>TBX3 - SHQ1</th><td>TBX3 - SHQ1    </td><td>1</td><td>0</td><td>0</td><td>0</td><td>0</td><td>0</td><td>0</td><td>0</td><td>1</td><td>0</td><td>0</td><td> 1</td><td>0.1</td></tr>\n",
       "</tbody>\n",
       "</table>\n"
      ],
      "text/latex": [
       "A data.frame: 20 × 14\n",
       "\\begin{tabular}{r|llllllllllllll}\n",
       "  & pairs & Run\\_100 & Run\\_1 & Run\\_2 & Run\\_3 & Run\\_4 & Run\\_5 & Run\\_6 & Run\\_7 & Run\\_8 & Run\\_9 & Run\\_10 & Total\\_count & Total\\\\\n",
       "  & <chr> & <dbl> & <dbl> & <dbl> & <dbl> & <dbl> & <dbl> & <dbl> & <dbl> & <dbl> & <dbl> & <dbl> & <dbl> & <dbl>\\\\\n",
       "\\hline\n",
       "\tBRAF - KRAS & BRAF - KRAS     & 1 & 1 & 1 & 1 & 1 & 1 & 1 & 1 & 1 & 1 & 0 &  9 & 0.9\\\\\n",
       "\tCARD11 - ARID1A & CARD11 - ARID1A & 1 & 1 & 1 & 0 & 1 & 0 & 1 & 0 & 0 & 0 & 0 &  4 & 0.4\\\\\n",
       "\tCDH1 - SMAD2 & CDH1 - SMAD2    & 1 & 0 & 0 & 0 & 0 & 0 & 0 & 0 & 0 & 0 & 0 &  0 & 0.0\\\\\n",
       "\tEGFR - KRAS & EGFR - KRAS     & 1 & 1 & 1 & 1 & 1 & 1 & 1 & 1 & 1 & 1 & 1 & 10 & 1.0\\\\\n",
       "\tEGFR - STK11 & EGFR - STK11    & 1 & 1 & 1 & 1 & 1 & 0 & 1 & 0 & 1 & 1 & 1 &  8 & 0.8\\\\\n",
       "\tEZH2 - GNAS & EZH2 - GNAS     & 1 & 0 & 0 & 0 & 0 & 0 & 0 & 0 & 0 & 0 & 1 &  1 & 0.1\\\\\n",
       "\tGNAQ - SPRTN & GNAQ - SPRTN    & 1 & 0 & 0 & 0 & 0 & 0 & 0 & 0 & 0 & 0 & 0 &  0 & 0.0\\\\\n",
       "\tKRAS - TP53 & KRAS - TP53     & 1 & 1 & 1 & 1 & 1 & 1 & 1 & 1 & 1 & 1 & 1 & 10 & 1.0\\\\\n",
       "\tSTK11 - TP53 & STK11 - TP53    & 1 & 1 & 1 & 1 & 0 & 1 & 1 & 1 & 1 & 1 & 1 &  9 & 0.9\\\\\n",
       "\tKDR - SLFN11 & KDR - SLFN11    & 1 & 0 & 1 & 0 & 0 & 1 & 0 & 1 & 1 & 1 & 0 &  5 & 0.5\\\\\n",
       "\tKDR - BRCA1 & KDR - BRCA1     & 1 & 1 & 1 & 0 & 1 & 1 & 1 & 1 & 0 & 0 & 1 &  7 & 0.7\\\\\n",
       "\tSETBP1 - PBRM1 & SETBP1 - PBRM1  & 1 & 1 & 1 & 0 & 0 & 0 & 0 & 1 & 0 & 0 & 0 &  3 & 0.3\\\\\n",
       "\tDIS3 - HOXB13 & DIS3 - HOXB13   & 1 & 0 & 0 & 0 & 0 & 0 & 1 & 0 & 0 & 0 & 0 &  1 & 0.1\\\\\n",
       "\tFOXA1 - CASP8 & FOXA1 - CASP8   & 1 & 1 & 0 & 0 & 0 & 0 & 0 & 0 & 0 & 0 & 0 &  1 & 0.1\\\\\n",
       "\tKNSTRN - NBN & KNSTRN - NBN    & 1 & 0 & 0 & 0 & 0 & 0 & 0 & 0 & 0 & 0 & 0 &  0 & 0.0\\\\\n",
       "\tVAV1 - ATRX & VAV1 - ATRX     & 1 & 1 & 0 & 0 & 1 & 1 & 1 & 0 & 0 & 1 & 1 &  6 & 0.6\\\\\n",
       "\tBIRC3 - AJUBA & BIRC3 - AJUBA   & 1 & 0 & 0 & 0 & 0 & 0 & 0 & 0 & 0 & 1 & 0 &  1 & 0.1\\\\\n",
       "\tBLM - KMT2B & BLM - KMT2B     & 1 & 0 & 0 & 0 & 0 & 1 & 0 & 0 & 1 & 0 & 0 &  2 & 0.2\\\\\n",
       "\tFH - ARID5B & FH - ARID5B     & 1 & 0 & 0 & 0 & 1 & 0 & 0 & 0 & 0 & 0 & 0 &  1 & 0.1\\\\\n",
       "\tTBX3 - SHQ1 & TBX3 - SHQ1     & 1 & 0 & 0 & 0 & 0 & 0 & 0 & 0 & 1 & 0 & 0 &  1 & 0.1\\\\\n",
       "\\end{tabular}\n"
      ],
      "text/markdown": [
       "\n",
       "A data.frame: 20 × 14\n",
       "\n",
       "| <!--/--> | pairs &lt;chr&gt; | Run_100 &lt;dbl&gt; | Run_1 &lt;dbl&gt; | Run_2 &lt;dbl&gt; | Run_3 &lt;dbl&gt; | Run_4 &lt;dbl&gt; | Run_5 &lt;dbl&gt; | Run_6 &lt;dbl&gt; | Run_7 &lt;dbl&gt; | Run_8 &lt;dbl&gt; | Run_9 &lt;dbl&gt; | Run_10 &lt;dbl&gt; | Total_count &lt;dbl&gt; | Total &lt;dbl&gt; |\n",
       "|---|---|---|---|---|---|---|---|---|---|---|---|---|---|---|\n",
       "| BRAF - KRAS | BRAF - KRAS     | 1 | 1 | 1 | 1 | 1 | 1 | 1 | 1 | 1 | 1 | 0 |  9 | 0.9 |\n",
       "| CARD11 - ARID1A | CARD11 - ARID1A | 1 | 1 | 1 | 0 | 1 | 0 | 1 | 0 | 0 | 0 | 0 |  4 | 0.4 |\n",
       "| CDH1 - SMAD2 | CDH1 - SMAD2    | 1 | 0 | 0 | 0 | 0 | 0 | 0 | 0 | 0 | 0 | 0 |  0 | 0.0 |\n",
       "| EGFR - KRAS | EGFR - KRAS     | 1 | 1 | 1 | 1 | 1 | 1 | 1 | 1 | 1 | 1 | 1 | 10 | 1.0 |\n",
       "| EGFR - STK11 | EGFR - STK11    | 1 | 1 | 1 | 1 | 1 | 0 | 1 | 0 | 1 | 1 | 1 |  8 | 0.8 |\n",
       "| EZH2 - GNAS | EZH2 - GNAS     | 1 | 0 | 0 | 0 | 0 | 0 | 0 | 0 | 0 | 0 | 1 |  1 | 0.1 |\n",
       "| GNAQ - SPRTN | GNAQ - SPRTN    | 1 | 0 | 0 | 0 | 0 | 0 | 0 | 0 | 0 | 0 | 0 |  0 | 0.0 |\n",
       "| KRAS - TP53 | KRAS - TP53     | 1 | 1 | 1 | 1 | 1 | 1 | 1 | 1 | 1 | 1 | 1 | 10 | 1.0 |\n",
       "| STK11 - TP53 | STK11 - TP53    | 1 | 1 | 1 | 1 | 0 | 1 | 1 | 1 | 1 | 1 | 1 |  9 | 0.9 |\n",
       "| KDR - SLFN11 | KDR - SLFN11    | 1 | 0 | 1 | 0 | 0 | 1 | 0 | 1 | 1 | 1 | 0 |  5 | 0.5 |\n",
       "| KDR - BRCA1 | KDR - BRCA1     | 1 | 1 | 1 | 0 | 1 | 1 | 1 | 1 | 0 | 0 | 1 |  7 | 0.7 |\n",
       "| SETBP1 - PBRM1 | SETBP1 - PBRM1  | 1 | 1 | 1 | 0 | 0 | 0 | 0 | 1 | 0 | 0 | 0 |  3 | 0.3 |\n",
       "| DIS3 - HOXB13 | DIS3 - HOXB13   | 1 | 0 | 0 | 0 | 0 | 0 | 1 | 0 | 0 | 0 | 0 |  1 | 0.1 |\n",
       "| FOXA1 - CASP8 | FOXA1 - CASP8   | 1 | 1 | 0 | 0 | 0 | 0 | 0 | 0 | 0 | 0 | 0 |  1 | 0.1 |\n",
       "| KNSTRN - NBN | KNSTRN - NBN    | 1 | 0 | 0 | 0 | 0 | 0 | 0 | 0 | 0 | 0 | 0 |  0 | 0.0 |\n",
       "| VAV1 - ATRX | VAV1 - ATRX     | 1 | 1 | 0 | 0 | 1 | 1 | 1 | 0 | 0 | 1 | 1 |  6 | 0.6 |\n",
       "| BIRC3 - AJUBA | BIRC3 - AJUBA   | 1 | 0 | 0 | 0 | 0 | 0 | 0 | 0 | 0 | 1 | 0 |  1 | 0.1 |\n",
       "| BLM - KMT2B | BLM - KMT2B     | 1 | 0 | 0 | 0 | 0 | 1 | 0 | 0 | 1 | 0 | 0 |  2 | 0.2 |\n",
       "| FH - ARID5B | FH - ARID5B     | 1 | 0 | 0 | 0 | 1 | 0 | 0 | 0 | 0 | 0 | 0 |  1 | 0.1 |\n",
       "| TBX3 - SHQ1 | TBX3 - SHQ1     | 1 | 0 | 0 | 0 | 0 | 0 | 0 | 0 | 1 | 0 | 0 |  1 | 0.1 |\n",
       "\n"
      ],
      "text/plain": [
       "                pairs           Run_100 Run_1 Run_2 Run_3 Run_4 Run_5 Run_6\n",
       "BRAF - KRAS     BRAF - KRAS     1       1     1     1     1     1     1    \n",
       "CARD11 - ARID1A CARD11 - ARID1A 1       1     1     0     1     0     1    \n",
       "CDH1 - SMAD2    CDH1 - SMAD2    1       0     0     0     0     0     0    \n",
       "EGFR - KRAS     EGFR - KRAS     1       1     1     1     1     1     1    \n",
       "EGFR - STK11    EGFR - STK11    1       1     1     1     1     0     1    \n",
       "EZH2 - GNAS     EZH2 - GNAS     1       0     0     0     0     0     0    \n",
       "GNAQ - SPRTN    GNAQ - SPRTN    1       0     0     0     0     0     0    \n",
       "KRAS - TP53     KRAS - TP53     1       1     1     1     1     1     1    \n",
       "STK11 - TP53    STK11 - TP53    1       1     1     1     0     1     1    \n",
       "KDR - SLFN11    KDR - SLFN11    1       0     1     0     0     1     0    \n",
       "KDR - BRCA1     KDR - BRCA1     1       1     1     0     1     1     1    \n",
       "SETBP1 - PBRM1  SETBP1 - PBRM1  1       1     1     0     0     0     0    \n",
       "DIS3 - HOXB13   DIS3 - HOXB13   1       0     0     0     0     0     1    \n",
       "FOXA1 - CASP8   FOXA1 - CASP8   1       1     0     0     0     0     0    \n",
       "KNSTRN - NBN    KNSTRN - NBN    1       0     0     0     0     0     0    \n",
       "VAV1 - ATRX     VAV1 - ATRX     1       1     0     0     1     1     1    \n",
       "BIRC3 - AJUBA   BIRC3 - AJUBA   1       0     0     0     0     0     0    \n",
       "BLM - KMT2B     BLM - KMT2B     1       0     0     0     0     1     0    \n",
       "FH - ARID5B     FH - ARID5B     1       0     0     0     1     0     0    \n",
       "TBX3 - SHQ1     TBX3 - SHQ1     1       0     0     0     0     0     0    \n",
       "                Run_7 Run_8 Run_9 Run_10 Total_count Total\n",
       "BRAF - KRAS     1     1     1     0       9          0.9  \n",
       "CARD11 - ARID1A 0     0     0     0       4          0.4  \n",
       "CDH1 - SMAD2    0     0     0     0       0          0.0  \n",
       "EGFR - KRAS     1     1     1     1      10          1.0  \n",
       "EGFR - STK11    0     1     1     1       8          0.8  \n",
       "EZH2 - GNAS     0     0     0     1       1          0.1  \n",
       "GNAQ - SPRTN    0     0     0     0       0          0.0  \n",
       "KRAS - TP53     1     1     1     1      10          1.0  \n",
       "STK11 - TP53    1     1     1     1       9          0.9  \n",
       "KDR - SLFN11    1     1     1     0       5          0.5  \n",
       "KDR - BRCA1     1     0     0     1       7          0.7  \n",
       "SETBP1 - PBRM1  1     0     0     0       3          0.3  \n",
       "DIS3 - HOXB13   0     0     0     0       1          0.1  \n",
       "FOXA1 - CASP8   0     0     0     0       1          0.1  \n",
       "KNSTRN - NBN    0     0     0     0       0          0.0  \n",
       "VAV1 - ATRX     0     0     1     1       6          0.6  \n",
       "BIRC3 - AJUBA   0     0     1     0       1          0.1  \n",
       "BLM - KMT2B     0     1     0     0       2          0.2  \n",
       "FH - ARID5B     0     0     0     0       1          0.1  \n",
       "TBX3 - SHQ1     0     1     0     0       1          0.1  "
      ]
     },
     "metadata": {},
     "output_type": "display_data"
    }
   ],
   "source": [
    "score_df"
   ]
  },
  {
   "cell_type": "code",
   "execution_count": 31,
   "id": "aa8a6271-9c6a-4a37-8933-0f705fe34f0e",
   "metadata": {},
   "outputs": [],
   "source": [
    "cum_pct<-list()\n",
    "cum_pairs<-list()\n",
    "for(i in c(1:10)){\n",
    "    cum_pct[[i]]<-sum(rowSums(score_df[,c(3:12)])>=i)*100/20\n",
    "    cum_pairs[[i]]<-sum(rowSums(score_df[,c(3:12)])>=i)\n",
    "}"
   ]
  },
  {
   "cell_type": "code",
   "execution_count": 32,
   "id": "9aeedf59-4a6e-4a44-ba04-2a89167303f7",
   "metadata": {},
   "outputs": [],
   "source": [
    "score_df_v4<-data.frame('Recovery'=c(1:10),'n'=unlist(cum_pairs),'pct'=unlist(cum_pct))\n",
    "score_df_v4$Recovery <-as.factor(score_df_v4$Recovery)"
   ]
  },
  {
   "cell_type": "code",
   "execution_count": 33,
   "id": "99f902dc-a778-408e-9103-d83062a28564",
   "metadata": {},
   "outputs": [
    {
     "data": {
      "text/html": [
       "<table class=\"dataframe\">\n",
       "<caption>A data.frame: 10 × 3</caption>\n",
       "<thead>\n",
       "\t<tr><th scope=col>Recovery</th><th scope=col>n</th><th scope=col>pct</th></tr>\n",
       "\t<tr><th scope=col>&lt;fct&gt;</th><th scope=col>&lt;int&gt;</th><th scope=col>&lt;dbl&gt;</th></tr>\n",
       "</thead>\n",
       "<tbody>\n",
       "\t<tr><td>1 </td><td>17</td><td>85</td></tr>\n",
       "\t<tr><td>2 </td><td>11</td><td>55</td></tr>\n",
       "\t<tr><td>3 </td><td>10</td><td>50</td></tr>\n",
       "\t<tr><td>4 </td><td> 9</td><td>45</td></tr>\n",
       "\t<tr><td>5 </td><td> 8</td><td>40</td></tr>\n",
       "\t<tr><td>6 </td><td> 7</td><td>35</td></tr>\n",
       "\t<tr><td>7 </td><td> 6</td><td>30</td></tr>\n",
       "\t<tr><td>8 </td><td> 5</td><td>25</td></tr>\n",
       "\t<tr><td>9 </td><td> 4</td><td>20</td></tr>\n",
       "\t<tr><td>10</td><td> 2</td><td>10</td></tr>\n",
       "</tbody>\n",
       "</table>\n"
      ],
      "text/latex": [
       "A data.frame: 10 × 3\n",
       "\\begin{tabular}{lll}\n",
       " Recovery & n & pct\\\\\n",
       " <fct> & <int> & <dbl>\\\\\n",
       "\\hline\n",
       "\t 1  & 17 & 85\\\\\n",
       "\t 2  & 11 & 55\\\\\n",
       "\t 3  & 10 & 50\\\\\n",
       "\t 4  &  9 & 45\\\\\n",
       "\t 5  &  8 & 40\\\\\n",
       "\t 6  &  7 & 35\\\\\n",
       "\t 7  &  6 & 30\\\\\n",
       "\t 8  &  5 & 25\\\\\n",
       "\t 9  &  4 & 20\\\\\n",
       "\t 10 &  2 & 10\\\\\n",
       "\\end{tabular}\n"
      ],
      "text/markdown": [
       "\n",
       "A data.frame: 10 × 3\n",
       "\n",
       "| Recovery &lt;fct&gt; | n &lt;int&gt; | pct &lt;dbl&gt; |\n",
       "|---|---|---|\n",
       "| 1  | 17 | 85 |\n",
       "| 2  | 11 | 55 |\n",
       "| 3  | 10 | 50 |\n",
       "| 4  |  9 | 45 |\n",
       "| 5  |  8 | 40 |\n",
       "| 6  |  7 | 35 |\n",
       "| 7  |  6 | 30 |\n",
       "| 8  |  5 | 25 |\n",
       "| 9  |  4 | 20 |\n",
       "| 10 |  2 | 10 |\n",
       "\n"
      ],
      "text/plain": [
       "   Recovery n  pct\n",
       "1  1        17 85 \n",
       "2  2        11 55 \n",
       "3  3        10 50 \n",
       "4  4         9 45 \n",
       "5  5         8 40 \n",
       "6  6         7 35 \n",
       "7  7         6 30 \n",
       "8  8         5 25 \n",
       "9  9         4 20 \n",
       "10 10        2 10 "
      ]
     },
     "metadata": {},
     "output_type": "display_data"
    }
   ],
   "source": [
    "score_df_v4"
   ]
  },
  {
   "cell_type": "code",
   "execution_count": 34,
   "id": "08bce289-7258-4bfc-96bb-422801caa326",
   "metadata": {},
   "outputs": [
    {
     "data": {
      "text/html": [
       "<table class=\"dataframe\">\n",
       "<caption>A data.frame: 11 × 3</caption>\n",
       "<thead>\n",
       "\t<tr><th scope=col>Total</th><th scope=col>n</th><th scope=col>pct</th></tr>\n",
       "\t<tr><th scope=col>&lt;dbl&gt;</th><th scope=col>&lt;int&gt;</th><th scope=col>&lt;dbl&gt;</th></tr>\n",
       "</thead>\n",
       "<tbody>\n",
       "\t<tr><td>0.0</td><td>3</td><td>15</td></tr>\n",
       "\t<tr><td>0.1</td><td>6</td><td>30</td></tr>\n",
       "\t<tr><td>0.2</td><td>1</td><td> 5</td></tr>\n",
       "\t<tr><td>0.3</td><td>1</td><td> 5</td></tr>\n",
       "\t<tr><td>0.4</td><td>1</td><td> 5</td></tr>\n",
       "\t<tr><td>0.5</td><td>1</td><td> 5</td></tr>\n",
       "\t<tr><td>0.6</td><td>1</td><td> 5</td></tr>\n",
       "\t<tr><td>0.7</td><td>1</td><td> 5</td></tr>\n",
       "\t<tr><td>0.8</td><td>1</td><td> 5</td></tr>\n",
       "\t<tr><td>0.9</td><td>2</td><td>10</td></tr>\n",
       "\t<tr><td>1.0</td><td>2</td><td>10</td></tr>\n",
       "</tbody>\n",
       "</table>\n"
      ],
      "text/latex": [
       "A data.frame: 11 × 3\n",
       "\\begin{tabular}{lll}\n",
       " Total & n & pct\\\\\n",
       " <dbl> & <int> & <dbl>\\\\\n",
       "\\hline\n",
       "\t 0.0 & 3 & 15\\\\\n",
       "\t 0.1 & 6 & 30\\\\\n",
       "\t 0.2 & 1 &  5\\\\\n",
       "\t 0.3 & 1 &  5\\\\\n",
       "\t 0.4 & 1 &  5\\\\\n",
       "\t 0.5 & 1 &  5\\\\\n",
       "\t 0.6 & 1 &  5\\\\\n",
       "\t 0.7 & 1 &  5\\\\\n",
       "\t 0.8 & 1 &  5\\\\\n",
       "\t 0.9 & 2 & 10\\\\\n",
       "\t 1.0 & 2 & 10\\\\\n",
       "\\end{tabular}\n"
      ],
      "text/markdown": [
       "\n",
       "A data.frame: 11 × 3\n",
       "\n",
       "| Total &lt;dbl&gt; | n &lt;int&gt; | pct &lt;dbl&gt; |\n",
       "|---|---|---|\n",
       "| 0.0 | 3 | 15 |\n",
       "| 0.1 | 6 | 30 |\n",
       "| 0.2 | 1 |  5 |\n",
       "| 0.3 | 1 |  5 |\n",
       "| 0.4 | 1 |  5 |\n",
       "| 0.5 | 1 |  5 |\n",
       "| 0.6 | 1 |  5 |\n",
       "| 0.7 | 1 |  5 |\n",
       "| 0.8 | 1 |  5 |\n",
       "| 0.9 | 2 | 10 |\n",
       "| 1.0 | 2 | 10 |\n",
       "\n"
      ],
      "text/plain": [
       "   Total n pct\n",
       "1  0.0   3 15 \n",
       "2  0.1   6 30 \n",
       "3  0.2   1  5 \n",
       "4  0.3   1  5 \n",
       "5  0.4   1  5 \n",
       "6  0.5   1  5 \n",
       "7  0.6   1  5 \n",
       "8  0.7   1  5 \n",
       "9  0.8   1  5 \n",
       "10 0.9   2 10 \n",
       "11 1.0   2 10 "
      ]
     },
     "metadata": {},
     "output_type": "display_data"
    }
   ],
   "source": [
    "score_df %>% count(Total) %>% mutate(pct=(n*100/20))"
   ]
  },
  {
   "cell_type": "markdown",
   "id": "ff594ffe-c71e-42f1-8bab-acc7c9f51fa4",
   "metadata": {
    "jp-MarkdownHeadingCollapsed": true,
    "tags": []
   },
   "source": [
    "## GamTOC"
   ]
  },
  {
   "cell_type": "code",
   "execution_count": 35,
   "id": "52633959-5ee4-4d9b-8593-e3bfaa8f7aa8",
   "metadata": {},
   "outputs": [],
   "source": [
    "select_orginal <- read.table('/mnt/ptemp/arvind/tool_comaprision/results/gamtoc/luad_all.txt',header = TRUE)"
   ]
  },
  {
   "cell_type": "code",
   "execution_count": 36,
   "id": "a70429f7-3e5b-406a-81b6-37d8957f6805",
   "metadata": {},
   "outputs": [],
   "source": [
    "boot_results <- list()\n",
    "k=1\n",
    "for (i in c(1:5)){\n",
    "    name <- paste('/mnt/ptemp/arvind/tool_comaprision/tool/gamtoc/luad_run/luad_results/luad_V',i,'.txt',sep=\"\")\n",
    "    boot_results[[k]] <- read.table(file=name,header = TRUE)\n",
    "    k=k+1\n",
    "}"
   ]
  },
  {
   "cell_type": "code",
   "execution_count": 37,
   "id": "97b60f18-e353-49b8-ae80-22183c4d3ba4",
   "metadata": {},
   "outputs": [],
   "source": [
    "for (i in c(11:15)){\n",
    "    name <- paste('/mnt/ptemp/arvind/tool_comaprision/tool/gamtoc/luad_run/luad_results/luad_V',i,'_result.txt',sep=\"\")\n",
    "    boot_results[[k]] <- read.table(file=name,header = TRUE)\n",
    "    k=k+1\n",
    "}"
   ]
  },
  {
   "cell_type": "code",
   "execution_count": 38,
   "id": "fa569191-f301-44a3-afbc-9361117e6e13",
   "metadata": {},
   "outputs": [
    {
     "data": {
      "text/html": [
       "10"
      ],
      "text/latex": [
       "10"
      ],
      "text/markdown": [
       "10"
      ],
      "text/plain": [
       "[1] 10"
      ]
     },
     "metadata": {},
     "output_type": "display_data"
    }
   ],
   "source": [
    "length(boot_results)"
   ]
  },
  {
   "cell_type": "code",
   "execution_count": 39,
   "id": "780675f3-b6ee-445e-819a-981022a48c2e",
   "metadata": {},
   "outputs": [
    {
     "data": {
      "text/html": [
       "<table class=\"dataframe\">\n",
       "<caption>A data.frame: 6 × 6</caption>\n",
       "<thead>\n",
       "\t<tr><th></th><th scope=col>node1</th><th scope=col>node2</th><th scope=col>corr</th><th scope=col>tc</th><th scope=col>log.hyg</th><th scope=col>importance</th></tr>\n",
       "\t<tr><th></th><th scope=col>&lt;chr&gt;</th><th scope=col>&lt;chr&gt;</th><th scope=col>&lt;dbl&gt;</th><th scope=col>&lt;dbl&gt;</th><th scope=col>&lt;dbl&gt;</th><th scope=col>&lt;dbl&gt;</th></tr>\n",
       "</thead>\n",
       "<tbody>\n",
       "\t<tr><th scope=row>1</th><td>EGFR</td><td>KRAS</td><td>-0.23</td><td>0</td><td>0</td><td>0</td></tr>\n",
       "\t<tr><th scope=row>2</th><td>EGFR</td><td>BRAF</td><td>-0.07</td><td>0</td><td>0</td><td>0</td></tr>\n",
       "\t<tr><th scope=row>3</th><td>KRAS</td><td>BRAF</td><td>-0.18</td><td>0</td><td>0</td><td>0</td></tr>\n",
       "\t<tr><th scope=row>4</th><td>EGFR</td><td>TP53</td><td> 0.01</td><td>0</td><td>0</td><td>0</td></tr>\n",
       "\t<tr><th scope=row>5</th><td>KRAS</td><td>TP53</td><td>-0.21</td><td>0</td><td>0</td><td>0</td></tr>\n",
       "\t<tr><th scope=row>6</th><td>BRAF</td><td>TP53</td><td> 0.04</td><td>0</td><td>0</td><td>0</td></tr>\n",
       "</tbody>\n",
       "</table>\n"
      ],
      "text/latex": [
       "A data.frame: 6 × 6\n",
       "\\begin{tabular}{r|llllll}\n",
       "  & node1 & node2 & corr & tc & log.hyg & importance\\\\\n",
       "  & <chr> & <chr> & <dbl> & <dbl> & <dbl> & <dbl>\\\\\n",
       "\\hline\n",
       "\t1 & EGFR & KRAS & -0.23 & 0 & 0 & 0\\\\\n",
       "\t2 & EGFR & BRAF & -0.07 & 0 & 0 & 0\\\\\n",
       "\t3 & KRAS & BRAF & -0.18 & 0 & 0 & 0\\\\\n",
       "\t4 & EGFR & TP53 &  0.01 & 0 & 0 & 0\\\\\n",
       "\t5 & KRAS & TP53 & -0.21 & 0 & 0 & 0\\\\\n",
       "\t6 & BRAF & TP53 &  0.04 & 0 & 0 & 0\\\\\n",
       "\\end{tabular}\n"
      ],
      "text/markdown": [
       "\n",
       "A data.frame: 6 × 6\n",
       "\n",
       "| <!--/--> | node1 &lt;chr&gt; | node2 &lt;chr&gt; | corr &lt;dbl&gt; | tc &lt;dbl&gt; | log.hyg &lt;dbl&gt; | importance &lt;dbl&gt; |\n",
       "|---|---|---|---|---|---|---|\n",
       "| 1 | EGFR | KRAS | -0.23 | 0 | 0 | 0 |\n",
       "| 2 | EGFR | BRAF | -0.07 | 0 | 0 | 0 |\n",
       "| 3 | KRAS | BRAF | -0.18 | 0 | 0 | 0 |\n",
       "| 4 | EGFR | TP53 |  0.01 | 0 | 0 | 0 |\n",
       "| 5 | KRAS | TP53 | -0.21 | 0 | 0 | 0 |\n",
       "| 6 | BRAF | TP53 |  0.04 | 0 | 0 | 0 |\n",
       "\n"
      ],
      "text/plain": [
       "  node1 node2 corr  tc log.hyg importance\n",
       "1 EGFR  KRAS  -0.23 0  0       0         \n",
       "2 EGFR  BRAF  -0.07 0  0       0         \n",
       "3 KRAS  BRAF  -0.18 0  0       0         \n",
       "4 EGFR  TP53   0.01 0  0       0         \n",
       "5 KRAS  TP53  -0.21 0  0       0         \n",
       "6 BRAF  TP53   0.04 0  0       0         "
      ]
     },
     "metadata": {},
     "output_type": "display_data"
    }
   ],
   "source": [
    "head(boot_results[[10]])"
   ]
  },
  {
   "cell_type": "code",
   "execution_count": 40,
   "id": "72e7647a-752b-41e6-adbd-446a945154e2",
   "metadata": {},
   "outputs": [
    {
     "data": {
      "text/html": [
       "21"
      ],
      "text/latex": [
       "21"
      ],
      "text/markdown": [
       "21"
      ],
      "text/plain": [
       "[1] 21"
      ]
     },
     "metadata": {},
     "output_type": "display_data"
    }
   ],
   "source": [
    "length(unique(paste(select_orginal$node2,select_orginal$node1,sep=' - ')))"
   ]
  },
  {
   "cell_type": "code",
   "execution_count": 41,
   "id": "ad5ce982-fb0c-495d-acb7-96b61ad26165",
   "metadata": {},
   "outputs": [],
   "source": [
    "selectX_100_pct_significnat_results <- select_orginal"
   ]
  },
  {
   "cell_type": "code",
   "execution_count": 42,
   "id": "c795a83e-a673-4224-bf20-733be238288f",
   "metadata": {},
   "outputs": [
    {
     "data": {
      "text/html": [
       "<table class=\"dataframe\">\n",
       "<caption>A data.frame: 1 × 1</caption>\n",
       "<thead>\n",
       "\t<tr><th scope=col>n</th></tr>\n",
       "\t<tr><th scope=col>&lt;int&gt;</th></tr>\n",
       "</thead>\n",
       "<tbody>\n",
       "\t<tr><td>21</td></tr>\n",
       "</tbody>\n",
       "</table>\n"
      ],
      "text/latex": [
       "A data.frame: 1 × 1\n",
       "\\begin{tabular}{l}\n",
       " n\\\\\n",
       " <int>\\\\\n",
       "\\hline\n",
       "\t 21\\\\\n",
       "\\end{tabular}\n"
      ],
      "text/markdown": [
       "\n",
       "A data.frame: 1 × 1\n",
       "\n",
       "| n &lt;int&gt; |\n",
       "|---|\n",
       "| 21 |\n",
       "\n"
      ],
      "text/plain": [
       "  n \n",
       "1 21"
      ]
     },
     "metadata": {},
     "output_type": "display_data"
    }
   ],
   "source": [
    "select_orginal %>% count()"
   ]
  },
  {
   "cell_type": "code",
   "execution_count": 43,
   "id": "f49d34b5-b66d-46a8-a3ba-30aa2fa752ad",
   "metadata": {},
   "outputs": [],
   "source": [
    "score_df<-data.frame('pairs'=paste(select_orginal$node2,select_orginal$node1,sep=' - '))\n",
    "rownames(score_df)<-score_df$pairs\n",
    "score_df$Run_100<-1"
   ]
  },
  {
   "cell_type": "code",
   "execution_count": 44,
   "id": "2bbd669d-b79a-48c8-9efc-a73582bfcef4",
   "metadata": {},
   "outputs": [
    {
     "data": {
      "text/html": [
       "<table class=\"dataframe\">\n",
       "<caption>A data.frame: 6 × 2</caption>\n",
       "<thead>\n",
       "\t<tr><th></th><th scope=col>pairs</th><th scope=col>Run_100</th></tr>\n",
       "\t<tr><th></th><th scope=col>&lt;chr&gt;</th><th scope=col>&lt;dbl&gt;</th></tr>\n",
       "</thead>\n",
       "<tbody>\n",
       "\t<tr><th scope=row>KRAS - EGFR</th><td>KRAS - EGFR </td><td>1</td></tr>\n",
       "\t<tr><th scope=row>TP53 - EGFR</th><td>TP53 - EGFR </td><td>1</td></tr>\n",
       "\t<tr><th scope=row>TP53 - KRAS</th><td>TP53 - KRAS </td><td>1</td></tr>\n",
       "\t<tr><th scope=row>STK11 - EGFR</th><td>STK11 - EGFR</td><td>1</td></tr>\n",
       "\t<tr><th scope=row>STK11 - KRAS</th><td>STK11 - KRAS</td><td>1</td></tr>\n",
       "\t<tr><th scope=row>STK11 - TP53</th><td>STK11 - TP53</td><td>1</td></tr>\n",
       "</tbody>\n",
       "</table>\n"
      ],
      "text/latex": [
       "A data.frame: 6 × 2\n",
       "\\begin{tabular}{r|ll}\n",
       "  & pairs & Run\\_100\\\\\n",
       "  & <chr> & <dbl>\\\\\n",
       "\\hline\n",
       "\tKRAS - EGFR & KRAS - EGFR  & 1\\\\\n",
       "\tTP53 - EGFR & TP53 - EGFR  & 1\\\\\n",
       "\tTP53 - KRAS & TP53 - KRAS  & 1\\\\\n",
       "\tSTK11 - EGFR & STK11 - EGFR & 1\\\\\n",
       "\tSTK11 - KRAS & STK11 - KRAS & 1\\\\\n",
       "\tSTK11 - TP53 & STK11 - TP53 & 1\\\\\n",
       "\\end{tabular}\n"
      ],
      "text/markdown": [
       "\n",
       "A data.frame: 6 × 2\n",
       "\n",
       "| <!--/--> | pairs &lt;chr&gt; | Run_100 &lt;dbl&gt; |\n",
       "|---|---|---|\n",
       "| KRAS - EGFR | KRAS - EGFR  | 1 |\n",
       "| TP53 - EGFR | TP53 - EGFR  | 1 |\n",
       "| TP53 - KRAS | TP53 - KRAS  | 1 |\n",
       "| STK11 - EGFR | STK11 - EGFR | 1 |\n",
       "| STK11 - KRAS | STK11 - KRAS | 1 |\n",
       "| STK11 - TP53 | STK11 - TP53 | 1 |\n",
       "\n"
      ],
      "text/plain": [
       "             pairs        Run_100\n",
       "KRAS - EGFR  KRAS - EGFR  1      \n",
       "TP53 - EGFR  TP53 - EGFR  1      \n",
       "TP53 - KRAS  TP53 - KRAS  1      \n",
       "STK11 - EGFR STK11 - EGFR 1      \n",
       "STK11 - KRAS STK11 - KRAS 1      \n",
       "STK11 - TP53 STK11 - TP53 1      "
      ]
     },
     "metadata": {},
     "output_type": "display_data"
    }
   ],
   "source": [
    "head(score_df)"
   ]
  },
  {
   "cell_type": "code",
   "execution_count": 45,
   "id": "6ab5f297-3b16-4f1d-be06-1f35116f9e29",
   "metadata": {},
   "outputs": [],
   "source": [
    "for (i in c(1:10)){\n",
    "    score_df[[paste('Run',i,sep=\"_\")]]<-0\n",
    "    boot_results[[i]]$name_2 <- paste(boot_results[[i]]$node2,boot_results[[i]]$node1,sep=' - ')\n",
    "    temp <- (boot_results[[i]] %>% filter(name_2 %in% score_df$pairs))$name_2\n",
    "    score_df[temp,][[paste('Run',i,sep=\"_\")]]<-1\n",
    "}"
   ]
  },
  {
   "cell_type": "code",
   "execution_count": 46,
   "id": "6f7701a6-c6c0-4251-90a1-bb2ad9eb26d7",
   "metadata": {},
   "outputs": [],
   "source": [
    "score_df$Total_count<-(score_df$Run_1+score_df$Run_2+score_df$Run_3+score_df$Run_4+score_df$Run_5+score_df$Run_6+score_df$Run_7+score_df$Run_8+score_df$Run_9+score_df$Run_10)\n",
    "score_df$Total <- (score_df$Run_1+score_df$Run_2+score_df$Run_3+score_df$Run_4+score_df$Run_5+score_df$Run_6+score_df$Run_7+score_df$Run_8+score_df$Run_9+score_df$Run_10)/10"
   ]
  },
  {
   "cell_type": "code",
   "execution_count": 47,
   "id": "562c7ff2-7f73-4d00-a6fd-ed954a48fe51",
   "metadata": {
    "scrolled": true,
    "tags": []
   },
   "outputs": [
    {
     "data": {
      "text/html": [
       "<table class=\"dataframe\">\n",
       "<caption>A data.frame: 21 × 14</caption>\n",
       "<thead>\n",
       "\t<tr><th></th><th scope=col>pairs</th><th scope=col>Run_100</th><th scope=col>Run_1</th><th scope=col>Run_2</th><th scope=col>Run_3</th><th scope=col>Run_4</th><th scope=col>Run_5</th><th scope=col>Run_6</th><th scope=col>Run_7</th><th scope=col>Run_8</th><th scope=col>Run_9</th><th scope=col>Run_10</th><th scope=col>Total_count</th><th scope=col>Total</th></tr>\n",
       "\t<tr><th></th><th scope=col>&lt;chr&gt;</th><th scope=col>&lt;dbl&gt;</th><th scope=col>&lt;dbl&gt;</th><th scope=col>&lt;dbl&gt;</th><th scope=col>&lt;dbl&gt;</th><th scope=col>&lt;dbl&gt;</th><th scope=col>&lt;dbl&gt;</th><th scope=col>&lt;dbl&gt;</th><th scope=col>&lt;dbl&gt;</th><th scope=col>&lt;dbl&gt;</th><th scope=col>&lt;dbl&gt;</th><th scope=col>&lt;dbl&gt;</th><th scope=col>&lt;dbl&gt;</th><th scope=col>&lt;dbl&gt;</th></tr>\n",
       "</thead>\n",
       "<tbody>\n",
       "\t<tr><th scope=row>KRAS - EGFR</th><td>KRAS - EGFR  </td><td>1</td><td>1</td><td>1</td><td>1</td><td>1</td><td>1</td><td>1</td><td>1</td><td>1</td><td>1</td><td>1</td><td>10</td><td>1.0</td></tr>\n",
       "\t<tr><th scope=row>TP53 - EGFR</th><td>TP53 - EGFR  </td><td>1</td><td>1</td><td>1</td><td>1</td><td>1</td><td>1</td><td>1</td><td>1</td><td>1</td><td>1</td><td>1</td><td>10</td><td>1.0</td></tr>\n",
       "\t<tr><th scope=row>TP53 - KRAS</th><td>TP53 - KRAS  </td><td>1</td><td>1</td><td>1</td><td>1</td><td>1</td><td>1</td><td>1</td><td>1</td><td>1</td><td>1</td><td>1</td><td>10</td><td>1.0</td></tr>\n",
       "\t<tr><th scope=row>STK11 - EGFR</th><td>STK11 - EGFR </td><td>1</td><td>1</td><td>1</td><td>1</td><td>1</td><td>1</td><td>1</td><td>1</td><td>1</td><td>1</td><td>1</td><td>10</td><td>1.0</td></tr>\n",
       "\t<tr><th scope=row>STK11 - KRAS</th><td>STK11 - KRAS </td><td>1</td><td>1</td><td>1</td><td>1</td><td>1</td><td>1</td><td>1</td><td>1</td><td>1</td><td>1</td><td>1</td><td>10</td><td>1.0</td></tr>\n",
       "\t<tr><th scope=row>STK11 - TP53</th><td>STK11 - TP53 </td><td>1</td><td>0</td><td>1</td><td>1</td><td>1</td><td>1</td><td>0</td><td>1</td><td>1</td><td>1</td><td>1</td><td> 8</td><td>0.8</td></tr>\n",
       "\t<tr><th scope=row>KEAP1 - EGFR</th><td>KEAP1 - EGFR </td><td>1</td><td>1</td><td>1</td><td>1</td><td>0</td><td>0</td><td>1</td><td>1</td><td>1</td><td>0</td><td>0</td><td> 6</td><td>0.6</td></tr>\n",
       "\t<tr><th scope=row>KEAP1 - KRAS</th><td>KEAP1 - KRAS </td><td>1</td><td>1</td><td>1</td><td>1</td><td>0</td><td>0</td><td>1</td><td>1</td><td>1</td><td>0</td><td>0</td><td> 6</td><td>0.6</td></tr>\n",
       "\t<tr><th scope=row>KEAP1 - TP53</th><td>KEAP1 - TP53 </td><td>1</td><td>1</td><td>1</td><td>1</td><td>0</td><td>0</td><td>1</td><td>1</td><td>1</td><td>0</td><td>0</td><td> 6</td><td>0.6</td></tr>\n",
       "\t<tr><th scope=row>KEAP1 - STK11</th><td>KEAP1 - STK11</td><td>1</td><td>1</td><td>1</td><td>1</td><td>0</td><td>0</td><td>1</td><td>1</td><td>1</td><td>0</td><td>0</td><td> 6</td><td>0.6</td></tr>\n",
       "\t<tr><th scope=row>NF1 - EGFR</th><td>NF1 - EGFR   </td><td>1</td><td>1</td><td>0</td><td>1</td><td>1</td><td>0</td><td>1</td><td>0</td><td>1</td><td>1</td><td>0</td><td> 6</td><td>0.6</td></tr>\n",
       "\t<tr><th scope=row>NF1 - KRAS</th><td>NF1 - KRAS   </td><td>1</td><td>1</td><td>0</td><td>1</td><td>1</td><td>0</td><td>1</td><td>0</td><td>1</td><td>1</td><td>0</td><td> 6</td><td>0.6</td></tr>\n",
       "\t<tr><th scope=row>NF1 - TP53</th><td>NF1 - TP53   </td><td>1</td><td>1</td><td>0</td><td>1</td><td>1</td><td>0</td><td>1</td><td>0</td><td>1</td><td>1</td><td>0</td><td> 6</td><td>0.6</td></tr>\n",
       "\t<tr><th scope=row>NF1 - STK11</th><td>NF1 - STK11  </td><td>1</td><td>1</td><td>0</td><td>1</td><td>1</td><td>0</td><td>1</td><td>0</td><td>1</td><td>1</td><td>0</td><td> 6</td><td>0.6</td></tr>\n",
       "\t<tr><th scope=row>NF1 - KEAP1</th><td>NF1 - KEAP1  </td><td>1</td><td>1</td><td>0</td><td>1</td><td>0</td><td>0</td><td>1</td><td>0</td><td>1</td><td>0</td><td>0</td><td> 4</td><td>0.4</td></tr>\n",
       "\t<tr><th scope=row>BRAF - EGFR</th><td>BRAF - EGFR  </td><td>1</td><td>0</td><td>0</td><td>0</td><td>1</td><td>1</td><td>0</td><td>0</td><td>0</td><td>1</td><td>1</td><td> 4</td><td>0.4</td></tr>\n",
       "\t<tr><th scope=row>BRAF - KRAS</th><td>BRAF - KRAS  </td><td>1</td><td>0</td><td>0</td><td>0</td><td>1</td><td>1</td><td>0</td><td>0</td><td>0</td><td>1</td><td>1</td><td> 4</td><td>0.4</td></tr>\n",
       "\t<tr><th scope=row>BRAF - TP53</th><td>BRAF - TP53  </td><td>1</td><td>0</td><td>0</td><td>0</td><td>1</td><td>0</td><td>0</td><td>0</td><td>0</td><td>1</td><td>0</td><td> 2</td><td>0.2</td></tr>\n",
       "\t<tr><th scope=row>BRAF - STK11</th><td>BRAF - STK11 </td><td>1</td><td>0</td><td>0</td><td>0</td><td>1</td><td>0</td><td>0</td><td>0</td><td>0</td><td>1</td><td>0</td><td> 2</td><td>0.2</td></tr>\n",
       "\t<tr><th scope=row>BRAF - KEAP1</th><td>BRAF - KEAP1 </td><td>1</td><td>0</td><td>0</td><td>0</td><td>0</td><td>0</td><td>0</td><td>0</td><td>0</td><td>0</td><td>0</td><td> 0</td><td>0.0</td></tr>\n",
       "\t<tr><th scope=row>BRAF - NF1</th><td>BRAF - NF1   </td><td>1</td><td>0</td><td>0</td><td>0</td><td>1</td><td>0</td><td>0</td><td>0</td><td>0</td><td>1</td><td>0</td><td> 2</td><td>0.2</td></tr>\n",
       "</tbody>\n",
       "</table>\n"
      ],
      "text/latex": [
       "A data.frame: 21 × 14\n",
       "\\begin{tabular}{r|llllllllllllll}\n",
       "  & pairs & Run\\_100 & Run\\_1 & Run\\_2 & Run\\_3 & Run\\_4 & Run\\_5 & Run\\_6 & Run\\_7 & Run\\_8 & Run\\_9 & Run\\_10 & Total\\_count & Total\\\\\n",
       "  & <chr> & <dbl> & <dbl> & <dbl> & <dbl> & <dbl> & <dbl> & <dbl> & <dbl> & <dbl> & <dbl> & <dbl> & <dbl> & <dbl>\\\\\n",
       "\\hline\n",
       "\tKRAS - EGFR & KRAS - EGFR   & 1 & 1 & 1 & 1 & 1 & 1 & 1 & 1 & 1 & 1 & 1 & 10 & 1.0\\\\\n",
       "\tTP53 - EGFR & TP53 - EGFR   & 1 & 1 & 1 & 1 & 1 & 1 & 1 & 1 & 1 & 1 & 1 & 10 & 1.0\\\\\n",
       "\tTP53 - KRAS & TP53 - KRAS   & 1 & 1 & 1 & 1 & 1 & 1 & 1 & 1 & 1 & 1 & 1 & 10 & 1.0\\\\\n",
       "\tSTK11 - EGFR & STK11 - EGFR  & 1 & 1 & 1 & 1 & 1 & 1 & 1 & 1 & 1 & 1 & 1 & 10 & 1.0\\\\\n",
       "\tSTK11 - KRAS & STK11 - KRAS  & 1 & 1 & 1 & 1 & 1 & 1 & 1 & 1 & 1 & 1 & 1 & 10 & 1.0\\\\\n",
       "\tSTK11 - TP53 & STK11 - TP53  & 1 & 0 & 1 & 1 & 1 & 1 & 0 & 1 & 1 & 1 & 1 &  8 & 0.8\\\\\n",
       "\tKEAP1 - EGFR & KEAP1 - EGFR  & 1 & 1 & 1 & 1 & 0 & 0 & 1 & 1 & 1 & 0 & 0 &  6 & 0.6\\\\\n",
       "\tKEAP1 - KRAS & KEAP1 - KRAS  & 1 & 1 & 1 & 1 & 0 & 0 & 1 & 1 & 1 & 0 & 0 &  6 & 0.6\\\\\n",
       "\tKEAP1 - TP53 & KEAP1 - TP53  & 1 & 1 & 1 & 1 & 0 & 0 & 1 & 1 & 1 & 0 & 0 &  6 & 0.6\\\\\n",
       "\tKEAP1 - STK11 & KEAP1 - STK11 & 1 & 1 & 1 & 1 & 0 & 0 & 1 & 1 & 1 & 0 & 0 &  6 & 0.6\\\\\n",
       "\tNF1 - EGFR & NF1 - EGFR    & 1 & 1 & 0 & 1 & 1 & 0 & 1 & 0 & 1 & 1 & 0 &  6 & 0.6\\\\\n",
       "\tNF1 - KRAS & NF1 - KRAS    & 1 & 1 & 0 & 1 & 1 & 0 & 1 & 0 & 1 & 1 & 0 &  6 & 0.6\\\\\n",
       "\tNF1 - TP53 & NF1 - TP53    & 1 & 1 & 0 & 1 & 1 & 0 & 1 & 0 & 1 & 1 & 0 &  6 & 0.6\\\\\n",
       "\tNF1 - STK11 & NF1 - STK11   & 1 & 1 & 0 & 1 & 1 & 0 & 1 & 0 & 1 & 1 & 0 &  6 & 0.6\\\\\n",
       "\tNF1 - KEAP1 & NF1 - KEAP1   & 1 & 1 & 0 & 1 & 0 & 0 & 1 & 0 & 1 & 0 & 0 &  4 & 0.4\\\\\n",
       "\tBRAF - EGFR & BRAF - EGFR   & 1 & 0 & 0 & 0 & 1 & 1 & 0 & 0 & 0 & 1 & 1 &  4 & 0.4\\\\\n",
       "\tBRAF - KRAS & BRAF - KRAS   & 1 & 0 & 0 & 0 & 1 & 1 & 0 & 0 & 0 & 1 & 1 &  4 & 0.4\\\\\n",
       "\tBRAF - TP53 & BRAF - TP53   & 1 & 0 & 0 & 0 & 1 & 0 & 0 & 0 & 0 & 1 & 0 &  2 & 0.2\\\\\n",
       "\tBRAF - STK11 & BRAF - STK11  & 1 & 0 & 0 & 0 & 1 & 0 & 0 & 0 & 0 & 1 & 0 &  2 & 0.2\\\\\n",
       "\tBRAF - KEAP1 & BRAF - KEAP1  & 1 & 0 & 0 & 0 & 0 & 0 & 0 & 0 & 0 & 0 & 0 &  0 & 0.0\\\\\n",
       "\tBRAF - NF1 & BRAF - NF1    & 1 & 0 & 0 & 0 & 1 & 0 & 0 & 0 & 0 & 1 & 0 &  2 & 0.2\\\\\n",
       "\\end{tabular}\n"
      ],
      "text/markdown": [
       "\n",
       "A data.frame: 21 × 14\n",
       "\n",
       "| <!--/--> | pairs &lt;chr&gt; | Run_100 &lt;dbl&gt; | Run_1 &lt;dbl&gt; | Run_2 &lt;dbl&gt; | Run_3 &lt;dbl&gt; | Run_4 &lt;dbl&gt; | Run_5 &lt;dbl&gt; | Run_6 &lt;dbl&gt; | Run_7 &lt;dbl&gt; | Run_8 &lt;dbl&gt; | Run_9 &lt;dbl&gt; | Run_10 &lt;dbl&gt; | Total_count &lt;dbl&gt; | Total &lt;dbl&gt; |\n",
       "|---|---|---|---|---|---|---|---|---|---|---|---|---|---|---|\n",
       "| KRAS - EGFR | KRAS - EGFR   | 1 | 1 | 1 | 1 | 1 | 1 | 1 | 1 | 1 | 1 | 1 | 10 | 1.0 |\n",
       "| TP53 - EGFR | TP53 - EGFR   | 1 | 1 | 1 | 1 | 1 | 1 | 1 | 1 | 1 | 1 | 1 | 10 | 1.0 |\n",
       "| TP53 - KRAS | TP53 - KRAS   | 1 | 1 | 1 | 1 | 1 | 1 | 1 | 1 | 1 | 1 | 1 | 10 | 1.0 |\n",
       "| STK11 - EGFR | STK11 - EGFR  | 1 | 1 | 1 | 1 | 1 | 1 | 1 | 1 | 1 | 1 | 1 | 10 | 1.0 |\n",
       "| STK11 - KRAS | STK11 - KRAS  | 1 | 1 | 1 | 1 | 1 | 1 | 1 | 1 | 1 | 1 | 1 | 10 | 1.0 |\n",
       "| STK11 - TP53 | STK11 - TP53  | 1 | 0 | 1 | 1 | 1 | 1 | 0 | 1 | 1 | 1 | 1 |  8 | 0.8 |\n",
       "| KEAP1 - EGFR | KEAP1 - EGFR  | 1 | 1 | 1 | 1 | 0 | 0 | 1 | 1 | 1 | 0 | 0 |  6 | 0.6 |\n",
       "| KEAP1 - KRAS | KEAP1 - KRAS  | 1 | 1 | 1 | 1 | 0 | 0 | 1 | 1 | 1 | 0 | 0 |  6 | 0.6 |\n",
       "| KEAP1 - TP53 | KEAP1 - TP53  | 1 | 1 | 1 | 1 | 0 | 0 | 1 | 1 | 1 | 0 | 0 |  6 | 0.6 |\n",
       "| KEAP1 - STK11 | KEAP1 - STK11 | 1 | 1 | 1 | 1 | 0 | 0 | 1 | 1 | 1 | 0 | 0 |  6 | 0.6 |\n",
       "| NF1 - EGFR | NF1 - EGFR    | 1 | 1 | 0 | 1 | 1 | 0 | 1 | 0 | 1 | 1 | 0 |  6 | 0.6 |\n",
       "| NF1 - KRAS | NF1 - KRAS    | 1 | 1 | 0 | 1 | 1 | 0 | 1 | 0 | 1 | 1 | 0 |  6 | 0.6 |\n",
       "| NF1 - TP53 | NF1 - TP53    | 1 | 1 | 0 | 1 | 1 | 0 | 1 | 0 | 1 | 1 | 0 |  6 | 0.6 |\n",
       "| NF1 - STK11 | NF1 - STK11   | 1 | 1 | 0 | 1 | 1 | 0 | 1 | 0 | 1 | 1 | 0 |  6 | 0.6 |\n",
       "| NF1 - KEAP1 | NF1 - KEAP1   | 1 | 1 | 0 | 1 | 0 | 0 | 1 | 0 | 1 | 0 | 0 |  4 | 0.4 |\n",
       "| BRAF - EGFR | BRAF - EGFR   | 1 | 0 | 0 | 0 | 1 | 1 | 0 | 0 | 0 | 1 | 1 |  4 | 0.4 |\n",
       "| BRAF - KRAS | BRAF - KRAS   | 1 | 0 | 0 | 0 | 1 | 1 | 0 | 0 | 0 | 1 | 1 |  4 | 0.4 |\n",
       "| BRAF - TP53 | BRAF - TP53   | 1 | 0 | 0 | 0 | 1 | 0 | 0 | 0 | 0 | 1 | 0 |  2 | 0.2 |\n",
       "| BRAF - STK11 | BRAF - STK11  | 1 | 0 | 0 | 0 | 1 | 0 | 0 | 0 | 0 | 1 | 0 |  2 | 0.2 |\n",
       "| BRAF - KEAP1 | BRAF - KEAP1  | 1 | 0 | 0 | 0 | 0 | 0 | 0 | 0 | 0 | 0 | 0 |  0 | 0.0 |\n",
       "| BRAF - NF1 | BRAF - NF1    | 1 | 0 | 0 | 0 | 1 | 0 | 0 | 0 | 0 | 1 | 0 |  2 | 0.2 |\n",
       "\n"
      ],
      "text/plain": [
       "              pairs         Run_100 Run_1 Run_2 Run_3 Run_4 Run_5 Run_6 Run_7\n",
       "KRAS - EGFR   KRAS - EGFR   1       1     1     1     1     1     1     1    \n",
       "TP53 - EGFR   TP53 - EGFR   1       1     1     1     1     1     1     1    \n",
       "TP53 - KRAS   TP53 - KRAS   1       1     1     1     1     1     1     1    \n",
       "STK11 - EGFR  STK11 - EGFR  1       1     1     1     1     1     1     1    \n",
       "STK11 - KRAS  STK11 - KRAS  1       1     1     1     1     1     1     1    \n",
       "STK11 - TP53  STK11 - TP53  1       0     1     1     1     1     0     1    \n",
       "KEAP1 - EGFR  KEAP1 - EGFR  1       1     1     1     0     0     1     1    \n",
       "KEAP1 - KRAS  KEAP1 - KRAS  1       1     1     1     0     0     1     1    \n",
       "KEAP1 - TP53  KEAP1 - TP53  1       1     1     1     0     0     1     1    \n",
       "KEAP1 - STK11 KEAP1 - STK11 1       1     1     1     0     0     1     1    \n",
       "NF1 - EGFR    NF1 - EGFR    1       1     0     1     1     0     1     0    \n",
       "NF1 - KRAS    NF1 - KRAS    1       1     0     1     1     0     1     0    \n",
       "NF1 - TP53    NF1 - TP53    1       1     0     1     1     0     1     0    \n",
       "NF1 - STK11   NF1 - STK11   1       1     0     1     1     0     1     0    \n",
       "NF1 - KEAP1   NF1 - KEAP1   1       1     0     1     0     0     1     0    \n",
       "BRAF - EGFR   BRAF - EGFR   1       0     0     0     1     1     0     0    \n",
       "BRAF - KRAS   BRAF - KRAS   1       0     0     0     1     1     0     0    \n",
       "BRAF - TP53   BRAF - TP53   1       0     0     0     1     0     0     0    \n",
       "BRAF - STK11  BRAF - STK11  1       0     0     0     1     0     0     0    \n",
       "BRAF - KEAP1  BRAF - KEAP1  1       0     0     0     0     0     0     0    \n",
       "BRAF - NF1    BRAF - NF1    1       0     0     0     1     0     0     0    \n",
       "              Run_8 Run_9 Run_10 Total_count Total\n",
       "KRAS - EGFR   1     1     1      10          1.0  \n",
       "TP53 - EGFR   1     1     1      10          1.0  \n",
       "TP53 - KRAS   1     1     1      10          1.0  \n",
       "STK11 - EGFR  1     1     1      10          1.0  \n",
       "STK11 - KRAS  1     1     1      10          1.0  \n",
       "STK11 - TP53  1     1     1       8          0.8  \n",
       "KEAP1 - EGFR  1     0     0       6          0.6  \n",
       "KEAP1 - KRAS  1     0     0       6          0.6  \n",
       "KEAP1 - TP53  1     0     0       6          0.6  \n",
       "KEAP1 - STK11 1     0     0       6          0.6  \n",
       "NF1 - EGFR    1     1     0       6          0.6  \n",
       "NF1 - KRAS    1     1     0       6          0.6  \n",
       "NF1 - TP53    1     1     0       6          0.6  \n",
       "NF1 - STK11   1     1     0       6          0.6  \n",
       "NF1 - KEAP1   1     0     0       4          0.4  \n",
       "BRAF - EGFR   0     1     1       4          0.4  \n",
       "BRAF - KRAS   0     1     1       4          0.4  \n",
       "BRAF - TP53   0     1     0       2          0.2  \n",
       "BRAF - STK11  0     1     0       2          0.2  \n",
       "BRAF - KEAP1  0     0     0       0          0.0  \n",
       "BRAF - NF1    0     1     0       2          0.2  "
      ]
     },
     "metadata": {},
     "output_type": "display_data"
    }
   ],
   "source": [
    "score_df"
   ]
  },
  {
   "cell_type": "code",
   "execution_count": 48,
   "id": "4ed95b77-cfe6-4687-b28e-bd4e0d96e9b4",
   "metadata": {},
   "outputs": [],
   "source": [
    "cum_pct<-list()\n",
    "cum_pairs<-list()\n",
    "for(i in c(1:10)){\n",
    "    cum_pct[[i]]<-sum(rowSums(score_df[,c(3:12)])>=i)*100/21\n",
    "    cum_pairs[[i]]<-sum(rowSums(score_df[,c(3:12)])>=i)\n",
    "}"
   ]
  },
  {
   "cell_type": "code",
   "execution_count": 49,
   "id": "c0e70f4b-7bfb-4bc0-84ff-562b9cf70e67",
   "metadata": {},
   "outputs": [],
   "source": [
    "score_df_v5<-data.frame('Recovery'=c(1:10),'n'=unlist(cum_pairs),'pct'=unlist(cum_pct))\n",
    "score_df_v5$Recovery <-as.factor(score_df_v5$Recovery)"
   ]
  },
  {
   "cell_type": "code",
   "execution_count": 50,
   "id": "497de177-7c3e-470d-893e-de1f6ad286b9",
   "metadata": {},
   "outputs": [
    {
     "data": {
      "text/html": [
       "<table class=\"dataframe\">\n",
       "<caption>A data.frame: 10 × 3</caption>\n",
       "<thead>\n",
       "\t<tr><th scope=col>Recovery</th><th scope=col>n</th><th scope=col>pct</th></tr>\n",
       "\t<tr><th scope=col>&lt;fct&gt;</th><th scope=col>&lt;int&gt;</th><th scope=col>&lt;dbl&gt;</th></tr>\n",
       "</thead>\n",
       "<tbody>\n",
       "\t<tr><td>1 </td><td>20</td><td>95.23810</td></tr>\n",
       "\t<tr><td>2 </td><td>20</td><td>95.23810</td></tr>\n",
       "\t<tr><td>3 </td><td>17</td><td>80.95238</td></tr>\n",
       "\t<tr><td>4 </td><td>17</td><td>80.95238</td></tr>\n",
       "\t<tr><td>5 </td><td>14</td><td>66.66667</td></tr>\n",
       "\t<tr><td>6 </td><td>14</td><td>66.66667</td></tr>\n",
       "\t<tr><td>7 </td><td> 6</td><td>28.57143</td></tr>\n",
       "\t<tr><td>8 </td><td> 6</td><td>28.57143</td></tr>\n",
       "\t<tr><td>9 </td><td> 5</td><td>23.80952</td></tr>\n",
       "\t<tr><td>10</td><td> 5</td><td>23.80952</td></tr>\n",
       "</tbody>\n",
       "</table>\n"
      ],
      "text/latex": [
       "A data.frame: 10 × 3\n",
       "\\begin{tabular}{lll}\n",
       " Recovery & n & pct\\\\\n",
       " <fct> & <int> & <dbl>\\\\\n",
       "\\hline\n",
       "\t 1  & 20 & 95.23810\\\\\n",
       "\t 2  & 20 & 95.23810\\\\\n",
       "\t 3  & 17 & 80.95238\\\\\n",
       "\t 4  & 17 & 80.95238\\\\\n",
       "\t 5  & 14 & 66.66667\\\\\n",
       "\t 6  & 14 & 66.66667\\\\\n",
       "\t 7  &  6 & 28.57143\\\\\n",
       "\t 8  &  6 & 28.57143\\\\\n",
       "\t 9  &  5 & 23.80952\\\\\n",
       "\t 10 &  5 & 23.80952\\\\\n",
       "\\end{tabular}\n"
      ],
      "text/markdown": [
       "\n",
       "A data.frame: 10 × 3\n",
       "\n",
       "| Recovery &lt;fct&gt; | n &lt;int&gt; | pct &lt;dbl&gt; |\n",
       "|---|---|---|\n",
       "| 1  | 20 | 95.23810 |\n",
       "| 2  | 20 | 95.23810 |\n",
       "| 3  | 17 | 80.95238 |\n",
       "| 4  | 17 | 80.95238 |\n",
       "| 5  | 14 | 66.66667 |\n",
       "| 6  | 14 | 66.66667 |\n",
       "| 7  |  6 | 28.57143 |\n",
       "| 8  |  6 | 28.57143 |\n",
       "| 9  |  5 | 23.80952 |\n",
       "| 10 |  5 | 23.80952 |\n",
       "\n"
      ],
      "text/plain": [
       "   Recovery n  pct     \n",
       "1  1        20 95.23810\n",
       "2  2        20 95.23810\n",
       "3  3        17 80.95238\n",
       "4  4        17 80.95238\n",
       "5  5        14 66.66667\n",
       "6  6        14 66.66667\n",
       "7  7         6 28.57143\n",
       "8  8         6 28.57143\n",
       "9  9         5 23.80952\n",
       "10 10        5 23.80952"
      ]
     },
     "metadata": {},
     "output_type": "display_data"
    }
   ],
   "source": [
    "score_df_v5"
   ]
  },
  {
   "cell_type": "code",
   "execution_count": 51,
   "id": "8921d375-f909-4107-8cb9-73d72f70f500",
   "metadata": {},
   "outputs": [
    {
     "data": {
      "text/html": [
       "<table class=\"dataframe\">\n",
       "<caption>A data.frame: 6 × 3</caption>\n",
       "<thead>\n",
       "\t<tr><th scope=col>Total</th><th scope=col>n</th><th scope=col>pct</th></tr>\n",
       "\t<tr><th scope=col>&lt;dbl&gt;</th><th scope=col>&lt;int&gt;</th><th scope=col>&lt;dbl&gt;</th></tr>\n",
       "</thead>\n",
       "<tbody>\n",
       "\t<tr><td>0.0</td><td>1</td><td> 4.761905</td></tr>\n",
       "\t<tr><td>0.2</td><td>3</td><td>14.285714</td></tr>\n",
       "\t<tr><td>0.4</td><td>3</td><td>14.285714</td></tr>\n",
       "\t<tr><td>0.6</td><td>8</td><td>38.095238</td></tr>\n",
       "\t<tr><td>0.8</td><td>1</td><td> 4.761905</td></tr>\n",
       "\t<tr><td>1.0</td><td>5</td><td>23.809524</td></tr>\n",
       "</tbody>\n",
       "</table>\n"
      ],
      "text/latex": [
       "A data.frame: 6 × 3\n",
       "\\begin{tabular}{lll}\n",
       " Total & n & pct\\\\\n",
       " <dbl> & <int> & <dbl>\\\\\n",
       "\\hline\n",
       "\t 0.0 & 1 &  4.761905\\\\\n",
       "\t 0.2 & 3 & 14.285714\\\\\n",
       "\t 0.4 & 3 & 14.285714\\\\\n",
       "\t 0.6 & 8 & 38.095238\\\\\n",
       "\t 0.8 & 1 &  4.761905\\\\\n",
       "\t 1.0 & 5 & 23.809524\\\\\n",
       "\\end{tabular}\n"
      ],
      "text/markdown": [
       "\n",
       "A data.frame: 6 × 3\n",
       "\n",
       "| Total &lt;dbl&gt; | n &lt;int&gt; | pct &lt;dbl&gt; |\n",
       "|---|---|---|\n",
       "| 0.0 | 1 |  4.761905 |\n",
       "| 0.2 | 3 | 14.285714 |\n",
       "| 0.4 | 3 | 14.285714 |\n",
       "| 0.6 | 8 | 38.095238 |\n",
       "| 0.8 | 1 |  4.761905 |\n",
       "| 1.0 | 5 | 23.809524 |\n",
       "\n"
      ],
      "text/plain": [
       "  Total n pct      \n",
       "1 0.0   1  4.761905\n",
       "2 0.2   3 14.285714\n",
       "3 0.4   3 14.285714\n",
       "4 0.6   8 38.095238\n",
       "5 0.8   1  4.761905\n",
       "6 1.0   5 23.809524"
      ]
     },
     "metadata": {},
     "output_type": "display_data"
    }
   ],
   "source": [
    "score_df %>% count(Total) %>% mutate(pct=(n*100/21))"
   ]
  },
  {
   "cell_type": "markdown",
   "id": "963762dc-3996-48f6-8891-2931e0eb3abe",
   "metadata": {
    "jp-MarkdownHeadingCollapsed": true,
    "tags": []
   },
   "source": [
    "## Discover"
   ]
  },
  {
   "cell_type": "code",
   "execution_count": 54,
   "id": "8ca6c8a0-77f8-42f2-b2dd-f807f8009639",
   "metadata": {},
   "outputs": [],
   "source": [
    "select_orginal <- readRDS('/mnt/ptemp/arvind/tool_comaprision/results/Discover/luad_all.rds')"
   ]
  },
  {
   "cell_type": "code",
   "execution_count": 55,
   "id": "94661478-4121-4c68-a23a-e40c0379f81b",
   "metadata": {},
   "outputs": [],
   "source": [
    "boot_results <- list()\n",
    "k=1\n",
    "for (i in c(1:10)){\n",
    "    name <- paste('/mnt/ptemp/arvind/tool_comaprision/results/Discover/sampling_run_result_80_',i,'.rds',sep=\"\")\n",
    "    boot_results[[k]] <- readRDS(file=name)\n",
    "    k=k+1\n",
    "}"
   ]
  },
  {
   "cell_type": "code",
   "execution_count": 56,
   "id": "296b5dc9-ffa7-4a63-819e-8b5520d45bd1",
   "metadata": {},
   "outputs": [
    {
     "data": {
      "text/html": [
       "10"
      ],
      "text/latex": [
       "10"
      ],
      "text/markdown": [
       "10"
      ],
      "text/plain": [
       "[1] 10"
      ]
     },
     "metadata": {},
     "output_type": "display_data"
    }
   ],
   "source": [
    "length(boot_results)"
   ]
  },
  {
   "cell_type": "code",
   "execution_count": 57,
   "id": "8765c2fa-dad3-450f-b53a-90b542ce3a7d",
   "metadata": {},
   "outputs": [
    {
     "data": {
      "text/html": [
       "<table class=\"dataframe\">\n",
       "<caption>A data.frame: 6 × 5</caption>\n",
       "<thead>\n",
       "\t<tr><th></th><th scope=col>gene1</th><th scope=col>gene2</th><th scope=col>p.value</th><th scope=col>q.value</th><th scope=col>type</th></tr>\n",
       "\t<tr><th></th><th scope=col>&lt;chr&gt;</th><th scope=col>&lt;chr&gt;</th><th scope=col>&lt;dbl&gt;</th><th scope=col>&lt;dbl&gt;</th><th scope=col>&lt;chr&gt;</th></tr>\n",
       "</thead>\n",
       "<tbody>\n",
       "\t<tr><th scope=row>7</th><td>KRAS </td><td>EGFR </td><td>5.168980e-10</td><td>1.637007e-09</td><td>ME</td></tr>\n",
       "\t<tr><th scope=row>24</th><td>TP53 </td><td>STK11</td><td>9.902545e-05</td><td>6.124225e-04</td><td>ME</td></tr>\n",
       "\t<tr><th scope=row>10</th><td>STK11</td><td>EGFR </td><td>1.804629e-04</td><td>7.117364e-04</td><td>ME</td></tr>\n",
       "\t<tr><th scope=row>19</th><td>TP53 </td><td>KRAS </td><td>3.001285e-04</td><td>9.796278e-04</td><td>ME</td></tr>\n",
       "\t<tr><th scope=row>3</th><td>KRAS </td><td>BRAF </td><td>6.082680e-04</td><td>1.370175e-03</td><td>ME</td></tr>\n",
       "\t<tr><th scope=row>11</th><td>KEAP1</td><td>EGFR </td><td>5.566849e-03</td><td>2.139584e-02</td><td>ME</td></tr>\n",
       "</tbody>\n",
       "</table>\n"
      ],
      "text/latex": [
       "A data.frame: 6 × 5\n",
       "\\begin{tabular}{r|lllll}\n",
       "  & gene1 & gene2 & p.value & q.value & type\\\\\n",
       "  & <chr> & <chr> & <dbl> & <dbl> & <chr>\\\\\n",
       "\\hline\n",
       "\t7 & KRAS  & EGFR  & 5.168980e-10 & 1.637007e-09 & ME\\\\\n",
       "\t24 & TP53  & STK11 & 9.902545e-05 & 6.124225e-04 & ME\\\\\n",
       "\t10 & STK11 & EGFR  & 1.804629e-04 & 7.117364e-04 & ME\\\\\n",
       "\t19 & TP53  & KRAS  & 3.001285e-04 & 9.796278e-04 & ME\\\\\n",
       "\t3 & KRAS  & BRAF  & 6.082680e-04 & 1.370175e-03 & ME\\\\\n",
       "\t11 & KEAP1 & EGFR  & 5.566849e-03 & 2.139584e-02 & ME\\\\\n",
       "\\end{tabular}\n"
      ],
      "text/markdown": [
       "\n",
       "A data.frame: 6 × 5\n",
       "\n",
       "| <!--/--> | gene1 &lt;chr&gt; | gene2 &lt;chr&gt; | p.value &lt;dbl&gt; | q.value &lt;dbl&gt; | type &lt;chr&gt; |\n",
       "|---|---|---|---|---|---|\n",
       "| 7 | KRAS  | EGFR  | 5.168980e-10 | 1.637007e-09 | ME |\n",
       "| 24 | TP53  | STK11 | 9.902545e-05 | 6.124225e-04 | ME |\n",
       "| 10 | STK11 | EGFR  | 1.804629e-04 | 7.117364e-04 | ME |\n",
       "| 19 | TP53  | KRAS  | 3.001285e-04 | 9.796278e-04 | ME |\n",
       "| 3 | KRAS  | BRAF  | 6.082680e-04 | 1.370175e-03 | ME |\n",
       "| 11 | KEAP1 | EGFR  | 5.566849e-03 | 2.139584e-02 | ME |\n",
       "\n"
      ],
      "text/plain": [
       "   gene1 gene2 p.value      q.value      type\n",
       "7  KRAS  EGFR  5.168980e-10 1.637007e-09 ME  \n",
       "24 TP53  STK11 9.902545e-05 6.124225e-04 ME  \n",
       "10 STK11 EGFR  1.804629e-04 7.117364e-04 ME  \n",
       "19 TP53  KRAS  3.001285e-04 9.796278e-04 ME  \n",
       "3  KRAS  BRAF  6.082680e-04 1.370175e-03 ME  \n",
       "11 KEAP1 EGFR  5.566849e-03 2.139584e-02 ME  "
      ]
     },
     "metadata": {},
     "output_type": "display_data"
    }
   ],
   "source": [
    "head(boot_results[[1]])"
   ]
  },
  {
   "cell_type": "code",
   "execution_count": 58,
   "id": "0789a630-ab34-4e7d-828d-5b1edb7a9d98",
   "metadata": {},
   "outputs": [
    {
     "data": {
      "text/html": [
       "<table class=\"dataframe\">\n",
       "<caption>A data.frame: 6 × 5</caption>\n",
       "<thead>\n",
       "\t<tr><th></th><th scope=col>gene1</th><th scope=col>gene2</th><th scope=col>p.value</th><th scope=col>q.value</th><th scope=col>type</th></tr>\n",
       "\t<tr><th></th><th scope=col>&lt;chr&gt;</th><th scope=col>&lt;chr&gt;</th><th scope=col>&lt;dbl&gt;</th><th scope=col>&lt;dbl&gt;</th><th scope=col>&lt;chr&gt;</th></tr>\n",
       "</thead>\n",
       "<tbody>\n",
       "\t<tr><th scope=row>9</th><td>KRAS   </td><td>EGFR </td><td>5.262128e-12</td><td>1.291624e-11</td><td>ME</td></tr>\n",
       "\t<tr><th scope=row>24</th><td>TP53   </td><td>KRAS </td><td>6.338431e-06</td><td>2.798847e-05</td><td>ME</td></tr>\n",
       "\t<tr><th scope=row>34</th><td>TP53   </td><td>STK11</td><td>2.300666e-05</td><td>7.399900e-05</td><td>ME</td></tr>\n",
       "\t<tr><th scope=row>4</th><td>KRAS   </td><td>BRAF </td><td>2.755737e-05</td><td>7.399900e-05</td><td>ME</td></tr>\n",
       "\t<tr><th scope=row>12</th><td>STK11  </td><td>EGFR </td><td>3.197317e-05</td><td>7.399900e-05</td><td>ME</td></tr>\n",
       "\t<tr><th scope=row>23</th><td>SMARCA4</td><td>KRAS </td><td>2.293668e-03</td><td>7.316367e-03</td><td>ME</td></tr>\n",
       "</tbody>\n",
       "</table>\n"
      ],
      "text/latex": [
       "A data.frame: 6 × 5\n",
       "\\begin{tabular}{r|lllll}\n",
       "  & gene1 & gene2 & p.value & q.value & type\\\\\n",
       "  & <chr> & <chr> & <dbl> & <dbl> & <chr>\\\\\n",
       "\\hline\n",
       "\t9 & KRAS    & EGFR  & 5.262128e-12 & 1.291624e-11 & ME\\\\\n",
       "\t24 & TP53    & KRAS  & 6.338431e-06 & 2.798847e-05 & ME\\\\\n",
       "\t34 & TP53    & STK11 & 2.300666e-05 & 7.399900e-05 & ME\\\\\n",
       "\t4 & KRAS    & BRAF  & 2.755737e-05 & 7.399900e-05 & ME\\\\\n",
       "\t12 & STK11   & EGFR  & 3.197317e-05 & 7.399900e-05 & ME\\\\\n",
       "\t23 & SMARCA4 & KRAS  & 2.293668e-03 & 7.316367e-03 & ME\\\\\n",
       "\\end{tabular}\n"
      ],
      "text/markdown": [
       "\n",
       "A data.frame: 6 × 5\n",
       "\n",
       "| <!--/--> | gene1 &lt;chr&gt; | gene2 &lt;chr&gt; | p.value &lt;dbl&gt; | q.value &lt;dbl&gt; | type &lt;chr&gt; |\n",
       "|---|---|---|---|---|---|\n",
       "| 9 | KRAS    | EGFR  | 5.262128e-12 | 1.291624e-11 | ME |\n",
       "| 24 | TP53    | KRAS  | 6.338431e-06 | 2.798847e-05 | ME |\n",
       "| 34 | TP53    | STK11 | 2.300666e-05 | 7.399900e-05 | ME |\n",
       "| 4 | KRAS    | BRAF  | 2.755737e-05 | 7.399900e-05 | ME |\n",
       "| 12 | STK11   | EGFR  | 3.197317e-05 | 7.399900e-05 | ME |\n",
       "| 23 | SMARCA4 | KRAS  | 2.293668e-03 | 7.316367e-03 | ME |\n",
       "\n"
      ],
      "text/plain": [
       "   gene1   gene2 p.value      q.value      type\n",
       "9  KRAS    EGFR  5.262128e-12 1.291624e-11 ME  \n",
       "24 TP53    KRAS  6.338431e-06 2.798847e-05 ME  \n",
       "34 TP53    STK11 2.300666e-05 7.399900e-05 ME  \n",
       "4  KRAS    BRAF  2.755737e-05 7.399900e-05 ME  \n",
       "12 STK11   EGFR  3.197317e-05 7.399900e-05 ME  \n",
       "23 SMARCA4 KRAS  2.293668e-03 7.316367e-03 ME  "
      ]
     },
     "metadata": {},
     "output_type": "display_data"
    }
   ],
   "source": [
    "head(select_orginal)"
   ]
  },
  {
   "cell_type": "code",
   "execution_count": 59,
   "id": "f8d32c40-4f7a-4cf5-9e16-904bb79f86a2",
   "metadata": {},
   "outputs": [
    {
     "data": {
      "text/html": [
       "38"
      ],
      "text/latex": [
       "38"
      ],
      "text/markdown": [
       "38"
      ],
      "text/plain": [
       "[1] 38"
      ]
     },
     "metadata": {},
     "output_type": "display_data"
    }
   ],
   "source": [
    "length(unique(paste(select_orginal$gene2,select_orginal$gene1,sep=' - ')))"
   ]
  },
  {
   "cell_type": "code",
   "execution_count": 60,
   "id": "d771e497-2337-4264-b1b2-af08c7606b68",
   "metadata": {},
   "outputs": [],
   "source": [
    "selectX_100_pct_significnat_results <- select_orginal"
   ]
  },
  {
   "cell_type": "code",
   "execution_count": 61,
   "id": "dfe65202-8670-4cb4-b11e-d62594794305",
   "metadata": {},
   "outputs": [
    {
     "data": {
      "text/html": [
       "<table class=\"dataframe\">\n",
       "<caption>A data.frame: 1 × 1</caption>\n",
       "<thead>\n",
       "\t<tr><th scope=col>n</th></tr>\n",
       "\t<tr><th scope=col>&lt;int&gt;</th></tr>\n",
       "</thead>\n",
       "<tbody>\n",
       "\t<tr><td>38</td></tr>\n",
       "</tbody>\n",
       "</table>\n"
      ],
      "text/latex": [
       "A data.frame: 1 × 1\n",
       "\\begin{tabular}{l}\n",
       " n\\\\\n",
       " <int>\\\\\n",
       "\\hline\n",
       "\t 38\\\\\n",
       "\\end{tabular}\n"
      ],
      "text/markdown": [
       "\n",
       "A data.frame: 1 × 1\n",
       "\n",
       "| n &lt;int&gt; |\n",
       "|---|\n",
       "| 38 |\n",
       "\n"
      ],
      "text/plain": [
       "  n \n",
       "1 38"
      ]
     },
     "metadata": {},
     "output_type": "display_data"
    }
   ],
   "source": [
    "select_orginal %>% count()"
   ]
  },
  {
   "cell_type": "code",
   "execution_count": 62,
   "id": "3fe880ea-7c4e-4bed-9ada-c70302af192d",
   "metadata": {},
   "outputs": [],
   "source": [
    "score_df<-data.frame('pairs'=paste(select_orginal$gene2,select_orginal$gene1,sep=' - '))\n",
    "rownames(score_df)<-score_df$pairs\n",
    "score_df$Run_100<-1"
   ]
  },
  {
   "cell_type": "code",
   "execution_count": 63,
   "id": "e50a8153-a910-4eee-9ea1-c2c520f643fb",
   "metadata": {},
   "outputs": [
    {
     "data": {
      "text/html": [
       "<table class=\"dataframe\">\n",
       "<caption>A data.frame: 6 × 2</caption>\n",
       "<thead>\n",
       "\t<tr><th></th><th scope=col>pairs</th><th scope=col>Run_100</th></tr>\n",
       "\t<tr><th></th><th scope=col>&lt;chr&gt;</th><th scope=col>&lt;dbl&gt;</th></tr>\n",
       "</thead>\n",
       "<tbody>\n",
       "\t<tr><th scope=row>EGFR - KRAS</th><td>EGFR - KRAS   </td><td>1</td></tr>\n",
       "\t<tr><th scope=row>KRAS - TP53</th><td>KRAS - TP53   </td><td>1</td></tr>\n",
       "\t<tr><th scope=row>STK11 - TP53</th><td>STK11 - TP53  </td><td>1</td></tr>\n",
       "\t<tr><th scope=row>BRAF - KRAS</th><td>BRAF - KRAS   </td><td>1</td></tr>\n",
       "\t<tr><th scope=row>EGFR - STK11</th><td>EGFR - STK11  </td><td>1</td></tr>\n",
       "\t<tr><th scope=row>KRAS - SMARCA4</th><td>KRAS - SMARCA4</td><td>1</td></tr>\n",
       "</tbody>\n",
       "</table>\n"
      ],
      "text/latex": [
       "A data.frame: 6 × 2\n",
       "\\begin{tabular}{r|ll}\n",
       "  & pairs & Run\\_100\\\\\n",
       "  & <chr> & <dbl>\\\\\n",
       "\\hline\n",
       "\tEGFR - KRAS & EGFR - KRAS    & 1\\\\\n",
       "\tKRAS - TP53 & KRAS - TP53    & 1\\\\\n",
       "\tSTK11 - TP53 & STK11 - TP53   & 1\\\\\n",
       "\tBRAF - KRAS & BRAF - KRAS    & 1\\\\\n",
       "\tEGFR - STK11 & EGFR - STK11   & 1\\\\\n",
       "\tKRAS - SMARCA4 & KRAS - SMARCA4 & 1\\\\\n",
       "\\end{tabular}\n"
      ],
      "text/markdown": [
       "\n",
       "A data.frame: 6 × 2\n",
       "\n",
       "| <!--/--> | pairs &lt;chr&gt; | Run_100 &lt;dbl&gt; |\n",
       "|---|---|---|\n",
       "| EGFR - KRAS | EGFR - KRAS    | 1 |\n",
       "| KRAS - TP53 | KRAS - TP53    | 1 |\n",
       "| STK11 - TP53 | STK11 - TP53   | 1 |\n",
       "| BRAF - KRAS | BRAF - KRAS    | 1 |\n",
       "| EGFR - STK11 | EGFR - STK11   | 1 |\n",
       "| KRAS - SMARCA4 | KRAS - SMARCA4 | 1 |\n",
       "\n"
      ],
      "text/plain": [
       "               pairs          Run_100\n",
       "EGFR - KRAS    EGFR - KRAS    1      \n",
       "KRAS - TP53    KRAS - TP53    1      \n",
       "STK11 - TP53   STK11 - TP53   1      \n",
       "BRAF - KRAS    BRAF - KRAS    1      \n",
       "EGFR - STK11   EGFR - STK11   1      \n",
       "KRAS - SMARCA4 KRAS - SMARCA4 1      "
      ]
     },
     "metadata": {},
     "output_type": "display_data"
    }
   ],
   "source": [
    "head(score_df)"
   ]
  },
  {
   "cell_type": "code",
   "execution_count": 64,
   "id": "fddfedce-b6e7-4908-81d8-3d2abbc3eccc",
   "metadata": {},
   "outputs": [],
   "source": [
    "for (i in c(1:10)){\n",
    "    score_df[[paste('Run',i,sep=\"_\")]]<-0\n",
    "    boot_results[[i]]$name_2 <- paste(boot_results[[i]]$gene2,boot_results[[i]]$gene1,sep=' - ')\n",
    "    temp <- (boot_results[[i]] %>% filter(name_2 %in% score_df$pairs))$name_2\n",
    "    score_df[temp,][[paste('Run',i,sep=\"_\")]]<-1\n",
    "}"
   ]
  },
  {
   "cell_type": "code",
   "execution_count": 65,
   "id": "174dca16-7232-4fb5-bb69-f9aafec5843a",
   "metadata": {},
   "outputs": [],
   "source": [
    "score_df$Total_count<-(score_df$Run_1+score_df$Run_2+score_df$Run_3+score_df$Run_4+score_df$Run_5+score_df$Run_6+score_df$Run_7+score_df$Run_8+score_df$Run_9+score_df$Run_10)\n",
    "score_df$Total <- (score_df$Run_1+score_df$Run_2+score_df$Run_3+score_df$Run_4+score_df$Run_5+score_df$Run_6+score_df$Run_7+score_df$Run_8+score_df$Run_9+score_df$Run_10)/10"
   ]
  },
  {
   "cell_type": "code",
   "execution_count": 66,
   "id": "d8544573-2d12-46d1-8ee1-34acb4a8845d",
   "metadata": {
    "scrolled": true,
    "tags": []
   },
   "outputs": [
    {
     "data": {
      "text/html": [
       "<table class=\"dataframe\">\n",
       "<caption>A data.frame: 38 × 14</caption>\n",
       "<thead>\n",
       "\t<tr><th></th><th scope=col>pairs</th><th scope=col>Run_100</th><th scope=col>Run_1</th><th scope=col>Run_2</th><th scope=col>Run_3</th><th scope=col>Run_4</th><th scope=col>Run_5</th><th scope=col>Run_6</th><th scope=col>Run_7</th><th scope=col>Run_8</th><th scope=col>Run_9</th><th scope=col>Run_10</th><th scope=col>Total_count</th><th scope=col>Total</th></tr>\n",
       "\t<tr><th></th><th scope=col>&lt;chr&gt;</th><th scope=col>&lt;dbl&gt;</th><th scope=col>&lt;dbl&gt;</th><th scope=col>&lt;dbl&gt;</th><th scope=col>&lt;dbl&gt;</th><th scope=col>&lt;dbl&gt;</th><th scope=col>&lt;dbl&gt;</th><th scope=col>&lt;dbl&gt;</th><th scope=col>&lt;dbl&gt;</th><th scope=col>&lt;dbl&gt;</th><th scope=col>&lt;dbl&gt;</th><th scope=col>&lt;dbl&gt;</th><th scope=col>&lt;dbl&gt;</th><th scope=col>&lt;dbl&gt;</th></tr>\n",
       "</thead>\n",
       "<tbody>\n",
       "\t<tr><th scope=row>EGFR - KRAS</th><td>EGFR - KRAS   </td><td>1</td><td>1</td><td>1</td><td>1</td><td>1</td><td>1</td><td>1</td><td>1</td><td>1</td><td>1</td><td>1</td><td>10</td><td>1.0</td></tr>\n",
       "\t<tr><th scope=row>KRAS - TP53</th><td>KRAS - TP53   </td><td>1</td><td>1</td><td>1</td><td>1</td><td>1</td><td>1</td><td>1</td><td>1</td><td>1</td><td>1</td><td>1</td><td>10</td><td>1.0</td></tr>\n",
       "\t<tr><th scope=row>STK11 - TP53</th><td>STK11 - TP53  </td><td>1</td><td>1</td><td>1</td><td>1</td><td>1</td><td>1</td><td>1</td><td>1</td><td>1</td><td>1</td><td>1</td><td>10</td><td>1.0</td></tr>\n",
       "\t<tr><th scope=row>BRAF - KRAS</th><td>BRAF - KRAS   </td><td>1</td><td>1</td><td>1</td><td>1</td><td>1</td><td>1</td><td>1</td><td>1</td><td>1</td><td>1</td><td>1</td><td>10</td><td>1.0</td></tr>\n",
       "\t<tr><th scope=row>EGFR - STK11</th><td>EGFR - STK11  </td><td>1</td><td>1</td><td>1</td><td>1</td><td>1</td><td>1</td><td>1</td><td>1</td><td>1</td><td>1</td><td>1</td><td>10</td><td>1.0</td></tr>\n",
       "\t<tr><th scope=row>KRAS - SMARCA4</th><td>KRAS - SMARCA4</td><td>1</td><td>1</td><td>1</td><td>1</td><td>1</td><td>1</td><td>1</td><td>1</td><td>1</td><td>1</td><td>1</td><td>10</td><td>1.0</td></tr>\n",
       "\t<tr><th scope=row>KRAS - NF1</th><td>KRAS - NF1    </td><td>1</td><td>1</td><td>1</td><td>1</td><td>1</td><td>1</td><td>1</td><td>1</td><td>1</td><td>1</td><td>1</td><td>10</td><td>1.0</td></tr>\n",
       "\t<tr><th scope=row>EGFR - KEAP1</th><td>EGFR - KEAP1  </td><td>1</td><td>1</td><td>1</td><td>1</td><td>1</td><td>1</td><td>1</td><td>1</td><td>1</td><td>1</td><td>1</td><td>10</td><td>1.0</td></tr>\n",
       "\t<tr><th scope=row>ATM - TP53</th><td>ATM - TP53    </td><td>1</td><td>1</td><td>1</td><td>1</td><td>1</td><td>1</td><td>1</td><td>1</td><td>1</td><td>1</td><td>1</td><td>10</td><td>1.0</td></tr>\n",
       "\t<tr><th scope=row>TP53 - RBM10</th><td>TP53 - RBM10  </td><td>1</td><td>1</td><td>1</td><td>1</td><td>1</td><td>1</td><td>1</td><td>1</td><td>1</td><td>1</td><td>1</td><td>10</td><td>1.0</td></tr>\n",
       "\t<tr><th scope=row>KRAS - RB1</th><td>KRAS - RB1    </td><td>1</td><td>1</td><td>1</td><td>1</td><td>1</td><td>1</td><td>1</td><td>1</td><td>1</td><td>1</td><td>1</td><td>10</td><td>1.0</td></tr>\n",
       "\t<tr><th scope=row>EGFR - SMARCA4</th><td>EGFR - SMARCA4</td><td>1</td><td>1</td><td>1</td><td>1</td><td>1</td><td>1</td><td>1</td><td>1</td><td>1</td><td>1</td><td>1</td><td>10</td><td>1.0</td></tr>\n",
       "\t<tr><th scope=row>KRAS - MET</th><td>KRAS - MET    </td><td>1</td><td>1</td><td>1</td><td>1</td><td>1</td><td>1</td><td>1</td><td>1</td><td>1</td><td>1</td><td>1</td><td>10</td><td>1.0</td></tr>\n",
       "\t<tr><th scope=row>TP53 - KEAP1</th><td>TP53 - KEAP1  </td><td>1</td><td>1</td><td>1</td><td>1</td><td>1</td><td>1</td><td>1</td><td>0</td><td>1</td><td>0</td><td>1</td><td> 8</td><td>0.8</td></tr>\n",
       "\t<tr><th scope=row>KRAS - SMAD4</th><td>KRAS - SMAD4  </td><td>1</td><td>1</td><td>1</td><td>1</td><td>1</td><td>1</td><td>1</td><td>1</td><td>1</td><td>0</td><td>1</td><td> 9</td><td>0.9</td></tr>\n",
       "\t<tr><th scope=row>CTNNB1 - TP53</th><td>CTNNB1 - TP53 </td><td>1</td><td>1</td><td>1</td><td>1</td><td>0</td><td>1</td><td>1</td><td>1</td><td>0</td><td>1</td><td>1</td><td> 8</td><td>0.8</td></tr>\n",
       "\t<tr><th scope=row>MET - TP53</th><td>MET - TP53    </td><td>1</td><td>1</td><td>1</td><td>1</td><td>1</td><td>1</td><td>1</td><td>1</td><td>1</td><td>1</td><td>1</td><td>10</td><td>1.0</td></tr>\n",
       "\t<tr><th scope=row>SETD2 - TP53</th><td>SETD2 - TP53  </td><td>1</td><td>1</td><td>1</td><td>1</td><td>1</td><td>1</td><td>1</td><td>1</td><td>1</td><td>1</td><td>1</td><td>10</td><td>1.0</td></tr>\n",
       "\t<tr><th scope=row>KRAS - ATRX</th><td>KRAS - ATRX   </td><td>1</td><td>1</td><td>1</td><td>1</td><td>1</td><td>1</td><td>1</td><td>1</td><td>1</td><td>1</td><td>1</td><td>10</td><td>1.0</td></tr>\n",
       "\t<tr><th scope=row>EGFR - NF1</th><td>EGFR - NF1    </td><td>1</td><td>1</td><td>1</td><td>1</td><td>1</td><td>1</td><td>1</td><td>1</td><td>0</td><td>1</td><td>1</td><td> 9</td><td>0.9</td></tr>\n",
       "\t<tr><th scope=row>CTNNB1 - KRAS</th><td>CTNNB1 - KRAS </td><td>1</td><td>1</td><td>1</td><td>1</td><td>0</td><td>1</td><td>1</td><td>0</td><td>0</td><td>1</td><td>1</td><td> 7</td><td>0.7</td></tr>\n",
       "\t<tr><th scope=row>KRAS - SETD2</th><td>KRAS - SETD2  </td><td>1</td><td>1</td><td>1</td><td>1</td><td>1</td><td>1</td><td>1</td><td>0</td><td>0</td><td>1</td><td>0</td><td> 7</td><td>0.7</td></tr>\n",
       "\t<tr><th scope=row>KRAS - MGA</th><td>KRAS - MGA    </td><td>1</td><td>0</td><td>0</td><td>1</td><td>0</td><td>0</td><td>1</td><td>1</td><td>1</td><td>1</td><td>1</td><td> 6</td><td>0.6</td></tr>\n",
       "\t<tr><th scope=row>BRAF - EGFR</th><td>BRAF - EGFR   </td><td>1</td><td>0</td><td>0</td><td>0</td><td>0</td><td>1</td><td>0</td><td>1</td><td>0</td><td>1</td><td>1</td><td> 4</td><td>0.4</td></tr>\n",
       "\t<tr><th scope=row>STK11 - CMTR2</th><td>STK11 - CMTR2 </td><td>1</td><td>1</td><td>1</td><td>1</td><td>0</td><td>0</td><td>1</td><td>1</td><td>1</td><td>1</td><td>1</td><td> 8</td><td>0.8</td></tr>\n",
       "\t<tr><th scope=row>KRAS - SOS1</th><td>KRAS - SOS1   </td><td>1</td><td>0</td><td>1</td><td>1</td><td>0</td><td>1</td><td>0</td><td>1</td><td>0</td><td>1</td><td>1</td><td> 6</td><td>0.6</td></tr>\n",
       "\t<tr><th scope=row>BRAF - STK11</th><td>BRAF - STK11  </td><td>1</td><td>0</td><td>0</td><td>1</td><td>1</td><td>1</td><td>0</td><td>0</td><td>0</td><td>0</td><td>0</td><td> 3</td><td>0.3</td></tr>\n",
       "\t<tr><th scope=row>KRAS - PTPRD</th><td>KRAS - PTPRD  </td><td>1</td><td>0</td><td>0</td><td>1</td><td>1</td><td>1</td><td>1</td><td>1</td><td>0</td><td>0</td><td>0</td><td> 5</td><td>0.5</td></tr>\n",
       "\t<tr><th scope=row>CDKN2A - KRAS</th><td>CDKN2A - KRAS </td><td>1</td><td>1</td><td>0</td><td>0</td><td>0</td><td>0</td><td>0</td><td>0</td><td>0</td><td>0</td><td>0</td><td> 1</td><td>0.1</td></tr>\n",
       "\t<tr><th scope=row>APC - KRAS</th><td>APC - KRAS    </td><td>1</td><td>1</td><td>0</td><td>1</td><td>0</td><td>0</td><td>1</td><td>0</td><td>0</td><td>0</td><td>0</td><td> 3</td><td>0.3</td></tr>\n",
       "\t<tr><th scope=row>KRAS - PIK3CA</th><td>KRAS - PIK3CA </td><td>1</td><td>1</td><td>0</td><td>0</td><td>0</td><td>1</td><td>0</td><td>0</td><td>1</td><td>0</td><td>0</td><td> 3</td><td>0.3</td></tr>\n",
       "\t<tr><th scope=row>ERBB2 - KRAS</th><td>ERBB2 - KRAS  </td><td>1</td><td>0</td><td>0</td><td>0</td><td>1</td><td>0</td><td>0</td><td>0</td><td>0</td><td>0</td><td>0</td><td> 1</td><td>0.1</td></tr>\n",
       "\t<tr><th scope=row>KRAS - MAP2K1</th><td>KRAS - MAP2K1 </td><td>1</td><td>0</td><td>0</td><td>1</td><td>0</td><td>0</td><td>0</td><td>1</td><td>0</td><td>1</td><td>0</td><td> 3</td><td>0.3</td></tr>\n",
       "\t<tr><th scope=row>KRAS - MED12</th><td>KRAS - MED12  </td><td>1</td><td>0</td><td>1</td><td>0</td><td>1</td><td>1</td><td>1</td><td>1</td><td>0</td><td>0</td><td>0</td><td> 5</td><td>0.5</td></tr>\n",
       "\t<tr><th scope=row>SMAD4 - STK11</th><td>SMAD4 - STK11 </td><td>1</td><td>0</td><td>0</td><td>0</td><td>0</td><td>0</td><td>0</td><td>0</td><td>0</td><td>0</td><td>0</td><td> 0</td><td>0.0</td></tr>\n",
       "\t<tr><th scope=row>KRAS - PTPRT</th><td>KRAS - PTPRT  </td><td>1</td><td>0</td><td>0</td><td>0</td><td>1</td><td>0</td><td>1</td><td>1</td><td>0</td><td>0</td><td>0</td><td> 3</td><td>0.3</td></tr>\n",
       "\t<tr><th scope=row>NF1 - MGA</th><td>NF1 - MGA     </td><td>1</td><td>1</td><td>0</td><td>0</td><td>0</td><td>0</td><td>0</td><td>0</td><td>0</td><td>0</td><td>0</td><td> 1</td><td>0.1</td></tr>\n",
       "\t<tr><th scope=row>TP53 - PTPRD</th><td>TP53 - PTPRD  </td><td>1</td><td>0</td><td>0</td><td>0</td><td>0</td><td>0</td><td>1</td><td>1</td><td>0</td><td>0</td><td>1</td><td> 3</td><td>0.3</td></tr>\n",
       "</tbody>\n",
       "</table>\n"
      ],
      "text/latex": [
       "A data.frame: 38 × 14\n",
       "\\begin{tabular}{r|llllllllllllll}\n",
       "  & pairs & Run\\_100 & Run\\_1 & Run\\_2 & Run\\_3 & Run\\_4 & Run\\_5 & Run\\_6 & Run\\_7 & Run\\_8 & Run\\_9 & Run\\_10 & Total\\_count & Total\\\\\n",
       "  & <chr> & <dbl> & <dbl> & <dbl> & <dbl> & <dbl> & <dbl> & <dbl> & <dbl> & <dbl> & <dbl> & <dbl> & <dbl> & <dbl>\\\\\n",
       "\\hline\n",
       "\tEGFR - KRAS & EGFR - KRAS    & 1 & 1 & 1 & 1 & 1 & 1 & 1 & 1 & 1 & 1 & 1 & 10 & 1.0\\\\\n",
       "\tKRAS - TP53 & KRAS - TP53    & 1 & 1 & 1 & 1 & 1 & 1 & 1 & 1 & 1 & 1 & 1 & 10 & 1.0\\\\\n",
       "\tSTK11 - TP53 & STK11 - TP53   & 1 & 1 & 1 & 1 & 1 & 1 & 1 & 1 & 1 & 1 & 1 & 10 & 1.0\\\\\n",
       "\tBRAF - KRAS & BRAF - KRAS    & 1 & 1 & 1 & 1 & 1 & 1 & 1 & 1 & 1 & 1 & 1 & 10 & 1.0\\\\\n",
       "\tEGFR - STK11 & EGFR - STK11   & 1 & 1 & 1 & 1 & 1 & 1 & 1 & 1 & 1 & 1 & 1 & 10 & 1.0\\\\\n",
       "\tKRAS - SMARCA4 & KRAS - SMARCA4 & 1 & 1 & 1 & 1 & 1 & 1 & 1 & 1 & 1 & 1 & 1 & 10 & 1.0\\\\\n",
       "\tKRAS - NF1 & KRAS - NF1     & 1 & 1 & 1 & 1 & 1 & 1 & 1 & 1 & 1 & 1 & 1 & 10 & 1.0\\\\\n",
       "\tEGFR - KEAP1 & EGFR - KEAP1   & 1 & 1 & 1 & 1 & 1 & 1 & 1 & 1 & 1 & 1 & 1 & 10 & 1.0\\\\\n",
       "\tATM - TP53 & ATM - TP53     & 1 & 1 & 1 & 1 & 1 & 1 & 1 & 1 & 1 & 1 & 1 & 10 & 1.0\\\\\n",
       "\tTP53 - RBM10 & TP53 - RBM10   & 1 & 1 & 1 & 1 & 1 & 1 & 1 & 1 & 1 & 1 & 1 & 10 & 1.0\\\\\n",
       "\tKRAS - RB1 & KRAS - RB1     & 1 & 1 & 1 & 1 & 1 & 1 & 1 & 1 & 1 & 1 & 1 & 10 & 1.0\\\\\n",
       "\tEGFR - SMARCA4 & EGFR - SMARCA4 & 1 & 1 & 1 & 1 & 1 & 1 & 1 & 1 & 1 & 1 & 1 & 10 & 1.0\\\\\n",
       "\tKRAS - MET & KRAS - MET     & 1 & 1 & 1 & 1 & 1 & 1 & 1 & 1 & 1 & 1 & 1 & 10 & 1.0\\\\\n",
       "\tTP53 - KEAP1 & TP53 - KEAP1   & 1 & 1 & 1 & 1 & 1 & 1 & 1 & 0 & 1 & 0 & 1 &  8 & 0.8\\\\\n",
       "\tKRAS - SMAD4 & KRAS - SMAD4   & 1 & 1 & 1 & 1 & 1 & 1 & 1 & 1 & 1 & 0 & 1 &  9 & 0.9\\\\\n",
       "\tCTNNB1 - TP53 & CTNNB1 - TP53  & 1 & 1 & 1 & 1 & 0 & 1 & 1 & 1 & 0 & 1 & 1 &  8 & 0.8\\\\\n",
       "\tMET - TP53 & MET - TP53     & 1 & 1 & 1 & 1 & 1 & 1 & 1 & 1 & 1 & 1 & 1 & 10 & 1.0\\\\\n",
       "\tSETD2 - TP53 & SETD2 - TP53   & 1 & 1 & 1 & 1 & 1 & 1 & 1 & 1 & 1 & 1 & 1 & 10 & 1.0\\\\\n",
       "\tKRAS - ATRX & KRAS - ATRX    & 1 & 1 & 1 & 1 & 1 & 1 & 1 & 1 & 1 & 1 & 1 & 10 & 1.0\\\\\n",
       "\tEGFR - NF1 & EGFR - NF1     & 1 & 1 & 1 & 1 & 1 & 1 & 1 & 1 & 0 & 1 & 1 &  9 & 0.9\\\\\n",
       "\tCTNNB1 - KRAS & CTNNB1 - KRAS  & 1 & 1 & 1 & 1 & 0 & 1 & 1 & 0 & 0 & 1 & 1 &  7 & 0.7\\\\\n",
       "\tKRAS - SETD2 & KRAS - SETD2   & 1 & 1 & 1 & 1 & 1 & 1 & 1 & 0 & 0 & 1 & 0 &  7 & 0.7\\\\\n",
       "\tKRAS - MGA & KRAS - MGA     & 1 & 0 & 0 & 1 & 0 & 0 & 1 & 1 & 1 & 1 & 1 &  6 & 0.6\\\\\n",
       "\tBRAF - EGFR & BRAF - EGFR    & 1 & 0 & 0 & 0 & 0 & 1 & 0 & 1 & 0 & 1 & 1 &  4 & 0.4\\\\\n",
       "\tSTK11 - CMTR2 & STK11 - CMTR2  & 1 & 1 & 1 & 1 & 0 & 0 & 1 & 1 & 1 & 1 & 1 &  8 & 0.8\\\\\n",
       "\tKRAS - SOS1 & KRAS - SOS1    & 1 & 0 & 1 & 1 & 0 & 1 & 0 & 1 & 0 & 1 & 1 &  6 & 0.6\\\\\n",
       "\tBRAF - STK11 & BRAF - STK11   & 1 & 0 & 0 & 1 & 1 & 1 & 0 & 0 & 0 & 0 & 0 &  3 & 0.3\\\\\n",
       "\tKRAS - PTPRD & KRAS - PTPRD   & 1 & 0 & 0 & 1 & 1 & 1 & 1 & 1 & 0 & 0 & 0 &  5 & 0.5\\\\\n",
       "\tCDKN2A - KRAS & CDKN2A - KRAS  & 1 & 1 & 0 & 0 & 0 & 0 & 0 & 0 & 0 & 0 & 0 &  1 & 0.1\\\\\n",
       "\tAPC - KRAS & APC - KRAS     & 1 & 1 & 0 & 1 & 0 & 0 & 1 & 0 & 0 & 0 & 0 &  3 & 0.3\\\\\n",
       "\tKRAS - PIK3CA & KRAS - PIK3CA  & 1 & 1 & 0 & 0 & 0 & 1 & 0 & 0 & 1 & 0 & 0 &  3 & 0.3\\\\\n",
       "\tERBB2 - KRAS & ERBB2 - KRAS   & 1 & 0 & 0 & 0 & 1 & 0 & 0 & 0 & 0 & 0 & 0 &  1 & 0.1\\\\\n",
       "\tKRAS - MAP2K1 & KRAS - MAP2K1  & 1 & 0 & 0 & 1 & 0 & 0 & 0 & 1 & 0 & 1 & 0 &  3 & 0.3\\\\\n",
       "\tKRAS - MED12 & KRAS - MED12   & 1 & 0 & 1 & 0 & 1 & 1 & 1 & 1 & 0 & 0 & 0 &  5 & 0.5\\\\\n",
       "\tSMAD4 - STK11 & SMAD4 - STK11  & 1 & 0 & 0 & 0 & 0 & 0 & 0 & 0 & 0 & 0 & 0 &  0 & 0.0\\\\\n",
       "\tKRAS - PTPRT & KRAS - PTPRT   & 1 & 0 & 0 & 0 & 1 & 0 & 1 & 1 & 0 & 0 & 0 &  3 & 0.3\\\\\n",
       "\tNF1 - MGA & NF1 - MGA      & 1 & 1 & 0 & 0 & 0 & 0 & 0 & 0 & 0 & 0 & 0 &  1 & 0.1\\\\\n",
       "\tTP53 - PTPRD & TP53 - PTPRD   & 1 & 0 & 0 & 0 & 0 & 0 & 1 & 1 & 0 & 0 & 1 &  3 & 0.3\\\\\n",
       "\\end{tabular}\n"
      ],
      "text/markdown": [
       "\n",
       "A data.frame: 38 × 14\n",
       "\n",
       "| <!--/--> | pairs &lt;chr&gt; | Run_100 &lt;dbl&gt; | Run_1 &lt;dbl&gt; | Run_2 &lt;dbl&gt; | Run_3 &lt;dbl&gt; | Run_4 &lt;dbl&gt; | Run_5 &lt;dbl&gt; | Run_6 &lt;dbl&gt; | Run_7 &lt;dbl&gt; | Run_8 &lt;dbl&gt; | Run_9 &lt;dbl&gt; | Run_10 &lt;dbl&gt; | Total_count &lt;dbl&gt; | Total &lt;dbl&gt; |\n",
       "|---|---|---|---|---|---|---|---|---|---|---|---|---|---|---|\n",
       "| EGFR - KRAS | EGFR - KRAS    | 1 | 1 | 1 | 1 | 1 | 1 | 1 | 1 | 1 | 1 | 1 | 10 | 1.0 |\n",
       "| KRAS - TP53 | KRAS - TP53    | 1 | 1 | 1 | 1 | 1 | 1 | 1 | 1 | 1 | 1 | 1 | 10 | 1.0 |\n",
       "| STK11 - TP53 | STK11 - TP53   | 1 | 1 | 1 | 1 | 1 | 1 | 1 | 1 | 1 | 1 | 1 | 10 | 1.0 |\n",
       "| BRAF - KRAS | BRAF - KRAS    | 1 | 1 | 1 | 1 | 1 | 1 | 1 | 1 | 1 | 1 | 1 | 10 | 1.0 |\n",
       "| EGFR - STK11 | EGFR - STK11   | 1 | 1 | 1 | 1 | 1 | 1 | 1 | 1 | 1 | 1 | 1 | 10 | 1.0 |\n",
       "| KRAS - SMARCA4 | KRAS - SMARCA4 | 1 | 1 | 1 | 1 | 1 | 1 | 1 | 1 | 1 | 1 | 1 | 10 | 1.0 |\n",
       "| KRAS - NF1 | KRAS - NF1     | 1 | 1 | 1 | 1 | 1 | 1 | 1 | 1 | 1 | 1 | 1 | 10 | 1.0 |\n",
       "| EGFR - KEAP1 | EGFR - KEAP1   | 1 | 1 | 1 | 1 | 1 | 1 | 1 | 1 | 1 | 1 | 1 | 10 | 1.0 |\n",
       "| ATM - TP53 | ATM - TP53     | 1 | 1 | 1 | 1 | 1 | 1 | 1 | 1 | 1 | 1 | 1 | 10 | 1.0 |\n",
       "| TP53 - RBM10 | TP53 - RBM10   | 1 | 1 | 1 | 1 | 1 | 1 | 1 | 1 | 1 | 1 | 1 | 10 | 1.0 |\n",
       "| KRAS - RB1 | KRAS - RB1     | 1 | 1 | 1 | 1 | 1 | 1 | 1 | 1 | 1 | 1 | 1 | 10 | 1.0 |\n",
       "| EGFR - SMARCA4 | EGFR - SMARCA4 | 1 | 1 | 1 | 1 | 1 | 1 | 1 | 1 | 1 | 1 | 1 | 10 | 1.0 |\n",
       "| KRAS - MET | KRAS - MET     | 1 | 1 | 1 | 1 | 1 | 1 | 1 | 1 | 1 | 1 | 1 | 10 | 1.0 |\n",
       "| TP53 - KEAP1 | TP53 - KEAP1   | 1 | 1 | 1 | 1 | 1 | 1 | 1 | 0 | 1 | 0 | 1 |  8 | 0.8 |\n",
       "| KRAS - SMAD4 | KRAS - SMAD4   | 1 | 1 | 1 | 1 | 1 | 1 | 1 | 1 | 1 | 0 | 1 |  9 | 0.9 |\n",
       "| CTNNB1 - TP53 | CTNNB1 - TP53  | 1 | 1 | 1 | 1 | 0 | 1 | 1 | 1 | 0 | 1 | 1 |  8 | 0.8 |\n",
       "| MET - TP53 | MET - TP53     | 1 | 1 | 1 | 1 | 1 | 1 | 1 | 1 | 1 | 1 | 1 | 10 | 1.0 |\n",
       "| SETD2 - TP53 | SETD2 - TP53   | 1 | 1 | 1 | 1 | 1 | 1 | 1 | 1 | 1 | 1 | 1 | 10 | 1.0 |\n",
       "| KRAS - ATRX | KRAS - ATRX    | 1 | 1 | 1 | 1 | 1 | 1 | 1 | 1 | 1 | 1 | 1 | 10 | 1.0 |\n",
       "| EGFR - NF1 | EGFR - NF1     | 1 | 1 | 1 | 1 | 1 | 1 | 1 | 1 | 0 | 1 | 1 |  9 | 0.9 |\n",
       "| CTNNB1 - KRAS | CTNNB1 - KRAS  | 1 | 1 | 1 | 1 | 0 | 1 | 1 | 0 | 0 | 1 | 1 |  7 | 0.7 |\n",
       "| KRAS - SETD2 | KRAS - SETD2   | 1 | 1 | 1 | 1 | 1 | 1 | 1 | 0 | 0 | 1 | 0 |  7 | 0.7 |\n",
       "| KRAS - MGA | KRAS - MGA     | 1 | 0 | 0 | 1 | 0 | 0 | 1 | 1 | 1 | 1 | 1 |  6 | 0.6 |\n",
       "| BRAF - EGFR | BRAF - EGFR    | 1 | 0 | 0 | 0 | 0 | 1 | 0 | 1 | 0 | 1 | 1 |  4 | 0.4 |\n",
       "| STK11 - CMTR2 | STK11 - CMTR2  | 1 | 1 | 1 | 1 | 0 | 0 | 1 | 1 | 1 | 1 | 1 |  8 | 0.8 |\n",
       "| KRAS - SOS1 | KRAS - SOS1    | 1 | 0 | 1 | 1 | 0 | 1 | 0 | 1 | 0 | 1 | 1 |  6 | 0.6 |\n",
       "| BRAF - STK11 | BRAF - STK11   | 1 | 0 | 0 | 1 | 1 | 1 | 0 | 0 | 0 | 0 | 0 |  3 | 0.3 |\n",
       "| KRAS - PTPRD | KRAS - PTPRD   | 1 | 0 | 0 | 1 | 1 | 1 | 1 | 1 | 0 | 0 | 0 |  5 | 0.5 |\n",
       "| CDKN2A - KRAS | CDKN2A - KRAS  | 1 | 1 | 0 | 0 | 0 | 0 | 0 | 0 | 0 | 0 | 0 |  1 | 0.1 |\n",
       "| APC - KRAS | APC - KRAS     | 1 | 1 | 0 | 1 | 0 | 0 | 1 | 0 | 0 | 0 | 0 |  3 | 0.3 |\n",
       "| KRAS - PIK3CA | KRAS - PIK3CA  | 1 | 1 | 0 | 0 | 0 | 1 | 0 | 0 | 1 | 0 | 0 |  3 | 0.3 |\n",
       "| ERBB2 - KRAS | ERBB2 - KRAS   | 1 | 0 | 0 | 0 | 1 | 0 | 0 | 0 | 0 | 0 | 0 |  1 | 0.1 |\n",
       "| KRAS - MAP2K1 | KRAS - MAP2K1  | 1 | 0 | 0 | 1 | 0 | 0 | 0 | 1 | 0 | 1 | 0 |  3 | 0.3 |\n",
       "| KRAS - MED12 | KRAS - MED12   | 1 | 0 | 1 | 0 | 1 | 1 | 1 | 1 | 0 | 0 | 0 |  5 | 0.5 |\n",
       "| SMAD4 - STK11 | SMAD4 - STK11  | 1 | 0 | 0 | 0 | 0 | 0 | 0 | 0 | 0 | 0 | 0 |  0 | 0.0 |\n",
       "| KRAS - PTPRT | KRAS - PTPRT   | 1 | 0 | 0 | 0 | 1 | 0 | 1 | 1 | 0 | 0 | 0 |  3 | 0.3 |\n",
       "| NF1 - MGA | NF1 - MGA      | 1 | 1 | 0 | 0 | 0 | 0 | 0 | 0 | 0 | 0 | 0 |  1 | 0.1 |\n",
       "| TP53 - PTPRD | TP53 - PTPRD   | 1 | 0 | 0 | 0 | 0 | 0 | 1 | 1 | 0 | 0 | 1 |  3 | 0.3 |\n",
       "\n"
      ],
      "text/plain": [
       "               pairs          Run_100 Run_1 Run_2 Run_3 Run_4 Run_5 Run_6 Run_7\n",
       "EGFR - KRAS    EGFR - KRAS    1       1     1     1     1     1     1     1    \n",
       "KRAS - TP53    KRAS - TP53    1       1     1     1     1     1     1     1    \n",
       "STK11 - TP53   STK11 - TP53   1       1     1     1     1     1     1     1    \n",
       "BRAF - KRAS    BRAF - KRAS    1       1     1     1     1     1     1     1    \n",
       "EGFR - STK11   EGFR - STK11   1       1     1     1     1     1     1     1    \n",
       "KRAS - SMARCA4 KRAS - SMARCA4 1       1     1     1     1     1     1     1    \n",
       "KRAS - NF1     KRAS - NF1     1       1     1     1     1     1     1     1    \n",
       "EGFR - KEAP1   EGFR - KEAP1   1       1     1     1     1     1     1     1    \n",
       "ATM - TP53     ATM - TP53     1       1     1     1     1     1     1     1    \n",
       "TP53 - RBM10   TP53 - RBM10   1       1     1     1     1     1     1     1    \n",
       "KRAS - RB1     KRAS - RB1     1       1     1     1     1     1     1     1    \n",
       "EGFR - SMARCA4 EGFR - SMARCA4 1       1     1     1     1     1     1     1    \n",
       "KRAS - MET     KRAS - MET     1       1     1     1     1     1     1     1    \n",
       "TP53 - KEAP1   TP53 - KEAP1   1       1     1     1     1     1     1     0    \n",
       "KRAS - SMAD4   KRAS - SMAD4   1       1     1     1     1     1     1     1    \n",
       "CTNNB1 - TP53  CTNNB1 - TP53  1       1     1     1     0     1     1     1    \n",
       "MET - TP53     MET - TP53     1       1     1     1     1     1     1     1    \n",
       "SETD2 - TP53   SETD2 - TP53   1       1     1     1     1     1     1     1    \n",
       "KRAS - ATRX    KRAS - ATRX    1       1     1     1     1     1     1     1    \n",
       "EGFR - NF1     EGFR - NF1     1       1     1     1     1     1     1     1    \n",
       "CTNNB1 - KRAS  CTNNB1 - KRAS  1       1     1     1     0     1     1     0    \n",
       "KRAS - SETD2   KRAS - SETD2   1       1     1     1     1     1     1     0    \n",
       "KRAS - MGA     KRAS - MGA     1       0     0     1     0     0     1     1    \n",
       "BRAF - EGFR    BRAF - EGFR    1       0     0     0     0     1     0     1    \n",
       "STK11 - CMTR2  STK11 - CMTR2  1       1     1     1     0     0     1     1    \n",
       "KRAS - SOS1    KRAS - SOS1    1       0     1     1     0     1     0     1    \n",
       "BRAF - STK11   BRAF - STK11   1       0     0     1     1     1     0     0    \n",
       "KRAS - PTPRD   KRAS - PTPRD   1       0     0     1     1     1     1     1    \n",
       "CDKN2A - KRAS  CDKN2A - KRAS  1       1     0     0     0     0     0     0    \n",
       "APC - KRAS     APC - KRAS     1       1     0     1     0     0     1     0    \n",
       "KRAS - PIK3CA  KRAS - PIK3CA  1       1     0     0     0     1     0     0    \n",
       "ERBB2 - KRAS   ERBB2 - KRAS   1       0     0     0     1     0     0     0    \n",
       "KRAS - MAP2K1  KRAS - MAP2K1  1       0     0     1     0     0     0     1    \n",
       "KRAS - MED12   KRAS - MED12   1       0     1     0     1     1     1     1    \n",
       "SMAD4 - STK11  SMAD4 - STK11  1       0     0     0     0     0     0     0    \n",
       "KRAS - PTPRT   KRAS - PTPRT   1       0     0     0     1     0     1     1    \n",
       "NF1 - MGA      NF1 - MGA      1       1     0     0     0     0     0     0    \n",
       "TP53 - PTPRD   TP53 - PTPRD   1       0     0     0     0     0     1     1    \n",
       "               Run_8 Run_9 Run_10 Total_count Total\n",
       "EGFR - KRAS    1     1     1      10          1.0  \n",
       "KRAS - TP53    1     1     1      10          1.0  \n",
       "STK11 - TP53   1     1     1      10          1.0  \n",
       "BRAF - KRAS    1     1     1      10          1.0  \n",
       "EGFR - STK11   1     1     1      10          1.0  \n",
       "KRAS - SMARCA4 1     1     1      10          1.0  \n",
       "KRAS - NF1     1     1     1      10          1.0  \n",
       "EGFR - KEAP1   1     1     1      10          1.0  \n",
       "ATM - TP53     1     1     1      10          1.0  \n",
       "TP53 - RBM10   1     1     1      10          1.0  \n",
       "KRAS - RB1     1     1     1      10          1.0  \n",
       "EGFR - SMARCA4 1     1     1      10          1.0  \n",
       "KRAS - MET     1     1     1      10          1.0  \n",
       "TP53 - KEAP1   1     0     1       8          0.8  \n",
       "KRAS - SMAD4   1     0     1       9          0.9  \n",
       "CTNNB1 - TP53  0     1     1       8          0.8  \n",
       "MET - TP53     1     1     1      10          1.0  \n",
       "SETD2 - TP53   1     1     1      10          1.0  \n",
       "KRAS - ATRX    1     1     1      10          1.0  \n",
       "EGFR - NF1     0     1     1       9          0.9  \n",
       "CTNNB1 - KRAS  0     1     1       7          0.7  \n",
       "KRAS - SETD2   0     1     0       7          0.7  \n",
       "KRAS - MGA     1     1     1       6          0.6  \n",
       "BRAF - EGFR    0     1     1       4          0.4  \n",
       "STK11 - CMTR2  1     1     1       8          0.8  \n",
       "KRAS - SOS1    0     1     1       6          0.6  \n",
       "BRAF - STK11   0     0     0       3          0.3  \n",
       "KRAS - PTPRD   0     0     0       5          0.5  \n",
       "CDKN2A - KRAS  0     0     0       1          0.1  \n",
       "APC - KRAS     0     0     0       3          0.3  \n",
       "KRAS - PIK3CA  1     0     0       3          0.3  \n",
       "ERBB2 - KRAS   0     0     0       1          0.1  \n",
       "KRAS - MAP2K1  0     1     0       3          0.3  \n",
       "KRAS - MED12   0     0     0       5          0.5  \n",
       "SMAD4 - STK11  0     0     0       0          0.0  \n",
       "KRAS - PTPRT   0     0     0       3          0.3  \n",
       "NF1 - MGA      0     0     0       1          0.1  \n",
       "TP53 - PTPRD   0     0     1       3          0.3  "
      ]
     },
     "metadata": {},
     "output_type": "display_data"
    }
   ],
   "source": [
    "score_df"
   ]
  },
  {
   "cell_type": "code",
   "execution_count": 67,
   "id": "cbc61f6c-3236-4aaa-9ee4-6f019def174e",
   "metadata": {},
   "outputs": [],
   "source": [
    "cum_pct<-list()\n",
    "cum_pairs<-list()\n",
    "for(i in c(1:10)){\n",
    "    cum_pct[[i]]<-sum(rowSums(score_df[,c(3:12)])>=i)*100/38\n",
    "    cum_pairs[[i]]<-sum(rowSums(score_df[,c(3:12)])>=i)\n",
    "}"
   ]
  },
  {
   "cell_type": "code",
   "execution_count": 68,
   "id": "9405e714-7268-4516-b025-5020774fd2d3",
   "metadata": {},
   "outputs": [],
   "source": [
    "score_df_v6<-data.frame('Recovery'=c(1:10),'n'=unlist(cum_pairs),'pct'=unlist(cum_pct))\n",
    "score_df_v6$Recovery <-as.factor(score_df_v6$Recovery)"
   ]
  },
  {
   "cell_type": "code",
   "execution_count": 69,
   "id": "a8926dc9-0952-4ba9-afc0-a6e87f079ea9",
   "metadata": {},
   "outputs": [
    {
     "data": {
      "text/html": [
       "<table class=\"dataframe\">\n",
       "<caption>A data.frame: 10 × 3</caption>\n",
       "<thead>\n",
       "\t<tr><th scope=col>Recovery</th><th scope=col>n</th><th scope=col>pct</th></tr>\n",
       "\t<tr><th scope=col>&lt;fct&gt;</th><th scope=col>&lt;int&gt;</th><th scope=col>&lt;dbl&gt;</th></tr>\n",
       "</thead>\n",
       "<tbody>\n",
       "\t<tr><td>1 </td><td>37</td><td>97.36842</td></tr>\n",
       "\t<tr><td>2 </td><td>34</td><td>89.47368</td></tr>\n",
       "\t<tr><td>3 </td><td>34</td><td>89.47368</td></tr>\n",
       "\t<tr><td>4 </td><td>28</td><td>73.68421</td></tr>\n",
       "\t<tr><td>5 </td><td>27</td><td>71.05263</td></tr>\n",
       "\t<tr><td>6 </td><td>25</td><td>65.78947</td></tr>\n",
       "\t<tr><td>7 </td><td>23</td><td>60.52632</td></tr>\n",
       "\t<tr><td>8 </td><td>21</td><td>55.26316</td></tr>\n",
       "\t<tr><td>9 </td><td>18</td><td>47.36842</td></tr>\n",
       "\t<tr><td>10</td><td>16</td><td>42.10526</td></tr>\n",
       "</tbody>\n",
       "</table>\n"
      ],
      "text/latex": [
       "A data.frame: 10 × 3\n",
       "\\begin{tabular}{lll}\n",
       " Recovery & n & pct\\\\\n",
       " <fct> & <int> & <dbl>\\\\\n",
       "\\hline\n",
       "\t 1  & 37 & 97.36842\\\\\n",
       "\t 2  & 34 & 89.47368\\\\\n",
       "\t 3  & 34 & 89.47368\\\\\n",
       "\t 4  & 28 & 73.68421\\\\\n",
       "\t 5  & 27 & 71.05263\\\\\n",
       "\t 6  & 25 & 65.78947\\\\\n",
       "\t 7  & 23 & 60.52632\\\\\n",
       "\t 8  & 21 & 55.26316\\\\\n",
       "\t 9  & 18 & 47.36842\\\\\n",
       "\t 10 & 16 & 42.10526\\\\\n",
       "\\end{tabular}\n"
      ],
      "text/markdown": [
       "\n",
       "A data.frame: 10 × 3\n",
       "\n",
       "| Recovery &lt;fct&gt; | n &lt;int&gt; | pct &lt;dbl&gt; |\n",
       "|---|---|---|\n",
       "| 1  | 37 | 97.36842 |\n",
       "| 2  | 34 | 89.47368 |\n",
       "| 3  | 34 | 89.47368 |\n",
       "| 4  | 28 | 73.68421 |\n",
       "| 5  | 27 | 71.05263 |\n",
       "| 6  | 25 | 65.78947 |\n",
       "| 7  | 23 | 60.52632 |\n",
       "| 8  | 21 | 55.26316 |\n",
       "| 9  | 18 | 47.36842 |\n",
       "| 10 | 16 | 42.10526 |\n",
       "\n"
      ],
      "text/plain": [
       "   Recovery n  pct     \n",
       "1  1        37 97.36842\n",
       "2  2        34 89.47368\n",
       "3  3        34 89.47368\n",
       "4  4        28 73.68421\n",
       "5  5        27 71.05263\n",
       "6  6        25 65.78947\n",
       "7  7        23 60.52632\n",
       "8  8        21 55.26316\n",
       "9  9        18 47.36842\n",
       "10 10       16 42.10526"
      ]
     },
     "metadata": {},
     "output_type": "display_data"
    }
   ],
   "source": [
    "score_df_v6"
   ]
  },
  {
   "cell_type": "code",
   "execution_count": 70,
   "id": "393ef947-1c2a-4131-a026-8a0b08845e5a",
   "metadata": {},
   "outputs": [
    {
     "data": {
      "text/html": [
       "<table class=\"dataframe\">\n",
       "<caption>A data.frame: 10 × 3</caption>\n",
       "<thead>\n",
       "\t<tr><th scope=col>Total</th><th scope=col>n</th><th scope=col>pct</th></tr>\n",
       "\t<tr><th scope=col>&lt;dbl&gt;</th><th scope=col>&lt;int&gt;</th><th scope=col>&lt;dbl&gt;</th></tr>\n",
       "</thead>\n",
       "<tbody>\n",
       "\t<tr><td>0.0</td><td> 1</td><td> 2.631579</td></tr>\n",
       "\t<tr><td>0.1</td><td> 3</td><td> 7.894737</td></tr>\n",
       "\t<tr><td>0.3</td><td> 6</td><td>15.789474</td></tr>\n",
       "\t<tr><td>0.4</td><td> 1</td><td> 2.631579</td></tr>\n",
       "\t<tr><td>0.5</td><td> 2</td><td> 5.263158</td></tr>\n",
       "\t<tr><td>0.6</td><td> 2</td><td> 5.263158</td></tr>\n",
       "\t<tr><td>0.7</td><td> 2</td><td> 5.263158</td></tr>\n",
       "\t<tr><td>0.8</td><td> 3</td><td> 7.894737</td></tr>\n",
       "\t<tr><td>0.9</td><td> 2</td><td> 5.263158</td></tr>\n",
       "\t<tr><td>1.0</td><td>16</td><td>42.105263</td></tr>\n",
       "</tbody>\n",
       "</table>\n"
      ],
      "text/latex": [
       "A data.frame: 10 × 3\n",
       "\\begin{tabular}{lll}\n",
       " Total & n & pct\\\\\n",
       " <dbl> & <int> & <dbl>\\\\\n",
       "\\hline\n",
       "\t 0.0 &  1 &  2.631579\\\\\n",
       "\t 0.1 &  3 &  7.894737\\\\\n",
       "\t 0.3 &  6 & 15.789474\\\\\n",
       "\t 0.4 &  1 &  2.631579\\\\\n",
       "\t 0.5 &  2 &  5.263158\\\\\n",
       "\t 0.6 &  2 &  5.263158\\\\\n",
       "\t 0.7 &  2 &  5.263158\\\\\n",
       "\t 0.8 &  3 &  7.894737\\\\\n",
       "\t 0.9 &  2 &  5.263158\\\\\n",
       "\t 1.0 & 16 & 42.105263\\\\\n",
       "\\end{tabular}\n"
      ],
      "text/markdown": [
       "\n",
       "A data.frame: 10 × 3\n",
       "\n",
       "| Total &lt;dbl&gt; | n &lt;int&gt; | pct &lt;dbl&gt; |\n",
       "|---|---|---|\n",
       "| 0.0 |  1 |  2.631579 |\n",
       "| 0.1 |  3 |  7.894737 |\n",
       "| 0.3 |  6 | 15.789474 |\n",
       "| 0.4 |  1 |  2.631579 |\n",
       "| 0.5 |  2 |  5.263158 |\n",
       "| 0.6 |  2 |  5.263158 |\n",
       "| 0.7 |  2 |  5.263158 |\n",
       "| 0.8 |  3 |  7.894737 |\n",
       "| 0.9 |  2 |  5.263158 |\n",
       "| 1.0 | 16 | 42.105263 |\n",
       "\n"
      ],
      "text/plain": [
       "   Total n  pct      \n",
       "1  0.0    1  2.631579\n",
       "2  0.1    3  7.894737\n",
       "3  0.3    6 15.789474\n",
       "4  0.4    1  2.631579\n",
       "5  0.5    2  5.263158\n",
       "6  0.6    2  5.263158\n",
       "7  0.7    2  5.263158\n",
       "8  0.8    3  7.894737\n",
       "9  0.9    2  5.263158\n",
       "10 1.0   16 42.105263"
      ]
     },
     "metadata": {},
     "output_type": "display_data"
    }
   ],
   "source": [
    "score_df %>% count(Total) %>% mutate(pct=(n*100/38))"
   ]
  },
  {
   "cell_type": "markdown",
   "id": "cd1527e0-e506-4580-a205-4137586a8866",
   "metadata": {
    "jp-MarkdownHeadingCollapsed": true,
    "tags": []
   },
   "source": [
    "## weSME"
   ]
  },
  {
   "cell_type": "code",
   "execution_count": 73,
   "id": "63bfc16d-9cb1-4dda-a589-69bbd2487a80",
   "metadata": {},
   "outputs": [],
   "source": [
    "wesme_me <- read.table('/mnt/ptemp/arvind/tool_comaprision/results/wesme/LUAD_smut_me_pvs_0.1.txt',sep=\"\t\",header = TRUE)\n",
    "wesme_co <- read.table('/mnt/ptemp/arvind/tool_comaprision/results/wesme/LUAD_smut_co_pvs_0.1.txt',sep=\"\t\",,header = TRUE)\n",
    "wesme <- rbind(wesme_me,wesme_co[,colnames(wesme_me)])\n",
    "wesme$type <- c(rep(\"ME\",nrow(wesme_me)),rep(\"CO\",nrow(wesme_co)))"
   ]
  },
  {
   "cell_type": "code",
   "execution_count": 74,
   "id": "d0013456-533e-4f78-b60d-975361212551",
   "metadata": {},
   "outputs": [],
   "source": [
    "select_orginal<-wesme"
   ]
  },
  {
   "cell_type": "code",
   "execution_count": 75,
   "id": "6df3337c-c9ec-4262-a90b-3d929b17f6ad",
   "metadata": {},
   "outputs": [],
   "source": [
    "boot_results <- list()\n",
    "k=1\n",
    "for (i in c(1:5)){\n",
    "    name <- paste('/mnt/ptemp/arvind/tool_comaprision/results/wesme/LUAD_',i,'_smut_me_pvs_0.1.txt',sep=\"\")\n",
    "    wesme_me <- read.table(name,sep=\"\t\",header = TRUE)\n",
    "    name <- paste('/mnt/ptemp/arvind/tool_comaprision/results/wesme/LUAD_',i,'_smut_co_pvs_0.1.txt',sep=\"\")\n",
    "    wesme_co <- read.table(name,sep=\"\t\",,header = TRUE)\n",
    "    wesme <- rbind(wesme_me,wesme_co[,colnames(wesme_me)])\n",
    "    wesme$type <- c(rep(\"ME\",nrow(wesme_me)),rep(\"CO\",nrow(wesme_co)))\n",
    "    boot_results[[k]] <- wesme\n",
    "    k=k+1\n",
    "}"
   ]
  },
  {
   "cell_type": "code",
   "execution_count": 76,
   "id": "d171900a-99e4-4f0c-8a0d-3f1f58bbd1df",
   "metadata": {},
   "outputs": [],
   "source": [
    "for (i in c(11:15)){\n",
    "    name <- paste('/mnt/ptemp/arvind/tool_comaprision/results/wesme/LUAD_',i,'_smut_me_pvs_0.1.txt',sep=\"\")\n",
    "    wesme_me <- read.table(name,sep=\"\t\",header = TRUE)\n",
    "    name <- paste('/mnt/ptemp/arvind/tool_comaprision/results/wesme/LUAD_',i,'_smut_co_pvs_0.1.txt',sep=\"\")\n",
    "    wesme_co <- read.table(name,sep=\"\t\",,header = TRUE)\n",
    "    wesme <- rbind(wesme_me,wesme_co[,colnames(wesme_me)])\n",
    "    wesme$type <- c(rep(\"ME\",nrow(wesme_me)),rep(\"CO\",nrow(wesme_co)))\n",
    "    boot_results[[k]] <- wesme\n",
    "    k=k+1\n",
    "}"
   ]
  },
  {
   "cell_type": "code",
   "execution_count": 77,
   "id": "cc75b9ac-ad24-42ca-a58a-6490ea0f361c",
   "metadata": {},
   "outputs": [
    {
     "data": {
      "text/html": [
       "10"
      ],
      "text/latex": [
       "10"
      ],
      "text/markdown": [
       "10"
      ],
      "text/plain": [
       "[1] 10"
      ]
     },
     "metadata": {},
     "output_type": "display_data"
    }
   ],
   "source": [
    "length(boot_results)"
   ]
  },
  {
   "cell_type": "code",
   "execution_count": 78,
   "id": "4c0c826c-e6d6-4d4f-acdb-5c058878fc31",
   "metadata": {},
   "outputs": [
    {
     "data": {
      "text/html": [
       "<table class=\"dataframe\">\n",
       "<caption>A data.frame: 6 × 5</caption>\n",
       "<thead>\n",
       "\t<tr><th></th><th scope=col>gene1</th><th scope=col>gene2</th><th scope=col>jaccard.index</th><th scope=col>pv..ws.</th><th scope=col>type</th></tr>\n",
       "\t<tr><th></th><th scope=col>&lt;chr&gt;</th><th scope=col>&lt;chr&gt;</th><th scope=col>&lt;dbl&gt;</th><th scope=col>&lt;dbl&gt;</th><th scope=col>&lt;chr&gt;</th></tr>\n",
       "</thead>\n",
       "<tbody>\n",
       "\t<tr><th scope=row>1</th><td>APC   </td><td>KRAS </td><td>0.00000000</td><td>0.00718</td><td>ME</td></tr>\n",
       "\t<tr><th scope=row>2</th><td>ATM   </td><td>TP53 </td><td>0.02162162</td><td>0.00348</td><td>ME</td></tr>\n",
       "\t<tr><th scope=row>3</th><td>BRAF  </td><td>KRAS </td><td>0.01324503</td><td>0.00003</td><td>ME</td></tr>\n",
       "\t<tr><th scope=row>4</th><td>BRAF  </td><td>KEAP1</td><td>0.00000000</td><td>0.05470</td><td>ME</td></tr>\n",
       "\t<tr><th scope=row>5</th><td>CDKN2A</td><td>KRAS </td><td>0.02205882</td><td>0.09510</td><td>ME</td></tr>\n",
       "\t<tr><th scope=row>6</th><td>CTNNB1</td><td>KRAS </td><td>0.00000000</td><td>0.00403</td><td>ME</td></tr>\n",
       "</tbody>\n",
       "</table>\n"
      ],
      "text/latex": [
       "A data.frame: 6 × 5\n",
       "\\begin{tabular}{r|lllll}\n",
       "  & gene1 & gene2 & jaccard.index & pv..ws. & type\\\\\n",
       "  & <chr> & <chr> & <dbl> & <dbl> & <chr>\\\\\n",
       "\\hline\n",
       "\t1 & APC    & KRAS  & 0.00000000 & 0.00718 & ME\\\\\n",
       "\t2 & ATM    & TP53  & 0.02162162 & 0.00348 & ME\\\\\n",
       "\t3 & BRAF   & KRAS  & 0.01324503 & 0.00003 & ME\\\\\n",
       "\t4 & BRAF   & KEAP1 & 0.00000000 & 0.05470 & ME\\\\\n",
       "\t5 & CDKN2A & KRAS  & 0.02205882 & 0.09510 & ME\\\\\n",
       "\t6 & CTNNB1 & KRAS  & 0.00000000 & 0.00403 & ME\\\\\n",
       "\\end{tabular}\n"
      ],
      "text/markdown": [
       "\n",
       "A data.frame: 6 × 5\n",
       "\n",
       "| <!--/--> | gene1 &lt;chr&gt; | gene2 &lt;chr&gt; | jaccard.index &lt;dbl&gt; | pv..ws. &lt;dbl&gt; | type &lt;chr&gt; |\n",
       "|---|---|---|---|---|---|\n",
       "| 1 | APC    | KRAS  | 0.00000000 | 0.00718 | ME |\n",
       "| 2 | ATM    | TP53  | 0.02162162 | 0.00348 | ME |\n",
       "| 3 | BRAF   | KRAS  | 0.01324503 | 0.00003 | ME |\n",
       "| 4 | BRAF   | KEAP1 | 0.00000000 | 0.05470 | ME |\n",
       "| 5 | CDKN2A | KRAS  | 0.02205882 | 0.09510 | ME |\n",
       "| 6 | CTNNB1 | KRAS  | 0.00000000 | 0.00403 | ME |\n",
       "\n"
      ],
      "text/plain": [
       "  gene1  gene2 jaccard.index pv..ws. type\n",
       "1 APC    KRAS  0.00000000    0.00718 ME  \n",
       "2 ATM    TP53  0.02162162    0.00348 ME  \n",
       "3 BRAF   KRAS  0.01324503    0.00003 ME  \n",
       "4 BRAF   KEAP1 0.00000000    0.05470 ME  \n",
       "5 CDKN2A KRAS  0.02205882    0.09510 ME  \n",
       "6 CTNNB1 KRAS  0.00000000    0.00403 ME  "
      ]
     },
     "metadata": {},
     "output_type": "display_data"
    }
   ],
   "source": [
    "head(boot_results[[1]])"
   ]
  },
  {
   "cell_type": "code",
   "execution_count": 79,
   "id": "90cc2ca9-af1b-4357-a0e9-10fa35b3b7bb",
   "metadata": {},
   "outputs": [
    {
     "data": {
      "text/html": [
       "<table class=\"dataframe\">\n",
       "<caption>A data.frame: 6 × 5</caption>\n",
       "<thead>\n",
       "\t<tr><th></th><th scope=col>gene1</th><th scope=col>gene2</th><th scope=col>jaccard.index</th><th scope=col>pv..ws.</th><th scope=col>type</th></tr>\n",
       "\t<tr><th></th><th scope=col>&lt;chr&gt;</th><th scope=col>&lt;chr&gt;</th><th scope=col>&lt;dbl&gt;</th><th scope=col>&lt;dbl&gt;</th><th scope=col>&lt;chr&gt;</th></tr>\n",
       "</thead>\n",
       "<tbody>\n",
       "\t<tr><th scope=row>1</th><td>APC </td><td>KRAS </td><td>0.006134969</td><td>0.03900</td><td>ME</td></tr>\n",
       "\t<tr><th scope=row>2</th><td>APC </td><td>TP53 </td><td>0.013157895</td><td>0.07060</td><td>ME</td></tr>\n",
       "\t<tr><th scope=row>3</th><td>ATM </td><td>TP53 </td><td>0.016736402</td><td>0.00018</td><td>ME</td></tr>\n",
       "\t<tr><th scope=row>4</th><td>BRAF</td><td>EGFR </td><td>0.022222222</td><td>0.05790</td><td>ME</td></tr>\n",
       "\t<tr><th scope=row>5</th><td>BRAF</td><td>KRAS </td><td>0.010695187</td><td>0.00000</td><td>ME</td></tr>\n",
       "\t<tr><th scope=row>6</th><td>BRAF</td><td>STK11</td><td>0.021739130</td><td>0.04880</td><td>ME</td></tr>\n",
       "</tbody>\n",
       "</table>\n"
      ],
      "text/latex": [
       "A data.frame: 6 × 5\n",
       "\\begin{tabular}{r|lllll}\n",
       "  & gene1 & gene2 & jaccard.index & pv..ws. & type\\\\\n",
       "  & <chr> & <chr> & <dbl> & <dbl> & <chr>\\\\\n",
       "\\hline\n",
       "\t1 & APC  & KRAS  & 0.006134969 & 0.03900 & ME\\\\\n",
       "\t2 & APC  & TP53  & 0.013157895 & 0.07060 & ME\\\\\n",
       "\t3 & ATM  & TP53  & 0.016736402 & 0.00018 & ME\\\\\n",
       "\t4 & BRAF & EGFR  & 0.022222222 & 0.05790 & ME\\\\\n",
       "\t5 & BRAF & KRAS  & 0.010695187 & 0.00000 & ME\\\\\n",
       "\t6 & BRAF & STK11 & 0.021739130 & 0.04880 & ME\\\\\n",
       "\\end{tabular}\n"
      ],
      "text/markdown": [
       "\n",
       "A data.frame: 6 × 5\n",
       "\n",
       "| <!--/--> | gene1 &lt;chr&gt; | gene2 &lt;chr&gt; | jaccard.index &lt;dbl&gt; | pv..ws. &lt;dbl&gt; | type &lt;chr&gt; |\n",
       "|---|---|---|---|---|---|\n",
       "| 1 | APC  | KRAS  | 0.006134969 | 0.03900 | ME |\n",
       "| 2 | APC  | TP53  | 0.013157895 | 0.07060 | ME |\n",
       "| 3 | ATM  | TP53  | 0.016736402 | 0.00018 | ME |\n",
       "| 4 | BRAF | EGFR  | 0.022222222 | 0.05790 | ME |\n",
       "| 5 | BRAF | KRAS  | 0.010695187 | 0.00000 | ME |\n",
       "| 6 | BRAF | STK11 | 0.021739130 | 0.04880 | ME |\n",
       "\n"
      ],
      "text/plain": [
       "  gene1 gene2 jaccard.index pv..ws. type\n",
       "1 APC   KRAS  0.006134969   0.03900 ME  \n",
       "2 APC   TP53  0.013157895   0.07060 ME  \n",
       "3 ATM   TP53  0.016736402   0.00018 ME  \n",
       "4 BRAF  EGFR  0.022222222   0.05790 ME  \n",
       "5 BRAF  KRAS  0.010695187   0.00000 ME  \n",
       "6 BRAF  STK11 0.021739130   0.04880 ME  "
      ]
     },
     "metadata": {},
     "output_type": "display_data"
    }
   ],
   "source": [
    "head(select_orginal)"
   ]
  },
  {
   "cell_type": "code",
   "execution_count": 80,
   "id": "a72327bb-59ed-40ab-9158-d7f48dc2d31a",
   "metadata": {},
   "outputs": [
    {
     "data": {
      "text/html": [
       "827"
      ],
      "text/latex": [
       "827"
      ],
      "text/markdown": [
       "827"
      ],
      "text/plain": [
       "[1] 827"
      ]
     },
     "metadata": {},
     "output_type": "display_data"
    }
   ],
   "source": [
    "length(unique(paste(select_orginal$gene2,select_orginal$gene1,sep=' - ')))"
   ]
  },
  {
   "cell_type": "code",
   "execution_count": 81,
   "id": "1dce709f-4ac9-419f-939d-9ac6e833e7a7",
   "metadata": {},
   "outputs": [],
   "source": [
    "selectX_100_pct_significnat_results <- select_orginal"
   ]
  },
  {
   "cell_type": "code",
   "execution_count": 82,
   "id": "4e6b822a-cab3-4db0-ab99-0f9cfbe5ff84",
   "metadata": {},
   "outputs": [
    {
     "data": {
      "text/html": [
       "<table class=\"dataframe\">\n",
       "<caption>A data.frame: 1 × 1</caption>\n",
       "<thead>\n",
       "\t<tr><th scope=col>n</th></tr>\n",
       "\t<tr><th scope=col>&lt;int&gt;</th></tr>\n",
       "</thead>\n",
       "<tbody>\n",
       "\t<tr><td>827</td></tr>\n",
       "</tbody>\n",
       "</table>\n"
      ],
      "text/latex": [
       "A data.frame: 1 × 1\n",
       "\\begin{tabular}{l}\n",
       " n\\\\\n",
       " <int>\\\\\n",
       "\\hline\n",
       "\t 827\\\\\n",
       "\\end{tabular}\n"
      ],
      "text/markdown": [
       "\n",
       "A data.frame: 1 × 1\n",
       "\n",
       "| n &lt;int&gt; |\n",
       "|---|\n",
       "| 827 |\n",
       "\n"
      ],
      "text/plain": [
       "  n  \n",
       "1 827"
      ]
     },
     "metadata": {},
     "output_type": "display_data"
    }
   ],
   "source": [
    "select_orginal %>% count()"
   ]
  },
  {
   "cell_type": "code",
   "execution_count": 83,
   "id": "0fdd2fe2-ab05-40a3-8c73-5dde522229fc",
   "metadata": {},
   "outputs": [],
   "source": [
    "score_df<-data.frame('pairs'=paste(select_orginal$gene2,select_orginal$gene1,sep=' - '))\n",
    "rownames(score_df)<-score_df$pairs\n",
    "score_df$Run_100<-1"
   ]
  },
  {
   "cell_type": "code",
   "execution_count": 84,
   "id": "f6493216-fa79-45a6-99ac-5df8f0816f70",
   "metadata": {},
   "outputs": [
    {
     "data": {
      "text/html": [
       "<table class=\"dataframe\">\n",
       "<caption>A data.frame: 6 × 2</caption>\n",
       "<thead>\n",
       "\t<tr><th></th><th scope=col>pairs</th><th scope=col>Run_100</th></tr>\n",
       "\t<tr><th></th><th scope=col>&lt;chr&gt;</th><th scope=col>&lt;dbl&gt;</th></tr>\n",
       "</thead>\n",
       "<tbody>\n",
       "\t<tr><th scope=row>KRAS - APC</th><td>KRAS - APC  </td><td>1</td></tr>\n",
       "\t<tr><th scope=row>TP53 - APC</th><td>TP53 - APC  </td><td>1</td></tr>\n",
       "\t<tr><th scope=row>TP53 - ATM</th><td>TP53 - ATM  </td><td>1</td></tr>\n",
       "\t<tr><th scope=row>EGFR - BRAF</th><td>EGFR - BRAF </td><td>1</td></tr>\n",
       "\t<tr><th scope=row>KRAS - BRAF</th><td>KRAS - BRAF </td><td>1</td></tr>\n",
       "\t<tr><th scope=row>STK11 - BRAF</th><td>STK11 - BRAF</td><td>1</td></tr>\n",
       "</tbody>\n",
       "</table>\n"
      ],
      "text/latex": [
       "A data.frame: 6 × 2\n",
       "\\begin{tabular}{r|ll}\n",
       "  & pairs & Run\\_100\\\\\n",
       "  & <chr> & <dbl>\\\\\n",
       "\\hline\n",
       "\tKRAS - APC & KRAS - APC   & 1\\\\\n",
       "\tTP53 - APC & TP53 - APC   & 1\\\\\n",
       "\tTP53 - ATM & TP53 - ATM   & 1\\\\\n",
       "\tEGFR - BRAF & EGFR - BRAF  & 1\\\\\n",
       "\tKRAS - BRAF & KRAS - BRAF  & 1\\\\\n",
       "\tSTK11 - BRAF & STK11 - BRAF & 1\\\\\n",
       "\\end{tabular}\n"
      ],
      "text/markdown": [
       "\n",
       "A data.frame: 6 × 2\n",
       "\n",
       "| <!--/--> | pairs &lt;chr&gt; | Run_100 &lt;dbl&gt; |\n",
       "|---|---|---|\n",
       "| KRAS - APC | KRAS - APC   | 1 |\n",
       "| TP53 - APC | TP53 - APC   | 1 |\n",
       "| TP53 - ATM | TP53 - ATM   | 1 |\n",
       "| EGFR - BRAF | EGFR - BRAF  | 1 |\n",
       "| KRAS - BRAF | KRAS - BRAF  | 1 |\n",
       "| STK11 - BRAF | STK11 - BRAF | 1 |\n",
       "\n"
      ],
      "text/plain": [
       "             pairs        Run_100\n",
       "KRAS - APC   KRAS - APC   1      \n",
       "TP53 - APC   TP53 - APC   1      \n",
       "TP53 - ATM   TP53 - ATM   1      \n",
       "EGFR - BRAF  EGFR - BRAF  1      \n",
       "KRAS - BRAF  KRAS - BRAF  1      \n",
       "STK11 - BRAF STK11 - BRAF 1      "
      ]
     },
     "metadata": {},
     "output_type": "display_data"
    }
   ],
   "source": [
    "head(score_df)"
   ]
  },
  {
   "cell_type": "code",
   "execution_count": 85,
   "id": "4f0a514b-2ed6-457c-9f17-cafc6c7e9ed0",
   "metadata": {},
   "outputs": [],
   "source": [
    "for (i in c(1:10)){\n",
    "    score_df[[paste('Run',i,sep=\"_\")]]<-0\n",
    "    boot_results[[i]]$name_2 <- paste(boot_results[[i]]$gene2,boot_results[[i]]$gene1,sep=' - ')\n",
    "    temp <- (boot_results[[i]] %>% filter(name_2 %in% score_df$pairs))$name_2\n",
    "    score_df[temp,][[paste('Run',i,sep=\"_\")]]<-1\n",
    "}"
   ]
  },
  {
   "cell_type": "code",
   "execution_count": 86,
   "id": "ee37c264-dded-4237-a9a6-1db17eeb530c",
   "metadata": {},
   "outputs": [],
   "source": [
    "score_df$Total_count<-(score_df$Run_1+score_df$Run_2+score_df$Run_3+score_df$Run_4+score_df$Run_5+score_df$Run_6+score_df$Run_7+score_df$Run_8+score_df$Run_9+score_df$Run_10)\n",
    "score_df$Total <- (score_df$Run_1+score_df$Run_2+score_df$Run_3+score_df$Run_4+score_df$Run_5+score_df$Run_6+score_df$Run_7+score_df$Run_8+score_df$Run_9+score_df$Run_10)/10"
   ]
  },
  {
   "cell_type": "code",
   "execution_count": 87,
   "id": "ed33aedb-e660-4259-a0b3-1a0000391bde",
   "metadata": {
    "scrolled": true,
    "tags": []
   },
   "outputs": [
    {
     "data": {
      "text/html": [
       "<table class=\"dataframe\">\n",
       "<caption>A data.frame: 827 × 14</caption>\n",
       "<thead>\n",
       "\t<tr><th></th><th scope=col>pairs</th><th scope=col>Run_100</th><th scope=col>Run_1</th><th scope=col>Run_2</th><th scope=col>Run_3</th><th scope=col>Run_4</th><th scope=col>Run_5</th><th scope=col>Run_6</th><th scope=col>Run_7</th><th scope=col>Run_8</th><th scope=col>Run_9</th><th scope=col>Run_10</th><th scope=col>Total_count</th><th scope=col>Total</th></tr>\n",
       "\t<tr><th></th><th scope=col>&lt;chr&gt;</th><th scope=col>&lt;dbl&gt;</th><th scope=col>&lt;dbl&gt;</th><th scope=col>&lt;dbl&gt;</th><th scope=col>&lt;dbl&gt;</th><th scope=col>&lt;dbl&gt;</th><th scope=col>&lt;dbl&gt;</th><th scope=col>&lt;dbl&gt;</th><th scope=col>&lt;dbl&gt;</th><th scope=col>&lt;dbl&gt;</th><th scope=col>&lt;dbl&gt;</th><th scope=col>&lt;dbl&gt;</th><th scope=col>&lt;dbl&gt;</th><th scope=col>&lt;dbl&gt;</th></tr>\n",
       "</thead>\n",
       "<tbody>\n",
       "\t<tr><th scope=row>KRAS - APC</th><td>KRAS - APC    </td><td>1</td><td>1</td><td>0</td><td>1</td><td>0</td><td>1</td><td>1</td><td>0</td><td>1</td><td>0</td><td>0</td><td> 5</td><td>0.5</td></tr>\n",
       "\t<tr><th scope=row>TP53 - APC</th><td>TP53 - APC    </td><td>1</td><td>0</td><td>1</td><td>0</td><td>0</td><td>0</td><td>0</td><td>0</td><td>1</td><td>0</td><td>1</td><td> 3</td><td>0.3</td></tr>\n",
       "\t<tr><th scope=row>TP53 - ATM</th><td>TP53 - ATM    </td><td>1</td><td>1</td><td>1</td><td>1</td><td>1</td><td>1</td><td>1</td><td>1</td><td>1</td><td>1</td><td>1</td><td>10</td><td>1.0</td></tr>\n",
       "\t<tr><th scope=row>EGFR - BRAF</th><td>EGFR - BRAF   </td><td>1</td><td>0</td><td>1</td><td>0</td><td>1</td><td>1</td><td>0</td><td>0</td><td>0</td><td>0</td><td>1</td><td> 4</td><td>0.4</td></tr>\n",
       "\t<tr><th scope=row>KRAS - BRAF</th><td>KRAS - BRAF   </td><td>1</td><td>1</td><td>1</td><td>1</td><td>1</td><td>1</td><td>1</td><td>1</td><td>1</td><td>1</td><td>1</td><td>10</td><td>1.0</td></tr>\n",
       "\t<tr><th scope=row>STK11 - BRAF</th><td>STK11 - BRAF  </td><td>1</td><td>0</td><td>0</td><td>0</td><td>0</td><td>0</td><td>0</td><td>0</td><td>1</td><td>1</td><td>1</td><td> 3</td><td>0.3</td></tr>\n",
       "\t<tr><th scope=row>KRAS - CDKN2A</th><td>KRAS - CDKN2A </td><td>1</td><td>1</td><td>0</td><td>0</td><td>1</td><td>0</td><td>1</td><td>0</td><td>1</td><td>1</td><td>1</td><td> 6</td><td>0.6</td></tr>\n",
       "\t<tr><th scope=row>KRAS - CTNNB1</th><td>KRAS - CTNNB1 </td><td>1</td><td>1</td><td>0</td><td>1</td><td>1</td><td>1</td><td>1</td><td>1</td><td>1</td><td>0</td><td>1</td><td> 8</td><td>0.8</td></tr>\n",
       "\t<tr><th scope=row>TP53 - CTNNB1</th><td>TP53 - CTNNB1 </td><td>1</td><td>1</td><td>1</td><td>1</td><td>1</td><td>1</td><td>1</td><td>1</td><td>1</td><td>1</td><td>1</td><td>10</td><td>1.0</td></tr>\n",
       "\t<tr><th scope=row>KRAS - EGFR</th><td>KRAS - EGFR   </td><td>1</td><td>1</td><td>1</td><td>1</td><td>1</td><td>1</td><td>1</td><td>1</td><td>1</td><td>1</td><td>1</td><td>10</td><td>1.0</td></tr>\n",
       "\t<tr><th scope=row>NF1 - EGFR</th><td>NF1 - EGFR    </td><td>1</td><td>1</td><td>1</td><td>0</td><td>1</td><td>1</td><td>1</td><td>1</td><td>1</td><td>1</td><td>1</td><td> 9</td><td>0.9</td></tr>\n",
       "\t<tr><th scope=row>SMARCA4 - EGFR</th><td>SMARCA4 - EGFR</td><td>1</td><td>1</td><td>1</td><td>1</td><td>1</td><td>1</td><td>1</td><td>1</td><td>1</td><td>1</td><td>1</td><td>10</td><td>1.0</td></tr>\n",
       "\t<tr><th scope=row>STK11 - EGFR</th><td>STK11 - EGFR  </td><td>1</td><td>1</td><td>1</td><td>1</td><td>1</td><td>1</td><td>1</td><td>1</td><td>1</td><td>1</td><td>1</td><td>10</td><td>1.0</td></tr>\n",
       "\t<tr><th scope=row>KEAP1 - EGFR</th><td>KEAP1 - EGFR  </td><td>1</td><td>1</td><td>1</td><td>1</td><td>1</td><td>1</td><td>1</td><td>1</td><td>1</td><td>1</td><td>1</td><td>10</td><td>1.0</td></tr>\n",
       "\t<tr><th scope=row>KRAS - ERBB2</th><td>KRAS - ERBB2  </td><td>1</td><td>0</td><td>1</td><td>0</td><td>1</td><td>1</td><td>1</td><td>0</td><td>1</td><td>1</td><td>0</td><td> 6</td><td>0.6</td></tr>\n",
       "\t<tr><th scope=row>MAP2K1 - KRAS</th><td>MAP2K1 - KRAS </td><td>1</td><td>1</td><td>1</td><td>1</td><td>1</td><td>1</td><td>1</td><td>1</td><td>1</td><td>0</td><td>1</td><td> 9</td><td>0.9</td></tr>\n",
       "\t<tr><th scope=row>MED12 - KRAS</th><td>MED12 - KRAS  </td><td>1</td><td>1</td><td>1</td><td>1</td><td>1</td><td>1</td><td>1</td><td>1</td><td>0</td><td>1</td><td>1</td><td> 9</td><td>0.9</td></tr>\n",
       "\t<tr><th scope=row>MET - KRAS</th><td>MET - KRAS    </td><td>1</td><td>1</td><td>1</td><td>1</td><td>1</td><td>1</td><td>1</td><td>1</td><td>1</td><td>1</td><td>1</td><td>10</td><td>1.0</td></tr>\n",
       "\t<tr><th scope=row>NF1 - KRAS</th><td>NF1 - KRAS    </td><td>1</td><td>1</td><td>1</td><td>1</td><td>1</td><td>1</td><td>1</td><td>1</td><td>1</td><td>1</td><td>1</td><td>10</td><td>1.0</td></tr>\n",
       "\t<tr><th scope=row>PIK3CA - KRAS</th><td>PIK3CA - KRAS </td><td>1</td><td>1</td><td>0</td><td>1</td><td>0</td><td>1</td><td>1</td><td>0</td><td>0</td><td>0</td><td>1</td><td> 5</td><td>0.5</td></tr>\n",
       "\t<tr><th scope=row>RB1 - KRAS</th><td>RB1 - KRAS    </td><td>1</td><td>1</td><td>1</td><td>1</td><td>1</td><td>1</td><td>1</td><td>1</td><td>1</td><td>1</td><td>1</td><td>10</td><td>1.0</td></tr>\n",
       "\t<tr><th scope=row>SETD2 - KRAS</th><td>SETD2 - KRAS  </td><td>1</td><td>1</td><td>0</td><td>1</td><td>1</td><td>1</td><td>1</td><td>1</td><td>1</td><td>1</td><td>1</td><td> 9</td><td>0.9</td></tr>\n",
       "\t<tr><th scope=row>SMAD4 - KRAS</th><td>SMAD4 - KRAS  </td><td>1</td><td>1</td><td>1</td><td>1</td><td>1</td><td>1</td><td>1</td><td>1</td><td>1</td><td>1</td><td>1</td><td>10</td><td>1.0</td></tr>\n",
       "\t<tr><th scope=row>SMARCA4 - KRAS</th><td>SMARCA4 - KRAS</td><td>1</td><td>1</td><td>1</td><td>1</td><td>1</td><td>1</td><td>1</td><td>1</td><td>1</td><td>1</td><td>1</td><td>10</td><td>1.0</td></tr>\n",
       "\t<tr><th scope=row>TP53 - KRAS</th><td>TP53 - KRAS   </td><td>1</td><td>1</td><td>1</td><td>1</td><td>1</td><td>1</td><td>1</td><td>1</td><td>1</td><td>1</td><td>1</td><td>10</td><td>1.0</td></tr>\n",
       "\t<tr><th scope=row>MAP2K4 - KRAS</th><td>MAP2K4 - KRAS </td><td>1</td><td>1</td><td>0</td><td>1</td><td>0</td><td>0</td><td>0</td><td>0</td><td>0</td><td>0</td><td>1</td><td> 3</td><td>0.3</td></tr>\n",
       "\t<tr><th scope=row>ROS1 - KRAS</th><td>ROS1 - KRAS   </td><td>1</td><td>0</td><td>0</td><td>0</td><td>0</td><td>0</td><td>0</td><td>0</td><td>0</td><td>0</td><td>0</td><td> 0</td><td>0.0</td></tr>\n",
       "\t<tr><th scope=row>PTPRT - KRAS</th><td>PTPRT - KRAS  </td><td>1</td><td>1</td><td>1</td><td>1</td><td>0</td><td>1</td><td>1</td><td>0</td><td>0</td><td>1</td><td>0</td><td> 6</td><td>0.6</td></tr>\n",
       "\t<tr><th scope=row>PTPRD - KRAS</th><td>PTPRD - KRAS  </td><td>1</td><td>1</td><td>1</td><td>1</td><td>1</td><td>0</td><td>1</td><td>0</td><td>1</td><td>1</td><td>1</td><td> 8</td><td>0.8</td></tr>\n",
       "\t<tr><th scope=row>RASA1 - KRAS</th><td>RASA1 - KRAS  </td><td>1</td><td>0</td><td>1</td><td>0</td><td>0</td><td>0</td><td>0</td><td>0</td><td>0</td><td>0</td><td>1</td><td> 2</td><td>0.2</td></tr>\n",
       "\t<tr><th scope=row>⋮</th><td>⋮</td><td>⋮</td><td>⋮</td><td>⋮</td><td>⋮</td><td>⋮</td><td>⋮</td><td>⋮</td><td>⋮</td><td>⋮</td><td>⋮</td><td>⋮</td><td>⋮</td><td>⋮</td></tr>\n",
       "\t<tr><th scope=row>MAX - ATR</th><td>MAX - ATR     </td><td>1</td><td>1</td><td>1</td><td>1</td><td>1</td><td>1</td><td>1</td><td>1</td><td>1</td><td>1</td><td>1</td><td>10</td><td>1.0</td></tr>\n",
       "\t<tr><th scope=row>TLE4 - ATR</th><td>TLE4 - ATR    </td><td>1</td><td>1</td><td>0</td><td>1</td><td>0</td><td>1</td><td>0</td><td>1</td><td>1</td><td>0</td><td>0</td><td> 5</td><td>0.5</td></tr>\n",
       "\t<tr><th scope=row>BCORL1 - FLCN</th><td>BCORL1 - FLCN </td><td>1</td><td>0</td><td>1</td><td>1</td><td>1</td><td>1</td><td>1</td><td>1</td><td>0</td><td>1</td><td>1</td><td> 8</td><td>0.8</td></tr>\n",
       "\t<tr><th scope=row>NSD1 - KMT2A</th><td>NSD1 - KMT2A  </td><td>1</td><td>1</td><td>1</td><td>1</td><td>1</td><td>1</td><td>1</td><td>1</td><td>1</td><td>1</td><td>1</td><td>10</td><td>1.0</td></tr>\n",
       "\t<tr><th scope=row>CUX1 - SPEN</th><td>CUX1 - SPEN   </td><td>1</td><td>1</td><td>1</td><td>0</td><td>1</td><td>1</td><td>0</td><td>1</td><td>1</td><td>1</td><td>1</td><td> 8</td><td>0.8</td></tr>\n",
       "\t<tr><th scope=row>ASXL2 - SPEN</th><td>ASXL2 - SPEN  </td><td>1</td><td>1</td><td>1</td><td>1</td><td>1</td><td>0</td><td>1</td><td>0</td><td>1</td><td>0</td><td>0</td><td> 6</td><td>0.6</td></tr>\n",
       "\t<tr><th scope=row>DUSP4 - SPEN</th><td>DUSP4 - SPEN  </td><td>1</td><td>0</td><td>1</td><td>0</td><td>1</td><td>0</td><td>0</td><td>1</td><td>1</td><td>1</td><td>1</td><td> 6</td><td>0.6</td></tr>\n",
       "\t<tr><th scope=row>MGA - SPEN</th><td>MGA - SPEN    </td><td>1</td><td>1</td><td>1</td><td>0</td><td>0</td><td>1</td><td>0</td><td>1</td><td>1</td><td>1</td><td>1</td><td> 7</td><td>0.7</td></tr>\n",
       "\t<tr><th scope=row>PTPRS - SPEN</th><td>PTPRS - SPEN  </td><td>1</td><td>0</td><td>1</td><td>0</td><td>1</td><td>0</td><td>0</td><td>1</td><td>1</td><td>1</td><td>1</td><td> 6</td><td>0.6</td></tr>\n",
       "\t<tr><th scope=row>ARID4B - SPEN</th><td>ARID4B - SPEN </td><td>1</td><td>0</td><td>1</td><td>0</td><td>1</td><td>0</td><td>0</td><td>1</td><td>1</td><td>1</td><td>1</td><td> 6</td><td>0.6</td></tr>\n",
       "\t<tr><th scope=row>EP400 - SPEN</th><td>EP400 - SPEN  </td><td>1</td><td>1</td><td>1</td><td>1</td><td>0</td><td>1</td><td>0</td><td>1</td><td>1</td><td>1</td><td>1</td><td> 8</td><td>0.8</td></tr>\n",
       "\t<tr><th scope=row>HLA-A - BCL10</th><td>HLA-A - BCL10 </td><td>1</td><td>1</td><td>0</td><td>1</td><td>1</td><td>1</td><td>1</td><td>1</td><td>0</td><td>1</td><td>0</td><td> 7</td><td>0.7</td></tr>\n",
       "\t<tr><th scope=row>CD58 - BCORL1</th><td>CD58 - BCORL1 </td><td>1</td><td>1</td><td>1</td><td>1</td><td>1</td><td>1</td><td>1</td><td>1</td><td>1</td><td>0</td><td>0</td><td> 8</td><td>0.8</td></tr>\n",
       "\t<tr><th scope=row>LATS1 - CHEK1</th><td>LATS1 - CHEK1 </td><td>1</td><td>1</td><td>1</td><td>0</td><td>1</td><td>1</td><td>1</td><td>1</td><td>0</td><td>1</td><td>1</td><td> 8</td><td>0.8</td></tr>\n",
       "\t<tr><th scope=row>NBN - EPHA3</th><td>NBN - EPHA3   </td><td>1</td><td>0</td><td>1</td><td>1</td><td>1</td><td>1</td><td>1</td><td>0</td><td>1</td><td>1</td><td>0</td><td> 7</td><td>0.7</td></tr>\n",
       "\t<tr><th scope=row>CUX1 - EPHA3</th><td>CUX1 - EPHA3  </td><td>1</td><td>1</td><td>0</td><td>1</td><td>0</td><td>0</td><td>1</td><td>1</td><td>1</td><td>0</td><td>1</td><td> 6</td><td>0.6</td></tr>\n",
       "\t<tr><th scope=row>LATS1 - EPHA3</th><td>LATS1 - EPHA3 </td><td>1</td><td>0</td><td>1</td><td>1</td><td>1</td><td>1</td><td>1</td><td>0</td><td>1</td><td>1</td><td>0</td><td> 7</td><td>0.7</td></tr>\n",
       "\t<tr><th scope=row>EP400 - EPHA3</th><td>EP400 - EPHA3 </td><td>1</td><td>1</td><td>1</td><td>0</td><td>1</td><td>0</td><td>0</td><td>0</td><td>0</td><td>0</td><td>1</td><td> 4</td><td>0.4</td></tr>\n",
       "\t<tr><th scope=row>AJUBA - EPHA3</th><td>AJUBA - EPHA3 </td><td>1</td><td>1</td><td>1</td><td>0</td><td>1</td><td>1</td><td>0</td><td>0</td><td>0</td><td>0</td><td>1</td><td> 5</td><td>0.5</td></tr>\n",
       "\t<tr><th scope=row>LATS1 - NBN</th><td>LATS1 - NBN   </td><td>1</td><td>0</td><td>1</td><td>1</td><td>1</td><td>1</td><td>1</td><td>0</td><td>1</td><td>1</td><td>0</td><td> 7</td><td>0.7</td></tr>\n",
       "\t<tr><th scope=row>SHQ1 - TBX3</th><td>SHQ1 - TBX3   </td><td>1</td><td>1</td><td>1</td><td>1</td><td>0</td><td>1</td><td>1</td><td>1</td><td>1</td><td>0</td><td>0</td><td> 7</td><td>0.7</td></tr>\n",
       "\t<tr><th scope=row>ECT2L - CUX1</th><td>ECT2L - CUX1  </td><td>1</td><td>1</td><td>1</td><td>1</td><td>1</td><td>1</td><td>1</td><td>1</td><td>1</td><td>0</td><td>0</td><td> 8</td><td>0.8</td></tr>\n",
       "\t<tr><th scope=row>NOTCH4 - EPHA7</th><td>NOTCH4 - EPHA7</td><td>1</td><td>1</td><td>1</td><td>1</td><td>1</td><td>1</td><td>1</td><td>0</td><td>1</td><td>1</td><td>1</td><td> 9</td><td>0.9</td></tr>\n",
       "\t<tr><th scope=row>TLE4 - DNMT3B</th><td>TLE4 - DNMT3B </td><td>1</td><td>1</td><td>0</td><td>0</td><td>1</td><td>1</td><td>1</td><td>1</td><td>1</td><td>0</td><td>1</td><td> 7</td><td>0.7</td></tr>\n",
       "\t<tr><th scope=row>PTPRS - DUSP4</th><td>PTPRS - DUSP4 </td><td>1</td><td>0</td><td>1</td><td>0</td><td>1</td><td>0</td><td>0</td><td>1</td><td>1</td><td>1</td><td>1</td><td> 6</td><td>0.6</td></tr>\n",
       "\t<tr><th scope=row>ARID4B - DUSP4</th><td>ARID4B - DUSP4</td><td>1</td><td>0</td><td>1</td><td>0</td><td>1</td><td>0</td><td>0</td><td>1</td><td>1</td><td>1</td><td>1</td><td> 6</td><td>0.6</td></tr>\n",
       "\t<tr><th scope=row>SESN2 - MGA</th><td>SESN2 - MGA   </td><td>1</td><td>1</td><td>0</td><td>0</td><td>0</td><td>1</td><td>1</td><td>1</td><td>1</td><td>1</td><td>1</td><td> 7</td><td>0.7</td></tr>\n",
       "\t<tr><th scope=row>RECQL - NOTCH4</th><td>RECQL - NOTCH4</td><td>1</td><td>1</td><td>1</td><td>1</td><td>1</td><td>0</td><td>1</td><td>1</td><td>1</td><td>1</td><td>1</td><td> 9</td><td>0.9</td></tr>\n",
       "\t<tr><th scope=row>ARID4B - PTPRS</th><td>ARID4B - PTPRS</td><td>1</td><td>0</td><td>1</td><td>0</td><td>1</td><td>0</td><td>0</td><td>1</td><td>1</td><td>1</td><td>1</td><td> 6</td><td>0.6</td></tr>\n",
       "\t<tr><th scope=row>AJUBA - EP400</th><td>AJUBA - EP400 </td><td>1</td><td>1</td><td>1</td><td>0</td><td>1</td><td>1</td><td>0</td><td>0</td><td>0</td><td>0</td><td>1</td><td> 5</td><td>0.5</td></tr>\n",
       "</tbody>\n",
       "</table>\n"
      ],
      "text/latex": [
       "A data.frame: 827 × 14\n",
       "\\begin{tabular}{r|llllllllllllll}\n",
       "  & pairs & Run\\_100 & Run\\_1 & Run\\_2 & Run\\_3 & Run\\_4 & Run\\_5 & Run\\_6 & Run\\_7 & Run\\_8 & Run\\_9 & Run\\_10 & Total\\_count & Total\\\\\n",
       "  & <chr> & <dbl> & <dbl> & <dbl> & <dbl> & <dbl> & <dbl> & <dbl> & <dbl> & <dbl> & <dbl> & <dbl> & <dbl> & <dbl>\\\\\n",
       "\\hline\n",
       "\tKRAS - APC & KRAS - APC     & 1 & 1 & 0 & 1 & 0 & 1 & 1 & 0 & 1 & 0 & 0 &  5 & 0.5\\\\\n",
       "\tTP53 - APC & TP53 - APC     & 1 & 0 & 1 & 0 & 0 & 0 & 0 & 0 & 1 & 0 & 1 &  3 & 0.3\\\\\n",
       "\tTP53 - ATM & TP53 - ATM     & 1 & 1 & 1 & 1 & 1 & 1 & 1 & 1 & 1 & 1 & 1 & 10 & 1.0\\\\\n",
       "\tEGFR - BRAF & EGFR - BRAF    & 1 & 0 & 1 & 0 & 1 & 1 & 0 & 0 & 0 & 0 & 1 &  4 & 0.4\\\\\n",
       "\tKRAS - BRAF & KRAS - BRAF    & 1 & 1 & 1 & 1 & 1 & 1 & 1 & 1 & 1 & 1 & 1 & 10 & 1.0\\\\\n",
       "\tSTK11 - BRAF & STK11 - BRAF   & 1 & 0 & 0 & 0 & 0 & 0 & 0 & 0 & 1 & 1 & 1 &  3 & 0.3\\\\\n",
       "\tKRAS - CDKN2A & KRAS - CDKN2A  & 1 & 1 & 0 & 0 & 1 & 0 & 1 & 0 & 1 & 1 & 1 &  6 & 0.6\\\\\n",
       "\tKRAS - CTNNB1 & KRAS - CTNNB1  & 1 & 1 & 0 & 1 & 1 & 1 & 1 & 1 & 1 & 0 & 1 &  8 & 0.8\\\\\n",
       "\tTP53 - CTNNB1 & TP53 - CTNNB1  & 1 & 1 & 1 & 1 & 1 & 1 & 1 & 1 & 1 & 1 & 1 & 10 & 1.0\\\\\n",
       "\tKRAS - EGFR & KRAS - EGFR    & 1 & 1 & 1 & 1 & 1 & 1 & 1 & 1 & 1 & 1 & 1 & 10 & 1.0\\\\\n",
       "\tNF1 - EGFR & NF1 - EGFR     & 1 & 1 & 1 & 0 & 1 & 1 & 1 & 1 & 1 & 1 & 1 &  9 & 0.9\\\\\n",
       "\tSMARCA4 - EGFR & SMARCA4 - EGFR & 1 & 1 & 1 & 1 & 1 & 1 & 1 & 1 & 1 & 1 & 1 & 10 & 1.0\\\\\n",
       "\tSTK11 - EGFR & STK11 - EGFR   & 1 & 1 & 1 & 1 & 1 & 1 & 1 & 1 & 1 & 1 & 1 & 10 & 1.0\\\\\n",
       "\tKEAP1 - EGFR & KEAP1 - EGFR   & 1 & 1 & 1 & 1 & 1 & 1 & 1 & 1 & 1 & 1 & 1 & 10 & 1.0\\\\\n",
       "\tKRAS - ERBB2 & KRAS - ERBB2   & 1 & 0 & 1 & 0 & 1 & 1 & 1 & 0 & 1 & 1 & 0 &  6 & 0.6\\\\\n",
       "\tMAP2K1 - KRAS & MAP2K1 - KRAS  & 1 & 1 & 1 & 1 & 1 & 1 & 1 & 1 & 1 & 0 & 1 &  9 & 0.9\\\\\n",
       "\tMED12 - KRAS & MED12 - KRAS   & 1 & 1 & 1 & 1 & 1 & 1 & 1 & 1 & 0 & 1 & 1 &  9 & 0.9\\\\\n",
       "\tMET - KRAS & MET - KRAS     & 1 & 1 & 1 & 1 & 1 & 1 & 1 & 1 & 1 & 1 & 1 & 10 & 1.0\\\\\n",
       "\tNF1 - KRAS & NF1 - KRAS     & 1 & 1 & 1 & 1 & 1 & 1 & 1 & 1 & 1 & 1 & 1 & 10 & 1.0\\\\\n",
       "\tPIK3CA - KRAS & PIK3CA - KRAS  & 1 & 1 & 0 & 1 & 0 & 1 & 1 & 0 & 0 & 0 & 1 &  5 & 0.5\\\\\n",
       "\tRB1 - KRAS & RB1 - KRAS     & 1 & 1 & 1 & 1 & 1 & 1 & 1 & 1 & 1 & 1 & 1 & 10 & 1.0\\\\\n",
       "\tSETD2 - KRAS & SETD2 - KRAS   & 1 & 1 & 0 & 1 & 1 & 1 & 1 & 1 & 1 & 1 & 1 &  9 & 0.9\\\\\n",
       "\tSMAD4 - KRAS & SMAD4 - KRAS   & 1 & 1 & 1 & 1 & 1 & 1 & 1 & 1 & 1 & 1 & 1 & 10 & 1.0\\\\\n",
       "\tSMARCA4 - KRAS & SMARCA4 - KRAS & 1 & 1 & 1 & 1 & 1 & 1 & 1 & 1 & 1 & 1 & 1 & 10 & 1.0\\\\\n",
       "\tTP53 - KRAS & TP53 - KRAS    & 1 & 1 & 1 & 1 & 1 & 1 & 1 & 1 & 1 & 1 & 1 & 10 & 1.0\\\\\n",
       "\tMAP2K4 - KRAS & MAP2K4 - KRAS  & 1 & 1 & 0 & 1 & 0 & 0 & 0 & 0 & 0 & 0 & 1 &  3 & 0.3\\\\\n",
       "\tROS1 - KRAS & ROS1 - KRAS    & 1 & 0 & 0 & 0 & 0 & 0 & 0 & 0 & 0 & 0 & 0 &  0 & 0.0\\\\\n",
       "\tPTPRT - KRAS & PTPRT - KRAS   & 1 & 1 & 1 & 1 & 0 & 1 & 1 & 0 & 0 & 1 & 0 &  6 & 0.6\\\\\n",
       "\tPTPRD - KRAS & PTPRD - KRAS   & 1 & 1 & 1 & 1 & 1 & 0 & 1 & 0 & 1 & 1 & 1 &  8 & 0.8\\\\\n",
       "\tRASA1 - KRAS & RASA1 - KRAS   & 1 & 0 & 1 & 0 & 0 & 0 & 0 & 0 & 0 & 0 & 1 &  2 & 0.2\\\\\n",
       "\t⋮ & ⋮ & ⋮ & ⋮ & ⋮ & ⋮ & ⋮ & ⋮ & ⋮ & ⋮ & ⋮ & ⋮ & ⋮ & ⋮ & ⋮\\\\\n",
       "\tMAX - ATR & MAX - ATR      & 1 & 1 & 1 & 1 & 1 & 1 & 1 & 1 & 1 & 1 & 1 & 10 & 1.0\\\\\n",
       "\tTLE4 - ATR & TLE4 - ATR     & 1 & 1 & 0 & 1 & 0 & 1 & 0 & 1 & 1 & 0 & 0 &  5 & 0.5\\\\\n",
       "\tBCORL1 - FLCN & BCORL1 - FLCN  & 1 & 0 & 1 & 1 & 1 & 1 & 1 & 1 & 0 & 1 & 1 &  8 & 0.8\\\\\n",
       "\tNSD1 - KMT2A & NSD1 - KMT2A   & 1 & 1 & 1 & 1 & 1 & 1 & 1 & 1 & 1 & 1 & 1 & 10 & 1.0\\\\\n",
       "\tCUX1 - SPEN & CUX1 - SPEN    & 1 & 1 & 1 & 0 & 1 & 1 & 0 & 1 & 1 & 1 & 1 &  8 & 0.8\\\\\n",
       "\tASXL2 - SPEN & ASXL2 - SPEN   & 1 & 1 & 1 & 1 & 1 & 0 & 1 & 0 & 1 & 0 & 0 &  6 & 0.6\\\\\n",
       "\tDUSP4 - SPEN & DUSP4 - SPEN   & 1 & 0 & 1 & 0 & 1 & 0 & 0 & 1 & 1 & 1 & 1 &  6 & 0.6\\\\\n",
       "\tMGA - SPEN & MGA - SPEN     & 1 & 1 & 1 & 0 & 0 & 1 & 0 & 1 & 1 & 1 & 1 &  7 & 0.7\\\\\n",
       "\tPTPRS - SPEN & PTPRS - SPEN   & 1 & 0 & 1 & 0 & 1 & 0 & 0 & 1 & 1 & 1 & 1 &  6 & 0.6\\\\\n",
       "\tARID4B - SPEN & ARID4B - SPEN  & 1 & 0 & 1 & 0 & 1 & 0 & 0 & 1 & 1 & 1 & 1 &  6 & 0.6\\\\\n",
       "\tEP400 - SPEN & EP400 - SPEN   & 1 & 1 & 1 & 1 & 0 & 1 & 0 & 1 & 1 & 1 & 1 &  8 & 0.8\\\\\n",
       "\tHLA-A - BCL10 & HLA-A - BCL10  & 1 & 1 & 0 & 1 & 1 & 1 & 1 & 1 & 0 & 1 & 0 &  7 & 0.7\\\\\n",
       "\tCD58 - BCORL1 & CD58 - BCORL1  & 1 & 1 & 1 & 1 & 1 & 1 & 1 & 1 & 1 & 0 & 0 &  8 & 0.8\\\\\n",
       "\tLATS1 - CHEK1 & LATS1 - CHEK1  & 1 & 1 & 1 & 0 & 1 & 1 & 1 & 1 & 0 & 1 & 1 &  8 & 0.8\\\\\n",
       "\tNBN - EPHA3 & NBN - EPHA3    & 1 & 0 & 1 & 1 & 1 & 1 & 1 & 0 & 1 & 1 & 0 &  7 & 0.7\\\\\n",
       "\tCUX1 - EPHA3 & CUX1 - EPHA3   & 1 & 1 & 0 & 1 & 0 & 0 & 1 & 1 & 1 & 0 & 1 &  6 & 0.6\\\\\n",
       "\tLATS1 - EPHA3 & LATS1 - EPHA3  & 1 & 0 & 1 & 1 & 1 & 1 & 1 & 0 & 1 & 1 & 0 &  7 & 0.7\\\\\n",
       "\tEP400 - EPHA3 & EP400 - EPHA3  & 1 & 1 & 1 & 0 & 1 & 0 & 0 & 0 & 0 & 0 & 1 &  4 & 0.4\\\\\n",
       "\tAJUBA - EPHA3 & AJUBA - EPHA3  & 1 & 1 & 1 & 0 & 1 & 1 & 0 & 0 & 0 & 0 & 1 &  5 & 0.5\\\\\n",
       "\tLATS1 - NBN & LATS1 - NBN    & 1 & 0 & 1 & 1 & 1 & 1 & 1 & 0 & 1 & 1 & 0 &  7 & 0.7\\\\\n",
       "\tSHQ1 - TBX3 & SHQ1 - TBX3    & 1 & 1 & 1 & 1 & 0 & 1 & 1 & 1 & 1 & 0 & 0 &  7 & 0.7\\\\\n",
       "\tECT2L - CUX1 & ECT2L - CUX1   & 1 & 1 & 1 & 1 & 1 & 1 & 1 & 1 & 1 & 0 & 0 &  8 & 0.8\\\\\n",
       "\tNOTCH4 - EPHA7 & NOTCH4 - EPHA7 & 1 & 1 & 1 & 1 & 1 & 1 & 1 & 0 & 1 & 1 & 1 &  9 & 0.9\\\\\n",
       "\tTLE4 - DNMT3B & TLE4 - DNMT3B  & 1 & 1 & 0 & 0 & 1 & 1 & 1 & 1 & 1 & 0 & 1 &  7 & 0.7\\\\\n",
       "\tPTPRS - DUSP4 & PTPRS - DUSP4  & 1 & 0 & 1 & 0 & 1 & 0 & 0 & 1 & 1 & 1 & 1 &  6 & 0.6\\\\\n",
       "\tARID4B - DUSP4 & ARID4B - DUSP4 & 1 & 0 & 1 & 0 & 1 & 0 & 0 & 1 & 1 & 1 & 1 &  6 & 0.6\\\\\n",
       "\tSESN2 - MGA & SESN2 - MGA    & 1 & 1 & 0 & 0 & 0 & 1 & 1 & 1 & 1 & 1 & 1 &  7 & 0.7\\\\\n",
       "\tRECQL - NOTCH4 & RECQL - NOTCH4 & 1 & 1 & 1 & 1 & 1 & 0 & 1 & 1 & 1 & 1 & 1 &  9 & 0.9\\\\\n",
       "\tARID4B - PTPRS & ARID4B - PTPRS & 1 & 0 & 1 & 0 & 1 & 0 & 0 & 1 & 1 & 1 & 1 &  6 & 0.6\\\\\n",
       "\tAJUBA - EP400 & AJUBA - EP400  & 1 & 1 & 1 & 0 & 1 & 1 & 0 & 0 & 0 & 0 & 1 &  5 & 0.5\\\\\n",
       "\\end{tabular}\n"
      ],
      "text/markdown": [
       "\n",
       "A data.frame: 827 × 14\n",
       "\n",
       "| <!--/--> | pairs &lt;chr&gt; | Run_100 &lt;dbl&gt; | Run_1 &lt;dbl&gt; | Run_2 &lt;dbl&gt; | Run_3 &lt;dbl&gt; | Run_4 &lt;dbl&gt; | Run_5 &lt;dbl&gt; | Run_6 &lt;dbl&gt; | Run_7 &lt;dbl&gt; | Run_8 &lt;dbl&gt; | Run_9 &lt;dbl&gt; | Run_10 &lt;dbl&gt; | Total_count &lt;dbl&gt; | Total &lt;dbl&gt; |\n",
       "|---|---|---|---|---|---|---|---|---|---|---|---|---|---|---|\n",
       "| KRAS - APC | KRAS - APC     | 1 | 1 | 0 | 1 | 0 | 1 | 1 | 0 | 1 | 0 | 0 |  5 | 0.5 |\n",
       "| TP53 - APC | TP53 - APC     | 1 | 0 | 1 | 0 | 0 | 0 | 0 | 0 | 1 | 0 | 1 |  3 | 0.3 |\n",
       "| TP53 - ATM | TP53 - ATM     | 1 | 1 | 1 | 1 | 1 | 1 | 1 | 1 | 1 | 1 | 1 | 10 | 1.0 |\n",
       "| EGFR - BRAF | EGFR - BRAF    | 1 | 0 | 1 | 0 | 1 | 1 | 0 | 0 | 0 | 0 | 1 |  4 | 0.4 |\n",
       "| KRAS - BRAF | KRAS - BRAF    | 1 | 1 | 1 | 1 | 1 | 1 | 1 | 1 | 1 | 1 | 1 | 10 | 1.0 |\n",
       "| STK11 - BRAF | STK11 - BRAF   | 1 | 0 | 0 | 0 | 0 | 0 | 0 | 0 | 1 | 1 | 1 |  3 | 0.3 |\n",
       "| KRAS - CDKN2A | KRAS - CDKN2A  | 1 | 1 | 0 | 0 | 1 | 0 | 1 | 0 | 1 | 1 | 1 |  6 | 0.6 |\n",
       "| KRAS - CTNNB1 | KRAS - CTNNB1  | 1 | 1 | 0 | 1 | 1 | 1 | 1 | 1 | 1 | 0 | 1 |  8 | 0.8 |\n",
       "| TP53 - CTNNB1 | TP53 - CTNNB1  | 1 | 1 | 1 | 1 | 1 | 1 | 1 | 1 | 1 | 1 | 1 | 10 | 1.0 |\n",
       "| KRAS - EGFR | KRAS - EGFR    | 1 | 1 | 1 | 1 | 1 | 1 | 1 | 1 | 1 | 1 | 1 | 10 | 1.0 |\n",
       "| NF1 - EGFR | NF1 - EGFR     | 1 | 1 | 1 | 0 | 1 | 1 | 1 | 1 | 1 | 1 | 1 |  9 | 0.9 |\n",
       "| SMARCA4 - EGFR | SMARCA4 - EGFR | 1 | 1 | 1 | 1 | 1 | 1 | 1 | 1 | 1 | 1 | 1 | 10 | 1.0 |\n",
       "| STK11 - EGFR | STK11 - EGFR   | 1 | 1 | 1 | 1 | 1 | 1 | 1 | 1 | 1 | 1 | 1 | 10 | 1.0 |\n",
       "| KEAP1 - EGFR | KEAP1 - EGFR   | 1 | 1 | 1 | 1 | 1 | 1 | 1 | 1 | 1 | 1 | 1 | 10 | 1.0 |\n",
       "| KRAS - ERBB2 | KRAS - ERBB2   | 1 | 0 | 1 | 0 | 1 | 1 | 1 | 0 | 1 | 1 | 0 |  6 | 0.6 |\n",
       "| MAP2K1 - KRAS | MAP2K1 - KRAS  | 1 | 1 | 1 | 1 | 1 | 1 | 1 | 1 | 1 | 0 | 1 |  9 | 0.9 |\n",
       "| MED12 - KRAS | MED12 - KRAS   | 1 | 1 | 1 | 1 | 1 | 1 | 1 | 1 | 0 | 1 | 1 |  9 | 0.9 |\n",
       "| MET - KRAS | MET - KRAS     | 1 | 1 | 1 | 1 | 1 | 1 | 1 | 1 | 1 | 1 | 1 | 10 | 1.0 |\n",
       "| NF1 - KRAS | NF1 - KRAS     | 1 | 1 | 1 | 1 | 1 | 1 | 1 | 1 | 1 | 1 | 1 | 10 | 1.0 |\n",
       "| PIK3CA - KRAS | PIK3CA - KRAS  | 1 | 1 | 0 | 1 | 0 | 1 | 1 | 0 | 0 | 0 | 1 |  5 | 0.5 |\n",
       "| RB1 - KRAS | RB1 - KRAS     | 1 | 1 | 1 | 1 | 1 | 1 | 1 | 1 | 1 | 1 | 1 | 10 | 1.0 |\n",
       "| SETD2 - KRAS | SETD2 - KRAS   | 1 | 1 | 0 | 1 | 1 | 1 | 1 | 1 | 1 | 1 | 1 |  9 | 0.9 |\n",
       "| SMAD4 - KRAS | SMAD4 - KRAS   | 1 | 1 | 1 | 1 | 1 | 1 | 1 | 1 | 1 | 1 | 1 | 10 | 1.0 |\n",
       "| SMARCA4 - KRAS | SMARCA4 - KRAS | 1 | 1 | 1 | 1 | 1 | 1 | 1 | 1 | 1 | 1 | 1 | 10 | 1.0 |\n",
       "| TP53 - KRAS | TP53 - KRAS    | 1 | 1 | 1 | 1 | 1 | 1 | 1 | 1 | 1 | 1 | 1 | 10 | 1.0 |\n",
       "| MAP2K4 - KRAS | MAP2K4 - KRAS  | 1 | 1 | 0 | 1 | 0 | 0 | 0 | 0 | 0 | 0 | 1 |  3 | 0.3 |\n",
       "| ROS1 - KRAS | ROS1 - KRAS    | 1 | 0 | 0 | 0 | 0 | 0 | 0 | 0 | 0 | 0 | 0 |  0 | 0.0 |\n",
       "| PTPRT - KRAS | PTPRT - KRAS   | 1 | 1 | 1 | 1 | 0 | 1 | 1 | 0 | 0 | 1 | 0 |  6 | 0.6 |\n",
       "| PTPRD - KRAS | PTPRD - KRAS   | 1 | 1 | 1 | 1 | 1 | 0 | 1 | 0 | 1 | 1 | 1 |  8 | 0.8 |\n",
       "| RASA1 - KRAS | RASA1 - KRAS   | 1 | 0 | 1 | 0 | 0 | 0 | 0 | 0 | 0 | 0 | 1 |  2 | 0.2 |\n",
       "| ⋮ | ⋮ | ⋮ | ⋮ | ⋮ | ⋮ | ⋮ | ⋮ | ⋮ | ⋮ | ⋮ | ⋮ | ⋮ | ⋮ | ⋮ |\n",
       "| MAX - ATR | MAX - ATR      | 1 | 1 | 1 | 1 | 1 | 1 | 1 | 1 | 1 | 1 | 1 | 10 | 1.0 |\n",
       "| TLE4 - ATR | TLE4 - ATR     | 1 | 1 | 0 | 1 | 0 | 1 | 0 | 1 | 1 | 0 | 0 |  5 | 0.5 |\n",
       "| BCORL1 - FLCN | BCORL1 - FLCN  | 1 | 0 | 1 | 1 | 1 | 1 | 1 | 1 | 0 | 1 | 1 |  8 | 0.8 |\n",
       "| NSD1 - KMT2A | NSD1 - KMT2A   | 1 | 1 | 1 | 1 | 1 | 1 | 1 | 1 | 1 | 1 | 1 | 10 | 1.0 |\n",
       "| CUX1 - SPEN | CUX1 - SPEN    | 1 | 1 | 1 | 0 | 1 | 1 | 0 | 1 | 1 | 1 | 1 |  8 | 0.8 |\n",
       "| ASXL2 - SPEN | ASXL2 - SPEN   | 1 | 1 | 1 | 1 | 1 | 0 | 1 | 0 | 1 | 0 | 0 |  6 | 0.6 |\n",
       "| DUSP4 - SPEN | DUSP4 - SPEN   | 1 | 0 | 1 | 0 | 1 | 0 | 0 | 1 | 1 | 1 | 1 |  6 | 0.6 |\n",
       "| MGA - SPEN | MGA - SPEN     | 1 | 1 | 1 | 0 | 0 | 1 | 0 | 1 | 1 | 1 | 1 |  7 | 0.7 |\n",
       "| PTPRS - SPEN | PTPRS - SPEN   | 1 | 0 | 1 | 0 | 1 | 0 | 0 | 1 | 1 | 1 | 1 |  6 | 0.6 |\n",
       "| ARID4B - SPEN | ARID4B - SPEN  | 1 | 0 | 1 | 0 | 1 | 0 | 0 | 1 | 1 | 1 | 1 |  6 | 0.6 |\n",
       "| EP400 - SPEN | EP400 - SPEN   | 1 | 1 | 1 | 1 | 0 | 1 | 0 | 1 | 1 | 1 | 1 |  8 | 0.8 |\n",
       "| HLA-A - BCL10 | HLA-A - BCL10  | 1 | 1 | 0 | 1 | 1 | 1 | 1 | 1 | 0 | 1 | 0 |  7 | 0.7 |\n",
       "| CD58 - BCORL1 | CD58 - BCORL1  | 1 | 1 | 1 | 1 | 1 | 1 | 1 | 1 | 1 | 0 | 0 |  8 | 0.8 |\n",
       "| LATS1 - CHEK1 | LATS1 - CHEK1  | 1 | 1 | 1 | 0 | 1 | 1 | 1 | 1 | 0 | 1 | 1 |  8 | 0.8 |\n",
       "| NBN - EPHA3 | NBN - EPHA3    | 1 | 0 | 1 | 1 | 1 | 1 | 1 | 0 | 1 | 1 | 0 |  7 | 0.7 |\n",
       "| CUX1 - EPHA3 | CUX1 - EPHA3   | 1 | 1 | 0 | 1 | 0 | 0 | 1 | 1 | 1 | 0 | 1 |  6 | 0.6 |\n",
       "| LATS1 - EPHA3 | LATS1 - EPHA3  | 1 | 0 | 1 | 1 | 1 | 1 | 1 | 0 | 1 | 1 | 0 |  7 | 0.7 |\n",
       "| EP400 - EPHA3 | EP400 - EPHA3  | 1 | 1 | 1 | 0 | 1 | 0 | 0 | 0 | 0 | 0 | 1 |  4 | 0.4 |\n",
       "| AJUBA - EPHA3 | AJUBA - EPHA3  | 1 | 1 | 1 | 0 | 1 | 1 | 0 | 0 | 0 | 0 | 1 |  5 | 0.5 |\n",
       "| LATS1 - NBN | LATS1 - NBN    | 1 | 0 | 1 | 1 | 1 | 1 | 1 | 0 | 1 | 1 | 0 |  7 | 0.7 |\n",
       "| SHQ1 - TBX3 | SHQ1 - TBX3    | 1 | 1 | 1 | 1 | 0 | 1 | 1 | 1 | 1 | 0 | 0 |  7 | 0.7 |\n",
       "| ECT2L - CUX1 | ECT2L - CUX1   | 1 | 1 | 1 | 1 | 1 | 1 | 1 | 1 | 1 | 0 | 0 |  8 | 0.8 |\n",
       "| NOTCH4 - EPHA7 | NOTCH4 - EPHA7 | 1 | 1 | 1 | 1 | 1 | 1 | 1 | 0 | 1 | 1 | 1 |  9 | 0.9 |\n",
       "| TLE4 - DNMT3B | TLE4 - DNMT3B  | 1 | 1 | 0 | 0 | 1 | 1 | 1 | 1 | 1 | 0 | 1 |  7 | 0.7 |\n",
       "| PTPRS - DUSP4 | PTPRS - DUSP4  | 1 | 0 | 1 | 0 | 1 | 0 | 0 | 1 | 1 | 1 | 1 |  6 | 0.6 |\n",
       "| ARID4B - DUSP4 | ARID4B - DUSP4 | 1 | 0 | 1 | 0 | 1 | 0 | 0 | 1 | 1 | 1 | 1 |  6 | 0.6 |\n",
       "| SESN2 - MGA | SESN2 - MGA    | 1 | 1 | 0 | 0 | 0 | 1 | 1 | 1 | 1 | 1 | 1 |  7 | 0.7 |\n",
       "| RECQL - NOTCH4 | RECQL - NOTCH4 | 1 | 1 | 1 | 1 | 1 | 0 | 1 | 1 | 1 | 1 | 1 |  9 | 0.9 |\n",
       "| ARID4B - PTPRS | ARID4B - PTPRS | 1 | 0 | 1 | 0 | 1 | 0 | 0 | 1 | 1 | 1 | 1 |  6 | 0.6 |\n",
       "| AJUBA - EP400 | AJUBA - EP400  | 1 | 1 | 1 | 0 | 1 | 1 | 0 | 0 | 0 | 0 | 1 |  5 | 0.5 |\n",
       "\n"
      ],
      "text/plain": [
       "               pairs          Run_100 Run_1 Run_2 Run_3 Run_4 Run_5 Run_6 Run_7\n",
       "KRAS - APC     KRAS - APC     1       1     0     1     0     1     1     0    \n",
       "TP53 - APC     TP53 - APC     1       0     1     0     0     0     0     0    \n",
       "TP53 - ATM     TP53 - ATM     1       1     1     1     1     1     1     1    \n",
       "EGFR - BRAF    EGFR - BRAF    1       0     1     0     1     1     0     0    \n",
       "KRAS - BRAF    KRAS - BRAF    1       1     1     1     1     1     1     1    \n",
       "STK11 - BRAF   STK11 - BRAF   1       0     0     0     0     0     0     0    \n",
       "KRAS - CDKN2A  KRAS - CDKN2A  1       1     0     0     1     0     1     0    \n",
       "KRAS - CTNNB1  KRAS - CTNNB1  1       1     0     1     1     1     1     1    \n",
       "TP53 - CTNNB1  TP53 - CTNNB1  1       1     1     1     1     1     1     1    \n",
       "KRAS - EGFR    KRAS - EGFR    1       1     1     1     1     1     1     1    \n",
       "NF1 - EGFR     NF1 - EGFR     1       1     1     0     1     1     1     1    \n",
       "SMARCA4 - EGFR SMARCA4 - EGFR 1       1     1     1     1     1     1     1    \n",
       "STK11 - EGFR   STK11 - EGFR   1       1     1     1     1     1     1     1    \n",
       "KEAP1 - EGFR   KEAP1 - EGFR   1       1     1     1     1     1     1     1    \n",
       "KRAS - ERBB2   KRAS - ERBB2   1       0     1     0     1     1     1     0    \n",
       "MAP2K1 - KRAS  MAP2K1 - KRAS  1       1     1     1     1     1     1     1    \n",
       "MED12 - KRAS   MED12 - KRAS   1       1     1     1     1     1     1     1    \n",
       "MET - KRAS     MET - KRAS     1       1     1     1     1     1     1     1    \n",
       "NF1 - KRAS     NF1 - KRAS     1       1     1     1     1     1     1     1    \n",
       "PIK3CA - KRAS  PIK3CA - KRAS  1       1     0     1     0     1     1     0    \n",
       "RB1 - KRAS     RB1 - KRAS     1       1     1     1     1     1     1     1    \n",
       "SETD2 - KRAS   SETD2 - KRAS   1       1     0     1     1     1     1     1    \n",
       "SMAD4 - KRAS   SMAD4 - KRAS   1       1     1     1     1     1     1     1    \n",
       "SMARCA4 - KRAS SMARCA4 - KRAS 1       1     1     1     1     1     1     1    \n",
       "TP53 - KRAS    TP53 - KRAS    1       1     1     1     1     1     1     1    \n",
       "MAP2K4 - KRAS  MAP2K4 - KRAS  1       1     0     1     0     0     0     0    \n",
       "ROS1 - KRAS    ROS1 - KRAS    1       0     0     0     0     0     0     0    \n",
       "PTPRT - KRAS   PTPRT - KRAS   1       1     1     1     0     1     1     0    \n",
       "PTPRD - KRAS   PTPRD - KRAS   1       1     1     1     1     0     1     0    \n",
       "RASA1 - KRAS   RASA1 - KRAS   1       0     1     0     0     0     0     0    \n",
       "⋮              ⋮              ⋮       ⋮     ⋮     ⋮     ⋮     ⋮     ⋮     ⋮    \n",
       "MAX - ATR      MAX - ATR      1       1     1     1     1     1     1     1    \n",
       "TLE4 - ATR     TLE4 - ATR     1       1     0     1     0     1     0     1    \n",
       "BCORL1 - FLCN  BCORL1 - FLCN  1       0     1     1     1     1     1     1    \n",
       "NSD1 - KMT2A   NSD1 - KMT2A   1       1     1     1     1     1     1     1    \n",
       "CUX1 - SPEN    CUX1 - SPEN    1       1     1     0     1     1     0     1    \n",
       "ASXL2 - SPEN   ASXL2 - SPEN   1       1     1     1     1     0     1     0    \n",
       "DUSP4 - SPEN   DUSP4 - SPEN   1       0     1     0     1     0     0     1    \n",
       "MGA - SPEN     MGA - SPEN     1       1     1     0     0     1     0     1    \n",
       "PTPRS - SPEN   PTPRS - SPEN   1       0     1     0     1     0     0     1    \n",
       "ARID4B - SPEN  ARID4B - SPEN  1       0     1     0     1     0     0     1    \n",
       "EP400 - SPEN   EP400 - SPEN   1       1     1     1     0     1     0     1    \n",
       "HLA-A - BCL10  HLA-A - BCL10  1       1     0     1     1     1     1     1    \n",
       "CD58 - BCORL1  CD58 - BCORL1  1       1     1     1     1     1     1     1    \n",
       "LATS1 - CHEK1  LATS1 - CHEK1  1       1     1     0     1     1     1     1    \n",
       "NBN - EPHA3    NBN - EPHA3    1       0     1     1     1     1     1     0    \n",
       "CUX1 - EPHA3   CUX1 - EPHA3   1       1     0     1     0     0     1     1    \n",
       "LATS1 - EPHA3  LATS1 - EPHA3  1       0     1     1     1     1     1     0    \n",
       "EP400 - EPHA3  EP400 - EPHA3  1       1     1     0     1     0     0     0    \n",
       "AJUBA - EPHA3  AJUBA - EPHA3  1       1     1     0     1     1     0     0    \n",
       "LATS1 - NBN    LATS1 - NBN    1       0     1     1     1     1     1     0    \n",
       "SHQ1 - TBX3    SHQ1 - TBX3    1       1     1     1     0     1     1     1    \n",
       "ECT2L - CUX1   ECT2L - CUX1   1       1     1     1     1     1     1     1    \n",
       "NOTCH4 - EPHA7 NOTCH4 - EPHA7 1       1     1     1     1     1     1     0    \n",
       "TLE4 - DNMT3B  TLE4 - DNMT3B  1       1     0     0     1     1     1     1    \n",
       "PTPRS - DUSP4  PTPRS - DUSP4  1       0     1     0     1     0     0     1    \n",
       "ARID4B - DUSP4 ARID4B - DUSP4 1       0     1     0     1     0     0     1    \n",
       "SESN2 - MGA    SESN2 - MGA    1       1     0     0     0     1     1     1    \n",
       "RECQL - NOTCH4 RECQL - NOTCH4 1       1     1     1     1     0     1     1    \n",
       "ARID4B - PTPRS ARID4B - PTPRS 1       0     1     0     1     0     0     1    \n",
       "AJUBA - EP400  AJUBA - EP400  1       1     1     0     1     1     0     0    \n",
       "               Run_8 Run_9 Run_10 Total_count Total\n",
       "KRAS - APC     1     0     0       5          0.5  \n",
       "TP53 - APC     1     0     1       3          0.3  \n",
       "TP53 - ATM     1     1     1      10          1.0  \n",
       "EGFR - BRAF    0     0     1       4          0.4  \n",
       "KRAS - BRAF    1     1     1      10          1.0  \n",
       "STK11 - BRAF   1     1     1       3          0.3  \n",
       "KRAS - CDKN2A  1     1     1       6          0.6  \n",
       "KRAS - CTNNB1  1     0     1       8          0.8  \n",
       "TP53 - CTNNB1  1     1     1      10          1.0  \n",
       "KRAS - EGFR    1     1     1      10          1.0  \n",
       "NF1 - EGFR     1     1     1       9          0.9  \n",
       "SMARCA4 - EGFR 1     1     1      10          1.0  \n",
       "STK11 - EGFR   1     1     1      10          1.0  \n",
       "KEAP1 - EGFR   1     1     1      10          1.0  \n",
       "KRAS - ERBB2   1     1     0       6          0.6  \n",
       "MAP2K1 - KRAS  1     0     1       9          0.9  \n",
       "MED12 - KRAS   0     1     1       9          0.9  \n",
       "MET - KRAS     1     1     1      10          1.0  \n",
       "NF1 - KRAS     1     1     1      10          1.0  \n",
       "PIK3CA - KRAS  0     0     1       5          0.5  \n",
       "RB1 - KRAS     1     1     1      10          1.0  \n",
       "SETD2 - KRAS   1     1     1       9          0.9  \n",
       "SMAD4 - KRAS   1     1     1      10          1.0  \n",
       "SMARCA4 - KRAS 1     1     1      10          1.0  \n",
       "TP53 - KRAS    1     1     1      10          1.0  \n",
       "MAP2K4 - KRAS  0     0     1       3          0.3  \n",
       "ROS1 - KRAS    0     0     0       0          0.0  \n",
       "PTPRT - KRAS   0     1     0       6          0.6  \n",
       "PTPRD - KRAS   1     1     1       8          0.8  \n",
       "RASA1 - KRAS   0     0     1       2          0.2  \n",
       "⋮              ⋮     ⋮     ⋮      ⋮           ⋮    \n",
       "MAX - ATR      1     1     1      10          1.0  \n",
       "TLE4 - ATR     1     0     0       5          0.5  \n",
       "BCORL1 - FLCN  0     1     1       8          0.8  \n",
       "NSD1 - KMT2A   1     1     1      10          1.0  \n",
       "CUX1 - SPEN    1     1     1       8          0.8  \n",
       "ASXL2 - SPEN   1     0     0       6          0.6  \n",
       "DUSP4 - SPEN   1     1     1       6          0.6  \n",
       "MGA - SPEN     1     1     1       7          0.7  \n",
       "PTPRS - SPEN   1     1     1       6          0.6  \n",
       "ARID4B - SPEN  1     1     1       6          0.6  \n",
       "EP400 - SPEN   1     1     1       8          0.8  \n",
       "HLA-A - BCL10  0     1     0       7          0.7  \n",
       "CD58 - BCORL1  1     0     0       8          0.8  \n",
       "LATS1 - CHEK1  0     1     1       8          0.8  \n",
       "NBN - EPHA3    1     1     0       7          0.7  \n",
       "CUX1 - EPHA3   1     0     1       6          0.6  \n",
       "LATS1 - EPHA3  1     1     0       7          0.7  \n",
       "EP400 - EPHA3  0     0     1       4          0.4  \n",
       "AJUBA - EPHA3  0     0     1       5          0.5  \n",
       "LATS1 - NBN    1     1     0       7          0.7  \n",
       "SHQ1 - TBX3    1     0     0       7          0.7  \n",
       "ECT2L - CUX1   1     0     0       8          0.8  \n",
       "NOTCH4 - EPHA7 1     1     1       9          0.9  \n",
       "TLE4 - DNMT3B  1     0     1       7          0.7  \n",
       "PTPRS - DUSP4  1     1     1       6          0.6  \n",
       "ARID4B - DUSP4 1     1     1       6          0.6  \n",
       "SESN2 - MGA    1     1     1       7          0.7  \n",
       "RECQL - NOTCH4 1     1     1       9          0.9  \n",
       "ARID4B - PTPRS 1     1     1       6          0.6  \n",
       "AJUBA - EP400  0     0     1       5          0.5  "
      ]
     },
     "metadata": {},
     "output_type": "display_data"
    }
   ],
   "source": [
    "score_df"
   ]
  },
  {
   "cell_type": "code",
   "execution_count": 88,
   "id": "3a2cf0e6-dd06-4dae-b856-76cb3b9b69bd",
   "metadata": {},
   "outputs": [],
   "source": [
    "cum_pct<-list()\n",
    "cum_pairs<-list()\n",
    "for(i in c(1:10)){\n",
    "    cum_pct[[i]]<-sum(rowSums(score_df[,c(3:12)])>=i)*100/827\n",
    "    cum_pairs[[i]]<-sum(rowSums(score_df[,c(3:12)])>=i)\n",
    "}"
   ]
  },
  {
   "cell_type": "code",
   "execution_count": 89,
   "id": "d25c89da-50b5-4529-9b9d-83d4f3a4e11d",
   "metadata": {},
   "outputs": [],
   "source": [
    "score_df_v7<-data.frame('Recovery'=c(1:10),'n'=unlist(cum_pairs),'pct'=unlist(cum_pct))\n",
    "score_df_v7$Recovery <-as.factor(score_df_v7$Recovery)"
   ]
  },
  {
   "cell_type": "code",
   "execution_count": 90,
   "id": "53066d54-8aa6-4434-a04f-5fcfcf44d11d",
   "metadata": {},
   "outputs": [
    {
     "data": {
      "text/html": [
       "<table class=\"dataframe\">\n",
       "<caption>A data.frame: 10 × 3</caption>\n",
       "<thead>\n",
       "\t<tr><th scope=col>Recovery</th><th scope=col>n</th><th scope=col>pct</th></tr>\n",
       "\t<tr><th scope=col>&lt;fct&gt;</th><th scope=col>&lt;int&gt;</th><th scope=col>&lt;dbl&gt;</th></tr>\n",
       "</thead>\n",
       "<tbody>\n",
       "\t<tr><td>1 </td><td>824</td><td>99.63724</td></tr>\n",
       "\t<tr><td>2 </td><td>821</td><td>99.27449</td></tr>\n",
       "\t<tr><td>3 </td><td>817</td><td>98.79081</td></tr>\n",
       "\t<tr><td>4 </td><td>798</td><td>96.49335</td></tr>\n",
       "\t<tr><td>5 </td><td>775</td><td>93.71221</td></tr>\n",
       "\t<tr><td>6 </td><td>713</td><td>86.21524</td></tr>\n",
       "\t<tr><td>7 </td><td>614</td><td>74.24426</td></tr>\n",
       "\t<tr><td>8 </td><td>448</td><td>54.17170</td></tr>\n",
       "\t<tr><td>9 </td><td>293</td><td>35.42926</td></tr>\n",
       "\t<tr><td>10</td><td>131</td><td>15.84039</td></tr>\n",
       "</tbody>\n",
       "</table>\n"
      ],
      "text/latex": [
       "A data.frame: 10 × 3\n",
       "\\begin{tabular}{lll}\n",
       " Recovery & n & pct\\\\\n",
       " <fct> & <int> & <dbl>\\\\\n",
       "\\hline\n",
       "\t 1  & 824 & 99.63724\\\\\n",
       "\t 2  & 821 & 99.27449\\\\\n",
       "\t 3  & 817 & 98.79081\\\\\n",
       "\t 4  & 798 & 96.49335\\\\\n",
       "\t 5  & 775 & 93.71221\\\\\n",
       "\t 6  & 713 & 86.21524\\\\\n",
       "\t 7  & 614 & 74.24426\\\\\n",
       "\t 8  & 448 & 54.17170\\\\\n",
       "\t 9  & 293 & 35.42926\\\\\n",
       "\t 10 & 131 & 15.84039\\\\\n",
       "\\end{tabular}\n"
      ],
      "text/markdown": [
       "\n",
       "A data.frame: 10 × 3\n",
       "\n",
       "| Recovery &lt;fct&gt; | n &lt;int&gt; | pct &lt;dbl&gt; |\n",
       "|---|---|---|\n",
       "| 1  | 824 | 99.63724 |\n",
       "| 2  | 821 | 99.27449 |\n",
       "| 3  | 817 | 98.79081 |\n",
       "| 4  | 798 | 96.49335 |\n",
       "| 5  | 775 | 93.71221 |\n",
       "| 6  | 713 | 86.21524 |\n",
       "| 7  | 614 | 74.24426 |\n",
       "| 8  | 448 | 54.17170 |\n",
       "| 9  | 293 | 35.42926 |\n",
       "| 10 | 131 | 15.84039 |\n",
       "\n"
      ],
      "text/plain": [
       "   Recovery n   pct     \n",
       "1  1        824 99.63724\n",
       "2  2        821 99.27449\n",
       "3  3        817 98.79081\n",
       "4  4        798 96.49335\n",
       "5  5        775 93.71221\n",
       "6  6        713 86.21524\n",
       "7  7        614 74.24426\n",
       "8  8        448 54.17170\n",
       "9  9        293 35.42926\n",
       "10 10       131 15.84039"
      ]
     },
     "metadata": {},
     "output_type": "display_data"
    }
   ],
   "source": [
    "score_df_v7"
   ]
  },
  {
   "cell_type": "markdown",
   "id": "d9da5673-f933-491c-a891-35f598942129",
   "metadata": {
    "jp-MarkdownHeadingCollapsed": true,
    "tags": []
   },
   "source": [
    "## coselens "
   ]
  },
  {
   "cell_type": "code",
   "execution_count": 91,
   "id": "e7a76309-141b-4142-a2b9-2c11bfffe76c",
   "metadata": {},
   "outputs": [],
   "source": [
    "select_orginal <- readRDS('/mnt/ptemp/arvind/tool_comaprision/results/coselens/coselns_luad_all_results.rds')"
   ]
  },
  {
   "cell_type": "code",
   "execution_count": 92,
   "id": "5b73f6f7-29c6-41bc-acb3-cd4fd9f3f565",
   "metadata": {},
   "outputs": [],
   "source": [
    "boot_results <- list()\n",
    "k=1\n",
    "for (i in c(1:10)){\n",
    "    name <- paste('/mnt/ptemp/arvind/tool_comaprision/results/coselens/luad_sampling_run_',i,'.rds',sep=\"\")\n",
    "    boot_results[[k]] <- readRDS(file=name)\n",
    "    k=k+1\n",
    "}"
   ]
  },
  {
   "cell_type": "code",
   "execution_count": 93,
   "id": "2cc9cf4b-803e-4576-bc1a-9f967c2667bd",
   "metadata": {},
   "outputs": [
    {
     "data": {
      "text/html": [
       "10"
      ],
      "text/latex": [
       "10"
      ],
      "text/markdown": [
       "10"
      ],
      "text/plain": [
       "[1] 10"
      ]
     },
     "metadata": {},
     "output_type": "display_data"
    }
   ],
   "source": [
    "length(boot_results)"
   ]
  },
  {
   "cell_type": "code",
   "execution_count": 94,
   "id": "c190bb04-3b06-41b0-8dcf-7999f1eb2965",
   "metadata": {},
   "outputs": [
    {
     "data": {
      "text/html": [
       "<table class=\"dataframe\">\n",
       "<caption>A data.frame: 6 × 14</caption>\n",
       "<thead>\n",
       "\t<tr><th></th><th scope=col>gene_name</th><th scope=col>num.drivers.group1</th><th scope=col>num.drivers.group2</th><th scope=col>pmis</th><th scope=col>ptrunc</th><th scope=col>pall</th><th scope=col>pind</th><th scope=col>pglobal</th><th scope=col>qall</th><th scope=col>qglobal</th><th scope=col>DeltaNd</th><th scope=col>type</th><th scope=col>split_gene</th><th scope=col>pair</th></tr>\n",
       "\t<tr><th></th><th scope=col>&lt;chr&gt;</th><th scope=col>&lt;dbl&gt;</th><th scope=col>&lt;dbl&gt;</th><th scope=col>&lt;dbl&gt;</th><th scope=col>&lt;dbl&gt;</th><th scope=col>&lt;dbl&gt;</th><th scope=col>&lt;dbl&gt;</th><th scope=col>&lt;dbl&gt;</th><th scope=col>&lt;dbl&gt;</th><th scope=col>&lt;dbl&gt;</th><th scope=col>&lt;dbl&gt;</th><th scope=col>&lt;chr&gt;</th><th scope=col>&lt;chr&gt;</th><th scope=col>&lt;chr&gt;</th></tr>\n",
       "</thead>\n",
       "<tbody>\n",
       "\t<tr><th scope=row>1</th><td>ABL1 </td><td> 2.650543e-02</td><td>0.0009875042</td><td>0.4712079</td><td>1</td><td>0.77138244</td><td>1</td><td>0.9716109</td><td>1.0000000</td><td>1</td><td> 0.025517929</td><td>CO</td><td>EP400</td><td>EP400 - ABL1 </td></tr>\n",
       "\t<tr><th scope=row>2</th><td>ACTG1</td><td>-9.009542e-05</td><td>0.0107835776</td><td>0.8769490</td><td>1</td><td>0.98808415</td><td>1</td><td>0.9999287</td><td>1.0000000</td><td>1</td><td>-0.010873673</td><td>ME</td><td>EP400</td><td>EP400 - ACTG1</td></tr>\n",
       "\t<tr><th scope=row>3</th><td>ACVR1</td><td>-7.785338e-04</td><td>0.0134844626</td><td>0.8564205</td><td>1</td><td>0.98376493</td><td>1</td><td>0.9998675</td><td>1.0000000</td><td>1</td><td>-0.014262996</td><td>ME</td><td>EP400</td><td>EP400 - ACVR1</td></tr>\n",
       "\t<tr><th scope=row>4</th><td>AJUBA</td><td>-3.775796e-04</td><td>0.0051549760</td><td>0.9113446</td><td>1</td><td>0.99382058</td><td>1</td><td>0.9999809</td><td>1.0000000</td><td>1</td><td>-0.005532556</td><td>ME</td><td>EP400</td><td>EP400 - AJUBA</td></tr>\n",
       "\t<tr><th scope=row>5</th><td>AKT1 </td><td> 6.643469e-02</td><td>0.0051965984</td><td>0.0241362</td><td>1</td><td>0.07867662</td><td>1</td><td>0.2787048</td><td>0.5567185</td><td>1</td><td> 0.061238097</td><td>CO</td><td>EP400</td><td>EP400 - AKT1 </td></tr>\n",
       "\t<tr><th scope=row>6</th><td>AKT2 </td><td> 3.308704e-02</td><td>0.0162232109</td><td>0.5490480</td><td>1</td><td>0.83567735</td><td>1</td><td>0.9856920</td><td>1.0000000</td><td>1</td><td> 0.016863824</td><td>CO</td><td>EP400</td><td>EP400 - AKT2 </td></tr>\n",
       "</tbody>\n",
       "</table>\n"
      ],
      "text/latex": [
       "A data.frame: 6 × 14\n",
       "\\begin{tabular}{r|llllllllllllll}\n",
       "  & gene\\_name & num.drivers.group1 & num.drivers.group2 & pmis & ptrunc & pall & pind & pglobal & qall & qglobal & DeltaNd & type & split\\_gene & pair\\\\\n",
       "  & <chr> & <dbl> & <dbl> & <dbl> & <dbl> & <dbl> & <dbl> & <dbl> & <dbl> & <dbl> & <dbl> & <chr> & <chr> & <chr>\\\\\n",
       "\\hline\n",
       "\t1 & ABL1  &  2.650543e-02 & 0.0009875042 & 0.4712079 & 1 & 0.77138244 & 1 & 0.9716109 & 1.0000000 & 1 &  0.025517929 & CO & EP400 & EP400 - ABL1 \\\\\n",
       "\t2 & ACTG1 & -9.009542e-05 & 0.0107835776 & 0.8769490 & 1 & 0.98808415 & 1 & 0.9999287 & 1.0000000 & 1 & -0.010873673 & ME & EP400 & EP400 - ACTG1\\\\\n",
       "\t3 & ACVR1 & -7.785338e-04 & 0.0134844626 & 0.8564205 & 1 & 0.98376493 & 1 & 0.9998675 & 1.0000000 & 1 & -0.014262996 & ME & EP400 & EP400 - ACVR1\\\\\n",
       "\t4 & AJUBA & -3.775796e-04 & 0.0051549760 & 0.9113446 & 1 & 0.99382058 & 1 & 0.9999809 & 1.0000000 & 1 & -0.005532556 & ME & EP400 & EP400 - AJUBA\\\\\n",
       "\t5 & AKT1  &  6.643469e-02 & 0.0051965984 & 0.0241362 & 1 & 0.07867662 & 1 & 0.2787048 & 0.5567185 & 1 &  0.061238097 & CO & EP400 & EP400 - AKT1 \\\\\n",
       "\t6 & AKT2  &  3.308704e-02 & 0.0162232109 & 0.5490480 & 1 & 0.83567735 & 1 & 0.9856920 & 1.0000000 & 1 &  0.016863824 & CO & EP400 & EP400 - AKT2 \\\\\n",
       "\\end{tabular}\n"
      ],
      "text/markdown": [
       "\n",
       "A data.frame: 6 × 14\n",
       "\n",
       "| <!--/--> | gene_name &lt;chr&gt; | num.drivers.group1 &lt;dbl&gt; | num.drivers.group2 &lt;dbl&gt; | pmis &lt;dbl&gt; | ptrunc &lt;dbl&gt; | pall &lt;dbl&gt; | pind &lt;dbl&gt; | pglobal &lt;dbl&gt; | qall &lt;dbl&gt; | qglobal &lt;dbl&gt; | DeltaNd &lt;dbl&gt; | type &lt;chr&gt; | split_gene &lt;chr&gt; | pair &lt;chr&gt; |\n",
       "|---|---|---|---|---|---|---|---|---|---|---|---|---|---|---|\n",
       "| 1 | ABL1  |  2.650543e-02 | 0.0009875042 | 0.4712079 | 1 | 0.77138244 | 1 | 0.9716109 | 1.0000000 | 1 |  0.025517929 | CO | EP400 | EP400 - ABL1  |\n",
       "| 2 | ACTG1 | -9.009542e-05 | 0.0107835776 | 0.8769490 | 1 | 0.98808415 | 1 | 0.9999287 | 1.0000000 | 1 | -0.010873673 | ME | EP400 | EP400 - ACTG1 |\n",
       "| 3 | ACVR1 | -7.785338e-04 | 0.0134844626 | 0.8564205 | 1 | 0.98376493 | 1 | 0.9998675 | 1.0000000 | 1 | -0.014262996 | ME | EP400 | EP400 - ACVR1 |\n",
       "| 4 | AJUBA | -3.775796e-04 | 0.0051549760 | 0.9113446 | 1 | 0.99382058 | 1 | 0.9999809 | 1.0000000 | 1 | -0.005532556 | ME | EP400 | EP400 - AJUBA |\n",
       "| 5 | AKT1  |  6.643469e-02 | 0.0051965984 | 0.0241362 | 1 | 0.07867662 | 1 | 0.2787048 | 0.5567185 | 1 |  0.061238097 | CO | EP400 | EP400 - AKT1  |\n",
       "| 6 | AKT2  |  3.308704e-02 | 0.0162232109 | 0.5490480 | 1 | 0.83567735 | 1 | 0.9856920 | 1.0000000 | 1 |  0.016863824 | CO | EP400 | EP400 - AKT2  |\n",
       "\n"
      ],
      "text/plain": [
       "  gene_name num.drivers.group1 num.drivers.group2 pmis      ptrunc pall      \n",
       "1 ABL1       2.650543e-02      0.0009875042       0.4712079 1      0.77138244\n",
       "2 ACTG1     -9.009542e-05      0.0107835776       0.8769490 1      0.98808415\n",
       "3 ACVR1     -7.785338e-04      0.0134844626       0.8564205 1      0.98376493\n",
       "4 AJUBA     -3.775796e-04      0.0051549760       0.9113446 1      0.99382058\n",
       "5 AKT1       6.643469e-02      0.0051965984       0.0241362 1      0.07867662\n",
       "6 AKT2       3.308704e-02      0.0162232109       0.5490480 1      0.83567735\n",
       "  pind pglobal   qall      qglobal DeltaNd      type split_gene pair         \n",
       "1 1    0.9716109 1.0000000 1        0.025517929 CO   EP400      EP400 - ABL1 \n",
       "2 1    0.9999287 1.0000000 1       -0.010873673 ME   EP400      EP400 - ACTG1\n",
       "3 1    0.9998675 1.0000000 1       -0.014262996 ME   EP400      EP400 - ACVR1\n",
       "4 1    0.9999809 1.0000000 1       -0.005532556 ME   EP400      EP400 - AJUBA\n",
       "5 1    0.2787048 0.5567185 1        0.061238097 CO   EP400      EP400 - AKT1 \n",
       "6 1    0.9856920 1.0000000 1        0.016863824 CO   EP400      EP400 - AKT2 "
      ]
     },
     "metadata": {},
     "output_type": "display_data"
    }
   ],
   "source": [
    "head(boot_results[[1]])"
   ]
  },
  {
   "cell_type": "code",
   "execution_count": 95,
   "id": "7a5d61eb-85d6-4792-97b7-653cac82475f",
   "metadata": {},
   "outputs": [],
   "source": [
    "selectX_100_pct_significnat_results <- select_orginal %>% filter(gene_name!=split_gene) %>% mutate('id'=case_when(gene_name>split_gene ~ paste(split_gene,gene_name,sep=\" - \"),\n",
    "                                       gene_name<split_gene ~ paste(gene_name,split_gene,sep=\" - \"))) %>%  filter(qall<=0.05) "
   ]
  },
  {
   "cell_type": "code",
   "execution_count": 96,
   "id": "5e5161b4-6a7c-4089-8fb8-f86cfe4656dd",
   "metadata": {},
   "outputs": [],
   "source": [
    "selectX_100_pct_significnat_results <- selectX_100_pct_significnat_results[!duplicated(selectX_100_pct_significnat_results$id),]"
   ]
  },
  {
   "cell_type": "code",
   "execution_count": 97,
   "id": "74a5262d-62a2-4884-8738-b29329a67566",
   "metadata": {},
   "outputs": [
    {
     "data": {
      "text/html": [
       "<style>\n",
       ".list-inline {list-style: none; margin:0; padding: 0}\n",
       ".list-inline>li {display: inline-block}\n",
       ".list-inline>li:not(:last-child)::after {content: \"\\00b7\"; padding: 0 .5ex}\n",
       "</style>\n",
       "<ol class=list-inline><li>442</li><li>15</li></ol>\n"
      ],
      "text/latex": [
       "\\begin{enumerate*}\n",
       "\\item 442\n",
       "\\item 15\n",
       "\\end{enumerate*}\n"
      ],
      "text/markdown": [
       "1. 442\n",
       "2. 15\n",
       "\n",
       "\n"
      ],
      "text/plain": [
       "[1] 442  15"
      ]
     },
     "metadata": {},
     "output_type": "display_data"
    }
   ],
   "source": [
    "dim(selectX_100_pct_significnat_results)"
   ]
  },
  {
   "cell_type": "code",
   "execution_count": 98,
   "id": "a7ad9390-d139-48a5-862e-98ffb11f04e4",
   "metadata": {},
   "outputs": [
    {
     "data": {
      "text/html": [
       "<table class=\"dataframe\">\n",
       "<caption>A data.frame: 1 × 1</caption>\n",
       "<thead>\n",
       "\t<tr><th scope=col>n</th></tr>\n",
       "\t<tr><th scope=col>&lt;int&gt;</th></tr>\n",
       "</thead>\n",
       "<tbody>\n",
       "\t<tr><td>442</td></tr>\n",
       "</tbody>\n",
       "</table>\n"
      ],
      "text/latex": [
       "A data.frame: 1 × 1\n",
       "\\begin{tabular}{l}\n",
       " n\\\\\n",
       " <int>\\\\\n",
       "\\hline\n",
       "\t 442\\\\\n",
       "\\end{tabular}\n"
      ],
      "text/markdown": [
       "\n",
       "A data.frame: 1 × 1\n",
       "\n",
       "| n &lt;int&gt; |\n",
       "|---|\n",
       "| 442 |\n",
       "\n"
      ],
      "text/plain": [
       "  n  \n",
       "1 442"
      ]
     },
     "metadata": {},
     "output_type": "display_data"
    }
   ],
   "source": [
    "selectX_100_pct_significnat_results %>% count()"
   ]
  },
  {
   "cell_type": "code",
   "execution_count": 99,
   "id": "eda9f912-eb2f-4724-90c0-29c7ac39da40",
   "metadata": {},
   "outputs": [],
   "source": [
    "score_df<-data.frame('pairs'=selectX_100_pct_significnat_results$id)\n",
    "rownames(score_df)<-score_df$pairs\n",
    "score_df$Run_100<-1"
   ]
  },
  {
   "cell_type": "code",
   "execution_count": 100,
   "id": "e75ee56b-e438-48dc-918a-387dbfefb22e",
   "metadata": {},
   "outputs": [
    {
     "data": {
      "text/html": [
       "<table class=\"dataframe\">\n",
       "<caption>A data.frame: 6 × 2</caption>\n",
       "<thead>\n",
       "\t<tr><th></th><th scope=col>pairs</th><th scope=col>Run_100</th></tr>\n",
       "\t<tr><th></th><th scope=col>&lt;chr&gt;</th><th scope=col>&lt;dbl&gt;</th></tr>\n",
       "</thead>\n",
       "<tbody>\n",
       "\t<tr><th scope=row>AMER1 - EP400</th><td>AMER1 - EP400 </td><td>1</td></tr>\n",
       "\t<tr><th scope=row>DICER1 - EP400</th><td>DICER1 - EP400</td><td>1</td></tr>\n",
       "\t<tr><th scope=row>EP400 - PDGFRA</th><td>EP400 - PDGFRA</td><td>1</td></tr>\n",
       "\t<tr><th scope=row>EP400 - PLCG2</th><td>EP400 - PLCG2 </td><td>1</td></tr>\n",
       "\t<tr><th scope=row>EP400 - PTPRD</th><td>EP400 - PTPRD </td><td>1</td></tr>\n",
       "\t<tr><th scope=row>EP400 - PTPRT</th><td>EP400 - PTPRT </td><td>1</td></tr>\n",
       "</tbody>\n",
       "</table>\n"
      ],
      "text/latex": [
       "A data.frame: 6 × 2\n",
       "\\begin{tabular}{r|ll}\n",
       "  & pairs & Run\\_100\\\\\n",
       "  & <chr> & <dbl>\\\\\n",
       "\\hline\n",
       "\tAMER1 - EP400 & AMER1 - EP400  & 1\\\\\n",
       "\tDICER1 - EP400 & DICER1 - EP400 & 1\\\\\n",
       "\tEP400 - PDGFRA & EP400 - PDGFRA & 1\\\\\n",
       "\tEP400 - PLCG2 & EP400 - PLCG2  & 1\\\\\n",
       "\tEP400 - PTPRD & EP400 - PTPRD  & 1\\\\\n",
       "\tEP400 - PTPRT & EP400 - PTPRT  & 1\\\\\n",
       "\\end{tabular}\n"
      ],
      "text/markdown": [
       "\n",
       "A data.frame: 6 × 2\n",
       "\n",
       "| <!--/--> | pairs &lt;chr&gt; | Run_100 &lt;dbl&gt; |\n",
       "|---|---|---|\n",
       "| AMER1 - EP400 | AMER1 - EP400  | 1 |\n",
       "| DICER1 - EP400 | DICER1 - EP400 | 1 |\n",
       "| EP400 - PDGFRA | EP400 - PDGFRA | 1 |\n",
       "| EP400 - PLCG2 | EP400 - PLCG2  | 1 |\n",
       "| EP400 - PTPRD | EP400 - PTPRD  | 1 |\n",
       "| EP400 - PTPRT | EP400 - PTPRT  | 1 |\n",
       "\n"
      ],
      "text/plain": [
       "               pairs          Run_100\n",
       "AMER1 - EP400  AMER1 - EP400  1      \n",
       "DICER1 - EP400 DICER1 - EP400 1      \n",
       "EP400 - PDGFRA EP400 - PDGFRA 1      \n",
       "EP400 - PLCG2  EP400 - PLCG2  1      \n",
       "EP400 - PTPRD  EP400 - PTPRD  1      \n",
       "EP400 - PTPRT  EP400 - PTPRT  1      "
      ]
     },
     "metadata": {},
     "output_type": "display_data"
    }
   ],
   "source": [
    "head(score_df)"
   ]
  },
  {
   "cell_type": "code",
   "execution_count": 101,
   "id": "27496173-3479-401c-9af2-25d8ac534976",
   "metadata": {},
   "outputs": [
    {
     "data": {
      "text/html": [
       "<style>\n",
       ".list-inline {list-style: none; margin:0; padding: 0}\n",
       ".list-inline>li {display: inline-block}\n",
       ".list-inline>li:not(:last-child)::after {content: \"\\00b7\"; padding: 0 .5ex}\n",
       "</style>\n",
       "<ol class=list-inline><li>442</li><li>2</li></ol>\n"
      ],
      "text/latex": [
       "\\begin{enumerate*}\n",
       "\\item 442\n",
       "\\item 2\n",
       "\\end{enumerate*}\n"
      ],
      "text/markdown": [
       "1. 442\n",
       "2. 2\n",
       "\n",
       "\n"
      ],
      "text/plain": [
       "[1] 442   2"
      ]
     },
     "metadata": {},
     "output_type": "display_data"
    }
   ],
   "source": [
    "dim(score_df)"
   ]
  },
  {
   "cell_type": "code",
   "execution_count": 102,
   "id": "55236d48-e4cb-424b-b089-0cf3cc6c1138",
   "metadata": {},
   "outputs": [],
   "source": [
    "for (i in c(1:10)){\n",
    "    score_df[[paste('Run',i,sep=\"_\")]]<-0\n",
    "    test<- boot_results[[i]] %>% filter(gene_name!=split_gene) %>% mutate('id'=case_when(gene_name>split_gene ~ paste(split_gene,gene_name,sep=\" - \"),\n",
    "                                       gene_name<split_gene ~ paste(gene_name,split_gene,sep=\" - \"))) %>%  filter(qall<=0.05) \n",
    "    test<- test[!duplicated(test$id),]\n",
    "    temp <- unique(test$id)\n",
    "    pairs <- intersect(score_df$pairs,temp)\n",
    "    score_df[pairs,][[paste('Run',i,sep=\"_\")]]<-1\n",
    "}"
   ]
  },
  {
   "cell_type": "code",
   "execution_count": 103,
   "id": "e88d4fa7-0d6a-48d6-9460-d40591800fda",
   "metadata": {},
   "outputs": [],
   "source": [
    "score_df$Total_count<-(score_df$Run_1+score_df$Run_2+score_df$Run_3+score_df$Run_4+score_df$Run_5+score_df$Run_6+score_df$Run_7+score_df$Run_8)\n",
    "score_df$Total <- (score_df$Run_1+score_df$Run_2+score_df$Run_3+score_df$Run_4+score_df$Run_5+score_df$Run_6+score_df$Run_7+score_df$Run_8)/8"
   ]
  },
  {
   "cell_type": "code",
   "execution_count": 104,
   "id": "78893b9b-2709-4b55-8159-e7151cf8b9c0",
   "metadata": {},
   "outputs": [],
   "source": [
    "score_df$Total_count<-(score_df$Run_1+score_df$Run_2+score_df$Run_3+score_df$Run_4+score_df$Run_5+score_df$Run_6+score_df$Run_7+score_df$Run_8+score_df$Run_9+score_df$Run_10)\n",
    "score_df$Total <- (score_df$Run_1+score_df$Run_2+score_df$Run_3+score_df$Run_4+score_df$Run_5+score_df$Run_6+score_df$Run_7+score_df$Run_8+score_df$Run_9+score_df$Run_10)/10"
   ]
  },
  {
   "cell_type": "code",
   "execution_count": 105,
   "id": "3c86a314-cd0d-4c0e-94d8-dea1f0667858",
   "metadata": {
    "scrolled": true,
    "tags": []
   },
   "outputs": [
    {
     "data": {
      "text/html": [
       "<table class=\"dataframe\">\n",
       "<caption>A data.frame: 442 × 14</caption>\n",
       "<thead>\n",
       "\t<tr><th></th><th scope=col>pairs</th><th scope=col>Run_100</th><th scope=col>Run_1</th><th scope=col>Run_2</th><th scope=col>Run_3</th><th scope=col>Run_4</th><th scope=col>Run_5</th><th scope=col>Run_6</th><th scope=col>Run_7</th><th scope=col>Run_8</th><th scope=col>Run_9</th><th scope=col>Run_10</th><th scope=col>Total_count</th><th scope=col>Total</th></tr>\n",
       "\t<tr><th></th><th scope=col>&lt;chr&gt;</th><th scope=col>&lt;dbl&gt;</th><th scope=col>&lt;dbl&gt;</th><th scope=col>&lt;dbl&gt;</th><th scope=col>&lt;dbl&gt;</th><th scope=col>&lt;dbl&gt;</th><th scope=col>&lt;dbl&gt;</th><th scope=col>&lt;dbl&gt;</th><th scope=col>&lt;dbl&gt;</th><th scope=col>&lt;dbl&gt;</th><th scope=col>&lt;dbl&gt;</th><th scope=col>&lt;dbl&gt;</th><th scope=col>&lt;dbl&gt;</th><th scope=col>&lt;dbl&gt;</th></tr>\n",
       "</thead>\n",
       "<tbody>\n",
       "\t<tr><th scope=row>AMER1 - EP400</th><td>AMER1 - EP400 </td><td>1</td><td>1</td><td>0</td><td>0</td><td>0</td><td>1</td><td>0</td><td>0</td><td>0</td><td>1</td><td>1</td><td>4</td><td>0.4</td></tr>\n",
       "\t<tr><th scope=row>DICER1 - EP400</th><td>DICER1 - EP400</td><td>1</td><td>0</td><td>1</td><td>1</td><td>0</td><td>0</td><td>0</td><td>1</td><td>0</td><td>0</td><td>0</td><td>3</td><td>0.3</td></tr>\n",
       "\t<tr><th scope=row>EP400 - PDGFRA</th><td>EP400 - PDGFRA</td><td>1</td><td>1</td><td>1</td><td>1</td><td>0</td><td>1</td><td>1</td><td>1</td><td>1</td><td>0</td><td>0</td><td>7</td><td>0.7</td></tr>\n",
       "\t<tr><th scope=row>EP400 - PLCG2</th><td>EP400 - PLCG2 </td><td>1</td><td>0</td><td>0</td><td>0</td><td>1</td><td>0</td><td>0</td><td>1</td><td>0</td><td>1</td><td>1</td><td>4</td><td>0.4</td></tr>\n",
       "\t<tr><th scope=row>EP400 - PTPRD</th><td>EP400 - PTPRD </td><td>1</td><td>1</td><td>1</td><td>1</td><td>1</td><td>1</td><td>1</td><td>1</td><td>0</td><td>1</td><td>1</td><td>9</td><td>0.9</td></tr>\n",
       "\t<tr><th scope=row>EP400 - PTPRT</th><td>EP400 - PTPRT </td><td>1</td><td>1</td><td>1</td><td>1</td><td>1</td><td>1</td><td>0</td><td>0</td><td>0</td><td>0</td><td>0</td><td>5</td><td>0.5</td></tr>\n",
       "\t<tr><th scope=row>EP400 - ROS1</th><td>EP400 - ROS1  </td><td>1</td><td>0</td><td>1</td><td>0</td><td>1</td><td>0</td><td>1</td><td>0</td><td>1</td><td>0</td><td>0</td><td>4</td><td>0.4</td></tr>\n",
       "\t<tr><th scope=row>EP400 - SETBP1</th><td>EP400 - SETBP1</td><td>1</td><td>1</td><td>1</td><td>1</td><td>0</td><td>1</td><td>1</td><td>1</td><td>1</td><td>1</td><td>1</td><td>9</td><td>0.9</td></tr>\n",
       "\t<tr><th scope=row>EP400 - STAT2</th><td>EP400 - STAT2 </td><td>1</td><td>1</td><td>0</td><td>1</td><td>1</td><td>0</td><td>1</td><td>1</td><td>0</td><td>1</td><td>1</td><td>7</td><td>0.7</td></tr>\n",
       "\t<tr><th scope=row>AMER1 - NOTCH4</th><td>AMER1 - NOTCH4</td><td>1</td><td>0</td><td>0</td><td>0</td><td>1</td><td>0</td><td>0</td><td>1</td><td>1</td><td>0</td><td>0</td><td>3</td><td>0.3</td></tr>\n",
       "\t<tr><th scope=row>FBXW7 - NOTCH4</th><td>FBXW7 - NOTCH4</td><td>1</td><td>1</td><td>1</td><td>0</td><td>1</td><td>1</td><td>1</td><td>1</td><td>1</td><td>1</td><td>1</td><td>9</td><td>0.9</td></tr>\n",
       "\t<tr><th scope=row>GAB1 - NOTCH4</th><td>GAB1 - NOTCH4 </td><td>1</td><td>1</td><td>0</td><td>0</td><td>1</td><td>0</td><td>1</td><td>1</td><td>1</td><td>0</td><td>0</td><td>5</td><td>0.5</td></tr>\n",
       "\t<tr><th scope=row>IKZF1 - NOTCH4</th><td>IKZF1 - NOTCH4</td><td>1</td><td>0</td><td>0</td><td>0</td><td>1</td><td>0</td><td>1</td><td>0</td><td>0</td><td>0</td><td>0</td><td>2</td><td>0.2</td></tr>\n",
       "\t<tr><th scope=row>JAK3 - NOTCH4</th><td>JAK3 - NOTCH4 </td><td>1</td><td>1</td><td>1</td><td>1</td><td>1</td><td>0</td><td>1</td><td>1</td><td>0</td><td>0</td><td>0</td><td>6</td><td>0.6</td></tr>\n",
       "\t<tr><th scope=row>KMT2D - NOTCH4</th><td>KMT2D - NOTCH4</td><td>1</td><td>1</td><td>0</td><td>1</td><td>0</td><td>1</td><td>1</td><td>0</td><td>1</td><td>1</td><td>1</td><td>7</td><td>0.7</td></tr>\n",
       "\t<tr><th scope=row>NOTCH4 - NTRK3</th><td>NOTCH4 - NTRK3</td><td>1</td><td>0</td><td>1</td><td>0</td><td>1</td><td>0</td><td>1</td><td>0</td><td>0</td><td>0</td><td>0</td><td>3</td><td>0.3</td></tr>\n",
       "\t<tr><th scope=row>NOTCH4 - PLCG2</th><td>NOTCH4 - PLCG2</td><td>1</td><td>0</td><td>1</td><td>1</td><td>1</td><td>1</td><td>1</td><td>1</td><td>1</td><td>1</td><td>1</td><td>9</td><td>0.9</td></tr>\n",
       "\t<tr><th scope=row>NOTCH4 - RET</th><td>NOTCH4 - RET  </td><td>1</td><td>1</td><td>1</td><td>0</td><td>1</td><td>0</td><td>0</td><td>0</td><td>0</td><td>1</td><td>1</td><td>5</td><td>0.5</td></tr>\n",
       "\t<tr><th scope=row>NOTCH4 - ROS1</th><td>NOTCH4 - ROS1 </td><td>1</td><td>0</td><td>0</td><td>1</td><td>1</td><td>1</td><td>0</td><td>0</td><td>1</td><td>1</td><td>1</td><td>6</td><td>0.6</td></tr>\n",
       "\t<tr><th scope=row>NOTCH4 - TBX3</th><td>NOTCH4 - TBX3 </td><td>1</td><td>1</td><td>0</td><td>1</td><td>0</td><td>0</td><td>0</td><td>0</td><td>0</td><td>0</td><td>0</td><td>2</td><td>0.2</td></tr>\n",
       "\t<tr><th scope=row>NOTCH4 - TSC1</th><td>NOTCH4 - TSC1 </td><td>1</td><td>0</td><td>0</td><td>0</td><td>0</td><td>0</td><td>0</td><td>1</td><td>1</td><td>1</td><td>1</td><td>4</td><td>0.4</td></tr>\n",
       "\t<tr><th scope=row>NOTCH4 - USP8</th><td>NOTCH4 - USP8 </td><td>1</td><td>1</td><td>0</td><td>0</td><td>0</td><td>0</td><td>1</td><td>1</td><td>0</td><td>0</td><td>0</td><td>3</td><td>0.3</td></tr>\n",
       "\t<tr><th scope=row>MED12 - MGA</th><td>MED12 - MGA   </td><td>1</td><td>1</td><td>0</td><td>1</td><td>0</td><td>0</td><td>1</td><td>1</td><td>1</td><td>1</td><td>1</td><td>7</td><td>0.7</td></tr>\n",
       "\t<tr><th scope=row>MGA - NF1</th><td>MGA - NF1     </td><td>1</td><td>0</td><td>0</td><td>0</td><td>0</td><td>1</td><td>0</td><td>0</td><td>1</td><td>0</td><td>0</td><td>2</td><td>0.2</td></tr>\n",
       "\t<tr><th scope=row>MGA - PLCG2</th><td>MGA - PLCG2   </td><td>1</td><td>0</td><td>0</td><td>1</td><td>1</td><td>1</td><td>1</td><td>1</td><td>1</td><td>1</td><td>1</td><td>8</td><td>0.8</td></tr>\n",
       "\t<tr><th scope=row>MGA - PTPRT</th><td>MGA - PTPRT   </td><td>1</td><td>1</td><td>0</td><td>1</td><td>0</td><td>1</td><td>0</td><td>0</td><td>1</td><td>1</td><td>1</td><td>6</td><td>0.6</td></tr>\n",
       "\t<tr><th scope=row>MGA - RELN</th><td>MGA - RELN    </td><td>1</td><td>0</td><td>0</td><td>1</td><td>0</td><td>1</td><td>1</td><td>0</td><td>0</td><td>1</td><td>1</td><td>5</td><td>0.5</td></tr>\n",
       "\t<tr><th scope=row>MGA - STAG2</th><td>MGA - STAG2   </td><td>1</td><td>0</td><td>0</td><td>1</td><td>1</td><td>1</td><td>1</td><td>1</td><td>1</td><td>1</td><td>1</td><td>8</td><td>0.8</td></tr>\n",
       "\t<tr><th scope=row>ABL1 - ZFHX3</th><td>ABL1 - ZFHX3  </td><td>1</td><td>1</td><td>0</td><td>0</td><td>0</td><td>1</td><td>0</td><td>0</td><td>1</td><td>0</td><td>0</td><td>3</td><td>0.3</td></tr>\n",
       "\t<tr><th scope=row>ASXL1 - ZFHX3</th><td>ASXL1 - ZFHX3 </td><td>1</td><td>0</td><td>0</td><td>0</td><td>0</td><td>1</td><td>1</td><td>0</td><td>0</td><td>0</td><td>0</td><td>2</td><td>0.2</td></tr>\n",
       "\t<tr><th scope=row>⋮</th><td>⋮</td><td>⋮</td><td>⋮</td><td>⋮</td><td>⋮</td><td>⋮</td><td>⋮</td><td>⋮</td><td>⋮</td><td>⋮</td><td>⋮</td><td>⋮</td><td>⋮</td><td>⋮</td></tr>\n",
       "\t<tr><th scope=row>BRCA2 - SMARCA2</th><td>BRCA2 - SMARCA2</td><td>1</td><td>0</td><td>0</td><td>1</td><td>1</td><td>0</td><td>0</td><td>1</td><td>1</td><td>1</td><td>1</td><td> 6</td><td>0.6</td></tr>\n",
       "\t<tr><th scope=row>BRAF - INPP4B</th><td>BRAF - INPP4B  </td><td>1</td><td>1</td><td>1</td><td>1</td><td>0</td><td>0</td><td>1</td><td>1</td><td>1</td><td>0</td><td>0</td><td> 6</td><td>0.6</td></tr>\n",
       "\t<tr><th scope=row>BRAF - IRF8</th><td>BRAF - IRF8    </td><td>1</td><td>0</td><td>0</td><td>0</td><td>0</td><td>0</td><td>0</td><td>0</td><td>0</td><td>0</td><td>0</td><td> 0</td><td>0.0</td></tr>\n",
       "\t<tr><th scope=row>BRAF - PDGFRA</th><td>BRAF - PDGFRA  </td><td>1</td><td>0</td><td>1</td><td>1</td><td>1</td><td>1</td><td>0</td><td>0</td><td>0</td><td>1</td><td>1</td><td> 6</td><td>0.6</td></tr>\n",
       "\t<tr><th scope=row>BRAF - PTPRD</th><td>BRAF - PTPRD   </td><td>1</td><td>1</td><td>1</td><td>1</td><td>1</td><td>1</td><td>1</td><td>1</td><td>1</td><td>1</td><td>1</td><td>10</td><td>1.0</td></tr>\n",
       "\t<tr><th scope=row>BRAF - PTPRT</th><td>BRAF - PTPRT   </td><td>1</td><td>1</td><td>1</td><td>1</td><td>0</td><td>1</td><td>1</td><td>1</td><td>1</td><td>1</td><td>1</td><td> 9</td><td>0.9</td></tr>\n",
       "\t<tr><th scope=row>BRAF - TP63</th><td>BRAF - TP63    </td><td>1</td><td>0</td><td>0</td><td>0</td><td>1</td><td>0</td><td>0</td><td>0</td><td>0</td><td>0</td><td>0</td><td> 1</td><td>0.1</td></tr>\n",
       "\t<tr><th scope=row>ARHGAP35 - ATM</th><td>ARHGAP35 - ATM </td><td>1</td><td>1</td><td>1</td><td>0</td><td>0</td><td>1</td><td>0</td><td>0</td><td>0</td><td>0</td><td>0</td><td> 3</td><td>0.3</td></tr>\n",
       "\t<tr><th scope=row>ATM - DICER1</th><td>ATM - DICER1   </td><td>1</td><td>0</td><td>0</td><td>0</td><td>0</td><td>0</td><td>0</td><td>0</td><td>0</td><td>0</td><td>0</td><td> 0</td><td>0.0</td></tr>\n",
       "\t<tr><th scope=row>ATM - FANCD2</th><td>ATM - FANCD2   </td><td>1</td><td>0</td><td>0</td><td>0</td><td>0</td><td>0</td><td>0</td><td>0</td><td>1</td><td>0</td><td>0</td><td> 1</td><td>0.1</td></tr>\n",
       "\t<tr><th scope=row>ATM - INPP4B</th><td>ATM - INPP4B   </td><td>1</td><td>1</td><td>0</td><td>1</td><td>0</td><td>0</td><td>1</td><td>0</td><td>0</td><td>0</td><td>0</td><td> 3</td><td>0.3</td></tr>\n",
       "\t<tr><th scope=row>ATM - IRF8</th><td>ATM - IRF8     </td><td>1</td><td>0</td><td>0</td><td>0</td><td>0</td><td>0</td><td>0</td><td>0</td><td>0</td><td>0</td><td>0</td><td> 0</td><td>0.0</td></tr>\n",
       "\t<tr><th scope=row>ATM - PTPRT</th><td>ATM - PTPRT    </td><td>1</td><td>1</td><td>1</td><td>0</td><td>0</td><td>1</td><td>0</td><td>0</td><td>1</td><td>0</td><td>0</td><td> 4</td><td>0.4</td></tr>\n",
       "\t<tr><th scope=row>ATM - ROBO1</th><td>ATM - ROBO1    </td><td>1</td><td>0</td><td>0</td><td>0</td><td>0</td><td>0</td><td>0</td><td>0</td><td>0</td><td>1</td><td>1</td><td> 2</td><td>0.2</td></tr>\n",
       "\t<tr><th scope=row>APC - ASXL1</th><td>APC - ASXL1    </td><td>1</td><td>0</td><td>1</td><td>0</td><td>0</td><td>1</td><td>1</td><td>0</td><td>1</td><td>0</td><td>0</td><td> 4</td><td>0.4</td></tr>\n",
       "\t<tr><th scope=row>APC - BCL11B</th><td>APC - BCL11B   </td><td>1</td><td>0</td><td>0</td><td>0</td><td>0</td><td>0</td><td>0</td><td>0</td><td>0</td><td>0</td><td>0</td><td> 0</td><td>0.0</td></tr>\n",
       "\t<tr><th scope=row>APC - DICER1</th><td>APC - DICER1   </td><td>1</td><td>0</td><td>0</td><td>1</td><td>0</td><td>0</td><td>0</td><td>1</td><td>0</td><td>1</td><td>1</td><td> 4</td><td>0.4</td></tr>\n",
       "\t<tr><th scope=row>APC - GRIN2A</th><td>APC - GRIN2A   </td><td>1</td><td>1</td><td>0</td><td>0</td><td>1</td><td>0</td><td>0</td><td>0</td><td>1</td><td>0</td><td>0</td><td> 3</td><td>0.3</td></tr>\n",
       "\t<tr><th scope=row>APC - INPP4B</th><td>APC - INPP4B   </td><td>1</td><td>1</td><td>1</td><td>1</td><td>0</td><td>0</td><td>1</td><td>1</td><td>1</td><td>0</td><td>0</td><td> 6</td><td>0.6</td></tr>\n",
       "\t<tr><th scope=row>APC - PDGFRB</th><td>APC - PDGFRB   </td><td>1</td><td>1</td><td>0</td><td>0</td><td>1</td><td>0</td><td>1</td><td>0</td><td>0</td><td>0</td><td>0</td><td> 3</td><td>0.3</td></tr>\n",
       "\t<tr><th scope=row>APC - PTPN11</th><td>APC - PTPN11   </td><td>1</td><td>1</td><td>0</td><td>1</td><td>1</td><td>1</td><td>0</td><td>0</td><td>0</td><td>0</td><td>0</td><td> 4</td><td>0.4</td></tr>\n",
       "\t<tr><th scope=row>APC - PTPRT</th><td>APC - PTPRT    </td><td>1</td><td>1</td><td>1</td><td>1</td><td>0</td><td>1</td><td>1</td><td>1</td><td>1</td><td>1</td><td>1</td><td> 9</td><td>0.9</td></tr>\n",
       "\t<tr><th scope=row>ALK - ASXL1</th><td>ALK - ASXL1    </td><td>1</td><td>0</td><td>0</td><td>0</td><td>0</td><td>0</td><td>1</td><td>0</td><td>0</td><td>0</td><td>0</td><td> 1</td><td>0.1</td></tr>\n",
       "\t<tr><th scope=row>ALK - CREBBP</th><td>ALK - CREBBP   </td><td>1</td><td>0</td><td>0</td><td>1</td><td>1</td><td>1</td><td>0</td><td>0</td><td>1</td><td>0</td><td>0</td><td> 4</td><td>0.4</td></tr>\n",
       "\t<tr><th scope=row>ALK - CSF1R</th><td>ALK - CSF1R    </td><td>1</td><td>0</td><td>1</td><td>0</td><td>1</td><td>0</td><td>1</td><td>1</td><td>0</td><td>1</td><td>1</td><td> 6</td><td>0.6</td></tr>\n",
       "\t<tr><th scope=row>ALK - EPHA7</th><td>ALK - EPHA7    </td><td>1</td><td>1</td><td>1</td><td>0</td><td>1</td><td>0</td><td>1</td><td>1</td><td>0</td><td>0</td><td>0</td><td> 5</td><td>0.5</td></tr>\n",
       "\t<tr><th scope=row>ALK - EPHB1</th><td>ALK - EPHB1    </td><td>1</td><td>0</td><td>1</td><td>1</td><td>0</td><td>0</td><td>1</td><td>0</td><td>0</td><td>1</td><td>1</td><td> 5</td><td>0.5</td></tr>\n",
       "\t<tr><th scope=row>ALK - ERBB4</th><td>ALK - ERBB4    </td><td>1</td><td>1</td><td>1</td><td>1</td><td>0</td><td>1</td><td>1</td><td>1</td><td>1</td><td>1</td><td>1</td><td> 9</td><td>0.9</td></tr>\n",
       "\t<tr><th scope=row>ALK - ROS1</th><td>ALK - ROS1     </td><td>1</td><td>1</td><td>1</td><td>1</td><td>0</td><td>1</td><td>1</td><td>0</td><td>1</td><td>1</td><td>1</td><td> 8</td><td>0.8</td></tr>\n",
       "\t<tr><th scope=row>ALK - SETBP1</th><td>ALK - SETBP1   </td><td>1</td><td>1</td><td>1</td><td>1</td><td>0</td><td>1</td><td>1</td><td>1</td><td>1</td><td>1</td><td>1</td><td> 9</td><td>0.9</td></tr>\n",
       "</tbody>\n",
       "</table>\n"
      ],
      "text/latex": [
       "A data.frame: 442 × 14\n",
       "\\begin{tabular}{r|llllllllllllll}\n",
       "  & pairs & Run\\_100 & Run\\_1 & Run\\_2 & Run\\_3 & Run\\_4 & Run\\_5 & Run\\_6 & Run\\_7 & Run\\_8 & Run\\_9 & Run\\_10 & Total\\_count & Total\\\\\n",
       "  & <chr> & <dbl> & <dbl> & <dbl> & <dbl> & <dbl> & <dbl> & <dbl> & <dbl> & <dbl> & <dbl> & <dbl> & <dbl> & <dbl>\\\\\n",
       "\\hline\n",
       "\tAMER1 - EP400 & AMER1 - EP400  & 1 & 1 & 0 & 0 & 0 & 1 & 0 & 0 & 0 & 1 & 1 & 4 & 0.4\\\\\n",
       "\tDICER1 - EP400 & DICER1 - EP400 & 1 & 0 & 1 & 1 & 0 & 0 & 0 & 1 & 0 & 0 & 0 & 3 & 0.3\\\\\n",
       "\tEP400 - PDGFRA & EP400 - PDGFRA & 1 & 1 & 1 & 1 & 0 & 1 & 1 & 1 & 1 & 0 & 0 & 7 & 0.7\\\\\n",
       "\tEP400 - PLCG2 & EP400 - PLCG2  & 1 & 0 & 0 & 0 & 1 & 0 & 0 & 1 & 0 & 1 & 1 & 4 & 0.4\\\\\n",
       "\tEP400 - PTPRD & EP400 - PTPRD  & 1 & 1 & 1 & 1 & 1 & 1 & 1 & 1 & 0 & 1 & 1 & 9 & 0.9\\\\\n",
       "\tEP400 - PTPRT & EP400 - PTPRT  & 1 & 1 & 1 & 1 & 1 & 1 & 0 & 0 & 0 & 0 & 0 & 5 & 0.5\\\\\n",
       "\tEP400 - ROS1 & EP400 - ROS1   & 1 & 0 & 1 & 0 & 1 & 0 & 1 & 0 & 1 & 0 & 0 & 4 & 0.4\\\\\n",
       "\tEP400 - SETBP1 & EP400 - SETBP1 & 1 & 1 & 1 & 1 & 0 & 1 & 1 & 1 & 1 & 1 & 1 & 9 & 0.9\\\\\n",
       "\tEP400 - STAT2 & EP400 - STAT2  & 1 & 1 & 0 & 1 & 1 & 0 & 1 & 1 & 0 & 1 & 1 & 7 & 0.7\\\\\n",
       "\tAMER1 - NOTCH4 & AMER1 - NOTCH4 & 1 & 0 & 0 & 0 & 1 & 0 & 0 & 1 & 1 & 0 & 0 & 3 & 0.3\\\\\n",
       "\tFBXW7 - NOTCH4 & FBXW7 - NOTCH4 & 1 & 1 & 1 & 0 & 1 & 1 & 1 & 1 & 1 & 1 & 1 & 9 & 0.9\\\\\n",
       "\tGAB1 - NOTCH4 & GAB1 - NOTCH4  & 1 & 1 & 0 & 0 & 1 & 0 & 1 & 1 & 1 & 0 & 0 & 5 & 0.5\\\\\n",
       "\tIKZF1 - NOTCH4 & IKZF1 - NOTCH4 & 1 & 0 & 0 & 0 & 1 & 0 & 1 & 0 & 0 & 0 & 0 & 2 & 0.2\\\\\n",
       "\tJAK3 - NOTCH4 & JAK3 - NOTCH4  & 1 & 1 & 1 & 1 & 1 & 0 & 1 & 1 & 0 & 0 & 0 & 6 & 0.6\\\\\n",
       "\tKMT2D - NOTCH4 & KMT2D - NOTCH4 & 1 & 1 & 0 & 1 & 0 & 1 & 1 & 0 & 1 & 1 & 1 & 7 & 0.7\\\\\n",
       "\tNOTCH4 - NTRK3 & NOTCH4 - NTRK3 & 1 & 0 & 1 & 0 & 1 & 0 & 1 & 0 & 0 & 0 & 0 & 3 & 0.3\\\\\n",
       "\tNOTCH4 - PLCG2 & NOTCH4 - PLCG2 & 1 & 0 & 1 & 1 & 1 & 1 & 1 & 1 & 1 & 1 & 1 & 9 & 0.9\\\\\n",
       "\tNOTCH4 - RET & NOTCH4 - RET   & 1 & 1 & 1 & 0 & 1 & 0 & 0 & 0 & 0 & 1 & 1 & 5 & 0.5\\\\\n",
       "\tNOTCH4 - ROS1 & NOTCH4 - ROS1  & 1 & 0 & 0 & 1 & 1 & 1 & 0 & 0 & 1 & 1 & 1 & 6 & 0.6\\\\\n",
       "\tNOTCH4 - TBX3 & NOTCH4 - TBX3  & 1 & 1 & 0 & 1 & 0 & 0 & 0 & 0 & 0 & 0 & 0 & 2 & 0.2\\\\\n",
       "\tNOTCH4 - TSC1 & NOTCH4 - TSC1  & 1 & 0 & 0 & 0 & 0 & 0 & 0 & 1 & 1 & 1 & 1 & 4 & 0.4\\\\\n",
       "\tNOTCH4 - USP8 & NOTCH4 - USP8  & 1 & 1 & 0 & 0 & 0 & 0 & 1 & 1 & 0 & 0 & 0 & 3 & 0.3\\\\\n",
       "\tMED12 - MGA & MED12 - MGA    & 1 & 1 & 0 & 1 & 0 & 0 & 1 & 1 & 1 & 1 & 1 & 7 & 0.7\\\\\n",
       "\tMGA - NF1 & MGA - NF1      & 1 & 0 & 0 & 0 & 0 & 1 & 0 & 0 & 1 & 0 & 0 & 2 & 0.2\\\\\n",
       "\tMGA - PLCG2 & MGA - PLCG2    & 1 & 0 & 0 & 1 & 1 & 1 & 1 & 1 & 1 & 1 & 1 & 8 & 0.8\\\\\n",
       "\tMGA - PTPRT & MGA - PTPRT    & 1 & 1 & 0 & 1 & 0 & 1 & 0 & 0 & 1 & 1 & 1 & 6 & 0.6\\\\\n",
       "\tMGA - RELN & MGA - RELN     & 1 & 0 & 0 & 1 & 0 & 1 & 1 & 0 & 0 & 1 & 1 & 5 & 0.5\\\\\n",
       "\tMGA - STAG2 & MGA - STAG2    & 1 & 0 & 0 & 1 & 1 & 1 & 1 & 1 & 1 & 1 & 1 & 8 & 0.8\\\\\n",
       "\tABL1 - ZFHX3 & ABL1 - ZFHX3   & 1 & 1 & 0 & 0 & 0 & 1 & 0 & 0 & 1 & 0 & 0 & 3 & 0.3\\\\\n",
       "\tASXL1 - ZFHX3 & ASXL1 - ZFHX3  & 1 & 0 & 0 & 0 & 0 & 1 & 1 & 0 & 0 & 0 & 0 & 2 & 0.2\\\\\n",
       "\t⋮ & ⋮ & ⋮ & ⋮ & ⋮ & ⋮ & ⋮ & ⋮ & ⋮ & ⋮ & ⋮ & ⋮ & ⋮ & ⋮ & ⋮\\\\\n",
       "\tBRCA2 - SMARCA2 & BRCA2 - SMARCA2 & 1 & 0 & 0 & 1 & 1 & 0 & 0 & 1 & 1 & 1 & 1 &  6 & 0.6\\\\\n",
       "\tBRAF - INPP4B & BRAF - INPP4B   & 1 & 1 & 1 & 1 & 0 & 0 & 1 & 1 & 1 & 0 & 0 &  6 & 0.6\\\\\n",
       "\tBRAF - IRF8 & BRAF - IRF8     & 1 & 0 & 0 & 0 & 0 & 0 & 0 & 0 & 0 & 0 & 0 &  0 & 0.0\\\\\n",
       "\tBRAF - PDGFRA & BRAF - PDGFRA   & 1 & 0 & 1 & 1 & 1 & 1 & 0 & 0 & 0 & 1 & 1 &  6 & 0.6\\\\\n",
       "\tBRAF - PTPRD & BRAF - PTPRD    & 1 & 1 & 1 & 1 & 1 & 1 & 1 & 1 & 1 & 1 & 1 & 10 & 1.0\\\\\n",
       "\tBRAF - PTPRT & BRAF - PTPRT    & 1 & 1 & 1 & 1 & 0 & 1 & 1 & 1 & 1 & 1 & 1 &  9 & 0.9\\\\\n",
       "\tBRAF - TP63 & BRAF - TP63     & 1 & 0 & 0 & 0 & 1 & 0 & 0 & 0 & 0 & 0 & 0 &  1 & 0.1\\\\\n",
       "\tARHGAP35 - ATM & ARHGAP35 - ATM  & 1 & 1 & 1 & 0 & 0 & 1 & 0 & 0 & 0 & 0 & 0 &  3 & 0.3\\\\\n",
       "\tATM - DICER1 & ATM - DICER1    & 1 & 0 & 0 & 0 & 0 & 0 & 0 & 0 & 0 & 0 & 0 &  0 & 0.0\\\\\n",
       "\tATM - FANCD2 & ATM - FANCD2    & 1 & 0 & 0 & 0 & 0 & 0 & 0 & 0 & 1 & 0 & 0 &  1 & 0.1\\\\\n",
       "\tATM - INPP4B & ATM - INPP4B    & 1 & 1 & 0 & 1 & 0 & 0 & 1 & 0 & 0 & 0 & 0 &  3 & 0.3\\\\\n",
       "\tATM - IRF8 & ATM - IRF8      & 1 & 0 & 0 & 0 & 0 & 0 & 0 & 0 & 0 & 0 & 0 &  0 & 0.0\\\\\n",
       "\tATM - PTPRT & ATM - PTPRT     & 1 & 1 & 1 & 0 & 0 & 1 & 0 & 0 & 1 & 0 & 0 &  4 & 0.4\\\\\n",
       "\tATM - ROBO1 & ATM - ROBO1     & 1 & 0 & 0 & 0 & 0 & 0 & 0 & 0 & 0 & 1 & 1 &  2 & 0.2\\\\\n",
       "\tAPC - ASXL1 & APC - ASXL1     & 1 & 0 & 1 & 0 & 0 & 1 & 1 & 0 & 1 & 0 & 0 &  4 & 0.4\\\\\n",
       "\tAPC - BCL11B & APC - BCL11B    & 1 & 0 & 0 & 0 & 0 & 0 & 0 & 0 & 0 & 0 & 0 &  0 & 0.0\\\\\n",
       "\tAPC - DICER1 & APC - DICER1    & 1 & 0 & 0 & 1 & 0 & 0 & 0 & 1 & 0 & 1 & 1 &  4 & 0.4\\\\\n",
       "\tAPC - GRIN2A & APC - GRIN2A    & 1 & 1 & 0 & 0 & 1 & 0 & 0 & 0 & 1 & 0 & 0 &  3 & 0.3\\\\\n",
       "\tAPC - INPP4B & APC - INPP4B    & 1 & 1 & 1 & 1 & 0 & 0 & 1 & 1 & 1 & 0 & 0 &  6 & 0.6\\\\\n",
       "\tAPC - PDGFRB & APC - PDGFRB    & 1 & 1 & 0 & 0 & 1 & 0 & 1 & 0 & 0 & 0 & 0 &  3 & 0.3\\\\\n",
       "\tAPC - PTPN11 & APC - PTPN11    & 1 & 1 & 0 & 1 & 1 & 1 & 0 & 0 & 0 & 0 & 0 &  4 & 0.4\\\\\n",
       "\tAPC - PTPRT & APC - PTPRT     & 1 & 1 & 1 & 1 & 0 & 1 & 1 & 1 & 1 & 1 & 1 &  9 & 0.9\\\\\n",
       "\tALK - ASXL1 & ALK - ASXL1     & 1 & 0 & 0 & 0 & 0 & 0 & 1 & 0 & 0 & 0 & 0 &  1 & 0.1\\\\\n",
       "\tALK - CREBBP & ALK - CREBBP    & 1 & 0 & 0 & 1 & 1 & 1 & 0 & 0 & 1 & 0 & 0 &  4 & 0.4\\\\\n",
       "\tALK - CSF1R & ALK - CSF1R     & 1 & 0 & 1 & 0 & 1 & 0 & 1 & 1 & 0 & 1 & 1 &  6 & 0.6\\\\\n",
       "\tALK - EPHA7 & ALK - EPHA7     & 1 & 1 & 1 & 0 & 1 & 0 & 1 & 1 & 0 & 0 & 0 &  5 & 0.5\\\\\n",
       "\tALK - EPHB1 & ALK - EPHB1     & 1 & 0 & 1 & 1 & 0 & 0 & 1 & 0 & 0 & 1 & 1 &  5 & 0.5\\\\\n",
       "\tALK - ERBB4 & ALK - ERBB4     & 1 & 1 & 1 & 1 & 0 & 1 & 1 & 1 & 1 & 1 & 1 &  9 & 0.9\\\\\n",
       "\tALK - ROS1 & ALK - ROS1      & 1 & 1 & 1 & 1 & 0 & 1 & 1 & 0 & 1 & 1 & 1 &  8 & 0.8\\\\\n",
       "\tALK - SETBP1 & ALK - SETBP1    & 1 & 1 & 1 & 1 & 0 & 1 & 1 & 1 & 1 & 1 & 1 &  9 & 0.9\\\\\n",
       "\\end{tabular}\n"
      ],
      "text/markdown": [
       "\n",
       "A data.frame: 442 × 14\n",
       "\n",
       "| <!--/--> | pairs &lt;chr&gt; | Run_100 &lt;dbl&gt; | Run_1 &lt;dbl&gt; | Run_2 &lt;dbl&gt; | Run_3 &lt;dbl&gt; | Run_4 &lt;dbl&gt; | Run_5 &lt;dbl&gt; | Run_6 &lt;dbl&gt; | Run_7 &lt;dbl&gt; | Run_8 &lt;dbl&gt; | Run_9 &lt;dbl&gt; | Run_10 &lt;dbl&gt; | Total_count &lt;dbl&gt; | Total &lt;dbl&gt; |\n",
       "|---|---|---|---|---|---|---|---|---|---|---|---|---|---|---|\n",
       "| AMER1 - EP400 | AMER1 - EP400  | 1 | 1 | 0 | 0 | 0 | 1 | 0 | 0 | 0 | 1 | 1 | 4 | 0.4 |\n",
       "| DICER1 - EP400 | DICER1 - EP400 | 1 | 0 | 1 | 1 | 0 | 0 | 0 | 1 | 0 | 0 | 0 | 3 | 0.3 |\n",
       "| EP400 - PDGFRA | EP400 - PDGFRA | 1 | 1 | 1 | 1 | 0 | 1 | 1 | 1 | 1 | 0 | 0 | 7 | 0.7 |\n",
       "| EP400 - PLCG2 | EP400 - PLCG2  | 1 | 0 | 0 | 0 | 1 | 0 | 0 | 1 | 0 | 1 | 1 | 4 | 0.4 |\n",
       "| EP400 - PTPRD | EP400 - PTPRD  | 1 | 1 | 1 | 1 | 1 | 1 | 1 | 1 | 0 | 1 | 1 | 9 | 0.9 |\n",
       "| EP400 - PTPRT | EP400 - PTPRT  | 1 | 1 | 1 | 1 | 1 | 1 | 0 | 0 | 0 | 0 | 0 | 5 | 0.5 |\n",
       "| EP400 - ROS1 | EP400 - ROS1   | 1 | 0 | 1 | 0 | 1 | 0 | 1 | 0 | 1 | 0 | 0 | 4 | 0.4 |\n",
       "| EP400 - SETBP1 | EP400 - SETBP1 | 1 | 1 | 1 | 1 | 0 | 1 | 1 | 1 | 1 | 1 | 1 | 9 | 0.9 |\n",
       "| EP400 - STAT2 | EP400 - STAT2  | 1 | 1 | 0 | 1 | 1 | 0 | 1 | 1 | 0 | 1 | 1 | 7 | 0.7 |\n",
       "| AMER1 - NOTCH4 | AMER1 - NOTCH4 | 1 | 0 | 0 | 0 | 1 | 0 | 0 | 1 | 1 | 0 | 0 | 3 | 0.3 |\n",
       "| FBXW7 - NOTCH4 | FBXW7 - NOTCH4 | 1 | 1 | 1 | 0 | 1 | 1 | 1 | 1 | 1 | 1 | 1 | 9 | 0.9 |\n",
       "| GAB1 - NOTCH4 | GAB1 - NOTCH4  | 1 | 1 | 0 | 0 | 1 | 0 | 1 | 1 | 1 | 0 | 0 | 5 | 0.5 |\n",
       "| IKZF1 - NOTCH4 | IKZF1 - NOTCH4 | 1 | 0 | 0 | 0 | 1 | 0 | 1 | 0 | 0 | 0 | 0 | 2 | 0.2 |\n",
       "| JAK3 - NOTCH4 | JAK3 - NOTCH4  | 1 | 1 | 1 | 1 | 1 | 0 | 1 | 1 | 0 | 0 | 0 | 6 | 0.6 |\n",
       "| KMT2D - NOTCH4 | KMT2D - NOTCH4 | 1 | 1 | 0 | 1 | 0 | 1 | 1 | 0 | 1 | 1 | 1 | 7 | 0.7 |\n",
       "| NOTCH4 - NTRK3 | NOTCH4 - NTRK3 | 1 | 0 | 1 | 0 | 1 | 0 | 1 | 0 | 0 | 0 | 0 | 3 | 0.3 |\n",
       "| NOTCH4 - PLCG2 | NOTCH4 - PLCG2 | 1 | 0 | 1 | 1 | 1 | 1 | 1 | 1 | 1 | 1 | 1 | 9 | 0.9 |\n",
       "| NOTCH4 - RET | NOTCH4 - RET   | 1 | 1 | 1 | 0 | 1 | 0 | 0 | 0 | 0 | 1 | 1 | 5 | 0.5 |\n",
       "| NOTCH4 - ROS1 | NOTCH4 - ROS1  | 1 | 0 | 0 | 1 | 1 | 1 | 0 | 0 | 1 | 1 | 1 | 6 | 0.6 |\n",
       "| NOTCH4 - TBX3 | NOTCH4 - TBX3  | 1 | 1 | 0 | 1 | 0 | 0 | 0 | 0 | 0 | 0 | 0 | 2 | 0.2 |\n",
       "| NOTCH4 - TSC1 | NOTCH4 - TSC1  | 1 | 0 | 0 | 0 | 0 | 0 | 0 | 1 | 1 | 1 | 1 | 4 | 0.4 |\n",
       "| NOTCH4 - USP8 | NOTCH4 - USP8  | 1 | 1 | 0 | 0 | 0 | 0 | 1 | 1 | 0 | 0 | 0 | 3 | 0.3 |\n",
       "| MED12 - MGA | MED12 - MGA    | 1 | 1 | 0 | 1 | 0 | 0 | 1 | 1 | 1 | 1 | 1 | 7 | 0.7 |\n",
       "| MGA - NF1 | MGA - NF1      | 1 | 0 | 0 | 0 | 0 | 1 | 0 | 0 | 1 | 0 | 0 | 2 | 0.2 |\n",
       "| MGA - PLCG2 | MGA - PLCG2    | 1 | 0 | 0 | 1 | 1 | 1 | 1 | 1 | 1 | 1 | 1 | 8 | 0.8 |\n",
       "| MGA - PTPRT | MGA - PTPRT    | 1 | 1 | 0 | 1 | 0 | 1 | 0 | 0 | 1 | 1 | 1 | 6 | 0.6 |\n",
       "| MGA - RELN | MGA - RELN     | 1 | 0 | 0 | 1 | 0 | 1 | 1 | 0 | 0 | 1 | 1 | 5 | 0.5 |\n",
       "| MGA - STAG2 | MGA - STAG2    | 1 | 0 | 0 | 1 | 1 | 1 | 1 | 1 | 1 | 1 | 1 | 8 | 0.8 |\n",
       "| ABL1 - ZFHX3 | ABL1 - ZFHX3   | 1 | 1 | 0 | 0 | 0 | 1 | 0 | 0 | 1 | 0 | 0 | 3 | 0.3 |\n",
       "| ASXL1 - ZFHX3 | ASXL1 - ZFHX3  | 1 | 0 | 0 | 0 | 0 | 1 | 1 | 0 | 0 | 0 | 0 | 2 | 0.2 |\n",
       "| ⋮ | ⋮ | ⋮ | ⋮ | ⋮ | ⋮ | ⋮ | ⋮ | ⋮ | ⋮ | ⋮ | ⋮ | ⋮ | ⋮ | ⋮ |\n",
       "| BRCA2 - SMARCA2 | BRCA2 - SMARCA2 | 1 | 0 | 0 | 1 | 1 | 0 | 0 | 1 | 1 | 1 | 1 |  6 | 0.6 |\n",
       "| BRAF - INPP4B | BRAF - INPP4B   | 1 | 1 | 1 | 1 | 0 | 0 | 1 | 1 | 1 | 0 | 0 |  6 | 0.6 |\n",
       "| BRAF - IRF8 | BRAF - IRF8     | 1 | 0 | 0 | 0 | 0 | 0 | 0 | 0 | 0 | 0 | 0 |  0 | 0.0 |\n",
       "| BRAF - PDGFRA | BRAF - PDGFRA   | 1 | 0 | 1 | 1 | 1 | 1 | 0 | 0 | 0 | 1 | 1 |  6 | 0.6 |\n",
       "| BRAF - PTPRD | BRAF - PTPRD    | 1 | 1 | 1 | 1 | 1 | 1 | 1 | 1 | 1 | 1 | 1 | 10 | 1.0 |\n",
       "| BRAF - PTPRT | BRAF - PTPRT    | 1 | 1 | 1 | 1 | 0 | 1 | 1 | 1 | 1 | 1 | 1 |  9 | 0.9 |\n",
       "| BRAF - TP63 | BRAF - TP63     | 1 | 0 | 0 | 0 | 1 | 0 | 0 | 0 | 0 | 0 | 0 |  1 | 0.1 |\n",
       "| ARHGAP35 - ATM | ARHGAP35 - ATM  | 1 | 1 | 1 | 0 | 0 | 1 | 0 | 0 | 0 | 0 | 0 |  3 | 0.3 |\n",
       "| ATM - DICER1 | ATM - DICER1    | 1 | 0 | 0 | 0 | 0 | 0 | 0 | 0 | 0 | 0 | 0 |  0 | 0.0 |\n",
       "| ATM - FANCD2 | ATM - FANCD2    | 1 | 0 | 0 | 0 | 0 | 0 | 0 | 0 | 1 | 0 | 0 |  1 | 0.1 |\n",
       "| ATM - INPP4B | ATM - INPP4B    | 1 | 1 | 0 | 1 | 0 | 0 | 1 | 0 | 0 | 0 | 0 |  3 | 0.3 |\n",
       "| ATM - IRF8 | ATM - IRF8      | 1 | 0 | 0 | 0 | 0 | 0 | 0 | 0 | 0 | 0 | 0 |  0 | 0.0 |\n",
       "| ATM - PTPRT | ATM - PTPRT     | 1 | 1 | 1 | 0 | 0 | 1 | 0 | 0 | 1 | 0 | 0 |  4 | 0.4 |\n",
       "| ATM - ROBO1 | ATM - ROBO1     | 1 | 0 | 0 | 0 | 0 | 0 | 0 | 0 | 0 | 1 | 1 |  2 | 0.2 |\n",
       "| APC - ASXL1 | APC - ASXL1     | 1 | 0 | 1 | 0 | 0 | 1 | 1 | 0 | 1 | 0 | 0 |  4 | 0.4 |\n",
       "| APC - BCL11B | APC - BCL11B    | 1 | 0 | 0 | 0 | 0 | 0 | 0 | 0 | 0 | 0 | 0 |  0 | 0.0 |\n",
       "| APC - DICER1 | APC - DICER1    | 1 | 0 | 0 | 1 | 0 | 0 | 0 | 1 | 0 | 1 | 1 |  4 | 0.4 |\n",
       "| APC - GRIN2A | APC - GRIN2A    | 1 | 1 | 0 | 0 | 1 | 0 | 0 | 0 | 1 | 0 | 0 |  3 | 0.3 |\n",
       "| APC - INPP4B | APC - INPP4B    | 1 | 1 | 1 | 1 | 0 | 0 | 1 | 1 | 1 | 0 | 0 |  6 | 0.6 |\n",
       "| APC - PDGFRB | APC - PDGFRB    | 1 | 1 | 0 | 0 | 1 | 0 | 1 | 0 | 0 | 0 | 0 |  3 | 0.3 |\n",
       "| APC - PTPN11 | APC - PTPN11    | 1 | 1 | 0 | 1 | 1 | 1 | 0 | 0 | 0 | 0 | 0 |  4 | 0.4 |\n",
       "| APC - PTPRT | APC - PTPRT     | 1 | 1 | 1 | 1 | 0 | 1 | 1 | 1 | 1 | 1 | 1 |  9 | 0.9 |\n",
       "| ALK - ASXL1 | ALK - ASXL1     | 1 | 0 | 0 | 0 | 0 | 0 | 1 | 0 | 0 | 0 | 0 |  1 | 0.1 |\n",
       "| ALK - CREBBP | ALK - CREBBP    | 1 | 0 | 0 | 1 | 1 | 1 | 0 | 0 | 1 | 0 | 0 |  4 | 0.4 |\n",
       "| ALK - CSF1R | ALK - CSF1R     | 1 | 0 | 1 | 0 | 1 | 0 | 1 | 1 | 0 | 1 | 1 |  6 | 0.6 |\n",
       "| ALK - EPHA7 | ALK - EPHA7     | 1 | 1 | 1 | 0 | 1 | 0 | 1 | 1 | 0 | 0 | 0 |  5 | 0.5 |\n",
       "| ALK - EPHB1 | ALK - EPHB1     | 1 | 0 | 1 | 1 | 0 | 0 | 1 | 0 | 0 | 1 | 1 |  5 | 0.5 |\n",
       "| ALK - ERBB4 | ALK - ERBB4     | 1 | 1 | 1 | 1 | 0 | 1 | 1 | 1 | 1 | 1 | 1 |  9 | 0.9 |\n",
       "| ALK - ROS1 | ALK - ROS1      | 1 | 1 | 1 | 1 | 0 | 1 | 1 | 0 | 1 | 1 | 1 |  8 | 0.8 |\n",
       "| ALK - SETBP1 | ALK - SETBP1    | 1 | 1 | 1 | 1 | 0 | 1 | 1 | 1 | 1 | 1 | 1 |  9 | 0.9 |\n",
       "\n"
      ],
      "text/plain": [
       "                pairs           Run_100 Run_1 Run_2 Run_3 Run_4 Run_5 Run_6\n",
       "AMER1 - EP400   AMER1 - EP400   1       1     0     0     0     1     0    \n",
       "DICER1 - EP400  DICER1 - EP400  1       0     1     1     0     0     0    \n",
       "EP400 - PDGFRA  EP400 - PDGFRA  1       1     1     1     0     1     1    \n",
       "EP400 - PLCG2   EP400 - PLCG2   1       0     0     0     1     0     0    \n",
       "EP400 - PTPRD   EP400 - PTPRD   1       1     1     1     1     1     1    \n",
       "EP400 - PTPRT   EP400 - PTPRT   1       1     1     1     1     1     0    \n",
       "EP400 - ROS1    EP400 - ROS1    1       0     1     0     1     0     1    \n",
       "EP400 - SETBP1  EP400 - SETBP1  1       1     1     1     0     1     1    \n",
       "EP400 - STAT2   EP400 - STAT2   1       1     0     1     1     0     1    \n",
       "AMER1 - NOTCH4  AMER1 - NOTCH4  1       0     0     0     1     0     0    \n",
       "FBXW7 - NOTCH4  FBXW7 - NOTCH4  1       1     1     0     1     1     1    \n",
       "GAB1 - NOTCH4   GAB1 - NOTCH4   1       1     0     0     1     0     1    \n",
       "IKZF1 - NOTCH4  IKZF1 - NOTCH4  1       0     0     0     1     0     1    \n",
       "JAK3 - NOTCH4   JAK3 - NOTCH4   1       1     1     1     1     0     1    \n",
       "KMT2D - NOTCH4  KMT2D - NOTCH4  1       1     0     1     0     1     1    \n",
       "NOTCH4 - NTRK3  NOTCH4 - NTRK3  1       0     1     0     1     0     1    \n",
       "NOTCH4 - PLCG2  NOTCH4 - PLCG2  1       0     1     1     1     1     1    \n",
       "NOTCH4 - RET    NOTCH4 - RET    1       1     1     0     1     0     0    \n",
       "NOTCH4 - ROS1   NOTCH4 - ROS1   1       0     0     1     1     1     0    \n",
       "NOTCH4 - TBX3   NOTCH4 - TBX3   1       1     0     1     0     0     0    \n",
       "NOTCH4 - TSC1   NOTCH4 - TSC1   1       0     0     0     0     0     0    \n",
       "NOTCH4 - USP8   NOTCH4 - USP8   1       1     0     0     0     0     1    \n",
       "MED12 - MGA     MED12 - MGA     1       1     0     1     0     0     1    \n",
       "MGA - NF1       MGA - NF1       1       0     0     0     0     1     0    \n",
       "MGA - PLCG2     MGA - PLCG2     1       0     0     1     1     1     1    \n",
       "MGA - PTPRT     MGA - PTPRT     1       1     0     1     0     1     0    \n",
       "MGA - RELN      MGA - RELN      1       0     0     1     0     1     1    \n",
       "MGA - STAG2     MGA - STAG2     1       0     0     1     1     1     1    \n",
       "ABL1 - ZFHX3    ABL1 - ZFHX3    1       1     0     0     0     1     0    \n",
       "ASXL1 - ZFHX3   ASXL1 - ZFHX3   1       0     0     0     0     1     1    \n",
       "⋮               ⋮               ⋮       ⋮     ⋮     ⋮     ⋮     ⋮     ⋮    \n",
       "BRCA2 - SMARCA2 BRCA2 - SMARCA2 1       0     0     1     1     0     0    \n",
       "BRAF - INPP4B   BRAF - INPP4B   1       1     1     1     0     0     1    \n",
       "BRAF - IRF8     BRAF - IRF8     1       0     0     0     0     0     0    \n",
       "BRAF - PDGFRA   BRAF - PDGFRA   1       0     1     1     1     1     0    \n",
       "BRAF - PTPRD    BRAF - PTPRD    1       1     1     1     1     1     1    \n",
       "BRAF - PTPRT    BRAF - PTPRT    1       1     1     1     0     1     1    \n",
       "BRAF - TP63     BRAF - TP63     1       0     0     0     1     0     0    \n",
       "ARHGAP35 - ATM  ARHGAP35 - ATM  1       1     1     0     0     1     0    \n",
       "ATM - DICER1    ATM - DICER1    1       0     0     0     0     0     0    \n",
       "ATM - FANCD2    ATM - FANCD2    1       0     0     0     0     0     0    \n",
       "ATM - INPP4B    ATM - INPP4B    1       1     0     1     0     0     1    \n",
       "ATM - IRF8      ATM - IRF8      1       0     0     0     0     0     0    \n",
       "ATM - PTPRT     ATM - PTPRT     1       1     1     0     0     1     0    \n",
       "ATM - ROBO1     ATM - ROBO1     1       0     0     0     0     0     0    \n",
       "APC - ASXL1     APC - ASXL1     1       0     1     0     0     1     1    \n",
       "APC - BCL11B    APC - BCL11B    1       0     0     0     0     0     0    \n",
       "APC - DICER1    APC - DICER1    1       0     0     1     0     0     0    \n",
       "APC - GRIN2A    APC - GRIN2A    1       1     0     0     1     0     0    \n",
       "APC - INPP4B    APC - INPP4B    1       1     1     1     0     0     1    \n",
       "APC - PDGFRB    APC - PDGFRB    1       1     0     0     1     0     1    \n",
       "APC - PTPN11    APC - PTPN11    1       1     0     1     1     1     0    \n",
       "APC - PTPRT     APC - PTPRT     1       1     1     1     0     1     1    \n",
       "ALK - ASXL1     ALK - ASXL1     1       0     0     0     0     0     1    \n",
       "ALK - CREBBP    ALK - CREBBP    1       0     0     1     1     1     0    \n",
       "ALK - CSF1R     ALK - CSF1R     1       0     1     0     1     0     1    \n",
       "ALK - EPHA7     ALK - EPHA7     1       1     1     0     1     0     1    \n",
       "ALK - EPHB1     ALK - EPHB1     1       0     1     1     0     0     1    \n",
       "ALK - ERBB4     ALK - ERBB4     1       1     1     1     0     1     1    \n",
       "ALK - ROS1      ALK - ROS1      1       1     1     1     0     1     1    \n",
       "ALK - SETBP1    ALK - SETBP1    1       1     1     1     0     1     1    \n",
       "                Run_7 Run_8 Run_9 Run_10 Total_count Total\n",
       "AMER1 - EP400   0     0     1     1      4           0.4  \n",
       "DICER1 - EP400  1     0     0     0      3           0.3  \n",
       "EP400 - PDGFRA  1     1     0     0      7           0.7  \n",
       "EP400 - PLCG2   1     0     1     1      4           0.4  \n",
       "EP400 - PTPRD   1     0     1     1      9           0.9  \n",
       "EP400 - PTPRT   0     0     0     0      5           0.5  \n",
       "EP400 - ROS1    0     1     0     0      4           0.4  \n",
       "EP400 - SETBP1  1     1     1     1      9           0.9  \n",
       "EP400 - STAT2   1     0     1     1      7           0.7  \n",
       "AMER1 - NOTCH4  1     1     0     0      3           0.3  \n",
       "FBXW7 - NOTCH4  1     1     1     1      9           0.9  \n",
       "GAB1 - NOTCH4   1     1     0     0      5           0.5  \n",
       "IKZF1 - NOTCH4  0     0     0     0      2           0.2  \n",
       "JAK3 - NOTCH4   1     0     0     0      6           0.6  \n",
       "KMT2D - NOTCH4  0     1     1     1      7           0.7  \n",
       "NOTCH4 - NTRK3  0     0     0     0      3           0.3  \n",
       "NOTCH4 - PLCG2  1     1     1     1      9           0.9  \n",
       "NOTCH4 - RET    0     0     1     1      5           0.5  \n",
       "NOTCH4 - ROS1   0     1     1     1      6           0.6  \n",
       "NOTCH4 - TBX3   0     0     0     0      2           0.2  \n",
       "NOTCH4 - TSC1   1     1     1     1      4           0.4  \n",
       "NOTCH4 - USP8   1     0     0     0      3           0.3  \n",
       "MED12 - MGA     1     1     1     1      7           0.7  \n",
       "MGA - NF1       0     1     0     0      2           0.2  \n",
       "MGA - PLCG2     1     1     1     1      8           0.8  \n",
       "MGA - PTPRT     0     1     1     1      6           0.6  \n",
       "MGA - RELN      0     0     1     1      5           0.5  \n",
       "MGA - STAG2     1     1     1     1      8           0.8  \n",
       "ABL1 - ZFHX3    0     1     0     0      3           0.3  \n",
       "ASXL1 - ZFHX3   0     0     0     0      2           0.2  \n",
       "⋮               ⋮     ⋮     ⋮     ⋮      ⋮           ⋮    \n",
       "BRCA2 - SMARCA2 1     1     1     1       6          0.6  \n",
       "BRAF - INPP4B   1     1     0     0       6          0.6  \n",
       "BRAF - IRF8     0     0     0     0       0          0.0  \n",
       "BRAF - PDGFRA   0     0     1     1       6          0.6  \n",
       "BRAF - PTPRD    1     1     1     1      10          1.0  \n",
       "BRAF - PTPRT    1     1     1     1       9          0.9  \n",
       "BRAF - TP63     0     0     0     0       1          0.1  \n",
       "ARHGAP35 - ATM  0     0     0     0       3          0.3  \n",
       "ATM - DICER1    0     0     0     0       0          0.0  \n",
       "ATM - FANCD2    0     1     0     0       1          0.1  \n",
       "ATM - INPP4B    0     0     0     0       3          0.3  \n",
       "ATM - IRF8      0     0     0     0       0          0.0  \n",
       "ATM - PTPRT     0     1     0     0       4          0.4  \n",
       "ATM - ROBO1     0     0     1     1       2          0.2  \n",
       "APC - ASXL1     0     1     0     0       4          0.4  \n",
       "APC - BCL11B    0     0     0     0       0          0.0  \n",
       "APC - DICER1    1     0     1     1       4          0.4  \n",
       "APC - GRIN2A    0     1     0     0       3          0.3  \n",
       "APC - INPP4B    1     1     0     0       6          0.6  \n",
       "APC - PDGFRB    0     0     0     0       3          0.3  \n",
       "APC - PTPN11    0     0     0     0       4          0.4  \n",
       "APC - PTPRT     1     1     1     1       9          0.9  \n",
       "ALK - ASXL1     0     0     0     0       1          0.1  \n",
       "ALK - CREBBP    0     1     0     0       4          0.4  \n",
       "ALK - CSF1R     1     0     1     1       6          0.6  \n",
       "ALK - EPHA7     1     0     0     0       5          0.5  \n",
       "ALK - EPHB1     0     0     1     1       5          0.5  \n",
       "ALK - ERBB4     1     1     1     1       9          0.9  \n",
       "ALK - ROS1      0     1     1     1       8          0.8  \n",
       "ALK - SETBP1    1     1     1     1       9          0.9  "
      ]
     },
     "metadata": {},
     "output_type": "display_data"
    }
   ],
   "source": [
    "score_df"
   ]
  },
  {
   "cell_type": "code",
   "execution_count": 106,
   "id": "28068343-6931-4269-bcf7-70e57d557728",
   "metadata": {},
   "outputs": [],
   "source": [
    "cum_pct<-list()\n",
    "cum_pairs<-list()\n",
    "for(i in c(1:10)){\n",
    "    cum_pct[[i]]<-sum(rowSums(score_df[,c(3:12)])>=i)*100/442\n",
    "    cum_pairs[[i]]<-sum(rowSums(score_df[,c(3:12)])>=i)\n",
    "}"
   ]
  },
  {
   "cell_type": "code",
   "execution_count": 107,
   "id": "33457195-0b12-42c2-883c-4a1a9413575e",
   "metadata": {},
   "outputs": [],
   "source": [
    "score_df_v8<-data.frame('Recovery'=c(1:10),'n'=unlist(cum_pairs),'pct'=unlist(cum_pct))\n",
    "score_df_v8$Recovery <-as.factor(score_df_v7$Recovery)"
   ]
  },
  {
   "cell_type": "code",
   "execution_count": 108,
   "id": "f3f3e5f0-bd30-4ef1-936d-53e2b4b6d258",
   "metadata": {},
   "outputs": [
    {
     "data": {
      "text/html": [
       "<table class=\"dataframe\">\n",
       "<caption>A data.frame: 10 × 3</caption>\n",
       "<thead>\n",
       "\t<tr><th scope=col>Recovery</th><th scope=col>n</th><th scope=col>pct</th></tr>\n",
       "\t<tr><th scope=col>&lt;fct&gt;</th><th scope=col>&lt;int&gt;</th><th scope=col>&lt;dbl&gt;</th></tr>\n",
       "</thead>\n",
       "<tbody>\n",
       "\t<tr><td>1 </td><td>399</td><td>90.271493</td></tr>\n",
       "\t<tr><td>2 </td><td>351</td><td>79.411765</td></tr>\n",
       "\t<tr><td>3 </td><td>301</td><td>68.099548</td></tr>\n",
       "\t<tr><td>4 </td><td>243</td><td>54.977376</td></tr>\n",
       "\t<tr><td>5 </td><td>186</td><td>42.081448</td></tr>\n",
       "\t<tr><td>6 </td><td>140</td><td>31.674208</td></tr>\n",
       "\t<tr><td>7 </td><td> 95</td><td>21.493213</td></tr>\n",
       "\t<tr><td>8 </td><td> 71</td><td>16.063348</td></tr>\n",
       "\t<tr><td>9 </td><td> 49</td><td>11.085973</td></tr>\n",
       "\t<tr><td>10</td><td> 14</td><td> 3.167421</td></tr>\n",
       "</tbody>\n",
       "</table>\n"
      ],
      "text/latex": [
       "A data.frame: 10 × 3\n",
       "\\begin{tabular}{lll}\n",
       " Recovery & n & pct\\\\\n",
       " <fct> & <int> & <dbl>\\\\\n",
       "\\hline\n",
       "\t 1  & 399 & 90.271493\\\\\n",
       "\t 2  & 351 & 79.411765\\\\\n",
       "\t 3  & 301 & 68.099548\\\\\n",
       "\t 4  & 243 & 54.977376\\\\\n",
       "\t 5  & 186 & 42.081448\\\\\n",
       "\t 6  & 140 & 31.674208\\\\\n",
       "\t 7  &  95 & 21.493213\\\\\n",
       "\t 8  &  71 & 16.063348\\\\\n",
       "\t 9  &  49 & 11.085973\\\\\n",
       "\t 10 &  14 &  3.167421\\\\\n",
       "\\end{tabular}\n"
      ],
      "text/markdown": [
       "\n",
       "A data.frame: 10 × 3\n",
       "\n",
       "| Recovery &lt;fct&gt; | n &lt;int&gt; | pct &lt;dbl&gt; |\n",
       "|---|---|---|\n",
       "| 1  | 399 | 90.271493 |\n",
       "| 2  | 351 | 79.411765 |\n",
       "| 3  | 301 | 68.099548 |\n",
       "| 4  | 243 | 54.977376 |\n",
       "| 5  | 186 | 42.081448 |\n",
       "| 6  | 140 | 31.674208 |\n",
       "| 7  |  95 | 21.493213 |\n",
       "| 8  |  71 | 16.063348 |\n",
       "| 9  |  49 | 11.085973 |\n",
       "| 10 |  14 |  3.167421 |\n",
       "\n"
      ],
      "text/plain": [
       "   Recovery n   pct      \n",
       "1  1        399 90.271493\n",
       "2  2        351 79.411765\n",
       "3  3        301 68.099548\n",
       "4  4        243 54.977376\n",
       "5  5        186 42.081448\n",
       "6  6        140 31.674208\n",
       "7  7         95 21.493213\n",
       "8  8         71 16.063348\n",
       "9  9         49 11.085973\n",
       "10 10        14  3.167421"
      ]
     },
     "metadata": {},
     "output_type": "display_data"
    }
   ],
   "source": [
    "score_df_v8"
   ]
  },
  {
   "cell_type": "markdown",
   "id": "d58a0cdd-3d4f-4710-a5e3-d5ffba9b754a",
   "metadata": {
    "jp-MarkdownHeadingCollapsed": true,
    "tags": []
   },
   "source": [
    "## Cooccur "
   ]
  },
  {
   "cell_type": "code",
   "execution_count": 109,
   "id": "328c0d3f-bb6e-4da6-891c-36f97ea6c1c3",
   "metadata": {},
   "outputs": [],
   "source": [
    "select_orginal <- readRDS('/mnt/ptemp/arvind/tool_comaprision/results/cooccur/cooccur_luad_all_results.rds')"
   ]
  },
  {
   "cell_type": "code",
   "execution_count": 110,
   "id": "829e900e-e712-4a09-bd16-104079a0dd42",
   "metadata": {},
   "outputs": [
    {
     "data": {
      "text/html": [
       "<table class=\"dataframe\">\n",
       "<caption>A data.frame: 6 × 11</caption>\n",
       "<thead>\n",
       "\t<tr><th></th><th scope=col>sp1</th><th scope=col>sp2</th><th scope=col>sp1_inc</th><th scope=col>sp2_inc</th><th scope=col>obs_cooccur</th><th scope=col>prob_cooccur</th><th scope=col>exp_cooccur</th><th scope=col>p_lt</th><th scope=col>p_gt</th><th scope=col>sp1_name</th><th scope=col>sp2_name</th></tr>\n",
       "\t<tr><th></th><th scope=col>&lt;dbl&gt;</th><th scope=col>&lt;dbl&gt;</th><th scope=col>&lt;dbl&gt;</th><th scope=col>&lt;dbl&gt;</th><th scope=col>&lt;dbl&gt;</th><th scope=col>&lt;dbl&gt;</th><th scope=col>&lt;dbl&gt;</th><th scope=col>&lt;dbl&gt;</th><th scope=col>&lt;dbl&gt;</th><th scope=col>&lt;chr&gt;</th><th scope=col>&lt;chr&gt;</th></tr>\n",
       "</thead>\n",
       "<tbody>\n",
       "\t<tr><th scope=row>1</th><td>1</td><td>63</td><td> 3</td><td>221</td><td>2</td><td>0.003</td><td>1.3</td><td>0.91533</td><td>0.41061</td><td>AKT1</td><td>TP53 </td></tr>\n",
       "\t<tr><th scope=row>2</th><td>2</td><td>35</td><td> 6</td><td>154</td><td>3</td><td>0.004</td><td>1.8</td><td>0.92524</td><td>0.26745</td><td>ALK </td><td>KRAS </td></tr>\n",
       "\t<tr><th scope=row>3</th><td>2</td><td>63</td><td> 6</td><td>221</td><td>5</td><td>0.005</td><td>2.6</td><td>0.99299</td><td>0.06169</td><td>ALK </td><td>TP53 </td></tr>\n",
       "\t<tr><th scope=row>4</th><td>3</td><td>17</td><td>10</td><td> 57</td><td>2</td><td>0.002</td><td>1.1</td><td>0.90658</td><td>0.31669</td><td>APC </td><td>EGFR </td></tr>\n",
       "\t<tr><th scope=row>5</th><td>3</td><td>35</td><td>10</td><td>154</td><td>1</td><td>0.006</td><td>3.1</td><td>0.13645</td><td>0.97538</td><td>APC </td><td>KRAS </td></tr>\n",
       "\t<tr><th scope=row>6</th><td>3</td><td>62</td><td>10</td><td> 59</td><td>1</td><td>0.002</td><td>1.2</td><td>0.66766</td><td>0.71703</td><td>APC </td><td>STK11</td></tr>\n",
       "</tbody>\n",
       "</table>\n"
      ],
      "text/latex": [
       "A data.frame: 6 × 11\n",
       "\\begin{tabular}{r|lllllllllll}\n",
       "  & sp1 & sp2 & sp1\\_inc & sp2\\_inc & obs\\_cooccur & prob\\_cooccur & exp\\_cooccur & p\\_lt & p\\_gt & sp1\\_name & sp2\\_name\\\\\n",
       "  & <dbl> & <dbl> & <dbl> & <dbl> & <dbl> & <dbl> & <dbl> & <dbl> & <dbl> & <chr> & <chr>\\\\\n",
       "\\hline\n",
       "\t1 & 1 & 63 &  3 & 221 & 2 & 0.003 & 1.3 & 0.91533 & 0.41061 & AKT1 & TP53 \\\\\n",
       "\t2 & 2 & 35 &  6 & 154 & 3 & 0.004 & 1.8 & 0.92524 & 0.26745 & ALK  & KRAS \\\\\n",
       "\t3 & 2 & 63 &  6 & 221 & 5 & 0.005 & 2.6 & 0.99299 & 0.06169 & ALK  & TP53 \\\\\n",
       "\t4 & 3 & 17 & 10 &  57 & 2 & 0.002 & 1.1 & 0.90658 & 0.31669 & APC  & EGFR \\\\\n",
       "\t5 & 3 & 35 & 10 & 154 & 1 & 0.006 & 3.1 & 0.13645 & 0.97538 & APC  & KRAS \\\\\n",
       "\t6 & 3 & 62 & 10 &  59 & 1 & 0.002 & 1.2 & 0.66766 & 0.71703 & APC  & STK11\\\\\n",
       "\\end{tabular}\n"
      ],
      "text/markdown": [
       "\n",
       "A data.frame: 6 × 11\n",
       "\n",
       "| <!--/--> | sp1 &lt;dbl&gt; | sp2 &lt;dbl&gt; | sp1_inc &lt;dbl&gt; | sp2_inc &lt;dbl&gt; | obs_cooccur &lt;dbl&gt; | prob_cooccur &lt;dbl&gt; | exp_cooccur &lt;dbl&gt; | p_lt &lt;dbl&gt; | p_gt &lt;dbl&gt; | sp1_name &lt;chr&gt; | sp2_name &lt;chr&gt; |\n",
       "|---|---|---|---|---|---|---|---|---|---|---|---|\n",
       "| 1 | 1 | 63 |  3 | 221 | 2 | 0.003 | 1.3 | 0.91533 | 0.41061 | AKT1 | TP53  |\n",
       "| 2 | 2 | 35 |  6 | 154 | 3 | 0.004 | 1.8 | 0.92524 | 0.26745 | ALK  | KRAS  |\n",
       "| 3 | 2 | 63 |  6 | 221 | 5 | 0.005 | 2.6 | 0.99299 | 0.06169 | ALK  | TP53  |\n",
       "| 4 | 3 | 17 | 10 |  57 | 2 | 0.002 | 1.1 | 0.90658 | 0.31669 | APC  | EGFR  |\n",
       "| 5 | 3 | 35 | 10 | 154 | 1 | 0.006 | 3.1 | 0.13645 | 0.97538 | APC  | KRAS  |\n",
       "| 6 | 3 | 62 | 10 |  59 | 1 | 0.002 | 1.2 | 0.66766 | 0.71703 | APC  | STK11 |\n",
       "\n"
      ],
      "text/plain": [
       "  sp1 sp2 sp1_inc sp2_inc obs_cooccur prob_cooccur exp_cooccur p_lt    p_gt   \n",
       "1 1   63   3      221     2           0.003        1.3         0.91533 0.41061\n",
       "2 2   35   6      154     3           0.004        1.8         0.92524 0.26745\n",
       "3 2   63   6      221     5           0.005        2.6         0.99299 0.06169\n",
       "4 3   17  10       57     2           0.002        1.1         0.90658 0.31669\n",
       "5 3   35  10      154     1           0.006        3.1         0.13645 0.97538\n",
       "6 3   62  10       59     1           0.002        1.2         0.66766 0.71703\n",
       "  sp1_name sp2_name\n",
       "1 AKT1     TP53    \n",
       "2 ALK      KRAS    \n",
       "3 ALK      TP53    \n",
       "4 APC      EGFR    \n",
       "5 APC      KRAS    \n",
       "6 APC      STK11   "
      ]
     },
     "metadata": {},
     "output_type": "display_data"
    }
   ],
   "source": [
    "head(select_orginal)"
   ]
  },
  {
   "cell_type": "code",
   "execution_count": 111,
   "id": "564670af-2018-48a4-b004-ad1ae4295616",
   "metadata": {},
   "outputs": [],
   "source": [
    "boot_results <- list()\n",
    "k=1\n",
    "for (i in c(1:10)){\n",
    "    name <- paste('/mnt/ptemp/arvind/tool_comaprision/results/cooccur/luad_sampling/sampling_run_result_80_',i,'.rds',sep=\"\")\n",
    "    boot_results[[k]] <- readRDS(file=name)\n",
    "    k=k+1\n",
    "}"
   ]
  },
  {
   "cell_type": "code",
   "execution_count": 112,
   "id": "5392e474-a630-4df5-ad71-39d1c1187923",
   "metadata": {},
   "outputs": [
    {
     "data": {
      "text/html": [
       "10"
      ],
      "text/latex": [
       "10"
      ],
      "text/markdown": [
       "10"
      ],
      "text/plain": [
       "[1] 10"
      ]
     },
     "metadata": {},
     "output_type": "display_data"
    }
   ],
   "source": [
    "length(boot_results)"
   ]
  },
  {
   "cell_type": "code",
   "execution_count": 113,
   "id": "0c0804e4-68a0-4652-9ad1-234f78c9fd72",
   "metadata": {},
   "outputs": [
    {
     "data": {
      "text/html": [
       "<table class=\"dataframe\">\n",
       "<caption>A data.frame: 6 × 11</caption>\n",
       "<thead>\n",
       "\t<tr><th></th><th scope=col>sp1</th><th scope=col>sp2</th><th scope=col>sp1_inc</th><th scope=col>sp2_inc</th><th scope=col>obs_cooccur</th><th scope=col>prob_cooccur</th><th scope=col>exp_cooccur</th><th scope=col>p_lt</th><th scope=col>p_gt</th><th scope=col>sp1_name</th><th scope=col>sp2_name</th></tr>\n",
       "\t<tr><th></th><th scope=col>&lt;dbl&gt;</th><th scope=col>&lt;dbl&gt;</th><th scope=col>&lt;dbl&gt;</th><th scope=col>&lt;dbl&gt;</th><th scope=col>&lt;dbl&gt;</th><th scope=col>&lt;dbl&gt;</th><th scope=col>&lt;dbl&gt;</th><th scope=col>&lt;dbl&gt;</th><th scope=col>&lt;dbl&gt;</th><th scope=col>&lt;chr&gt;</th><th scope=col>&lt;chr&gt;</th></tr>\n",
       "</thead>\n",
       "<tbody>\n",
       "\t<tr><th scope=row>1</th><td>1</td><td>63</td><td> 3</td><td>180</td><td>2</td><td>0.003</td><td>1.3</td><td>0.91039</td><td>0.42339</td><td>AKT1</td><td>TP53</td></tr>\n",
       "\t<tr><th scope=row>2</th><td>2</td><td>63</td><td> 3</td><td>180</td><td>3</td><td>0.003</td><td>1.3</td><td>1.00000</td><td>0.08961</td><td>ALK </td><td>TP53</td></tr>\n",
       "\t<tr><th scope=row>3</th><td>3</td><td>35</td><td> 8</td><td>122</td><td>0</td><td>0.006</td><td>2.4</td><td>0.05324</td><td>1.00000</td><td>APC </td><td>KRAS</td></tr>\n",
       "\t<tr><th scope=row>4</th><td>3</td><td>63</td><td> 8</td><td>180</td><td>3</td><td>0.009</td><td>3.6</td><td>0.47916</td><td>0.78042</td><td>APC </td><td>TP53</td></tr>\n",
       "\t<tr><th scope=row>5</th><td>5</td><td> 7</td><td>15</td><td> 28</td><td>1</td><td>0.003</td><td>1.0</td><td>0.71805</td><td>0.66909</td><td>ATM </td><td>BRAF</td></tr>\n",
       "\t<tr><th scope=row>6</th><td>5</td><td>17</td><td>15</td><td> 50</td><td>1</td><td>0.005</td><td>1.9</td><td>0.42112</td><td>0.86944</td><td>ATM </td><td>EGFR</td></tr>\n",
       "</tbody>\n",
       "</table>\n"
      ],
      "text/latex": [
       "A data.frame: 6 × 11\n",
       "\\begin{tabular}{r|lllllllllll}\n",
       "  & sp1 & sp2 & sp1\\_inc & sp2\\_inc & obs\\_cooccur & prob\\_cooccur & exp\\_cooccur & p\\_lt & p\\_gt & sp1\\_name & sp2\\_name\\\\\n",
       "  & <dbl> & <dbl> & <dbl> & <dbl> & <dbl> & <dbl> & <dbl> & <dbl> & <dbl> & <chr> & <chr>\\\\\n",
       "\\hline\n",
       "\t1 & 1 & 63 &  3 & 180 & 2 & 0.003 & 1.3 & 0.91039 & 0.42339 & AKT1 & TP53\\\\\n",
       "\t2 & 2 & 63 &  3 & 180 & 3 & 0.003 & 1.3 & 1.00000 & 0.08961 & ALK  & TP53\\\\\n",
       "\t3 & 3 & 35 &  8 & 122 & 0 & 0.006 & 2.4 & 0.05324 & 1.00000 & APC  & KRAS\\\\\n",
       "\t4 & 3 & 63 &  8 & 180 & 3 & 0.009 & 3.6 & 0.47916 & 0.78042 & APC  & TP53\\\\\n",
       "\t5 & 5 &  7 & 15 &  28 & 1 & 0.003 & 1.0 & 0.71805 & 0.66909 & ATM  & BRAF\\\\\n",
       "\t6 & 5 & 17 & 15 &  50 & 1 & 0.005 & 1.9 & 0.42112 & 0.86944 & ATM  & EGFR\\\\\n",
       "\\end{tabular}\n"
      ],
      "text/markdown": [
       "\n",
       "A data.frame: 6 × 11\n",
       "\n",
       "| <!--/--> | sp1 &lt;dbl&gt; | sp2 &lt;dbl&gt; | sp1_inc &lt;dbl&gt; | sp2_inc &lt;dbl&gt; | obs_cooccur &lt;dbl&gt; | prob_cooccur &lt;dbl&gt; | exp_cooccur &lt;dbl&gt; | p_lt &lt;dbl&gt; | p_gt &lt;dbl&gt; | sp1_name &lt;chr&gt; | sp2_name &lt;chr&gt; |\n",
       "|---|---|---|---|---|---|---|---|---|---|---|---|\n",
       "| 1 | 1 | 63 |  3 | 180 | 2 | 0.003 | 1.3 | 0.91039 | 0.42339 | AKT1 | TP53 |\n",
       "| 2 | 2 | 63 |  3 | 180 | 3 | 0.003 | 1.3 | 1.00000 | 0.08961 | ALK  | TP53 |\n",
       "| 3 | 3 | 35 |  8 | 122 | 0 | 0.006 | 2.4 | 0.05324 | 1.00000 | APC  | KRAS |\n",
       "| 4 | 3 | 63 |  8 | 180 | 3 | 0.009 | 3.6 | 0.47916 | 0.78042 | APC  | TP53 |\n",
       "| 5 | 5 |  7 | 15 |  28 | 1 | 0.003 | 1.0 | 0.71805 | 0.66909 | ATM  | BRAF |\n",
       "| 6 | 5 | 17 | 15 |  50 | 1 | 0.005 | 1.9 | 0.42112 | 0.86944 | ATM  | EGFR |\n",
       "\n"
      ],
      "text/plain": [
       "  sp1 sp2 sp1_inc sp2_inc obs_cooccur prob_cooccur exp_cooccur p_lt    p_gt   \n",
       "1 1   63   3      180     2           0.003        1.3         0.91039 0.42339\n",
       "2 2   63   3      180     3           0.003        1.3         1.00000 0.08961\n",
       "3 3   35   8      122     0           0.006        2.4         0.05324 1.00000\n",
       "4 3   63   8      180     3           0.009        3.6         0.47916 0.78042\n",
       "5 5    7  15       28     1           0.003        1.0         0.71805 0.66909\n",
       "6 5   17  15       50     1           0.005        1.9         0.42112 0.86944\n",
       "  sp1_name sp2_name\n",
       "1 AKT1     TP53    \n",
       "2 ALK      TP53    \n",
       "3 APC      KRAS    \n",
       "4 APC      TP53    \n",
       "5 ATM      BRAF    \n",
       "6 ATM      EGFR    "
      ]
     },
     "metadata": {},
     "output_type": "display_data"
    }
   ],
   "source": [
    "head(boot_results[[1]])"
   ]
  },
  {
   "cell_type": "code",
   "execution_count": 114,
   "id": "b843f900-2e81-49c2-a5bf-45433e864a42",
   "metadata": {},
   "outputs": [],
   "source": [
    "selectX_100_pct_significnat_results <- select_orginal %>% filter(p_lt<=0.05 | p_gt<=0.05) %>% mutate('id'=case_when(sp1_name>sp2_name ~ paste(sp2_name,sp1_name,sep=\" - \"),\n",
    "                                       sp1_name<sp2_name ~ paste(sp1_name,sp2_name,sep=\" - \"))) "
   ]
  },
  {
   "cell_type": "code",
   "execution_count": 115,
   "id": "7b78ce7d-2a86-4f3b-95dc-bad81024d5ef",
   "metadata": {},
   "outputs": [],
   "source": [
    "selectX_100_pct_significnat_results <- selectX_100_pct_significnat_results[!duplicated(selectX_100_pct_significnat_results$id),]"
   ]
  },
  {
   "cell_type": "code",
   "execution_count": 116,
   "id": "2c633fcb-28d1-4089-9edd-c99492681290",
   "metadata": {},
   "outputs": [
    {
     "data": {
      "text/html": [
       "<style>\n",
       ".list-inline {list-style: none; margin:0; padding: 0}\n",
       ".list-inline>li {display: inline-block}\n",
       ".list-inline>li:not(:last-child)::after {content: \"\\00b7\"; padding: 0 .5ex}\n",
       "</style>\n",
       "<ol class=list-inline><li>31</li><li>12</li></ol>\n"
      ],
      "text/latex": [
       "\\begin{enumerate*}\n",
       "\\item 31\n",
       "\\item 12\n",
       "\\end{enumerate*}\n"
      ],
      "text/markdown": [
       "1. 31\n",
       "2. 12\n",
       "\n",
       "\n"
      ],
      "text/plain": [
       "[1] 31 12"
      ]
     },
     "metadata": {},
     "output_type": "display_data"
    }
   ],
   "source": [
    "dim(selectX_100_pct_significnat_results)"
   ]
  },
  {
   "cell_type": "code",
   "execution_count": 117,
   "id": "b7d7fb8e-47c6-4581-a5cf-8c3a1fcafc65",
   "metadata": {},
   "outputs": [
    {
     "data": {
      "text/html": [
       "<table class=\"dataframe\">\n",
       "<caption>A data.frame: 1 × 1</caption>\n",
       "<thead>\n",
       "\t<tr><th scope=col>n</th></tr>\n",
       "\t<tr><th scope=col>&lt;int&gt;</th></tr>\n",
       "</thead>\n",
       "<tbody>\n",
       "\t<tr><td>31</td></tr>\n",
       "</tbody>\n",
       "</table>\n"
      ],
      "text/latex": [
       "A data.frame: 1 × 1\n",
       "\\begin{tabular}{l}\n",
       " n\\\\\n",
       " <int>\\\\\n",
       "\\hline\n",
       "\t 31\\\\\n",
       "\\end{tabular}\n"
      ],
      "text/markdown": [
       "\n",
       "A data.frame: 1 × 1\n",
       "\n",
       "| n &lt;int&gt; |\n",
       "|---|\n",
       "| 31 |\n",
       "\n"
      ],
      "text/plain": [
       "  n \n",
       "1 31"
      ]
     },
     "metadata": {},
     "output_type": "display_data"
    }
   ],
   "source": [
    "selectX_100_pct_significnat_results %>% count()"
   ]
  },
  {
   "cell_type": "code",
   "execution_count": 118,
   "id": "4b5e6ff4-2130-4dff-a45a-ef44a663b8a9",
   "metadata": {},
   "outputs": [],
   "source": [
    "score_df<-data.frame('pairs'=selectX_100_pct_significnat_results$id)\n",
    "rownames(score_df)<-score_df$pairs\n",
    "score_df$Run_100<-1"
   ]
  },
  {
   "cell_type": "code",
   "execution_count": 119,
   "id": "89b5aa08-c67c-4891-8b54-f559784047d6",
   "metadata": {},
   "outputs": [
    {
     "data": {
      "text/html": [
       "<table class=\"dataframe\">\n",
       "<caption>A data.frame: 6 × 2</caption>\n",
       "<thead>\n",
       "\t<tr><th></th><th scope=col>pairs</th><th scope=col>Run_100</th></tr>\n",
       "\t<tr><th></th><th scope=col>&lt;chr&gt;</th><th scope=col>&lt;dbl&gt;</th></tr>\n",
       "</thead>\n",
       "<tbody>\n",
       "\t<tr><th scope=row>ATM - KRAS</th><td>ATM - KRAS   </td><td>1</td></tr>\n",
       "\t<tr><th scope=row>ATM - STK11</th><td>ATM - STK11  </td><td>1</td></tr>\n",
       "\t<tr><th scope=row>ATM - TP53</th><td>ATM - TP53   </td><td>1</td></tr>\n",
       "\t<tr><th scope=row>BRAF - KRAS</th><td>BRAF - KRAS  </td><td>1</td></tr>\n",
       "\t<tr><th scope=row>BRAF - SETD2</th><td>BRAF - SETD2 </td><td>1</td></tr>\n",
       "\t<tr><th scope=row>CDKN2A - TP53</th><td>CDKN2A - TP53</td><td>1</td></tr>\n",
       "</tbody>\n",
       "</table>\n"
      ],
      "text/latex": [
       "A data.frame: 6 × 2\n",
       "\\begin{tabular}{r|ll}\n",
       "  & pairs & Run\\_100\\\\\n",
       "  & <chr> & <dbl>\\\\\n",
       "\\hline\n",
       "\tATM - KRAS & ATM - KRAS    & 1\\\\\n",
       "\tATM - STK11 & ATM - STK11   & 1\\\\\n",
       "\tATM - TP53 & ATM - TP53    & 1\\\\\n",
       "\tBRAF - KRAS & BRAF - KRAS   & 1\\\\\n",
       "\tBRAF - SETD2 & BRAF - SETD2  & 1\\\\\n",
       "\tCDKN2A - TP53 & CDKN2A - TP53 & 1\\\\\n",
       "\\end{tabular}\n"
      ],
      "text/markdown": [
       "\n",
       "A data.frame: 6 × 2\n",
       "\n",
       "| <!--/--> | pairs &lt;chr&gt; | Run_100 &lt;dbl&gt; |\n",
       "|---|---|---|\n",
       "| ATM - KRAS | ATM - KRAS    | 1 |\n",
       "| ATM - STK11 | ATM - STK11   | 1 |\n",
       "| ATM - TP53 | ATM - TP53    | 1 |\n",
       "| BRAF - KRAS | BRAF - KRAS   | 1 |\n",
       "| BRAF - SETD2 | BRAF - SETD2  | 1 |\n",
       "| CDKN2A - TP53 | CDKN2A - TP53 | 1 |\n",
       "\n"
      ],
      "text/plain": [
       "              pairs         Run_100\n",
       "ATM - KRAS    ATM - KRAS    1      \n",
       "ATM - STK11   ATM - STK11   1      \n",
       "ATM - TP53    ATM - TP53    1      \n",
       "BRAF - KRAS   BRAF - KRAS   1      \n",
       "BRAF - SETD2  BRAF - SETD2  1      \n",
       "CDKN2A - TP53 CDKN2A - TP53 1      "
      ]
     },
     "metadata": {},
     "output_type": "display_data"
    }
   ],
   "source": [
    "head(score_df)"
   ]
  },
  {
   "cell_type": "code",
   "execution_count": 120,
   "id": "ecfbfe72-7dcc-4a5c-8d8d-9ee09ab4e6ec",
   "metadata": {},
   "outputs": [
    {
     "data": {
      "text/html": [
       "<style>\n",
       ".list-inline {list-style: none; margin:0; padding: 0}\n",
       ".list-inline>li {display: inline-block}\n",
       ".list-inline>li:not(:last-child)::after {content: \"\\00b7\"; padding: 0 .5ex}\n",
       "</style>\n",
       "<ol class=list-inline><li>31</li><li>2</li></ol>\n"
      ],
      "text/latex": [
       "\\begin{enumerate*}\n",
       "\\item 31\n",
       "\\item 2\n",
       "\\end{enumerate*}\n"
      ],
      "text/markdown": [
       "1. 31\n",
       "2. 2\n",
       "\n",
       "\n"
      ],
      "text/plain": [
       "[1] 31  2"
      ]
     },
     "metadata": {},
     "output_type": "display_data"
    }
   ],
   "source": [
    "dim(score_df)"
   ]
  },
  {
   "cell_type": "code",
   "execution_count": 121,
   "id": "0b390c67-c3be-4f98-a474-78bccc75ba0e",
   "metadata": {},
   "outputs": [],
   "source": [
    "for (i in c(1:10)){\n",
    "    score_df[[paste('Run',i,sep=\"_\")]]<-0\n",
    "    test<- boot_results[[i]]  %>% filter(p_lt<=0.05 | p_gt<=0.05) %>% mutate('id'=case_when(sp1_name>sp2_name ~ paste(sp2_name,sp1_name,sep=\" - \"),\n",
    "                                       sp1_name<sp2_name ~ paste(sp1_name,sp2_name,sep=\" - \")))  \n",
    "    test<- test[!duplicated(test$id),]\n",
    "    temp <- unique(test$id)\n",
    "    pairs <- intersect(score_df$pairs,temp)\n",
    "    score_df[pairs,][[paste('Run',i,sep=\"_\")]]<-1\n",
    "}"
   ]
  },
  {
   "cell_type": "code",
   "execution_count": 122,
   "id": "8f447bd8-eee4-45fc-8c6e-3bc50c5f1cee",
   "metadata": {},
   "outputs": [],
   "source": [
    "score_df$Total_count<-(score_df$Run_1+score_df$Run_2+score_df$Run_3+score_df$Run_4+score_df$Run_5+score_df$Run_6+score_df$Run_7+score_df$Run_8+score_df$Run_9+score_df$Run_10)\n",
    "score_df$Total <- (score_df$Run_1+score_df$Run_2+score_df$Run_3+score_df$Run_4+score_df$Run_5+score_df$Run_6+score_df$Run_7+score_df$Run_8+score_df$Run_9+score_df$Run_10)/10"
   ]
  },
  {
   "cell_type": "code",
   "execution_count": 123,
   "id": "1ed06d18-5fcd-462c-8e67-5ca83116c0bd",
   "metadata": {
    "scrolled": true,
    "tags": []
   },
   "outputs": [
    {
     "data": {
      "text/html": [
       "<table class=\"dataframe\">\n",
       "<caption>A data.frame: 31 × 14</caption>\n",
       "<thead>\n",
       "\t<tr><th></th><th scope=col>pairs</th><th scope=col>Run_100</th><th scope=col>Run_1</th><th scope=col>Run_2</th><th scope=col>Run_3</th><th scope=col>Run_4</th><th scope=col>Run_5</th><th scope=col>Run_6</th><th scope=col>Run_7</th><th scope=col>Run_8</th><th scope=col>Run_9</th><th scope=col>Run_10</th><th scope=col>Total_count</th><th scope=col>Total</th></tr>\n",
       "\t<tr><th></th><th scope=col>&lt;chr&gt;</th><th scope=col>&lt;dbl&gt;</th><th scope=col>&lt;dbl&gt;</th><th scope=col>&lt;dbl&gt;</th><th scope=col>&lt;dbl&gt;</th><th scope=col>&lt;dbl&gt;</th><th scope=col>&lt;dbl&gt;</th><th scope=col>&lt;dbl&gt;</th><th scope=col>&lt;dbl&gt;</th><th scope=col>&lt;dbl&gt;</th><th scope=col>&lt;dbl&gt;</th><th scope=col>&lt;dbl&gt;</th><th scope=col>&lt;dbl&gt;</th><th scope=col>&lt;dbl&gt;</th></tr>\n",
       "</thead>\n",
       "<tbody>\n",
       "\t<tr><th scope=row>ATM - KRAS</th><td>ATM - KRAS    </td><td>1</td><td>0</td><td>0</td><td>1</td><td>1</td><td>1</td><td>1</td><td>1</td><td>1</td><td>1</td><td>1</td><td> 8</td><td>0.8</td></tr>\n",
       "\t<tr><th scope=row>ATM - STK11</th><td>ATM - STK11   </td><td>1</td><td>0</td><td>1</td><td>1</td><td>0</td><td>1</td><td>1</td><td>1</td><td>1</td><td>1</td><td>1</td><td> 8</td><td>0.8</td></tr>\n",
       "\t<tr><th scope=row>ATM - TP53</th><td>ATM - TP53    </td><td>1</td><td>0</td><td>1</td><td>1</td><td>1</td><td>1</td><td>0</td><td>0</td><td>1</td><td>1</td><td>1</td><td> 7</td><td>0.7</td></tr>\n",
       "\t<tr><th scope=row>BRAF - KRAS</th><td>BRAF - KRAS   </td><td>1</td><td>1</td><td>1</td><td>1</td><td>1</td><td>1</td><td>1</td><td>1</td><td>1</td><td>1</td><td>1</td><td>10</td><td>1.0</td></tr>\n",
       "\t<tr><th scope=row>BRAF - SETD2</th><td>BRAF - SETD2  </td><td>1</td><td>0</td><td>0</td><td>0</td><td>1</td><td>1</td><td>1</td><td>0</td><td>1</td><td>0</td><td>1</td><td> 5</td><td>0.5</td></tr>\n",
       "\t<tr><th scope=row>CDKN2A - TP53</th><td>CDKN2A - TP53 </td><td>1</td><td>1</td><td>1</td><td>0</td><td>1</td><td>0</td><td>1</td><td>1</td><td>0</td><td>1</td><td>0</td><td> 6</td><td>0.6</td></tr>\n",
       "\t<tr><th scope=row>CTNNB1 - TP53</th><td>CTNNB1 - TP53 </td><td>1</td><td>1</td><td>1</td><td>1</td><td>0</td><td>1</td><td>1</td><td>0</td><td>0</td><td>1</td><td>0</td><td> 6</td><td>0.6</td></tr>\n",
       "\t<tr><th scope=row>EGFR - KRAS</th><td>EGFR - KRAS   </td><td>1</td><td>1</td><td>1</td><td>1</td><td>1</td><td>1</td><td>1</td><td>1</td><td>1</td><td>1</td><td>1</td><td>10</td><td>1.0</td></tr>\n",
       "\t<tr><th scope=row>EGFR - STK11</th><td>EGFR - STK11  </td><td>1</td><td>1</td><td>1</td><td>1</td><td>1</td><td>1</td><td>1</td><td>1</td><td>1</td><td>1</td><td>1</td><td>10</td><td>1.0</td></tr>\n",
       "\t<tr><th scope=row>EGFR - TP53</th><td>EGFR - TP53   </td><td>1</td><td>0</td><td>1</td><td>0</td><td>0</td><td>0</td><td>1</td><td>1</td><td>0</td><td>1</td><td>0</td><td> 4</td><td>0.4</td></tr>\n",
       "\t<tr><th scope=row>EGFR - KEAP1</th><td>EGFR - KEAP1  </td><td>1</td><td>1</td><td>1</td><td>1</td><td>1</td><td>0</td><td>1</td><td>1</td><td>1</td><td>1</td><td>1</td><td> 9</td><td>0.9</td></tr>\n",
       "\t<tr><th scope=row>FBXW7 - KRAS</th><td>FBXW7 - KRAS  </td><td>1</td><td>1</td><td>1</td><td>0</td><td>1</td><td>1</td><td>1</td><td>0</td><td>0</td><td>0</td><td>1</td><td> 6</td><td>0.6</td></tr>\n",
       "\t<tr><th scope=row>KRAS - MET</th><td>KRAS - MET    </td><td>1</td><td>1</td><td>1</td><td>0</td><td>1</td><td>1</td><td>1</td><td>0</td><td>1</td><td>1</td><td>0</td><td> 7</td><td>0.7</td></tr>\n",
       "\t<tr><th scope=row>KRAS - NF1</th><td>KRAS - NF1    </td><td>1</td><td>1</td><td>1</td><td>1</td><td>1</td><td>1</td><td>1</td><td>1</td><td>0</td><td>1</td><td>1</td><td> 9</td><td>0.9</td></tr>\n",
       "\t<tr><th scope=row>KRAS - RB1</th><td>KRAS - RB1    </td><td>1</td><td>0</td><td>0</td><td>0</td><td>0</td><td>1</td><td>0</td><td>0</td><td>1</td><td>1</td><td>1</td><td> 4</td><td>0.4</td></tr>\n",
       "\t<tr><th scope=row>KRAS - SMAD4</th><td>KRAS - SMAD4  </td><td>1</td><td>0</td><td>0</td><td>0</td><td>0</td><td>0</td><td>0</td><td>1</td><td>0</td><td>0</td><td>0</td><td> 1</td><td>0.1</td></tr>\n",
       "\t<tr><th scope=row>KRAS - SMARCA4</th><td>KRAS - SMARCA4</td><td>1</td><td>0</td><td>1</td><td>1</td><td>1</td><td>1</td><td>1</td><td>1</td><td>1</td><td>1</td><td>1</td><td> 9</td><td>0.9</td></tr>\n",
       "\t<tr><th scope=row>KRAS - STK11</th><td>KRAS - STK11  </td><td>1</td><td>1</td><td>1</td><td>1</td><td>1</td><td>1</td><td>1</td><td>1</td><td>1</td><td>1</td><td>1</td><td>10</td><td>1.0</td></tr>\n",
       "\t<tr><th scope=row>KRAS - TP53</th><td>KRAS - TP53   </td><td>1</td><td>1</td><td>1</td><td>1</td><td>1</td><td>1</td><td>1</td><td>1</td><td>1</td><td>1</td><td>1</td><td>10</td><td>1.0</td></tr>\n",
       "\t<tr><th scope=row>KRAS - RBM10</th><td>KRAS - RBM10  </td><td>1</td><td>0</td><td>1</td><td>1</td><td>1</td><td>1</td><td>1</td><td>1</td><td>1</td><td>1</td><td>1</td><td> 9</td><td>0.9</td></tr>\n",
       "\t<tr><th scope=row>ATRX - KRAS</th><td>ATRX - KRAS   </td><td>1</td><td>0</td><td>1</td><td>0</td><td>1</td><td>0</td><td>0</td><td>0</td><td>1</td><td>1</td><td>1</td><td> 5</td><td>0.5</td></tr>\n",
       "\t<tr><th scope=row>MED12 - TP53</th><td>MED12 - TP53  </td><td>1</td><td>1</td><td>1</td><td>1</td><td>1</td><td>1</td><td>1</td><td>1</td><td>1</td><td>1</td><td>1</td><td>10</td><td>1.0</td></tr>\n",
       "\t<tr><th scope=row>MET - TP53</th><td>MET - TP53    </td><td>1</td><td>1</td><td>1</td><td>0</td><td>1</td><td>1</td><td>1</td><td>1</td><td>1</td><td>1</td><td>0</td><td> 8</td><td>0.8</td></tr>\n",
       "\t<tr><th scope=row>NF1 - TP53</th><td>NF1 - TP53    </td><td>1</td><td>1</td><td>1</td><td>1</td><td>1</td><td>1</td><td>1</td><td>1</td><td>1</td><td>1</td><td>1</td><td>10</td><td>1.0</td></tr>\n",
       "\t<tr><th scope=row>NOTCH1 - TP53</th><td>NOTCH1 - TP53 </td><td>1</td><td>0</td><td>0</td><td>0</td><td>1</td><td>0</td><td>1</td><td>0</td><td>0</td><td>1</td><td>0</td><td> 3</td><td>0.3</td></tr>\n",
       "\t<tr><th scope=row>RB1 - TP53</th><td>RB1 - TP53    </td><td>1</td><td>1</td><td>1</td><td>1</td><td>1</td><td>1</td><td>1</td><td>1</td><td>0</td><td>1</td><td>1</td><td> 9</td><td>0.9</td></tr>\n",
       "\t<tr><th scope=row>SETD2 - TP53</th><td>SETD2 - TP53  </td><td>1</td><td>0</td><td>0</td><td>0</td><td>0</td><td>0</td><td>1</td><td>0</td><td>1</td><td>0</td><td>0</td><td> 2</td><td>0.2</td></tr>\n",
       "\t<tr><th scope=row>STK11 - TP53</th><td>STK11 - TP53  </td><td>1</td><td>1</td><td>1</td><td>1</td><td>1</td><td>1</td><td>1</td><td>1</td><td>1</td><td>1</td><td>1</td><td>10</td><td>1.0</td></tr>\n",
       "\t<tr><th scope=row>KEAP1 - STK11</th><td>KEAP1 - STK11 </td><td>1</td><td>1</td><td>1</td><td>1</td><td>0</td><td>1</td><td>1</td><td>1</td><td>1</td><td>1</td><td>1</td><td> 9</td><td>0.9</td></tr>\n",
       "\t<tr><th scope=row>B2M - TP53</th><td>B2M - TP53    </td><td>1</td><td>0</td><td>1</td><td>1</td><td>0</td><td>0</td><td>0</td><td>0</td><td>0</td><td>1</td><td>1</td><td> 4</td><td>0.4</td></tr>\n",
       "\t<tr><th scope=row>RBM10 - TP53</th><td>RBM10 - TP53  </td><td>1</td><td>0</td><td>1</td><td>0</td><td>0</td><td>1</td><td>0</td><td>1</td><td>1</td><td>1</td><td>0</td><td> 5</td><td>0.5</td></tr>\n",
       "</tbody>\n",
       "</table>\n"
      ],
      "text/latex": [
       "A data.frame: 31 × 14\n",
       "\\begin{tabular}{r|llllllllllllll}\n",
       "  & pairs & Run\\_100 & Run\\_1 & Run\\_2 & Run\\_3 & Run\\_4 & Run\\_5 & Run\\_6 & Run\\_7 & Run\\_8 & Run\\_9 & Run\\_10 & Total\\_count & Total\\\\\n",
       "  & <chr> & <dbl> & <dbl> & <dbl> & <dbl> & <dbl> & <dbl> & <dbl> & <dbl> & <dbl> & <dbl> & <dbl> & <dbl> & <dbl>\\\\\n",
       "\\hline\n",
       "\tATM - KRAS & ATM - KRAS     & 1 & 0 & 0 & 1 & 1 & 1 & 1 & 1 & 1 & 1 & 1 &  8 & 0.8\\\\\n",
       "\tATM - STK11 & ATM - STK11    & 1 & 0 & 1 & 1 & 0 & 1 & 1 & 1 & 1 & 1 & 1 &  8 & 0.8\\\\\n",
       "\tATM - TP53 & ATM - TP53     & 1 & 0 & 1 & 1 & 1 & 1 & 0 & 0 & 1 & 1 & 1 &  7 & 0.7\\\\\n",
       "\tBRAF - KRAS & BRAF - KRAS    & 1 & 1 & 1 & 1 & 1 & 1 & 1 & 1 & 1 & 1 & 1 & 10 & 1.0\\\\\n",
       "\tBRAF - SETD2 & BRAF - SETD2   & 1 & 0 & 0 & 0 & 1 & 1 & 1 & 0 & 1 & 0 & 1 &  5 & 0.5\\\\\n",
       "\tCDKN2A - TP53 & CDKN2A - TP53  & 1 & 1 & 1 & 0 & 1 & 0 & 1 & 1 & 0 & 1 & 0 &  6 & 0.6\\\\\n",
       "\tCTNNB1 - TP53 & CTNNB1 - TP53  & 1 & 1 & 1 & 1 & 0 & 1 & 1 & 0 & 0 & 1 & 0 &  6 & 0.6\\\\\n",
       "\tEGFR - KRAS & EGFR - KRAS    & 1 & 1 & 1 & 1 & 1 & 1 & 1 & 1 & 1 & 1 & 1 & 10 & 1.0\\\\\n",
       "\tEGFR - STK11 & EGFR - STK11   & 1 & 1 & 1 & 1 & 1 & 1 & 1 & 1 & 1 & 1 & 1 & 10 & 1.0\\\\\n",
       "\tEGFR - TP53 & EGFR - TP53    & 1 & 0 & 1 & 0 & 0 & 0 & 1 & 1 & 0 & 1 & 0 &  4 & 0.4\\\\\n",
       "\tEGFR - KEAP1 & EGFR - KEAP1   & 1 & 1 & 1 & 1 & 1 & 0 & 1 & 1 & 1 & 1 & 1 &  9 & 0.9\\\\\n",
       "\tFBXW7 - KRAS & FBXW7 - KRAS   & 1 & 1 & 1 & 0 & 1 & 1 & 1 & 0 & 0 & 0 & 1 &  6 & 0.6\\\\\n",
       "\tKRAS - MET & KRAS - MET     & 1 & 1 & 1 & 0 & 1 & 1 & 1 & 0 & 1 & 1 & 0 &  7 & 0.7\\\\\n",
       "\tKRAS - NF1 & KRAS - NF1     & 1 & 1 & 1 & 1 & 1 & 1 & 1 & 1 & 0 & 1 & 1 &  9 & 0.9\\\\\n",
       "\tKRAS - RB1 & KRAS - RB1     & 1 & 0 & 0 & 0 & 0 & 1 & 0 & 0 & 1 & 1 & 1 &  4 & 0.4\\\\\n",
       "\tKRAS - SMAD4 & KRAS - SMAD4   & 1 & 0 & 0 & 0 & 0 & 0 & 0 & 1 & 0 & 0 & 0 &  1 & 0.1\\\\\n",
       "\tKRAS - SMARCA4 & KRAS - SMARCA4 & 1 & 0 & 1 & 1 & 1 & 1 & 1 & 1 & 1 & 1 & 1 &  9 & 0.9\\\\\n",
       "\tKRAS - STK11 & KRAS - STK11   & 1 & 1 & 1 & 1 & 1 & 1 & 1 & 1 & 1 & 1 & 1 & 10 & 1.0\\\\\n",
       "\tKRAS - TP53 & KRAS - TP53    & 1 & 1 & 1 & 1 & 1 & 1 & 1 & 1 & 1 & 1 & 1 & 10 & 1.0\\\\\n",
       "\tKRAS - RBM10 & KRAS - RBM10   & 1 & 0 & 1 & 1 & 1 & 1 & 1 & 1 & 1 & 1 & 1 &  9 & 0.9\\\\\n",
       "\tATRX - KRAS & ATRX - KRAS    & 1 & 0 & 1 & 0 & 1 & 0 & 0 & 0 & 1 & 1 & 1 &  5 & 0.5\\\\\n",
       "\tMED12 - TP53 & MED12 - TP53   & 1 & 1 & 1 & 1 & 1 & 1 & 1 & 1 & 1 & 1 & 1 & 10 & 1.0\\\\\n",
       "\tMET - TP53 & MET - TP53     & 1 & 1 & 1 & 0 & 1 & 1 & 1 & 1 & 1 & 1 & 0 &  8 & 0.8\\\\\n",
       "\tNF1 - TP53 & NF1 - TP53     & 1 & 1 & 1 & 1 & 1 & 1 & 1 & 1 & 1 & 1 & 1 & 10 & 1.0\\\\\n",
       "\tNOTCH1 - TP53 & NOTCH1 - TP53  & 1 & 0 & 0 & 0 & 1 & 0 & 1 & 0 & 0 & 1 & 0 &  3 & 0.3\\\\\n",
       "\tRB1 - TP53 & RB1 - TP53     & 1 & 1 & 1 & 1 & 1 & 1 & 1 & 1 & 0 & 1 & 1 &  9 & 0.9\\\\\n",
       "\tSETD2 - TP53 & SETD2 - TP53   & 1 & 0 & 0 & 0 & 0 & 0 & 1 & 0 & 1 & 0 & 0 &  2 & 0.2\\\\\n",
       "\tSTK11 - TP53 & STK11 - TP53   & 1 & 1 & 1 & 1 & 1 & 1 & 1 & 1 & 1 & 1 & 1 & 10 & 1.0\\\\\n",
       "\tKEAP1 - STK11 & KEAP1 - STK11  & 1 & 1 & 1 & 1 & 0 & 1 & 1 & 1 & 1 & 1 & 1 &  9 & 0.9\\\\\n",
       "\tB2M - TP53 & B2M - TP53     & 1 & 0 & 1 & 1 & 0 & 0 & 0 & 0 & 0 & 1 & 1 &  4 & 0.4\\\\\n",
       "\tRBM10 - TP53 & RBM10 - TP53   & 1 & 0 & 1 & 0 & 0 & 1 & 0 & 1 & 1 & 1 & 0 &  5 & 0.5\\\\\n",
       "\\end{tabular}\n"
      ],
      "text/markdown": [
       "\n",
       "A data.frame: 31 × 14\n",
       "\n",
       "| <!--/--> | pairs &lt;chr&gt; | Run_100 &lt;dbl&gt; | Run_1 &lt;dbl&gt; | Run_2 &lt;dbl&gt; | Run_3 &lt;dbl&gt; | Run_4 &lt;dbl&gt; | Run_5 &lt;dbl&gt; | Run_6 &lt;dbl&gt; | Run_7 &lt;dbl&gt; | Run_8 &lt;dbl&gt; | Run_9 &lt;dbl&gt; | Run_10 &lt;dbl&gt; | Total_count &lt;dbl&gt; | Total &lt;dbl&gt; |\n",
       "|---|---|---|---|---|---|---|---|---|---|---|---|---|---|---|\n",
       "| ATM - KRAS | ATM - KRAS     | 1 | 0 | 0 | 1 | 1 | 1 | 1 | 1 | 1 | 1 | 1 |  8 | 0.8 |\n",
       "| ATM - STK11 | ATM - STK11    | 1 | 0 | 1 | 1 | 0 | 1 | 1 | 1 | 1 | 1 | 1 |  8 | 0.8 |\n",
       "| ATM - TP53 | ATM - TP53     | 1 | 0 | 1 | 1 | 1 | 1 | 0 | 0 | 1 | 1 | 1 |  7 | 0.7 |\n",
       "| BRAF - KRAS | BRAF - KRAS    | 1 | 1 | 1 | 1 | 1 | 1 | 1 | 1 | 1 | 1 | 1 | 10 | 1.0 |\n",
       "| BRAF - SETD2 | BRAF - SETD2   | 1 | 0 | 0 | 0 | 1 | 1 | 1 | 0 | 1 | 0 | 1 |  5 | 0.5 |\n",
       "| CDKN2A - TP53 | CDKN2A - TP53  | 1 | 1 | 1 | 0 | 1 | 0 | 1 | 1 | 0 | 1 | 0 |  6 | 0.6 |\n",
       "| CTNNB1 - TP53 | CTNNB1 - TP53  | 1 | 1 | 1 | 1 | 0 | 1 | 1 | 0 | 0 | 1 | 0 |  6 | 0.6 |\n",
       "| EGFR - KRAS | EGFR - KRAS    | 1 | 1 | 1 | 1 | 1 | 1 | 1 | 1 | 1 | 1 | 1 | 10 | 1.0 |\n",
       "| EGFR - STK11 | EGFR - STK11   | 1 | 1 | 1 | 1 | 1 | 1 | 1 | 1 | 1 | 1 | 1 | 10 | 1.0 |\n",
       "| EGFR - TP53 | EGFR - TP53    | 1 | 0 | 1 | 0 | 0 | 0 | 1 | 1 | 0 | 1 | 0 |  4 | 0.4 |\n",
       "| EGFR - KEAP1 | EGFR - KEAP1   | 1 | 1 | 1 | 1 | 1 | 0 | 1 | 1 | 1 | 1 | 1 |  9 | 0.9 |\n",
       "| FBXW7 - KRAS | FBXW7 - KRAS   | 1 | 1 | 1 | 0 | 1 | 1 | 1 | 0 | 0 | 0 | 1 |  6 | 0.6 |\n",
       "| KRAS - MET | KRAS - MET     | 1 | 1 | 1 | 0 | 1 | 1 | 1 | 0 | 1 | 1 | 0 |  7 | 0.7 |\n",
       "| KRAS - NF1 | KRAS - NF1     | 1 | 1 | 1 | 1 | 1 | 1 | 1 | 1 | 0 | 1 | 1 |  9 | 0.9 |\n",
       "| KRAS - RB1 | KRAS - RB1     | 1 | 0 | 0 | 0 | 0 | 1 | 0 | 0 | 1 | 1 | 1 |  4 | 0.4 |\n",
       "| KRAS - SMAD4 | KRAS - SMAD4   | 1 | 0 | 0 | 0 | 0 | 0 | 0 | 1 | 0 | 0 | 0 |  1 | 0.1 |\n",
       "| KRAS - SMARCA4 | KRAS - SMARCA4 | 1 | 0 | 1 | 1 | 1 | 1 | 1 | 1 | 1 | 1 | 1 |  9 | 0.9 |\n",
       "| KRAS - STK11 | KRAS - STK11   | 1 | 1 | 1 | 1 | 1 | 1 | 1 | 1 | 1 | 1 | 1 | 10 | 1.0 |\n",
       "| KRAS - TP53 | KRAS - TP53    | 1 | 1 | 1 | 1 | 1 | 1 | 1 | 1 | 1 | 1 | 1 | 10 | 1.0 |\n",
       "| KRAS - RBM10 | KRAS - RBM10   | 1 | 0 | 1 | 1 | 1 | 1 | 1 | 1 | 1 | 1 | 1 |  9 | 0.9 |\n",
       "| ATRX - KRAS | ATRX - KRAS    | 1 | 0 | 1 | 0 | 1 | 0 | 0 | 0 | 1 | 1 | 1 |  5 | 0.5 |\n",
       "| MED12 - TP53 | MED12 - TP53   | 1 | 1 | 1 | 1 | 1 | 1 | 1 | 1 | 1 | 1 | 1 | 10 | 1.0 |\n",
       "| MET - TP53 | MET - TP53     | 1 | 1 | 1 | 0 | 1 | 1 | 1 | 1 | 1 | 1 | 0 |  8 | 0.8 |\n",
       "| NF1 - TP53 | NF1 - TP53     | 1 | 1 | 1 | 1 | 1 | 1 | 1 | 1 | 1 | 1 | 1 | 10 | 1.0 |\n",
       "| NOTCH1 - TP53 | NOTCH1 - TP53  | 1 | 0 | 0 | 0 | 1 | 0 | 1 | 0 | 0 | 1 | 0 |  3 | 0.3 |\n",
       "| RB1 - TP53 | RB1 - TP53     | 1 | 1 | 1 | 1 | 1 | 1 | 1 | 1 | 0 | 1 | 1 |  9 | 0.9 |\n",
       "| SETD2 - TP53 | SETD2 - TP53   | 1 | 0 | 0 | 0 | 0 | 0 | 1 | 0 | 1 | 0 | 0 |  2 | 0.2 |\n",
       "| STK11 - TP53 | STK11 - TP53   | 1 | 1 | 1 | 1 | 1 | 1 | 1 | 1 | 1 | 1 | 1 | 10 | 1.0 |\n",
       "| KEAP1 - STK11 | KEAP1 - STK11  | 1 | 1 | 1 | 1 | 0 | 1 | 1 | 1 | 1 | 1 | 1 |  9 | 0.9 |\n",
       "| B2M - TP53 | B2M - TP53     | 1 | 0 | 1 | 1 | 0 | 0 | 0 | 0 | 0 | 1 | 1 |  4 | 0.4 |\n",
       "| RBM10 - TP53 | RBM10 - TP53   | 1 | 0 | 1 | 0 | 0 | 1 | 0 | 1 | 1 | 1 | 0 |  5 | 0.5 |\n",
       "\n"
      ],
      "text/plain": [
       "               pairs          Run_100 Run_1 Run_2 Run_3 Run_4 Run_5 Run_6 Run_7\n",
       "ATM - KRAS     ATM - KRAS     1       0     0     1     1     1     1     1    \n",
       "ATM - STK11    ATM - STK11    1       0     1     1     0     1     1     1    \n",
       "ATM - TP53     ATM - TP53     1       0     1     1     1     1     0     0    \n",
       "BRAF - KRAS    BRAF - KRAS    1       1     1     1     1     1     1     1    \n",
       "BRAF - SETD2   BRAF - SETD2   1       0     0     0     1     1     1     0    \n",
       "CDKN2A - TP53  CDKN2A - TP53  1       1     1     0     1     0     1     1    \n",
       "CTNNB1 - TP53  CTNNB1 - TP53  1       1     1     1     0     1     1     0    \n",
       "EGFR - KRAS    EGFR - KRAS    1       1     1     1     1     1     1     1    \n",
       "EGFR - STK11   EGFR - STK11   1       1     1     1     1     1     1     1    \n",
       "EGFR - TP53    EGFR - TP53    1       0     1     0     0     0     1     1    \n",
       "EGFR - KEAP1   EGFR - KEAP1   1       1     1     1     1     0     1     1    \n",
       "FBXW7 - KRAS   FBXW7 - KRAS   1       1     1     0     1     1     1     0    \n",
       "KRAS - MET     KRAS - MET     1       1     1     0     1     1     1     0    \n",
       "KRAS - NF1     KRAS - NF1     1       1     1     1     1     1     1     1    \n",
       "KRAS - RB1     KRAS - RB1     1       0     0     0     0     1     0     0    \n",
       "KRAS - SMAD4   KRAS - SMAD4   1       0     0     0     0     0     0     1    \n",
       "KRAS - SMARCA4 KRAS - SMARCA4 1       0     1     1     1     1     1     1    \n",
       "KRAS - STK11   KRAS - STK11   1       1     1     1     1     1     1     1    \n",
       "KRAS - TP53    KRAS - TP53    1       1     1     1     1     1     1     1    \n",
       "KRAS - RBM10   KRAS - RBM10   1       0     1     1     1     1     1     1    \n",
       "ATRX - KRAS    ATRX - KRAS    1       0     1     0     1     0     0     0    \n",
       "MED12 - TP53   MED12 - TP53   1       1     1     1     1     1     1     1    \n",
       "MET - TP53     MET - TP53     1       1     1     0     1     1     1     1    \n",
       "NF1 - TP53     NF1 - TP53     1       1     1     1     1     1     1     1    \n",
       "NOTCH1 - TP53  NOTCH1 - TP53  1       0     0     0     1     0     1     0    \n",
       "RB1 - TP53     RB1 - TP53     1       1     1     1     1     1     1     1    \n",
       "SETD2 - TP53   SETD2 - TP53   1       0     0     0     0     0     1     0    \n",
       "STK11 - TP53   STK11 - TP53   1       1     1     1     1     1     1     1    \n",
       "KEAP1 - STK11  KEAP1 - STK11  1       1     1     1     0     1     1     1    \n",
       "B2M - TP53     B2M - TP53     1       0     1     1     0     0     0     0    \n",
       "RBM10 - TP53   RBM10 - TP53   1       0     1     0     0     1     0     1    \n",
       "               Run_8 Run_9 Run_10 Total_count Total\n",
       "ATM - KRAS     1     1     1       8          0.8  \n",
       "ATM - STK11    1     1     1       8          0.8  \n",
       "ATM - TP53     1     1     1       7          0.7  \n",
       "BRAF - KRAS    1     1     1      10          1.0  \n",
       "BRAF - SETD2   1     0     1       5          0.5  \n",
       "CDKN2A - TP53  0     1     0       6          0.6  \n",
       "CTNNB1 - TP53  0     1     0       6          0.6  \n",
       "EGFR - KRAS    1     1     1      10          1.0  \n",
       "EGFR - STK11   1     1     1      10          1.0  \n",
       "EGFR - TP53    0     1     0       4          0.4  \n",
       "EGFR - KEAP1   1     1     1       9          0.9  \n",
       "FBXW7 - KRAS   0     0     1       6          0.6  \n",
       "KRAS - MET     1     1     0       7          0.7  \n",
       "KRAS - NF1     0     1     1       9          0.9  \n",
       "KRAS - RB1     1     1     1       4          0.4  \n",
       "KRAS - SMAD4   0     0     0       1          0.1  \n",
       "KRAS - SMARCA4 1     1     1       9          0.9  \n",
       "KRAS - STK11   1     1     1      10          1.0  \n",
       "KRAS - TP53    1     1     1      10          1.0  \n",
       "KRAS - RBM10   1     1     1       9          0.9  \n",
       "ATRX - KRAS    1     1     1       5          0.5  \n",
       "MED12 - TP53   1     1     1      10          1.0  \n",
       "MET - TP53     1     1     0       8          0.8  \n",
       "NF1 - TP53     1     1     1      10          1.0  \n",
       "NOTCH1 - TP53  0     1     0       3          0.3  \n",
       "RB1 - TP53     0     1     1       9          0.9  \n",
       "SETD2 - TP53   1     0     0       2          0.2  \n",
       "STK11 - TP53   1     1     1      10          1.0  \n",
       "KEAP1 - STK11  1     1     1       9          0.9  \n",
       "B2M - TP53     0     1     1       4          0.4  \n",
       "RBM10 - TP53   1     1     0       5          0.5  "
      ]
     },
     "metadata": {},
     "output_type": "display_data"
    }
   ],
   "source": [
    "score_df"
   ]
  },
  {
   "cell_type": "code",
   "execution_count": 124,
   "id": "6d164bba-fe29-429c-af42-849bbd6776f7",
   "metadata": {},
   "outputs": [],
   "source": [
    "cum_pct<-list()\n",
    "cum_pairs<-list()\n",
    "for(i in c(1:10)){\n",
    "    cum_pct[[i]]<-sum(rowSums(score_df[,c(3:12)])>=i)*100/31\n",
    "    cum_pairs[[i]]<-sum(rowSums(score_df[,c(3:12)])>=i)\n",
    "}"
   ]
  },
  {
   "cell_type": "code",
   "execution_count": 125,
   "id": "a79a6d2e-fe14-4952-b028-107eef914c30",
   "metadata": {},
   "outputs": [],
   "source": [
    "score_df_v10<-data.frame('Recovery'=c(1:10),'n'=unlist(cum_pairs),'pct'=unlist(cum_pct))\n",
    "score_df_v10$Recovery <-as.factor(score_df_v10$Recovery)"
   ]
  },
  {
   "cell_type": "code",
   "execution_count": 126,
   "id": "2b6ca77b-9fe6-466c-97bd-4c3a9eec318f",
   "metadata": {},
   "outputs": [
    {
     "data": {
      "text/html": [
       "<table class=\"dataframe\">\n",
       "<caption>A data.frame: 10 × 3</caption>\n",
       "<thead>\n",
       "\t<tr><th scope=col>Recovery</th><th scope=col>n</th><th scope=col>pct</th></tr>\n",
       "\t<tr><th scope=col>&lt;fct&gt;</th><th scope=col>&lt;int&gt;</th><th scope=col>&lt;dbl&gt;</th></tr>\n",
       "</thead>\n",
       "<tbody>\n",
       "\t<tr><td>1 </td><td>31</td><td>100.00000</td></tr>\n",
       "\t<tr><td>2 </td><td>30</td><td> 96.77419</td></tr>\n",
       "\t<tr><td>3 </td><td>29</td><td> 93.54839</td></tr>\n",
       "\t<tr><td>4 </td><td>28</td><td> 90.32258</td></tr>\n",
       "\t<tr><td>5 </td><td>25</td><td> 80.64516</td></tr>\n",
       "\t<tr><td>6 </td><td>22</td><td> 70.96774</td></tr>\n",
       "\t<tr><td>7 </td><td>19</td><td> 61.29032</td></tr>\n",
       "\t<tr><td>8 </td><td>17</td><td> 54.83871</td></tr>\n",
       "\t<tr><td>9 </td><td>14</td><td> 45.16129</td></tr>\n",
       "\t<tr><td>10</td><td> 8</td><td> 25.80645</td></tr>\n",
       "</tbody>\n",
       "</table>\n"
      ],
      "text/latex": [
       "A data.frame: 10 × 3\n",
       "\\begin{tabular}{lll}\n",
       " Recovery & n & pct\\\\\n",
       " <fct> & <int> & <dbl>\\\\\n",
       "\\hline\n",
       "\t 1  & 31 & 100.00000\\\\\n",
       "\t 2  & 30 &  96.77419\\\\\n",
       "\t 3  & 29 &  93.54839\\\\\n",
       "\t 4  & 28 &  90.32258\\\\\n",
       "\t 5  & 25 &  80.64516\\\\\n",
       "\t 6  & 22 &  70.96774\\\\\n",
       "\t 7  & 19 &  61.29032\\\\\n",
       "\t 8  & 17 &  54.83871\\\\\n",
       "\t 9  & 14 &  45.16129\\\\\n",
       "\t 10 &  8 &  25.80645\\\\\n",
       "\\end{tabular}\n"
      ],
      "text/markdown": [
       "\n",
       "A data.frame: 10 × 3\n",
       "\n",
       "| Recovery &lt;fct&gt; | n &lt;int&gt; | pct &lt;dbl&gt; |\n",
       "|---|---|---|\n",
       "| 1  | 31 | 100.00000 |\n",
       "| 2  | 30 |  96.77419 |\n",
       "| 3  | 29 |  93.54839 |\n",
       "| 4  | 28 |  90.32258 |\n",
       "| 5  | 25 |  80.64516 |\n",
       "| 6  | 22 |  70.96774 |\n",
       "| 7  | 19 |  61.29032 |\n",
       "| 8  | 17 |  54.83871 |\n",
       "| 9  | 14 |  45.16129 |\n",
       "| 10 |  8 |  25.80645 |\n",
       "\n"
      ],
      "text/plain": [
       "   Recovery n  pct      \n",
       "1  1        31 100.00000\n",
       "2  2        30  96.77419\n",
       "3  3        29  93.54839\n",
       "4  4        28  90.32258\n",
       "5  5        25  80.64516\n",
       "6  6        22  70.96774\n",
       "7  7        19  61.29032\n",
       "8  8        17  54.83871\n",
       "9  9        14  45.16129\n",
       "10 10        8  25.80645"
      ]
     },
     "metadata": {},
     "output_type": "display_data"
    }
   ],
   "source": [
    "score_df_v10"
   ]
  },
  {
   "cell_type": "markdown",
   "id": "2bf5fa24-e812-4267-8e08-831316c9f865",
   "metadata": {
    "jp-MarkdownHeadingCollapsed": true,
    "tags": []
   },
   "source": [
    "## Combine plots for sampling analysis"
   ]
  },
  {
   "cell_type": "code",
   "execution_count": 185,
   "id": "f439b5b4-6881-41d1-8b80-4ba60fafdbc0",
   "metadata": {},
   "outputs": [
    {
     "data": {
      "text/html": [
       "<table class=\"dataframe\">\n",
       "<caption>A data.frame: 6 × 3</caption>\n",
       "<thead>\n",
       "\t<tr><th></th><th scope=col>Recovery</th><th scope=col>n</th><th scope=col>pct</th></tr>\n",
       "\t<tr><th></th><th scope=col>&lt;fct&gt;</th><th scope=col>&lt;int&gt;</th><th scope=col>&lt;dbl&gt;</th></tr>\n",
       "</thead>\n",
       "<tbody>\n",
       "\t<tr><th scope=row>1</th><td>1</td><td>56</td><td>98.24561</td></tr>\n",
       "\t<tr><th scope=row>2</th><td>2</td><td>54</td><td>94.73684</td></tr>\n",
       "\t<tr><th scope=row>3</th><td>3</td><td>52</td><td>91.22807</td></tr>\n",
       "\t<tr><th scope=row>4</th><td>4</td><td>50</td><td>87.71930</td></tr>\n",
       "\t<tr><th scope=row>5</th><td>5</td><td>46</td><td>80.70175</td></tr>\n",
       "\t<tr><th scope=row>6</th><td>6</td><td>42</td><td>73.68421</td></tr>\n",
       "</tbody>\n",
       "</table>\n"
      ],
      "text/latex": [
       "A data.frame: 6 × 3\n",
       "\\begin{tabular}{r|lll}\n",
       "  & Recovery & n & pct\\\\\n",
       "  & <fct> & <int> & <dbl>\\\\\n",
       "\\hline\n",
       "\t1 & 1 & 56 & 98.24561\\\\\n",
       "\t2 & 2 & 54 & 94.73684\\\\\n",
       "\t3 & 3 & 52 & 91.22807\\\\\n",
       "\t4 & 4 & 50 & 87.71930\\\\\n",
       "\t5 & 5 & 46 & 80.70175\\\\\n",
       "\t6 & 6 & 42 & 73.68421\\\\\n",
       "\\end{tabular}\n"
      ],
      "text/markdown": [
       "\n",
       "A data.frame: 6 × 3\n",
       "\n",
       "| <!--/--> | Recovery &lt;fct&gt; | n &lt;int&gt; | pct &lt;dbl&gt; |\n",
       "|---|---|---|---|\n",
       "| 1 | 1 | 56 | 98.24561 |\n",
       "| 2 | 2 | 54 | 94.73684 |\n",
       "| 3 | 3 | 52 | 91.22807 |\n",
       "| 4 | 4 | 50 | 87.71930 |\n",
       "| 5 | 5 | 46 | 80.70175 |\n",
       "| 6 | 6 | 42 | 73.68421 |\n",
       "\n"
      ],
      "text/plain": [
       "  Recovery n  pct     \n",
       "1 1        56 98.24561\n",
       "2 2        54 94.73684\n",
       "3 3        52 91.22807\n",
       "4 4        50 87.71930\n",
       "5 5        46 80.70175\n",
       "6 6        42 73.68421"
      ]
     },
     "metadata": {},
     "output_type": "display_data"
    }
   ],
   "source": [
    "head(score_df_v3)"
   ]
  },
  {
   "cell_type": "code",
   "execution_count": 186,
   "id": "30ef8fea-4a13-4c46-bdb3-60c40f86e554",
   "metadata": {},
   "outputs": [
    {
     "data": {
      "text/html": [
       "<table class=\"dataframe\">\n",
       "<caption>A data.frame: 6 × 3</caption>\n",
       "<thead>\n",
       "\t<tr><th></th><th scope=col>Recovery</th><th scope=col>n</th><th scope=col>pct</th></tr>\n",
       "\t<tr><th></th><th scope=col>&lt;fct&gt;</th><th scope=col>&lt;int&gt;</th><th scope=col>&lt;dbl&gt;</th></tr>\n",
       "</thead>\n",
       "<tbody>\n",
       "\t<tr><th scope=row>1</th><td>1</td><td>17</td><td>85</td></tr>\n",
       "\t<tr><th scope=row>2</th><td>2</td><td>11</td><td>55</td></tr>\n",
       "\t<tr><th scope=row>3</th><td>3</td><td>10</td><td>50</td></tr>\n",
       "\t<tr><th scope=row>4</th><td>4</td><td> 9</td><td>45</td></tr>\n",
       "\t<tr><th scope=row>5</th><td>5</td><td> 8</td><td>40</td></tr>\n",
       "\t<tr><th scope=row>6</th><td>6</td><td> 7</td><td>35</td></tr>\n",
       "</tbody>\n",
       "</table>\n"
      ],
      "text/latex": [
       "A data.frame: 6 × 3\n",
       "\\begin{tabular}{r|lll}\n",
       "  & Recovery & n & pct\\\\\n",
       "  & <fct> & <int> & <dbl>\\\\\n",
       "\\hline\n",
       "\t1 & 1 & 17 & 85\\\\\n",
       "\t2 & 2 & 11 & 55\\\\\n",
       "\t3 & 3 & 10 & 50\\\\\n",
       "\t4 & 4 &  9 & 45\\\\\n",
       "\t5 & 5 &  8 & 40\\\\\n",
       "\t6 & 6 &  7 & 35\\\\\n",
       "\\end{tabular}\n"
      ],
      "text/markdown": [
       "\n",
       "A data.frame: 6 × 3\n",
       "\n",
       "| <!--/--> | Recovery &lt;fct&gt; | n &lt;int&gt; | pct &lt;dbl&gt; |\n",
       "|---|---|---|---|\n",
       "| 1 | 1 | 17 | 85 |\n",
       "| 2 | 2 | 11 | 55 |\n",
       "| 3 | 3 | 10 | 50 |\n",
       "| 4 | 4 |  9 | 45 |\n",
       "| 5 | 5 |  8 | 40 |\n",
       "| 6 | 6 |  7 | 35 |\n",
       "\n"
      ],
      "text/plain": [
       "  Recovery n  pct\n",
       "1 1        17 85 \n",
       "2 2        11 55 \n",
       "3 3        10 50 \n",
       "4 4         9 45 \n",
       "5 5         8 40 \n",
       "6 6         7 35 "
      ]
     },
     "metadata": {},
     "output_type": "display_data"
    }
   ],
   "source": [
    "head(score_df_v4)"
   ]
  },
  {
   "cell_type": "code",
   "execution_count": 187,
   "id": "f4ff03ac-79e0-4d2a-bda2-00e70b92249f",
   "metadata": {},
   "outputs": [
    {
     "data": {
      "text/html": [
       "<table class=\"dataframe\">\n",
       "<caption>A data.frame: 6 × 3</caption>\n",
       "<thead>\n",
       "\t<tr><th></th><th scope=col>Recovery</th><th scope=col>n</th><th scope=col>pct</th></tr>\n",
       "\t<tr><th></th><th scope=col>&lt;fct&gt;</th><th scope=col>&lt;int&gt;</th><th scope=col>&lt;dbl&gt;</th></tr>\n",
       "</thead>\n",
       "<tbody>\n",
       "\t<tr><th scope=row>1</th><td>1</td><td>20</td><td>95.23810</td></tr>\n",
       "\t<tr><th scope=row>2</th><td>2</td><td>20</td><td>95.23810</td></tr>\n",
       "\t<tr><th scope=row>3</th><td>3</td><td>17</td><td>80.95238</td></tr>\n",
       "\t<tr><th scope=row>4</th><td>4</td><td>17</td><td>80.95238</td></tr>\n",
       "\t<tr><th scope=row>5</th><td>5</td><td>14</td><td>66.66667</td></tr>\n",
       "\t<tr><th scope=row>6</th><td>6</td><td>14</td><td>66.66667</td></tr>\n",
       "</tbody>\n",
       "</table>\n"
      ],
      "text/latex": [
       "A data.frame: 6 × 3\n",
       "\\begin{tabular}{r|lll}\n",
       "  & Recovery & n & pct\\\\\n",
       "  & <fct> & <int> & <dbl>\\\\\n",
       "\\hline\n",
       "\t1 & 1 & 20 & 95.23810\\\\\n",
       "\t2 & 2 & 20 & 95.23810\\\\\n",
       "\t3 & 3 & 17 & 80.95238\\\\\n",
       "\t4 & 4 & 17 & 80.95238\\\\\n",
       "\t5 & 5 & 14 & 66.66667\\\\\n",
       "\t6 & 6 & 14 & 66.66667\\\\\n",
       "\\end{tabular}\n"
      ],
      "text/markdown": [
       "\n",
       "A data.frame: 6 × 3\n",
       "\n",
       "| <!--/--> | Recovery &lt;fct&gt; | n &lt;int&gt; | pct &lt;dbl&gt; |\n",
       "|---|---|---|---|\n",
       "| 1 | 1 | 20 | 95.23810 |\n",
       "| 2 | 2 | 20 | 95.23810 |\n",
       "| 3 | 3 | 17 | 80.95238 |\n",
       "| 4 | 4 | 17 | 80.95238 |\n",
       "| 5 | 5 | 14 | 66.66667 |\n",
       "| 6 | 6 | 14 | 66.66667 |\n",
       "\n"
      ],
      "text/plain": [
       "  Recovery n  pct     \n",
       "1 1        20 95.23810\n",
       "2 2        20 95.23810\n",
       "3 3        17 80.95238\n",
       "4 4        17 80.95238\n",
       "5 5        14 66.66667\n",
       "6 6        14 66.66667"
      ]
     },
     "metadata": {},
     "output_type": "display_data"
    }
   ],
   "source": [
    "head(score_df_v5)"
   ]
  },
  {
   "cell_type": "code",
   "execution_count": 188,
   "id": "dc80d16c-1475-4b9e-9684-1e1f2ba77cc9",
   "metadata": {},
   "outputs": [
    {
     "data": {
      "text/html": [
       "<table class=\"dataframe\">\n",
       "<caption>A data.frame: 6 × 3</caption>\n",
       "<thead>\n",
       "\t<tr><th></th><th scope=col>Recovery</th><th scope=col>n</th><th scope=col>pct</th></tr>\n",
       "\t<tr><th></th><th scope=col>&lt;fct&gt;</th><th scope=col>&lt;int&gt;</th><th scope=col>&lt;dbl&gt;</th></tr>\n",
       "</thead>\n",
       "<tbody>\n",
       "\t<tr><th scope=row>1</th><td>1</td><td>37</td><td>97.36842</td></tr>\n",
       "\t<tr><th scope=row>2</th><td>2</td><td>34</td><td>89.47368</td></tr>\n",
       "\t<tr><th scope=row>3</th><td>3</td><td>34</td><td>89.47368</td></tr>\n",
       "\t<tr><th scope=row>4</th><td>4</td><td>28</td><td>73.68421</td></tr>\n",
       "\t<tr><th scope=row>5</th><td>5</td><td>27</td><td>71.05263</td></tr>\n",
       "\t<tr><th scope=row>6</th><td>6</td><td>25</td><td>65.78947</td></tr>\n",
       "</tbody>\n",
       "</table>\n"
      ],
      "text/latex": [
       "A data.frame: 6 × 3\n",
       "\\begin{tabular}{r|lll}\n",
       "  & Recovery & n & pct\\\\\n",
       "  & <fct> & <int> & <dbl>\\\\\n",
       "\\hline\n",
       "\t1 & 1 & 37 & 97.36842\\\\\n",
       "\t2 & 2 & 34 & 89.47368\\\\\n",
       "\t3 & 3 & 34 & 89.47368\\\\\n",
       "\t4 & 4 & 28 & 73.68421\\\\\n",
       "\t5 & 5 & 27 & 71.05263\\\\\n",
       "\t6 & 6 & 25 & 65.78947\\\\\n",
       "\\end{tabular}\n"
      ],
      "text/markdown": [
       "\n",
       "A data.frame: 6 × 3\n",
       "\n",
       "| <!--/--> | Recovery &lt;fct&gt; | n &lt;int&gt; | pct &lt;dbl&gt; |\n",
       "|---|---|---|---|\n",
       "| 1 | 1 | 37 | 97.36842 |\n",
       "| 2 | 2 | 34 | 89.47368 |\n",
       "| 3 | 3 | 34 | 89.47368 |\n",
       "| 4 | 4 | 28 | 73.68421 |\n",
       "| 5 | 5 | 27 | 71.05263 |\n",
       "| 6 | 6 | 25 | 65.78947 |\n",
       "\n"
      ],
      "text/plain": [
       "  Recovery n  pct     \n",
       "1 1        37 97.36842\n",
       "2 2        34 89.47368\n",
       "3 3        34 89.47368\n",
       "4 4        28 73.68421\n",
       "5 5        27 71.05263\n",
       "6 6        25 65.78947"
      ]
     },
     "metadata": {},
     "output_type": "display_data"
    }
   ],
   "source": [
    "head(score_df_v6)"
   ]
  },
  {
   "cell_type": "code",
   "execution_count": 189,
   "id": "4bcf7798-59f5-4f0e-a487-12f1e1adeb01",
   "metadata": {},
   "outputs": [
    {
     "data": {
      "text/html": [
       "<table class=\"dataframe\">\n",
       "<caption>A data.frame: 6 × 3</caption>\n",
       "<thead>\n",
       "\t<tr><th></th><th scope=col>Recovery</th><th scope=col>n</th><th scope=col>pct</th></tr>\n",
       "\t<tr><th></th><th scope=col>&lt;fct&gt;</th><th scope=col>&lt;int&gt;</th><th scope=col>&lt;dbl&gt;</th></tr>\n",
       "</thead>\n",
       "<tbody>\n",
       "\t<tr><th scope=row>1</th><td>1</td><td>824</td><td>99.63724</td></tr>\n",
       "\t<tr><th scope=row>2</th><td>2</td><td>821</td><td>99.27449</td></tr>\n",
       "\t<tr><th scope=row>3</th><td>3</td><td>817</td><td>98.79081</td></tr>\n",
       "\t<tr><th scope=row>4</th><td>4</td><td>798</td><td>96.49335</td></tr>\n",
       "\t<tr><th scope=row>5</th><td>5</td><td>775</td><td>93.71221</td></tr>\n",
       "\t<tr><th scope=row>6</th><td>6</td><td>713</td><td>86.21524</td></tr>\n",
       "</tbody>\n",
       "</table>\n"
      ],
      "text/latex": [
       "A data.frame: 6 × 3\n",
       "\\begin{tabular}{r|lll}\n",
       "  & Recovery & n & pct\\\\\n",
       "  & <fct> & <int> & <dbl>\\\\\n",
       "\\hline\n",
       "\t1 & 1 & 824 & 99.63724\\\\\n",
       "\t2 & 2 & 821 & 99.27449\\\\\n",
       "\t3 & 3 & 817 & 98.79081\\\\\n",
       "\t4 & 4 & 798 & 96.49335\\\\\n",
       "\t5 & 5 & 775 & 93.71221\\\\\n",
       "\t6 & 6 & 713 & 86.21524\\\\\n",
       "\\end{tabular}\n"
      ],
      "text/markdown": [
       "\n",
       "A data.frame: 6 × 3\n",
       "\n",
       "| <!--/--> | Recovery &lt;fct&gt; | n &lt;int&gt; | pct &lt;dbl&gt; |\n",
       "|---|---|---|---|\n",
       "| 1 | 1 | 824 | 99.63724 |\n",
       "| 2 | 2 | 821 | 99.27449 |\n",
       "| 3 | 3 | 817 | 98.79081 |\n",
       "| 4 | 4 | 798 | 96.49335 |\n",
       "| 5 | 5 | 775 | 93.71221 |\n",
       "| 6 | 6 | 713 | 86.21524 |\n",
       "\n"
      ],
      "text/plain": [
       "  Recovery n   pct     \n",
       "1 1        824 99.63724\n",
       "2 2        821 99.27449\n",
       "3 3        817 98.79081\n",
       "4 4        798 96.49335\n",
       "5 5        775 93.71221\n",
       "6 6        713 86.21524"
      ]
     },
     "metadata": {},
     "output_type": "display_data"
    }
   ],
   "source": [
    "head(score_df_v7)"
   ]
  },
  {
   "cell_type": "code",
   "execution_count": 127,
   "id": "3994b39b-3d47-4975-8357-fc8ca77223ea",
   "metadata": {},
   "outputs": [
    {
     "data": {
      "text/html": [
       "<table class=\"dataframe\">\n",
       "<caption>A data.frame: 10 × 3</caption>\n",
       "<thead>\n",
       "\t<tr><th scope=col>Recovery</th><th scope=col>n</th><th scope=col>pct</th></tr>\n",
       "\t<tr><th scope=col>&lt;fct&gt;</th><th scope=col>&lt;int&gt;</th><th scope=col>&lt;dbl&gt;</th></tr>\n",
       "</thead>\n",
       "<tbody>\n",
       "\t<tr><td>1 </td><td>399</td><td>90.271493</td></tr>\n",
       "\t<tr><td>2 </td><td>351</td><td>79.411765</td></tr>\n",
       "\t<tr><td>3 </td><td>301</td><td>68.099548</td></tr>\n",
       "\t<tr><td>4 </td><td>243</td><td>54.977376</td></tr>\n",
       "\t<tr><td>5 </td><td>186</td><td>42.081448</td></tr>\n",
       "\t<tr><td>6 </td><td>140</td><td>31.674208</td></tr>\n",
       "\t<tr><td>7 </td><td> 95</td><td>21.493213</td></tr>\n",
       "\t<tr><td>8 </td><td> 71</td><td>16.063348</td></tr>\n",
       "\t<tr><td>9 </td><td> 49</td><td>11.085973</td></tr>\n",
       "\t<tr><td>10</td><td> 14</td><td> 3.167421</td></tr>\n",
       "</tbody>\n",
       "</table>\n"
      ],
      "text/latex": [
       "A data.frame: 10 × 3\n",
       "\\begin{tabular}{lll}\n",
       " Recovery & n & pct\\\\\n",
       " <fct> & <int> & <dbl>\\\\\n",
       "\\hline\n",
       "\t 1  & 399 & 90.271493\\\\\n",
       "\t 2  & 351 & 79.411765\\\\\n",
       "\t 3  & 301 & 68.099548\\\\\n",
       "\t 4  & 243 & 54.977376\\\\\n",
       "\t 5  & 186 & 42.081448\\\\\n",
       "\t 6  & 140 & 31.674208\\\\\n",
       "\t 7  &  95 & 21.493213\\\\\n",
       "\t 8  &  71 & 16.063348\\\\\n",
       "\t 9  &  49 & 11.085973\\\\\n",
       "\t 10 &  14 &  3.167421\\\\\n",
       "\\end{tabular}\n"
      ],
      "text/markdown": [
       "\n",
       "A data.frame: 10 × 3\n",
       "\n",
       "| Recovery &lt;fct&gt; | n &lt;int&gt; | pct &lt;dbl&gt; |\n",
       "|---|---|---|\n",
       "| 1  | 399 | 90.271493 |\n",
       "| 2  | 351 | 79.411765 |\n",
       "| 3  | 301 | 68.099548 |\n",
       "| 4  | 243 | 54.977376 |\n",
       "| 5  | 186 | 42.081448 |\n",
       "| 6  | 140 | 31.674208 |\n",
       "| 7  |  95 | 21.493213 |\n",
       "| 8  |  71 | 16.063348 |\n",
       "| 9  |  49 | 11.085973 |\n",
       "| 10 |  14 |  3.167421 |\n",
       "\n"
      ],
      "text/plain": [
       "   Recovery n   pct      \n",
       "1  1        399 90.271493\n",
       "2  2        351 79.411765\n",
       "3  3        301 68.099548\n",
       "4  4        243 54.977376\n",
       "5  5        186 42.081448\n",
       "6  6        140 31.674208\n",
       "7  7         95 21.493213\n",
       "8  8         71 16.063348\n",
       "9  9         49 11.085973\n",
       "10 10        14  3.167421"
      ]
     },
     "metadata": {},
     "output_type": "display_data"
    }
   ],
   "source": [
    "score_df_v8"
   ]
  },
  {
   "cell_type": "code",
   "execution_count": 129,
   "id": "a6c262d2-e54e-4956-87b5-4569332bb6ef",
   "metadata": {},
   "outputs": [],
   "source": [
    "plot_data<-rbind(\n",
    "                 score_df_v3,\n",
    "                 score_df_v4,\n",
    "                 score_df_v5,\n",
    "                 score_df_v6,\n",
    "                 score_df_v7,\n",
    "                 score_df_v8,\n",
    "                 score_df_v10)"
   ]
  },
  {
   "cell_type": "code",
   "execution_count": 130,
   "id": "7277c072-4cc8-488e-98c6-840bf3b17628",
   "metadata": {},
   "outputs": [
    {
     "data": {
      "text/html": [
       "<style>\n",
       ".list-inline {list-style: none; margin:0; padding: 0}\n",
       ".list-inline>li {display: inline-block}\n",
       ".list-inline>li:not(:last-child)::after {content: \"\\00b7\"; padding: 0 .5ex}\n",
       "</style>\n",
       "<ol class=list-inline><li>70</li><li>3</li></ol>\n"
      ],
      "text/latex": [
       "\\begin{enumerate*}\n",
       "\\item 70\n",
       "\\item 3\n",
       "\\end{enumerate*}\n"
      ],
      "text/markdown": [
       "1. 70\n",
       "2. 3\n",
       "\n",
       "\n"
      ],
      "text/plain": [
       "[1] 70  3"
      ]
     },
     "metadata": {},
     "output_type": "display_data"
    }
   ],
   "source": [
    "dim(plot_data)"
   ]
  },
  {
   "cell_type": "code",
   "execution_count": 131,
   "id": "1fc292fa-678a-466f-805a-4513348baef4",
   "metadata": {},
   "outputs": [
    {
     "data": {
      "text/html": [
       "<table class=\"dataframe\">\n",
       "<caption>A data.frame: 6 × 3</caption>\n",
       "<thead>\n",
       "\t<tr><th></th><th scope=col>Recovery</th><th scope=col>n</th><th scope=col>pct</th></tr>\n",
       "\t<tr><th></th><th scope=col>&lt;fct&gt;</th><th scope=col>&lt;int&gt;</th><th scope=col>&lt;dbl&gt;</th></tr>\n",
       "</thead>\n",
       "<tbody>\n",
       "\t<tr><th scope=row>1</th><td>1</td><td>56</td><td>98.24561</td></tr>\n",
       "\t<tr><th scope=row>2</th><td>2</td><td>54</td><td>94.73684</td></tr>\n",
       "\t<tr><th scope=row>3</th><td>3</td><td>52</td><td>91.22807</td></tr>\n",
       "\t<tr><th scope=row>4</th><td>4</td><td>50</td><td>87.71930</td></tr>\n",
       "\t<tr><th scope=row>5</th><td>5</td><td>46</td><td>80.70175</td></tr>\n",
       "\t<tr><th scope=row>6</th><td>6</td><td>42</td><td>73.68421</td></tr>\n",
       "</tbody>\n",
       "</table>\n"
      ],
      "text/latex": [
       "A data.frame: 6 × 3\n",
       "\\begin{tabular}{r|lll}\n",
       "  & Recovery & n & pct\\\\\n",
       "  & <fct> & <int> & <dbl>\\\\\n",
       "\\hline\n",
       "\t1 & 1 & 56 & 98.24561\\\\\n",
       "\t2 & 2 & 54 & 94.73684\\\\\n",
       "\t3 & 3 & 52 & 91.22807\\\\\n",
       "\t4 & 4 & 50 & 87.71930\\\\\n",
       "\t5 & 5 & 46 & 80.70175\\\\\n",
       "\t6 & 6 & 42 & 73.68421\\\\\n",
       "\\end{tabular}\n"
      ],
      "text/markdown": [
       "\n",
       "A data.frame: 6 × 3\n",
       "\n",
       "| <!--/--> | Recovery &lt;fct&gt; | n &lt;int&gt; | pct &lt;dbl&gt; |\n",
       "|---|---|---|---|\n",
       "| 1 | 1 | 56 | 98.24561 |\n",
       "| 2 | 2 | 54 | 94.73684 |\n",
       "| 3 | 3 | 52 | 91.22807 |\n",
       "| 4 | 4 | 50 | 87.71930 |\n",
       "| 5 | 5 | 46 | 80.70175 |\n",
       "| 6 | 6 | 42 | 73.68421 |\n",
       "\n"
      ],
      "text/plain": [
       "  Recovery n  pct     \n",
       "1 1        56 98.24561\n",
       "2 2        54 94.73684\n",
       "3 3        52 91.22807\n",
       "4 4        50 87.71930\n",
       "5 5        46 80.70175\n",
       "6 6        42 73.68421"
      ]
     },
     "metadata": {},
     "output_type": "display_data"
    }
   ],
   "source": [
    "head(plot_data)"
   ]
  },
  {
   "cell_type": "code",
   "execution_count": 132,
   "id": "031e6df7-d1b1-481c-af69-b292c638ddfa",
   "metadata": {},
   "outputs": [],
   "source": [
    "plot_data$name<-c(\n",
    "                  rep('selectX',10),\n",
    "                  rep('select',10),\n",
    "                  rep('GamTOC',10),\n",
    "                  rep('Discover',10),\n",
    "                  rep('weSME/weSCO',10),\n",
    "                  rep('Coselns',10),\n",
    "                  rep('cooccur',10))"
   ]
  },
  {
   "cell_type": "code",
   "execution_count": 133,
   "id": "4cf49d48-5c2c-4d85-a380-8e51d6430eb6",
   "metadata": {},
   "outputs": [
    {
     "data": {
      "text/html": [
       "<table class=\"dataframe\">\n",
       "<caption>A data.frame: 6 × 4</caption>\n",
       "<thead>\n",
       "\t<tr><th></th><th scope=col>Recovery</th><th scope=col>n</th><th scope=col>pct</th><th scope=col>name</th></tr>\n",
       "\t<tr><th></th><th scope=col>&lt;fct&gt;</th><th scope=col>&lt;int&gt;</th><th scope=col>&lt;dbl&gt;</th><th scope=col>&lt;chr&gt;</th></tr>\n",
       "</thead>\n",
       "<tbody>\n",
       "\t<tr><th scope=row>1</th><td>1</td><td>56</td><td>98.24561</td><td>selectX</td></tr>\n",
       "\t<tr><th scope=row>2</th><td>2</td><td>54</td><td>94.73684</td><td>selectX</td></tr>\n",
       "\t<tr><th scope=row>3</th><td>3</td><td>52</td><td>91.22807</td><td>selectX</td></tr>\n",
       "\t<tr><th scope=row>4</th><td>4</td><td>50</td><td>87.71930</td><td>selectX</td></tr>\n",
       "\t<tr><th scope=row>5</th><td>5</td><td>46</td><td>80.70175</td><td>selectX</td></tr>\n",
       "\t<tr><th scope=row>6</th><td>6</td><td>42</td><td>73.68421</td><td>selectX</td></tr>\n",
       "</tbody>\n",
       "</table>\n"
      ],
      "text/latex": [
       "A data.frame: 6 × 4\n",
       "\\begin{tabular}{r|llll}\n",
       "  & Recovery & n & pct & name\\\\\n",
       "  & <fct> & <int> & <dbl> & <chr>\\\\\n",
       "\\hline\n",
       "\t1 & 1 & 56 & 98.24561 & selectX\\\\\n",
       "\t2 & 2 & 54 & 94.73684 & selectX\\\\\n",
       "\t3 & 3 & 52 & 91.22807 & selectX\\\\\n",
       "\t4 & 4 & 50 & 87.71930 & selectX\\\\\n",
       "\t5 & 5 & 46 & 80.70175 & selectX\\\\\n",
       "\t6 & 6 & 42 & 73.68421 & selectX\\\\\n",
       "\\end{tabular}\n"
      ],
      "text/markdown": [
       "\n",
       "A data.frame: 6 × 4\n",
       "\n",
       "| <!--/--> | Recovery &lt;fct&gt; | n &lt;int&gt; | pct &lt;dbl&gt; | name &lt;chr&gt; |\n",
       "|---|---|---|---|---|\n",
       "| 1 | 1 | 56 | 98.24561 | selectX |\n",
       "| 2 | 2 | 54 | 94.73684 | selectX |\n",
       "| 3 | 3 | 52 | 91.22807 | selectX |\n",
       "| 4 | 4 | 50 | 87.71930 | selectX |\n",
       "| 5 | 5 | 46 | 80.70175 | selectX |\n",
       "| 6 | 6 | 42 | 73.68421 | selectX |\n",
       "\n"
      ],
      "text/plain": [
       "  Recovery n  pct      name   \n",
       "1 1        56 98.24561 selectX\n",
       "2 2        54 94.73684 selectX\n",
       "3 3        52 91.22807 selectX\n",
       "4 4        50 87.71930 selectX\n",
       "5 5        46 80.70175 selectX\n",
       "6 6        42 73.68421 selectX"
      ]
     },
     "metadata": {},
     "output_type": "display_data"
    }
   ],
   "source": [
    "head(plot_data)"
   ]
  },
  {
   "cell_type": "code",
   "execution_count": 134,
   "id": "96015d55-dcd5-436b-8380-4c606b9aa59a",
   "metadata": {},
   "outputs": [],
   "source": [
    "plot_data$name <- factor(plot_data$name)"
   ]
  },
  {
   "cell_type": "code",
   "execution_count": 135,
   "id": "6eda3cb4-6ac6-4c82-a3d9-c06e8d9dfd49",
   "metadata": {},
   "outputs": [
    {
     "data": {
      "text/html": [
       "<style>\n",
       ".list-inline {list-style: none; margin:0; padding: 0}\n",
       ".list-inline>li {display: inline-block}\n",
       ".list-inline>li:not(:last-child)::after {content: \"\\00b7\"; padding: 0 .5ex}\n",
       "</style>\n",
       "<ol class=list-inline><li>70</li><li>4</li></ol>\n"
      ],
      "text/latex": [
       "\\begin{enumerate*}\n",
       "\\item 70\n",
       "\\item 4\n",
       "\\end{enumerate*}\n"
      ],
      "text/markdown": [
       "1. 70\n",
       "2. 4\n",
       "\n",
       "\n"
      ],
      "text/plain": [
       "[1] 70  4"
      ]
     },
     "metadata": {},
     "output_type": "display_data"
    }
   ],
   "source": [
    "dim(plot_data)"
   ]
  },
  {
   "cell_type": "code",
   "execution_count": null,
   "id": "01cfc91a-8873-4b0e-9d7f-5270bd722ef6",
   "metadata": {},
   "outputs": [],
   "source": [
    "saveRDS(plot_data, file='luad_recovery_plot_data.rds')"
   ]
  },
  {
   "cell_type": "markdown",
   "id": "144cb437-0da1-4cb6-8a4f-8dff589a9a92",
   "metadata": {
    "jp-MarkdownHeadingCollapsed": true
   },
   "source": [
    "# Pan-Cancer"
   ]
  },
  {
   "cell_type": "markdown",
   "id": "dc412aa3-f8b6-432b-961f-ff4d5bbd1b2f",
   "metadata": {
    "tags": []
   },
   "source": [
    "## SelectSim"
   ]
  },
  {
   "cell_type": "code",
   "execution_count": 3,
   "id": "ed25da44-766a-4fd6-a09e-965189972238",
   "metadata": {
    "tags": []
   },
   "outputs": [],
   "source": [
    "select_orginal <- readRDS('/mnt/ptemp/arvind/catalogue_work_update/data/results/pan_can/pan_can_tcga_run_result.rds')"
   ]
  },
  {
   "cell_type": "code",
   "execution_count": 4,
   "id": "7dfbf51c-1e9d-4544-abdb-0e69c7babe05",
   "metadata": {
    "tags": []
   },
   "outputs": [],
   "source": [
    "boot_results <- list()\n",
    "k=1\n",
    "for (i in c(31:35)){\n",
    "    name <- paste('/mnt/ptemp/arvind/robustness_analysis/TCGA robustness analysis/output_v4/sampling_run_results_',i,'.rds',sep=\"\")\n",
    "    boot_results[[k]] <- (readRDS(file=name))$result\n",
    "    k=k+1\n",
    "}"
   ]
  },
  {
   "cell_type": "code",
   "execution_count": 5,
   "id": "23ac0b5f-432e-4a7e-948d-736eedf0093d",
   "metadata": {
    "tags": []
   },
   "outputs": [
    {
     "data": {
      "text/html": [
       "<table class=\"dataframe\">\n",
       "<caption>A data.frame: 6 × 22</caption>\n",
       "<thead>\n",
       "\t<tr><th></th><th scope=col>SFE_1</th><th scope=col>SFE_2</th><th scope=col>name</th><th scope=col>support_1</th><th scope=col>support_2</th><th scope=col>freq_1</th><th scope=col>freq_2</th><th scope=col>overlap</th><th scope=col>w_overlap</th><th scope=col>max_overlap</th><th scope=col>⋯</th><th scope=col>w_r_overlap</th><th scope=col>wES</th><th scope=col>wFDR</th><th scope=col>nES</th><th scope=col>mean_r_nES</th><th scope=col>nFDR</th><th scope=col>cum_freq</th><th scope=col>nFDR2</th><th scope=col>type</th><th scope=col>FDR</th></tr>\n",
       "\t<tr><th></th><th scope=col>&lt;chr&gt;</th><th scope=col>&lt;chr&gt;</th><th scope=col>&lt;chr&gt;</th><th scope=col>&lt;dbl&gt;</th><th scope=col>&lt;dbl&gt;</th><th scope=col>&lt;dbl&gt;</th><th scope=col>&lt;dbl&gt;</th><th scope=col>&lt;dbl&gt;</th><th scope=col>&lt;dbl&gt;</th><th scope=col>&lt;dbl&gt;</th><th scope=col>⋯</th><th scope=col>&lt;dbl&gt;</th><th scope=col>&lt;dbl&gt;</th><th scope=col>&lt;dbl&gt;</th><th scope=col>&lt;dbl&gt;</th><th scope=col>&lt;dbl&gt;</th><th scope=col>&lt;dbl&gt;</th><th scope=col>&lt;dbl&gt;</th><th scope=col>&lt;dbl&gt;</th><th scope=col>&lt;chr&gt;</th><th scope=col>&lt;lgl&gt;</th></tr>\n",
       "</thead>\n",
       "<tbody>\n",
       "\t<tr><th scope=row>PIK3CA - TP53</th><td>PIK3CA</td><td>TP53  </td><td>PIK3CA - TP53</td><td> 899</td><td>2443</td><td>0.12372695</td><td>0.33622351</td><td>287</td><td>255.945882</td><td>526</td><td>⋯</td><td>312.75982</td><td>-40.17352</td><td>0.0000000000</td><td>-33.83972</td><td>-6.333800</td><td>0.0000000000</td><td>3342</td><td>0.0000000000</td><td>ME</td><td>TRUE</td></tr>\n",
       "\t<tr><th scope=row>BRAF - TP53</th><td>BRAF  </td><td>TP53  </td><td>BRAF - TP53  </td><td> 467</td><td>2443</td><td>0.06427195</td><td>0.33622351</td><td> 63</td><td> 42.680952</td><td>139</td><td>⋯</td><td> 92.80300</td><td>-35.44164</td><td>0.0000000000</td><td>-31.35929</td><td>-4.082348</td><td>0.0000000000</td><td>2910</td><td>0.0000000000</td><td>ME</td><td>TRUE</td></tr>\n",
       "\t<tr><th scope=row>KRAS - TP53</th><td>KRAS  </td><td>TP53  </td><td>KRAS - TP53  </td><td> 555</td><td>2443</td><td>0.07638315</td><td>0.33622351</td><td>213</td><td>198.477002</td><td>464</td><td>⋯</td><td>244.89883</td><td>-32.82519</td><td>0.0000000000</td><td>-27.66273</td><td>-5.162455</td><td>0.0000000000</td><td>2998</td><td>0.0000000000</td><td>ME</td><td>TRUE</td></tr>\n",
       "\t<tr><th scope=row>TP53 - ARID1A</th><td>TP53  </td><td>ARID1A</td><td>TP53 - ARID1A</td><td>2443</td><td> 438</td><td>0.33622351</td><td>0.06028076</td><td>111</td><td> 88.565879</td><td>285</td><td>⋯</td><td>133.66527</td><td>-31.89009</td><td>0.0000000000</td><td>-27.28199</td><td>-4.608097</td><td>0.0000000000</td><td>2881</td><td>0.0000000000</td><td>ME</td><td>TRUE</td></tr>\n",
       "\t<tr><th scope=row>BRAF - NRAS</th><td>BRAF  </td><td>NRAS  </td><td>BRAF - NRAS  </td><td> 467</td><td> 190</td><td>0.06427195</td><td>0.02614919</td><td>  7</td><td>  3.801353</td><td>148</td><td>⋯</td><td> 41.73186</td><td>-26.82092</td><td>0.0003178134</td><td>-24.31588</td><td>-2.505038</td><td>0.0000000000</td><td> 657</td><td>0.0000000000</td><td>ME</td><td>TRUE</td></tr>\n",
       "\t<tr><th scope=row>CTNNB1 - TP53</th><td>CTNNB1</td><td>TP53  </td><td>CTNNB1 - TP53</td><td> 241</td><td>2443</td><td>0.03316818</td><td>0.33622351</td><td> 39</td><td> 34.700267</td><td>186</td><td>⋯</td><td> 72.86760</td><td>-26.98838</td><td>0.0003707824</td><td>-23.49519</td><td>-3.493186</td><td>0.0001853912</td><td>2684</td><td>0.0002224694</td><td>ME</td><td>TRUE</td></tr>\n",
       "</tbody>\n",
       "</table>\n"
      ],
      "text/latex": [
       "A data.frame: 6 × 22\n",
       "\\begin{tabular}{r|lllllllllllllllllllll}\n",
       "  & SFE\\_1 & SFE\\_2 & name & support\\_1 & support\\_2 & freq\\_1 & freq\\_2 & overlap & w\\_overlap & max\\_overlap & ⋯ & w\\_r\\_overlap & wES & wFDR & nES & mean\\_r\\_nES & nFDR & cum\\_freq & nFDR2 & type & FDR\\\\\n",
       "  & <chr> & <chr> & <chr> & <dbl> & <dbl> & <dbl> & <dbl> & <dbl> & <dbl> & <dbl> & ⋯ & <dbl> & <dbl> & <dbl> & <dbl> & <dbl> & <dbl> & <dbl> & <dbl> & <chr> & <lgl>\\\\\n",
       "\\hline\n",
       "\tPIK3CA - TP53 & PIK3CA & TP53   & PIK3CA - TP53 &  899 & 2443 & 0.12372695 & 0.33622351 & 287 & 255.945882 & 526 & ⋯ & 312.75982 & -40.17352 & 0.0000000000 & -33.83972 & -6.333800 & 0.0000000000 & 3342 & 0.0000000000 & ME & TRUE\\\\\n",
       "\tBRAF - TP53 & BRAF   & TP53   & BRAF - TP53   &  467 & 2443 & 0.06427195 & 0.33622351 &  63 &  42.680952 & 139 & ⋯ &  92.80300 & -35.44164 & 0.0000000000 & -31.35929 & -4.082348 & 0.0000000000 & 2910 & 0.0000000000 & ME & TRUE\\\\\n",
       "\tKRAS - TP53 & KRAS   & TP53   & KRAS - TP53   &  555 & 2443 & 0.07638315 & 0.33622351 & 213 & 198.477002 & 464 & ⋯ & 244.89883 & -32.82519 & 0.0000000000 & -27.66273 & -5.162455 & 0.0000000000 & 2998 & 0.0000000000 & ME & TRUE\\\\\n",
       "\tTP53 - ARID1A & TP53   & ARID1A & TP53 - ARID1A & 2443 &  438 & 0.33622351 & 0.06028076 & 111 &  88.565879 & 285 & ⋯ & 133.66527 & -31.89009 & 0.0000000000 & -27.28199 & -4.608097 & 0.0000000000 & 2881 & 0.0000000000 & ME & TRUE\\\\\n",
       "\tBRAF - NRAS & BRAF   & NRAS   & BRAF - NRAS   &  467 &  190 & 0.06427195 & 0.02614919 &   7 &   3.801353 & 148 & ⋯ &  41.73186 & -26.82092 & 0.0003178134 & -24.31588 & -2.505038 & 0.0000000000 &  657 & 0.0000000000 & ME & TRUE\\\\\n",
       "\tCTNNB1 - TP53 & CTNNB1 & TP53   & CTNNB1 - TP53 &  241 & 2443 & 0.03316818 & 0.33622351 &  39 &  34.700267 & 186 & ⋯ &  72.86760 & -26.98838 & 0.0003707824 & -23.49519 & -3.493186 & 0.0001853912 & 2684 & 0.0002224694 & ME & TRUE\\\\\n",
       "\\end{tabular}\n"
      ],
      "text/markdown": [
       "\n",
       "A data.frame: 6 × 22\n",
       "\n",
       "| <!--/--> | SFE_1 &lt;chr&gt; | SFE_2 &lt;chr&gt; | name &lt;chr&gt; | support_1 &lt;dbl&gt; | support_2 &lt;dbl&gt; | freq_1 &lt;dbl&gt; | freq_2 &lt;dbl&gt; | overlap &lt;dbl&gt; | w_overlap &lt;dbl&gt; | max_overlap &lt;dbl&gt; | ⋯ ⋯ | w_r_overlap &lt;dbl&gt; | wES &lt;dbl&gt; | wFDR &lt;dbl&gt; | nES &lt;dbl&gt; | mean_r_nES &lt;dbl&gt; | nFDR &lt;dbl&gt; | cum_freq &lt;dbl&gt; | nFDR2 &lt;dbl&gt; | type &lt;chr&gt; | FDR &lt;lgl&gt; |\n",
       "|---|---|---|---|---|---|---|---|---|---|---|---|---|---|---|---|---|---|---|---|---|---|\n",
       "| PIK3CA - TP53 | PIK3CA | TP53   | PIK3CA - TP53 |  899 | 2443 | 0.12372695 | 0.33622351 | 287 | 255.945882 | 526 | ⋯ | 312.75982 | -40.17352 | 0.0000000000 | -33.83972 | -6.333800 | 0.0000000000 | 3342 | 0.0000000000 | ME | TRUE |\n",
       "| BRAF - TP53 | BRAF   | TP53   | BRAF - TP53   |  467 | 2443 | 0.06427195 | 0.33622351 |  63 |  42.680952 | 139 | ⋯ |  92.80300 | -35.44164 | 0.0000000000 | -31.35929 | -4.082348 | 0.0000000000 | 2910 | 0.0000000000 | ME | TRUE |\n",
       "| KRAS - TP53 | KRAS   | TP53   | KRAS - TP53   |  555 | 2443 | 0.07638315 | 0.33622351 | 213 | 198.477002 | 464 | ⋯ | 244.89883 | -32.82519 | 0.0000000000 | -27.66273 | -5.162455 | 0.0000000000 | 2998 | 0.0000000000 | ME | TRUE |\n",
       "| TP53 - ARID1A | TP53   | ARID1A | TP53 - ARID1A | 2443 |  438 | 0.33622351 | 0.06028076 | 111 |  88.565879 | 285 | ⋯ | 133.66527 | -31.89009 | 0.0000000000 | -27.28199 | -4.608097 | 0.0000000000 | 2881 | 0.0000000000 | ME | TRUE |\n",
       "| BRAF - NRAS | BRAF   | NRAS   | BRAF - NRAS   |  467 |  190 | 0.06427195 | 0.02614919 |   7 |   3.801353 | 148 | ⋯ |  41.73186 | -26.82092 | 0.0003178134 | -24.31588 | -2.505038 | 0.0000000000 |  657 | 0.0000000000 | ME | TRUE |\n",
       "| CTNNB1 - TP53 | CTNNB1 | TP53   | CTNNB1 - TP53 |  241 | 2443 | 0.03316818 | 0.33622351 |  39 |  34.700267 | 186 | ⋯ |  72.86760 | -26.98838 | 0.0003707824 | -23.49519 | -3.493186 | 0.0001853912 | 2684 | 0.0002224694 | ME | TRUE |\n",
       "\n"
      ],
      "text/plain": [
       "              SFE_1  SFE_2  name          support_1 support_2 freq_1    \n",
       "PIK3CA - TP53 PIK3CA TP53   PIK3CA - TP53  899      2443      0.12372695\n",
       "BRAF - TP53   BRAF   TP53   BRAF - TP53    467      2443      0.06427195\n",
       "KRAS - TP53   KRAS   TP53   KRAS - TP53    555      2443      0.07638315\n",
       "TP53 - ARID1A TP53   ARID1A TP53 - ARID1A 2443       438      0.33622351\n",
       "BRAF - NRAS   BRAF   NRAS   BRAF - NRAS    467       190      0.06427195\n",
       "CTNNB1 - TP53 CTNNB1 TP53   CTNNB1 - TP53  241      2443      0.03316818\n",
       "              freq_2     overlap w_overlap  max_overlap ⋯ w_r_overlap wES      \n",
       "PIK3CA - TP53 0.33622351 287     255.945882 526         ⋯ 312.75982   -40.17352\n",
       "BRAF - TP53   0.33622351  63      42.680952 139         ⋯  92.80300   -35.44164\n",
       "KRAS - TP53   0.33622351 213     198.477002 464         ⋯ 244.89883   -32.82519\n",
       "TP53 - ARID1A 0.06028076 111      88.565879 285         ⋯ 133.66527   -31.89009\n",
       "BRAF - NRAS   0.02614919   7       3.801353 148         ⋯  41.73186   -26.82092\n",
       "CTNNB1 - TP53 0.33622351  39      34.700267 186         ⋯  72.86760   -26.98838\n",
       "              wFDR         nES       mean_r_nES nFDR         cum_freq\n",
       "PIK3CA - TP53 0.0000000000 -33.83972 -6.333800  0.0000000000 3342    \n",
       "BRAF - TP53   0.0000000000 -31.35929 -4.082348  0.0000000000 2910    \n",
       "KRAS - TP53   0.0000000000 -27.66273 -5.162455  0.0000000000 2998    \n",
       "TP53 - ARID1A 0.0000000000 -27.28199 -4.608097  0.0000000000 2881    \n",
       "BRAF - NRAS   0.0003178134 -24.31588 -2.505038  0.0000000000  657    \n",
       "CTNNB1 - TP53 0.0003707824 -23.49519 -3.493186  0.0001853912 2684    \n",
       "              nFDR2        type FDR \n",
       "PIK3CA - TP53 0.0000000000 ME   TRUE\n",
       "BRAF - TP53   0.0000000000 ME   TRUE\n",
       "KRAS - TP53   0.0000000000 ME   TRUE\n",
       "TP53 - ARID1A 0.0000000000 ME   TRUE\n",
       "BRAF - NRAS   0.0000000000 ME   TRUE\n",
       "CTNNB1 - TP53 0.0002224694 ME   TRUE"
      ]
     },
     "metadata": {},
     "output_type": "display_data"
    }
   ],
   "source": [
    "head(boot_results[[1]])"
   ]
  },
  {
   "cell_type": "code",
   "execution_count": 6,
   "id": "ff2095bb-21f4-4164-94d3-8ee86794b929",
   "metadata": {
    "tags": []
   },
   "outputs": [],
   "source": [
    "selectX_100_pct_significnat_results <- select_orginal %>% filter(nFDR2<=0.25) "
   ]
  },
  {
   "cell_type": "code",
   "execution_count": 7,
   "id": "57c7d2c6-9544-4873-9cd4-7e65ca856dc3",
   "metadata": {
    "tags": []
   },
   "outputs": [
    {
     "data": {
      "text/html": [
       "<table class=\"dataframe\">\n",
       "<caption>A data.frame: 2 × 2</caption>\n",
       "<thead>\n",
       "\t<tr><th scope=col>type</th><th scope=col>n</th></tr>\n",
       "\t<tr><th scope=col>&lt;chr&gt;</th><th scope=col>&lt;int&gt;</th></tr>\n",
       "</thead>\n",
       "<tbody>\n",
       "\t<tr><td>CO</td><td> 78</td></tr>\n",
       "\t<tr><td>ME</td><td>144</td></tr>\n",
       "</tbody>\n",
       "</table>\n"
      ],
      "text/latex": [
       "A data.frame: 2 × 2\n",
       "\\begin{tabular}{ll}\n",
       " type & n\\\\\n",
       " <chr> & <int>\\\\\n",
       "\\hline\n",
       "\t CO &  78\\\\\n",
       "\t ME & 144\\\\\n",
       "\\end{tabular}\n"
      ],
      "text/markdown": [
       "\n",
       "A data.frame: 2 × 2\n",
       "\n",
       "| type &lt;chr&gt; | n &lt;int&gt; |\n",
       "|---|---|\n",
       "| CO |  78 |\n",
       "| ME | 144 |\n",
       "\n"
      ],
      "text/plain": [
       "  type n  \n",
       "1 CO    78\n",
       "2 ME   144"
      ]
     },
     "metadata": {},
     "output_type": "display_data"
    }
   ],
   "source": [
    "select_orginal %>% filter(nFDR2<=0.25)  %>% count(type)"
   ]
  },
  {
   "cell_type": "code",
   "execution_count": 8,
   "id": "7e81fcc0-f71a-4f1e-b867-17521fb4a750",
   "metadata": {
    "tags": []
   },
   "outputs": [],
   "source": [
    "score_df<-data.frame('pairs'=selectX_100_pct_significnat_results$name)\n",
    "rownames(score_df)<-score_df$pairs\n",
    "score_df$Run_100<-1"
   ]
  },
  {
   "cell_type": "code",
   "execution_count": 9,
   "id": "ff77fcb4-0d80-46b1-9be5-753da30906c7",
   "metadata": {
    "tags": []
   },
   "outputs": [
    {
     "data": {
      "text/html": [
       "<table class=\"dataframe\">\n",
       "<caption>A data.frame: 6 × 2</caption>\n",
       "<thead>\n",
       "\t<tr><th></th><th scope=col>pairs</th><th scope=col>Run_100</th></tr>\n",
       "\t<tr><th></th><th scope=col>&lt;chr&gt;</th><th scope=col>&lt;dbl&gt;</th></tr>\n",
       "</thead>\n",
       "<tbody>\n",
       "\t<tr><th scope=row>PIK3CA - TP53</th><td>PIK3CA - TP53</td><td>1</td></tr>\n",
       "\t<tr><th scope=row>BRAF - TP53</th><td>BRAF - TP53  </td><td>1</td></tr>\n",
       "\t<tr><th scope=row>TP53 - ARID1A</th><td>TP53 - ARID1A</td><td>1</td></tr>\n",
       "\t<tr><th scope=row>BRAF - NRAS</th><td>BRAF - NRAS  </td><td>1</td></tr>\n",
       "\t<tr><th scope=row>CDKN2A - TP53</th><td>CDKN2A - TP53</td><td>1</td></tr>\n",
       "\t<tr><th scope=row>PTEN - TP53</th><td>PTEN - TP53  </td><td>1</td></tr>\n",
       "</tbody>\n",
       "</table>\n"
      ],
      "text/latex": [
       "A data.frame: 6 × 2\n",
       "\\begin{tabular}{r|ll}\n",
       "  & pairs & Run\\_100\\\\\n",
       "  & <chr> & <dbl>\\\\\n",
       "\\hline\n",
       "\tPIK3CA - TP53 & PIK3CA - TP53 & 1\\\\\n",
       "\tBRAF - TP53 & BRAF - TP53   & 1\\\\\n",
       "\tTP53 - ARID1A & TP53 - ARID1A & 1\\\\\n",
       "\tBRAF - NRAS & BRAF - NRAS   & 1\\\\\n",
       "\tCDKN2A - TP53 & CDKN2A - TP53 & 1\\\\\n",
       "\tPTEN - TP53 & PTEN - TP53   & 1\\\\\n",
       "\\end{tabular}\n"
      ],
      "text/markdown": [
       "\n",
       "A data.frame: 6 × 2\n",
       "\n",
       "| <!--/--> | pairs &lt;chr&gt; | Run_100 &lt;dbl&gt; |\n",
       "|---|---|---|\n",
       "| PIK3CA - TP53 | PIK3CA - TP53 | 1 |\n",
       "| BRAF - TP53 | BRAF - TP53   | 1 |\n",
       "| TP53 - ARID1A | TP53 - ARID1A | 1 |\n",
       "| BRAF - NRAS | BRAF - NRAS   | 1 |\n",
       "| CDKN2A - TP53 | CDKN2A - TP53 | 1 |\n",
       "| PTEN - TP53 | PTEN - TP53   | 1 |\n",
       "\n"
      ],
      "text/plain": [
       "              pairs         Run_100\n",
       "PIK3CA - TP53 PIK3CA - TP53 1      \n",
       "BRAF - TP53   BRAF - TP53   1      \n",
       "TP53 - ARID1A TP53 - ARID1A 1      \n",
       "BRAF - NRAS   BRAF - NRAS   1      \n",
       "CDKN2A - TP53 CDKN2A - TP53 1      \n",
       "PTEN - TP53   PTEN - TP53   1      "
      ]
     },
     "metadata": {},
     "output_type": "display_data"
    }
   ],
   "source": [
    "head(score_df)"
   ]
  },
  {
   "cell_type": "code",
   "execution_count": 10,
   "id": "d1a410d9-6c44-4a8a-a298-e2fe8305a7c2",
   "metadata": {
    "tags": []
   },
   "outputs": [],
   "source": [
    "for (i in c(1:5)){\n",
    "    score_df[[paste('Run',i,sep=\"_\")]]<-0\n",
    "    temp <- (boot_results[[i]] %>% filter(name %in% score_df$pairs) %>% filter(nFDR2<=0.25))$name\n",
    "    score_df[temp,][[paste('Run',i,sep=\"_\")]]<-1\n",
    "}"
   ]
  },
  {
   "cell_type": "code",
   "execution_count": 11,
   "id": "8a815bc8-4ba8-49b7-8553-957467147e85",
   "metadata": {
    "tags": []
   },
   "outputs": [],
   "source": [
    "score_df$Total_count<-(score_df$Run_1+score_df$Run_2+score_df$Run_3+score_df$Run_4+score_df$Run_5)\n",
    "score_df$Total <- (score_df$Run_1+score_df$Run_2+score_df$Run_3+score_df$Run_4+score_df$Run_5)/5"
   ]
  },
  {
   "cell_type": "code",
   "execution_count": 12,
   "id": "c0ad031a-0eb2-4160-9348-ee7dd8d47616",
   "metadata": {
    "scrolled": true,
    "tags": []
   },
   "outputs": [
    {
     "data": {
      "text/html": [
       "<table class=\"dataframe\">\n",
       "<caption>A data.frame: 222 × 9</caption>\n",
       "<thead>\n",
       "\t<tr><th></th><th scope=col>pairs</th><th scope=col>Run_100</th><th scope=col>Run_1</th><th scope=col>Run_2</th><th scope=col>Run_3</th><th scope=col>Run_4</th><th scope=col>Run_5</th><th scope=col>Total_count</th><th scope=col>Total</th></tr>\n",
       "\t<tr><th></th><th scope=col>&lt;chr&gt;</th><th scope=col>&lt;dbl&gt;</th><th scope=col>&lt;dbl&gt;</th><th scope=col>&lt;dbl&gt;</th><th scope=col>&lt;dbl&gt;</th><th scope=col>&lt;dbl&gt;</th><th scope=col>&lt;dbl&gt;</th><th scope=col>&lt;dbl&gt;</th><th scope=col>&lt;dbl&gt;</th></tr>\n",
       "</thead>\n",
       "<tbody>\n",
       "\t<tr><th scope=row>PIK3CA - TP53</th><td>PIK3CA - TP53  </td><td>1</td><td>1</td><td>1</td><td>1</td><td>1</td><td>1</td><td>5</td><td>1.0</td></tr>\n",
       "\t<tr><th scope=row>BRAF - TP53</th><td>BRAF - TP53    </td><td>1</td><td>1</td><td>1</td><td>1</td><td>1</td><td>1</td><td>5</td><td>1.0</td></tr>\n",
       "\t<tr><th scope=row>TP53 - ARID1A</th><td>TP53 - ARID1A  </td><td>1</td><td>1</td><td>1</td><td>1</td><td>1</td><td>1</td><td>5</td><td>1.0</td></tr>\n",
       "\t<tr><th scope=row>BRAF - NRAS</th><td>BRAF - NRAS    </td><td>1</td><td>1</td><td>1</td><td>1</td><td>1</td><td>1</td><td>5</td><td>1.0</td></tr>\n",
       "\t<tr><th scope=row>CDKN2A - TP53</th><td>CDKN2A - TP53  </td><td>1</td><td>1</td><td>1</td><td>1</td><td>1</td><td>1</td><td>5</td><td>1.0</td></tr>\n",
       "\t<tr><th scope=row>PTEN - TP53</th><td>PTEN - TP53    </td><td>1</td><td>1</td><td>1</td><td>1</td><td>1</td><td>1</td><td>5</td><td>1.0</td></tr>\n",
       "\t<tr><th scope=row>CTNNB1 - TP53</th><td>CTNNB1 - TP53  </td><td>1</td><td>1</td><td>1</td><td>1</td><td>1</td><td>1</td><td>5</td><td>1.0</td></tr>\n",
       "\t<tr><th scope=row>IDH1 - ATRX</th><td>IDH1 - ATRX    </td><td>1</td><td>1</td><td>1</td><td>1</td><td>1</td><td>1</td><td>5</td><td>1.0</td></tr>\n",
       "\t<tr><th scope=row>PTEN - ARID1A</th><td>PTEN - ARID1A  </td><td>1</td><td>1</td><td>1</td><td>1</td><td>1</td><td>1</td><td>5</td><td>1.0</td></tr>\n",
       "\t<tr><th scope=row>BRAF - KRAS</th><td>BRAF - KRAS    </td><td>1</td><td>1</td><td>1</td><td>1</td><td>1</td><td>1</td><td>5</td><td>1.0</td></tr>\n",
       "\t<tr><th scope=row>ATM - TP53</th><td>ATM - TP53     </td><td>1</td><td>1</td><td>1</td><td>1</td><td>1</td><td>1</td><td>5</td><td>1.0</td></tr>\n",
       "\t<tr><th scope=row>CTNNB1 - PTEN</th><td>CTNNB1 - PTEN  </td><td>1</td><td>1</td><td>1</td><td>1</td><td>1</td><td>1</td><td>5</td><td>1.0</td></tr>\n",
       "\t<tr><th scope=row>PIK3R1 - PTEN</th><td>PIK3R1 - PTEN  </td><td>1</td><td>1</td><td>1</td><td>1</td><td>1</td><td>1</td><td>5</td><td>1.0</td></tr>\n",
       "\t<tr><th scope=row>PIK3CA - PIK3R1</th><td>PIK3CA - PIK3R1</td><td>1</td><td>1</td><td>1</td><td>1</td><td>1</td><td>1</td><td>5</td><td>1.0</td></tr>\n",
       "\t<tr><th scope=row>CDH1 - TP53</th><td>CDH1 - TP53    </td><td>1</td><td>1</td><td>1</td><td>1</td><td>1</td><td>1</td><td>5</td><td>1.0</td></tr>\n",
       "\t<tr><th scope=row>TP53 - GATA3</th><td>TP53 - GATA3   </td><td>1</td><td>1</td><td>1</td><td>1</td><td>1</td><td>1</td><td>5</td><td>1.0</td></tr>\n",
       "\t<tr><th scope=row>TP53 - KMT2C</th><td>TP53 - KMT2C   </td><td>1</td><td>1</td><td>1</td><td>1</td><td>1</td><td>1</td><td>5</td><td>1.0</td></tr>\n",
       "\t<tr><th scope=row>RB1 - TP53</th><td>RB1 - TP53     </td><td>1</td><td>1</td><td>1</td><td>1</td><td>1</td><td>1</td><td>5</td><td>1.0</td></tr>\n",
       "\t<tr><th scope=row>CDH1 - PIK3CA</th><td>CDH1 - PIK3CA  </td><td>1</td><td>1</td><td>1</td><td>1</td><td>0</td><td>1</td><td>4</td><td>0.8</td></tr>\n",
       "\t<tr><th scope=row>PIK3CA - PTEN</th><td>PIK3CA - PTEN  </td><td>1</td><td>1</td><td>1</td><td>1</td><td>1</td><td>1</td><td>5</td><td>1.0</td></tr>\n",
       "\t<tr><th scope=row>PIK3CA - MAP3K1</th><td>PIK3CA - MAP3K1</td><td>1</td><td>1</td><td>1</td><td>1</td><td>1</td><td>1</td><td>5</td><td>1.0</td></tr>\n",
       "\t<tr><th scope=row>KRAS - NRAS</th><td>KRAS - NRAS    </td><td>1</td><td>1</td><td>1</td><td>1</td><td>1</td><td>1</td><td>5</td><td>1.0</td></tr>\n",
       "\t<tr><th scope=row>TP53 - ATRX</th><td>TP53 - ATRX    </td><td>1</td><td>1</td><td>1</td><td>1</td><td>1</td><td>1</td><td>5</td><td>1.0</td></tr>\n",
       "\t<tr><th scope=row>PTEN - CTCF</th><td>PTEN - CTCF    </td><td>1</td><td>1</td><td>1</td><td>1</td><td>1</td><td>1</td><td>5</td><td>1.0</td></tr>\n",
       "\t<tr><th scope=row>EGFR - KRAS</th><td>EGFR - KRAS    </td><td>1</td><td>1</td><td>1</td><td>1</td><td>1</td><td>1</td><td>5</td><td>1.0</td></tr>\n",
       "\t<tr><th scope=row>PIK3CA - ARID1A</th><td>PIK3CA - ARID1A</td><td>1</td><td>1</td><td>1</td><td>1</td><td>1</td><td>1</td><td>5</td><td>1.0</td></tr>\n",
       "\t<tr><th scope=row>SETD2 - TP53</th><td>SETD2 - TP53   </td><td>1</td><td>1</td><td>1</td><td>1</td><td>1</td><td>1</td><td>5</td><td>1.0</td></tr>\n",
       "\t<tr><th scope=row>IDH1 - IDH2</th><td>IDH1 - IDH2    </td><td>1</td><td>1</td><td>1</td><td>1</td><td>1</td><td>1</td><td>5</td><td>1.0</td></tr>\n",
       "\t<tr><th scope=row>TP53 - VHL</th><td>TP53 - VHL     </td><td>1</td><td>1</td><td>1</td><td>1</td><td>1</td><td>1</td><td>5</td><td>1.0</td></tr>\n",
       "\t<tr><th scope=row>KMT2D - KMT2C</th><td>KMT2D - KMT2C  </td><td>1</td><td>1</td><td>1</td><td>1</td><td>1</td><td>1</td><td>5</td><td>1.0</td></tr>\n",
       "\t<tr><th scope=row>⋮</th><td>⋮</td><td>⋮</td><td>⋮</td><td>⋮</td><td>⋮</td><td>⋮</td><td>⋮</td><td>⋮</td><td>⋮</td></tr>\n",
       "\t<tr><th scope=row>NPM1 - TET2</th><td>NPM1 - TET2    </td><td>1</td><td>0</td><td>0</td><td>0</td><td>0</td><td>0</td><td>0</td><td>0.0</td></tr>\n",
       "\t<tr><th scope=row>BRAF - ARID1A</th><td>BRAF - ARID1A  </td><td>1</td><td>0</td><td>0</td><td>0</td><td>1</td><td>0</td><td>1</td><td>0.2</td></tr>\n",
       "\t<tr><th scope=row>PIK3R1 - ZFHX3</th><td>PIK3R1 - ZFHX3 </td><td>1</td><td>1</td><td>1</td><td>1</td><td>0</td><td>0</td><td>3</td><td>0.6</td></tr>\n",
       "\t<tr><th scope=row>FGFR3 - RB1</th><td>FGFR3 - RB1    </td><td>1</td><td>0</td><td>0</td><td>0</td><td>0</td><td>1</td><td>1</td><td>0.2</td></tr>\n",
       "\t<tr><th scope=row>RB1 - KMT2C</th><td>RB1 - KMT2C    </td><td>1</td><td>1</td><td>0</td><td>0</td><td>0</td><td>0</td><td>1</td><td>0.2</td></tr>\n",
       "\t<tr><th scope=row>TP53 - ARHGAP35</th><td>TP53 - ARHGAP35</td><td>1</td><td>0</td><td>0</td><td>1</td><td>0</td><td>0</td><td>1</td><td>0.2</td></tr>\n",
       "\t<tr><th scope=row>PTPN11 - TP53</th><td>PTPN11 - TP53  </td><td>1</td><td>0</td><td>0</td><td>0</td><td>0</td><td>0</td><td>0</td><td>0.0</td></tr>\n",
       "\t<tr><th scope=row>KMT2D - BCORL1</th><td>KMT2D - BCORL1 </td><td>1</td><td>1</td><td>1</td><td>1</td><td>0</td><td>0</td><td>3</td><td>0.6</td></tr>\n",
       "\t<tr><th scope=row>CASP8 - FAT1</th><td>CASP8 - FAT1   </td><td>1</td><td>0</td><td>0</td><td>0</td><td>0</td><td>0</td><td>0</td><td>0.0</td></tr>\n",
       "\t<tr><th scope=row>TP53 - AXIN1</th><td>TP53 - AXIN1   </td><td>1</td><td>0</td><td>1</td><td>1</td><td>1</td><td>1</td><td>4</td><td>0.8</td></tr>\n",
       "\t<tr><th scope=row>CDKN2A - NOTCH1</th><td>CDKN2A - NOTCH1</td><td>1</td><td>0</td><td>0</td><td>0</td><td>1</td><td>0</td><td>1</td><td>0.2</td></tr>\n",
       "\t<tr><th scope=row>IDH1 - KMT2C</th><td>IDH1 - KMT2C   </td><td>1</td><td>0</td><td>0</td><td>0</td><td>0</td><td>0</td><td>0</td><td>0.0</td></tr>\n",
       "\t<tr><th scope=row>EGFR - KEAP1</th><td>EGFR - KEAP1   </td><td>1</td><td>0</td><td>0</td><td>0</td><td>0</td><td>0</td><td>0</td><td>0.0</td></tr>\n",
       "\t<tr><th scope=row>CASP8 - HLA-A</th><td>CASP8 - HLA-A  </td><td>1</td><td>0</td><td>0</td><td>1</td><td>0</td><td>1</td><td>2</td><td>0.4</td></tr>\n",
       "\t<tr><th scope=row>PIK3CA - GPS2</th><td>PIK3CA - GPS2  </td><td>1</td><td>0</td><td>0</td><td>0</td><td>0</td><td>0</td><td>0</td><td>0.0</td></tr>\n",
       "\t<tr><th scope=row>KDM5C - TP53</th><td>KDM5C - TP53   </td><td>1</td><td>0</td><td>0</td><td>0</td><td>0</td><td>0</td><td>0</td><td>0.0</td></tr>\n",
       "\t<tr><th scope=row>EGFR - NF1</th><td>EGFR - NF1     </td><td>1</td><td>1</td><td>1</td><td>0</td><td>0</td><td>0</td><td>2</td><td>0.4</td></tr>\n",
       "\t<tr><th scope=row>HRAS - CASP8</th><td>HRAS - CASP8   </td><td>1</td><td>0</td><td>1</td><td>1</td><td>0</td><td>1</td><td>3</td><td>0.6</td></tr>\n",
       "\t<tr><th scope=row>KRAS - FAT1</th><td>KRAS - FAT1    </td><td>1</td><td>0</td><td>0</td><td>0</td><td>0</td><td>0</td><td>0</td><td>0.0</td></tr>\n",
       "\t<tr><th scope=row>TP53 - ERBB3</th><td>TP53 - ERBB3   </td><td>1</td><td>1</td><td>0</td><td>1</td><td>1</td><td>1</td><td>4</td><td>0.8</td></tr>\n",
       "\t<tr><th scope=row>TP53 - CDKN1B</th><td>TP53 - CDKN1B  </td><td>1</td><td>0</td><td>0</td><td>0</td><td>0</td><td>0</td><td>0</td><td>0.0</td></tr>\n",
       "\t<tr><th scope=row>TP53 - TP53BP1</th><td>TP53 - TP53BP1 </td><td>1</td><td>0</td><td>0</td><td>0</td><td>0</td><td>1</td><td>1</td><td>0.2</td></tr>\n",
       "\t<tr><th scope=row>IDH2 - TET2</th><td>IDH2 - TET2    </td><td>1</td><td>0</td><td>0</td><td>0</td><td>0</td><td>0</td><td>0</td><td>0.0</td></tr>\n",
       "\t<tr><th scope=row>PIK3CA - CCND1</th><td>PIK3CA - CCND1 </td><td>1</td><td>0</td><td>0</td><td>1</td><td>0</td><td>0</td><td>1</td><td>0.2</td></tr>\n",
       "\t<tr><th scope=row>TP53 - TLE1</th><td>TP53 - TLE1    </td><td>1</td><td>0</td><td>0</td><td>0</td><td>0</td><td>0</td><td>0</td><td>0.0</td></tr>\n",
       "\t<tr><th scope=row>HRAS - NRAS</th><td>HRAS - NRAS    </td><td>1</td><td>0</td><td>0</td><td>0</td><td>0</td><td>1</td><td>1</td><td>0.2</td></tr>\n",
       "\t<tr><th scope=row>TP53 - ARAF</th><td>TP53 - ARAF    </td><td>1</td><td>0</td><td>0</td><td>0</td><td>0</td><td>0</td><td>0</td><td>0.0</td></tr>\n",
       "\t<tr><th scope=row>TP53 - AJUBA</th><td>TP53 - AJUBA   </td><td>1</td><td>1</td><td>0</td><td>0</td><td>0</td><td>1</td><td>2</td><td>0.4</td></tr>\n",
       "\t<tr><th scope=row>CASP8 - NSD1</th><td>CASP8 - NSD1   </td><td>1</td><td>0</td><td>0</td><td>1</td><td>0</td><td>0</td><td>1</td><td>0.2</td></tr>\n",
       "\t<tr><th scope=row>CCND1 - KMT2B</th><td>CCND1 - KMT2B  </td><td>1</td><td>0</td><td>0</td><td>0</td><td>1</td><td>0</td><td>1</td><td>0.2</td></tr>\n",
       "</tbody>\n",
       "</table>\n"
      ],
      "text/latex": [
       "A data.frame: 222 × 9\n",
       "\\begin{tabular}{r|lllllllll}\n",
       "  & pairs & Run\\_100 & Run\\_1 & Run\\_2 & Run\\_3 & Run\\_4 & Run\\_5 & Total\\_count & Total\\\\\n",
       "  & <chr> & <dbl> & <dbl> & <dbl> & <dbl> & <dbl> & <dbl> & <dbl> & <dbl>\\\\\n",
       "\\hline\n",
       "\tPIK3CA - TP53 & PIK3CA - TP53   & 1 & 1 & 1 & 1 & 1 & 1 & 5 & 1.0\\\\\n",
       "\tBRAF - TP53 & BRAF - TP53     & 1 & 1 & 1 & 1 & 1 & 1 & 5 & 1.0\\\\\n",
       "\tTP53 - ARID1A & TP53 - ARID1A   & 1 & 1 & 1 & 1 & 1 & 1 & 5 & 1.0\\\\\n",
       "\tBRAF - NRAS & BRAF - NRAS     & 1 & 1 & 1 & 1 & 1 & 1 & 5 & 1.0\\\\\n",
       "\tCDKN2A - TP53 & CDKN2A - TP53   & 1 & 1 & 1 & 1 & 1 & 1 & 5 & 1.0\\\\\n",
       "\tPTEN - TP53 & PTEN - TP53     & 1 & 1 & 1 & 1 & 1 & 1 & 5 & 1.0\\\\\n",
       "\tCTNNB1 - TP53 & CTNNB1 - TP53   & 1 & 1 & 1 & 1 & 1 & 1 & 5 & 1.0\\\\\n",
       "\tIDH1 - ATRX & IDH1 - ATRX     & 1 & 1 & 1 & 1 & 1 & 1 & 5 & 1.0\\\\\n",
       "\tPTEN - ARID1A & PTEN - ARID1A   & 1 & 1 & 1 & 1 & 1 & 1 & 5 & 1.0\\\\\n",
       "\tBRAF - KRAS & BRAF - KRAS     & 1 & 1 & 1 & 1 & 1 & 1 & 5 & 1.0\\\\\n",
       "\tATM - TP53 & ATM - TP53      & 1 & 1 & 1 & 1 & 1 & 1 & 5 & 1.0\\\\\n",
       "\tCTNNB1 - PTEN & CTNNB1 - PTEN   & 1 & 1 & 1 & 1 & 1 & 1 & 5 & 1.0\\\\\n",
       "\tPIK3R1 - PTEN & PIK3R1 - PTEN   & 1 & 1 & 1 & 1 & 1 & 1 & 5 & 1.0\\\\\n",
       "\tPIK3CA - PIK3R1 & PIK3CA - PIK3R1 & 1 & 1 & 1 & 1 & 1 & 1 & 5 & 1.0\\\\\n",
       "\tCDH1 - TP53 & CDH1 - TP53     & 1 & 1 & 1 & 1 & 1 & 1 & 5 & 1.0\\\\\n",
       "\tTP53 - GATA3 & TP53 - GATA3    & 1 & 1 & 1 & 1 & 1 & 1 & 5 & 1.0\\\\\n",
       "\tTP53 - KMT2C & TP53 - KMT2C    & 1 & 1 & 1 & 1 & 1 & 1 & 5 & 1.0\\\\\n",
       "\tRB1 - TP53 & RB1 - TP53      & 1 & 1 & 1 & 1 & 1 & 1 & 5 & 1.0\\\\\n",
       "\tCDH1 - PIK3CA & CDH1 - PIK3CA   & 1 & 1 & 1 & 1 & 0 & 1 & 4 & 0.8\\\\\n",
       "\tPIK3CA - PTEN & PIK3CA - PTEN   & 1 & 1 & 1 & 1 & 1 & 1 & 5 & 1.0\\\\\n",
       "\tPIK3CA - MAP3K1 & PIK3CA - MAP3K1 & 1 & 1 & 1 & 1 & 1 & 1 & 5 & 1.0\\\\\n",
       "\tKRAS - NRAS & KRAS - NRAS     & 1 & 1 & 1 & 1 & 1 & 1 & 5 & 1.0\\\\\n",
       "\tTP53 - ATRX & TP53 - ATRX     & 1 & 1 & 1 & 1 & 1 & 1 & 5 & 1.0\\\\\n",
       "\tPTEN - CTCF & PTEN - CTCF     & 1 & 1 & 1 & 1 & 1 & 1 & 5 & 1.0\\\\\n",
       "\tEGFR - KRAS & EGFR - KRAS     & 1 & 1 & 1 & 1 & 1 & 1 & 5 & 1.0\\\\\n",
       "\tPIK3CA - ARID1A & PIK3CA - ARID1A & 1 & 1 & 1 & 1 & 1 & 1 & 5 & 1.0\\\\\n",
       "\tSETD2 - TP53 & SETD2 - TP53    & 1 & 1 & 1 & 1 & 1 & 1 & 5 & 1.0\\\\\n",
       "\tIDH1 - IDH2 & IDH1 - IDH2     & 1 & 1 & 1 & 1 & 1 & 1 & 5 & 1.0\\\\\n",
       "\tTP53 - VHL & TP53 - VHL      & 1 & 1 & 1 & 1 & 1 & 1 & 5 & 1.0\\\\\n",
       "\tKMT2D - KMT2C & KMT2D - KMT2C   & 1 & 1 & 1 & 1 & 1 & 1 & 5 & 1.0\\\\\n",
       "\t⋮ & ⋮ & ⋮ & ⋮ & ⋮ & ⋮ & ⋮ & ⋮ & ⋮ & ⋮\\\\\n",
       "\tNPM1 - TET2 & NPM1 - TET2     & 1 & 0 & 0 & 0 & 0 & 0 & 0 & 0.0\\\\\n",
       "\tBRAF - ARID1A & BRAF - ARID1A   & 1 & 0 & 0 & 0 & 1 & 0 & 1 & 0.2\\\\\n",
       "\tPIK3R1 - ZFHX3 & PIK3R1 - ZFHX3  & 1 & 1 & 1 & 1 & 0 & 0 & 3 & 0.6\\\\\n",
       "\tFGFR3 - RB1 & FGFR3 - RB1     & 1 & 0 & 0 & 0 & 0 & 1 & 1 & 0.2\\\\\n",
       "\tRB1 - KMT2C & RB1 - KMT2C     & 1 & 1 & 0 & 0 & 0 & 0 & 1 & 0.2\\\\\n",
       "\tTP53 - ARHGAP35 & TP53 - ARHGAP35 & 1 & 0 & 0 & 1 & 0 & 0 & 1 & 0.2\\\\\n",
       "\tPTPN11 - TP53 & PTPN11 - TP53   & 1 & 0 & 0 & 0 & 0 & 0 & 0 & 0.0\\\\\n",
       "\tKMT2D - BCORL1 & KMT2D - BCORL1  & 1 & 1 & 1 & 1 & 0 & 0 & 3 & 0.6\\\\\n",
       "\tCASP8 - FAT1 & CASP8 - FAT1    & 1 & 0 & 0 & 0 & 0 & 0 & 0 & 0.0\\\\\n",
       "\tTP53 - AXIN1 & TP53 - AXIN1    & 1 & 0 & 1 & 1 & 1 & 1 & 4 & 0.8\\\\\n",
       "\tCDKN2A - NOTCH1 & CDKN2A - NOTCH1 & 1 & 0 & 0 & 0 & 1 & 0 & 1 & 0.2\\\\\n",
       "\tIDH1 - KMT2C & IDH1 - KMT2C    & 1 & 0 & 0 & 0 & 0 & 0 & 0 & 0.0\\\\\n",
       "\tEGFR - KEAP1 & EGFR - KEAP1    & 1 & 0 & 0 & 0 & 0 & 0 & 0 & 0.0\\\\\n",
       "\tCASP8 - HLA-A & CASP8 - HLA-A   & 1 & 0 & 0 & 1 & 0 & 1 & 2 & 0.4\\\\\n",
       "\tPIK3CA - GPS2 & PIK3CA - GPS2   & 1 & 0 & 0 & 0 & 0 & 0 & 0 & 0.0\\\\\n",
       "\tKDM5C - TP53 & KDM5C - TP53    & 1 & 0 & 0 & 0 & 0 & 0 & 0 & 0.0\\\\\n",
       "\tEGFR - NF1 & EGFR - NF1      & 1 & 1 & 1 & 0 & 0 & 0 & 2 & 0.4\\\\\n",
       "\tHRAS - CASP8 & HRAS - CASP8    & 1 & 0 & 1 & 1 & 0 & 1 & 3 & 0.6\\\\\n",
       "\tKRAS - FAT1 & KRAS - FAT1     & 1 & 0 & 0 & 0 & 0 & 0 & 0 & 0.0\\\\\n",
       "\tTP53 - ERBB3 & TP53 - ERBB3    & 1 & 1 & 0 & 1 & 1 & 1 & 4 & 0.8\\\\\n",
       "\tTP53 - CDKN1B & TP53 - CDKN1B   & 1 & 0 & 0 & 0 & 0 & 0 & 0 & 0.0\\\\\n",
       "\tTP53 - TP53BP1 & TP53 - TP53BP1  & 1 & 0 & 0 & 0 & 0 & 1 & 1 & 0.2\\\\\n",
       "\tIDH2 - TET2 & IDH2 - TET2     & 1 & 0 & 0 & 0 & 0 & 0 & 0 & 0.0\\\\\n",
       "\tPIK3CA - CCND1 & PIK3CA - CCND1  & 1 & 0 & 0 & 1 & 0 & 0 & 1 & 0.2\\\\\n",
       "\tTP53 - TLE1 & TP53 - TLE1     & 1 & 0 & 0 & 0 & 0 & 0 & 0 & 0.0\\\\\n",
       "\tHRAS - NRAS & HRAS - NRAS     & 1 & 0 & 0 & 0 & 0 & 1 & 1 & 0.2\\\\\n",
       "\tTP53 - ARAF & TP53 - ARAF     & 1 & 0 & 0 & 0 & 0 & 0 & 0 & 0.0\\\\\n",
       "\tTP53 - AJUBA & TP53 - AJUBA    & 1 & 1 & 0 & 0 & 0 & 1 & 2 & 0.4\\\\\n",
       "\tCASP8 - NSD1 & CASP8 - NSD1    & 1 & 0 & 0 & 1 & 0 & 0 & 1 & 0.2\\\\\n",
       "\tCCND1 - KMT2B & CCND1 - KMT2B   & 1 & 0 & 0 & 0 & 1 & 0 & 1 & 0.2\\\\\n",
       "\\end{tabular}\n"
      ],
      "text/markdown": [
       "\n",
       "A data.frame: 222 × 9\n",
       "\n",
       "| <!--/--> | pairs &lt;chr&gt; | Run_100 &lt;dbl&gt; | Run_1 &lt;dbl&gt; | Run_2 &lt;dbl&gt; | Run_3 &lt;dbl&gt; | Run_4 &lt;dbl&gt; | Run_5 &lt;dbl&gt; | Total_count &lt;dbl&gt; | Total &lt;dbl&gt; |\n",
       "|---|---|---|---|---|---|---|---|---|---|\n",
       "| PIK3CA - TP53 | PIK3CA - TP53   | 1 | 1 | 1 | 1 | 1 | 1 | 5 | 1.0 |\n",
       "| BRAF - TP53 | BRAF - TP53     | 1 | 1 | 1 | 1 | 1 | 1 | 5 | 1.0 |\n",
       "| TP53 - ARID1A | TP53 - ARID1A   | 1 | 1 | 1 | 1 | 1 | 1 | 5 | 1.0 |\n",
       "| BRAF - NRAS | BRAF - NRAS     | 1 | 1 | 1 | 1 | 1 | 1 | 5 | 1.0 |\n",
       "| CDKN2A - TP53 | CDKN2A - TP53   | 1 | 1 | 1 | 1 | 1 | 1 | 5 | 1.0 |\n",
       "| PTEN - TP53 | PTEN - TP53     | 1 | 1 | 1 | 1 | 1 | 1 | 5 | 1.0 |\n",
       "| CTNNB1 - TP53 | CTNNB1 - TP53   | 1 | 1 | 1 | 1 | 1 | 1 | 5 | 1.0 |\n",
       "| IDH1 - ATRX | IDH1 - ATRX     | 1 | 1 | 1 | 1 | 1 | 1 | 5 | 1.0 |\n",
       "| PTEN - ARID1A | PTEN - ARID1A   | 1 | 1 | 1 | 1 | 1 | 1 | 5 | 1.0 |\n",
       "| BRAF - KRAS | BRAF - KRAS     | 1 | 1 | 1 | 1 | 1 | 1 | 5 | 1.0 |\n",
       "| ATM - TP53 | ATM - TP53      | 1 | 1 | 1 | 1 | 1 | 1 | 5 | 1.0 |\n",
       "| CTNNB1 - PTEN | CTNNB1 - PTEN   | 1 | 1 | 1 | 1 | 1 | 1 | 5 | 1.0 |\n",
       "| PIK3R1 - PTEN | PIK3R1 - PTEN   | 1 | 1 | 1 | 1 | 1 | 1 | 5 | 1.0 |\n",
       "| PIK3CA - PIK3R1 | PIK3CA - PIK3R1 | 1 | 1 | 1 | 1 | 1 | 1 | 5 | 1.0 |\n",
       "| CDH1 - TP53 | CDH1 - TP53     | 1 | 1 | 1 | 1 | 1 | 1 | 5 | 1.0 |\n",
       "| TP53 - GATA3 | TP53 - GATA3    | 1 | 1 | 1 | 1 | 1 | 1 | 5 | 1.0 |\n",
       "| TP53 - KMT2C | TP53 - KMT2C    | 1 | 1 | 1 | 1 | 1 | 1 | 5 | 1.0 |\n",
       "| RB1 - TP53 | RB1 - TP53      | 1 | 1 | 1 | 1 | 1 | 1 | 5 | 1.0 |\n",
       "| CDH1 - PIK3CA | CDH1 - PIK3CA   | 1 | 1 | 1 | 1 | 0 | 1 | 4 | 0.8 |\n",
       "| PIK3CA - PTEN | PIK3CA - PTEN   | 1 | 1 | 1 | 1 | 1 | 1 | 5 | 1.0 |\n",
       "| PIK3CA - MAP3K1 | PIK3CA - MAP3K1 | 1 | 1 | 1 | 1 | 1 | 1 | 5 | 1.0 |\n",
       "| KRAS - NRAS | KRAS - NRAS     | 1 | 1 | 1 | 1 | 1 | 1 | 5 | 1.0 |\n",
       "| TP53 - ATRX | TP53 - ATRX     | 1 | 1 | 1 | 1 | 1 | 1 | 5 | 1.0 |\n",
       "| PTEN - CTCF | PTEN - CTCF     | 1 | 1 | 1 | 1 | 1 | 1 | 5 | 1.0 |\n",
       "| EGFR - KRAS | EGFR - KRAS     | 1 | 1 | 1 | 1 | 1 | 1 | 5 | 1.0 |\n",
       "| PIK3CA - ARID1A | PIK3CA - ARID1A | 1 | 1 | 1 | 1 | 1 | 1 | 5 | 1.0 |\n",
       "| SETD2 - TP53 | SETD2 - TP53    | 1 | 1 | 1 | 1 | 1 | 1 | 5 | 1.0 |\n",
       "| IDH1 - IDH2 | IDH1 - IDH2     | 1 | 1 | 1 | 1 | 1 | 1 | 5 | 1.0 |\n",
       "| TP53 - VHL | TP53 - VHL      | 1 | 1 | 1 | 1 | 1 | 1 | 5 | 1.0 |\n",
       "| KMT2D - KMT2C | KMT2D - KMT2C   | 1 | 1 | 1 | 1 | 1 | 1 | 5 | 1.0 |\n",
       "| ⋮ | ⋮ | ⋮ | ⋮ | ⋮ | ⋮ | ⋮ | ⋮ | ⋮ | ⋮ |\n",
       "| NPM1 - TET2 | NPM1 - TET2     | 1 | 0 | 0 | 0 | 0 | 0 | 0 | 0.0 |\n",
       "| BRAF - ARID1A | BRAF - ARID1A   | 1 | 0 | 0 | 0 | 1 | 0 | 1 | 0.2 |\n",
       "| PIK3R1 - ZFHX3 | PIK3R1 - ZFHX3  | 1 | 1 | 1 | 1 | 0 | 0 | 3 | 0.6 |\n",
       "| FGFR3 - RB1 | FGFR3 - RB1     | 1 | 0 | 0 | 0 | 0 | 1 | 1 | 0.2 |\n",
       "| RB1 - KMT2C | RB1 - KMT2C     | 1 | 1 | 0 | 0 | 0 | 0 | 1 | 0.2 |\n",
       "| TP53 - ARHGAP35 | TP53 - ARHGAP35 | 1 | 0 | 0 | 1 | 0 | 0 | 1 | 0.2 |\n",
       "| PTPN11 - TP53 | PTPN11 - TP53   | 1 | 0 | 0 | 0 | 0 | 0 | 0 | 0.0 |\n",
       "| KMT2D - BCORL1 | KMT2D - BCORL1  | 1 | 1 | 1 | 1 | 0 | 0 | 3 | 0.6 |\n",
       "| CASP8 - FAT1 | CASP8 - FAT1    | 1 | 0 | 0 | 0 | 0 | 0 | 0 | 0.0 |\n",
       "| TP53 - AXIN1 | TP53 - AXIN1    | 1 | 0 | 1 | 1 | 1 | 1 | 4 | 0.8 |\n",
       "| CDKN2A - NOTCH1 | CDKN2A - NOTCH1 | 1 | 0 | 0 | 0 | 1 | 0 | 1 | 0.2 |\n",
       "| IDH1 - KMT2C | IDH1 - KMT2C    | 1 | 0 | 0 | 0 | 0 | 0 | 0 | 0.0 |\n",
       "| EGFR - KEAP1 | EGFR - KEAP1    | 1 | 0 | 0 | 0 | 0 | 0 | 0 | 0.0 |\n",
       "| CASP8 - HLA-A | CASP8 - HLA-A   | 1 | 0 | 0 | 1 | 0 | 1 | 2 | 0.4 |\n",
       "| PIK3CA - GPS2 | PIK3CA - GPS2   | 1 | 0 | 0 | 0 | 0 | 0 | 0 | 0.0 |\n",
       "| KDM5C - TP53 | KDM5C - TP53    | 1 | 0 | 0 | 0 | 0 | 0 | 0 | 0.0 |\n",
       "| EGFR - NF1 | EGFR - NF1      | 1 | 1 | 1 | 0 | 0 | 0 | 2 | 0.4 |\n",
       "| HRAS - CASP8 | HRAS - CASP8    | 1 | 0 | 1 | 1 | 0 | 1 | 3 | 0.6 |\n",
       "| KRAS - FAT1 | KRAS - FAT1     | 1 | 0 | 0 | 0 | 0 | 0 | 0 | 0.0 |\n",
       "| TP53 - ERBB3 | TP53 - ERBB3    | 1 | 1 | 0 | 1 | 1 | 1 | 4 | 0.8 |\n",
       "| TP53 - CDKN1B | TP53 - CDKN1B   | 1 | 0 | 0 | 0 | 0 | 0 | 0 | 0.0 |\n",
       "| TP53 - TP53BP1 | TP53 - TP53BP1  | 1 | 0 | 0 | 0 | 0 | 1 | 1 | 0.2 |\n",
       "| IDH2 - TET2 | IDH2 - TET2     | 1 | 0 | 0 | 0 | 0 | 0 | 0 | 0.0 |\n",
       "| PIK3CA - CCND1 | PIK3CA - CCND1  | 1 | 0 | 0 | 1 | 0 | 0 | 1 | 0.2 |\n",
       "| TP53 - TLE1 | TP53 - TLE1     | 1 | 0 | 0 | 0 | 0 | 0 | 0 | 0.0 |\n",
       "| HRAS - NRAS | HRAS - NRAS     | 1 | 0 | 0 | 0 | 0 | 1 | 1 | 0.2 |\n",
       "| TP53 - ARAF | TP53 - ARAF     | 1 | 0 | 0 | 0 | 0 | 0 | 0 | 0.0 |\n",
       "| TP53 - AJUBA | TP53 - AJUBA    | 1 | 1 | 0 | 0 | 0 | 1 | 2 | 0.4 |\n",
       "| CASP8 - NSD1 | CASP8 - NSD1    | 1 | 0 | 0 | 1 | 0 | 0 | 1 | 0.2 |\n",
       "| CCND1 - KMT2B | CCND1 - KMT2B   | 1 | 0 | 0 | 0 | 1 | 0 | 1 | 0.2 |\n",
       "\n"
      ],
      "text/plain": [
       "                pairs           Run_100 Run_1 Run_2 Run_3 Run_4 Run_5\n",
       "PIK3CA - TP53   PIK3CA - TP53   1       1     1     1     1     1    \n",
       "BRAF - TP53     BRAF - TP53     1       1     1     1     1     1    \n",
       "TP53 - ARID1A   TP53 - ARID1A   1       1     1     1     1     1    \n",
       "BRAF - NRAS     BRAF - NRAS     1       1     1     1     1     1    \n",
       "CDKN2A - TP53   CDKN2A - TP53   1       1     1     1     1     1    \n",
       "PTEN - TP53     PTEN - TP53     1       1     1     1     1     1    \n",
       "CTNNB1 - TP53   CTNNB1 - TP53   1       1     1     1     1     1    \n",
       "IDH1 - ATRX     IDH1 - ATRX     1       1     1     1     1     1    \n",
       "PTEN - ARID1A   PTEN - ARID1A   1       1     1     1     1     1    \n",
       "BRAF - KRAS     BRAF - KRAS     1       1     1     1     1     1    \n",
       "ATM - TP53      ATM - TP53      1       1     1     1     1     1    \n",
       "CTNNB1 - PTEN   CTNNB1 - PTEN   1       1     1     1     1     1    \n",
       "PIK3R1 - PTEN   PIK3R1 - PTEN   1       1     1     1     1     1    \n",
       "PIK3CA - PIK3R1 PIK3CA - PIK3R1 1       1     1     1     1     1    \n",
       "CDH1 - TP53     CDH1 - TP53     1       1     1     1     1     1    \n",
       "TP53 - GATA3    TP53 - GATA3    1       1     1     1     1     1    \n",
       "TP53 - KMT2C    TP53 - KMT2C    1       1     1     1     1     1    \n",
       "RB1 - TP53      RB1 - TP53      1       1     1     1     1     1    \n",
       "CDH1 - PIK3CA   CDH1 - PIK3CA   1       1     1     1     0     1    \n",
       "PIK3CA - PTEN   PIK3CA - PTEN   1       1     1     1     1     1    \n",
       "PIK3CA - MAP3K1 PIK3CA - MAP3K1 1       1     1     1     1     1    \n",
       "KRAS - NRAS     KRAS - NRAS     1       1     1     1     1     1    \n",
       "TP53 - ATRX     TP53 - ATRX     1       1     1     1     1     1    \n",
       "PTEN - CTCF     PTEN - CTCF     1       1     1     1     1     1    \n",
       "EGFR - KRAS     EGFR - KRAS     1       1     1     1     1     1    \n",
       "PIK3CA - ARID1A PIK3CA - ARID1A 1       1     1     1     1     1    \n",
       "SETD2 - TP53    SETD2 - TP53    1       1     1     1     1     1    \n",
       "IDH1 - IDH2     IDH1 - IDH2     1       1     1     1     1     1    \n",
       "TP53 - VHL      TP53 - VHL      1       1     1     1     1     1    \n",
       "KMT2D - KMT2C   KMT2D - KMT2C   1       1     1     1     1     1    \n",
       "⋮               ⋮               ⋮       ⋮     ⋮     ⋮     ⋮     ⋮    \n",
       "NPM1 - TET2     NPM1 - TET2     1       0     0     0     0     0    \n",
       "BRAF - ARID1A   BRAF - ARID1A   1       0     0     0     1     0    \n",
       "PIK3R1 - ZFHX3  PIK3R1 - ZFHX3  1       1     1     1     0     0    \n",
       "FGFR3 - RB1     FGFR3 - RB1     1       0     0     0     0     1    \n",
       "RB1 - KMT2C     RB1 - KMT2C     1       1     0     0     0     0    \n",
       "TP53 - ARHGAP35 TP53 - ARHGAP35 1       0     0     1     0     0    \n",
       "PTPN11 - TP53   PTPN11 - TP53   1       0     0     0     0     0    \n",
       "KMT2D - BCORL1  KMT2D - BCORL1  1       1     1     1     0     0    \n",
       "CASP8 - FAT1    CASP8 - FAT1    1       0     0     0     0     0    \n",
       "TP53 - AXIN1    TP53 - AXIN1    1       0     1     1     1     1    \n",
       "CDKN2A - NOTCH1 CDKN2A - NOTCH1 1       0     0     0     1     0    \n",
       "IDH1 - KMT2C    IDH1 - KMT2C    1       0     0     0     0     0    \n",
       "EGFR - KEAP1    EGFR - KEAP1    1       0     0     0     0     0    \n",
       "CASP8 - HLA-A   CASP8 - HLA-A   1       0     0     1     0     1    \n",
       "PIK3CA - GPS2   PIK3CA - GPS2   1       0     0     0     0     0    \n",
       "KDM5C - TP53    KDM5C - TP53    1       0     0     0     0     0    \n",
       "EGFR - NF1      EGFR - NF1      1       1     1     0     0     0    \n",
       "HRAS - CASP8    HRAS - CASP8    1       0     1     1     0     1    \n",
       "KRAS - FAT1     KRAS - FAT1     1       0     0     0     0     0    \n",
       "TP53 - ERBB3    TP53 - ERBB3    1       1     0     1     1     1    \n",
       "TP53 - CDKN1B   TP53 - CDKN1B   1       0     0     0     0     0    \n",
       "TP53 - TP53BP1  TP53 - TP53BP1  1       0     0     0     0     1    \n",
       "IDH2 - TET2     IDH2 - TET2     1       0     0     0     0     0    \n",
       "PIK3CA - CCND1  PIK3CA - CCND1  1       0     0     1     0     0    \n",
       "TP53 - TLE1     TP53 - TLE1     1       0     0     0     0     0    \n",
       "HRAS - NRAS     HRAS - NRAS     1       0     0     0     0     1    \n",
       "TP53 - ARAF     TP53 - ARAF     1       0     0     0     0     0    \n",
       "TP53 - AJUBA    TP53 - AJUBA    1       1     0     0     0     1    \n",
       "CASP8 - NSD1    CASP8 - NSD1    1       0     0     1     0     0    \n",
       "CCND1 - KMT2B   CCND1 - KMT2B   1       0     0     0     1     0    \n",
       "                Total_count Total\n",
       "PIK3CA - TP53   5           1.0  \n",
       "BRAF - TP53     5           1.0  \n",
       "TP53 - ARID1A   5           1.0  \n",
       "BRAF - NRAS     5           1.0  \n",
       "CDKN2A - TP53   5           1.0  \n",
       "PTEN - TP53     5           1.0  \n",
       "CTNNB1 - TP53   5           1.0  \n",
       "IDH1 - ATRX     5           1.0  \n",
       "PTEN - ARID1A   5           1.0  \n",
       "BRAF - KRAS     5           1.0  \n",
       "ATM - TP53      5           1.0  \n",
       "CTNNB1 - PTEN   5           1.0  \n",
       "PIK3R1 - PTEN   5           1.0  \n",
       "PIK3CA - PIK3R1 5           1.0  \n",
       "CDH1 - TP53     5           1.0  \n",
       "TP53 - GATA3    5           1.0  \n",
       "TP53 - KMT2C    5           1.0  \n",
       "RB1 - TP53      5           1.0  \n",
       "CDH1 - PIK3CA   4           0.8  \n",
       "PIK3CA - PTEN   5           1.0  \n",
       "PIK3CA - MAP3K1 5           1.0  \n",
       "KRAS - NRAS     5           1.0  \n",
       "TP53 - ATRX     5           1.0  \n",
       "PTEN - CTCF     5           1.0  \n",
       "EGFR - KRAS     5           1.0  \n",
       "PIK3CA - ARID1A 5           1.0  \n",
       "SETD2 - TP53    5           1.0  \n",
       "IDH1 - IDH2     5           1.0  \n",
       "TP53 - VHL      5           1.0  \n",
       "KMT2D - KMT2C   5           1.0  \n",
       "⋮               ⋮           ⋮    \n",
       "NPM1 - TET2     0           0.0  \n",
       "BRAF - ARID1A   1           0.2  \n",
       "PIK3R1 - ZFHX3  3           0.6  \n",
       "FGFR3 - RB1     1           0.2  \n",
       "RB1 - KMT2C     1           0.2  \n",
       "TP53 - ARHGAP35 1           0.2  \n",
       "PTPN11 - TP53   0           0.0  \n",
       "KMT2D - BCORL1  3           0.6  \n",
       "CASP8 - FAT1    0           0.0  \n",
       "TP53 - AXIN1    4           0.8  \n",
       "CDKN2A - NOTCH1 1           0.2  \n",
       "IDH1 - KMT2C    0           0.0  \n",
       "EGFR - KEAP1    0           0.0  \n",
       "CASP8 - HLA-A   2           0.4  \n",
       "PIK3CA - GPS2   0           0.0  \n",
       "KDM5C - TP53    0           0.0  \n",
       "EGFR - NF1      2           0.4  \n",
       "HRAS - CASP8    3           0.6  \n",
       "KRAS - FAT1     0           0.0  \n",
       "TP53 - ERBB3    4           0.8  \n",
       "TP53 - CDKN1B   0           0.0  \n",
       "TP53 - TP53BP1  1           0.2  \n",
       "IDH2 - TET2     0           0.0  \n",
       "PIK3CA - CCND1  1           0.2  \n",
       "TP53 - TLE1     0           0.0  \n",
       "HRAS - NRAS     1           0.2  \n",
       "TP53 - ARAF     0           0.0  \n",
       "TP53 - AJUBA    2           0.4  \n",
       "CASP8 - NSD1    1           0.2  \n",
       "CCND1 - KMT2B   1           0.2  "
      ]
     },
     "metadata": {},
     "output_type": "display_data"
    }
   ],
   "source": [
    "score_df"
   ]
  },
  {
   "cell_type": "code",
   "execution_count": 13,
   "id": "e2e3d68c-6876-4d1e-803e-3d4152e95aa7",
   "metadata": {
    "tags": []
   },
   "outputs": [],
   "source": [
    "cum_pct<-list()\n",
    "cum_pairs<-list()\n",
    "for(i in c(1:5)){\n",
    "    cum_pct[[i]]<-sum(rowSums(score_df[,c(3:7)])>=i)*100/222\n",
    "    cum_pairs[[i]]<-sum(rowSums(score_df[,c(3:7)])>=i)\n",
    "}"
   ]
  },
  {
   "cell_type": "code",
   "execution_count": 14,
   "id": "336a48a1-107d-4e93-ba59-d9fa4b77b251",
   "metadata": {
    "tags": []
   },
   "outputs": [],
   "source": [
    "score_df_v3<-data.frame('Recovery'=c(1:5),'n'=unlist(cum_pairs),'pct'=unlist(cum_pct))\n",
    "score_df_v3$Recovery <-as.factor(score_df_v3$Recovery)"
   ]
  },
  {
   "cell_type": "code",
   "execution_count": 15,
   "id": "c8023296-a79c-4388-b398-93051dfba1de",
   "metadata": {
    "tags": []
   },
   "outputs": [
    {
     "data": {
      "text/html": [
       "<table class=\"dataframe\">\n",
       "<caption>A data.frame: 5 × 3</caption>\n",
       "<thead>\n",
       "\t<tr><th scope=col>Recovery</th><th scope=col>n</th><th scope=col>pct</th></tr>\n",
       "\t<tr><th scope=col>&lt;fct&gt;</th><th scope=col>&lt;int&gt;</th><th scope=col>&lt;dbl&gt;</th></tr>\n",
       "</thead>\n",
       "<tbody>\n",
       "\t<tr><td>1</td><td>195</td><td>87.83784</td></tr>\n",
       "\t<tr><td>2</td><td>171</td><td>77.02703</td></tr>\n",
       "\t<tr><td>3</td><td>158</td><td>71.17117</td></tr>\n",
       "\t<tr><td>4</td><td>141</td><td>63.51351</td></tr>\n",
       "\t<tr><td>5</td><td>112</td><td>50.45045</td></tr>\n",
       "</tbody>\n",
       "</table>\n"
      ],
      "text/latex": [
       "A data.frame: 5 × 3\n",
       "\\begin{tabular}{lll}\n",
       " Recovery & n & pct\\\\\n",
       " <fct> & <int> & <dbl>\\\\\n",
       "\\hline\n",
       "\t 1 & 195 & 87.83784\\\\\n",
       "\t 2 & 171 & 77.02703\\\\\n",
       "\t 3 & 158 & 71.17117\\\\\n",
       "\t 4 & 141 & 63.51351\\\\\n",
       "\t 5 & 112 & 50.45045\\\\\n",
       "\\end{tabular}\n"
      ],
      "text/markdown": [
       "\n",
       "A data.frame: 5 × 3\n",
       "\n",
       "| Recovery &lt;fct&gt; | n &lt;int&gt; | pct &lt;dbl&gt; |\n",
       "|---|---|---|\n",
       "| 1 | 195 | 87.83784 |\n",
       "| 2 | 171 | 77.02703 |\n",
       "| 3 | 158 | 71.17117 |\n",
       "| 4 | 141 | 63.51351 |\n",
       "| 5 | 112 | 50.45045 |\n",
       "\n"
      ],
      "text/plain": [
       "  Recovery n   pct     \n",
       "1 1        195 87.83784\n",
       "2 2        171 77.02703\n",
       "3 3        158 71.17117\n",
       "4 4        141 63.51351\n",
       "5 5        112 50.45045"
      ]
     },
     "metadata": {},
     "output_type": "display_data"
    }
   ],
   "source": [
    "score_df_v3"
   ]
  },
  {
   "cell_type": "code",
   "execution_count": 16,
   "id": "07df9198-1e9d-4288-8ab7-8bd97b913c02",
   "metadata": {
    "tags": []
   },
   "outputs": [
    {
     "data": {
      "text/html": [
       "<table class=\"dataframe\">\n",
       "<caption>A data.frame: 6 × 3</caption>\n",
       "<thead>\n",
       "\t<tr><th scope=col>Total</th><th scope=col>n</th><th scope=col>pct</th></tr>\n",
       "\t<tr><th scope=col>&lt;dbl&gt;</th><th scope=col>&lt;int&gt;</th><th scope=col>&lt;dbl&gt;</th></tr>\n",
       "</thead>\n",
       "<tbody>\n",
       "\t<tr><td>0.0</td><td> 27</td><td>12.162162</td></tr>\n",
       "\t<tr><td>0.2</td><td> 24</td><td>10.810811</td></tr>\n",
       "\t<tr><td>0.4</td><td> 13</td><td> 5.855856</td></tr>\n",
       "\t<tr><td>0.6</td><td> 17</td><td> 7.657658</td></tr>\n",
       "\t<tr><td>0.8</td><td> 29</td><td>13.063063</td></tr>\n",
       "\t<tr><td>1.0</td><td>112</td><td>50.450450</td></tr>\n",
       "</tbody>\n",
       "</table>\n"
      ],
      "text/latex": [
       "A data.frame: 6 × 3\n",
       "\\begin{tabular}{lll}\n",
       " Total & n & pct\\\\\n",
       " <dbl> & <int> & <dbl>\\\\\n",
       "\\hline\n",
       "\t 0.0 &  27 & 12.162162\\\\\n",
       "\t 0.2 &  24 & 10.810811\\\\\n",
       "\t 0.4 &  13 &  5.855856\\\\\n",
       "\t 0.6 &  17 &  7.657658\\\\\n",
       "\t 0.8 &  29 & 13.063063\\\\\n",
       "\t 1.0 & 112 & 50.450450\\\\\n",
       "\\end{tabular}\n"
      ],
      "text/markdown": [
       "\n",
       "A data.frame: 6 × 3\n",
       "\n",
       "| Total &lt;dbl&gt; | n &lt;int&gt; | pct &lt;dbl&gt; |\n",
       "|---|---|---|\n",
       "| 0.0 |  27 | 12.162162 |\n",
       "| 0.2 |  24 | 10.810811 |\n",
       "| 0.4 |  13 |  5.855856 |\n",
       "| 0.6 |  17 |  7.657658 |\n",
       "| 0.8 |  29 | 13.063063 |\n",
       "| 1.0 | 112 | 50.450450 |\n",
       "\n"
      ],
      "text/plain": [
       "  Total n   pct      \n",
       "1 0.0    27 12.162162\n",
       "2 0.2    24 10.810811\n",
       "3 0.4    13  5.855856\n",
       "4 0.6    17  7.657658\n",
       "5 0.8    29 13.063063\n",
       "6 1.0   112 50.450450"
      ]
     },
     "metadata": {},
     "output_type": "display_data"
    }
   ],
   "source": [
    "score_df %>% count(Total) %>% mutate(pct=(n*100/222))"
   ]
  },
  {
   "cell_type": "markdown",
   "id": "c7852ac8-e807-4586-a05c-b6a8705e8b2d",
   "metadata": {
    "jp-MarkdownHeadingCollapsed": true,
    "tags": []
   },
   "source": [
    "## Select "
   ]
  },
  {
   "cell_type": "code",
   "execution_count": 17,
   "id": "33ca7e92-17da-4756-8a21-c1a9683c75d4",
   "metadata": {},
   "outputs": [],
   "source": [
    "select_orginal <- readRDS('/mnt/ptemp/arvind/tool_comaprision/results/select/tcga_select_all_results.rds')"
   ]
  },
  {
   "cell_type": "code",
   "execution_count": 18,
   "id": "e98e9867-7cc2-4dc6-b31f-3cc3bec1218b",
   "metadata": {},
   "outputs": [],
   "source": [
    "boot_results <- list()\n",
    "k=1\n",
    "for (i in c(1:5)){\n",
    "    name <- paste('/mnt/ptemp/arvind/tool_comaprision/results/select/sampling_run_tcga_result_80_',i,'.rds',sep=\"\")\n",
    "    boot_results[[k]] <- readRDS(file=name)\n",
    "    k=k+1\n",
    "}"
   ]
  },
  {
   "cell_type": "code",
   "execution_count": 19,
   "id": "61e28282-ef7f-4174-9871-9c8ec095a4df",
   "metadata": {},
   "outputs": [
    {
     "data": {
      "text/html": [
       "5"
      ],
      "text/latex": [
       "5"
      ],
      "text/markdown": [
       "5"
      ],
      "text/plain": [
       "[1] 5"
      ]
     },
     "metadata": {},
     "output_type": "display_data"
    }
   ],
   "source": [
    "length(boot_results)"
   ]
  },
  {
   "cell_type": "code",
   "execution_count": 20,
   "id": "fe609d99-c6c7-4c51-a91e-341bed9ddb73",
   "metadata": {},
   "outputs": [
    {
     "data": {
      "text/html": [
       "<table class=\"dataframe\">\n",
       "<caption>A data.frame: 6 × 26</caption>\n",
       "<thead>\n",
       "\t<tr><th></th><th scope=col>SFE_1</th><th scope=col>SFE_2</th><th scope=col>name</th><th scope=col>type_1</th><th scope=col>type_2</th><th scope=col>int_type</th><th scope=col>support_1</th><th scope=col>support_2</th><th scope=col>freq_1</th><th scope=col>freq_2</th><th scope=col>⋯</th><th scope=col>abs_diff_overlap</th><th scope=col>direction</th><th scope=col>wMI_stat</th><th scope=col>wMI_p.value</th><th scope=col>ME_p.value</th><th scope=col>E.r.wMI_stat</th><th scope=col>MI_diff</th><th scope=col>wMI_p.value_FDR</th><th scope=col>select_score_good_cancer_cell_2017_criterion_1</th><th scope=col>select_score</th></tr>\n",
       "\t<tr><th></th><th scope=col>&lt;chr&gt;</th><th scope=col>&lt;chr&gt;</th><th scope=col>&lt;chr&gt;</th><th scope=col>&lt;chr&gt;</th><th scope=col>&lt;chr&gt;</th><th scope=col>&lt;chr&gt;</th><th scope=col>&lt;dbl&gt;</th><th scope=col>&lt;dbl&gt;</th><th scope=col>&lt;dbl&gt;</th><th scope=col>&lt;dbl&gt;</th><th scope=col>⋯</th><th scope=col>&lt;dbl&gt;</th><th scope=col>&lt;chr&gt;</th><th scope=col>&lt;dbl&gt;</th><th scope=col>&lt;dbl&gt;</th><th scope=col>&lt;dbl&gt;</th><th scope=col>&lt;dbl&gt;</th><th scope=col>&lt;dbl&gt;</th><th scope=col>&lt;lgl&gt;</th><th scope=col>&lt;lgl&gt;</th><th scope=col>&lt;dbl&gt;</th></tr>\n",
       "</thead>\n",
       "<tbody>\n",
       "\t<tr><th scope=row>AKT1 - ALK</th><td>AKT1</td><td>ALK </td><td>AKT1 - ALK </td><td>MUT</td><td>MUT</td><td>MUT - MUT</td><td>57</td><td> 29</td><td>0.009463722</td><td>0.004814876</td><td>⋯</td><td>0.340</td><td>CO</td><td>2.365631e-04</td><td>0.893</td><td>0.490</td><td>0.002503087</td><td>-0.002266524</td><td>FALSE</td><td>FALSE</td><td>          NA</td></tr>\n",
       "\t<tr><th scope=row>AKT1 - APC</th><td>AKT1</td><td>APC </td><td>AKT1 - APC </td><td>MUT</td><td>MUT</td><td>MUT - MUT</td><td>57</td><td>370</td><td>0.009463722</td><td>0.061431180</td><td>⋯</td><td>0.910</td><td>ME</td><td>1.017148e-02</td><td>0.401</td><td>0.401</td><td>0.010171477</td><td> 0.000000000</td><td>FALSE</td><td>FALSE</td><td>          NA</td></tr>\n",
       "\t<tr><th scope=row>AKT1 - AR</th><td>AKT1</td><td>AR  </td><td>AKT1 - AR  </td><td>MUT</td><td>MUT</td><td>MUT - MUT</td><td>57</td><td> 21</td><td>0.009463722</td><td>0.003486635</td><td>⋯</td><td>0.576</td><td>CO</td><td>3.728933e-05</td><td>1.000</td><td>0.352</td><td>0.001904909</td><td>-0.001867620</td><td>FALSE</td><td>FALSE</td><td>          NA</td></tr>\n",
       "\t<tr><th scope=row>AKT1 - ATM</th><td>AKT1</td><td>ATM </td><td>AKT1 - ATM </td><td>MUT</td><td>MUT</td><td>MUT - MUT</td><td>57</td><td>181</td><td>0.009463722</td><td>0.030051469</td><td>⋯</td><td>0.729</td><td>CO</td><td>8.141605e-04</td><td>0.786</td><td>0.414</td><td>0.002666180</td><td>-0.001852019</td><td>FALSE</td><td>FALSE</td><td>          NA</td></tr>\n",
       "\t<tr><th scope=row>AKT1 - BAP1</th><td>AKT1</td><td>BAP1</td><td>AKT1 - BAP1</td><td>MUT</td><td>MUT</td><td>MUT - MUT</td><td>57</td><td> 86</td><td>0.009463722</td><td>0.014278599</td><td>⋯</td><td>0.484</td><td>ME</td><td>5.076404e-03</td><td>0.602</td><td>0.602</td><td>0.005076404</td><td> 0.000000000</td><td>FALSE</td><td>FALSE</td><td>          NA</td></tr>\n",
       "\t<tr><th scope=row>AKT1 - BRAF</th><td>AKT1</td><td>BRAF</td><td>AKT1 - BRAF</td><td>MUT</td><td>MUT</td><td>MUT - MUT</td><td>57</td><td>467</td><td>0.009463722</td><td>0.077536112</td><td>⋯</td><td>4.881</td><td>CO</td><td>1.129453e-03</td><td>1.000</td><td>0.003</td><td>0.006048236</td><td>-0.004918783</td><td>FALSE</td><td>FALSE</td><td>0.0003347614</td></tr>\n",
       "</tbody>\n",
       "</table>\n"
      ],
      "text/latex": [
       "A data.frame: 6 × 26\n",
       "\\begin{tabular}{r|lllllllllllllllllllll}\n",
       "  & SFE\\_1 & SFE\\_2 & name & type\\_1 & type\\_2 & int\\_type & support\\_1 & support\\_2 & freq\\_1 & freq\\_2 & ⋯ & abs\\_diff\\_overlap & direction & wMI\\_stat & wMI\\_p.value & ME\\_p.value & E.r.wMI\\_stat & MI\\_diff & wMI\\_p.value\\_FDR & select\\_score\\_good\\_cancer\\_cell\\_2017\\_criterion\\_1 & select\\_score\\\\\n",
       "  & <chr> & <chr> & <chr> & <chr> & <chr> & <chr> & <dbl> & <dbl> & <dbl> & <dbl> & ⋯ & <dbl> & <chr> & <dbl> & <dbl> & <dbl> & <dbl> & <dbl> & <lgl> & <lgl> & <dbl>\\\\\n",
       "\\hline\n",
       "\tAKT1 - ALK & AKT1 & ALK  & AKT1 - ALK  & MUT & MUT & MUT - MUT & 57 &  29 & 0.009463722 & 0.004814876 & ⋯ & 0.340 & CO & 2.365631e-04 & 0.893 & 0.490 & 0.002503087 & -0.002266524 & FALSE & FALSE &           NA\\\\\n",
       "\tAKT1 - APC & AKT1 & APC  & AKT1 - APC  & MUT & MUT & MUT - MUT & 57 & 370 & 0.009463722 & 0.061431180 & ⋯ & 0.910 & ME & 1.017148e-02 & 0.401 & 0.401 & 0.010171477 &  0.000000000 & FALSE & FALSE &           NA\\\\\n",
       "\tAKT1 - AR & AKT1 & AR   & AKT1 - AR   & MUT & MUT & MUT - MUT & 57 &  21 & 0.009463722 & 0.003486635 & ⋯ & 0.576 & CO & 3.728933e-05 & 1.000 & 0.352 & 0.001904909 & -0.001867620 & FALSE & FALSE &           NA\\\\\n",
       "\tAKT1 - ATM & AKT1 & ATM  & AKT1 - ATM  & MUT & MUT & MUT - MUT & 57 & 181 & 0.009463722 & 0.030051469 & ⋯ & 0.729 & CO & 8.141605e-04 & 0.786 & 0.414 & 0.002666180 & -0.001852019 & FALSE & FALSE &           NA\\\\\n",
       "\tAKT1 - BAP1 & AKT1 & BAP1 & AKT1 - BAP1 & MUT & MUT & MUT - MUT & 57 &  86 & 0.009463722 & 0.014278599 & ⋯ & 0.484 & ME & 5.076404e-03 & 0.602 & 0.602 & 0.005076404 &  0.000000000 & FALSE & FALSE &           NA\\\\\n",
       "\tAKT1 - BRAF & AKT1 & BRAF & AKT1 - BRAF & MUT & MUT & MUT - MUT & 57 & 467 & 0.009463722 & 0.077536112 & ⋯ & 4.881 & CO & 1.129453e-03 & 1.000 & 0.003 & 0.006048236 & -0.004918783 & FALSE & FALSE & 0.0003347614\\\\\n",
       "\\end{tabular}\n"
      ],
      "text/markdown": [
       "\n",
       "A data.frame: 6 × 26\n",
       "\n",
       "| <!--/--> | SFE_1 &lt;chr&gt; | SFE_2 &lt;chr&gt; | name &lt;chr&gt; | type_1 &lt;chr&gt; | type_2 &lt;chr&gt; | int_type &lt;chr&gt; | support_1 &lt;dbl&gt; | support_2 &lt;dbl&gt; | freq_1 &lt;dbl&gt; | freq_2 &lt;dbl&gt; | ⋯ ⋯ | abs_diff_overlap &lt;dbl&gt; | direction &lt;chr&gt; | wMI_stat &lt;dbl&gt; | wMI_p.value &lt;dbl&gt; | ME_p.value &lt;dbl&gt; | E.r.wMI_stat &lt;dbl&gt; | MI_diff &lt;dbl&gt; | wMI_p.value_FDR &lt;lgl&gt; | select_score_good_cancer_cell_2017_criterion_1 &lt;lgl&gt; | select_score &lt;dbl&gt; |\n",
       "|---|---|---|---|---|---|---|---|---|---|---|---|---|---|---|---|---|---|---|---|---|---|\n",
       "| AKT1 - ALK | AKT1 | ALK  | AKT1 - ALK  | MUT | MUT | MUT - MUT | 57 |  29 | 0.009463722 | 0.004814876 | ⋯ | 0.340 | CO | 2.365631e-04 | 0.893 | 0.490 | 0.002503087 | -0.002266524 | FALSE | FALSE |           NA |\n",
       "| AKT1 - APC | AKT1 | APC  | AKT1 - APC  | MUT | MUT | MUT - MUT | 57 | 370 | 0.009463722 | 0.061431180 | ⋯ | 0.910 | ME | 1.017148e-02 | 0.401 | 0.401 | 0.010171477 |  0.000000000 | FALSE | FALSE |           NA |\n",
       "| AKT1 - AR | AKT1 | AR   | AKT1 - AR   | MUT | MUT | MUT - MUT | 57 |  21 | 0.009463722 | 0.003486635 | ⋯ | 0.576 | CO | 3.728933e-05 | 1.000 | 0.352 | 0.001904909 | -0.001867620 | FALSE | FALSE |           NA |\n",
       "| AKT1 - ATM | AKT1 | ATM  | AKT1 - ATM  | MUT | MUT | MUT - MUT | 57 | 181 | 0.009463722 | 0.030051469 | ⋯ | 0.729 | CO | 8.141605e-04 | 0.786 | 0.414 | 0.002666180 | -0.001852019 | FALSE | FALSE |           NA |\n",
       "| AKT1 - BAP1 | AKT1 | BAP1 | AKT1 - BAP1 | MUT | MUT | MUT - MUT | 57 |  86 | 0.009463722 | 0.014278599 | ⋯ | 0.484 | ME | 5.076404e-03 | 0.602 | 0.602 | 0.005076404 |  0.000000000 | FALSE | FALSE |           NA |\n",
       "| AKT1 - BRAF | AKT1 | BRAF | AKT1 - BRAF | MUT | MUT | MUT - MUT | 57 | 467 | 0.009463722 | 0.077536112 | ⋯ | 4.881 | CO | 1.129453e-03 | 1.000 | 0.003 | 0.006048236 | -0.004918783 | FALSE | FALSE | 0.0003347614 |\n",
       "\n"
      ],
      "text/plain": [
       "            SFE_1 SFE_2 name        type_1 type_2 int_type  support_1 support_2\n",
       "AKT1 - ALK  AKT1  ALK   AKT1 - ALK  MUT    MUT    MUT - MUT 57         29      \n",
       "AKT1 - APC  AKT1  APC   AKT1 - APC  MUT    MUT    MUT - MUT 57        370      \n",
       "AKT1 - AR   AKT1  AR    AKT1 - AR   MUT    MUT    MUT - MUT 57         21      \n",
       "AKT1 - ATM  AKT1  ATM   AKT1 - ATM  MUT    MUT    MUT - MUT 57        181      \n",
       "AKT1 - BAP1 AKT1  BAP1  AKT1 - BAP1 MUT    MUT    MUT - MUT 57         86      \n",
       "AKT1 - BRAF AKT1  BRAF  AKT1 - BRAF MUT    MUT    MUT - MUT 57        467      \n",
       "            freq_1      freq_2      ⋯ abs_diff_overlap direction wMI_stat    \n",
       "AKT1 - ALK  0.009463722 0.004814876 ⋯ 0.340            CO        2.365631e-04\n",
       "AKT1 - APC  0.009463722 0.061431180 ⋯ 0.910            ME        1.017148e-02\n",
       "AKT1 - AR   0.009463722 0.003486635 ⋯ 0.576            CO        3.728933e-05\n",
       "AKT1 - ATM  0.009463722 0.030051469 ⋯ 0.729            CO        8.141605e-04\n",
       "AKT1 - BAP1 0.009463722 0.014278599 ⋯ 0.484            ME        5.076404e-03\n",
       "AKT1 - BRAF 0.009463722 0.077536112 ⋯ 4.881            CO        1.129453e-03\n",
       "            wMI_p.value ME_p.value E.r.wMI_stat MI_diff      wMI_p.value_FDR\n",
       "AKT1 - ALK  0.893       0.490      0.002503087  -0.002266524 FALSE          \n",
       "AKT1 - APC  0.401       0.401      0.010171477   0.000000000 FALSE          \n",
       "AKT1 - AR   1.000       0.352      0.001904909  -0.001867620 FALSE          \n",
       "AKT1 - ATM  0.786       0.414      0.002666180  -0.001852019 FALSE          \n",
       "AKT1 - BAP1 0.602       0.602      0.005076404   0.000000000 FALSE          \n",
       "AKT1 - BRAF 1.000       0.003      0.006048236  -0.004918783 FALSE          \n",
       "            select_score_good_cancer_cell_2017_criterion_1 select_score\n",
       "AKT1 - ALK  FALSE                                                    NA\n",
       "AKT1 - APC  FALSE                                                    NA\n",
       "AKT1 - AR   FALSE                                                    NA\n",
       "AKT1 - ATM  FALSE                                                    NA\n",
       "AKT1 - BAP1 FALSE                                                    NA\n",
       "AKT1 - BRAF FALSE                                          0.0003347614"
      ]
     },
     "metadata": {},
     "output_type": "display_data"
    }
   ],
   "source": [
    "head(boot_results[[1]])"
   ]
  },
  {
   "cell_type": "code",
   "execution_count": 21,
   "id": "379439e1-f51d-4cc6-a1ff-4b74705d2651",
   "metadata": {},
   "outputs": [],
   "source": [
    "selectX_100_pct_significnat_results <- select_orginal %>% filter(wMI_p.value_FDR) "
   ]
  },
  {
   "cell_type": "code",
   "execution_count": 22,
   "id": "a4d44a0a-8447-40bd-9c88-e8159ba4939c",
   "metadata": {},
   "outputs": [
    {
     "data": {
      "text/html": [
       "<table class=\"dataframe\">\n",
       "<caption>A data.frame: 2 × 2</caption>\n",
       "<thead>\n",
       "\t<tr><th scope=col>direction</th><th scope=col>n</th></tr>\n",
       "\t<tr><th scope=col>&lt;chr&gt;</th><th scope=col>&lt;int&gt;</th></tr>\n",
       "</thead>\n",
       "<tbody>\n",
       "\t<tr><td>CO</td><td>117</td></tr>\n",
       "\t<tr><td>ME</td><td> 79</td></tr>\n",
       "</tbody>\n",
       "</table>\n"
      ],
      "text/latex": [
       "A data.frame: 2 × 2\n",
       "\\begin{tabular}{ll}\n",
       " direction & n\\\\\n",
       " <chr> & <int>\\\\\n",
       "\\hline\n",
       "\t CO & 117\\\\\n",
       "\t ME &  79\\\\\n",
       "\\end{tabular}\n"
      ],
      "text/markdown": [
       "\n",
       "A data.frame: 2 × 2\n",
       "\n",
       "| direction &lt;chr&gt; | n &lt;int&gt; |\n",
       "|---|---|\n",
       "| CO | 117 |\n",
       "| ME |  79 |\n",
       "\n"
      ],
      "text/plain": [
       "  direction n  \n",
       "1 CO        117\n",
       "2 ME         79"
      ]
     },
     "metadata": {},
     "output_type": "display_data"
    }
   ],
   "source": [
    "select_orginal %>% filter(wMI_p.value_FDR)  %>% count(direction)"
   ]
  },
  {
   "cell_type": "code",
   "execution_count": 23,
   "id": "7f9fed3c-9ffa-4aff-af2f-b43d7326c5b4",
   "metadata": {},
   "outputs": [],
   "source": [
    "score_df<-data.frame('pairs'=selectX_100_pct_significnat_results$name)\n",
    "rownames(score_df)<-score_df$pairs\n",
    "score_df$Run_100<-1"
   ]
  },
  {
   "cell_type": "code",
   "execution_count": 24,
   "id": "d04040cc-2350-4247-a5d7-61196383b8da",
   "metadata": {},
   "outputs": [
    {
     "data": {
      "text/html": [
       "<table class=\"dataframe\">\n",
       "<caption>A data.frame: 6 × 2</caption>\n",
       "<thead>\n",
       "\t<tr><th></th><th scope=col>pairs</th><th scope=col>Run_100</th></tr>\n",
       "\t<tr><th></th><th scope=col>&lt;chr&gt;</th><th scope=col>&lt;dbl&gt;</th></tr>\n",
       "</thead>\n",
       "<tbody>\n",
       "\t<tr><th scope=row>AKT1 - PIK3CA</th><td>AKT1 - PIK3CA</td><td>1</td></tr>\n",
       "\t<tr><th scope=row>AKT1 - PIK3R1</th><td>AKT1 - PIK3R1</td><td>1</td></tr>\n",
       "\t<tr><th scope=row>AKT1 - PTEN</th><td>AKT1 - PTEN  </td><td>1</td></tr>\n",
       "\t<tr><th scope=row>AKT1 - MAP3K1</th><td>AKT1 - MAP3K1</td><td>1</td></tr>\n",
       "\t<tr><th scope=row>AKT1 - GAB1</th><td>AKT1 - GAB1  </td><td>1</td></tr>\n",
       "\t<tr><th scope=row>APC - BRAF</th><td>APC - BRAF   </td><td>1</td></tr>\n",
       "</tbody>\n",
       "</table>\n"
      ],
      "text/latex": [
       "A data.frame: 6 × 2\n",
       "\\begin{tabular}{r|ll}\n",
       "  & pairs & Run\\_100\\\\\n",
       "  & <chr> & <dbl>\\\\\n",
       "\\hline\n",
       "\tAKT1 - PIK3CA & AKT1 - PIK3CA & 1\\\\\n",
       "\tAKT1 - PIK3R1 & AKT1 - PIK3R1 & 1\\\\\n",
       "\tAKT1 - PTEN & AKT1 - PTEN   & 1\\\\\n",
       "\tAKT1 - MAP3K1 & AKT1 - MAP3K1 & 1\\\\\n",
       "\tAKT1 - GAB1 & AKT1 - GAB1   & 1\\\\\n",
       "\tAPC - BRAF & APC - BRAF    & 1\\\\\n",
       "\\end{tabular}\n"
      ],
      "text/markdown": [
       "\n",
       "A data.frame: 6 × 2\n",
       "\n",
       "| <!--/--> | pairs &lt;chr&gt; | Run_100 &lt;dbl&gt; |\n",
       "|---|---|---|\n",
       "| AKT1 - PIK3CA | AKT1 - PIK3CA | 1 |\n",
       "| AKT1 - PIK3R1 | AKT1 - PIK3R1 | 1 |\n",
       "| AKT1 - PTEN | AKT1 - PTEN   | 1 |\n",
       "| AKT1 - MAP3K1 | AKT1 - MAP3K1 | 1 |\n",
       "| AKT1 - GAB1 | AKT1 - GAB1   | 1 |\n",
       "| APC - BRAF | APC - BRAF    | 1 |\n",
       "\n"
      ],
      "text/plain": [
       "              pairs         Run_100\n",
       "AKT1 - PIK3CA AKT1 - PIK3CA 1      \n",
       "AKT1 - PIK3R1 AKT1 - PIK3R1 1      \n",
       "AKT1 - PTEN   AKT1 - PTEN   1      \n",
       "AKT1 - MAP3K1 AKT1 - MAP3K1 1      \n",
       "AKT1 - GAB1   AKT1 - GAB1   1      \n",
       "APC - BRAF    APC - BRAF    1      "
      ]
     },
     "metadata": {},
     "output_type": "display_data"
    }
   ],
   "source": [
    "head(score_df)"
   ]
  },
  {
   "cell_type": "code",
   "execution_count": 25,
   "id": "f91dda87-69ea-41e3-85f3-2727e3a5d628",
   "metadata": {},
   "outputs": [],
   "source": [
    "for (i in c(1:5)){\n",
    "    score_df[[paste('Run',i,sep=\"_\")]]<-0\n",
    "    temp <- (boot_results[[i]] %>% filter(name %in% score_df$pairs) %>% filter(wMI_p.value_FDR))$name\n",
    "    score_df[temp,][[paste('Run',i,sep=\"_\")]]<-1\n",
    "}"
   ]
  },
  {
   "cell_type": "code",
   "execution_count": 26,
   "id": "29c6c27e-9c3f-4f63-a822-9bbe11ec40dc",
   "metadata": {},
   "outputs": [],
   "source": [
    "score_df$Total_count<-(score_df$Run_1+score_df$Run_2+score_df$Run_3+score_df$Run_4+score_df$Run_5)\n",
    "score_df$Total <- (score_df$Run_1+score_df$Run_2+score_df$Run_3+score_df$Run_4+score_df$Run_5)/5"
   ]
  },
  {
   "cell_type": "code",
   "execution_count": 27,
   "id": "b286f871-947f-4387-8ae0-b1d6084bdd98",
   "metadata": {
    "scrolled": true,
    "tags": []
   },
   "outputs": [
    {
     "data": {
      "text/html": [
       "<table class=\"dataframe\">\n",
       "<caption>A data.frame: 196 × 9</caption>\n",
       "<thead>\n",
       "\t<tr><th></th><th scope=col>pairs</th><th scope=col>Run_100</th><th scope=col>Run_1</th><th scope=col>Run_2</th><th scope=col>Run_3</th><th scope=col>Run_4</th><th scope=col>Run_5</th><th scope=col>Total_count</th><th scope=col>Total</th></tr>\n",
       "\t<tr><th></th><th scope=col>&lt;chr&gt;</th><th scope=col>&lt;dbl&gt;</th><th scope=col>&lt;dbl&gt;</th><th scope=col>&lt;dbl&gt;</th><th scope=col>&lt;dbl&gt;</th><th scope=col>&lt;dbl&gt;</th><th scope=col>&lt;dbl&gt;</th><th scope=col>&lt;dbl&gt;</th><th scope=col>&lt;dbl&gt;</th></tr>\n",
       "</thead>\n",
       "<tbody>\n",
       "\t<tr><th scope=row>AKT1 - PIK3CA</th><td>AKT1 - PIK3CA  </td><td>1</td><td>0</td><td>1</td><td>0</td><td>0</td><td>0</td><td>1</td><td>0.2</td></tr>\n",
       "\t<tr><th scope=row>AKT1 - PIK3R1</th><td>AKT1 - PIK3R1  </td><td>1</td><td>0</td><td>0</td><td>0</td><td>0</td><td>0</td><td>0</td><td>0.0</td></tr>\n",
       "\t<tr><th scope=row>AKT1 - PTEN</th><td>AKT1 - PTEN    </td><td>1</td><td>1</td><td>1</td><td>1</td><td>1</td><td>1</td><td>5</td><td>1.0</td></tr>\n",
       "\t<tr><th scope=row>AKT1 - MAP3K1</th><td>AKT1 - MAP3K1  </td><td>1</td><td>0</td><td>0</td><td>0</td><td>0</td><td>0</td><td>0</td><td>0.0</td></tr>\n",
       "\t<tr><th scope=row>AKT1 - GAB1</th><td>AKT1 - GAB1    </td><td>1</td><td>0</td><td>0</td><td>0</td><td>0</td><td>1</td><td>1</td><td>0.2</td></tr>\n",
       "\t<tr><th scope=row>APC - BRAF</th><td>APC - BRAF     </td><td>1</td><td>1</td><td>1</td><td>1</td><td>0</td><td>1</td><td>4</td><td>0.8</td></tr>\n",
       "\t<tr><th scope=row>APC - CTNNB1</th><td>APC - CTNNB1   </td><td>1</td><td>0</td><td>0</td><td>0</td><td>0</td><td>0</td><td>0</td><td>0.0</td></tr>\n",
       "\t<tr><th scope=row>APC - RNF43</th><td>APC - RNF43    </td><td>1</td><td>0</td><td>0</td><td>1</td><td>1</td><td>1</td><td>3</td><td>0.6</td></tr>\n",
       "\t<tr><th scope=row>AR - ERBB4</th><td>AR - ERBB4     </td><td>1</td><td>1</td><td>0</td><td>0</td><td>0</td><td>0</td><td>1</td><td>0.2</td></tr>\n",
       "\t<tr><th scope=row>AR - ATXN7</th><td>AR - ATXN7     </td><td>1</td><td>0</td><td>1</td><td>1</td><td>0</td><td>0</td><td>2</td><td>0.4</td></tr>\n",
       "\t<tr><th scope=row>AR - PTCH1</th><td>AR - PTCH1     </td><td>1</td><td>0</td><td>0</td><td>0</td><td>0</td><td>0</td><td>0</td><td>0.0</td></tr>\n",
       "\t<tr><th scope=row>ATM - CTNNB1</th><td>ATM - CTNNB1   </td><td>1</td><td>0</td><td>0</td><td>0</td><td>0</td><td>0</td><td>0</td><td>0.0</td></tr>\n",
       "\t<tr><th scope=row>ATM - TP53</th><td>ATM - TP53     </td><td>1</td><td>1</td><td>1</td><td>1</td><td>1</td><td>1</td><td>5</td><td>1.0</td></tr>\n",
       "\t<tr><th scope=row>BRAF - IDH1</th><td>BRAF - IDH1    </td><td>1</td><td>1</td><td>1</td><td>1</td><td>1</td><td>1</td><td>5</td><td>1.0</td></tr>\n",
       "\t<tr><th scope=row>BRAF - KRAS</th><td>BRAF - KRAS    </td><td>1</td><td>1</td><td>1</td><td>1</td><td>1</td><td>1</td><td>5</td><td>1.0</td></tr>\n",
       "\t<tr><th scope=row>BRAF - NF1</th><td>BRAF - NF1     </td><td>1</td><td>0</td><td>0</td><td>0</td><td>0</td><td>1</td><td>1</td><td>0.2</td></tr>\n",
       "\t<tr><th scope=row>BRAF - NRAS</th><td>BRAF - NRAS    </td><td>1</td><td>1</td><td>1</td><td>1</td><td>1</td><td>1</td><td>5</td><td>1.0</td></tr>\n",
       "\t<tr><th scope=row>BRCA2 - TSC1</th><td>BRCA2 - TSC1   </td><td>1</td><td>0</td><td>0</td><td>0</td><td>0</td><td>1</td><td>1</td><td>0.2</td></tr>\n",
       "\t<tr><th scope=row>CDH1 - PIK3R1</th><td>CDH1 - PIK3R1  </td><td>1</td><td>0</td><td>0</td><td>0</td><td>0</td><td>0</td><td>0</td><td>0.0</td></tr>\n",
       "\t<tr><th scope=row>CDH1 - MAP2K4</th><td>CDH1 - MAP2K4  </td><td>1</td><td>0</td><td>0</td><td>0</td><td>0</td><td>0</td><td>0</td><td>0.0</td></tr>\n",
       "\t<tr><th scope=row>CDKN2A - RB1</th><td>CDKN2A - RB1   </td><td>1</td><td>1</td><td>1</td><td>0</td><td>1</td><td>1</td><td>4</td><td>0.8</td></tr>\n",
       "\t<tr><th scope=row>CDKN2A - TP53</th><td>CDKN2A - TP53  </td><td>1</td><td>0</td><td>0</td><td>0</td><td>1</td><td>0</td><td>1</td><td>0.2</td></tr>\n",
       "\t<tr><th scope=row>CREBBP - POLE</th><td>CREBBP - POLE  </td><td>1</td><td>0</td><td>0</td><td>0</td><td>0</td><td>0</td><td>0</td><td>0.0</td></tr>\n",
       "\t<tr><th scope=row>CTNNB1 - KRAS</th><td>CTNNB1 - KRAS  </td><td>1</td><td>0</td><td>1</td><td>0</td><td>0</td><td>0</td><td>1</td><td>0.2</td></tr>\n",
       "\t<tr><th scope=row>CTNNB1 - TP53</th><td>CTNNB1 - TP53  </td><td>1</td><td>1</td><td>1</td><td>1</td><td>1</td><td>1</td><td>5</td><td>1.0</td></tr>\n",
       "\t<tr><th scope=row>CTNNB1 - AXIN1</th><td>CTNNB1 - AXIN1 </td><td>1</td><td>1</td><td>1</td><td>1</td><td>1</td><td>1</td><td>5</td><td>1.0</td></tr>\n",
       "\t<tr><th scope=row>CTNNB1 - BCORL1</th><td>CTNNB1 - BCORL1</td><td>1</td><td>0</td><td>0</td><td>0</td><td>0</td><td>0</td><td>0</td><td>0.0</td></tr>\n",
       "\t<tr><th scope=row>DNMT3A - NPM1</th><td>DNMT3A - NPM1  </td><td>1</td><td>1</td><td>0</td><td>1</td><td>0</td><td>1</td><td>3</td><td>0.6</td></tr>\n",
       "\t<tr><th scope=row>EGFR - KRAS</th><td>EGFR - KRAS    </td><td>1</td><td>1</td><td>1</td><td>1</td><td>1</td><td>1</td><td>5</td><td>1.0</td></tr>\n",
       "\t<tr><th scope=row>EGFR - PIK3R1</th><td>EGFR - PIK3R1  </td><td>1</td><td>0</td><td>0</td><td>0</td><td>1</td><td>0</td><td>1</td><td>0.2</td></tr>\n",
       "\t<tr><th scope=row>⋮</th><td>⋮</td><td>⋮</td><td>⋮</td><td>⋮</td><td>⋮</td><td>⋮</td><td>⋮</td><td>⋮</td><td>⋮</td></tr>\n",
       "\t<tr><th scope=row>GNAS - ERF</th><td>GNAS - ERF     </td><td>1</td><td>0</td><td>1</td><td>1</td><td>0</td><td>0</td><td>2</td><td>0.4</td></tr>\n",
       "\t<tr><th scope=row>GNAS - AJUBA</th><td>GNAS - AJUBA   </td><td>1</td><td>0</td><td>1</td><td>1</td><td>0</td><td>1</td><td>3</td><td>0.6</td></tr>\n",
       "\t<tr><th scope=row>KMT2D - KMT2C</th><td>KMT2D - KMT2C  </td><td>1</td><td>1</td><td>1</td><td>1</td><td>1</td><td>1</td><td>5</td><td>1.0</td></tr>\n",
       "\t<tr><th scope=row>KMT2D - TLE1</th><td>KMT2D - TLE1   </td><td>1</td><td>0</td><td>0</td><td>0</td><td>0</td><td>0</td><td>0</td><td>0.0</td></tr>\n",
       "\t<tr><th scope=row>KMT2D - KDM6A</th><td>KMT2D - KDM6A  </td><td>1</td><td>0</td><td>1</td><td>0</td><td>0</td><td>0</td><td>1</td><td>0.2</td></tr>\n",
       "\t<tr><th scope=row>KMT2D - KMT2B</th><td>KMT2D - KMT2B  </td><td>1</td><td>0</td><td>0</td><td>0</td><td>1</td><td>0</td><td>1</td><td>0.2</td></tr>\n",
       "\t<tr><th scope=row>GATA2 - PAX5</th><td>GATA2 - PAX5   </td><td>1</td><td>0</td><td>0</td><td>0</td><td>1</td><td>0</td><td>1</td><td>0.2</td></tr>\n",
       "\t<tr><th scope=row>KMT2C - JARID2</th><td>KMT2C - JARID2 </td><td>1</td><td>1</td><td>0</td><td>1</td><td>0</td><td>1</td><td>3</td><td>0.6</td></tr>\n",
       "\t<tr><th scope=row>MITF - CBFB</th><td>MITF - CBFB    </td><td>1</td><td>0</td><td>0</td><td>0</td><td>0</td><td>0</td><td>0</td><td>0.0</td></tr>\n",
       "\t<tr><th scope=row>FH - FAS</th><td>FH - FAS       </td><td>1</td><td>0</td><td>0</td><td>0</td><td>0</td><td>0</td><td>0</td><td>0.0</td></tr>\n",
       "\t<tr><th scope=row>RAD51B - FAS</th><td>RAD51B - FAS   </td><td>1</td><td>0</td><td>0</td><td>0</td><td>0</td><td>0</td><td>0</td><td>0.0</td></tr>\n",
       "\t<tr><th scope=row>FANCD2 - RELN</th><td>FANCD2 - RELN  </td><td>1</td><td>0</td><td>0</td><td>0</td><td>0</td><td>0</td><td>0</td><td>0.0</td></tr>\n",
       "\t<tr><th scope=row>FANCD2 - PTPRS</th><td>FANCD2 - PTPRS </td><td>1</td><td>0</td><td>0</td><td>0</td><td>0</td><td>0</td><td>0</td><td>0.0</td></tr>\n",
       "\t<tr><th scope=row>DCUN1D1 - PTPRS</th><td>DCUN1D1 - PTPRS</td><td>1</td><td>0</td><td>0</td><td>0</td><td>1</td><td>1</td><td>2</td><td>0.4</td></tr>\n",
       "\t<tr><th scope=row>RTEL1 - ARID4A</th><td>RTEL1 - ARID4A </td><td>1</td><td>0</td><td>0</td><td>0</td><td>0</td><td>0</td><td>0</td><td>0.0</td></tr>\n",
       "\t<tr><th scope=row>SHOC2 - TLE4</th><td>SHOC2 - TLE4   </td><td>1</td><td>0</td><td>0</td><td>0</td><td>0</td><td>0</td><td>0</td><td>0.0</td></tr>\n",
       "\t<tr><th scope=row>ROBO1 - CYLD</th><td>ROBO1 - CYLD   </td><td>1</td><td>0</td><td>0</td><td>0</td><td>0</td><td>0</td><td>0</td><td>0.0</td></tr>\n",
       "\t<tr><th scope=row>ROBO1 - CD58</th><td>ROBO1 - CD58   </td><td>1</td><td>1</td><td>1</td><td>0</td><td>1</td><td>1</td><td>4</td><td>0.8</td></tr>\n",
       "\t<tr><th scope=row>SPRTN - INPP4B</th><td>SPRTN - INPP4B </td><td>1</td><td>1</td><td>1</td><td>0</td><td>1</td><td>1</td><td>4</td><td>0.8</td></tr>\n",
       "\t<tr><th scope=row>ZNRF3 - HLA-C</th><td>ZNRF3 - HLA-C  </td><td>1</td><td>0</td><td>0</td><td>0</td><td>0</td><td>0</td><td>0</td><td>0.0</td></tr>\n",
       "\t<tr><th scope=row>DKK1 - EP400</th><td>DKK1 - EP400   </td><td>1</td><td>0</td><td>0</td><td>0</td><td>0</td><td>0</td><td>0</td><td>0.0</td></tr>\n",
       "\t<tr><th scope=row>AMER1 - DNMT3B</th><td>AMER1 - DNMT3B </td><td>1</td><td>0</td><td>0</td><td>0</td><td>0</td><td>0</td><td>0</td><td>0.0</td></tr>\n",
       "\t<tr><th scope=row>PAX5 - SPEN</th><td>PAX5 - SPEN    </td><td>1</td><td>0</td><td>0</td><td>0</td><td>0</td><td>0</td><td>0</td><td>0.0</td></tr>\n",
       "\t<tr><th scope=row>TNFAIP3 - CUX1</th><td>TNFAIP3 - CUX1 </td><td>1</td><td>0</td><td>1</td><td>0</td><td>1</td><td>1</td><td>3</td><td>0.6</td></tr>\n",
       "\t<tr><th scope=row>KMT2A - CUX1</th><td>KMT2A - CUX1   </td><td>1</td><td>0</td><td>0</td><td>0</td><td>0</td><td>0</td><td>0</td><td>0.0</td></tr>\n",
       "\t<tr><th scope=row>KMT2A - ARID4A</th><td>KMT2A - ARID4A </td><td>1</td><td>0</td><td>0</td><td>0</td><td>0</td><td>0</td><td>0</td><td>0.0</td></tr>\n",
       "\t<tr><th scope=row>EPHA7 - JARID2</th><td>EPHA7 - JARID2 </td><td>1</td><td>0</td><td>0</td><td>0</td><td>0</td><td>0</td><td>0</td><td>0.0</td></tr>\n",
       "\t<tr><th scope=row>MAX - DNMT3B</th><td>MAX - DNMT3B   </td><td>1</td><td>0</td><td>0</td><td>0</td><td>0</td><td>0</td><td>0</td><td>0.0</td></tr>\n",
       "\t<tr><th scope=row>DNMT3B - ARID4A</th><td>DNMT3B - ARID4A</td><td>1</td><td>0</td><td>0</td><td>0</td><td>0</td><td>0</td><td>0</td><td>0.0</td></tr>\n",
       "\t<tr><th scope=row>PTPRS - ARID4A</th><td>PTPRS - ARID4A </td><td>1</td><td>0</td><td>0</td><td>1</td><td>0</td><td>0</td><td>1</td><td>0.2</td></tr>\n",
       "</tbody>\n",
       "</table>\n"
      ],
      "text/latex": [
       "A data.frame: 196 × 9\n",
       "\\begin{tabular}{r|lllllllll}\n",
       "  & pairs & Run\\_100 & Run\\_1 & Run\\_2 & Run\\_3 & Run\\_4 & Run\\_5 & Total\\_count & Total\\\\\n",
       "  & <chr> & <dbl> & <dbl> & <dbl> & <dbl> & <dbl> & <dbl> & <dbl> & <dbl>\\\\\n",
       "\\hline\n",
       "\tAKT1 - PIK3CA & AKT1 - PIK3CA   & 1 & 0 & 1 & 0 & 0 & 0 & 1 & 0.2\\\\\n",
       "\tAKT1 - PIK3R1 & AKT1 - PIK3R1   & 1 & 0 & 0 & 0 & 0 & 0 & 0 & 0.0\\\\\n",
       "\tAKT1 - PTEN & AKT1 - PTEN     & 1 & 1 & 1 & 1 & 1 & 1 & 5 & 1.0\\\\\n",
       "\tAKT1 - MAP3K1 & AKT1 - MAP3K1   & 1 & 0 & 0 & 0 & 0 & 0 & 0 & 0.0\\\\\n",
       "\tAKT1 - GAB1 & AKT1 - GAB1     & 1 & 0 & 0 & 0 & 0 & 1 & 1 & 0.2\\\\\n",
       "\tAPC - BRAF & APC - BRAF      & 1 & 1 & 1 & 1 & 0 & 1 & 4 & 0.8\\\\\n",
       "\tAPC - CTNNB1 & APC - CTNNB1    & 1 & 0 & 0 & 0 & 0 & 0 & 0 & 0.0\\\\\n",
       "\tAPC - RNF43 & APC - RNF43     & 1 & 0 & 0 & 1 & 1 & 1 & 3 & 0.6\\\\\n",
       "\tAR - ERBB4 & AR - ERBB4      & 1 & 1 & 0 & 0 & 0 & 0 & 1 & 0.2\\\\\n",
       "\tAR - ATXN7 & AR - ATXN7      & 1 & 0 & 1 & 1 & 0 & 0 & 2 & 0.4\\\\\n",
       "\tAR - PTCH1 & AR - PTCH1      & 1 & 0 & 0 & 0 & 0 & 0 & 0 & 0.0\\\\\n",
       "\tATM - CTNNB1 & ATM - CTNNB1    & 1 & 0 & 0 & 0 & 0 & 0 & 0 & 0.0\\\\\n",
       "\tATM - TP53 & ATM - TP53      & 1 & 1 & 1 & 1 & 1 & 1 & 5 & 1.0\\\\\n",
       "\tBRAF - IDH1 & BRAF - IDH1     & 1 & 1 & 1 & 1 & 1 & 1 & 5 & 1.0\\\\\n",
       "\tBRAF - KRAS & BRAF - KRAS     & 1 & 1 & 1 & 1 & 1 & 1 & 5 & 1.0\\\\\n",
       "\tBRAF - NF1 & BRAF - NF1      & 1 & 0 & 0 & 0 & 0 & 1 & 1 & 0.2\\\\\n",
       "\tBRAF - NRAS & BRAF - NRAS     & 1 & 1 & 1 & 1 & 1 & 1 & 5 & 1.0\\\\\n",
       "\tBRCA2 - TSC1 & BRCA2 - TSC1    & 1 & 0 & 0 & 0 & 0 & 1 & 1 & 0.2\\\\\n",
       "\tCDH1 - PIK3R1 & CDH1 - PIK3R1   & 1 & 0 & 0 & 0 & 0 & 0 & 0 & 0.0\\\\\n",
       "\tCDH1 - MAP2K4 & CDH1 - MAP2K4   & 1 & 0 & 0 & 0 & 0 & 0 & 0 & 0.0\\\\\n",
       "\tCDKN2A - RB1 & CDKN2A - RB1    & 1 & 1 & 1 & 0 & 1 & 1 & 4 & 0.8\\\\\n",
       "\tCDKN2A - TP53 & CDKN2A - TP53   & 1 & 0 & 0 & 0 & 1 & 0 & 1 & 0.2\\\\\n",
       "\tCREBBP - POLE & CREBBP - POLE   & 1 & 0 & 0 & 0 & 0 & 0 & 0 & 0.0\\\\\n",
       "\tCTNNB1 - KRAS & CTNNB1 - KRAS   & 1 & 0 & 1 & 0 & 0 & 0 & 1 & 0.2\\\\\n",
       "\tCTNNB1 - TP53 & CTNNB1 - TP53   & 1 & 1 & 1 & 1 & 1 & 1 & 5 & 1.0\\\\\n",
       "\tCTNNB1 - AXIN1 & CTNNB1 - AXIN1  & 1 & 1 & 1 & 1 & 1 & 1 & 5 & 1.0\\\\\n",
       "\tCTNNB1 - BCORL1 & CTNNB1 - BCORL1 & 1 & 0 & 0 & 0 & 0 & 0 & 0 & 0.0\\\\\n",
       "\tDNMT3A - NPM1 & DNMT3A - NPM1   & 1 & 1 & 0 & 1 & 0 & 1 & 3 & 0.6\\\\\n",
       "\tEGFR - KRAS & EGFR - KRAS     & 1 & 1 & 1 & 1 & 1 & 1 & 5 & 1.0\\\\\n",
       "\tEGFR - PIK3R1 & EGFR - PIK3R1   & 1 & 0 & 0 & 0 & 1 & 0 & 1 & 0.2\\\\\n",
       "\t⋮ & ⋮ & ⋮ & ⋮ & ⋮ & ⋮ & ⋮ & ⋮ & ⋮ & ⋮\\\\\n",
       "\tGNAS - ERF & GNAS - ERF      & 1 & 0 & 1 & 1 & 0 & 0 & 2 & 0.4\\\\\n",
       "\tGNAS - AJUBA & GNAS - AJUBA    & 1 & 0 & 1 & 1 & 0 & 1 & 3 & 0.6\\\\\n",
       "\tKMT2D - KMT2C & KMT2D - KMT2C   & 1 & 1 & 1 & 1 & 1 & 1 & 5 & 1.0\\\\\n",
       "\tKMT2D - TLE1 & KMT2D - TLE1    & 1 & 0 & 0 & 0 & 0 & 0 & 0 & 0.0\\\\\n",
       "\tKMT2D - KDM6A & KMT2D - KDM6A   & 1 & 0 & 1 & 0 & 0 & 0 & 1 & 0.2\\\\\n",
       "\tKMT2D - KMT2B & KMT2D - KMT2B   & 1 & 0 & 0 & 0 & 1 & 0 & 1 & 0.2\\\\\n",
       "\tGATA2 - PAX5 & GATA2 - PAX5    & 1 & 0 & 0 & 0 & 1 & 0 & 1 & 0.2\\\\\n",
       "\tKMT2C - JARID2 & KMT2C - JARID2  & 1 & 1 & 0 & 1 & 0 & 1 & 3 & 0.6\\\\\n",
       "\tMITF - CBFB & MITF - CBFB     & 1 & 0 & 0 & 0 & 0 & 0 & 0 & 0.0\\\\\n",
       "\tFH - FAS & FH - FAS        & 1 & 0 & 0 & 0 & 0 & 0 & 0 & 0.0\\\\\n",
       "\tRAD51B - FAS & RAD51B - FAS    & 1 & 0 & 0 & 0 & 0 & 0 & 0 & 0.0\\\\\n",
       "\tFANCD2 - RELN & FANCD2 - RELN   & 1 & 0 & 0 & 0 & 0 & 0 & 0 & 0.0\\\\\n",
       "\tFANCD2 - PTPRS & FANCD2 - PTPRS  & 1 & 0 & 0 & 0 & 0 & 0 & 0 & 0.0\\\\\n",
       "\tDCUN1D1 - PTPRS & DCUN1D1 - PTPRS & 1 & 0 & 0 & 0 & 1 & 1 & 2 & 0.4\\\\\n",
       "\tRTEL1 - ARID4A & RTEL1 - ARID4A  & 1 & 0 & 0 & 0 & 0 & 0 & 0 & 0.0\\\\\n",
       "\tSHOC2 - TLE4 & SHOC2 - TLE4    & 1 & 0 & 0 & 0 & 0 & 0 & 0 & 0.0\\\\\n",
       "\tROBO1 - CYLD & ROBO1 - CYLD    & 1 & 0 & 0 & 0 & 0 & 0 & 0 & 0.0\\\\\n",
       "\tROBO1 - CD58 & ROBO1 - CD58    & 1 & 1 & 1 & 0 & 1 & 1 & 4 & 0.8\\\\\n",
       "\tSPRTN - INPP4B & SPRTN - INPP4B  & 1 & 1 & 1 & 0 & 1 & 1 & 4 & 0.8\\\\\n",
       "\tZNRF3 - HLA-C & ZNRF3 - HLA-C   & 1 & 0 & 0 & 0 & 0 & 0 & 0 & 0.0\\\\\n",
       "\tDKK1 - EP400 & DKK1 - EP400    & 1 & 0 & 0 & 0 & 0 & 0 & 0 & 0.0\\\\\n",
       "\tAMER1 - DNMT3B & AMER1 - DNMT3B  & 1 & 0 & 0 & 0 & 0 & 0 & 0 & 0.0\\\\\n",
       "\tPAX5 - SPEN & PAX5 - SPEN     & 1 & 0 & 0 & 0 & 0 & 0 & 0 & 0.0\\\\\n",
       "\tTNFAIP3 - CUX1 & TNFAIP3 - CUX1  & 1 & 0 & 1 & 0 & 1 & 1 & 3 & 0.6\\\\\n",
       "\tKMT2A - CUX1 & KMT2A - CUX1    & 1 & 0 & 0 & 0 & 0 & 0 & 0 & 0.0\\\\\n",
       "\tKMT2A - ARID4A & KMT2A - ARID4A  & 1 & 0 & 0 & 0 & 0 & 0 & 0 & 0.0\\\\\n",
       "\tEPHA7 - JARID2 & EPHA7 - JARID2  & 1 & 0 & 0 & 0 & 0 & 0 & 0 & 0.0\\\\\n",
       "\tMAX - DNMT3B & MAX - DNMT3B    & 1 & 0 & 0 & 0 & 0 & 0 & 0 & 0.0\\\\\n",
       "\tDNMT3B - ARID4A & DNMT3B - ARID4A & 1 & 0 & 0 & 0 & 0 & 0 & 0 & 0.0\\\\\n",
       "\tPTPRS - ARID4A & PTPRS - ARID4A  & 1 & 0 & 0 & 1 & 0 & 0 & 1 & 0.2\\\\\n",
       "\\end{tabular}\n"
      ],
      "text/markdown": [
       "\n",
       "A data.frame: 196 × 9\n",
       "\n",
       "| <!--/--> | pairs &lt;chr&gt; | Run_100 &lt;dbl&gt; | Run_1 &lt;dbl&gt; | Run_2 &lt;dbl&gt; | Run_3 &lt;dbl&gt; | Run_4 &lt;dbl&gt; | Run_5 &lt;dbl&gt; | Total_count &lt;dbl&gt; | Total &lt;dbl&gt; |\n",
       "|---|---|---|---|---|---|---|---|---|---|\n",
       "| AKT1 - PIK3CA | AKT1 - PIK3CA   | 1 | 0 | 1 | 0 | 0 | 0 | 1 | 0.2 |\n",
       "| AKT1 - PIK3R1 | AKT1 - PIK3R1   | 1 | 0 | 0 | 0 | 0 | 0 | 0 | 0.0 |\n",
       "| AKT1 - PTEN | AKT1 - PTEN     | 1 | 1 | 1 | 1 | 1 | 1 | 5 | 1.0 |\n",
       "| AKT1 - MAP3K1 | AKT1 - MAP3K1   | 1 | 0 | 0 | 0 | 0 | 0 | 0 | 0.0 |\n",
       "| AKT1 - GAB1 | AKT1 - GAB1     | 1 | 0 | 0 | 0 | 0 | 1 | 1 | 0.2 |\n",
       "| APC - BRAF | APC - BRAF      | 1 | 1 | 1 | 1 | 0 | 1 | 4 | 0.8 |\n",
       "| APC - CTNNB1 | APC - CTNNB1    | 1 | 0 | 0 | 0 | 0 | 0 | 0 | 0.0 |\n",
       "| APC - RNF43 | APC - RNF43     | 1 | 0 | 0 | 1 | 1 | 1 | 3 | 0.6 |\n",
       "| AR - ERBB4 | AR - ERBB4      | 1 | 1 | 0 | 0 | 0 | 0 | 1 | 0.2 |\n",
       "| AR - ATXN7 | AR - ATXN7      | 1 | 0 | 1 | 1 | 0 | 0 | 2 | 0.4 |\n",
       "| AR - PTCH1 | AR - PTCH1      | 1 | 0 | 0 | 0 | 0 | 0 | 0 | 0.0 |\n",
       "| ATM - CTNNB1 | ATM - CTNNB1    | 1 | 0 | 0 | 0 | 0 | 0 | 0 | 0.0 |\n",
       "| ATM - TP53 | ATM - TP53      | 1 | 1 | 1 | 1 | 1 | 1 | 5 | 1.0 |\n",
       "| BRAF - IDH1 | BRAF - IDH1     | 1 | 1 | 1 | 1 | 1 | 1 | 5 | 1.0 |\n",
       "| BRAF - KRAS | BRAF - KRAS     | 1 | 1 | 1 | 1 | 1 | 1 | 5 | 1.0 |\n",
       "| BRAF - NF1 | BRAF - NF1      | 1 | 0 | 0 | 0 | 0 | 1 | 1 | 0.2 |\n",
       "| BRAF - NRAS | BRAF - NRAS     | 1 | 1 | 1 | 1 | 1 | 1 | 5 | 1.0 |\n",
       "| BRCA2 - TSC1 | BRCA2 - TSC1    | 1 | 0 | 0 | 0 | 0 | 1 | 1 | 0.2 |\n",
       "| CDH1 - PIK3R1 | CDH1 - PIK3R1   | 1 | 0 | 0 | 0 | 0 | 0 | 0 | 0.0 |\n",
       "| CDH1 - MAP2K4 | CDH1 - MAP2K4   | 1 | 0 | 0 | 0 | 0 | 0 | 0 | 0.0 |\n",
       "| CDKN2A - RB1 | CDKN2A - RB1    | 1 | 1 | 1 | 0 | 1 | 1 | 4 | 0.8 |\n",
       "| CDKN2A - TP53 | CDKN2A - TP53   | 1 | 0 | 0 | 0 | 1 | 0 | 1 | 0.2 |\n",
       "| CREBBP - POLE | CREBBP - POLE   | 1 | 0 | 0 | 0 | 0 | 0 | 0 | 0.0 |\n",
       "| CTNNB1 - KRAS | CTNNB1 - KRAS   | 1 | 0 | 1 | 0 | 0 | 0 | 1 | 0.2 |\n",
       "| CTNNB1 - TP53 | CTNNB1 - TP53   | 1 | 1 | 1 | 1 | 1 | 1 | 5 | 1.0 |\n",
       "| CTNNB1 - AXIN1 | CTNNB1 - AXIN1  | 1 | 1 | 1 | 1 | 1 | 1 | 5 | 1.0 |\n",
       "| CTNNB1 - BCORL1 | CTNNB1 - BCORL1 | 1 | 0 | 0 | 0 | 0 | 0 | 0 | 0.0 |\n",
       "| DNMT3A - NPM1 | DNMT3A - NPM1   | 1 | 1 | 0 | 1 | 0 | 1 | 3 | 0.6 |\n",
       "| EGFR - KRAS | EGFR - KRAS     | 1 | 1 | 1 | 1 | 1 | 1 | 5 | 1.0 |\n",
       "| EGFR - PIK3R1 | EGFR - PIK3R1   | 1 | 0 | 0 | 0 | 1 | 0 | 1 | 0.2 |\n",
       "| ⋮ | ⋮ | ⋮ | ⋮ | ⋮ | ⋮ | ⋮ | ⋮ | ⋮ | ⋮ |\n",
       "| GNAS - ERF | GNAS - ERF      | 1 | 0 | 1 | 1 | 0 | 0 | 2 | 0.4 |\n",
       "| GNAS - AJUBA | GNAS - AJUBA    | 1 | 0 | 1 | 1 | 0 | 1 | 3 | 0.6 |\n",
       "| KMT2D - KMT2C | KMT2D - KMT2C   | 1 | 1 | 1 | 1 | 1 | 1 | 5 | 1.0 |\n",
       "| KMT2D - TLE1 | KMT2D - TLE1    | 1 | 0 | 0 | 0 | 0 | 0 | 0 | 0.0 |\n",
       "| KMT2D - KDM6A | KMT2D - KDM6A   | 1 | 0 | 1 | 0 | 0 | 0 | 1 | 0.2 |\n",
       "| KMT2D - KMT2B | KMT2D - KMT2B   | 1 | 0 | 0 | 0 | 1 | 0 | 1 | 0.2 |\n",
       "| GATA2 - PAX5 | GATA2 - PAX5    | 1 | 0 | 0 | 0 | 1 | 0 | 1 | 0.2 |\n",
       "| KMT2C - JARID2 | KMT2C - JARID2  | 1 | 1 | 0 | 1 | 0 | 1 | 3 | 0.6 |\n",
       "| MITF - CBFB | MITF - CBFB     | 1 | 0 | 0 | 0 | 0 | 0 | 0 | 0.0 |\n",
       "| FH - FAS | FH - FAS        | 1 | 0 | 0 | 0 | 0 | 0 | 0 | 0.0 |\n",
       "| RAD51B - FAS | RAD51B - FAS    | 1 | 0 | 0 | 0 | 0 | 0 | 0 | 0.0 |\n",
       "| FANCD2 - RELN | FANCD2 - RELN   | 1 | 0 | 0 | 0 | 0 | 0 | 0 | 0.0 |\n",
       "| FANCD2 - PTPRS | FANCD2 - PTPRS  | 1 | 0 | 0 | 0 | 0 | 0 | 0 | 0.0 |\n",
       "| DCUN1D1 - PTPRS | DCUN1D1 - PTPRS | 1 | 0 | 0 | 0 | 1 | 1 | 2 | 0.4 |\n",
       "| RTEL1 - ARID4A | RTEL1 - ARID4A  | 1 | 0 | 0 | 0 | 0 | 0 | 0 | 0.0 |\n",
       "| SHOC2 - TLE4 | SHOC2 - TLE4    | 1 | 0 | 0 | 0 | 0 | 0 | 0 | 0.0 |\n",
       "| ROBO1 - CYLD | ROBO1 - CYLD    | 1 | 0 | 0 | 0 | 0 | 0 | 0 | 0.0 |\n",
       "| ROBO1 - CD58 | ROBO1 - CD58    | 1 | 1 | 1 | 0 | 1 | 1 | 4 | 0.8 |\n",
       "| SPRTN - INPP4B | SPRTN - INPP4B  | 1 | 1 | 1 | 0 | 1 | 1 | 4 | 0.8 |\n",
       "| ZNRF3 - HLA-C | ZNRF3 - HLA-C   | 1 | 0 | 0 | 0 | 0 | 0 | 0 | 0.0 |\n",
       "| DKK1 - EP400 | DKK1 - EP400    | 1 | 0 | 0 | 0 | 0 | 0 | 0 | 0.0 |\n",
       "| AMER1 - DNMT3B | AMER1 - DNMT3B  | 1 | 0 | 0 | 0 | 0 | 0 | 0 | 0.0 |\n",
       "| PAX5 - SPEN | PAX5 - SPEN     | 1 | 0 | 0 | 0 | 0 | 0 | 0 | 0.0 |\n",
       "| TNFAIP3 - CUX1 | TNFAIP3 - CUX1  | 1 | 0 | 1 | 0 | 1 | 1 | 3 | 0.6 |\n",
       "| KMT2A - CUX1 | KMT2A - CUX1    | 1 | 0 | 0 | 0 | 0 | 0 | 0 | 0.0 |\n",
       "| KMT2A - ARID4A | KMT2A - ARID4A  | 1 | 0 | 0 | 0 | 0 | 0 | 0 | 0.0 |\n",
       "| EPHA7 - JARID2 | EPHA7 - JARID2  | 1 | 0 | 0 | 0 | 0 | 0 | 0 | 0.0 |\n",
       "| MAX - DNMT3B | MAX - DNMT3B    | 1 | 0 | 0 | 0 | 0 | 0 | 0 | 0.0 |\n",
       "| DNMT3B - ARID4A | DNMT3B - ARID4A | 1 | 0 | 0 | 0 | 0 | 0 | 0 | 0.0 |\n",
       "| PTPRS - ARID4A | PTPRS - ARID4A  | 1 | 0 | 0 | 1 | 0 | 0 | 1 | 0.2 |\n",
       "\n"
      ],
      "text/plain": [
       "                pairs           Run_100 Run_1 Run_2 Run_3 Run_4 Run_5\n",
       "AKT1 - PIK3CA   AKT1 - PIK3CA   1       0     1     0     0     0    \n",
       "AKT1 - PIK3R1   AKT1 - PIK3R1   1       0     0     0     0     0    \n",
       "AKT1 - PTEN     AKT1 - PTEN     1       1     1     1     1     1    \n",
       "AKT1 - MAP3K1   AKT1 - MAP3K1   1       0     0     0     0     0    \n",
       "AKT1 - GAB1     AKT1 - GAB1     1       0     0     0     0     1    \n",
       "APC - BRAF      APC - BRAF      1       1     1     1     0     1    \n",
       "APC - CTNNB1    APC - CTNNB1    1       0     0     0     0     0    \n",
       "APC - RNF43     APC - RNF43     1       0     0     1     1     1    \n",
       "AR - ERBB4      AR - ERBB4      1       1     0     0     0     0    \n",
       "AR - ATXN7      AR - ATXN7      1       0     1     1     0     0    \n",
       "AR - PTCH1      AR - PTCH1      1       0     0     0     0     0    \n",
       "ATM - CTNNB1    ATM - CTNNB1    1       0     0     0     0     0    \n",
       "ATM - TP53      ATM - TP53      1       1     1     1     1     1    \n",
       "BRAF - IDH1     BRAF - IDH1     1       1     1     1     1     1    \n",
       "BRAF - KRAS     BRAF - KRAS     1       1     1     1     1     1    \n",
       "BRAF - NF1      BRAF - NF1      1       0     0     0     0     1    \n",
       "BRAF - NRAS     BRAF - NRAS     1       1     1     1     1     1    \n",
       "BRCA2 - TSC1    BRCA2 - TSC1    1       0     0     0     0     1    \n",
       "CDH1 - PIK3R1   CDH1 - PIK3R1   1       0     0     0     0     0    \n",
       "CDH1 - MAP2K4   CDH1 - MAP2K4   1       0     0     0     0     0    \n",
       "CDKN2A - RB1    CDKN2A - RB1    1       1     1     0     1     1    \n",
       "CDKN2A - TP53   CDKN2A - TP53   1       0     0     0     1     0    \n",
       "CREBBP - POLE   CREBBP - POLE   1       0     0     0     0     0    \n",
       "CTNNB1 - KRAS   CTNNB1 - KRAS   1       0     1     0     0     0    \n",
       "CTNNB1 - TP53   CTNNB1 - TP53   1       1     1     1     1     1    \n",
       "CTNNB1 - AXIN1  CTNNB1 - AXIN1  1       1     1     1     1     1    \n",
       "CTNNB1 - BCORL1 CTNNB1 - BCORL1 1       0     0     0     0     0    \n",
       "DNMT3A - NPM1   DNMT3A - NPM1   1       1     0     1     0     1    \n",
       "EGFR - KRAS     EGFR - KRAS     1       1     1     1     1     1    \n",
       "EGFR - PIK3R1   EGFR - PIK3R1   1       0     0     0     1     0    \n",
       "⋮               ⋮               ⋮       ⋮     ⋮     ⋮     ⋮     ⋮    \n",
       "GNAS - ERF      GNAS - ERF      1       0     1     1     0     0    \n",
       "GNAS - AJUBA    GNAS - AJUBA    1       0     1     1     0     1    \n",
       "KMT2D - KMT2C   KMT2D - KMT2C   1       1     1     1     1     1    \n",
       "KMT2D - TLE1    KMT2D - TLE1    1       0     0     0     0     0    \n",
       "KMT2D - KDM6A   KMT2D - KDM6A   1       0     1     0     0     0    \n",
       "KMT2D - KMT2B   KMT2D - KMT2B   1       0     0     0     1     0    \n",
       "GATA2 - PAX5    GATA2 - PAX5    1       0     0     0     1     0    \n",
       "KMT2C - JARID2  KMT2C - JARID2  1       1     0     1     0     1    \n",
       "MITF - CBFB     MITF - CBFB     1       0     0     0     0     0    \n",
       "FH - FAS        FH - FAS        1       0     0     0     0     0    \n",
       "RAD51B - FAS    RAD51B - FAS    1       0     0     0     0     0    \n",
       "FANCD2 - RELN   FANCD2 - RELN   1       0     0     0     0     0    \n",
       "FANCD2 - PTPRS  FANCD2 - PTPRS  1       0     0     0     0     0    \n",
       "DCUN1D1 - PTPRS DCUN1D1 - PTPRS 1       0     0     0     1     1    \n",
       "RTEL1 - ARID4A  RTEL1 - ARID4A  1       0     0     0     0     0    \n",
       "SHOC2 - TLE4    SHOC2 - TLE4    1       0     0     0     0     0    \n",
       "ROBO1 - CYLD    ROBO1 - CYLD    1       0     0     0     0     0    \n",
       "ROBO1 - CD58    ROBO1 - CD58    1       1     1     0     1     1    \n",
       "SPRTN - INPP4B  SPRTN - INPP4B  1       1     1     0     1     1    \n",
       "ZNRF3 - HLA-C   ZNRF3 - HLA-C   1       0     0     0     0     0    \n",
       "DKK1 - EP400    DKK1 - EP400    1       0     0     0     0     0    \n",
       "AMER1 - DNMT3B  AMER1 - DNMT3B  1       0     0     0     0     0    \n",
       "PAX5 - SPEN     PAX5 - SPEN     1       0     0     0     0     0    \n",
       "TNFAIP3 - CUX1  TNFAIP3 - CUX1  1       0     1     0     1     1    \n",
       "KMT2A - CUX1    KMT2A - CUX1    1       0     0     0     0     0    \n",
       "KMT2A - ARID4A  KMT2A - ARID4A  1       0     0     0     0     0    \n",
       "EPHA7 - JARID2  EPHA7 - JARID2  1       0     0     0     0     0    \n",
       "MAX - DNMT3B    MAX - DNMT3B    1       0     0     0     0     0    \n",
       "DNMT3B - ARID4A DNMT3B - ARID4A 1       0     0     0     0     0    \n",
       "PTPRS - ARID4A  PTPRS - ARID4A  1       0     0     1     0     0    \n",
       "                Total_count Total\n",
       "AKT1 - PIK3CA   1           0.2  \n",
       "AKT1 - PIK3R1   0           0.0  \n",
       "AKT1 - PTEN     5           1.0  \n",
       "AKT1 - MAP3K1   0           0.0  \n",
       "AKT1 - GAB1     1           0.2  \n",
       "APC - BRAF      4           0.8  \n",
       "APC - CTNNB1    0           0.0  \n",
       "APC - RNF43     3           0.6  \n",
       "AR - ERBB4      1           0.2  \n",
       "AR - ATXN7      2           0.4  \n",
       "AR - PTCH1      0           0.0  \n",
       "ATM - CTNNB1    0           0.0  \n",
       "ATM - TP53      5           1.0  \n",
       "BRAF - IDH1     5           1.0  \n",
       "BRAF - KRAS     5           1.0  \n",
       "BRAF - NF1      1           0.2  \n",
       "BRAF - NRAS     5           1.0  \n",
       "BRCA2 - TSC1    1           0.2  \n",
       "CDH1 - PIK3R1   0           0.0  \n",
       "CDH1 - MAP2K4   0           0.0  \n",
       "CDKN2A - RB1    4           0.8  \n",
       "CDKN2A - TP53   1           0.2  \n",
       "CREBBP - POLE   0           0.0  \n",
       "CTNNB1 - KRAS   1           0.2  \n",
       "CTNNB1 - TP53   5           1.0  \n",
       "CTNNB1 - AXIN1  5           1.0  \n",
       "CTNNB1 - BCORL1 0           0.0  \n",
       "DNMT3A - NPM1   3           0.6  \n",
       "EGFR - KRAS     5           1.0  \n",
       "EGFR - PIK3R1   1           0.2  \n",
       "⋮               ⋮           ⋮    \n",
       "GNAS - ERF      2           0.4  \n",
       "GNAS - AJUBA    3           0.6  \n",
       "KMT2D - KMT2C   5           1.0  \n",
       "KMT2D - TLE1    0           0.0  \n",
       "KMT2D - KDM6A   1           0.2  \n",
       "KMT2D - KMT2B   1           0.2  \n",
       "GATA2 - PAX5    1           0.2  \n",
       "KMT2C - JARID2  3           0.6  \n",
       "MITF - CBFB     0           0.0  \n",
       "FH - FAS        0           0.0  \n",
       "RAD51B - FAS    0           0.0  \n",
       "FANCD2 - RELN   0           0.0  \n",
       "FANCD2 - PTPRS  0           0.0  \n",
       "DCUN1D1 - PTPRS 2           0.4  \n",
       "RTEL1 - ARID4A  0           0.0  \n",
       "SHOC2 - TLE4    0           0.0  \n",
       "ROBO1 - CYLD    0           0.0  \n",
       "ROBO1 - CD58    4           0.8  \n",
       "SPRTN - INPP4B  4           0.8  \n",
       "ZNRF3 - HLA-C   0           0.0  \n",
       "DKK1 - EP400    0           0.0  \n",
       "AMER1 - DNMT3B  0           0.0  \n",
       "PAX5 - SPEN     0           0.0  \n",
       "TNFAIP3 - CUX1  3           0.6  \n",
       "KMT2A - CUX1    0           0.0  \n",
       "KMT2A - ARID4A  0           0.0  \n",
       "EPHA7 - JARID2  0           0.0  \n",
       "MAX - DNMT3B    0           0.0  \n",
       "DNMT3B - ARID4A 0           0.0  \n",
       "PTPRS - ARID4A  1           0.2  "
      ]
     },
     "metadata": {},
     "output_type": "display_data"
    }
   ],
   "source": [
    "score_df"
   ]
  },
  {
   "cell_type": "code",
   "execution_count": 28,
   "id": "0488be1d-fada-464b-9019-48f6bb0ace14",
   "metadata": {},
   "outputs": [],
   "source": [
    "cum_pct<-list()\n",
    "cum_pairs<-list()\n",
    "for(i in c(1:5)){\n",
    "    cum_pct[[i]]<-sum(rowSums(score_df[,c(3:7)])>=i)*100/196\n",
    "    cum_pairs[[i]]<-sum(rowSums(score_df[,c(3:7)])>=i)\n",
    "}"
   ]
  },
  {
   "cell_type": "code",
   "execution_count": 29,
   "id": "853f822b-dadb-4b3c-b847-1d1e801dba02",
   "metadata": {},
   "outputs": [],
   "source": [
    "score_df_v4<-data.frame('Recovery'=c(1:5),'n'=unlist(cum_pairs),'pct'=unlist(cum_pct))\n",
    "score_df_v4$Recovery <-as.factor(score_df_v4$Recovery)"
   ]
  },
  {
   "cell_type": "code",
   "execution_count": 30,
   "id": "c0aa2971-938d-4ff7-884d-fbae964016ed",
   "metadata": {},
   "outputs": [
    {
     "data": {
      "text/html": [
       "<table class=\"dataframe\">\n",
       "<caption>A data.frame: 5 × 3</caption>\n",
       "<thead>\n",
       "\t<tr><th scope=col>Recovery</th><th scope=col>n</th><th scope=col>pct</th></tr>\n",
       "\t<tr><th scope=col>&lt;fct&gt;</th><th scope=col>&lt;int&gt;</th><th scope=col>&lt;dbl&gt;</th></tr>\n",
       "</thead>\n",
       "<tbody>\n",
       "\t<tr><td>1</td><td>101</td><td>51.53061</td></tr>\n",
       "\t<tr><td>2</td><td> 73</td><td>37.24490</td></tr>\n",
       "\t<tr><td>3</td><td> 54</td><td>27.55102</td></tr>\n",
       "\t<tr><td>4</td><td> 39</td><td>19.89796</td></tr>\n",
       "\t<tr><td>5</td><td> 28</td><td>14.28571</td></tr>\n",
       "</tbody>\n",
       "</table>\n"
      ],
      "text/latex": [
       "A data.frame: 5 × 3\n",
       "\\begin{tabular}{lll}\n",
       " Recovery & n & pct\\\\\n",
       " <fct> & <int> & <dbl>\\\\\n",
       "\\hline\n",
       "\t 1 & 101 & 51.53061\\\\\n",
       "\t 2 &  73 & 37.24490\\\\\n",
       "\t 3 &  54 & 27.55102\\\\\n",
       "\t 4 &  39 & 19.89796\\\\\n",
       "\t 5 &  28 & 14.28571\\\\\n",
       "\\end{tabular}\n"
      ],
      "text/markdown": [
       "\n",
       "A data.frame: 5 × 3\n",
       "\n",
       "| Recovery &lt;fct&gt; | n &lt;int&gt; | pct &lt;dbl&gt; |\n",
       "|---|---|---|\n",
       "| 1 | 101 | 51.53061 |\n",
       "| 2 |  73 | 37.24490 |\n",
       "| 3 |  54 | 27.55102 |\n",
       "| 4 |  39 | 19.89796 |\n",
       "| 5 |  28 | 14.28571 |\n",
       "\n"
      ],
      "text/plain": [
       "  Recovery n   pct     \n",
       "1 1        101 51.53061\n",
       "2 2         73 37.24490\n",
       "3 3         54 27.55102\n",
       "4 4         39 19.89796\n",
       "5 5         28 14.28571"
      ]
     },
     "metadata": {},
     "output_type": "display_data"
    }
   ],
   "source": [
    "score_df_v4"
   ]
  },
  {
   "cell_type": "markdown",
   "id": "55e75146-c992-4172-ac2a-04d9897b6626",
   "metadata": {
    "tags": []
   },
   "source": [
    "## Discover"
   ]
  },
  {
   "cell_type": "code",
   "execution_count": 31,
   "id": "d964a14f-bbaa-40b0-b794-ca712fc4ef72",
   "metadata": {},
   "outputs": [],
   "source": [
    "select_orginal <- readRDS('/mnt/ptemp/arvind/tool_comaprision/results/Discover/tcga_all.rds')"
   ]
  },
  {
   "cell_type": "code",
   "execution_count": 32,
   "id": "d210c4dc-95f3-41c9-98a5-1775dbad58bb",
   "metadata": {},
   "outputs": [],
   "source": [
    "boot_results <- list()\n",
    "k=1\n",
    "for (i in c(1:5)){\n",
    "    name <- paste('/mnt/ptemp/arvind/tool_comaprision/results/Discover/sampling_run_tcga_result_80_',i,'.rds',sep=\"\")\n",
    "    boot_results[[k]] <- readRDS(file=name)\n",
    "    k=k+1\n",
    "}"
   ]
  },
  {
   "cell_type": "code",
   "execution_count": 33,
   "id": "c1e574f8-619f-4e3c-997a-10e5689bf7a5",
   "metadata": {},
   "outputs": [
    {
     "data": {
      "text/html": [
       "5"
      ],
      "text/latex": [
       "5"
      ],
      "text/markdown": [
       "5"
      ],
      "text/plain": [
       "[1] 5"
      ]
     },
     "metadata": {},
     "output_type": "display_data"
    }
   ],
   "source": [
    "length(boot_results)"
   ]
  },
  {
   "cell_type": "code",
   "execution_count": 34,
   "id": "99cfa51b-2a72-410c-a6d5-84faf58d491f",
   "metadata": {},
   "outputs": [
    {
     "data": {
      "text/html": [
       "<table class=\"dataframe\">\n",
       "<caption>A data.frame: 6 × 5</caption>\n",
       "<thead>\n",
       "\t<tr><th></th><th scope=col>gene1</th><th scope=col>gene2</th><th scope=col>p.value</th><th scope=col>q.value</th><th scope=col>type</th></tr>\n",
       "\t<tr><th></th><th scope=col>&lt;chr&gt;</th><th scope=col>&lt;chr&gt;</th><th scope=col>&lt;dbl&gt;</th><th scope=col>&lt;dbl&gt;</th><th scope=col>&lt;chr&gt;</th></tr>\n",
       "</thead>\n",
       "<tbody>\n",
       "\t<tr><th scope=row>12</th><td>NRAS  </td><td>BRAF  </td><td>6.868518e-32</td><td>1.537369e-30</td><td>ME</td></tr>\n",
       "\t<tr><th scope=row>54</th><td>PIK3R1</td><td>PIK3CA</td><td>2.070028e-11</td><td>1.259451e-09</td><td>ME</td></tr>\n",
       "\t<tr><th scope=row>47</th><td>TP53  </td><td>KRAS  </td><td>6.322977e-09</td><td>4.249069e-07</td><td>ME</td></tr>\n",
       "\t<tr><th scope=row>22</th><td>TP53  </td><td>CTNNB1</td><td>2.997517e-08</td><td>1.708207e-06</td><td>ME</td></tr>\n",
       "\t<tr><th scope=row>45</th><td>NRAS  </td><td>KRAS  </td><td>6.500724e-08</td><td>3.360669e-06</td><td>ME</td></tr>\n",
       "\t<tr><th scope=row>11</th><td>KRAS  </td><td>BRAF  </td><td>3.312124e-07</td><td>1.663585e-05</td><td>ME</td></tr>\n",
       "</tbody>\n",
       "</table>\n"
      ],
      "text/latex": [
       "A data.frame: 6 × 5\n",
       "\\begin{tabular}{r|lllll}\n",
       "  & gene1 & gene2 & p.value & q.value & type\\\\\n",
       "  & <chr> & <chr> & <dbl> & <dbl> & <chr>\\\\\n",
       "\\hline\n",
       "\t12 & NRAS   & BRAF   & 6.868518e-32 & 1.537369e-30 & ME\\\\\n",
       "\t54 & PIK3R1 & PIK3CA & 2.070028e-11 & 1.259451e-09 & ME\\\\\n",
       "\t47 & TP53   & KRAS   & 6.322977e-09 & 4.249069e-07 & ME\\\\\n",
       "\t22 & TP53   & CTNNB1 & 2.997517e-08 & 1.708207e-06 & ME\\\\\n",
       "\t45 & NRAS   & KRAS   & 6.500724e-08 & 3.360669e-06 & ME\\\\\n",
       "\t11 & KRAS   & BRAF   & 3.312124e-07 & 1.663585e-05 & ME\\\\\n",
       "\\end{tabular}\n"
      ],
      "text/markdown": [
       "\n",
       "A data.frame: 6 × 5\n",
       "\n",
       "| <!--/--> | gene1 &lt;chr&gt; | gene2 &lt;chr&gt; | p.value &lt;dbl&gt; | q.value &lt;dbl&gt; | type &lt;chr&gt; |\n",
       "|---|---|---|---|---|---|\n",
       "| 12 | NRAS   | BRAF   | 6.868518e-32 | 1.537369e-30 | ME |\n",
       "| 54 | PIK3R1 | PIK3CA | 2.070028e-11 | 1.259451e-09 | ME |\n",
       "| 47 | TP53   | KRAS   | 6.322977e-09 | 4.249069e-07 | ME |\n",
       "| 22 | TP53   | CTNNB1 | 2.997517e-08 | 1.708207e-06 | ME |\n",
       "| 45 | NRAS   | KRAS   | 6.500724e-08 | 3.360669e-06 | ME |\n",
       "| 11 | KRAS   | BRAF   | 3.312124e-07 | 1.663585e-05 | ME |\n",
       "\n"
      ],
      "text/plain": [
       "   gene1  gene2  p.value      q.value      type\n",
       "12 NRAS   BRAF   6.868518e-32 1.537369e-30 ME  \n",
       "54 PIK3R1 PIK3CA 2.070028e-11 1.259451e-09 ME  \n",
       "47 TP53   KRAS   6.322977e-09 4.249069e-07 ME  \n",
       "22 TP53   CTNNB1 2.997517e-08 1.708207e-06 ME  \n",
       "45 NRAS   KRAS   6.500724e-08 3.360669e-06 ME  \n",
       "11 KRAS   BRAF   3.312124e-07 1.663585e-05 ME  "
      ]
     },
     "metadata": {},
     "output_type": "display_data"
    }
   ],
   "source": [
    "head(boot_results[[1]])"
   ]
  },
  {
   "cell_type": "code",
   "execution_count": 35,
   "id": "d96cf79e-11d8-49ee-bd4c-e672554368c1",
   "metadata": {},
   "outputs": [
    {
     "data": {
      "text/html": [
       "<table class=\"dataframe\">\n",
       "<caption>A data.frame: 6 × 5</caption>\n",
       "<thead>\n",
       "\t<tr><th></th><th scope=col>gene1</th><th scope=col>gene2</th><th scope=col>p.value</th><th scope=col>q.value</th><th scope=col>type</th></tr>\n",
       "\t<tr><th></th><th scope=col>&lt;chr&gt;</th><th scope=col>&lt;chr&gt;</th><th scope=col>&lt;dbl&gt;</th><th scope=col>&lt;dbl&gt;</th><th scope=col>&lt;chr&gt;</th></tr>\n",
       "</thead>\n",
       "<tbody>\n",
       "\t<tr><th scope=row>25</th><td>NRAS  </td><td>BRAF  </td><td>5.101043e-36</td><td>1.257836e-34</td><td>ME</td></tr>\n",
       "\t<tr><th scope=row>142</th><td>PIK3R1</td><td>PIK3CA</td><td>7.150757e-16</td><td>3.654473e-14</td><td>ME</td></tr>\n",
       "\t<tr><th scope=row>23</th><td>KRAS  </td><td>BRAF  </td><td>3.655192e-10</td><td>3.114309e-08</td><td>ME</td></tr>\n",
       "\t<tr><th scope=row>110</th><td>TP53  </td><td>KRAS  </td><td>3.249735e-09</td><td>2.587024e-07</td><td>ME</td></tr>\n",
       "\t<tr><th scope=row>50</th><td>TP53  </td><td>CTNNB1</td><td>8.464593e-09</td><td>5.101314e-07</td><td>ME</td></tr>\n",
       "\t<tr><th scope=row>92</th><td>GNAQ  </td><td>GNA11 </td><td>1.023966e-08</td><td>5.101314e-07</td><td>ME</td></tr>\n",
       "</tbody>\n",
       "</table>\n"
      ],
      "text/latex": [
       "A data.frame: 6 × 5\n",
       "\\begin{tabular}{r|lllll}\n",
       "  & gene1 & gene2 & p.value & q.value & type\\\\\n",
       "  & <chr> & <chr> & <dbl> & <dbl> & <chr>\\\\\n",
       "\\hline\n",
       "\t25 & NRAS   & BRAF   & 5.101043e-36 & 1.257836e-34 & ME\\\\\n",
       "\t142 & PIK3R1 & PIK3CA & 7.150757e-16 & 3.654473e-14 & ME\\\\\n",
       "\t23 & KRAS   & BRAF   & 3.655192e-10 & 3.114309e-08 & ME\\\\\n",
       "\t110 & TP53   & KRAS   & 3.249735e-09 & 2.587024e-07 & ME\\\\\n",
       "\t50 & TP53   & CTNNB1 & 8.464593e-09 & 5.101314e-07 & ME\\\\\n",
       "\t92 & GNAQ   & GNA11  & 1.023966e-08 & 5.101314e-07 & ME\\\\\n",
       "\\end{tabular}\n"
      ],
      "text/markdown": [
       "\n",
       "A data.frame: 6 × 5\n",
       "\n",
       "| <!--/--> | gene1 &lt;chr&gt; | gene2 &lt;chr&gt; | p.value &lt;dbl&gt; | q.value &lt;dbl&gt; | type &lt;chr&gt; |\n",
       "|---|---|---|---|---|---|\n",
       "| 25 | NRAS   | BRAF   | 5.101043e-36 | 1.257836e-34 | ME |\n",
       "| 142 | PIK3R1 | PIK3CA | 7.150757e-16 | 3.654473e-14 | ME |\n",
       "| 23 | KRAS   | BRAF   | 3.655192e-10 | 3.114309e-08 | ME |\n",
       "| 110 | TP53   | KRAS   | 3.249735e-09 | 2.587024e-07 | ME |\n",
       "| 50 | TP53   | CTNNB1 | 8.464593e-09 | 5.101314e-07 | ME |\n",
       "| 92 | GNAQ   | GNA11  | 1.023966e-08 | 5.101314e-07 | ME |\n",
       "\n"
      ],
      "text/plain": [
       "    gene1  gene2  p.value      q.value      type\n",
       "25  NRAS   BRAF   5.101043e-36 1.257836e-34 ME  \n",
       "142 PIK3R1 PIK3CA 7.150757e-16 3.654473e-14 ME  \n",
       "23  KRAS   BRAF   3.655192e-10 3.114309e-08 ME  \n",
       "110 TP53   KRAS   3.249735e-09 2.587024e-07 ME  \n",
       "50  TP53   CTNNB1 8.464593e-09 5.101314e-07 ME  \n",
       "92  GNAQ   GNA11  1.023966e-08 5.101314e-07 ME  "
      ]
     },
     "metadata": {},
     "output_type": "display_data"
    }
   ],
   "source": [
    "head(select_orginal)"
   ]
  },
  {
   "cell_type": "code",
   "execution_count": 36,
   "id": "ba4a3e5d-bc2e-4b0c-9553-2a01ba92ff8f",
   "metadata": {},
   "outputs": [
    {
     "data": {
      "text/html": [
       "248"
      ],
      "text/latex": [
       "248"
      ],
      "text/markdown": [
       "248"
      ],
      "text/plain": [
       "[1] 248"
      ]
     },
     "metadata": {},
     "output_type": "display_data"
    }
   ],
   "source": [
    "length(unique(paste(select_orginal$gene2,select_orginal$gene1,sep=' - ')))"
   ]
  },
  {
   "cell_type": "code",
   "execution_count": 37,
   "id": "1dbeb490-9551-48dd-bf66-0e74b66245a5",
   "metadata": {},
   "outputs": [],
   "source": [
    "selectX_100_pct_significnat_results <- select_orginal"
   ]
  },
  {
   "cell_type": "code",
   "execution_count": 38,
   "id": "73f5ecb5-8bd9-47b3-9e83-5e09fe8b33cf",
   "metadata": {},
   "outputs": [
    {
     "data": {
      "text/html": [
       "<table class=\"dataframe\">\n",
       "<caption>A data.frame: 1 × 2</caption>\n",
       "<thead>\n",
       "\t<tr><th scope=col>type</th><th scope=col>n</th></tr>\n",
       "\t<tr><th scope=col>&lt;chr&gt;</th><th scope=col>&lt;int&gt;</th></tr>\n",
       "</thead>\n",
       "<tbody>\n",
       "\t<tr><td>ME</td><td>248</td></tr>\n",
       "</tbody>\n",
       "</table>\n"
      ],
      "text/latex": [
       "A data.frame: 1 × 2\n",
       "\\begin{tabular}{ll}\n",
       " type & n\\\\\n",
       " <chr> & <int>\\\\\n",
       "\\hline\n",
       "\t ME & 248\\\\\n",
       "\\end{tabular}\n"
      ],
      "text/markdown": [
       "\n",
       "A data.frame: 1 × 2\n",
       "\n",
       "| type &lt;chr&gt; | n &lt;int&gt; |\n",
       "|---|---|\n",
       "| ME | 248 |\n",
       "\n"
      ],
      "text/plain": [
       "  type n  \n",
       "1 ME   248"
      ]
     },
     "metadata": {},
     "output_type": "display_data"
    }
   ],
   "source": [
    "select_orginal %>% count(type)"
   ]
  },
  {
   "cell_type": "code",
   "execution_count": 39,
   "id": "0fef3159-2218-4fd7-8193-5eceab686305",
   "metadata": {},
   "outputs": [],
   "source": [
    "score_df<-data.frame('pairs'=paste(select_orginal$gene2,select_orginal$gene1,sep=' - '))\n",
    "rownames(score_df)<-score_df$pairs\n",
    "score_df$Run_100<-1"
   ]
  },
  {
   "cell_type": "code",
   "execution_count": 40,
   "id": "8721465f-0300-44d0-93ef-d8501872fe11",
   "metadata": {},
   "outputs": [
    {
     "data": {
      "text/html": [
       "<table class=\"dataframe\">\n",
       "<caption>A data.frame: 6 × 2</caption>\n",
       "<thead>\n",
       "\t<tr><th></th><th scope=col>pairs</th><th scope=col>Run_100</th></tr>\n",
       "\t<tr><th></th><th scope=col>&lt;chr&gt;</th><th scope=col>&lt;dbl&gt;</th></tr>\n",
       "</thead>\n",
       "<tbody>\n",
       "\t<tr><th scope=row>BRAF - NRAS</th><td>BRAF - NRAS    </td><td>1</td></tr>\n",
       "\t<tr><th scope=row>PIK3CA - PIK3R1</th><td>PIK3CA - PIK3R1</td><td>1</td></tr>\n",
       "\t<tr><th scope=row>BRAF - KRAS</th><td>BRAF - KRAS    </td><td>1</td></tr>\n",
       "\t<tr><th scope=row>KRAS - TP53</th><td>KRAS - TP53    </td><td>1</td></tr>\n",
       "\t<tr><th scope=row>CTNNB1 - TP53</th><td>CTNNB1 - TP53  </td><td>1</td></tr>\n",
       "\t<tr><th scope=row>GNA11 - GNAQ</th><td>GNA11 - GNAQ   </td><td>1</td></tr>\n",
       "</tbody>\n",
       "</table>\n"
      ],
      "text/latex": [
       "A data.frame: 6 × 2\n",
       "\\begin{tabular}{r|ll}\n",
       "  & pairs & Run\\_100\\\\\n",
       "  & <chr> & <dbl>\\\\\n",
       "\\hline\n",
       "\tBRAF - NRAS & BRAF - NRAS     & 1\\\\\n",
       "\tPIK3CA - PIK3R1 & PIK3CA - PIK3R1 & 1\\\\\n",
       "\tBRAF - KRAS & BRAF - KRAS     & 1\\\\\n",
       "\tKRAS - TP53 & KRAS - TP53     & 1\\\\\n",
       "\tCTNNB1 - TP53 & CTNNB1 - TP53   & 1\\\\\n",
       "\tGNA11 - GNAQ & GNA11 - GNAQ    & 1\\\\\n",
       "\\end{tabular}\n"
      ],
      "text/markdown": [
       "\n",
       "A data.frame: 6 × 2\n",
       "\n",
       "| <!--/--> | pairs &lt;chr&gt; | Run_100 &lt;dbl&gt; |\n",
       "|---|---|---|\n",
       "| BRAF - NRAS | BRAF - NRAS     | 1 |\n",
       "| PIK3CA - PIK3R1 | PIK3CA - PIK3R1 | 1 |\n",
       "| BRAF - KRAS | BRAF - KRAS     | 1 |\n",
       "| KRAS - TP53 | KRAS - TP53     | 1 |\n",
       "| CTNNB1 - TP53 | CTNNB1 - TP53   | 1 |\n",
       "| GNA11 - GNAQ | GNA11 - GNAQ    | 1 |\n",
       "\n"
      ],
      "text/plain": [
       "                pairs           Run_100\n",
       "BRAF - NRAS     BRAF - NRAS     1      \n",
       "PIK3CA - PIK3R1 PIK3CA - PIK3R1 1      \n",
       "BRAF - KRAS     BRAF - KRAS     1      \n",
       "KRAS - TP53     KRAS - TP53     1      \n",
       "CTNNB1 - TP53   CTNNB1 - TP53   1      \n",
       "GNA11 - GNAQ    GNA11 - GNAQ    1      "
      ]
     },
     "metadata": {},
     "output_type": "display_data"
    }
   ],
   "source": [
    "head(score_df)"
   ]
  },
  {
   "cell_type": "code",
   "execution_count": 41,
   "id": "bf9849da-8477-443d-87c0-75a4a4eb96bc",
   "metadata": {},
   "outputs": [],
   "source": [
    "for (i in c(1:5)){\n",
    "    score_df[[paste('Run',i,sep=\"_\")]]<-0\n",
    "    boot_results[[i]]$name_2 <- paste(boot_results[[i]]$gene2,boot_results[[i]]$gene1,sep=' - ')\n",
    "    temp <- (boot_results[[i]] %>% filter(name_2 %in% score_df$pairs))$name_2\n",
    "    score_df[temp,][[paste('Run',i,sep=\"_\")]]<-1\n",
    "}"
   ]
  },
  {
   "cell_type": "code",
   "execution_count": 42,
   "id": "d344f906-e55f-476a-b2e1-e212972b553b",
   "metadata": {},
   "outputs": [],
   "source": [
    "score_df$Total_count<-(score_df$Run_1+score_df$Run_2+score_df$Run_3+score_df$Run_4+score_df$Run_5)\n",
    "score_df$Total <- (score_df$Run_1+score_df$Run_2+score_df$Run_3+score_df$Run_4+score_df$Run_5)/5"
   ]
  },
  {
   "cell_type": "code",
   "execution_count": 43,
   "id": "83d690d6-76d3-431c-bd68-d674fc5c5137",
   "metadata": {
    "scrolled": true,
    "tags": []
   },
   "outputs": [
    {
     "data": {
      "text/html": [
       "<table class=\"dataframe\">\n",
       "<caption>A data.frame: 248 × 9</caption>\n",
       "<thead>\n",
       "\t<tr><th></th><th scope=col>pairs</th><th scope=col>Run_100</th><th scope=col>Run_1</th><th scope=col>Run_2</th><th scope=col>Run_3</th><th scope=col>Run_4</th><th scope=col>Run_5</th><th scope=col>Total_count</th><th scope=col>Total</th></tr>\n",
       "\t<tr><th></th><th scope=col>&lt;chr&gt;</th><th scope=col>&lt;dbl&gt;</th><th scope=col>&lt;dbl&gt;</th><th scope=col>&lt;dbl&gt;</th><th scope=col>&lt;dbl&gt;</th><th scope=col>&lt;dbl&gt;</th><th scope=col>&lt;dbl&gt;</th><th scope=col>&lt;dbl&gt;</th><th scope=col>&lt;dbl&gt;</th></tr>\n",
       "</thead>\n",
       "<tbody>\n",
       "\t<tr><th scope=row>BRAF - NRAS</th><td>BRAF - NRAS    </td><td>1</td><td>1</td><td>1</td><td>1</td><td>1</td><td>1</td><td>5</td><td>1.0</td></tr>\n",
       "\t<tr><th scope=row>PIK3CA - PIK3R1</th><td>PIK3CA - PIK3R1</td><td>1</td><td>1</td><td>1</td><td>1</td><td>1</td><td>1</td><td>5</td><td>1.0</td></tr>\n",
       "\t<tr><th scope=row>BRAF - KRAS</th><td>BRAF - KRAS    </td><td>1</td><td>1</td><td>1</td><td>1</td><td>1</td><td>1</td><td>5</td><td>1.0</td></tr>\n",
       "\t<tr><th scope=row>KRAS - TP53</th><td>KRAS - TP53    </td><td>1</td><td>1</td><td>1</td><td>1</td><td>1</td><td>1</td><td>5</td><td>1.0</td></tr>\n",
       "\t<tr><th scope=row>CTNNB1 - TP53</th><td>CTNNB1 - TP53  </td><td>1</td><td>1</td><td>1</td><td>1</td><td>1</td><td>1</td><td>5</td><td>1.0</td></tr>\n",
       "\t<tr><th scope=row>GNA11 - GNAQ</th><td>GNA11 - GNAQ   </td><td>1</td><td>1</td><td>1</td><td>1</td><td>1</td><td>1</td><td>5</td><td>1.0</td></tr>\n",
       "\t<tr><th scope=row>IDH1 - IDH2</th><td>IDH1 - IDH2    </td><td>1</td><td>1</td><td>1</td><td>1</td><td>1</td><td>1</td><td>5</td><td>1.0</td></tr>\n",
       "\t<tr><th scope=row>KRAS - NRAS</th><td>KRAS - NRAS    </td><td>1</td><td>1</td><td>1</td><td>1</td><td>1</td><td>1</td><td>5</td><td>1.0</td></tr>\n",
       "\t<tr><th scope=row>PIK3CA - GATA3</th><td>PIK3CA - GATA3 </td><td>1</td><td>1</td><td>1</td><td>1</td><td>1</td><td>1</td><td>5</td><td>1.0</td></tr>\n",
       "\t<tr><th scope=row>CDH1 - GATA3</th><td>CDH1 - GATA3   </td><td>1</td><td>1</td><td>1</td><td>1</td><td>1</td><td>1</td><td>5</td><td>1.0</td></tr>\n",
       "\t<tr><th scope=row>ATM - TP53</th><td>ATM - TP53     </td><td>1</td><td>1</td><td>1</td><td>1</td><td>1</td><td>1</td><td>5</td><td>1.0</td></tr>\n",
       "\t<tr><th scope=row>AKT1 - PIK3CA</th><td>AKT1 - PIK3CA  </td><td>1</td><td>1</td><td>1</td><td>1</td><td>1</td><td>1</td><td>5</td><td>1.0</td></tr>\n",
       "\t<tr><th scope=row>EGFR - KRAS</th><td>EGFR - KRAS    </td><td>1</td><td>1</td><td>1</td><td>1</td><td>1</td><td>1</td><td>5</td><td>1.0</td></tr>\n",
       "\t<tr><th scope=row>TP53 - ARID1A</th><td>TP53 - ARID1A  </td><td>1</td><td>1</td><td>1</td><td>1</td><td>1</td><td>1</td><td>5</td><td>1.0</td></tr>\n",
       "\t<tr><th scope=row>CTNNB1 - AXIN1</th><td>CTNNB1 - AXIN1 </td><td>1</td><td>1</td><td>1</td><td>1</td><td>1</td><td>1</td><td>5</td><td>1.0</td></tr>\n",
       "\t<tr><th scope=row>CDKN2A - RB1</th><td>CDKN2A - RB1   </td><td>1</td><td>1</td><td>1</td><td>1</td><td>1</td><td>1</td><td>5</td><td>1.0</td></tr>\n",
       "\t<tr><th scope=row>KRAS - NF1</th><td>KRAS - NF1     </td><td>1</td><td>1</td><td>1</td><td>1</td><td>1</td><td>1</td><td>5</td><td>1.0</td></tr>\n",
       "\t<tr><th scope=row>TP53 - GATA3</th><td>TP53 - GATA3   </td><td>1</td><td>1</td><td>1</td><td>1</td><td>1</td><td>1</td><td>5</td><td>1.0</td></tr>\n",
       "\t<tr><th scope=row>TP53 - STAG2</th><td>TP53 - STAG2   </td><td>1</td><td>1</td><td>1</td><td>1</td><td>1</td><td>1</td><td>5</td><td>1.0</td></tr>\n",
       "\t<tr><th scope=row>PIK3CA - TP53</th><td>PIK3CA - TP53  </td><td>1</td><td>1</td><td>1</td><td>1</td><td>1</td><td>1</td><td>5</td><td>1.0</td></tr>\n",
       "\t<tr><th scope=row>PTEN - TP53</th><td>PTEN - TP53    </td><td>1</td><td>1</td><td>1</td><td>1</td><td>1</td><td>1</td><td>5</td><td>1.0</td></tr>\n",
       "\t<tr><th scope=row>AKT1 - PTEN</th><td>AKT1 - PTEN    </td><td>1</td><td>1</td><td>1</td><td>1</td><td>1</td><td>1</td><td>5</td><td>1.0</td></tr>\n",
       "\t<tr><th scope=row>TP53 - CTCF</th><td>TP53 - CTCF    </td><td>1</td><td>1</td><td>1</td><td>1</td><td>1</td><td>1</td><td>5</td><td>1.0</td></tr>\n",
       "\t<tr><th scope=row>AKT1 - MAP3K1</th><td>AKT1 - MAP3K1  </td><td>1</td><td>1</td><td>1</td><td>1</td><td>1</td><td>1</td><td>5</td><td>1.0</td></tr>\n",
       "\t<tr><th scope=row>HRAS - TP53</th><td>HRAS - TP53    </td><td>1</td><td>1</td><td>1</td><td>1</td><td>1</td><td>1</td><td>5</td><td>1.0</td></tr>\n",
       "\t<tr><th scope=row>TP53 - KMT2C</th><td>TP53 - KMT2C   </td><td>1</td><td>1</td><td>1</td><td>1</td><td>1</td><td>1</td><td>5</td><td>1.0</td></tr>\n",
       "\t<tr><th scope=row>ERBB2 - GATA3</th><td>ERBB2 - GATA3  </td><td>1</td><td>1</td><td>0</td><td>1</td><td>1</td><td>1</td><td>4</td><td>0.8</td></tr>\n",
       "\t<tr><th scope=row>SETD2 - TP53</th><td>SETD2 - TP53   </td><td>1</td><td>1</td><td>1</td><td>1</td><td>1</td><td>1</td><td>5</td><td>1.0</td></tr>\n",
       "\t<tr><th scope=row>KMT2D - KDM6A</th><td>KMT2D - KDM6A  </td><td>1</td><td>1</td><td>1</td><td>1</td><td>1</td><td>1</td><td>5</td><td>1.0</td></tr>\n",
       "\t<tr><th scope=row>BRAF - HRAS</th><td>BRAF - HRAS    </td><td>1</td><td>1</td><td>1</td><td>1</td><td>1</td><td>1</td><td>5</td><td>1.0</td></tr>\n",
       "\t<tr><th scope=row>⋮</th><td>⋮</td><td>⋮</td><td>⋮</td><td>⋮</td><td>⋮</td><td>⋮</td><td>⋮</td><td>⋮</td><td>⋮</td></tr>\n",
       "\t<tr><th scope=row>FBXW7 - KMT2C</th><td>FBXW7 - KMT2C  </td><td>1</td><td>0</td><td>1</td><td>1</td><td>1</td><td>0</td><td>3</td><td>0.6</td></tr>\n",
       "\t<tr><th scope=row>MAP3K1 - GPS2</th><td>MAP3K1 - GPS2  </td><td>1</td><td>0</td><td>0</td><td>0</td><td>0</td><td>0</td><td>0</td><td>0.0</td></tr>\n",
       "\t<tr><th scope=row>CIC - ROS1</th><td>CIC - ROS1     </td><td>1</td><td>0</td><td>0</td><td>0</td><td>0</td><td>0</td><td>0</td><td>0.0</td></tr>\n",
       "\t<tr><th scope=row>PIK3CA - MTOR</th><td>PIK3CA - MTOR  </td><td>1</td><td>0</td><td>0</td><td>0</td><td>0</td><td>1</td><td>1</td><td>0.2</td></tr>\n",
       "\t<tr><th scope=row>KRAS - ARHGAP35</th><td>KRAS - ARHGAP35</td><td>1</td><td>0</td><td>0</td><td>0</td><td>0</td><td>0</td><td>0</td><td>0.0</td></tr>\n",
       "\t<tr><th scope=row>BRCA2 - PIK3CA</th><td>BRCA2 - PIK3CA </td><td>1</td><td>0</td><td>0</td><td>0</td><td>0</td><td>0</td><td>0</td><td>0.0</td></tr>\n",
       "\t<tr><th scope=row>RUNX1 - GATA3</th><td>RUNX1 - GATA3  </td><td>1</td><td>0</td><td>0</td><td>0</td><td>0</td><td>0</td><td>0</td><td>0.0</td></tr>\n",
       "\t<tr><th scope=row>DNMT3A - RB1</th><td>DNMT3A - RB1   </td><td>1</td><td>0</td><td>0</td><td>0</td><td>0</td><td>0</td><td>0</td><td>0.0</td></tr>\n",
       "\t<tr><th scope=row>MAP3K1 - NCOR1</th><td>MAP3K1 - NCOR1 </td><td>1</td><td>0</td><td>0</td><td>0</td><td>0</td><td>0</td><td>0</td><td>0.0</td></tr>\n",
       "\t<tr><th scope=row>ARID1A - KDM6A</th><td>ARID1A - KDM6A </td><td>1</td><td>0</td><td>0</td><td>0</td><td>0</td><td>0</td><td>0</td><td>0.0</td></tr>\n",
       "\t<tr><th scope=row>APC - DDX3X</th><td>APC - DDX3X    </td><td>1</td><td>0</td><td>0</td><td>0</td><td>0</td><td>0</td><td>0</td><td>0.0</td></tr>\n",
       "\t<tr><th scope=row>PTPN11 - SETD2</th><td>PTPN11 - SETD2 </td><td>1</td><td>0</td><td>0</td><td>0</td><td>0</td><td>0</td><td>0</td><td>0.0</td></tr>\n",
       "\t<tr><th scope=row>RUNX1 - NPM1</th><td>RUNX1 - NPM1   </td><td>1</td><td>0</td><td>0</td><td>1</td><td>0</td><td>0</td><td>1</td><td>0.2</td></tr>\n",
       "\t<tr><th scope=row>HRAS - NSD1</th><td>HRAS - NSD1    </td><td>1</td><td>0</td><td>1</td><td>0</td><td>0</td><td>0</td><td>1</td><td>0.2</td></tr>\n",
       "\t<tr><th scope=row>CDKN2A - AMER1</th><td>CDKN2A - AMER1 </td><td>1</td><td>0</td><td>0</td><td>0</td><td>0</td><td>0</td><td>0</td><td>0.0</td></tr>\n",
       "\t<tr><th scope=row>PIK3CA - KMT2D</th><td>PIK3CA - KMT2D </td><td>1</td><td>0</td><td>0</td><td>0</td><td>0</td><td>0</td><td>0</td><td>0.0</td></tr>\n",
       "\t<tr><th scope=row>MAP3K1 - SPEN</th><td>MAP3K1 - SPEN  </td><td>1</td><td>0</td><td>0</td><td>0</td><td>0</td><td>0</td><td>0</td><td>0.0</td></tr>\n",
       "\t<tr><th scope=row>NRAS - PTPRT</th><td>NRAS - PTPRT   </td><td>1</td><td>0</td><td>0</td><td>0</td><td>0</td><td>0</td><td>0</td><td>0.0</td></tr>\n",
       "\t<tr><th scope=row>KDR - FAT1</th><td>KDR - FAT1     </td><td>1</td><td>0</td><td>0</td><td>0</td><td>0</td><td>0</td><td>0</td><td>0.0</td></tr>\n",
       "\t<tr><th scope=row>KRAS - TP63</th><td>KRAS - TP63    </td><td>1</td><td>0</td><td>0</td><td>0</td><td>0</td><td>0</td><td>0</td><td>0.0</td></tr>\n",
       "\t<tr><th scope=row>CIC - KRAS</th><td>CIC - KRAS     </td><td>1</td><td>0</td><td>0</td><td>0</td><td>0</td><td>0</td><td>0</td><td>0.0</td></tr>\n",
       "\t<tr><th scope=row>TP53 - LZTR1</th><td>TP53 - LZTR1   </td><td>1</td><td>0</td><td>0</td><td>0</td><td>0</td><td>0</td><td>0</td><td>0.0</td></tr>\n",
       "\t<tr><th scope=row>FBXW7 - HLA-B</th><td>FBXW7 - HLA-B  </td><td>1</td><td>1</td><td>0</td><td>1</td><td>1</td><td>1</td><td>4</td><td>0.8</td></tr>\n",
       "\t<tr><th scope=row>ATM - ARID1B</th><td>ATM - ARID1B   </td><td>1</td><td>0</td><td>0</td><td>0</td><td>0</td><td>0</td><td>0</td><td>0.0</td></tr>\n",
       "\t<tr><th scope=row>PIK3R1 - CDKN1B</th><td>PIK3R1 - CDKN1B</td><td>1</td><td>0</td><td>0</td><td>0</td><td>0</td><td>0</td><td>0</td><td>0.0</td></tr>\n",
       "\t<tr><th scope=row>FBXW7 - PIK3CA</th><td>FBXW7 - PIK3CA </td><td>1</td><td>0</td><td>0</td><td>1</td><td>0</td><td>0</td><td>1</td><td>0.2</td></tr>\n",
       "\t<tr><th scope=row>NFE2L2 - NOTCH1</th><td>NFE2L2 - NOTCH1</td><td>1</td><td>0</td><td>1</td><td>1</td><td>1</td><td>0</td><td>3</td><td>0.6</td></tr>\n",
       "\t<tr><th scope=row>PTEN - PTPRT</th><td>PTEN - PTPRT   </td><td>1</td><td>0</td><td>0</td><td>0</td><td>1</td><td>0</td><td>1</td><td>0.2</td></tr>\n",
       "\t<tr><th scope=row>FLT3 - IDH2</th><td>FLT3 - IDH2    </td><td>1</td><td>0</td><td>0</td><td>0</td><td>0</td><td>0</td><td>0</td><td>0.0</td></tr>\n",
       "\t<tr><th scope=row>MLH1 - RELN</th><td>MLH1 - RELN    </td><td>1</td><td>0</td><td>0</td><td>0</td><td>0</td><td>0</td><td>0</td><td>0.0</td></tr>\n",
       "</tbody>\n",
       "</table>\n"
      ],
      "text/latex": [
       "A data.frame: 248 × 9\n",
       "\\begin{tabular}{r|lllllllll}\n",
       "  & pairs & Run\\_100 & Run\\_1 & Run\\_2 & Run\\_3 & Run\\_4 & Run\\_5 & Total\\_count & Total\\\\\n",
       "  & <chr> & <dbl> & <dbl> & <dbl> & <dbl> & <dbl> & <dbl> & <dbl> & <dbl>\\\\\n",
       "\\hline\n",
       "\tBRAF - NRAS & BRAF - NRAS     & 1 & 1 & 1 & 1 & 1 & 1 & 5 & 1.0\\\\\n",
       "\tPIK3CA - PIK3R1 & PIK3CA - PIK3R1 & 1 & 1 & 1 & 1 & 1 & 1 & 5 & 1.0\\\\\n",
       "\tBRAF - KRAS & BRAF - KRAS     & 1 & 1 & 1 & 1 & 1 & 1 & 5 & 1.0\\\\\n",
       "\tKRAS - TP53 & KRAS - TP53     & 1 & 1 & 1 & 1 & 1 & 1 & 5 & 1.0\\\\\n",
       "\tCTNNB1 - TP53 & CTNNB1 - TP53   & 1 & 1 & 1 & 1 & 1 & 1 & 5 & 1.0\\\\\n",
       "\tGNA11 - GNAQ & GNA11 - GNAQ    & 1 & 1 & 1 & 1 & 1 & 1 & 5 & 1.0\\\\\n",
       "\tIDH1 - IDH2 & IDH1 - IDH2     & 1 & 1 & 1 & 1 & 1 & 1 & 5 & 1.0\\\\\n",
       "\tKRAS - NRAS & KRAS - NRAS     & 1 & 1 & 1 & 1 & 1 & 1 & 5 & 1.0\\\\\n",
       "\tPIK3CA - GATA3 & PIK3CA - GATA3  & 1 & 1 & 1 & 1 & 1 & 1 & 5 & 1.0\\\\\n",
       "\tCDH1 - GATA3 & CDH1 - GATA3    & 1 & 1 & 1 & 1 & 1 & 1 & 5 & 1.0\\\\\n",
       "\tATM - TP53 & ATM - TP53      & 1 & 1 & 1 & 1 & 1 & 1 & 5 & 1.0\\\\\n",
       "\tAKT1 - PIK3CA & AKT1 - PIK3CA   & 1 & 1 & 1 & 1 & 1 & 1 & 5 & 1.0\\\\\n",
       "\tEGFR - KRAS & EGFR - KRAS     & 1 & 1 & 1 & 1 & 1 & 1 & 5 & 1.0\\\\\n",
       "\tTP53 - ARID1A & TP53 - ARID1A   & 1 & 1 & 1 & 1 & 1 & 1 & 5 & 1.0\\\\\n",
       "\tCTNNB1 - AXIN1 & CTNNB1 - AXIN1  & 1 & 1 & 1 & 1 & 1 & 1 & 5 & 1.0\\\\\n",
       "\tCDKN2A - RB1 & CDKN2A - RB1    & 1 & 1 & 1 & 1 & 1 & 1 & 5 & 1.0\\\\\n",
       "\tKRAS - NF1 & KRAS - NF1      & 1 & 1 & 1 & 1 & 1 & 1 & 5 & 1.0\\\\\n",
       "\tTP53 - GATA3 & TP53 - GATA3    & 1 & 1 & 1 & 1 & 1 & 1 & 5 & 1.0\\\\\n",
       "\tTP53 - STAG2 & TP53 - STAG2    & 1 & 1 & 1 & 1 & 1 & 1 & 5 & 1.0\\\\\n",
       "\tPIK3CA - TP53 & PIK3CA - TP53   & 1 & 1 & 1 & 1 & 1 & 1 & 5 & 1.0\\\\\n",
       "\tPTEN - TP53 & PTEN - TP53     & 1 & 1 & 1 & 1 & 1 & 1 & 5 & 1.0\\\\\n",
       "\tAKT1 - PTEN & AKT1 - PTEN     & 1 & 1 & 1 & 1 & 1 & 1 & 5 & 1.0\\\\\n",
       "\tTP53 - CTCF & TP53 - CTCF     & 1 & 1 & 1 & 1 & 1 & 1 & 5 & 1.0\\\\\n",
       "\tAKT1 - MAP3K1 & AKT1 - MAP3K1   & 1 & 1 & 1 & 1 & 1 & 1 & 5 & 1.0\\\\\n",
       "\tHRAS - TP53 & HRAS - TP53     & 1 & 1 & 1 & 1 & 1 & 1 & 5 & 1.0\\\\\n",
       "\tTP53 - KMT2C & TP53 - KMT2C    & 1 & 1 & 1 & 1 & 1 & 1 & 5 & 1.0\\\\\n",
       "\tERBB2 - GATA3 & ERBB2 - GATA3   & 1 & 1 & 0 & 1 & 1 & 1 & 4 & 0.8\\\\\n",
       "\tSETD2 - TP53 & SETD2 - TP53    & 1 & 1 & 1 & 1 & 1 & 1 & 5 & 1.0\\\\\n",
       "\tKMT2D - KDM6A & KMT2D - KDM6A   & 1 & 1 & 1 & 1 & 1 & 1 & 5 & 1.0\\\\\n",
       "\tBRAF - HRAS & BRAF - HRAS     & 1 & 1 & 1 & 1 & 1 & 1 & 5 & 1.0\\\\\n",
       "\t⋮ & ⋮ & ⋮ & ⋮ & ⋮ & ⋮ & ⋮ & ⋮ & ⋮ & ⋮\\\\\n",
       "\tFBXW7 - KMT2C & FBXW7 - KMT2C   & 1 & 0 & 1 & 1 & 1 & 0 & 3 & 0.6\\\\\n",
       "\tMAP3K1 - GPS2 & MAP3K1 - GPS2   & 1 & 0 & 0 & 0 & 0 & 0 & 0 & 0.0\\\\\n",
       "\tCIC - ROS1 & CIC - ROS1      & 1 & 0 & 0 & 0 & 0 & 0 & 0 & 0.0\\\\\n",
       "\tPIK3CA - MTOR & PIK3CA - MTOR   & 1 & 0 & 0 & 0 & 0 & 1 & 1 & 0.2\\\\\n",
       "\tKRAS - ARHGAP35 & KRAS - ARHGAP35 & 1 & 0 & 0 & 0 & 0 & 0 & 0 & 0.0\\\\\n",
       "\tBRCA2 - PIK3CA & BRCA2 - PIK3CA  & 1 & 0 & 0 & 0 & 0 & 0 & 0 & 0.0\\\\\n",
       "\tRUNX1 - GATA3 & RUNX1 - GATA3   & 1 & 0 & 0 & 0 & 0 & 0 & 0 & 0.0\\\\\n",
       "\tDNMT3A - RB1 & DNMT3A - RB1    & 1 & 0 & 0 & 0 & 0 & 0 & 0 & 0.0\\\\\n",
       "\tMAP3K1 - NCOR1 & MAP3K1 - NCOR1  & 1 & 0 & 0 & 0 & 0 & 0 & 0 & 0.0\\\\\n",
       "\tARID1A - KDM6A & ARID1A - KDM6A  & 1 & 0 & 0 & 0 & 0 & 0 & 0 & 0.0\\\\\n",
       "\tAPC - DDX3X & APC - DDX3X     & 1 & 0 & 0 & 0 & 0 & 0 & 0 & 0.0\\\\\n",
       "\tPTPN11 - SETD2 & PTPN11 - SETD2  & 1 & 0 & 0 & 0 & 0 & 0 & 0 & 0.0\\\\\n",
       "\tRUNX1 - NPM1 & RUNX1 - NPM1    & 1 & 0 & 0 & 1 & 0 & 0 & 1 & 0.2\\\\\n",
       "\tHRAS - NSD1 & HRAS - NSD1     & 1 & 0 & 1 & 0 & 0 & 0 & 1 & 0.2\\\\\n",
       "\tCDKN2A - AMER1 & CDKN2A - AMER1  & 1 & 0 & 0 & 0 & 0 & 0 & 0 & 0.0\\\\\n",
       "\tPIK3CA - KMT2D & PIK3CA - KMT2D  & 1 & 0 & 0 & 0 & 0 & 0 & 0 & 0.0\\\\\n",
       "\tMAP3K1 - SPEN & MAP3K1 - SPEN   & 1 & 0 & 0 & 0 & 0 & 0 & 0 & 0.0\\\\\n",
       "\tNRAS - PTPRT & NRAS - PTPRT    & 1 & 0 & 0 & 0 & 0 & 0 & 0 & 0.0\\\\\n",
       "\tKDR - FAT1 & KDR - FAT1      & 1 & 0 & 0 & 0 & 0 & 0 & 0 & 0.0\\\\\n",
       "\tKRAS - TP63 & KRAS - TP63     & 1 & 0 & 0 & 0 & 0 & 0 & 0 & 0.0\\\\\n",
       "\tCIC - KRAS & CIC - KRAS      & 1 & 0 & 0 & 0 & 0 & 0 & 0 & 0.0\\\\\n",
       "\tTP53 - LZTR1 & TP53 - LZTR1    & 1 & 0 & 0 & 0 & 0 & 0 & 0 & 0.0\\\\\n",
       "\tFBXW7 - HLA-B & FBXW7 - HLA-B   & 1 & 1 & 0 & 1 & 1 & 1 & 4 & 0.8\\\\\n",
       "\tATM - ARID1B & ATM - ARID1B    & 1 & 0 & 0 & 0 & 0 & 0 & 0 & 0.0\\\\\n",
       "\tPIK3R1 - CDKN1B & PIK3R1 - CDKN1B & 1 & 0 & 0 & 0 & 0 & 0 & 0 & 0.0\\\\\n",
       "\tFBXW7 - PIK3CA & FBXW7 - PIK3CA  & 1 & 0 & 0 & 1 & 0 & 0 & 1 & 0.2\\\\\n",
       "\tNFE2L2 - NOTCH1 & NFE2L2 - NOTCH1 & 1 & 0 & 1 & 1 & 1 & 0 & 3 & 0.6\\\\\n",
       "\tPTEN - PTPRT & PTEN - PTPRT    & 1 & 0 & 0 & 0 & 1 & 0 & 1 & 0.2\\\\\n",
       "\tFLT3 - IDH2 & FLT3 - IDH2     & 1 & 0 & 0 & 0 & 0 & 0 & 0 & 0.0\\\\\n",
       "\tMLH1 - RELN & MLH1 - RELN     & 1 & 0 & 0 & 0 & 0 & 0 & 0 & 0.0\\\\\n",
       "\\end{tabular}\n"
      ],
      "text/markdown": [
       "\n",
       "A data.frame: 248 × 9\n",
       "\n",
       "| <!--/--> | pairs &lt;chr&gt; | Run_100 &lt;dbl&gt; | Run_1 &lt;dbl&gt; | Run_2 &lt;dbl&gt; | Run_3 &lt;dbl&gt; | Run_4 &lt;dbl&gt; | Run_5 &lt;dbl&gt; | Total_count &lt;dbl&gt; | Total &lt;dbl&gt; |\n",
       "|---|---|---|---|---|---|---|---|---|---|\n",
       "| BRAF - NRAS | BRAF - NRAS     | 1 | 1 | 1 | 1 | 1 | 1 | 5 | 1.0 |\n",
       "| PIK3CA - PIK3R1 | PIK3CA - PIK3R1 | 1 | 1 | 1 | 1 | 1 | 1 | 5 | 1.0 |\n",
       "| BRAF - KRAS | BRAF - KRAS     | 1 | 1 | 1 | 1 | 1 | 1 | 5 | 1.0 |\n",
       "| KRAS - TP53 | KRAS - TP53     | 1 | 1 | 1 | 1 | 1 | 1 | 5 | 1.0 |\n",
       "| CTNNB1 - TP53 | CTNNB1 - TP53   | 1 | 1 | 1 | 1 | 1 | 1 | 5 | 1.0 |\n",
       "| GNA11 - GNAQ | GNA11 - GNAQ    | 1 | 1 | 1 | 1 | 1 | 1 | 5 | 1.0 |\n",
       "| IDH1 - IDH2 | IDH1 - IDH2     | 1 | 1 | 1 | 1 | 1 | 1 | 5 | 1.0 |\n",
       "| KRAS - NRAS | KRAS - NRAS     | 1 | 1 | 1 | 1 | 1 | 1 | 5 | 1.0 |\n",
       "| PIK3CA - GATA3 | PIK3CA - GATA3  | 1 | 1 | 1 | 1 | 1 | 1 | 5 | 1.0 |\n",
       "| CDH1 - GATA3 | CDH1 - GATA3    | 1 | 1 | 1 | 1 | 1 | 1 | 5 | 1.0 |\n",
       "| ATM - TP53 | ATM - TP53      | 1 | 1 | 1 | 1 | 1 | 1 | 5 | 1.0 |\n",
       "| AKT1 - PIK3CA | AKT1 - PIK3CA   | 1 | 1 | 1 | 1 | 1 | 1 | 5 | 1.0 |\n",
       "| EGFR - KRAS | EGFR - KRAS     | 1 | 1 | 1 | 1 | 1 | 1 | 5 | 1.0 |\n",
       "| TP53 - ARID1A | TP53 - ARID1A   | 1 | 1 | 1 | 1 | 1 | 1 | 5 | 1.0 |\n",
       "| CTNNB1 - AXIN1 | CTNNB1 - AXIN1  | 1 | 1 | 1 | 1 | 1 | 1 | 5 | 1.0 |\n",
       "| CDKN2A - RB1 | CDKN2A - RB1    | 1 | 1 | 1 | 1 | 1 | 1 | 5 | 1.0 |\n",
       "| KRAS - NF1 | KRAS - NF1      | 1 | 1 | 1 | 1 | 1 | 1 | 5 | 1.0 |\n",
       "| TP53 - GATA3 | TP53 - GATA3    | 1 | 1 | 1 | 1 | 1 | 1 | 5 | 1.0 |\n",
       "| TP53 - STAG2 | TP53 - STAG2    | 1 | 1 | 1 | 1 | 1 | 1 | 5 | 1.0 |\n",
       "| PIK3CA - TP53 | PIK3CA - TP53   | 1 | 1 | 1 | 1 | 1 | 1 | 5 | 1.0 |\n",
       "| PTEN - TP53 | PTEN - TP53     | 1 | 1 | 1 | 1 | 1 | 1 | 5 | 1.0 |\n",
       "| AKT1 - PTEN | AKT1 - PTEN     | 1 | 1 | 1 | 1 | 1 | 1 | 5 | 1.0 |\n",
       "| TP53 - CTCF | TP53 - CTCF     | 1 | 1 | 1 | 1 | 1 | 1 | 5 | 1.0 |\n",
       "| AKT1 - MAP3K1 | AKT1 - MAP3K1   | 1 | 1 | 1 | 1 | 1 | 1 | 5 | 1.0 |\n",
       "| HRAS - TP53 | HRAS - TP53     | 1 | 1 | 1 | 1 | 1 | 1 | 5 | 1.0 |\n",
       "| TP53 - KMT2C | TP53 - KMT2C    | 1 | 1 | 1 | 1 | 1 | 1 | 5 | 1.0 |\n",
       "| ERBB2 - GATA3 | ERBB2 - GATA3   | 1 | 1 | 0 | 1 | 1 | 1 | 4 | 0.8 |\n",
       "| SETD2 - TP53 | SETD2 - TP53    | 1 | 1 | 1 | 1 | 1 | 1 | 5 | 1.0 |\n",
       "| KMT2D - KDM6A | KMT2D - KDM6A   | 1 | 1 | 1 | 1 | 1 | 1 | 5 | 1.0 |\n",
       "| BRAF - HRAS | BRAF - HRAS     | 1 | 1 | 1 | 1 | 1 | 1 | 5 | 1.0 |\n",
       "| ⋮ | ⋮ | ⋮ | ⋮ | ⋮ | ⋮ | ⋮ | ⋮ | ⋮ | ⋮ |\n",
       "| FBXW7 - KMT2C | FBXW7 - KMT2C   | 1 | 0 | 1 | 1 | 1 | 0 | 3 | 0.6 |\n",
       "| MAP3K1 - GPS2 | MAP3K1 - GPS2   | 1 | 0 | 0 | 0 | 0 | 0 | 0 | 0.0 |\n",
       "| CIC - ROS1 | CIC - ROS1      | 1 | 0 | 0 | 0 | 0 | 0 | 0 | 0.0 |\n",
       "| PIK3CA - MTOR | PIK3CA - MTOR   | 1 | 0 | 0 | 0 | 0 | 1 | 1 | 0.2 |\n",
       "| KRAS - ARHGAP35 | KRAS - ARHGAP35 | 1 | 0 | 0 | 0 | 0 | 0 | 0 | 0.0 |\n",
       "| BRCA2 - PIK3CA | BRCA2 - PIK3CA  | 1 | 0 | 0 | 0 | 0 | 0 | 0 | 0.0 |\n",
       "| RUNX1 - GATA3 | RUNX1 - GATA3   | 1 | 0 | 0 | 0 | 0 | 0 | 0 | 0.0 |\n",
       "| DNMT3A - RB1 | DNMT3A - RB1    | 1 | 0 | 0 | 0 | 0 | 0 | 0 | 0.0 |\n",
       "| MAP3K1 - NCOR1 | MAP3K1 - NCOR1  | 1 | 0 | 0 | 0 | 0 | 0 | 0 | 0.0 |\n",
       "| ARID1A - KDM6A | ARID1A - KDM6A  | 1 | 0 | 0 | 0 | 0 | 0 | 0 | 0.0 |\n",
       "| APC - DDX3X | APC - DDX3X     | 1 | 0 | 0 | 0 | 0 | 0 | 0 | 0.0 |\n",
       "| PTPN11 - SETD2 | PTPN11 - SETD2  | 1 | 0 | 0 | 0 | 0 | 0 | 0 | 0.0 |\n",
       "| RUNX1 - NPM1 | RUNX1 - NPM1    | 1 | 0 | 0 | 1 | 0 | 0 | 1 | 0.2 |\n",
       "| HRAS - NSD1 | HRAS - NSD1     | 1 | 0 | 1 | 0 | 0 | 0 | 1 | 0.2 |\n",
       "| CDKN2A - AMER1 | CDKN2A - AMER1  | 1 | 0 | 0 | 0 | 0 | 0 | 0 | 0.0 |\n",
       "| PIK3CA - KMT2D | PIK3CA - KMT2D  | 1 | 0 | 0 | 0 | 0 | 0 | 0 | 0.0 |\n",
       "| MAP3K1 - SPEN | MAP3K1 - SPEN   | 1 | 0 | 0 | 0 | 0 | 0 | 0 | 0.0 |\n",
       "| NRAS - PTPRT | NRAS - PTPRT    | 1 | 0 | 0 | 0 | 0 | 0 | 0 | 0.0 |\n",
       "| KDR - FAT1 | KDR - FAT1      | 1 | 0 | 0 | 0 | 0 | 0 | 0 | 0.0 |\n",
       "| KRAS - TP63 | KRAS - TP63     | 1 | 0 | 0 | 0 | 0 | 0 | 0 | 0.0 |\n",
       "| CIC - KRAS | CIC - KRAS      | 1 | 0 | 0 | 0 | 0 | 0 | 0 | 0.0 |\n",
       "| TP53 - LZTR1 | TP53 - LZTR1    | 1 | 0 | 0 | 0 | 0 | 0 | 0 | 0.0 |\n",
       "| FBXW7 - HLA-B | FBXW7 - HLA-B   | 1 | 1 | 0 | 1 | 1 | 1 | 4 | 0.8 |\n",
       "| ATM - ARID1B | ATM - ARID1B    | 1 | 0 | 0 | 0 | 0 | 0 | 0 | 0.0 |\n",
       "| PIK3R1 - CDKN1B | PIK3R1 - CDKN1B | 1 | 0 | 0 | 0 | 0 | 0 | 0 | 0.0 |\n",
       "| FBXW7 - PIK3CA | FBXW7 - PIK3CA  | 1 | 0 | 0 | 1 | 0 | 0 | 1 | 0.2 |\n",
       "| NFE2L2 - NOTCH1 | NFE2L2 - NOTCH1 | 1 | 0 | 1 | 1 | 1 | 0 | 3 | 0.6 |\n",
       "| PTEN - PTPRT | PTEN - PTPRT    | 1 | 0 | 0 | 0 | 1 | 0 | 1 | 0.2 |\n",
       "| FLT3 - IDH2 | FLT3 - IDH2     | 1 | 0 | 0 | 0 | 0 | 0 | 0 | 0.0 |\n",
       "| MLH1 - RELN | MLH1 - RELN     | 1 | 0 | 0 | 0 | 0 | 0 | 0 | 0.0 |\n",
       "\n"
      ],
      "text/plain": [
       "                pairs           Run_100 Run_1 Run_2 Run_3 Run_4 Run_5\n",
       "BRAF - NRAS     BRAF - NRAS     1       1     1     1     1     1    \n",
       "PIK3CA - PIK3R1 PIK3CA - PIK3R1 1       1     1     1     1     1    \n",
       "BRAF - KRAS     BRAF - KRAS     1       1     1     1     1     1    \n",
       "KRAS - TP53     KRAS - TP53     1       1     1     1     1     1    \n",
       "CTNNB1 - TP53   CTNNB1 - TP53   1       1     1     1     1     1    \n",
       "GNA11 - GNAQ    GNA11 - GNAQ    1       1     1     1     1     1    \n",
       "IDH1 - IDH2     IDH1 - IDH2     1       1     1     1     1     1    \n",
       "KRAS - NRAS     KRAS - NRAS     1       1     1     1     1     1    \n",
       "PIK3CA - GATA3  PIK3CA - GATA3  1       1     1     1     1     1    \n",
       "CDH1 - GATA3    CDH1 - GATA3    1       1     1     1     1     1    \n",
       "ATM - TP53      ATM - TP53      1       1     1     1     1     1    \n",
       "AKT1 - PIK3CA   AKT1 - PIK3CA   1       1     1     1     1     1    \n",
       "EGFR - KRAS     EGFR - KRAS     1       1     1     1     1     1    \n",
       "TP53 - ARID1A   TP53 - ARID1A   1       1     1     1     1     1    \n",
       "CTNNB1 - AXIN1  CTNNB1 - AXIN1  1       1     1     1     1     1    \n",
       "CDKN2A - RB1    CDKN2A - RB1    1       1     1     1     1     1    \n",
       "KRAS - NF1      KRAS - NF1      1       1     1     1     1     1    \n",
       "TP53 - GATA3    TP53 - GATA3    1       1     1     1     1     1    \n",
       "TP53 - STAG2    TP53 - STAG2    1       1     1     1     1     1    \n",
       "PIK3CA - TP53   PIK3CA - TP53   1       1     1     1     1     1    \n",
       "PTEN - TP53     PTEN - TP53     1       1     1     1     1     1    \n",
       "AKT1 - PTEN     AKT1 - PTEN     1       1     1     1     1     1    \n",
       "TP53 - CTCF     TP53 - CTCF     1       1     1     1     1     1    \n",
       "AKT1 - MAP3K1   AKT1 - MAP3K1   1       1     1     1     1     1    \n",
       "HRAS - TP53     HRAS - TP53     1       1     1     1     1     1    \n",
       "TP53 - KMT2C    TP53 - KMT2C    1       1     1     1     1     1    \n",
       "ERBB2 - GATA3   ERBB2 - GATA3   1       1     0     1     1     1    \n",
       "SETD2 - TP53    SETD2 - TP53    1       1     1     1     1     1    \n",
       "KMT2D - KDM6A   KMT2D - KDM6A   1       1     1     1     1     1    \n",
       "BRAF - HRAS     BRAF - HRAS     1       1     1     1     1     1    \n",
       "⋮               ⋮               ⋮       ⋮     ⋮     ⋮     ⋮     ⋮    \n",
       "FBXW7 - KMT2C   FBXW7 - KMT2C   1       0     1     1     1     0    \n",
       "MAP3K1 - GPS2   MAP3K1 - GPS2   1       0     0     0     0     0    \n",
       "CIC - ROS1      CIC - ROS1      1       0     0     0     0     0    \n",
       "PIK3CA - MTOR   PIK3CA - MTOR   1       0     0     0     0     1    \n",
       "KRAS - ARHGAP35 KRAS - ARHGAP35 1       0     0     0     0     0    \n",
       "BRCA2 - PIK3CA  BRCA2 - PIK3CA  1       0     0     0     0     0    \n",
       "RUNX1 - GATA3   RUNX1 - GATA3   1       0     0     0     0     0    \n",
       "DNMT3A - RB1    DNMT3A - RB1    1       0     0     0     0     0    \n",
       "MAP3K1 - NCOR1  MAP3K1 - NCOR1  1       0     0     0     0     0    \n",
       "ARID1A - KDM6A  ARID1A - KDM6A  1       0     0     0     0     0    \n",
       "APC - DDX3X     APC - DDX3X     1       0     0     0     0     0    \n",
       "PTPN11 - SETD2  PTPN11 - SETD2  1       0     0     0     0     0    \n",
       "RUNX1 - NPM1    RUNX1 - NPM1    1       0     0     1     0     0    \n",
       "HRAS - NSD1     HRAS - NSD1     1       0     1     0     0     0    \n",
       "CDKN2A - AMER1  CDKN2A - AMER1  1       0     0     0     0     0    \n",
       "PIK3CA - KMT2D  PIK3CA - KMT2D  1       0     0     0     0     0    \n",
       "MAP3K1 - SPEN   MAP3K1 - SPEN   1       0     0     0     0     0    \n",
       "NRAS - PTPRT    NRAS - PTPRT    1       0     0     0     0     0    \n",
       "KDR - FAT1      KDR - FAT1      1       0     0     0     0     0    \n",
       "KRAS - TP63     KRAS - TP63     1       0     0     0     0     0    \n",
       "CIC - KRAS      CIC - KRAS      1       0     0     0     0     0    \n",
       "TP53 - LZTR1    TP53 - LZTR1    1       0     0     0     0     0    \n",
       "FBXW7 - HLA-B   FBXW7 - HLA-B   1       1     0     1     1     1    \n",
       "ATM - ARID1B    ATM - ARID1B    1       0     0     0     0     0    \n",
       "PIK3R1 - CDKN1B PIK3R1 - CDKN1B 1       0     0     0     0     0    \n",
       "FBXW7 - PIK3CA  FBXW7 - PIK3CA  1       0     0     1     0     0    \n",
       "NFE2L2 - NOTCH1 NFE2L2 - NOTCH1 1       0     1     1     1     0    \n",
       "PTEN - PTPRT    PTEN - PTPRT    1       0     0     0     1     0    \n",
       "FLT3 - IDH2     FLT3 - IDH2     1       0     0     0     0     0    \n",
       "MLH1 - RELN     MLH1 - RELN     1       0     0     0     0     0    \n",
       "                Total_count Total\n",
       "BRAF - NRAS     5           1.0  \n",
       "PIK3CA - PIK3R1 5           1.0  \n",
       "BRAF - KRAS     5           1.0  \n",
       "KRAS - TP53     5           1.0  \n",
       "CTNNB1 - TP53   5           1.0  \n",
       "GNA11 - GNAQ    5           1.0  \n",
       "IDH1 - IDH2     5           1.0  \n",
       "KRAS - NRAS     5           1.0  \n",
       "PIK3CA - GATA3  5           1.0  \n",
       "CDH1 - GATA3    5           1.0  \n",
       "ATM - TP53      5           1.0  \n",
       "AKT1 - PIK3CA   5           1.0  \n",
       "EGFR - KRAS     5           1.0  \n",
       "TP53 - ARID1A   5           1.0  \n",
       "CTNNB1 - AXIN1  5           1.0  \n",
       "CDKN2A - RB1    5           1.0  \n",
       "KRAS - NF1      5           1.0  \n",
       "TP53 - GATA3    5           1.0  \n",
       "TP53 - STAG2    5           1.0  \n",
       "PIK3CA - TP53   5           1.0  \n",
       "PTEN - TP53     5           1.0  \n",
       "AKT1 - PTEN     5           1.0  \n",
       "TP53 - CTCF     5           1.0  \n",
       "AKT1 - MAP3K1   5           1.0  \n",
       "HRAS - TP53     5           1.0  \n",
       "TP53 - KMT2C    5           1.0  \n",
       "ERBB2 - GATA3   4           0.8  \n",
       "SETD2 - TP53    5           1.0  \n",
       "KMT2D - KDM6A   5           1.0  \n",
       "BRAF - HRAS     5           1.0  \n",
       "⋮               ⋮           ⋮    \n",
       "FBXW7 - KMT2C   3           0.6  \n",
       "MAP3K1 - GPS2   0           0.0  \n",
       "CIC - ROS1      0           0.0  \n",
       "PIK3CA - MTOR   1           0.2  \n",
       "KRAS - ARHGAP35 0           0.0  \n",
       "BRCA2 - PIK3CA  0           0.0  \n",
       "RUNX1 - GATA3   0           0.0  \n",
       "DNMT3A - RB1    0           0.0  \n",
       "MAP3K1 - NCOR1  0           0.0  \n",
       "ARID1A - KDM6A  0           0.0  \n",
       "APC - DDX3X     0           0.0  \n",
       "PTPN11 - SETD2  0           0.0  \n",
       "RUNX1 - NPM1    1           0.2  \n",
       "HRAS - NSD1     1           0.2  \n",
       "CDKN2A - AMER1  0           0.0  \n",
       "PIK3CA - KMT2D  0           0.0  \n",
       "MAP3K1 - SPEN   0           0.0  \n",
       "NRAS - PTPRT    0           0.0  \n",
       "KDR - FAT1      0           0.0  \n",
       "KRAS - TP63     0           0.0  \n",
       "CIC - KRAS      0           0.0  \n",
       "TP53 - LZTR1    0           0.0  \n",
       "FBXW7 - HLA-B   4           0.8  \n",
       "ATM - ARID1B    0           0.0  \n",
       "PIK3R1 - CDKN1B 0           0.0  \n",
       "FBXW7 - PIK3CA  1           0.2  \n",
       "NFE2L2 - NOTCH1 3           0.6  \n",
       "PTEN - PTPRT    1           0.2  \n",
       "FLT3 - IDH2     0           0.0  \n",
       "MLH1 - RELN     0           0.0  "
      ]
     },
     "metadata": {},
     "output_type": "display_data"
    }
   ],
   "source": [
    "score_df"
   ]
  },
  {
   "cell_type": "code",
   "execution_count": 44,
   "id": "6f93dfff-1dd9-4218-a6f2-3b4ba697455e",
   "metadata": {},
   "outputs": [],
   "source": [
    "cum_pct<-list()\n",
    "cum_pairs<-list()\n",
    "for(i in c(1:5)){\n",
    "    cum_pct[[i]]<-sum(rowSums(score_df[,c(3:7)])>=i)*100/248\n",
    "    cum_pairs[[i]]<-sum(rowSums(score_df[,c(3:7)])>=i)\n",
    "}"
   ]
  },
  {
   "cell_type": "code",
   "execution_count": 45,
   "id": "68313ebc-d38d-448b-923b-6cbc4b651d5f",
   "metadata": {},
   "outputs": [],
   "source": [
    "score_df_v6<-data.frame('Recovery'=c(1:5),'n'=unlist(cum_pairs),'pct'=unlist(cum_pct))\n",
    "score_df_v6$Recovery <-as.factor(score_df_v6$Recovery)"
   ]
  },
  {
   "cell_type": "code",
   "execution_count": 46,
   "id": "7fe6c112-219b-46a7-a290-d497e37a7fc6",
   "metadata": {},
   "outputs": [
    {
     "data": {
      "text/html": [
       "<table class=\"dataframe\">\n",
       "<caption>A data.frame: 5 × 3</caption>\n",
       "<thead>\n",
       "\t<tr><th scope=col>Recovery</th><th scope=col>n</th><th scope=col>pct</th></tr>\n",
       "\t<tr><th scope=col>&lt;fct&gt;</th><th scope=col>&lt;int&gt;</th><th scope=col>&lt;dbl&gt;</th></tr>\n",
       "</thead>\n",
       "<tbody>\n",
       "\t<tr><td>1</td><td>147</td><td>59.27419</td></tr>\n",
       "\t<tr><td>2</td><td>117</td><td>47.17742</td></tr>\n",
       "\t<tr><td>3</td><td> 99</td><td>39.91935</td></tr>\n",
       "\t<tr><td>4</td><td> 78</td><td>31.45161</td></tr>\n",
       "\t<tr><td>5</td><td> 64</td><td>25.80645</td></tr>\n",
       "</tbody>\n",
       "</table>\n"
      ],
      "text/latex": [
       "A data.frame: 5 × 3\n",
       "\\begin{tabular}{lll}\n",
       " Recovery & n & pct\\\\\n",
       " <fct> & <int> & <dbl>\\\\\n",
       "\\hline\n",
       "\t 1 & 147 & 59.27419\\\\\n",
       "\t 2 & 117 & 47.17742\\\\\n",
       "\t 3 &  99 & 39.91935\\\\\n",
       "\t 4 &  78 & 31.45161\\\\\n",
       "\t 5 &  64 & 25.80645\\\\\n",
       "\\end{tabular}\n"
      ],
      "text/markdown": [
       "\n",
       "A data.frame: 5 × 3\n",
       "\n",
       "| Recovery &lt;fct&gt; | n &lt;int&gt; | pct &lt;dbl&gt; |\n",
       "|---|---|---|\n",
       "| 1 | 147 | 59.27419 |\n",
       "| 2 | 117 | 47.17742 |\n",
       "| 3 |  99 | 39.91935 |\n",
       "| 4 |  78 | 31.45161 |\n",
       "| 5 |  64 | 25.80645 |\n",
       "\n"
      ],
      "text/plain": [
       "  Recovery n   pct     \n",
       "1 1        147 59.27419\n",
       "2 2        117 47.17742\n",
       "3 3         99 39.91935\n",
       "4 4         78 31.45161\n",
       "5 5         64 25.80645"
      ]
     },
     "metadata": {},
     "output_type": "display_data"
    }
   ],
   "source": [
    "score_df_v6"
   ]
  },
  {
   "cell_type": "code",
   "execution_count": 47,
   "id": "02a235bd-69c4-4c8a-90e3-b38945a38427",
   "metadata": {},
   "outputs": [
    {
     "data": {
      "text/html": [
       "<table class=\"dataframe\">\n",
       "<caption>A data.frame: 6 × 3</caption>\n",
       "<thead>\n",
       "\t<tr><th scope=col>Total</th><th scope=col>n</th><th scope=col>pct</th></tr>\n",
       "\t<tr><th scope=col>&lt;dbl&gt;</th><th scope=col>&lt;int&gt;</th><th scope=col>&lt;dbl&gt;</th></tr>\n",
       "</thead>\n",
       "<tbody>\n",
       "\t<tr><td>0.0</td><td>101</td><td>40.725806</td></tr>\n",
       "\t<tr><td>0.2</td><td> 30</td><td>12.096774</td></tr>\n",
       "\t<tr><td>0.4</td><td> 18</td><td> 7.258065</td></tr>\n",
       "\t<tr><td>0.6</td><td> 21</td><td> 8.467742</td></tr>\n",
       "\t<tr><td>0.8</td><td> 14</td><td> 5.645161</td></tr>\n",
       "\t<tr><td>1.0</td><td> 64</td><td>25.806452</td></tr>\n",
       "</tbody>\n",
       "</table>\n"
      ],
      "text/latex": [
       "A data.frame: 6 × 3\n",
       "\\begin{tabular}{lll}\n",
       " Total & n & pct\\\\\n",
       " <dbl> & <int> & <dbl>\\\\\n",
       "\\hline\n",
       "\t 0.0 & 101 & 40.725806\\\\\n",
       "\t 0.2 &  30 & 12.096774\\\\\n",
       "\t 0.4 &  18 &  7.258065\\\\\n",
       "\t 0.6 &  21 &  8.467742\\\\\n",
       "\t 0.8 &  14 &  5.645161\\\\\n",
       "\t 1.0 &  64 & 25.806452\\\\\n",
       "\\end{tabular}\n"
      ],
      "text/markdown": [
       "\n",
       "A data.frame: 6 × 3\n",
       "\n",
       "| Total &lt;dbl&gt; | n &lt;int&gt; | pct &lt;dbl&gt; |\n",
       "|---|---|---|\n",
       "| 0.0 | 101 | 40.725806 |\n",
       "| 0.2 |  30 | 12.096774 |\n",
       "| 0.4 |  18 |  7.258065 |\n",
       "| 0.6 |  21 |  8.467742 |\n",
       "| 0.8 |  14 |  5.645161 |\n",
       "| 1.0 |  64 | 25.806452 |\n",
       "\n"
      ],
      "text/plain": [
       "  Total n   pct      \n",
       "1 0.0   101 40.725806\n",
       "2 0.2    30 12.096774\n",
       "3 0.4    18  7.258065\n",
       "4 0.6    21  8.467742\n",
       "5 0.8    14  5.645161\n",
       "6 1.0    64 25.806452"
      ]
     },
     "metadata": {},
     "output_type": "display_data"
    }
   ],
   "source": [
    "score_df %>% count(Total) %>% mutate(pct=(n*100/248))"
   ]
  },
  {
   "cell_type": "markdown",
   "id": "47c8d264-5f28-44b4-a411-cdf37159459b",
   "metadata": {
    "tags": []
   },
   "source": [
    "## Combine plots for sampling analysis"
   ]
  },
  {
   "cell_type": "code",
   "execution_count": 48,
   "id": "ba1dfebd-5d70-4ad8-8f15-4edb8ccfd3d1",
   "metadata": {},
   "outputs": [
    {
     "data": {
      "text/html": [
       "<table class=\"dataframe\">\n",
       "<caption>A data.frame: 5 × 3</caption>\n",
       "<thead>\n",
       "\t<tr><th></th><th scope=col>Recovery</th><th scope=col>n</th><th scope=col>pct</th></tr>\n",
       "\t<tr><th></th><th scope=col>&lt;fct&gt;</th><th scope=col>&lt;int&gt;</th><th scope=col>&lt;dbl&gt;</th></tr>\n",
       "</thead>\n",
       "<tbody>\n",
       "\t<tr><th scope=row>1</th><td>1</td><td>195</td><td>87.83784</td></tr>\n",
       "\t<tr><th scope=row>2</th><td>2</td><td>171</td><td>77.02703</td></tr>\n",
       "\t<tr><th scope=row>3</th><td>3</td><td>158</td><td>71.17117</td></tr>\n",
       "\t<tr><th scope=row>4</th><td>4</td><td>141</td><td>63.51351</td></tr>\n",
       "\t<tr><th scope=row>5</th><td>5</td><td>112</td><td>50.45045</td></tr>\n",
       "</tbody>\n",
       "</table>\n"
      ],
      "text/latex": [
       "A data.frame: 5 × 3\n",
       "\\begin{tabular}{r|lll}\n",
       "  & Recovery & n & pct\\\\\n",
       "  & <fct> & <int> & <dbl>\\\\\n",
       "\\hline\n",
       "\t1 & 1 & 195 & 87.83784\\\\\n",
       "\t2 & 2 & 171 & 77.02703\\\\\n",
       "\t3 & 3 & 158 & 71.17117\\\\\n",
       "\t4 & 4 & 141 & 63.51351\\\\\n",
       "\t5 & 5 & 112 & 50.45045\\\\\n",
       "\\end{tabular}\n"
      ],
      "text/markdown": [
       "\n",
       "A data.frame: 5 × 3\n",
       "\n",
       "| <!--/--> | Recovery &lt;fct&gt; | n &lt;int&gt; | pct &lt;dbl&gt; |\n",
       "|---|---|---|---|\n",
       "| 1 | 1 | 195 | 87.83784 |\n",
       "| 2 | 2 | 171 | 77.02703 |\n",
       "| 3 | 3 | 158 | 71.17117 |\n",
       "| 4 | 4 | 141 | 63.51351 |\n",
       "| 5 | 5 | 112 | 50.45045 |\n",
       "\n"
      ],
      "text/plain": [
       "  Recovery n   pct     \n",
       "1 1        195 87.83784\n",
       "2 2        171 77.02703\n",
       "3 3        158 71.17117\n",
       "4 4        141 63.51351\n",
       "5 5        112 50.45045"
      ]
     },
     "metadata": {},
     "output_type": "display_data"
    }
   ],
   "source": [
    "head(score_df_v3)"
   ]
  },
  {
   "cell_type": "code",
   "execution_count": 49,
   "id": "03e0bdca-de5e-49ef-8771-7670a053fad9",
   "metadata": {},
   "outputs": [
    {
     "data": {
      "text/html": [
       "<table class=\"dataframe\">\n",
       "<caption>A data.frame: 5 × 3</caption>\n",
       "<thead>\n",
       "\t<tr><th></th><th scope=col>Recovery</th><th scope=col>n</th><th scope=col>pct</th></tr>\n",
       "\t<tr><th></th><th scope=col>&lt;fct&gt;</th><th scope=col>&lt;int&gt;</th><th scope=col>&lt;dbl&gt;</th></tr>\n",
       "</thead>\n",
       "<tbody>\n",
       "\t<tr><th scope=row>1</th><td>1</td><td>101</td><td>51.53061</td></tr>\n",
       "\t<tr><th scope=row>2</th><td>2</td><td> 73</td><td>37.24490</td></tr>\n",
       "\t<tr><th scope=row>3</th><td>3</td><td> 54</td><td>27.55102</td></tr>\n",
       "\t<tr><th scope=row>4</th><td>4</td><td> 39</td><td>19.89796</td></tr>\n",
       "\t<tr><th scope=row>5</th><td>5</td><td> 28</td><td>14.28571</td></tr>\n",
       "</tbody>\n",
       "</table>\n"
      ],
      "text/latex": [
       "A data.frame: 5 × 3\n",
       "\\begin{tabular}{r|lll}\n",
       "  & Recovery & n & pct\\\\\n",
       "  & <fct> & <int> & <dbl>\\\\\n",
       "\\hline\n",
       "\t1 & 1 & 101 & 51.53061\\\\\n",
       "\t2 & 2 &  73 & 37.24490\\\\\n",
       "\t3 & 3 &  54 & 27.55102\\\\\n",
       "\t4 & 4 &  39 & 19.89796\\\\\n",
       "\t5 & 5 &  28 & 14.28571\\\\\n",
       "\\end{tabular}\n"
      ],
      "text/markdown": [
       "\n",
       "A data.frame: 5 × 3\n",
       "\n",
       "| <!--/--> | Recovery &lt;fct&gt; | n &lt;int&gt; | pct &lt;dbl&gt; |\n",
       "|---|---|---|---|\n",
       "| 1 | 1 | 101 | 51.53061 |\n",
       "| 2 | 2 |  73 | 37.24490 |\n",
       "| 3 | 3 |  54 | 27.55102 |\n",
       "| 4 | 4 |  39 | 19.89796 |\n",
       "| 5 | 5 |  28 | 14.28571 |\n",
       "\n"
      ],
      "text/plain": [
       "  Recovery n   pct     \n",
       "1 1        101 51.53061\n",
       "2 2         73 37.24490\n",
       "3 3         54 27.55102\n",
       "4 4         39 19.89796\n",
       "5 5         28 14.28571"
      ]
     },
     "metadata": {},
     "output_type": "display_data"
    }
   ],
   "source": [
    "head(score_df_v4)"
   ]
  },
  {
   "cell_type": "code",
   "execution_count": 50,
   "id": "22bac68a-109f-4960-a701-6509c290a5c6",
   "metadata": {},
   "outputs": [
    {
     "data": {
      "text/html": [
       "<table class=\"dataframe\">\n",
       "<caption>A data.frame: 5 × 3</caption>\n",
       "<thead>\n",
       "\t<tr><th></th><th scope=col>Recovery</th><th scope=col>n</th><th scope=col>pct</th></tr>\n",
       "\t<tr><th></th><th scope=col>&lt;fct&gt;</th><th scope=col>&lt;int&gt;</th><th scope=col>&lt;dbl&gt;</th></tr>\n",
       "</thead>\n",
       "<tbody>\n",
       "\t<tr><th scope=row>1</th><td>1</td><td>147</td><td>59.27419</td></tr>\n",
       "\t<tr><th scope=row>2</th><td>2</td><td>117</td><td>47.17742</td></tr>\n",
       "\t<tr><th scope=row>3</th><td>3</td><td> 99</td><td>39.91935</td></tr>\n",
       "\t<tr><th scope=row>4</th><td>4</td><td> 78</td><td>31.45161</td></tr>\n",
       "\t<tr><th scope=row>5</th><td>5</td><td> 64</td><td>25.80645</td></tr>\n",
       "</tbody>\n",
       "</table>\n"
      ],
      "text/latex": [
       "A data.frame: 5 × 3\n",
       "\\begin{tabular}{r|lll}\n",
       "  & Recovery & n & pct\\\\\n",
       "  & <fct> & <int> & <dbl>\\\\\n",
       "\\hline\n",
       "\t1 & 1 & 147 & 59.27419\\\\\n",
       "\t2 & 2 & 117 & 47.17742\\\\\n",
       "\t3 & 3 &  99 & 39.91935\\\\\n",
       "\t4 & 4 &  78 & 31.45161\\\\\n",
       "\t5 & 5 &  64 & 25.80645\\\\\n",
       "\\end{tabular}\n"
      ],
      "text/markdown": [
       "\n",
       "A data.frame: 5 × 3\n",
       "\n",
       "| <!--/--> | Recovery &lt;fct&gt; | n &lt;int&gt; | pct &lt;dbl&gt; |\n",
       "|---|---|---|---|\n",
       "| 1 | 1 | 147 | 59.27419 |\n",
       "| 2 | 2 | 117 | 47.17742 |\n",
       "| 3 | 3 |  99 | 39.91935 |\n",
       "| 4 | 4 |  78 | 31.45161 |\n",
       "| 5 | 5 |  64 | 25.80645 |\n",
       "\n"
      ],
      "text/plain": [
       "  Recovery n   pct     \n",
       "1 1        147 59.27419\n",
       "2 2        117 47.17742\n",
       "3 3         99 39.91935\n",
       "4 4         78 31.45161\n",
       "5 5         64 25.80645"
      ]
     },
     "metadata": {},
     "output_type": "display_data"
    }
   ],
   "source": [
    "head(score_df_v6)"
   ]
  },
  {
   "cell_type": "code",
   "execution_count": 51,
   "id": "c11a2bcc-9280-441b-9857-46251075a8b4",
   "metadata": {},
   "outputs": [],
   "source": [
    "plot_data<-rbind(\n",
    "                 score_df_v3,\n",
    "                 score_df_v4,\n",
    "                 score_df_v6)\n"
   ]
  },
  {
   "cell_type": "code",
   "execution_count": 52,
   "id": "56298ab7-5996-4e7e-b6cb-ded8a33299a0",
   "metadata": {},
   "outputs": [
    {
     "data": {
      "text/html": [
       "<style>\n",
       ".list-inline {list-style: none; margin:0; padding: 0}\n",
       ".list-inline>li {display: inline-block}\n",
       ".list-inline>li:not(:last-child)::after {content: \"\\00b7\"; padding: 0 .5ex}\n",
       "</style>\n",
       "<ol class=list-inline><li>15</li><li>3</li></ol>\n"
      ],
      "text/latex": [
       "\\begin{enumerate*}\n",
       "\\item 15\n",
       "\\item 3\n",
       "\\end{enumerate*}\n"
      ],
      "text/markdown": [
       "1. 15\n",
       "2. 3\n",
       "\n",
       "\n"
      ],
      "text/plain": [
       "[1] 15  3"
      ]
     },
     "metadata": {},
     "output_type": "display_data"
    }
   ],
   "source": [
    "dim(plot_data)"
   ]
  },
  {
   "cell_type": "code",
   "execution_count": 53,
   "id": "1a91020d-5500-453e-9d1a-e2d16e5a0221",
   "metadata": {
    "tags": []
   },
   "outputs": [
    {
     "data": {
      "text/html": [
       "<table class=\"dataframe\">\n",
       "<caption>A data.frame: 6 × 3</caption>\n",
       "<thead>\n",
       "\t<tr><th></th><th scope=col>Recovery</th><th scope=col>n</th><th scope=col>pct</th></tr>\n",
       "\t<tr><th></th><th scope=col>&lt;fct&gt;</th><th scope=col>&lt;int&gt;</th><th scope=col>&lt;dbl&gt;</th></tr>\n",
       "</thead>\n",
       "<tbody>\n",
       "\t<tr><th scope=row>1</th><td>1</td><td>195</td><td>87.83784</td></tr>\n",
       "\t<tr><th scope=row>2</th><td>2</td><td>171</td><td>77.02703</td></tr>\n",
       "\t<tr><th scope=row>3</th><td>3</td><td>158</td><td>71.17117</td></tr>\n",
       "\t<tr><th scope=row>4</th><td>4</td><td>141</td><td>63.51351</td></tr>\n",
       "\t<tr><th scope=row>5</th><td>5</td><td>112</td><td>50.45045</td></tr>\n",
       "\t<tr><th scope=row>6</th><td>1</td><td>101</td><td>51.53061</td></tr>\n",
       "</tbody>\n",
       "</table>\n"
      ],
      "text/latex": [
       "A data.frame: 6 × 3\n",
       "\\begin{tabular}{r|lll}\n",
       "  & Recovery & n & pct\\\\\n",
       "  & <fct> & <int> & <dbl>\\\\\n",
       "\\hline\n",
       "\t1 & 1 & 195 & 87.83784\\\\\n",
       "\t2 & 2 & 171 & 77.02703\\\\\n",
       "\t3 & 3 & 158 & 71.17117\\\\\n",
       "\t4 & 4 & 141 & 63.51351\\\\\n",
       "\t5 & 5 & 112 & 50.45045\\\\\n",
       "\t6 & 1 & 101 & 51.53061\\\\\n",
       "\\end{tabular}\n"
      ],
      "text/markdown": [
       "\n",
       "A data.frame: 6 × 3\n",
       "\n",
       "| <!--/--> | Recovery &lt;fct&gt; | n &lt;int&gt; | pct &lt;dbl&gt; |\n",
       "|---|---|---|---|\n",
       "| 1 | 1 | 195 | 87.83784 |\n",
       "| 2 | 2 | 171 | 77.02703 |\n",
       "| 3 | 3 | 158 | 71.17117 |\n",
       "| 4 | 4 | 141 | 63.51351 |\n",
       "| 5 | 5 | 112 | 50.45045 |\n",
       "| 6 | 1 | 101 | 51.53061 |\n",
       "\n"
      ],
      "text/plain": [
       "  Recovery n   pct     \n",
       "1 1        195 87.83784\n",
       "2 2        171 77.02703\n",
       "3 3        158 71.17117\n",
       "4 4        141 63.51351\n",
       "5 5        112 50.45045\n",
       "6 1        101 51.53061"
      ]
     },
     "metadata": {},
     "output_type": "display_data"
    }
   ],
   "source": [
    "head(plot_data)"
   ]
  },
  {
   "cell_type": "code",
   "execution_count": 54,
   "id": "d59a0641-774d-4b7c-80e1-aa71fb215e57",
   "metadata": {
    "tags": []
   },
   "outputs": [],
   "source": [
    "plot_data$name<-c(\n",
    "                  rep('SelectSim',5),\n",
    "                  rep('SELECT',5),\n",
    "                  rep('Discover',5))"
   ]
  },
  {
   "cell_type": "code",
   "execution_count": 55,
   "id": "cff813ed-9c26-4749-bce4-ad2a31cafbd2",
   "metadata": {
    "tags": []
   },
   "outputs": [
    {
     "data": {
      "text/html": [
       "<table class=\"dataframe\">\n",
       "<caption>A data.frame: 6 × 4</caption>\n",
       "<thead>\n",
       "\t<tr><th></th><th scope=col>Recovery</th><th scope=col>n</th><th scope=col>pct</th><th scope=col>name</th></tr>\n",
       "\t<tr><th></th><th scope=col>&lt;fct&gt;</th><th scope=col>&lt;int&gt;</th><th scope=col>&lt;dbl&gt;</th><th scope=col>&lt;chr&gt;</th></tr>\n",
       "</thead>\n",
       "<tbody>\n",
       "\t<tr><th scope=row>1</th><td>1</td><td>195</td><td>87.83784</td><td>SelectSim</td></tr>\n",
       "\t<tr><th scope=row>2</th><td>2</td><td>171</td><td>77.02703</td><td>SelectSim</td></tr>\n",
       "\t<tr><th scope=row>3</th><td>3</td><td>158</td><td>71.17117</td><td>SelectSim</td></tr>\n",
       "\t<tr><th scope=row>4</th><td>4</td><td>141</td><td>63.51351</td><td>SelectSim</td></tr>\n",
       "\t<tr><th scope=row>5</th><td>5</td><td>112</td><td>50.45045</td><td>SelectSim</td></tr>\n",
       "\t<tr><th scope=row>6</th><td>1</td><td>101</td><td>51.53061</td><td>SELECT   </td></tr>\n",
       "</tbody>\n",
       "</table>\n"
      ],
      "text/latex": [
       "A data.frame: 6 × 4\n",
       "\\begin{tabular}{r|llll}\n",
       "  & Recovery & n & pct & name\\\\\n",
       "  & <fct> & <int> & <dbl> & <chr>\\\\\n",
       "\\hline\n",
       "\t1 & 1 & 195 & 87.83784 & SelectSim\\\\\n",
       "\t2 & 2 & 171 & 77.02703 & SelectSim\\\\\n",
       "\t3 & 3 & 158 & 71.17117 & SelectSim\\\\\n",
       "\t4 & 4 & 141 & 63.51351 & SelectSim\\\\\n",
       "\t5 & 5 & 112 & 50.45045 & SelectSim\\\\\n",
       "\t6 & 1 & 101 & 51.53061 & SELECT   \\\\\n",
       "\\end{tabular}\n"
      ],
      "text/markdown": [
       "\n",
       "A data.frame: 6 × 4\n",
       "\n",
       "| <!--/--> | Recovery &lt;fct&gt; | n &lt;int&gt; | pct &lt;dbl&gt; | name &lt;chr&gt; |\n",
       "|---|---|---|---|---|\n",
       "| 1 | 1 | 195 | 87.83784 | SelectSim |\n",
       "| 2 | 2 | 171 | 77.02703 | SelectSim |\n",
       "| 3 | 3 | 158 | 71.17117 | SelectSim |\n",
       "| 4 | 4 | 141 | 63.51351 | SelectSim |\n",
       "| 5 | 5 | 112 | 50.45045 | SelectSim |\n",
       "| 6 | 1 | 101 | 51.53061 | SELECT    |\n",
       "\n"
      ],
      "text/plain": [
       "  Recovery n   pct      name     \n",
       "1 1        195 87.83784 SelectSim\n",
       "2 2        171 77.02703 SelectSim\n",
       "3 3        158 71.17117 SelectSim\n",
       "4 4        141 63.51351 SelectSim\n",
       "5 5        112 50.45045 SelectSim\n",
       "6 1        101 51.53061 SELECT   "
      ]
     },
     "metadata": {},
     "output_type": "display_data"
    }
   ],
   "source": [
    "head(plot_data)"
   ]
  },
  {
   "cell_type": "code",
   "execution_count": 62,
   "id": "f35e379b-91d4-4f41-9037-444de105d665",
   "metadata": {
    "scrolled": true
   },
   "outputs": [
    {
     "data": {
      "text/html": [
       "<table class=\"dataframe\">\n",
       "<caption>A data.frame: 15 × 4</caption>\n",
       "<thead>\n",
       "\t<tr><th scope=col>Recovery</th><th scope=col>n</th><th scope=col>pct</th><th scope=col>name</th></tr>\n",
       "\t<tr><th scope=col>&lt;fct&gt;</th><th scope=col>&lt;int&gt;</th><th scope=col>&lt;dbl&gt;</th><th scope=col>&lt;fct&gt;</th></tr>\n",
       "</thead>\n",
       "<tbody>\n",
       "\t<tr><td>1</td><td>195</td><td>87.83784</td><td>SelectSim</td></tr>\n",
       "\t<tr><td>2</td><td>171</td><td>77.02703</td><td>SelectSim</td></tr>\n",
       "\t<tr><td>3</td><td>158</td><td>71.17117</td><td>SelectSim</td></tr>\n",
       "\t<tr><td>4</td><td>141</td><td>63.51351</td><td>SelectSim</td></tr>\n",
       "\t<tr><td>5</td><td>112</td><td>50.45045</td><td>SelectSim</td></tr>\n",
       "\t<tr><td>1</td><td>101</td><td>51.53061</td><td>SELECT   </td></tr>\n",
       "\t<tr><td>2</td><td> 73</td><td>37.24490</td><td>SELECT   </td></tr>\n",
       "\t<tr><td>3</td><td> 54</td><td>27.55102</td><td>SELECT   </td></tr>\n",
       "\t<tr><td>4</td><td> 39</td><td>19.89796</td><td>SELECT   </td></tr>\n",
       "\t<tr><td>5</td><td> 28</td><td>14.28571</td><td>SELECT   </td></tr>\n",
       "\t<tr><td>1</td><td>147</td><td>59.27419</td><td>Discover </td></tr>\n",
       "\t<tr><td>2</td><td>117</td><td>47.17742</td><td>Discover </td></tr>\n",
       "\t<tr><td>3</td><td> 99</td><td>39.91935</td><td>Discover </td></tr>\n",
       "\t<tr><td>4</td><td> 78</td><td>31.45161</td><td>Discover </td></tr>\n",
       "\t<tr><td>5</td><td> 64</td><td>25.80645</td><td>Discover </td></tr>\n",
       "</tbody>\n",
       "</table>\n"
      ],
      "text/latex": [
       "A data.frame: 15 × 4\n",
       "\\begin{tabular}{llll}\n",
       " Recovery & n & pct & name\\\\\n",
       " <fct> & <int> & <dbl> & <fct>\\\\\n",
       "\\hline\n",
       "\t 1 & 195 & 87.83784 & SelectSim\\\\\n",
       "\t 2 & 171 & 77.02703 & SelectSim\\\\\n",
       "\t 3 & 158 & 71.17117 & SelectSim\\\\\n",
       "\t 4 & 141 & 63.51351 & SelectSim\\\\\n",
       "\t 5 & 112 & 50.45045 & SelectSim\\\\\n",
       "\t 1 & 101 & 51.53061 & SELECT   \\\\\n",
       "\t 2 &  73 & 37.24490 & SELECT   \\\\\n",
       "\t 3 &  54 & 27.55102 & SELECT   \\\\\n",
       "\t 4 &  39 & 19.89796 & SELECT   \\\\\n",
       "\t 5 &  28 & 14.28571 & SELECT   \\\\\n",
       "\t 1 & 147 & 59.27419 & Discover \\\\\n",
       "\t 2 & 117 & 47.17742 & Discover \\\\\n",
       "\t 3 &  99 & 39.91935 & Discover \\\\\n",
       "\t 4 &  78 & 31.45161 & Discover \\\\\n",
       "\t 5 &  64 & 25.80645 & Discover \\\\\n",
       "\\end{tabular}\n"
      ],
      "text/markdown": [
       "\n",
       "A data.frame: 15 × 4\n",
       "\n",
       "| Recovery &lt;fct&gt; | n &lt;int&gt; | pct &lt;dbl&gt; | name &lt;fct&gt; |\n",
       "|---|---|---|---|\n",
       "| 1 | 195 | 87.83784 | SelectSim |\n",
       "| 2 | 171 | 77.02703 | SelectSim |\n",
       "| 3 | 158 | 71.17117 | SelectSim |\n",
       "| 4 | 141 | 63.51351 | SelectSim |\n",
       "| 5 | 112 | 50.45045 | SelectSim |\n",
       "| 1 | 101 | 51.53061 | SELECT    |\n",
       "| 2 |  73 | 37.24490 | SELECT    |\n",
       "| 3 |  54 | 27.55102 | SELECT    |\n",
       "| 4 |  39 | 19.89796 | SELECT    |\n",
       "| 5 |  28 | 14.28571 | SELECT    |\n",
       "| 1 | 147 | 59.27419 | Discover  |\n",
       "| 2 | 117 | 47.17742 | Discover  |\n",
       "| 3 |  99 | 39.91935 | Discover  |\n",
       "| 4 |  78 | 31.45161 | Discover  |\n",
       "| 5 |  64 | 25.80645 | Discover  |\n",
       "\n"
      ],
      "text/plain": [
       "   Recovery n   pct      name     \n",
       "1  1        195 87.83784 SelectSim\n",
       "2  2        171 77.02703 SelectSim\n",
       "3  3        158 71.17117 SelectSim\n",
       "4  4        141 63.51351 SelectSim\n",
       "5  5        112 50.45045 SelectSim\n",
       "6  1        101 51.53061 SELECT   \n",
       "7  2         73 37.24490 SELECT   \n",
       "8  3         54 27.55102 SELECT   \n",
       "9  4         39 19.89796 SELECT   \n",
       "10 5         28 14.28571 SELECT   \n",
       "11 1        147 59.27419 Discover \n",
       "12 2        117 47.17742 Discover \n",
       "13 3         99 39.91935 Discover \n",
       "14 4         78 31.45161 Discover \n",
       "15 5         64 25.80645 Discover "
      ]
     },
     "metadata": {},
     "output_type": "display_data"
    }
   ],
   "source": [
    "plot_data"
   ]
  },
  {
   "cell_type": "code",
   "execution_count": null,
   "id": "114fbd60-4a0f-43f4-a2f7-5761339c9d93",
   "metadata": {},
   "outputs": [],
   "source": [
    "saveRDS(plot_data,'/mnt/ndata/arvind/co_mutation_project/analysis/robustness_benchmarking/figures/pan_can_plot_recovery_data.rds')"
   ]
  }
 ],
 "metadata": {
  "kernelspec": {
   "display_name": "R",
   "language": "R",
   "name": "ir"
  },
  "language_info": {
   "codemirror_mode": "r",
   "file_extension": ".r",
   "mimetype": "text/x-r-source",
   "name": "R",
   "pygments_lexer": "r",
   "version": "4.3.2"
  }
 },
 "nbformat": 4,
 "nbformat_minor": 5
}
