{
 "cells": [
  {
   "cell_type": "code",
   "execution_count": 1,
   "id": "44501899-5412-432c-bb87-abdfc3408fda",
   "metadata": {
    "tags": []
   },
   "outputs": [
    {
     "name": "stderr",
     "output_type": "stream",
     "text": [
      "── \u001b[1mAttaching core tidyverse packages\u001b[22m ───────────────────────────────────────────────────────────────────────────────────────────────────────────────────────────────────── tidyverse 2.0.0 ──\n",
      "\u001b[32m✔\u001b[39m \u001b[34mdplyr    \u001b[39m 1.1.4     \u001b[32m✔\u001b[39m \u001b[34mreadr    \u001b[39m 2.1.5\n",
      "\u001b[32m✔\u001b[39m \u001b[34mforcats  \u001b[39m 1.0.0     \u001b[32m✔\u001b[39m \u001b[34mstringr  \u001b[39m 1.5.1\n",
      "\u001b[32m✔\u001b[39m \u001b[34mlubridate\u001b[39m 1.9.3     \u001b[32m✔\u001b[39m \u001b[34mtibble   \u001b[39m 3.2.1\n",
      "\u001b[32m✔\u001b[39m \u001b[34mpurrr    \u001b[39m 1.0.2     \u001b[32m✔\u001b[39m \u001b[34mtidyr    \u001b[39m 1.3.0\n",
      "── \u001b[1mConflicts\u001b[22m ─────────────────────────────────────────────────────────────────────────────────────────────────────────────────────────────────────────────────────── tidyverse_conflicts() ──\n",
      "\u001b[31m✖\u001b[39m \u001b[34mreadr\u001b[39m::\u001b[32mcol_factor()\u001b[39m masks \u001b[34mscales\u001b[39m::col_factor()\n",
      "\u001b[31m✖\u001b[39m \u001b[34mpurrr\u001b[39m::\u001b[32mdiscard()\u001b[39m    masks \u001b[34mscales\u001b[39m::discard()\n",
      "\u001b[31m✖\u001b[39m \u001b[34mdplyr\u001b[39m::\u001b[32mfilter()\u001b[39m     masks \u001b[34mstats\u001b[39m::filter()\n",
      "\u001b[31m✖\u001b[39m \u001b[34mdplyr\u001b[39m::\u001b[32mlag()\u001b[39m        masks \u001b[34mstats\u001b[39m::lag()\n",
      "\u001b[36mℹ\u001b[39m Use the conflicted package (\u001b[3m\u001b[34m<http://conflicted.r-lib.org/>\u001b[39m\u001b[23m) to force all conflicts to become errors\n"
     ]
    }
   ],
   "source": [
    "library('ggplot2')\n",
    "library('ggpubr')\n",
    "library('scales')\n",
    "library('tidyverse')"
   ]
  },
  {
   "cell_type": "code",
   "execution_count": 2,
   "id": "5ec62dc6-d14d-492c-b1cd-ae213af962a3",
   "metadata": {},
   "outputs": [
    {
     "data": {
      "text/plain": [
       "R version 4.3.2 (2023-10-31)\n",
       "Platform: x86_64-conda-linux-gnu (64-bit)\n",
       "Running under: CentOS Linux 7 (Core)\n",
       "\n",
       "Matrix products: default\n",
       "BLAS/LAPACK: /mnt/ndata/arvind/envs/R_4/lib/libopenblasp-r0.3.25.so;  LAPACK version 3.11.0\n",
       "\n",
       "locale:\n",
       " [1] LC_CTYPE=en_US.UTF-8       LC_NUMERIC=C              \n",
       " [3] LC_TIME=en_US.UTF-8        LC_COLLATE=en_US.UTF-8    \n",
       " [5] LC_MONETARY=en_US.UTF-8    LC_MESSAGES=en_US.UTF-8   \n",
       " [7] LC_PAPER=en_US.UTF-8       LC_NAME=C                 \n",
       " [9] LC_ADDRESS=C               LC_TELEPHONE=C            \n",
       "[11] LC_MEASUREMENT=en_US.UTF-8 LC_IDENTIFICATION=C       \n",
       "\n",
       "time zone: Europe/Zurich\n",
       "tzcode source: system (glibc)\n",
       "\n",
       "attached base packages:\n",
       "[1] stats     graphics  grDevices utils     datasets  methods   base     \n",
       "\n",
       "other attached packages:\n",
       " [1] lubridate_1.9.3 forcats_1.0.0   stringr_1.5.1   dplyr_1.1.4    \n",
       " [5] purrr_1.0.2     readr_2.1.5     tidyr_1.3.0     tibble_3.2.1   \n",
       " [9] tidyverse_2.0.0 scales_1.3.0    ggpubr_0.6.0    ggplot2_3.4.4  \n",
       "\n",
       "loaded via a namespace (and not attached):\n",
       " [1] gtable_0.3.4     jsonlite_1.8.8   compiler_4.3.2   ggsignif_0.6.4  \n",
       " [5] crayon_1.5.2     tidyselect_1.2.0 IRdisplay_1.1    uuid_1.2-0      \n",
       " [9] fastmap_1.1.1    IRkernel_1.3.2   R6_2.5.1         generics_0.1.3  \n",
       "[13] backports_1.4.1  car_3.1-2        munsell_0.5.0    tzdb_0.4.0      \n",
       "[17] pillar_1.9.0     rlang_1.1.3      utf8_1.2.4       stringi_1.8.3   \n",
       "[21] broom_1.0.5      repr_1.1.6       timechange_0.3.0 cli_3.6.2       \n",
       "[25] withr_3.0.0      magrittr_2.0.3   digest_0.6.34    grid_4.3.2      \n",
       "[29] hms_1.1.3        base64enc_0.1-3  pbdZMQ_0.3-11    lifecycle_1.0.4 \n",
       "[33] vctrs_0.6.5      rstatix_0.7.2    evaluate_0.23    glue_1.7.0      \n",
       "[37] abind_1.4-5      carData_3.0-5    fansi_1.0.6      colorspace_2.1-0\n",
       "[41] tools_4.3.2      pkgconfig_2.0.3  htmltools_0.5.7 "
      ]
     },
     "metadata": {},
     "output_type": "display_data"
    }
   ],
   "source": [
    "sessionInfo()"
   ]
  },
  {
   "cell_type": "code",
   "execution_count": 3,
   "id": "80e847d3-bb64-417f-88c8-bd23a821cc62",
   "metadata": {
    "tags": []
   },
   "outputs": [],
   "source": [
    "jaccard <- function(a, b) {\n",
    "    intersection = length(intersect(a, b))\n",
    "    union = length(a) + length(b) - intersection\n",
    "    return (intersection/union)\n",
    "}"
   ]
  },
  {
   "cell_type": "code",
   "execution_count": 4,
   "id": "888d60f3-93bc-47e4-bea6-291dba4bb974",
   "metadata": {
    "tags": []
   },
   "outputs": [],
   "source": [
    "confusion_matrix <- function(a,b,not_a){\n",
    "    p = length(a)\n",
    "    n=  length(not_a)\n",
    "    total = p+n\n",
    "    tp = length(intersect(a, b))\n",
    "    fn = p-tp\n",
    "    fp = length(setdiff(b,a))\n",
    "    tn = n - fp\n",
    "    return(list(tp,fn,fp,tn))\n",
    "}"
   ]
  },
  {
   "cell_type": "code",
   "execution_count": 5,
   "id": "4ec11add-60d1-4493-aed8-902cc66a0987",
   "metadata": {
    "tags": []
   },
   "outputs": [
    {
     "data": {
      "text/html": [
       "0"
      ],
      "text/latex": [
       "0"
      ],
      "text/markdown": [
       "0"
      ],
      "text/plain": [
       "[1] 0"
      ]
     },
     "metadata": {},
     "output_type": "display_data"
    }
   ],
   "source": [
    "a <- c(1:10)\n",
    "b <- c(20:100)\n",
    "jaccard(a,b)"
   ]
  },
  {
   "cell_type": "markdown",
   "id": "21f6eb3b-1b61-4f3a-8e56-2aa89724a887",
   "metadata": {},
   "source": [
    "# Pan-Cancer"
   ]
  },
  {
   "cell_type": "markdown",
   "id": "dc3705f4-e0fb-460f-98af-6df3a48043fc",
   "metadata": {
    "tags": []
   },
   "source": [
    "## SelectSim"
   ]
  },
  {
   "cell_type": "code",
   "execution_count": 6,
   "id": "ddf68b72-bd65-4c22-a806-039ff6e61244",
   "metadata": {
    "tags": []
   },
   "outputs": [],
   "source": [
    "select_orginal <- readRDS('/mnt/ptemp/arvind/catalogue_work_update/data/results/pan_can/pan_can_tcga_run_result.rds')"
   ]
  },
  {
   "cell_type": "code",
   "execution_count": 7,
   "id": "c68462d9-eff6-4eca-be39-2de61732132a",
   "metadata": {
    "tags": []
   },
   "outputs": [],
   "source": [
    "boot_results <- list()\n",
    "k=1\n",
    "for (i in c(31:35)){\n",
    "    name <- paste('/mnt/ptemp/arvind/robustness_analysis/TCGA robustness analysis/output_v4/sampling_run_results_',i,'.rds',sep=\"\")\n",
    "    boot_results[[k]] <- (readRDS(file=name))$result\n",
    "    k=k+1\n",
    "}"
   ]
  },
  {
   "cell_type": "code",
   "execution_count": 8,
   "id": "1f4d303f-d07e-4a03-8559-073178539d04",
   "metadata": {},
   "outputs": [
    {
     "data": {
      "text/html": [
       "5"
      ],
      "text/latex": [
       "5"
      ],
      "text/markdown": [
       "5"
      ],
      "text/plain": [
       "[1] 5"
      ]
     },
     "metadata": {},
     "output_type": "display_data"
    }
   ],
   "source": [
    "length(boot_results)"
   ]
  },
  {
   "cell_type": "code",
   "execution_count": 9,
   "id": "e3f1cfdb-09bc-4c19-8f93-97c780dca756",
   "metadata": {},
   "outputs": [
    {
     "data": {
      "text/html": [
       "<table class=\"dataframe\">\n",
       "<caption>A data.frame: 6 × 22</caption>\n",
       "<thead>\n",
       "\t<tr><th></th><th scope=col>SFE_1</th><th scope=col>SFE_2</th><th scope=col>name</th><th scope=col>support_1</th><th scope=col>support_2</th><th scope=col>freq_1</th><th scope=col>freq_2</th><th scope=col>overlap</th><th scope=col>w_overlap</th><th scope=col>max_overlap</th><th scope=col>⋯</th><th scope=col>w_r_overlap</th><th scope=col>wES</th><th scope=col>wFDR</th><th scope=col>nES</th><th scope=col>mean_r_nES</th><th scope=col>nFDR</th><th scope=col>cum_freq</th><th scope=col>nFDR2</th><th scope=col>type</th><th scope=col>FDR</th></tr>\n",
       "\t<tr><th></th><th scope=col>&lt;chr&gt;</th><th scope=col>&lt;chr&gt;</th><th scope=col>&lt;chr&gt;</th><th scope=col>&lt;dbl&gt;</th><th scope=col>&lt;dbl&gt;</th><th scope=col>&lt;dbl&gt;</th><th scope=col>&lt;dbl&gt;</th><th scope=col>&lt;dbl&gt;</th><th scope=col>&lt;dbl&gt;</th><th scope=col>&lt;dbl&gt;</th><th scope=col>⋯</th><th scope=col>&lt;dbl&gt;</th><th scope=col>&lt;dbl&gt;</th><th scope=col>&lt;dbl&gt;</th><th scope=col>&lt;dbl&gt;</th><th scope=col>&lt;dbl&gt;</th><th scope=col>&lt;dbl&gt;</th><th scope=col>&lt;dbl&gt;</th><th scope=col>&lt;dbl&gt;</th><th scope=col>&lt;chr&gt;</th><th scope=col>&lt;lgl&gt;</th></tr>\n",
       "</thead>\n",
       "<tbody>\n",
       "\t<tr><th scope=row>PIK3CA - TP53</th><td>PIK3CA</td><td>TP53  </td><td>PIK3CA - TP53</td><td> 899</td><td>2443</td><td>0.12372695</td><td>0.33622351</td><td>287</td><td>255.945882</td><td>526</td><td>⋯</td><td>312.75982</td><td>-40.17352</td><td>0.0000000000</td><td>-33.83972</td><td>-6.333800</td><td>0.0000000000</td><td>3342</td><td>0.0000000000</td><td>ME</td><td>TRUE</td></tr>\n",
       "\t<tr><th scope=row>BRAF - TP53</th><td>BRAF  </td><td>TP53  </td><td>BRAF - TP53  </td><td> 467</td><td>2443</td><td>0.06427195</td><td>0.33622351</td><td> 63</td><td> 42.680952</td><td>139</td><td>⋯</td><td> 92.80300</td><td>-35.44164</td><td>0.0000000000</td><td>-31.35929</td><td>-4.082348</td><td>0.0000000000</td><td>2910</td><td>0.0000000000</td><td>ME</td><td>TRUE</td></tr>\n",
       "\t<tr><th scope=row>KRAS - TP53</th><td>KRAS  </td><td>TP53  </td><td>KRAS - TP53  </td><td> 555</td><td>2443</td><td>0.07638315</td><td>0.33622351</td><td>213</td><td>198.477002</td><td>464</td><td>⋯</td><td>244.89883</td><td>-32.82519</td><td>0.0000000000</td><td>-27.66273</td><td>-5.162455</td><td>0.0000000000</td><td>2998</td><td>0.0000000000</td><td>ME</td><td>TRUE</td></tr>\n",
       "\t<tr><th scope=row>TP53 - ARID1A</th><td>TP53  </td><td>ARID1A</td><td>TP53 - ARID1A</td><td>2443</td><td> 438</td><td>0.33622351</td><td>0.06028076</td><td>111</td><td> 88.565879</td><td>285</td><td>⋯</td><td>133.66527</td><td>-31.89009</td><td>0.0000000000</td><td>-27.28199</td><td>-4.608097</td><td>0.0000000000</td><td>2881</td><td>0.0000000000</td><td>ME</td><td>TRUE</td></tr>\n",
       "\t<tr><th scope=row>BRAF - NRAS</th><td>BRAF  </td><td>NRAS  </td><td>BRAF - NRAS  </td><td> 467</td><td> 190</td><td>0.06427195</td><td>0.02614919</td><td>  7</td><td>  3.801353</td><td>148</td><td>⋯</td><td> 41.73186</td><td>-26.82092</td><td>0.0003178134</td><td>-24.31588</td><td>-2.505038</td><td>0.0000000000</td><td> 657</td><td>0.0000000000</td><td>ME</td><td>TRUE</td></tr>\n",
       "\t<tr><th scope=row>CTNNB1 - TP53</th><td>CTNNB1</td><td>TP53  </td><td>CTNNB1 - TP53</td><td> 241</td><td>2443</td><td>0.03316818</td><td>0.33622351</td><td> 39</td><td> 34.700267</td><td>186</td><td>⋯</td><td> 72.86760</td><td>-26.98838</td><td>0.0003707824</td><td>-23.49519</td><td>-3.493186</td><td>0.0001853912</td><td>2684</td><td>0.0002224694</td><td>ME</td><td>TRUE</td></tr>\n",
       "</tbody>\n",
       "</table>\n"
      ],
      "text/latex": [
       "A data.frame: 6 × 22\n",
       "\\begin{tabular}{r|lllllllllllllllllllll}\n",
       "  & SFE\\_1 & SFE\\_2 & name & support\\_1 & support\\_2 & freq\\_1 & freq\\_2 & overlap & w\\_overlap & max\\_overlap & ⋯ & w\\_r\\_overlap & wES & wFDR & nES & mean\\_r\\_nES & nFDR & cum\\_freq & nFDR2 & type & FDR\\\\\n",
       "  & <chr> & <chr> & <chr> & <dbl> & <dbl> & <dbl> & <dbl> & <dbl> & <dbl> & <dbl> & ⋯ & <dbl> & <dbl> & <dbl> & <dbl> & <dbl> & <dbl> & <dbl> & <dbl> & <chr> & <lgl>\\\\\n",
       "\\hline\n",
       "\tPIK3CA - TP53 & PIK3CA & TP53   & PIK3CA - TP53 &  899 & 2443 & 0.12372695 & 0.33622351 & 287 & 255.945882 & 526 & ⋯ & 312.75982 & -40.17352 & 0.0000000000 & -33.83972 & -6.333800 & 0.0000000000 & 3342 & 0.0000000000 & ME & TRUE\\\\\n",
       "\tBRAF - TP53 & BRAF   & TP53   & BRAF - TP53   &  467 & 2443 & 0.06427195 & 0.33622351 &  63 &  42.680952 & 139 & ⋯ &  92.80300 & -35.44164 & 0.0000000000 & -31.35929 & -4.082348 & 0.0000000000 & 2910 & 0.0000000000 & ME & TRUE\\\\\n",
       "\tKRAS - TP53 & KRAS   & TP53   & KRAS - TP53   &  555 & 2443 & 0.07638315 & 0.33622351 & 213 & 198.477002 & 464 & ⋯ & 244.89883 & -32.82519 & 0.0000000000 & -27.66273 & -5.162455 & 0.0000000000 & 2998 & 0.0000000000 & ME & TRUE\\\\\n",
       "\tTP53 - ARID1A & TP53   & ARID1A & TP53 - ARID1A & 2443 &  438 & 0.33622351 & 0.06028076 & 111 &  88.565879 & 285 & ⋯ & 133.66527 & -31.89009 & 0.0000000000 & -27.28199 & -4.608097 & 0.0000000000 & 2881 & 0.0000000000 & ME & TRUE\\\\\n",
       "\tBRAF - NRAS & BRAF   & NRAS   & BRAF - NRAS   &  467 &  190 & 0.06427195 & 0.02614919 &   7 &   3.801353 & 148 & ⋯ &  41.73186 & -26.82092 & 0.0003178134 & -24.31588 & -2.505038 & 0.0000000000 &  657 & 0.0000000000 & ME & TRUE\\\\\n",
       "\tCTNNB1 - TP53 & CTNNB1 & TP53   & CTNNB1 - TP53 &  241 & 2443 & 0.03316818 & 0.33622351 &  39 &  34.700267 & 186 & ⋯ &  72.86760 & -26.98838 & 0.0003707824 & -23.49519 & -3.493186 & 0.0001853912 & 2684 & 0.0002224694 & ME & TRUE\\\\\n",
       "\\end{tabular}\n"
      ],
      "text/markdown": [
       "\n",
       "A data.frame: 6 × 22\n",
       "\n",
       "| <!--/--> | SFE_1 &lt;chr&gt; | SFE_2 &lt;chr&gt; | name &lt;chr&gt; | support_1 &lt;dbl&gt; | support_2 &lt;dbl&gt; | freq_1 &lt;dbl&gt; | freq_2 &lt;dbl&gt; | overlap &lt;dbl&gt; | w_overlap &lt;dbl&gt; | max_overlap &lt;dbl&gt; | ⋯ ⋯ | w_r_overlap &lt;dbl&gt; | wES &lt;dbl&gt; | wFDR &lt;dbl&gt; | nES &lt;dbl&gt; | mean_r_nES &lt;dbl&gt; | nFDR &lt;dbl&gt; | cum_freq &lt;dbl&gt; | nFDR2 &lt;dbl&gt; | type &lt;chr&gt; | FDR &lt;lgl&gt; |\n",
       "|---|---|---|---|---|---|---|---|---|---|---|---|---|---|---|---|---|---|---|---|---|---|\n",
       "| PIK3CA - TP53 | PIK3CA | TP53   | PIK3CA - TP53 |  899 | 2443 | 0.12372695 | 0.33622351 | 287 | 255.945882 | 526 | ⋯ | 312.75982 | -40.17352 | 0.0000000000 | -33.83972 | -6.333800 | 0.0000000000 | 3342 | 0.0000000000 | ME | TRUE |\n",
       "| BRAF - TP53 | BRAF   | TP53   | BRAF - TP53   |  467 | 2443 | 0.06427195 | 0.33622351 |  63 |  42.680952 | 139 | ⋯ |  92.80300 | -35.44164 | 0.0000000000 | -31.35929 | -4.082348 | 0.0000000000 | 2910 | 0.0000000000 | ME | TRUE |\n",
       "| KRAS - TP53 | KRAS   | TP53   | KRAS - TP53   |  555 | 2443 | 0.07638315 | 0.33622351 | 213 | 198.477002 | 464 | ⋯ | 244.89883 | -32.82519 | 0.0000000000 | -27.66273 | -5.162455 | 0.0000000000 | 2998 | 0.0000000000 | ME | TRUE |\n",
       "| TP53 - ARID1A | TP53   | ARID1A | TP53 - ARID1A | 2443 |  438 | 0.33622351 | 0.06028076 | 111 |  88.565879 | 285 | ⋯ | 133.66527 | -31.89009 | 0.0000000000 | -27.28199 | -4.608097 | 0.0000000000 | 2881 | 0.0000000000 | ME | TRUE |\n",
       "| BRAF - NRAS | BRAF   | NRAS   | BRAF - NRAS   |  467 |  190 | 0.06427195 | 0.02614919 |   7 |   3.801353 | 148 | ⋯ |  41.73186 | -26.82092 | 0.0003178134 | -24.31588 | -2.505038 | 0.0000000000 |  657 | 0.0000000000 | ME | TRUE |\n",
       "| CTNNB1 - TP53 | CTNNB1 | TP53   | CTNNB1 - TP53 |  241 | 2443 | 0.03316818 | 0.33622351 |  39 |  34.700267 | 186 | ⋯ |  72.86760 | -26.98838 | 0.0003707824 | -23.49519 | -3.493186 | 0.0001853912 | 2684 | 0.0002224694 | ME | TRUE |\n",
       "\n"
      ],
      "text/plain": [
       "              SFE_1  SFE_2  name          support_1 support_2 freq_1    \n",
       "PIK3CA - TP53 PIK3CA TP53   PIK3CA - TP53  899      2443      0.12372695\n",
       "BRAF - TP53   BRAF   TP53   BRAF - TP53    467      2443      0.06427195\n",
       "KRAS - TP53   KRAS   TP53   KRAS - TP53    555      2443      0.07638315\n",
       "TP53 - ARID1A TP53   ARID1A TP53 - ARID1A 2443       438      0.33622351\n",
       "BRAF - NRAS   BRAF   NRAS   BRAF - NRAS    467       190      0.06427195\n",
       "CTNNB1 - TP53 CTNNB1 TP53   CTNNB1 - TP53  241      2443      0.03316818\n",
       "              freq_2     overlap w_overlap  max_overlap ⋯ w_r_overlap wES      \n",
       "PIK3CA - TP53 0.33622351 287     255.945882 526         ⋯ 312.75982   -40.17352\n",
       "BRAF - TP53   0.33622351  63      42.680952 139         ⋯  92.80300   -35.44164\n",
       "KRAS - TP53   0.33622351 213     198.477002 464         ⋯ 244.89883   -32.82519\n",
       "TP53 - ARID1A 0.06028076 111      88.565879 285         ⋯ 133.66527   -31.89009\n",
       "BRAF - NRAS   0.02614919   7       3.801353 148         ⋯  41.73186   -26.82092\n",
       "CTNNB1 - TP53 0.33622351  39      34.700267 186         ⋯  72.86760   -26.98838\n",
       "              wFDR         nES       mean_r_nES nFDR         cum_freq\n",
       "PIK3CA - TP53 0.0000000000 -33.83972 -6.333800  0.0000000000 3342    \n",
       "BRAF - TP53   0.0000000000 -31.35929 -4.082348  0.0000000000 2910    \n",
       "KRAS - TP53   0.0000000000 -27.66273 -5.162455  0.0000000000 2998    \n",
       "TP53 - ARID1A 0.0000000000 -27.28199 -4.608097  0.0000000000 2881    \n",
       "BRAF - NRAS   0.0003178134 -24.31588 -2.505038  0.0000000000  657    \n",
       "CTNNB1 - TP53 0.0003707824 -23.49519 -3.493186  0.0001853912 2684    \n",
       "              nFDR2        type FDR \n",
       "PIK3CA - TP53 0.0000000000 ME   TRUE\n",
       "BRAF - TP53   0.0000000000 ME   TRUE\n",
       "KRAS - TP53   0.0000000000 ME   TRUE\n",
       "TP53 - ARID1A 0.0000000000 ME   TRUE\n",
       "BRAF - NRAS   0.0000000000 ME   TRUE\n",
       "CTNNB1 - TP53 0.0002224694 ME   TRUE"
      ]
     },
     "metadata": {},
     "output_type": "display_data"
    }
   ],
   "source": [
    "head(boot_results[[1]])"
   ]
  },
  {
   "cell_type": "code",
   "execution_count": 10,
   "id": "456c4ceb-e41c-4fbd-8899-43ca4e8ad880",
   "metadata": {},
   "outputs": [],
   "source": [
    "selectX_100_pct_significnat_results <- select_orginal %>% filter(nFDR2<=0.25) "
   ]
  },
  {
   "cell_type": "code",
   "execution_count": 11,
   "id": "20111566-30bf-4d27-9d3c-89aef6d24521",
   "metadata": {},
   "outputs": [],
   "source": [
    "score_df<-data.frame('pairs'=selectX_100_pct_significnat_results$name)\n",
    "rownames(score_df)<-score_df$pairs\n",
    "#score_df$Run_100<-1"
   ]
  },
  {
   "cell_type": "code",
   "execution_count": 12,
   "id": "5529c863-e9c8-45ed-b320-733b454dcee2",
   "metadata": {},
   "outputs": [],
   "source": [
    "selectX_mcc <- list()\n",
    "selectX_recall<-list()"
   ]
  },
  {
   "cell_type": "code",
   "execution_count": 13,
   "id": "6dd39427-0e25-4a76-a70c-7104a8402fdd",
   "metadata": {},
   "outputs": [],
   "source": [
    "for (t in c(1:5)){\n",
    "    temp <- (boot_results[[t]] %>% filter(name %in% score_df$pairs) %>% filter(nFDR2<=0.25))$name\n",
    "    conf <- confusion_matrix(score_df$pairs,temp,setdiff(select_orginal$name,score_df$pairs))\n",
    "    a<- as.numeric((conf[[1]]+conf[[3]]))\n",
    "    b<- as.numeric((conf[[1]]+conf[[2]]))\n",
    "    c<- as.numeric((conf[[4]]+conf[[2]]))   \n",
    "    d<- as.numeric((conf[[4]]+conf[[3]])) \n",
    "    e <- as.numeric((conf[[1]]*conf[[4]]))\n",
    "    f <- as.numeric((conf[[2]]*conf[[3]]))\n",
    "    g <- as.numeric(e-f)\n",
    "    h <- as.numeric(a*b*c*d)\n",
    "    i <- sqrt(h)\n",
    "    mcc <- g/i\n",
    "    selectX_mcc[[t]]<-mcc\n",
    "    selectX_recall <- conf[[1]]/(conf[[1]]+conf[[2]])\n",
    "}"
   ]
  },
  {
   "cell_type": "markdown",
   "id": "48967903-a0f6-4f6b-992a-48a9acf4f31d",
   "metadata": {
    "tags": []
   },
   "source": [
    "## Select"
   ]
  },
  {
   "cell_type": "code",
   "execution_count": 14,
   "id": "5af50c26-0282-477e-a4eb-42761d4138fc",
   "metadata": {},
   "outputs": [],
   "source": [
    "select_orginal <- readRDS('/mnt/ptemp/arvind/tool_comaprision/results/select/tcga_select_all_results.rds')"
   ]
  },
  {
   "cell_type": "code",
   "execution_count": 15,
   "id": "e6b4e299-53cd-459a-b0f4-97f4b24d7e5f",
   "metadata": {},
   "outputs": [],
   "source": [
    "boot_results <- list()\n",
    "k=1\n",
    "for (i in c(1:5)){\n",
    "    name <- paste('/mnt/ptemp/arvind/tool_comaprision/results/select/sampling_run_tcga_result_80_',i,'.rds',sep=\"\")\n",
    "    boot_results[[k]] <- readRDS(file=name)\n",
    "    k=k+1\n",
    "}"
   ]
  },
  {
   "cell_type": "code",
   "execution_count": 16,
   "id": "0a8f45f4-bb14-4e5b-bf5d-67cfc629979d",
   "metadata": {},
   "outputs": [
    {
     "data": {
      "text/html": [
       "5"
      ],
      "text/latex": [
       "5"
      ],
      "text/markdown": [
       "5"
      ],
      "text/plain": [
       "[1] 5"
      ]
     },
     "metadata": {},
     "output_type": "display_data"
    }
   ],
   "source": [
    "length(boot_results)"
   ]
  },
  {
   "cell_type": "code",
   "execution_count": 17,
   "id": "fc8a75a4-a037-4e3e-b364-5879f2ed809c",
   "metadata": {},
   "outputs": [
    {
     "data": {
      "text/html": [
       "<table class=\"dataframe\">\n",
       "<caption>A data.frame: 6 × 26</caption>\n",
       "<thead>\n",
       "\t<tr><th></th><th scope=col>SFE_1</th><th scope=col>SFE_2</th><th scope=col>name</th><th scope=col>type_1</th><th scope=col>type_2</th><th scope=col>int_type</th><th scope=col>support_1</th><th scope=col>support_2</th><th scope=col>freq_1</th><th scope=col>freq_2</th><th scope=col>⋯</th><th scope=col>abs_diff_overlap</th><th scope=col>direction</th><th scope=col>wMI_stat</th><th scope=col>wMI_p.value</th><th scope=col>ME_p.value</th><th scope=col>E.r.wMI_stat</th><th scope=col>MI_diff</th><th scope=col>wMI_p.value_FDR</th><th scope=col>select_score_good_cancer_cell_2017_criterion_1</th><th scope=col>select_score</th></tr>\n",
       "\t<tr><th></th><th scope=col>&lt;chr&gt;</th><th scope=col>&lt;chr&gt;</th><th scope=col>&lt;chr&gt;</th><th scope=col>&lt;chr&gt;</th><th scope=col>&lt;chr&gt;</th><th scope=col>&lt;chr&gt;</th><th scope=col>&lt;dbl&gt;</th><th scope=col>&lt;dbl&gt;</th><th scope=col>&lt;dbl&gt;</th><th scope=col>&lt;dbl&gt;</th><th scope=col>⋯</th><th scope=col>&lt;dbl&gt;</th><th scope=col>&lt;chr&gt;</th><th scope=col>&lt;dbl&gt;</th><th scope=col>&lt;dbl&gt;</th><th scope=col>&lt;dbl&gt;</th><th scope=col>&lt;dbl&gt;</th><th scope=col>&lt;dbl&gt;</th><th scope=col>&lt;lgl&gt;</th><th scope=col>&lt;lgl&gt;</th><th scope=col>&lt;dbl&gt;</th></tr>\n",
       "</thead>\n",
       "<tbody>\n",
       "\t<tr><th scope=row>AKT1 - ALK</th><td>AKT1</td><td>ALK </td><td>AKT1 - ALK </td><td>MUT</td><td>MUT</td><td>MUT - MUT</td><td>57</td><td> 29</td><td>0.009463722</td><td>0.004814876</td><td>⋯</td><td>0.340</td><td>CO</td><td>2.365631e-04</td><td>0.893</td><td>0.490</td><td>0.002503087</td><td>-0.002266524</td><td>FALSE</td><td>FALSE</td><td>          NA</td></tr>\n",
       "\t<tr><th scope=row>AKT1 - APC</th><td>AKT1</td><td>APC </td><td>AKT1 - APC </td><td>MUT</td><td>MUT</td><td>MUT - MUT</td><td>57</td><td>370</td><td>0.009463722</td><td>0.061431180</td><td>⋯</td><td>0.910</td><td>ME</td><td>1.017148e-02</td><td>0.401</td><td>0.401</td><td>0.010171477</td><td> 0.000000000</td><td>FALSE</td><td>FALSE</td><td>          NA</td></tr>\n",
       "\t<tr><th scope=row>AKT1 - AR</th><td>AKT1</td><td>AR  </td><td>AKT1 - AR  </td><td>MUT</td><td>MUT</td><td>MUT - MUT</td><td>57</td><td> 21</td><td>0.009463722</td><td>0.003486635</td><td>⋯</td><td>0.576</td><td>CO</td><td>3.728933e-05</td><td>1.000</td><td>0.352</td><td>0.001904909</td><td>-0.001867620</td><td>FALSE</td><td>FALSE</td><td>          NA</td></tr>\n",
       "\t<tr><th scope=row>AKT1 - ATM</th><td>AKT1</td><td>ATM </td><td>AKT1 - ATM </td><td>MUT</td><td>MUT</td><td>MUT - MUT</td><td>57</td><td>181</td><td>0.009463722</td><td>0.030051469</td><td>⋯</td><td>0.729</td><td>CO</td><td>8.141605e-04</td><td>0.786</td><td>0.414</td><td>0.002666180</td><td>-0.001852019</td><td>FALSE</td><td>FALSE</td><td>          NA</td></tr>\n",
       "\t<tr><th scope=row>AKT1 - BAP1</th><td>AKT1</td><td>BAP1</td><td>AKT1 - BAP1</td><td>MUT</td><td>MUT</td><td>MUT - MUT</td><td>57</td><td> 86</td><td>0.009463722</td><td>0.014278599</td><td>⋯</td><td>0.484</td><td>ME</td><td>5.076404e-03</td><td>0.602</td><td>0.602</td><td>0.005076404</td><td> 0.000000000</td><td>FALSE</td><td>FALSE</td><td>          NA</td></tr>\n",
       "\t<tr><th scope=row>AKT1 - BRAF</th><td>AKT1</td><td>BRAF</td><td>AKT1 - BRAF</td><td>MUT</td><td>MUT</td><td>MUT - MUT</td><td>57</td><td>467</td><td>0.009463722</td><td>0.077536112</td><td>⋯</td><td>4.881</td><td>CO</td><td>1.129453e-03</td><td>1.000</td><td>0.003</td><td>0.006048236</td><td>-0.004918783</td><td>FALSE</td><td>FALSE</td><td>0.0003347614</td></tr>\n",
       "</tbody>\n",
       "</table>\n"
      ],
      "text/latex": [
       "A data.frame: 6 × 26\n",
       "\\begin{tabular}{r|lllllllllllllllllllll}\n",
       "  & SFE\\_1 & SFE\\_2 & name & type\\_1 & type\\_2 & int\\_type & support\\_1 & support\\_2 & freq\\_1 & freq\\_2 & ⋯ & abs\\_diff\\_overlap & direction & wMI\\_stat & wMI\\_p.value & ME\\_p.value & E.r.wMI\\_stat & MI\\_diff & wMI\\_p.value\\_FDR & select\\_score\\_good\\_cancer\\_cell\\_2017\\_criterion\\_1 & select\\_score\\\\\n",
       "  & <chr> & <chr> & <chr> & <chr> & <chr> & <chr> & <dbl> & <dbl> & <dbl> & <dbl> & ⋯ & <dbl> & <chr> & <dbl> & <dbl> & <dbl> & <dbl> & <dbl> & <lgl> & <lgl> & <dbl>\\\\\n",
       "\\hline\n",
       "\tAKT1 - ALK & AKT1 & ALK  & AKT1 - ALK  & MUT & MUT & MUT - MUT & 57 &  29 & 0.009463722 & 0.004814876 & ⋯ & 0.340 & CO & 2.365631e-04 & 0.893 & 0.490 & 0.002503087 & -0.002266524 & FALSE & FALSE &           NA\\\\\n",
       "\tAKT1 - APC & AKT1 & APC  & AKT1 - APC  & MUT & MUT & MUT - MUT & 57 & 370 & 0.009463722 & 0.061431180 & ⋯ & 0.910 & ME & 1.017148e-02 & 0.401 & 0.401 & 0.010171477 &  0.000000000 & FALSE & FALSE &           NA\\\\\n",
       "\tAKT1 - AR & AKT1 & AR   & AKT1 - AR   & MUT & MUT & MUT - MUT & 57 &  21 & 0.009463722 & 0.003486635 & ⋯ & 0.576 & CO & 3.728933e-05 & 1.000 & 0.352 & 0.001904909 & -0.001867620 & FALSE & FALSE &           NA\\\\\n",
       "\tAKT1 - ATM & AKT1 & ATM  & AKT1 - ATM  & MUT & MUT & MUT - MUT & 57 & 181 & 0.009463722 & 0.030051469 & ⋯ & 0.729 & CO & 8.141605e-04 & 0.786 & 0.414 & 0.002666180 & -0.001852019 & FALSE & FALSE &           NA\\\\\n",
       "\tAKT1 - BAP1 & AKT1 & BAP1 & AKT1 - BAP1 & MUT & MUT & MUT - MUT & 57 &  86 & 0.009463722 & 0.014278599 & ⋯ & 0.484 & ME & 5.076404e-03 & 0.602 & 0.602 & 0.005076404 &  0.000000000 & FALSE & FALSE &           NA\\\\\n",
       "\tAKT1 - BRAF & AKT1 & BRAF & AKT1 - BRAF & MUT & MUT & MUT - MUT & 57 & 467 & 0.009463722 & 0.077536112 & ⋯ & 4.881 & CO & 1.129453e-03 & 1.000 & 0.003 & 0.006048236 & -0.004918783 & FALSE & FALSE & 0.0003347614\\\\\n",
       "\\end{tabular}\n"
      ],
      "text/markdown": [
       "\n",
       "A data.frame: 6 × 26\n",
       "\n",
       "| <!--/--> | SFE_1 &lt;chr&gt; | SFE_2 &lt;chr&gt; | name &lt;chr&gt; | type_1 &lt;chr&gt; | type_2 &lt;chr&gt; | int_type &lt;chr&gt; | support_1 &lt;dbl&gt; | support_2 &lt;dbl&gt; | freq_1 &lt;dbl&gt; | freq_2 &lt;dbl&gt; | ⋯ ⋯ | abs_diff_overlap &lt;dbl&gt; | direction &lt;chr&gt; | wMI_stat &lt;dbl&gt; | wMI_p.value &lt;dbl&gt; | ME_p.value &lt;dbl&gt; | E.r.wMI_stat &lt;dbl&gt; | MI_diff &lt;dbl&gt; | wMI_p.value_FDR &lt;lgl&gt; | select_score_good_cancer_cell_2017_criterion_1 &lt;lgl&gt; | select_score &lt;dbl&gt; |\n",
       "|---|---|---|---|---|---|---|---|---|---|---|---|---|---|---|---|---|---|---|---|---|---|\n",
       "| AKT1 - ALK | AKT1 | ALK  | AKT1 - ALK  | MUT | MUT | MUT - MUT | 57 |  29 | 0.009463722 | 0.004814876 | ⋯ | 0.340 | CO | 2.365631e-04 | 0.893 | 0.490 | 0.002503087 | -0.002266524 | FALSE | FALSE |           NA |\n",
       "| AKT1 - APC | AKT1 | APC  | AKT1 - APC  | MUT | MUT | MUT - MUT | 57 | 370 | 0.009463722 | 0.061431180 | ⋯ | 0.910 | ME | 1.017148e-02 | 0.401 | 0.401 | 0.010171477 |  0.000000000 | FALSE | FALSE |           NA |\n",
       "| AKT1 - AR | AKT1 | AR   | AKT1 - AR   | MUT | MUT | MUT - MUT | 57 |  21 | 0.009463722 | 0.003486635 | ⋯ | 0.576 | CO | 3.728933e-05 | 1.000 | 0.352 | 0.001904909 | -0.001867620 | FALSE | FALSE |           NA |\n",
       "| AKT1 - ATM | AKT1 | ATM  | AKT1 - ATM  | MUT | MUT | MUT - MUT | 57 | 181 | 0.009463722 | 0.030051469 | ⋯ | 0.729 | CO | 8.141605e-04 | 0.786 | 0.414 | 0.002666180 | -0.001852019 | FALSE | FALSE |           NA |\n",
       "| AKT1 - BAP1 | AKT1 | BAP1 | AKT1 - BAP1 | MUT | MUT | MUT - MUT | 57 |  86 | 0.009463722 | 0.014278599 | ⋯ | 0.484 | ME | 5.076404e-03 | 0.602 | 0.602 | 0.005076404 |  0.000000000 | FALSE | FALSE |           NA |\n",
       "| AKT1 - BRAF | AKT1 | BRAF | AKT1 - BRAF | MUT | MUT | MUT - MUT | 57 | 467 | 0.009463722 | 0.077536112 | ⋯ | 4.881 | CO | 1.129453e-03 | 1.000 | 0.003 | 0.006048236 | -0.004918783 | FALSE | FALSE | 0.0003347614 |\n",
       "\n"
      ],
      "text/plain": [
       "            SFE_1 SFE_2 name        type_1 type_2 int_type  support_1 support_2\n",
       "AKT1 - ALK  AKT1  ALK   AKT1 - ALK  MUT    MUT    MUT - MUT 57         29      \n",
       "AKT1 - APC  AKT1  APC   AKT1 - APC  MUT    MUT    MUT - MUT 57        370      \n",
       "AKT1 - AR   AKT1  AR    AKT1 - AR   MUT    MUT    MUT - MUT 57         21      \n",
       "AKT1 - ATM  AKT1  ATM   AKT1 - ATM  MUT    MUT    MUT - MUT 57        181      \n",
       "AKT1 - BAP1 AKT1  BAP1  AKT1 - BAP1 MUT    MUT    MUT - MUT 57         86      \n",
       "AKT1 - BRAF AKT1  BRAF  AKT1 - BRAF MUT    MUT    MUT - MUT 57        467      \n",
       "            freq_1      freq_2      ⋯ abs_diff_overlap direction wMI_stat    \n",
       "AKT1 - ALK  0.009463722 0.004814876 ⋯ 0.340            CO        2.365631e-04\n",
       "AKT1 - APC  0.009463722 0.061431180 ⋯ 0.910            ME        1.017148e-02\n",
       "AKT1 - AR   0.009463722 0.003486635 ⋯ 0.576            CO        3.728933e-05\n",
       "AKT1 - ATM  0.009463722 0.030051469 ⋯ 0.729            CO        8.141605e-04\n",
       "AKT1 - BAP1 0.009463722 0.014278599 ⋯ 0.484            ME        5.076404e-03\n",
       "AKT1 - BRAF 0.009463722 0.077536112 ⋯ 4.881            CO        1.129453e-03\n",
       "            wMI_p.value ME_p.value E.r.wMI_stat MI_diff      wMI_p.value_FDR\n",
       "AKT1 - ALK  0.893       0.490      0.002503087  -0.002266524 FALSE          \n",
       "AKT1 - APC  0.401       0.401      0.010171477   0.000000000 FALSE          \n",
       "AKT1 - AR   1.000       0.352      0.001904909  -0.001867620 FALSE          \n",
       "AKT1 - ATM  0.786       0.414      0.002666180  -0.001852019 FALSE          \n",
       "AKT1 - BAP1 0.602       0.602      0.005076404   0.000000000 FALSE          \n",
       "AKT1 - BRAF 1.000       0.003      0.006048236  -0.004918783 FALSE          \n",
       "            select_score_good_cancer_cell_2017_criterion_1 select_score\n",
       "AKT1 - ALK  FALSE                                                    NA\n",
       "AKT1 - APC  FALSE                                                    NA\n",
       "AKT1 - AR   FALSE                                                    NA\n",
       "AKT1 - ATM  FALSE                                                    NA\n",
       "AKT1 - BAP1 FALSE                                                    NA\n",
       "AKT1 - BRAF FALSE                                          0.0003347614"
      ]
     },
     "metadata": {},
     "output_type": "display_data"
    }
   ],
   "source": [
    "head(boot_results[[1]])"
   ]
  },
  {
   "cell_type": "code",
   "execution_count": 18,
   "id": "f81371a0-7803-4884-858a-6e8e8bcce1a7",
   "metadata": {},
   "outputs": [],
   "source": [
    "selectX_100_pct_significnat_results <- select_orginal %>% filter(wMI_p.value_FDR) "
   ]
  },
  {
   "cell_type": "code",
   "execution_count": 19,
   "id": "5cdd405c-94b1-40d1-95ea-a763514626be",
   "metadata": {},
   "outputs": [
    {
     "data": {
      "text/html": [
       "<table class=\"dataframe\">\n",
       "<caption>A data.frame: 1 × 1</caption>\n",
       "<thead>\n",
       "\t<tr><th scope=col>n</th></tr>\n",
       "\t<tr><th scope=col>&lt;int&gt;</th></tr>\n",
       "</thead>\n",
       "<tbody>\n",
       "\t<tr><td>196</td></tr>\n",
       "</tbody>\n",
       "</table>\n"
      ],
      "text/latex": [
       "A data.frame: 1 × 1\n",
       "\\begin{tabular}{l}\n",
       " n\\\\\n",
       " <int>\\\\\n",
       "\\hline\n",
       "\t 196\\\\\n",
       "\\end{tabular}\n"
      ],
      "text/markdown": [
       "\n",
       "A data.frame: 1 × 1\n",
       "\n",
       "| n &lt;int&gt; |\n",
       "|---|\n",
       "| 196 |\n",
       "\n"
      ],
      "text/plain": [
       "  n  \n",
       "1 196"
      ]
     },
     "metadata": {},
     "output_type": "display_data"
    }
   ],
   "source": [
    "select_orginal %>% filter(wMI_p.value_FDR)  %>% count()"
   ]
  },
  {
   "cell_type": "code",
   "execution_count": 20,
   "id": "fd900d14-08e7-4b09-8e5f-00f3bc93f0c7",
   "metadata": {},
   "outputs": [],
   "source": [
    "score_df<-data.frame('pairs'=selectX_100_pct_significnat_results$name)\n",
    "rownames(score_df)<-score_df$pairs\n",
    "#score_df$Run_100<-1"
   ]
  },
  {
   "cell_type": "code",
   "execution_count": 21,
   "id": "56c07efa-e297-4060-a38f-3a8f75c61f92",
   "metadata": {},
   "outputs": [
    {
     "data": {
      "text/html": [
       "<table class=\"dataframe\">\n",
       "<caption>A data.frame: 6 × 1</caption>\n",
       "<thead>\n",
       "\t<tr><th></th><th scope=col>pairs</th></tr>\n",
       "\t<tr><th></th><th scope=col>&lt;chr&gt;</th></tr>\n",
       "</thead>\n",
       "<tbody>\n",
       "\t<tr><th scope=row>AKT1 - PIK3CA</th><td>AKT1 - PIK3CA</td></tr>\n",
       "\t<tr><th scope=row>AKT1 - PIK3R1</th><td>AKT1 - PIK3R1</td></tr>\n",
       "\t<tr><th scope=row>AKT1 - PTEN</th><td>AKT1 - PTEN  </td></tr>\n",
       "\t<tr><th scope=row>AKT1 - MAP3K1</th><td>AKT1 - MAP3K1</td></tr>\n",
       "\t<tr><th scope=row>AKT1 - GAB1</th><td>AKT1 - GAB1  </td></tr>\n",
       "\t<tr><th scope=row>APC - BRAF</th><td>APC - BRAF   </td></tr>\n",
       "</tbody>\n",
       "</table>\n"
      ],
      "text/latex": [
       "A data.frame: 6 × 1\n",
       "\\begin{tabular}{r|l}\n",
       "  & pairs\\\\\n",
       "  & <chr>\\\\\n",
       "\\hline\n",
       "\tAKT1 - PIK3CA & AKT1 - PIK3CA\\\\\n",
       "\tAKT1 - PIK3R1 & AKT1 - PIK3R1\\\\\n",
       "\tAKT1 - PTEN & AKT1 - PTEN  \\\\\n",
       "\tAKT1 - MAP3K1 & AKT1 - MAP3K1\\\\\n",
       "\tAKT1 - GAB1 & AKT1 - GAB1  \\\\\n",
       "\tAPC - BRAF & APC - BRAF   \\\\\n",
       "\\end{tabular}\n"
      ],
      "text/markdown": [
       "\n",
       "A data.frame: 6 × 1\n",
       "\n",
       "| <!--/--> | pairs &lt;chr&gt; |\n",
       "|---|---|\n",
       "| AKT1 - PIK3CA | AKT1 - PIK3CA |\n",
       "| AKT1 - PIK3R1 | AKT1 - PIK3R1 |\n",
       "| AKT1 - PTEN | AKT1 - PTEN   |\n",
       "| AKT1 - MAP3K1 | AKT1 - MAP3K1 |\n",
       "| AKT1 - GAB1 | AKT1 - GAB1   |\n",
       "| APC - BRAF | APC - BRAF    |\n",
       "\n"
      ],
      "text/plain": [
       "              pairs        \n",
       "AKT1 - PIK3CA AKT1 - PIK3CA\n",
       "AKT1 - PIK3R1 AKT1 - PIK3R1\n",
       "AKT1 - PTEN   AKT1 - PTEN  \n",
       "AKT1 - MAP3K1 AKT1 - MAP3K1\n",
       "AKT1 - GAB1   AKT1 - GAB1  \n",
       "APC - BRAF    APC - BRAF   "
      ]
     },
     "metadata": {},
     "output_type": "display_data"
    }
   ],
   "source": [
    "head(score_df)"
   ]
  },
  {
   "cell_type": "code",
   "execution_count": 22,
   "id": "1f227661-34e4-42c0-8f85-f74d52b7e7dc",
   "metadata": {},
   "outputs": [],
   "source": [
    "select_mcc <- list()"
   ]
  },
  {
   "cell_type": "code",
   "execution_count": 23,
   "id": "8462670e-6c57-4cec-ac79-1b5be0235a8e",
   "metadata": {},
   "outputs": [],
   "source": [
    "for (t in c(1:5)){\n",
    "    #score_df[[paste('Run',i,sep=\"_\")]]<-0\n",
    "    temp <- (boot_results[[t]] %>% filter(name %in% score_df$pairs) %>% filter(wMI_p.value_FDR))$name\n",
    "    #select_jaccard[[i]]<-jaccard(score_df$pairs,temp)\n",
    "    conf <- confusion_matrix(score_df$pairs,temp,setdiff(select_orginal$name,score_df$pairs))\n",
    "    a<- as.numeric((conf[[1]]+conf[[3]]))\n",
    "    b<- as.numeric((conf[[1]]+conf[[2]]))\n",
    "    c<- as.numeric((conf[[4]]+conf[[2]]))   \n",
    "    d<- as.numeric((conf[[4]]+conf[[3]])) \n",
    "    e <- as.numeric((conf[[1]]*conf[[4]]))\n",
    "    f <- as.numeric((conf[[2]]*conf[[3]]))\n",
    "    g <- as.numeric(e-f)\n",
    "    h <- as.numeric(a*b*c*d)\n",
    "    i <- sqrt(h)\n",
    "    mcc <- g/i\n",
    "    select_mcc[[t]]<-mcc\n",
    "    #score_df[temp,][[paste('Run',i,sep=\"_\")]]<-1\n",
    "}"
   ]
  },
  {
   "cell_type": "markdown",
   "id": "d270809d-d208-406e-adc5-608c1a1f7979",
   "metadata": {},
   "source": [
    "## Discover"
   ]
  },
  {
   "cell_type": "code",
   "execution_count": 24,
   "id": "f49935ac-7637-47eb-a006-2b8f22594881",
   "metadata": {},
   "outputs": [],
   "source": [
    "select_orginal <- readRDS('/mnt/ptemp/arvind/tool_comaprision/results/Discover/tcga_all.rds')"
   ]
  },
  {
   "cell_type": "code",
   "execution_count": 25,
   "id": "0446adc3-117d-4622-8f10-ffce17472e90",
   "metadata": {},
   "outputs": [],
   "source": [
    "boot_results <- list()\n",
    "k=1\n",
    "for (i in c(1:5)){\n",
    "    name <- paste('/mnt/ptemp/arvind/tool_comaprision/results/Discover/sampling_run_tcga_result_80_',i,'.rds',sep=\"\")\n",
    "    boot_results[[k]] <- readRDS(file=name)\n",
    "    k=k+1\n",
    "}"
   ]
  },
  {
   "cell_type": "code",
   "execution_count": 26,
   "id": "962d0ab2-e1ee-4093-bbcb-14397d4490ac",
   "metadata": {},
   "outputs": [
    {
     "data": {
      "text/html": [
       "5"
      ],
      "text/latex": [
       "5"
      ],
      "text/markdown": [
       "5"
      ],
      "text/plain": [
       "[1] 5"
      ]
     },
     "metadata": {},
     "output_type": "display_data"
    }
   ],
   "source": [
    "length(boot_results)"
   ]
  },
  {
   "cell_type": "code",
   "execution_count": 27,
   "id": "d922a988-67e1-4fca-9a05-05c59a19ead6",
   "metadata": {},
   "outputs": [
    {
     "data": {
      "text/html": [
       "<table class=\"dataframe\">\n",
       "<caption>A data.frame: 6 × 5</caption>\n",
       "<thead>\n",
       "\t<tr><th></th><th scope=col>gene1</th><th scope=col>gene2</th><th scope=col>p.value</th><th scope=col>q.value</th><th scope=col>type</th></tr>\n",
       "\t<tr><th></th><th scope=col>&lt;chr&gt;</th><th scope=col>&lt;chr&gt;</th><th scope=col>&lt;dbl&gt;</th><th scope=col>&lt;dbl&gt;</th><th scope=col>&lt;chr&gt;</th></tr>\n",
       "</thead>\n",
       "<tbody>\n",
       "\t<tr><th scope=row>12</th><td>NRAS  </td><td>BRAF  </td><td>6.868518e-32</td><td>1.537369e-30</td><td>ME</td></tr>\n",
       "\t<tr><th scope=row>54</th><td>PIK3R1</td><td>PIK3CA</td><td>2.070028e-11</td><td>1.259451e-09</td><td>ME</td></tr>\n",
       "\t<tr><th scope=row>47</th><td>TP53  </td><td>KRAS  </td><td>6.322977e-09</td><td>4.249069e-07</td><td>ME</td></tr>\n",
       "\t<tr><th scope=row>22</th><td>TP53  </td><td>CTNNB1</td><td>2.997517e-08</td><td>1.708207e-06</td><td>ME</td></tr>\n",
       "\t<tr><th scope=row>45</th><td>NRAS  </td><td>KRAS  </td><td>6.500724e-08</td><td>3.360669e-06</td><td>ME</td></tr>\n",
       "\t<tr><th scope=row>11</th><td>KRAS  </td><td>BRAF  </td><td>3.312124e-07</td><td>1.663585e-05</td><td>ME</td></tr>\n",
       "</tbody>\n",
       "</table>\n"
      ],
      "text/latex": [
       "A data.frame: 6 × 5\n",
       "\\begin{tabular}{r|lllll}\n",
       "  & gene1 & gene2 & p.value & q.value & type\\\\\n",
       "  & <chr> & <chr> & <dbl> & <dbl> & <chr>\\\\\n",
       "\\hline\n",
       "\t12 & NRAS   & BRAF   & 6.868518e-32 & 1.537369e-30 & ME\\\\\n",
       "\t54 & PIK3R1 & PIK3CA & 2.070028e-11 & 1.259451e-09 & ME\\\\\n",
       "\t47 & TP53   & KRAS   & 6.322977e-09 & 4.249069e-07 & ME\\\\\n",
       "\t22 & TP53   & CTNNB1 & 2.997517e-08 & 1.708207e-06 & ME\\\\\n",
       "\t45 & NRAS   & KRAS   & 6.500724e-08 & 3.360669e-06 & ME\\\\\n",
       "\t11 & KRAS   & BRAF   & 3.312124e-07 & 1.663585e-05 & ME\\\\\n",
       "\\end{tabular}\n"
      ],
      "text/markdown": [
       "\n",
       "A data.frame: 6 × 5\n",
       "\n",
       "| <!--/--> | gene1 &lt;chr&gt; | gene2 &lt;chr&gt; | p.value &lt;dbl&gt; | q.value &lt;dbl&gt; | type &lt;chr&gt; |\n",
       "|---|---|---|---|---|---|\n",
       "| 12 | NRAS   | BRAF   | 6.868518e-32 | 1.537369e-30 | ME |\n",
       "| 54 | PIK3R1 | PIK3CA | 2.070028e-11 | 1.259451e-09 | ME |\n",
       "| 47 | TP53   | KRAS   | 6.322977e-09 | 4.249069e-07 | ME |\n",
       "| 22 | TP53   | CTNNB1 | 2.997517e-08 | 1.708207e-06 | ME |\n",
       "| 45 | NRAS   | KRAS   | 6.500724e-08 | 3.360669e-06 | ME |\n",
       "| 11 | KRAS   | BRAF   | 3.312124e-07 | 1.663585e-05 | ME |\n",
       "\n"
      ],
      "text/plain": [
       "   gene1  gene2  p.value      q.value      type\n",
       "12 NRAS   BRAF   6.868518e-32 1.537369e-30 ME  \n",
       "54 PIK3R1 PIK3CA 2.070028e-11 1.259451e-09 ME  \n",
       "47 TP53   KRAS   6.322977e-09 4.249069e-07 ME  \n",
       "22 TP53   CTNNB1 2.997517e-08 1.708207e-06 ME  \n",
       "45 NRAS   KRAS   6.500724e-08 3.360669e-06 ME  \n",
       "11 KRAS   BRAF   3.312124e-07 1.663585e-05 ME  "
      ]
     },
     "metadata": {},
     "output_type": "display_data"
    }
   ],
   "source": [
    "head(boot_results[[1]])"
   ]
  },
  {
   "cell_type": "code",
   "execution_count": 28,
   "id": "ebca8dd1-b822-445b-a1d7-a8d4b2f9a44b",
   "metadata": {},
   "outputs": [
    {
     "data": {
      "text/html": [
       "<table class=\"dataframe\">\n",
       "<caption>A data.frame: 6 × 5</caption>\n",
       "<thead>\n",
       "\t<tr><th></th><th scope=col>gene1</th><th scope=col>gene2</th><th scope=col>p.value</th><th scope=col>q.value</th><th scope=col>type</th></tr>\n",
       "\t<tr><th></th><th scope=col>&lt;chr&gt;</th><th scope=col>&lt;chr&gt;</th><th scope=col>&lt;dbl&gt;</th><th scope=col>&lt;dbl&gt;</th><th scope=col>&lt;chr&gt;</th></tr>\n",
       "</thead>\n",
       "<tbody>\n",
       "\t<tr><th scope=row>25</th><td>NRAS  </td><td>BRAF  </td><td>5.101043e-36</td><td>1.257836e-34</td><td>ME</td></tr>\n",
       "\t<tr><th scope=row>142</th><td>PIK3R1</td><td>PIK3CA</td><td>7.150757e-16</td><td>3.654473e-14</td><td>ME</td></tr>\n",
       "\t<tr><th scope=row>23</th><td>KRAS  </td><td>BRAF  </td><td>3.655192e-10</td><td>3.114309e-08</td><td>ME</td></tr>\n",
       "\t<tr><th scope=row>110</th><td>TP53  </td><td>KRAS  </td><td>3.249735e-09</td><td>2.587024e-07</td><td>ME</td></tr>\n",
       "\t<tr><th scope=row>50</th><td>TP53  </td><td>CTNNB1</td><td>8.464593e-09</td><td>5.101314e-07</td><td>ME</td></tr>\n",
       "\t<tr><th scope=row>92</th><td>GNAQ  </td><td>GNA11 </td><td>1.023966e-08</td><td>5.101314e-07</td><td>ME</td></tr>\n",
       "</tbody>\n",
       "</table>\n"
      ],
      "text/latex": [
       "A data.frame: 6 × 5\n",
       "\\begin{tabular}{r|lllll}\n",
       "  & gene1 & gene2 & p.value & q.value & type\\\\\n",
       "  & <chr> & <chr> & <dbl> & <dbl> & <chr>\\\\\n",
       "\\hline\n",
       "\t25 & NRAS   & BRAF   & 5.101043e-36 & 1.257836e-34 & ME\\\\\n",
       "\t142 & PIK3R1 & PIK3CA & 7.150757e-16 & 3.654473e-14 & ME\\\\\n",
       "\t23 & KRAS   & BRAF   & 3.655192e-10 & 3.114309e-08 & ME\\\\\n",
       "\t110 & TP53   & KRAS   & 3.249735e-09 & 2.587024e-07 & ME\\\\\n",
       "\t50 & TP53   & CTNNB1 & 8.464593e-09 & 5.101314e-07 & ME\\\\\n",
       "\t92 & GNAQ   & GNA11  & 1.023966e-08 & 5.101314e-07 & ME\\\\\n",
       "\\end{tabular}\n"
      ],
      "text/markdown": [
       "\n",
       "A data.frame: 6 × 5\n",
       "\n",
       "| <!--/--> | gene1 &lt;chr&gt; | gene2 &lt;chr&gt; | p.value &lt;dbl&gt; | q.value &lt;dbl&gt; | type &lt;chr&gt; |\n",
       "|---|---|---|---|---|---|\n",
       "| 25 | NRAS   | BRAF   | 5.101043e-36 | 1.257836e-34 | ME |\n",
       "| 142 | PIK3R1 | PIK3CA | 7.150757e-16 | 3.654473e-14 | ME |\n",
       "| 23 | KRAS   | BRAF   | 3.655192e-10 | 3.114309e-08 | ME |\n",
       "| 110 | TP53   | KRAS   | 3.249735e-09 | 2.587024e-07 | ME |\n",
       "| 50 | TP53   | CTNNB1 | 8.464593e-09 | 5.101314e-07 | ME |\n",
       "| 92 | GNAQ   | GNA11  | 1.023966e-08 | 5.101314e-07 | ME |\n",
       "\n"
      ],
      "text/plain": [
       "    gene1  gene2  p.value      q.value      type\n",
       "25  NRAS   BRAF   5.101043e-36 1.257836e-34 ME  \n",
       "142 PIK3R1 PIK3CA 7.150757e-16 3.654473e-14 ME  \n",
       "23  KRAS   BRAF   3.655192e-10 3.114309e-08 ME  \n",
       "110 TP53   KRAS   3.249735e-09 2.587024e-07 ME  \n",
       "50  TP53   CTNNB1 8.464593e-09 5.101314e-07 ME  \n",
       "92  GNAQ   GNA11  1.023966e-08 5.101314e-07 ME  "
      ]
     },
     "metadata": {},
     "output_type": "display_data"
    }
   ],
   "source": [
    "head(select_orginal)"
   ]
  },
  {
   "cell_type": "code",
   "execution_count": 29,
   "id": "54a4db89-2095-4615-a1f6-e64eb50d9480",
   "metadata": {},
   "outputs": [
    {
     "data": {
      "text/html": [
       "248"
      ],
      "text/latex": [
       "248"
      ],
      "text/markdown": [
       "248"
      ],
      "text/plain": [
       "[1] 248"
      ]
     },
     "metadata": {},
     "output_type": "display_data"
    }
   ],
   "source": [
    "length(unique(paste(select_orginal$gene2,select_orginal$gene1,sep=' - ')))"
   ]
  },
  {
   "cell_type": "code",
   "execution_count": 30,
   "id": "2e1340a0-346c-4229-95b3-32324f9a938d",
   "metadata": {},
   "outputs": [],
   "source": [
    "selectX_100_pct_significnat_results <- select_orginal"
   ]
  },
  {
   "cell_type": "code",
   "execution_count": 31,
   "id": "cdd4637e-4e99-4e83-92f0-5e5fed1a159a",
   "metadata": {},
   "outputs": [
    {
     "data": {
      "text/html": [
       "<table class=\"dataframe\">\n",
       "<caption>A data.frame: 1 × 1</caption>\n",
       "<thead>\n",
       "\t<tr><th scope=col>n</th></tr>\n",
       "\t<tr><th scope=col>&lt;int&gt;</th></tr>\n",
       "</thead>\n",
       "<tbody>\n",
       "\t<tr><td>248</td></tr>\n",
       "</tbody>\n",
       "</table>\n"
      ],
      "text/latex": [
       "A data.frame: 1 × 1\n",
       "\\begin{tabular}{l}\n",
       " n\\\\\n",
       " <int>\\\\\n",
       "\\hline\n",
       "\t 248\\\\\n",
       "\\end{tabular}\n"
      ],
      "text/markdown": [
       "\n",
       "A data.frame: 1 × 1\n",
       "\n",
       "| n &lt;int&gt; |\n",
       "|---|\n",
       "| 248 |\n",
       "\n"
      ],
      "text/plain": [
       "  n  \n",
       "1 248"
      ]
     },
     "metadata": {},
     "output_type": "display_data"
    }
   ],
   "source": [
    "select_orginal %>% count()"
   ]
  },
  {
   "cell_type": "code",
   "execution_count": 32,
   "id": "194918b4-42da-4758-9109-5a16bafff1d3",
   "metadata": {},
   "outputs": [],
   "source": [
    "score_df<-data.frame('pairs'=paste(select_orginal$gene2,select_orginal$gene1,sep=' - '))\n",
    "rownames(score_df)<-score_df$pairs\n",
    "score_df$Run_100<-1"
   ]
  },
  {
   "cell_type": "code",
   "execution_count": 33,
   "id": "5e95271a-5441-4b89-b955-42e583ac1edb",
   "metadata": {},
   "outputs": [
    {
     "data": {
      "text/html": [
       "<table class=\"dataframe\">\n",
       "<caption>A data.frame: 6 × 2</caption>\n",
       "<thead>\n",
       "\t<tr><th></th><th scope=col>pairs</th><th scope=col>Run_100</th></tr>\n",
       "\t<tr><th></th><th scope=col>&lt;chr&gt;</th><th scope=col>&lt;dbl&gt;</th></tr>\n",
       "</thead>\n",
       "<tbody>\n",
       "\t<tr><th scope=row>BRAF - NRAS</th><td>BRAF - NRAS    </td><td>1</td></tr>\n",
       "\t<tr><th scope=row>PIK3CA - PIK3R1</th><td>PIK3CA - PIK3R1</td><td>1</td></tr>\n",
       "\t<tr><th scope=row>BRAF - KRAS</th><td>BRAF - KRAS    </td><td>1</td></tr>\n",
       "\t<tr><th scope=row>KRAS - TP53</th><td>KRAS - TP53    </td><td>1</td></tr>\n",
       "\t<tr><th scope=row>CTNNB1 - TP53</th><td>CTNNB1 - TP53  </td><td>1</td></tr>\n",
       "\t<tr><th scope=row>GNA11 - GNAQ</th><td>GNA11 - GNAQ   </td><td>1</td></tr>\n",
       "</tbody>\n",
       "</table>\n"
      ],
      "text/latex": [
       "A data.frame: 6 × 2\n",
       "\\begin{tabular}{r|ll}\n",
       "  & pairs & Run\\_100\\\\\n",
       "  & <chr> & <dbl>\\\\\n",
       "\\hline\n",
       "\tBRAF - NRAS & BRAF - NRAS     & 1\\\\\n",
       "\tPIK3CA - PIK3R1 & PIK3CA - PIK3R1 & 1\\\\\n",
       "\tBRAF - KRAS & BRAF - KRAS     & 1\\\\\n",
       "\tKRAS - TP53 & KRAS - TP53     & 1\\\\\n",
       "\tCTNNB1 - TP53 & CTNNB1 - TP53   & 1\\\\\n",
       "\tGNA11 - GNAQ & GNA11 - GNAQ    & 1\\\\\n",
       "\\end{tabular}\n"
      ],
      "text/markdown": [
       "\n",
       "A data.frame: 6 × 2\n",
       "\n",
       "| <!--/--> | pairs &lt;chr&gt; | Run_100 &lt;dbl&gt; |\n",
       "|---|---|---|\n",
       "| BRAF - NRAS | BRAF - NRAS     | 1 |\n",
       "| PIK3CA - PIK3R1 | PIK3CA - PIK3R1 | 1 |\n",
       "| BRAF - KRAS | BRAF - KRAS     | 1 |\n",
       "| KRAS - TP53 | KRAS - TP53     | 1 |\n",
       "| CTNNB1 - TP53 | CTNNB1 - TP53   | 1 |\n",
       "| GNA11 - GNAQ | GNA11 - GNAQ    | 1 |\n",
       "\n"
      ],
      "text/plain": [
       "                pairs           Run_100\n",
       "BRAF - NRAS     BRAF - NRAS     1      \n",
       "PIK3CA - PIK3R1 PIK3CA - PIK3R1 1      \n",
       "BRAF - KRAS     BRAF - KRAS     1      \n",
       "KRAS - TP53     KRAS - TP53     1      \n",
       "CTNNB1 - TP53   CTNNB1 - TP53   1      \n",
       "GNA11 - GNAQ    GNA11 - GNAQ    1      "
      ]
     },
     "metadata": {},
     "output_type": "display_data"
    }
   ],
   "source": [
    "head(score_df)"
   ]
  },
  {
   "cell_type": "code",
   "execution_count": 34,
   "id": "2fc4eaf0-06cc-4011-8117-0bc87abd96e6",
   "metadata": {},
   "outputs": [],
   "source": [
    "discover_mcc<-list()"
   ]
  },
  {
   "cell_type": "code",
   "execution_count": 35,
   "id": "e48e1edb-94c1-4292-a8ce-567c3dfdebf2",
   "metadata": {},
   "outputs": [],
   "source": [
    "for (t in c(1:5)){\n",
    "    score_df[[paste('Run',i,sep=\"_\")]]<-0\n",
    "    boot_results[[t]]$name_2 <- paste(boot_results[[t]]$gene2,boot_results[[t]]$gene1,sep=' - ')\n",
    "    temp <- (boot_results[[t]] %>% filter(name_2 %in% score_df$pairs))$name_2\n",
    "    score_df[temp,][[paste('Run',i,sep=\"_\")]]<-1\n",
    "    #discover_jaccard[[i]]<-jaccard(score_df$pairs,temp)\n",
    "    possible <- 78210-length(score_df$pairs)\n",
    "    conf <- confusion_matrix(score_df$pairs,temp,c(1:possible))\n",
    "    a<- as.numeric((conf[[1]]+conf[[3]]))\n",
    "    b<- as.numeric((conf[[1]]+conf[[2]]))\n",
    "    c<- as.numeric((conf[[4]]+conf[[2]]))   \n",
    "    d<- as.numeric((conf[[4]]+conf[[3]])) \n",
    "    e <- as.numeric((conf[[1]]*conf[[4]]))\n",
    "    f <- as.numeric((conf[[2]]*conf[[3]]))\n",
    "    g <- as.numeric(e-f)\n",
    "    h <- as.numeric(a*b*c*d)\n",
    "    i <- sqrt(h)\n",
    "    mcc <- g/i\n",
    "    #print(e)\n",
    "    discover_mcc[[t]]<-mcc\n",
    "    \n",
    "}"
   ]
  },
  {
   "cell_type": "markdown",
   "id": "3d55ba29-7ab5-47b9-a43c-dbffb3cba42a",
   "metadata": {
    "tags": []
   },
   "source": [
    "## Combine the results"
   ]
  },
  {
   "cell_type": "code",
   "execution_count": 36,
   "id": "d68b9328-f972-42a6-878c-1411ea00f0e0",
   "metadata": {},
   "outputs": [],
   "source": [
    "plot_jaccard <- data.frame('jaccard'=c(\n",
    "                                      unlist(selectX_mcc),\n",
    "                                      unlist(select_mcc),\n",
    "                                      unlist(discover_mcc)\n",
    "                                      )\n",
    "                          )"
   ]
  },
  {
   "cell_type": "code",
   "execution_count": 37,
   "id": "6fad7f43-f3d8-40ea-93b8-ec8fc2587230",
   "metadata": {},
   "outputs": [],
   "source": [
    "plot_jaccard$name<-c(\n",
    "                  rep('SelectSim',5),\n",
    "                  rep('SELECT',5),\n",
    "                  rep('GamTOC',5))"
   ]
  },
  {
   "cell_type": "code",
   "execution_count": 38,
   "id": "a35cdfa7-91c0-4ff0-b95d-fd18a8b08a92",
   "metadata": {
    "tags": []
   },
   "outputs": [
    {
     "data": {
      "text/html": [
       "<table class=\"dataframe\">\n",
       "<caption>A data.frame: 6 × 2</caption>\n",
       "<thead>\n",
       "\t<tr><th></th><th scope=col>jaccard</th><th scope=col>name</th></tr>\n",
       "\t<tr><th></th><th scope=col>&lt;dbl&gt;</th><th scope=col>&lt;chr&gt;</th></tr>\n",
       "</thead>\n",
       "<tbody>\n",
       "\t<tr><th scope=row>1</th><td>0.8241690</td><td>SelectSim</td></tr>\n",
       "\t<tr><th scope=row>2</th><td>0.8484481</td><td>SelectSim</td></tr>\n",
       "\t<tr><th scope=row>3</th><td>0.8616444</td><td>SelectSim</td></tr>\n",
       "\t<tr><th scope=row>4</th><td>0.7991615</td><td>SelectSim</td></tr>\n",
       "\t<tr><th scope=row>5</th><td>0.8457844</td><td>SelectSim</td></tr>\n",
       "\t<tr><th scope=row>6</th><td>0.4890481</td><td>SELECT   </td></tr>\n",
       "</tbody>\n",
       "</table>\n"
      ],
      "text/latex": [
       "A data.frame: 6 × 2\n",
       "\\begin{tabular}{r|ll}\n",
       "  & jaccard & name\\\\\n",
       "  & <dbl> & <chr>\\\\\n",
       "\\hline\n",
       "\t1 & 0.8241690 & SelectSim\\\\\n",
       "\t2 & 0.8484481 & SelectSim\\\\\n",
       "\t3 & 0.8616444 & SelectSim\\\\\n",
       "\t4 & 0.7991615 & SelectSim\\\\\n",
       "\t5 & 0.8457844 & SelectSim\\\\\n",
       "\t6 & 0.4890481 & SELECT   \\\\\n",
       "\\end{tabular}\n"
      ],
      "text/markdown": [
       "\n",
       "A data.frame: 6 × 2\n",
       "\n",
       "| <!--/--> | jaccard &lt;dbl&gt; | name &lt;chr&gt; |\n",
       "|---|---|---|\n",
       "| 1 | 0.8241690 | SelectSim |\n",
       "| 2 | 0.8484481 | SelectSim |\n",
       "| 3 | 0.8616444 | SelectSim |\n",
       "| 4 | 0.7991615 | SelectSim |\n",
       "| 5 | 0.8457844 | SelectSim |\n",
       "| 6 | 0.4890481 | SELECT    |\n",
       "\n"
      ],
      "text/plain": [
       "  jaccard   name     \n",
       "1 0.8241690 SelectSim\n",
       "2 0.8484481 SelectSim\n",
       "3 0.8616444 SelectSim\n",
       "4 0.7991615 SelectSim\n",
       "5 0.8457844 SelectSim\n",
       "6 0.4890481 SELECT   "
      ]
     },
     "metadata": {},
     "output_type": "display_data"
    }
   ],
   "source": [
    "head(plot_jaccard)"
   ]
  },
  {
   "cell_type": "code",
   "execution_count": 39,
   "id": "463e58df-474f-466e-aeba-c6b7c411db12",
   "metadata": {},
   "outputs": [],
   "source": [
    "p <- ggplot(plot_jaccard, aes(x=name, y=jaccard,color=name)) + \n",
    "  geom_boxplot(outlier.colour=\"red\", outlier.shape=8,\n",
    "                outlier.size=4)"
   ]
  },
  {
   "cell_type": "code",
   "execution_count": 40,
   "id": "6aeda1bf-6aec-41f5-aa8c-5f03919bb79f",
   "metadata": {},
   "outputs": [],
   "source": [
    "p<-p+stat_summary(fun=mean, geom=\"point\", shape=23, size=4,color='red')+\n",
    "geom_dotplot(binaxis='y', stackdir='center', dotsize=1,binwidth=0.01)+\n",
    "scale_color_brewer(palette=\"Set1\")+theme_pubr()+\n",
    "#scale_x_discrete(limits=c(\"selectX_new\",\"selectX_old\", \"weSME/weSCO\", 'GamTOC',\"Discover\",'select','Coselns'))+\n",
    "ggtitle('TCGA pan-can')+\n",
    "labs(subtitle = '(Total N=9082, Sampling N=7266)')+xlab('')+ylab('Matthews correlation coefficient')+scale_y_continuous(breaks = seq(0, 1, 0.1),limits = c(0.2,1))+\n",
    "  theme(plot.title = element_text(hjust = 0.5),\n",
    "        legend.title = element_blank(),\n",
    "        plot.subtitle =  element_text(hjust = 0.5),\n",
    "        text = element_text(size = 18),\n",
    "        legend.position = 'top',\n",
    "        axis.title.x=element_blank(),\n",
    "        axis.text.x=element_blank(),\n",
    "        axis.ticks.x=element_blank(),\n",
    "        legend.text = element_text(size = 14))"
   ]
  },
  {
   "cell_type": "code",
   "execution_count": 41,
   "id": "29c5e926-f9ac-46a1-88ed-a1744d3d0187",
   "metadata": {
    "tags": []
   },
   "outputs": [
    {
     "data": {
      "image/png": "[encoded data removed]",
      "text/plain": [
       "plot without title"
      ]
     },
     "metadata": {
      "image/png": {
       "height": 420,
       "width": 420
      }
     },
     "output_type": "display_data"
    }
   ],
   "source": [
    "p"
   ]
  },
  {
   "cell_type": "code",
   "execution_count": null,
   "id": "f032a683-61d1-47c9-8428-c60f41bb3e37",
   "metadata": {
    "tags": []
   },
   "outputs": [],
   "source": [
    "saveRDS(plot_jaccard,file='/mnt/ptemp/arvind/tool_comaprision/pan_can_plot_mcc_data.rds')"
   ]
  },
  {
   "cell_type": "markdown",
   "id": "2cd463f1-ac40-4021-ad07-21aeecf83158",
   "metadata": {
    "tags": []
   },
   "source": [
    "# LUAD"
   ]
  },
  {
   "cell_type": "markdown",
   "id": "f1c1ef45-e63f-4c92-ae87-9e5a0a751490",
   "metadata": {
    "jp-MarkdownHeadingCollapsed": true,
    "tags": []
   },
   "source": [
    "## SelectSim"
   ]
  },
  {
   "cell_type": "code",
   "execution_count": 42,
   "id": "6feae85b-9b15-4d2f-9e92-33b32b669dd5",
   "metadata": {},
   "outputs": [],
   "source": [
    "select_orginal <- (readRDS('/mnt/ptemp/arvind/catalogue_work_update/data/results/tumor_run/tcga/tcga_LUAD.rds'))$result"
   ]
  },
  {
   "cell_type": "code",
   "execution_count": 43,
   "id": "86c299a3-b501-468b-925f-360c68da72b7",
   "metadata": {},
   "outputs": [],
   "source": [
    "boot_results <- list()\n",
    "k=1\n",
    "for (i in c(1:10)){\n",
    "    name <- paste('/mnt/ptemp/arvind/tool_comaprision/results/selectX/sampling_run_selectX_v4_result_80_',i,'.rds',sep=\"\")\n",
    "    boot_results[[k]] <- (readRDS(file=name))$result\n",
    "    k=k+1\n",
    "}"
   ]
  },
  {
   "cell_type": "code",
   "execution_count": 44,
   "id": "a27614da-a9e2-4006-9b07-93af09267e9d",
   "metadata": {},
   "outputs": [
    {
     "data": {
      "text/html": [
       "10"
      ],
      "text/latex": [
       "10"
      ],
      "text/markdown": [
       "10"
      ],
      "text/plain": [
       "[1] 10"
      ]
     },
     "metadata": {},
     "output_type": "display_data"
    }
   ],
   "source": [
    "length(boot_results)"
   ]
  },
  {
   "cell_type": "code",
   "execution_count": 45,
   "id": "5c65ade5-b12e-4fda-b0b8-de79342f147c",
   "metadata": {},
   "outputs": [
    {
     "data": {
      "text/html": [
       "<table class=\"dataframe\">\n",
       "<caption>A data.frame: 6 × 22</caption>\n",
       "<thead>\n",
       "\t<tr><th></th><th scope=col>SFE_1</th><th scope=col>SFE_2</th><th scope=col>name</th><th scope=col>support_1</th><th scope=col>support_2</th><th scope=col>freq_1</th><th scope=col>freq_2</th><th scope=col>overlap</th><th scope=col>w_overlap</th><th scope=col>max_overlap</th><th scope=col>⋯</th><th scope=col>w_r_overlap</th><th scope=col>wES</th><th scope=col>wFDR</th><th scope=col>nES</th><th scope=col>mean_r_nES</th><th scope=col>nFDR</th><th scope=col>cum_freq</th><th scope=col>nFDR2</th><th scope=col>type</th><th scope=col>FDR</th></tr>\n",
       "\t<tr><th></th><th scope=col>&lt;chr&gt;</th><th scope=col>&lt;chr&gt;</th><th scope=col>&lt;chr&gt;</th><th scope=col>&lt;dbl&gt;</th><th scope=col>&lt;dbl&gt;</th><th scope=col>&lt;dbl&gt;</th><th scope=col>&lt;dbl&gt;</th><th scope=col>&lt;dbl&gt;</th><th scope=col>&lt;dbl&gt;</th><th scope=col>&lt;dbl&gt;</th><th scope=col>⋯</th><th scope=col>&lt;dbl&gt;</th><th scope=col>&lt;dbl&gt;</th><th scope=col>&lt;dbl&gt;</th><th scope=col>&lt;dbl&gt;</th><th scope=col>&lt;dbl&gt;</th><th scope=col>&lt;dbl&gt;</th><th scope=col>&lt;dbl&gt;</th><th scope=col>&lt;dbl&gt;</th><th scope=col>&lt;chr&gt;</th><th scope=col>&lt;lgl&gt;</th></tr>\n",
       "</thead>\n",
       "<tbody>\n",
       "\t<tr><th scope=row>EGFR - KRAS</th><td>EGFR </td><td>KRAS </td><td>EGFR - KRAS </td><td> 50</td><td>122</td><td>0.12468828</td><td>0.3042394</td><td> 0</td><td> 0.000000</td><td> 50</td><td>⋯</td><td>15.103560</td><td>-10.679830</td><td>0.000000000</td><td>-9.460696</td><td>-1.2191335</td><td>0.0000000000</td><td>172</td><td>0.0000000000</td><td>ME</td><td>TRUE</td></tr>\n",
       "\t<tr><th scope=row>KRAS - TP53</th><td>KRAS </td><td>TP53 </td><td>KRAS - TP53 </td><td>122</td><td>180</td><td>0.30423940</td><td>0.4488778</td><td>43</td><td>32.382186</td><td>122</td><td>⋯</td><td>48.137634</td><td>-11.140784</td><td>0.000000000</td><td>-9.375665</td><td>-1.7651192</td><td>0.0000000000</td><td>302</td><td>0.0000000000</td><td>ME</td><td>TRUE</td></tr>\n",
       "\t<tr><th scope=row>STK11 - TP53</th><td>STK11</td><td>TP53 </td><td>STK11 - TP53</td><td> 47</td><td>180</td><td>0.11720698</td><td>0.4488778</td><td>10</td><td> 7.769323</td><td> 47</td><td>⋯</td><td>18.491694</td><td> -7.581862</td><td>0.001109878</td><td>-6.361211</td><td>-1.2206505</td><td>0.0003699593</td><td>227</td><td>0.0003699593</td><td>ME</td><td>TRUE</td></tr>\n",
       "\t<tr><th scope=row>BRAF - KRAS</th><td>BRAF </td><td>KRAS </td><td>BRAF - KRAS </td><td> 28</td><td>122</td><td>0.06982544</td><td>0.3042394</td><td> 2</td><td> 1.025000</td><td> 28</td><td>⋯</td><td> 8.510871</td><td> -5.293310</td><td>0.004716981</td><td>-4.405507</td><td>-0.8878030</td><td>0.0022197558</td><td>150</td><td>0.0022197558</td><td>ME</td><td>TRUE</td></tr>\n",
       "\t<tr><th scope=row>EGFR - STK11</th><td>EGFR </td><td>STK11</td><td>EGFR - STK11</td><td> 50</td><td> 47</td><td>0.12468828</td><td>0.1172070</td><td> 0</td><td> 0.000000</td><td> 47</td><td>⋯</td><td> 5.939998</td><td> -4.200213</td><td>0.014428413</td><td>-3.341331</td><td>-0.8588823</td><td>0.0062153163</td><td> 97</td><td>0.0062153163</td><td>ME</td><td>TRUE</td></tr>\n",
       "\t<tr><th scope=row>KRAS - NF1</th><td>KRAS </td><td>NF1  </td><td>KRAS - NF1  </td><td>122</td><td> 29</td><td>0.30423940</td><td>0.0723192</td><td> 4</td><td> 3.250000</td><td> 29</td><td>⋯</td><td> 8.786415</td><td> -3.914837</td><td>0.014844617</td><td>-2.982953</td><td>-0.9318839</td><td>0.0079541250</td><td>151</td><td>0.0077691454</td><td>ME</td><td>TRUE</td></tr>\n",
       "</tbody>\n",
       "</table>\n"
      ],
      "text/latex": [
       "A data.frame: 6 × 22\n",
       "\\begin{tabular}{r|lllllllllllllllllllll}\n",
       "  & SFE\\_1 & SFE\\_2 & name & support\\_1 & support\\_2 & freq\\_1 & freq\\_2 & overlap & w\\_overlap & max\\_overlap & ⋯ & w\\_r\\_overlap & wES & wFDR & nES & mean\\_r\\_nES & nFDR & cum\\_freq & nFDR2 & type & FDR\\\\\n",
       "  & <chr> & <chr> & <chr> & <dbl> & <dbl> & <dbl> & <dbl> & <dbl> & <dbl> & <dbl> & ⋯ & <dbl> & <dbl> & <dbl> & <dbl> & <dbl> & <dbl> & <dbl> & <dbl> & <chr> & <lgl>\\\\\n",
       "\\hline\n",
       "\tEGFR - KRAS & EGFR  & KRAS  & EGFR - KRAS  &  50 & 122 & 0.12468828 & 0.3042394 &  0 &  0.000000 &  50 & ⋯ & 15.103560 & -10.679830 & 0.000000000 & -9.460696 & -1.2191335 & 0.0000000000 & 172 & 0.0000000000 & ME & TRUE\\\\\n",
       "\tKRAS - TP53 & KRAS  & TP53  & KRAS - TP53  & 122 & 180 & 0.30423940 & 0.4488778 & 43 & 32.382186 & 122 & ⋯ & 48.137634 & -11.140784 & 0.000000000 & -9.375665 & -1.7651192 & 0.0000000000 & 302 & 0.0000000000 & ME & TRUE\\\\\n",
       "\tSTK11 - TP53 & STK11 & TP53  & STK11 - TP53 &  47 & 180 & 0.11720698 & 0.4488778 & 10 &  7.769323 &  47 & ⋯ & 18.491694 &  -7.581862 & 0.001109878 & -6.361211 & -1.2206505 & 0.0003699593 & 227 & 0.0003699593 & ME & TRUE\\\\\n",
       "\tBRAF - KRAS & BRAF  & KRAS  & BRAF - KRAS  &  28 & 122 & 0.06982544 & 0.3042394 &  2 &  1.025000 &  28 & ⋯ &  8.510871 &  -5.293310 & 0.004716981 & -4.405507 & -0.8878030 & 0.0022197558 & 150 & 0.0022197558 & ME & TRUE\\\\\n",
       "\tEGFR - STK11 & EGFR  & STK11 & EGFR - STK11 &  50 &  47 & 0.12468828 & 0.1172070 &  0 &  0.000000 &  47 & ⋯ &  5.939998 &  -4.200213 & 0.014428413 & -3.341331 & -0.8588823 & 0.0062153163 &  97 & 0.0062153163 & ME & TRUE\\\\\n",
       "\tKRAS - NF1 & KRAS  & NF1   & KRAS - NF1   & 122 &  29 & 0.30423940 & 0.0723192 &  4 &  3.250000 &  29 & ⋯ &  8.786415 &  -3.914837 & 0.014844617 & -2.982953 & -0.9318839 & 0.0079541250 & 151 & 0.0077691454 & ME & TRUE\\\\\n",
       "\\end{tabular}\n"
      ],
      "text/markdown": [
       "\n",
       "A data.frame: 6 × 22\n",
       "\n",
       "| <!--/--> | SFE_1 &lt;chr&gt; | SFE_2 &lt;chr&gt; | name &lt;chr&gt; | support_1 &lt;dbl&gt; | support_2 &lt;dbl&gt; | freq_1 &lt;dbl&gt; | freq_2 &lt;dbl&gt; | overlap &lt;dbl&gt; | w_overlap &lt;dbl&gt; | max_overlap &lt;dbl&gt; | ⋯ ⋯ | w_r_overlap &lt;dbl&gt; | wES &lt;dbl&gt; | wFDR &lt;dbl&gt; | nES &lt;dbl&gt; | mean_r_nES &lt;dbl&gt; | nFDR &lt;dbl&gt; | cum_freq &lt;dbl&gt; | nFDR2 &lt;dbl&gt; | type &lt;chr&gt; | FDR &lt;lgl&gt; |\n",
       "|---|---|---|---|---|---|---|---|---|---|---|---|---|---|---|---|---|---|---|---|---|---|\n",
       "| EGFR - KRAS | EGFR  | KRAS  | EGFR - KRAS  |  50 | 122 | 0.12468828 | 0.3042394 |  0 |  0.000000 |  50 | ⋯ | 15.103560 | -10.679830 | 0.000000000 | -9.460696 | -1.2191335 | 0.0000000000 | 172 | 0.0000000000 | ME | TRUE |\n",
       "| KRAS - TP53 | KRAS  | TP53  | KRAS - TP53  | 122 | 180 | 0.30423940 | 0.4488778 | 43 | 32.382186 | 122 | ⋯ | 48.137634 | -11.140784 | 0.000000000 | -9.375665 | -1.7651192 | 0.0000000000 | 302 | 0.0000000000 | ME | TRUE |\n",
       "| STK11 - TP53 | STK11 | TP53  | STK11 - TP53 |  47 | 180 | 0.11720698 | 0.4488778 | 10 |  7.769323 |  47 | ⋯ | 18.491694 |  -7.581862 | 0.001109878 | -6.361211 | -1.2206505 | 0.0003699593 | 227 | 0.0003699593 | ME | TRUE |\n",
       "| BRAF - KRAS | BRAF  | KRAS  | BRAF - KRAS  |  28 | 122 | 0.06982544 | 0.3042394 |  2 |  1.025000 |  28 | ⋯ |  8.510871 |  -5.293310 | 0.004716981 | -4.405507 | -0.8878030 | 0.0022197558 | 150 | 0.0022197558 | ME | TRUE |\n",
       "| EGFR - STK11 | EGFR  | STK11 | EGFR - STK11 |  50 |  47 | 0.12468828 | 0.1172070 |  0 |  0.000000 |  47 | ⋯ |  5.939998 |  -4.200213 | 0.014428413 | -3.341331 | -0.8588823 | 0.0062153163 |  97 | 0.0062153163 | ME | TRUE |\n",
       "| KRAS - NF1 | KRAS  | NF1   | KRAS - NF1   | 122 |  29 | 0.30423940 | 0.0723192 |  4 |  3.250000 |  29 | ⋯ |  8.786415 |  -3.914837 | 0.014844617 | -2.982953 | -0.9318839 | 0.0079541250 | 151 | 0.0077691454 | ME | TRUE |\n",
       "\n"
      ],
      "text/plain": [
       "             SFE_1 SFE_2 name         support_1 support_2 freq_1     freq_2   \n",
       "EGFR - KRAS  EGFR  KRAS  EGFR - KRAS   50       122       0.12468828 0.3042394\n",
       "KRAS - TP53  KRAS  TP53  KRAS - TP53  122       180       0.30423940 0.4488778\n",
       "STK11 - TP53 STK11 TP53  STK11 - TP53  47       180       0.11720698 0.4488778\n",
       "BRAF - KRAS  BRAF  KRAS  BRAF - KRAS   28       122       0.06982544 0.3042394\n",
       "EGFR - STK11 EGFR  STK11 EGFR - STK11  50        47       0.12468828 0.1172070\n",
       "KRAS - NF1   KRAS  NF1   KRAS - NF1   122        29       0.30423940 0.0723192\n",
       "             overlap w_overlap max_overlap ⋯ w_r_overlap wES        wFDR       \n",
       "EGFR - KRAS   0       0.000000  50         ⋯ 15.103560   -10.679830 0.000000000\n",
       "KRAS - TP53  43      32.382186 122         ⋯ 48.137634   -11.140784 0.000000000\n",
       "STK11 - TP53 10       7.769323  47         ⋯ 18.491694    -7.581862 0.001109878\n",
       "BRAF - KRAS   2       1.025000  28         ⋯  8.510871    -5.293310 0.004716981\n",
       "EGFR - STK11  0       0.000000  47         ⋯  5.939998    -4.200213 0.014428413\n",
       "KRAS - NF1    4       3.250000  29         ⋯  8.786415    -3.914837 0.014844617\n",
       "             nES       mean_r_nES nFDR         cum_freq nFDR2        type FDR \n",
       "EGFR - KRAS  -9.460696 -1.2191335 0.0000000000 172      0.0000000000 ME   TRUE\n",
       "KRAS - TP53  -9.375665 -1.7651192 0.0000000000 302      0.0000000000 ME   TRUE\n",
       "STK11 - TP53 -6.361211 -1.2206505 0.0003699593 227      0.0003699593 ME   TRUE\n",
       "BRAF - KRAS  -4.405507 -0.8878030 0.0022197558 150      0.0022197558 ME   TRUE\n",
       "EGFR - STK11 -3.341331 -0.8588823 0.0062153163  97      0.0062153163 ME   TRUE\n",
       "KRAS - NF1   -2.982953 -0.9318839 0.0079541250 151      0.0077691454 ME   TRUE"
      ]
     },
     "metadata": {},
     "output_type": "display_data"
    }
   ],
   "source": [
    "head(boot_results[[1]])"
   ]
  },
  {
   "cell_type": "code",
   "execution_count": 46,
   "id": "2f2e6934-86c8-40be-adf6-df561281934c",
   "metadata": {},
   "outputs": [],
   "source": [
    "selectX_100_pct_significnat_results <- select_orginal %>% filter(nFDR2<=0.25) "
   ]
  },
  {
   "cell_type": "code",
   "execution_count": 47,
   "id": "cfce72e5-5530-4066-96fb-85de40f53499",
   "metadata": {},
   "outputs": [],
   "source": [
    "score_df<-data.frame('pairs'=selectX_100_pct_significnat_results$name)\n",
    "rownames(score_df)<-score_df$pairs\n",
    "#score_df$Run_100<-1"
   ]
  },
  {
   "cell_type": "code",
   "execution_count": 48,
   "id": "d6a0d23f-af06-4e2b-b67f-0f5b1c9d6406",
   "metadata": {},
   "outputs": [],
   "source": [
    "selectX_mcc <- list()\n",
    "selectX_recall<-list()"
   ]
  },
  {
   "cell_type": "code",
   "execution_count": 49,
   "id": "c40ad6d9-c153-445c-94cb-c69e9087e4fa",
   "metadata": {},
   "outputs": [
    {
     "data": {
      "text/html": [
       "<style>\n",
       ".list-inline {list-style: none; margin:0; padding: 0}\n",
       ".list-inline>li {display: inline-block}\n",
       ".list-inline>li:not(:last-child)::after {content: \"\\00b7\"; padding: 0 .5ex}\n",
       "</style>\n",
       "<ol class=list-inline><li>36046</li><li>22</li></ol>\n"
      ],
      "text/latex": [
       "\\begin{enumerate*}\n",
       "\\item 36046\n",
       "\\item 22\n",
       "\\end{enumerate*}\n"
      ],
      "text/markdown": [
       "1. 36046\n",
       "2. 22\n",
       "\n",
       "\n"
      ],
      "text/plain": [
       "[1] 36046    22"
      ]
     },
     "metadata": {},
     "output_type": "display_data"
    }
   ],
   "source": [
    "dim(select_orginal)"
   ]
  },
  {
   "cell_type": "code",
   "execution_count": 50,
   "id": "8a267b49-52c3-4d50-b837-3226bacfbdb2",
   "metadata": {},
   "outputs": [
    {
     "data": {
      "text/html": [
       "<style>\n",
       ".list-inline {list-style: none; margin:0; padding: 0}\n",
       ".list-inline>li {display: inline-block}\n",
       ".list-inline>li:not(:last-child)::after {content: \"\\00b7\"; padding: 0 .5ex}\n",
       "</style>\n",
       "<ol class=list-inline><li>57</li><li>1</li></ol>\n"
      ],
      "text/latex": [
       "\\begin{enumerate*}\n",
       "\\item 57\n",
       "\\item 1\n",
       "\\end{enumerate*}\n"
      ],
      "text/markdown": [
       "1. 57\n",
       "2. 1\n",
       "\n",
       "\n"
      ],
      "text/plain": [
       "[1] 57  1"
      ]
     },
     "metadata": {},
     "output_type": "display_data"
    }
   ],
   "source": [
    "dim(score_df)"
   ]
  },
  {
   "cell_type": "code",
   "execution_count": 51,
   "id": "8d871dfc-f237-4186-869d-b62077abed70",
   "metadata": {},
   "outputs": [],
   "source": [
    "for (t in c(1:10)){\n",
    "    temp <- (boot_results[[t]] %>% filter(name %in% score_df$pairs) %>% filter(nFDR2<=0.25))$name\n",
    "    conf <- confusion_matrix(score_df$pairs,temp,setdiff(select_orginal$name,score_df$pairs))\n",
    "    a<- as.numeric((conf[[1]]+conf[[3]]))\n",
    "    b<- as.numeric((conf[[1]]+conf[[2]]))\n",
    "    c<- as.numeric((conf[[4]]+conf[[2]]))   \n",
    "    d<- as.numeric((conf[[4]]+conf[[3]])) \n",
    "    e <- as.numeric((conf[[1]]*conf[[4]]))\n",
    "    f <- as.numeric((conf[[2]]*conf[[3]]))\n",
    "    g <- as.numeric(e-f)\n",
    "    h <- as.numeric(a*b*c*d)\n",
    "    i <- sqrt(h)\n",
    "    mcc <- g/i\n",
    "    selectX_mcc[[t]]<-mcc\n",
    "    selectX_recall <- conf[[1]]/(conf[[1]]+conf[[2]])\n",
    "}"
   ]
  },
  {
   "cell_type": "code",
   "execution_count": 52,
   "id": "746336d8-b2d2-410b-b08e-2c101d02d309",
   "metadata": {},
   "outputs": [
    {
     "data": {
      "text/html": [
       "<ol>\n",
       "\t<li>38</li>\n",
       "\t<li>19</li>\n",
       "\t<li>0</li>\n",
       "\t<li>35989</li>\n",
       "</ol>\n"
      ],
      "text/latex": [
       "\\begin{enumerate}\n",
       "\\item 38\n",
       "\\item 19\n",
       "\\item 0\n",
       "\\item 35989\n",
       "\\end{enumerate}\n"
      ],
      "text/markdown": [
       "1. 38\n",
       "2. 19\n",
       "3. 0\n",
       "4. 35989\n",
       "\n",
       "\n"
      ],
      "text/plain": [
       "[[1]]\n",
       "[1] 38\n",
       "\n",
       "[[2]]\n",
       "[1] 19\n",
       "\n",
       "[[3]]\n",
       "[1] 0\n",
       "\n",
       "[[4]]\n",
       "[1] 35989\n"
      ]
     },
     "metadata": {},
     "output_type": "display_data"
    }
   ],
   "source": [
    "conf"
   ]
  },
  {
   "cell_type": "code",
   "execution_count": 53,
   "id": "973b6ba2-5b13-43fb-8342-4098e93a3887",
   "metadata": {},
   "outputs": [
    {
     "data": {
      "text/html": [
       "0.803571428571429"
      ],
      "text/latex": [
       "0.803571428571429"
      ],
      "text/markdown": [
       "0.803571428571429"
      ],
      "text/plain": [
       "[1] 0.8035714"
      ]
     },
     "metadata": {},
     "output_type": "display_data"
    }
   ],
   "source": [
    "45/(45+11)"
   ]
  },
  {
   "cell_type": "code",
   "execution_count": 54,
   "id": "e4229a7e-7944-41a6-8850-7f423c87a747",
   "metadata": {},
   "outputs": [
    {
     "data": {
      "text/html": [
       "0.869"
      ],
      "text/latex": [
       "0.869"
      ],
      "text/markdown": [
       "0.869"
      ],
      "text/plain": [
       "[1] 0.869"
      ]
     },
     "metadata": {},
     "output_type": "display_data"
    }
   ],
   "source": [
    "round(mean(unlist(selectX_mcc)),3)"
   ]
  },
  {
   "cell_type": "code",
   "execution_count": 55,
   "id": "1a5258d8-c6ae-4a22-87f3-c0aa865069e3",
   "metadata": {
    "tags": []
   },
   "outputs": [
    {
     "data": {
      "image/png": "[encoded data removed]",
      "text/plain": [
       "plot without title"
      ]
     },
     "metadata": {
      "image/png": {
       "height": 420,
       "width": 420
      }
     },
     "output_type": "display_data"
    }
   ],
   "source": [
    "ggboxplot(unlist(selectX_mcc))"
   ]
  },
  {
   "cell_type": "markdown",
   "id": "bfa20643-0c62-4e7b-b54b-9a5757881353",
   "metadata": {
    "jp-MarkdownHeadingCollapsed": true,
    "tags": []
   },
   "source": [
    "## Select"
   ]
  },
  {
   "cell_type": "code",
   "execution_count": 56,
   "id": "b1deec33-6cad-4080-b321-1c5493c324b5",
   "metadata": {},
   "outputs": [],
   "source": [
    "select_orginal <- readRDS('/mnt/ptemp/arvind/tool_comaprision/results/select/luad_all_results.rds')"
   ]
  },
  {
   "cell_type": "code",
   "execution_count": 57,
   "id": "6537916b-2b03-449b-9558-5b4c6d3581b9",
   "metadata": {},
   "outputs": [],
   "source": [
    "boot_results <- list()\n",
    "k=1\n",
    "for (i in c(1:10)){\n",
    "    name <- paste('/mnt/ptemp/arvind/tool_comaprision/results/select/sampling_run_result_80_',i,'.rds',sep=\"\")\n",
    "    boot_results[[k]] <- readRDS(file=name)\n",
    "    k=k+1\n",
    "}"
   ]
  },
  {
   "cell_type": "code",
   "execution_count": 58,
   "id": "2512df03-766e-4c15-b216-29faa9e83f67",
   "metadata": {},
   "outputs": [
    {
     "data": {
      "text/html": [
       "10"
      ],
      "text/latex": [
       "10"
      ],
      "text/markdown": [
       "10"
      ],
      "text/plain": [
       "[1] 10"
      ]
     },
     "metadata": {},
     "output_type": "display_data"
    }
   ],
   "source": [
    "length(boot_results)"
   ]
  },
  {
   "cell_type": "code",
   "execution_count": 59,
   "id": "fa43f4c9-84ce-4479-a33f-8357c1f59ecf",
   "metadata": {},
   "outputs": [
    {
     "data": {
      "text/html": [
       "<table class=\"dataframe\">\n",
       "<caption>A data.frame: 6 × 26</caption>\n",
       "<thead>\n",
       "\t<tr><th></th><th scope=col>SFE_1</th><th scope=col>SFE_2</th><th scope=col>name</th><th scope=col>type_1</th><th scope=col>type_2</th><th scope=col>int_type</th><th scope=col>support_1</th><th scope=col>support_2</th><th scope=col>freq_1</th><th scope=col>freq_2</th><th scope=col>⋯</th><th scope=col>abs_diff_overlap</th><th scope=col>direction</th><th scope=col>wMI_stat</th><th scope=col>wMI_p.value</th><th scope=col>ME_p.value</th><th scope=col>E.r.wMI_stat</th><th scope=col>MI_diff</th><th scope=col>wMI_p.value_FDR</th><th scope=col>select_score_good_cancer_cell_2017_criterion_1</th><th scope=col>select_score</th></tr>\n",
       "\t<tr><th></th><th scope=col>&lt;chr&gt;</th><th scope=col>&lt;chr&gt;</th><th scope=col>&lt;chr&gt;</th><th scope=col>&lt;chr&gt;</th><th scope=col>&lt;chr&gt;</th><th scope=col>&lt;chr&gt;</th><th scope=col>&lt;dbl&gt;</th><th scope=col>&lt;dbl&gt;</th><th scope=col>&lt;dbl&gt;</th><th scope=col>&lt;dbl&gt;</th><th scope=col>⋯</th><th scope=col>&lt;dbl&gt;</th><th scope=col>&lt;chr&gt;</th><th scope=col>&lt;dbl&gt;</th><th scope=col>&lt;dbl&gt;</th><th scope=col>&lt;dbl&gt;</th><th scope=col>&lt;dbl&gt;</th><th scope=col>&lt;dbl&gt;</th><th scope=col>&lt;lgl&gt;</th><th scope=col>&lt;lgl&gt;</th><th scope=col>&lt;dbl&gt;</th></tr>\n",
       "</thead>\n",
       "<tbody>\n",
       "\t<tr><th scope=row>AKT1 - ALK</th><td>AKT1</td><td>ALK </td><td>AKT1 - ALK </td><td>MUT</td><td>MUT</td><td>MUT - MUT</td><td>3</td><td> 3</td><td>0.007978723</td><td>0.007978723</td><td>⋯</td><td>0.026</td><td>ME</td><td>0.002341008</td><td>1.000</td><td>0.974</td><td>0.002341008</td><td> 0.000000000</td><td>FALSE</td><td>FALSE</td><td>NA</td></tr>\n",
       "\t<tr><th scope=row>AKT1 - APC</th><td>AKT1</td><td>APC </td><td>AKT1 - APC </td><td>MUT</td><td>MUT</td><td>MUT - MUT</td><td>3</td><td> 8</td><td>0.007978723</td><td>0.021276596</td><td>⋯</td><td>0.078</td><td>ME</td><td>0.004773510</td><td>1.000</td><td>0.925</td><td>0.004773510</td><td> 0.000000000</td><td>FALSE</td><td>FALSE</td><td>NA</td></tr>\n",
       "\t<tr><th scope=row>AKT1 - AR</th><td>AKT1</td><td>AR  </td><td>AKT1 - AR  </td><td>MUT</td><td>MUT</td><td>MUT - MUT</td><td>3</td><td> 2</td><td>0.007978723</td><td>0.005319149</td><td>⋯</td><td>0.026</td><td>ME</td><td>0.001549930</td><td>1.000</td><td>0.974</td><td>0.001549930</td><td> 0.000000000</td><td>FALSE</td><td>FALSE</td><td>NA</td></tr>\n",
       "\t<tr><th scope=row>AKT1 - ATM</th><td>AKT1</td><td>ATM </td><td>AKT1 - ATM </td><td>MUT</td><td>MUT</td><td>MUT - MUT</td><td>3</td><td>15</td><td>0.007978723</td><td>0.039893617</td><td>⋯</td><td>0.141</td><td>ME</td><td>0.005967738</td><td>0.869</td><td>0.864</td><td>0.005967738</td><td> 0.000000000</td><td>FALSE</td><td>FALSE</td><td>NA</td></tr>\n",
       "\t<tr><th scope=row>AKT1 - BAP1</th><td>AKT1</td><td>BAP1</td><td>AKT1 - BAP1</td><td>MUT</td><td>MUT</td><td>MUT - MUT</td><td>3</td><td> 4</td><td>0.007978723</td><td>0.010638298</td><td>⋯</td><td>0.042</td><td>ME</td><td>0.002980355</td><td>1.000</td><td>0.958</td><td>0.002980355</td><td> 0.000000000</td><td>FALSE</td><td>FALSE</td><td>NA</td></tr>\n",
       "\t<tr><th scope=row>AKT1 - BRAF</th><td>AKT1</td><td>BRAF</td><td>AKT1 - BRAF</td><td>MUT</td><td>MUT</td><td>MUT - MUT</td><td>3</td><td>28</td><td>0.007978723</td><td>0.074468085</td><td>⋯</td><td>0.737</td><td>CO</td><td>0.001839621</td><td>1.000</td><td>0.241</td><td>0.005861722</td><td>-0.004022101</td><td>FALSE</td><td>FALSE</td><td>NA</td></tr>\n",
       "</tbody>\n",
       "</table>\n"
      ],
      "text/latex": [
       "A data.frame: 6 × 26\n",
       "\\begin{tabular}{r|lllllllllllllllllllll}\n",
       "  & SFE\\_1 & SFE\\_2 & name & type\\_1 & type\\_2 & int\\_type & support\\_1 & support\\_2 & freq\\_1 & freq\\_2 & ⋯ & abs\\_diff\\_overlap & direction & wMI\\_stat & wMI\\_p.value & ME\\_p.value & E.r.wMI\\_stat & MI\\_diff & wMI\\_p.value\\_FDR & select\\_score\\_good\\_cancer\\_cell\\_2017\\_criterion\\_1 & select\\_score\\\\\n",
       "  & <chr> & <chr> & <chr> & <chr> & <chr> & <chr> & <dbl> & <dbl> & <dbl> & <dbl> & ⋯ & <dbl> & <chr> & <dbl> & <dbl> & <dbl> & <dbl> & <dbl> & <lgl> & <lgl> & <dbl>\\\\\n",
       "\\hline\n",
       "\tAKT1 - ALK & AKT1 & ALK  & AKT1 - ALK  & MUT & MUT & MUT - MUT & 3 &  3 & 0.007978723 & 0.007978723 & ⋯ & 0.026 & ME & 0.002341008 & 1.000 & 0.974 & 0.002341008 &  0.000000000 & FALSE & FALSE & NA\\\\\n",
       "\tAKT1 - APC & AKT1 & APC  & AKT1 - APC  & MUT & MUT & MUT - MUT & 3 &  8 & 0.007978723 & 0.021276596 & ⋯ & 0.078 & ME & 0.004773510 & 1.000 & 0.925 & 0.004773510 &  0.000000000 & FALSE & FALSE & NA\\\\\n",
       "\tAKT1 - AR & AKT1 & AR   & AKT1 - AR   & MUT & MUT & MUT - MUT & 3 &  2 & 0.007978723 & 0.005319149 & ⋯ & 0.026 & ME & 0.001549930 & 1.000 & 0.974 & 0.001549930 &  0.000000000 & FALSE & FALSE & NA\\\\\n",
       "\tAKT1 - ATM & AKT1 & ATM  & AKT1 - ATM  & MUT & MUT & MUT - MUT & 3 & 15 & 0.007978723 & 0.039893617 & ⋯ & 0.141 & ME & 0.005967738 & 0.869 & 0.864 & 0.005967738 &  0.000000000 & FALSE & FALSE & NA\\\\\n",
       "\tAKT1 - BAP1 & AKT1 & BAP1 & AKT1 - BAP1 & MUT & MUT & MUT - MUT & 3 &  4 & 0.007978723 & 0.010638298 & ⋯ & 0.042 & ME & 0.002980355 & 1.000 & 0.958 & 0.002980355 &  0.000000000 & FALSE & FALSE & NA\\\\\n",
       "\tAKT1 - BRAF & AKT1 & BRAF & AKT1 - BRAF & MUT & MUT & MUT - MUT & 3 & 28 & 0.007978723 & 0.074468085 & ⋯ & 0.737 & CO & 0.001839621 & 1.000 & 0.241 & 0.005861722 & -0.004022101 & FALSE & FALSE & NA\\\\\n",
       "\\end{tabular}\n"
      ],
      "text/markdown": [
       "\n",
       "A data.frame: 6 × 26\n",
       "\n",
       "| <!--/--> | SFE_1 &lt;chr&gt; | SFE_2 &lt;chr&gt; | name &lt;chr&gt; | type_1 &lt;chr&gt; | type_2 &lt;chr&gt; | int_type &lt;chr&gt; | support_1 &lt;dbl&gt; | support_2 &lt;dbl&gt; | freq_1 &lt;dbl&gt; | freq_2 &lt;dbl&gt; | ⋯ ⋯ | abs_diff_overlap &lt;dbl&gt; | direction &lt;chr&gt; | wMI_stat &lt;dbl&gt; | wMI_p.value &lt;dbl&gt; | ME_p.value &lt;dbl&gt; | E.r.wMI_stat &lt;dbl&gt; | MI_diff &lt;dbl&gt; | wMI_p.value_FDR &lt;lgl&gt; | select_score_good_cancer_cell_2017_criterion_1 &lt;lgl&gt; | select_score &lt;dbl&gt; |\n",
       "|---|---|---|---|---|---|---|---|---|---|---|---|---|---|---|---|---|---|---|---|---|---|\n",
       "| AKT1 - ALK | AKT1 | ALK  | AKT1 - ALK  | MUT | MUT | MUT - MUT | 3 |  3 | 0.007978723 | 0.007978723 | ⋯ | 0.026 | ME | 0.002341008 | 1.000 | 0.974 | 0.002341008 |  0.000000000 | FALSE | FALSE | NA |\n",
       "| AKT1 - APC | AKT1 | APC  | AKT1 - APC  | MUT | MUT | MUT - MUT | 3 |  8 | 0.007978723 | 0.021276596 | ⋯ | 0.078 | ME | 0.004773510 | 1.000 | 0.925 | 0.004773510 |  0.000000000 | FALSE | FALSE | NA |\n",
       "| AKT1 - AR | AKT1 | AR   | AKT1 - AR   | MUT | MUT | MUT - MUT | 3 |  2 | 0.007978723 | 0.005319149 | ⋯ | 0.026 | ME | 0.001549930 | 1.000 | 0.974 | 0.001549930 |  0.000000000 | FALSE | FALSE | NA |\n",
       "| AKT1 - ATM | AKT1 | ATM  | AKT1 - ATM  | MUT | MUT | MUT - MUT | 3 | 15 | 0.007978723 | 0.039893617 | ⋯ | 0.141 | ME | 0.005967738 | 0.869 | 0.864 | 0.005967738 |  0.000000000 | FALSE | FALSE | NA |\n",
       "| AKT1 - BAP1 | AKT1 | BAP1 | AKT1 - BAP1 | MUT | MUT | MUT - MUT | 3 |  4 | 0.007978723 | 0.010638298 | ⋯ | 0.042 | ME | 0.002980355 | 1.000 | 0.958 | 0.002980355 |  0.000000000 | FALSE | FALSE | NA |\n",
       "| AKT1 - BRAF | AKT1 | BRAF | AKT1 - BRAF | MUT | MUT | MUT - MUT | 3 | 28 | 0.007978723 | 0.074468085 | ⋯ | 0.737 | CO | 0.001839621 | 1.000 | 0.241 | 0.005861722 | -0.004022101 | FALSE | FALSE | NA |\n",
       "\n"
      ],
      "text/plain": [
       "            SFE_1 SFE_2 name        type_1 type_2 int_type  support_1 support_2\n",
       "AKT1 - ALK  AKT1  ALK   AKT1 - ALK  MUT    MUT    MUT - MUT 3          3       \n",
       "AKT1 - APC  AKT1  APC   AKT1 - APC  MUT    MUT    MUT - MUT 3          8       \n",
       "AKT1 - AR   AKT1  AR    AKT1 - AR   MUT    MUT    MUT - MUT 3          2       \n",
       "AKT1 - ATM  AKT1  ATM   AKT1 - ATM  MUT    MUT    MUT - MUT 3         15       \n",
       "AKT1 - BAP1 AKT1  BAP1  AKT1 - BAP1 MUT    MUT    MUT - MUT 3          4       \n",
       "AKT1 - BRAF AKT1  BRAF  AKT1 - BRAF MUT    MUT    MUT - MUT 3         28       \n",
       "            freq_1      freq_2      ⋯ abs_diff_overlap direction wMI_stat   \n",
       "AKT1 - ALK  0.007978723 0.007978723 ⋯ 0.026            ME        0.002341008\n",
       "AKT1 - APC  0.007978723 0.021276596 ⋯ 0.078            ME        0.004773510\n",
       "AKT1 - AR   0.007978723 0.005319149 ⋯ 0.026            ME        0.001549930\n",
       "AKT1 - ATM  0.007978723 0.039893617 ⋯ 0.141            ME        0.005967738\n",
       "AKT1 - BAP1 0.007978723 0.010638298 ⋯ 0.042            ME        0.002980355\n",
       "AKT1 - BRAF 0.007978723 0.074468085 ⋯ 0.737            CO        0.001839621\n",
       "            wMI_p.value ME_p.value E.r.wMI_stat MI_diff      wMI_p.value_FDR\n",
       "AKT1 - ALK  1.000       0.974      0.002341008   0.000000000 FALSE          \n",
       "AKT1 - APC  1.000       0.925      0.004773510   0.000000000 FALSE          \n",
       "AKT1 - AR   1.000       0.974      0.001549930   0.000000000 FALSE          \n",
       "AKT1 - ATM  0.869       0.864      0.005967738   0.000000000 FALSE          \n",
       "AKT1 - BAP1 1.000       0.958      0.002980355   0.000000000 FALSE          \n",
       "AKT1 - BRAF 1.000       0.241      0.005861722  -0.004022101 FALSE          \n",
       "            select_score_good_cancer_cell_2017_criterion_1 select_score\n",
       "AKT1 - ALK  FALSE                                          NA          \n",
       "AKT1 - APC  FALSE                                          NA          \n",
       "AKT1 - AR   FALSE                                          NA          \n",
       "AKT1 - ATM  FALSE                                          NA          \n",
       "AKT1 - BAP1 FALSE                                          NA          \n",
       "AKT1 - BRAF FALSE                                          NA          "
      ]
     },
     "metadata": {},
     "output_type": "display_data"
    }
   ],
   "source": [
    "head(boot_results[[1]])"
   ]
  },
  {
   "cell_type": "code",
   "execution_count": 60,
   "id": "8e60c493-7076-447c-9821-e89a89aa1606",
   "metadata": {},
   "outputs": [],
   "source": [
    "selectX_100_pct_significnat_results <- select_orginal %>% filter(wMI_p.value_FDR) "
   ]
  },
  {
   "cell_type": "code",
   "execution_count": 61,
   "id": "55a51ec7-0e6d-4cdf-a826-8c4228483035",
   "metadata": {},
   "outputs": [
    {
     "data": {
      "text/html": [
       "<table class=\"dataframe\">\n",
       "<caption>A data.frame: 1 × 1</caption>\n",
       "<thead>\n",
       "\t<tr><th scope=col>n</th></tr>\n",
       "\t<tr><th scope=col>&lt;int&gt;</th></tr>\n",
       "</thead>\n",
       "<tbody>\n",
       "\t<tr><td>20</td></tr>\n",
       "</tbody>\n",
       "</table>\n"
      ],
      "text/latex": [
       "A data.frame: 1 × 1\n",
       "\\begin{tabular}{l}\n",
       " n\\\\\n",
       " <int>\\\\\n",
       "\\hline\n",
       "\t 20\\\\\n",
       "\\end{tabular}\n"
      ],
      "text/markdown": [
       "\n",
       "A data.frame: 1 × 1\n",
       "\n",
       "| n &lt;int&gt; |\n",
       "|---|\n",
       "| 20 |\n",
       "\n"
      ],
      "text/plain": [
       "  n \n",
       "1 20"
      ]
     },
     "metadata": {},
     "output_type": "display_data"
    }
   ],
   "source": [
    "select_orginal %>% filter(wMI_p.value_FDR)  %>% count()"
   ]
  },
  {
   "cell_type": "code",
   "execution_count": 62,
   "id": "3e805862-d217-4858-94da-92d1b7a6824a",
   "metadata": {},
   "outputs": [],
   "source": [
    "score_df<-data.frame('pairs'=selectX_100_pct_significnat_results$name)\n",
    "rownames(score_df)<-score_df$pairs\n",
    "#score_df$Run_100<-1"
   ]
  },
  {
   "cell_type": "code",
   "execution_count": 63,
   "id": "83776bd5-4825-4966-821d-f2abb1b134e7",
   "metadata": {},
   "outputs": [
    {
     "data": {
      "text/html": [
       "<table class=\"dataframe\">\n",
       "<caption>A data.frame: 6 × 1</caption>\n",
       "<thead>\n",
       "\t<tr><th></th><th scope=col>pairs</th></tr>\n",
       "\t<tr><th></th><th scope=col>&lt;chr&gt;</th></tr>\n",
       "</thead>\n",
       "<tbody>\n",
       "\t<tr><th scope=row>BRAF - KRAS</th><td>BRAF - KRAS    </td></tr>\n",
       "\t<tr><th scope=row>CARD11 - ARID1A</th><td>CARD11 - ARID1A</td></tr>\n",
       "\t<tr><th scope=row>CDH1 - SMAD2</th><td>CDH1 - SMAD2   </td></tr>\n",
       "\t<tr><th scope=row>EGFR - KRAS</th><td>EGFR - KRAS    </td></tr>\n",
       "\t<tr><th scope=row>EGFR - STK11</th><td>EGFR - STK11   </td></tr>\n",
       "\t<tr><th scope=row>EZH2 - GNAS</th><td>EZH2 - GNAS    </td></tr>\n",
       "</tbody>\n",
       "</table>\n"
      ],
      "text/latex": [
       "A data.frame: 6 × 1\n",
       "\\begin{tabular}{r|l}\n",
       "  & pairs\\\\\n",
       "  & <chr>\\\\\n",
       "\\hline\n",
       "\tBRAF - KRAS & BRAF - KRAS    \\\\\n",
       "\tCARD11 - ARID1A & CARD11 - ARID1A\\\\\n",
       "\tCDH1 - SMAD2 & CDH1 - SMAD2   \\\\\n",
       "\tEGFR - KRAS & EGFR - KRAS    \\\\\n",
       "\tEGFR - STK11 & EGFR - STK11   \\\\\n",
       "\tEZH2 - GNAS & EZH2 - GNAS    \\\\\n",
       "\\end{tabular}\n"
      ],
      "text/markdown": [
       "\n",
       "A data.frame: 6 × 1\n",
       "\n",
       "| <!--/--> | pairs &lt;chr&gt; |\n",
       "|---|---|\n",
       "| BRAF - KRAS | BRAF - KRAS     |\n",
       "| CARD11 - ARID1A | CARD11 - ARID1A |\n",
       "| CDH1 - SMAD2 | CDH1 - SMAD2    |\n",
       "| EGFR - KRAS | EGFR - KRAS     |\n",
       "| EGFR - STK11 | EGFR - STK11    |\n",
       "| EZH2 - GNAS | EZH2 - GNAS     |\n",
       "\n"
      ],
      "text/plain": [
       "                pairs          \n",
       "BRAF - KRAS     BRAF - KRAS    \n",
       "CARD11 - ARID1A CARD11 - ARID1A\n",
       "CDH1 - SMAD2    CDH1 - SMAD2   \n",
       "EGFR - KRAS     EGFR - KRAS    \n",
       "EGFR - STK11    EGFR - STK11   \n",
       "EZH2 - GNAS     EZH2 - GNAS    "
      ]
     },
     "metadata": {},
     "output_type": "display_data"
    }
   ],
   "source": [
    "head(score_df)"
   ]
  },
  {
   "cell_type": "code",
   "execution_count": 64,
   "id": "0e462fde-a202-4ce5-9b2e-308390f5e14e",
   "metadata": {},
   "outputs": [],
   "source": [
    "select_mcc <- list()"
   ]
  },
  {
   "cell_type": "code",
   "execution_count": 65,
   "id": "0e727e24-fe39-4028-9ddc-318a46f556ff",
   "metadata": {},
   "outputs": [],
   "source": [
    "for (t in c(1:10)){\n",
    "    #score_df[[paste('Run',i,sep=\"_\")]]<-0\n",
    "    temp <- (boot_results[[t]] %>% filter(name %in% score_df$pairs) %>% filter(wMI_p.value_FDR))$name\n",
    "    #select_jaccard[[i]]<-jaccard(score_df$pairs,temp)\n",
    "    conf <- confusion_matrix(score_df$pairs,temp,setdiff(select_orginal$name,score_df$pairs))\n",
    "    a<- as.numeric((conf[[1]]+conf[[3]]))\n",
    "    b<- as.numeric((conf[[1]]+conf[[2]]))\n",
    "    c<- as.numeric((conf[[4]]+conf[[2]]))   \n",
    "    d<- as.numeric((conf[[4]]+conf[[3]])) \n",
    "    e <- as.numeric((conf[[1]]*conf[[4]]))\n",
    "    f <- as.numeric((conf[[2]]*conf[[3]]))\n",
    "    g <- as.numeric(e-f)\n",
    "    h <- as.numeric(a*b*c*d)\n",
    "    i <- sqrt(h)\n",
    "    mcc <- g/i\n",
    "    select_mcc[[t]]<-mcc\n",
    "    #score_df[temp,][[paste('Run',i,sep=\"_\")]]<-1\n",
    "}"
   ]
  },
  {
   "cell_type": "code",
   "execution_count": 66,
   "id": "54df4835-ed2c-41dd-b5c2-510235fb8b7b",
   "metadata": {
    "tags": []
   },
   "outputs": [
    {
     "data": {
      "image/png": "[encoded data removed]",
      "text/plain": [
       "plot without title"
      ]
     },
     "metadata": {
      "image/png": {
       "height": 420,
       "width": 420
      }
     },
     "output_type": "display_data"
    }
   ],
   "source": [
    "ggboxplot(unlist(select_mcc))"
   ]
  },
  {
   "cell_type": "markdown",
   "id": "46b02b90-5cbd-4ccf-b8b7-ab36f234146e",
   "metadata": {
    "jp-MarkdownHeadingCollapsed": true,
    "tags": []
   },
   "source": [
    "## GAMToc"
   ]
  },
  {
   "cell_type": "code",
   "execution_count": 67,
   "id": "fdedee80-6161-465a-9421-5db7d1e1bba6",
   "metadata": {},
   "outputs": [],
   "source": [
    "select_orginal <- read.table('/mnt/ptemp/arvind/tool_comaprision/results/gamtoc/luad_all.txt',header = TRUE)"
   ]
  },
  {
   "cell_type": "code",
   "execution_count": 68,
   "id": "8aee12e4-9bbe-4a44-8757-a16fd4dd585a",
   "metadata": {},
   "outputs": [],
   "source": [
    "boot_results <- list()\n",
    "k=1\n",
    "for (i in c(1:5)){\n",
    "    name <- paste('/mnt/ptemp/arvind/tool_comaprision/tool/gamtoc/luad_run/luad_results/luad_V',i,'.txt',sep=\"\")\n",
    "    boot_results[[k]] <- read.table(file=name,header = TRUE)\n",
    "    k=k+1\n",
    "}"
   ]
  },
  {
   "cell_type": "code",
   "execution_count": 69,
   "id": "fe6d8142-398d-431d-a0dd-3c73154ebb4a",
   "metadata": {},
   "outputs": [],
   "source": [
    "for (i in c(11:15)){\n",
    "    name <- paste('/mnt/ptemp/arvind/tool_comaprision/tool/gamtoc/luad_run/luad_results/luad_V',i,'_result.txt',sep=\"\")\n",
    "    boot_results[[k]] <- read.table(file=name,header = TRUE)\n",
    "    k=k+1\n",
    "}"
   ]
  },
  {
   "cell_type": "code",
   "execution_count": 70,
   "id": "89d1d228-ee42-4f36-b753-b90e03ba8d9c",
   "metadata": {},
   "outputs": [
    {
     "data": {
      "text/html": [
       "10"
      ],
      "text/latex": [
       "10"
      ],
      "text/markdown": [
       "10"
      ],
      "text/plain": [
       "[1] 10"
      ]
     },
     "metadata": {},
     "output_type": "display_data"
    }
   ],
   "source": [
    "length(boot_results)"
   ]
  },
  {
   "cell_type": "code",
   "execution_count": 71,
   "id": "bcbba8ee-cf5b-4cd9-bd93-b302aa4e867d",
   "metadata": {},
   "outputs": [
    {
     "data": {
      "text/html": [
       "<table class=\"dataframe\">\n",
       "<caption>A data.frame: 6 × 6</caption>\n",
       "<thead>\n",
       "\t<tr><th></th><th scope=col>node1</th><th scope=col>node2</th><th scope=col>corr</th><th scope=col>tc</th><th scope=col>log.hyg</th><th scope=col>importance</th></tr>\n",
       "\t<tr><th></th><th scope=col>&lt;chr&gt;</th><th scope=col>&lt;chr&gt;</th><th scope=col>&lt;dbl&gt;</th><th scope=col>&lt;dbl&gt;</th><th scope=col>&lt;dbl&gt;</th><th scope=col>&lt;dbl&gt;</th></tr>\n",
       "</thead>\n",
       "<tbody>\n",
       "\t<tr><th scope=row>1</th><td>EGFR</td><td>KRAS</td><td>-0.23</td><td>0</td><td>0</td><td>0</td></tr>\n",
       "\t<tr><th scope=row>2</th><td>EGFR</td><td>BRAF</td><td>-0.07</td><td>0</td><td>0</td><td>0</td></tr>\n",
       "\t<tr><th scope=row>3</th><td>KRAS</td><td>BRAF</td><td>-0.18</td><td>0</td><td>0</td><td>0</td></tr>\n",
       "\t<tr><th scope=row>4</th><td>EGFR</td><td>TP53</td><td> 0.01</td><td>0</td><td>0</td><td>0</td></tr>\n",
       "\t<tr><th scope=row>5</th><td>KRAS</td><td>TP53</td><td>-0.21</td><td>0</td><td>0</td><td>0</td></tr>\n",
       "\t<tr><th scope=row>6</th><td>BRAF</td><td>TP53</td><td> 0.04</td><td>0</td><td>0</td><td>0</td></tr>\n",
       "</tbody>\n",
       "</table>\n"
      ],
      "text/latex": [
       "A data.frame: 6 × 6\n",
       "\\begin{tabular}{r|llllll}\n",
       "  & node1 & node2 & corr & tc & log.hyg & importance\\\\\n",
       "  & <chr> & <chr> & <dbl> & <dbl> & <dbl> & <dbl>\\\\\n",
       "\\hline\n",
       "\t1 & EGFR & KRAS & -0.23 & 0 & 0 & 0\\\\\n",
       "\t2 & EGFR & BRAF & -0.07 & 0 & 0 & 0\\\\\n",
       "\t3 & KRAS & BRAF & -0.18 & 0 & 0 & 0\\\\\n",
       "\t4 & EGFR & TP53 &  0.01 & 0 & 0 & 0\\\\\n",
       "\t5 & KRAS & TP53 & -0.21 & 0 & 0 & 0\\\\\n",
       "\t6 & BRAF & TP53 &  0.04 & 0 & 0 & 0\\\\\n",
       "\\end{tabular}\n"
      ],
      "text/markdown": [
       "\n",
       "A data.frame: 6 × 6\n",
       "\n",
       "| <!--/--> | node1 &lt;chr&gt; | node2 &lt;chr&gt; | corr &lt;dbl&gt; | tc &lt;dbl&gt; | log.hyg &lt;dbl&gt; | importance &lt;dbl&gt; |\n",
       "|---|---|---|---|---|---|---|\n",
       "| 1 | EGFR | KRAS | -0.23 | 0 | 0 | 0 |\n",
       "| 2 | EGFR | BRAF | -0.07 | 0 | 0 | 0 |\n",
       "| 3 | KRAS | BRAF | -0.18 | 0 | 0 | 0 |\n",
       "| 4 | EGFR | TP53 |  0.01 | 0 | 0 | 0 |\n",
       "| 5 | KRAS | TP53 | -0.21 | 0 | 0 | 0 |\n",
       "| 6 | BRAF | TP53 |  0.04 | 0 | 0 | 0 |\n",
       "\n"
      ],
      "text/plain": [
       "  node1 node2 corr  tc log.hyg importance\n",
       "1 EGFR  KRAS  -0.23 0  0       0         \n",
       "2 EGFR  BRAF  -0.07 0  0       0         \n",
       "3 KRAS  BRAF  -0.18 0  0       0         \n",
       "4 EGFR  TP53   0.01 0  0       0         \n",
       "5 KRAS  TP53  -0.21 0  0       0         \n",
       "6 BRAF  TP53   0.04 0  0       0         "
      ]
     },
     "metadata": {},
     "output_type": "display_data"
    }
   ],
   "source": [
    "head(boot_results[[10]])"
   ]
  },
  {
   "cell_type": "code",
   "execution_count": 72,
   "id": "d6d04b60-79cf-48af-bfd2-85063b25e00d",
   "metadata": {},
   "outputs": [
    {
     "data": {
      "text/html": [
       "21"
      ],
      "text/latex": [
       "21"
      ],
      "text/markdown": [
       "21"
      ],
      "text/plain": [
       "[1] 21"
      ]
     },
     "metadata": {},
     "output_type": "display_data"
    }
   ],
   "source": [
    "length(unique(paste(select_orginal$node2,select_orginal$node1,sep=' - ')))"
   ]
  },
  {
   "cell_type": "code",
   "execution_count": 73,
   "id": "46eeba21-ee6c-43fb-a856-9fae9072c47b",
   "metadata": {},
   "outputs": [
    {
     "data": {
      "text/html": [
       "<table class=\"dataframe\">\n",
       "<caption>A data.frame: 21 × 6</caption>\n",
       "<thead>\n",
       "\t<tr><th scope=col>node1</th><th scope=col>node2</th><th scope=col>corr</th><th scope=col>tc</th><th scope=col>log.hyg</th><th scope=col>importance</th></tr>\n",
       "\t<tr><th scope=col>&lt;chr&gt;</th><th scope=col>&lt;chr&gt;</th><th scope=col>&lt;dbl&gt;</th><th scope=col>&lt;dbl&gt;</th><th scope=col>&lt;dbl&gt;</th><th scope=col>&lt;dbl&gt;</th></tr>\n",
       "</thead>\n",
       "<tbody>\n",
       "\t<tr><td>EGFR </td><td>KRAS </td><td>-0.25</td><td>0</td><td>0</td><td>0</td></tr>\n",
       "\t<tr><td>EGFR </td><td>TP53 </td><td> 0.04</td><td>0</td><td>0</td><td>0</td></tr>\n",
       "\t<tr><td>KRAS </td><td>TP53 </td><td>-0.22</td><td>0</td><td>0</td><td>0</td></tr>\n",
       "\t<tr><td>EGFR </td><td>STK11</td><td>-0.14</td><td>0</td><td>0</td><td>0</td></tr>\n",
       "\t<tr><td>KRAS </td><td>STK11</td><td> 0.12</td><td>0</td><td>0</td><td>0</td></tr>\n",
       "\t<tr><td>TP53 </td><td>STK11</td><td>-0.18</td><td>0</td><td>0</td><td>0</td></tr>\n",
       "\t<tr><td>EGFR </td><td>KEAP1</td><td>-0.10</td><td>0</td><td>0</td><td>0</td></tr>\n",
       "\t<tr><td>KRAS </td><td>KEAP1</td><td> 0.04</td><td>0</td><td>0</td><td>0</td></tr>\n",
       "\t<tr><td>TP53 </td><td>KEAP1</td><td>-0.09</td><td>0</td><td>0</td><td>0</td></tr>\n",
       "\t<tr><td>STK11</td><td>KEAP1</td><td> 0.15</td><td>0</td><td>0</td><td>0</td></tr>\n",
       "\t<tr><td>EGFR </td><td>NF1  </td><td>-0.07</td><td>0</td><td>0</td><td>0</td></tr>\n",
       "\t<tr><td>KRAS </td><td>NF1  </td><td>-0.12</td><td>0</td><td>0</td><td>0</td></tr>\n",
       "\t<tr><td>TP53 </td><td>NF1  </td><td> 0.12</td><td>0</td><td>0</td><td>0</td></tr>\n",
       "\t<tr><td>STK11</td><td>NF1  </td><td>-0.03</td><td>0</td><td>0</td><td>0</td></tr>\n",
       "\t<tr><td>KEAP1</td><td>NF1  </td><td> 0.06</td><td>0</td><td>0</td><td>0</td></tr>\n",
       "\t<tr><td>EGFR </td><td>BRAF </td><td>-0.05</td><td>0</td><td>0</td><td>0</td></tr>\n",
       "\t<tr><td>KRAS </td><td>BRAF </td><td>-0.16</td><td>0</td><td>0</td><td>0</td></tr>\n",
       "\t<tr><td>TP53 </td><td>BRAF </td><td> 0.05</td><td>0</td><td>0</td><td>0</td></tr>\n",
       "\t<tr><td>STK11</td><td>BRAF </td><td>-0.06</td><td>0</td><td>0</td><td>0</td></tr>\n",
       "\t<tr><td>KEAP1</td><td>BRAF </td><td>-0.08</td><td>0</td><td>0</td><td>0</td></tr>\n",
       "\t<tr><td>NF1  </td><td>BRAF </td><td>-0.01</td><td>0</td><td>0</td><td>0</td></tr>\n",
       "</tbody>\n",
       "</table>\n"
      ],
      "text/latex": [
       "A data.frame: 21 × 6\n",
       "\\begin{tabular}{llllll}\n",
       " node1 & node2 & corr & tc & log.hyg & importance\\\\\n",
       " <chr> & <chr> & <dbl> & <dbl> & <dbl> & <dbl>\\\\\n",
       "\\hline\n",
       "\t EGFR  & KRAS  & -0.25 & 0 & 0 & 0\\\\\n",
       "\t EGFR  & TP53  &  0.04 & 0 & 0 & 0\\\\\n",
       "\t KRAS  & TP53  & -0.22 & 0 & 0 & 0\\\\\n",
       "\t EGFR  & STK11 & -0.14 & 0 & 0 & 0\\\\\n",
       "\t KRAS  & STK11 &  0.12 & 0 & 0 & 0\\\\\n",
       "\t TP53  & STK11 & -0.18 & 0 & 0 & 0\\\\\n",
       "\t EGFR  & KEAP1 & -0.10 & 0 & 0 & 0\\\\\n",
       "\t KRAS  & KEAP1 &  0.04 & 0 & 0 & 0\\\\\n",
       "\t TP53  & KEAP1 & -0.09 & 0 & 0 & 0\\\\\n",
       "\t STK11 & KEAP1 &  0.15 & 0 & 0 & 0\\\\\n",
       "\t EGFR  & NF1   & -0.07 & 0 & 0 & 0\\\\\n",
       "\t KRAS  & NF1   & -0.12 & 0 & 0 & 0\\\\\n",
       "\t TP53  & NF1   &  0.12 & 0 & 0 & 0\\\\\n",
       "\t STK11 & NF1   & -0.03 & 0 & 0 & 0\\\\\n",
       "\t KEAP1 & NF1   &  0.06 & 0 & 0 & 0\\\\\n",
       "\t EGFR  & BRAF  & -0.05 & 0 & 0 & 0\\\\\n",
       "\t KRAS  & BRAF  & -0.16 & 0 & 0 & 0\\\\\n",
       "\t TP53  & BRAF  &  0.05 & 0 & 0 & 0\\\\\n",
       "\t STK11 & BRAF  & -0.06 & 0 & 0 & 0\\\\\n",
       "\t KEAP1 & BRAF  & -0.08 & 0 & 0 & 0\\\\\n",
       "\t NF1   & BRAF  & -0.01 & 0 & 0 & 0\\\\\n",
       "\\end{tabular}\n"
      ],
      "text/markdown": [
       "\n",
       "A data.frame: 21 × 6\n",
       "\n",
       "| node1 &lt;chr&gt; | node2 &lt;chr&gt; | corr &lt;dbl&gt; | tc &lt;dbl&gt; | log.hyg &lt;dbl&gt; | importance &lt;dbl&gt; |\n",
       "|---|---|---|---|---|---|\n",
       "| EGFR  | KRAS  | -0.25 | 0 | 0 | 0 |\n",
       "| EGFR  | TP53  |  0.04 | 0 | 0 | 0 |\n",
       "| KRAS  | TP53  | -0.22 | 0 | 0 | 0 |\n",
       "| EGFR  | STK11 | -0.14 | 0 | 0 | 0 |\n",
       "| KRAS  | STK11 |  0.12 | 0 | 0 | 0 |\n",
       "| TP53  | STK11 | -0.18 | 0 | 0 | 0 |\n",
       "| EGFR  | KEAP1 | -0.10 | 0 | 0 | 0 |\n",
       "| KRAS  | KEAP1 |  0.04 | 0 | 0 | 0 |\n",
       "| TP53  | KEAP1 | -0.09 | 0 | 0 | 0 |\n",
       "| STK11 | KEAP1 |  0.15 | 0 | 0 | 0 |\n",
       "| EGFR  | NF1   | -0.07 | 0 | 0 | 0 |\n",
       "| KRAS  | NF1   | -0.12 | 0 | 0 | 0 |\n",
       "| TP53  | NF1   |  0.12 | 0 | 0 | 0 |\n",
       "| STK11 | NF1   | -0.03 | 0 | 0 | 0 |\n",
       "| KEAP1 | NF1   |  0.06 | 0 | 0 | 0 |\n",
       "| EGFR  | BRAF  | -0.05 | 0 | 0 | 0 |\n",
       "| KRAS  | BRAF  | -0.16 | 0 | 0 | 0 |\n",
       "| TP53  | BRAF  |  0.05 | 0 | 0 | 0 |\n",
       "| STK11 | BRAF  | -0.06 | 0 | 0 | 0 |\n",
       "| KEAP1 | BRAF  | -0.08 | 0 | 0 | 0 |\n",
       "| NF1   | BRAF  | -0.01 | 0 | 0 | 0 |\n",
       "\n"
      ],
      "text/plain": [
       "   node1 node2 corr  tc log.hyg importance\n",
       "1  EGFR  KRAS  -0.25 0  0       0         \n",
       "2  EGFR  TP53   0.04 0  0       0         \n",
       "3  KRAS  TP53  -0.22 0  0       0         \n",
       "4  EGFR  STK11 -0.14 0  0       0         \n",
       "5  KRAS  STK11  0.12 0  0       0         \n",
       "6  TP53  STK11 -0.18 0  0       0         \n",
       "7  EGFR  KEAP1 -0.10 0  0       0         \n",
       "8  KRAS  KEAP1  0.04 0  0       0         \n",
       "9  TP53  KEAP1 -0.09 0  0       0         \n",
       "10 STK11 KEAP1  0.15 0  0       0         \n",
       "11 EGFR  NF1   -0.07 0  0       0         \n",
       "12 KRAS  NF1   -0.12 0  0       0         \n",
       "13 TP53  NF1    0.12 0  0       0         \n",
       "14 STK11 NF1   -0.03 0  0       0         \n",
       "15 KEAP1 NF1    0.06 0  0       0         \n",
       "16 EGFR  BRAF  -0.05 0  0       0         \n",
       "17 KRAS  BRAF  -0.16 0  0       0         \n",
       "18 TP53  BRAF   0.05 0  0       0         \n",
       "19 STK11 BRAF  -0.06 0  0       0         \n",
       "20 KEAP1 BRAF  -0.08 0  0       0         \n",
       "21 NF1   BRAF  -0.01 0  0       0         "
      ]
     },
     "metadata": {},
     "output_type": "display_data"
    }
   ],
   "source": [
    "select_orginal"
   ]
  },
  {
   "cell_type": "code",
   "execution_count": 74,
   "id": "0e2c49f1-8085-405e-85b5-51f28c4f53e6",
   "metadata": {},
   "outputs": [],
   "source": [
    "selectX_100_pct_significnat_results <- select_orginal"
   ]
  },
  {
   "cell_type": "code",
   "execution_count": 75,
   "id": "25de2003-ab1a-4fa7-b5f4-7f42efbafed1",
   "metadata": {},
   "outputs": [
    {
     "data": {
      "text/html": [
       "<table class=\"dataframe\">\n",
       "<caption>A data.frame: 1 × 1</caption>\n",
       "<thead>\n",
       "\t<tr><th scope=col>n</th></tr>\n",
       "\t<tr><th scope=col>&lt;int&gt;</th></tr>\n",
       "</thead>\n",
       "<tbody>\n",
       "\t<tr><td>21</td></tr>\n",
       "</tbody>\n",
       "</table>\n"
      ],
      "text/latex": [
       "A data.frame: 1 × 1\n",
       "\\begin{tabular}{l}\n",
       " n\\\\\n",
       " <int>\\\\\n",
       "\\hline\n",
       "\t 21\\\\\n",
       "\\end{tabular}\n"
      ],
      "text/markdown": [
       "\n",
       "A data.frame: 1 × 1\n",
       "\n",
       "| n &lt;int&gt; |\n",
       "|---|\n",
       "| 21 |\n",
       "\n"
      ],
      "text/plain": [
       "  n \n",
       "1 21"
      ]
     },
     "metadata": {},
     "output_type": "display_data"
    }
   ],
   "source": [
    "select_orginal %>% count()"
   ]
  },
  {
   "cell_type": "code",
   "execution_count": 76,
   "id": "42a8a33c-365a-4e9c-bc4a-5b43d1e2b486",
   "metadata": {},
   "outputs": [],
   "source": [
    "score_df<-data.frame('pairs'=paste(select_orginal$node2,select_orginal$node1,sep=' - '))\n",
    "rownames(score_df)<-score_df$pairs\n",
    "score_df$Run_100<-1"
   ]
  },
  {
   "cell_type": "code",
   "execution_count": 77,
   "id": "3228a4aa-766d-4ca6-b09f-b3c43d881d84",
   "metadata": {},
   "outputs": [
    {
     "data": {
      "text/html": [
       "<table class=\"dataframe\">\n",
       "<caption>A data.frame: 6 × 2</caption>\n",
       "<thead>\n",
       "\t<tr><th></th><th scope=col>pairs</th><th scope=col>Run_100</th></tr>\n",
       "\t<tr><th></th><th scope=col>&lt;chr&gt;</th><th scope=col>&lt;dbl&gt;</th></tr>\n",
       "</thead>\n",
       "<tbody>\n",
       "\t<tr><th scope=row>KRAS - EGFR</th><td>KRAS - EGFR </td><td>1</td></tr>\n",
       "\t<tr><th scope=row>TP53 - EGFR</th><td>TP53 - EGFR </td><td>1</td></tr>\n",
       "\t<tr><th scope=row>TP53 - KRAS</th><td>TP53 - KRAS </td><td>1</td></tr>\n",
       "\t<tr><th scope=row>STK11 - EGFR</th><td>STK11 - EGFR</td><td>1</td></tr>\n",
       "\t<tr><th scope=row>STK11 - KRAS</th><td>STK11 - KRAS</td><td>1</td></tr>\n",
       "\t<tr><th scope=row>STK11 - TP53</th><td>STK11 - TP53</td><td>1</td></tr>\n",
       "</tbody>\n",
       "</table>\n"
      ],
      "text/latex": [
       "A data.frame: 6 × 2\n",
       "\\begin{tabular}{r|ll}\n",
       "  & pairs & Run\\_100\\\\\n",
       "  & <chr> & <dbl>\\\\\n",
       "\\hline\n",
       "\tKRAS - EGFR & KRAS - EGFR  & 1\\\\\n",
       "\tTP53 - EGFR & TP53 - EGFR  & 1\\\\\n",
       "\tTP53 - KRAS & TP53 - KRAS  & 1\\\\\n",
       "\tSTK11 - EGFR & STK11 - EGFR & 1\\\\\n",
       "\tSTK11 - KRAS & STK11 - KRAS & 1\\\\\n",
       "\tSTK11 - TP53 & STK11 - TP53 & 1\\\\\n",
       "\\end{tabular}\n"
      ],
      "text/markdown": [
       "\n",
       "A data.frame: 6 × 2\n",
       "\n",
       "| <!--/--> | pairs &lt;chr&gt; | Run_100 &lt;dbl&gt; |\n",
       "|---|---|---|\n",
       "| KRAS - EGFR | KRAS - EGFR  | 1 |\n",
       "| TP53 - EGFR | TP53 - EGFR  | 1 |\n",
       "| TP53 - KRAS | TP53 - KRAS  | 1 |\n",
       "| STK11 - EGFR | STK11 - EGFR | 1 |\n",
       "| STK11 - KRAS | STK11 - KRAS | 1 |\n",
       "| STK11 - TP53 | STK11 - TP53 | 1 |\n",
       "\n"
      ],
      "text/plain": [
       "             pairs        Run_100\n",
       "KRAS - EGFR  KRAS - EGFR  1      \n",
       "TP53 - EGFR  TP53 - EGFR  1      \n",
       "TP53 - KRAS  TP53 - KRAS  1      \n",
       "STK11 - EGFR STK11 - EGFR 1      \n",
       "STK11 - KRAS STK11 - KRAS 1      \n",
       "STK11 - TP53 STK11 - TP53 1      "
      ]
     },
     "metadata": {},
     "output_type": "display_data"
    }
   ],
   "source": [
    "head(score_df)"
   ]
  },
  {
   "cell_type": "code",
   "execution_count": 78,
   "id": "7446733a-de75-4da8-8d2c-b5b904b83172",
   "metadata": {},
   "outputs": [],
   "source": [
    "gamtoc_mcc <- list()"
   ]
  },
  {
   "cell_type": "code",
   "execution_count": 79,
   "id": "d4685740-b935-4d0b-aff7-36a7644dee27",
   "metadata": {
    "tags": []
   },
   "outputs": [
    {
     "data": {
      "text/html": [
       "6216"
      ],
      "text/latex": [
       "6216"
      ],
      "text/markdown": [
       "6216"
      ],
      "text/plain": [
       "[1] 6216"
      ]
     },
     "metadata": {},
     "output_type": "display_data"
    }
   ],
   "source": [
    "112*111/2"
   ]
  },
  {
   "cell_type": "code",
   "execution_count": 80,
   "id": "ae84521a-6954-4979-ad70-42df3ba6854f",
   "metadata": {},
   "outputs": [],
   "source": [
    "for (t in c(1:10)){\n",
    "    #score_df[[paste('Run',i,sep=\"_\")]]<-0\n",
    "    boot_results[[t]]$name_2 <- paste(boot_results[[t]]$node2,boot_results[[t]]$node1,sep=' - ')\n",
    "    temp <- (boot_results[[t]] %>% filter(name_2 %in% score_df$pairs))$name_2\n",
    "    #score_df[temp,][[paste('Run',i,sep=\"_\")]]<-1\n",
    "    #gamtoc_jaccard[[i]]<-jaccard(score_df$pairs,temp)\n",
    "    possible <- 6216-length(score_df$pairs)\n",
    "    conf <- confusion_matrix(score_df$pairs,temp,c(1:possible))\n",
    "    a<- as.numeric((conf[[1]]+conf[[3]]))\n",
    "    b<- as.numeric((conf[[1]]+conf[[2]]))\n",
    "    c<- as.numeric((conf[[4]]+conf[[2]]))   \n",
    "    d<- as.numeric((conf[[4]]+conf[[3]])) \n",
    "    e <- as.numeric((conf[[1]]*conf[[4]]))\n",
    "    f <- as.numeric((conf[[2]]*conf[[3]]))\n",
    "    g <- as.numeric(e-f)\n",
    "    h <- as.numeric(a*b*c*d)\n",
    "    i <- sqrt(h)\n",
    "    mcc <- g/i\n",
    "    #print(e)\n",
    "    gamtoc_mcc[[t]]<-mcc\n",
    "}"
   ]
  },
  {
   "cell_type": "code",
   "execution_count": 81,
   "id": "0f38b186-43fa-4de8-84f8-a8821252dcb7",
   "metadata": {},
   "outputs": [
    {
     "data": {
      "text/html": [
       "<ol>\n",
       "\t<li>0.816035673986721</li>\n",
       "\t<li>0.68945372500993</li>\n",
       "\t<li>0.844745276115297</li>\n",
       "\t<li>0.844745276115297</li>\n",
       "\t<li>0.616566816472682</li>\n",
       "\t<li>0.816035673986721</li>\n",
       "\t<li>0.68945372500993</li>\n",
       "\t<li>0.844745276115297</li>\n",
       "\t<li>0.844745276115297</li>\n",
       "\t<li>0.616566816472682</li>\n",
       "</ol>\n"
      ],
      "text/latex": [
       "\\begin{enumerate}\n",
       "\\item 0.816035673986721\n",
       "\\item 0.68945372500993\n",
       "\\item 0.844745276115297\n",
       "\\item 0.844745276115297\n",
       "\\item 0.616566816472682\n",
       "\\item 0.816035673986721\n",
       "\\item 0.68945372500993\n",
       "\\item 0.844745276115297\n",
       "\\item 0.844745276115297\n",
       "\\item 0.616566816472682\n",
       "\\end{enumerate}\n"
      ],
      "text/markdown": [
       "1. 0.816035673986721\n",
       "2. 0.68945372500993\n",
       "3. 0.844745276115297\n",
       "4. 0.844745276115297\n",
       "5. 0.616566816472682\n",
       "6. 0.816035673986721\n",
       "7. 0.68945372500993\n",
       "8. 0.844745276115297\n",
       "9. 0.844745276115297\n",
       "10. 0.616566816472682\n",
       "\n",
       "\n"
      ],
      "text/plain": [
       "[[1]]\n",
       "[1] 0.8160357\n",
       "\n",
       "[[2]]\n",
       "[1] 0.6894537\n",
       "\n",
       "[[3]]\n",
       "[1] 0.8447453\n",
       "\n",
       "[[4]]\n",
       "[1] 0.8447453\n",
       "\n",
       "[[5]]\n",
       "[1] 0.6165668\n",
       "\n",
       "[[6]]\n",
       "[1] 0.8160357\n",
       "\n",
       "[[7]]\n",
       "[1] 0.6894537\n",
       "\n",
       "[[8]]\n",
       "[1] 0.8447453\n",
       "\n",
       "[[9]]\n",
       "[1] 0.8447453\n",
       "\n",
       "[[10]]\n",
       "[1] 0.6165668\n"
      ]
     },
     "metadata": {},
     "output_type": "display_data"
    }
   ],
   "source": [
    "gamtoc_mcc"
   ]
  },
  {
   "cell_type": "code",
   "execution_count": 82,
   "id": "a3236a55-7b77-441e-a226-a440c004b6a9",
   "metadata": {
    "tags": []
   },
   "outputs": [
    {
     "data": {
      "image/png": "[encoded data removed]",
      "text/plain": [
       "plot without title"
      ]
     },
     "metadata": {
      "image/png": {
       "height": 420,
       "width": 420
      }
     },
     "output_type": "display_data"
    }
   ],
   "source": [
    "ggboxplot(unlist(gamtoc_mcc))"
   ]
  },
  {
   "cell_type": "markdown",
   "id": "4f71364d-9736-4420-8fca-4ecbe56a43c1",
   "metadata": {
    "jp-MarkdownHeadingCollapsed": true,
    "tags": []
   },
   "source": [
    "## Discover"
   ]
  },
  {
   "cell_type": "code",
   "execution_count": 83,
   "id": "f3fb01b6-5fd7-4493-9e65-54eca08861fa",
   "metadata": {},
   "outputs": [],
   "source": [
    "select_orginal <- readRDS('/mnt/ptemp/arvind/tool_comaprision/results/Discover/luad_all.rds')"
   ]
  },
  {
   "cell_type": "code",
   "execution_count": 84,
   "id": "84b8448b-9379-473e-a04d-fd021eb382e7",
   "metadata": {},
   "outputs": [],
   "source": [
    "boot_results <- list()\n",
    "k=1\n",
    "for (i in c(1:10)){\n",
    "    name <- paste('/mnt/ptemp/arvind/tool_comaprision/results/Discover/sampling_run_result_80_',i,'.rds',sep=\"\")\n",
    "    boot_results[[k]] <- readRDS(file=name)\n",
    "    k=k+1\n",
    "}"
   ]
  },
  {
   "cell_type": "code",
   "execution_count": 85,
   "id": "2b988ea8-799f-4f5e-9b9e-22d650fdc158",
   "metadata": {},
   "outputs": [
    {
     "data": {
      "text/html": [
       "10"
      ],
      "text/latex": [
       "10"
      ],
      "text/markdown": [
       "10"
      ],
      "text/plain": [
       "[1] 10"
      ]
     },
     "metadata": {},
     "output_type": "display_data"
    }
   ],
   "source": [
    "length(boot_results)"
   ]
  },
  {
   "cell_type": "code",
   "execution_count": 86,
   "id": "a35f4a06-b7dc-4b53-8dd2-37a2a8ab1738",
   "metadata": {},
   "outputs": [
    {
     "data": {
      "text/html": [
       "<table class=\"dataframe\">\n",
       "<caption>A data.frame: 6 × 5</caption>\n",
       "<thead>\n",
       "\t<tr><th></th><th scope=col>gene1</th><th scope=col>gene2</th><th scope=col>p.value</th><th scope=col>q.value</th><th scope=col>type</th></tr>\n",
       "\t<tr><th></th><th scope=col>&lt;chr&gt;</th><th scope=col>&lt;chr&gt;</th><th scope=col>&lt;dbl&gt;</th><th scope=col>&lt;dbl&gt;</th><th scope=col>&lt;chr&gt;</th></tr>\n",
       "</thead>\n",
       "<tbody>\n",
       "\t<tr><th scope=row>7</th><td>KRAS </td><td>EGFR </td><td>5.168980e-10</td><td>1.637007e-09</td><td>ME</td></tr>\n",
       "\t<tr><th scope=row>24</th><td>TP53 </td><td>STK11</td><td>9.902545e-05</td><td>6.124225e-04</td><td>ME</td></tr>\n",
       "\t<tr><th scope=row>10</th><td>STK11</td><td>EGFR </td><td>1.804629e-04</td><td>7.117364e-04</td><td>ME</td></tr>\n",
       "\t<tr><th scope=row>19</th><td>TP53 </td><td>KRAS </td><td>3.001285e-04</td><td>9.796278e-04</td><td>ME</td></tr>\n",
       "\t<tr><th scope=row>3</th><td>KRAS </td><td>BRAF </td><td>6.082680e-04</td><td>1.370175e-03</td><td>ME</td></tr>\n",
       "\t<tr><th scope=row>11</th><td>KEAP1</td><td>EGFR </td><td>5.566849e-03</td><td>2.139584e-02</td><td>ME</td></tr>\n",
       "</tbody>\n",
       "</table>\n"
      ],
      "text/latex": [
       "A data.frame: 6 × 5\n",
       "\\begin{tabular}{r|lllll}\n",
       "  & gene1 & gene2 & p.value & q.value & type\\\\\n",
       "  & <chr> & <chr> & <dbl> & <dbl> & <chr>\\\\\n",
       "\\hline\n",
       "\t7 & KRAS  & EGFR  & 5.168980e-10 & 1.637007e-09 & ME\\\\\n",
       "\t24 & TP53  & STK11 & 9.902545e-05 & 6.124225e-04 & ME\\\\\n",
       "\t10 & STK11 & EGFR  & 1.804629e-04 & 7.117364e-04 & ME\\\\\n",
       "\t19 & TP53  & KRAS  & 3.001285e-04 & 9.796278e-04 & ME\\\\\n",
       "\t3 & KRAS  & BRAF  & 6.082680e-04 & 1.370175e-03 & ME\\\\\n",
       "\t11 & KEAP1 & EGFR  & 5.566849e-03 & 2.139584e-02 & ME\\\\\n",
       "\\end{tabular}\n"
      ],
      "text/markdown": [
       "\n",
       "A data.frame: 6 × 5\n",
       "\n",
       "| <!--/--> | gene1 &lt;chr&gt; | gene2 &lt;chr&gt; | p.value &lt;dbl&gt; | q.value &lt;dbl&gt; | type &lt;chr&gt; |\n",
       "|---|---|---|---|---|---|\n",
       "| 7 | KRAS  | EGFR  | 5.168980e-10 | 1.637007e-09 | ME |\n",
       "| 24 | TP53  | STK11 | 9.902545e-05 | 6.124225e-04 | ME |\n",
       "| 10 | STK11 | EGFR  | 1.804629e-04 | 7.117364e-04 | ME |\n",
       "| 19 | TP53  | KRAS  | 3.001285e-04 | 9.796278e-04 | ME |\n",
       "| 3 | KRAS  | BRAF  | 6.082680e-04 | 1.370175e-03 | ME |\n",
       "| 11 | KEAP1 | EGFR  | 5.566849e-03 | 2.139584e-02 | ME |\n",
       "\n"
      ],
      "text/plain": [
       "   gene1 gene2 p.value      q.value      type\n",
       "7  KRAS  EGFR  5.168980e-10 1.637007e-09 ME  \n",
       "24 TP53  STK11 9.902545e-05 6.124225e-04 ME  \n",
       "10 STK11 EGFR  1.804629e-04 7.117364e-04 ME  \n",
       "19 TP53  KRAS  3.001285e-04 9.796278e-04 ME  \n",
       "3  KRAS  BRAF  6.082680e-04 1.370175e-03 ME  \n",
       "11 KEAP1 EGFR  5.566849e-03 2.139584e-02 ME  "
      ]
     },
     "metadata": {},
     "output_type": "display_data"
    }
   ],
   "source": [
    "head(boot_results[[1]])"
   ]
  },
  {
   "cell_type": "code",
   "execution_count": 87,
   "id": "35c44597-0d77-4467-9535-939454dd9f84",
   "metadata": {},
   "outputs": [
    {
     "data": {
      "text/html": [
       "<table class=\"dataframe\">\n",
       "<caption>A data.frame: 6 × 5</caption>\n",
       "<thead>\n",
       "\t<tr><th></th><th scope=col>gene1</th><th scope=col>gene2</th><th scope=col>p.value</th><th scope=col>q.value</th><th scope=col>type</th></tr>\n",
       "\t<tr><th></th><th scope=col>&lt;chr&gt;</th><th scope=col>&lt;chr&gt;</th><th scope=col>&lt;dbl&gt;</th><th scope=col>&lt;dbl&gt;</th><th scope=col>&lt;chr&gt;</th></tr>\n",
       "</thead>\n",
       "<tbody>\n",
       "\t<tr><th scope=row>9</th><td>KRAS   </td><td>EGFR </td><td>5.262128e-12</td><td>1.291624e-11</td><td>ME</td></tr>\n",
       "\t<tr><th scope=row>24</th><td>TP53   </td><td>KRAS </td><td>6.338431e-06</td><td>2.798847e-05</td><td>ME</td></tr>\n",
       "\t<tr><th scope=row>34</th><td>TP53   </td><td>STK11</td><td>2.300666e-05</td><td>7.399900e-05</td><td>ME</td></tr>\n",
       "\t<tr><th scope=row>4</th><td>KRAS   </td><td>BRAF </td><td>2.755737e-05</td><td>7.399900e-05</td><td>ME</td></tr>\n",
       "\t<tr><th scope=row>12</th><td>STK11  </td><td>EGFR </td><td>3.197317e-05</td><td>7.399900e-05</td><td>ME</td></tr>\n",
       "\t<tr><th scope=row>23</th><td>SMARCA4</td><td>KRAS </td><td>2.293668e-03</td><td>7.316367e-03</td><td>ME</td></tr>\n",
       "</tbody>\n",
       "</table>\n"
      ],
      "text/latex": [
       "A data.frame: 6 × 5\n",
       "\\begin{tabular}{r|lllll}\n",
       "  & gene1 & gene2 & p.value & q.value & type\\\\\n",
       "  & <chr> & <chr> & <dbl> & <dbl> & <chr>\\\\\n",
       "\\hline\n",
       "\t9 & KRAS    & EGFR  & 5.262128e-12 & 1.291624e-11 & ME\\\\\n",
       "\t24 & TP53    & KRAS  & 6.338431e-06 & 2.798847e-05 & ME\\\\\n",
       "\t34 & TP53    & STK11 & 2.300666e-05 & 7.399900e-05 & ME\\\\\n",
       "\t4 & KRAS    & BRAF  & 2.755737e-05 & 7.399900e-05 & ME\\\\\n",
       "\t12 & STK11   & EGFR  & 3.197317e-05 & 7.399900e-05 & ME\\\\\n",
       "\t23 & SMARCA4 & KRAS  & 2.293668e-03 & 7.316367e-03 & ME\\\\\n",
       "\\end{tabular}\n"
      ],
      "text/markdown": [
       "\n",
       "A data.frame: 6 × 5\n",
       "\n",
       "| <!--/--> | gene1 &lt;chr&gt; | gene2 &lt;chr&gt; | p.value &lt;dbl&gt; | q.value &lt;dbl&gt; | type &lt;chr&gt; |\n",
       "|---|---|---|---|---|---|\n",
       "| 9 | KRAS    | EGFR  | 5.262128e-12 | 1.291624e-11 | ME |\n",
       "| 24 | TP53    | KRAS  | 6.338431e-06 | 2.798847e-05 | ME |\n",
       "| 34 | TP53    | STK11 | 2.300666e-05 | 7.399900e-05 | ME |\n",
       "| 4 | KRAS    | BRAF  | 2.755737e-05 | 7.399900e-05 | ME |\n",
       "| 12 | STK11   | EGFR  | 3.197317e-05 | 7.399900e-05 | ME |\n",
       "| 23 | SMARCA4 | KRAS  | 2.293668e-03 | 7.316367e-03 | ME |\n",
       "\n"
      ],
      "text/plain": [
       "   gene1   gene2 p.value      q.value      type\n",
       "9  KRAS    EGFR  5.262128e-12 1.291624e-11 ME  \n",
       "24 TP53    KRAS  6.338431e-06 2.798847e-05 ME  \n",
       "34 TP53    STK11 2.300666e-05 7.399900e-05 ME  \n",
       "4  KRAS    BRAF  2.755737e-05 7.399900e-05 ME  \n",
       "12 STK11   EGFR  3.197317e-05 7.399900e-05 ME  \n",
       "23 SMARCA4 KRAS  2.293668e-03 7.316367e-03 ME  "
      ]
     },
     "metadata": {},
     "output_type": "display_data"
    }
   ],
   "source": [
    "head(select_orginal)"
   ]
  },
  {
   "cell_type": "code",
   "execution_count": 88,
   "id": "8ced4a2b-62d0-40d8-b515-62b6e96943f2",
   "metadata": {},
   "outputs": [
    {
     "data": {
      "text/html": [
       "38"
      ],
      "text/latex": [
       "38"
      ],
      "text/markdown": [
       "38"
      ],
      "text/plain": [
       "[1] 38"
      ]
     },
     "metadata": {},
     "output_type": "display_data"
    }
   ],
   "source": [
    "length(unique(paste(select_orginal$gene2,select_orginal$gene1,sep=' - ')))"
   ]
  },
  {
   "cell_type": "code",
   "execution_count": 89,
   "id": "32d943e8-ef20-4a01-8be9-4e19eff33bc9",
   "metadata": {},
   "outputs": [],
   "source": [
    "selectX_100_pct_significnat_results <- select_orginal"
   ]
  },
  {
   "cell_type": "code",
   "execution_count": 90,
   "id": "1776655e-434a-4bab-b336-43ceee18fbf5",
   "metadata": {},
   "outputs": [
    {
     "data": {
      "text/html": [
       "<table class=\"dataframe\">\n",
       "<caption>A data.frame: 1 × 1</caption>\n",
       "<thead>\n",
       "\t<tr><th scope=col>n</th></tr>\n",
       "\t<tr><th scope=col>&lt;int&gt;</th></tr>\n",
       "</thead>\n",
       "<tbody>\n",
       "\t<tr><td>38</td></tr>\n",
       "</tbody>\n",
       "</table>\n"
      ],
      "text/latex": [
       "A data.frame: 1 × 1\n",
       "\\begin{tabular}{l}\n",
       " n\\\\\n",
       " <int>\\\\\n",
       "\\hline\n",
       "\t 38\\\\\n",
       "\\end{tabular}\n"
      ],
      "text/markdown": [
       "\n",
       "A data.frame: 1 × 1\n",
       "\n",
       "| n &lt;int&gt; |\n",
       "|---|\n",
       "| 38 |\n",
       "\n"
      ],
      "text/plain": [
       "  n \n",
       "1 38"
      ]
     },
     "metadata": {},
     "output_type": "display_data"
    }
   ],
   "source": [
    "select_orginal %>% count()"
   ]
  },
  {
   "cell_type": "code",
   "execution_count": 91,
   "id": "92c32951-b97a-47b1-a2bb-f7793161e61f",
   "metadata": {},
   "outputs": [],
   "source": [
    "score_df<-data.frame('pairs'=paste(select_orginal$gene2,select_orginal$gene1,sep=' - '))\n",
    "rownames(score_df)<-score_df$pairs\n",
    "score_df$Run_100<-1"
   ]
  },
  {
   "cell_type": "code",
   "execution_count": 92,
   "id": "b6f6181c-3c10-4af2-b797-a14fea0891e1",
   "metadata": {},
   "outputs": [
    {
     "data": {
      "text/html": [
       "<table class=\"dataframe\">\n",
       "<caption>A data.frame: 6 × 2</caption>\n",
       "<thead>\n",
       "\t<tr><th></th><th scope=col>pairs</th><th scope=col>Run_100</th></tr>\n",
       "\t<tr><th></th><th scope=col>&lt;chr&gt;</th><th scope=col>&lt;dbl&gt;</th></tr>\n",
       "</thead>\n",
       "<tbody>\n",
       "\t<tr><th scope=row>EGFR - KRAS</th><td>EGFR - KRAS   </td><td>1</td></tr>\n",
       "\t<tr><th scope=row>KRAS - TP53</th><td>KRAS - TP53   </td><td>1</td></tr>\n",
       "\t<tr><th scope=row>STK11 - TP53</th><td>STK11 - TP53  </td><td>1</td></tr>\n",
       "\t<tr><th scope=row>BRAF - KRAS</th><td>BRAF - KRAS   </td><td>1</td></tr>\n",
       "\t<tr><th scope=row>EGFR - STK11</th><td>EGFR - STK11  </td><td>1</td></tr>\n",
       "\t<tr><th scope=row>KRAS - SMARCA4</th><td>KRAS - SMARCA4</td><td>1</td></tr>\n",
       "</tbody>\n",
       "</table>\n"
      ],
      "text/latex": [
       "A data.frame: 6 × 2\n",
       "\\begin{tabular}{r|ll}\n",
       "  & pairs & Run\\_100\\\\\n",
       "  & <chr> & <dbl>\\\\\n",
       "\\hline\n",
       "\tEGFR - KRAS & EGFR - KRAS    & 1\\\\\n",
       "\tKRAS - TP53 & KRAS - TP53    & 1\\\\\n",
       "\tSTK11 - TP53 & STK11 - TP53   & 1\\\\\n",
       "\tBRAF - KRAS & BRAF - KRAS    & 1\\\\\n",
       "\tEGFR - STK11 & EGFR - STK11   & 1\\\\\n",
       "\tKRAS - SMARCA4 & KRAS - SMARCA4 & 1\\\\\n",
       "\\end{tabular}\n"
      ],
      "text/markdown": [
       "\n",
       "A data.frame: 6 × 2\n",
       "\n",
       "| <!--/--> | pairs &lt;chr&gt; | Run_100 &lt;dbl&gt; |\n",
       "|---|---|---|\n",
       "| EGFR - KRAS | EGFR - KRAS    | 1 |\n",
       "| KRAS - TP53 | KRAS - TP53    | 1 |\n",
       "| STK11 - TP53 | STK11 - TP53   | 1 |\n",
       "| BRAF - KRAS | BRAF - KRAS    | 1 |\n",
       "| EGFR - STK11 | EGFR - STK11   | 1 |\n",
       "| KRAS - SMARCA4 | KRAS - SMARCA4 | 1 |\n",
       "\n"
      ],
      "text/plain": [
       "               pairs          Run_100\n",
       "EGFR - KRAS    EGFR - KRAS    1      \n",
       "KRAS - TP53    KRAS - TP53    1      \n",
       "STK11 - TP53   STK11 - TP53   1      \n",
       "BRAF - KRAS    BRAF - KRAS    1      \n",
       "EGFR - STK11   EGFR - STK11   1      \n",
       "KRAS - SMARCA4 KRAS - SMARCA4 1      "
      ]
     },
     "metadata": {},
     "output_type": "display_data"
    }
   ],
   "source": [
    "head(score_df)"
   ]
  },
  {
   "cell_type": "code",
   "execution_count": 93,
   "id": "5e87c8b3-0341-40b0-be69-3405a20544f1",
   "metadata": {},
   "outputs": [],
   "source": [
    "discover_mcc<-list()"
   ]
  },
  {
   "cell_type": "code",
   "execution_count": 94,
   "id": "60d72b00-f39b-4eb7-937e-94d7b76ee68e",
   "metadata": {
    "tags": []
   },
   "outputs": [
    {
     "data": {
      "text/html": [
       "78210"
      ],
      "text/latex": [
       "78210"
      ],
      "text/markdown": [
       "78210"
      ],
      "text/plain": [
       "[1] 78210"
      ]
     },
     "metadata": {},
     "output_type": "display_data"
    }
   ],
   "source": [
    "396*395/2"
   ]
  },
  {
   "cell_type": "code",
   "execution_count": 95,
   "id": "f05df50a-67a8-4a26-bcbc-49b982cf1e8c",
   "metadata": {},
   "outputs": [],
   "source": [
    "for (t in c(1:10)){\n",
    "    score_df[[paste('Run',i,sep=\"_\")]]<-0\n",
    "    boot_results[[t]]$name_2 <- paste(boot_results[[t]]$gene2,boot_results[[t]]$gene1,sep=' - ')\n",
    "    temp <- (boot_results[[t]] %>% filter(name_2 %in% score_df$pairs))$name_2\n",
    "    score_df[temp,][[paste('Run',i,sep=\"_\")]]<-1\n",
    "    #discover_jaccard[[i]]<-jaccard(score_df$pairs,temp)\n",
    "    possible <- 78210-length(score_df$pairs)\n",
    "    conf <- confusion_matrix(score_df$pairs,temp,c(1:possible))\n",
    "    a<- as.numeric((conf[[1]]+conf[[3]]))\n",
    "    b<- as.numeric((conf[[1]]+conf[[2]]))\n",
    "    c<- as.numeric((conf[[4]]+conf[[2]]))   \n",
    "    d<- as.numeric((conf[[4]]+conf[[3]])) \n",
    "    e <- as.numeric((conf[[1]]*conf[[4]]))\n",
    "    f <- as.numeric((conf[[2]]*conf[[3]]))\n",
    "    g <- as.numeric(e-f)\n",
    "    h <- as.numeric(a*b*c*d)\n",
    "    i <- sqrt(h)\n",
    "    mcc <- g/i\n",
    "    #print(e)\n",
    "    discover_mcc[[t]]<-mcc\n",
    "    \n",
    "}"
   ]
  },
  {
   "cell_type": "code",
   "execution_count": 96,
   "id": "31c69484-df29-4151-a430-0fe718a1edfb",
   "metadata": {
    "tags": []
   },
   "outputs": [
    {
     "data": {
      "image/png": "[encoded data removed]",
      "text/plain": [
       "plot without title"
      ]
     },
     "metadata": {
      "image/png": {
       "height": 420,
       "width": 420
      }
     },
     "output_type": "display_data"
    }
   ],
   "source": [
    "ggboxplot(unlist(discover_mcc))"
   ]
  },
  {
   "cell_type": "markdown",
   "id": "b1d9f197-cee8-406b-8bcf-1667656b5206",
   "metadata": {
    "tags": []
   },
   "source": [
    "## weSME"
   ]
  },
  {
   "cell_type": "code",
   "execution_count": 97,
   "id": "20539177-8ec5-45ba-878c-50a5dc00fd68",
   "metadata": {},
   "outputs": [],
   "source": [
    "wesme_me <- read.table('/mnt/ptemp/arvind/tool_comaprision/results/wesme/LUAD_smut_me_pvs_0.1.txt',sep=\"\t\",header = TRUE)\n",
    "wesme_co <- read.table('/mnt/ptemp/arvind/tool_comaprision/results/wesme/LUAD_smut_co_pvs_0.1.txt',sep=\"\t\",,header = TRUE)\n",
    "wesme <- rbind(wesme_me,wesme_co[,colnames(wesme_me)])\n",
    "wesme$type <- c(rep(\"ME\",nrow(wesme_me)),rep(\"CO\",nrow(wesme_co)))"
   ]
  },
  {
   "cell_type": "code",
   "execution_count": 98,
   "id": "96d4735b-e8d0-4eb2-aa68-ed7103d6032b",
   "metadata": {},
   "outputs": [],
   "source": [
    "select_orginal<-wesme"
   ]
  },
  {
   "cell_type": "code",
   "execution_count": 99,
   "id": "e68664fb-8a57-4f6f-8eb5-d441751bdcab",
   "metadata": {},
   "outputs": [],
   "source": [
    "boot_results <- list()\n",
    "k=1\n",
    "for (i in c(1:5)){\n",
    "    name <- paste('/mnt/ptemp/arvind/tool_comaprision/results/wesme/LUAD_',i,'_smut_me_pvs_0.1.txt',sep=\"\")\n",
    "    wesme_me <- read.table(name,sep=\"\t\",header = TRUE)\n",
    "    name <- paste('/mnt/ptemp/arvind/tool_comaprision/results/wesme/LUAD_',i,'_smut_co_pvs_0.1.txt',sep=\"\")\n",
    "    wesme_co <- read.table(name,sep=\"\t\",,header = TRUE)\n",
    "    wesme <- rbind(wesme_me,wesme_co[,colnames(wesme_me)])\n",
    "    wesme$type <- c(rep(\"ME\",nrow(wesme_me)),rep(\"CO\",nrow(wesme_co)))\n",
    "    boot_results[[k]] <- wesme\n",
    "    k=k+1\n",
    "}"
   ]
  },
  {
   "cell_type": "code",
   "execution_count": 100,
   "id": "dd285016-9850-454f-8368-e32442df192c",
   "metadata": {},
   "outputs": [],
   "source": [
    "for (i in c(11:15)){\n",
    "    name <- paste('/mnt/ptemp/arvind/tool_comaprision/results/wesme/LUAD_',i,'_smut_me_pvs_0.1.txt',sep=\"\")\n",
    "    wesme_me <- read.table(name,sep=\"\t\",header = TRUE)\n",
    "    name <- paste('/mnt/ptemp/arvind/tool_comaprision/results/wesme/LUAD_',i,'_smut_co_pvs_0.1.txt',sep=\"\")\n",
    "    wesme_co <- read.table(name,sep=\"\t\",,header = TRUE)\n",
    "    wesme <- rbind(wesme_me,wesme_co[,colnames(wesme_me)])\n",
    "    wesme$type <- c(rep(\"ME\",nrow(wesme_me)),rep(\"CO\",nrow(wesme_co)))\n",
    "    boot_results[[k]] <- wesme\n",
    "    k=k+1\n",
    "}"
   ]
  },
  {
   "cell_type": "code",
   "execution_count": 101,
   "id": "f39c5d19-60c7-495b-a974-5bdce6d50a32",
   "metadata": {},
   "outputs": [
    {
     "data": {
      "text/html": [
       "10"
      ],
      "text/latex": [
       "10"
      ],
      "text/markdown": [
       "10"
      ],
      "text/plain": [
       "[1] 10"
      ]
     },
     "metadata": {},
     "output_type": "display_data"
    }
   ],
   "source": [
    "length(boot_results)"
   ]
  },
  {
   "cell_type": "code",
   "execution_count": 102,
   "id": "abd74457-7f18-4f60-b6ec-5dfa20a618e6",
   "metadata": {},
   "outputs": [
    {
     "data": {
      "text/html": [
       "<table class=\"dataframe\">\n",
       "<caption>A data.frame: 6 × 5</caption>\n",
       "<thead>\n",
       "\t<tr><th></th><th scope=col>gene1</th><th scope=col>gene2</th><th scope=col>jaccard.index</th><th scope=col>pv..ws.</th><th scope=col>type</th></tr>\n",
       "\t<tr><th></th><th scope=col>&lt;chr&gt;</th><th scope=col>&lt;chr&gt;</th><th scope=col>&lt;dbl&gt;</th><th scope=col>&lt;dbl&gt;</th><th scope=col>&lt;chr&gt;</th></tr>\n",
       "</thead>\n",
       "<tbody>\n",
       "\t<tr><th scope=row>1</th><td>APC   </td><td>KRAS </td><td>0.00000000</td><td>0.00718</td><td>ME</td></tr>\n",
       "\t<tr><th scope=row>2</th><td>ATM   </td><td>TP53 </td><td>0.02162162</td><td>0.00348</td><td>ME</td></tr>\n",
       "\t<tr><th scope=row>3</th><td>BRAF  </td><td>KRAS </td><td>0.01324503</td><td>0.00003</td><td>ME</td></tr>\n",
       "\t<tr><th scope=row>4</th><td>BRAF  </td><td>KEAP1</td><td>0.00000000</td><td>0.05470</td><td>ME</td></tr>\n",
       "\t<tr><th scope=row>5</th><td>CDKN2A</td><td>KRAS </td><td>0.02205882</td><td>0.09510</td><td>ME</td></tr>\n",
       "\t<tr><th scope=row>6</th><td>CTNNB1</td><td>KRAS </td><td>0.00000000</td><td>0.00403</td><td>ME</td></tr>\n",
       "</tbody>\n",
       "</table>\n"
      ],
      "text/latex": [
       "A data.frame: 6 × 5\n",
       "\\begin{tabular}{r|lllll}\n",
       "  & gene1 & gene2 & jaccard.index & pv..ws. & type\\\\\n",
       "  & <chr> & <chr> & <dbl> & <dbl> & <chr>\\\\\n",
       "\\hline\n",
       "\t1 & APC    & KRAS  & 0.00000000 & 0.00718 & ME\\\\\n",
       "\t2 & ATM    & TP53  & 0.02162162 & 0.00348 & ME\\\\\n",
       "\t3 & BRAF   & KRAS  & 0.01324503 & 0.00003 & ME\\\\\n",
       "\t4 & BRAF   & KEAP1 & 0.00000000 & 0.05470 & ME\\\\\n",
       "\t5 & CDKN2A & KRAS  & 0.02205882 & 0.09510 & ME\\\\\n",
       "\t6 & CTNNB1 & KRAS  & 0.00000000 & 0.00403 & ME\\\\\n",
       "\\end{tabular}\n"
      ],
      "text/markdown": [
       "\n",
       "A data.frame: 6 × 5\n",
       "\n",
       "| <!--/--> | gene1 &lt;chr&gt; | gene2 &lt;chr&gt; | jaccard.index &lt;dbl&gt; | pv..ws. &lt;dbl&gt; | type &lt;chr&gt; |\n",
       "|---|---|---|---|---|---|\n",
       "| 1 | APC    | KRAS  | 0.00000000 | 0.00718 | ME |\n",
       "| 2 | ATM    | TP53  | 0.02162162 | 0.00348 | ME |\n",
       "| 3 | BRAF   | KRAS  | 0.01324503 | 0.00003 | ME |\n",
       "| 4 | BRAF   | KEAP1 | 0.00000000 | 0.05470 | ME |\n",
       "| 5 | CDKN2A | KRAS  | 0.02205882 | 0.09510 | ME |\n",
       "| 6 | CTNNB1 | KRAS  | 0.00000000 | 0.00403 | ME |\n",
       "\n"
      ],
      "text/plain": [
       "  gene1  gene2 jaccard.index pv..ws. type\n",
       "1 APC    KRAS  0.00000000    0.00718 ME  \n",
       "2 ATM    TP53  0.02162162    0.00348 ME  \n",
       "3 BRAF   KRAS  0.01324503    0.00003 ME  \n",
       "4 BRAF   KEAP1 0.00000000    0.05470 ME  \n",
       "5 CDKN2A KRAS  0.02205882    0.09510 ME  \n",
       "6 CTNNB1 KRAS  0.00000000    0.00403 ME  "
      ]
     },
     "metadata": {},
     "output_type": "display_data"
    }
   ],
   "source": [
    "head(boot_results[[1]])"
   ]
  },
  {
   "cell_type": "code",
   "execution_count": 103,
   "id": "cc259466-197c-49dc-8784-798671d678bf",
   "metadata": {},
   "outputs": [
    {
     "data": {
      "text/html": [
       "<table class=\"dataframe\">\n",
       "<caption>A data.frame: 6 × 5</caption>\n",
       "<thead>\n",
       "\t<tr><th></th><th scope=col>gene1</th><th scope=col>gene2</th><th scope=col>jaccard.index</th><th scope=col>pv..ws.</th><th scope=col>type</th></tr>\n",
       "\t<tr><th></th><th scope=col>&lt;chr&gt;</th><th scope=col>&lt;chr&gt;</th><th scope=col>&lt;dbl&gt;</th><th scope=col>&lt;dbl&gt;</th><th scope=col>&lt;chr&gt;</th></tr>\n",
       "</thead>\n",
       "<tbody>\n",
       "\t<tr><th scope=row>1</th><td>APC </td><td>KRAS </td><td>0.006134969</td><td>0.03900</td><td>ME</td></tr>\n",
       "\t<tr><th scope=row>2</th><td>APC </td><td>TP53 </td><td>0.013157895</td><td>0.07060</td><td>ME</td></tr>\n",
       "\t<tr><th scope=row>3</th><td>ATM </td><td>TP53 </td><td>0.016736402</td><td>0.00018</td><td>ME</td></tr>\n",
       "\t<tr><th scope=row>4</th><td>BRAF</td><td>EGFR </td><td>0.022222222</td><td>0.05790</td><td>ME</td></tr>\n",
       "\t<tr><th scope=row>5</th><td>BRAF</td><td>KRAS </td><td>0.010695187</td><td>0.00000</td><td>ME</td></tr>\n",
       "\t<tr><th scope=row>6</th><td>BRAF</td><td>STK11</td><td>0.021739130</td><td>0.04880</td><td>ME</td></tr>\n",
       "</tbody>\n",
       "</table>\n"
      ],
      "text/latex": [
       "A data.frame: 6 × 5\n",
       "\\begin{tabular}{r|lllll}\n",
       "  & gene1 & gene2 & jaccard.index & pv..ws. & type\\\\\n",
       "  & <chr> & <chr> & <dbl> & <dbl> & <chr>\\\\\n",
       "\\hline\n",
       "\t1 & APC  & KRAS  & 0.006134969 & 0.03900 & ME\\\\\n",
       "\t2 & APC  & TP53  & 0.013157895 & 0.07060 & ME\\\\\n",
       "\t3 & ATM  & TP53  & 0.016736402 & 0.00018 & ME\\\\\n",
       "\t4 & BRAF & EGFR  & 0.022222222 & 0.05790 & ME\\\\\n",
       "\t5 & BRAF & KRAS  & 0.010695187 & 0.00000 & ME\\\\\n",
       "\t6 & BRAF & STK11 & 0.021739130 & 0.04880 & ME\\\\\n",
       "\\end{tabular}\n"
      ],
      "text/markdown": [
       "\n",
       "A data.frame: 6 × 5\n",
       "\n",
       "| <!--/--> | gene1 &lt;chr&gt; | gene2 &lt;chr&gt; | jaccard.index &lt;dbl&gt; | pv..ws. &lt;dbl&gt; | type &lt;chr&gt; |\n",
       "|---|---|---|---|---|---|\n",
       "| 1 | APC  | KRAS  | 0.006134969 | 0.03900 | ME |\n",
       "| 2 | APC  | TP53  | 0.013157895 | 0.07060 | ME |\n",
       "| 3 | ATM  | TP53  | 0.016736402 | 0.00018 | ME |\n",
       "| 4 | BRAF | EGFR  | 0.022222222 | 0.05790 | ME |\n",
       "| 5 | BRAF | KRAS  | 0.010695187 | 0.00000 | ME |\n",
       "| 6 | BRAF | STK11 | 0.021739130 | 0.04880 | ME |\n",
       "\n"
      ],
      "text/plain": [
       "  gene1 gene2 jaccard.index pv..ws. type\n",
       "1 APC   KRAS  0.006134969   0.03900 ME  \n",
       "2 APC   TP53  0.013157895   0.07060 ME  \n",
       "3 ATM   TP53  0.016736402   0.00018 ME  \n",
       "4 BRAF  EGFR  0.022222222   0.05790 ME  \n",
       "5 BRAF  KRAS  0.010695187   0.00000 ME  \n",
       "6 BRAF  STK11 0.021739130   0.04880 ME  "
      ]
     },
     "metadata": {},
     "output_type": "display_data"
    }
   ],
   "source": [
    "head(select_orginal)"
   ]
  },
  {
   "cell_type": "code",
   "execution_count": 104,
   "id": "9f3485b3-4c0c-43ed-8a1c-5cf00cd1900c",
   "metadata": {},
   "outputs": [
    {
     "data": {
      "text/html": [
       "827"
      ],
      "text/latex": [
       "827"
      ],
      "text/markdown": [
       "827"
      ],
      "text/plain": [
       "[1] 827"
      ]
     },
     "metadata": {},
     "output_type": "display_data"
    }
   ],
   "source": [
    "length(unique(paste(select_orginal$gene2,select_orginal$gene1,sep=' - ')))"
   ]
  },
  {
   "cell_type": "code",
   "execution_count": 105,
   "id": "f13960b3-f8c0-4bf3-bfb8-feee9b36cbfd",
   "metadata": {},
   "outputs": [],
   "source": [
    "selectX_100_pct_significnat_results <- select_orginal"
   ]
  },
  {
   "cell_type": "code",
   "execution_count": 106,
   "id": "954e7bd3-e140-4e22-b757-49e62b7f0ee6",
   "metadata": {},
   "outputs": [
    {
     "data": {
      "text/html": [
       "<table class=\"dataframe\">\n",
       "<caption>A data.frame: 1 × 1</caption>\n",
       "<thead>\n",
       "\t<tr><th scope=col>n</th></tr>\n",
       "\t<tr><th scope=col>&lt;int&gt;</th></tr>\n",
       "</thead>\n",
       "<tbody>\n",
       "\t<tr><td>827</td></tr>\n",
       "</tbody>\n",
       "</table>\n"
      ],
      "text/latex": [
       "A data.frame: 1 × 1\n",
       "\\begin{tabular}{l}\n",
       " n\\\\\n",
       " <int>\\\\\n",
       "\\hline\n",
       "\t 827\\\\\n",
       "\\end{tabular}\n"
      ],
      "text/markdown": [
       "\n",
       "A data.frame: 1 × 1\n",
       "\n",
       "| n &lt;int&gt; |\n",
       "|---|\n",
       "| 827 |\n",
       "\n"
      ],
      "text/plain": [
       "  n  \n",
       "1 827"
      ]
     },
     "metadata": {},
     "output_type": "display_data"
    }
   ],
   "source": [
    "select_orginal %>% count()"
   ]
  },
  {
   "cell_type": "code",
   "execution_count": 107,
   "id": "c3bfe5db-b087-4ac7-8732-e4b734ff50f3",
   "metadata": {},
   "outputs": [],
   "source": [
    "score_df<-data.frame('pairs'=paste(select_orginal$gene2,select_orginal$gene1,sep=' - '))\n",
    "rownames(score_df)<-score_df$pairs\n",
    "score_df$Run_100<-1"
   ]
  },
  {
   "cell_type": "code",
   "execution_count": 108,
   "id": "41e1f5bd-0534-406f-9f15-143e41d03c03",
   "metadata": {},
   "outputs": [
    {
     "data": {
      "text/html": [
       "<table class=\"dataframe\">\n",
       "<caption>A data.frame: 6 × 2</caption>\n",
       "<thead>\n",
       "\t<tr><th></th><th scope=col>pairs</th><th scope=col>Run_100</th></tr>\n",
       "\t<tr><th></th><th scope=col>&lt;chr&gt;</th><th scope=col>&lt;dbl&gt;</th></tr>\n",
       "</thead>\n",
       "<tbody>\n",
       "\t<tr><th scope=row>KRAS - APC</th><td>KRAS - APC  </td><td>1</td></tr>\n",
       "\t<tr><th scope=row>TP53 - APC</th><td>TP53 - APC  </td><td>1</td></tr>\n",
       "\t<tr><th scope=row>TP53 - ATM</th><td>TP53 - ATM  </td><td>1</td></tr>\n",
       "\t<tr><th scope=row>EGFR - BRAF</th><td>EGFR - BRAF </td><td>1</td></tr>\n",
       "\t<tr><th scope=row>KRAS - BRAF</th><td>KRAS - BRAF </td><td>1</td></tr>\n",
       "\t<tr><th scope=row>STK11 - BRAF</th><td>STK11 - BRAF</td><td>1</td></tr>\n",
       "</tbody>\n",
       "</table>\n"
      ],
      "text/latex": [
       "A data.frame: 6 × 2\n",
       "\\begin{tabular}{r|ll}\n",
       "  & pairs & Run\\_100\\\\\n",
       "  & <chr> & <dbl>\\\\\n",
       "\\hline\n",
       "\tKRAS - APC & KRAS - APC   & 1\\\\\n",
       "\tTP53 - APC & TP53 - APC   & 1\\\\\n",
       "\tTP53 - ATM & TP53 - ATM   & 1\\\\\n",
       "\tEGFR - BRAF & EGFR - BRAF  & 1\\\\\n",
       "\tKRAS - BRAF & KRAS - BRAF  & 1\\\\\n",
       "\tSTK11 - BRAF & STK11 - BRAF & 1\\\\\n",
       "\\end{tabular}\n"
      ],
      "text/markdown": [
       "\n",
       "A data.frame: 6 × 2\n",
       "\n",
       "| <!--/--> | pairs &lt;chr&gt; | Run_100 &lt;dbl&gt; |\n",
       "|---|---|---|\n",
       "| KRAS - APC | KRAS - APC   | 1 |\n",
       "| TP53 - APC | TP53 - APC   | 1 |\n",
       "| TP53 - ATM | TP53 - ATM   | 1 |\n",
       "| EGFR - BRAF | EGFR - BRAF  | 1 |\n",
       "| KRAS - BRAF | KRAS - BRAF  | 1 |\n",
       "| STK11 - BRAF | STK11 - BRAF | 1 |\n",
       "\n"
      ],
      "text/plain": [
       "             pairs        Run_100\n",
       "KRAS - APC   KRAS - APC   1      \n",
       "TP53 - APC   TP53 - APC   1      \n",
       "TP53 - ATM   TP53 - ATM   1      \n",
       "EGFR - BRAF  EGFR - BRAF  1      \n",
       "KRAS - BRAF  KRAS - BRAF  1      \n",
       "STK11 - BRAF STK11 - BRAF 1      "
      ]
     },
     "metadata": {},
     "output_type": "display_data"
    }
   ],
   "source": [
    "head(score_df)"
   ]
  },
  {
   "cell_type": "code",
   "execution_count": 109,
   "id": "7977e70e-d87b-4973-ba57-b5502107a570",
   "metadata": {},
   "outputs": [],
   "source": [
    "weSME_mcc<-list()"
   ]
  },
  {
   "cell_type": "code",
   "execution_count": 110,
   "id": "3d261526-7860-4931-843c-3d43d3ee5148",
   "metadata": {},
   "outputs": [],
   "source": [
    "for (t in c(1:10)){\n",
    "    score_df[[paste('Run',t,sep=\"_\")]]<-0\n",
    "    boot_results[[t]]$name_2 <- paste(boot_results[[t]]$gene2,boot_results[[t]]$gene1,sep=' - ')\n",
    "    temp <- (boot_results[[t]] %>% filter(name_2 %in% score_df$pairs))$name_2\n",
    "    score_df[temp,][[paste('Run',t,sep=\"_\")]]<-1\n",
    "    #weSME_jaccard[[t]]<-jaccard(score_df$pairs,temp) \n",
    "    possible <- 78210-length(score_df$pairs)\n",
    "    conf <- confusion_matrix(score_df$pairs,temp,c(1:possible))\n",
    "    a<- as.numeric((conf[[1]]+conf[[3]]))\n",
    "    b<- as.numeric((conf[[1]]+conf[[2]]))\n",
    "    c<- as.numeric((conf[[4]]+conf[[2]]))   \n",
    "    d<- as.numeric((conf[[4]]+conf[[3]])) \n",
    "    e <- as.numeric((conf[[1]]*conf[[4]]))\n",
    "    f <- as.numeric((conf[[2]]*conf[[3]]))\n",
    "    g <- as.numeric(e-f)\n",
    "    h <- as.numeric(a*b*c*d)\n",
    "    i <- sqrt(h)\n",
    "    mcc <- g/i\n",
    "    weSME_mcc[[t]]<-mcc\n",
    "}"
   ]
  },
  {
   "cell_type": "code",
   "execution_count": 111,
   "id": "ed120c0a-98cb-4a95-b94b-57e1e2f1cf69",
   "metadata": {},
   "outputs": [
    {
     "data": {
      "text/html": [
       "<ol>\n",
       "\t<li>0.878644344033308</li>\n",
       "\t<li>0.87448218035821</li>\n",
       "\t<li>0.872393894550449</li>\n",
       "\t<li>0.889651355956341</li>\n",
       "\t<li>0.846945916513172</li>\n",
       "\t<li>0.86399191090882</li>\n",
       "\t<li>0.846228446530775</li>\n",
       "\t<li>0.86890262591367</li>\n",
       "\t<li>0.879336185030837</li>\n",
       "\t<li>0.84909479957575</li>\n",
       "</ol>\n"
      ],
      "text/latex": [
       "\\begin{enumerate}\n",
       "\\item 0.878644344033308\n",
       "\\item 0.87448218035821\n",
       "\\item 0.872393894550449\n",
       "\\item 0.889651355956341\n",
       "\\item 0.846945916513172\n",
       "\\item 0.86399191090882\n",
       "\\item 0.846228446530775\n",
       "\\item 0.86890262591367\n",
       "\\item 0.879336185030837\n",
       "\\item 0.84909479957575\n",
       "\\end{enumerate}\n"
      ],
      "text/markdown": [
       "1. 0.878644344033308\n",
       "2. 0.87448218035821\n",
       "3. 0.872393894550449\n",
       "4. 0.889651355956341\n",
       "5. 0.846945916513172\n",
       "6. 0.86399191090882\n",
       "7. 0.846228446530775\n",
       "8. 0.86890262591367\n",
       "9. 0.879336185030837\n",
       "10. 0.84909479957575\n",
       "\n",
       "\n"
      ],
      "text/plain": [
       "[[1]]\n",
       "[1] 0.8786443\n",
       "\n",
       "[[2]]\n",
       "[1] 0.8744822\n",
       "\n",
       "[[3]]\n",
       "[1] 0.8723939\n",
       "\n",
       "[[4]]\n",
       "[1] 0.8896514\n",
       "\n",
       "[[5]]\n",
       "[1] 0.8469459\n",
       "\n",
       "[[6]]\n",
       "[1] 0.8639919\n",
       "\n",
       "[[7]]\n",
       "[1] 0.8462284\n",
       "\n",
       "[[8]]\n",
       "[1] 0.8689026\n",
       "\n",
       "[[9]]\n",
       "[1] 0.8793362\n",
       "\n",
       "[[10]]\n",
       "[1] 0.8490948\n"
      ]
     },
     "metadata": {},
     "output_type": "display_data"
    }
   ],
   "source": [
    "weSME_mcc"
   ]
  },
  {
   "cell_type": "code",
   "execution_count": 112,
   "id": "21d3545c-40d3-4d4a-9e99-71f2cd32d458",
   "metadata": {
    "tags": []
   },
   "outputs": [
    {
     "data": {
      "image/png": "[encoded data removed]",
      "text/plain": [
       "plot without title"
      ]
     },
     "metadata": {
      "image/png": {
       "height": 420,
       "width": 420
      }
     },
     "output_type": "display_data"
    }
   ],
   "source": [
    "ggboxplot(unlist(weSME_mcc))"
   ]
  },
  {
   "cell_type": "markdown",
   "id": "cca0ba84-6b03-460f-9c19-f377871b3333",
   "metadata": {
    "tags": []
   },
   "source": [
    "## coselns "
   ]
  },
  {
   "cell_type": "code",
   "execution_count": 113,
   "id": "acafd943-1ecb-4ca1-9c31-562ea2376ba7",
   "metadata": {},
   "outputs": [],
   "source": [
    "select_orginal <- readRDS('/mnt/ptemp/arvind/tool_comaprision/results/coselens/coselns_luad_all_results.rds')"
   ]
  },
  {
   "cell_type": "code",
   "execution_count": 114,
   "id": "e1d691df-386a-40d2-9743-339a48a053f3",
   "metadata": {},
   "outputs": [],
   "source": [
    "boot_results <- list()\n",
    "k=1\n",
    "for (i in c(1:10)){\n",
    "    name <- paste('/mnt/ptemp/arvind/tool_comaprision/results/coselens/luad_sampling_run_',i,'.rds',sep=\"\")\n",
    "    boot_results[[k]] <- readRDS(file=name)\n",
    "    k=k+1\n",
    "}"
   ]
  },
  {
   "cell_type": "code",
   "execution_count": 115,
   "id": "8de87d74-598a-42a8-a6e0-bd09c76a7dc3",
   "metadata": {},
   "outputs": [
    {
     "data": {
      "text/html": [
       "10"
      ],
      "text/latex": [
       "10"
      ],
      "text/markdown": [
       "10"
      ],
      "text/plain": [
       "[1] 10"
      ]
     },
     "metadata": {},
     "output_type": "display_data"
    }
   ],
   "source": [
    "length(boot_results)"
   ]
  },
  {
   "cell_type": "code",
   "execution_count": 116,
   "id": "ea98c72c-c070-4213-abd2-02beec2d61e8",
   "metadata": {},
   "outputs": [
    {
     "data": {
      "text/html": [
       "<table class=\"dataframe\">\n",
       "<caption>A data.frame: 6 × 14</caption>\n",
       "<thead>\n",
       "\t<tr><th></th><th scope=col>gene_name</th><th scope=col>num.drivers.group1</th><th scope=col>num.drivers.group2</th><th scope=col>pmis</th><th scope=col>ptrunc</th><th scope=col>pall</th><th scope=col>pind</th><th scope=col>pglobal</th><th scope=col>qall</th><th scope=col>qglobal</th><th scope=col>DeltaNd</th><th scope=col>type</th><th scope=col>split_gene</th><th scope=col>pair</th></tr>\n",
       "\t<tr><th></th><th scope=col>&lt;chr&gt;</th><th scope=col>&lt;dbl&gt;</th><th scope=col>&lt;dbl&gt;</th><th scope=col>&lt;dbl&gt;</th><th scope=col>&lt;dbl&gt;</th><th scope=col>&lt;dbl&gt;</th><th scope=col>&lt;dbl&gt;</th><th scope=col>&lt;dbl&gt;</th><th scope=col>&lt;dbl&gt;</th><th scope=col>&lt;dbl&gt;</th><th scope=col>&lt;dbl&gt;</th><th scope=col>&lt;chr&gt;</th><th scope=col>&lt;chr&gt;</th><th scope=col>&lt;chr&gt;</th></tr>\n",
       "</thead>\n",
       "<tbody>\n",
       "\t<tr><th scope=row>1</th><td>ABL1 </td><td> 2.650543e-02</td><td>0.0009875042</td><td>0.4712079</td><td>1</td><td>0.77138244</td><td>1</td><td>0.9716109</td><td>1.0000000</td><td>1</td><td> 0.025517929</td><td>CO</td><td>EP400</td><td>EP400 - ABL1 </td></tr>\n",
       "\t<tr><th scope=row>2</th><td>ACTG1</td><td>-9.009542e-05</td><td>0.0107835776</td><td>0.8769490</td><td>1</td><td>0.98808415</td><td>1</td><td>0.9999287</td><td>1.0000000</td><td>1</td><td>-0.010873673</td><td>ME</td><td>EP400</td><td>EP400 - ACTG1</td></tr>\n",
       "\t<tr><th scope=row>3</th><td>ACVR1</td><td>-7.785338e-04</td><td>0.0134844626</td><td>0.8564205</td><td>1</td><td>0.98376493</td><td>1</td><td>0.9998675</td><td>1.0000000</td><td>1</td><td>-0.014262996</td><td>ME</td><td>EP400</td><td>EP400 - ACVR1</td></tr>\n",
       "\t<tr><th scope=row>4</th><td>AJUBA</td><td>-3.775796e-04</td><td>0.0051549760</td><td>0.9113446</td><td>1</td><td>0.99382058</td><td>1</td><td>0.9999809</td><td>1.0000000</td><td>1</td><td>-0.005532556</td><td>ME</td><td>EP400</td><td>EP400 - AJUBA</td></tr>\n",
       "\t<tr><th scope=row>5</th><td>AKT1 </td><td> 6.643469e-02</td><td>0.0051965984</td><td>0.0241362</td><td>1</td><td>0.07867662</td><td>1</td><td>0.2787048</td><td>0.5567185</td><td>1</td><td> 0.061238097</td><td>CO</td><td>EP400</td><td>EP400 - AKT1 </td></tr>\n",
       "\t<tr><th scope=row>6</th><td>AKT2 </td><td> 3.308704e-02</td><td>0.0162232109</td><td>0.5490480</td><td>1</td><td>0.83567735</td><td>1</td><td>0.9856920</td><td>1.0000000</td><td>1</td><td> 0.016863824</td><td>CO</td><td>EP400</td><td>EP400 - AKT2 </td></tr>\n",
       "</tbody>\n",
       "</table>\n"
      ],
      "text/latex": [
       "A data.frame: 6 × 14\n",
       "\\begin{tabular}{r|llllllllllllll}\n",
       "  & gene\\_name & num.drivers.group1 & num.drivers.group2 & pmis & ptrunc & pall & pind & pglobal & qall & qglobal & DeltaNd & type & split\\_gene & pair\\\\\n",
       "  & <chr> & <dbl> & <dbl> & <dbl> & <dbl> & <dbl> & <dbl> & <dbl> & <dbl> & <dbl> & <dbl> & <chr> & <chr> & <chr>\\\\\n",
       "\\hline\n",
       "\t1 & ABL1  &  2.650543e-02 & 0.0009875042 & 0.4712079 & 1 & 0.77138244 & 1 & 0.9716109 & 1.0000000 & 1 &  0.025517929 & CO & EP400 & EP400 - ABL1 \\\\\n",
       "\t2 & ACTG1 & -9.009542e-05 & 0.0107835776 & 0.8769490 & 1 & 0.98808415 & 1 & 0.9999287 & 1.0000000 & 1 & -0.010873673 & ME & EP400 & EP400 - ACTG1\\\\\n",
       "\t3 & ACVR1 & -7.785338e-04 & 0.0134844626 & 0.8564205 & 1 & 0.98376493 & 1 & 0.9998675 & 1.0000000 & 1 & -0.014262996 & ME & EP400 & EP400 - ACVR1\\\\\n",
       "\t4 & AJUBA & -3.775796e-04 & 0.0051549760 & 0.9113446 & 1 & 0.99382058 & 1 & 0.9999809 & 1.0000000 & 1 & -0.005532556 & ME & EP400 & EP400 - AJUBA\\\\\n",
       "\t5 & AKT1  &  6.643469e-02 & 0.0051965984 & 0.0241362 & 1 & 0.07867662 & 1 & 0.2787048 & 0.5567185 & 1 &  0.061238097 & CO & EP400 & EP400 - AKT1 \\\\\n",
       "\t6 & AKT2  &  3.308704e-02 & 0.0162232109 & 0.5490480 & 1 & 0.83567735 & 1 & 0.9856920 & 1.0000000 & 1 &  0.016863824 & CO & EP400 & EP400 - AKT2 \\\\\n",
       "\\end{tabular}\n"
      ],
      "text/markdown": [
       "\n",
       "A data.frame: 6 × 14\n",
       "\n",
       "| <!--/--> | gene_name &lt;chr&gt; | num.drivers.group1 &lt;dbl&gt; | num.drivers.group2 &lt;dbl&gt; | pmis &lt;dbl&gt; | ptrunc &lt;dbl&gt; | pall &lt;dbl&gt; | pind &lt;dbl&gt; | pglobal &lt;dbl&gt; | qall &lt;dbl&gt; | qglobal &lt;dbl&gt; | DeltaNd &lt;dbl&gt; | type &lt;chr&gt; | split_gene &lt;chr&gt; | pair &lt;chr&gt; |\n",
       "|---|---|---|---|---|---|---|---|---|---|---|---|---|---|---|\n",
       "| 1 | ABL1  |  2.650543e-02 | 0.0009875042 | 0.4712079 | 1 | 0.77138244 | 1 | 0.9716109 | 1.0000000 | 1 |  0.025517929 | CO | EP400 | EP400 - ABL1  |\n",
       "| 2 | ACTG1 | -9.009542e-05 | 0.0107835776 | 0.8769490 | 1 | 0.98808415 | 1 | 0.9999287 | 1.0000000 | 1 | -0.010873673 | ME | EP400 | EP400 - ACTG1 |\n",
       "| 3 | ACVR1 | -7.785338e-04 | 0.0134844626 | 0.8564205 | 1 | 0.98376493 | 1 | 0.9998675 | 1.0000000 | 1 | -0.014262996 | ME | EP400 | EP400 - ACVR1 |\n",
       "| 4 | AJUBA | -3.775796e-04 | 0.0051549760 | 0.9113446 | 1 | 0.99382058 | 1 | 0.9999809 | 1.0000000 | 1 | -0.005532556 | ME | EP400 | EP400 - AJUBA |\n",
       "| 5 | AKT1  |  6.643469e-02 | 0.0051965984 | 0.0241362 | 1 | 0.07867662 | 1 | 0.2787048 | 0.5567185 | 1 |  0.061238097 | CO | EP400 | EP400 - AKT1  |\n",
       "| 6 | AKT2  |  3.308704e-02 | 0.0162232109 | 0.5490480 | 1 | 0.83567735 | 1 | 0.9856920 | 1.0000000 | 1 |  0.016863824 | CO | EP400 | EP400 - AKT2  |\n",
       "\n"
      ],
      "text/plain": [
       "  gene_name num.drivers.group1 num.drivers.group2 pmis      ptrunc pall      \n",
       "1 ABL1       2.650543e-02      0.0009875042       0.4712079 1      0.77138244\n",
       "2 ACTG1     -9.009542e-05      0.0107835776       0.8769490 1      0.98808415\n",
       "3 ACVR1     -7.785338e-04      0.0134844626       0.8564205 1      0.98376493\n",
       "4 AJUBA     -3.775796e-04      0.0051549760       0.9113446 1      0.99382058\n",
       "5 AKT1       6.643469e-02      0.0051965984       0.0241362 1      0.07867662\n",
       "6 AKT2       3.308704e-02      0.0162232109       0.5490480 1      0.83567735\n",
       "  pind pglobal   qall      qglobal DeltaNd      type split_gene pair         \n",
       "1 1    0.9716109 1.0000000 1        0.025517929 CO   EP400      EP400 - ABL1 \n",
       "2 1    0.9999287 1.0000000 1       -0.010873673 ME   EP400      EP400 - ACTG1\n",
       "3 1    0.9998675 1.0000000 1       -0.014262996 ME   EP400      EP400 - ACVR1\n",
       "4 1    0.9999809 1.0000000 1       -0.005532556 ME   EP400      EP400 - AJUBA\n",
       "5 1    0.2787048 0.5567185 1        0.061238097 CO   EP400      EP400 - AKT1 \n",
       "6 1    0.9856920 1.0000000 1        0.016863824 CO   EP400      EP400 - AKT2 "
      ]
     },
     "metadata": {},
     "output_type": "display_data"
    }
   ],
   "source": [
    "head(boot_results[[1]])"
   ]
  },
  {
   "cell_type": "code",
   "execution_count": 117,
   "id": "4e629f2e-9e11-447d-a312-8633f75d5ad2",
   "metadata": {},
   "outputs": [
    {
     "data": {
      "text/html": [
       "<style>\n",
       ".list-inline {list-style: none; margin:0; padding: 0}\n",
       ".list-inline>li {display: inline-block}\n",
       ".list-inline>li:not(:last-child)::after {content: \"\\00b7\"; padding: 0 .5ex}\n",
       "</style>\n",
       "<ol class=list-inline><li>1254</li><li>14</li></ol>\n"
      ],
      "text/latex": [
       "\\begin{enumerate*}\n",
       "\\item 1254\n",
       "\\item 14\n",
       "\\end{enumerate*}\n"
      ],
      "text/markdown": [
       "1. 1254\n",
       "2. 14\n",
       "\n",
       "\n"
      ],
      "text/plain": [
       "[1] 1254   14"
      ]
     },
     "metadata": {},
     "output_type": "display_data"
    }
   ],
   "source": [
    "dim(select_orginal)"
   ]
  },
  {
   "cell_type": "code",
   "execution_count": 118,
   "id": "8f1d5c6c-1227-4033-8914-8776c74530bf",
   "metadata": {},
   "outputs": [],
   "source": [
    "selectX_100_pct_significnat_results <- select_orginal %>% filter(gene_name!=split_gene) %>% mutate('id'=case_when(gene_name>split_gene ~ paste(split_gene,gene_name,sep=\" - \"),\n",
    "                                       gene_name<split_gene ~ paste(gene_name,split_gene,sep=\" - \"))) %>%  filter(qall<=0.05) "
   ]
  },
  {
   "cell_type": "code",
   "execution_count": 119,
   "id": "946b2ea0-676e-4ff9-a637-89b76a53d004",
   "metadata": {},
   "outputs": [],
   "source": [
    "selectX_100_pct_significnat_results <- selectX_100_pct_significnat_results[!duplicated(selectX_100_pct_significnat_results$id),]"
   ]
  },
  {
   "cell_type": "code",
   "execution_count": 120,
   "id": "ee4b3a26-90ad-4244-a2c6-b97bcb259215",
   "metadata": {},
   "outputs": [
    {
     "data": {
      "text/html": [
       "<style>\n",
       ".list-inline {list-style: none; margin:0; padding: 0}\n",
       ".list-inline>li {display: inline-block}\n",
       ".list-inline>li:not(:last-child)::after {content: \"\\00b7\"; padding: 0 .5ex}\n",
       "</style>\n",
       "<ol class=list-inline><li>442</li><li>15</li></ol>\n"
      ],
      "text/latex": [
       "\\begin{enumerate*}\n",
       "\\item 442\n",
       "\\item 15\n",
       "\\end{enumerate*}\n"
      ],
      "text/markdown": [
       "1. 442\n",
       "2. 15\n",
       "\n",
       "\n"
      ],
      "text/plain": [
       "[1] 442  15"
      ]
     },
     "metadata": {},
     "output_type": "display_data"
    }
   ],
   "source": [
    "dim(selectX_100_pct_significnat_results)"
   ]
  },
  {
   "cell_type": "code",
   "execution_count": 121,
   "id": "274c92e7-aa2e-4e5c-91dc-f8bea8d6b438",
   "metadata": {},
   "outputs": [
    {
     "data": {
      "text/html": [
       "<table class=\"dataframe\">\n",
       "<caption>A data.frame: 1 × 1</caption>\n",
       "<thead>\n",
       "\t<tr><th scope=col>n</th></tr>\n",
       "\t<tr><th scope=col>&lt;int&gt;</th></tr>\n",
       "</thead>\n",
       "<tbody>\n",
       "\t<tr><td>442</td></tr>\n",
       "</tbody>\n",
       "</table>\n"
      ],
      "text/latex": [
       "A data.frame: 1 × 1\n",
       "\\begin{tabular}{l}\n",
       " n\\\\\n",
       " <int>\\\\\n",
       "\\hline\n",
       "\t 442\\\\\n",
       "\\end{tabular}\n"
      ],
      "text/markdown": [
       "\n",
       "A data.frame: 1 × 1\n",
       "\n",
       "| n &lt;int&gt; |\n",
       "|---|\n",
       "| 442 |\n",
       "\n"
      ],
      "text/plain": [
       "  n  \n",
       "1 442"
      ]
     },
     "metadata": {},
     "output_type": "display_data"
    }
   ],
   "source": [
    "selectX_100_pct_significnat_results %>% count()"
   ]
  },
  {
   "cell_type": "code",
   "execution_count": 122,
   "id": "9d509a3b-6b2c-4f06-8781-7bdc8161e2f5",
   "metadata": {},
   "outputs": [],
   "source": [
    "score_df<-data.frame('pairs'=selectX_100_pct_significnat_results$id)\n",
    "rownames(score_df)<-score_df$pairs\n",
    "score_df$Run_100<-1"
   ]
  },
  {
   "cell_type": "code",
   "execution_count": 123,
   "id": "ff260f31-0993-472f-97c0-25c239c0648b",
   "metadata": {},
   "outputs": [
    {
     "data": {
      "text/html": [
       "<table class=\"dataframe\">\n",
       "<caption>A data.frame: 6 × 2</caption>\n",
       "<thead>\n",
       "\t<tr><th></th><th scope=col>pairs</th><th scope=col>Run_100</th></tr>\n",
       "\t<tr><th></th><th scope=col>&lt;chr&gt;</th><th scope=col>&lt;dbl&gt;</th></tr>\n",
       "</thead>\n",
       "<tbody>\n",
       "\t<tr><th scope=row>AMER1 - EP400</th><td>AMER1 - EP400 </td><td>1</td></tr>\n",
       "\t<tr><th scope=row>DICER1 - EP400</th><td>DICER1 - EP400</td><td>1</td></tr>\n",
       "\t<tr><th scope=row>EP400 - PDGFRA</th><td>EP400 - PDGFRA</td><td>1</td></tr>\n",
       "\t<tr><th scope=row>EP400 - PLCG2</th><td>EP400 - PLCG2 </td><td>1</td></tr>\n",
       "\t<tr><th scope=row>EP400 - PTPRD</th><td>EP400 - PTPRD </td><td>1</td></tr>\n",
       "\t<tr><th scope=row>EP400 - PTPRT</th><td>EP400 - PTPRT </td><td>1</td></tr>\n",
       "</tbody>\n",
       "</table>\n"
      ],
      "text/latex": [
       "A data.frame: 6 × 2\n",
       "\\begin{tabular}{r|ll}\n",
       "  & pairs & Run\\_100\\\\\n",
       "  & <chr> & <dbl>\\\\\n",
       "\\hline\n",
       "\tAMER1 - EP400 & AMER1 - EP400  & 1\\\\\n",
       "\tDICER1 - EP400 & DICER1 - EP400 & 1\\\\\n",
       "\tEP400 - PDGFRA & EP400 - PDGFRA & 1\\\\\n",
       "\tEP400 - PLCG2 & EP400 - PLCG2  & 1\\\\\n",
       "\tEP400 - PTPRD & EP400 - PTPRD  & 1\\\\\n",
       "\tEP400 - PTPRT & EP400 - PTPRT  & 1\\\\\n",
       "\\end{tabular}\n"
      ],
      "text/markdown": [
       "\n",
       "A data.frame: 6 × 2\n",
       "\n",
       "| <!--/--> | pairs &lt;chr&gt; | Run_100 &lt;dbl&gt; |\n",
       "|---|---|---|\n",
       "| AMER1 - EP400 | AMER1 - EP400  | 1 |\n",
       "| DICER1 - EP400 | DICER1 - EP400 | 1 |\n",
       "| EP400 - PDGFRA | EP400 - PDGFRA | 1 |\n",
       "| EP400 - PLCG2 | EP400 - PLCG2  | 1 |\n",
       "| EP400 - PTPRD | EP400 - PTPRD  | 1 |\n",
       "| EP400 - PTPRT | EP400 - PTPRT  | 1 |\n",
       "\n"
      ],
      "text/plain": [
       "               pairs          Run_100\n",
       "AMER1 - EP400  AMER1 - EP400  1      \n",
       "DICER1 - EP400 DICER1 - EP400 1      \n",
       "EP400 - PDGFRA EP400 - PDGFRA 1      \n",
       "EP400 - PLCG2  EP400 - PLCG2  1      \n",
       "EP400 - PTPRD  EP400 - PTPRD  1      \n",
       "EP400 - PTPRT  EP400 - PTPRT  1      "
      ]
     },
     "metadata": {},
     "output_type": "display_data"
    }
   ],
   "source": [
    "head(score_df)"
   ]
  },
  {
   "cell_type": "code",
   "execution_count": 124,
   "id": "c03b7a95-b57b-4540-8e70-9626f1bb1042",
   "metadata": {},
   "outputs": [
    {
     "data": {
      "text/html": [
       "<style>\n",
       ".list-inline {list-style: none; margin:0; padding: 0}\n",
       ".list-inline>li {display: inline-block}\n",
       ".list-inline>li:not(:last-child)::after {content: \"\\00b7\"; padding: 0 .5ex}\n",
       "</style>\n",
       "<ol class=list-inline><li>442</li><li>2</li></ol>\n"
      ],
      "text/latex": [
       "\\begin{enumerate*}\n",
       "\\item 442\n",
       "\\item 2\n",
       "\\end{enumerate*}\n"
      ],
      "text/markdown": [
       "1. 442\n",
       "2. 2\n",
       "\n",
       "\n"
      ],
      "text/plain": [
       "[1] 442   2"
      ]
     },
     "metadata": {},
     "output_type": "display_data"
    }
   ],
   "source": [
    "dim(score_df)"
   ]
  },
  {
   "cell_type": "code",
   "execution_count": 125,
   "id": "52765d8e-8974-49ec-8020-250c9fff0900",
   "metadata": {},
   "outputs": [],
   "source": [
    "coselns_mcc<-list()"
   ]
  },
  {
   "cell_type": "code",
   "execution_count": 126,
   "id": "b1c994e3-c990-4751-9fad-7fa31854ae91",
   "metadata": {},
   "outputs": [],
   "source": [
    "for (t in c(1:10)){\n",
    "    score_df[[paste('Run',t,sep=\"_\")]]<-0\n",
    "    test<- boot_results[[t]] %>% filter(gene_name!=split_gene) %>% mutate('id'=case_when(gene_name>split_gene ~ paste(split_gene,gene_name,sep=\" - \"),\n",
    "                                       gene_name<split_gene ~ paste(gene_name,split_gene,sep=\" - \"))) %>%  filter(qall<=0.05) \n",
    "    test<- test[!duplicated(test$id),]\n",
    "    temp <- unique(test$id)\n",
    "    pairs <- intersect(score_df$pairs,temp)\n",
    "    score_df[pairs,][[paste('Run',t,sep=\"_\")]]<-1\n",
    "    #coselns_jaccard[[i]]<-jaccard(score_df$pairs,temp)\n",
    "    \n",
    "    possible <- 1254-length(score_df$pairs)\n",
    "    conf <- confusion_matrix(score_df$pairs,temp,c(1:possible))\n",
    "    a<- as.numeric((conf[[1]]+conf[[3]]))\n",
    "    b<- as.numeric((conf[[1]]+conf[[2]]))\n",
    "    c<- as.numeric((conf[[4]]+conf[[2]]))   \n",
    "    d<- as.numeric((conf[[4]]+conf[[3]])) \n",
    "    e <- as.numeric((conf[[1]]*conf[[4]]))\n",
    "    f <- as.numeric((conf[[2]]*conf[[3]]))\n",
    "    g <- as.numeric(e-f)\n",
    "    h <- as.numeric(a*b*c*d)\n",
    "    i <- sqrt(h)\n",
    "    mcc <- g/i\n",
    "    coselns_mcc[[t]]<-mcc\n",
    "}"
   ]
  },
  {
   "cell_type": "code",
   "execution_count": 127,
   "id": "4cbdcb80-d8c8-4c8f-9e48-2293d4e51da0",
   "metadata": {},
   "outputs": [
    {
     "data": {
      "image/png": "[encoded data removed]",
      "text/plain": [
       "plot without title"
      ]
     },
     "metadata": {
      "image/png": {
       "height": 420,
       "width": 420
      }
     },
     "output_type": "display_data"
    }
   ],
   "source": [
    "ggboxplot(unlist(coselns_mcc))"
   ]
  },
  {
   "cell_type": "markdown",
   "id": "82376468-a219-4b60-b2ef-90dfa1604955",
   "metadata": {
    "tags": []
   },
   "source": [
    "## Cooccur"
   ]
  },
  {
   "cell_type": "code",
   "execution_count": 130,
   "id": "aac4e63a-162f-4f02-946f-230350ce6961",
   "metadata": {},
   "outputs": [],
   "source": [
    "select_orginal <- readRDS('/mnt/ptemp/arvind/tool_comaprision/results/cooccur/cooccur_luad_all_results.rds')"
   ]
  },
  {
   "cell_type": "code",
   "execution_count": 131,
   "id": "e63619e4-3cf2-49ee-b5be-521735003ee3",
   "metadata": {},
   "outputs": [
    {
     "data": {
      "text/html": [
       "<table class=\"dataframe\">\n",
       "<caption>A data.frame: 6 × 11</caption>\n",
       "<thead>\n",
       "\t<tr><th></th><th scope=col>sp1</th><th scope=col>sp2</th><th scope=col>sp1_inc</th><th scope=col>sp2_inc</th><th scope=col>obs_cooccur</th><th scope=col>prob_cooccur</th><th scope=col>exp_cooccur</th><th scope=col>p_lt</th><th scope=col>p_gt</th><th scope=col>sp1_name</th><th scope=col>sp2_name</th></tr>\n",
       "\t<tr><th></th><th scope=col>&lt;dbl&gt;</th><th scope=col>&lt;dbl&gt;</th><th scope=col>&lt;dbl&gt;</th><th scope=col>&lt;dbl&gt;</th><th scope=col>&lt;dbl&gt;</th><th scope=col>&lt;dbl&gt;</th><th scope=col>&lt;dbl&gt;</th><th scope=col>&lt;dbl&gt;</th><th scope=col>&lt;dbl&gt;</th><th scope=col>&lt;chr&gt;</th><th scope=col>&lt;chr&gt;</th></tr>\n",
       "</thead>\n",
       "<tbody>\n",
       "\t<tr><th scope=row>1</th><td>1</td><td>63</td><td> 3</td><td>221</td><td>2</td><td>0.003</td><td>1.3</td><td>0.91533</td><td>0.41061</td><td>AKT1</td><td>TP53 </td></tr>\n",
       "\t<tr><th scope=row>2</th><td>2</td><td>35</td><td> 6</td><td>154</td><td>3</td><td>0.004</td><td>1.8</td><td>0.92524</td><td>0.26745</td><td>ALK </td><td>KRAS </td></tr>\n",
       "\t<tr><th scope=row>3</th><td>2</td><td>63</td><td> 6</td><td>221</td><td>5</td><td>0.005</td><td>2.6</td><td>0.99299</td><td>0.06169</td><td>ALK </td><td>TP53 </td></tr>\n",
       "\t<tr><th scope=row>4</th><td>3</td><td>17</td><td>10</td><td> 57</td><td>2</td><td>0.002</td><td>1.1</td><td>0.90658</td><td>0.31669</td><td>APC </td><td>EGFR </td></tr>\n",
       "\t<tr><th scope=row>5</th><td>3</td><td>35</td><td>10</td><td>154</td><td>1</td><td>0.006</td><td>3.1</td><td>0.13645</td><td>0.97538</td><td>APC </td><td>KRAS </td></tr>\n",
       "\t<tr><th scope=row>6</th><td>3</td><td>62</td><td>10</td><td> 59</td><td>1</td><td>0.002</td><td>1.2</td><td>0.66766</td><td>0.71703</td><td>APC </td><td>STK11</td></tr>\n",
       "</tbody>\n",
       "</table>\n"
      ],
      "text/latex": [
       "A data.frame: 6 × 11\n",
       "\\begin{tabular}{r|lllllllllll}\n",
       "  & sp1 & sp2 & sp1\\_inc & sp2\\_inc & obs\\_cooccur & prob\\_cooccur & exp\\_cooccur & p\\_lt & p\\_gt & sp1\\_name & sp2\\_name\\\\\n",
       "  & <dbl> & <dbl> & <dbl> & <dbl> & <dbl> & <dbl> & <dbl> & <dbl> & <dbl> & <chr> & <chr>\\\\\n",
       "\\hline\n",
       "\t1 & 1 & 63 &  3 & 221 & 2 & 0.003 & 1.3 & 0.91533 & 0.41061 & AKT1 & TP53 \\\\\n",
       "\t2 & 2 & 35 &  6 & 154 & 3 & 0.004 & 1.8 & 0.92524 & 0.26745 & ALK  & KRAS \\\\\n",
       "\t3 & 2 & 63 &  6 & 221 & 5 & 0.005 & 2.6 & 0.99299 & 0.06169 & ALK  & TP53 \\\\\n",
       "\t4 & 3 & 17 & 10 &  57 & 2 & 0.002 & 1.1 & 0.90658 & 0.31669 & APC  & EGFR \\\\\n",
       "\t5 & 3 & 35 & 10 & 154 & 1 & 0.006 & 3.1 & 0.13645 & 0.97538 & APC  & KRAS \\\\\n",
       "\t6 & 3 & 62 & 10 &  59 & 1 & 0.002 & 1.2 & 0.66766 & 0.71703 & APC  & STK11\\\\\n",
       "\\end{tabular}\n"
      ],
      "text/markdown": [
       "\n",
       "A data.frame: 6 × 11\n",
       "\n",
       "| <!--/--> | sp1 &lt;dbl&gt; | sp2 &lt;dbl&gt; | sp1_inc &lt;dbl&gt; | sp2_inc &lt;dbl&gt; | obs_cooccur &lt;dbl&gt; | prob_cooccur &lt;dbl&gt; | exp_cooccur &lt;dbl&gt; | p_lt &lt;dbl&gt; | p_gt &lt;dbl&gt; | sp1_name &lt;chr&gt; | sp2_name &lt;chr&gt; |\n",
       "|---|---|---|---|---|---|---|---|---|---|---|---|\n",
       "| 1 | 1 | 63 |  3 | 221 | 2 | 0.003 | 1.3 | 0.91533 | 0.41061 | AKT1 | TP53  |\n",
       "| 2 | 2 | 35 |  6 | 154 | 3 | 0.004 | 1.8 | 0.92524 | 0.26745 | ALK  | KRAS  |\n",
       "| 3 | 2 | 63 |  6 | 221 | 5 | 0.005 | 2.6 | 0.99299 | 0.06169 | ALK  | TP53  |\n",
       "| 4 | 3 | 17 | 10 |  57 | 2 | 0.002 | 1.1 | 0.90658 | 0.31669 | APC  | EGFR  |\n",
       "| 5 | 3 | 35 | 10 | 154 | 1 | 0.006 | 3.1 | 0.13645 | 0.97538 | APC  | KRAS  |\n",
       "| 6 | 3 | 62 | 10 |  59 | 1 | 0.002 | 1.2 | 0.66766 | 0.71703 | APC  | STK11 |\n",
       "\n"
      ],
      "text/plain": [
       "  sp1 sp2 sp1_inc sp2_inc obs_cooccur prob_cooccur exp_cooccur p_lt    p_gt   \n",
       "1 1   63   3      221     2           0.003        1.3         0.91533 0.41061\n",
       "2 2   35   6      154     3           0.004        1.8         0.92524 0.26745\n",
       "3 2   63   6      221     5           0.005        2.6         0.99299 0.06169\n",
       "4 3   17  10       57     2           0.002        1.1         0.90658 0.31669\n",
       "5 3   35  10      154     1           0.006        3.1         0.13645 0.97538\n",
       "6 3   62  10       59     1           0.002        1.2         0.66766 0.71703\n",
       "  sp1_name sp2_name\n",
       "1 AKT1     TP53    \n",
       "2 ALK      KRAS    \n",
       "3 ALK      TP53    \n",
       "4 APC      EGFR    \n",
       "5 APC      KRAS    \n",
       "6 APC      STK11   "
      ]
     },
     "metadata": {},
     "output_type": "display_data"
    }
   ],
   "source": [
    "head(select_orginal)"
   ]
  },
  {
   "cell_type": "code",
   "execution_count": 132,
   "id": "a73b8052-aaac-40df-83d6-c043b3d94613",
   "metadata": {},
   "outputs": [],
   "source": [
    "boot_results <- list()\n",
    "k=1\n",
    "for (i in c(1:10)){\n",
    "    name <- paste('/mnt/ptemp/arvind/tool_comaprision/results/cooccur/luad_sampling/sampling_run_result_80_',i,'.rds',sep=\"\")\n",
    "    boot_results[[k]] <- readRDS(file=name)\n",
    "    k=k+1\n",
    "}"
   ]
  },
  {
   "cell_type": "code",
   "execution_count": 133,
   "id": "bfbcfdee-a638-4523-8bcb-f8dfd703788d",
   "metadata": {},
   "outputs": [
    {
     "data": {
      "text/html": [
       "10"
      ],
      "text/latex": [
       "10"
      ],
      "text/markdown": [
       "10"
      ],
      "text/plain": [
       "[1] 10"
      ]
     },
     "metadata": {},
     "output_type": "display_data"
    }
   ],
   "source": [
    "length(boot_results)"
   ]
  },
  {
   "cell_type": "code",
   "execution_count": 134,
   "id": "214d5e61-4d3a-4c9d-8ee0-c599b99fcbaa",
   "metadata": {},
   "outputs": [
    {
     "data": {
      "text/html": [
       "<table class=\"dataframe\">\n",
       "<caption>A data.frame: 6 × 11</caption>\n",
       "<thead>\n",
       "\t<tr><th></th><th scope=col>sp1</th><th scope=col>sp2</th><th scope=col>sp1_inc</th><th scope=col>sp2_inc</th><th scope=col>obs_cooccur</th><th scope=col>prob_cooccur</th><th scope=col>exp_cooccur</th><th scope=col>p_lt</th><th scope=col>p_gt</th><th scope=col>sp1_name</th><th scope=col>sp2_name</th></tr>\n",
       "\t<tr><th></th><th scope=col>&lt;dbl&gt;</th><th scope=col>&lt;dbl&gt;</th><th scope=col>&lt;dbl&gt;</th><th scope=col>&lt;dbl&gt;</th><th scope=col>&lt;dbl&gt;</th><th scope=col>&lt;dbl&gt;</th><th scope=col>&lt;dbl&gt;</th><th scope=col>&lt;dbl&gt;</th><th scope=col>&lt;dbl&gt;</th><th scope=col>&lt;chr&gt;</th><th scope=col>&lt;chr&gt;</th></tr>\n",
       "</thead>\n",
       "<tbody>\n",
       "\t<tr><th scope=row>1</th><td>1</td><td>63</td><td> 3</td><td>180</td><td>2</td><td>0.003</td><td>1.3</td><td>0.91039</td><td>0.42339</td><td>AKT1</td><td>TP53</td></tr>\n",
       "\t<tr><th scope=row>2</th><td>2</td><td>63</td><td> 3</td><td>180</td><td>3</td><td>0.003</td><td>1.3</td><td>1.00000</td><td>0.08961</td><td>ALK </td><td>TP53</td></tr>\n",
       "\t<tr><th scope=row>3</th><td>3</td><td>35</td><td> 8</td><td>122</td><td>0</td><td>0.006</td><td>2.4</td><td>0.05324</td><td>1.00000</td><td>APC </td><td>KRAS</td></tr>\n",
       "\t<tr><th scope=row>4</th><td>3</td><td>63</td><td> 8</td><td>180</td><td>3</td><td>0.009</td><td>3.6</td><td>0.47916</td><td>0.78042</td><td>APC </td><td>TP53</td></tr>\n",
       "\t<tr><th scope=row>5</th><td>5</td><td> 7</td><td>15</td><td> 28</td><td>1</td><td>0.003</td><td>1.0</td><td>0.71805</td><td>0.66909</td><td>ATM </td><td>BRAF</td></tr>\n",
       "\t<tr><th scope=row>6</th><td>5</td><td>17</td><td>15</td><td> 50</td><td>1</td><td>0.005</td><td>1.9</td><td>0.42112</td><td>0.86944</td><td>ATM </td><td>EGFR</td></tr>\n",
       "</tbody>\n",
       "</table>\n"
      ],
      "text/latex": [
       "A data.frame: 6 × 11\n",
       "\\begin{tabular}{r|lllllllllll}\n",
       "  & sp1 & sp2 & sp1\\_inc & sp2\\_inc & obs\\_cooccur & prob\\_cooccur & exp\\_cooccur & p\\_lt & p\\_gt & sp1\\_name & sp2\\_name\\\\\n",
       "  & <dbl> & <dbl> & <dbl> & <dbl> & <dbl> & <dbl> & <dbl> & <dbl> & <dbl> & <chr> & <chr>\\\\\n",
       "\\hline\n",
       "\t1 & 1 & 63 &  3 & 180 & 2 & 0.003 & 1.3 & 0.91039 & 0.42339 & AKT1 & TP53\\\\\n",
       "\t2 & 2 & 63 &  3 & 180 & 3 & 0.003 & 1.3 & 1.00000 & 0.08961 & ALK  & TP53\\\\\n",
       "\t3 & 3 & 35 &  8 & 122 & 0 & 0.006 & 2.4 & 0.05324 & 1.00000 & APC  & KRAS\\\\\n",
       "\t4 & 3 & 63 &  8 & 180 & 3 & 0.009 & 3.6 & 0.47916 & 0.78042 & APC  & TP53\\\\\n",
       "\t5 & 5 &  7 & 15 &  28 & 1 & 0.003 & 1.0 & 0.71805 & 0.66909 & ATM  & BRAF\\\\\n",
       "\t6 & 5 & 17 & 15 &  50 & 1 & 0.005 & 1.9 & 0.42112 & 0.86944 & ATM  & EGFR\\\\\n",
       "\\end{tabular}\n"
      ],
      "text/markdown": [
       "\n",
       "A data.frame: 6 × 11\n",
       "\n",
       "| <!--/--> | sp1 &lt;dbl&gt; | sp2 &lt;dbl&gt; | sp1_inc &lt;dbl&gt; | sp2_inc &lt;dbl&gt; | obs_cooccur &lt;dbl&gt; | prob_cooccur &lt;dbl&gt; | exp_cooccur &lt;dbl&gt; | p_lt &lt;dbl&gt; | p_gt &lt;dbl&gt; | sp1_name &lt;chr&gt; | sp2_name &lt;chr&gt; |\n",
       "|---|---|---|---|---|---|---|---|---|---|---|---|\n",
       "| 1 | 1 | 63 |  3 | 180 | 2 | 0.003 | 1.3 | 0.91039 | 0.42339 | AKT1 | TP53 |\n",
       "| 2 | 2 | 63 |  3 | 180 | 3 | 0.003 | 1.3 | 1.00000 | 0.08961 | ALK  | TP53 |\n",
       "| 3 | 3 | 35 |  8 | 122 | 0 | 0.006 | 2.4 | 0.05324 | 1.00000 | APC  | KRAS |\n",
       "| 4 | 3 | 63 |  8 | 180 | 3 | 0.009 | 3.6 | 0.47916 | 0.78042 | APC  | TP53 |\n",
       "| 5 | 5 |  7 | 15 |  28 | 1 | 0.003 | 1.0 | 0.71805 | 0.66909 | ATM  | BRAF |\n",
       "| 6 | 5 | 17 | 15 |  50 | 1 | 0.005 | 1.9 | 0.42112 | 0.86944 | ATM  | EGFR |\n",
       "\n"
      ],
      "text/plain": [
       "  sp1 sp2 sp1_inc sp2_inc obs_cooccur prob_cooccur exp_cooccur p_lt    p_gt   \n",
       "1 1   63   3      180     2           0.003        1.3         0.91039 0.42339\n",
       "2 2   63   3      180     3           0.003        1.3         1.00000 0.08961\n",
       "3 3   35   8      122     0           0.006        2.4         0.05324 1.00000\n",
       "4 3   63   8      180     3           0.009        3.6         0.47916 0.78042\n",
       "5 5    7  15       28     1           0.003        1.0         0.71805 0.66909\n",
       "6 5   17  15       50     1           0.005        1.9         0.42112 0.86944\n",
       "  sp1_name sp2_name\n",
       "1 AKT1     TP53    \n",
       "2 ALK      TP53    \n",
       "3 APC      KRAS    \n",
       "4 APC      TP53    \n",
       "5 ATM      BRAF    \n",
       "6 ATM      EGFR    "
      ]
     },
     "metadata": {},
     "output_type": "display_data"
    }
   ],
   "source": [
    "head(boot_results[[1]])"
   ]
  },
  {
   "cell_type": "code",
   "execution_count": 135,
   "id": "d4bf5b52-b825-4b27-91fa-ed9741654db5",
   "metadata": {},
   "outputs": [],
   "source": [
    "selectX_100_pct_significnat_results <- select_orginal %>% filter(p_lt<=0.05 | p_gt<=0.05) %>% mutate('id'=case_when(sp1_name>sp2_name ~ paste(sp2_name,sp1_name,sep=\" - \"),\n",
    "                                       sp1_name<sp2_name ~ paste(sp1_name,sp2_name,sep=\" - \"))) "
   ]
  },
  {
   "cell_type": "code",
   "execution_count": 136,
   "id": "61b7f69d-e9f8-4f59-b079-2261f07239d9",
   "metadata": {},
   "outputs": [],
   "source": [
    "selectX_100_pct_significnat_results <- selectX_100_pct_significnat_results[!duplicated(selectX_100_pct_significnat_results$id),]"
   ]
  },
  {
   "cell_type": "code",
   "execution_count": 137,
   "id": "c0afd968-cd5a-458d-9749-f73dc236273c",
   "metadata": {},
   "outputs": [
    {
     "data": {
      "text/html": [
       "<style>\n",
       ".list-inline {list-style: none; margin:0; padding: 0}\n",
       ".list-inline>li {display: inline-block}\n",
       ".list-inline>li:not(:last-child)::after {content: \"\\00b7\"; padding: 0 .5ex}\n",
       "</style>\n",
       "<ol class=list-inline><li>31</li><li>12</li></ol>\n"
      ],
      "text/latex": [
       "\\begin{enumerate*}\n",
       "\\item 31\n",
       "\\item 12\n",
       "\\end{enumerate*}\n"
      ],
      "text/markdown": [
       "1. 31\n",
       "2. 12\n",
       "\n",
       "\n"
      ],
      "text/plain": [
       "[1] 31 12"
      ]
     },
     "metadata": {},
     "output_type": "display_data"
    }
   ],
   "source": [
    "dim(selectX_100_pct_significnat_results)"
   ]
  },
  {
   "cell_type": "code",
   "execution_count": 138,
   "id": "f65f2ebc-242c-4447-9f7e-e5a116a1e44e",
   "metadata": {},
   "outputs": [
    {
     "data": {
      "text/html": [
       "<table class=\"dataframe\">\n",
       "<caption>A data.frame: 1 × 1</caption>\n",
       "<thead>\n",
       "\t<tr><th scope=col>n</th></tr>\n",
       "\t<tr><th scope=col>&lt;int&gt;</th></tr>\n",
       "</thead>\n",
       "<tbody>\n",
       "\t<tr><td>31</td></tr>\n",
       "</tbody>\n",
       "</table>\n"
      ],
      "text/latex": [
       "A data.frame: 1 × 1\n",
       "\\begin{tabular}{l}\n",
       " n\\\\\n",
       " <int>\\\\\n",
       "\\hline\n",
       "\t 31\\\\\n",
       "\\end{tabular}\n"
      ],
      "text/markdown": [
       "\n",
       "A data.frame: 1 × 1\n",
       "\n",
       "| n &lt;int&gt; |\n",
       "|---|\n",
       "| 31 |\n",
       "\n"
      ],
      "text/plain": [
       "  n \n",
       "1 31"
      ]
     },
     "metadata": {},
     "output_type": "display_data"
    }
   ],
   "source": [
    "selectX_100_pct_significnat_results %>% count()"
   ]
  },
  {
   "cell_type": "code",
   "execution_count": 139,
   "id": "78b84cdc-172d-44d5-936e-90fa8899a10a",
   "metadata": {},
   "outputs": [],
   "source": [
    "score_df<-data.frame('pairs'=selectX_100_pct_significnat_results$id)\n",
    "rownames(score_df)<-score_df$pairs\n",
    "score_df$Run_100<-1"
   ]
  },
  {
   "cell_type": "code",
   "execution_count": 140,
   "id": "4fe05b58-5c72-44a1-b178-3e8d00b08a7f",
   "metadata": {},
   "outputs": [
    {
     "data": {
      "text/html": [
       "<table class=\"dataframe\">\n",
       "<caption>A data.frame: 6 × 2</caption>\n",
       "<thead>\n",
       "\t<tr><th></th><th scope=col>pairs</th><th scope=col>Run_100</th></tr>\n",
       "\t<tr><th></th><th scope=col>&lt;chr&gt;</th><th scope=col>&lt;dbl&gt;</th></tr>\n",
       "</thead>\n",
       "<tbody>\n",
       "\t<tr><th scope=row>ATM - KRAS</th><td>ATM - KRAS   </td><td>1</td></tr>\n",
       "\t<tr><th scope=row>ATM - STK11</th><td>ATM - STK11  </td><td>1</td></tr>\n",
       "\t<tr><th scope=row>ATM - TP53</th><td>ATM - TP53   </td><td>1</td></tr>\n",
       "\t<tr><th scope=row>BRAF - KRAS</th><td>BRAF - KRAS  </td><td>1</td></tr>\n",
       "\t<tr><th scope=row>BRAF - SETD2</th><td>BRAF - SETD2 </td><td>1</td></tr>\n",
       "\t<tr><th scope=row>CDKN2A - TP53</th><td>CDKN2A - TP53</td><td>1</td></tr>\n",
       "</tbody>\n",
       "</table>\n"
      ],
      "text/latex": [
       "A data.frame: 6 × 2\n",
       "\\begin{tabular}{r|ll}\n",
       "  & pairs & Run\\_100\\\\\n",
       "  & <chr> & <dbl>\\\\\n",
       "\\hline\n",
       "\tATM - KRAS & ATM - KRAS    & 1\\\\\n",
       "\tATM - STK11 & ATM - STK11   & 1\\\\\n",
       "\tATM - TP53 & ATM - TP53    & 1\\\\\n",
       "\tBRAF - KRAS & BRAF - KRAS   & 1\\\\\n",
       "\tBRAF - SETD2 & BRAF - SETD2  & 1\\\\\n",
       "\tCDKN2A - TP53 & CDKN2A - TP53 & 1\\\\\n",
       "\\end{tabular}\n"
      ],
      "text/markdown": [
       "\n",
       "A data.frame: 6 × 2\n",
       "\n",
       "| <!--/--> | pairs &lt;chr&gt; | Run_100 &lt;dbl&gt; |\n",
       "|---|---|---|\n",
       "| ATM - KRAS | ATM - KRAS    | 1 |\n",
       "| ATM - STK11 | ATM - STK11   | 1 |\n",
       "| ATM - TP53 | ATM - TP53    | 1 |\n",
       "| BRAF - KRAS | BRAF - KRAS   | 1 |\n",
       "| BRAF - SETD2 | BRAF - SETD2  | 1 |\n",
       "| CDKN2A - TP53 | CDKN2A - TP53 | 1 |\n",
       "\n"
      ],
      "text/plain": [
       "              pairs         Run_100\n",
       "ATM - KRAS    ATM - KRAS    1      \n",
       "ATM - STK11   ATM - STK11   1      \n",
       "ATM - TP53    ATM - TP53    1      \n",
       "BRAF - KRAS   BRAF - KRAS   1      \n",
       "BRAF - SETD2  BRAF - SETD2  1      \n",
       "CDKN2A - TP53 CDKN2A - TP53 1      "
      ]
     },
     "metadata": {},
     "output_type": "display_data"
    }
   ],
   "source": [
    "head(score_df)"
   ]
  },
  {
   "cell_type": "code",
   "execution_count": 141,
   "id": "999a9ebe-b4aa-4743-af43-796155fcac6f",
   "metadata": {},
   "outputs": [
    {
     "data": {
      "text/html": [
       "<style>\n",
       ".list-inline {list-style: none; margin:0; padding: 0}\n",
       ".list-inline>li {display: inline-block}\n",
       ".list-inline>li:not(:last-child)::after {content: \"\\00b7\"; padding: 0 .5ex}\n",
       "</style>\n",
       "<ol class=list-inline><li>288</li><li>11</li></ol>\n"
      ],
      "text/latex": [
       "\\begin{enumerate*}\n",
       "\\item 288\n",
       "\\item 11\n",
       "\\end{enumerate*}\n"
      ],
      "text/markdown": [
       "1. 288\n",
       "2. 11\n",
       "\n",
       "\n"
      ],
      "text/plain": [
       "[1] 288  11"
      ]
     },
     "metadata": {},
     "output_type": "display_data"
    }
   ],
   "source": [
    "dim(select_orginal)"
   ]
  },
  {
   "cell_type": "code",
   "execution_count": 142,
   "id": "6b4460f6-7725-4cf9-9225-2c1649849a7d",
   "metadata": {},
   "outputs": [],
   "source": [
    "cooccur_mcc <- list()"
   ]
  },
  {
   "cell_type": "code",
   "execution_count": 143,
   "id": "e12a6260-e2b5-4f81-b561-11a0c3edb835",
   "metadata": {},
   "outputs": [],
   "source": [
    "for (t in c(1:10)){\n",
    "    score_df[[paste('Run',i,sep=\"_\")]]<-0\n",
    "    test<- boot_results[[t]]  %>% filter(p_lt<=0.05 | p_gt<=0.05) %>% mutate('id'=case_when(sp1_name>sp2_name ~ paste(sp2_name,sp1_name,sep=\" - \"),\n",
    "                                       sp1_name<sp2_name ~ paste(sp1_name,sp2_name,sep=\" - \")))  \n",
    "    test<- test[!duplicated(test$id),]\n",
    "    temp <- unique(test$id)\n",
    "    pairs <- intersect(score_df$pairs,temp)\n",
    "    score_df[pairs,][[paste('Run',i,sep=\"_\")]]<-1\n",
    "    #cooccur_jaccard[[i]]<-jaccard(score_df$pairs,temp)\n",
    "    \n",
    "    possible <- 288-length(score_df$pairs)\n",
    "    conf <- confusion_matrix(score_df$pairs,temp,c(1:possible))\n",
    "    a<- as.numeric((conf[[1]]+conf[[3]]))\n",
    "    b<- as.numeric((conf[[1]]+conf[[2]]))\n",
    "    c<- as.numeric((conf[[4]]+conf[[2]]))   \n",
    "    d<- as.numeric((conf[[4]]+conf[[3]])) \n",
    "    e <- as.numeric((conf[[1]]*conf[[4]]))\n",
    "    f <- as.numeric((conf[[2]]*conf[[3]]))\n",
    "    g <- as.numeric(e-f)\n",
    "    h <- as.numeric(a*b*c*d)\n",
    "    i <- sqrt(h)\n",
    "    mcc <- g/i\n",
    "    cooccur_mcc[[t]]<-mcc\n",
    "}"
   ]
  },
  {
   "cell_type": "code",
   "execution_count": 144,
   "id": "032e68ca-51d1-4650-b9c6-ed67f4cf5b01",
   "metadata": {},
   "outputs": [
    {
     "data": {
      "text/html": [
       "<ol>\n",
       "\t<li>0.654346664723063</li>\n",
       "\t<li>0.849204679981384</li>\n",
       "\t<li>0.721314138430829</li>\n",
       "\t<li>0.787067844717487</li>\n",
       "\t<li>0.755801391269197</li>\n",
       "\t<li>0.814541451243907</li>\n",
       "\t<li>0.765596889320982</li>\n",
       "\t<li>0.787067844717487</li>\n",
       "\t<li>0.855403539600853</li>\n",
       "\t<li>0.787067844717487</li>\n",
       "</ol>\n"
      ],
      "text/latex": [
       "\\begin{enumerate}\n",
       "\\item 0.654346664723063\n",
       "\\item 0.849204679981384\n",
       "\\item 0.721314138430829\n",
       "\\item 0.787067844717487\n",
       "\\item 0.755801391269197\n",
       "\\item 0.814541451243907\n",
       "\\item 0.765596889320982\n",
       "\\item 0.787067844717487\n",
       "\\item 0.855403539600853\n",
       "\\item 0.787067844717487\n",
       "\\end{enumerate}\n"
      ],
      "text/markdown": [
       "1. 0.654346664723063\n",
       "2. 0.849204679981384\n",
       "3. 0.721314138430829\n",
       "4. 0.787067844717487\n",
       "5. 0.755801391269197\n",
       "6. 0.814541451243907\n",
       "7. 0.765596889320982\n",
       "8. 0.787067844717487\n",
       "9. 0.855403539600853\n",
       "10. 0.787067844717487\n",
       "\n",
       "\n"
      ],
      "text/plain": [
       "[[1]]\n",
       "[1] 0.6543467\n",
       "\n",
       "[[2]]\n",
       "[1] 0.8492047\n",
       "\n",
       "[[3]]\n",
       "[1] 0.7213141\n",
       "\n",
       "[[4]]\n",
       "[1] 0.7870678\n",
       "\n",
       "[[5]]\n",
       "[1] 0.7558014\n",
       "\n",
       "[[6]]\n",
       "[1] 0.8145415\n",
       "\n",
       "[[7]]\n",
       "[1] 0.7655969\n",
       "\n",
       "[[8]]\n",
       "[1] 0.7870678\n",
       "\n",
       "[[9]]\n",
       "[1] 0.8554035\n",
       "\n",
       "[[10]]\n",
       "[1] 0.7870678\n"
      ]
     },
     "metadata": {},
     "output_type": "display_data"
    }
   ],
   "source": [
    "cooccur_mcc"
   ]
  },
  {
   "cell_type": "code",
   "execution_count": 145,
   "id": "5495d2f7-f5b9-42ce-9073-5fb615b2ef5f",
   "metadata": {
    "tags": []
   },
   "outputs": [
    {
     "data": {
      "image/png": "[encoded data removed]",
      "text/plain": [
       "plot without title"
      ]
     },
     "metadata": {
      "image/png": {
       "height": 420,
       "width": 420
      }
     },
     "output_type": "display_data"
    }
   ],
   "source": [
    "ggboxplot(unlist(cooccur_mcc))"
   ]
  },
  {
   "cell_type": "markdown",
   "id": "ff098cc7-a1f1-4ce5-8839-03c509de3f42",
   "metadata": {},
   "source": [
    "## Combine results"
   ]
  },
  {
   "cell_type": "code",
   "execution_count": 146,
   "id": "fbf33e4c-7c8d-4798-9eee-94fff06b329d",
   "metadata": {
    "tags": []
   },
   "outputs": [],
   "source": [
    "plot_jaccard <- data.frame('jaccard'=c(\n",
    "                                      unlist(selectX_mcc),\n",
    "                                      unlist(select_mcc),\n",
    "                                      unlist(gamtoc_mcc),\n",
    "                                      unlist(discover_mcc),\n",
    "                                      unlist(weSME_mcc),\n",
    "                                      unlist(coselns_mcc),\n",
    "                                      unlist(cooccur_mcc))\n",
    "                          )"
   ]
  },
  {
   "cell_type": "code",
   "execution_count": 147,
   "id": "02b089f4-7097-45fc-8481-77c16f3110df",
   "metadata": {
    "tags": []
   },
   "outputs": [],
   "source": [
    "plot_jaccard$name<-c(\n",
    "                  rep('SelectSim',10),\n",
    "                  rep('select',10),\n",
    "                  rep('GamTOC',10),\n",
    "                  rep('Discover',10),\n",
    "                  rep('weSME/weSCO',10),\n",
    "                  rep('Coselns',10),\n",
    "                  rep('cooccur',10))"
   ]
  },
  {
   "cell_type": "code",
   "execution_count": 148,
   "id": "bda26e8d-f118-47a0-ab7c-3fd1ad9a8a16",
   "metadata": {
    "tags": []
   },
   "outputs": [
    {
     "data": {
      "text/html": [
       "<table class=\"dataframe\">\n",
       "<caption>A data.frame: 6 × 2</caption>\n",
       "<thead>\n",
       "\t<tr><th></th><th scope=col>jaccard</th><th scope=col>name</th></tr>\n",
       "\t<tr><th></th><th scope=col>&lt;dbl&gt;</th><th scope=col>&lt;chr&gt;</th></tr>\n",
       "</thead>\n",
       "<tbody>\n",
       "\t<tr><th scope=row>1</th><td>0.8582162</td><td>SelectSim</td></tr>\n",
       "\t<tr><th scope=row>2</th><td>0.8162811</td><td>SelectSim</td></tr>\n",
       "\t<tr><th scope=row>3</th><td>0.8982043</td><td>SelectSim</td></tr>\n",
       "\t<tr><th scope=row>4</th><td>0.8883752</td><td>SelectSim</td></tr>\n",
       "\t<tr><th scope=row>5</th><td>0.8582162</td><td>SelectSim</td></tr>\n",
       "\t<tr><th scope=row>6</th><td>0.9079275</td><td>SelectSim</td></tr>\n",
       "</tbody>\n",
       "</table>\n"
      ],
      "text/latex": [
       "A data.frame: 6 × 2\n",
       "\\begin{tabular}{r|ll}\n",
       "  & jaccard & name\\\\\n",
       "  & <dbl> & <chr>\\\\\n",
       "\\hline\n",
       "\t1 & 0.8582162 & SelectSim\\\\\n",
       "\t2 & 0.8162811 & SelectSim\\\\\n",
       "\t3 & 0.8982043 & SelectSim\\\\\n",
       "\t4 & 0.8883752 & SelectSim\\\\\n",
       "\t5 & 0.8582162 & SelectSim\\\\\n",
       "\t6 & 0.9079275 & SelectSim\\\\\n",
       "\\end{tabular}\n"
      ],
      "text/markdown": [
       "\n",
       "A data.frame: 6 × 2\n",
       "\n",
       "| <!--/--> | jaccard &lt;dbl&gt; | name &lt;chr&gt; |\n",
       "|---|---|---|\n",
       "| 1 | 0.8582162 | SelectSim |\n",
       "| 2 | 0.8162811 | SelectSim |\n",
       "| 3 | 0.8982043 | SelectSim |\n",
       "| 4 | 0.8883752 | SelectSim |\n",
       "| 5 | 0.8582162 | SelectSim |\n",
       "| 6 | 0.9079275 | SelectSim |\n",
       "\n"
      ],
      "text/plain": [
       "  jaccard   name     \n",
       "1 0.8582162 SelectSim\n",
       "2 0.8162811 SelectSim\n",
       "3 0.8982043 SelectSim\n",
       "4 0.8883752 SelectSim\n",
       "5 0.8582162 SelectSim\n",
       "6 0.9079275 SelectSim"
      ]
     },
     "metadata": {},
     "output_type": "display_data"
    }
   ],
   "source": [
    "head(plot_jaccard)"
   ]
  },
  {
   "cell_type": "code",
   "execution_count": 149,
   "id": "16b79ccb-0ff3-467c-bd70-2fdaf9a1c4bb",
   "metadata": {
    "tags": []
   },
   "outputs": [],
   "source": [
    "p <- ggplot(plot_jaccard, aes(x=name, y=jaccard,color=name)) + \n",
    "  geom_boxplot(outlier.colour=\"red\", outlier.shape=8,\n",
    "                outlier.size=4)"
   ]
  },
  {
   "cell_type": "code",
   "execution_count": 150,
   "id": "8e7c6357-c710-494c-b2b0-a447a4040329",
   "metadata": {
    "tags": []
   },
   "outputs": [],
   "source": [
    "p<-p+stat_summary(fun=mean, geom=\"point\", shape=23, size=4,color='red')+\n",
    "geom_dotplot(binaxis='y', stackdir='center', dotsize=1,binwidth=0.01)+\n",
    "scale_color_brewer(palette=\"Set1\")+theme_pubr()+scale_x_discrete(limits=c(\"SelectSim\", \"weSME/weSCO\", 'GamTOC',\"Discover\",'select','cooccur','Coselns'))+ggtitle('TCGA LUAD')+\n",
    "labs(subtitle = '(Total N=502, Sampling N=401)')+xlab('')+ylab('Matthews correlation coefficient')+scale_y_continuous(breaks = seq(0, 1, 0.1),limits = c(0.2,1))+\n",
    "  theme(plot.title = element_text(hjust = 0.5),\n",
    "        legend.title = element_blank(),\n",
    "        plot.subtitle =  element_text(hjust = 0.5),\n",
    "        text = element_text(size = 18),\n",
    "        legend.position = 'top',\n",
    "        axis.title.x=element_blank(),\n",
    "        axis.text.x=element_blank(),\n",
    "        axis.ticks.x=element_blank(),\n",
    "        legend.text = element_text(size = 14))"
   ]
  },
  {
   "cell_type": "code",
   "execution_count": 151,
   "id": "2fd96264-2202-4d64-8be8-4b49fbefc50c",
   "metadata": {
    "tags": []
   },
   "outputs": [
    {
     "data": {
      "image/png": "[encoded data removed]",
      "text/plain": [
       "plot without title"
      ]
     },
     "metadata": {
      "image/png": {
       "height": 420,
       "width": 420
      }
     },
     "output_type": "display_data"
    }
   ],
   "source": [
    "p"
   ]
  },
  {
   "cell_type": "code",
   "execution_count": 255,
   "id": "ac26f799-6523-4f84-9fad-9f2b06f87416",
   "metadata": {
    "tags": []
   },
   "outputs": [],
   "source": [
    "saveRDS(plot_jaccard,file='luad_mcc_v5.rds')"
   ]
  }
 ],
 "metadata": {
  "kernelspec": {
   "display_name": "R",
   "language": "R",
   "name": "ir"
  },
  "language_info": {
   "codemirror_mode": "r",
   "file_extension": ".r",
   "mimetype": "text/x-r-source",
   "name": "R",
   "pygments_lexer": "r",
   "version": "4.3.2"
  }
 },
 "nbformat": 4,
 "nbformat_minor": 5
}
