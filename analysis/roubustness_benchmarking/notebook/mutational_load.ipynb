{
 "cells": [
  {
   "cell_type": "code",
   "execution_count": 1,
   "id": "5f9db0d3-c507-49eb-ae33-610313baf1d8",
   "metadata": {},
   "outputs": [
    {
     "name": "stderr",
     "output_type": "stream",
     "text": [
      "── \u001b[1mAttaching core tidyverse packages\u001b[22m ───────────────────────────────────────────────────────────────────────────────────────────────────────────────────────────────────── tidyverse 2.0.0 ──\n",
      "\u001b[32m✔\u001b[39m \u001b[34mdplyr    \u001b[39m 1.1.4     \u001b[32m✔\u001b[39m \u001b[34mreadr    \u001b[39m 2.1.5\n",
      "\u001b[32m✔\u001b[39m \u001b[34mforcats  \u001b[39m 1.0.0     \u001b[32m✔\u001b[39m \u001b[34mstringr  \u001b[39m 1.5.1\n",
      "\u001b[32m✔\u001b[39m \u001b[34mggplot2  \u001b[39m 3.4.4     \u001b[32m✔\u001b[39m \u001b[34mtibble   \u001b[39m 3.2.1\n",
      "\u001b[32m✔\u001b[39m \u001b[34mlubridate\u001b[39m 1.9.3     \u001b[32m✔\u001b[39m \u001b[34mtidyr    \u001b[39m 1.3.0\n",
      "\u001b[32m✔\u001b[39m \u001b[34mpurrr    \u001b[39m 1.0.2     \n",
      "── \u001b[1mConflicts\u001b[22m ─────────────────────────────────────────────────────────────────────────────────────────────────────────────────────────────────────────────────────── tidyverse_conflicts() ──\n",
      "\u001b[31m✖\u001b[39m \u001b[34mdplyr\u001b[39m::\u001b[32mfilter()\u001b[39m masks \u001b[34mstats\u001b[39m::filter()\n",
      "\u001b[31m✖\u001b[39m \u001b[34mdplyr\u001b[39m::\u001b[32mlag()\u001b[39m    masks \u001b[34mstats\u001b[39m::lag()\n",
      "\u001b[36mℹ\u001b[39m Use the conflicted package (\u001b[3m\u001b[34m<http://conflicted.r-lib.org/>\u001b[39m\u001b[23m) to force all conflicts to become errors\n"
     ]
    }
   ],
   "source": [
    "library('SelectSim')\n",
    "library('tidyverse')\n",
    "library('effsize')\n",
    "library('ggpubr')\n",
    "library('ggsci')\n",
    "library('qvalue')"
   ]
  },
  {
   "cell_type": "code",
   "execution_count": 2,
   "id": "dcb83e6a-192b-480e-b96e-d689c85e61ec",
   "metadata": {
    "scrolled": true
   },
   "outputs": [
    {
     "data": {
      "text/plain": [
       "R version 4.3.2 (2023-10-31)\n",
       "Platform: x86_64-conda-linux-gnu (64-bit)\n",
       "Running under: CentOS Linux 7 (Core)\n",
       "\n",
       "Matrix products: default\n",
       "BLAS/LAPACK: /mnt/ndata/arvind/envs/R_4/lib/libopenblasp-r0.3.25.so;  LAPACK version 3.11.0\n",
       "\n",
       "locale:\n",
       " [1] LC_CTYPE=en_US.UTF-8       LC_NUMERIC=C              \n",
       " [3] LC_TIME=en_US.UTF-8        LC_COLLATE=en_US.UTF-8    \n",
       " [5] LC_MONETARY=en_US.UTF-8    LC_MESSAGES=en_US.UTF-8   \n",
       " [7] LC_PAPER=en_US.UTF-8       LC_NAME=C                 \n",
       " [9] LC_ADDRESS=C               LC_TELEPHONE=C            \n",
       "[11] LC_MEASUREMENT=en_US.UTF-8 LC_IDENTIFICATION=C       \n",
       "\n",
       "time zone: Europe/Zurich\n",
       "tzcode source: system (glibc)\n",
       "\n",
       "attached base packages:\n",
       "[1] stats     graphics  grDevices utils     datasets  methods   base     \n",
       "\n",
       "other attached packages:\n",
       " [1] qvalue_2.34.0     ggsci_3.0.0       ggpubr_0.6.0      effsize_0.8.1    \n",
       " [5] lubridate_1.9.3   forcats_1.0.0     stringr_1.5.1     dplyr_1.1.4      \n",
       " [9] purrr_1.0.2       readr_2.1.5       tidyr_1.3.0       tibble_3.2.1     \n",
       "[13] ggplot2_3.4.4     tidyverse_2.0.0   SelectSim_0.0.1.3\n",
       "\n",
       "loaded via a namespace (and not attached):\n",
       " [1] gtable_0.3.4       rstatix_0.7.2      lattice_0.22-5     tzdb_0.4.0        \n",
       " [5] vctrs_0.6.5        tools_4.3.2        generics_0.1.3     parallel_4.3.2    \n",
       " [9] fansi_1.0.6        pkgconfig_2.0.3    Matrix_1.6-5       ggridges_0.5.5    \n",
       "[13] rngtools_1.5.2     RcppParallel_5.1.6 uuid_1.2-0         lifecycle_1.0.4   \n",
       "[17] compiler_4.3.2     tictoc_1.2         munsell_0.5.0      repr_1.1.6        \n",
       "[21] codetools_0.2-19   carData_3.0-5      htmltools_0.5.7    pillar_1.9.0      \n",
       "[25] car_3.1-2          crayon_1.5.2       doRNG_1.8.6        iterators_1.0.14  \n",
       "[29] abind_1.4-5        foreach_1.5.2      tidyselect_1.2.0   digest_0.6.34     \n",
       "[33] stringi_1.8.3      reshape2_1.4.4     splines_4.3.2      fastmap_1.1.1     \n",
       "[37] grid_4.3.2         colorspace_2.1-0   cli_3.6.2          magrittr_2.0.3    \n",
       "[41] base64enc_0.1-3    Rfast_2.1.0        utf8_1.2.4         IRdisplay_1.1     \n",
       "[45] broom_1.0.5        withr_3.0.0        scales_1.3.0       backports_1.4.1   \n",
       "[49] IRkernel_1.3.2     RcppZiggurat_0.1.6 timechange_0.3.0   pbdZMQ_0.3-11     \n",
       "[53] ggsignif_0.6.4     hms_1.1.3          evaluate_0.23      doParallel_1.0.17 \n",
       "[57] rlang_1.1.3        Rcpp_1.0.12        glue_1.7.0         jsonlite_1.8.8    \n",
       "[61] R6_2.5.1           plyr_1.8.9        "
      ]
     },
     "metadata": {},
     "output_type": "display_data"
    }
   ],
   "source": [
    "sessionInfo()"
   ]
  },
  {
   "cell_type": "markdown",
   "id": "01d23729-3e03-4e77-b174-071ce938700e",
   "metadata": {},
   "source": [
    "# TCGA Pan cancer"
   ]
  },
  {
   "cell_type": "code",
   "execution_count": 3,
   "id": "0683447c-0ce3-43e6-8e6a-e239e234a722",
   "metadata": {},
   "outputs": [],
   "source": [
    "run_data <- readRDS('/mnt/ndata/arvind/co_mutation_project/data/processed/gams/pan_can_tcga_run_data.rds')"
   ]
  },
  {
   "cell_type": "code",
   "execution_count": 4,
   "id": "ea8aa3a4-9bbf-4a3f-9e66-c2d1d2c8dcb9",
   "metadata": {
    "scrolled": true
   },
   "outputs": [
    {
     "name": "stdout",
     "output_type": "stream",
     "text": [
      "List of 3\n",
      " $ M               :List of 2\n",
      "  ..$ M  :List of 2\n",
      "  .. ..$ missense  : num [1:396, 1:9082] 0 0 0 0 0 0 0 0 0 0 ...\n",
      "  .. .. ..- attr(*, \"dimnames\")=List of 2\n",
      "  .. .. .. ..$ : chr [1:396] \"AKT1\" \"ALK\" \"APC\" \"AR\" ...\n",
      "  .. .. .. ..$ : chr [1:9082] \"TCGA-02-0047-01\" \"TCGA-02-0055-01\" \"TCGA-AB-2805-03\" \"TCGA-AB-2806-03\" ...\n",
      "  .. ..$ truncating: num [1:396, 1:9082] 0 0 0 0 0 0 0 0 0 0 ...\n",
      "  .. .. ..- attr(*, \"dimnames\")=List of 2\n",
      "  .. .. .. ..$ : chr [1:396] \"AKT1\" \"ALK\" \"APC\" \"AR\" ...\n",
      "  .. .. .. ..$ : chr [1:9082] \"TCGA-02-0047-01\" \"TCGA-02-0055-01\" \"TCGA-AB-2805-03\" \"TCGA-AB-2806-03\" ...\n",
      "  ..$ tmb:List of 2\n",
      "  .. ..$ missense  :'data.frame':\t9082 obs. of  2 variables:\n",
      "  .. .. ..$ sample  : chr [1:9082] \"TCGA-02-0047-01\" \"TCGA-02-0055-01\" \"TCGA-AB-2805-03\" \"TCGA-AB-2806-03\" ...\n",
      "  .. .. ..$ mutation: num [1:9082] 56 47 40 422 214 588 14 8 19 8 ...\n",
      "  .. ..$ truncating:'data.frame':\t9082 obs. of  2 variables:\n",
      "  .. .. ..$ sample  : chr [1:9082] \"TCGA-02-0047-01\" \"TCGA-02-0055-01\" \"TCGA-AB-2805-03\" \"TCGA-AB-2806-03\" ...\n",
      "  .. .. ..$ mutation: num [1:9082] 7 3 17 85 47 183 3 3 1 2 ...\n",
      " $ sample.class    : Named chr [1:9082] \"GBM\" \"GBM\" \"LAML\" \"LAML\" ...\n",
      "  ..- attr(*, \"names\")= chr [1:9082] \"TCGA-02-0047-01\" \"TCGA-02-0055-01\" \"TCGA-AB-2805-03\" \"TCGA-AB-2806-03\" ...\n",
      " $ alteration.class: Named chr [1:396] \"MUT\" \"MUT\" \"MUT\" \"MUT\" ...\n",
      "  ..- attr(*, \"names\")= chr [1:396] \"AKT1\" \"ALK\" \"APC\" \"AR\" ...\n"
     ]
    }
   ],
   "source": [
    "str(run_data)"
   ]
  },
  {
   "cell_type": "code",
   "execution_count": 5,
   "id": "5feb94d8-ae64-4bec-912a-d3959fb403d3",
   "metadata": {},
   "outputs": [],
   "source": [
    "gam<-run_data$M$M$missense+run_data$M$M$truncating\n",
    "gam[gam>1]<-1"
   ]
  },
  {
   "cell_type": "code",
   "execution_count": 6,
   "id": "d9b44b7a-98df-4828-bb0a-529bf3b4da72",
   "metadata": {},
   "outputs": [],
   "source": [
    "all_tmb <- run_data$M$tmb$missense\n",
    "all_tmb$mutation<-all_tmb$mutation+ run_data$M$tmb$truncating$mutation"
   ]
  },
  {
   "cell_type": "code",
   "execution_count": 8,
   "id": "7b50e283-f7b8-4941-8280-09eedeb4bf9a",
   "metadata": {},
   "outputs": [],
   "source": [
    "catalougue_result <- readRDS('/mnt/ndata/arvind/co_mutation_project/analysis/catalogue/results/all_merged_results_v15.rds')"
   ]
  },
  {
   "cell_type": "code",
   "execution_count": 9,
   "id": "4411f155-fa6b-4d88-9ec8-00ad92c04ad0",
   "metadata": {},
   "outputs": [],
   "source": [
    "tcga_selectsim<- catalougue_result %>% filter(Tumor_run=='Pan-can' & Cohort=='TCGA') %>% mutate(id=case_when(SFE_1>SFE_2 ~paste(SFE_2,SFE_1,sep=\" - \"),\n",
    "                                                  SFE_1<SFE_2 ~paste(SFE_1,SFE_2,sep=\" - \")))"
   ]
  },
  {
   "cell_type": "code",
   "execution_count": 10,
   "id": "79fc91cb-afcc-4f00-9fc8-20288314cfa7",
   "metadata": {},
   "outputs": [
    {
     "data": {
      "text/html": [
       "<style>\n",
       ".list-inline {list-style: none; margin:0; padding: 0}\n",
       ".list-inline>li {display: inline-block}\n",
       ".list-inline>li:not(:last-child)::after {content: \"\\00b7\"; padding: 0 .5ex}\n",
       "</style>\n",
       "<ol class=list-inline><li>52326</li><li>27</li></ol>\n"
      ],
      "text/latex": [
       "\\begin{enumerate*}\n",
       "\\item 52326\n",
       "\\item 27\n",
       "\\end{enumerate*}\n"
      ],
      "text/markdown": [
       "1. 52326\n",
       "2. 27\n",
       "\n",
       "\n"
      ],
      "text/plain": [
       "[1] 52326    27"
      ]
     },
     "metadata": {},
     "output_type": "display_data"
    }
   ],
   "source": [
    "dim(tcga_selectsim)"
   ]
  },
  {
   "cell_type": "code",
   "execution_count": 11,
   "id": "1b1d152c-817c-4b97-9840-17bfb106e7c4",
   "metadata": {},
   "outputs": [],
   "source": [
    "tcga_select <- readRDS('/mnt/ndata/arvind/co_mutation_project/analysis/robustness_benchmarking/results/tcga_select_all_results.rds')"
   ]
  },
  {
   "cell_type": "code",
   "execution_count": 12,
   "id": "93754003-925e-4fc0-a31e-22a22535edc9",
   "metadata": {},
   "outputs": [
    {
     "data": {
      "text/html": [
       "<table class=\"dataframe\">\n",
       "<caption>A matrix: 6 × 9082 of type dbl</caption>\n",
       "<thead>\n",
       "\t<tr><th></th><th scope=col>TCGA-02-0047-01</th><th scope=col>TCGA-02-0055-01</th><th scope=col>TCGA-AB-2805-03</th><th scope=col>TCGA-AB-2806-03</th><th scope=col>TCGA-AB-2807-03</th><th scope=col>TCGA-AB-2808-03</th><th scope=col>TCGA-AB-2810-03</th><th scope=col>TCGA-AB-2811-03</th><th scope=col>TCGA-AB-2813-03</th><th scope=col>TCGA-AB-2814-03</th><th scope=col>⋯</th><th scope=col>TCGA-ZP-A9CY-01</th><th scope=col>TCGA-ZP-A9CZ-01</th><th scope=col>TCGA-ZP-A9D0-01</th><th scope=col>TCGA-ZP-A9D1-01</th><th scope=col>TCGA-ZQ-A9CR-01</th><th scope=col>TCGA-ZR-A9CJ-01</th><th scope=col>TCGA-ZS-A9CD-01</th><th scope=col>TCGA-ZS-A9CF-01</th><th scope=col>TCGA-ZT-A8OM-01</th><th scope=col>TCGA-ZX-AA5X-01</th></tr>\n",
       "</thead>\n",
       "<tbody>\n",
       "\t<tr><th scope=row>AKT1</th><td>0</td><td>0</td><td>0</td><td>0</td><td>0</td><td>0</td><td>0</td><td>0</td><td>0</td><td>0</td><td>⋯</td><td>0</td><td>0</td><td>0</td><td>0</td><td>0</td><td>0</td><td>0</td><td>0</td><td>0</td><td>0</td></tr>\n",
       "\t<tr><th scope=row>ALK</th><td>0</td><td>0</td><td>0</td><td>0</td><td>0</td><td>0</td><td>0</td><td>0</td><td>0</td><td>0</td><td>⋯</td><td>0</td><td>0</td><td>0</td><td>0</td><td>0</td><td>0</td><td>0</td><td>0</td><td>0</td><td>0</td></tr>\n",
       "\t<tr><th scope=row>APC</th><td>0</td><td>0</td><td>0</td><td>0</td><td>0</td><td>0</td><td>0</td><td>0</td><td>0</td><td>0</td><td>⋯</td><td>0</td><td>0</td><td>0</td><td>0</td><td>0</td><td>0</td><td>0</td><td>0</td><td>0</td><td>0</td></tr>\n",
       "\t<tr><th scope=row>AR</th><td>0</td><td>0</td><td>0</td><td>0</td><td>0</td><td>0</td><td>0</td><td>0</td><td>0</td><td>0</td><td>⋯</td><td>0</td><td>0</td><td>0</td><td>0</td><td>0</td><td>0</td><td>0</td><td>0</td><td>0</td><td>0</td></tr>\n",
       "\t<tr><th scope=row>ATM</th><td>0</td><td>0</td><td>0</td><td>0</td><td>0</td><td>0</td><td>0</td><td>0</td><td>0</td><td>0</td><td>⋯</td><td>0</td><td>0</td><td>0</td><td>0</td><td>0</td><td>0</td><td>0</td><td>0</td><td>0</td><td>0</td></tr>\n",
       "\t<tr><th scope=row>BAP1</th><td>0</td><td>0</td><td>0</td><td>0</td><td>0</td><td>0</td><td>0</td><td>0</td><td>0</td><td>0</td><td>⋯</td><td>0</td><td>0</td><td>0</td><td>0</td><td>0</td><td>0</td><td>0</td><td>0</td><td>0</td><td>0</td></tr>\n",
       "</tbody>\n",
       "</table>\n"
      ],
      "text/latex": [
       "A matrix: 6 × 9082 of type dbl\n",
       "\\begin{tabular}{r|lllllllllllllllllllll}\n",
       "  & TCGA-02-0047-01 & TCGA-02-0055-01 & TCGA-AB-2805-03 & TCGA-AB-2806-03 & TCGA-AB-2807-03 & TCGA-AB-2808-03 & TCGA-AB-2810-03 & TCGA-AB-2811-03 & TCGA-AB-2813-03 & TCGA-AB-2814-03 & ⋯ & TCGA-ZP-A9CY-01 & TCGA-ZP-A9CZ-01 & TCGA-ZP-A9D0-01 & TCGA-ZP-A9D1-01 & TCGA-ZQ-A9CR-01 & TCGA-ZR-A9CJ-01 & TCGA-ZS-A9CD-01 & TCGA-ZS-A9CF-01 & TCGA-ZT-A8OM-01 & TCGA-ZX-AA5X-01\\\\\n",
       "\\hline\n",
       "\tAKT1 & 0 & 0 & 0 & 0 & 0 & 0 & 0 & 0 & 0 & 0 & ⋯ & 0 & 0 & 0 & 0 & 0 & 0 & 0 & 0 & 0 & 0\\\\\n",
       "\tALK & 0 & 0 & 0 & 0 & 0 & 0 & 0 & 0 & 0 & 0 & ⋯ & 0 & 0 & 0 & 0 & 0 & 0 & 0 & 0 & 0 & 0\\\\\n",
       "\tAPC & 0 & 0 & 0 & 0 & 0 & 0 & 0 & 0 & 0 & 0 & ⋯ & 0 & 0 & 0 & 0 & 0 & 0 & 0 & 0 & 0 & 0\\\\\n",
       "\tAR & 0 & 0 & 0 & 0 & 0 & 0 & 0 & 0 & 0 & 0 & ⋯ & 0 & 0 & 0 & 0 & 0 & 0 & 0 & 0 & 0 & 0\\\\\n",
       "\tATM & 0 & 0 & 0 & 0 & 0 & 0 & 0 & 0 & 0 & 0 & ⋯ & 0 & 0 & 0 & 0 & 0 & 0 & 0 & 0 & 0 & 0\\\\\n",
       "\tBAP1 & 0 & 0 & 0 & 0 & 0 & 0 & 0 & 0 & 0 & 0 & ⋯ & 0 & 0 & 0 & 0 & 0 & 0 & 0 & 0 & 0 & 0\\\\\n",
       "\\end{tabular}\n"
      ],
      "text/markdown": [
       "\n",
       "A matrix: 6 × 9082 of type dbl\n",
       "\n",
       "| <!--/--> | TCGA-02-0047-01 | TCGA-02-0055-01 | TCGA-AB-2805-03 | TCGA-AB-2806-03 | TCGA-AB-2807-03 | TCGA-AB-2808-03 | TCGA-AB-2810-03 | TCGA-AB-2811-03 | TCGA-AB-2813-03 | TCGA-AB-2814-03 | ⋯ | TCGA-ZP-A9CY-01 | TCGA-ZP-A9CZ-01 | TCGA-ZP-A9D0-01 | TCGA-ZP-A9D1-01 | TCGA-ZQ-A9CR-01 | TCGA-ZR-A9CJ-01 | TCGA-ZS-A9CD-01 | TCGA-ZS-A9CF-01 | TCGA-ZT-A8OM-01 | TCGA-ZX-AA5X-01 |\n",
       "|---|---|---|---|---|---|---|---|---|---|---|---|---|---|---|---|---|---|---|---|---|---|\n",
       "| AKT1 | 0 | 0 | 0 | 0 | 0 | 0 | 0 | 0 | 0 | 0 | ⋯ | 0 | 0 | 0 | 0 | 0 | 0 | 0 | 0 | 0 | 0 |\n",
       "| ALK | 0 | 0 | 0 | 0 | 0 | 0 | 0 | 0 | 0 | 0 | ⋯ | 0 | 0 | 0 | 0 | 0 | 0 | 0 | 0 | 0 | 0 |\n",
       "| APC | 0 | 0 | 0 | 0 | 0 | 0 | 0 | 0 | 0 | 0 | ⋯ | 0 | 0 | 0 | 0 | 0 | 0 | 0 | 0 | 0 | 0 |\n",
       "| AR | 0 | 0 | 0 | 0 | 0 | 0 | 0 | 0 | 0 | 0 | ⋯ | 0 | 0 | 0 | 0 | 0 | 0 | 0 | 0 | 0 | 0 |\n",
       "| ATM | 0 | 0 | 0 | 0 | 0 | 0 | 0 | 0 | 0 | 0 | ⋯ | 0 | 0 | 0 | 0 | 0 | 0 | 0 | 0 | 0 | 0 |\n",
       "| BAP1 | 0 | 0 | 0 | 0 | 0 | 0 | 0 | 0 | 0 | 0 | ⋯ | 0 | 0 | 0 | 0 | 0 | 0 | 0 | 0 | 0 | 0 |\n",
       "\n"
      ],
      "text/plain": [
       "     TCGA-02-0047-01 TCGA-02-0055-01 TCGA-AB-2805-03 TCGA-AB-2806-03\n",
       "AKT1 0               0               0               0              \n",
       "ALK  0               0               0               0              \n",
       "APC  0               0               0               0              \n",
       "AR   0               0               0               0              \n",
       "ATM  0               0               0               0              \n",
       "BAP1 0               0               0               0              \n",
       "     TCGA-AB-2807-03 TCGA-AB-2808-03 TCGA-AB-2810-03 TCGA-AB-2811-03\n",
       "AKT1 0               0               0               0              \n",
       "ALK  0               0               0               0              \n",
       "APC  0               0               0               0              \n",
       "AR   0               0               0               0              \n",
       "ATM  0               0               0               0              \n",
       "BAP1 0               0               0               0              \n",
       "     TCGA-AB-2813-03 TCGA-AB-2814-03 ⋯ TCGA-ZP-A9CY-01 TCGA-ZP-A9CZ-01\n",
       "AKT1 0               0               ⋯ 0               0              \n",
       "ALK  0               0               ⋯ 0               0              \n",
       "APC  0               0               ⋯ 0               0              \n",
       "AR   0               0               ⋯ 0               0              \n",
       "ATM  0               0               ⋯ 0               0              \n",
       "BAP1 0               0               ⋯ 0               0              \n",
       "     TCGA-ZP-A9D0-01 TCGA-ZP-A9D1-01 TCGA-ZQ-A9CR-01 TCGA-ZR-A9CJ-01\n",
       "AKT1 0               0               0               0              \n",
       "ALK  0               0               0               0              \n",
       "APC  0               0               0               0              \n",
       "AR   0               0               0               0              \n",
       "ATM  0               0               0               0              \n",
       "BAP1 0               0               0               0              \n",
       "     TCGA-ZS-A9CD-01 TCGA-ZS-A9CF-01 TCGA-ZT-A8OM-01 TCGA-ZX-AA5X-01\n",
       "AKT1 0               0               0               0              \n",
       "ALK  0               0               0               0              \n",
       "APC  0               0               0               0              \n",
       "AR   0               0               0               0              \n",
       "ATM  0               0               0               0              \n",
       "BAP1 0               0               0               0              "
      ]
     },
     "metadata": {},
     "output_type": "display_data"
    }
   ],
   "source": [
    "head(gam)"
   ]
  },
  {
   "cell_type": "code",
   "execution_count": 13,
   "id": "e7ecc613-4b6f-48f7-9da8-4315efb8aca6",
   "metadata": {},
   "outputs": [],
   "source": [
    "compute_cohens_d <- function(result_df,gam,tmb_df){\n",
    "    without_log <-list()\n",
    "    with_log<-list()\n",
    "    pairs<-list()\n",
    "    for(i in c(1:nrow(result_df))){\n",
    "        co_mut <- result_df[i,'overlap']\n",
    "        gene1<-result_df[i,'SFE_1']\n",
    "        gene2<-result_df[i,'SFE_2']\n",
    "        pairs[[i]] <-result_df[i,'id']\n",
    "        wild_type <- (names(which(colSums(gam[c(gene1,gene2),])==0)))\n",
    "        co_mutated <- (names(which(colSums(gam[c(gene1,gene2),])==2)))\n",
    "        mutated_df<-tmb_df %>% mutate(status=case_when(sample %in% co_mutated ~ 1,\n",
    "                                    sample %in% wild_type ~ 0)) %>% filter(status %in% c(0,1))\n",
    "\n",
    "        group1 <- ((mutated_df %>% filter(sample %in% co_mutated))$mutation)\n",
    "        group2 <- ((mutated_df %>% filter(sample %in% wild_type))$mutation)\n",
    "        cohen_d <- cohen.d(group1, group2)$estimate\n",
    "        without_log[[i]]<-cohen_d\n",
    "        group1 <- log10(1+(mutated_df %>% filter(sample %in% co_mutated))$mutation)\n",
    "        group2 <- log10(1+(mutated_df %>% filter(sample %in% wild_type))$mutation)\n",
    "        cohen_d <- cohen.d(group1, group2)$estimate\n",
    "        with_log[[i]]<-cohen_d\n",
    "    }\n",
    "   return(list(pairs,with_log,without_log))\n",
    "}"
   ]
  },
  {
   "cell_type": "markdown",
   "id": "4c60978d-3479-45f0-843a-f34b328748eb",
   "metadata": {
    "jp-MarkdownHeadingCollapsed": true
   },
   "source": [
    "##  SelectSim"
   ]
  },
  {
   "cell_type": "code",
   "execution_count": 14,
   "id": "30acb1fa-00ad-480b-a62b-272ddec601c3",
   "metadata": {},
   "outputs": [],
   "source": [
    "co_mut_df <- tcga_selectsim %>% filter(name %in% tcga_selectsim$name) %>% filter(FDR==TRUE) %>% filter(type=='CO') %>% mutate(id=case_when(SFE_1>SFE_2 ~paste(SFE_2,SFE_1,sep=\" - \"),\n",
    "                                                  SFE_1<SFE_2 ~paste(SFE_1,SFE_2,sep=\" - \"))) %>% mutate(id_type=paste(id,type,sep=\"_\")) %>% filter(overlap>=5)"
   ]
  },
  {
   "cell_type": "code",
   "execution_count": 15,
   "id": "007d7934-9976-469e-a15a-008483df4962",
   "metadata": {},
   "outputs": [],
   "source": [
    "select_sim_result <- compute_cohens_d(result_df = co_mut_df,gam = gam,tmb_df =all_tmb )"
   ]
  },
  {
   "cell_type": "code",
   "execution_count": 16,
   "id": "101efbee-dbb2-4b6c-86ee-56d73f52bffb",
   "metadata": {
    "scrolled": true
   },
   "outputs": [
    {
     "data": {
      "text/html": [
       "<ol>\n",
       "\t<li>'CDKN2A - TP53'</li>\n",
       "\t<li>'ATRX - IDH1'</li>\n",
       "\t<li>'ARID1A - PTEN'</li>\n",
       "\t<li>'CTNNB1 - PTEN'</li>\n",
       "\t<li>'PIK3R1 - PTEN'</li>\n",
       "\t<li>'RB1 - TP53'</li>\n",
       "\t<li>'CDH1 - PIK3CA'</li>\n",
       "\t<li>'PIK3CA - PTEN'</li>\n",
       "\t<li>'MAP3K1 - PIK3CA'</li>\n",
       "\t<li>'ATRX - TP53'</li>\n",
       "\t<li>'CTCF - PTEN'</li>\n",
       "\t<li>'ARID1A - PIK3CA'</li>\n",
       "\t<li>'KMT2C - KMT2D'</li>\n",
       "\t<li>'CIC - IDH1'</li>\n",
       "\t<li>'KRAS - SMAD4'</li>\n",
       "\t<li>'CDKN2A - KRAS'</li>\n",
       "\t<li>'KRAS - PTEN'</li>\n",
       "\t<li>'ARID1A - CTNNB1'</li>\n",
       "\t<li>'ARID1A - CTCF'</li>\n",
       "\t<li>'FLT3 - NPM1'</li>\n",
       "\t<li>'CTNNB1 - PIK3CA'</li>\n",
       "\t<li>'ARID5B - PTEN'</li>\n",
       "\t<li>'PBRM1 - SETD2'</li>\n",
       "\t<li>'PTEN - ZFHX3'</li>\n",
       "\t<li>'KRAS - STK11'</li>\n",
       "\t<li>'FGFR2 - PTEN'</li>\n",
       "\t<li>'DNMT3A - NPM1'</li>\n",
       "\t<li>'ARID1A - CCND1'</li>\n",
       "\t<li>'PTEN - RB1'</li>\n",
       "\t<li>'KMT2C - PIK3CA'</li>\n",
       "\t<li>'KRAS - RNF43'</li>\n",
       "\t<li>'CTCF - KMT2B'</li>\n",
       "\t<li>'CTCF - PIK3CA'</li>\n",
       "\t<li>'KRAS - RBM10'</li>\n",
       "\t<li>'PPP2R1A - TP53'</li>\n",
       "\t<li>'CCND1 - PTEN'</li>\n",
       "\t<li>'ARID1A - KRAS'</li>\n",
       "\t<li>'GNAQ - SF3B1'</li>\n",
       "\t<li>'INPPL1 - PTEN'</li>\n",
       "\t<li>'CDH1 - ERBB2'</li>\n",
       "\t<li>'PIK3CA - RUNX1'</li>\n",
       "\t<li>'JAK1 - KRAS'</li>\n",
       "\t<li>'ARID5B - PIK3CA'</li>\n",
       "\t<li>'KMT2B - PTEN'</li>\n",
       "\t<li>'PBRM1 - VHL'</li>\n",
       "\t<li>'ARID1A - JAK1'</li>\n",
       "\t<li>'PTEN - RNF43'</li>\n",
       "\t<li>'FGFR3 - STAG2'</li>\n",
       "\t<li>'CTCF - CTNNB1'</li>\n",
       "\t<li>'ARID1A - ARID1B'</li>\n",
       "\t<li>'AKT1 - GATA3'</li>\n",
       "\t<li>'FUBP1 - IDH1'</li>\n",
       "\t<li>'MAP2K4 - PIK3CA'</li>\n",
       "\t<li>'KDM6A - STAG2'</li>\n",
       "\t<li>'KMT2B - KMT2D'</li>\n",
       "\t<li>'KMT2B - RNF43'</li>\n",
       "\t<li>'FGFR3 - KDM6A'</li>\n",
       "\t<li>'NSD1 - PTEN'</li>\n",
       "\t<li>'AMER1 - SMAD4'</li>\n",
       "\t<li>'KEAP1 - STK11'</li>\n",
       "\t<li>'CDH1 - TBX3'</li>\n",
       "\t<li>'ARID1A - NSD1'</li>\n",
       "\t<li>'DNMT3A - FLT3'</li>\n",
       "\t<li>'NCOR1 - PIK3CA'</li>\n",
       "\t<li>'KMT2B - KRAS'</li>\n",
       "\t<li>'KMT2C - NFE2L2'</li>\n",
       "\t<li>'ARID1B - GLI1'</li>\n",
       "\t<li>'FAT1 - HRAS'</li>\n",
       "\t<li>'EP300 - RB1'</li>\n",
       "\t<li>'PIK3R1 - ZFHX3'</li>\n",
       "\t<li>'BCORL1 - KMT2D'</li>\n",
       "\t<li>'CASP8 - FAT1'</li>\n",
       "\t<li>'CASP8 - HLA-A'</li>\n",
       "\t<li>'GPS2 - PIK3CA'</li>\n",
       "\t<li>'CASP8 - HRAS'</li>\n",
       "\t<li>'CCND1 - PIK3CA'</li>\n",
       "\t<li>'AJUBA - TP53'</li>\n",
       "\t<li>'CCND1 - KMT2B'</li>\n",
       "</ol>\n"
      ],
      "text/latex": [
       "\\begin{enumerate}\n",
       "\\item 'CDKN2A - TP53'\n",
       "\\item 'ATRX - IDH1'\n",
       "\\item 'ARID1A - PTEN'\n",
       "\\item 'CTNNB1 - PTEN'\n",
       "\\item 'PIK3R1 - PTEN'\n",
       "\\item 'RB1 - TP53'\n",
       "\\item 'CDH1 - PIK3CA'\n",
       "\\item 'PIK3CA - PTEN'\n",
       "\\item 'MAP3K1 - PIK3CA'\n",
       "\\item 'ATRX - TP53'\n",
       "\\item 'CTCF - PTEN'\n",
       "\\item 'ARID1A - PIK3CA'\n",
       "\\item 'KMT2C - KMT2D'\n",
       "\\item 'CIC - IDH1'\n",
       "\\item 'KRAS - SMAD4'\n",
       "\\item 'CDKN2A - KRAS'\n",
       "\\item 'KRAS - PTEN'\n",
       "\\item 'ARID1A - CTNNB1'\n",
       "\\item 'ARID1A - CTCF'\n",
       "\\item 'FLT3 - NPM1'\n",
       "\\item 'CTNNB1 - PIK3CA'\n",
       "\\item 'ARID5B - PTEN'\n",
       "\\item 'PBRM1 - SETD2'\n",
       "\\item 'PTEN - ZFHX3'\n",
       "\\item 'KRAS - STK11'\n",
       "\\item 'FGFR2 - PTEN'\n",
       "\\item 'DNMT3A - NPM1'\n",
       "\\item 'ARID1A - CCND1'\n",
       "\\item 'PTEN - RB1'\n",
       "\\item 'KMT2C - PIK3CA'\n",
       "\\item 'KRAS - RNF43'\n",
       "\\item 'CTCF - KMT2B'\n",
       "\\item 'CTCF - PIK3CA'\n",
       "\\item 'KRAS - RBM10'\n",
       "\\item 'PPP2R1A - TP53'\n",
       "\\item 'CCND1 - PTEN'\n",
       "\\item 'ARID1A - KRAS'\n",
       "\\item 'GNAQ - SF3B1'\n",
       "\\item 'INPPL1 - PTEN'\n",
       "\\item 'CDH1 - ERBB2'\n",
       "\\item 'PIK3CA - RUNX1'\n",
       "\\item 'JAK1 - KRAS'\n",
       "\\item 'ARID5B - PIK3CA'\n",
       "\\item 'KMT2B - PTEN'\n",
       "\\item 'PBRM1 - VHL'\n",
       "\\item 'ARID1A - JAK1'\n",
       "\\item 'PTEN - RNF43'\n",
       "\\item 'FGFR3 - STAG2'\n",
       "\\item 'CTCF - CTNNB1'\n",
       "\\item 'ARID1A - ARID1B'\n",
       "\\item 'AKT1 - GATA3'\n",
       "\\item 'FUBP1 - IDH1'\n",
       "\\item 'MAP2K4 - PIK3CA'\n",
       "\\item 'KDM6A - STAG2'\n",
       "\\item 'KMT2B - KMT2D'\n",
       "\\item 'KMT2B - RNF43'\n",
       "\\item 'FGFR3 - KDM6A'\n",
       "\\item 'NSD1 - PTEN'\n",
       "\\item 'AMER1 - SMAD4'\n",
       "\\item 'KEAP1 - STK11'\n",
       "\\item 'CDH1 - TBX3'\n",
       "\\item 'ARID1A - NSD1'\n",
       "\\item 'DNMT3A - FLT3'\n",
       "\\item 'NCOR1 - PIK3CA'\n",
       "\\item 'KMT2B - KRAS'\n",
       "\\item 'KMT2C - NFE2L2'\n",
       "\\item 'ARID1B - GLI1'\n",
       "\\item 'FAT1 - HRAS'\n",
       "\\item 'EP300 - RB1'\n",
       "\\item 'PIK3R1 - ZFHX3'\n",
       "\\item 'BCORL1 - KMT2D'\n",
       "\\item 'CASP8 - FAT1'\n",
       "\\item 'CASP8 - HLA-A'\n",
       "\\item 'GPS2 - PIK3CA'\n",
       "\\item 'CASP8 - HRAS'\n",
       "\\item 'CCND1 - PIK3CA'\n",
       "\\item 'AJUBA - TP53'\n",
       "\\item 'CCND1 - KMT2B'\n",
       "\\end{enumerate}\n"
      ],
      "text/markdown": [
       "1. 'CDKN2A - TP53'\n",
       "2. 'ATRX - IDH1'\n",
       "3. 'ARID1A - PTEN'\n",
       "4. 'CTNNB1 - PTEN'\n",
       "5. 'PIK3R1 - PTEN'\n",
       "6. 'RB1 - TP53'\n",
       "7. 'CDH1 - PIK3CA'\n",
       "8. 'PIK3CA - PTEN'\n",
       "9. 'MAP3K1 - PIK3CA'\n",
       "10. 'ATRX - TP53'\n",
       "11. 'CTCF - PTEN'\n",
       "12. 'ARID1A - PIK3CA'\n",
       "13. 'KMT2C - KMT2D'\n",
       "14. 'CIC - IDH1'\n",
       "15. 'KRAS - SMAD4'\n",
       "16. 'CDKN2A - KRAS'\n",
       "17. 'KRAS - PTEN'\n",
       "18. 'ARID1A - CTNNB1'\n",
       "19. 'ARID1A - CTCF'\n",
       "20. 'FLT3 - NPM1'\n",
       "21. 'CTNNB1 - PIK3CA'\n",
       "22. 'ARID5B - PTEN'\n",
       "23. 'PBRM1 - SETD2'\n",
       "24. 'PTEN - ZFHX3'\n",
       "25. 'KRAS - STK11'\n",
       "26. 'FGFR2 - PTEN'\n",
       "27. 'DNMT3A - NPM1'\n",
       "28. 'ARID1A - CCND1'\n",
       "29. 'PTEN - RB1'\n",
       "30. 'KMT2C - PIK3CA'\n",
       "31. 'KRAS - RNF43'\n",
       "32. 'CTCF - KMT2B'\n",
       "33. 'CTCF - PIK3CA'\n",
       "34. 'KRAS - RBM10'\n",
       "35. 'PPP2R1A - TP53'\n",
       "36. 'CCND1 - PTEN'\n",
       "37. 'ARID1A - KRAS'\n",
       "38. 'GNAQ - SF3B1'\n",
       "39. 'INPPL1 - PTEN'\n",
       "40. 'CDH1 - ERBB2'\n",
       "41. 'PIK3CA - RUNX1'\n",
       "42. 'JAK1 - KRAS'\n",
       "43. 'ARID5B - PIK3CA'\n",
       "44. 'KMT2B - PTEN'\n",
       "45. 'PBRM1 - VHL'\n",
       "46. 'ARID1A - JAK1'\n",
       "47. 'PTEN - RNF43'\n",
       "48. 'FGFR3 - STAG2'\n",
       "49. 'CTCF - CTNNB1'\n",
       "50. 'ARID1A - ARID1B'\n",
       "51. 'AKT1 - GATA3'\n",
       "52. 'FUBP1 - IDH1'\n",
       "53. 'MAP2K4 - PIK3CA'\n",
       "54. 'KDM6A - STAG2'\n",
       "55. 'KMT2B - KMT2D'\n",
       "56. 'KMT2B - RNF43'\n",
       "57. 'FGFR3 - KDM6A'\n",
       "58. 'NSD1 - PTEN'\n",
       "59. 'AMER1 - SMAD4'\n",
       "60. 'KEAP1 - STK11'\n",
       "61. 'CDH1 - TBX3'\n",
       "62. 'ARID1A - NSD1'\n",
       "63. 'DNMT3A - FLT3'\n",
       "64. 'NCOR1 - PIK3CA'\n",
       "65. 'KMT2B - KRAS'\n",
       "66. 'KMT2C - NFE2L2'\n",
       "67. 'ARID1B - GLI1'\n",
       "68. 'FAT1 - HRAS'\n",
       "69. 'EP300 - RB1'\n",
       "70. 'PIK3R1 - ZFHX3'\n",
       "71. 'BCORL1 - KMT2D'\n",
       "72. 'CASP8 - FAT1'\n",
       "73. 'CASP8 - HLA-A'\n",
       "74. 'GPS2 - PIK3CA'\n",
       "75. 'CASP8 - HRAS'\n",
       "76. 'CCND1 - PIK3CA'\n",
       "77. 'AJUBA - TP53'\n",
       "78. 'CCND1 - KMT2B'\n",
       "\n",
       "\n"
      ],
      "text/plain": [
       "[[1]]\n",
       "[1] \"CDKN2A - TP53\"\n",
       "\n",
       "[[2]]\n",
       "[1] \"ATRX - IDH1\"\n",
       "\n",
       "[[3]]\n",
       "[1] \"ARID1A - PTEN\"\n",
       "\n",
       "[[4]]\n",
       "[1] \"CTNNB1 - PTEN\"\n",
       "\n",
       "[[5]]\n",
       "[1] \"PIK3R1 - PTEN\"\n",
       "\n",
       "[[6]]\n",
       "[1] \"RB1 - TP53\"\n",
       "\n",
       "[[7]]\n",
       "[1] \"CDH1 - PIK3CA\"\n",
       "\n",
       "[[8]]\n",
       "[1] \"PIK3CA - PTEN\"\n",
       "\n",
       "[[9]]\n",
       "[1] \"MAP3K1 - PIK3CA\"\n",
       "\n",
       "[[10]]\n",
       "[1] \"ATRX - TP53\"\n",
       "\n",
       "[[11]]\n",
       "[1] \"CTCF - PTEN\"\n",
       "\n",
       "[[12]]\n",
       "[1] \"ARID1A - PIK3CA\"\n",
       "\n",
       "[[13]]\n",
       "[1] \"KMT2C - KMT2D\"\n",
       "\n",
       "[[14]]\n",
       "[1] \"CIC - IDH1\"\n",
       "\n",
       "[[15]]\n",
       "[1] \"KRAS - SMAD4\"\n",
       "\n",
       "[[16]]\n",
       "[1] \"CDKN2A - KRAS\"\n",
       "\n",
       "[[17]]\n",
       "[1] \"KRAS - PTEN\"\n",
       "\n",
       "[[18]]\n",
       "[1] \"ARID1A - CTNNB1\"\n",
       "\n",
       "[[19]]\n",
       "[1] \"ARID1A - CTCF\"\n",
       "\n",
       "[[20]]\n",
       "[1] \"FLT3 - NPM1\"\n",
       "\n",
       "[[21]]\n",
       "[1] \"CTNNB1 - PIK3CA\"\n",
       "\n",
       "[[22]]\n",
       "[1] \"ARID5B - PTEN\"\n",
       "\n",
       "[[23]]\n",
       "[1] \"PBRM1 - SETD2\"\n",
       "\n",
       "[[24]]\n",
       "[1] \"PTEN - ZFHX3\"\n",
       "\n",
       "[[25]]\n",
       "[1] \"KRAS - STK11\"\n",
       "\n",
       "[[26]]\n",
       "[1] \"FGFR2 - PTEN\"\n",
       "\n",
       "[[27]]\n",
       "[1] \"DNMT3A - NPM1\"\n",
       "\n",
       "[[28]]\n",
       "[1] \"ARID1A - CCND1\"\n",
       "\n",
       "[[29]]\n",
       "[1] \"PTEN - RB1\"\n",
       "\n",
       "[[30]]\n",
       "[1] \"KMT2C - PIK3CA\"\n",
       "\n",
       "[[31]]\n",
       "[1] \"KRAS - RNF43\"\n",
       "\n",
       "[[32]]\n",
       "[1] \"CTCF - KMT2B\"\n",
       "\n",
       "[[33]]\n",
       "[1] \"CTCF - PIK3CA\"\n",
       "\n",
       "[[34]]\n",
       "[1] \"KRAS - RBM10\"\n",
       "\n",
       "[[35]]\n",
       "[1] \"PPP2R1A - TP53\"\n",
       "\n",
       "[[36]]\n",
       "[1] \"CCND1 - PTEN\"\n",
       "\n",
       "[[37]]\n",
       "[1] \"ARID1A - KRAS\"\n",
       "\n",
       "[[38]]\n",
       "[1] \"GNAQ - SF3B1\"\n",
       "\n",
       "[[39]]\n",
       "[1] \"INPPL1 - PTEN\"\n",
       "\n",
       "[[40]]\n",
       "[1] \"CDH1 - ERBB2\"\n",
       "\n",
       "[[41]]\n",
       "[1] \"PIK3CA - RUNX1\"\n",
       "\n",
       "[[42]]\n",
       "[1] \"JAK1 - KRAS\"\n",
       "\n",
       "[[43]]\n",
       "[1] \"ARID5B - PIK3CA\"\n",
       "\n",
       "[[44]]\n",
       "[1] \"KMT2B - PTEN\"\n",
       "\n",
       "[[45]]\n",
       "[1] \"PBRM1 - VHL\"\n",
       "\n",
       "[[46]]\n",
       "[1] \"ARID1A - JAK1\"\n",
       "\n",
       "[[47]]\n",
       "[1] \"PTEN - RNF43\"\n",
       "\n",
       "[[48]]\n",
       "[1] \"FGFR3 - STAG2\"\n",
       "\n",
       "[[49]]\n",
       "[1] \"CTCF - CTNNB1\"\n",
       "\n",
       "[[50]]\n",
       "[1] \"ARID1A - ARID1B\"\n",
       "\n",
       "[[51]]\n",
       "[1] \"AKT1 - GATA3\"\n",
       "\n",
       "[[52]]\n",
       "[1] \"FUBP1 - IDH1\"\n",
       "\n",
       "[[53]]\n",
       "[1] \"MAP2K4 - PIK3CA\"\n",
       "\n",
       "[[54]]\n",
       "[1] \"KDM6A - STAG2\"\n",
       "\n",
       "[[55]]\n",
       "[1] \"KMT2B - KMT2D\"\n",
       "\n",
       "[[56]]\n",
       "[1] \"KMT2B - RNF43\"\n",
       "\n",
       "[[57]]\n",
       "[1] \"FGFR3 - KDM6A\"\n",
       "\n",
       "[[58]]\n",
       "[1] \"NSD1 - PTEN\"\n",
       "\n",
       "[[59]]\n",
       "[1] \"AMER1 - SMAD4\"\n",
       "\n",
       "[[60]]\n",
       "[1] \"KEAP1 - STK11\"\n",
       "\n",
       "[[61]]\n",
       "[1] \"CDH1 - TBX3\"\n",
       "\n",
       "[[62]]\n",
       "[1] \"ARID1A - NSD1\"\n",
       "\n",
       "[[63]]\n",
       "[1] \"DNMT3A - FLT3\"\n",
       "\n",
       "[[64]]\n",
       "[1] \"NCOR1 - PIK3CA\"\n",
       "\n",
       "[[65]]\n",
       "[1] \"KMT2B - KRAS\"\n",
       "\n",
       "[[66]]\n",
       "[1] \"KMT2C - NFE2L2\"\n",
       "\n",
       "[[67]]\n",
       "[1] \"ARID1B - GLI1\"\n",
       "\n",
       "[[68]]\n",
       "[1] \"FAT1 - HRAS\"\n",
       "\n",
       "[[69]]\n",
       "[1] \"EP300 - RB1\"\n",
       "\n",
       "[[70]]\n",
       "[1] \"PIK3R1 - ZFHX3\"\n",
       "\n",
       "[[71]]\n",
       "[1] \"BCORL1 - KMT2D\"\n",
       "\n",
       "[[72]]\n",
       "[1] \"CASP8 - FAT1\"\n",
       "\n",
       "[[73]]\n",
       "[1] \"CASP8 - HLA-A\"\n",
       "\n",
       "[[74]]\n",
       "[1] \"GPS2 - PIK3CA\"\n",
       "\n",
       "[[75]]\n",
       "[1] \"CASP8 - HRAS\"\n",
       "\n",
       "[[76]]\n",
       "[1] \"CCND1 - PIK3CA\"\n",
       "\n",
       "[[77]]\n",
       "[1] \"AJUBA - TP53\"\n",
       "\n",
       "[[78]]\n",
       "[1] \"CCND1 - KMT2B\"\n"
      ]
     },
     "metadata": {},
     "output_type": "display_data"
    }
   ],
   "source": [
    "select_sim_result[[1]]"
   ]
  },
  {
   "cell_type": "markdown",
   "id": "1ee71649-3bc2-4aef-95e0-7b03fce41b1e",
   "metadata": {
    "jp-MarkdownHeadingCollapsed": true
   },
   "source": [
    "##  Select"
   ]
  },
  {
   "cell_type": "code",
   "execution_count": 17,
   "id": "a58d7d68-b44c-411c-b81b-50e9cc4544cd",
   "metadata": {
    "scrolled": true
   },
   "outputs": [],
   "source": [
    "co_mut_df <- tcga_select %>% filter(name %in% tcga_selectsim$name) %>% filter(wMI_p.value_FDR==TRUE) %>% filter(direction=='CO') %>% mutate(id=case_when(SFE_1>SFE_2 ~paste(SFE_2,SFE_1,sep=\" - \"),\n",
    "                                                  SFE_1<SFE_2 ~paste(SFE_1,SFE_2,sep=\" - \"))) %>% filter(overlap>=5)"
   ]
  },
  {
   "cell_type": "code",
   "execution_count": 18,
   "id": "f2dd9d1d-39c7-41b7-a9f3-802d13189d74",
   "metadata": {},
   "outputs": [
    {
     "data": {
      "text/html": [
       "<style>\n",
       ".list-inline {list-style: none; margin:0; padding: 0}\n",
       ".list-inline>li {display: inline-block}\n",
       ".list-inline>li:not(:last-child)::after {content: \"\\00b7\"; padding: 0 .5ex}\n",
       "</style>\n",
       "<ol class=list-inline><li>78</li><li>27</li></ol>\n"
      ],
      "text/latex": [
       "\\begin{enumerate*}\n",
       "\\item 78\n",
       "\\item 27\n",
       "\\end{enumerate*}\n"
      ],
      "text/markdown": [
       "1. 78\n",
       "2. 27\n",
       "\n",
       "\n"
      ],
      "text/plain": [
       "[1] 78 27"
      ]
     },
     "metadata": {},
     "output_type": "display_data"
    }
   ],
   "source": [
    "dim(co_mut_df)"
   ]
  },
  {
   "cell_type": "code",
   "execution_count": 19,
   "id": "6dadb3b4-26ab-495f-88e4-8c8d9b230112",
   "metadata": {},
   "outputs": [],
   "source": [
    "select_result <- compute_cohens_d(result_df = co_mut_df,gam = gam,tmb_df =all_tmb )"
   ]
  },
  {
   "cell_type": "markdown",
   "id": "cb01c2d4-c152-4bc5-8013-644a6b13de5a",
   "metadata": {},
   "source": [
    "dim(tcga_select)"
   ]
  },
  {
   "cell_type": "code",
   "execution_count": 21,
   "id": "a6af9449-37ec-4599-b431-78cd8187cd26",
   "metadata": {},
   "outputs": [
    {
     "data": {
      "text/html": [
       "<style>\n",
       ".list-inline {list-style: none; margin:0; padding: 0}\n",
       ".list-inline>li {display: inline-block}\n",
       ".list-inline>li:not(:last-child)::after {content: \"\\00b7\"; padding: 0 .5ex}\n",
       "</style>\n",
       "<ol class=list-inline><li>52326</li><li>27</li></ol>\n"
      ],
      "text/latex": [
       "\\begin{enumerate*}\n",
       "\\item 52326\n",
       "\\item 27\n",
       "\\end{enumerate*}\n"
      ],
      "text/markdown": [
       "1. 52326\n",
       "2. 27\n",
       "\n",
       "\n"
      ],
      "text/plain": [
       "[1] 52326    27"
      ]
     },
     "metadata": {},
     "output_type": "display_data"
    }
   ],
   "source": [
    "dim(tcga_selectsim)"
   ]
  },
  {
   "cell_type": "code",
   "execution_count": 22,
   "id": "2311c9e6-4528-4df6-8930-69bc46469c1b",
   "metadata": {},
   "outputs": [
    {
     "data": {
      "text/html": [
       "<table class=\"dataframe\">\n",
       "<caption>A data.frame: 2 × 2</caption>\n",
       "<thead>\n",
       "\t<tr><th scope=col>direction</th><th scope=col>n</th></tr>\n",
       "\t<tr><th scope=col>&lt;chr&gt;</th><th scope=col>&lt;int&gt;</th></tr>\n",
       "</thead>\n",
       "<tbody>\n",
       "\t<tr><td>CO</td><td>110</td></tr>\n",
       "\t<tr><td>ME</td><td> 78</td></tr>\n",
       "</tbody>\n",
       "</table>\n"
      ],
      "text/latex": [
       "A data.frame: 2 × 2\n",
       "\\begin{tabular}{ll}\n",
       " direction & n\\\\\n",
       " <chr> & <int>\\\\\n",
       "\\hline\n",
       "\t CO & 110\\\\\n",
       "\t ME &  78\\\\\n",
       "\\end{tabular}\n"
      ],
      "text/markdown": [
       "\n",
       "A data.frame: 2 × 2\n",
       "\n",
       "| direction &lt;chr&gt; | n &lt;int&gt; |\n",
       "|---|---|\n",
       "| CO | 110 |\n",
       "| ME |  78 |\n",
       "\n"
      ],
      "text/plain": [
       "  direction n  \n",
       "1 CO        110\n",
       "2 ME         78"
      ]
     },
     "metadata": {},
     "output_type": "display_data"
    }
   ],
   "source": [
    " tcga_select %>% filter(name %in% tcga_selectsim$name) %>% filter(wMI_p.value_FDR) %>% count(direction)"
   ]
  },
  {
   "cell_type": "code",
   "execution_count": 23,
   "id": "78c94732-5644-4145-aba3-7bb5e7f95b9f",
   "metadata": {},
   "outputs": [
    {
     "data": {
      "text/html": [
       "78"
      ],
      "text/latex": [
       "78"
      ],
      "text/markdown": [
       "78"
      ],
      "text/plain": [
       "[1] 78"
      ]
     },
     "metadata": {},
     "output_type": "display_data"
    }
   ],
   "source": [
    "length(select_result[[1]])"
   ]
  },
  {
   "cell_type": "markdown",
   "id": "d4ffeb7f-ca00-4455-a436-04f69f0beb49",
   "metadata": {},
   "source": [
    "## Combine results"
   ]
  },
  {
   "cell_type": "code",
   "execution_count": 26,
   "id": "94feb328-f275-45a7-b2c2-8da8acd49b75",
   "metadata": {},
   "outputs": [],
   "source": [
    "select_plot_df <- data.frame('pairs'=unlist(select_result[[1]]),'effect_size'=c(unlist(select_result[[2]])),'category'=c(rep('log',78)))\n",
    "selectsim_plot_df <- data.frame('pairs'=unlist(select_sim_result[[1]]),'effect_size'=c(unlist(select_sim_result[[2]])),'category'=c(rep('log',78)))"
   ]
  },
  {
   "cell_type": "code",
   "execution_count": 27,
   "id": "4bc8f469-3869-48e4-8394-0c22df7303b7",
   "metadata": {},
   "outputs": [
    {
     "data": {
      "text/html": [
       "<table class=\"dataframe\">\n",
       "<caption>A data.frame: 6 × 3</caption>\n",
       "<thead>\n",
       "\t<tr><th></th><th scope=col>pairs</th><th scope=col>effect_size</th><th scope=col>category</th></tr>\n",
       "\t<tr><th></th><th scope=col>&lt;chr&gt;</th><th scope=col>&lt;dbl&gt;</th><th scope=col>&lt;chr&gt;</th></tr>\n",
       "</thead>\n",
       "<tbody>\n",
       "\t<tr><th scope=row>1</th><td>AR - ERBB4   </td><td> 3.4739465</td><td>log</td></tr>\n",
       "\t<tr><th scope=row>2</th><td>AR - PTCH1   </td><td> 3.1338454</td><td>log</td></tr>\n",
       "\t<tr><th scope=row>3</th><td>BRCA2 - TSC1 </td><td> 2.6383566</td><td>log</td></tr>\n",
       "\t<tr><th scope=row>4</th><td>CDKN2A - TP53</td><td> 0.8616649</td><td>log</td></tr>\n",
       "\t<tr><th scope=row>5</th><td>CREBBP - POLE</td><td> 3.2690304</td><td>log</td></tr>\n",
       "\t<tr><th scope=row>6</th><td>DNMT3A - NPM1</td><td>-1.2372010</td><td>log</td></tr>\n",
       "</tbody>\n",
       "</table>\n"
      ],
      "text/latex": [
       "A data.frame: 6 × 3\n",
       "\\begin{tabular}{r|lll}\n",
       "  & pairs & effect\\_size & category\\\\\n",
       "  & <chr> & <dbl> & <chr>\\\\\n",
       "\\hline\n",
       "\t1 & AR - ERBB4    &  3.4739465 & log\\\\\n",
       "\t2 & AR - PTCH1    &  3.1338454 & log\\\\\n",
       "\t3 & BRCA2 - TSC1  &  2.6383566 & log\\\\\n",
       "\t4 & CDKN2A - TP53 &  0.8616649 & log\\\\\n",
       "\t5 & CREBBP - POLE &  3.2690304 & log\\\\\n",
       "\t6 & DNMT3A - NPM1 & -1.2372010 & log\\\\\n",
       "\\end{tabular}\n"
      ],
      "text/markdown": [
       "\n",
       "A data.frame: 6 × 3\n",
       "\n",
       "| <!--/--> | pairs &lt;chr&gt; | effect_size &lt;dbl&gt; | category &lt;chr&gt; |\n",
       "|---|---|---|---|\n",
       "| 1 | AR - ERBB4    |  3.4739465 | log |\n",
       "| 2 | AR - PTCH1    |  3.1338454 | log |\n",
       "| 3 | BRCA2 - TSC1  |  2.6383566 | log |\n",
       "| 4 | CDKN2A - TP53 |  0.8616649 | log |\n",
       "| 5 | CREBBP - POLE |  3.2690304 | log |\n",
       "| 6 | DNMT3A - NPM1 | -1.2372010 | log |\n",
       "\n"
      ],
      "text/plain": [
       "  pairs         effect_size category\n",
       "1 AR - ERBB4     3.4739465  log     \n",
       "2 AR - PTCH1     3.1338454  log     \n",
       "3 BRCA2 - TSC1   2.6383566  log     \n",
       "4 CDKN2A - TP53  0.8616649  log     \n",
       "5 CREBBP - POLE  3.2690304  log     \n",
       "6 DNMT3A - NPM1 -1.2372010  log     "
      ]
     },
     "metadata": {},
     "output_type": "display_data"
    }
   ],
   "source": [
    "head(select_plot_df)"
   ]
  },
  {
   "cell_type": "code",
   "execution_count": 28,
   "id": "43332779-eeeb-4319-a7c4-777f9089dcec",
   "metadata": {},
   "outputs": [],
   "source": [
    "all_plot_df <- rbind(select_plot_df %>% mutate('algo'='Select'),\n",
    "                     selectsim_plot_df %>% mutate('algo'='SelectSim'))"
   ]
  },
  {
   "cell_type": "code",
   "execution_count": 29,
   "id": "5e722c70-7e77-428f-8f19-8d8103331e9f",
   "metadata": {},
   "outputs": [
    {
     "data": {
      "text/html": [
       "<table class=\"dataframe\">\n",
       "<caption>A data.frame: 6 × 4</caption>\n",
       "<thead>\n",
       "\t<tr><th></th><th scope=col>pairs</th><th scope=col>effect_size</th><th scope=col>category</th><th scope=col>algo</th></tr>\n",
       "\t<tr><th></th><th scope=col>&lt;chr&gt;</th><th scope=col>&lt;dbl&gt;</th><th scope=col>&lt;chr&gt;</th><th scope=col>&lt;chr&gt;</th></tr>\n",
       "</thead>\n",
       "<tbody>\n",
       "\t<tr><th scope=row>1</th><td>AR - ERBB4   </td><td> 3.4739465</td><td>log</td><td>Select</td></tr>\n",
       "\t<tr><th scope=row>2</th><td>AR - PTCH1   </td><td> 3.1338454</td><td>log</td><td>Select</td></tr>\n",
       "\t<tr><th scope=row>3</th><td>BRCA2 - TSC1 </td><td> 2.6383566</td><td>log</td><td>Select</td></tr>\n",
       "\t<tr><th scope=row>4</th><td>CDKN2A - TP53</td><td> 0.8616649</td><td>log</td><td>Select</td></tr>\n",
       "\t<tr><th scope=row>5</th><td>CREBBP - POLE</td><td> 3.2690304</td><td>log</td><td>Select</td></tr>\n",
       "\t<tr><th scope=row>6</th><td>DNMT3A - NPM1</td><td>-1.2372010</td><td>log</td><td>Select</td></tr>\n",
       "</tbody>\n",
       "</table>\n"
      ],
      "text/latex": [
       "A data.frame: 6 × 4\n",
       "\\begin{tabular}{r|llll}\n",
       "  & pairs & effect\\_size & category & algo\\\\\n",
       "  & <chr> & <dbl> & <chr> & <chr>\\\\\n",
       "\\hline\n",
       "\t1 & AR - ERBB4    &  3.4739465 & log & Select\\\\\n",
       "\t2 & AR - PTCH1    &  3.1338454 & log & Select\\\\\n",
       "\t3 & BRCA2 - TSC1  &  2.6383566 & log & Select\\\\\n",
       "\t4 & CDKN2A - TP53 &  0.8616649 & log & Select\\\\\n",
       "\t5 & CREBBP - POLE &  3.2690304 & log & Select\\\\\n",
       "\t6 & DNMT3A - NPM1 & -1.2372010 & log & Select\\\\\n",
       "\\end{tabular}\n"
      ],
      "text/markdown": [
       "\n",
       "A data.frame: 6 × 4\n",
       "\n",
       "| <!--/--> | pairs &lt;chr&gt; | effect_size &lt;dbl&gt; | category &lt;chr&gt; | algo &lt;chr&gt; |\n",
       "|---|---|---|---|---|\n",
       "| 1 | AR - ERBB4    |  3.4739465 | log | Select |\n",
       "| 2 | AR - PTCH1    |  3.1338454 | log | Select |\n",
       "| 3 | BRCA2 - TSC1  |  2.6383566 | log | Select |\n",
       "| 4 | CDKN2A - TP53 |  0.8616649 | log | Select |\n",
       "| 5 | CREBBP - POLE |  3.2690304 | log | Select |\n",
       "| 6 | DNMT3A - NPM1 | -1.2372010 | log | Select |\n",
       "\n"
      ],
      "text/plain": [
       "  pairs         effect_size category algo  \n",
       "1 AR - ERBB4     3.4739465  log      Select\n",
       "2 AR - PTCH1     3.1338454  log      Select\n",
       "3 BRCA2 - TSC1   2.6383566  log      Select\n",
       "4 CDKN2A - TP53  0.8616649  log      Select\n",
       "5 CREBBP - POLE  3.2690304  log      Select\n",
       "6 DNMT3A - NPM1 -1.2372010  log      Select"
      ]
     },
     "metadata": {},
     "output_type": "display_data"
    }
   ],
   "source": [
    "head(all_plot_df)"
   ]
  },
  {
   "cell_type": "code",
   "execution_count": 30,
   "id": "e43d4e78-e1f6-42f8-8634-b7b1536611f2",
   "metadata": {},
   "outputs": [],
   "source": [
    "plot_df <- all_plot_df  %>% select(pairs,effect_size,algo) %>% distinct()"
   ]
  },
  {
   "cell_type": "code",
   "execution_count": 31,
   "id": "4ac9b782-84e1-42b7-9742-272c91c8bc4b",
   "metadata": {},
   "outputs": [
    {
     "data": {
      "text/html": [
       "<table class=\"dataframe\">\n",
       "<caption>A data.frame: 6 × 3</caption>\n",
       "<thead>\n",
       "\t<tr><th></th><th scope=col>pairs</th><th scope=col>effect_size</th><th scope=col>algo</th></tr>\n",
       "\t<tr><th></th><th scope=col>&lt;chr&gt;</th><th scope=col>&lt;dbl&gt;</th><th scope=col>&lt;chr&gt;</th></tr>\n",
       "</thead>\n",
       "<tbody>\n",
       "\t<tr><th scope=row>1</th><td>AR - ERBB4   </td><td> 3.4739465</td><td>Select</td></tr>\n",
       "\t<tr><th scope=row>2</th><td>AR - PTCH1   </td><td> 3.1338454</td><td>Select</td></tr>\n",
       "\t<tr><th scope=row>3</th><td>BRCA2 - TSC1 </td><td> 2.6383566</td><td>Select</td></tr>\n",
       "\t<tr><th scope=row>4</th><td>CDKN2A - TP53</td><td> 0.8616649</td><td>Select</td></tr>\n",
       "\t<tr><th scope=row>5</th><td>CREBBP - POLE</td><td> 3.2690304</td><td>Select</td></tr>\n",
       "\t<tr><th scope=row>6</th><td>DNMT3A - NPM1</td><td>-1.2372010</td><td>Select</td></tr>\n",
       "</tbody>\n",
       "</table>\n"
      ],
      "text/latex": [
       "A data.frame: 6 × 3\n",
       "\\begin{tabular}{r|lll}\n",
       "  & pairs & effect\\_size & algo\\\\\n",
       "  & <chr> & <dbl> & <chr>\\\\\n",
       "\\hline\n",
       "\t1 & AR - ERBB4    &  3.4739465 & Select\\\\\n",
       "\t2 & AR - PTCH1    &  3.1338454 & Select\\\\\n",
       "\t3 & BRCA2 - TSC1  &  2.6383566 & Select\\\\\n",
       "\t4 & CDKN2A - TP53 &  0.8616649 & Select\\\\\n",
       "\t5 & CREBBP - POLE &  3.2690304 & Select\\\\\n",
       "\t6 & DNMT3A - NPM1 & -1.2372010 & Select\\\\\n",
       "\\end{tabular}\n"
      ],
      "text/markdown": [
       "\n",
       "A data.frame: 6 × 3\n",
       "\n",
       "| <!--/--> | pairs &lt;chr&gt; | effect_size &lt;dbl&gt; | algo &lt;chr&gt; |\n",
       "|---|---|---|---|\n",
       "| 1 | AR - ERBB4    |  3.4739465 | Select |\n",
       "| 2 | AR - PTCH1    |  3.1338454 | Select |\n",
       "| 3 | BRCA2 - TSC1  |  2.6383566 | Select |\n",
       "| 4 | CDKN2A - TP53 |  0.8616649 | Select |\n",
       "| 5 | CREBBP - POLE |  3.2690304 | Select |\n",
       "| 6 | DNMT3A - NPM1 | -1.2372010 | Select |\n",
       "\n"
      ],
      "text/plain": [
       "  pairs         effect_size algo  \n",
       "1 AR - ERBB4     3.4739465  Select\n",
       "2 AR - PTCH1     3.1338454  Select\n",
       "3 BRCA2 - TSC1   2.6383566  Select\n",
       "4 CDKN2A - TP53  0.8616649  Select\n",
       "5 CREBBP - POLE  3.2690304  Select\n",
       "6 DNMT3A - NPM1 -1.2372010  Select"
      ]
     },
     "metadata": {},
     "output_type": "display_data"
    }
   ],
   "source": [
    "head(plot_df)"
   ]
  },
  {
   "cell_type": "code",
   "execution_count": 39,
   "id": "6f11235e-c1fc-4d32-a077-038626ddf0f9",
   "metadata": {},
   "outputs": [],
   "source": [
    "saveRDS(plot_df,file='/mnt/ndata/arvind/co_mutation_project/analysis/robustness_benchmarking/figures/tcga_mutational_load_plot_data.rds')"
   ]
  },
  {
   "cell_type": "markdown",
   "id": "02873e44-5823-4291-b845-c16430fe6963",
   "metadata": {},
   "source": [
    "# LUAD"
   ]
  },
  {
   "cell_type": "code",
   "execution_count": 41,
   "id": "f025cddf-b7eb-42fa-b4a8-02df8c4a2c3f",
   "metadata": {},
   "outputs": [
    {
     "data": {
      "text/html": [
       "<style>\n",
       ".list-inline {list-style: none; margin:0; padding: 0}\n",
       ".list-inline>li {display: inline-block}\n",
       ".list-inline>li:not(:last-child)::after {content: \"\\00b7\"; padding: 0 .5ex}\n",
       "</style>\n",
       "<ol class=list-inline><li>396</li><li>9082</li></ol>\n"
      ],
      "text/latex": [
       "\\begin{enumerate*}\n",
       "\\item 396\n",
       "\\item 9082\n",
       "\\end{enumerate*}\n"
      ],
      "text/markdown": [
       "1. 396\n",
       "2. 9082\n",
       "\n",
       "\n"
      ],
      "text/plain": [
       "[1]  396 9082"
      ]
     },
     "metadata": {},
     "output_type": "display_data"
    }
   ],
   "source": [
    "dim(gam)"
   ]
  },
  {
   "cell_type": "code",
   "execution_count": 42,
   "id": "9044b3ca-5444-4585-b970-09a08102e8b0",
   "metadata": {
    "scrolled": true
   },
   "outputs": [],
   "source": [
    "luad_gam<-gam[,which(run_data$sample.class=='LUAD')]"
   ]
  },
  {
   "cell_type": "code",
   "execution_count": 43,
   "id": "89ed7b93-305f-4f8d-8f4d-8daa2c62f2b1",
   "metadata": {
    "scrolled": true
   },
   "outputs": [],
   "source": [
    "luad_selectsim <- readRDS('/mnt/ndata/arvind/co_mutation_project/analysis/robustness_benchmarking/results/LUAD/selectX/tcga_LUAD.rds')"
   ]
  },
  {
   "cell_type": "code",
   "execution_count": 44,
   "id": "5c129f39-ebb5-434f-bd90-a86367eac126",
   "metadata": {},
   "outputs": [],
   "source": [
    "luad_select <- readRDS('/mnt/ndata/arvind/co_mutation_project/analysis/robustness_benchmarking/results/LUAD/select/luad_all_results.rds')"
   ]
  },
  {
   "cell_type": "code",
   "execution_count": 45,
   "id": "adfac414-9295-4e5d-afba-6116f58a5981",
   "metadata": {},
   "outputs": [],
   "source": [
    "luad_gamtoc <- read.table('/mnt/ndata/arvind/co_mutation_project/analysis/robustness_benchmarking/results/LUAD/gamtoc/luad_all.txt',header = TRUE)"
   ]
  },
  {
   "cell_type": "code",
   "execution_count": 46,
   "id": "c936cc91-f87b-49c9-bc1d-d8d686ccde88",
   "metadata": {},
   "outputs": [],
   "source": [
    "luad_wesmeco <- read.table('/mnt/ndata/arvind/co_mutation_project/analysis/robustness_benchmarking/results/LUAD/wesme/LUAD_smut_co_pvs_0.1.txt',sep = \"\\t\",header = TRUE)"
   ]
  },
  {
   "cell_type": "code",
   "execution_count": 47,
   "id": "429623f3-f84c-498a-b5a6-eded830dd7d3",
   "metadata": {},
   "outputs": [],
   "source": [
    "luad_coocur <- readRDS('/mnt/ndata/arvind/co_mutation_project/analysis/robustness_benchmarking/results/LUAD/cooccur_luad_all_result.rds')"
   ]
  },
  {
   "cell_type": "code",
   "execution_count": 48,
   "id": "05f8f26b-2f67-42fc-b721-52a83cbb87d8",
   "metadata": {},
   "outputs": [],
   "source": [
    "compute_cohens_d <- function(result_df,gam,tmb_df){\n",
    "    without_log <-list()\n",
    "    with_log<-list()\n",
    "    pairs<-list()\n",
    "    k=1\n",
    "    for(i in c(1:nrow(result_df))){\n",
    "        #co_mut <- result_df[i,'overlap']\n",
    "        gene1<-result_df[i,'SFE_1']\n",
    "        gene2<-result_df[i,'SFE_2']\n",
    "        \n",
    "        wild_type <- (names(which(colSums(gam[c(gene1,gene2),])==0)))\n",
    "        co_mutated <- (names(which(colSums(gam[c(gene1,gene2),])==2)))\n",
    "        if(length(co_mutated)>=2){\n",
    "            mutated_df<-tmb_df %>% mutate(status=case_when(sample %in% co_mutated ~ 1,\n",
    "                                        sample %in% wild_type ~ 0)) %>% filter(status %in% c(0,1))\n",
    "    \n",
    "            group1 <- ((mutated_df %>% filter(sample %in% co_mutated))$mutation)\n",
    "            group2 <- ((mutated_df %>% filter(sample %in% wild_type))$mutation)\n",
    "            cohen_d <- cohen.d(group1, group2)$estimate\n",
    "            without_log[[k]]<-cohen_d\n",
    "            group1 <- log10(1+(mutated_df %>% filter(sample %in% co_mutated))$mutation)\n",
    "            group2 <- log10(1+(mutated_df %>% filter(sample %in% wild_type))$mutation)\n",
    "            cohen_d <- cohen.d(group1, group2)$estimate\n",
    "            with_log[[k]]<-cohen_d   \n",
    "            pairs[[k]] <-result_df[i,'id']\n",
    "            k=k+1\n",
    "        }\n",
    "    }\n",
    "   return(list(pairs,with_log,without_log))\n",
    "}"
   ]
  },
  {
   "cell_type": "code",
   "execution_count": 49,
   "id": "8c0432cc-5325-4c50-b5b1-0e1e41c546e6",
   "metadata": {},
   "outputs": [],
   "source": [
    "select_sim_result <- compute_cohens_d(result_df = luad_selectsim %>% filter(FDR==TRUE) %>% filter(type=='CO') %>% \n",
    "                                  mutate(id=case_when(SFE_1>SFE_2 ~paste(SFE_2,SFE_1,sep=\" - \"),SFE_1<SFE_2 ~paste(SFE_1,SFE_2,sep=\" - \"))),gam = luad_gam,tmb_df =all_tmb )"
   ]
  },
  {
   "cell_type": "code",
   "execution_count": 50,
   "id": "40f0eb47-5ca5-425e-bdb2-45f698cb2584",
   "metadata": {},
   "outputs": [],
   "source": [
    "select_result <- compute_cohens_d(result_df = luad_select %>% filter(wMI_p.value_FDR) %>% \n",
    "                                  mutate(id=case_when(SFE_1>SFE_2 ~paste(SFE_2,SFE_1,sep=\" - \"),SFE_1<SFE_2 ~paste(SFE_1,SFE_2,sep=\" - \"))) %>% filter(direction=='CO')\n",
    "                                  ,gam = luad_gam,tmb_df =all_tmb )"
   ]
  },
  {
   "cell_type": "code",
   "execution_count": 51,
   "id": "fbc254b4-85df-45ab-8a2f-ed31d3a7a6eb",
   "metadata": {},
   "outputs": [],
   "source": [
    "gamtoc_result <- compute_cohens_d(result_df = luad_gamtoc %>% filter(corr>=0) %>% mutate(SFE_1=node1) %>% mutate(SFE_2=node2) %>% \n",
    "                                  mutate(id=case_when(SFE_1>SFE_2 ~paste(SFE_2,SFE_1,sep=\" - \"),SFE_1<SFE_2 ~paste(SFE_1,SFE_2,sep=\" - \"))) \n",
    "                                  ,gam = luad_gam,tmb_df =all_tmb )"
   ]
  },
  {
   "cell_type": "code",
   "execution_count": 52,
   "id": "a2e1033a-99f5-434b-8d77-d87dac553009",
   "metadata": {},
   "outputs": [],
   "source": [
    "wesme_result <- compute_cohens_d(result_df = luad_wesmeco %>% filter(`pv..ws.`<=0.1) %>% mutate(SFE_1=gene1) %>% mutate(SFE_2=gene2) %>% \n",
    "                                  mutate(id=case_when(SFE_1>SFE_2 ~paste(SFE_2,SFE_1,sep=\" - \"),SFE_1<SFE_2 ~paste(SFE_1,SFE_2,sep=\" - \"))) \n",
    "                                  ,gam = luad_gam,tmb_df =all_tmb )"
   ]
  },
  {
   "cell_type": "code",
   "execution_count": 53,
   "id": "5bd1ffc8-3bfa-4071-9f17-3afc8262197a",
   "metadata": {},
   "outputs": [],
   "source": [
    "cooccur_result <- compute_cohens_d(result_df = luad_coocur %>% filter(`p_gt`<=0.05) %>% \n",
    "                                  mutate(id=case_when(SFE_1>SFE_2 ~paste(SFE_2,SFE_1,sep=\" - \"),SFE_1<SFE_2 ~paste(SFE_1,SFE_2,sep=\" - \"))) \n",
    "                                  ,gam = luad_gam,tmb_df =all_tmb )"
   ]
  },
  {
   "cell_type": "code",
   "execution_count": 55,
   "id": "91011d9c-4dba-4cee-9789-87b4ed89f128",
   "metadata": {},
   "outputs": [],
   "source": [
    "select_plot_df <- data.frame('pairs'=unlist(select_result[[1]]),'effect_size'=c(unlist(select_result[[2]])),'category'=c(rep('log',5)))"
   ]
  },
  {
   "cell_type": "code",
   "execution_count": 56,
   "id": "a7b833ed-59cc-400e-b952-82537dce0e8c",
   "metadata": {},
   "outputs": [],
   "source": [
    "selectsim_plot_df <- data.frame('pairs'=unlist(select_sim_result[[1]]),'effect_size'=c(unlist(select_sim_result[[2]])),'category'=c(rep('log',13)))"
   ]
  },
  {
   "cell_type": "code",
   "execution_count": 57,
   "id": "f5f75ee4-e560-4762-bb68-f1c8674b3e41",
   "metadata": {},
   "outputs": [],
   "source": [
    "gamtoc_plot_df <- data.frame('pairs'=unlist(gamtoc_result[[1]]),'effect_size'=c(unlist(gamtoc_result[[2]])),'category'=c(rep('log',7)))"
   ]
  },
  {
   "cell_type": "code",
   "execution_count": 58,
   "id": "2c8199b9-eb6b-4eee-aecc-e394b965ca67",
   "metadata": {},
   "outputs": [],
   "source": [
    "wesme_plot_df <- data.frame('pairs'=unlist(wesme_result[[1]]),'effect_size'=c(unlist(wesme_result[[2]])),'category'=c(rep('log',65)))"
   ]
  },
  {
   "cell_type": "code",
   "execution_count": 59,
   "id": "e714471e-23ad-47df-a1a9-2a532ea4aab9",
   "metadata": {},
   "outputs": [],
   "source": [
    "coocur_plot_df <- data.frame('pairs'=unlist(cooccur_result[[1]]),'effect_size'=c(unlist(cooccur_result[[2]])),'category'=c(rep('log',14)))"
   ]
  },
  {
   "cell_type": "code",
   "execution_count": 60,
   "id": "a6bb07d2-231a-49e5-ab1d-116c3b53bc59",
   "metadata": {},
   "outputs": [
    {
     "data": {
      "text/html": [
       "<table class=\"dataframe\">\n",
       "<caption>A data.frame: 5 × 3</caption>\n",
       "<thead>\n",
       "\t<tr><th></th><th scope=col>pairs</th><th scope=col>effect_size</th><th scope=col>category</th></tr>\n",
       "\t<tr><th></th><th scope=col>&lt;chr&gt;</th><th scope=col>&lt;dbl&gt;</th><th scope=col>&lt;chr&gt;</th></tr>\n",
       "</thead>\n",
       "<tbody>\n",
       "\t<tr><th scope=row>1</th><td>ARID1A - CARD11</td><td>0.6380519</td><td>log</td></tr>\n",
       "\t<tr><th scope=row>2</th><td>KDR - SLFN11   </td><td>1.4144201</td><td>log</td></tr>\n",
       "\t<tr><th scope=row>3</th><td>BRCA1 - KDR    </td><td>0.8699578</td><td>log</td></tr>\n",
       "\t<tr><th scope=row>4</th><td>PBRM1 - SETBP1 </td><td>1.0518664</td><td>log</td></tr>\n",
       "\t<tr><th scope=row>5</th><td>ATRX - VAV1    </td><td>1.6653571</td><td>log</td></tr>\n",
       "</tbody>\n",
       "</table>\n"
      ],
      "text/latex": [
       "A data.frame: 5 × 3\n",
       "\\begin{tabular}{r|lll}\n",
       "  & pairs & effect\\_size & category\\\\\n",
       "  & <chr> & <dbl> & <chr>\\\\\n",
       "\\hline\n",
       "\t1 & ARID1A - CARD11 & 0.6380519 & log\\\\\n",
       "\t2 & KDR - SLFN11    & 1.4144201 & log\\\\\n",
       "\t3 & BRCA1 - KDR     & 0.8699578 & log\\\\\n",
       "\t4 & PBRM1 - SETBP1  & 1.0518664 & log\\\\\n",
       "\t5 & ATRX - VAV1     & 1.6653571 & log\\\\\n",
       "\\end{tabular}\n"
      ],
      "text/markdown": [
       "\n",
       "A data.frame: 5 × 3\n",
       "\n",
       "| <!--/--> | pairs &lt;chr&gt; | effect_size &lt;dbl&gt; | category &lt;chr&gt; |\n",
       "|---|---|---|---|\n",
       "| 1 | ARID1A - CARD11 | 0.6380519 | log |\n",
       "| 2 | KDR - SLFN11    | 1.4144201 | log |\n",
       "| 3 | BRCA1 - KDR     | 0.8699578 | log |\n",
       "| 4 | PBRM1 - SETBP1  | 1.0518664 | log |\n",
       "| 5 | ATRX - VAV1     | 1.6653571 | log |\n",
       "\n"
      ],
      "text/plain": [
       "  pairs           effect_size category\n",
       "1 ARID1A - CARD11 0.6380519   log     \n",
       "2 KDR - SLFN11    1.4144201   log     \n",
       "3 BRCA1 - KDR     0.8699578   log     \n",
       "4 PBRM1 - SETBP1  1.0518664   log     \n",
       "5 ATRX - VAV1     1.6653571   log     "
      ]
     },
     "metadata": {},
     "output_type": "display_data"
    }
   ],
   "source": [
    "head(select_plot_df)"
   ]
  },
  {
   "cell_type": "code",
   "execution_count": 61,
   "id": "8b5cb333-7828-4999-9fb3-d9ef6e2b5e01",
   "metadata": {},
   "outputs": [
    {
     "data": {
      "text/html": [
       "<table class=\"dataframe\">\n",
       "<caption>A data.frame: 6 × 3</caption>\n",
       "<thead>\n",
       "\t<tr><th></th><th scope=col>pairs</th><th scope=col>effect_size</th><th scope=col>category</th></tr>\n",
       "\t<tr><th></th><th scope=col>&lt;chr&gt;</th><th scope=col>&lt;dbl&gt;</th><th scope=col>&lt;chr&gt;</th></tr>\n",
       "</thead>\n",
       "<tbody>\n",
       "\t<tr><th scope=row>1</th><td>KRAS - STK11 </td><td> 0.0003633509</td><td>log</td></tr>\n",
       "\t<tr><th scope=row>2</th><td>EGFR - TP53  </td><td>-0.3048752548</td><td>log</td></tr>\n",
       "\t<tr><th scope=row>3</th><td>KEAP1 - STK11</td><td> 0.0347003282</td><td>log</td></tr>\n",
       "\t<tr><th scope=row>4</th><td>KRAS - RBM10 </td><td> 0.0578319825</td><td>log</td></tr>\n",
       "\t<tr><th scope=row>5</th><td>RB1 - TP53   </td><td> 0.4468832872</td><td>log</td></tr>\n",
       "\t<tr><th scope=row>6</th><td>NF1 - TP53   </td><td> 0.7069614431</td><td>log</td></tr>\n",
       "</tbody>\n",
       "</table>\n"
      ],
      "text/latex": [
       "A data.frame: 6 × 3\n",
       "\\begin{tabular}{r|lll}\n",
       "  & pairs & effect\\_size & category\\\\\n",
       "  & <chr> & <dbl> & <chr>\\\\\n",
       "\\hline\n",
       "\t1 & KRAS - STK11  &  0.0003633509 & log\\\\\n",
       "\t2 & EGFR - TP53   & -0.3048752548 & log\\\\\n",
       "\t3 & KEAP1 - STK11 &  0.0347003282 & log\\\\\n",
       "\t4 & KRAS - RBM10  &  0.0578319825 & log\\\\\n",
       "\t5 & RB1 - TP53    &  0.4468832872 & log\\\\\n",
       "\t6 & NF1 - TP53    &  0.7069614431 & log\\\\\n",
       "\\end{tabular}\n"
      ],
      "text/markdown": [
       "\n",
       "A data.frame: 6 × 3\n",
       "\n",
       "| <!--/--> | pairs &lt;chr&gt; | effect_size &lt;dbl&gt; | category &lt;chr&gt; |\n",
       "|---|---|---|---|\n",
       "| 1 | KRAS - STK11  |  0.0003633509 | log |\n",
       "| 2 | EGFR - TP53   | -0.3048752548 | log |\n",
       "| 3 | KEAP1 - STK11 |  0.0347003282 | log |\n",
       "| 4 | KRAS - RBM10  |  0.0578319825 | log |\n",
       "| 5 | RB1 - TP53    |  0.4468832872 | log |\n",
       "| 6 | NF1 - TP53    |  0.7069614431 | log |\n",
       "\n"
      ],
      "text/plain": [
       "  pairs         effect_size   category\n",
       "1 KRAS - STK11   0.0003633509 log     \n",
       "2 EGFR - TP53   -0.3048752548 log     \n",
       "3 KEAP1 - STK11  0.0347003282 log     \n",
       "4 KRAS - RBM10   0.0578319825 log     \n",
       "5 RB1 - TP53     0.4468832872 log     \n",
       "6 NF1 - TP53     0.7069614431 log     "
      ]
     },
     "metadata": {},
     "output_type": "display_data"
    }
   ],
   "source": [
    "head(selectsim_plot_df)"
   ]
  },
  {
   "cell_type": "code",
   "execution_count": 62,
   "id": "f759e419-44aa-417b-af07-ba54c60e7265",
   "metadata": {},
   "outputs": [],
   "source": [
    "all_plot_df <- rbind(select_plot_df %>% mutate('algo'='Select'),\n",
    "                     selectsim_plot_df %>% mutate('algo'='SelectSim'),\n",
    "                    gamtoc_plot_df %>% mutate('algo'='GamToc'),\n",
    "                    wesme_plot_df %>% mutate('algo'='WesME/CO'),\n",
    "                    coocur_plot_df %>% mutate('algo'='cooccur'))"
   ]
  },
  {
   "cell_type": "code",
   "execution_count": 63,
   "id": "d50bb435-6a12-441c-9a81-7bdb19f9105c",
   "metadata": {},
   "outputs": [
    {
     "data": {
      "text/html": [
       "<table class=\"dataframe\">\n",
       "<caption>A data.frame: 6 × 4</caption>\n",
       "<thead>\n",
       "\t<tr><th></th><th scope=col>pairs</th><th scope=col>effect_size</th><th scope=col>category</th><th scope=col>algo</th></tr>\n",
       "\t<tr><th></th><th scope=col>&lt;chr&gt;</th><th scope=col>&lt;dbl&gt;</th><th scope=col>&lt;chr&gt;</th><th scope=col>&lt;chr&gt;</th></tr>\n",
       "</thead>\n",
       "<tbody>\n",
       "\t<tr><th scope=row>1</th><td>ARID1A - CARD11</td><td>0.6380518979</td><td>log</td><td>Select   </td></tr>\n",
       "\t<tr><th scope=row>2</th><td>KDR - SLFN11   </td><td>1.4144200841</td><td>log</td><td>Select   </td></tr>\n",
       "\t<tr><th scope=row>3</th><td>BRCA1 - KDR    </td><td>0.8699578453</td><td>log</td><td>Select   </td></tr>\n",
       "\t<tr><th scope=row>4</th><td>PBRM1 - SETBP1 </td><td>1.0518663974</td><td>log</td><td>Select   </td></tr>\n",
       "\t<tr><th scope=row>5</th><td>ATRX - VAV1    </td><td>1.6653570605</td><td>log</td><td>Select   </td></tr>\n",
       "\t<tr><th scope=row>6</th><td>KRAS - STK11   </td><td>0.0003633509</td><td>log</td><td>SelectSim</td></tr>\n",
       "</tbody>\n",
       "</table>\n"
      ],
      "text/latex": [
       "A data.frame: 6 × 4\n",
       "\\begin{tabular}{r|llll}\n",
       "  & pairs & effect\\_size & category & algo\\\\\n",
       "  & <chr> & <dbl> & <chr> & <chr>\\\\\n",
       "\\hline\n",
       "\t1 & ARID1A - CARD11 & 0.6380518979 & log & Select   \\\\\n",
       "\t2 & KDR - SLFN11    & 1.4144200841 & log & Select   \\\\\n",
       "\t3 & BRCA1 - KDR     & 0.8699578453 & log & Select   \\\\\n",
       "\t4 & PBRM1 - SETBP1  & 1.0518663974 & log & Select   \\\\\n",
       "\t5 & ATRX - VAV1     & 1.6653570605 & log & Select   \\\\\n",
       "\t6 & KRAS - STK11    & 0.0003633509 & log & SelectSim\\\\\n",
       "\\end{tabular}\n"
      ],
      "text/markdown": [
       "\n",
       "A data.frame: 6 × 4\n",
       "\n",
       "| <!--/--> | pairs &lt;chr&gt; | effect_size &lt;dbl&gt; | category &lt;chr&gt; | algo &lt;chr&gt; |\n",
       "|---|---|---|---|---|\n",
       "| 1 | ARID1A - CARD11 | 0.6380518979 | log | Select    |\n",
       "| 2 | KDR - SLFN11    | 1.4144200841 | log | Select    |\n",
       "| 3 | BRCA1 - KDR     | 0.8699578453 | log | Select    |\n",
       "| 4 | PBRM1 - SETBP1  | 1.0518663974 | log | Select    |\n",
       "| 5 | ATRX - VAV1     | 1.6653570605 | log | Select    |\n",
       "| 6 | KRAS - STK11    | 0.0003633509 | log | SelectSim |\n",
       "\n"
      ],
      "text/plain": [
       "  pairs           effect_size  category algo     \n",
       "1 ARID1A - CARD11 0.6380518979 log      Select   \n",
       "2 KDR - SLFN11    1.4144200841 log      Select   \n",
       "3 BRCA1 - KDR     0.8699578453 log      Select   \n",
       "4 PBRM1 - SETBP1  1.0518663974 log      Select   \n",
       "5 ATRX - VAV1     1.6653570605 log      Select   \n",
       "6 KRAS - STK11    0.0003633509 log      SelectSim"
      ]
     },
     "metadata": {},
     "output_type": "display_data"
    }
   ],
   "source": [
    "head(all_plot_df)"
   ]
  },
  {
   "cell_type": "code",
   "execution_count": 64,
   "id": "3271fceb-48e8-4cd8-943c-f4ff0f01c7d6",
   "metadata": {},
   "outputs": [],
   "source": [
    "a<-(all_plot_df %>% filter(algo=='SelectSim'))$pairs\n",
    "b<-(all_plot_df %>% filter(algo=='Select'))$pairs\n",
    "c<-(all_plot_df %>% filter(algo=='GamToc'))$pairs\n",
    "d<-(all_plot_df %>% filter(algo=='WesME/CO'))$pairs\n",
    "e<-(all_plot_df %>% filter(algo=='cooccur'))$pairs\n",
    "#f<-(all_plot_df %>% filter(algo=='coselens'))$pairs"
   ]
  },
  {
   "cell_type": "code",
   "execution_count": 66,
   "id": "f90de20c-9007-4448-9e85-fb47dfe399f1",
   "metadata": {},
   "outputs": [],
   "source": [
    "common <- Reduce(intersect,list(a,c,d,e))"
   ]
  },
  {
   "cell_type": "code",
   "execution_count": 67,
   "id": "86e5dcf3-3cde-45df-a1b1-b1edc4d104d3",
   "metadata": {},
   "outputs": [],
   "source": [
    "selectsim_only <- setdiff(a,c(b,c,d))\n",
    "select_only <- setdiff(b,c(a,c,d))\n",
    "gamtoc_only <- setdiff(c,c(a,b,d))\n",
    "WesME_only <- setdiff(d,c(a,b,c))"
   ]
  },
  {
   "cell_type": "code",
   "execution_count": 69,
   "id": "217f999f-1b42-41e5-bd61-23a4f4fdfdd2",
   "metadata": {},
   "outputs": [],
   "source": [
    "all_plot_df<-all_plot_df %>% mutate(alog_cat = case_when(pairs %in% setdiff(c(a,b,c,d),c(selectsim_only,select_only,gamtoc_only,WesME_only)) ~ 'Found in common',\n",
    "                                            pairs %in% selectsim_only ~ 'SelectSim',\n",
    "                                            pairs %in% select_only ~ 'Select',\n",
    "                                                          pairs %in% gamtoc_only ~ 'GamTOC',\n",
    "                                                         pairs %in% WesME_only ~ 'weSME/CO',\n",
    "                                           TRUE ~ ''))"
   ]
  },
  {
   "cell_type": "code",
   "execution_count": 71,
   "id": "bd78c504-af4f-4440-b769-2aca09f6d343",
   "metadata": {},
   "outputs": [
    {
     "data": {
      "text/html": [
       "<table class=\"dataframe\">\n",
       "<caption>A data.frame: 6 × 5</caption>\n",
       "<thead>\n",
       "\t<tr><th></th><th scope=col>pairs</th><th scope=col>effect_size</th><th scope=col>category</th><th scope=col>algo</th><th scope=col>alog_cat</th></tr>\n",
       "\t<tr><th></th><th scope=col>&lt;chr&gt;</th><th scope=col>&lt;dbl&gt;</th><th scope=col>&lt;chr&gt;</th><th scope=col>&lt;chr&gt;</th><th scope=col>&lt;chr&gt;</th></tr>\n",
       "</thead>\n",
       "<tbody>\n",
       "\t<tr><th scope=row>1</th><td>ARID1A - CARD11</td><td>0.6380518979</td><td>log</td><td>Select   </td><td>Found in common</td></tr>\n",
       "\t<tr><th scope=row>2</th><td>KDR - SLFN11   </td><td>1.4144200841</td><td>log</td><td>Select   </td><td>Found in common</td></tr>\n",
       "\t<tr><th scope=row>3</th><td>BRCA1 - KDR    </td><td>0.8699578453</td><td>log</td><td>Select   </td><td>Found in common</td></tr>\n",
       "\t<tr><th scope=row>4</th><td>PBRM1 - SETBP1 </td><td>1.0518663974</td><td>log</td><td>Select   </td><td>Found in common</td></tr>\n",
       "\t<tr><th scope=row>5</th><td>ATRX - VAV1    </td><td>1.6653570605</td><td>log</td><td>Select   </td><td>Found in common</td></tr>\n",
       "\t<tr><th scope=row>6</th><td>KRAS - STK11   </td><td>0.0003633509</td><td>log</td><td>SelectSim</td><td>Found in common</td></tr>\n",
       "</tbody>\n",
       "</table>\n"
      ],
      "text/latex": [
       "A data.frame: 6 × 5\n",
       "\\begin{tabular}{r|lllll}\n",
       "  & pairs & effect\\_size & category & algo & alog\\_cat\\\\\n",
       "  & <chr> & <dbl> & <chr> & <chr> & <chr>\\\\\n",
       "\\hline\n",
       "\t1 & ARID1A - CARD11 & 0.6380518979 & log & Select    & Found in common\\\\\n",
       "\t2 & KDR - SLFN11    & 1.4144200841 & log & Select    & Found in common\\\\\n",
       "\t3 & BRCA1 - KDR     & 0.8699578453 & log & Select    & Found in common\\\\\n",
       "\t4 & PBRM1 - SETBP1  & 1.0518663974 & log & Select    & Found in common\\\\\n",
       "\t5 & ATRX - VAV1     & 1.6653570605 & log & Select    & Found in common\\\\\n",
       "\t6 & KRAS - STK11    & 0.0003633509 & log & SelectSim & Found in common\\\\\n",
       "\\end{tabular}\n"
      ],
      "text/markdown": [
       "\n",
       "A data.frame: 6 × 5\n",
       "\n",
       "| <!--/--> | pairs &lt;chr&gt; | effect_size &lt;dbl&gt; | category &lt;chr&gt; | algo &lt;chr&gt; | alog_cat &lt;chr&gt; |\n",
       "|---|---|---|---|---|---|\n",
       "| 1 | ARID1A - CARD11 | 0.6380518979 | log | Select    | Found in common |\n",
       "| 2 | KDR - SLFN11    | 1.4144200841 | log | Select    | Found in common |\n",
       "| 3 | BRCA1 - KDR     | 0.8699578453 | log | Select    | Found in common |\n",
       "| 4 | PBRM1 - SETBP1  | 1.0518663974 | log | Select    | Found in common |\n",
       "| 5 | ATRX - VAV1     | 1.6653570605 | log | Select    | Found in common |\n",
       "| 6 | KRAS - STK11    | 0.0003633509 | log | SelectSim | Found in common |\n",
       "\n"
      ],
      "text/plain": [
       "  pairs           effect_size  category algo      alog_cat       \n",
       "1 ARID1A - CARD11 0.6380518979 log      Select    Found in common\n",
       "2 KDR - SLFN11    1.4144200841 log      Select    Found in common\n",
       "3 BRCA1 - KDR     0.8699578453 log      Select    Found in common\n",
       "4 PBRM1 - SETBP1  1.0518663974 log      Select    Found in common\n",
       "5 ATRX - VAV1     1.6653570605 log      Select    Found in common\n",
       "6 KRAS - STK11    0.0003633509 log      SelectSim Found in common"
      ]
     },
     "metadata": {},
     "output_type": "display_data"
    }
   ],
   "source": [
    "head(all_plot_df)"
   ]
  },
  {
   "cell_type": "code",
   "execution_count": 72,
   "id": "830a67ea-405b-4d12-971e-e0f9f3ad4026",
   "metadata": {},
   "outputs": [],
   "source": [
    "df <- all_plot_df %>% select(pairs,effect_size,algo) %>% distinct()"
   ]
  },
  {
   "cell_type": "code",
   "execution_count": 73,
   "id": "b8206521-4bf2-4297-8e62-8384531cd90b",
   "metadata": {},
   "outputs": [
    {
     "data": {
      "text/html": [
       "<table class=\"dataframe\">\n",
       "<caption>A data.frame: 6 × 3</caption>\n",
       "<thead>\n",
       "\t<tr><th></th><th scope=col>pairs</th><th scope=col>effect_size</th><th scope=col>algo</th></tr>\n",
       "\t<tr><th></th><th scope=col>&lt;chr&gt;</th><th scope=col>&lt;dbl&gt;</th><th scope=col>&lt;chr&gt;</th></tr>\n",
       "</thead>\n",
       "<tbody>\n",
       "\t<tr><th scope=row>1</th><td>ARID1A - CARD11</td><td>0.6380518979</td><td>Select   </td></tr>\n",
       "\t<tr><th scope=row>2</th><td>KDR - SLFN11   </td><td>1.4144200841</td><td>Select   </td></tr>\n",
       "\t<tr><th scope=row>3</th><td>BRCA1 - KDR    </td><td>0.8699578453</td><td>Select   </td></tr>\n",
       "\t<tr><th scope=row>4</th><td>PBRM1 - SETBP1 </td><td>1.0518663974</td><td>Select   </td></tr>\n",
       "\t<tr><th scope=row>5</th><td>ATRX - VAV1    </td><td>1.6653570605</td><td>Select   </td></tr>\n",
       "\t<tr><th scope=row>6</th><td>KRAS - STK11   </td><td>0.0003633509</td><td>SelectSim</td></tr>\n",
       "</tbody>\n",
       "</table>\n"
      ],
      "text/latex": [
       "A data.frame: 6 × 3\n",
       "\\begin{tabular}{r|lll}\n",
       "  & pairs & effect\\_size & algo\\\\\n",
       "  & <chr> & <dbl> & <chr>\\\\\n",
       "\\hline\n",
       "\t1 & ARID1A - CARD11 & 0.6380518979 & Select   \\\\\n",
       "\t2 & KDR - SLFN11    & 1.4144200841 & Select   \\\\\n",
       "\t3 & BRCA1 - KDR     & 0.8699578453 & Select   \\\\\n",
       "\t4 & PBRM1 - SETBP1  & 1.0518663974 & Select   \\\\\n",
       "\t5 & ATRX - VAV1     & 1.6653570605 & Select   \\\\\n",
       "\t6 & KRAS - STK11    & 0.0003633509 & SelectSim\\\\\n",
       "\\end{tabular}\n"
      ],
      "text/markdown": [
       "\n",
       "A data.frame: 6 × 3\n",
       "\n",
       "| <!--/--> | pairs &lt;chr&gt; | effect_size &lt;dbl&gt; | algo &lt;chr&gt; |\n",
       "|---|---|---|---|\n",
       "| 1 | ARID1A - CARD11 | 0.6380518979 | Select    |\n",
       "| 2 | KDR - SLFN11    | 1.4144200841 | Select    |\n",
       "| 3 | BRCA1 - KDR     | 0.8699578453 | Select    |\n",
       "| 4 | PBRM1 - SETBP1  | 1.0518663974 | Select    |\n",
       "| 5 | ATRX - VAV1     | 1.6653570605 | Select    |\n",
       "| 6 | KRAS - STK11    | 0.0003633509 | SelectSim |\n",
       "\n"
      ],
      "text/plain": [
       "  pairs           effect_size  algo     \n",
       "1 ARID1A - CARD11 0.6380518979 Select   \n",
       "2 KDR - SLFN11    1.4144200841 Select   \n",
       "3 BRCA1 - KDR     0.8699578453 Select   \n",
       "4 PBRM1 - SETBP1  1.0518663974 Select   \n",
       "5 ATRX - VAV1     1.6653570605 Select   \n",
       "6 KRAS - STK11    0.0003633509 SelectSim"
      ]
     },
     "metadata": {},
     "output_type": "display_data"
    }
   ],
   "source": [
    "head(df)"
   ]
  },
  {
   "cell_type": "code",
   "execution_count": 74,
   "id": "d9ee600f-1a70-41a1-b14a-4e71a8288513",
   "metadata": {},
   "outputs": [],
   "source": [
    "# Calculate mean values for each group\n",
    "mean_values <- aggregate(effect_size ~ algo, data = df, FUN = mean)"
   ]
  },
  {
   "cell_type": "code",
   "execution_count": 76,
   "id": "d3f382e2-c454-49d4-98e4-d1ebdf94cf86",
   "metadata": {},
   "outputs": [
    {
     "data": {
      "text/html": [
       "<table class=\"dataframe\">\n",
       "<caption>A data.frame: 5 × 2</caption>\n",
       "<thead>\n",
       "\t<tr><th scope=col>algo</th><th scope=col>effect_size</th></tr>\n",
       "\t<tr><th scope=col>&lt;chr&gt;</th><th scope=col>&lt;dbl&gt;</th></tr>\n",
       "</thead>\n",
       "<tbody>\n",
       "\t<tr><td>cooccur  </td><td>0.53552517</td></tr>\n",
       "\t<tr><td>GamToc   </td><td>0.20895041</td></tr>\n",
       "\t<tr><td>Select   </td><td>1.12793066</td></tr>\n",
       "\t<tr><td>SelectSim</td><td>0.08091732</td></tr>\n",
       "\t<tr><td>WesME/CO </td><td>1.00340459</td></tr>\n",
       "</tbody>\n",
       "</table>\n"
      ],
      "text/latex": [
       "A data.frame: 5 × 2\n",
       "\\begin{tabular}{ll}\n",
       " algo & effect\\_size\\\\\n",
       " <chr> & <dbl>\\\\\n",
       "\\hline\n",
       "\t cooccur   & 0.53552517\\\\\n",
       "\t GamToc    & 0.20895041\\\\\n",
       "\t Select    & 1.12793066\\\\\n",
       "\t SelectSim & 0.08091732\\\\\n",
       "\t WesME/CO  & 1.00340459\\\\\n",
       "\\end{tabular}\n"
      ],
      "text/markdown": [
       "\n",
       "A data.frame: 5 × 2\n",
       "\n",
       "| algo &lt;chr&gt; | effect_size &lt;dbl&gt; |\n",
       "|---|---|\n",
       "| cooccur   | 0.53552517 |\n",
       "| GamToc    | 0.20895041 |\n",
       "| Select    | 1.12793066 |\n",
       "| SelectSim | 0.08091732 |\n",
       "| WesME/CO  | 1.00340459 |\n",
       "\n"
      ],
      "text/plain": [
       "  algo      effect_size\n",
       "1 cooccur   0.53552517 \n",
       "2 GamToc    0.20895041 \n",
       "3 Select    1.12793066 \n",
       "4 SelectSim 0.08091732 \n",
       "5 WesME/CO  1.00340459 "
      ]
     },
     "metadata": {},
     "output_type": "display_data"
    }
   ],
   "source": [
    "mean_values"
   ]
  },
  {
   "cell_type": "code",
   "execution_count": 77,
   "id": "5e75d25c-b16e-42d2-9d1d-33a83e81ad1b",
   "metadata": {},
   "outputs": [],
   "source": [
    "custom_order<-(mean_values %>% arrange((effect_size)))$algo"
   ]
  },
  {
   "cell_type": "code",
   "execution_count": 78,
   "id": "cb6ec3c1-4e97-4c38-8fc0-297180b16a7a",
   "metadata": {},
   "outputs": [],
   "source": [
    "df$algo <- factor(df$algo, levels = custom_order)"
   ]
  },
  {
   "cell_type": "code",
   "execution_count": 81,
   "id": "6702940b-118a-4370-99c8-188b2e670f6b",
   "metadata": {},
   "outputs": [],
   "source": [
    "saveRDS(df,file='/mnt/ndata/arvind/co_mutation_project/analysis/robustness_benchmarking/figures/luad_mutational_load_plot_data.rds')"
   ]
  }
 ],
 "metadata": {
  "kernelspec": {
   "display_name": "R",
   "language": "R",
   "name": "ir"
  },
  "language_info": {
   "codemirror_mode": "r",
   "file_extension": ".r",
   "mimetype": "text/x-r-source",
   "name": "R",
   "pygments_lexer": "r",
   "version": "4.3.2"
  }
 },
 "nbformat": 4,
 "nbformat_minor": 5
}
