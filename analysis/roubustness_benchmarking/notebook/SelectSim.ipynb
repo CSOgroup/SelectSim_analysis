{
 "cells": [
  {
   "cell_type": "code",
   "execution_count": 1,
   "id": "e88df231-dc13-40bc-88c7-ae5060c2d6d4",
   "metadata": {
    "tags": []
   },
   "outputs": [
    {
     "name": "stderr",
     "output_type": "stream",
     "text": [
      "── \u001b[1mAttaching core tidyverse packages\u001b[22m ───────────────────────────────────────────────────────────────────────────────────────────────────────────────────────────────────── tidyverse 2.0.0 ──\n",
      "\u001b[32m✔\u001b[39m \u001b[34mdplyr    \u001b[39m 1.1.4     \u001b[32m✔\u001b[39m \u001b[34mreadr    \u001b[39m 2.1.5\n",
      "\u001b[32m✔\u001b[39m \u001b[34mforcats  \u001b[39m 1.0.0     \u001b[32m✔\u001b[39m \u001b[34mstringr  \u001b[39m 1.5.1\n",
      "\u001b[32m✔\u001b[39m \u001b[34mggplot2  \u001b[39m 3.4.4     \u001b[32m✔\u001b[39m \u001b[34mtibble   \u001b[39m 3.2.1\n",
      "\u001b[32m✔\u001b[39m \u001b[34mlubridate\u001b[39m 1.9.3     \u001b[32m✔\u001b[39m \u001b[34mtidyr    \u001b[39m 1.3.0\n",
      "\u001b[32m✔\u001b[39m \u001b[34mpurrr    \u001b[39m 1.0.2     \n",
      "── \u001b[1mConflicts\u001b[22m ─────────────────────────────────────────────────────────────────────────────────────────────────────────────────────────────────────────────────────── tidyverse_conflicts() ──\n",
      "\u001b[31m✖\u001b[39m \u001b[34mdplyr\u001b[39m::\u001b[32mfilter()\u001b[39m masks \u001b[34mstats\u001b[39m::filter()\n",
      "\u001b[31m✖\u001b[39m \u001b[34mdplyr\u001b[39m::\u001b[32mlag()\u001b[39m    masks \u001b[34mstats\u001b[39m::lag()\n",
      "\u001b[36mℹ\u001b[39m Use the conflicted package (\u001b[3m\u001b[34m<http://conflicted.r-lib.org/>\u001b[39m\u001b[23m) to force all conflicts to become errors\n"
     ]
    }
   ],
   "source": [
    "library(\"tidyverse\")\n",
    "library(\"SelectSim\")"
   ]
  },
  {
   "cell_type": "code",
   "execution_count": 2,
   "id": "462430ef-c9c5-41a3-bb59-a3b6ea9e0948",
   "metadata": {
    "scrolled": true,
    "tags": []
   },
   "outputs": [
    {
     "data": {
      "text/plain": [
       "R version 4.3.2 (2023-10-31)\n",
       "Platform: x86_64-conda-linux-gnu (64-bit)\n",
       "Running under: CentOS Linux 7 (Core)\n",
       "\n",
       "Matrix products: default\n",
       "BLAS/LAPACK: /mnt/ndata/arvind/envs/R_4/lib/libopenblasp-r0.3.25.so;  LAPACK version 3.11.0\n",
       "\n",
       "locale:\n",
       " [1] LC_CTYPE=en_US.UTF-8       LC_NUMERIC=C              \n",
       " [3] LC_TIME=en_US.UTF-8        LC_COLLATE=en_US.UTF-8    \n",
       " [5] LC_MONETARY=en_US.UTF-8    LC_MESSAGES=en_US.UTF-8   \n",
       " [7] LC_PAPER=en_US.UTF-8       LC_NAME=C                 \n",
       " [9] LC_ADDRESS=C               LC_TELEPHONE=C            \n",
       "[11] LC_MEASUREMENT=en_US.UTF-8 LC_IDENTIFICATION=C       \n",
       "\n",
       "time zone: Europe/Zurich\n",
       "tzcode source: system (glibc)\n",
       "\n",
       "attached base packages:\n",
       "[1] stats     graphics  grDevices utils     datasets  methods   base     \n",
       "\n",
       "other attached packages:\n",
       " [1] SelectSim_0.0.1.3 lubridate_1.9.3   forcats_1.0.0     stringr_1.5.1    \n",
       " [5] dplyr_1.1.4       purrr_1.0.2       readr_2.1.5       tidyr_1.3.0      \n",
       " [9] tibble_3.2.1      ggplot2_3.4.4     tidyverse_2.0.0  \n",
       "\n",
       "loaded via a namespace (and not attached):\n",
       " [1] gtable_0.3.4       rstatix_0.7.2      lattice_0.22-5     tzdb_0.4.0        \n",
       " [5] vctrs_0.6.5        tools_4.3.2        generics_0.1.3     parallel_4.3.2    \n",
       " [9] fansi_1.0.6        pkgconfig_2.0.3    Matrix_1.6-5       ggridges_0.5.5    \n",
       "[13] rngtools_1.5.2     RcppParallel_5.1.6 uuid_1.2-0         lifecycle_1.0.4   \n",
       "[17] compiler_4.3.2     tictoc_1.2         munsell_0.5.0      repr_1.1.6        \n",
       "[21] codetools_0.2-19   carData_3.0-5      htmltools_0.5.7    pillar_1.9.0      \n",
       "[25] car_3.1-2          ggpubr_0.6.0       crayon_1.5.2       doRNG_1.8.6       \n",
       "[29] iterators_1.0.14   abind_1.4-5        foreach_1.5.2      tidyselect_1.2.0  \n",
       "[33] digest_0.6.34      stringi_1.8.3      reshape2_1.4.4     fastmap_1.1.1     \n",
       "[37] grid_4.3.2         colorspace_2.1-0   cli_3.6.2          magrittr_2.0.3    \n",
       "[41] base64enc_0.1-3    Rfast_2.1.0        utf8_1.2.4         IRdisplay_1.1     \n",
       "[45] broom_1.0.5        withr_3.0.0        scales_1.3.0       backports_1.4.1   \n",
       "[49] IRkernel_1.3.2     RcppZiggurat_0.1.6 timechange_0.3.0   pbdZMQ_0.3-11     \n",
       "[53] ggsignif_0.6.4     hms_1.1.3          evaluate_0.23      doParallel_1.0.17 \n",
       "[57] rlang_1.1.3        Rcpp_1.0.12        glue_1.7.0         jsonlite_1.8.8    \n",
       "[61] R6_2.5.1           plyr_1.8.9        "
      ]
     },
     "metadata": {},
     "output_type": "display_data"
    }
   ],
   "source": [
    "sessionInfo()"
   ]
  },
  {
   "cell_type": "code",
   "execution_count": 3,
   "id": "c27db3c5-3374-4452-a707-8650962dce2f",
   "metadata": {},
   "outputs": [],
   "source": [
    "filter_run_data <- function(run_data,gene_order,sample_order){\n",
    "    final_run_data<-run_data\n",
    "    final_run_data$M$M$missense<-run_data$M$M$missense[gene_order,sample_order]\n",
    "    final_run_data$M$M$truncating<-run_data$M$M$truncating[gene_order,sample_order]\n",
    "    final_run_data$alteration.class<- run_data$alteration.class[gene_order]\n",
    "    final_run_data$sample.class<-run_data$sample.class[sample_order]\n",
    "    final_run_data$M$tmb$missense<-run_data$M$tmb$missense[sample_order,]\n",
    "    final_run_data$M$tmb$truncating<-run_data$M$tmb$truncating[sample_order,]\n",
    "    return(final_run_data)\n",
    "}"
   ]
  },
  {
   "cell_type": "markdown",
   "id": "76af9686-0cad-4256-be17-57c6a89a6cff",
   "metadata": {},
   "source": [
    "# LUAD"
   ]
  },
  {
   "cell_type": "code",
   "execution_count": 4,
   "id": "4f51f0a7-ae1b-488c-8290-5faef203aca0",
   "metadata": {},
   "outputs": [],
   "source": [
    "run_data <- readRDS('/mnt/ndata/arvind/co_mutation_project/data/processed/gams/pan_can_tcga_run_data.rds')"
   ]
  },
  {
   "cell_type": "code",
   "execution_count": 5,
   "id": "e7116a0e-ad79-4f97-8428-9f702f381842",
   "metadata": {},
   "outputs": [],
   "source": [
    "sample_covariates<-run_data$sample.class"
   ]
  },
  {
   "cell_type": "code",
   "execution_count": 6,
   "id": "324a0ac2-40ef-487e-9ffb-7834f3b82f9c",
   "metadata": {},
   "outputs": [],
   "source": [
    "luad_samples <- names(sample_covariates[(which(sample_covariates %in% c('LUAD')))])"
   ]
  },
  {
   "cell_type": "code",
   "execution_count": 7,
   "id": "2797554e-4dc7-4016-945e-92c5b65c8dd9",
   "metadata": {},
   "outputs": [],
   "source": [
    "luad_run_data<- filter_run_data(run_data = run_data,gene_order = names(run_data$alteration.class),sample_order = luad_samples)"
   ]
  },
  {
   "cell_type": "code",
   "execution_count": 8,
   "id": "06fd43e0-341c-43e2-9574-83e5f5b9e524",
   "metadata": {
    "scrolled": true
   },
   "outputs": [
    {
     "name": "stdout",
     "output_type": "stream",
     "text": [
      "List of 3\n",
      " $ M               :List of 2\n",
      "  ..$ M  :List of 2\n",
      "  .. ..$ missense  : num [1:396, 1:502] 0 0 0 0 0 0 0 0 0 0 ...\n",
      "  .. .. ..- attr(*, \"dimnames\")=List of 2\n",
      "  .. .. .. ..$ : chr [1:396] \"AKT1\" \"ALK\" \"APC\" \"AR\" ...\n",
      "  .. .. .. ..$ : chr [1:502] \"TCGA-05-4244-01\" \"TCGA-05-4249-01\" \"TCGA-05-4250-01\" \"TCGA-05-4382-01\" ...\n",
      "  .. ..$ truncating: num [1:396, 1:502] 0 0 0 0 0 0 0 0 0 0 ...\n",
      "  .. .. ..- attr(*, \"dimnames\")=List of 2\n",
      "  .. .. .. ..$ : chr [1:396] \"AKT1\" \"ALK\" \"APC\" \"AR\" ...\n",
      "  .. .. .. ..$ : chr [1:502] \"TCGA-05-4244-01\" \"TCGA-05-4249-01\" \"TCGA-05-4250-01\" \"TCGA-05-4382-01\" ...\n",
      "  ..$ tmb:List of 2\n",
      "  .. ..$ missense  :'data.frame':\t502 obs. of  2 variables:\n",
      "  .. .. ..$ sample  : chr [1:502] \"TCGA-05-4244-01\" \"TCGA-05-4249-01\" \"TCGA-05-4250-01\" \"TCGA-05-4382-01\" ...\n",
      "  .. .. ..$ mutation: num [1:502] 163 253 270 1328 100 ...\n",
      "  .. ..$ truncating:'data.frame':\t502 obs. of  2 variables:\n",
      "  .. .. ..$ sample  : chr [1:502] \"TCGA-05-4244-01\" \"TCGA-05-4249-01\" \"TCGA-05-4250-01\" \"TCGA-05-4382-01\" ...\n",
      "  .. .. ..$ mutation: num [1:502] 24 45 40 206 17 18 73 31 176 108 ...\n",
      " $ sample.class    : Named chr [1:502] \"LUAD\" \"LUAD\" \"LUAD\" \"LUAD\" ...\n",
      "  ..- attr(*, \"names\")= chr [1:502] \"TCGA-05-4244-01\" \"TCGA-05-4249-01\" \"TCGA-05-4250-01\" \"TCGA-05-4382-01\" ...\n",
      " $ alteration.class: Named chr [1:396] \"MUT\" \"MUT\" \"MUT\" \"MUT\" ...\n",
      "  ..- attr(*, \"names\")= chr [1:396] \"AKT1\" \"ALK\" \"APC\" \"AR\" ...\n"
     ]
    }
   ],
   "source": [
    "str(luad_run_data)"
   ]
  },
  {
   "cell_type": "code",
   "execution_count": 9,
   "id": "986d068c-b0ba-431e-ba2c-806d9a4155da",
   "metadata": {
    "scrolled": true
   },
   "outputs": [
    {
     "name": "stdout",
     "output_type": "stream",
     "text": [
      "[1] \"#### Creating SelectX object ####\"\n",
      "[1] \"Step1-> Parsing and Filtering GAM...\"\n",
      "[1] \"Number of features: 396\"\n",
      "[1] \"Number of features after filtering: 269\"\n",
      "[1] \"-> Alteration Landscape object created\"\n",
      "Time:: 0.017 sec elapsed\n",
      "[1] \"Step2-> Generating Templetate object...\"\n",
      "[1] \"-> Templetate object created\"\n",
      "Time:: 0.083 sec elapsed\n",
      "[1] \"Step3-> Generating penalty matrix...\"\n",
      "[1] \"-> Penalty Matrix created\"\n",
      "Time:: 0.006 sec elapsed\n",
      "[1] \"Step4-> Generating null model...\"\n",
      "[1] \"-> Removing the outliers matrix from null model...\"\n",
      "[1] \" Removed null-matrix: 105\"\n",
      "[1] \" Updated the null-model and nSim variables...\"\n",
      "Time:: 15.762 sec elapsed\n",
      "[1] \"-> Null model generated\"\n",
      "[1] \"### SelectX object created ###\"\n",
      "[1] \"#### Computing EDs on the dataset ####\"\n",
      "Time:: 18.968 sec elapsed\n",
      "[1] \"#### EDs computed ####\"\n",
      "Total time taken:: 34.836 sec elapsed\n"
     ]
    }
   ],
   "source": [
    "obj <- selectX( M = luad_run_data$M,\n",
    "            sample.class = luad_run_data$sample.class,\n",
    "            alteration.class = luad_run_data$alteration.class,\n",
    "            n.cores = 20,\n",
    "            min.freq = (0.001*length(luad_run_data$sample.class)),\n",
    "            n.permut = 1000,\n",
    "            lambda = 0.3,\n",
    "            tao = 1,\n",
    "            save.object = FALSE,\n",
    "            verbose = TRUE,\n",
    "            estimate_pairwise = FALSE,\n",
    "            maxFDR = 0.25)"
   ]
  },
  {
   "cell_type": "code",
   "execution_count": 10,
   "id": "70e8d74c-d8a0-4fd8-9c56-f1c7942588c7",
   "metadata": {},
   "outputs": [
    {
     "data": {
      "text/html": [
       "<table class=\"dataframe\">\n",
       "<caption>A data.frame: 1 × 1</caption>\n",
       "<thead>\n",
       "\t<tr><th scope=col>n</th></tr>\n",
       "\t<tr><th scope=col>&lt;int&gt;</th></tr>\n",
       "</thead>\n",
       "<tbody>\n",
       "\t<tr><td>57</td></tr>\n",
       "</tbody>\n",
       "</table>\n"
      ],
      "text/latex": [
       "A data.frame: 1 × 1\n",
       "\\begin{tabular}{l}\n",
       " n\\\\\n",
       " <int>\\\\\n",
       "\\hline\n",
       "\t 57\\\\\n",
       "\\end{tabular}\n"
      ],
      "text/markdown": [
       "\n",
       "A data.frame: 1 × 1\n",
       "\n",
       "| n &lt;int&gt; |\n",
       "|---|\n",
       "| 57 |\n",
       "\n"
      ],
      "text/plain": [
       "  n \n",
       "1 57"
      ]
     },
     "metadata": {},
     "output_type": "display_data"
    }
   ],
   "source": [
    "obj$result %>% filter(nFDR2<=0.25)  %>% count()"
   ]
  },
  {
   "cell_type": "markdown",
   "id": "8b1a664f-871b-4a91-83e5-3235b2968bad",
   "metadata": {},
   "source": [
    "## Sampling Run"
   ]
  },
  {
   "cell_type": "code",
   "execution_count": 11,
   "id": "70069c33-9843-4c9f-b0e7-b1b5ac25caa6",
   "metadata": {},
   "outputs": [],
   "source": [
    "sample_list1 <- readRDS('/mnt/ptemp/arvind/tool_comaprision/data/sampling_list_luad.rds')\n",
    "sample_list2 <- readRDS('/mnt/ptemp/arvind/tool_comaprision/data/sampling_list_luad_2.rds')"
   ]
  },
  {
   "cell_type": "code",
   "execution_count": 12,
   "id": "79908c95-686c-4e7e-b6be-b36a29da482a",
   "metadata": {
    "scrolled": true
   },
   "outputs": [
    {
     "name": "stdout",
     "output_type": "stream",
     "text": [
      "List of 10\n",
      " $ : Named chr [1:401] \"LUAD\" \"LUAD\" \"LUAD\" \"LUAD\" ...\n",
      "  ..- attr(*, \"names\")= chr [1:401] \"TCGA-78-7539-01\" \"TCGA-99-8033-01\" \"TCGA-73-4670-01\" \"TCGA-75-5146-01\" ...\n",
      " $ : Named chr [1:401] \"LUAD\" \"LUAD\" \"LUAD\" \"LUAD\" ...\n",
      "  ..- attr(*, \"names\")= chr [1:401] \"TCGA-75-6214-01\" \"TCGA-64-5775-01\" \"TCGA-97-A4M3-01\" \"TCGA-93-A4JO-01\" ...\n",
      " $ : Named chr [1:401] \"LUAD\" \"LUAD\" \"LUAD\" \"LUAD\" ...\n",
      "  ..- attr(*, \"names\")= chr [1:401] \"TCGA-64-1679-01\" \"TCGA-64-1676-01\" \"TCGA-55-8505-01\" \"TCGA-97-8547-01\" ...\n",
      " $ : Named chr [1:401] \"LUAD\" \"LUAD\" \"LUAD\" \"LUAD\" ...\n",
      "  ..- attr(*, \"names\")= chr [1:401] \"TCGA-55-8204-01\" \"TCGA-55-8094-01\" \"TCGA-49-AARE-01\" \"TCGA-44-A47G-01\" ...\n",
      " $ : Named chr [1:401] \"LUAD\" \"LUAD\" \"LUAD\" \"LUAD\" ...\n",
      "  ..- attr(*, \"names\")= chr [1:401] \"TCGA-05-4422-01\" \"TCGA-49-AAR9-01\" \"TCGA-05-4417-01\" \"TCGA-55-6984-01\" ...\n",
      " $ : Named chr [1:401] \"LUAD\" \"LUAD\" \"LUAD\" \"LUAD\" ...\n",
      "  ..- attr(*, \"names\")= chr [1:401] \"TCGA-91-6848-01\" \"TCGA-55-6971-01\" \"TCGA-S2-AA1A-01\" \"TCGA-86-7713-01\" ...\n",
      " $ : Named chr [1:401] \"LUAD\" \"LUAD\" \"LUAD\" \"LUAD\" ...\n",
      "  ..- attr(*, \"names\")= chr [1:401] \"TCGA-MN-A4N1-01\" \"TCGA-97-A4M3-01\" \"TCGA-49-4486-01\" \"TCGA-05-4427-01\" ...\n",
      " $ : Named chr [1:401] \"LUAD\" \"LUAD\" \"LUAD\" \"LUAD\" ...\n",
      "  ..- attr(*, \"names\")= chr [1:401] \"TCGA-95-8494-01\" \"TCGA-78-7542-01\" \"TCGA-44-3396-01\" \"TCGA-97-8179-01\" ...\n",
      " $ : Named chr [1:401] \"LUAD\" \"LUAD\" \"LUAD\" \"LUAD\" ...\n",
      "  ..- attr(*, \"names\")= chr [1:401] \"TCGA-38-4631-01\" \"TCGA-55-7994-01\" \"TCGA-97-8171-01\" \"TCGA-78-8648-01\" ...\n",
      " $ : Named chr [1:401] \"LUAD\" \"LUAD\" \"LUAD\" \"LUAD\" ...\n",
      "  ..- attr(*, \"names\")= chr [1:401] \"TCGA-97-8179-01\" \"TCGA-44-2666-01\" \"TCGA-44-8119-01\" \"TCGA-78-7539-01\" ...\n"
     ]
    }
   ],
   "source": [
    "str(c(sample_list1[11:15],sample_list2[11:15]))"
   ]
  },
  {
   "cell_type": "code",
   "execution_count": 13,
   "id": "5554ebe5-11e7-4b45-9af9-39b623eaa022",
   "metadata": {},
   "outputs": [],
   "source": [
    "sample_list<-c(sample_list1[11:15],sample_list2[11:15])"
   ]
  },
  {
   "cell_type": "code",
   "execution_count": 14,
   "id": "b9574203-4ddb-4579-b092-409693e16d74",
   "metadata": {},
   "outputs": [
    {
     "name": "stdout",
     "output_type": "stream",
     "text": [
      "List of 10\n",
      " $ : Named chr [1:401] \"LUAD\" \"LUAD\" \"LUAD\" \"LUAD\" ...\n",
      "  ..- attr(*, \"names\")= chr [1:401] \"TCGA-78-7539-01\" \"TCGA-99-8033-01\" \"TCGA-73-4670-01\" \"TCGA-75-5146-01\" ...\n",
      " $ : Named chr [1:401] \"LUAD\" \"LUAD\" \"LUAD\" \"LUAD\" ...\n",
      "  ..- attr(*, \"names\")= chr [1:401] \"TCGA-75-6214-01\" \"TCGA-64-5775-01\" \"TCGA-97-A4M3-01\" \"TCGA-93-A4JO-01\" ...\n",
      " $ : Named chr [1:401] \"LUAD\" \"LUAD\" \"LUAD\" \"LUAD\" ...\n",
      "  ..- attr(*, \"names\")= chr [1:401] \"TCGA-64-1679-01\" \"TCGA-64-1676-01\" \"TCGA-55-8505-01\" \"TCGA-97-8547-01\" ...\n",
      " $ : Named chr [1:401] \"LUAD\" \"LUAD\" \"LUAD\" \"LUAD\" ...\n",
      "  ..- attr(*, \"names\")= chr [1:401] \"TCGA-55-8204-01\" \"TCGA-55-8094-01\" \"TCGA-49-AARE-01\" \"TCGA-44-A47G-01\" ...\n",
      " $ : Named chr [1:401] \"LUAD\" \"LUAD\" \"LUAD\" \"LUAD\" ...\n",
      "  ..- attr(*, \"names\")= chr [1:401] \"TCGA-05-4422-01\" \"TCGA-49-AAR9-01\" \"TCGA-05-4417-01\" \"TCGA-55-6984-01\" ...\n",
      " $ : Named chr [1:401] \"LUAD\" \"LUAD\" \"LUAD\" \"LUAD\" ...\n",
      "  ..- attr(*, \"names\")= chr [1:401] \"TCGA-91-6848-01\" \"TCGA-55-6971-01\" \"TCGA-S2-AA1A-01\" \"TCGA-86-7713-01\" ...\n",
      " $ : Named chr [1:401] \"LUAD\" \"LUAD\" \"LUAD\" \"LUAD\" ...\n",
      "  ..- attr(*, \"names\")= chr [1:401] \"TCGA-MN-A4N1-01\" \"TCGA-97-A4M3-01\" \"TCGA-49-4486-01\" \"TCGA-05-4427-01\" ...\n",
      " $ : Named chr [1:401] \"LUAD\" \"LUAD\" \"LUAD\" \"LUAD\" ...\n",
      "  ..- attr(*, \"names\")= chr [1:401] \"TCGA-95-8494-01\" \"TCGA-78-7542-01\" \"TCGA-44-3396-01\" \"TCGA-97-8179-01\" ...\n",
      " $ : Named chr [1:401] \"LUAD\" \"LUAD\" \"LUAD\" \"LUAD\" ...\n",
      "  ..- attr(*, \"names\")= chr [1:401] \"TCGA-38-4631-01\" \"TCGA-55-7994-01\" \"TCGA-97-8171-01\" \"TCGA-78-8648-01\" ...\n",
      " $ : Named chr [1:401] \"LUAD\" \"LUAD\" \"LUAD\" \"LUAD\" ...\n",
      "  ..- attr(*, \"names\")= chr [1:401] \"TCGA-97-8179-01\" \"TCGA-44-2666-01\" \"TCGA-44-8119-01\" \"TCGA-78-7539-01\" ...\n"
     ]
    }
   ],
   "source": [
    "str(sample_list)"
   ]
  },
  {
   "cell_type": "code",
   "execution_count": null,
   "id": "963912d4-235b-4b3c-b48b-855c674c7e7b",
   "metadata": {
    "scrolled": true
   },
   "outputs": [],
   "source": [
    "result_vec<-list()\n",
    "k=1\n",
    "for(i in c(1:10)){\n",
    "    load(file='/mnt/ptemp/arvind/select_x_arvind/arvind_tcga_oncko_kb_all_samples_missesne_gam.RData')\n",
    "    load(file='/mnt/ptemp/arvind/select_x_arvind/arvind_tcga_oncko_kb_all_samples_truncating_gam.RData')\n",
    "    load('/mnt/ptemp/arvind/giovanni_share/data/gam/tcga_mut_only_marco.RData')\n",
    "    global_sample_covariates <-gam_collection$sample.class\n",
    "    gene_to_take <- colnames(missesne_data$gam)\n",
    "    order <- names(sample_list[[i]])\n",
    "    data <-list('M'=list('missense'=t(missesne_data$gam[order,gene_to_take]),\n",
    "                                 'truncating'=t(truncating_data$gam[rownames(missesne_data$gam[order,]),gene_to_take])),\n",
    "                        'tmb'=list('missense'=missesne_data$tmb[order,],\n",
    "                                   'truncating'=truncating_data$tmb[order,]))\n",
    "\n",
    "    alteration_covariates <- rep('MUT',ncol(missesne_data$gam[order,gene_to_take]))\n",
    "    names(alteration_covariates)<-colnames(missesne_data$gam[order,gene_to_take])\n",
    "    sample_covariates<-global_sample_covariates[order]\n",
    "    run_data <- list('M'=data,'sample.class' = sample_covariates,'alteration.class' = alteration_covariates)\n",
    "    \n",
    "    obj <- selectX(M = run_data$M,\n",
    "          sample.class = run_data$sample.class,\n",
    "          alteration.class =run_data$alteration.class,\n",
    "          n.cores = 30,\n",
    "          min.freq=1,\n",
    "          bootstrap=FALSE,\n",
    "          n.permut = 1000,\n",
    "          version=3,\n",
    "          t_version=2,\n",
    "          lambda=0.3)\n",
    "    result <- selectX_table(obj,\n",
    "                        maxFDR=0.25,\n",
    "                        n.cores = 1,\n",
    "                        save.object=FALSE)\n",
    "    result_vec[[i]]<-result\n",
    "    saveRDS(result,file=paste('/mnt/ptemp/arvind/tool_comaprision/results/selectX/sampling_run_selectX_v4_result_80_',k,'.rds',sep=\"\"))    \n",
    "    rm(obj)\n",
    "    rm(result)\n",
    "    k=k+1\n",
    "\n",
    "}"
   ]
  }
 ],
 "metadata": {
  "kernelspec": {
   "display_name": "R",
   "language": "R",
   "name": "ir"
  },
  "language_info": {
   "codemirror_mode": "r",
   "file_extension": ".r",
   "mimetype": "text/x-r-source",
   "name": "R",
   "pygments_lexer": "r",
   "version": "4.3.2"
  }
 },
 "nbformat": 4,
 "nbformat_minor": 5
}
