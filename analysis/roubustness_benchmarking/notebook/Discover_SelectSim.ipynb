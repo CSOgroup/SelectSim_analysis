{
 "cells": [
  {
   "cell_type": "code",
   "execution_count": 1,
   "id": "1cd6054f-aebf-4078-9cca-f995ae23741a",
   "metadata": {},
   "outputs": [
    {
     "name": "stderr",
     "output_type": "stream",
     "text": [
      "── \u001b[1mAttaching core tidyverse packages\u001b[22m ───────────────────────────────────────────────────────────────────────────────────────────────────────────────────────────────────── tidyverse 2.0.0 ──\n",
      "\u001b[32m✔\u001b[39m \u001b[34mdplyr    \u001b[39m 1.1.4     \u001b[32m✔\u001b[39m \u001b[34mreadr    \u001b[39m 2.1.5\n",
      "\u001b[32m✔\u001b[39m \u001b[34mforcats  \u001b[39m 1.0.0     \u001b[32m✔\u001b[39m \u001b[34mstringr  \u001b[39m 1.5.1\n",
      "\u001b[32m✔\u001b[39m \u001b[34mggplot2  \u001b[39m 3.4.4     \u001b[32m✔\u001b[39m \u001b[34mtibble   \u001b[39m 3.2.1\n",
      "\u001b[32m✔\u001b[39m \u001b[34mlubridate\u001b[39m 1.9.3     \u001b[32m✔\u001b[39m \u001b[34mtidyr    \u001b[39m 1.3.0\n",
      "\u001b[32m✔\u001b[39m \u001b[34mpurrr    \u001b[39m 1.0.2     \n",
      "── \u001b[1mConflicts\u001b[22m ─────────────────────────────────────────────────────────────────────────────────────────────────────────────────────────────────────────────────────── tidyverse_conflicts() ──\n",
      "\u001b[31m✖\u001b[39m \u001b[34mdplyr\u001b[39m::\u001b[32mfilter()\u001b[39m masks \u001b[34mstats\u001b[39m::filter()\n",
      "\u001b[31m✖\u001b[39m \u001b[34mdplyr\u001b[39m::\u001b[32mlag()\u001b[39m    masks \u001b[34mstats\u001b[39m::lag()\n",
      "\u001b[36mℹ\u001b[39m Use the conflicted package (\u001b[3m\u001b[34m<http://conflicted.r-lib.org/>\u001b[39m\u001b[23m) to force all conflicts to become errors\n"
     ]
    }
   ],
   "source": [
    "library('SelectSim')\n",
    "library('tidyverse')\n",
    "library('tictoc')\n",
    "library(\"discover\")"
   ]
  },
  {
   "cell_type": "code",
   "execution_count": 2,
   "id": "939c9c97-c3e6-42fd-bc10-604276163cdd",
   "metadata": {
    "scrolled": true
   },
   "outputs": [
    {
     "data": {
      "text/plain": [
       "R version 4.3.2 (2023-10-31)\n",
       "Platform: x86_64-conda-linux-gnu (64-bit)\n",
       "Running under: CentOS Linux 7 (Core)\n",
       "\n",
       "Matrix products: default\n",
       "BLAS/LAPACK: /mnt/ndata/arvind/envs/R_4/lib/libopenblasp-r0.3.25.so;  LAPACK version 3.11.0\n",
       "\n",
       "locale:\n",
       " [1] LC_CTYPE=en_US.UTF-8       LC_NUMERIC=C              \n",
       " [3] LC_TIME=en_US.UTF-8        LC_COLLATE=en_US.UTF-8    \n",
       " [5] LC_MONETARY=en_US.UTF-8    LC_MESSAGES=en_US.UTF-8   \n",
       " [7] LC_PAPER=en_US.UTF-8       LC_NAME=C                 \n",
       " [9] LC_ADDRESS=C               LC_TELEPHONE=C            \n",
       "[11] LC_MEASUREMENT=en_US.UTF-8 LC_IDENTIFICATION=C       \n",
       "\n",
       "time zone: Europe/Zurich\n",
       "tzcode source: system (glibc)\n",
       "\n",
       "attached base packages:\n",
       "[1] stats     graphics  grDevices utils     datasets  methods   base     \n",
       "\n",
       "other attached packages:\n",
       " [1] discover_0.9.4    tictoc_1.2        lubridate_1.9.3   forcats_1.0.0    \n",
       " [5] stringr_1.5.1     dplyr_1.1.4       purrr_1.0.2       readr_2.1.5      \n",
       " [9] tidyr_1.3.0       tibble_3.2.1      ggplot2_3.4.4     tidyverse_2.0.0  \n",
       "[13] SelectSim_0.0.1.3\n",
       "\n",
       "loaded via a namespace (and not attached):\n",
       " [1] gtable_0.3.4       rstatix_0.7.2      lattice_0.22-5     tzdb_0.4.0        \n",
       " [5] vctrs_0.6.5        tools_4.3.2        generics_0.1.3     parallel_4.3.2    \n",
       " [9] fansi_1.0.6        pkgconfig_2.0.3    Matrix_1.6-5       ggridges_0.5.5    \n",
       "[13] rngtools_1.5.2     RcppParallel_5.1.6 uuid_1.2-0         lifecycle_1.0.4   \n",
       "[17] compiler_4.3.2     munsell_0.5.0      repr_1.1.6         codetools_0.2-19  \n",
       "[21] carData_3.0-5      htmltools_0.5.7    pillar_1.9.0       car_3.1-2         \n",
       "[25] ggpubr_0.6.0       crayon_1.5.2       doRNG_1.8.6        iterators_1.0.14  \n",
       "[29] abind_1.4-5        foreach_1.5.2      tidyselect_1.2.0   digest_0.6.34     \n",
       "[33] stringi_1.8.3      reshape2_1.4.4     fastmap_1.1.1      grid_4.3.2        \n",
       "[37] colorspace_2.1-0   cli_3.6.2          magrittr_2.0.3     base64enc_0.1-3   \n",
       "[41] Rfast_2.1.0        utf8_1.2.4         IRdisplay_1.1      broom_1.0.5       \n",
       "[45] withr_3.0.0        scales_1.3.0       backports_1.4.1    IRkernel_1.3.2    \n",
       "[49] RcppZiggurat_0.1.6 timechange_0.3.0   pbdZMQ_0.3-11      ggsignif_0.6.4    \n",
       "[53] hms_1.1.3          evaluate_0.23      doParallel_1.0.17  rlang_1.1.3       \n",
       "[57] Rcpp_1.0.12        glue_1.7.0         jsonlite_1.8.8     R6_2.5.1          \n",
       "[61] plyr_1.8.9        "
      ]
     },
     "metadata": {},
     "output_type": "display_data"
    }
   ],
   "source": [
    "sessionInfo()"
   ]
  },
  {
   "cell_type": "markdown",
   "id": "8ed57759-fa28-4e06-a3d9-d741805edb4e",
   "metadata": {},
   "source": [
    "## SelectSim run"
   ]
  },
  {
   "cell_type": "code",
   "execution_count": 3,
   "id": "5bc15592-c2a5-41fe-bb27-3eb25898d5a2",
   "metadata": {},
   "outputs": [],
   "source": [
    "filter_run_data <- function(run_data,gene_order,sample_order){\n",
    "    final_run_data<-run_data\n",
    "    final_run_data$M$M$missense<-run_data$M$M$missense[gene_order,sample_order]\n",
    "    final_run_data$M$M$truncating<-run_data$M$M$truncating[gene_order,sample_order]\n",
    "    final_run_data$alteration.class<- run_data$alteration.class[gene_order]\n",
    "    final_run_data$sample.class<-run_data$sample.class[sample_order]\n",
    "    final_run_data$M$tmb$missense<-run_data$M$tmb$missense[sample_order,]\n",
    "    final_run_data$M$tmb$truncating<-run_data$M$tmb$truncating[sample_order,]\n",
    "    return(final_run_data)\n",
    "}"
   ]
  },
  {
   "cell_type": "code",
   "execution_count": 4,
   "id": "b967c6e8-15cc-49a2-84be-344d0c119102",
   "metadata": {},
   "outputs": [],
   "source": [
    "run_data <- readRDS('/mnt/ndata/arvind/co_mutation_project/data/processed/gams/pan_can_tcga_run_data.rds')"
   ]
  },
  {
   "cell_type": "code",
   "execution_count": 5,
   "id": "11b9da25-922b-4cb5-85f5-b4ffe716bcba",
   "metadata": {},
   "outputs": [],
   "source": [
    "sample_covariates<-run_data$sample.class"
   ]
  },
  {
   "cell_type": "code",
   "execution_count": 6,
   "id": "518b916d-d252-418c-9d09-341edddb6a7a",
   "metadata": {},
   "outputs": [],
   "source": [
    "luad_samples <- names(sample_covariates[(which(sample_covariates %in% c('LUAD')))])"
   ]
  },
  {
   "cell_type": "code",
   "execution_count": 7,
   "id": "3d57b639-3892-4c1a-9300-64f29a856b73",
   "metadata": {},
   "outputs": [],
   "source": [
    "luad_run_data<- filter_run_data(run_data = run_data,gene_order = names(run_data$alteration.class),sample_order = luad_samples)"
   ]
  },
  {
   "cell_type": "code",
   "execution_count": 8,
   "id": "17dbd944-4b12-4195-a2a3-b8234c6d9387",
   "metadata": {},
   "outputs": [
    {
     "name": "stdout",
     "output_type": "stream",
     "text": [
      "List of 3\n",
      " $ M               :List of 2\n",
      "  ..$ M  :List of 2\n",
      "  .. ..$ missense  : num [1:396, 1:502] 0 0 0 0 0 0 0 0 0 0 ...\n",
      "  .. .. ..- attr(*, \"dimnames\")=List of 2\n",
      "  .. .. .. ..$ : chr [1:396] \"AKT1\" \"ALK\" \"APC\" \"AR\" ...\n",
      "  .. .. .. ..$ : chr [1:502] \"TCGA-05-4244-01\" \"TCGA-05-4249-01\" \"TCGA-05-4250-01\" \"TCGA-05-4382-01\" ...\n",
      "  .. ..$ truncating: num [1:396, 1:502] 0 0 0 0 0 0 0 0 0 0 ...\n",
      "  .. .. ..- attr(*, \"dimnames\")=List of 2\n",
      "  .. .. .. ..$ : chr [1:396] \"AKT1\" \"ALK\" \"APC\" \"AR\" ...\n",
      "  .. .. .. ..$ : chr [1:502] \"TCGA-05-4244-01\" \"TCGA-05-4249-01\" \"TCGA-05-4250-01\" \"TCGA-05-4382-01\" ...\n",
      "  ..$ tmb:List of 2\n",
      "  .. ..$ missense  :'data.frame':\t502 obs. of  2 variables:\n",
      "  .. .. ..$ sample  : chr [1:502] \"TCGA-05-4244-01\" \"TCGA-05-4249-01\" \"TCGA-05-4250-01\" \"TCGA-05-4382-01\" ...\n",
      "  .. .. ..$ mutation: num [1:502] 163 253 270 1328 100 ...\n",
      "  .. ..$ truncating:'data.frame':\t502 obs. of  2 variables:\n",
      "  .. .. ..$ sample  : chr [1:502] \"TCGA-05-4244-01\" \"TCGA-05-4249-01\" \"TCGA-05-4250-01\" \"TCGA-05-4382-01\" ...\n",
      "  .. .. ..$ mutation: num [1:502] 24 45 40 206 17 18 73 31 176 108 ...\n",
      " $ sample.class    : Named chr [1:502] \"LUAD\" \"LUAD\" \"LUAD\" \"LUAD\" ...\n",
      "  ..- attr(*, \"names\")= chr [1:502] \"TCGA-05-4244-01\" \"TCGA-05-4249-01\" \"TCGA-05-4250-01\" \"TCGA-05-4382-01\" ...\n",
      " $ alteration.class: Named chr [1:396] \"MUT\" \"MUT\" \"MUT\" \"MUT\" ...\n",
      "  ..- attr(*, \"names\")= chr [1:396] \"AKT1\" \"ALK\" \"APC\" \"AR\" ...\n"
     ]
    }
   ],
   "source": [
    "str(luad_run_data)"
   ]
  },
  {
   "cell_type": "code",
   "execution_count": 9,
   "id": "2420724a-f26a-4493-94a1-8943fd0dd99e",
   "metadata": {},
   "outputs": [],
   "source": [
    "gam<-luad_run_data$M$M[[1]]+luad_run_data$M$M[[2]][rownames(luad_run_data$M$M[[1]]),colnames(luad_run_data$M$M[[1]])]\n",
    "gam[gam>1]<-1"
   ]
  },
  {
   "cell_type": "code",
   "execution_count": 10,
   "id": "570b6016-dda9-4485-9091-8682e8e7d0df",
   "metadata": {},
   "outputs": [],
   "source": [
    "tmb<- run_data$M$tmb$missense\n",
    "tmb$mutation<-tmb$mutation+run_data$M$tmb$truncating$mutation"
   ]
  },
  {
   "cell_type": "code",
   "execution_count": 11,
   "id": "ee738f85-3b84-4a7b-8100-62d591b61395",
   "metadata": {},
   "outputs": [
    {
     "data": {
      "text/html": [
       "<table class=\"dataframe\">\n",
       "<caption>A data.frame: 6 × 2</caption>\n",
       "<thead>\n",
       "\t<tr><th></th><th scope=col>sample</th><th scope=col>mutation</th></tr>\n",
       "\t<tr><th></th><th scope=col>&lt;chr&gt;</th><th scope=col>&lt;dbl&gt;</th></tr>\n",
       "</thead>\n",
       "<tbody>\n",
       "\t<tr><th scope=row>TCGA-02-0047-01</th><td>TCGA-02-0047-01</td><td> 63</td></tr>\n",
       "\t<tr><th scope=row>TCGA-02-0055-01</th><td>TCGA-02-0055-01</td><td> 50</td></tr>\n",
       "\t<tr><th scope=row>TCGA-AB-2805-03</th><td>TCGA-AB-2805-03</td><td> 57</td></tr>\n",
       "\t<tr><th scope=row>TCGA-AB-2806-03</th><td>TCGA-AB-2806-03</td><td>507</td></tr>\n",
       "\t<tr><th scope=row>TCGA-AB-2807-03</th><td>TCGA-AB-2807-03</td><td>261</td></tr>\n",
       "\t<tr><th scope=row>TCGA-AB-2808-03</th><td>TCGA-AB-2808-03</td><td>771</td></tr>\n",
       "</tbody>\n",
       "</table>\n"
      ],
      "text/latex": [
       "A data.frame: 6 × 2\n",
       "\\begin{tabular}{r|ll}\n",
       "  & sample & mutation\\\\\n",
       "  & <chr> & <dbl>\\\\\n",
       "\\hline\n",
       "\tTCGA-02-0047-01 & TCGA-02-0047-01 &  63\\\\\n",
       "\tTCGA-02-0055-01 & TCGA-02-0055-01 &  50\\\\\n",
       "\tTCGA-AB-2805-03 & TCGA-AB-2805-03 &  57\\\\\n",
       "\tTCGA-AB-2806-03 & TCGA-AB-2806-03 & 507\\\\\n",
       "\tTCGA-AB-2807-03 & TCGA-AB-2807-03 & 261\\\\\n",
       "\tTCGA-AB-2808-03 & TCGA-AB-2808-03 & 771\\\\\n",
       "\\end{tabular}\n"
      ],
      "text/markdown": [
       "\n",
       "A data.frame: 6 × 2\n",
       "\n",
       "| <!--/--> | sample &lt;chr&gt; | mutation &lt;dbl&gt; |\n",
       "|---|---|---|\n",
       "| TCGA-02-0047-01 | TCGA-02-0047-01 |  63 |\n",
       "| TCGA-02-0055-01 | TCGA-02-0055-01 |  50 |\n",
       "| TCGA-AB-2805-03 | TCGA-AB-2805-03 |  57 |\n",
       "| TCGA-AB-2806-03 | TCGA-AB-2806-03 | 507 |\n",
       "| TCGA-AB-2807-03 | TCGA-AB-2807-03 | 261 |\n",
       "| TCGA-AB-2808-03 | TCGA-AB-2808-03 | 771 |\n",
       "\n"
      ],
      "text/plain": [
       "                sample          mutation\n",
       "TCGA-02-0047-01 TCGA-02-0047-01  63     \n",
       "TCGA-02-0055-01 TCGA-02-0055-01  50     \n",
       "TCGA-AB-2805-03 TCGA-AB-2805-03  57     \n",
       "TCGA-AB-2806-03 TCGA-AB-2806-03 507     \n",
       "TCGA-AB-2807-03 TCGA-AB-2807-03 261     \n",
       "TCGA-AB-2808-03 TCGA-AB-2808-03 771     "
      ]
     },
     "metadata": {},
     "output_type": "display_data"
    }
   ],
   "source": [
    "head(tmb)"
   ]
  },
  {
   "cell_type": "code",
   "execution_count": 12,
   "id": "cd087c98-8802-4613-a0e3-af98d339062a",
   "metadata": {},
   "outputs": [
    {
     "data": {
      "text/html": [
       "<style>\n",
       ".list-inline {list-style: none; margin:0; padding: 0}\n",
       ".list-inline>li {display: inline-block}\n",
       ".list-inline>li:not(:last-child)::after {content: \"\\00b7\"; padding: 0 .5ex}\n",
       "</style>\n",
       "<ol class=list-inline><li>396</li><li>502</li></ol>\n"
      ],
      "text/latex": [
       "\\begin{enumerate*}\n",
       "\\item 396\n",
       "\\item 502\n",
       "\\end{enumerate*}\n"
      ],
      "text/markdown": [
       "1. 396\n",
       "2. 502\n",
       "\n",
       "\n"
      ],
      "text/plain": [
       "[1] 396 502"
      ]
     },
     "metadata": {},
     "output_type": "display_data"
    }
   ],
   "source": [
    "dim(gam)"
   ]
  },
  {
   "cell_type": "code",
   "execution_count": 13,
   "id": "02f6ad87-ccae-417b-9124-84c2b8e8c50a",
   "metadata": {},
   "outputs": [],
   "source": [
    "data <-list('M'=list('mut'=gam),\n",
    "            'tmb'=list('mut'=tmb))\n",
    "\n",
    "alteration_covariates <- luad_run_data$alteration.class\n",
    "sample_covariates<-luad_run_data$sample.class[luad_samples]"
   ]
  },
  {
   "cell_type": "code",
   "execution_count": 14,
   "id": "db1faddd-84b2-4eb3-a6b3-91055f5a46d5",
   "metadata": {},
   "outputs": [],
   "source": [
    "run_data <- list('M'=data,'sample.class' = sample_covariates,'alteration.class' = alteration_covariates)"
   ]
  },
  {
   "cell_type": "code",
   "execution_count": 15,
   "id": "6dbc3bf2-1731-4e7f-b03c-3551a54221db",
   "metadata": {},
   "outputs": [
    {
     "name": "stdout",
     "output_type": "stream",
     "text": [
      "List of 3\n",
      " $ M               :List of 2\n",
      "  ..$ M  :List of 1\n",
      "  .. ..$ mut: num [1:396, 1:502] 0 0 0 0 0 0 0 0 0 0 ...\n",
      "  .. .. ..- attr(*, \"dimnames\")=List of 2\n",
      "  .. .. .. ..$ : chr [1:396] \"AKT1\" \"ALK\" \"APC\" \"AR\" ...\n",
      "  .. .. .. ..$ : chr [1:502] \"TCGA-05-4244-01\" \"TCGA-05-4249-01\" \"TCGA-05-4250-01\" \"TCGA-05-4382-01\" ...\n",
      "  ..$ tmb:List of 1\n",
      "  .. ..$ mut:'data.frame':\t9082 obs. of  2 variables:\n",
      "  .. .. ..$ sample  : chr [1:9082] \"TCGA-02-0047-01\" \"TCGA-02-0055-01\" \"TCGA-AB-2805-03\" \"TCGA-AB-2806-03\" ...\n",
      "  .. .. ..$ mutation: num [1:9082] 63 50 57 507 261 771 17 11 20 10 ...\n",
      " $ sample.class    : Named chr [1:502] \"LUAD\" \"LUAD\" \"LUAD\" \"LUAD\" ...\n",
      "  ..- attr(*, \"names\")= chr [1:502] \"TCGA-05-4244-01\" \"TCGA-05-4249-01\" \"TCGA-05-4250-01\" \"TCGA-05-4382-01\" ...\n",
      " $ alteration.class: Named chr [1:396] \"MUT\" \"MUT\" \"MUT\" \"MUT\" ...\n",
      "  ..- attr(*, \"names\")= chr [1:396] \"AKT1\" \"ALK\" \"APC\" \"AR\" ...\n"
     ]
    }
   ],
   "source": [
    "str(run_data)"
   ]
  },
  {
   "cell_type": "code",
   "execution_count": null,
   "id": "9cb44d64-4497-4875-b48c-402711bf2e97",
   "metadata": {},
   "outputs": [],
   "source": [
    "test<-SelectSim::selectX(  M = run_data$M,\n",
    "                sample.class = run_data$sample.class,\n",
    "                alteration.class = run_data$alteration.class,\n",
    "                n.cores = 20,\n",
    "                min.freq = (0.001*502),\n",
    "                n.permut = 1000,\n",
    "                lambda = 0.3,\n",
    "                tao = 1,\n",
    "                save.object = FALSE,\n",
    "                verbose = FALSE,\n",
    "                estimate_pairwise = FALSE,\n",
    "                maxFDR = 0.25)"
   ]
  },
  {
   "cell_type": "code",
   "execution_count": 16,
   "id": "194231a2-dacf-4067-a916-a87cbcce863d",
   "metadata": {},
   "outputs": [
    {
     "data": {
      "text/html": [
       "<style>\n",
       ".list-inline {list-style: none; margin:0; padding: 0}\n",
       ".list-inline>li {display: inline-block}\n",
       ".list-inline>li:not(:last-child)::after {content: \"\\00b7\"; padding: 0 .5ex}\n",
       "</style>\n",
       "<ol class=list-inline><li>36046</li><li>22</li></ol>\n"
      ],
      "text/latex": [
       "\\begin{enumerate*}\n",
       "\\item 36046\n",
       "\\item 22\n",
       "\\end{enumerate*}\n"
      ],
      "text/markdown": [
       "1. 36046\n",
       "2. 22\n",
       "\n",
       "\n"
      ],
      "text/plain": [
       "[1] 36046    22"
      ]
     },
     "metadata": {},
     "output_type": "display_data"
    }
   ],
   "source": [
    "dim(test$result)"
   ]
  },
  {
   "cell_type": "code",
   "execution_count": 17,
   "id": "8cb3cf35-14fd-4b6e-9723-285cddf78c73",
   "metadata": {},
   "outputs": [
    {
     "data": {
      "text/html": [
       "<table class=\"dataframe\">\n",
       "<caption>A data.frame: 2 × 2</caption>\n",
       "<thead>\n",
       "\t<tr><th scope=col>type</th><th scope=col>n</th></tr>\n",
       "\t<tr><th scope=col>&lt;chr&gt;</th><th scope=col>&lt;int&gt;</th></tr>\n",
       "</thead>\n",
       "<tbody>\n",
       "\t<tr><td>CO</td><td>12</td></tr>\n",
       "\t<tr><td>ME</td><td>48</td></tr>\n",
       "</tbody>\n",
       "</table>\n"
      ],
      "text/latex": [
       "A data.frame: 2 × 2\n",
       "\\begin{tabular}{ll}\n",
       " type & n\\\\\n",
       " <chr> & <int>\\\\\n",
       "\\hline\n",
       "\t CO & 12\\\\\n",
       "\t ME & 48\\\\\n",
       "\\end{tabular}\n"
      ],
      "text/markdown": [
       "\n",
       "A data.frame: 2 × 2\n",
       "\n",
       "| type &lt;chr&gt; | n &lt;int&gt; |\n",
       "|---|---|\n",
       "| CO | 12 |\n",
       "| ME | 48 |\n",
       "\n"
      ],
      "text/plain": [
       "  type n \n",
       "1 CO   12\n",
       "2 ME   48"
      ]
     },
     "metadata": {},
     "output_type": "display_data"
    }
   ],
   "source": [
    "test$result %>% filter(FDR) %>% dplyr::count(type)"
   ]
  },
  {
   "cell_type": "code",
   "execution_count": 18,
   "id": "3147f7cd-8344-4cae-9199-5c2bc7f85a1a",
   "metadata": {},
   "outputs": [],
   "source": [
    "selectX_obj <- test$obj\n",
    "selectX_result <- test$result"
   ]
  },
  {
   "cell_type": "code",
   "execution_count": 19,
   "id": "b437785f-3399-488f-9e00-33bde9640adf",
   "metadata": {},
   "outputs": [],
   "source": [
    "saveRDS(selectX_result,file='tcga_luad_result_v4.rds')\n",
    "saveRDS(selectX_obj,file='tcga_luad_obj_v4.rds')"
   ]
  },
  {
   "cell_type": "code",
   "execution_count": 20,
   "id": "d734cae4-c9c8-4572-b632-7ed3c09b2983",
   "metadata": {},
   "outputs": [
    {
     "data": {
      "text/html": [
       "<style>\n",
       ".list-inline {list-style: none; margin:0; padding: 0}\n",
       ".list-inline>li {display: inline-block}\n",
       ".list-inline>li:not(:last-child)::after {content: \"\\00b7\"; padding: 0 .5ex}\n",
       "</style>\n",
       "<ol class=list-inline><li>396</li><li>502</li></ol>\n"
      ],
      "text/latex": [
       "\\begin{enumerate*}\n",
       "\\item 396\n",
       "\\item 502\n",
       "\\end{enumerate*}\n"
      ],
      "text/markdown": [
       "1. 396\n",
       "2. 502\n",
       "\n",
       "\n"
      ],
      "text/plain": [
       "[1] 396 502"
      ]
     },
     "metadata": {},
     "output_type": "display_data"
    }
   ],
   "source": [
    "dim(gam)"
   ]
  },
  {
   "cell_type": "markdown",
   "id": "3fab624f-b9f6-4b10-93fe-5012ffe0665d",
   "metadata": {},
   "source": [
    "# Discover Run"
   ]
  },
  {
   "cell_type": "code",
   "execution_count": 16,
   "id": "15409b02-7eb0-4914-9174-ce76632b7fa0",
   "metadata": {},
   "outputs": [],
   "source": [
    "global_gam <- gam"
   ]
  },
  {
   "cell_type": "code",
   "execution_count": 17,
   "id": "d2e839c0-8d2b-4762-92cf-a11ea36ee34c",
   "metadata": {},
   "outputs": [
    {
     "data": {
      "text/html": [
       "<table class=\"dataframe\">\n",
       "<caption>A matrix: 6 × 502 of type dbl</caption>\n",
       "<thead>\n",
       "\t<tr><th></th><th scope=col>TCGA-05-4244-01</th><th scope=col>TCGA-05-4249-01</th><th scope=col>TCGA-05-4250-01</th><th scope=col>TCGA-05-4382-01</th><th scope=col>TCGA-05-4384-01</th><th scope=col>TCGA-05-4389-01</th><th scope=col>TCGA-05-4390-01</th><th scope=col>TCGA-05-4395-01</th><th scope=col>TCGA-05-4396-01</th><th scope=col>TCGA-05-4397-01</th><th scope=col>⋯</th><th scope=col>TCGA-MP-A4T6-01</th><th scope=col>TCGA-MP-A4TC-01</th><th scope=col>TCGA-MP-A4TH-01</th><th scope=col>TCGA-MP-A4TJ-01</th><th scope=col>TCGA-MP-A5C7-01</th><th scope=col>TCGA-NJ-A4YF-01</th><th scope=col>TCGA-NJ-A55A-01</th><th scope=col>TCGA-NJ-A7XG-01</th><th scope=col>TCGA-O1-A52J-01</th><th scope=col>TCGA-S2-AA1A-01</th></tr>\n",
       "</thead>\n",
       "<tbody>\n",
       "\t<tr><th scope=row>AKT1</th><td>0</td><td>0</td><td>0</td><td>0</td><td>0</td><td>0</td><td>0</td><td>0</td><td>0</td><td>0</td><td>⋯</td><td>0</td><td>0</td><td>0</td><td>0</td><td>0</td><td>0</td><td>0</td><td>0</td><td>0</td><td>0</td></tr>\n",
       "\t<tr><th scope=row>ALK</th><td>0</td><td>0</td><td>0</td><td>0</td><td>0</td><td>0</td><td>0</td><td>0</td><td>0</td><td>0</td><td>⋯</td><td>0</td><td>0</td><td>0</td><td>0</td><td>0</td><td>0</td><td>0</td><td>0</td><td>0</td><td>0</td></tr>\n",
       "\t<tr><th scope=row>APC</th><td>0</td><td>0</td><td>0</td><td>0</td><td>0</td><td>0</td><td>0</td><td>0</td><td>0</td><td>0</td><td>⋯</td><td>0</td><td>0</td><td>0</td><td>0</td><td>1</td><td>0</td><td>0</td><td>0</td><td>0</td><td>0</td></tr>\n",
       "\t<tr><th scope=row>AR</th><td>0</td><td>0</td><td>0</td><td>0</td><td>0</td><td>0</td><td>0</td><td>0</td><td>0</td><td>0</td><td>⋯</td><td>0</td><td>0</td><td>0</td><td>0</td><td>0</td><td>0</td><td>0</td><td>0</td><td>0</td><td>0</td></tr>\n",
       "\t<tr><th scope=row>ATM</th><td>0</td><td>0</td><td>0</td><td>1</td><td>0</td><td>0</td><td>1</td><td>0</td><td>0</td><td>0</td><td>⋯</td><td>0</td><td>0</td><td>0</td><td>1</td><td>0</td><td>0</td><td>0</td><td>0</td><td>0</td><td>0</td></tr>\n",
       "\t<tr><th scope=row>BAP1</th><td>0</td><td>0</td><td>0</td><td>0</td><td>0</td><td>0</td><td>0</td><td>0</td><td>0</td><td>0</td><td>⋯</td><td>0</td><td>0</td><td>0</td><td>0</td><td>0</td><td>0</td><td>0</td><td>0</td><td>0</td><td>0</td></tr>\n",
       "</tbody>\n",
       "</table>\n"
      ],
      "text/latex": [
       "A matrix: 6 × 502 of type dbl\n",
       "\\begin{tabular}{r|lllllllllllllllllllll}\n",
       "  & TCGA-05-4244-01 & TCGA-05-4249-01 & TCGA-05-4250-01 & TCGA-05-4382-01 & TCGA-05-4384-01 & TCGA-05-4389-01 & TCGA-05-4390-01 & TCGA-05-4395-01 & TCGA-05-4396-01 & TCGA-05-4397-01 & ⋯ & TCGA-MP-A4T6-01 & TCGA-MP-A4TC-01 & TCGA-MP-A4TH-01 & TCGA-MP-A4TJ-01 & TCGA-MP-A5C7-01 & TCGA-NJ-A4YF-01 & TCGA-NJ-A55A-01 & TCGA-NJ-A7XG-01 & TCGA-O1-A52J-01 & TCGA-S2-AA1A-01\\\\\n",
       "\\hline\n",
       "\tAKT1 & 0 & 0 & 0 & 0 & 0 & 0 & 0 & 0 & 0 & 0 & ⋯ & 0 & 0 & 0 & 0 & 0 & 0 & 0 & 0 & 0 & 0\\\\\n",
       "\tALK & 0 & 0 & 0 & 0 & 0 & 0 & 0 & 0 & 0 & 0 & ⋯ & 0 & 0 & 0 & 0 & 0 & 0 & 0 & 0 & 0 & 0\\\\\n",
       "\tAPC & 0 & 0 & 0 & 0 & 0 & 0 & 0 & 0 & 0 & 0 & ⋯ & 0 & 0 & 0 & 0 & 1 & 0 & 0 & 0 & 0 & 0\\\\\n",
       "\tAR & 0 & 0 & 0 & 0 & 0 & 0 & 0 & 0 & 0 & 0 & ⋯ & 0 & 0 & 0 & 0 & 0 & 0 & 0 & 0 & 0 & 0\\\\\n",
       "\tATM & 0 & 0 & 0 & 1 & 0 & 0 & 1 & 0 & 0 & 0 & ⋯ & 0 & 0 & 0 & 1 & 0 & 0 & 0 & 0 & 0 & 0\\\\\n",
       "\tBAP1 & 0 & 0 & 0 & 0 & 0 & 0 & 0 & 0 & 0 & 0 & ⋯ & 0 & 0 & 0 & 0 & 0 & 0 & 0 & 0 & 0 & 0\\\\\n",
       "\\end{tabular}\n"
      ],
      "text/markdown": [
       "\n",
       "A matrix: 6 × 502 of type dbl\n",
       "\n",
       "| <!--/--> | TCGA-05-4244-01 | TCGA-05-4249-01 | TCGA-05-4250-01 | TCGA-05-4382-01 | TCGA-05-4384-01 | TCGA-05-4389-01 | TCGA-05-4390-01 | TCGA-05-4395-01 | TCGA-05-4396-01 | TCGA-05-4397-01 | ⋯ | TCGA-MP-A4T6-01 | TCGA-MP-A4TC-01 | TCGA-MP-A4TH-01 | TCGA-MP-A4TJ-01 | TCGA-MP-A5C7-01 | TCGA-NJ-A4YF-01 | TCGA-NJ-A55A-01 | TCGA-NJ-A7XG-01 | TCGA-O1-A52J-01 | TCGA-S2-AA1A-01 |\n",
       "|---|---|---|---|---|---|---|---|---|---|---|---|---|---|---|---|---|---|---|---|---|---|\n",
       "| AKT1 | 0 | 0 | 0 | 0 | 0 | 0 | 0 | 0 | 0 | 0 | ⋯ | 0 | 0 | 0 | 0 | 0 | 0 | 0 | 0 | 0 | 0 |\n",
       "| ALK | 0 | 0 | 0 | 0 | 0 | 0 | 0 | 0 | 0 | 0 | ⋯ | 0 | 0 | 0 | 0 | 0 | 0 | 0 | 0 | 0 | 0 |\n",
       "| APC | 0 | 0 | 0 | 0 | 0 | 0 | 0 | 0 | 0 | 0 | ⋯ | 0 | 0 | 0 | 0 | 1 | 0 | 0 | 0 | 0 | 0 |\n",
       "| AR | 0 | 0 | 0 | 0 | 0 | 0 | 0 | 0 | 0 | 0 | ⋯ | 0 | 0 | 0 | 0 | 0 | 0 | 0 | 0 | 0 | 0 |\n",
       "| ATM | 0 | 0 | 0 | 1 | 0 | 0 | 1 | 0 | 0 | 0 | ⋯ | 0 | 0 | 0 | 1 | 0 | 0 | 0 | 0 | 0 | 0 |\n",
       "| BAP1 | 0 | 0 | 0 | 0 | 0 | 0 | 0 | 0 | 0 | 0 | ⋯ | 0 | 0 | 0 | 0 | 0 | 0 | 0 | 0 | 0 | 0 |\n",
       "\n"
      ],
      "text/plain": [
       "     TCGA-05-4244-01 TCGA-05-4249-01 TCGA-05-4250-01 TCGA-05-4382-01\n",
       "AKT1 0               0               0               0              \n",
       "ALK  0               0               0               0              \n",
       "APC  0               0               0               0              \n",
       "AR   0               0               0               0              \n",
       "ATM  0               0               0               1              \n",
       "BAP1 0               0               0               0              \n",
       "     TCGA-05-4384-01 TCGA-05-4389-01 TCGA-05-4390-01 TCGA-05-4395-01\n",
       "AKT1 0               0               0               0              \n",
       "ALK  0               0               0               0              \n",
       "APC  0               0               0               0              \n",
       "AR   0               0               0               0              \n",
       "ATM  0               0               1               0              \n",
       "BAP1 0               0               0               0              \n",
       "     TCGA-05-4396-01 TCGA-05-4397-01 ⋯ TCGA-MP-A4T6-01 TCGA-MP-A4TC-01\n",
       "AKT1 0               0               ⋯ 0               0              \n",
       "ALK  0               0               ⋯ 0               0              \n",
       "APC  0               0               ⋯ 0               0              \n",
       "AR   0               0               ⋯ 0               0              \n",
       "ATM  0               0               ⋯ 0               0              \n",
       "BAP1 0               0               ⋯ 0               0              \n",
       "     TCGA-MP-A4TH-01 TCGA-MP-A4TJ-01 TCGA-MP-A5C7-01 TCGA-NJ-A4YF-01\n",
       "AKT1 0               0               0               0              \n",
       "ALK  0               0               0               0              \n",
       "APC  0               0               1               0              \n",
       "AR   0               0               0               0              \n",
       "ATM  0               1               0               0              \n",
       "BAP1 0               0               0               0              \n",
       "     TCGA-NJ-A55A-01 TCGA-NJ-A7XG-01 TCGA-O1-A52J-01 TCGA-S2-AA1A-01\n",
       "AKT1 0               0               0               0              \n",
       "ALK  0               0               0               0              \n",
       "APC  0               0               0               0              \n",
       "AR   0               0               0               0              \n",
       "ATM  0               0               0               0              \n",
       "BAP1 0               0               0               0              "
      ]
     },
     "metadata": {},
     "output_type": "display_data"
    }
   ],
   "source": [
    "head(global_gam)"
   ]
  },
  {
   "cell_type": "code",
   "execution_count": 18,
   "id": "ca9ab16d-8753-4b73-b437-7a8f74682c64",
   "metadata": {},
   "outputs": [],
   "source": [
    "gam_discover <-discover.matrix(global_gam)"
   ]
  },
  {
   "cell_type": "code",
   "execution_count": 19,
   "id": "6e832e0b-c26a-46d4-bdfa-586948fa71e5",
   "metadata": {
    "scrolled": true
   },
   "outputs": [
    {
     "data": {
      "text/html": [
       "<table class=\"dataframe\">\n",
       "<caption>A matrix: 6 × 502 of type dbl</caption>\n",
       "<thead>\n",
       "\t<tr><th></th><th scope=col>TCGA-05-4244-01</th><th scope=col>TCGA-05-4249-01</th><th scope=col>TCGA-05-4250-01</th><th scope=col>TCGA-05-4382-01</th><th scope=col>TCGA-05-4384-01</th><th scope=col>TCGA-05-4389-01</th><th scope=col>TCGA-05-4390-01</th><th scope=col>TCGA-05-4395-01</th><th scope=col>TCGA-05-4396-01</th><th scope=col>TCGA-05-4397-01</th><th scope=col>⋯</th><th scope=col>TCGA-MP-A4T6-01</th><th scope=col>TCGA-MP-A4TC-01</th><th scope=col>TCGA-MP-A4TH-01</th><th scope=col>TCGA-MP-A4TJ-01</th><th scope=col>TCGA-MP-A5C7-01</th><th scope=col>TCGA-NJ-A4YF-01</th><th scope=col>TCGA-NJ-A55A-01</th><th scope=col>TCGA-NJ-A7XG-01</th><th scope=col>TCGA-O1-A52J-01</th><th scope=col>TCGA-S2-AA1A-01</th></tr>\n",
       "</thead>\n",
       "<tbody>\n",
       "\t<tr><th scope=row>AKT1</th><td>0.005638681</td><td>0.005638681</td><td>0.005638681</td><td>0.02965670</td><td>0.005638681</td><td>0.003549741</td><td>0.010278638</td><td>0.005638681</td><td>0.012783997</td><td>0.010278638</td><td>⋯</td><td>0.001657051</td><td>0.005638681</td><td>1.513182e-15</td><td>0.001657051</td><td>0.003549741</td><td>0.005638681</td><td>0.001657051</td><td>1.513182e-15</td><td>0.001657051</td><td>1.513182e-15</td></tr>\n",
       "\t<tr><th scope=row>ALK</th><td>0.011321828</td><td>0.011321828</td><td>0.011321828</td><td>0.05813206</td><td>0.011321828</td><td>0.007142598</td><td>0.020541723</td><td>0.011321828</td><td>0.025484237</td><td>0.020541723</td><td>⋯</td><td>0.003340651</td><td>0.011321828</td><td>3.055761e-15</td><td>0.003340651</td><td>0.007142598</td><td>0.011321828</td><td>0.003340651</td><td>3.055761e-15</td><td>0.003340651</td><td>3.055761e-15</td></tr>\n",
       "\t<tr><th scope=row>APC</th><td>0.018967366</td><td>0.018967366</td><td>0.018967366</td><td>0.09437089</td><td>0.018967366</td><td>0.012000191</td><td>0.034198023</td><td>0.018967366</td><td>0.042284506</td><td>0.034198023</td><td>⋯</td><td>0.005627241</td><td>0.018967366</td><td>5.159187e-15</td><td>0.005627241</td><td>0.012000191</td><td>0.018967366</td><td>0.005627241</td><td>5.159187e-15</td><td>0.005627241</td><td>5.159187e-15</td></tr>\n",
       "\t<tr><th scope=row>AR</th><td>0.003754147</td><td>0.003754147</td><td>0.003754147</td><td>0.01990567</td><td>0.003754147</td><td>0.002361705</td><td>0.006854048</td><td>0.003754147</td><td>0.008531879</td><td>0.006854048</td><td>⋯</td><td>0.001101764</td><td>0.003754147</td><td>1.005547e-15</td><td>0.001101764</td><td>0.002361705</td><td>0.003754147</td><td>0.001101764</td><td>1.005547e-15</td><td>0.001101764</td><td>1.005547e-15</td></tr>\n",
       "\t<tr><th scope=row>ATM</th><td>0.042355560</td><td>0.042355560</td><td>0.042355560</td><td>0.19249357</td><td>0.042355560</td><td>0.027034074</td><td>0.074932289</td><td>0.042355560</td><td>0.091735925</td><td>0.074932289</td><td>⋯</td><td>0.012780347</td><td>0.042355560</td><td>1.180222e-14</td><td>0.012780347</td><td>0.027034074</td><td>0.042355560</td><td>0.012780347</td><td>1.180222e-14</td><td>0.012780347</td><td>1.180222e-14</td></tr>\n",
       "\t<tr><th scope=row>BAP1</th><td>0.007528155</td><td>0.007528155</td><td>0.007528155</td><td>0.03927651</td><td>0.007528155</td><td>0.004742568</td><td>0.013701499</td><td>0.007528155</td><td>0.017026807</td><td>0.013701499</td><td>⋯</td><td>0.002215287</td><td>0.007528155</td><td>2.024082e-15</td><td>0.002215287</td><td>0.004742568</td><td>0.007528155</td><td>0.002215287</td><td>2.024082e-15</td><td>0.002215287</td><td>2.024082e-15</td></tr>\n",
       "</tbody>\n",
       "</table>\n"
      ],
      "text/latex": [
       "A matrix: 6 × 502 of type dbl\n",
       "\\begin{tabular}{r|lllllllllllllllllllll}\n",
       "  & TCGA-05-4244-01 & TCGA-05-4249-01 & TCGA-05-4250-01 & TCGA-05-4382-01 & TCGA-05-4384-01 & TCGA-05-4389-01 & TCGA-05-4390-01 & TCGA-05-4395-01 & TCGA-05-4396-01 & TCGA-05-4397-01 & ⋯ & TCGA-MP-A4T6-01 & TCGA-MP-A4TC-01 & TCGA-MP-A4TH-01 & TCGA-MP-A4TJ-01 & TCGA-MP-A5C7-01 & TCGA-NJ-A4YF-01 & TCGA-NJ-A55A-01 & TCGA-NJ-A7XG-01 & TCGA-O1-A52J-01 & TCGA-S2-AA1A-01\\\\\n",
       "\\hline\n",
       "\tAKT1 & 0.005638681 & 0.005638681 & 0.005638681 & 0.02965670 & 0.005638681 & 0.003549741 & 0.010278638 & 0.005638681 & 0.012783997 & 0.010278638 & ⋯ & 0.001657051 & 0.005638681 & 1.513182e-15 & 0.001657051 & 0.003549741 & 0.005638681 & 0.001657051 & 1.513182e-15 & 0.001657051 & 1.513182e-15\\\\\n",
       "\tALK & 0.011321828 & 0.011321828 & 0.011321828 & 0.05813206 & 0.011321828 & 0.007142598 & 0.020541723 & 0.011321828 & 0.025484237 & 0.020541723 & ⋯ & 0.003340651 & 0.011321828 & 3.055761e-15 & 0.003340651 & 0.007142598 & 0.011321828 & 0.003340651 & 3.055761e-15 & 0.003340651 & 3.055761e-15\\\\\n",
       "\tAPC & 0.018967366 & 0.018967366 & 0.018967366 & 0.09437089 & 0.018967366 & 0.012000191 & 0.034198023 & 0.018967366 & 0.042284506 & 0.034198023 & ⋯ & 0.005627241 & 0.018967366 & 5.159187e-15 & 0.005627241 & 0.012000191 & 0.018967366 & 0.005627241 & 5.159187e-15 & 0.005627241 & 5.159187e-15\\\\\n",
       "\tAR & 0.003754147 & 0.003754147 & 0.003754147 & 0.01990567 & 0.003754147 & 0.002361705 & 0.006854048 & 0.003754147 & 0.008531879 & 0.006854048 & ⋯ & 0.001101764 & 0.003754147 & 1.005547e-15 & 0.001101764 & 0.002361705 & 0.003754147 & 0.001101764 & 1.005547e-15 & 0.001101764 & 1.005547e-15\\\\\n",
       "\tATM & 0.042355560 & 0.042355560 & 0.042355560 & 0.19249357 & 0.042355560 & 0.027034074 & 0.074932289 & 0.042355560 & 0.091735925 & 0.074932289 & ⋯ & 0.012780347 & 0.042355560 & 1.180222e-14 & 0.012780347 & 0.027034074 & 0.042355560 & 0.012780347 & 1.180222e-14 & 0.012780347 & 1.180222e-14\\\\\n",
       "\tBAP1 & 0.007528155 & 0.007528155 & 0.007528155 & 0.03927651 & 0.007528155 & 0.004742568 & 0.013701499 & 0.007528155 & 0.017026807 & 0.013701499 & ⋯ & 0.002215287 & 0.007528155 & 2.024082e-15 & 0.002215287 & 0.004742568 & 0.007528155 & 0.002215287 & 2.024082e-15 & 0.002215287 & 2.024082e-15\\\\\n",
       "\\end{tabular}\n"
      ],
      "text/markdown": [
       "\n",
       "A matrix: 6 × 502 of type dbl\n",
       "\n",
       "| <!--/--> | TCGA-05-4244-01 | TCGA-05-4249-01 | TCGA-05-4250-01 | TCGA-05-4382-01 | TCGA-05-4384-01 | TCGA-05-4389-01 | TCGA-05-4390-01 | TCGA-05-4395-01 | TCGA-05-4396-01 | TCGA-05-4397-01 | ⋯ | TCGA-MP-A4T6-01 | TCGA-MP-A4TC-01 | TCGA-MP-A4TH-01 | TCGA-MP-A4TJ-01 | TCGA-MP-A5C7-01 | TCGA-NJ-A4YF-01 | TCGA-NJ-A55A-01 | TCGA-NJ-A7XG-01 | TCGA-O1-A52J-01 | TCGA-S2-AA1A-01 |\n",
       "|---|---|---|---|---|---|---|---|---|---|---|---|---|---|---|---|---|---|---|---|---|---|\n",
       "| AKT1 | 0.005638681 | 0.005638681 | 0.005638681 | 0.02965670 | 0.005638681 | 0.003549741 | 0.010278638 | 0.005638681 | 0.012783997 | 0.010278638 | ⋯ | 0.001657051 | 0.005638681 | 1.513182e-15 | 0.001657051 | 0.003549741 | 0.005638681 | 0.001657051 | 1.513182e-15 | 0.001657051 | 1.513182e-15 |\n",
       "| ALK | 0.011321828 | 0.011321828 | 0.011321828 | 0.05813206 | 0.011321828 | 0.007142598 | 0.020541723 | 0.011321828 | 0.025484237 | 0.020541723 | ⋯ | 0.003340651 | 0.011321828 | 3.055761e-15 | 0.003340651 | 0.007142598 | 0.011321828 | 0.003340651 | 3.055761e-15 | 0.003340651 | 3.055761e-15 |\n",
       "| APC | 0.018967366 | 0.018967366 | 0.018967366 | 0.09437089 | 0.018967366 | 0.012000191 | 0.034198023 | 0.018967366 | 0.042284506 | 0.034198023 | ⋯ | 0.005627241 | 0.018967366 | 5.159187e-15 | 0.005627241 | 0.012000191 | 0.018967366 | 0.005627241 | 5.159187e-15 | 0.005627241 | 5.159187e-15 |\n",
       "| AR | 0.003754147 | 0.003754147 | 0.003754147 | 0.01990567 | 0.003754147 | 0.002361705 | 0.006854048 | 0.003754147 | 0.008531879 | 0.006854048 | ⋯ | 0.001101764 | 0.003754147 | 1.005547e-15 | 0.001101764 | 0.002361705 | 0.003754147 | 0.001101764 | 1.005547e-15 | 0.001101764 | 1.005547e-15 |\n",
       "| ATM | 0.042355560 | 0.042355560 | 0.042355560 | 0.19249357 | 0.042355560 | 0.027034074 | 0.074932289 | 0.042355560 | 0.091735925 | 0.074932289 | ⋯ | 0.012780347 | 0.042355560 | 1.180222e-14 | 0.012780347 | 0.027034074 | 0.042355560 | 0.012780347 | 1.180222e-14 | 0.012780347 | 1.180222e-14 |\n",
       "| BAP1 | 0.007528155 | 0.007528155 | 0.007528155 | 0.03927651 | 0.007528155 | 0.004742568 | 0.013701499 | 0.007528155 | 0.017026807 | 0.013701499 | ⋯ | 0.002215287 | 0.007528155 | 2.024082e-15 | 0.002215287 | 0.004742568 | 0.007528155 | 0.002215287 | 2.024082e-15 | 0.002215287 | 2.024082e-15 |\n",
       "\n"
      ],
      "text/plain": [
       "     TCGA-05-4244-01 TCGA-05-4249-01 TCGA-05-4250-01 TCGA-05-4382-01\n",
       "AKT1 0.005638681     0.005638681     0.005638681     0.02965670     \n",
       "ALK  0.011321828     0.011321828     0.011321828     0.05813206     \n",
       "APC  0.018967366     0.018967366     0.018967366     0.09437089     \n",
       "AR   0.003754147     0.003754147     0.003754147     0.01990567     \n",
       "ATM  0.042355560     0.042355560     0.042355560     0.19249357     \n",
       "BAP1 0.007528155     0.007528155     0.007528155     0.03927651     \n",
       "     TCGA-05-4384-01 TCGA-05-4389-01 TCGA-05-4390-01 TCGA-05-4395-01\n",
       "AKT1 0.005638681     0.003549741     0.010278638     0.005638681    \n",
       "ALK  0.011321828     0.007142598     0.020541723     0.011321828    \n",
       "APC  0.018967366     0.012000191     0.034198023     0.018967366    \n",
       "AR   0.003754147     0.002361705     0.006854048     0.003754147    \n",
       "ATM  0.042355560     0.027034074     0.074932289     0.042355560    \n",
       "BAP1 0.007528155     0.004742568     0.013701499     0.007528155    \n",
       "     TCGA-05-4396-01 TCGA-05-4397-01 ⋯ TCGA-MP-A4T6-01 TCGA-MP-A4TC-01\n",
       "AKT1 0.012783997     0.010278638     ⋯ 0.001657051     0.005638681    \n",
       "ALK  0.025484237     0.020541723     ⋯ 0.003340651     0.011321828    \n",
       "APC  0.042284506     0.034198023     ⋯ 0.005627241     0.018967366    \n",
       "AR   0.008531879     0.006854048     ⋯ 0.001101764     0.003754147    \n",
       "ATM  0.091735925     0.074932289     ⋯ 0.012780347     0.042355560    \n",
       "BAP1 0.017026807     0.013701499     ⋯ 0.002215287     0.007528155    \n",
       "     TCGA-MP-A4TH-01 TCGA-MP-A4TJ-01 TCGA-MP-A5C7-01 TCGA-NJ-A4YF-01\n",
       "AKT1 1.513182e-15    0.001657051     0.003549741     0.005638681    \n",
       "ALK  3.055761e-15    0.003340651     0.007142598     0.011321828    \n",
       "APC  5.159187e-15    0.005627241     0.012000191     0.018967366    \n",
       "AR   1.005547e-15    0.001101764     0.002361705     0.003754147    \n",
       "ATM  1.180222e-14    0.012780347     0.027034074     0.042355560    \n",
       "BAP1 2.024082e-15    0.002215287     0.004742568     0.007528155    \n",
       "     TCGA-NJ-A55A-01 TCGA-NJ-A7XG-01 TCGA-O1-A52J-01 TCGA-S2-AA1A-01\n",
       "AKT1 0.001657051     1.513182e-15    0.001657051     1.513182e-15   \n",
       "ALK  0.003340651     3.055761e-15    0.003340651     3.055761e-15   \n",
       "APC  0.005627241     5.159187e-15    0.005627241     5.159187e-15   \n",
       "AR   0.001101764     1.005547e-15    0.001101764     1.005547e-15   \n",
       "ATM  0.012780347     1.180222e-14    0.012780347     1.180222e-14   \n",
       "BAP1 0.002215287     2.024082e-15    0.002215287     2.024082e-15   "
      ]
     },
     "metadata": {},
     "output_type": "display_data"
    }
   ],
   "source": [
    "head(gam_discover$bg)"
   ]
  },
  {
   "cell_type": "code",
   "execution_count": 21,
   "id": "2f60a93a-f7a5-48aa-b92b-5c60b8db5015",
   "metadata": {},
   "outputs": [
    {
     "data": {
      "text/html": [
       "269"
      ],
      "text/latex": [
       "269"
      ],
      "text/markdown": [
       "269"
      ],
      "text/plain": [
       "[1] 269"
      ]
     },
     "metadata": {},
     "output_type": "display_data"
    }
   ],
   "source": [
    "length(names(which(rowSums(gam)>0.5)))"
   ]
  },
  {
   "cell_type": "code",
   "execution_count": 22,
   "id": "267f5206-13cc-484a-8357-23fefc56e243",
   "metadata": {},
   "outputs": [],
   "source": [
    "substet <-  rowSums(global_gam)>0.5"
   ]
  },
  {
   "cell_type": "code",
   "execution_count": 23,
   "id": "8c7fd5ad-3bd7-4a28-a044-261e07e436dc",
   "metadata": {},
   "outputs": [],
   "source": [
    "result.mutex <- pairwise.discover.test(gam_discover[substet, ],fdr.method='DBH',alternative='less')\n",
    "result.co <- pairwise.discover.test(gam_discover[substet, ],fdr.method='DBH',alternative='greater')\n",
    "ME_discover <- as.data.frame(result.mutex,q.threshold=0.25) \n",
    "CO_discover <- as.data.frame(result.co,q.threshold=0.25) \n",
    "discover_result <- rbind(ME_discover,CO_discover)\n",
    "discover_result$type <- c(rep('ME',nrow(ME_discover)),rep('CO',nrow(CO_discover)))"
   ]
  },
  {
   "cell_type": "code",
   "execution_count": 24,
   "id": "bf403876-2f0a-4f32-8343-d0ab800def63",
   "metadata": {},
   "outputs": [
    {
     "data": {
      "text/html": [
       "<table class=\"dataframe\">\n",
       "<caption>A data.frame: 6 × 5</caption>\n",
       "<thead>\n",
       "\t<tr><th></th><th scope=col>gene1</th><th scope=col>gene2</th><th scope=col>p.value</th><th scope=col>q.value</th><th scope=col>type</th></tr>\n",
       "\t<tr><th></th><th scope=col>&lt;chr&gt;</th><th scope=col>&lt;chr&gt;</th><th scope=col>&lt;dbl&gt;</th><th scope=col>&lt;dbl&gt;</th><th scope=col>&lt;chr&gt;</th></tr>\n",
       "</thead>\n",
       "<tbody>\n",
       "\t<tr><th scope=row>9</th><td>KRAS   </td><td>EGFR </td><td>2.308348e-11</td><td>6.193387e-11</td><td>ME</td></tr>\n",
       "\t<tr><th scope=row>24</th><td>TP53   </td><td>KRAS </td><td>4.014858e-06</td><td>1.421706e-05</td><td>ME</td></tr>\n",
       "\t<tr><th scope=row>34</th><td>TP53   </td><td>STK11</td><td>3.049509e-05</td><td>9.946465e-05</td><td>ME</td></tr>\n",
       "\t<tr><th scope=row>4</th><td>KRAS   </td><td>BRAF </td><td>4.376552e-05</td><td>1.184953e-04</td><td>ME</td></tr>\n",
       "\t<tr><th scope=row>12</th><td>STK11  </td><td>EGFR </td><td>5.302269e-05</td><td>1.242593e-04</td><td>ME</td></tr>\n",
       "\t<tr><th scope=row>23</th><td>SMARCA4</td><td>KRAS </td><td>2.417597e-03</td><td>7.493644e-03</td><td>ME</td></tr>\n",
       "</tbody>\n",
       "</table>\n"
      ],
      "text/latex": [
       "A data.frame: 6 × 5\n",
       "\\begin{tabular}{r|lllll}\n",
       "  & gene1 & gene2 & p.value & q.value & type\\\\\n",
       "  & <chr> & <chr> & <dbl> & <dbl> & <chr>\\\\\n",
       "\\hline\n",
       "\t9 & KRAS    & EGFR  & 2.308348e-11 & 6.193387e-11 & ME\\\\\n",
       "\t24 & TP53    & KRAS  & 4.014858e-06 & 1.421706e-05 & ME\\\\\n",
       "\t34 & TP53    & STK11 & 3.049509e-05 & 9.946465e-05 & ME\\\\\n",
       "\t4 & KRAS    & BRAF  & 4.376552e-05 & 1.184953e-04 & ME\\\\\n",
       "\t12 & STK11   & EGFR  & 5.302269e-05 & 1.242593e-04 & ME\\\\\n",
       "\t23 & SMARCA4 & KRAS  & 2.417597e-03 & 7.493644e-03 & ME\\\\\n",
       "\\end{tabular}\n"
      ],
      "text/markdown": [
       "\n",
       "A data.frame: 6 × 5\n",
       "\n",
       "| <!--/--> | gene1 &lt;chr&gt; | gene2 &lt;chr&gt; | p.value &lt;dbl&gt; | q.value &lt;dbl&gt; | type &lt;chr&gt; |\n",
       "|---|---|---|---|---|---|\n",
       "| 9 | KRAS    | EGFR  | 2.308348e-11 | 6.193387e-11 | ME |\n",
       "| 24 | TP53    | KRAS  | 4.014858e-06 | 1.421706e-05 | ME |\n",
       "| 34 | TP53    | STK11 | 3.049509e-05 | 9.946465e-05 | ME |\n",
       "| 4 | KRAS    | BRAF  | 4.376552e-05 | 1.184953e-04 | ME |\n",
       "| 12 | STK11   | EGFR  | 5.302269e-05 | 1.242593e-04 | ME |\n",
       "| 23 | SMARCA4 | KRAS  | 2.417597e-03 | 7.493644e-03 | ME |\n",
       "\n"
      ],
      "text/plain": [
       "   gene1   gene2 p.value      q.value      type\n",
       "9  KRAS    EGFR  2.308348e-11 6.193387e-11 ME  \n",
       "24 TP53    KRAS  4.014858e-06 1.421706e-05 ME  \n",
       "34 TP53    STK11 3.049509e-05 9.946465e-05 ME  \n",
       "4  KRAS    BRAF  4.376552e-05 1.184953e-04 ME  \n",
       "12 STK11   EGFR  5.302269e-05 1.242593e-04 ME  \n",
       "23 SMARCA4 KRAS  2.417597e-03 7.493644e-03 ME  "
      ]
     },
     "metadata": {},
     "output_type": "display_data"
    }
   ],
   "source": [
    "head(discover_result)"
   ]
  },
  {
   "cell_type": "code",
   "execution_count": 25,
   "id": "65e841c2-2885-4990-b075-162ca91f4bef",
   "metadata": {},
   "outputs": [
    {
     "data": {
      "text/plain": [
       "Pairwise DISCOVER mutual exclusivity test\n",
       "alternative hypothesis: observed overlap is less than expected by chance\n",
       "FDR estimation method: discrete Benjamini-Hochberg\n",
       "\n",
       "number of pairs tested: 36046\n",
       "proportion of true null hypotheses: 0.9973936\n",
       "number of significant pairs at a maximum FDR of 0.01 : 7"
      ]
     },
     "metadata": {},
     "output_type": "display_data"
    }
   ],
   "source": [
    "result.mutex"
   ]
  },
  {
   "cell_type": "code",
   "execution_count": 26,
   "id": "d5a52ba4-c88f-4c08-8d74-d81ba8bd63ac",
   "metadata": {},
   "outputs": [
    {
     "data": {
      "text/plain": [
       "Pairwise DISCOVER co-occurrence test\n",
       "alternative hypothesis: observed overlap is greater than expected by chance\n",
       "FDR estimation method: discrete Benjamini-Hochberg\n",
       "\n",
       "number of pairs tested: 36046\n",
       "proportion of true null hypotheses: 1\n",
       "number of significant pairs at a maximum FDR of 0.01 : 0"
      ]
     },
     "metadata": {},
     "output_type": "display_data"
    }
   ],
   "source": [
    "result.co"
   ]
  },
  {
   "cell_type": "code",
   "execution_count": 27,
   "id": "92d97418-1d82-43fd-84a9-e3ed66b81130",
   "metadata": {
    "scrolled": true
   },
   "outputs": [
    {
     "data": {
      "text/html": [
       "<style>\n",
       ".list-inline {list-style: none; margin:0; padding: 0}\n",
       ".list-inline>li {display: inline-block}\n",
       ".list-inline>li:not(:last-child)::after {content: \"\\00b7\"; padding: 0 .5ex}\n",
       "</style>\n",
       "<ol class=list-inline><li>38</li><li>5</li></ol>\n"
      ],
      "text/latex": [
       "\\begin{enumerate*}\n",
       "\\item 38\n",
       "\\item 5\n",
       "\\end{enumerate*}\n"
      ],
      "text/markdown": [
       "1. 38\n",
       "2. 5\n",
       "\n",
       "\n"
      ],
      "text/plain": [
       "[1] 38  5"
      ]
     },
     "metadata": {},
     "output_type": "display_data"
    }
   ],
   "source": [
    "dim(discover_result)"
   ]
  },
  {
   "cell_type": "code",
   "execution_count": 28,
   "id": "5924b575-a5c0-4824-acfc-aba15b69dc10",
   "metadata": {},
   "outputs": [
    {
     "data": {
      "text/html": [
       "<table class=\"dataframe\">\n",
       "<caption>A data.frame: 6 × 5</caption>\n",
       "<thead>\n",
       "\t<tr><th></th><th scope=col>gene1</th><th scope=col>gene2</th><th scope=col>p.value</th><th scope=col>q.value</th><th scope=col>type</th></tr>\n",
       "\t<tr><th></th><th scope=col>&lt;chr&gt;</th><th scope=col>&lt;chr&gt;</th><th scope=col>&lt;dbl&gt;</th><th scope=col>&lt;dbl&gt;</th><th scope=col>&lt;chr&gt;</th></tr>\n",
       "</thead>\n",
       "<tbody>\n",
       "\t<tr><th scope=row>9</th><td>KRAS   </td><td>EGFR </td><td>2.308348e-11</td><td>6.193387e-11</td><td>ME</td></tr>\n",
       "\t<tr><th scope=row>24</th><td>TP53   </td><td>KRAS </td><td>4.014858e-06</td><td>1.421706e-05</td><td>ME</td></tr>\n",
       "\t<tr><th scope=row>34</th><td>TP53   </td><td>STK11</td><td>3.049509e-05</td><td>9.946465e-05</td><td>ME</td></tr>\n",
       "\t<tr><th scope=row>4</th><td>KRAS   </td><td>BRAF </td><td>4.376552e-05</td><td>1.184953e-04</td><td>ME</td></tr>\n",
       "\t<tr><th scope=row>12</th><td>STK11  </td><td>EGFR </td><td>5.302269e-05</td><td>1.242593e-04</td><td>ME</td></tr>\n",
       "\t<tr><th scope=row>23</th><td>SMARCA4</td><td>KRAS </td><td>2.417597e-03</td><td>7.493644e-03</td><td>ME</td></tr>\n",
       "</tbody>\n",
       "</table>\n"
      ],
      "text/latex": [
       "A data.frame: 6 × 5\n",
       "\\begin{tabular}{r|lllll}\n",
       "  & gene1 & gene2 & p.value & q.value & type\\\\\n",
       "  & <chr> & <chr> & <dbl> & <dbl> & <chr>\\\\\n",
       "\\hline\n",
       "\t9 & KRAS    & EGFR  & 2.308348e-11 & 6.193387e-11 & ME\\\\\n",
       "\t24 & TP53    & KRAS  & 4.014858e-06 & 1.421706e-05 & ME\\\\\n",
       "\t34 & TP53    & STK11 & 3.049509e-05 & 9.946465e-05 & ME\\\\\n",
       "\t4 & KRAS    & BRAF  & 4.376552e-05 & 1.184953e-04 & ME\\\\\n",
       "\t12 & STK11   & EGFR  & 5.302269e-05 & 1.242593e-04 & ME\\\\\n",
       "\t23 & SMARCA4 & KRAS  & 2.417597e-03 & 7.493644e-03 & ME\\\\\n",
       "\\end{tabular}\n"
      ],
      "text/markdown": [
       "\n",
       "A data.frame: 6 × 5\n",
       "\n",
       "| <!--/--> | gene1 &lt;chr&gt; | gene2 &lt;chr&gt; | p.value &lt;dbl&gt; | q.value &lt;dbl&gt; | type &lt;chr&gt; |\n",
       "|---|---|---|---|---|---|\n",
       "| 9 | KRAS    | EGFR  | 2.308348e-11 | 6.193387e-11 | ME |\n",
       "| 24 | TP53    | KRAS  | 4.014858e-06 | 1.421706e-05 | ME |\n",
       "| 34 | TP53    | STK11 | 3.049509e-05 | 9.946465e-05 | ME |\n",
       "| 4 | KRAS    | BRAF  | 4.376552e-05 | 1.184953e-04 | ME |\n",
       "| 12 | STK11   | EGFR  | 5.302269e-05 | 1.242593e-04 | ME |\n",
       "| 23 | SMARCA4 | KRAS  | 2.417597e-03 | 7.493644e-03 | ME |\n",
       "\n"
      ],
      "text/plain": [
       "   gene1   gene2 p.value      q.value      type\n",
       "9  KRAS    EGFR  2.308348e-11 6.193387e-11 ME  \n",
       "24 TP53    KRAS  4.014858e-06 1.421706e-05 ME  \n",
       "34 TP53    STK11 3.049509e-05 9.946465e-05 ME  \n",
       "4  KRAS    BRAF  4.376552e-05 1.184953e-04 ME  \n",
       "12 STK11   EGFR  5.302269e-05 1.242593e-04 ME  \n",
       "23 SMARCA4 KRAS  2.417597e-03 7.493644e-03 ME  "
      ]
     },
     "metadata": {},
     "output_type": "display_data"
    }
   ],
   "source": [
    "head(discover_result)"
   ]
  },
  {
   "cell_type": "code",
   "execution_count": 36,
   "id": "d9229073-74ae-49b2-8f18-b2d6c6146020",
   "metadata": {},
   "outputs": [],
   "source": [
    "saveRDS(gam_discover,file='discover_luad_obj_v4.rds')"
   ]
  },
  {
   "cell_type": "markdown",
   "id": "1a8f7cab-0975-44dc-a41b-3105cb5fd4a7",
   "metadata": {},
   "source": [
    "# Discover +"
   ]
  },
  {
   "cell_type": "code",
   "execution_count": 50,
   "id": "da1c8d2c-44a9-4eea-8535-edb787577333",
   "metadata": {
    "scrolled": true
   },
   "outputs": [
    {
     "name": "stdout",
     "output_type": "stream",
     "text": [
      "List of 5\n",
      " $ al  :List of 4\n",
      "  ..$ am         :List of 2\n",
      "  .. ..$ full: num [1:269, 1:502] 0 0 0 0 0 0 0 0 0 0 ...\n",
      "  .. .. ..- attr(*, \"dimnames\")=List of 2\n",
      "  .. .. .. ..$ : chr [1:269] \"AKT1\" \"ALK\" \"APC\" \"AR\" ...\n",
      "  .. .. .. ..$ : chr [1:502] \"TCGA-05-4244-01\" \"TCGA-05-4249-01\" \"TCGA-05-4250-01\" \"TCGA-05-4382-01\" ...\n",
      "  .. ..$ mut : num [1:269, 1:502] 0 0 0 0 0 0 0 0 0 0 ...\n",
      "  .. .. ..- attr(*, \"dimnames\")=List of 2\n",
      "  .. .. .. ..$ : chr [1:269] \"AKT1\" \"ALK\" \"APC\" \"AR\" ...\n",
      "  .. .. .. ..$ : chr [1:502] \"TCGA-05-4244-01\" \"TCGA-05-4249-01\" \"TCGA-05-4250-01\" \"TCGA-05-4382-01\" ...\n",
      "  ..$ alterations:List of 1\n",
      "  .. ..$ alteration.class: Named chr [1:396] \"MUT\" \"MUT\" \"MUT\" \"MUT\" ...\n",
      "  .. .. ..- attr(*, \"names\")= chr [1:396] \"AKT1\" \"ALK\" \"APC\" \"AR\" ...\n",
      "  ..$ samples    :List of 1\n",
      "  .. ..$ sample.class: Named chr [1:502] \"LUAD\" \"LUAD\" \"LUAD\" \"LUAD\" ...\n",
      "  .. .. ..- attr(*, \"names\")= chr [1:502] \"TCGA-05-4244-01\" \"TCGA-05-4249-01\" \"TCGA-05-4250-01\" \"TCGA-05-4382-01\" ...\n",
      "  ..$ tmb        :List of 2\n",
      "  .. ..$ mut  :'data.frame':\t502 obs. of  2 variables:\n",
      "  .. .. ..$ sample  : chr [1:502] \"TCGA-05-4244-01\" \"TCGA-05-4249-01\" \"TCGA-05-4250-01\" \"TCGA-05-4382-01\" ...\n",
      "  .. .. ..$ mutation: num [1:502] 187 298 310 1534 117 ...\n",
      "  .. ..$ total: Named num [1:502] 187 298 310 1534 117 ...\n",
      "  .. .. ..- attr(*, \"names\")= chr [1:502] \"TCGA-05-4244-01\" \"TCGA-05-4249-01\" \"TCGA-05-4250-01\" \"TCGA-05-4382-01\" ...\n",
      "  ..- attr(*, \"class\")= chr \"AL\"\n",
      " $ W   :List of 4\n",
      "  ..$ W_block :List of 1\n",
      "  .. ..$ LUAD: num [1:269, 1:502] 1 1 1 1 1 1 1 1 1 1 ...\n",
      "  .. .. ..- attr(*, \"dimnames\")=List of 2\n",
      "  .. .. .. ..$ : chr [1:269] \"AKT1\" \"ALK\" \"APC\" \"AR\" ...\n",
      "  .. .. .. ..$ : chr [1:502] \"TCGA-05-4244-01\" \"TCGA-05-4249-01\" \"TCGA-05-4250-01\" \"TCGA-05-4382-01\" ...\n",
      "  ..$ W       : num [1:269, 1:502] 1 1 1 1 1 1 1 1 1 1 ...\n",
      "  .. ..- attr(*, \"dimnames\")=List of 2\n",
      "  .. .. ..$ : chr [1:269] \"AKT1\" \"ALK\" \"APC\" \"AR\" ...\n",
      "  .. .. ..$ : chr [1:502] \"TCGA-05-4244-01\" \"TCGA-05-4249-01\" \"TCGA-05-4250-01\" \"TCGA-05-4382-01\" ...\n",
      "  ..$ W_median:List of 1\n",
      "  .. ..$ LUAD: num 192\n",
      "  ..$ mean_TMB: num 192\n",
      " $ T   :List of 2\n",
      "  ..$ templeate.obj:List of 1\n",
      "  .. ..$ mut:List of 2\n",
      "  .. .. ..$ LUAD       : num [1:269, 1:502] 0.004 0.008 0.01333 0.00267 0.02932 ...\n",
      "  .. .. .. ..- attr(*, \"dimnames\")=List of 2\n",
      "  .. .. .. .. ..$ : chr [1:269] \"AKT1\" \"ALK\" \"APC\" \"AR\" ...\n",
      "  .. .. .. .. ..$ : chr [1:502] \"TCGA-05-4244-01\" \"TCGA-05-4249-01\" \"TCGA-05-4250-01\" \"TCGA-05-4382-01\" ...\n",
      "  .. .. ..$ LUAD_weight: num [1:502] 0.669 1.066 1.109 5.488 0.419 ...\n",
      "  ..$ temp_mat     :List of 1\n",
      "  .. ..$ mut: num [1:269, 1:502] 0.004 0.008 0.01333 0.00267 0.02932 ...\n",
      "  .. .. ..- attr(*, \"dimnames\")=List of 2\n",
      "  .. .. .. ..$ : chr [1:269] \"AKT1\" \"ALK\" \"APC\" \"AR\" ...\n",
      "  .. .. .. ..$ : chr [1:502] \"TCGA-05-4244-01\" \"TCGA-05-4249-01\" \"TCGA-05-4250-01\" \"TCGA-05-4382-01\" ...\n",
      " $ null:List of 891\n",
      "  ..$ : num [1:269, 1:502] 0 0 0 0 0 0 0 0 0 0 ...\n",
      "  .. ..- attr(*, \"dimnames\")=List of 2\n",
      "  .. .. ..$ : chr [1:269] \"AKT1\" \"ALK\" \"APC\" \"AR\" ...\n",
      "  .. .. ..$ : chr [1:502] \"TCGA-05-4244-01\" \"TCGA-05-4249-01\" \"TCGA-05-4250-01\" \"TCGA-05-4382-01\" ...\n",
      "  ..$ : num [1:269, 1:502] 0 0 0 0 0 0 0 0 0 0 ...\n",
      "  .. ..- attr(*, \"dimnames\")=List of 2\n",
      "  .. .. ..$ : chr [1:269] \"AKT1\" \"ALK\" \"APC\" \"AR\" ...\n",
      "  .. .. ..$ : chr [1:502] \"TCGA-05-4244-01\" \"TCGA-05-4249-01\" \"TCGA-05-4250-01\" \"TCGA-05-4382-01\" ...\n",
      "  ..$ : num [1:269, 1:502] 0 0 0 0 0 0 0 0 0 0 ...\n",
      "  .. ..- attr(*, \"dimnames\")=List of 2\n",
      "  .. .. ..$ : chr [1:269] \"AKT1\" \"ALK\" \"APC\" \"AR\" ...\n",
      "  .. .. ..$ : chr [1:502] \"TCGA-05-4244-01\" \"TCGA-05-4249-01\" \"TCGA-05-4250-01\" \"TCGA-05-4382-01\" ...\n",
      "  ..$ : num [1:269, 1:502] 0 0 0 0 0 0 0 0 0 0 ...\n",
      "  .. ..- attr(*, \"dimnames\")=List of 2\n",
      "  .. .. ..$ : chr [1:269] \"AKT1\" \"ALK\" \"APC\" \"AR\" ...\n",
      "  .. .. ..$ : chr [1:502] \"TCGA-05-4244-01\" \"TCGA-05-4249-01\" \"TCGA-05-4250-01\" \"TCGA-05-4382-01\" ...\n",
      "  ..$ : num [1:269, 1:502] 0 0 0 0 0 0 0 1 0 0 ...\n",
      "  .. ..- attr(*, \"dimnames\")=List of 2\n",
      "  .. .. ..$ : chr [1:269] \"AKT1\" \"ALK\" \"APC\" \"AR\" ...\n",
      "  .. .. ..$ : chr [1:502] \"TCGA-05-4244-01\" \"TCGA-05-4249-01\" \"TCGA-05-4250-01\" \"TCGA-05-4382-01\" ...\n",
      "  ..$ : num [1:269, 1:502] 0 0 0 0 0 0 0 0 0 0 ...\n",
      "  .. ..- attr(*, \"dimnames\")=List of 2\n",
      "  .. .. ..$ : chr [1:269] \"AKT1\" \"ALK\" \"APC\" \"AR\" ...\n",
      "  .. .. ..$ : chr [1:502] \"TCGA-05-4244-01\" \"TCGA-05-4249-01\" \"TCGA-05-4250-01\" \"TCGA-05-4382-01\" ...\n",
      "  ..$ : num [1:269, 1:502] 0 0 0 0 0 0 0 0 0 0 ...\n",
      "  .. ..- attr(*, \"dimnames\")=List of 2\n",
      "  .. .. ..$ : chr [1:269] \"AKT1\" \"ALK\" \"APC\" \"AR\" ...\n",
      "  .. .. ..$ : chr [1:502] \"TCGA-05-4244-01\" \"TCGA-05-4249-01\" \"TCGA-05-4250-01\" \"TCGA-05-4382-01\" ...\n",
      "  ..$ : num [1:269, 1:502] 0 0 0 0 0 0 0 0 0 0 ...\n",
      "  .. ..- attr(*, \"dimnames\")=List of 2\n",
      "  .. .. ..$ : chr [1:269] \"AKT1\" \"ALK\" \"APC\" \"AR\" ...\n",
      "  .. .. ..$ : chr [1:502] \"TCGA-05-4244-01\" \"TCGA-05-4249-01\" \"TCGA-05-4250-01\" \"TCGA-05-4382-01\" ...\n",
      "  ..$ : num [1:269, 1:502] 0 0 0 0 0 0 0 0 0 0 ...\n",
      "  .. ..- attr(*, \"dimnames\")=List of 2\n",
      "  .. .. ..$ : chr [1:269] \"AKT1\" \"ALK\" \"APC\" \"AR\" ...\n",
      "  .. .. ..$ : chr [1:502] \"TCGA-05-4244-01\" \"TCGA-05-4249-01\" \"TCGA-05-4250-01\" \"TCGA-05-4382-01\" ...\n",
      "  ..$ : num [1:269, 1:502] 0 0 0 0 0 0 0 0 0 0 ...\n",
      "  .. ..- attr(*, \"dimnames\")=List of 2\n",
      "  .. .. ..$ : chr [1:269] \"AKT1\" \"ALK\" \"APC\" \"AR\" ...\n",
      "  .. .. ..$ : chr [1:502] \"TCGA-05-4244-01\" \"TCGA-05-4249-01\" \"TCGA-05-4250-01\" \"TCGA-05-4382-01\" ...\n",
      "  ..$ : num [1:269, 1:502] 0 0 0 0 0 0 0 0 0 0 ...\n",
      "  .. ..- attr(*, \"dimnames\")=List of 2\n",
      "  .. .. ..$ : chr [1:269] \"AKT1\" \"ALK\" \"APC\" \"AR\" ...\n",
      "  .. .. ..$ : chr [1:502] \"TCGA-05-4244-01\" \"TCGA-05-4249-01\" \"TCGA-05-4250-01\" \"TCGA-05-4382-01\" ...\n",
      "  ..$ : num [1:269, 1:502] 0 0 0 0 0 0 0 0 0 0 ...\n",
      "  .. ..- attr(*, \"dimnames\")=List of 2\n",
      "  .. .. ..$ : chr [1:269] \"AKT1\" \"ALK\" \"APC\" \"AR\" ...\n",
      "  .. .. ..$ : chr [1:502] \"TCGA-05-4244-01\" \"TCGA-05-4249-01\" \"TCGA-05-4250-01\" \"TCGA-05-4382-01\" ...\n",
      "  ..$ : num [1:269, 1:502] 0 0 0 0 0 0 0 0 0 0 ...\n",
      "  .. ..- attr(*, \"dimnames\")=List of 2\n",
      "  .. .. ..$ : chr [1:269] \"AKT1\" \"ALK\" \"APC\" \"AR\" ...\n",
      "  .. .. ..$ : chr [1:502] \"TCGA-05-4244-01\" \"TCGA-05-4249-01\" \"TCGA-05-4250-01\" \"TCGA-05-4382-01\" ...\n",
      "  ..$ : num [1:269, 1:502] 0 0 0 0 0 0 0 0 0 0 ...\n",
      "  .. ..- attr(*, \"dimnames\")=List of 2\n",
      "  .. .. ..$ : chr [1:269] \"AKT1\" \"ALK\" \"APC\" \"AR\" ...\n",
      "  .. .. ..$ : chr [1:502] \"TCGA-05-4244-01\" \"TCGA-05-4249-01\" \"TCGA-05-4250-01\" \"TCGA-05-4382-01\" ...\n",
      "  ..$ : num [1:269, 1:502] 0 0 0 0 0 0 0 0 0 0 ...\n",
      "  .. ..- attr(*, \"dimnames\")=List of 2\n",
      "  .. .. ..$ : chr [1:269] \"AKT1\" \"ALK\" \"APC\" \"AR\" ...\n",
      "  .. .. ..$ : chr [1:502] \"TCGA-05-4244-01\" \"TCGA-05-4249-01\" \"TCGA-05-4250-01\" \"TCGA-05-4382-01\" ...\n",
      "  ..$ : num [1:269, 1:502] 0 0 0 0 0 0 0 0 0 0 ...\n",
      "  .. ..- attr(*, \"dimnames\")=List of 2\n",
      "  .. .. ..$ : chr [1:269] \"AKT1\" \"ALK\" \"APC\" \"AR\" ...\n",
      "  .. .. ..$ : chr [1:502] \"TCGA-05-4244-01\" \"TCGA-05-4249-01\" \"TCGA-05-4250-01\" \"TCGA-05-4382-01\" ...\n",
      "  ..$ : num [1:269, 1:502] 0 0 0 0 0 0 0 0 0 0 ...\n",
      "  .. ..- attr(*, \"dimnames\")=List of 2\n",
      "  .. .. ..$ : chr [1:269] \"AKT1\" \"ALK\" \"APC\" \"AR\" ...\n",
      "  .. .. ..$ : chr [1:502] \"TCGA-05-4244-01\" \"TCGA-05-4249-01\" \"TCGA-05-4250-01\" \"TCGA-05-4382-01\" ...\n",
      "  ..$ : num [1:269, 1:502] 0 0 0 0 0 0 1 0 0 0 ...\n",
      "  .. ..- attr(*, \"dimnames\")=List of 2\n",
      "  .. .. ..$ : chr [1:269] \"AKT1\" \"ALK\" \"APC\" \"AR\" ...\n",
      "  .. .. ..$ : chr [1:502] \"TCGA-05-4244-01\" \"TCGA-05-4249-01\" \"TCGA-05-4250-01\" \"TCGA-05-4382-01\" ...\n",
      "  ..$ : num [1:269, 1:502] 0 0 0 0 0 0 0 0 0 0 ...\n",
      "  .. ..- attr(*, \"dimnames\")=List of 2\n",
      "  .. .. ..$ : chr [1:269] \"AKT1\" \"ALK\" \"APC\" \"AR\" ...\n",
      "  .. .. ..$ : chr [1:502] \"TCGA-05-4244-01\" \"TCGA-05-4249-01\" \"TCGA-05-4250-01\" \"TCGA-05-4382-01\" ...\n",
      "  ..$ : num [1:269, 1:502] 0 0 0 0 0 0 0 0 0 0 ...\n",
      "  .. ..- attr(*, \"dimnames\")=List of 2\n",
      "  .. .. ..$ : chr [1:269] \"AKT1\" \"ALK\" \"APC\" \"AR\" ...\n",
      "  .. .. ..$ : chr [1:502] \"TCGA-05-4244-01\" \"TCGA-05-4249-01\" \"TCGA-05-4250-01\" \"TCGA-05-4382-01\" ...\n",
      "  ..$ : num [1:269, 1:502] 0 0 0 0 0 0 0 0 0 0 ...\n",
      "  .. ..- attr(*, \"dimnames\")=List of 2\n",
      "  .. .. ..$ : chr [1:269] \"AKT1\" \"ALK\" \"APC\" \"AR\" ...\n",
      "  .. .. ..$ : chr [1:502] \"TCGA-05-4244-01\" \"TCGA-05-4249-01\" \"TCGA-05-4250-01\" \"TCGA-05-4382-01\" ...\n",
      "  ..$ : num [1:269, 1:502] 0 0 0 0 0 0 0 0 0 0 ...\n",
      "  .. ..- attr(*, \"dimnames\")=List of 2\n",
      "  .. .. ..$ : chr [1:269] \"AKT1\" \"ALK\" \"APC\" \"AR\" ...\n",
      "  .. .. ..$ : chr [1:502] \"TCGA-05-4244-01\" \"TCGA-05-4249-01\" \"TCGA-05-4250-01\" \"TCGA-05-4382-01\" ...\n",
      "  ..$ : num [1:269, 1:502] 0 0 0 0 0 0 0 0 0 0 ...\n",
      "  .. ..- attr(*, \"dimnames\")=List of 2\n",
      "  .. .. ..$ : chr [1:269] \"AKT1\" \"ALK\" \"APC\" \"AR\" ...\n",
      "  .. .. ..$ : chr [1:502] \"TCGA-05-4244-01\" \"TCGA-05-4249-01\" \"TCGA-05-4250-01\" \"TCGA-05-4382-01\" ...\n",
      "  ..$ : num [1:269, 1:502] 0 0 0 0 0 0 0 0 0 0 ...\n",
      "  .. ..- attr(*, \"dimnames\")=List of 2\n",
      "  .. .. ..$ : chr [1:269] \"AKT1\" \"ALK\" \"APC\" \"AR\" ...\n",
      "  .. .. ..$ : chr [1:502] \"TCGA-05-4244-01\" \"TCGA-05-4249-01\" \"TCGA-05-4250-01\" \"TCGA-05-4382-01\" ...\n",
      "  ..$ : num [1:269, 1:502] 0 0 0 0 0 0 0 1 0 0 ...\n",
      "  .. ..- attr(*, \"dimnames\")=List of 2\n",
      "  .. .. ..$ : chr [1:269] \"AKT1\" \"ALK\" \"APC\" \"AR\" ...\n",
      "  .. .. ..$ : chr [1:502] \"TCGA-05-4244-01\" \"TCGA-05-4249-01\" \"TCGA-05-4250-01\" \"TCGA-05-4382-01\" ...\n",
      "  ..$ : num [1:269, 1:502] 0 0 0 0 0 0 0 0 0 0 ...\n",
      "  .. ..- attr(*, \"dimnames\")=List of 2\n",
      "  .. .. ..$ : chr [1:269] \"AKT1\" \"ALK\" \"APC\" \"AR\" ...\n",
      "  .. .. ..$ : chr [1:502] \"TCGA-05-4244-01\" \"TCGA-05-4249-01\" \"TCGA-05-4250-01\" \"TCGA-05-4382-01\" ...\n",
      "  ..$ : num [1:269, 1:502] 0 0 0 0 0 0 0 0 0 0 ...\n",
      "  .. ..- attr(*, \"dimnames\")=List of 2\n",
      "  .. .. ..$ : chr [1:269] \"AKT1\" \"ALK\" \"APC\" \"AR\" ...\n",
      "  .. .. ..$ : chr [1:502] \"TCGA-05-4244-01\" \"TCGA-05-4249-01\" \"TCGA-05-4250-01\" \"TCGA-05-4382-01\" ...\n",
      "  ..$ : num [1:269, 1:502] 0 0 0 0 0 0 0 0 0 0 ...\n",
      "  .. ..- attr(*, \"dimnames\")=List of 2\n",
      "  .. .. ..$ : chr [1:269] \"AKT1\" \"ALK\" \"APC\" \"AR\" ...\n",
      "  .. .. ..$ : chr [1:502] \"TCGA-05-4244-01\" \"TCGA-05-4249-01\" \"TCGA-05-4250-01\" \"TCGA-05-4382-01\" ...\n",
      "  ..$ : num [1:269, 1:502] 0 0 0 0 0 0 0 0 0 0 ...\n",
      "  .. ..- attr(*, \"dimnames\")=List of 2\n",
      "  .. .. ..$ : chr [1:269] \"AKT1\" \"ALK\" \"APC\" \"AR\" ...\n",
      "  .. .. ..$ : chr [1:502] \"TCGA-05-4244-01\" \"TCGA-05-4249-01\" \"TCGA-05-4250-01\" \"TCGA-05-4382-01\" ...\n",
      "  ..$ : num [1:269, 1:502] 0 0 0 0 0 0 0 0 0 0 ...\n",
      "  .. ..- attr(*, \"dimnames\")=List of 2\n",
      "  .. .. ..$ : chr [1:269] \"AKT1\" \"ALK\" \"APC\" \"AR\" ...\n",
      "  .. .. ..$ : chr [1:502] \"TCGA-05-4244-01\" \"TCGA-05-4249-01\" \"TCGA-05-4250-01\" \"TCGA-05-4382-01\" ...\n",
      "  ..$ : num [1:269, 1:502] 0 0 0 0 0 0 0 0 0 0 ...\n",
      "  .. ..- attr(*, \"dimnames\")=List of 2\n",
      "  .. .. ..$ : chr [1:269] \"AKT1\" \"ALK\" \"APC\" \"AR\" ...\n",
      "  .. .. ..$ : chr [1:502] \"TCGA-05-4244-01\" \"TCGA-05-4249-01\" \"TCGA-05-4250-01\" \"TCGA-05-4382-01\" ...\n",
      "  ..$ : num [1:269, 1:502] 0 0 0 0 0 0 0 0 0 0 ...\n",
      "  .. ..- attr(*, \"dimnames\")=List of 2\n",
      "  .. .. ..$ : chr [1:269] \"AKT1\" \"ALK\" \"APC\" \"AR\" ...\n",
      "  .. .. ..$ : chr [1:502] \"TCGA-05-4244-01\" \"TCGA-05-4249-01\" \"TCGA-05-4250-01\" \"TCGA-05-4382-01\" ...\n",
      "  ..$ : num [1:269, 1:502] 0 0 1 0 1 0 0 0 0 0 ...\n",
      "  .. ..- attr(*, \"dimnames\")=List of 2\n",
      "  .. .. ..$ : chr [1:269] \"AKT1\" \"ALK\" \"APC\" \"AR\" ...\n",
      "  .. .. ..$ : chr [1:502] \"TCGA-05-4244-01\" \"TCGA-05-4249-01\" \"TCGA-05-4250-01\" \"TCGA-05-4382-01\" ...\n",
      "  ..$ : num [1:269, 1:502] 0 0 0 0 0 0 0 0 0 0 ...\n",
      "  .. ..- attr(*, \"dimnames\")=List of 2\n",
      "  .. .. ..$ : chr [1:269] \"AKT1\" \"ALK\" \"APC\" \"AR\" ...\n",
      "  .. .. ..$ : chr [1:502] \"TCGA-05-4244-01\" \"TCGA-05-4249-01\" \"TCGA-05-4250-01\" \"TCGA-05-4382-01\" ...\n",
      "  ..$ : num [1:269, 1:502] 0 0 0 0 0 0 0 0 0 0 ...\n",
      "  .. ..- attr(*, \"dimnames\")=List of 2\n",
      "  .. .. ..$ : chr [1:269] \"AKT1\" \"ALK\" \"APC\" \"AR\" ...\n",
      "  .. .. ..$ : chr [1:502] \"TCGA-05-4244-01\" \"TCGA-05-4249-01\" \"TCGA-05-4250-01\" \"TCGA-05-4382-01\" ...\n",
      "  ..$ : num [1:269, 1:502] 0 0 0 0 0 0 0 0 0 0 ...\n",
      "  .. ..- attr(*, \"dimnames\")=List of 2\n",
      "  .. .. ..$ : chr [1:269] \"AKT1\" \"ALK\" \"APC\" \"AR\" ...\n",
      "  .. .. ..$ : chr [1:502] \"TCGA-05-4244-01\" \"TCGA-05-4249-01\" \"TCGA-05-4250-01\" \"TCGA-05-4382-01\" ...\n",
      "  ..$ : num [1:269, 1:502] 0 0 0 0 0 0 0 0 0 0 ...\n",
      "  .. ..- attr(*, \"dimnames\")=List of 2\n",
      "  .. .. ..$ : chr [1:269] \"AKT1\" \"ALK\" \"APC\" \"AR\" ...\n",
      "  .. .. ..$ : chr [1:502] \"TCGA-05-4244-01\" \"TCGA-05-4249-01\" \"TCGA-05-4250-01\" \"TCGA-05-4382-01\" ...\n",
      "  ..$ : num [1:269, 1:502] 0 0 0 0 0 0 0 0 0 0 ...\n",
      "  .. ..- attr(*, \"dimnames\")=List of 2\n",
      "  .. .. ..$ : chr [1:269] \"AKT1\" \"ALK\" \"APC\" \"AR\" ...\n",
      "  .. .. ..$ : chr [1:502] \"TCGA-05-4244-01\" \"TCGA-05-4249-01\" \"TCGA-05-4250-01\" \"TCGA-05-4382-01\" ...\n",
      "  ..$ : num [1:269, 1:502] 0 0 0 0 0 0 0 0 0 0 ...\n",
      "  .. ..- attr(*, \"dimnames\")=List of 2\n",
      "  .. .. ..$ : chr [1:269] \"AKT1\" \"ALK\" \"APC\" \"AR\" ...\n",
      "  .. .. ..$ : chr [1:502] \"TCGA-05-4244-01\" \"TCGA-05-4249-01\" \"TCGA-05-4250-01\" \"TCGA-05-4382-01\" ...\n",
      "  ..$ : num [1:269, 1:502] 0 0 0 0 0 0 0 0 0 0 ...\n",
      "  .. ..- attr(*, \"dimnames\")=List of 2\n",
      "  .. .. ..$ : chr [1:269] \"AKT1\" \"ALK\" \"APC\" \"AR\" ...\n",
      "  .. .. ..$ : chr [1:502] \"TCGA-05-4244-01\" \"TCGA-05-4249-01\" \"TCGA-05-4250-01\" \"TCGA-05-4382-01\" ...\n",
      "  ..$ : num [1:269, 1:502] 0 0 0 0 0 0 0 0 0 0 ...\n",
      "  .. ..- attr(*, \"dimnames\")=List of 2\n",
      "  .. .. ..$ : chr [1:269] \"AKT1\" \"ALK\" \"APC\" \"AR\" ...\n",
      "  .. .. ..$ : chr [1:502] \"TCGA-05-4244-01\" \"TCGA-05-4249-01\" \"TCGA-05-4250-01\" \"TCGA-05-4382-01\" ...\n",
      "  ..$ : num [1:269, 1:502] 0 0 0 0 0 0 1 0 0 0 ...\n",
      "  .. ..- attr(*, \"dimnames\")=List of 2\n",
      "  .. .. ..$ : chr [1:269] \"AKT1\" \"ALK\" \"APC\" \"AR\" ...\n",
      "  .. .. ..$ : chr [1:502] \"TCGA-05-4244-01\" \"TCGA-05-4249-01\" \"TCGA-05-4250-01\" \"TCGA-05-4382-01\" ...\n",
      "  ..$ : num [1:269, 1:502] 0 0 0 0 0 0 0 0 0 0 ...\n",
      "  .. ..- attr(*, \"dimnames\")=List of 2\n",
      "  .. .. ..$ : chr [1:269] \"AKT1\" \"ALK\" \"APC\" \"AR\" ...\n",
      "  .. .. ..$ : chr [1:502] \"TCGA-05-4244-01\" \"TCGA-05-4249-01\" \"TCGA-05-4250-01\" \"TCGA-05-4382-01\" ...\n",
      "  ..$ : num [1:269, 1:502] 0 0 0 0 0 0 1 0 0 0 ...\n",
      "  .. ..- attr(*, \"dimnames\")=List of 2\n",
      "  .. .. ..$ : chr [1:269] \"AKT1\" \"ALK\" \"APC\" \"AR\" ...\n",
      "  .. .. ..$ : chr [1:502] \"TCGA-05-4244-01\" \"TCGA-05-4249-01\" \"TCGA-05-4250-01\" \"TCGA-05-4382-01\" ...\n",
      "  ..$ : num [1:269, 1:502] 0 0 0 0 0 0 0 0 0 0 ...\n",
      "  .. ..- attr(*, \"dimnames\")=List of 2\n",
      "  .. .. ..$ : chr [1:269] \"AKT1\" \"ALK\" \"APC\" \"AR\" ...\n",
      "  .. .. ..$ : chr [1:502] \"TCGA-05-4244-01\" \"TCGA-05-4249-01\" \"TCGA-05-4250-01\" \"TCGA-05-4382-01\" ...\n",
      "  ..$ : num [1:269, 1:502] 0 0 0 0 0 0 0 0 0 0 ...\n",
      "  .. ..- attr(*, \"dimnames\")=List of 2\n",
      "  .. .. ..$ : chr [1:269] \"AKT1\" \"ALK\" \"APC\" \"AR\" ...\n",
      "  .. .. ..$ : chr [1:502] \"TCGA-05-4244-01\" \"TCGA-05-4249-01\" \"TCGA-05-4250-01\" \"TCGA-05-4382-01\" ...\n",
      "  ..$ : num [1:269, 1:502] 0 0 0 0 0 0 0 0 0 0 ...\n",
      "  .. ..- attr(*, \"dimnames\")=List of 2\n",
      "  .. .. ..$ : chr [1:269] \"AKT1\" \"ALK\" \"APC\" \"AR\" ...\n",
      "  .. .. ..$ : chr [1:502] \"TCGA-05-4244-01\" \"TCGA-05-4249-01\" \"TCGA-05-4250-01\" \"TCGA-05-4382-01\" ...\n",
      "  ..$ : num [1:269, 1:502] 0 0 0 0 0 0 0 0 0 0 ...\n",
      "  .. ..- attr(*, \"dimnames\")=List of 2\n",
      "  .. .. ..$ : chr [1:269] \"AKT1\" \"ALK\" \"APC\" \"AR\" ...\n",
      "  .. .. ..$ : chr [1:502] \"TCGA-05-4244-01\" \"TCGA-05-4249-01\" \"TCGA-05-4250-01\" \"TCGA-05-4382-01\" ...\n",
      "  ..$ : num [1:269, 1:502] 0 0 0 0 0 0 0 0 0 0 ...\n",
      "  .. ..- attr(*, \"dimnames\")=List of 2\n",
      "  .. .. ..$ : chr [1:269] \"AKT1\" \"ALK\" \"APC\" \"AR\" ...\n",
      "  .. .. ..$ : chr [1:502] \"TCGA-05-4244-01\" \"TCGA-05-4249-01\" \"TCGA-05-4250-01\" \"TCGA-05-4382-01\" ...\n",
      "  ..$ : num [1:269, 1:502] 0 0 0 0 0 0 0 1 0 0 ...\n",
      "  .. ..- attr(*, \"dimnames\")=List of 2\n",
      "  .. .. ..$ : chr [1:269] \"AKT1\" \"ALK\" \"APC\" \"AR\" ...\n",
      "  .. .. ..$ : chr [1:502] \"TCGA-05-4244-01\" \"TCGA-05-4249-01\" \"TCGA-05-4250-01\" \"TCGA-05-4382-01\" ...\n",
      "  ..$ : num [1:269, 1:502] 0 0 0 0 0 0 0 0 0 0 ...\n",
      "  .. ..- attr(*, \"dimnames\")=List of 2\n",
      "  .. .. ..$ : chr [1:269] \"AKT1\" \"ALK\" \"APC\" \"AR\" ...\n",
      "  .. .. ..$ : chr [1:502] \"TCGA-05-4244-01\" \"TCGA-05-4249-01\" \"TCGA-05-4250-01\" \"TCGA-05-4382-01\" ...\n",
      "  ..$ : num [1:269, 1:502] 0 0 0 0 0 0 0 0 0 0 ...\n",
      "  .. ..- attr(*, \"dimnames\")=List of 2\n",
      "  .. .. ..$ : chr [1:269] \"AKT1\" \"ALK\" \"APC\" \"AR\" ...\n",
      "  .. .. ..$ : chr [1:502] \"TCGA-05-4244-01\" \"TCGA-05-4249-01\" \"TCGA-05-4250-01\" \"TCGA-05-4382-01\" ...\n",
      "  ..$ : num [1:269, 1:502] 0 0 0 0 0 0 0 0 0 0 ...\n",
      "  .. ..- attr(*, \"dimnames\")=List of 2\n",
      "  .. .. ..$ : chr [1:269] \"AKT1\" \"ALK\" \"APC\" \"AR\" ...\n",
      "  .. .. ..$ : chr [1:502] \"TCGA-05-4244-01\" \"TCGA-05-4249-01\" \"TCGA-05-4250-01\" \"TCGA-05-4382-01\" ...\n",
      "  ..$ : num [1:269, 1:502] 0 0 0 0 0 0 0 0 0 0 ...\n",
      "  .. ..- attr(*, \"dimnames\")=List of 2\n",
      "  .. .. ..$ : chr [1:269] \"AKT1\" \"ALK\" \"APC\" \"AR\" ...\n",
      "  .. .. ..$ : chr [1:502] \"TCGA-05-4244-01\" \"TCGA-05-4249-01\" \"TCGA-05-4250-01\" \"TCGA-05-4382-01\" ...\n",
      "  ..$ : num [1:269, 1:502] 0 1 0 0 0 0 0 0 0 0 ...\n",
      "  .. ..- attr(*, \"dimnames\")=List of 2\n",
      "  .. .. ..$ : chr [1:269] \"AKT1\" \"ALK\" \"APC\" \"AR\" ...\n",
      "  .. .. ..$ : chr [1:502] \"TCGA-05-4244-01\" \"TCGA-05-4249-01\" \"TCGA-05-4250-01\" \"TCGA-05-4382-01\" ...\n",
      "  ..$ : num [1:269, 1:502] 0 0 0 0 0 0 0 0 0 0 ...\n",
      "  .. ..- attr(*, \"dimnames\")=List of 2\n",
      "  .. .. ..$ : chr [1:269] \"AKT1\" \"ALK\" \"APC\" \"AR\" ...\n",
      "  .. .. ..$ : chr [1:502] \"TCGA-05-4244-01\" \"TCGA-05-4249-01\" \"TCGA-05-4250-01\" \"TCGA-05-4382-01\" ...\n",
      "  ..$ : num [1:269, 1:502] 0 0 0 0 0 0 0 0 0 0 ...\n",
      "  .. ..- attr(*, \"dimnames\")=List of 2\n",
      "  .. .. ..$ : chr [1:269] \"AKT1\" \"ALK\" \"APC\" \"AR\" ...\n",
      "  .. .. ..$ : chr [1:502] \"TCGA-05-4244-01\" \"TCGA-05-4249-01\" \"TCGA-05-4250-01\" \"TCGA-05-4382-01\" ...\n",
      "  ..$ : num [1:269, 1:502] 0 0 0 0 0 0 0 0 0 0 ...\n",
      "  .. ..- attr(*, \"dimnames\")=List of 2\n",
      "  .. .. ..$ : chr [1:269] \"AKT1\" \"ALK\" \"APC\" \"AR\" ...\n",
      "  .. .. ..$ : chr [1:502] \"TCGA-05-4244-01\" \"TCGA-05-4249-01\" \"TCGA-05-4250-01\" \"TCGA-05-4382-01\" ...\n",
      "  ..$ : num [1:269, 1:502] 0 0 0 0 0 0 0 0 0 0 ...\n",
      "  .. ..- attr(*, \"dimnames\")=List of 2\n",
      "  .. .. ..$ : chr [1:269] \"AKT1\" \"ALK\" \"APC\" \"AR\" ...\n",
      "  .. .. ..$ : chr [1:502] \"TCGA-05-4244-01\" \"TCGA-05-4249-01\" \"TCGA-05-4250-01\" \"TCGA-05-4382-01\" ...\n",
      "  ..$ : num [1:269, 1:502] 0 0 0 0 0 0 1 0 0 0 ...\n",
      "  .. ..- attr(*, \"dimnames\")=List of 2\n",
      "  .. .. ..$ : chr [1:269] \"AKT1\" \"ALK\" \"APC\" \"AR\" ...\n",
      "  .. .. ..$ : chr [1:502] \"TCGA-05-4244-01\" \"TCGA-05-4249-01\" \"TCGA-05-4250-01\" \"TCGA-05-4382-01\" ...\n",
      "  ..$ : num [1:269, 1:502] 0 0 0 0 0 0 0 0 0 0 ...\n",
      "  .. ..- attr(*, \"dimnames\")=List of 2\n",
      "  .. .. ..$ : chr [1:269] \"AKT1\" \"ALK\" \"APC\" \"AR\" ...\n",
      "  .. .. ..$ : chr [1:502] \"TCGA-05-4244-01\" \"TCGA-05-4249-01\" \"TCGA-05-4250-01\" \"TCGA-05-4382-01\" ...\n",
      "  ..$ : num [1:269, 1:502] 0 0 0 0 0 0 0 0 0 0 ...\n",
      "  .. ..- attr(*, \"dimnames\")=List of 2\n",
      "  .. .. ..$ : chr [1:269] \"AKT1\" \"ALK\" \"APC\" \"AR\" ...\n",
      "  .. .. ..$ : chr [1:502] \"TCGA-05-4244-01\" \"TCGA-05-4249-01\" \"TCGA-05-4250-01\" \"TCGA-05-4382-01\" ...\n",
      "  ..$ : num [1:269, 1:502] 0 0 0 0 0 0 0 0 0 0 ...\n",
      "  .. ..- attr(*, \"dimnames\")=List of 2\n",
      "  .. .. ..$ : chr [1:269] \"AKT1\" \"ALK\" \"APC\" \"AR\" ...\n",
      "  .. .. ..$ : chr [1:502] \"TCGA-05-4244-01\" \"TCGA-05-4249-01\" \"TCGA-05-4250-01\" \"TCGA-05-4382-01\" ...\n",
      "  ..$ : num [1:269, 1:502] 0 0 0 0 0 0 0 0 0 0 ...\n",
      "  .. ..- attr(*, \"dimnames\")=List of 2\n",
      "  .. .. ..$ : chr [1:269] \"AKT1\" \"ALK\" \"APC\" \"AR\" ...\n",
      "  .. .. ..$ : chr [1:502] \"TCGA-05-4244-01\" \"TCGA-05-4249-01\" \"TCGA-05-4250-01\" \"TCGA-05-4382-01\" ...\n",
      "  ..$ : num [1:269, 1:502] 0 0 0 0 0 0 0 1 0 0 ...\n",
      "  .. ..- attr(*, \"dimnames\")=List of 2\n",
      "  .. .. ..$ : chr [1:269] \"AKT1\" \"ALK\" \"APC\" \"AR\" ...\n",
      "  .. .. ..$ : chr [1:502] \"TCGA-05-4244-01\" \"TCGA-05-4249-01\" \"TCGA-05-4250-01\" \"TCGA-05-4382-01\" ...\n",
      "  ..$ : num [1:269, 1:502] 0 0 0 0 0 0 0 0 0 0 ...\n",
      "  .. ..- attr(*, \"dimnames\")=List of 2\n",
      "  .. .. ..$ : chr [1:269] \"AKT1\" \"ALK\" \"APC\" \"AR\" ...\n",
      "  .. .. ..$ : chr [1:502] \"TCGA-05-4244-01\" \"TCGA-05-4249-01\" \"TCGA-05-4250-01\" \"TCGA-05-4382-01\" ...\n",
      "  ..$ : num [1:269, 1:502] 0 0 0 0 0 0 0 0 0 0 ...\n",
      "  .. ..- attr(*, \"dimnames\")=List of 2\n",
      "  .. .. ..$ : chr [1:269] \"AKT1\" \"ALK\" \"APC\" \"AR\" ...\n",
      "  .. .. ..$ : chr [1:502] \"TCGA-05-4244-01\" \"TCGA-05-4249-01\" \"TCGA-05-4250-01\" \"TCGA-05-4382-01\" ...\n",
      "  ..$ : num [1:269, 1:502] 0 0 0 0 0 0 0 0 0 0 ...\n",
      "  .. ..- attr(*, \"dimnames\")=List of 2\n",
      "  .. .. ..$ : chr [1:269] \"AKT1\" \"ALK\" \"APC\" \"AR\" ...\n",
      "  .. .. ..$ : chr [1:502] \"TCGA-05-4244-01\" \"TCGA-05-4249-01\" \"TCGA-05-4250-01\" \"TCGA-05-4382-01\" ...\n",
      "  ..$ : num [1:269, 1:502] 0 0 0 0 0 0 0 0 0 0 ...\n",
      "  .. ..- attr(*, \"dimnames\")=List of 2\n",
      "  .. .. ..$ : chr [1:269] \"AKT1\" \"ALK\" \"APC\" \"AR\" ...\n",
      "  .. .. ..$ : chr [1:502] \"TCGA-05-4244-01\" \"TCGA-05-4249-01\" \"TCGA-05-4250-01\" \"TCGA-05-4382-01\" ...\n",
      "  ..$ : num [1:269, 1:502] 0 0 0 0 0 0 0 0 0 0 ...\n",
      "  .. ..- attr(*, \"dimnames\")=List of 2\n",
      "  .. .. ..$ : chr [1:269] \"AKT1\" \"ALK\" \"APC\" \"AR\" ...\n",
      "  .. .. ..$ : chr [1:502] \"TCGA-05-4244-01\" \"TCGA-05-4249-01\" \"TCGA-05-4250-01\" \"TCGA-05-4382-01\" ...\n",
      "  ..$ : num [1:269, 1:502] 0 0 0 0 0 0 0 0 0 0 ...\n",
      "  .. ..- attr(*, \"dimnames\")=List of 2\n",
      "  .. .. ..$ : chr [1:269] \"AKT1\" \"ALK\" \"APC\" \"AR\" ...\n",
      "  .. .. ..$ : chr [1:502] \"TCGA-05-4244-01\" \"TCGA-05-4249-01\" \"TCGA-05-4250-01\" \"TCGA-05-4382-01\" ...\n",
      "  ..$ : num [1:269, 1:502] 0 0 0 0 1 0 0 0 0 0 ...\n",
      "  .. ..- attr(*, \"dimnames\")=List of 2\n",
      "  .. .. ..$ : chr [1:269] \"AKT1\" \"ALK\" \"APC\" \"AR\" ...\n",
      "  .. .. ..$ : chr [1:502] \"TCGA-05-4244-01\" \"TCGA-05-4249-01\" \"TCGA-05-4250-01\" \"TCGA-05-4382-01\" ...\n",
      "  ..$ : num [1:269, 1:502] 0 0 0 0 0 0 0 0 0 0 ...\n",
      "  .. ..- attr(*, \"dimnames\")=List of 2\n",
      "  .. .. ..$ : chr [1:269] \"AKT1\" \"ALK\" \"APC\" \"AR\" ...\n",
      "  .. .. ..$ : chr [1:502] \"TCGA-05-4244-01\" \"TCGA-05-4249-01\" \"TCGA-05-4250-01\" \"TCGA-05-4382-01\" ...\n",
      "  ..$ : num [1:269, 1:502] 0 0 0 0 0 0 0 0 0 0 ...\n",
      "  .. ..- attr(*, \"dimnames\")=List of 2\n",
      "  .. .. ..$ : chr [1:269] \"AKT1\" \"ALK\" \"APC\" \"AR\" ...\n",
      "  .. .. ..$ : chr [1:502] \"TCGA-05-4244-01\" \"TCGA-05-4249-01\" \"TCGA-05-4250-01\" \"TCGA-05-4382-01\" ...\n",
      "  ..$ : num [1:269, 1:502] 0 0 0 0 0 0 0 0 0 0 ...\n",
      "  .. ..- attr(*, \"dimnames\")=List of 2\n",
      "  .. .. ..$ : chr [1:269] \"AKT1\" \"ALK\" \"APC\" \"AR\" ...\n",
      "  .. .. ..$ : chr [1:502] \"TCGA-05-4244-01\" \"TCGA-05-4249-01\" \"TCGA-05-4250-01\" \"TCGA-05-4382-01\" ...\n",
      "  ..$ : num [1:269, 1:502] 0 0 0 0 0 0 0 0 0 0 ...\n",
      "  .. ..- attr(*, \"dimnames\")=List of 2\n",
      "  .. .. ..$ : chr [1:269] \"AKT1\" \"ALK\" \"APC\" \"AR\" ...\n",
      "  .. .. ..$ : chr [1:502] \"TCGA-05-4244-01\" \"TCGA-05-4249-01\" \"TCGA-05-4250-01\" \"TCGA-05-4382-01\" ...\n",
      "  ..$ : num [1:269, 1:502] 0 0 0 0 0 0 0 0 0 0 ...\n",
      "  .. ..- attr(*, \"dimnames\")=List of 2\n",
      "  .. .. ..$ : chr [1:269] \"AKT1\" \"ALK\" \"APC\" \"AR\" ...\n",
      "  .. .. ..$ : chr [1:502] \"TCGA-05-4244-01\" \"TCGA-05-4249-01\" \"TCGA-05-4250-01\" \"TCGA-05-4382-01\" ...\n",
      "  ..$ : num [1:269, 1:502] 0 0 0 0 0 0 0 0 0 0 ...\n",
      "  .. ..- attr(*, \"dimnames\")=List of 2\n",
      "  .. .. ..$ : chr [1:269] \"AKT1\" \"ALK\" \"APC\" \"AR\" ...\n",
      "  .. .. ..$ : chr [1:502] \"TCGA-05-4244-01\" \"TCGA-05-4249-01\" \"TCGA-05-4250-01\" \"TCGA-05-4382-01\" ...\n",
      "  ..$ : num [1:269, 1:502] 0 0 0 0 0 0 0 0 0 0 ...\n",
      "  .. ..- attr(*, \"dimnames\")=List of 2\n",
      "  .. .. ..$ : chr [1:269] \"AKT1\" \"ALK\" \"APC\" \"AR\" ...\n",
      "  .. .. ..$ : chr [1:502] \"TCGA-05-4244-01\" \"TCGA-05-4249-01\" \"TCGA-05-4250-01\" \"TCGA-05-4382-01\" ...\n",
      "  ..$ : num [1:269, 1:502] 0 0 0 0 0 0 0 0 0 0 ...\n",
      "  .. ..- attr(*, \"dimnames\")=List of 2\n",
      "  .. .. ..$ : chr [1:269] \"AKT1\" \"ALK\" \"APC\" \"AR\" ...\n",
      "  .. .. ..$ : chr [1:502] \"TCGA-05-4244-01\" \"TCGA-05-4249-01\" \"TCGA-05-4250-01\" \"TCGA-05-4382-01\" ...\n",
      "  ..$ : num [1:269, 1:502] 0 0 0 0 0 0 0 0 0 0 ...\n",
      "  .. ..- attr(*, \"dimnames\")=List of 2\n",
      "  .. .. ..$ : chr [1:269] \"AKT1\" \"ALK\" \"APC\" \"AR\" ...\n",
      "  .. .. ..$ : chr [1:502] \"TCGA-05-4244-01\" \"TCGA-05-4249-01\" \"TCGA-05-4250-01\" \"TCGA-05-4382-01\" ...\n",
      "  ..$ : num [1:269, 1:502] 0 0 0 0 0 0 0 0 0 0 ...\n",
      "  .. ..- attr(*, \"dimnames\")=List of 2\n",
      "  .. .. ..$ : chr [1:269] \"AKT1\" \"ALK\" \"APC\" \"AR\" ...\n",
      "  .. .. ..$ : chr [1:502] \"TCGA-05-4244-01\" \"TCGA-05-4249-01\" \"TCGA-05-4250-01\" \"TCGA-05-4382-01\" ...\n",
      "  ..$ : num [1:269, 1:502] 0 0 0 0 0 0 0 0 0 0 ...\n",
      "  .. ..- attr(*, \"dimnames\")=List of 2\n",
      "  .. .. ..$ : chr [1:269] \"AKT1\" \"ALK\" \"APC\" \"AR\" ...\n",
      "  .. .. ..$ : chr [1:502] \"TCGA-05-4244-01\" \"TCGA-05-4249-01\" \"TCGA-05-4250-01\" \"TCGA-05-4382-01\" ...\n",
      "  ..$ : num [1:269, 1:502] 1 0 0 0 0 0 0 0 0 0 ...\n",
      "  .. ..- attr(*, \"dimnames\")=List of 2\n",
      "  .. .. ..$ : chr [1:269] \"AKT1\" \"ALK\" \"APC\" \"AR\" ...\n",
      "  .. .. ..$ : chr [1:502] \"TCGA-05-4244-01\" \"TCGA-05-4249-01\" \"TCGA-05-4250-01\" \"TCGA-05-4382-01\" ...\n",
      "  ..$ : num [1:269, 1:502] 0 0 0 0 0 0 0 0 0 0 ...\n",
      "  .. ..- attr(*, \"dimnames\")=List of 2\n",
      "  .. .. ..$ : chr [1:269] \"AKT1\" \"ALK\" \"APC\" \"AR\" ...\n",
      "  .. .. ..$ : chr [1:502] \"TCGA-05-4244-01\" \"TCGA-05-4249-01\" \"TCGA-05-4250-01\" \"TCGA-05-4382-01\" ...\n",
      "  ..$ : num [1:269, 1:502] 0 0 0 0 0 0 0 0 0 0 ...\n",
      "  .. ..- attr(*, \"dimnames\")=List of 2\n",
      "  .. .. ..$ : chr [1:269] \"AKT1\" \"ALK\" \"APC\" \"AR\" ...\n",
      "  .. .. ..$ : chr [1:502] \"TCGA-05-4244-01\" \"TCGA-05-4249-01\" \"TCGA-05-4250-01\" \"TCGA-05-4382-01\" ...\n",
      "  ..$ : num [1:269, 1:502] 0 0 0 0 0 0 0 0 0 0 ...\n",
      "  .. ..- attr(*, \"dimnames\")=List of 2\n",
      "  .. .. ..$ : chr [1:269] \"AKT1\" \"ALK\" \"APC\" \"AR\" ...\n",
      "  .. .. ..$ : chr [1:502] \"TCGA-05-4244-01\" \"TCGA-05-4249-01\" \"TCGA-05-4250-01\" \"TCGA-05-4382-01\" ...\n",
      "  ..$ : num [1:269, 1:502] 0 0 0 0 0 0 1 0 0 0 ...\n",
      "  .. ..- attr(*, \"dimnames\")=List of 2\n",
      "  .. .. ..$ : chr [1:269] \"AKT1\" \"ALK\" \"APC\" \"AR\" ...\n",
      "  .. .. ..$ : chr [1:502] \"TCGA-05-4244-01\" \"TCGA-05-4249-01\" \"TCGA-05-4250-01\" \"TCGA-05-4382-01\" ...\n",
      "  ..$ : num [1:269, 1:502] 0 0 0 0 0 0 0 0 0 0 ...\n",
      "  .. ..- attr(*, \"dimnames\")=List of 2\n",
      "  .. .. ..$ : chr [1:269] \"AKT1\" \"ALK\" \"APC\" \"AR\" ...\n",
      "  .. .. ..$ : chr [1:502] \"TCGA-05-4244-01\" \"TCGA-05-4249-01\" \"TCGA-05-4250-01\" \"TCGA-05-4382-01\" ...\n",
      "  ..$ : num [1:269, 1:502] 0 0 0 0 0 0 0 0 0 0 ...\n",
      "  .. ..- attr(*, \"dimnames\")=List of 2\n",
      "  .. .. ..$ : chr [1:269] \"AKT1\" \"ALK\" \"APC\" \"AR\" ...\n",
      "  .. .. ..$ : chr [1:502] \"TCGA-05-4244-01\" \"TCGA-05-4249-01\" \"TCGA-05-4250-01\" \"TCGA-05-4382-01\" ...\n",
      "  ..$ : num [1:269, 1:502] 0 0 0 0 0 0 0 0 0 0 ...\n",
      "  .. ..- attr(*, \"dimnames\")=List of 2\n",
      "  .. .. ..$ : chr [1:269] \"AKT1\" \"ALK\" \"APC\" \"AR\" ...\n",
      "  .. .. ..$ : chr [1:502] \"TCGA-05-4244-01\" \"TCGA-05-4249-01\" \"TCGA-05-4250-01\" \"TCGA-05-4382-01\" ...\n",
      "  ..$ : num [1:269, 1:502] 0 0 0 0 0 0 0 0 0 0 ...\n",
      "  .. ..- attr(*, \"dimnames\")=List of 2\n",
      "  .. .. ..$ : chr [1:269] \"AKT1\" \"ALK\" \"APC\" \"AR\" ...\n",
      "  .. .. ..$ : chr [1:502] \"TCGA-05-4244-01\" \"TCGA-05-4249-01\" \"TCGA-05-4250-01\" \"TCGA-05-4382-01\" ...\n",
      "  ..$ : num [1:269, 1:502] 0 0 0 0 0 0 0 0 0 0 ...\n",
      "  .. ..- attr(*, \"dimnames\")=List of 2\n",
      "  .. .. ..$ : chr [1:269] \"AKT1\" \"ALK\" \"APC\" \"AR\" ...\n",
      "  .. .. ..$ : chr [1:502] \"TCGA-05-4244-01\" \"TCGA-05-4249-01\" \"TCGA-05-4250-01\" \"TCGA-05-4382-01\" ...\n",
      "  ..$ : num [1:269, 1:502] 0 0 0 0 0 0 0 0 0 0 ...\n",
      "  .. ..- attr(*, \"dimnames\")=List of 2\n",
      "  .. .. ..$ : chr [1:269] \"AKT1\" \"ALK\" \"APC\" \"AR\" ...\n",
      "  .. .. ..$ : chr [1:502] \"TCGA-05-4244-01\" \"TCGA-05-4249-01\" \"TCGA-05-4250-01\" \"TCGA-05-4382-01\" ...\n",
      "  ..$ : num [1:269, 1:502] 0 0 1 0 0 0 0 0 0 0 ...\n",
      "  .. ..- attr(*, \"dimnames\")=List of 2\n",
      "  .. .. ..$ : chr [1:269] \"AKT1\" \"ALK\" \"APC\" \"AR\" ...\n",
      "  .. .. ..$ : chr [1:502] \"TCGA-05-4244-01\" \"TCGA-05-4249-01\" \"TCGA-05-4250-01\" \"TCGA-05-4382-01\" ...\n",
      "  ..$ : num [1:269, 1:502] 0 0 0 0 0 0 0 0 0 0 ...\n",
      "  .. ..- attr(*, \"dimnames\")=List of 2\n",
      "  .. .. ..$ : chr [1:269] \"AKT1\" \"ALK\" \"APC\" \"AR\" ...\n",
      "  .. .. ..$ : chr [1:502] \"TCGA-05-4244-01\" \"TCGA-05-4249-01\" \"TCGA-05-4250-01\" \"TCGA-05-4382-01\" ...\n",
      "  ..$ : num [1:269, 1:502] 0 0 0 0 0 0 0 0 0 0 ...\n",
      "  .. ..- attr(*, \"dimnames\")=List of 2\n",
      "  .. .. ..$ : chr [1:269] \"AKT1\" \"ALK\" \"APC\" \"AR\" ...\n",
      "  .. .. ..$ : chr [1:502] \"TCGA-05-4244-01\" \"TCGA-05-4249-01\" \"TCGA-05-4250-01\" \"TCGA-05-4382-01\" ...\n",
      "  ..$ : num [1:269, 1:502] 0 0 0 0 0 0 0 0 0 0 ...\n",
      "  .. ..- attr(*, \"dimnames\")=List of 2\n",
      "  .. .. ..$ : chr [1:269] \"AKT1\" \"ALK\" \"APC\" \"AR\" ...\n",
      "  .. .. ..$ : chr [1:502] \"TCGA-05-4244-01\" \"TCGA-05-4249-01\" \"TCGA-05-4250-01\" \"TCGA-05-4382-01\" ...\n",
      "  ..$ : num [1:269, 1:502] 0 0 0 0 0 0 0 0 0 0 ...\n",
      "  .. ..- attr(*, \"dimnames\")=List of 2\n",
      "  .. .. ..$ : chr [1:269] \"AKT1\" \"ALK\" \"APC\" \"AR\" ...\n",
      "  .. .. ..$ : chr [1:502] \"TCGA-05-4244-01\" \"TCGA-05-4249-01\" \"TCGA-05-4250-01\" \"TCGA-05-4382-01\" ...\n",
      "  .. [list output truncated]\n",
      " $ nSim: int 891\n"
     ]
    }
   ],
   "source": [
    "str(selectX_obj)"
   ]
  },
  {
   "cell_type": "code",
   "execution_count": 51,
   "id": "0d33cb9f-23c0-4bc8-83f4-e0aea09cf603",
   "metadata": {},
   "outputs": [
    {
     "name": "stdout",
     "output_type": "stream",
     "text": [
      " num [1:396, 1:502] 0.00564 0.01132 0.01897 0.00375 0.04236 ...\n",
      " - attr(*, \"dimnames\")=List of 2\n",
      "  ..$ : chr [1:396] \"AKT1\" \"ALK\" \"APC\" \"AR\" ...\n",
      "  ..$ : chr [1:502] \"TCGA-05-4244-01\" \"TCGA-05-4249-01\" \"TCGA-05-4250-01\" \"TCGA-05-4382-01\" ...\n"
     ]
    }
   ],
   "source": [
    "str(gam_discover$bg)"
   ]
  },
  {
   "cell_type": "code",
   "execution_count": 52,
   "id": "fa4830f2-ca3b-4927-bdb0-34c912a7963d",
   "metadata": {},
   "outputs": [
    {
     "data": {
      "text/html": [
       "<table class=\"dataframe\">\n",
       "<caption>A matrix: 6 × 502 of type dbl</caption>\n",
       "<thead>\n",
       "\t<tr><th></th><th scope=col>TCGA-05-4244-01</th><th scope=col>TCGA-05-4249-01</th><th scope=col>TCGA-05-4250-01</th><th scope=col>TCGA-05-4382-01</th><th scope=col>TCGA-05-4384-01</th><th scope=col>TCGA-05-4389-01</th><th scope=col>TCGA-05-4390-01</th><th scope=col>TCGA-05-4395-01</th><th scope=col>TCGA-05-4396-01</th><th scope=col>TCGA-05-4397-01</th><th scope=col>⋯</th><th scope=col>TCGA-MP-A4T6-01</th><th scope=col>TCGA-MP-A4TC-01</th><th scope=col>TCGA-MP-A4TH-01</th><th scope=col>TCGA-MP-A4TJ-01</th><th scope=col>TCGA-MP-A5C7-01</th><th scope=col>TCGA-NJ-A4YF-01</th><th scope=col>TCGA-NJ-A55A-01</th><th scope=col>TCGA-NJ-A7XG-01</th><th scope=col>TCGA-O1-A52J-01</th><th scope=col>TCGA-S2-AA1A-01</th></tr>\n",
       "</thead>\n",
       "<tbody>\n",
       "\t<tr><th scope=row>AKT1</th><td>0.005638681</td><td>0.005638681</td><td>0.005638681</td><td>0.02965670</td><td>0.005638681</td><td>0.003549741</td><td>0.010278638</td><td>0.005638681</td><td>0.012783997</td><td>0.010278638</td><td>⋯</td><td>0.001657051</td><td>0.005638681</td><td>1.513182e-15</td><td>0.001657051</td><td>0.003549741</td><td>0.005638681</td><td>0.001657051</td><td>1.513182e-15</td><td>0.001657051</td><td>1.513182e-15</td></tr>\n",
       "\t<tr><th scope=row>ALK</th><td>0.011321828</td><td>0.011321828</td><td>0.011321828</td><td>0.05813206</td><td>0.011321828</td><td>0.007142598</td><td>0.020541723</td><td>0.011321828</td><td>0.025484237</td><td>0.020541723</td><td>⋯</td><td>0.003340651</td><td>0.011321828</td><td>3.055761e-15</td><td>0.003340651</td><td>0.007142598</td><td>0.011321828</td><td>0.003340651</td><td>3.055761e-15</td><td>0.003340651</td><td>3.055761e-15</td></tr>\n",
       "\t<tr><th scope=row>APC</th><td>0.018967366</td><td>0.018967366</td><td>0.018967366</td><td>0.09437089</td><td>0.018967366</td><td>0.012000191</td><td>0.034198023</td><td>0.018967366</td><td>0.042284506</td><td>0.034198023</td><td>⋯</td><td>0.005627241</td><td>0.018967366</td><td>5.159187e-15</td><td>0.005627241</td><td>0.012000191</td><td>0.018967366</td><td>0.005627241</td><td>5.159187e-15</td><td>0.005627241</td><td>5.159187e-15</td></tr>\n",
       "\t<tr><th scope=row>AR</th><td>0.003754147</td><td>0.003754147</td><td>0.003754147</td><td>0.01990567</td><td>0.003754147</td><td>0.002361705</td><td>0.006854048</td><td>0.003754147</td><td>0.008531879</td><td>0.006854048</td><td>⋯</td><td>0.001101764</td><td>0.003754147</td><td>1.005547e-15</td><td>0.001101764</td><td>0.002361705</td><td>0.003754147</td><td>0.001101764</td><td>1.005547e-15</td><td>0.001101764</td><td>1.005547e-15</td></tr>\n",
       "\t<tr><th scope=row>ATM</th><td>0.042355560</td><td>0.042355560</td><td>0.042355560</td><td>0.19249357</td><td>0.042355560</td><td>0.027034074</td><td>0.074932289</td><td>0.042355560</td><td>0.091735925</td><td>0.074932289</td><td>⋯</td><td>0.012780347</td><td>0.042355560</td><td>1.180222e-14</td><td>0.012780347</td><td>0.027034074</td><td>0.042355560</td><td>0.012780347</td><td>1.180222e-14</td><td>0.012780347</td><td>1.180222e-14</td></tr>\n",
       "\t<tr><th scope=row>BAP1</th><td>0.007528155</td><td>0.007528155</td><td>0.007528155</td><td>0.03927651</td><td>0.007528155</td><td>0.004742568</td><td>0.013701499</td><td>0.007528155</td><td>0.017026807</td><td>0.013701499</td><td>⋯</td><td>0.002215287</td><td>0.007528155</td><td>2.024082e-15</td><td>0.002215287</td><td>0.004742568</td><td>0.007528155</td><td>0.002215287</td><td>2.024082e-15</td><td>0.002215287</td><td>2.024082e-15</td></tr>\n",
       "</tbody>\n",
       "</table>\n"
      ],
      "text/latex": [
       "A matrix: 6 × 502 of type dbl\n",
       "\\begin{tabular}{r|lllllllllllllllllllll}\n",
       "  & TCGA-05-4244-01 & TCGA-05-4249-01 & TCGA-05-4250-01 & TCGA-05-4382-01 & TCGA-05-4384-01 & TCGA-05-4389-01 & TCGA-05-4390-01 & TCGA-05-4395-01 & TCGA-05-4396-01 & TCGA-05-4397-01 & ⋯ & TCGA-MP-A4T6-01 & TCGA-MP-A4TC-01 & TCGA-MP-A4TH-01 & TCGA-MP-A4TJ-01 & TCGA-MP-A5C7-01 & TCGA-NJ-A4YF-01 & TCGA-NJ-A55A-01 & TCGA-NJ-A7XG-01 & TCGA-O1-A52J-01 & TCGA-S2-AA1A-01\\\\\n",
       "\\hline\n",
       "\tAKT1 & 0.005638681 & 0.005638681 & 0.005638681 & 0.02965670 & 0.005638681 & 0.003549741 & 0.010278638 & 0.005638681 & 0.012783997 & 0.010278638 & ⋯ & 0.001657051 & 0.005638681 & 1.513182e-15 & 0.001657051 & 0.003549741 & 0.005638681 & 0.001657051 & 1.513182e-15 & 0.001657051 & 1.513182e-15\\\\\n",
       "\tALK & 0.011321828 & 0.011321828 & 0.011321828 & 0.05813206 & 0.011321828 & 0.007142598 & 0.020541723 & 0.011321828 & 0.025484237 & 0.020541723 & ⋯ & 0.003340651 & 0.011321828 & 3.055761e-15 & 0.003340651 & 0.007142598 & 0.011321828 & 0.003340651 & 3.055761e-15 & 0.003340651 & 3.055761e-15\\\\\n",
       "\tAPC & 0.018967366 & 0.018967366 & 0.018967366 & 0.09437089 & 0.018967366 & 0.012000191 & 0.034198023 & 0.018967366 & 0.042284506 & 0.034198023 & ⋯ & 0.005627241 & 0.018967366 & 5.159187e-15 & 0.005627241 & 0.012000191 & 0.018967366 & 0.005627241 & 5.159187e-15 & 0.005627241 & 5.159187e-15\\\\\n",
       "\tAR & 0.003754147 & 0.003754147 & 0.003754147 & 0.01990567 & 0.003754147 & 0.002361705 & 0.006854048 & 0.003754147 & 0.008531879 & 0.006854048 & ⋯ & 0.001101764 & 0.003754147 & 1.005547e-15 & 0.001101764 & 0.002361705 & 0.003754147 & 0.001101764 & 1.005547e-15 & 0.001101764 & 1.005547e-15\\\\\n",
       "\tATM & 0.042355560 & 0.042355560 & 0.042355560 & 0.19249357 & 0.042355560 & 0.027034074 & 0.074932289 & 0.042355560 & 0.091735925 & 0.074932289 & ⋯ & 0.012780347 & 0.042355560 & 1.180222e-14 & 0.012780347 & 0.027034074 & 0.042355560 & 0.012780347 & 1.180222e-14 & 0.012780347 & 1.180222e-14\\\\\n",
       "\tBAP1 & 0.007528155 & 0.007528155 & 0.007528155 & 0.03927651 & 0.007528155 & 0.004742568 & 0.013701499 & 0.007528155 & 0.017026807 & 0.013701499 & ⋯ & 0.002215287 & 0.007528155 & 2.024082e-15 & 0.002215287 & 0.004742568 & 0.007528155 & 0.002215287 & 2.024082e-15 & 0.002215287 & 2.024082e-15\\\\\n",
       "\\end{tabular}\n"
      ],
      "text/markdown": [
       "\n",
       "A matrix: 6 × 502 of type dbl\n",
       "\n",
       "| <!--/--> | TCGA-05-4244-01 | TCGA-05-4249-01 | TCGA-05-4250-01 | TCGA-05-4382-01 | TCGA-05-4384-01 | TCGA-05-4389-01 | TCGA-05-4390-01 | TCGA-05-4395-01 | TCGA-05-4396-01 | TCGA-05-4397-01 | ⋯ | TCGA-MP-A4T6-01 | TCGA-MP-A4TC-01 | TCGA-MP-A4TH-01 | TCGA-MP-A4TJ-01 | TCGA-MP-A5C7-01 | TCGA-NJ-A4YF-01 | TCGA-NJ-A55A-01 | TCGA-NJ-A7XG-01 | TCGA-O1-A52J-01 | TCGA-S2-AA1A-01 |\n",
       "|---|---|---|---|---|---|---|---|---|---|---|---|---|---|---|---|---|---|---|---|---|---|\n",
       "| AKT1 | 0.005638681 | 0.005638681 | 0.005638681 | 0.02965670 | 0.005638681 | 0.003549741 | 0.010278638 | 0.005638681 | 0.012783997 | 0.010278638 | ⋯ | 0.001657051 | 0.005638681 | 1.513182e-15 | 0.001657051 | 0.003549741 | 0.005638681 | 0.001657051 | 1.513182e-15 | 0.001657051 | 1.513182e-15 |\n",
       "| ALK | 0.011321828 | 0.011321828 | 0.011321828 | 0.05813206 | 0.011321828 | 0.007142598 | 0.020541723 | 0.011321828 | 0.025484237 | 0.020541723 | ⋯ | 0.003340651 | 0.011321828 | 3.055761e-15 | 0.003340651 | 0.007142598 | 0.011321828 | 0.003340651 | 3.055761e-15 | 0.003340651 | 3.055761e-15 |\n",
       "| APC | 0.018967366 | 0.018967366 | 0.018967366 | 0.09437089 | 0.018967366 | 0.012000191 | 0.034198023 | 0.018967366 | 0.042284506 | 0.034198023 | ⋯ | 0.005627241 | 0.018967366 | 5.159187e-15 | 0.005627241 | 0.012000191 | 0.018967366 | 0.005627241 | 5.159187e-15 | 0.005627241 | 5.159187e-15 |\n",
       "| AR | 0.003754147 | 0.003754147 | 0.003754147 | 0.01990567 | 0.003754147 | 0.002361705 | 0.006854048 | 0.003754147 | 0.008531879 | 0.006854048 | ⋯ | 0.001101764 | 0.003754147 | 1.005547e-15 | 0.001101764 | 0.002361705 | 0.003754147 | 0.001101764 | 1.005547e-15 | 0.001101764 | 1.005547e-15 |\n",
       "| ATM | 0.042355560 | 0.042355560 | 0.042355560 | 0.19249357 | 0.042355560 | 0.027034074 | 0.074932289 | 0.042355560 | 0.091735925 | 0.074932289 | ⋯ | 0.012780347 | 0.042355560 | 1.180222e-14 | 0.012780347 | 0.027034074 | 0.042355560 | 0.012780347 | 1.180222e-14 | 0.012780347 | 1.180222e-14 |\n",
       "| BAP1 | 0.007528155 | 0.007528155 | 0.007528155 | 0.03927651 | 0.007528155 | 0.004742568 | 0.013701499 | 0.007528155 | 0.017026807 | 0.013701499 | ⋯ | 0.002215287 | 0.007528155 | 2.024082e-15 | 0.002215287 | 0.004742568 | 0.007528155 | 0.002215287 | 2.024082e-15 | 0.002215287 | 2.024082e-15 |\n",
       "\n"
      ],
      "text/plain": [
       "     TCGA-05-4244-01 TCGA-05-4249-01 TCGA-05-4250-01 TCGA-05-4382-01\n",
       "AKT1 0.005638681     0.005638681     0.005638681     0.02965670     \n",
       "ALK  0.011321828     0.011321828     0.011321828     0.05813206     \n",
       "APC  0.018967366     0.018967366     0.018967366     0.09437089     \n",
       "AR   0.003754147     0.003754147     0.003754147     0.01990567     \n",
       "ATM  0.042355560     0.042355560     0.042355560     0.19249357     \n",
       "BAP1 0.007528155     0.007528155     0.007528155     0.03927651     \n",
       "     TCGA-05-4384-01 TCGA-05-4389-01 TCGA-05-4390-01 TCGA-05-4395-01\n",
       "AKT1 0.005638681     0.003549741     0.010278638     0.005638681    \n",
       "ALK  0.011321828     0.007142598     0.020541723     0.011321828    \n",
       "APC  0.018967366     0.012000191     0.034198023     0.018967366    \n",
       "AR   0.003754147     0.002361705     0.006854048     0.003754147    \n",
       "ATM  0.042355560     0.027034074     0.074932289     0.042355560    \n",
       "BAP1 0.007528155     0.004742568     0.013701499     0.007528155    \n",
       "     TCGA-05-4396-01 TCGA-05-4397-01 ⋯ TCGA-MP-A4T6-01 TCGA-MP-A4TC-01\n",
       "AKT1 0.012783997     0.010278638     ⋯ 0.001657051     0.005638681    \n",
       "ALK  0.025484237     0.020541723     ⋯ 0.003340651     0.011321828    \n",
       "APC  0.042284506     0.034198023     ⋯ 0.005627241     0.018967366    \n",
       "AR   0.008531879     0.006854048     ⋯ 0.001101764     0.003754147    \n",
       "ATM  0.091735925     0.074932289     ⋯ 0.012780347     0.042355560    \n",
       "BAP1 0.017026807     0.013701499     ⋯ 0.002215287     0.007528155    \n",
       "     TCGA-MP-A4TH-01 TCGA-MP-A4TJ-01 TCGA-MP-A5C7-01 TCGA-NJ-A4YF-01\n",
       "AKT1 1.513182e-15    0.001657051     0.003549741     0.005638681    \n",
       "ALK  3.055761e-15    0.003340651     0.007142598     0.011321828    \n",
       "APC  5.159187e-15    0.005627241     0.012000191     0.018967366    \n",
       "AR   1.005547e-15    0.001101764     0.002361705     0.003754147    \n",
       "ATM  1.180222e-14    0.012780347     0.027034074     0.042355560    \n",
       "BAP1 2.024082e-15    0.002215287     0.004742568     0.007528155    \n",
       "     TCGA-NJ-A55A-01 TCGA-NJ-A7XG-01 TCGA-O1-A52J-01 TCGA-S2-AA1A-01\n",
       "AKT1 0.001657051     1.513182e-15    0.001657051     1.513182e-15   \n",
       "ALK  0.003340651     3.055761e-15    0.003340651     3.055761e-15   \n",
       "APC  0.005627241     5.159187e-15    0.005627241     5.159187e-15   \n",
       "AR   0.001101764     1.005547e-15    0.001101764     1.005547e-15   \n",
       "ATM  0.012780347     1.180222e-14    0.012780347     1.180222e-14   \n",
       "BAP1 0.002215287     2.024082e-15    0.002215287     2.024082e-15   "
      ]
     },
     "metadata": {},
     "output_type": "display_data"
    }
   ],
   "source": [
    "head(gam_discover$bg)"
   ]
  },
  {
   "cell_type": "code",
   "execution_count": 53,
   "id": "a199af07-8df6-47d9-8bd2-6b69de7b46d8",
   "metadata": {},
   "outputs": [],
   "source": [
    "discover_selectX_obj <-selectX_obj"
   ]
  },
  {
   "cell_type": "code",
   "execution_count": 54,
   "id": "ab464776-7e58-4f3e-bdb4-6c81ba7189aa",
   "metadata": {},
   "outputs": [],
   "source": [
    "discover_selectX_obj$T$templeate.obj$mut$LUAD <- gam_discover$bg"
   ]
  },
  {
   "cell_type": "code",
   "execution_count": 55,
   "id": "59b79e5c-5a1d-4981-a11e-b9768007916e",
   "metadata": {},
   "outputs": [],
   "source": [
    "discover_selectX_obj$T$temp_mat$mut <- gam_discover$bg"
   ]
  },
  {
   "cell_type": "code",
   "execution_count": 56,
   "id": "dc2df2d7-6928-415b-9537-503edbb006cc",
   "metadata": {},
   "outputs": [],
   "source": [
    "sim <- SelectX::null_model_parallel(discover_selectX_obj$al,\n",
    "                                       discover_selectX_obj$T$temp_mat,\n",
    "                                       discover_selectX_obj$W$W,\n",
    "                                       1,\n",
    "                                       1000)"
   ]
  },
  {
   "cell_type": "code",
   "execution_count": 57,
   "id": "34da85a7-ad71-4b33-aaa5-e630688c3713",
   "metadata": {},
   "outputs": [
    {
     "data": {
      "text/html": [
       "1000"
      ],
      "text/latex": [
       "1000"
      ],
      "text/markdown": [
       "1000"
      ],
      "text/plain": [
       "[1] 1000"
      ]
     },
     "metadata": {},
     "output_type": "display_data"
    }
   ],
   "source": [
    "length(sim)"
   ]
  },
  {
   "cell_type": "code",
   "execution_count": 58,
   "id": "4b3e6421-76e3-4b5d-ab9f-7175bd2d37b1",
   "metadata": {},
   "outputs": [],
   "source": [
    "discover_selectX_obj$null <- sim\n",
    "discover_selectX_obj$nSim <- length(sim)"
   ]
  },
  {
   "cell_type": "code",
   "execution_count": 59,
   "id": "4e4664c0-c18f-41ce-adf6-f26277dd2d7f",
   "metadata": {},
   "outputs": [],
   "source": [
    "test_fun <- function(obj){    \n",
    "    al<-obj$al\n",
    "    als = SelectX::al.stats(obj) # Univariate stats\n",
    "    alp = SelectX::al.pairwise.alteration.stats(obj, als, do.blocks=FALSE)\n",
    "    als[['alteration.pairwise']] = alp\n",
    "    als[['alteration.pairwise']]$sample.blocks = NULL\n",
    "    for(i in names(als$sample.blocks)) als$sample.blocks[[i]][['alteration.pairwise']] = alp$sample.blocks[[i]]\n",
    "    obs.co = as.matrix(als$alteration.pairwise$overlap)\n",
    "    wobs.co = as.matrix(als$alteration.pairwise$w_overlap)\n",
    "    robs.co<-SelectX::r.am.pairwise.alteration.overlap(null = obj$null,\n",
    "                              n.permut = obj$nSim,\n",
    "                              n.cores = 1)\n",
    "    wrobs.co<-SelectX::w.r.am.pairwise.alteration.overlap(null = obj$null,\n",
    "                                 W= obj$W$W,\n",
    "                                 n.permut = obj$nSim,\n",
    "                                 n.cores = 1)\n",
    "\n",
    "    selectX_result <- interaction.table(al,\n",
    "                                    als,\n",
    "                                    obs.co,\n",
    "                                    wobs.co,\n",
    "                                    robs.co,\n",
    "                                    wrobs.co,\n",
    "                                    null=obj$null,\n",
    "                                    maxFDR=0.25,\n",
    "                                    n.cores=1,\n",
    "                                    estimate_pairwise=FALSE,\n",
    "                                    n.permut=obj$nSim)\n",
    "}"
   ]
  },
  {
   "cell_type": "code",
   "execution_count": 60,
   "id": "a7c87ce6-dc7a-4364-8496-b729feb3e94b",
   "metadata": {},
   "outputs": [],
   "source": [
    "disocver_selectX_result <- test_fun(discover_selectX_obj)"
   ]
  },
  {
   "cell_type": "code",
   "execution_count": 61,
   "id": "59806e3a-cbdb-427a-b39f-22bd1d54aa65",
   "metadata": {},
   "outputs": [
    {
     "data": {
      "text/html": [
       "<table class=\"dataframe\">\n",
       "<caption>A data.frame: 2 × 2</caption>\n",
       "<thead>\n",
       "\t<tr><th scope=col>type</th><th scope=col>n</th></tr>\n",
       "\t<tr><th scope=col>&lt;chr&gt;</th><th scope=col>&lt;int&gt;</th></tr>\n",
       "</thead>\n",
       "<tbody>\n",
       "\t<tr><td>CO</td><td>12</td></tr>\n",
       "\t<tr><td>ME</td><td>14</td></tr>\n",
       "</tbody>\n",
       "</table>\n"
      ],
      "text/latex": [
       "A data.frame: 2 × 2\n",
       "\\begin{tabular}{ll}\n",
       " type & n\\\\\n",
       " <chr> & <int>\\\\\n",
       "\\hline\n",
       "\t CO & 12\\\\\n",
       "\t ME & 14\\\\\n",
       "\\end{tabular}\n"
      ],
      "text/markdown": [
       "\n",
       "A data.frame: 2 × 2\n",
       "\n",
       "| type &lt;chr&gt; | n &lt;int&gt; |\n",
       "|---|---|\n",
       "| CO | 12 |\n",
       "| ME | 14 |\n",
       "\n"
      ],
      "text/plain": [
       "  type n \n",
       "1 CO   12\n",
       "2 ME   14"
      ]
     },
     "metadata": {},
     "output_type": "display_data"
    }
   ],
   "source": [
    "disocver_selectX_result %>% filter(nFDR2<=0.25) %>% dplyr::count(type)"
   ]
  },
  {
   "cell_type": "code",
   "execution_count": 62,
   "id": "5669103d-4898-4f13-9444-e3d75503321a",
   "metadata": {},
   "outputs": [],
   "source": [
    "disocver_selectX_result<-disocver_selectX_result %>% mutate(id=case_when(SFE_1>SFE_2 ~ paste(SFE_2,SFE_1,sep=\"_\"),\n",
    "                                SFE_1<SFE_2 ~ paste(SFE_1,SFE_2,sep=\"_\")\n",
    "                               )\n",
    "                  )"
   ]
  },
  {
   "cell_type": "code",
   "execution_count": 64,
   "id": "c62dd931-2dad-4e3b-8934-442ba5f35e10",
   "metadata": {},
   "outputs": [
    {
     "data": {
      "text/html": [
       "<style>\n",
       ".list-inline {list-style: none; margin:0; padding: 0}\n",
       ".list-inline>li {display: inline-block}\n",
       ".list-inline>li:not(:last-child)::after {content: \"\\00b7\"; padding: 0 .5ex}\n",
       "</style>\n",
       "<ol class=list-inline><li>38</li><li>6</li></ol>\n"
      ],
      "text/latex": [
       "\\begin{enumerate*}\n",
       "\\item 38\n",
       "\\item 6\n",
       "\\end{enumerate*}\n"
      ],
      "text/markdown": [
       "1. 38\n",
       "2. 6\n",
       "\n",
       "\n"
      ],
      "text/plain": [
       "[1] 38  6"
      ]
     },
     "metadata": {},
     "output_type": "display_data"
    },
    {
     "data": {
      "text/html": [
       "<style>\n",
       ".list-inline {list-style: none; margin:0; padding: 0}\n",
       ".list-inline>li {display: inline-block}\n",
       ".list-inline>li:not(:last-child)::after {content: \"\\00b7\"; padding: 0 .5ex}\n",
       "</style>\n",
       "<ol class=list-inline><li>36046</li><li>23</li></ol>\n"
      ],
      "text/latex": [
       "\\begin{enumerate*}\n",
       "\\item 36046\n",
       "\\item 23\n",
       "\\end{enumerate*}\n"
      ],
      "text/markdown": [
       "1. 36046\n",
       "2. 23\n",
       "\n",
       "\n"
      ],
      "text/plain": [
       "[1] 36046    23"
      ]
     },
     "metadata": {},
     "output_type": "display_data"
    }
   ],
   "source": [
    "dim(discover_result)\n",
    "dim(disocver_selectX_result)"
   ]
  },
  {
   "cell_type": "code",
   "execution_count": 65,
   "id": "ac98b225-889a-4f03-964e-ca49122745a6",
   "metadata": {
    "scrolled": true
   },
   "outputs": [
    {
     "data": {
      "text/html": [
       "<table class=\"dataframe\">\n",
       "<caption>A data.frame: 26 × 10</caption>\n",
       "<thead>\n",
       "\t<tr><th></th><th scope=col>SFE_1</th><th scope=col>SFE_2</th><th scope=col>overlap</th><th scope=col>w_overlap</th><th scope=col>r_overlap</th><th scope=col>w_r_overlap</th><th scope=col>nES</th><th scope=col>cum_freq</th><th scope=col>type</th><th scope=col>FDR</th></tr>\n",
       "\t<tr><th></th><th scope=col>&lt;chr&gt;</th><th scope=col>&lt;chr&gt;</th><th scope=col>&lt;dbl&gt;</th><th scope=col>&lt;dbl&gt;</th><th scope=col>&lt;dbl&gt;</th><th scope=col>&lt;dbl&gt;</th><th scope=col>&lt;dbl&gt;</th><th scope=col>&lt;dbl&gt;</th><th scope=col>&lt;chr&gt;</th><th scope=col>&lt;lgl&gt;</th></tr>\n",
       "</thead>\n",
       "<tbody>\n",
       "\t<tr><th scope=row>KRAS - TP53</th><td>KRAS  </td><td>TP53   </td><td>49</td><td>35.8760174</td><td>67.622</td><td>55.6307165</td><td>-11.382077</td><td>375</td><td>ME</td><td>TRUE</td></tr>\n",
       "\t<tr><th scope=row>EGFR - TP53</th><td>EGFR  </td><td>TP53   </td><td>32</td><td>29.3335097</td><td>25.861</td><td>19.1079805</td><td>  5.637006</td><td>278</td><td>CO</td><td>TRUE</td></tr>\n",
       "\t<tr><th scope=row>KRAS - STK11</th><td>KRAS  </td><td>STK11  </td><td>28</td><td>25.9230769</td><td>18.111</td><td>14.9469632</td><td>  6.066377</td><td>213</td><td>CO</td><td>TRUE</td></tr>\n",
       "\t<tr><th scope=row>NF1 - TP53</th><td>NF1   </td><td>TP53   </td><td>22</td><td>17.1417004</td><td>14.408</td><td>11.4415631</td><td>  2.704932</td><td>253</td><td>CO</td><td>TRUE</td></tr>\n",
       "\t<tr><th scope=row>KRAS - RBM10</th><td>KRAS  </td><td>RBM10  </td><td>16</td><td>13.9725275</td><td> 8.899</td><td> 7.3077025</td><td>  3.517927</td><td>183</td><td>CO</td><td>TRUE</td></tr>\n",
       "\t<tr><th scope=row>RB1 - TP53</th><td>RB1   </td><td>TP53   </td><td>15</td><td>12.0045547</td><td> 8.546</td><td> 6.2311220</td><td>  3.130294</td><td>240</td><td>CO</td><td>TRUE</td></tr>\n",
       "\t<tr><th scope=row>STK11 - TP53</th><td>STK11 </td><td>TP53   </td><td>13</td><td> 9.5456386</td><td>26.083</td><td>21.3880359</td><td> -6.606724</td><td>280</td><td>ME</td><td>TRUE</td></tr>\n",
       "\t<tr><th scope=row>ATM - KRAS</th><td>ATM   </td><td>KRAS   </td><td>13</td><td>10.7706044</td><td> 6.846</td><td> 5.0670045</td><td>  3.093742</td><td>176</td><td>CO</td><td>TRUE</td></tr>\n",
       "\t<tr><th scope=row>KRAS - KEAP1</th><td>KRAS  </td><td>KEAP1  </td><td>13</td><td>12.5384615</td><td>10.122</td><td> 8.2926058</td><td>  1.769983</td><td>187</td><td>CO</td><td>TRUE</td></tr>\n",
       "\t<tr><th scope=row>CDKN2A - TP53</th><td>CDKN2A</td><td>TP53   </td><td>12</td><td> 8.6168114</td><td> 7.774</td><td> 5.6783720</td><td>  1.178949</td><td>238</td><td>CO</td><td>TRUE</td></tr>\n",
       "\t<tr><th scope=row>STK11 - KEAP1</th><td>STK11 </td><td>KEAP1  </td><td>10</td><td> 9.3076923</td><td> 3.957</td><td> 3.2457899</td><td>  3.421514</td><td> 92</td><td>CO</td><td>TRUE</td></tr>\n",
       "\t<tr><th scope=row>TP53 - KEAP1</th><td>TP53  </td><td>KEAP1  </td><td>10</td><td> 7.2103817</td><td>14.588</td><td>11.9230976</td><td> -2.029229</td><td>254</td><td>ME</td><td>TRUE</td></tr>\n",
       "\t<tr><th scope=row>ATM - STK11</th><td>ATM   </td><td>STK11  </td><td> 7</td><td> 6.5384615</td><td> 2.622</td><td> 1.9390712</td><td>  2.599635</td><td> 81</td><td>CO</td><td>TRUE</td></tr>\n",
       "\t<tr><th scope=row>TP53 - RBM10</th><td>TP53  </td><td>RBM10  </td><td> 7</td><td> 5.0840081</td><td>12.856</td><td>10.4978573</td><td> -2.549198</td><td>250</td><td>ME</td><td>TRUE</td></tr>\n",
       "\t<tr><th scope=row>SETD2 - TP53</th><td>SETD2 </td><td>TP53   </td><td> 5</td><td> 3.1790052</td><td> 9.592</td><td> 7.9046908</td><td> -2.221771</td><td>243</td><td>ME</td><td>TRUE</td></tr>\n",
       "\t<tr><th scope=row>BRAF - SETD2</th><td>BRAF  </td><td>SETD2  </td><td> 5</td><td> 4.5263158</td><td> 1.650</td><td> 1.2144244</td><td>  1.823245</td><td> 57</td><td>CO</td><td>TRUE</td></tr>\n",
       "\t<tr><th scope=row>KRAS - MGA</th><td>KRAS  </td><td>MGA    </td><td> 5</td><td> 2.5085165</td><td> 7.800</td><td> 6.4035589</td><td> -1.638698</td><td>179</td><td>ME</td><td>TRUE</td></tr>\n",
       "\t<tr><th scope=row>ATM - TP53</th><td>ATM   </td><td>TP53   </td><td> 4</td><td> 1.6618664</td><td> 9.863</td><td> 7.2155047</td><td> -2.947271</td><td>243</td><td>ME</td><td>TRUE</td></tr>\n",
       "\t<tr><th scope=row>KRAS - NF1</th><td>KRAS  </td><td>NF1    </td><td> 4</td><td> 3.2500000</td><td> 9.808</td><td> 7.8405764</td><td> -2.034297</td><td>186</td><td>ME</td><td>TRUE</td></tr>\n",
       "\t<tr><th scope=row>STK11 - INPP4B</th><td>STK11 </td><td>INPP4B </td><td> 4</td><td> 3.6250000</td><td> 0.722</td><td> 0.5904195</td><td>  1.759585</td><td> 65</td><td>CO</td><td>TRUE</td></tr>\n",
       "\t<tr><th scope=row>TP53 - PTPRD</th><td>TP53  </td><td>PTPRD  </td><td> 4</td><td> 1.8951613</td><td> 6.080</td><td> 5.0245243</td><td> -1.285822</td><td>235</td><td>ME</td><td>TRUE</td></tr>\n",
       "\t<tr><th scope=row>BRAF - KRAS</th><td>BRAF  </td><td>KRAS   </td><td> 2</td><td> 0.9821429</td><td>10.834</td><td> 8.0168196</td><td> -3.809887</td><td>189</td><td>ME</td><td>TRUE</td></tr>\n",
       "\t<tr><th scope=row>KRAS - SMARCA4</th><td>KRAS  </td><td>SMARCA4</td><td> 2</td><td> 1.7692308</td><td> 7.320</td><td> 5.9561922</td><td> -1.879827</td><td>178</td><td>ME</td><td>TRUE</td></tr>\n",
       "\t<tr><th scope=row>KRAS - RB1</th><td>KRAS  </td><td>RB1    </td><td> 2</td><td> 1.1513158</td><td> 5.885</td><td> 4.3405069</td><td> -1.404420</td><td>173</td><td>ME</td><td>TRUE</td></tr>\n",
       "\t<tr><th scope=row>EGFR - KRAS</th><td>EGFR  </td><td>KRAS   </td><td> 0</td><td> 0.0000000</td><td>17.583</td><td>13.0906374</td><td> -7.781819</td><td>211</td><td>ME</td><td>TRUE</td></tr>\n",
       "\t<tr><th scope=row>EGFR - STK11</th><td>EGFR  </td><td>STK11  </td><td> 0</td><td> 0.0000000</td><td> 6.845</td><td> 5.1019712</td><td> -2.556995</td><td>116</td><td>ME</td><td>TRUE</td></tr>\n",
       "</tbody>\n",
       "</table>\n"
      ],
      "text/latex": [
       "A data.frame: 26 × 10\n",
       "\\begin{tabular}{r|llllllllll}\n",
       "  & SFE\\_1 & SFE\\_2 & overlap & w\\_overlap & r\\_overlap & w\\_r\\_overlap & nES & cum\\_freq & type & FDR\\\\\n",
       "  & <chr> & <chr> & <dbl> & <dbl> & <dbl> & <dbl> & <dbl> & <dbl> & <chr> & <lgl>\\\\\n",
       "\\hline\n",
       "\tKRAS - TP53 & KRAS   & TP53    & 49 & 35.8760174 & 67.622 & 55.6307165 & -11.382077 & 375 & ME & TRUE\\\\\n",
       "\tEGFR - TP53 & EGFR   & TP53    & 32 & 29.3335097 & 25.861 & 19.1079805 &   5.637006 & 278 & CO & TRUE\\\\\n",
       "\tKRAS - STK11 & KRAS   & STK11   & 28 & 25.9230769 & 18.111 & 14.9469632 &   6.066377 & 213 & CO & TRUE\\\\\n",
       "\tNF1 - TP53 & NF1    & TP53    & 22 & 17.1417004 & 14.408 & 11.4415631 &   2.704932 & 253 & CO & TRUE\\\\\n",
       "\tKRAS - RBM10 & KRAS   & RBM10   & 16 & 13.9725275 &  8.899 &  7.3077025 &   3.517927 & 183 & CO & TRUE\\\\\n",
       "\tRB1 - TP53 & RB1    & TP53    & 15 & 12.0045547 &  8.546 &  6.2311220 &   3.130294 & 240 & CO & TRUE\\\\\n",
       "\tSTK11 - TP53 & STK11  & TP53    & 13 &  9.5456386 & 26.083 & 21.3880359 &  -6.606724 & 280 & ME & TRUE\\\\\n",
       "\tATM - KRAS & ATM    & KRAS    & 13 & 10.7706044 &  6.846 &  5.0670045 &   3.093742 & 176 & CO & TRUE\\\\\n",
       "\tKRAS - KEAP1 & KRAS   & KEAP1   & 13 & 12.5384615 & 10.122 &  8.2926058 &   1.769983 & 187 & CO & TRUE\\\\\n",
       "\tCDKN2A - TP53 & CDKN2A & TP53    & 12 &  8.6168114 &  7.774 &  5.6783720 &   1.178949 & 238 & CO & TRUE\\\\\n",
       "\tSTK11 - KEAP1 & STK11  & KEAP1   & 10 &  9.3076923 &  3.957 &  3.2457899 &   3.421514 &  92 & CO & TRUE\\\\\n",
       "\tTP53 - KEAP1 & TP53   & KEAP1   & 10 &  7.2103817 & 14.588 & 11.9230976 &  -2.029229 & 254 & ME & TRUE\\\\\n",
       "\tATM - STK11 & ATM    & STK11   &  7 &  6.5384615 &  2.622 &  1.9390712 &   2.599635 &  81 & CO & TRUE\\\\\n",
       "\tTP53 - RBM10 & TP53   & RBM10   &  7 &  5.0840081 & 12.856 & 10.4978573 &  -2.549198 & 250 & ME & TRUE\\\\\n",
       "\tSETD2 - TP53 & SETD2  & TP53    &  5 &  3.1790052 &  9.592 &  7.9046908 &  -2.221771 & 243 & ME & TRUE\\\\\n",
       "\tBRAF - SETD2 & BRAF   & SETD2   &  5 &  4.5263158 &  1.650 &  1.2144244 &   1.823245 &  57 & CO & TRUE\\\\\n",
       "\tKRAS - MGA & KRAS   & MGA     &  5 &  2.5085165 &  7.800 &  6.4035589 &  -1.638698 & 179 & ME & TRUE\\\\\n",
       "\tATM - TP53 & ATM    & TP53    &  4 &  1.6618664 &  9.863 &  7.2155047 &  -2.947271 & 243 & ME & TRUE\\\\\n",
       "\tKRAS - NF1 & KRAS   & NF1     &  4 &  3.2500000 &  9.808 &  7.8405764 &  -2.034297 & 186 & ME & TRUE\\\\\n",
       "\tSTK11 - INPP4B & STK11  & INPP4B  &  4 &  3.6250000 &  0.722 &  0.5904195 &   1.759585 &  65 & CO & TRUE\\\\\n",
       "\tTP53 - PTPRD & TP53   & PTPRD   &  4 &  1.8951613 &  6.080 &  5.0245243 &  -1.285822 & 235 & ME & TRUE\\\\\n",
       "\tBRAF - KRAS & BRAF   & KRAS    &  2 &  0.9821429 & 10.834 &  8.0168196 &  -3.809887 & 189 & ME & TRUE\\\\\n",
       "\tKRAS - SMARCA4 & KRAS   & SMARCA4 &  2 &  1.7692308 &  7.320 &  5.9561922 &  -1.879827 & 178 & ME & TRUE\\\\\n",
       "\tKRAS - RB1 & KRAS   & RB1     &  2 &  1.1513158 &  5.885 &  4.3405069 &  -1.404420 & 173 & ME & TRUE\\\\\n",
       "\tEGFR - KRAS & EGFR   & KRAS    &  0 &  0.0000000 & 17.583 & 13.0906374 &  -7.781819 & 211 & ME & TRUE\\\\\n",
       "\tEGFR - STK11 & EGFR   & STK11   &  0 &  0.0000000 &  6.845 &  5.1019712 &  -2.556995 & 116 & ME & TRUE\\\\\n",
       "\\end{tabular}\n"
      ],
      "text/markdown": [
       "\n",
       "A data.frame: 26 × 10\n",
       "\n",
       "| <!--/--> | SFE_1 &lt;chr&gt; | SFE_2 &lt;chr&gt; | overlap &lt;dbl&gt; | w_overlap &lt;dbl&gt; | r_overlap &lt;dbl&gt; | w_r_overlap &lt;dbl&gt; | nES &lt;dbl&gt; | cum_freq &lt;dbl&gt; | type &lt;chr&gt; | FDR &lt;lgl&gt; |\n",
       "|---|---|---|---|---|---|---|---|---|---|---|\n",
       "| KRAS - TP53 | KRAS   | TP53    | 49 | 35.8760174 | 67.622 | 55.6307165 | -11.382077 | 375 | ME | TRUE |\n",
       "| EGFR - TP53 | EGFR   | TP53    | 32 | 29.3335097 | 25.861 | 19.1079805 |   5.637006 | 278 | CO | TRUE |\n",
       "| KRAS - STK11 | KRAS   | STK11   | 28 | 25.9230769 | 18.111 | 14.9469632 |   6.066377 | 213 | CO | TRUE |\n",
       "| NF1 - TP53 | NF1    | TP53    | 22 | 17.1417004 | 14.408 | 11.4415631 |   2.704932 | 253 | CO | TRUE |\n",
       "| KRAS - RBM10 | KRAS   | RBM10   | 16 | 13.9725275 |  8.899 |  7.3077025 |   3.517927 | 183 | CO | TRUE |\n",
       "| RB1 - TP53 | RB1    | TP53    | 15 | 12.0045547 |  8.546 |  6.2311220 |   3.130294 | 240 | CO | TRUE |\n",
       "| STK11 - TP53 | STK11  | TP53    | 13 |  9.5456386 | 26.083 | 21.3880359 |  -6.606724 | 280 | ME | TRUE |\n",
       "| ATM - KRAS | ATM    | KRAS    | 13 | 10.7706044 |  6.846 |  5.0670045 |   3.093742 | 176 | CO | TRUE |\n",
       "| KRAS - KEAP1 | KRAS   | KEAP1   | 13 | 12.5384615 | 10.122 |  8.2926058 |   1.769983 | 187 | CO | TRUE |\n",
       "| CDKN2A - TP53 | CDKN2A | TP53    | 12 |  8.6168114 |  7.774 |  5.6783720 |   1.178949 | 238 | CO | TRUE |\n",
       "| STK11 - KEAP1 | STK11  | KEAP1   | 10 |  9.3076923 |  3.957 |  3.2457899 |   3.421514 |  92 | CO | TRUE |\n",
       "| TP53 - KEAP1 | TP53   | KEAP1   | 10 |  7.2103817 | 14.588 | 11.9230976 |  -2.029229 | 254 | ME | TRUE |\n",
       "| ATM - STK11 | ATM    | STK11   |  7 |  6.5384615 |  2.622 |  1.9390712 |   2.599635 |  81 | CO | TRUE |\n",
       "| TP53 - RBM10 | TP53   | RBM10   |  7 |  5.0840081 | 12.856 | 10.4978573 |  -2.549198 | 250 | ME | TRUE |\n",
       "| SETD2 - TP53 | SETD2  | TP53    |  5 |  3.1790052 |  9.592 |  7.9046908 |  -2.221771 | 243 | ME | TRUE |\n",
       "| BRAF - SETD2 | BRAF   | SETD2   |  5 |  4.5263158 |  1.650 |  1.2144244 |   1.823245 |  57 | CO | TRUE |\n",
       "| KRAS - MGA | KRAS   | MGA     |  5 |  2.5085165 |  7.800 |  6.4035589 |  -1.638698 | 179 | ME | TRUE |\n",
       "| ATM - TP53 | ATM    | TP53    |  4 |  1.6618664 |  9.863 |  7.2155047 |  -2.947271 | 243 | ME | TRUE |\n",
       "| KRAS - NF1 | KRAS   | NF1     |  4 |  3.2500000 |  9.808 |  7.8405764 |  -2.034297 | 186 | ME | TRUE |\n",
       "| STK11 - INPP4B | STK11  | INPP4B  |  4 |  3.6250000 |  0.722 |  0.5904195 |   1.759585 |  65 | CO | TRUE |\n",
       "| TP53 - PTPRD | TP53   | PTPRD   |  4 |  1.8951613 |  6.080 |  5.0245243 |  -1.285822 | 235 | ME | TRUE |\n",
       "| BRAF - KRAS | BRAF   | KRAS    |  2 |  0.9821429 | 10.834 |  8.0168196 |  -3.809887 | 189 | ME | TRUE |\n",
       "| KRAS - SMARCA4 | KRAS   | SMARCA4 |  2 |  1.7692308 |  7.320 |  5.9561922 |  -1.879827 | 178 | ME | TRUE |\n",
       "| KRAS - RB1 | KRAS   | RB1     |  2 |  1.1513158 |  5.885 |  4.3405069 |  -1.404420 | 173 | ME | TRUE |\n",
       "| EGFR - KRAS | EGFR   | KRAS    |  0 |  0.0000000 | 17.583 | 13.0906374 |  -7.781819 | 211 | ME | TRUE |\n",
       "| EGFR - STK11 | EGFR   | STK11   |  0 |  0.0000000 |  6.845 |  5.1019712 |  -2.556995 | 116 | ME | TRUE |\n",
       "\n"
      ],
      "text/plain": [
       "               SFE_1  SFE_2   overlap w_overlap  r_overlap w_r_overlap\n",
       "KRAS - TP53    KRAS   TP53    49      35.8760174 67.622    55.6307165 \n",
       "EGFR - TP53    EGFR   TP53    32      29.3335097 25.861    19.1079805 \n",
       "KRAS - STK11   KRAS   STK11   28      25.9230769 18.111    14.9469632 \n",
       "NF1 - TP53     NF1    TP53    22      17.1417004 14.408    11.4415631 \n",
       "KRAS - RBM10   KRAS   RBM10   16      13.9725275  8.899     7.3077025 \n",
       "RB1 - TP53     RB1    TP53    15      12.0045547  8.546     6.2311220 \n",
       "STK11 - TP53   STK11  TP53    13       9.5456386 26.083    21.3880359 \n",
       "ATM - KRAS     ATM    KRAS    13      10.7706044  6.846     5.0670045 \n",
       "KRAS - KEAP1   KRAS   KEAP1   13      12.5384615 10.122     8.2926058 \n",
       "CDKN2A - TP53  CDKN2A TP53    12       8.6168114  7.774     5.6783720 \n",
       "STK11 - KEAP1  STK11  KEAP1   10       9.3076923  3.957     3.2457899 \n",
       "TP53 - KEAP1   TP53   KEAP1   10       7.2103817 14.588    11.9230976 \n",
       "ATM - STK11    ATM    STK11    7       6.5384615  2.622     1.9390712 \n",
       "TP53 - RBM10   TP53   RBM10    7       5.0840081 12.856    10.4978573 \n",
       "SETD2 - TP53   SETD2  TP53     5       3.1790052  9.592     7.9046908 \n",
       "BRAF - SETD2   BRAF   SETD2    5       4.5263158  1.650     1.2144244 \n",
       "KRAS - MGA     KRAS   MGA      5       2.5085165  7.800     6.4035589 \n",
       "ATM - TP53     ATM    TP53     4       1.6618664  9.863     7.2155047 \n",
       "KRAS - NF1     KRAS   NF1      4       3.2500000  9.808     7.8405764 \n",
       "STK11 - INPP4B STK11  INPP4B   4       3.6250000  0.722     0.5904195 \n",
       "TP53 - PTPRD   TP53   PTPRD    4       1.8951613  6.080     5.0245243 \n",
       "BRAF - KRAS    BRAF   KRAS     2       0.9821429 10.834     8.0168196 \n",
       "KRAS - SMARCA4 KRAS   SMARCA4  2       1.7692308  7.320     5.9561922 \n",
       "KRAS - RB1     KRAS   RB1      2       1.1513158  5.885     4.3405069 \n",
       "EGFR - KRAS    EGFR   KRAS     0       0.0000000 17.583    13.0906374 \n",
       "EGFR - STK11   EGFR   STK11    0       0.0000000  6.845     5.1019712 \n",
       "               nES        cum_freq type FDR \n",
       "KRAS - TP53    -11.382077 375      ME   TRUE\n",
       "EGFR - TP53      5.637006 278      CO   TRUE\n",
       "KRAS - STK11     6.066377 213      CO   TRUE\n",
       "NF1 - TP53       2.704932 253      CO   TRUE\n",
       "KRAS - RBM10     3.517927 183      CO   TRUE\n",
       "RB1 - TP53       3.130294 240      CO   TRUE\n",
       "STK11 - TP53    -6.606724 280      ME   TRUE\n",
       "ATM - KRAS       3.093742 176      CO   TRUE\n",
       "KRAS - KEAP1     1.769983 187      CO   TRUE\n",
       "CDKN2A - TP53    1.178949 238      CO   TRUE\n",
       "STK11 - KEAP1    3.421514  92      CO   TRUE\n",
       "TP53 - KEAP1    -2.029229 254      ME   TRUE\n",
       "ATM - STK11      2.599635  81      CO   TRUE\n",
       "TP53 - RBM10    -2.549198 250      ME   TRUE\n",
       "SETD2 - TP53    -2.221771 243      ME   TRUE\n",
       "BRAF - SETD2     1.823245  57      CO   TRUE\n",
       "KRAS - MGA      -1.638698 179      ME   TRUE\n",
       "ATM - TP53      -2.947271 243      ME   TRUE\n",
       "KRAS - NF1      -2.034297 186      ME   TRUE\n",
       "STK11 - INPP4B   1.759585  65      CO   TRUE\n",
       "TP53 - PTPRD    -1.285822 235      ME   TRUE\n",
       "BRAF - KRAS     -3.809887 189      ME   TRUE\n",
       "KRAS - SMARCA4  -1.879827 178      ME   TRUE\n",
       "KRAS - RB1      -1.404420 173      ME   TRUE\n",
       "EGFR - KRAS     -7.781819 211      ME   TRUE\n",
       "EGFR - STK11    -2.556995 116      ME   TRUE"
      ]
     },
     "metadata": {},
     "output_type": "display_data"
    }
   ],
   "source": [
    "disocver_selectX_result %>% filter(FDR) %>% arrange(desc(overlap)) %>% dplyr::select(SFE_1,SFE_2,overlap,w_overlap,r_overlap,w_r_overlap,nES,cum_freq,type,,FDR)"
   ]
  },
  {
   "cell_type": "code",
   "execution_count": 78,
   "id": "c9cc1446-db87-45a6-85e8-7c38c1b1374c",
   "metadata": {},
   "outputs": [],
   "source": [
    "disover_selectX <- list('obj'=discover_selectX_obj,'result'=disocver_selectX_result)"
   ]
  },
  {
   "cell_type": "code",
   "execution_count": 79,
   "id": "a66d6e96-1801-458e-abe1-8474baaaa9e9",
   "metadata": {},
   "outputs": [],
   "source": [
    "saveRDS(disover_selectX,file='discover_with_selectX_luad_v4.rds')"
   ]
  }
 ],
 "metadata": {
  "kernelspec": {
   "display_name": "R",
   "language": "R",
   "name": "ir"
  },
  "language_info": {
   "codemirror_mode": "r",
   "file_extension": ".r",
   "mimetype": "text/x-r-source",
   "name": "R",
   "pygments_lexer": "r",
   "version": "4.3.2"
  }
 },
 "nbformat": 4,
 "nbformat_minor": 5
}
