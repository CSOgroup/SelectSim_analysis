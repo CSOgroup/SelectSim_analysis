{
 "cells": [
  {
   "cell_type": "code",
   "execution_count": 1,
   "id": "ca9dd4ee-e3e9-4e50-bf64-c97c71d1d2b2",
   "metadata": {},
   "outputs": [
    {
     "name": "stderr",
     "output_type": "stream",
     "text": [
      "── \u001b[1mAttaching core tidyverse packages\u001b[22m ───────────────────────────────────────────────────────────────────────────────────────────────────────────────────────────────────── tidyverse 2.0.0 ──\n",
      "\u001b[32m✔\u001b[39m \u001b[34mdplyr    \u001b[39m 1.1.4     \u001b[32m✔\u001b[39m \u001b[34mreadr    \u001b[39m 2.1.5\n",
      "\u001b[32m✔\u001b[39m \u001b[34mforcats  \u001b[39m 1.0.0     \u001b[32m✔\u001b[39m \u001b[34mstringr  \u001b[39m 1.5.1\n",
      "\u001b[32m✔\u001b[39m \u001b[34mggplot2  \u001b[39m 3.4.4     \u001b[32m✔\u001b[39m \u001b[34mtibble   \u001b[39m 3.2.1\n",
      "\u001b[32m✔\u001b[39m \u001b[34mlubridate\u001b[39m 1.9.3     \u001b[32m✔\u001b[39m \u001b[34mtidyr    \u001b[39m 1.3.0\n",
      "\u001b[32m✔\u001b[39m \u001b[34mpurrr    \u001b[39m 1.0.2     \n",
      "── \u001b[1mConflicts\u001b[22m ─────────────────────────────────────────────────────────────────────────────────────────────────────────────────────────────────────────────────────── tidyverse_conflicts() ──\n",
      "\u001b[31m✖\u001b[39m \u001b[34mdplyr\u001b[39m::\u001b[32mfilter()\u001b[39m masks \u001b[34mstats\u001b[39m::filter()\n",
      "\u001b[31m✖\u001b[39m \u001b[34mdplyr\u001b[39m::\u001b[32mlag()\u001b[39m    masks \u001b[34mstats\u001b[39m::lag()\n",
      "\u001b[36mℹ\u001b[39m Use the conflicted package (\u001b[3m\u001b[34m<http://conflicted.r-lib.org/>\u001b[39m\u001b[23m) to force all conflicts to become errors\n"
     ]
    }
   ],
   "source": [
    "library('SelectSim')\n",
    "library('tidyverse')\n",
    "library('tictoc')"
   ]
  },
  {
   "cell_type": "code",
   "execution_count": 2,
   "id": "e8a30c8e-b89b-4d0b-8d15-7693baf5fff4",
   "metadata": {
    "scrolled": true
   },
   "outputs": [
    {
     "data": {
      "text/plain": [
       "R version 4.3.2 (2023-10-31)\n",
       "Platform: x86_64-conda-linux-gnu (64-bit)\n",
       "Running under: CentOS Linux 7 (Core)\n",
       "\n",
       "Matrix products: default\n",
       "BLAS/LAPACK: /mnt/ndata/arvind/envs/R_4/lib/libopenblasp-r0.3.25.so;  LAPACK version 3.11.0\n",
       "\n",
       "locale:\n",
       " [1] LC_CTYPE=en_US.UTF-8       LC_NUMERIC=C              \n",
       " [3] LC_TIME=en_US.UTF-8        LC_COLLATE=en_US.UTF-8    \n",
       " [5] LC_MONETARY=en_US.UTF-8    LC_MESSAGES=en_US.UTF-8   \n",
       " [7] LC_PAPER=en_US.UTF-8       LC_NAME=C                 \n",
       " [9] LC_ADDRESS=C               LC_TELEPHONE=C            \n",
       "[11] LC_MEASUREMENT=en_US.UTF-8 LC_IDENTIFICATION=C       \n",
       "\n",
       "time zone: Europe/Zurich\n",
       "tzcode source: system (glibc)\n",
       "\n",
       "attached base packages:\n",
       "[1] stats     graphics  grDevices utils     datasets  methods   base     \n",
       "\n",
       "other attached packages:\n",
       " [1] tictoc_1.2        lubridate_1.9.3   forcats_1.0.0     stringr_1.5.1    \n",
       " [5] dplyr_1.1.4       purrr_1.0.2       readr_2.1.5       tidyr_1.3.0      \n",
       " [9] tibble_3.2.1      ggplot2_3.4.4     tidyverse_2.0.0   SelectSim_0.0.1.3\n",
       "\n",
       "loaded via a namespace (and not attached):\n",
       " [1] gtable_0.3.4       rstatix_0.7.2      lattice_0.22-5     tzdb_0.4.0        \n",
       " [5] vctrs_0.6.5        tools_4.3.2        generics_0.1.3     parallel_4.3.2    \n",
       " [9] fansi_1.0.6        pkgconfig_2.0.3    Matrix_1.6-5       ggridges_0.5.5    \n",
       "[13] rngtools_1.5.2     RcppParallel_5.1.6 uuid_1.2-0         lifecycle_1.0.4   \n",
       "[17] compiler_4.3.2     munsell_0.5.0      repr_1.1.6         codetools_0.2-19  \n",
       "[21] carData_3.0-5      htmltools_0.5.7    pillar_1.9.0       car_3.1-2         \n",
       "[25] ggpubr_0.6.0       crayon_1.5.2       doRNG_1.8.6        iterators_1.0.14  \n",
       "[29] abind_1.4-5        foreach_1.5.2      tidyselect_1.2.0   digest_0.6.34     \n",
       "[33] stringi_1.8.3      reshape2_1.4.4     fastmap_1.1.1      grid_4.3.2        \n",
       "[37] colorspace_2.1-0   cli_3.6.2          magrittr_2.0.3     base64enc_0.1-3   \n",
       "[41] Rfast_2.1.0        utf8_1.2.4         IRdisplay_1.1      broom_1.0.5       \n",
       "[45] withr_3.0.0        scales_1.3.0       backports_1.4.1    IRkernel_1.3.2    \n",
       "[49] RcppZiggurat_0.1.6 timechange_0.3.0   pbdZMQ_0.3-11      ggsignif_0.6.4    \n",
       "[53] hms_1.1.3          evaluate_0.23      doParallel_1.0.17  rlang_1.1.3       \n",
       "[57] Rcpp_1.0.12        glue_1.7.0         jsonlite_1.8.8     R6_2.5.1          \n",
       "[61] plyr_1.8.9        "
      ]
     },
     "metadata": {},
     "output_type": "display_data"
    }
   ],
   "source": [
    "sessionInfo()"
   ]
  },
  {
   "cell_type": "markdown",
   "id": "e30638b5-d1a0-493d-88a4-57b5e3a0253e",
   "metadata": {},
   "source": [
    "## Merge TCGA, MSK, DFCI results"
   ]
  },
  {
   "cell_type": "code",
   "execution_count": 3,
   "id": "147f0c2b-dd91-4bb3-b8d7-01d50afc4afe",
   "metadata": {},
   "outputs": [],
   "source": [
    "all_result_merged_msk<- readRDS(file='/mnt/ndata/arvind/co_mutation_project/analysis/catalogue/results/all_merged_result_msk_v15.rds')\n",
    "all_result_merged_dfci<- readRDS(file='/mnt/ndata/arvind/co_mutation_project/analysis/catalogue/results/all_merged_result_dfci_v15.rds')\n",
    "all_result_merged_tcga<- readRDS(file='/mnt/ptemp/arvind/catalogue_work_update/data/results/tcga_merged_result.rds')"
   ]
  },
  {
   "cell_type": "code",
   "execution_count": 4,
   "id": "01240d55-ea49-495f-a0ad-c17c02868064",
   "metadata": {},
   "outputs": [
    {
     "data": {
      "text/html": [
       "<table class=\"dataframe\">\n",
       "<caption>A data.frame: 6 × 25</caption>\n",
       "<thead>\n",
       "\t<tr><th></th><th scope=col>SFE_1</th><th scope=col>SFE_2</th><th scope=col>name</th><th scope=col>support_1</th><th scope=col>support_2</th><th scope=col>freq_1</th><th scope=col>freq_2</th><th scope=col>overlap</th><th scope=col>w_overlap</th><th scope=col>max_overlap</th><th scope=col>⋯</th><th scope=col>nES</th><th scope=col>mean_r_nES</th><th scope=col>nFDR</th><th scope=col>cum_freq</th><th scope=col>nFDR2</th><th scope=col>type</th><th scope=col>FDR</th><th scope=col>Cohort</th><th scope=col>Panel</th><th scope=col>Tumor_run</th></tr>\n",
       "\t<tr><th></th><th scope=col>&lt;chr&gt;</th><th scope=col>&lt;chr&gt;</th><th scope=col>&lt;chr&gt;</th><th scope=col>&lt;dbl&gt;</th><th scope=col>&lt;dbl&gt;</th><th scope=col>&lt;dbl&gt;</th><th scope=col>&lt;dbl&gt;</th><th scope=col>&lt;dbl&gt;</th><th scope=col>&lt;dbl&gt;</th><th scope=col>&lt;dbl&gt;</th><th scope=col>⋯</th><th scope=col>&lt;dbl&gt;</th><th scope=col>&lt;dbl&gt;</th><th scope=col>&lt;dbl&gt;</th><th scope=col>&lt;dbl&gt;</th><th scope=col>&lt;dbl&gt;</th><th scope=col>&lt;chr&gt;</th><th scope=col>&lt;lgl&gt;</th><th scope=col>&lt;chr&gt;</th><th scope=col>&lt;chr&gt;</th><th scope=col>&lt;chr&gt;</th></tr>\n",
       "</thead>\n",
       "<tbody>\n",
       "\t<tr><th scope=row>1</th><td>TP53  </td><td>PIK3CA</td><td>TP53 - PIK3CA</td><td>12075</td><td> 3970</td><td>0.43396226</td><td>0.14267745</td><td>1429</td><td>1055.34778</td><td>3243</td><td>⋯</td><td>-296.1027</td><td>-13.019157</td><td>0</td><td>16045</td><td>0</td><td>ME</td><td>TRUE</td><td>MSK Primary</td><td>all</td><td>Pan-can</td></tr>\n",
       "\t<tr><th scope=row>2</th><td>KRAS  </td><td>EGFR  </td><td>KRAS - EGFR  </td><td> 5622</td><td> 1259</td><td>0.20204852</td><td>0.04524708</td><td>  36</td><td>  15.12377</td><td>1032</td><td>⋯</td><td>-192.4016</td><td> -6.245916</td><td>0</td><td> 6881</td><td>0</td><td>ME</td><td>TRUE</td><td>MSK Primary</td><td>all</td><td>Pan-can</td></tr>\n",
       "\t<tr><th scope=row>3</th><td>PTEN  </td><td>TP53  </td><td>PTEN - TP53  </td><td> 2469</td><td>12075</td><td>0.08873315</td><td>0.43396226</td><td> 695</td><td> 468.87573</td><td>1655</td><td>⋯</td><td>-172.3259</td><td> -9.869776</td><td>0</td><td>14544</td><td>0</td><td>ME</td><td>TRUE</td><td>MSK Primary</td><td>all</td><td>Pan-can</td></tr>\n",
       "\t<tr><th scope=row>4</th><td>ARID1A</td><td>TP53  </td><td>ARID1A - TP53</td><td> 2866</td><td>12075</td><td>0.10300090</td><td>0.43396226</td><td> 988</td><td> 630.94088</td><td>2150</td><td>⋯</td><td>-168.1535</td><td>-10.759211</td><td>0</td><td>14941</td><td>0</td><td>ME</td><td>TRUE</td><td>MSK Primary</td><td>all</td><td>Pan-can</td></tr>\n",
       "\t<tr><th scope=row>5</th><td>KRAS  </td><td>TP53  </td><td>KRAS - TP53  </td><td> 5622</td><td>12075</td><td>0.20204852</td><td>0.43396226</td><td>2773</td><td>2418.48500</td><td>5013</td><td>⋯</td><td>-132.9546</td><td>-15.025226</td><td>0</td><td>17697</td><td>0</td><td>ME</td><td>TRUE</td><td>MSK Primary</td><td>all</td><td>Pan-can</td></tr>\n",
       "\t<tr><th scope=row>6</th><td>TP53  </td><td>APC   </td><td>TP53 - APC   </td><td>12075</td><td> 3486</td><td>0.43396226</td><td>0.12528302</td><td>2302</td><td>1905.36483</td><td>3239</td><td>⋯</td><td> 130.2265</td><td> 12.274751</td><td>0</td><td>15561</td><td>0</td><td>CO</td><td>TRUE</td><td>MSK Primary</td><td>all</td><td>Pan-can</td></tr>\n",
       "</tbody>\n",
       "</table>\n"
      ],
      "text/latex": [
       "A data.frame: 6 × 25\n",
       "\\begin{tabular}{r|lllllllllllllllllllll}\n",
       "  & SFE\\_1 & SFE\\_2 & name & support\\_1 & support\\_2 & freq\\_1 & freq\\_2 & overlap & w\\_overlap & max\\_overlap & ⋯ & nES & mean\\_r\\_nES & nFDR & cum\\_freq & nFDR2 & type & FDR & Cohort & Panel & Tumor\\_run\\\\\n",
       "  & <chr> & <chr> & <chr> & <dbl> & <dbl> & <dbl> & <dbl> & <dbl> & <dbl> & <dbl> & ⋯ & <dbl> & <dbl> & <dbl> & <dbl> & <dbl> & <chr> & <lgl> & <chr> & <chr> & <chr>\\\\\n",
       "\\hline\n",
       "\t1 & TP53   & PIK3CA & TP53 - PIK3CA & 12075 &  3970 & 0.43396226 & 0.14267745 & 1429 & 1055.34778 & 3243 & ⋯ & -296.1027 & -13.019157 & 0 & 16045 & 0 & ME & TRUE & MSK Primary & all & Pan-can\\\\\n",
       "\t2 & KRAS   & EGFR   & KRAS - EGFR   &  5622 &  1259 & 0.20204852 & 0.04524708 &   36 &   15.12377 & 1032 & ⋯ & -192.4016 &  -6.245916 & 0 &  6881 & 0 & ME & TRUE & MSK Primary & all & Pan-can\\\\\n",
       "\t3 & PTEN   & TP53   & PTEN - TP53   &  2469 & 12075 & 0.08873315 & 0.43396226 &  695 &  468.87573 & 1655 & ⋯ & -172.3259 &  -9.869776 & 0 & 14544 & 0 & ME & TRUE & MSK Primary & all & Pan-can\\\\\n",
       "\t4 & ARID1A & TP53   & ARID1A - TP53 &  2866 & 12075 & 0.10300090 & 0.43396226 &  988 &  630.94088 & 2150 & ⋯ & -168.1535 & -10.759211 & 0 & 14941 & 0 & ME & TRUE & MSK Primary & all & Pan-can\\\\\n",
       "\t5 & KRAS   & TP53   & KRAS - TP53   &  5622 & 12075 & 0.20204852 & 0.43396226 & 2773 & 2418.48500 & 5013 & ⋯ & -132.9546 & -15.025226 & 0 & 17697 & 0 & ME & TRUE & MSK Primary & all & Pan-can\\\\\n",
       "\t6 & TP53   & APC    & TP53 - APC    & 12075 &  3486 & 0.43396226 & 0.12528302 & 2302 & 1905.36483 & 3239 & ⋯ &  130.2265 &  12.274751 & 0 & 15561 & 0 & CO & TRUE & MSK Primary & all & Pan-can\\\\\n",
       "\\end{tabular}\n"
      ],
      "text/markdown": [
       "\n",
       "A data.frame: 6 × 25\n",
       "\n",
       "| <!--/--> | SFE_1 &lt;chr&gt; | SFE_2 &lt;chr&gt; | name &lt;chr&gt; | support_1 &lt;dbl&gt; | support_2 &lt;dbl&gt; | freq_1 &lt;dbl&gt; | freq_2 &lt;dbl&gt; | overlap &lt;dbl&gt; | w_overlap &lt;dbl&gt; | max_overlap &lt;dbl&gt; | ⋯ ⋯ | nES &lt;dbl&gt; | mean_r_nES &lt;dbl&gt; | nFDR &lt;dbl&gt; | cum_freq &lt;dbl&gt; | nFDR2 &lt;dbl&gt; | type &lt;chr&gt; | FDR &lt;lgl&gt; | Cohort &lt;chr&gt; | Panel &lt;chr&gt; | Tumor_run &lt;chr&gt; |\n",
       "|---|---|---|---|---|---|---|---|---|---|---|---|---|---|---|---|---|---|---|---|---|---|\n",
       "| 1 | TP53   | PIK3CA | TP53 - PIK3CA | 12075 |  3970 | 0.43396226 | 0.14267745 | 1429 | 1055.34778 | 3243 | ⋯ | -296.1027 | -13.019157 | 0 | 16045 | 0 | ME | TRUE | MSK Primary | all | Pan-can |\n",
       "| 2 | KRAS   | EGFR   | KRAS - EGFR   |  5622 |  1259 | 0.20204852 | 0.04524708 |   36 |   15.12377 | 1032 | ⋯ | -192.4016 |  -6.245916 | 0 |  6881 | 0 | ME | TRUE | MSK Primary | all | Pan-can |\n",
       "| 3 | PTEN   | TP53   | PTEN - TP53   |  2469 | 12075 | 0.08873315 | 0.43396226 |  695 |  468.87573 | 1655 | ⋯ | -172.3259 |  -9.869776 | 0 | 14544 | 0 | ME | TRUE | MSK Primary | all | Pan-can |\n",
       "| 4 | ARID1A | TP53   | ARID1A - TP53 |  2866 | 12075 | 0.10300090 | 0.43396226 |  988 |  630.94088 | 2150 | ⋯ | -168.1535 | -10.759211 | 0 | 14941 | 0 | ME | TRUE | MSK Primary | all | Pan-can |\n",
       "| 5 | KRAS   | TP53   | KRAS - TP53   |  5622 | 12075 | 0.20204852 | 0.43396226 | 2773 | 2418.48500 | 5013 | ⋯ | -132.9546 | -15.025226 | 0 | 17697 | 0 | ME | TRUE | MSK Primary | all | Pan-can |\n",
       "| 6 | TP53   | APC    | TP53 - APC    | 12075 |  3486 | 0.43396226 | 0.12528302 | 2302 | 1905.36483 | 3239 | ⋯ |  130.2265 |  12.274751 | 0 | 15561 | 0 | CO | TRUE | MSK Primary | all | Pan-can |\n",
       "\n"
      ],
      "text/plain": [
       "  SFE_1  SFE_2  name          support_1 support_2 freq_1     freq_2     overlap\n",
       "1 TP53   PIK3CA TP53 - PIK3CA 12075      3970     0.43396226 0.14267745 1429   \n",
       "2 KRAS   EGFR   KRAS - EGFR    5622      1259     0.20204852 0.04524708   36   \n",
       "3 PTEN   TP53   PTEN - TP53    2469     12075     0.08873315 0.43396226  695   \n",
       "4 ARID1A TP53   ARID1A - TP53  2866     12075     0.10300090 0.43396226  988   \n",
       "5 KRAS   TP53   KRAS - TP53    5622     12075     0.20204852 0.43396226 2773   \n",
       "6 TP53   APC    TP53 - APC    12075      3486     0.43396226 0.12528302 2302   \n",
       "  w_overlap  max_overlap ⋯ nES       mean_r_nES nFDR cum_freq nFDR2 type FDR \n",
       "1 1055.34778 3243        ⋯ -296.1027 -13.019157 0    16045    0     ME   TRUE\n",
       "2   15.12377 1032        ⋯ -192.4016  -6.245916 0     6881    0     ME   TRUE\n",
       "3  468.87573 1655        ⋯ -172.3259  -9.869776 0    14544    0     ME   TRUE\n",
       "4  630.94088 2150        ⋯ -168.1535 -10.759211 0    14941    0     ME   TRUE\n",
       "5 2418.48500 5013        ⋯ -132.9546 -15.025226 0    17697    0     ME   TRUE\n",
       "6 1905.36483 3239        ⋯  130.2265  12.274751 0    15561    0     CO   TRUE\n",
       "  Cohort      Panel Tumor_run\n",
       "1 MSK Primary all   Pan-can  \n",
       "2 MSK Primary all   Pan-can  \n",
       "3 MSK Primary all   Pan-can  \n",
       "4 MSK Primary all   Pan-can  \n",
       "5 MSK Primary all   Pan-can  \n",
       "6 MSK Primary all   Pan-can  "
      ]
     },
     "metadata": {},
     "output_type": "display_data"
    }
   ],
   "source": [
    "head(all_result_merged_msk)"
   ]
  },
  {
   "cell_type": "code",
   "execution_count": 5,
   "id": "9a2ce81b-baae-4b7e-84d8-e507e0bc1a5c",
   "metadata": {},
   "outputs": [
    {
     "data": {
      "text/html": [
       "<table class=\"dataframe\">\n",
       "<caption>A data.frame: 6 × 24</caption>\n",
       "<thead>\n",
       "\t<tr><th></th><th scope=col>SFE_1</th><th scope=col>SFE_2</th><th scope=col>name</th><th scope=col>support_1</th><th scope=col>support_2</th><th scope=col>freq_1</th><th scope=col>freq_2</th><th scope=col>overlap</th><th scope=col>w_overlap</th><th scope=col>max_overlap</th><th scope=col>⋯</th><th scope=col>wFDR</th><th scope=col>nES</th><th scope=col>mean_r_nES</th><th scope=col>nFDR</th><th scope=col>cum_freq</th><th scope=col>nFDR2</th><th scope=col>type</th><th scope=col>FDR</th><th scope=col>datatype</th><th scope=col>cohort</th></tr>\n",
       "\t<tr><th></th><th scope=col>&lt;chr&gt;</th><th scope=col>&lt;chr&gt;</th><th scope=col>&lt;chr&gt;</th><th scope=col>&lt;dbl&gt;</th><th scope=col>&lt;dbl&gt;</th><th scope=col>&lt;dbl&gt;</th><th scope=col>&lt;dbl&gt;</th><th scope=col>&lt;dbl&gt;</th><th scope=col>&lt;dbl&gt;</th><th scope=col>&lt;dbl&gt;</th><th scope=col>⋯</th><th scope=col>&lt;dbl&gt;</th><th scope=col>&lt;dbl&gt;</th><th scope=col>&lt;dbl&gt;</th><th scope=col>&lt;dbl&gt;</th><th scope=col>&lt;dbl&gt;</th><th scope=col>&lt;dbl&gt;</th><th scope=col>&lt;chr&gt;</th><th scope=col>&lt;lgl&gt;</th><th scope=col>&lt;chr&gt;</th><th scope=col>&lt;chr&gt;</th></tr>\n",
       "</thead>\n",
       "<tbody>\n",
       "\t<tr><th scope=row>1</th><td>PIK3CA</td><td>TP53  </td><td>PIK3CA - TP53</td><td>1136</td><td>3030</td><td>0.12508258</td><td>0.33362695</td><td>357</td><td>317.529713</td><td>669</td><td>⋯</td><td>0</td><td>-46.41800</td><td>-7.357413</td><td>0</td><td>4166</td><td>0</td><td>ME</td><td>TRUE</td><td>Pan-can</td><td>TCGA</td></tr>\n",
       "\t<tr><th scope=row>2</th><td>BRAF  </td><td>TP53  </td><td>BRAF - TP53  </td><td> 611</td><td>3030</td><td>0.06727593</td><td>0.33362695</td><td> 82</td><td> 53.397547</td><td>180</td><td>⋯</td><td>0</td><td>-44.24852</td><td>-4.784206</td><td>0</td><td>3641</td><td>0</td><td>ME</td><td>TRUE</td><td>Pan-can</td><td>TCGA</td></tr>\n",
       "\t<tr><th scope=row>3</th><td>TP53  </td><td>ARID1A</td><td>TP53 - ARID1A</td><td>3030</td><td> 571</td><td>0.33362695</td><td>0.06287161</td><td>147</td><td>115.192451</td><td>371</td><td>⋯</td><td>0</td><td>-34.12723</td><td>-4.990387</td><td>0</td><td>3601</td><td>0</td><td>ME</td><td>TRUE</td><td>Pan-can</td><td>TCGA</td></tr>\n",
       "\t<tr><th scope=row>4</th><td>BRAF  </td><td>NRAS  </td><td>BRAF - NRAS  </td><td> 611</td><td> 240</td><td>0.06727593</td><td>0.02642590</td><td> 13</td><td>  6.352379</td><td>191</td><td>⋯</td><td>0</td><td>-31.75002</td><td>-2.704795</td><td>0</td><td> 851</td><td>0</td><td>ME</td><td>TRUE</td><td>Pan-can</td><td>TCGA</td></tr>\n",
       "\t<tr><th scope=row>5</th><td>CDKN2A</td><td>TP53  </td><td>CDKN2A - TP53</td><td> 334</td><td>3030</td><td>0.03677604</td><td>0.33362695</td><td>225</td><td>202.011705</td><td>334</td><td>⋯</td><td>0</td><td> 29.37771</td><td> 4.329415</td><td>0</td><td>3364</td><td>0</td><td>CO</td><td>TRUE</td><td>Pan-can</td><td>TCGA</td></tr>\n",
       "\t<tr><th scope=row>6</th><td>PTEN  </td><td>TP53  </td><td>PTEN - TP53  </td><td> 635</td><td>3030</td><td>0.06991852</td><td>0.33362695</td><td>158</td><td>133.797790</td><td>385</td><td>⋯</td><td>0</td><td>-28.99619</td><td>-5.350602</td><td>0</td><td>3665</td><td>0</td><td>ME</td><td>TRUE</td><td>Pan-can</td><td>TCGA</td></tr>\n",
       "</tbody>\n",
       "</table>\n"
      ],
      "text/latex": [
       "A data.frame: 6 × 24\n",
       "\\begin{tabular}{r|lllllllllllllllllllll}\n",
       "  & SFE\\_1 & SFE\\_2 & name & support\\_1 & support\\_2 & freq\\_1 & freq\\_2 & overlap & w\\_overlap & max\\_overlap & ⋯ & wFDR & nES & mean\\_r\\_nES & nFDR & cum\\_freq & nFDR2 & type & FDR & datatype & cohort\\\\\n",
       "  & <chr> & <chr> & <chr> & <dbl> & <dbl> & <dbl> & <dbl> & <dbl> & <dbl> & <dbl> & ⋯ & <dbl> & <dbl> & <dbl> & <dbl> & <dbl> & <dbl> & <chr> & <lgl> & <chr> & <chr>\\\\\n",
       "\\hline\n",
       "\t1 & PIK3CA & TP53   & PIK3CA - TP53 & 1136 & 3030 & 0.12508258 & 0.33362695 & 357 & 317.529713 & 669 & ⋯ & 0 & -46.41800 & -7.357413 & 0 & 4166 & 0 & ME & TRUE & Pan-can & TCGA\\\\\n",
       "\t2 & BRAF   & TP53   & BRAF - TP53   &  611 & 3030 & 0.06727593 & 0.33362695 &  82 &  53.397547 & 180 & ⋯ & 0 & -44.24852 & -4.784206 & 0 & 3641 & 0 & ME & TRUE & Pan-can & TCGA\\\\\n",
       "\t3 & TP53   & ARID1A & TP53 - ARID1A & 3030 &  571 & 0.33362695 & 0.06287161 & 147 & 115.192451 & 371 & ⋯ & 0 & -34.12723 & -4.990387 & 0 & 3601 & 0 & ME & TRUE & Pan-can & TCGA\\\\\n",
       "\t4 & BRAF   & NRAS   & BRAF - NRAS   &  611 &  240 & 0.06727593 & 0.02642590 &  13 &   6.352379 & 191 & ⋯ & 0 & -31.75002 & -2.704795 & 0 &  851 & 0 & ME & TRUE & Pan-can & TCGA\\\\\n",
       "\t5 & CDKN2A & TP53   & CDKN2A - TP53 &  334 & 3030 & 0.03677604 & 0.33362695 & 225 & 202.011705 & 334 & ⋯ & 0 &  29.37771 &  4.329415 & 0 & 3364 & 0 & CO & TRUE & Pan-can & TCGA\\\\\n",
       "\t6 & PTEN   & TP53   & PTEN - TP53   &  635 & 3030 & 0.06991852 & 0.33362695 & 158 & 133.797790 & 385 & ⋯ & 0 & -28.99619 & -5.350602 & 0 & 3665 & 0 & ME & TRUE & Pan-can & TCGA\\\\\n",
       "\\end{tabular}\n"
      ],
      "text/markdown": [
       "\n",
       "A data.frame: 6 × 24\n",
       "\n",
       "| <!--/--> | SFE_1 &lt;chr&gt; | SFE_2 &lt;chr&gt; | name &lt;chr&gt; | support_1 &lt;dbl&gt; | support_2 &lt;dbl&gt; | freq_1 &lt;dbl&gt; | freq_2 &lt;dbl&gt; | overlap &lt;dbl&gt; | w_overlap &lt;dbl&gt; | max_overlap &lt;dbl&gt; | ⋯ ⋯ | wFDR &lt;dbl&gt; | nES &lt;dbl&gt; | mean_r_nES &lt;dbl&gt; | nFDR &lt;dbl&gt; | cum_freq &lt;dbl&gt; | nFDR2 &lt;dbl&gt; | type &lt;chr&gt; | FDR &lt;lgl&gt; | datatype &lt;chr&gt; | cohort &lt;chr&gt; |\n",
       "|---|---|---|---|---|---|---|---|---|---|---|---|---|---|---|---|---|---|---|---|---|---|\n",
       "| 1 | PIK3CA | TP53   | PIK3CA - TP53 | 1136 | 3030 | 0.12508258 | 0.33362695 | 357 | 317.529713 | 669 | ⋯ | 0 | -46.41800 | -7.357413 | 0 | 4166 | 0 | ME | TRUE | Pan-can | TCGA |\n",
       "| 2 | BRAF   | TP53   | BRAF - TP53   |  611 | 3030 | 0.06727593 | 0.33362695 |  82 |  53.397547 | 180 | ⋯ | 0 | -44.24852 | -4.784206 | 0 | 3641 | 0 | ME | TRUE | Pan-can | TCGA |\n",
       "| 3 | TP53   | ARID1A | TP53 - ARID1A | 3030 |  571 | 0.33362695 | 0.06287161 | 147 | 115.192451 | 371 | ⋯ | 0 | -34.12723 | -4.990387 | 0 | 3601 | 0 | ME | TRUE | Pan-can | TCGA |\n",
       "| 4 | BRAF   | NRAS   | BRAF - NRAS   |  611 |  240 | 0.06727593 | 0.02642590 |  13 |   6.352379 | 191 | ⋯ | 0 | -31.75002 | -2.704795 | 0 |  851 | 0 | ME | TRUE | Pan-can | TCGA |\n",
       "| 5 | CDKN2A | TP53   | CDKN2A - TP53 |  334 | 3030 | 0.03677604 | 0.33362695 | 225 | 202.011705 | 334 | ⋯ | 0 |  29.37771 |  4.329415 | 0 | 3364 | 0 | CO | TRUE | Pan-can | TCGA |\n",
       "| 6 | PTEN   | TP53   | PTEN - TP53   |  635 | 3030 | 0.06991852 | 0.33362695 | 158 | 133.797790 | 385 | ⋯ | 0 | -28.99619 | -5.350602 | 0 | 3665 | 0 | ME | TRUE | Pan-can | TCGA |\n",
       "\n"
      ],
      "text/plain": [
       "  SFE_1  SFE_2  name          support_1 support_2 freq_1     freq_2     overlap\n",
       "1 PIK3CA TP53   PIK3CA - TP53 1136      3030      0.12508258 0.33362695 357    \n",
       "2 BRAF   TP53   BRAF - TP53    611      3030      0.06727593 0.33362695  82    \n",
       "3 TP53   ARID1A TP53 - ARID1A 3030       571      0.33362695 0.06287161 147    \n",
       "4 BRAF   NRAS   BRAF - NRAS    611       240      0.06727593 0.02642590  13    \n",
       "5 CDKN2A TP53   CDKN2A - TP53  334      3030      0.03677604 0.33362695 225    \n",
       "6 PTEN   TP53   PTEN - TP53    635      3030      0.06991852 0.33362695 158    \n",
       "  w_overlap  max_overlap ⋯ wFDR nES       mean_r_nES nFDR cum_freq nFDR2 type\n",
       "1 317.529713 669         ⋯ 0    -46.41800 -7.357413  0    4166     0     ME  \n",
       "2  53.397547 180         ⋯ 0    -44.24852 -4.784206  0    3641     0     ME  \n",
       "3 115.192451 371         ⋯ 0    -34.12723 -4.990387  0    3601     0     ME  \n",
       "4   6.352379 191         ⋯ 0    -31.75002 -2.704795  0     851     0     ME  \n",
       "5 202.011705 334         ⋯ 0     29.37771  4.329415  0    3364     0     CO  \n",
       "6 133.797790 385         ⋯ 0    -28.99619 -5.350602  0    3665     0     ME  \n",
       "  FDR  datatype cohort\n",
       "1 TRUE Pan-can  TCGA  \n",
       "2 TRUE Pan-can  TCGA  \n",
       "3 TRUE Pan-can  TCGA  \n",
       "4 TRUE Pan-can  TCGA  \n",
       "5 TRUE Pan-can  TCGA  \n",
       "6 TRUE Pan-can  TCGA  "
      ]
     },
     "metadata": {},
     "output_type": "display_data"
    }
   ],
   "source": [
    "head(all_result_merged_tcga)"
   ]
  },
  {
   "cell_type": "code",
   "execution_count": 6,
   "id": "10e532a2-eb07-46c4-9434-0e6882654b85",
   "metadata": {},
   "outputs": [],
   "source": [
    "all_result_merged_tcga$Panel <- 'WES'"
   ]
  },
  {
   "cell_type": "code",
   "execution_count": 7,
   "id": "d1ac4bb5-70f1-4c74-b91f-34398f65d6ee",
   "metadata": {},
   "outputs": [],
   "source": [
    "all_result_merged_tcga$Cohort<-all_result_merged_tcga$cohort\n",
    "all_result_merged_tcga$Tumor_run<-all_result_merged_tcga$datatype"
   ]
  },
  {
   "cell_type": "code",
   "execution_count": 8,
   "id": "8e119240-41b6-4456-b05f-04bc2f09922a",
   "metadata": {},
   "outputs": [],
   "source": [
    "all_merged_result_v15 <- rbind(all_result_merged_tcga[,colnames(all_result_merged_msk)],all_result_merged_msk,all_result_merged_dfci)"
   ]
  },
  {
   "cell_type": "code",
   "execution_count": 9,
   "id": "8b8df84b-dca3-409f-80dd-a4c213f12aa9",
   "metadata": {},
   "outputs": [
    {
     "data": {
      "text/html": [
       "<style>\n",
       ".list-inline {list-style: none; margin:0; padding: 0}\n",
       ".list-inline>li {display: inline-block}\n",
       ".list-inline>li:not(:last-child)::after {content: \"\\00b7\"; padding: 0 .5ex}\n",
       "</style>\n",
       "<ol class=list-inline><li>2869359</li><li>25</li></ol>\n"
      ],
      "text/latex": [
       "\\begin{enumerate*}\n",
       "\\item 2869359\n",
       "\\item 25\n",
       "\\end{enumerate*}\n"
      ],
      "text/markdown": [
       "1. 2869359\n",
       "2. 25\n",
       "\n",
       "\n"
      ],
      "text/plain": [
       "[1] 2869359      25"
      ]
     },
     "metadata": {},
     "output_type": "display_data"
    }
   ],
   "source": [
    "dim(all_merged_result_v15)"
   ]
  },
  {
   "cell_type": "code",
   "execution_count": 10,
   "id": "869e01a9-d0b8-4f9b-a7c2-6ebbe01e6781",
   "metadata": {},
   "outputs": [
    {
     "data": {
      "text/html": [
       "<table class=\"dataframe\">\n",
       "<caption>A data.frame: 6 × 25</caption>\n",
       "<thead>\n",
       "\t<tr><th></th><th scope=col>SFE_1</th><th scope=col>SFE_2</th><th scope=col>name</th><th scope=col>support_1</th><th scope=col>support_2</th><th scope=col>freq_1</th><th scope=col>freq_2</th><th scope=col>overlap</th><th scope=col>w_overlap</th><th scope=col>max_overlap</th><th scope=col>⋯</th><th scope=col>nES</th><th scope=col>mean_r_nES</th><th scope=col>nFDR</th><th scope=col>cum_freq</th><th scope=col>nFDR2</th><th scope=col>type</th><th scope=col>FDR</th><th scope=col>Cohort</th><th scope=col>Panel</th><th scope=col>Tumor_run</th></tr>\n",
       "\t<tr><th></th><th scope=col>&lt;chr&gt;</th><th scope=col>&lt;chr&gt;</th><th scope=col>&lt;chr&gt;</th><th scope=col>&lt;dbl&gt;</th><th scope=col>&lt;dbl&gt;</th><th scope=col>&lt;dbl&gt;</th><th scope=col>&lt;dbl&gt;</th><th scope=col>&lt;dbl&gt;</th><th scope=col>&lt;dbl&gt;</th><th scope=col>&lt;dbl&gt;</th><th scope=col>⋯</th><th scope=col>&lt;dbl&gt;</th><th scope=col>&lt;dbl&gt;</th><th scope=col>&lt;dbl&gt;</th><th scope=col>&lt;dbl&gt;</th><th scope=col>&lt;dbl&gt;</th><th scope=col>&lt;chr&gt;</th><th scope=col>&lt;lgl&gt;</th><th scope=col>&lt;chr&gt;</th><th scope=col>&lt;chr&gt;</th><th scope=col>&lt;chr&gt;</th></tr>\n",
       "</thead>\n",
       "<tbody>\n",
       "\t<tr><th scope=row>1</th><td>PIK3CA</td><td>TP53  </td><td>PIK3CA - TP53</td><td>1136</td><td>3030</td><td>0.12508258</td><td>0.33362695</td><td>357</td><td>317.529713</td><td>669</td><td>⋯</td><td>-46.41800</td><td>-7.357413</td><td>0</td><td>4166</td><td>0</td><td>ME</td><td>TRUE</td><td>TCGA</td><td>WES</td><td>Pan-can</td></tr>\n",
       "\t<tr><th scope=row>2</th><td>BRAF  </td><td>TP53  </td><td>BRAF - TP53  </td><td> 611</td><td>3030</td><td>0.06727593</td><td>0.33362695</td><td> 82</td><td> 53.397547</td><td>180</td><td>⋯</td><td>-44.24852</td><td>-4.784206</td><td>0</td><td>3641</td><td>0</td><td>ME</td><td>TRUE</td><td>TCGA</td><td>WES</td><td>Pan-can</td></tr>\n",
       "\t<tr><th scope=row>3</th><td>TP53  </td><td>ARID1A</td><td>TP53 - ARID1A</td><td>3030</td><td> 571</td><td>0.33362695</td><td>0.06287161</td><td>147</td><td>115.192451</td><td>371</td><td>⋯</td><td>-34.12723</td><td>-4.990387</td><td>0</td><td>3601</td><td>0</td><td>ME</td><td>TRUE</td><td>TCGA</td><td>WES</td><td>Pan-can</td></tr>\n",
       "\t<tr><th scope=row>4</th><td>BRAF  </td><td>NRAS  </td><td>BRAF - NRAS  </td><td> 611</td><td> 240</td><td>0.06727593</td><td>0.02642590</td><td> 13</td><td>  6.352379</td><td>191</td><td>⋯</td><td>-31.75002</td><td>-2.704795</td><td>0</td><td> 851</td><td>0</td><td>ME</td><td>TRUE</td><td>TCGA</td><td>WES</td><td>Pan-can</td></tr>\n",
       "\t<tr><th scope=row>5</th><td>CDKN2A</td><td>TP53  </td><td>CDKN2A - TP53</td><td> 334</td><td>3030</td><td>0.03677604</td><td>0.33362695</td><td>225</td><td>202.011705</td><td>334</td><td>⋯</td><td> 29.37771</td><td> 4.329415</td><td>0</td><td>3364</td><td>0</td><td>CO</td><td>TRUE</td><td>TCGA</td><td>WES</td><td>Pan-can</td></tr>\n",
       "\t<tr><th scope=row>6</th><td>PTEN  </td><td>TP53  </td><td>PTEN - TP53  </td><td> 635</td><td>3030</td><td>0.06991852</td><td>0.33362695</td><td>158</td><td>133.797790</td><td>385</td><td>⋯</td><td>-28.99619</td><td>-5.350602</td><td>0</td><td>3665</td><td>0</td><td>ME</td><td>TRUE</td><td>TCGA</td><td>WES</td><td>Pan-can</td></tr>\n",
       "</tbody>\n",
       "</table>\n"
      ],
      "text/latex": [
       "A data.frame: 6 × 25\n",
       "\\begin{tabular}{r|lllllllllllllllllllll}\n",
       "  & SFE\\_1 & SFE\\_2 & name & support\\_1 & support\\_2 & freq\\_1 & freq\\_2 & overlap & w\\_overlap & max\\_overlap & ⋯ & nES & mean\\_r\\_nES & nFDR & cum\\_freq & nFDR2 & type & FDR & Cohort & Panel & Tumor\\_run\\\\\n",
       "  & <chr> & <chr> & <chr> & <dbl> & <dbl> & <dbl> & <dbl> & <dbl> & <dbl> & <dbl> & ⋯ & <dbl> & <dbl> & <dbl> & <dbl> & <dbl> & <chr> & <lgl> & <chr> & <chr> & <chr>\\\\\n",
       "\\hline\n",
       "\t1 & PIK3CA & TP53   & PIK3CA - TP53 & 1136 & 3030 & 0.12508258 & 0.33362695 & 357 & 317.529713 & 669 & ⋯ & -46.41800 & -7.357413 & 0 & 4166 & 0 & ME & TRUE & TCGA & WES & Pan-can\\\\\n",
       "\t2 & BRAF   & TP53   & BRAF - TP53   &  611 & 3030 & 0.06727593 & 0.33362695 &  82 &  53.397547 & 180 & ⋯ & -44.24852 & -4.784206 & 0 & 3641 & 0 & ME & TRUE & TCGA & WES & Pan-can\\\\\n",
       "\t3 & TP53   & ARID1A & TP53 - ARID1A & 3030 &  571 & 0.33362695 & 0.06287161 & 147 & 115.192451 & 371 & ⋯ & -34.12723 & -4.990387 & 0 & 3601 & 0 & ME & TRUE & TCGA & WES & Pan-can\\\\\n",
       "\t4 & BRAF   & NRAS   & BRAF - NRAS   &  611 &  240 & 0.06727593 & 0.02642590 &  13 &   6.352379 & 191 & ⋯ & -31.75002 & -2.704795 & 0 &  851 & 0 & ME & TRUE & TCGA & WES & Pan-can\\\\\n",
       "\t5 & CDKN2A & TP53   & CDKN2A - TP53 &  334 & 3030 & 0.03677604 & 0.33362695 & 225 & 202.011705 & 334 & ⋯ &  29.37771 &  4.329415 & 0 & 3364 & 0 & CO & TRUE & TCGA & WES & Pan-can\\\\\n",
       "\t6 & PTEN   & TP53   & PTEN - TP53   &  635 & 3030 & 0.06991852 & 0.33362695 & 158 & 133.797790 & 385 & ⋯ & -28.99619 & -5.350602 & 0 & 3665 & 0 & ME & TRUE & TCGA & WES & Pan-can\\\\\n",
       "\\end{tabular}\n"
      ],
      "text/markdown": [
       "\n",
       "A data.frame: 6 × 25\n",
       "\n",
       "| <!--/--> | SFE_1 &lt;chr&gt; | SFE_2 &lt;chr&gt; | name &lt;chr&gt; | support_1 &lt;dbl&gt; | support_2 &lt;dbl&gt; | freq_1 &lt;dbl&gt; | freq_2 &lt;dbl&gt; | overlap &lt;dbl&gt; | w_overlap &lt;dbl&gt; | max_overlap &lt;dbl&gt; | ⋯ ⋯ | nES &lt;dbl&gt; | mean_r_nES &lt;dbl&gt; | nFDR &lt;dbl&gt; | cum_freq &lt;dbl&gt; | nFDR2 &lt;dbl&gt; | type &lt;chr&gt; | FDR &lt;lgl&gt; | Cohort &lt;chr&gt; | Panel &lt;chr&gt; | Tumor_run &lt;chr&gt; |\n",
       "|---|---|---|---|---|---|---|---|---|---|---|---|---|---|---|---|---|---|---|---|---|---|\n",
       "| 1 | PIK3CA | TP53   | PIK3CA - TP53 | 1136 | 3030 | 0.12508258 | 0.33362695 | 357 | 317.529713 | 669 | ⋯ | -46.41800 | -7.357413 | 0 | 4166 | 0 | ME | TRUE | TCGA | WES | Pan-can |\n",
       "| 2 | BRAF   | TP53   | BRAF - TP53   |  611 | 3030 | 0.06727593 | 0.33362695 |  82 |  53.397547 | 180 | ⋯ | -44.24852 | -4.784206 | 0 | 3641 | 0 | ME | TRUE | TCGA | WES | Pan-can |\n",
       "| 3 | TP53   | ARID1A | TP53 - ARID1A | 3030 |  571 | 0.33362695 | 0.06287161 | 147 | 115.192451 | 371 | ⋯ | -34.12723 | -4.990387 | 0 | 3601 | 0 | ME | TRUE | TCGA | WES | Pan-can |\n",
       "| 4 | BRAF   | NRAS   | BRAF - NRAS   |  611 |  240 | 0.06727593 | 0.02642590 |  13 |   6.352379 | 191 | ⋯ | -31.75002 | -2.704795 | 0 |  851 | 0 | ME | TRUE | TCGA | WES | Pan-can |\n",
       "| 5 | CDKN2A | TP53   | CDKN2A - TP53 |  334 | 3030 | 0.03677604 | 0.33362695 | 225 | 202.011705 | 334 | ⋯ |  29.37771 |  4.329415 | 0 | 3364 | 0 | CO | TRUE | TCGA | WES | Pan-can |\n",
       "| 6 | PTEN   | TP53   | PTEN - TP53   |  635 | 3030 | 0.06991852 | 0.33362695 | 158 | 133.797790 | 385 | ⋯ | -28.99619 | -5.350602 | 0 | 3665 | 0 | ME | TRUE | TCGA | WES | Pan-can |\n",
       "\n"
      ],
      "text/plain": [
       "  SFE_1  SFE_2  name          support_1 support_2 freq_1     freq_2     overlap\n",
       "1 PIK3CA TP53   PIK3CA - TP53 1136      3030      0.12508258 0.33362695 357    \n",
       "2 BRAF   TP53   BRAF - TP53    611      3030      0.06727593 0.33362695  82    \n",
       "3 TP53   ARID1A TP53 - ARID1A 3030       571      0.33362695 0.06287161 147    \n",
       "4 BRAF   NRAS   BRAF - NRAS    611       240      0.06727593 0.02642590  13    \n",
       "5 CDKN2A TP53   CDKN2A - TP53  334      3030      0.03677604 0.33362695 225    \n",
       "6 PTEN   TP53   PTEN - TP53    635      3030      0.06991852 0.33362695 158    \n",
       "  w_overlap  max_overlap ⋯ nES       mean_r_nES nFDR cum_freq nFDR2 type FDR \n",
       "1 317.529713 669         ⋯ -46.41800 -7.357413  0    4166     0     ME   TRUE\n",
       "2  53.397547 180         ⋯ -44.24852 -4.784206  0    3641     0     ME   TRUE\n",
       "3 115.192451 371         ⋯ -34.12723 -4.990387  0    3601     0     ME   TRUE\n",
       "4   6.352379 191         ⋯ -31.75002 -2.704795  0     851     0     ME   TRUE\n",
       "5 202.011705 334         ⋯  29.37771  4.329415  0    3364     0     CO   TRUE\n",
       "6 133.797790 385         ⋯ -28.99619 -5.350602  0    3665     0     ME   TRUE\n",
       "  Cohort Panel Tumor_run\n",
       "1 TCGA   WES   Pan-can  \n",
       "2 TCGA   WES   Pan-can  \n",
       "3 TCGA   WES   Pan-can  \n",
       "4 TCGA   WES   Pan-can  \n",
       "5 TCGA   WES   Pan-can  \n",
       "6 TCGA   WES   Pan-can  "
      ]
     },
     "metadata": {},
     "output_type": "display_data"
    }
   ],
   "source": [
    "head(all_merged_result_v15)"
   ]
  },
  {
   "cell_type": "code",
   "execution_count": 11,
   "id": "abcc0f31-106a-4cc7-ad9f-f3406681dbad",
   "metadata": {},
   "outputs": [
    {
     "data": {
      "text/html": [
       "<table class=\"dataframe\">\n",
       "<caption>A data.frame: 6 × 25</caption>\n",
       "<thead>\n",
       "\t<tr><th></th><th scope=col>SFE_1</th><th scope=col>SFE_2</th><th scope=col>name</th><th scope=col>support_1</th><th scope=col>support_2</th><th scope=col>freq_1</th><th scope=col>freq_2</th><th scope=col>overlap</th><th scope=col>w_overlap</th><th scope=col>max_overlap</th><th scope=col>⋯</th><th scope=col>nES</th><th scope=col>mean_r_nES</th><th scope=col>nFDR</th><th scope=col>cum_freq</th><th scope=col>nFDR2</th><th scope=col>type</th><th scope=col>FDR</th><th scope=col>Cohort</th><th scope=col>Panel</th><th scope=col>Tumor_run</th></tr>\n",
       "\t<tr><th></th><th scope=col>&lt;chr&gt;</th><th scope=col>&lt;chr&gt;</th><th scope=col>&lt;chr&gt;</th><th scope=col>&lt;dbl&gt;</th><th scope=col>&lt;dbl&gt;</th><th scope=col>&lt;dbl&gt;</th><th scope=col>&lt;dbl&gt;</th><th scope=col>&lt;dbl&gt;</th><th scope=col>&lt;dbl&gt;</th><th scope=col>&lt;dbl&gt;</th><th scope=col>⋯</th><th scope=col>&lt;dbl&gt;</th><th scope=col>&lt;dbl&gt;</th><th scope=col>&lt;dbl&gt;</th><th scope=col>&lt;dbl&gt;</th><th scope=col>&lt;dbl&gt;</th><th scope=col>&lt;chr&gt;</th><th scope=col>&lt;lgl&gt;</th><th scope=col>&lt;chr&gt;</th><th scope=col>&lt;chr&gt;</th><th scope=col>&lt;chr&gt;</th></tr>\n",
       "</thead>\n",
       "<tbody>\n",
       "\t<tr><th scope=row>1</th><td>PIK3CA</td><td>TP53  </td><td>PIK3CA - TP53</td><td>1136</td><td>3030</td><td>0.12508258</td><td>0.33362695</td><td>357</td><td>317.529713</td><td>669</td><td>⋯</td><td>-46.41800</td><td>-7.357413</td><td>0</td><td>4166</td><td>0</td><td>ME</td><td>TRUE</td><td>TCGA</td><td>WES</td><td>Pan-can</td></tr>\n",
       "\t<tr><th scope=row>2</th><td>BRAF  </td><td>TP53  </td><td>BRAF - TP53  </td><td> 611</td><td>3030</td><td>0.06727593</td><td>0.33362695</td><td> 82</td><td> 53.397547</td><td>180</td><td>⋯</td><td>-44.24852</td><td>-4.784206</td><td>0</td><td>3641</td><td>0</td><td>ME</td><td>TRUE</td><td>TCGA</td><td>WES</td><td>Pan-can</td></tr>\n",
       "\t<tr><th scope=row>3</th><td>TP53  </td><td>ARID1A</td><td>TP53 - ARID1A</td><td>3030</td><td> 571</td><td>0.33362695</td><td>0.06287161</td><td>147</td><td>115.192451</td><td>371</td><td>⋯</td><td>-34.12723</td><td>-4.990387</td><td>0</td><td>3601</td><td>0</td><td>ME</td><td>TRUE</td><td>TCGA</td><td>WES</td><td>Pan-can</td></tr>\n",
       "\t<tr><th scope=row>4</th><td>BRAF  </td><td>NRAS  </td><td>BRAF - NRAS  </td><td> 611</td><td> 240</td><td>0.06727593</td><td>0.02642590</td><td> 13</td><td>  6.352379</td><td>191</td><td>⋯</td><td>-31.75002</td><td>-2.704795</td><td>0</td><td> 851</td><td>0</td><td>ME</td><td>TRUE</td><td>TCGA</td><td>WES</td><td>Pan-can</td></tr>\n",
       "\t<tr><th scope=row>5</th><td>CDKN2A</td><td>TP53  </td><td>CDKN2A - TP53</td><td> 334</td><td>3030</td><td>0.03677604</td><td>0.33362695</td><td>225</td><td>202.011705</td><td>334</td><td>⋯</td><td> 29.37771</td><td> 4.329415</td><td>0</td><td>3364</td><td>0</td><td>CO</td><td>TRUE</td><td>TCGA</td><td>WES</td><td>Pan-can</td></tr>\n",
       "\t<tr><th scope=row>6</th><td>PTEN  </td><td>TP53  </td><td>PTEN - TP53  </td><td> 635</td><td>3030</td><td>0.06991852</td><td>0.33362695</td><td>158</td><td>133.797790</td><td>385</td><td>⋯</td><td>-28.99619</td><td>-5.350602</td><td>0</td><td>3665</td><td>0</td><td>ME</td><td>TRUE</td><td>TCGA</td><td>WES</td><td>Pan-can</td></tr>\n",
       "</tbody>\n",
       "</table>\n"
      ],
      "text/latex": [
       "A data.frame: 6 × 25\n",
       "\\begin{tabular}{r|lllllllllllllllllllll}\n",
       "  & SFE\\_1 & SFE\\_2 & name & support\\_1 & support\\_2 & freq\\_1 & freq\\_2 & overlap & w\\_overlap & max\\_overlap & ⋯ & nES & mean\\_r\\_nES & nFDR & cum\\_freq & nFDR2 & type & FDR & Cohort & Panel & Tumor\\_run\\\\\n",
       "  & <chr> & <chr> & <chr> & <dbl> & <dbl> & <dbl> & <dbl> & <dbl> & <dbl> & <dbl> & ⋯ & <dbl> & <dbl> & <dbl> & <dbl> & <dbl> & <chr> & <lgl> & <chr> & <chr> & <chr>\\\\\n",
       "\\hline\n",
       "\t1 & PIK3CA & TP53   & PIK3CA - TP53 & 1136 & 3030 & 0.12508258 & 0.33362695 & 357 & 317.529713 & 669 & ⋯ & -46.41800 & -7.357413 & 0 & 4166 & 0 & ME & TRUE & TCGA & WES & Pan-can\\\\\n",
       "\t2 & BRAF   & TP53   & BRAF - TP53   &  611 & 3030 & 0.06727593 & 0.33362695 &  82 &  53.397547 & 180 & ⋯ & -44.24852 & -4.784206 & 0 & 3641 & 0 & ME & TRUE & TCGA & WES & Pan-can\\\\\n",
       "\t3 & TP53   & ARID1A & TP53 - ARID1A & 3030 &  571 & 0.33362695 & 0.06287161 & 147 & 115.192451 & 371 & ⋯ & -34.12723 & -4.990387 & 0 & 3601 & 0 & ME & TRUE & TCGA & WES & Pan-can\\\\\n",
       "\t4 & BRAF   & NRAS   & BRAF - NRAS   &  611 &  240 & 0.06727593 & 0.02642590 &  13 &   6.352379 & 191 & ⋯ & -31.75002 & -2.704795 & 0 &  851 & 0 & ME & TRUE & TCGA & WES & Pan-can\\\\\n",
       "\t5 & CDKN2A & TP53   & CDKN2A - TP53 &  334 & 3030 & 0.03677604 & 0.33362695 & 225 & 202.011705 & 334 & ⋯ &  29.37771 &  4.329415 & 0 & 3364 & 0 & CO & TRUE & TCGA & WES & Pan-can\\\\\n",
       "\t6 & PTEN   & TP53   & PTEN - TP53   &  635 & 3030 & 0.06991852 & 0.33362695 & 158 & 133.797790 & 385 & ⋯ & -28.99619 & -5.350602 & 0 & 3665 & 0 & ME & TRUE & TCGA & WES & Pan-can\\\\\n",
       "\\end{tabular}\n"
      ],
      "text/markdown": [
       "\n",
       "A data.frame: 6 × 25\n",
       "\n",
       "| <!--/--> | SFE_1 &lt;chr&gt; | SFE_2 &lt;chr&gt; | name &lt;chr&gt; | support_1 &lt;dbl&gt; | support_2 &lt;dbl&gt; | freq_1 &lt;dbl&gt; | freq_2 &lt;dbl&gt; | overlap &lt;dbl&gt; | w_overlap &lt;dbl&gt; | max_overlap &lt;dbl&gt; | ⋯ ⋯ | nES &lt;dbl&gt; | mean_r_nES &lt;dbl&gt; | nFDR &lt;dbl&gt; | cum_freq &lt;dbl&gt; | nFDR2 &lt;dbl&gt; | type &lt;chr&gt; | FDR &lt;lgl&gt; | Cohort &lt;chr&gt; | Panel &lt;chr&gt; | Tumor_run &lt;chr&gt; |\n",
       "|---|---|---|---|---|---|---|---|---|---|---|---|---|---|---|---|---|---|---|---|---|---|\n",
       "| 1 | PIK3CA | TP53   | PIK3CA - TP53 | 1136 | 3030 | 0.12508258 | 0.33362695 | 357 | 317.529713 | 669 | ⋯ | -46.41800 | -7.357413 | 0 | 4166 | 0 | ME | TRUE | TCGA | WES | Pan-can |\n",
       "| 2 | BRAF   | TP53   | BRAF - TP53   |  611 | 3030 | 0.06727593 | 0.33362695 |  82 |  53.397547 | 180 | ⋯ | -44.24852 | -4.784206 | 0 | 3641 | 0 | ME | TRUE | TCGA | WES | Pan-can |\n",
       "| 3 | TP53   | ARID1A | TP53 - ARID1A | 3030 |  571 | 0.33362695 | 0.06287161 | 147 | 115.192451 | 371 | ⋯ | -34.12723 | -4.990387 | 0 | 3601 | 0 | ME | TRUE | TCGA | WES | Pan-can |\n",
       "| 4 | BRAF   | NRAS   | BRAF - NRAS   |  611 |  240 | 0.06727593 | 0.02642590 |  13 |   6.352379 | 191 | ⋯ | -31.75002 | -2.704795 | 0 |  851 | 0 | ME | TRUE | TCGA | WES | Pan-can |\n",
       "| 5 | CDKN2A | TP53   | CDKN2A - TP53 |  334 | 3030 | 0.03677604 | 0.33362695 | 225 | 202.011705 | 334 | ⋯ |  29.37771 |  4.329415 | 0 | 3364 | 0 | CO | TRUE | TCGA | WES | Pan-can |\n",
       "| 6 | PTEN   | TP53   | PTEN - TP53   |  635 | 3030 | 0.06991852 | 0.33362695 | 158 | 133.797790 | 385 | ⋯ | -28.99619 | -5.350602 | 0 | 3665 | 0 | ME | TRUE | TCGA | WES | Pan-can |\n",
       "\n"
      ],
      "text/plain": [
       "  SFE_1  SFE_2  name          support_1 support_2 freq_1     freq_2     overlap\n",
       "1 PIK3CA TP53   PIK3CA - TP53 1136      3030      0.12508258 0.33362695 357    \n",
       "2 BRAF   TP53   BRAF - TP53    611      3030      0.06727593 0.33362695  82    \n",
       "3 TP53   ARID1A TP53 - ARID1A 3030       571      0.33362695 0.06287161 147    \n",
       "4 BRAF   NRAS   BRAF - NRAS    611       240      0.06727593 0.02642590  13    \n",
       "5 CDKN2A TP53   CDKN2A - TP53  334      3030      0.03677604 0.33362695 225    \n",
       "6 PTEN   TP53   PTEN - TP53    635      3030      0.06991852 0.33362695 158    \n",
       "  w_overlap  max_overlap ⋯ nES       mean_r_nES nFDR cum_freq nFDR2 type FDR \n",
       "1 317.529713 669         ⋯ -46.41800 -7.357413  0    4166     0     ME   TRUE\n",
       "2  53.397547 180         ⋯ -44.24852 -4.784206  0    3641     0     ME   TRUE\n",
       "3 115.192451 371         ⋯ -34.12723 -4.990387  0    3601     0     ME   TRUE\n",
       "4   6.352379 191         ⋯ -31.75002 -2.704795  0     851     0     ME   TRUE\n",
       "5 202.011705 334         ⋯  29.37771  4.329415  0    3364     0     CO   TRUE\n",
       "6 133.797790 385         ⋯ -28.99619 -5.350602  0    3665     0     ME   TRUE\n",
       "  Cohort Panel Tumor_run\n",
       "1 TCGA   WES   Pan-can  \n",
       "2 TCGA   WES   Pan-can  \n",
       "3 TCGA   WES   Pan-can  \n",
       "4 TCGA   WES   Pan-can  \n",
       "5 TCGA   WES   Pan-can  \n",
       "6 TCGA   WES   Pan-can  "
      ]
     },
     "metadata": {},
     "output_type": "display_data"
    }
   ],
   "source": [
    "head(all_merged_result_v15)"
   ]
  },
  {
   "cell_type": "code",
   "execution_count": 12,
   "id": "3ca8c40c-81ef-4b14-be2e-51d054c7490e",
   "metadata": {},
   "outputs": [],
   "source": [
    "tumor_mapped<-readRDS(file='/mnt/ndata/arvind/co_mutation_project/analysis/catalogue/data/tcga_tumor_run_mapping.rds')"
   ]
  },
  {
   "cell_type": "code",
   "execution_count": 14,
   "id": "db230baa-a48f-4867-8b78-99ba2dbf955a",
   "metadata": {},
   "outputs": [],
   "source": [
    "all_merged_result<-all_merged_result_v15 %>% mutate(Mapped_Tumor_run = case_when(Tumor_run %in% names(tumor_mapped) ~ tumor_mapped[Tumor_run],\n",
    "                                                                   TRUE ~ Tumor_run))"
   ]
  },
  {
   "cell_type": "code",
   "execution_count": 15,
   "id": "c6fcc9be-c280-4bd4-bdf5-9f7ac2b4020b",
   "metadata": {},
   "outputs": [
    {
     "data": {
      "text/html": [
       "<table class=\"dataframe\">\n",
       "<caption>A data.frame: 6 × 26</caption>\n",
       "<thead>\n",
       "\t<tr><th></th><th scope=col>SFE_1</th><th scope=col>SFE_2</th><th scope=col>name</th><th scope=col>support_1</th><th scope=col>support_2</th><th scope=col>freq_1</th><th scope=col>freq_2</th><th scope=col>overlap</th><th scope=col>w_overlap</th><th scope=col>max_overlap</th><th scope=col>⋯</th><th scope=col>mean_r_nES</th><th scope=col>nFDR</th><th scope=col>cum_freq</th><th scope=col>nFDR2</th><th scope=col>type</th><th scope=col>FDR</th><th scope=col>Cohort</th><th scope=col>Panel</th><th scope=col>Tumor_run</th><th scope=col>Mapped_Tumor_run</th></tr>\n",
       "\t<tr><th></th><th scope=col>&lt;chr&gt;</th><th scope=col>&lt;chr&gt;</th><th scope=col>&lt;chr&gt;</th><th scope=col>&lt;dbl&gt;</th><th scope=col>&lt;dbl&gt;</th><th scope=col>&lt;dbl&gt;</th><th scope=col>&lt;dbl&gt;</th><th scope=col>&lt;dbl&gt;</th><th scope=col>&lt;dbl&gt;</th><th scope=col>&lt;dbl&gt;</th><th scope=col>⋯</th><th scope=col>&lt;dbl&gt;</th><th scope=col>&lt;dbl&gt;</th><th scope=col>&lt;dbl&gt;</th><th scope=col>&lt;dbl&gt;</th><th scope=col>&lt;chr&gt;</th><th scope=col>&lt;lgl&gt;</th><th scope=col>&lt;chr&gt;</th><th scope=col>&lt;chr&gt;</th><th scope=col>&lt;chr&gt;</th><th scope=col>&lt;chr&gt;</th></tr>\n",
       "</thead>\n",
       "<tbody>\n",
       "\t<tr><th scope=row>1</th><td>PIK3CA</td><td>TP53  </td><td>PIK3CA - TP53</td><td>1136</td><td>3030</td><td>0.12508258</td><td>0.33362695</td><td>357</td><td>317.529713</td><td>669</td><td>⋯</td><td>-7.357413</td><td>0</td><td>4166</td><td>0</td><td>ME</td><td>TRUE</td><td>TCGA</td><td>WES</td><td>Pan-can</td><td>Pan-can</td></tr>\n",
       "\t<tr><th scope=row>2</th><td>BRAF  </td><td>TP53  </td><td>BRAF - TP53  </td><td> 611</td><td>3030</td><td>0.06727593</td><td>0.33362695</td><td> 82</td><td> 53.397547</td><td>180</td><td>⋯</td><td>-4.784206</td><td>0</td><td>3641</td><td>0</td><td>ME</td><td>TRUE</td><td>TCGA</td><td>WES</td><td>Pan-can</td><td>Pan-can</td></tr>\n",
       "\t<tr><th scope=row>3</th><td>TP53  </td><td>ARID1A</td><td>TP53 - ARID1A</td><td>3030</td><td> 571</td><td>0.33362695</td><td>0.06287161</td><td>147</td><td>115.192451</td><td>371</td><td>⋯</td><td>-4.990387</td><td>0</td><td>3601</td><td>0</td><td>ME</td><td>TRUE</td><td>TCGA</td><td>WES</td><td>Pan-can</td><td>Pan-can</td></tr>\n",
       "\t<tr><th scope=row>4</th><td>BRAF  </td><td>NRAS  </td><td>BRAF - NRAS  </td><td> 611</td><td> 240</td><td>0.06727593</td><td>0.02642590</td><td> 13</td><td>  6.352379</td><td>191</td><td>⋯</td><td>-2.704795</td><td>0</td><td> 851</td><td>0</td><td>ME</td><td>TRUE</td><td>TCGA</td><td>WES</td><td>Pan-can</td><td>Pan-can</td></tr>\n",
       "\t<tr><th scope=row>5</th><td>CDKN2A</td><td>TP53  </td><td>CDKN2A - TP53</td><td> 334</td><td>3030</td><td>0.03677604</td><td>0.33362695</td><td>225</td><td>202.011705</td><td>334</td><td>⋯</td><td> 4.329415</td><td>0</td><td>3364</td><td>0</td><td>CO</td><td>TRUE</td><td>TCGA</td><td>WES</td><td>Pan-can</td><td>Pan-can</td></tr>\n",
       "\t<tr><th scope=row>6</th><td>PTEN  </td><td>TP53  </td><td>PTEN - TP53  </td><td> 635</td><td>3030</td><td>0.06991852</td><td>0.33362695</td><td>158</td><td>133.797790</td><td>385</td><td>⋯</td><td>-5.350602</td><td>0</td><td>3665</td><td>0</td><td>ME</td><td>TRUE</td><td>TCGA</td><td>WES</td><td>Pan-can</td><td>Pan-can</td></tr>\n",
       "</tbody>\n",
       "</table>\n"
      ],
      "text/latex": [
       "A data.frame: 6 × 26\n",
       "\\begin{tabular}{r|lllllllllllllllllllll}\n",
       "  & SFE\\_1 & SFE\\_2 & name & support\\_1 & support\\_2 & freq\\_1 & freq\\_2 & overlap & w\\_overlap & max\\_overlap & ⋯ & mean\\_r\\_nES & nFDR & cum\\_freq & nFDR2 & type & FDR & Cohort & Panel & Tumor\\_run & Mapped\\_Tumor\\_run\\\\\n",
       "  & <chr> & <chr> & <chr> & <dbl> & <dbl> & <dbl> & <dbl> & <dbl> & <dbl> & <dbl> & ⋯ & <dbl> & <dbl> & <dbl> & <dbl> & <chr> & <lgl> & <chr> & <chr> & <chr> & <chr>\\\\\n",
       "\\hline\n",
       "\t1 & PIK3CA & TP53   & PIK3CA - TP53 & 1136 & 3030 & 0.12508258 & 0.33362695 & 357 & 317.529713 & 669 & ⋯ & -7.357413 & 0 & 4166 & 0 & ME & TRUE & TCGA & WES & Pan-can & Pan-can\\\\\n",
       "\t2 & BRAF   & TP53   & BRAF - TP53   &  611 & 3030 & 0.06727593 & 0.33362695 &  82 &  53.397547 & 180 & ⋯ & -4.784206 & 0 & 3641 & 0 & ME & TRUE & TCGA & WES & Pan-can & Pan-can\\\\\n",
       "\t3 & TP53   & ARID1A & TP53 - ARID1A & 3030 &  571 & 0.33362695 & 0.06287161 & 147 & 115.192451 & 371 & ⋯ & -4.990387 & 0 & 3601 & 0 & ME & TRUE & TCGA & WES & Pan-can & Pan-can\\\\\n",
       "\t4 & BRAF   & NRAS   & BRAF - NRAS   &  611 &  240 & 0.06727593 & 0.02642590 &  13 &   6.352379 & 191 & ⋯ & -2.704795 & 0 &  851 & 0 & ME & TRUE & TCGA & WES & Pan-can & Pan-can\\\\\n",
       "\t5 & CDKN2A & TP53   & CDKN2A - TP53 &  334 & 3030 & 0.03677604 & 0.33362695 & 225 & 202.011705 & 334 & ⋯ &  4.329415 & 0 & 3364 & 0 & CO & TRUE & TCGA & WES & Pan-can & Pan-can\\\\\n",
       "\t6 & PTEN   & TP53   & PTEN - TP53   &  635 & 3030 & 0.06991852 & 0.33362695 & 158 & 133.797790 & 385 & ⋯ & -5.350602 & 0 & 3665 & 0 & ME & TRUE & TCGA & WES & Pan-can & Pan-can\\\\\n",
       "\\end{tabular}\n"
      ],
      "text/markdown": [
       "\n",
       "A data.frame: 6 × 26\n",
       "\n",
       "| <!--/--> | SFE_1 &lt;chr&gt; | SFE_2 &lt;chr&gt; | name &lt;chr&gt; | support_1 &lt;dbl&gt; | support_2 &lt;dbl&gt; | freq_1 &lt;dbl&gt; | freq_2 &lt;dbl&gt; | overlap &lt;dbl&gt; | w_overlap &lt;dbl&gt; | max_overlap &lt;dbl&gt; | ⋯ ⋯ | mean_r_nES &lt;dbl&gt; | nFDR &lt;dbl&gt; | cum_freq &lt;dbl&gt; | nFDR2 &lt;dbl&gt; | type &lt;chr&gt; | FDR &lt;lgl&gt; | Cohort &lt;chr&gt; | Panel &lt;chr&gt; | Tumor_run &lt;chr&gt; | Mapped_Tumor_run &lt;chr&gt; |\n",
       "|---|---|---|---|---|---|---|---|---|---|---|---|---|---|---|---|---|---|---|---|---|---|\n",
       "| 1 | PIK3CA | TP53   | PIK3CA - TP53 | 1136 | 3030 | 0.12508258 | 0.33362695 | 357 | 317.529713 | 669 | ⋯ | -7.357413 | 0 | 4166 | 0 | ME | TRUE | TCGA | WES | Pan-can | Pan-can |\n",
       "| 2 | BRAF   | TP53   | BRAF - TP53   |  611 | 3030 | 0.06727593 | 0.33362695 |  82 |  53.397547 | 180 | ⋯ | -4.784206 | 0 | 3641 | 0 | ME | TRUE | TCGA | WES | Pan-can | Pan-can |\n",
       "| 3 | TP53   | ARID1A | TP53 - ARID1A | 3030 |  571 | 0.33362695 | 0.06287161 | 147 | 115.192451 | 371 | ⋯ | -4.990387 | 0 | 3601 | 0 | ME | TRUE | TCGA | WES | Pan-can | Pan-can |\n",
       "| 4 | BRAF   | NRAS   | BRAF - NRAS   |  611 |  240 | 0.06727593 | 0.02642590 |  13 |   6.352379 | 191 | ⋯ | -2.704795 | 0 |  851 | 0 | ME | TRUE | TCGA | WES | Pan-can | Pan-can |\n",
       "| 5 | CDKN2A | TP53   | CDKN2A - TP53 |  334 | 3030 | 0.03677604 | 0.33362695 | 225 | 202.011705 | 334 | ⋯ |  4.329415 | 0 | 3364 | 0 | CO | TRUE | TCGA | WES | Pan-can | Pan-can |\n",
       "| 6 | PTEN   | TP53   | PTEN - TP53   |  635 | 3030 | 0.06991852 | 0.33362695 | 158 | 133.797790 | 385 | ⋯ | -5.350602 | 0 | 3665 | 0 | ME | TRUE | TCGA | WES | Pan-can | Pan-can |\n",
       "\n"
      ],
      "text/plain": [
       "  SFE_1  SFE_2  name          support_1 support_2 freq_1     freq_2     overlap\n",
       "1 PIK3CA TP53   PIK3CA - TP53 1136      3030      0.12508258 0.33362695 357    \n",
       "2 BRAF   TP53   BRAF - TP53    611      3030      0.06727593 0.33362695  82    \n",
       "3 TP53   ARID1A TP53 - ARID1A 3030       571      0.33362695 0.06287161 147    \n",
       "4 BRAF   NRAS   BRAF - NRAS    611       240      0.06727593 0.02642590  13    \n",
       "5 CDKN2A TP53   CDKN2A - TP53  334      3030      0.03677604 0.33362695 225    \n",
       "6 PTEN   TP53   PTEN - TP53    635      3030      0.06991852 0.33362695 158    \n",
       "  w_overlap  max_overlap ⋯ mean_r_nES nFDR cum_freq nFDR2 type FDR  Cohort\n",
       "1 317.529713 669         ⋯ -7.357413  0    4166     0     ME   TRUE TCGA  \n",
       "2  53.397547 180         ⋯ -4.784206  0    3641     0     ME   TRUE TCGA  \n",
       "3 115.192451 371         ⋯ -4.990387  0    3601     0     ME   TRUE TCGA  \n",
       "4   6.352379 191         ⋯ -2.704795  0     851     0     ME   TRUE TCGA  \n",
       "5 202.011705 334         ⋯  4.329415  0    3364     0     CO   TRUE TCGA  \n",
       "6 133.797790 385         ⋯ -5.350602  0    3665     0     ME   TRUE TCGA  \n",
       "  Panel Tumor_run Mapped_Tumor_run\n",
       "1 WES   Pan-can   Pan-can         \n",
       "2 WES   Pan-can   Pan-can         \n",
       "3 WES   Pan-can   Pan-can         \n",
       "4 WES   Pan-can   Pan-can         \n",
       "5 WES   Pan-can   Pan-can         \n",
       "6 WES   Pan-can   Pan-can         "
      ]
     },
     "metadata": {},
     "output_type": "display_data"
    }
   ],
   "source": [
    "head(all_merged_result)"
   ]
  },
  {
   "cell_type": "code",
   "execution_count": 16,
   "id": "0fbfadc3-031a-4f45-b32c-19515cf94716",
   "metadata": {},
   "outputs": [
    {
     "data": {
      "text/html": [
       "<style>\n",
       ".list-inline {list-style: none; margin:0; padding: 0}\n",
       ".list-inline>li {display: inline-block}\n",
       ".list-inline>li:not(:last-child)::after {content: \"\\00b7\"; padding: 0 .5ex}\n",
       "</style>\n",
       "<ol class=list-inline><li>'Pan-can'</li><li>'no_mapping'</li><li>'bladder_cancer'</li><li>'breast_cancer'</li><li>'cervical_cancer'</li><li>'billary_tract_cancer'</li><li>'colorectal_cancer'</li><li>'mature_b_cell_neoplasms'</li><li>'esophagogastric_cancer'</li><li>'glioma'</li><li>'head_and_neck_cancer'</li><li>'renal_cell_carcinoma'</li><li>'leukemia'</li><li>'liver_cancer'</li><li>'non_small_cell_lung_cancer'</li><li>'mesothelioma'</li><li>'ovarian_cancer'</li><li>'pancreatic_cancer'</li><li>'prostate_cancer'</li><li>'soft_tissue_sarcoma'</li><li>'melanoma'</li><li>'germ_cell_tumor'</li><li>'thyroid_cancer'</li><li>'endometrial_cancer'</li><li>'salivary_gland_cancer'</li><li>'anal_cancer'</li><li>'appendiceal_cancer'</li><li>'b_lymphoblastic_leukemia_lymphoma'</li><li>'skin_cancer,_non_melanoma'</li><li>'gastrointestinal_stromal_tumor'</li><li>'myeloproliferative_neoplasms'</li><li>'peripheral_nervous_system'</li><li>'bone_cancer'</li><li>'small_cell_lung_cancer'</li><li>'uterine_sarcoma'</li><li>'cns_cancer'</li><li>'gastrointestinal_neuroendocrine_tumor'</li><li>'sellar_tumor'</li></ol>\n"
      ],
      "text/latex": [
       "\\begin{enumerate*}\n",
       "\\item 'Pan-can'\n",
       "\\item 'no\\_mapping'\n",
       "\\item 'bladder\\_cancer'\n",
       "\\item 'breast\\_cancer'\n",
       "\\item 'cervical\\_cancer'\n",
       "\\item 'billary\\_tract\\_cancer'\n",
       "\\item 'colorectal\\_cancer'\n",
       "\\item 'mature\\_b\\_cell\\_neoplasms'\n",
       "\\item 'esophagogastric\\_cancer'\n",
       "\\item 'glioma'\n",
       "\\item 'head\\_and\\_neck\\_cancer'\n",
       "\\item 'renal\\_cell\\_carcinoma'\n",
       "\\item 'leukemia'\n",
       "\\item 'liver\\_cancer'\n",
       "\\item 'non\\_small\\_cell\\_lung\\_cancer'\n",
       "\\item 'mesothelioma'\n",
       "\\item 'ovarian\\_cancer'\n",
       "\\item 'pancreatic\\_cancer'\n",
       "\\item 'prostate\\_cancer'\n",
       "\\item 'soft\\_tissue\\_sarcoma'\n",
       "\\item 'melanoma'\n",
       "\\item 'germ\\_cell\\_tumor'\n",
       "\\item 'thyroid\\_cancer'\n",
       "\\item 'endometrial\\_cancer'\n",
       "\\item 'salivary\\_gland\\_cancer'\n",
       "\\item 'anal\\_cancer'\n",
       "\\item 'appendiceal\\_cancer'\n",
       "\\item 'b\\_lymphoblastic\\_leukemia\\_lymphoma'\n",
       "\\item 'skin\\_cancer,\\_non\\_melanoma'\n",
       "\\item 'gastrointestinal\\_stromal\\_tumor'\n",
       "\\item 'myeloproliferative\\_neoplasms'\n",
       "\\item 'peripheral\\_nervous\\_system'\n",
       "\\item 'bone\\_cancer'\n",
       "\\item 'small\\_cell\\_lung\\_cancer'\n",
       "\\item 'uterine\\_sarcoma'\n",
       "\\item 'cns\\_cancer'\n",
       "\\item 'gastrointestinal\\_neuroendocrine\\_tumor'\n",
       "\\item 'sellar\\_tumor'\n",
       "\\end{enumerate*}\n"
      ],
      "text/markdown": [
       "1. 'Pan-can'\n",
       "2. 'no_mapping'\n",
       "3. 'bladder_cancer'\n",
       "4. 'breast_cancer'\n",
       "5. 'cervical_cancer'\n",
       "6. 'billary_tract_cancer'\n",
       "7. 'colorectal_cancer'\n",
       "8. 'mature_b_cell_neoplasms'\n",
       "9. 'esophagogastric_cancer'\n",
       "10. 'glioma'\n",
       "11. 'head_and_neck_cancer'\n",
       "12. 'renal_cell_carcinoma'\n",
       "13. 'leukemia'\n",
       "14. 'liver_cancer'\n",
       "15. 'non_small_cell_lung_cancer'\n",
       "16. 'mesothelioma'\n",
       "17. 'ovarian_cancer'\n",
       "18. 'pancreatic_cancer'\n",
       "19. 'prostate_cancer'\n",
       "20. 'soft_tissue_sarcoma'\n",
       "21. 'melanoma'\n",
       "22. 'germ_cell_tumor'\n",
       "23. 'thyroid_cancer'\n",
       "24. 'endometrial_cancer'\n",
       "25. 'salivary_gland_cancer'\n",
       "26. 'anal_cancer'\n",
       "27. 'appendiceal_cancer'\n",
       "28. 'b_lymphoblastic_leukemia_lymphoma'\n",
       "29. 'skin_cancer,_non_melanoma'\n",
       "30. 'gastrointestinal_stromal_tumor'\n",
       "31. 'myeloproliferative_neoplasms'\n",
       "32. 'peripheral_nervous_system'\n",
       "33. 'bone_cancer'\n",
       "34. 'small_cell_lung_cancer'\n",
       "35. 'uterine_sarcoma'\n",
       "36. 'cns_cancer'\n",
       "37. 'gastrointestinal_neuroendocrine_tumor'\n",
       "38. 'sellar_tumor'\n",
       "\n",
       "\n"
      ],
      "text/plain": [
       " [1] \"Pan-can\"                              \n",
       " [2] \"no_mapping\"                           \n",
       " [3] \"bladder_cancer\"                       \n",
       " [4] \"breast_cancer\"                        \n",
       " [5] \"cervical_cancer\"                      \n",
       " [6] \"billary_tract_cancer\"                 \n",
       " [7] \"colorectal_cancer\"                    \n",
       " [8] \"mature_b_cell_neoplasms\"              \n",
       " [9] \"esophagogastric_cancer\"               \n",
       "[10] \"glioma\"                               \n",
       "[11] \"head_and_neck_cancer\"                 \n",
       "[12] \"renal_cell_carcinoma\"                 \n",
       "[13] \"leukemia\"                             \n",
       "[14] \"liver_cancer\"                         \n",
       "[15] \"non_small_cell_lung_cancer\"           \n",
       "[16] \"mesothelioma\"                         \n",
       "[17] \"ovarian_cancer\"                       \n",
       "[18] \"pancreatic_cancer\"                    \n",
       "[19] \"prostate_cancer\"                      \n",
       "[20] \"soft_tissue_sarcoma\"                  \n",
       "[21] \"melanoma\"                             \n",
       "[22] \"germ_cell_tumor\"                      \n",
       "[23] \"thyroid_cancer\"                       \n",
       "[24] \"endometrial_cancer\"                   \n",
       "[25] \"salivary_gland_cancer\"                \n",
       "[26] \"anal_cancer\"                          \n",
       "[27] \"appendiceal_cancer\"                   \n",
       "[28] \"b_lymphoblastic_leukemia_lymphoma\"    \n",
       "[29] \"skin_cancer,_non_melanoma\"            \n",
       "[30] \"gastrointestinal_stromal_tumor\"       \n",
       "[31] \"myeloproliferative_neoplasms\"         \n",
       "[32] \"peripheral_nervous_system\"            \n",
       "[33] \"bone_cancer\"                          \n",
       "[34] \"small_cell_lung_cancer\"               \n",
       "[35] \"uterine_sarcoma\"                      \n",
       "[36] \"cns_cancer\"                           \n",
       "[37] \"gastrointestinal_neuroendocrine_tumor\"\n",
       "[38] \"sellar_tumor\"                         "
      ]
     },
     "metadata": {},
     "output_type": "display_data"
    }
   ],
   "source": [
    "unique(all_merged_result$Mapped_Tumor_run)"
   ]
  },
  {
   "cell_type": "code",
   "execution_count": 17,
   "id": "ef30c996-add5-41ae-883e-2767e1d5b0e4",
   "metadata": {
    "scrolled": true
   },
   "outputs": [
    {
     "data": {
      "text/html": [
       "<table class=\"dataframe\">\n",
       "<caption>A data.frame: 38 × 2</caption>\n",
       "<thead>\n",
       "\t<tr><th scope=col>Mapped_Tumor_run</th><th scope=col>n</th></tr>\n",
       "\t<tr><th scope=col>&lt;chr&gt;</th><th scope=col>&lt;int&gt;</th></tr>\n",
       "</thead>\n",
       "<tbody>\n",
       "\t<tr><td>Pan-can                              </td><td>445055</td></tr>\n",
       "\t<tr><td>anal_cancer                          </td><td> 13538</td></tr>\n",
       "\t<tr><td>appendiceal_cancer                   </td><td>  6522</td></tr>\n",
       "\t<tr><td>b_lymphoblastic_leukemia_lymphoma    </td><td>  5968</td></tr>\n",
       "\t<tr><td>billary_tract_cancer                 </td><td> 55682</td></tr>\n",
       "\t<tr><td>bladder_cancer                       </td><td>175009</td></tr>\n",
       "\t<tr><td>bone_cancer                          </td><td>   735</td></tr>\n",
       "\t<tr><td>breast_cancer                        </td><td>179267</td></tr>\n",
       "\t<tr><td>cervical_cancer                      </td><td> 24046</td></tr>\n",
       "\t<tr><td>cns_cancer                           </td><td>  3374</td></tr>\n",
       "\t<tr><td>colorectal_cancer                    </td><td>293404</td></tr>\n",
       "\t<tr><td>endometrial_cancer                   </td><td>251839</td></tr>\n",
       "\t<tr><td>esophagogastric_cancer               </td><td>188920</td></tr>\n",
       "\t<tr><td>gastrointestinal_neuroendocrine_tumor</td><td>  2803</td></tr>\n",
       "\t<tr><td>gastrointestinal_stromal_tumor       </td><td>  9239</td></tr>\n",
       "\t<tr><td>germ_cell_tumor                      </td><td>  1692</td></tr>\n",
       "\t<tr><td>glioma                               </td><td> 94266</td></tr>\n",
       "\t<tr><td>head_and_neck_cancer                 </td><td> 80501</td></tr>\n",
       "\t<tr><td>leukemia                             </td><td> 10028</td></tr>\n",
       "\t<tr><td>liver_cancer                         </td><td> 24597</td></tr>\n",
       "\t<tr><td>mature_b_cell_neoplasms              </td><td> 47846</td></tr>\n",
       "\t<tr><td>melanoma                             </td><td>223725</td></tr>\n",
       "\t<tr><td>mesothelioma                         </td><td>  5377</td></tr>\n",
       "\t<tr><td>myeloproliferative_neoplasms         </td><td>  1072</td></tr>\n",
       "\t<tr><td>no_mapping                           </td><td>  1963</td></tr>\n",
       "\t<tr><td>non_small_cell_lung_cancer           </td><td>295750</td></tr>\n",
       "\t<tr><td>ovarian_cancer                       </td><td> 83223</td></tr>\n",
       "\t<tr><td>pancreatic_cancer                    </td><td> 68584</td></tr>\n",
       "\t<tr><td>peripheral_nervous_system            </td><td>  1449</td></tr>\n",
       "\t<tr><td>prostate_cancer                      </td><td>103743</td></tr>\n",
       "\t<tr><td>renal_cell_carcinoma                 </td><td> 47371</td></tr>\n",
       "\t<tr><td>salivary_gland_cancer                </td><td>  3244</td></tr>\n",
       "\t<tr><td>sellar_tumor                         </td><td>   609</td></tr>\n",
       "\t<tr><td>skin_cancer,_non_melanoma            </td><td> 29897</td></tr>\n",
       "\t<tr><td>small_cell_lung_cancer               </td><td> 27686</td></tr>\n",
       "\t<tr><td>soft_tissue_sarcoma                  </td><td> 39176</td></tr>\n",
       "\t<tr><td>thyroid_cancer                       </td><td> 20243</td></tr>\n",
       "\t<tr><td>uterine_sarcoma                      </td><td>  1916</td></tr>\n",
       "</tbody>\n",
       "</table>\n"
      ],
      "text/latex": [
       "A data.frame: 38 × 2\n",
       "\\begin{tabular}{ll}\n",
       " Mapped\\_Tumor\\_run & n\\\\\n",
       " <chr> & <int>\\\\\n",
       "\\hline\n",
       "\t Pan-can                               & 445055\\\\\n",
       "\t anal\\_cancer                           &  13538\\\\\n",
       "\t appendiceal\\_cancer                    &   6522\\\\\n",
       "\t b\\_lymphoblastic\\_leukemia\\_lymphoma     &   5968\\\\\n",
       "\t billary\\_tract\\_cancer                  &  55682\\\\\n",
       "\t bladder\\_cancer                        & 175009\\\\\n",
       "\t bone\\_cancer                           &    735\\\\\n",
       "\t breast\\_cancer                         & 179267\\\\\n",
       "\t cervical\\_cancer                       &  24046\\\\\n",
       "\t cns\\_cancer                            &   3374\\\\\n",
       "\t colorectal\\_cancer                     & 293404\\\\\n",
       "\t endometrial\\_cancer                    & 251839\\\\\n",
       "\t esophagogastric\\_cancer                & 188920\\\\\n",
       "\t gastrointestinal\\_neuroendocrine\\_tumor &   2803\\\\\n",
       "\t gastrointestinal\\_stromal\\_tumor        &   9239\\\\\n",
       "\t germ\\_cell\\_tumor                       &   1692\\\\\n",
       "\t glioma                                &  94266\\\\\n",
       "\t head\\_and\\_neck\\_cancer                  &  80501\\\\\n",
       "\t leukemia                              &  10028\\\\\n",
       "\t liver\\_cancer                          &  24597\\\\\n",
       "\t mature\\_b\\_cell\\_neoplasms               &  47846\\\\\n",
       "\t melanoma                              & 223725\\\\\n",
       "\t mesothelioma                          &   5377\\\\\n",
       "\t myeloproliferative\\_neoplasms          &   1072\\\\\n",
       "\t no\\_mapping                            &   1963\\\\\n",
       "\t non\\_small\\_cell\\_lung\\_cancer            & 295750\\\\\n",
       "\t ovarian\\_cancer                        &  83223\\\\\n",
       "\t pancreatic\\_cancer                     &  68584\\\\\n",
       "\t peripheral\\_nervous\\_system             &   1449\\\\\n",
       "\t prostate\\_cancer                       & 103743\\\\\n",
       "\t renal\\_cell\\_carcinoma                  &  47371\\\\\n",
       "\t salivary\\_gland\\_cancer                 &   3244\\\\\n",
       "\t sellar\\_tumor                          &    609\\\\\n",
       "\t skin\\_cancer,\\_non\\_melanoma             &  29897\\\\\n",
       "\t small\\_cell\\_lung\\_cancer                &  27686\\\\\n",
       "\t soft\\_tissue\\_sarcoma                   &  39176\\\\\n",
       "\t thyroid\\_cancer                        &  20243\\\\\n",
       "\t uterine\\_sarcoma                       &   1916\\\\\n",
       "\\end{tabular}\n"
      ],
      "text/markdown": [
       "\n",
       "A data.frame: 38 × 2\n",
       "\n",
       "| Mapped_Tumor_run &lt;chr&gt; | n &lt;int&gt; |\n",
       "|---|---|\n",
       "| Pan-can                               | 445055 |\n",
       "| anal_cancer                           |  13538 |\n",
       "| appendiceal_cancer                    |   6522 |\n",
       "| b_lymphoblastic_leukemia_lymphoma     |   5968 |\n",
       "| billary_tract_cancer                  |  55682 |\n",
       "| bladder_cancer                        | 175009 |\n",
       "| bone_cancer                           |    735 |\n",
       "| breast_cancer                         | 179267 |\n",
       "| cervical_cancer                       |  24046 |\n",
       "| cns_cancer                            |   3374 |\n",
       "| colorectal_cancer                     | 293404 |\n",
       "| endometrial_cancer                    | 251839 |\n",
       "| esophagogastric_cancer                | 188920 |\n",
       "| gastrointestinal_neuroendocrine_tumor |   2803 |\n",
       "| gastrointestinal_stromal_tumor        |   9239 |\n",
       "| germ_cell_tumor                       |   1692 |\n",
       "| glioma                                |  94266 |\n",
       "| head_and_neck_cancer                  |  80501 |\n",
       "| leukemia                              |  10028 |\n",
       "| liver_cancer                          |  24597 |\n",
       "| mature_b_cell_neoplasms               |  47846 |\n",
       "| melanoma                              | 223725 |\n",
       "| mesothelioma                          |   5377 |\n",
       "| myeloproliferative_neoplasms          |   1072 |\n",
       "| no_mapping                            |   1963 |\n",
       "| non_small_cell_lung_cancer            | 295750 |\n",
       "| ovarian_cancer                        |  83223 |\n",
       "| pancreatic_cancer                     |  68584 |\n",
       "| peripheral_nervous_system             |   1449 |\n",
       "| prostate_cancer                       | 103743 |\n",
       "| renal_cell_carcinoma                  |  47371 |\n",
       "| salivary_gland_cancer                 |   3244 |\n",
       "| sellar_tumor                          |    609 |\n",
       "| skin_cancer,_non_melanoma             |  29897 |\n",
       "| small_cell_lung_cancer                |  27686 |\n",
       "| soft_tissue_sarcoma                   |  39176 |\n",
       "| thyroid_cancer                        |  20243 |\n",
       "| uterine_sarcoma                       |   1916 |\n",
       "\n"
      ],
      "text/plain": [
       "   Mapped_Tumor_run                      n     \n",
       "1  Pan-can                               445055\n",
       "2  anal_cancer                            13538\n",
       "3  appendiceal_cancer                      6522\n",
       "4  b_lymphoblastic_leukemia_lymphoma       5968\n",
       "5  billary_tract_cancer                   55682\n",
       "6  bladder_cancer                        175009\n",
       "7  bone_cancer                              735\n",
       "8  breast_cancer                         179267\n",
       "9  cervical_cancer                        24046\n",
       "10 cns_cancer                              3374\n",
       "11 colorectal_cancer                     293404\n",
       "12 endometrial_cancer                    251839\n",
       "13 esophagogastric_cancer                188920\n",
       "14 gastrointestinal_neuroendocrine_tumor   2803\n",
       "15 gastrointestinal_stromal_tumor          9239\n",
       "16 germ_cell_tumor                         1692\n",
       "17 glioma                                 94266\n",
       "18 head_and_neck_cancer                   80501\n",
       "19 leukemia                               10028\n",
       "20 liver_cancer                           24597\n",
       "21 mature_b_cell_neoplasms                47846\n",
       "22 melanoma                              223725\n",
       "23 mesothelioma                            5377\n",
       "24 myeloproliferative_neoplasms            1072\n",
       "25 no_mapping                              1963\n",
       "26 non_small_cell_lung_cancer            295750\n",
       "27 ovarian_cancer                         83223\n",
       "28 pancreatic_cancer                      68584\n",
       "29 peripheral_nervous_system               1449\n",
       "30 prostate_cancer                       103743\n",
       "31 renal_cell_carcinoma                   47371\n",
       "32 salivary_gland_cancer                   3244\n",
       "33 sellar_tumor                             609\n",
       "34 skin_cancer,_non_melanoma              29897\n",
       "35 small_cell_lung_cancer                 27686\n",
       "36 soft_tissue_sarcoma                    39176\n",
       "37 thyroid_cancer                         20243\n",
       "38 uterine_sarcoma                         1916"
      ]
     },
     "metadata": {},
     "output_type": "display_data"
    }
   ],
   "source": [
    "all_merged_result %>% count(Mapped_Tumor_run)"
   ]
  },
  {
   "cell_type": "code",
   "execution_count": 18,
   "id": "ac23debe-3bad-4674-a8bf-ecabcd40b51b",
   "metadata": {},
   "outputs": [
    {
     "name": "stdout",
     "output_type": "stream",
     "text": [
      "'data.frame':\t2869359 obs. of  26 variables:\n",
      " $ SFE_1           : chr  \"PIK3CA\" \"BRAF\" \"TP53\" \"BRAF\" ...\n",
      " $ SFE_2           : chr  \"TP53\" \"TP53\" \"ARID1A\" \"NRAS\" ...\n",
      " $ name            : chr  \"PIK3CA - TP53\" \"BRAF - TP53\" \"TP53 - ARID1A\" \"BRAF - NRAS\" ...\n",
      " $ support_1       : num  1136 611 3030 611 334 ...\n",
      " $ support_2       : num  3030 3030 571 240 3030 3030 3030 286 571 684 ...\n",
      " $ freq_1          : num  0.1251 0.0673 0.3336 0.0673 0.0368 ...\n",
      " $ freq_2          : num  0.3336 0.3336 0.0629 0.0264 0.3336 ...\n",
      " $ overlap         : num  357 82 147 13 225 158 50 162 201 16 ...\n",
      " $ w_overlap       : num  317.53 53.4 115.19 6.35 202.01 ...\n",
      " $ max_overlap     : num  669 180 371 191 334 385 229 193 359 125 ...\n",
      " $ freq_overlap    : num  0.5336 0.4556 0.3962 0.0681 0.6737 ...\n",
      " $ r_overlap       : num  485.2 181.9 243.4 99.8 199.3 ...\n",
      " $ w_r_overlap     : num  393.6 122.7 170.5 55.1 154.3 ...\n",
      " $ wES             : num  -53.8 -49 -39.1 -34.5 33.7 ...\n",
      " $ wFDR            : num  0 0 0 0 0 ...\n",
      " $ nES             : num  -46.4 -44.2 -34.1 -31.8 29.4 ...\n",
      " $ mean_r_nES      : num  -7.36 -4.78 -4.99 -2.7 4.33 ...\n",
      " $ nFDR            : num  0 0 0 0 0 ...\n",
      " $ cum_freq        : num  4166 3641 3601 851 3364 ...\n",
      " $ nFDR2           : num  0 0 0 0 0 0 0 0 0 0 ...\n",
      " $ type            : chr  \"ME\" \"ME\" \"ME\" \"ME\" ...\n",
      " $ FDR             : logi  TRUE TRUE TRUE TRUE TRUE TRUE ...\n",
      " $ Cohort          : chr  \"TCGA\" \"TCGA\" \"TCGA\" \"TCGA\" ...\n",
      " $ Panel           : chr  \"WES\" \"WES\" \"WES\" \"WES\" ...\n",
      " $ Tumor_run       : Named chr  \"Pan-can\" \"Pan-can\" \"Pan-can\" \"Pan-can\" ...\n",
      "  ..- attr(*, \"names\")= chr [1:2869359] NA NA NA NA ...\n",
      " $ Mapped_Tumor_run: Named chr  \"Pan-can\" \"Pan-can\" \"Pan-can\" \"Pan-can\" ...\n",
      "  ..- attr(*, \"names\")= chr [1:2869359] \"\" \"\" \"\" \"\" ...\n"
     ]
    }
   ],
   "source": [
    "str(all_merged_result)"
   ]
  },
  {
   "cell_type": "code",
   "execution_count": null,
   "id": "77bbca35-c26c-49f8-aee6-8730870dc583",
   "metadata": {},
   "outputs": [],
   "source": [
    "saveRDS(all_merged_result,file='../results/all_merged_results_v15.rds')"
   ]
  }
 ],
 "metadata": {
  "kernelspec": {
   "display_name": "R",
   "language": "R",
   "name": "ir"
  },
  "language_info": {
   "codemirror_mode": "r",
   "file_extension": ".r",
   "mimetype": "text/x-r-source",
   "name": "R",
   "pygments_lexer": "r",
   "version": "4.3.2"
  }
 },
 "nbformat": 4,
 "nbformat_minor": 5
}
