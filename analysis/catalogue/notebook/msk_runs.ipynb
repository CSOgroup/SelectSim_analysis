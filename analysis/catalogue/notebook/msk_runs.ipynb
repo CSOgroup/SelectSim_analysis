{
 "cells": [
  {
   "cell_type": "code",
   "execution_count": 1,
   "id": "e7c936d0-f625-413a-8696-b1f7082fa92a",
   "metadata": {
    "scrolled": true
   },
   "outputs": [
    {
     "name": "stderr",
     "output_type": "stream",
     "text": [
      "── \u001b[1mAttaching core tidyverse packages\u001b[22m ───────────────────────────────────────────────────────────────────────────────────────────────────────────────────────────────────── tidyverse 2.0.0 ──\n",
      "\u001b[32m✔\u001b[39m \u001b[34mdplyr    \u001b[39m 1.1.4     \u001b[32m✔\u001b[39m \u001b[34mreadr    \u001b[39m 2.1.5\n",
      "\u001b[32m✔\u001b[39m \u001b[34mforcats  \u001b[39m 1.0.0     \u001b[32m✔\u001b[39m \u001b[34mstringr  \u001b[39m 1.5.1\n",
      "\u001b[32m✔\u001b[39m \u001b[34mggplot2  \u001b[39m 3.4.4     \u001b[32m✔\u001b[39m \u001b[34mtibble   \u001b[39m 3.2.1\n",
      "\u001b[32m✔\u001b[39m \u001b[34mlubridate\u001b[39m 1.9.3     \u001b[32m✔\u001b[39m \u001b[34mtidyr    \u001b[39m 1.3.0\n",
      "\u001b[32m✔\u001b[39m \u001b[34mpurrr    \u001b[39m 1.0.2     \n",
      "── \u001b[1mConflicts\u001b[22m ─────────────────────────────────────────────────────────────────────────────────────────────────────────────────────────────────────────────────────── tidyverse_conflicts() ──\n",
      "\u001b[31m✖\u001b[39m \u001b[34mdplyr\u001b[39m::\u001b[32mfilter()\u001b[39m masks \u001b[34mstats\u001b[39m::filter()\n",
      "\u001b[31m✖\u001b[39m \u001b[34mdplyr\u001b[39m::\u001b[32mlag()\u001b[39m    masks \u001b[34mstats\u001b[39m::lag()\n",
      "\u001b[36mℹ\u001b[39m Use the conflicted package (\u001b[3m\u001b[34m<http://conflicted.r-lib.org/>\u001b[39m\u001b[23m) to force all conflicts to become errors\n"
     ]
    }
   ],
   "source": [
    "library('SelectSim')\n",
    "library('tidyverse')"
   ]
  },
  {
   "cell_type": "code",
   "execution_count": 2,
   "id": "66add6f3-e1b0-4749-8f23-9034e2113ede",
   "metadata": {
    "scrolled": true
   },
   "outputs": [
    {
     "data": {
      "text/plain": [
       "R version 4.3.2 (2023-10-31)\n",
       "Platform: x86_64-conda-linux-gnu (64-bit)\n",
       "Running under: CentOS Linux 7 (Core)\n",
       "\n",
       "Matrix products: default\n",
       "BLAS/LAPACK: /mnt/ndata/arvind/envs/R_4/lib/libopenblasp-r0.3.25.so;  LAPACK version 3.11.0\n",
       "\n",
       "locale:\n",
       " [1] LC_CTYPE=en_US.UTF-8       LC_NUMERIC=C              \n",
       " [3] LC_TIME=en_US.UTF-8        LC_COLLATE=en_US.UTF-8    \n",
       " [5] LC_MONETARY=en_US.UTF-8    LC_MESSAGES=en_US.UTF-8   \n",
       " [7] LC_PAPER=en_US.UTF-8       LC_NAME=C                 \n",
       " [9] LC_ADDRESS=C               LC_TELEPHONE=C            \n",
       "[11] LC_MEASUREMENT=en_US.UTF-8 LC_IDENTIFICATION=C       \n",
       "\n",
       "time zone: Europe/Zurich\n",
       "tzcode source: system (glibc)\n",
       "\n",
       "attached base packages:\n",
       "[1] stats     graphics  grDevices utils     datasets  methods   base     \n",
       "\n",
       "other attached packages:\n",
       " [1] lubridate_1.9.3   forcats_1.0.0     stringr_1.5.1     dplyr_1.1.4      \n",
       " [5] purrr_1.0.2       readr_2.1.5       tidyr_1.3.0       tibble_3.2.1     \n",
       " [9] ggplot2_3.4.4     tidyverse_2.0.0   SelectSim_0.0.1.3\n",
       "\n",
       "loaded via a namespace (and not attached):\n",
       " [1] gtable_0.3.4       rstatix_0.7.2      lattice_0.22-5     tzdb_0.4.0        \n",
       " [5] vctrs_0.6.5        tools_4.3.2        generics_0.1.3     parallel_4.3.2    \n",
       " [9] fansi_1.0.6        pkgconfig_2.0.3    Matrix_1.6-5       ggridges_0.5.5    \n",
       "[13] rngtools_1.5.2     RcppParallel_5.1.6 uuid_1.2-0         lifecycle_1.0.4   \n",
       "[17] compiler_4.3.2     tictoc_1.2         munsell_0.5.0      repr_1.1.6        \n",
       "[21] codetools_0.2-19   carData_3.0-5      htmltools_0.5.7    pillar_1.9.0      \n",
       "[25] car_3.1-2          ggpubr_0.6.0       crayon_1.5.2       doRNG_1.8.6       \n",
       "[29] iterators_1.0.14   abind_1.4-5        foreach_1.5.2      tidyselect_1.2.0  \n",
       "[33] digest_0.6.34      stringi_1.8.3      reshape2_1.4.4     fastmap_1.1.1     \n",
       "[37] grid_4.3.2         colorspace_2.1-0   cli_3.6.2          magrittr_2.0.3    \n",
       "[41] base64enc_0.1-3    Rfast_2.1.0        utf8_1.2.4         IRdisplay_1.1     \n",
       "[45] broom_1.0.5        withr_3.0.0        scales_1.3.0       backports_1.4.1   \n",
       "[49] IRkernel_1.3.2     RcppZiggurat_0.1.6 timechange_0.3.0   pbdZMQ_0.3-11     \n",
       "[53] ggsignif_0.6.4     hms_1.1.3          evaluate_0.23      doParallel_1.0.17 \n",
       "[57] rlang_1.1.3        Rcpp_1.0.12        glue_1.7.0         jsonlite_1.8.8    \n",
       "[61] R6_2.5.1           plyr_1.8.9        "
      ]
     },
     "metadata": {},
     "output_type": "display_data"
    }
   ],
   "source": [
    "sessionInfo()"
   ]
  },
  {
   "cell_type": "markdown",
   "id": "c9660b02-d026-47e1-b83a-ccdcb90d46e7",
   "metadata": {},
   "source": [
    "#  Functions"
   ]
  },
  {
   "cell_type": "code",
   "execution_count": 3,
   "id": "f89a8e39-cce7-4485-9691-46bf69ec4fc2",
   "metadata": {},
   "outputs": [],
   "source": [
    "# Filter the pan_can_run data object to required needs.\n",
    "filter_run_data <- function(run_data,gene_order,sample_order){\n",
    "    final_run_data<-run_data\n",
    "    final_run_data$M$M$missense<-run_data$M$M$missense[gene_order,sample_order]\n",
    "    final_run_data$M$M$truncating<-run_data$M$M$truncating[gene_order,sample_order]\n",
    "    final_run_data$alteration.class<- run_data$alteration.class[gene_order]\n",
    "    final_run_data$sample.class<-run_data$sample.class[sample_order]\n",
    "    final_run_data$M$tmb$missense<-run_data$M$tmb$missense[sample_order,]\n",
    "    final_run_data$M$tmb$truncating<-run_data$M$tmb$truncating[sample_order,]\n",
    "    return(final_run_data)\n",
    "}"
   ]
  },
  {
   "cell_type": "markdown",
   "id": "87ac8d61-9b52-4327-988d-7d3183df9d4b",
   "metadata": {
    "jp-MarkdownHeadingCollapsed": true
   },
   "source": [
    "# Metadata"
   ]
  },
  {
   "cell_type": "code",
   "execution_count": 4,
   "id": "0ea8abca-7ddf-4ca3-b093-ed8085ca8c2e",
   "metadata": {},
   "outputs": [],
   "source": [
    "all_merged_metdata <- readRDS(file='/mnt/ndata/arvind/co_mutation_project/data/processed/all_merged_data_genie_v15.rds')\n",
    "genie_metadata_15_msk_with_mutation_selected_final_atleast_100_samples<-readRDS(file='/mnt/ndata/arvind/co_mutation_project/data/processed/genie/msk_one_patient_one_sample_final.rds')\n",
    "genie_metadata_15_dfci_with_mutation_selected_final_atleast_100_samples<-readRDS(file='/mnt/ndata/arvind/co_mutation_project/data/processed/genie/dfci_one_patient_one_sample_final.rds')"
   ]
  },
  {
   "cell_type": "code",
   "execution_count": 5,
   "id": "e5ad0c42-dab9-4454-b206-6a6477b3d2c1",
   "metadata": {},
   "outputs": [],
   "source": [
    "msk_run_gene_list <- readRDS(file='/mnt/ndata/arvind/co_mutation_project/analysis/catalogue/data/msk_oncokb_gene_run_list.rds')"
   ]
  },
  {
   "cell_type": "code",
   "execution_count": 6,
   "id": "943f97e1-2ace-4514-8211-ff0b73dc9702",
   "metadata": {},
   "outputs": [
    {
     "data": {
      "text/html": [
       "<table class=\"dataframe\">\n",
       "<caption>A data.frame: 1 × 10</caption>\n",
       "<thead>\n",
       "\t<tr><th></th><th scope=col>sample</th><th scope=col>class</th><th scope=col>tumor_run</th><th scope=col>oncotree</th><th scope=col>cancer_type</th><th scope=col>race</th><th scope=col>cohort</th><th scope=col>tumor_run_mapped</th><th scope=col>Tissue</th><th scope=col>final_tumor_run_mapped</th></tr>\n",
       "\t<tr><th></th><th scope=col>&lt;chr&gt;</th><th scope=col>&lt;chr&gt;</th><th scope=col>&lt;chr&gt;</th><th scope=col>&lt;chr&gt;</th><th scope=col>&lt;chr&gt;</th><th scope=col>&lt;chr&gt;</th><th scope=col>&lt;chr&gt;</th><th scope=col>&lt;chr&gt;</th><th scope=col>&lt;chr&gt;</th><th scope=col>&lt;chr&gt;</th></tr>\n",
       "</thead>\n",
       "<tbody>\n",
       "\t<tr><th scope=row>1</th><td>TCGA-OR-A5J5-01</td><td>ACC</td><td>ACC</td><td>ACC</td><td>Adrenocortical Carcinoma</td><td>White</td><td>TCGA</td><td>No mapping</td><td>Adrenal Gland</td><td>ACC</td></tr>\n",
       "</tbody>\n",
       "</table>\n"
      ],
      "text/latex": [
       "A data.frame: 1 × 10\n",
       "\\begin{tabular}{r|llllllllll}\n",
       "  & sample & class & tumor\\_run & oncotree & cancer\\_type & race & cohort & tumor\\_run\\_mapped & Tissue & final\\_tumor\\_run\\_mapped\\\\\n",
       "  & <chr> & <chr> & <chr> & <chr> & <chr> & <chr> & <chr> & <chr> & <chr> & <chr>\\\\\n",
       "\\hline\n",
       "\t1 & TCGA-OR-A5J5-01 & ACC & ACC & ACC & Adrenocortical Carcinoma & White & TCGA & No mapping & Adrenal Gland & ACC\\\\\n",
       "\\end{tabular}\n"
      ],
      "text/markdown": [
       "\n",
       "A data.frame: 1 × 10\n",
       "\n",
       "| <!--/--> | sample &lt;chr&gt; | class &lt;chr&gt; | tumor_run &lt;chr&gt; | oncotree &lt;chr&gt; | cancer_type &lt;chr&gt; | race &lt;chr&gt; | cohort &lt;chr&gt; | tumor_run_mapped &lt;chr&gt; | Tissue &lt;chr&gt; | final_tumor_run_mapped &lt;chr&gt; |\n",
       "|---|---|---|---|---|---|---|---|---|---|---|\n",
       "| 1 | TCGA-OR-A5J5-01 | ACC | ACC | ACC | Adrenocortical Carcinoma | White | TCGA | No mapping | Adrenal Gland | ACC |\n",
       "\n"
      ],
      "text/plain": [
       "  sample          class tumor_run oncotree cancer_type              race \n",
       "1 TCGA-OR-A5J5-01 ACC   ACC       ACC      Adrenocortical Carcinoma White\n",
       "  cohort tumor_run_mapped Tissue        final_tumor_run_mapped\n",
       "1 TCGA   No mapping       Adrenal Gland ACC                   "
      ]
     },
     "metadata": {},
     "output_type": "display_data"
    }
   ],
   "source": [
    "head(all_merged_metdata,1)"
   ]
  },
  {
   "cell_type": "code",
   "execution_count": 7,
   "id": "2452f370-a0c8-41a5-8947-1e5b5601813c",
   "metadata": {},
   "outputs": [
    {
     "name": "stdout",
     "output_type": "stream",
     "text": [
      "List of 6\n",
      " $ all   : chr [1:202] \"MTOR\" \"NRAS\" \"NTRK1\" \"SDHC\" ...\n",
      " $ p_505 : chr [1:327] \"MTOR\" \"NRAS\" \"RIT1\" \"NTRK1\" ...\n",
      " $ p_468 : chr [1:306] \"MTOR\" \"NRAS\" \"RIT1\" \"NTRK1\" ...\n",
      " $ p_410 : chr [1:282] \"MTOR\" \"NRAS\" \"RIT1\" \"NTRK1\" ...\n",
      " $ p_341 : chr [1:249] \"MTOR\" \"NRAS\" \"RIT1\" \"NTRK1\" ...\n",
      " $ p_heme: chr [1:267] \"MTOR\" \"NRAS\" \"CD58\" \"NTRK1\" ...\n"
     ]
    }
   ],
   "source": [
    "str(msk_run_gene_list)"
   ]
  },
  {
   "cell_type": "markdown",
   "id": "2be53f81-b0b7-4d1b-abe6-b25d9f85f2b0",
   "metadata": {
    "jp-MarkdownHeadingCollapsed": true
   },
   "source": [
    "# Pan-Cancer Runs"
   ]
  },
  {
   "cell_type": "markdown",
   "id": "5cbaa5ff-6877-4e1b-8ccb-687632ef0af6",
   "metadata": {
    "jp-MarkdownHeadingCollapsed": true
   },
   "source": [
    "## MSK Primary run"
   ]
  },
  {
   "cell_type": "code",
   "execution_count": 8,
   "id": "d821f213-fb7b-4197-a0ef-be027479b020",
   "metadata": {},
   "outputs": [],
   "source": [
    "msk_run_p_data <- readRDS('/mnt/ndata/arvind/co_mutation_project/data/processed/gams/pan_can_msk_primary_run_data_v15.rds')"
   ]
  },
  {
   "cell_type": "code",
   "execution_count": 9,
   "id": "6f68a267-04d3-493f-9fed-72345f860cc2",
   "metadata": {
    "scrolled": true
   },
   "outputs": [
    {
     "name": "stdout",
     "output_type": "stream",
     "text": [
      "List of 3\n",
      " $ M               :List of 2\n",
      "  ..$ M  :List of 2\n",
      "  .. ..$ missense  : num [1:396, 1:27825] 0 0 0 0 0 0 0 0 0 0 ...\n",
      "  .. .. ..- attr(*, \"dimnames\")=List of 2\n",
      "  .. .. .. ..$ : chr [1:396] \"AKT1\" \"ALK\" \"APC\" \"AR\" ...\n",
      "  .. .. .. ..$ : chr [1:27825] \"GENIE-MSK-P-0000223-T01-IM3\" \"GENIE-MSK-P-0000679-T01-IM3\" \"GENIE-MSK-P-0000748-T01-IM3\" \"GENIE-MSK-P-0001408-T01-IM3\" ...\n",
      "  .. ..$ truncating: num [1:396, 1:27825] 0 0 0 0 0 0 0 0 0 0 ...\n",
      "  .. .. ..- attr(*, \"dimnames\")=List of 2\n",
      "  .. .. .. ..$ : chr [1:396] \"AKT1\" \"ALK\" \"APC\" \"AR\" ...\n",
      "  .. .. .. ..$ : chr [1:27825] \"GENIE-MSK-P-0000223-T01-IM3\" \"GENIE-MSK-P-0000679-T01-IM3\" \"GENIE-MSK-P-0000748-T01-IM3\" \"GENIE-MSK-P-0001408-T01-IM3\" ...\n",
      "  ..$ tmb:List of 2\n",
      "  .. ..$ missense  :'data.frame':\t27825 obs. of  2 variables:\n",
      "  .. .. ..$ sample  : chr [1:27825] \"GENIE-MSK-P-0000223-T01-IM3\" \"GENIE-MSK-P-0000679-T01-IM3\" \"GENIE-MSK-P-0000748-T01-IM3\" \"GENIE-MSK-P-0001408-T01-IM3\" ...\n",
      "  .. .. ..$ mutation: num [1:27825] 4 4 1 0 4 2 3 3 2 3 ...\n",
      "  .. ..$ truncating:'data.frame':\t27825 obs. of  2 variables:\n",
      "  .. .. ..$ sample  : chr [1:27825] \"GENIE-MSK-P-0000223-T01-IM3\" \"GENIE-MSK-P-0000679-T01-IM3\" \"GENIE-MSK-P-0000748-T01-IM3\" \"GENIE-MSK-P-0001408-T01-IM3\" ...\n",
      "  .. .. ..$ mutation: num [1:27825] 1 3 0 3 1 0 0 0 0 2 ...\n",
      " $ sample.class    : Named chr [1:27825] \"Glioma_low_grade\" \"Glioma_low_grade\" \"Glioma_low_grade\" \"Glioma_low_grade\" ...\n",
      "  ..- attr(*, \"names\")= chr [1:27825] \"GENIE-MSK-P-0000223-T01-IM3\" \"GENIE-MSK-P-0000679-T01-IM3\" \"GENIE-MSK-P-0000748-T01-IM3\" \"GENIE-MSK-P-0001408-T01-IM3\" ...\n",
      " $ alteration.class: Named chr [1:396] \"MUT\" \"MUT\" \"MUT\" \"MUT\" ...\n",
      "  ..- attr(*, \"names\")= chr [1:396] \"AKT1\" \"ALK\" \"APC\" \"AR\" ...\n"
     ]
    }
   ],
   "source": [
    "str(msk_run_p_data)"
   ]
  },
  {
   "cell_type": "code",
   "execution_count": 10,
   "id": "87f7e623-82d3-493d-807f-0b2a55d23754",
   "metadata": {
    "scrolled": true
   },
   "outputs": [
    {
     "data": {
      "text/plain": [
       "\n",
       "            ACRM             ACYC              AML             ANSC \n",
       "              39               67              118               96 \n",
       "            APAD             BLCA              BLL             CCOV \n",
       "              60             1273              117              105 \n",
       "            CESC             CHOL           CLLSLL           CRC_HM \n",
       "             108              107              265              610 \n",
       "          CRC_LM             CSCC             DDLS         DLBCLNOS \n",
       "            3530               67              117              357 \n",
       "            EHCH             ESCA             ESCC               FL \n",
       "              81              740               83              321 \n",
       "            GBAD              GBC              GBM             GIST \n",
       "              60               62             1045              354 \n",
       "Glioma_low_grade              HCC            HGSFT            HGSOC \n",
       "             436              264               88              610 \n",
       "            HNSC              IDC             IHCH              ILC \n",
       "             236             2339              417              288 \n",
       "           LGSOC              LMS             LUAD             LUNE \n",
       "              46              115             3049               51 \n",
       "            LUSC             MAAP              MBN              MCC \n",
       "             543               61               99               55 \n",
       "             MCL              MEL              MFH             MGCT \n",
       "             167              389              148               66 \n",
       "             MPN              NBL            NSCLC               OS \n",
       "              85              131              207               64 \n",
       "            PAAD            PANET          PLEMESO             PRAD \n",
       "            1834              118              126             1805 \n",
       "             RCC          SARCNOS             SCLC              SEM \n",
       "             520              191              195               71 \n",
       "            STAD             THAP             THPA             THPD \n",
       "             411               81              154               98 \n",
       "         UCEC_HM          UCEC_LM              UCS             ULMS \n",
       "             510             1055              226               96 \n",
       "              UM              USC             UTUC \n",
       "              47              336              215 "
      ]
     },
     "metadata": {},
     "output_type": "display_data"
    },
    {
     "data": {
      "text/html": [
       "67"
      ],
      "text/latex": [
       "67"
      ],
      "text/markdown": [
       "67"
      ],
      "text/plain": [
       "[1] 67"
      ]
     },
     "metadata": {},
     "output_type": "display_data"
    }
   ],
   "source": [
    "table(msk_run_p_data$sample.class)\n",
    "length(table(msk_run_p_data$sample.class))"
   ]
  },
  {
   "cell_type": "code",
   "execution_count": 11,
   "id": "f0c23e30-9db2-4000-8e80-1f33f4d0c84f",
   "metadata": {},
   "outputs": [
    {
     "name": "stdout",
     "output_type": "stream",
     "text": [
      " Named chr [1:27825] \"Glioma_low_grade\" \"Glioma_low_grade\" ...\n",
      " - attr(*, \"names\")= chr [1:27825] \"GENIE-MSK-P-0000223-T01-IM3\" \"GENIE-MSK-P-0000679-T01-IM3\" \"GENIE-MSK-P-0000748-T01-IM3\" \"GENIE-MSK-P-0001408-T01-IM3\" ...\n"
     ]
    }
   ],
   "source": [
    "str(msk_run_p_data$sample.class)"
   ]
  },
  {
   "cell_type": "code",
   "execution_count": 13,
   "id": "0e765303-2f44-4981-bf26-d53fc250598b",
   "metadata": {},
   "outputs": [
    {
     "data": {
      "text/html": [
       "<table class=\"dataframe\">\n",
       "<caption>A data.frame: 1 × 22</caption>\n",
       "<thead>\n",
       "\t<tr><th></th><th scope=col>PATIENT_ID</th><th scope=col>SEX</th><th scope=col>PRIMARY_RACE</th><th scope=col>ETHNICITY</th><th scope=col>CENTER</th><th scope=col>INT_CONTACT</th><th scope=col>INT_DOD</th><th scope=col>YEAR_CONTACT</th><th scope=col>DEAD</th><th scope=col>YEAR_DEATH</th><th scope=col>⋯</th><th scope=col>ONCOTREE_CODE</th><th scope=col>SAMPLE_TYPE</th><th scope=col>SEQ_ASSAY_ID</th><th scope=col>CANCER_TYPE</th><th scope=col>CANCER_TYPE_DETAILED</th><th scope=col>SAMPLE_TYPE_DETAILED</th><th scope=col>class</th><th scope=col>Tumor_run_group</th><th scope=col>final_class</th><th scope=col>final_run_group</th></tr>\n",
       "\t<tr><th></th><th scope=col>&lt;chr&gt;</th><th scope=col>&lt;chr&gt;</th><th scope=col>&lt;chr&gt;</th><th scope=col>&lt;chr&gt;</th><th scope=col>&lt;chr&gt;</th><th scope=col>&lt;chr&gt;</th><th scope=col>&lt;chr&gt;</th><th scope=col>&lt;chr&gt;</th><th scope=col>&lt;chr&gt;</th><th scope=col>&lt;chr&gt;</th><th scope=col>⋯</th><th scope=col>&lt;chr&gt;</th><th scope=col>&lt;chr&gt;</th><th scope=col>&lt;chr&gt;</th><th scope=col>&lt;chr&gt;</th><th scope=col>&lt;chr&gt;</th><th scope=col>&lt;chr&gt;</th><th scope=col>&lt;chr&gt;</th><th scope=col>&lt;chr&gt;</th><th scope=col>&lt;chr&gt;</th><th scope=col>&lt;chr&gt;</th></tr>\n",
       "</thead>\n",
       "<tbody>\n",
       "\t<tr><th scope=row>1</th><td>GENIE-MSK-P-0000223</td><td>Female</td><td>White</td><td>Non-Spanish/non-Hispanic</td><td>MSK</td><td>11142</td><td>11142</td><td>2016</td><td>TRUE</td><td>2016</td><td>⋯</td><td>AASTR</td><td>Primary</td><td>MSK-IMPACT341</td><td>Glioma</td><td>Anaplastic Astrocytoma</td><td>Primary tumor</td><td>AASTR</td><td>AASTR</td><td>Glioma_low_grade</td><td>Glioma</td></tr>\n",
       "</tbody>\n",
       "</table>\n"
      ],
      "text/latex": [
       "A data.frame: 1 × 22\n",
       "\\begin{tabular}{r|lllllllllllllllllllll}\n",
       "  & PATIENT\\_ID & SEX & PRIMARY\\_RACE & ETHNICITY & CENTER & INT\\_CONTACT & INT\\_DOD & YEAR\\_CONTACT & DEAD & YEAR\\_DEATH & ⋯ & ONCOTREE\\_CODE & SAMPLE\\_TYPE & SEQ\\_ASSAY\\_ID & CANCER\\_TYPE & CANCER\\_TYPE\\_DETAILED & SAMPLE\\_TYPE\\_DETAILED & class & Tumor\\_run\\_group & final\\_class & final\\_run\\_group\\\\\n",
       "  & <chr> & <chr> & <chr> & <chr> & <chr> & <chr> & <chr> & <chr> & <chr> & <chr> & ⋯ & <chr> & <chr> & <chr> & <chr> & <chr> & <chr> & <chr> & <chr> & <chr> & <chr>\\\\\n",
       "\\hline\n",
       "\t1 & GENIE-MSK-P-0000223 & Female & White & Non-Spanish/non-Hispanic & MSK & 11142 & 11142 & 2016 & TRUE & 2016 & ⋯ & AASTR & Primary & MSK-IMPACT341 & Glioma & Anaplastic Astrocytoma & Primary tumor & AASTR & AASTR & Glioma\\_low\\_grade & Glioma\\\\\n",
       "\\end{tabular}\n"
      ],
      "text/markdown": [
       "\n",
       "A data.frame: 1 × 22\n",
       "\n",
       "| <!--/--> | PATIENT_ID &lt;chr&gt; | SEX &lt;chr&gt; | PRIMARY_RACE &lt;chr&gt; | ETHNICITY &lt;chr&gt; | CENTER &lt;chr&gt; | INT_CONTACT &lt;chr&gt; | INT_DOD &lt;chr&gt; | YEAR_CONTACT &lt;chr&gt; | DEAD &lt;chr&gt; | YEAR_DEATH &lt;chr&gt; | ⋯ ⋯ | ONCOTREE_CODE &lt;chr&gt; | SAMPLE_TYPE &lt;chr&gt; | SEQ_ASSAY_ID &lt;chr&gt; | CANCER_TYPE &lt;chr&gt; | CANCER_TYPE_DETAILED &lt;chr&gt; | SAMPLE_TYPE_DETAILED &lt;chr&gt; | class &lt;chr&gt; | Tumor_run_group &lt;chr&gt; | final_class &lt;chr&gt; | final_run_group &lt;chr&gt; |\n",
       "|---|---|---|---|---|---|---|---|---|---|---|---|---|---|---|---|---|---|---|---|---|---|\n",
       "| 1 | GENIE-MSK-P-0000223 | Female | White | Non-Spanish/non-Hispanic | MSK | 11142 | 11142 | 2016 | TRUE | 2016 | ⋯ | AASTR | Primary | MSK-IMPACT341 | Glioma | Anaplastic Astrocytoma | Primary tumor | AASTR | AASTR | Glioma_low_grade | Glioma |\n",
       "\n"
      ],
      "text/plain": [
       "  PATIENT_ID          SEX    PRIMARY_RACE ETHNICITY                CENTER\n",
       "1 GENIE-MSK-P-0000223 Female White        Non-Spanish/non-Hispanic MSK   \n",
       "  INT_CONTACT INT_DOD YEAR_CONTACT DEAD YEAR_DEATH ⋯ ONCOTREE_CODE SAMPLE_TYPE\n",
       "1 11142       11142   2016         TRUE 2016       ⋯ AASTR         Primary    \n",
       "  SEQ_ASSAY_ID  CANCER_TYPE CANCER_TYPE_DETAILED   SAMPLE_TYPE_DETAILED class\n",
       "1 MSK-IMPACT341 Glioma      Anaplastic Astrocytoma Primary tumor        AASTR\n",
       "  Tumor_run_group final_class      final_run_group\n",
       "1 AASTR           Glioma_low_grade Glioma         "
      ]
     },
     "metadata": {},
     "output_type": "display_data"
    }
   ],
   "source": [
    "genie_metadata_15_msk_with_mutation_selected_final_atleast_100_samples %>% head(1)"
   ]
  },
  {
   "cell_type": "code",
   "execution_count": 14,
   "id": "4c3807f8-3eb9-401a-84a5-2aaaff7440cb",
   "metadata": {},
   "outputs": [
    {
     "name": "stdout",
     "output_type": "stream",
     "text": [
      "List of 6\n",
      " $ all   : chr [1:202] \"MTOR\" \"NRAS\" \"NTRK1\" \"SDHC\" ...\n",
      " $ p_505 : chr [1:327] \"MTOR\" \"NRAS\" \"RIT1\" \"NTRK1\" ...\n",
      " $ p_468 : chr [1:306] \"MTOR\" \"NRAS\" \"RIT1\" \"NTRK1\" ...\n",
      " $ p_410 : chr [1:282] \"MTOR\" \"NRAS\" \"RIT1\" \"NTRK1\" ...\n",
      " $ p_341 : chr [1:249] \"MTOR\" \"NRAS\" \"RIT1\" \"NTRK1\" ...\n",
      " $ p_heme: chr [1:267] \"MTOR\" \"NRAS\" \"CD58\" \"NTRK1\" ...\n"
     ]
    }
   ],
   "source": [
    "str(msk_run_gene_list)"
   ]
  },
  {
   "cell_type": "code",
   "execution_count": 15,
   "id": "c6e589db-e2ca-4152-b575-3d414b21ff92",
   "metadata": {},
   "outputs": [],
   "source": [
    "assay_id<-unique(genie_metadata_15_msk_with_mutation_selected_final_atleast_100_samples$SEQ_ASSAY_ID)"
   ]
  },
  {
   "cell_type": "code",
   "execution_count": 16,
   "id": "cab20cc0-69e7-4c11-8b8c-60fabfe1fe49",
   "metadata": {},
   "outputs": [
    {
     "data": {
      "text/html": [
       "<style>\n",
       ".list-inline {list-style: none; margin:0; padding: 0}\n",
       ".list-inline>li {display: inline-block}\n",
       ".list-inline>li:not(:last-child)::after {content: \"\\00b7\"; padding: 0 .5ex}\n",
       "</style>\n",
       "<ol class=list-inline><li>'MSK-IMPACT341'</li><li>'MSK-IMPACT410'</li><li>'MSK-IMPACT468'</li><li>'MSK-IMPACT505'</li><li>'MSK-IMPACT-HEME-400'</li><li>'MSK-IMPACT-HEME-468'</li></ol>\n"
      ],
      "text/latex": [
       "\\begin{enumerate*}\n",
       "\\item 'MSK-IMPACT341'\n",
       "\\item 'MSK-IMPACT410'\n",
       "\\item 'MSK-IMPACT468'\n",
       "\\item 'MSK-IMPACT505'\n",
       "\\item 'MSK-IMPACT-HEME-400'\n",
       "\\item 'MSK-IMPACT-HEME-468'\n",
       "\\end{enumerate*}\n"
      ],
      "text/markdown": [
       "1. 'MSK-IMPACT341'\n",
       "2. 'MSK-IMPACT410'\n",
       "3. 'MSK-IMPACT468'\n",
       "4. 'MSK-IMPACT505'\n",
       "5. 'MSK-IMPACT-HEME-400'\n",
       "6. 'MSK-IMPACT-HEME-468'\n",
       "\n",
       "\n"
      ],
      "text/plain": [
       "[1] \"MSK-IMPACT341\"       \"MSK-IMPACT410\"       \"MSK-IMPACT468\"      \n",
       "[4] \"MSK-IMPACT505\"       \"MSK-IMPACT-HEME-400\" \"MSK-IMPACT-HEME-468\""
      ]
     },
     "metadata": {},
     "output_type": "display_data"
    }
   ],
   "source": [
    "assay_id"
   ]
  },
  {
   "cell_type": "code",
   "execution_count": null,
   "id": "391952c7-3e89-4e9c-b8ab-b893917148b2",
   "metadata": {},
   "outputs": [],
   "source": [
    "# This cell will generate the results for each panel SelectSim Results\n",
    "for(name in names(msk_run_gene_list)){\n",
    "    cat('--Running:',name,\"--\\n\")\n",
    "    if(name=='all'){\n",
    "        samples<-(genie_metadata_15_msk_with_mutation_selected_final_atleast_100_samples %>% filter(SAMPLE_TYPE=='Primary'))$SAMPLE_ID\n",
    "        temp<- filter_run_data(run_data = msk_run_p_data,\n",
    "                               gene_order = msk_run_gene_list$all,\n",
    "                               sample_order =samples ) \n",
    "        label<-paste('../data/','msk_panel_',name,'_primary_run_data.rds',sep=\"\")\n",
    "        saveRDS(temp,file = label,compress = TRUE)\n",
    "        msk_result <- selectX(M = temp$M,\n",
    "                            sample.class = temp$sample.class,\n",
    "                            alteration.class = temp$alteration.class,\n",
    "                            n.cores = 15,\n",
    "                            min.freq = round(0.001*length(temp$sample.class)),\n",
    "                            n.permut = 1000,\n",
    "                            lambda = 0.3,\n",
    "                            tao = 1,\n",
    "                            save.object = FALSE,\n",
    "                            verbose = FALSE,\n",
    "                            estimate_pairwise = FALSE,\n",
    "                            maxFDR = 0.25,\n",
    "                            seed = 42)\n",
    "        label<-paste('../results/','msk_panel_',name,'_primary_result.rds',sep=\"\")\n",
    "        saveRDS(msk_result,file = label,compress = TRUE)\n",
    "        rm(msk_result)\n",
    "    }\n",
    "    else if(name=='p_505'){\n",
    "        samples<-(genie_metadata_15_msk_with_mutation_selected_final_atleast_100_samples %>% \n",
    "                  filter(SAMPLE_TYPE=='Primary' &SEQ_ASSAY_ID=='MSK-IMPACT505') %>% group_by(final_class) %>% filter(n()>=30) %>% ungroup())$SAMPLE_ID\n",
    "        temp<- filter_run_data(run_data = msk_run_p_data,\n",
    "                               gene_order = msk_run_gene_list$p_505,\n",
    "                               sample_order =samples) \n",
    "        label<-paste('../data/','msk_panel_',name,'_primary_run_data.rds',sep=\"\")\n",
    "        saveRDS(temp,file = label,compress = TRUE)\n",
    "        msk_result <- selectX(M = temp$M,\n",
    "                            sample.class = temp$sample.class,\n",
    "                            alteration.class = temp$alteration.class,\n",
    "                            n.cores = 15,\n",
    "                            min.freq = round(0.001*length(temp$sample.class)),\n",
    "                            n.permut = 1000,\n",
    "                            lambda = 0.3,\n",
    "                            tao = 1,\n",
    "                            save.object = FALSE,\n",
    "                            verbose = FALSE,\n",
    "                            estimate_pairwise = FALSE,\n",
    "                            maxFDR = 0.25,\n",
    "                            seed = 42)\n",
    "\n",
    "        label<-paste('../results/','msk_panel_',name,'_primary_result.rds',sep=\"\")\n",
    "        saveRDS(msk_result,file = label,compress = TRUE)\n",
    "        rm(msk_result)\n",
    "    }\n",
    "    else \n",
    "    if(name=='p_468'){\n",
    "        samples<-(genie_metadata_15_msk_with_mutation_selected_final_atleast_100_samples %>% \n",
    "                  filter(SAMPLE_TYPE=='Primary' &SEQ_ASSAY_ID=='MSK-IMPACT468') %>% group_by(final_class) %>% filter(n()>=30) %>% ungroup())$SAMPLE_ID\n",
    "        temp<- filter_run_data(run_data = msk_run_p_data,\n",
    "                               gene_order = msk_run_gene_list$p_468,\n",
    "                               sample_order =samples) \n",
    "        label<-paste('../data/','msk_panel_',name,'_primary_run_data.rds',sep=\"\")\n",
    "        saveRDS(temp,file = label,compress = TRUE)\n",
    "        msk_result <- selectX(M = temp$M,\n",
    "                            sample.class = temp$sample.class,\n",
    "                            alteration.class = temp$alteration.class,\n",
    "                            n.cores = 15,\n",
    "                            min.freq = round(0.001*length(temp$sample.class)),\n",
    "                            n.permut = 1000,\n",
    "                            lambda = 0.3,\n",
    "                            tao = 1,\n",
    "                            save.object = FALSE,\n",
    "                            verbose = FALSE,\n",
    "                            estimate_pairwise = FALSE,\n",
    "                            maxFDR = 0.25,\n",
    "                            seed = 42)\n",
    "\n",
    "        label<-paste('../results/','msk_panel_',name,'_primary_result.rds',sep=\"\")\n",
    "        saveRDS(msk_result,file = label,compress = TRUE)\n",
    "        rm(msk_result)\n",
    "    }\n",
    "    else if(name=='p_410'){\n",
    "        samples<-(genie_metadata_15_msk_with_mutation_selected_final_atleast_100_samples %>% \n",
    "                  filter(SAMPLE_TYPE=='Primary' &SEQ_ASSAY_ID=='MSK-IMPACT410') %>% group_by(final_class) %>% filter(n()>=30) %>% ungroup())$SAMPLE_ID\n",
    "        temp<- filter_run_data(run_data = msk_run_p_data,\n",
    "                               gene_order = msk_run_gene_list$p_410,\n",
    "                               sample_order =samples) \n",
    "        label<-paste('../data/','msk_panel_',name,'_primary_run_data.rds',sep=\"\")\n",
    "        saveRDS(temp,file = label,compress = TRUE)\n",
    "        msk_result <- selectX(M = temp$M,\n",
    "                            sample.class = temp$sample.class,\n",
    "                            alteration.class = temp$alteration.class,\n",
    "                            n.cores = 15,\n",
    "                            min.freq = round(0.001*length(temp$sample.class)),\n",
    "                            n.permut = 1000,\n",
    "                            lambda = 0.3,\n",
    "                            tao = 1,\n",
    "                            save.object = FALSE,\n",
    "                            verbose = FALSE,\n",
    "                            estimate_pairwise = FALSE,\n",
    "                            maxFDR = 0.25,\n",
    "                            seed = 42)\n",
    "\n",
    "        label<-paste('../results/','msk_panel_',name,'_primary_result.rds',sep=\"\")\n",
    "        saveRDS(msk_result,file = label,compress = TRUE)\n",
    "        rm(msk_result)\n",
    "    }\n",
    "    else if(name=='p_341'){\n",
    "        samples<-(genie_metadata_15_msk_with_mutation_selected_final_atleast_100_samples %>% \n",
    "                  filter(SAMPLE_TYPE=='Primary' &SEQ_ASSAY_ID=='MSK-IMPACT341') %>% group_by(final_class) %>% filter(n()>=30) %>% ungroup())$SAMPLE_ID\n",
    "        temp<- filter_run_data(run_data = msk_run_p_data,\n",
    "                               gene_order = msk_run_gene_list$p_341,\n",
    "                               sample_order =samples) \n",
    "        label<-paste('../data/','msk_panel_',name,'_primary_run_data.rds',sep=\"\")\n",
    "        saveRDS(temp,file = label,compress = TRUE)\n",
    "        msk_result <- selectX(M = temp$M,\n",
    "                            sample.class = temp$sample.class,\n",
    "                            alteration.class = temp$alteration.class,\n",
    "                            n.cores = 15,\n",
    "                            min.freq = round(0.001*length(temp$sample.class)),\n",
    "                            n.permut = 1000,\n",
    "                            lambda = 0.3,\n",
    "                            tao = 1,\n",
    "                            save.object = FALSE,\n",
    "                            verbose = FALSE,\n",
    "                            estimate_pairwise = FALSE,\n",
    "                            maxFDR = 0.25,\n",
    "                            seed = 42)\n",
    "\n",
    "        label<-paste('../results/','msk_panel_',name,'_primary_result.rds',sep=\"\")\n",
    "        saveRDS(msk_result,file = label,compress = TRUE)\n",
    "        rm(msk_result)\n",
    "    }\n",
    "    else{\n",
    "        samples<-(genie_metadata_15_msk_with_mutation_selected_final_atleast_100_samples %>% \n",
    "        filter(SAMPLE_TYPE=='Primary' & SEQ_ASSAY_ID %in% c('MSK-IMPACT-HEME-400','MSK-IMPACT-HEME-468')) %>% group_by(final_class) %>% filter(n()>=30) %>% ungroup())$SAMPLE_ID\n",
    "        temp<- filter_run_data(run_data = msk_run_p_data,\n",
    "                               gene_order = msk_run_gene_list$p_heme,\n",
    "                               sample_order =samples) \n",
    "        name<-'heme'\n",
    "        label<-paste('../data/','msk_panel_',name,'_primary_run_data.rds',sep=\"\")\n",
    "        saveRDS(temp,file = label,compress = TRUE)\n",
    "        msk_result <- selectX(M = temp$M,\n",
    "                            sample.class = temp$sample.class,\n",
    "                            alteration.class = temp$alteration.class,\n",
    "                            n.cores = 15,\n",
    "                            min.freq = round(0.001*length(temp$sample.class)),\n",
    "                            n.permut = 1000,\n",
    "                            lambda = 0.3,\n",
    "                            tao = 1,\n",
    "                            save.object = FALSE,\n",
    "                            verbose = FALSE,\n",
    "                            estimate_pairwise = FALSE,\n",
    "                            maxFDR = 0.25,\n",
    "                            seed = 42)\n",
    "\n",
    "        label<-paste('../results/','msk_panel_',name,'_primary_result.rds',sep=\"\")\n",
    "        saveRDS(msk_result,file = label,compress = TRUE)\n",
    "        rm(msk_result)\n",
    "    }\n",
    " cat('\\n---Done---\\n')\n",
    "}"
   ]
  },
  {
   "cell_type": "markdown",
   "id": "2b6532e1-8734-497a-934b-2d37b4f13203",
   "metadata": {
    "jp-MarkdownHeadingCollapsed": true
   },
   "source": [
    "## MSK Metastatsis "
   ]
  },
  {
   "cell_type": "code",
   "execution_count": 17,
   "id": "fe4ce836-e346-4485-92df-eeee3c678b5b",
   "metadata": {},
   "outputs": [],
   "source": [
    "msk_run_m_data <- readRDS('/mnt/ndata/arvind/co_mutation_project/data/processed/gams/pan_can_msk_meta_run_data_v15.rds')"
   ]
  },
  {
   "cell_type": "code",
   "execution_count": 18,
   "id": "958d7d65-2f02-4f14-99f5-588404a3afb6",
   "metadata": {
    "scrolled": true
   },
   "outputs": [
    {
     "name": "stdout",
     "output_type": "stream",
     "text": [
      "List of 3\n",
      " $ M               :List of 2\n",
      "  ..$ M  :List of 2\n",
      "  .. ..$ missense  : num [1:396, 1:14965] 0 0 0 0 0 0 0 0 0 0 ...\n",
      "  .. .. ..- attr(*, \"dimnames\")=List of 2\n",
      "  .. .. .. ..$ : chr [1:396] \"AKT1\" \"ALK\" \"APC\" \"AR\" ...\n",
      "  .. .. .. ..$ : chr [1:14965] \"GENIE-MSK-P-0020921-T01-IM6\" \"GENIE-MSK-P-0027135-T01-IM6\" \"GENIE-MSK-P-0045988-T02-IM6\" \"GENIE-MSK-P-0001029-T01-IM3\" ...\n",
      "  .. ..$ truncating: num [1:396, 1:14965] 0 0 0 0 0 0 0 0 0 0 ...\n",
      "  .. .. ..- attr(*, \"dimnames\")=List of 2\n",
      "  .. .. .. ..$ : chr [1:396] \"AKT1\" \"ALK\" \"APC\" \"AR\" ...\n",
      "  .. .. .. ..$ : chr [1:14965] \"GENIE-MSK-P-0020921-T01-IM6\" \"GENIE-MSK-P-0027135-T01-IM6\" \"GENIE-MSK-P-0045988-T02-IM6\" \"GENIE-MSK-P-0001029-T01-IM3\" ...\n",
      "  ..$ tmb:List of 2\n",
      "  .. ..$ missense  :'data.frame':\t14965 obs. of  2 variables:\n",
      "  .. .. ..$ sample  : chr [1:14965] \"GENIE-MSK-P-0020921-T01-IM6\" \"GENIE-MSK-P-0027135-T01-IM6\" \"GENIE-MSK-P-0045988-T02-IM6\" \"GENIE-MSK-P-0001029-T01-IM3\" ...\n",
      "  .. .. ..$ mutation: num [1:14965] 7 3 1 1 1 3 2 6 1 1 ...\n",
      "  .. ..$ truncating:'data.frame':\t14965 obs. of  2 variables:\n",
      "  .. .. ..$ sample  : chr [1:14965] \"GENIE-MSK-P-0020921-T01-IM6\" \"GENIE-MSK-P-0027135-T01-IM6\" \"GENIE-MSK-P-0045988-T02-IM6\" \"GENIE-MSK-P-0001029-T01-IM3\" ...\n",
      "  .. .. ..$ mutation: num [1:14965] 2 3 1 1 0 0 0 1 3 1 ...\n",
      " $ sample.class    : Named chr [1:14965] \"Glioma_low_grade\" \"Glioma_low_grade\" \"Glioma_low_grade\" \"ACRM\" ...\n",
      "  ..- attr(*, \"names\")= chr [1:14965] \"GENIE-MSK-P-0020921-T01-IM6\" \"GENIE-MSK-P-0027135-T01-IM6\" \"GENIE-MSK-P-0045988-T02-IM6\" \"GENIE-MSK-P-0001029-T01-IM3\" ...\n",
      " $ alteration.class: Named chr [1:396] \"MUT\" \"MUT\" \"MUT\" \"MUT\" ...\n",
      "  ..- attr(*, \"names\")= chr [1:396] \"AKT1\" \"ALK\" \"APC\" \"AR\" ...\n"
     ]
    }
   ],
   "source": [
    "str(msk_run_m_data)"
   ]
  },
  {
   "cell_type": "code",
   "execution_count": 19,
   "id": "77481e27-4614-4b2f-96cb-86176cf35068",
   "metadata": {
    "scrolled": true
   },
   "outputs": [
    {
     "data": {
      "text/plain": [
       "\n",
       "            ACRM             ACYC              AML             ANSC \n",
       "              62              112               23               54 \n",
       "            APAD             BLCA              BLL             CCOV \n",
       "              60              211               30               49 \n",
       "            CESC             CHOL           CLLSLL           CRC_HM \n",
       "              50               81               70               56 \n",
       "          CRC_LM             CSCC             DDLS         DLBCLNOS \n",
       "            1495               55               59               72 \n",
       "            EHCH             ESCA             ESCC               FL \n",
       "              44              176               29               52 \n",
       "            GBAD              GBC              GBM             GIST \n",
       "              41               68               24              119 \n",
       "Glioma_low_grade              HCC            HGSFT            HGSOC \n",
       "              17               38               47              988 \n",
       "            HNSC              IDC             IHCH              ILC \n",
       "             215             2275               98              271 \n",
       "           LGSOC              LMS             LUAD             LUNE \n",
       "              60              121             1780               67 \n",
       "            LUSC             MAAP              MBN              MCC \n",
       "             196               85                8               45 \n",
       "             MCL              MEL              MFH             MGCT \n",
       "              35              989               69               57 \n",
       "             MPN              NBL            NSCLC               OS \n",
       "              24               76              193               53 \n",
       "            PAAD            PANET          PLEMESO             PRAD \n",
       "            1093              121               15              979 \n",
       "             RCC          SARCNOS             SCLC              SEM \n",
       "             290               87              231               36 \n",
       "            STAD             THAP             THPA             THPD \n",
       "             149               38              199               81 \n",
       "         UCEC_HM          UCEC_LM              UCS             ULMS \n",
       "             100              229               81              101 \n",
       "              UM              USC             UTUC \n",
       "              75              114               47 "
      ]
     },
     "metadata": {},
     "output_type": "display_data"
    },
    {
     "data": {
      "text/html": [
       "67"
      ],
      "text/latex": [
       "67"
      ],
      "text/markdown": [
       "67"
      ],
      "text/plain": [
       "[1] 67"
      ]
     },
     "metadata": {},
     "output_type": "display_data"
    }
   ],
   "source": [
    "table(msk_run_m_data$sample.class)\n",
    "length(table(msk_run_m_data$sample.class))"
   ]
  },
  {
   "cell_type": "code",
   "execution_count": 20,
   "id": "8c0e96be-e3e5-4955-9a35-c68190d4d879",
   "metadata": {},
   "outputs": [
    {
     "name": "stdout",
     "output_type": "stream",
     "text": [
      " Named chr [1:14965] \"Glioma_low_grade\" \"Glioma_low_grade\" ...\n",
      " - attr(*, \"names\")= chr [1:14965] \"GENIE-MSK-P-0020921-T01-IM6\" \"GENIE-MSK-P-0027135-T01-IM6\" \"GENIE-MSK-P-0045988-T02-IM6\" \"GENIE-MSK-P-0001029-T01-IM3\" ...\n"
     ]
    }
   ],
   "source": [
    "str(msk_run_m_data$sample.class)"
   ]
  },
  {
   "cell_type": "code",
   "execution_count": 21,
   "id": "867efe93-eebe-44d1-b2da-f30e80c76a4c",
   "metadata": {},
   "outputs": [
    {
     "data": {
      "text/html": [
       "<table class=\"dataframe\">\n",
       "<caption>A data.frame: 1 × 22</caption>\n",
       "<thead>\n",
       "\t<tr><th></th><th scope=col>PATIENT_ID</th><th scope=col>SEX</th><th scope=col>PRIMARY_RACE</th><th scope=col>ETHNICITY</th><th scope=col>CENTER</th><th scope=col>INT_CONTACT</th><th scope=col>INT_DOD</th><th scope=col>YEAR_CONTACT</th><th scope=col>DEAD</th><th scope=col>YEAR_DEATH</th><th scope=col>⋯</th><th scope=col>ONCOTREE_CODE</th><th scope=col>SAMPLE_TYPE</th><th scope=col>SEQ_ASSAY_ID</th><th scope=col>CANCER_TYPE</th><th scope=col>CANCER_TYPE_DETAILED</th><th scope=col>SAMPLE_TYPE_DETAILED</th><th scope=col>class</th><th scope=col>Tumor_run_group</th><th scope=col>final_class</th><th scope=col>final_run_group</th></tr>\n",
       "\t<tr><th></th><th scope=col>&lt;chr&gt;</th><th scope=col>&lt;chr&gt;</th><th scope=col>&lt;chr&gt;</th><th scope=col>&lt;chr&gt;</th><th scope=col>&lt;chr&gt;</th><th scope=col>&lt;chr&gt;</th><th scope=col>&lt;chr&gt;</th><th scope=col>&lt;chr&gt;</th><th scope=col>&lt;chr&gt;</th><th scope=col>&lt;chr&gt;</th><th scope=col>⋯</th><th scope=col>&lt;chr&gt;</th><th scope=col>&lt;chr&gt;</th><th scope=col>&lt;chr&gt;</th><th scope=col>&lt;chr&gt;</th><th scope=col>&lt;chr&gt;</th><th scope=col>&lt;chr&gt;</th><th scope=col>&lt;chr&gt;</th><th scope=col>&lt;chr&gt;</th><th scope=col>&lt;chr&gt;</th><th scope=col>&lt;chr&gt;</th></tr>\n",
       "</thead>\n",
       "<tbody>\n",
       "\t<tr><th scope=row>1</th><td>GENIE-MSK-P-0000223</td><td>Female</td><td>White</td><td>Non-Spanish/non-Hispanic</td><td>MSK</td><td>11142</td><td>11142</td><td>2016</td><td>TRUE</td><td>2016</td><td>⋯</td><td>AASTR</td><td>Primary</td><td>MSK-IMPACT341</td><td>Glioma</td><td>Anaplastic Astrocytoma</td><td>Primary tumor</td><td>AASTR</td><td>AASTR</td><td>Glioma_low_grade</td><td>Glioma</td></tr>\n",
       "</tbody>\n",
       "</table>\n"
      ],
      "text/latex": [
       "A data.frame: 1 × 22\n",
       "\\begin{tabular}{r|lllllllllllllllllllll}\n",
       "  & PATIENT\\_ID & SEX & PRIMARY\\_RACE & ETHNICITY & CENTER & INT\\_CONTACT & INT\\_DOD & YEAR\\_CONTACT & DEAD & YEAR\\_DEATH & ⋯ & ONCOTREE\\_CODE & SAMPLE\\_TYPE & SEQ\\_ASSAY\\_ID & CANCER\\_TYPE & CANCER\\_TYPE\\_DETAILED & SAMPLE\\_TYPE\\_DETAILED & class & Tumor\\_run\\_group & final\\_class & final\\_run\\_group\\\\\n",
       "  & <chr> & <chr> & <chr> & <chr> & <chr> & <chr> & <chr> & <chr> & <chr> & <chr> & ⋯ & <chr> & <chr> & <chr> & <chr> & <chr> & <chr> & <chr> & <chr> & <chr> & <chr>\\\\\n",
       "\\hline\n",
       "\t1 & GENIE-MSK-P-0000223 & Female & White & Non-Spanish/non-Hispanic & MSK & 11142 & 11142 & 2016 & TRUE & 2016 & ⋯ & AASTR & Primary & MSK-IMPACT341 & Glioma & Anaplastic Astrocytoma & Primary tumor & AASTR & AASTR & Glioma\\_low\\_grade & Glioma\\\\\n",
       "\\end{tabular}\n"
      ],
      "text/markdown": [
       "\n",
       "A data.frame: 1 × 22\n",
       "\n",
       "| <!--/--> | PATIENT_ID &lt;chr&gt; | SEX &lt;chr&gt; | PRIMARY_RACE &lt;chr&gt; | ETHNICITY &lt;chr&gt; | CENTER &lt;chr&gt; | INT_CONTACT &lt;chr&gt; | INT_DOD &lt;chr&gt; | YEAR_CONTACT &lt;chr&gt; | DEAD &lt;chr&gt; | YEAR_DEATH &lt;chr&gt; | ⋯ ⋯ | ONCOTREE_CODE &lt;chr&gt; | SAMPLE_TYPE &lt;chr&gt; | SEQ_ASSAY_ID &lt;chr&gt; | CANCER_TYPE &lt;chr&gt; | CANCER_TYPE_DETAILED &lt;chr&gt; | SAMPLE_TYPE_DETAILED &lt;chr&gt; | class &lt;chr&gt; | Tumor_run_group &lt;chr&gt; | final_class &lt;chr&gt; | final_run_group &lt;chr&gt; |\n",
       "|---|---|---|---|---|---|---|---|---|---|---|---|---|---|---|---|---|---|---|---|---|---|\n",
       "| 1 | GENIE-MSK-P-0000223 | Female | White | Non-Spanish/non-Hispanic | MSK | 11142 | 11142 | 2016 | TRUE | 2016 | ⋯ | AASTR | Primary | MSK-IMPACT341 | Glioma | Anaplastic Astrocytoma | Primary tumor | AASTR | AASTR | Glioma_low_grade | Glioma |\n",
       "\n"
      ],
      "text/plain": [
       "  PATIENT_ID          SEX    PRIMARY_RACE ETHNICITY                CENTER\n",
       "1 GENIE-MSK-P-0000223 Female White        Non-Spanish/non-Hispanic MSK   \n",
       "  INT_CONTACT INT_DOD YEAR_CONTACT DEAD YEAR_DEATH ⋯ ONCOTREE_CODE SAMPLE_TYPE\n",
       "1 11142       11142   2016         TRUE 2016       ⋯ AASTR         Primary    \n",
       "  SEQ_ASSAY_ID  CANCER_TYPE CANCER_TYPE_DETAILED   SAMPLE_TYPE_DETAILED class\n",
       "1 MSK-IMPACT341 Glioma      Anaplastic Astrocytoma Primary tumor        AASTR\n",
       "  Tumor_run_group final_class      final_run_group\n",
       "1 AASTR           Glioma_low_grade Glioma         "
      ]
     },
     "metadata": {},
     "output_type": "display_data"
    }
   ],
   "source": [
    "genie_metadata_15_msk_with_mutation_selected_final_atleast_100_samples %>% head(1)"
   ]
  },
  {
   "cell_type": "code",
   "execution_count": 22,
   "id": "2304d275-40ec-4f06-a545-a23985b0f209",
   "metadata": {},
   "outputs": [
    {
     "name": "stdout",
     "output_type": "stream",
     "text": [
      "List of 6\n",
      " $ all   : chr [1:202] \"MTOR\" \"NRAS\" \"NTRK1\" \"SDHC\" ...\n",
      " $ p_505 : chr [1:327] \"MTOR\" \"NRAS\" \"RIT1\" \"NTRK1\" ...\n",
      " $ p_468 : chr [1:306] \"MTOR\" \"NRAS\" \"RIT1\" \"NTRK1\" ...\n",
      " $ p_410 : chr [1:282] \"MTOR\" \"NRAS\" \"RIT1\" \"NTRK1\" ...\n",
      " $ p_341 : chr [1:249] \"MTOR\" \"NRAS\" \"RIT1\" \"NTRK1\" ...\n",
      " $ p_heme: chr [1:267] \"MTOR\" \"NRAS\" \"CD58\" \"NTRK1\" ...\n"
     ]
    }
   ],
   "source": [
    "str(msk_run_gene_list)"
   ]
  },
  {
   "cell_type": "code",
   "execution_count": 23,
   "id": "94dd9032-c85e-48ae-8f12-f96b744bce78",
   "metadata": {},
   "outputs": [],
   "source": [
    "assay_id<-unique(genie_metadata_15_msk_with_mutation_selected_final_atleast_100_samples$SEQ_ASSAY_ID)"
   ]
  },
  {
   "cell_type": "code",
   "execution_count": 24,
   "id": "4afe0bc5-8e97-4fcd-b955-341c2b333793",
   "metadata": {},
   "outputs": [
    {
     "data": {
      "text/html": [
       "<style>\n",
       ".list-inline {list-style: none; margin:0; padding: 0}\n",
       ".list-inline>li {display: inline-block}\n",
       ".list-inline>li:not(:last-child)::after {content: \"\\00b7\"; padding: 0 .5ex}\n",
       "</style>\n",
       "<ol class=list-inline><li>'MSK-IMPACT341'</li><li>'MSK-IMPACT410'</li><li>'MSK-IMPACT468'</li><li>'MSK-IMPACT505'</li><li>'MSK-IMPACT-HEME-400'</li><li>'MSK-IMPACT-HEME-468'</li></ol>\n"
      ],
      "text/latex": [
       "\\begin{enumerate*}\n",
       "\\item 'MSK-IMPACT341'\n",
       "\\item 'MSK-IMPACT410'\n",
       "\\item 'MSK-IMPACT468'\n",
       "\\item 'MSK-IMPACT505'\n",
       "\\item 'MSK-IMPACT-HEME-400'\n",
       "\\item 'MSK-IMPACT-HEME-468'\n",
       "\\end{enumerate*}\n"
      ],
      "text/markdown": [
       "1. 'MSK-IMPACT341'\n",
       "2. 'MSK-IMPACT410'\n",
       "3. 'MSK-IMPACT468'\n",
       "4. 'MSK-IMPACT505'\n",
       "5. 'MSK-IMPACT-HEME-400'\n",
       "6. 'MSK-IMPACT-HEME-468'\n",
       "\n",
       "\n"
      ],
      "text/plain": [
       "[1] \"MSK-IMPACT341\"       \"MSK-IMPACT410\"       \"MSK-IMPACT468\"      \n",
       "[4] \"MSK-IMPACT505\"       \"MSK-IMPACT-HEME-400\" \"MSK-IMPACT-HEME-468\""
      ]
     },
     "metadata": {},
     "output_type": "display_data"
    }
   ],
   "source": [
    "assay_id"
   ]
  },
  {
   "cell_type": "code",
   "execution_count": null,
   "id": "04b0a604-b255-407f-843e-801ebeb5bcc9",
   "metadata": {
    "scrolled": true
   },
   "outputs": [],
   "source": [
    "# This cell will generate the results for each panel SelectSim Results\n",
    "for(name in names(msk_run_gene_list)){\n",
    "    cat('--Running:',name,\"--\\n\")\n",
    "    if(name=='all'){\n",
    "        samples<-(genie_metadata_15_msk_with_mutation_selected_final_atleast_100_samples %>% filter(SAMPLE_TYPE!='Primary'))$SAMPLE_ID\n",
    "        temp<- filter_run_data(run_data = msk_run_m_data,\n",
    "                               gene_order = msk_run_gene_list$all,\n",
    "                               sample_order =samples ) \n",
    "        label<-paste('../data/','msk_panel_',name,'_meta_run_data.rds',sep=\"\")\n",
    "        saveRDS(temp,file = label,compress = TRUE)\n",
    "        msk_result <- selectX(M = temp$M,\n",
    "                            sample.class = temp$sample.class,\n",
    "                            alteration.class = temp$alteration.class,\n",
    "                            n.cores = 15,\n",
    "                            min.freq = round(0.001*length(temp$sample.class)),\n",
    "                            n.permut = 1000,\n",
    "                            lambda = 0.3,\n",
    "                            tao = 1,\n",
    "                            save.object = FALSE,\n",
    "                            verbose = FALSE,\n",
    "                            estimate_pairwise = FALSE,\n",
    "                            maxFDR = 0.25,\n",
    "                            seed = 42)\n",
    "        label<-paste('../results/','msk_panel_',name,'_meta_result.rds',sep=\"\")\n",
    "        saveRDS(msk_result,file = label,compress = TRUE)\n",
    "        rm(msk_result)\n",
    "    }\n",
    "    else if(name=='p_505'){\n",
    "        samples<-(genie_metadata_15_msk_with_mutation_selected_final_atleast_100_samples %>% \n",
    "                  filter(SAMPLE_TYPE!='Primary' &SEQ_ASSAY_ID=='MSK-IMPACT505') %>% group_by(final_class) %>% filter(n()>=30) %>% ungroup())$SAMPLE_ID\n",
    "        temp<- filter_run_data(run_data = msk_run_m_data,\n",
    "                               gene_order = msk_run_gene_list$p_505,\n",
    "                               sample_order =samples) \n",
    "        label<-paste('../data/','msk_panel_',name,'_meta_run_data.rds',sep=\"\")\n",
    "        saveRDS(temp,file = label,compress = TRUE)\n",
    "        msk_result <- selectX(M = temp$M,\n",
    "                            sample.class = temp$sample.class,\n",
    "                            alteration.class = temp$alteration.class,\n",
    "                            n.cores = 15,\n",
    "                            min.freq = round(0.001*length(temp$sample.class)),\n",
    "                            n.permut = 1000,\n",
    "                            lambda = 0.3,\n",
    "                            tao = 1,\n",
    "                            save.object = FALSE,\n",
    "                            verbose = FALSE,\n",
    "                            estimate_pairwise = FALSE,\n",
    "                            maxFDR = 0.25,\n",
    "                            seed = 42)\n",
    "\n",
    "        label<-paste('../results/','msk_panel_',name,'_meta_result.rds',sep=\"\")\n",
    "        saveRDS(msk_result,file = label,compress = TRUE)\n",
    "        rm(msk_result)\n",
    "    }\n",
    "    else \n",
    "    if(name=='p_468'){\n",
    "        samples<-(genie_metadata_15_msk_with_mutation_selected_final_atleast_100_samples %>% \n",
    "                  filter(SAMPLE_TYPE!='Primary' &SEQ_ASSAY_ID=='MSK-IMPACT468') %>% group_by(final_class) %>% filter(n()>=30) %>% ungroup())$SAMPLE_ID\n",
    "        temp<- filter_run_data(run_data = msk_run_m_data,\n",
    "                               gene_order = msk_run_gene_list$p_468,\n",
    "                               sample_order =samples) \n",
    "        label<-paste('../data/','msk_panel_',name,'_meta_run_data.rds',sep=\"\")\n",
    "        saveRDS(temp,file = label,compress = TRUE)\n",
    "        msk_result <- selectX(M = temp$M,\n",
    "                            sample.class = temp$sample.class,\n",
    "                            alteration.class = temp$alteration.class,\n",
    "                            n.cores = 15,\n",
    "                            min.freq = round(0.001*length(temp$sample.class)),\n",
    "                            n.permut = 1000,\n",
    "                            lambda = 0.3,\n",
    "                            tao = 1,\n",
    "                            save.object = FALSE,\n",
    "                            verbose = FALSE,\n",
    "                            estimate_pairwise = FALSE,\n",
    "                            maxFDR = 0.25,\n",
    "                            seed = 42)\n",
    "\n",
    "        label<-paste('../results/','msk_panel_',name,'_meta_result.rds',sep=\"\")\n",
    "        saveRDS(msk_result,file = label,compress = TRUE)\n",
    "        rm(msk_result)\n",
    "    }\n",
    "    else if(name=='p_410'){\n",
    "        samples<-(genie_metadata_15_msk_with_mutation_selected_final_atleast_100_samples %>% \n",
    "                  filter(SAMPLE_TYPE!='Primary' &SEQ_ASSAY_ID=='MSK-IMPACT410') %>% group_by(final_class) %>% filter(n()>=30) %>% ungroup())$SAMPLE_ID\n",
    "        temp<- filter_run_data(run_data = msk_run_m_data,\n",
    "                               gene_order = msk_run_gene_list$p_410,\n",
    "                               sample_order =samples) \n",
    "        label<-paste('../data/','msk_panel_',name,'_meta_run_data.rds',sep=\"\")\n",
    "        saveRDS(temp,file = label,compress = TRUE)\n",
    "        msk_result <- selectX(M = temp$M,\n",
    "                            sample.class = temp$sample.class,\n",
    "                            alteration.class = temp$alteration.class,\n",
    "                            n.cores = 15,\n",
    "                            min.freq = round(0.001*length(temp$sample.class)),\n",
    "                            n.permut = 1000,\n",
    "                            lambda = 0.3,\n",
    "                            tao = 1,\n",
    "                            save.object = FALSE,\n",
    "                            verbose = FALSE,\n",
    "                            estimate_pairwise = FALSE,\n",
    "                            maxFDR = 0.25,\n",
    "                            seed = 42)\n",
    "\n",
    "        label<-paste('../results/','msk_panel_',name,'_meta_result.rds',sep=\"\")\n",
    "        saveRDS(msk_result,file = label,compress = TRUE)\n",
    "        rm(msk_result)\n",
    "    }\n",
    "    else if(name=='p_341'){\n",
    "        samples<-(genie_metadata_15_msk_with_mutation_selected_final_atleast_100_samples %>% \n",
    "                  filter(SAMPLE_TYPE!='Primary' &SEQ_ASSAY_ID=='MSK-IMPACT341') %>% group_by(final_class) %>% filter(n()>=30) %>% ungroup())$SAMPLE_ID\n",
    "        temp<- filter_run_data(run_data = msk_run_m_data,\n",
    "                               gene_order = msk_run_gene_list$p_341,\n",
    "                               sample_order =samples) \n",
    "        label<-paste('../data/','msk_panel_',name,'_meta_run_data.rds',sep=\"\")\n",
    "        saveRDS(temp,file = label,compress = TRUE)\n",
    "        msk_result <- selectX(M = temp$M,\n",
    "                            sample.class = temp$sample.class,\n",
    "                            alteration.class = temp$alteration.class,\n",
    "                            n.cores = 15,\n",
    "                            min.freq = round(0.001*length(temp$sample.class)),\n",
    "                            n.permut = 1000,\n",
    "                            lambda = 0.3,\n",
    "                            tao = 1,\n",
    "                            save.object = FALSE,\n",
    "                            verbose = FALSE,\n",
    "                            estimate_pairwise = FALSE,\n",
    "                            maxFDR = 0.25,\n",
    "                            seed = 42)\n",
    "\n",
    "        label<-paste('../results/','msk_panel_',name,'_meta_result.rds',sep=\"\")\n",
    "        saveRDS(msk_result,file = label,compress = TRUE)\n",
    "        rm(msk_result)\n",
    "    }\n",
    "    else{\n",
    "        samples<-(genie_metadata_15_msk_with_mutation_selected_final_atleast_100_samples %>% \n",
    "        filter(SAMPLE_TYPE!='Primary' & SEQ_ASSAY_ID %in% c('MSK-IMPACT-HEME-400','MSK-IMPACT-HEME-468')) %>% group_by(final_class) %>% filter(n()>=30) %>% ungroup())$SAMPLE_ID\n",
    "        temp<- filter_run_data(run_data = msk_run_m_data,\n",
    "                               gene_order = msk_run_gene_list$p_heme,\n",
    "                               sample_order =samples) \n",
    "        name<-'heme'\n",
    "        label<-paste('../data/','msk_panel_',name,'_meta_run_data.rds',sep=\"\")\n",
    "        saveRDS(temp,file = label,compress = TRUE)\n",
    "        msk_result <- selectX(M = temp$M,\n",
    "                            sample.class = temp$sample.class,\n",
    "                            alteration.class = temp$alteration.class,\n",
    "                            n.cores = 15,\n",
    "                            min.freq = round(0.001*length(temp$sample.class)),\n",
    "                            n.permut = 1000,\n",
    "                            lambda = 0.3,\n",
    "                            tao = 1,\n",
    "                            save.object = FALSE,\n",
    "                            verbose = FALSE,\n",
    "                            estimate_pairwise = FALSE,\n",
    "                            maxFDR = 0.25,\n",
    "                            seed = 42)\n",
    "\n",
    "        label<-paste('../results/','msk_panel_',name,'_meta_result.rds',sep=\"\")\n",
    "        saveRDS(msk_result,file = label,compress = TRUE)\n",
    "        rm(msk_result)\n",
    "    }\n",
    " cat('\\n---Done---\\n')\n",
    "}"
   ]
  },
  {
   "cell_type": "markdown",
   "id": "7d0178d6-2fe2-41fe-9b46-630b3cbc32fe",
   "metadata": {
    "jp-MarkdownHeadingCollapsed": true
   },
   "source": [
    "# Tumor Group Runs"
   ]
  },
  {
   "cell_type": "markdown",
   "id": "a3a65c71-25d6-4521-a18e-6e239096edcc",
   "metadata": {
    "jp-MarkdownHeadingCollapsed": true
   },
   "source": [
    "## MSK Primary run"
   ]
  },
  {
   "cell_type": "code",
   "execution_count": 25,
   "id": "41ba4738-eaf7-474a-9f1e-c00b08fb6ed9",
   "metadata": {},
   "outputs": [
    {
     "data": {
      "text/html": [
       "<table class=\"dataframe\">\n",
       "<caption>A data.frame: 1 × 22</caption>\n",
       "<thead>\n",
       "\t<tr><th></th><th scope=col>PATIENT_ID</th><th scope=col>SEX</th><th scope=col>PRIMARY_RACE</th><th scope=col>ETHNICITY</th><th scope=col>CENTER</th><th scope=col>INT_CONTACT</th><th scope=col>INT_DOD</th><th scope=col>YEAR_CONTACT</th><th scope=col>DEAD</th><th scope=col>YEAR_DEATH</th><th scope=col>⋯</th><th scope=col>ONCOTREE_CODE</th><th scope=col>SAMPLE_TYPE</th><th scope=col>SEQ_ASSAY_ID</th><th scope=col>CANCER_TYPE</th><th scope=col>CANCER_TYPE_DETAILED</th><th scope=col>SAMPLE_TYPE_DETAILED</th><th scope=col>class</th><th scope=col>Tumor_run_group</th><th scope=col>final_class</th><th scope=col>final_run_group</th></tr>\n",
       "\t<tr><th></th><th scope=col>&lt;chr&gt;</th><th scope=col>&lt;chr&gt;</th><th scope=col>&lt;chr&gt;</th><th scope=col>&lt;chr&gt;</th><th scope=col>&lt;chr&gt;</th><th scope=col>&lt;chr&gt;</th><th scope=col>&lt;chr&gt;</th><th scope=col>&lt;chr&gt;</th><th scope=col>&lt;chr&gt;</th><th scope=col>&lt;chr&gt;</th><th scope=col>⋯</th><th scope=col>&lt;chr&gt;</th><th scope=col>&lt;chr&gt;</th><th scope=col>&lt;chr&gt;</th><th scope=col>&lt;chr&gt;</th><th scope=col>&lt;chr&gt;</th><th scope=col>&lt;chr&gt;</th><th scope=col>&lt;chr&gt;</th><th scope=col>&lt;chr&gt;</th><th scope=col>&lt;chr&gt;</th><th scope=col>&lt;chr&gt;</th></tr>\n",
       "</thead>\n",
       "<tbody>\n",
       "\t<tr><th scope=row>1</th><td>GENIE-MSK-P-0000223</td><td>Female</td><td>White</td><td>Non-Spanish/non-Hispanic</td><td>MSK</td><td>11142</td><td>11142</td><td>2016</td><td>TRUE</td><td>2016</td><td>⋯</td><td>AASTR</td><td>Primary</td><td>MSK-IMPACT341</td><td>Glioma</td><td>Anaplastic Astrocytoma</td><td>Primary tumor</td><td>AASTR</td><td>AASTR</td><td>Glioma_low_grade</td><td>Glioma</td></tr>\n",
       "</tbody>\n",
       "</table>\n"
      ],
      "text/latex": [
       "A data.frame: 1 × 22\n",
       "\\begin{tabular}{r|lllllllllllllllllllll}\n",
       "  & PATIENT\\_ID & SEX & PRIMARY\\_RACE & ETHNICITY & CENTER & INT\\_CONTACT & INT\\_DOD & YEAR\\_CONTACT & DEAD & YEAR\\_DEATH & ⋯ & ONCOTREE\\_CODE & SAMPLE\\_TYPE & SEQ\\_ASSAY\\_ID & CANCER\\_TYPE & CANCER\\_TYPE\\_DETAILED & SAMPLE\\_TYPE\\_DETAILED & class & Tumor\\_run\\_group & final\\_class & final\\_run\\_group\\\\\n",
       "  & <chr> & <chr> & <chr> & <chr> & <chr> & <chr> & <chr> & <chr> & <chr> & <chr> & ⋯ & <chr> & <chr> & <chr> & <chr> & <chr> & <chr> & <chr> & <chr> & <chr> & <chr>\\\\\n",
       "\\hline\n",
       "\t1 & GENIE-MSK-P-0000223 & Female & White & Non-Spanish/non-Hispanic & MSK & 11142 & 11142 & 2016 & TRUE & 2016 & ⋯ & AASTR & Primary & MSK-IMPACT341 & Glioma & Anaplastic Astrocytoma & Primary tumor & AASTR & AASTR & Glioma\\_low\\_grade & Glioma\\\\\n",
       "\\end{tabular}\n"
      ],
      "text/markdown": [
       "\n",
       "A data.frame: 1 × 22\n",
       "\n",
       "| <!--/--> | PATIENT_ID &lt;chr&gt; | SEX &lt;chr&gt; | PRIMARY_RACE &lt;chr&gt; | ETHNICITY &lt;chr&gt; | CENTER &lt;chr&gt; | INT_CONTACT &lt;chr&gt; | INT_DOD &lt;chr&gt; | YEAR_CONTACT &lt;chr&gt; | DEAD &lt;chr&gt; | YEAR_DEATH &lt;chr&gt; | ⋯ ⋯ | ONCOTREE_CODE &lt;chr&gt; | SAMPLE_TYPE &lt;chr&gt; | SEQ_ASSAY_ID &lt;chr&gt; | CANCER_TYPE &lt;chr&gt; | CANCER_TYPE_DETAILED &lt;chr&gt; | SAMPLE_TYPE_DETAILED &lt;chr&gt; | class &lt;chr&gt; | Tumor_run_group &lt;chr&gt; | final_class &lt;chr&gt; | final_run_group &lt;chr&gt; |\n",
       "|---|---|---|---|---|---|---|---|---|---|---|---|---|---|---|---|---|---|---|---|---|---|\n",
       "| 1 | GENIE-MSK-P-0000223 | Female | White | Non-Spanish/non-Hispanic | MSK | 11142 | 11142 | 2016 | TRUE | 2016 | ⋯ | AASTR | Primary | MSK-IMPACT341 | Glioma | Anaplastic Astrocytoma | Primary tumor | AASTR | AASTR | Glioma_low_grade | Glioma |\n",
       "\n"
      ],
      "text/plain": [
       "  PATIENT_ID          SEX    PRIMARY_RACE ETHNICITY                CENTER\n",
       "1 GENIE-MSK-P-0000223 Female White        Non-Spanish/non-Hispanic MSK   \n",
       "  INT_CONTACT INT_DOD YEAR_CONTACT DEAD YEAR_DEATH ⋯ ONCOTREE_CODE SAMPLE_TYPE\n",
       "1 11142       11142   2016         TRUE 2016       ⋯ AASTR         Primary    \n",
       "  SEQ_ASSAY_ID  CANCER_TYPE CANCER_TYPE_DETAILED   SAMPLE_TYPE_DETAILED class\n",
       "1 MSK-IMPACT341 Glioma      Anaplastic Astrocytoma Primary tumor        AASTR\n",
       "  Tumor_run_group final_class      final_run_group\n",
       "1 AASTR           Glioma_low_grade Glioma         "
      ]
     },
     "metadata": {},
     "output_type": "display_data"
    }
   ],
   "source": [
    "genie_metadata_15_msk_with_mutation_selected_final_atleast_100_samples %>% head(1)"
   ]
  },
  {
   "cell_type": "code",
   "execution_count": 26,
   "id": "49381df4-211d-4fd7-89f4-0532dfdb253d",
   "metadata": {},
   "outputs": [
    {
     "name": "stdout",
     "output_type": "stream",
     "text": [
      "List of 6\n",
      " $ all   : chr [1:202] \"MTOR\" \"NRAS\" \"NTRK1\" \"SDHC\" ...\n",
      " $ p_505 : chr [1:327] \"MTOR\" \"NRAS\" \"RIT1\" \"NTRK1\" ...\n",
      " $ p_468 : chr [1:306] \"MTOR\" \"NRAS\" \"RIT1\" \"NTRK1\" ...\n",
      " $ p_410 : chr [1:282] \"MTOR\" \"NRAS\" \"RIT1\" \"NTRK1\" ...\n",
      " $ p_341 : chr [1:249] \"MTOR\" \"NRAS\" \"RIT1\" \"NTRK1\" ...\n",
      " $ p_heme: chr [1:267] \"MTOR\" \"NRAS\" \"CD58\" \"NTRK1\" ...\n"
     ]
    }
   ],
   "source": [
    "str(msk_run_gene_list)"
   ]
  },
  {
   "cell_type": "code",
   "execution_count": 27,
   "id": "98d92bd9-1294-4525-9a1b-5596fab33ed1",
   "metadata": {},
   "outputs": [],
   "source": [
    "assay_id<-unique(genie_metadata_15_msk_with_mutation_selected_final_atleast_100_samples$SEQ_ASSAY_ID)"
   ]
  },
  {
   "cell_type": "code",
   "execution_count": 28,
   "id": "5803b987-1de8-4ded-ad73-45506d055c32",
   "metadata": {},
   "outputs": [
    {
     "data": {
      "text/html": [
       "<style>\n",
       ".list-inline {list-style: none; margin:0; padding: 0}\n",
       ".list-inline>li {display: inline-block}\n",
       ".list-inline>li:not(:last-child)::after {content: \"\\00b7\"; padding: 0 .5ex}\n",
       "</style>\n",
       "<ol class=list-inline><li>'MSK-IMPACT341'</li><li>'MSK-IMPACT410'</li><li>'MSK-IMPACT468'</li><li>'MSK-IMPACT505'</li><li>'MSK-IMPACT-HEME-400'</li><li>'MSK-IMPACT-HEME-468'</li></ol>\n"
      ],
      "text/latex": [
       "\\begin{enumerate*}\n",
       "\\item 'MSK-IMPACT341'\n",
       "\\item 'MSK-IMPACT410'\n",
       "\\item 'MSK-IMPACT468'\n",
       "\\item 'MSK-IMPACT505'\n",
       "\\item 'MSK-IMPACT-HEME-400'\n",
       "\\item 'MSK-IMPACT-HEME-468'\n",
       "\\end{enumerate*}\n"
      ],
      "text/markdown": [
       "1. 'MSK-IMPACT341'\n",
       "2. 'MSK-IMPACT410'\n",
       "3. 'MSK-IMPACT468'\n",
       "4. 'MSK-IMPACT505'\n",
       "5. 'MSK-IMPACT-HEME-400'\n",
       "6. 'MSK-IMPACT-HEME-468'\n",
       "\n",
       "\n"
      ],
      "text/plain": [
       "[1] \"MSK-IMPACT341\"       \"MSK-IMPACT410\"       \"MSK-IMPACT468\"      \n",
       "[4] \"MSK-IMPACT505\"       \"MSK-IMPACT-HEME-400\" \"MSK-IMPACT-HEME-468\""
      ]
     },
     "metadata": {},
     "output_type": "display_data"
    }
   ],
   "source": [
    "assay_id"
   ]
  },
  {
   "cell_type": "code",
   "execution_count": 29,
   "id": "cbd4ff15-928d-4ba4-9f58-5fd9b5efe650",
   "metadata": {},
   "outputs": [
    {
     "data": {
      "text/html": [
       "<table class=\"dataframe\">\n",
       "<caption>A data.frame: 2 × 22</caption>\n",
       "<thead>\n",
       "\t<tr><th></th><th scope=col>PATIENT_ID</th><th scope=col>SEX</th><th scope=col>PRIMARY_RACE</th><th scope=col>ETHNICITY</th><th scope=col>CENTER</th><th scope=col>INT_CONTACT</th><th scope=col>INT_DOD</th><th scope=col>YEAR_CONTACT</th><th scope=col>DEAD</th><th scope=col>YEAR_DEATH</th><th scope=col>⋯</th><th scope=col>ONCOTREE_CODE</th><th scope=col>SAMPLE_TYPE</th><th scope=col>SEQ_ASSAY_ID</th><th scope=col>CANCER_TYPE</th><th scope=col>CANCER_TYPE_DETAILED</th><th scope=col>SAMPLE_TYPE_DETAILED</th><th scope=col>class</th><th scope=col>Tumor_run_group</th><th scope=col>final_class</th><th scope=col>final_run_group</th></tr>\n",
       "\t<tr><th></th><th scope=col>&lt;chr&gt;</th><th scope=col>&lt;chr&gt;</th><th scope=col>&lt;chr&gt;</th><th scope=col>&lt;chr&gt;</th><th scope=col>&lt;chr&gt;</th><th scope=col>&lt;chr&gt;</th><th scope=col>&lt;chr&gt;</th><th scope=col>&lt;chr&gt;</th><th scope=col>&lt;chr&gt;</th><th scope=col>&lt;chr&gt;</th><th scope=col>⋯</th><th scope=col>&lt;chr&gt;</th><th scope=col>&lt;chr&gt;</th><th scope=col>&lt;chr&gt;</th><th scope=col>&lt;chr&gt;</th><th scope=col>&lt;chr&gt;</th><th scope=col>&lt;chr&gt;</th><th scope=col>&lt;chr&gt;</th><th scope=col>&lt;chr&gt;</th><th scope=col>&lt;chr&gt;</th><th scope=col>&lt;chr&gt;</th></tr>\n",
       "</thead>\n",
       "<tbody>\n",
       "\t<tr><th scope=row>1</th><td>GENIE-MSK-P-0000223</td><td>Female</td><td>White</td><td>Non-Spanish/non-Hispanic</td><td>MSK</td><td>11142</td><td>11142</td><td>2016</td><td>TRUE</td><td>2016</td><td>⋯</td><td>AASTR</td><td>Primary</td><td>MSK-IMPACT341</td><td>Glioma</td><td>Anaplastic Astrocytoma</td><td>Primary tumor</td><td>AASTR</td><td>AASTR</td><td>Glioma_low_grade</td><td>Glioma</td></tr>\n",
       "\t<tr><th scope=row>2</th><td>GENIE-MSK-P-0000679</td><td>Female</td><td>White</td><td>Non-Spanish/non-Hispanic</td><td>MSK</td><td>22267</td><td>22267</td><td>2015</td><td>TRUE</td><td>2015</td><td>⋯</td><td>AASTR</td><td>Primary</td><td>MSK-IMPACT341</td><td>Glioma</td><td>Anaplastic Astrocytoma</td><td>Primary tumor</td><td>AASTR</td><td>AASTR</td><td>Glioma_low_grade</td><td>Glioma</td></tr>\n",
       "</tbody>\n",
       "</table>\n"
      ],
      "text/latex": [
       "A data.frame: 2 × 22\n",
       "\\begin{tabular}{r|lllllllllllllllllllll}\n",
       "  & PATIENT\\_ID & SEX & PRIMARY\\_RACE & ETHNICITY & CENTER & INT\\_CONTACT & INT\\_DOD & YEAR\\_CONTACT & DEAD & YEAR\\_DEATH & ⋯ & ONCOTREE\\_CODE & SAMPLE\\_TYPE & SEQ\\_ASSAY\\_ID & CANCER\\_TYPE & CANCER\\_TYPE\\_DETAILED & SAMPLE\\_TYPE\\_DETAILED & class & Tumor\\_run\\_group & final\\_class & final\\_run\\_group\\\\\n",
       "  & <chr> & <chr> & <chr> & <chr> & <chr> & <chr> & <chr> & <chr> & <chr> & <chr> & ⋯ & <chr> & <chr> & <chr> & <chr> & <chr> & <chr> & <chr> & <chr> & <chr> & <chr>\\\\\n",
       "\\hline\n",
       "\t1 & GENIE-MSK-P-0000223 & Female & White & Non-Spanish/non-Hispanic & MSK & 11142 & 11142 & 2016 & TRUE & 2016 & ⋯ & AASTR & Primary & MSK-IMPACT341 & Glioma & Anaplastic Astrocytoma & Primary tumor & AASTR & AASTR & Glioma\\_low\\_grade & Glioma\\\\\n",
       "\t2 & GENIE-MSK-P-0000679 & Female & White & Non-Spanish/non-Hispanic & MSK & 22267 & 22267 & 2015 & TRUE & 2015 & ⋯ & AASTR & Primary & MSK-IMPACT341 & Glioma & Anaplastic Astrocytoma & Primary tumor & AASTR & AASTR & Glioma\\_low\\_grade & Glioma\\\\\n",
       "\\end{tabular}\n"
      ],
      "text/markdown": [
       "\n",
       "A data.frame: 2 × 22\n",
       "\n",
       "| <!--/--> | PATIENT_ID &lt;chr&gt; | SEX &lt;chr&gt; | PRIMARY_RACE &lt;chr&gt; | ETHNICITY &lt;chr&gt; | CENTER &lt;chr&gt; | INT_CONTACT &lt;chr&gt; | INT_DOD &lt;chr&gt; | YEAR_CONTACT &lt;chr&gt; | DEAD &lt;chr&gt; | YEAR_DEATH &lt;chr&gt; | ⋯ ⋯ | ONCOTREE_CODE &lt;chr&gt; | SAMPLE_TYPE &lt;chr&gt; | SEQ_ASSAY_ID &lt;chr&gt; | CANCER_TYPE &lt;chr&gt; | CANCER_TYPE_DETAILED &lt;chr&gt; | SAMPLE_TYPE_DETAILED &lt;chr&gt; | class &lt;chr&gt; | Tumor_run_group &lt;chr&gt; | final_class &lt;chr&gt; | final_run_group &lt;chr&gt; |\n",
       "|---|---|---|---|---|---|---|---|---|---|---|---|---|---|---|---|---|---|---|---|---|---|\n",
       "| 1 | GENIE-MSK-P-0000223 | Female | White | Non-Spanish/non-Hispanic | MSK | 11142 | 11142 | 2016 | TRUE | 2016 | ⋯ | AASTR | Primary | MSK-IMPACT341 | Glioma | Anaplastic Astrocytoma | Primary tumor | AASTR | AASTR | Glioma_low_grade | Glioma |\n",
       "| 2 | GENIE-MSK-P-0000679 | Female | White | Non-Spanish/non-Hispanic | MSK | 22267 | 22267 | 2015 | TRUE | 2015 | ⋯ | AASTR | Primary | MSK-IMPACT341 | Glioma | Anaplastic Astrocytoma | Primary tumor | AASTR | AASTR | Glioma_low_grade | Glioma |\n",
       "\n"
      ],
      "text/plain": [
       "  PATIENT_ID          SEX    PRIMARY_RACE ETHNICITY                CENTER\n",
       "1 GENIE-MSK-P-0000223 Female White        Non-Spanish/non-Hispanic MSK   \n",
       "2 GENIE-MSK-P-0000679 Female White        Non-Spanish/non-Hispanic MSK   \n",
       "  INT_CONTACT INT_DOD YEAR_CONTACT DEAD YEAR_DEATH ⋯ ONCOTREE_CODE SAMPLE_TYPE\n",
       "1 11142       11142   2016         TRUE 2016       ⋯ AASTR         Primary    \n",
       "2 22267       22267   2015         TRUE 2015       ⋯ AASTR         Primary    \n",
       "  SEQ_ASSAY_ID  CANCER_TYPE CANCER_TYPE_DETAILED   SAMPLE_TYPE_DETAILED class\n",
       "1 MSK-IMPACT341 Glioma      Anaplastic Astrocytoma Primary tumor        AASTR\n",
       "2 MSK-IMPACT341 Glioma      Anaplastic Astrocytoma Primary tumor        AASTR\n",
       "  Tumor_run_group final_class      final_run_group\n",
       "1 AASTR           Glioma_low_grade Glioma         \n",
       "2 AASTR           Glioma_low_grade Glioma         "
      ]
     },
     "metadata": {},
     "output_type": "display_data"
    }
   ],
   "source": [
    "genie_metadata_15_msk_with_mutation_selected_final_atleast_100_samples %>% head(2)"
   ]
  },
  {
   "cell_type": "code",
   "execution_count": 30,
   "id": "7a3d26cb-a69c-4cfb-8447-99f6402fa7d0",
   "metadata": {},
   "outputs": [],
   "source": [
    "tumor_groups<-unique(genie_metadata_15_msk_with_mutation_selected_final_atleast_100_samples$final_run_group)"
   ]
  },
  {
   "cell_type": "code",
   "execution_count": 31,
   "id": "3c626fa9-5b58-472c-a366-962e457d6f84",
   "metadata": {},
   "outputs": [],
   "source": [
    "cleaned_tumor_groups <- tolower(gsub(\"[[:space:]/-]\", \"_\", tumor_groups))"
   ]
  },
  {
   "cell_type": "code",
   "execution_count": 32,
   "id": "6eff1b44-8a89-4ea1-90e6-1bac6c429019",
   "metadata": {},
   "outputs": [],
   "source": [
    "mapped_tumor_groups <- cleaned_tumor_groups\n",
    "names(mapped_tumor_groups)<-tumor_groups"
   ]
  },
  {
   "cell_type": "code",
   "execution_count": 33,
   "id": "40ff656b-cbb5-4c16-8dd9-d599808ade74",
   "metadata": {},
   "outputs": [
    {
     "name": "stdout",
     "output_type": "stream",
     "text": [
      " Named chr [1:33] \"glioma\" \"melanoma\" \"salivary_gland_cancer\" \"leukemia\" ...\n",
      " - attr(*, \"names\")= chr [1:33] \"Glioma\" \"Melanoma\" \"Salivary Gland Cancer\" \"Leukemia\" ...\n"
     ]
    }
   ],
   "source": [
    "str(mapped_tumor_groups)"
   ]
  },
  {
   "cell_type": "code",
   "execution_count": null,
   "id": "8696ea01-28f2-4836-93fe-f5a72aac89b1",
   "metadata": {},
   "outputs": [],
   "source": [
    "for(name in names(msk_run_gene_list)){\n",
    "    cat('--Running:',name,\"--\\n\")\n",
    "    if(name=='all'){\n",
    "        for(tumor_group in names(mapped_tumor_groups)){\n",
    "            samples<-(genie_metadata_15_msk_with_mutation_selected_final_atleast_100_samples %>% \n",
    "                      filter(SAMPLE_TYPE=='Primary' & final_run_group==tumor_group)%>% group_by(final_class) %>% filter(n()>=30) %>% ungroup())$SAMPLE_ID\n",
    "            if(length(samples)>=30){\n",
    "                cat('---Tumor Group---',tumor_group,\"--\\n\")\n",
    "                    temp<- filter_run_data(run_data = msk_run_p_data,\n",
    "                                           gene_order = msk_run_gene_list$all,\n",
    "                                           sample_order =samples ) \n",
    "                    finalname<-paste(mapped_tumor_groups[tumor_group],name,sep=\"_\")\n",
    "                    label<-paste('../data/','msk_panel_',finalname,'_primary_run_data.rds',sep=\"\")\n",
    "                    saveRDS(temp,file = label,compress = TRUE)\n",
    "                    msk_result <- selectX(M = temp$M,\n",
    "                                        sample.class = temp$sample.class,\n",
    "                                        alteration.class = temp$alteration.class,\n",
    "                                        n.cores = 15,\n",
    "                                        min.freq = round(0.001*length(temp$sample.class)),\n",
    "                                        n.permut = 1000,\n",
    "                                        lambda = 0.3,\n",
    "                                        tao = 1,\n",
    "                                        save.object = FALSE,\n",
    "                                        verbose = FALSE,\n",
    "                                        estimate_pairwise = FALSE,\n",
    "                                        maxFDR = 0.25,\n",
    "                                        seed = 42)\n",
    "                    label<-paste('../results/','msk_panel_',finalname,'_primary_result.rds',sep=\"\")\n",
    "                    saveRDS(msk_result,file = label,compress = TRUE)\n",
    "                    rm(msk_result)                \n",
    "                cat('---Tumor Group---',tumor_group,\"--Done--\\n\")        \n",
    "                \n",
    "            }\n",
    "        }    \n",
    "\n",
    "    }\n",
    "    else if(name=='p_505'){\n",
    "        for(tumor_group in names(mapped_tumor_groups)){\n",
    "            samples<-(genie_metadata_15_msk_with_mutation_selected_final_atleast_100_samples %>% \n",
    "                      filter(SAMPLE_TYPE=='Primary' & SEQ_ASSAY_ID=='MSK-IMPACT505'& final_run_group==tumor_group)%>% group_by(final_class) %>% filter(n()>=30) %>% ungroup())$SAMPLE_ID\n",
    "            if(length(samples)>=30){\n",
    "                cat('---Tumor Group---',tumor_group,\"--\\n\")\n",
    "                    temp<- filter_run_data(run_data = msk_run_p_data,\n",
    "                                           gene_order = msk_run_gene_list$p_505,\n",
    "                                           sample_order =samples ) \n",
    "                    finalname<-paste(mapped_tumor_groups[tumor_group],name,sep=\"_\")\n",
    "                    label<-paste('../data/','msk_panel_',finalname,'_primary_run_data.rds',sep=\"\")\n",
    "                    saveRDS(temp,file = label,compress = TRUE)\n",
    "                    msk_result <- selectX(M = temp$M,\n",
    "                                        sample.class = temp$sample.class,\n",
    "                                        alteration.class = temp$alteration.class,\n",
    "                                        n.cores = 15,\n",
    "                                        min.freq = round(0.001*length(temp$sample.class)),\n",
    "                                        n.permut = 1000,\n",
    "                                        lambda = 0.3,\n",
    "                                        tao = 1,\n",
    "                                        save.object = FALSE,\n",
    "                                        verbose = FALSE,\n",
    "                                        estimate_pairwise = FALSE,\n",
    "                                        maxFDR = 0.25,\n",
    "                                        seed = 42)\n",
    "                    label<-paste('../results/','msk_panel_',finalname,'_primary_result.rds',sep=\"\")\n",
    "                    saveRDS(msk_result,file = label,compress = TRUE)\n",
    "                    rm(msk_result)                \n",
    "                cat('---Tumor Group---',tumor_group,\"--Done--\\n\")        \n",
    "                \n",
    "            }\n",
    "        }    \n",
    "\n",
    "    }\n",
    "    else if(name=='p_468'){\n",
    "        for(tumor_group in names(mapped_tumor_groups)){\n",
    "            samples<-(genie_metadata_15_msk_with_mutation_selected_final_atleast_100_samples %>% \n",
    "                      filter(SAMPLE_TYPE=='Primary' & SEQ_ASSAY_ID=='MSK-IMPACT468'& final_run_group==tumor_group)%>% group_by(final_class) %>% filter(n()>=30) %>% ungroup())$SAMPLE_ID\n",
    "            if(length(samples)>=30){\n",
    "                cat('---Tumor Group---',tumor_group,\"--\\n\")\n",
    "                    temp<- filter_run_data(run_data = msk_run_p_data,\n",
    "                                           gene_order = msk_run_gene_list$p_468,\n",
    "                                           sample_order =samples ) \n",
    "                    finalname<-paste(mapped_tumor_groups[tumor_group],name,sep=\"_\")\n",
    "                    label<-paste('../data/','msk_panel_',finalname,'_primary_run_data.rds',sep=\"\")\n",
    "                    saveRDS(temp,file = label,compress = TRUE)\n",
    "                    msk_result <- selectX(M = temp$M,\n",
    "                                        sample.class = temp$sample.class,\n",
    "                                        alteration.class = temp$alteration.class,\n",
    "                                        n.cores = 15,\n",
    "                                        min.freq = round(0.001*length(temp$sample.class)),\n",
    "                                        n.permut = 1000,\n",
    "                                        lambda = 0.3,\n",
    "                                        tao = 1,\n",
    "                                        save.object = FALSE,\n",
    "                                        verbose = FALSE,\n",
    "                                        estimate_pairwise = FALSE,\n",
    "                                        maxFDR = 0.25,\n",
    "                                        seed = 42)\n",
    "                    label<-paste('../results/','msk_panel_',finalname,'_primary_result.rds',sep=\"\")\n",
    "                    saveRDS(msk_result,file = label,compress = TRUE)\n",
    "                    rm(msk_result)                \n",
    "                cat('---Tumor Group---',tumor_group,\"--Done--\\n\")        \n",
    "                \n",
    "            }\n",
    "        } \n",
    "    }\n",
    "    else if(name=='p_410'){\n",
    "        for(tumor_group in names(mapped_tumor_groups)){\n",
    "            samples<-(genie_metadata_15_msk_with_mutation_selected_final_atleast_100_samples %>% \n",
    "                      filter(SAMPLE_TYPE=='Primary' & SEQ_ASSAY_ID=='MSK-IMPACT410'& final_run_group==tumor_group)%>% group_by(final_class) %>% filter(n()>=30) %>% ungroup())$SAMPLE_ID\n",
    "            if(length(samples)>=30){\n",
    "                cat('---Tumor Group---',tumor_group,\"--\\n\")\n",
    "                    temp<- filter_run_data(run_data = msk_run_p_data,\n",
    "                                           gene_order = msk_run_gene_list$p_410,\n",
    "                                           sample_order =samples ) \n",
    "                    finalname<-paste(mapped_tumor_groups[tumor_group],name,sep=\"_\")\n",
    "                    label<-paste('../data/','msk_panel_',finalname,'_primary_run_data.rds',sep=\"\")\n",
    "                    saveRDS(temp,file = label,compress = TRUE)\n",
    "                    msk_result <- selectX(M = temp$M,\n",
    "                                        sample.class = temp$sample.class,\n",
    "                                        alteration.class = temp$alteration.class,\n",
    "                                        n.cores = 15,\n",
    "                                        min.freq = round(0.001*length(temp$sample.class)),\n",
    "                                        n.permut = 1000,\n",
    "                                        lambda = 0.3,\n",
    "                                        tao = 1,\n",
    "                                        save.object = FALSE,\n",
    "                                        verbose = FALSE,\n",
    "                                        estimate_pairwise = FALSE,\n",
    "                                        maxFDR = 0.25,\n",
    "                                        seed = 42)\n",
    "                    label<-paste('../results/','msk_panel_',finalname,'_primary_result.rds',sep=\"\")\n",
    "                    saveRDS(msk_result,file = label,compress = TRUE)\n",
    "                    rm(msk_result)                \n",
    "                cat('---Tumor Group---',tumor_group,\"--Done--\\n\")        \n",
    "                \n",
    "            }\n",
    "        }   \n",
    "\n",
    "    }\n",
    "    else if(name=='p_341'){\n",
    "        for(tumor_group in names(mapped_tumor_groups)){\n",
    "            samples<-(genie_metadata_15_msk_with_mutation_selected_final_atleast_100_samples %>% \n",
    "                      filter(SAMPLE_TYPE=='Primary' & SEQ_ASSAY_ID=='MSK-IMPACT341'& final_run_group==tumor_group)%>% group_by(final_class) %>% filter(n()>=30) %>% ungroup())$SAMPLE_ID\n",
    "            if(length(samples)>=30){\n",
    "                cat('---Tumor Group---',tumor_group,\"--\\n\")\n",
    "                    temp<- filter_run_data(run_data = msk_run_p_data,\n",
    "                                           gene_order = msk_run_gene_list$p_341,\n",
    "                                           sample_order =samples ) \n",
    "                    finalname<-paste(mapped_tumor_groups[tumor_group],name,sep=\"_\")\n",
    "                    label<-paste('../data/','msk_panel_',finalname,'_primary_run_data.rds',sep=\"\")\n",
    "                    saveRDS(temp,file = label,compress = TRUE)\n",
    "                    msk_result <- selectX(M = temp$M,\n",
    "                                        sample.class = temp$sample.class,\n",
    "                                        alteration.class = temp$alteration.class,\n",
    "                                        n.cores = 15,\n",
    "                                        min.freq = round(0.001*length(temp$sample.class)),\n",
    "                                        n.permut = 1000,\n",
    "                                        lambda = 0.3,\n",
    "                                        tao = 1,\n",
    "                                        save.object = FALSE,\n",
    "                                        verbose = FALSE,\n",
    "                                        estimate_pairwise = FALSE,\n",
    "                                        maxFDR = 0.25,\n",
    "                                        seed = 42)\n",
    "                    label<-paste('../results/','msk_panel_',finalname,'_primary_result.rds',sep=\"\")\n",
    "                    saveRDS(msk_result,file = label,compress = TRUE)\n",
    "                    rm(msk_result)                \n",
    "                cat('---Tumor Group---',tumor_group,\"--Done--\\n\")        \n",
    "                \n",
    "            }\n",
    "        }   \n",
    "    }\n",
    "    else{\n",
    "        for(tumor_group in names(mapped_tumor_groups)){\n",
    "            samples<-(genie_metadata_15_msk_with_mutation_selected_final_atleast_100_samples %>% \n",
    "                      filter(SAMPLE_TYPE=='Primary' & SEQ_ASSAY_ID %in% c('MSK-IMPACT-HEME-400','MSK-IMPACT-HEME-468') & final_run_group==tumor_group)%>% group_by(final_class) %>% filter(n()>=30) %>% ungroup())$SAMPLE_ID\n",
    "            if(length(samples)>=30){\n",
    "                cat('---Tumor Group---',tumor_group,\"--\\n\")\n",
    "                    temp<- filter_run_data(run_data = msk_run_p_data,\n",
    "                                           gene_order = msk_run_gene_list$p_heme,\n",
    "                                           sample_order =samples ) \n",
    "                    finalname<-paste(mapped_tumor_groups[tumor_group],'heme',sep=\"_\")\n",
    "                    label<-paste('../data/','msk_panel_',finalname,'_primary_run_data.rds',sep=\"\")\n",
    "                    saveRDS(temp,file = label,compress = TRUE)\n",
    "                    msk_result <- selectX(M = temp$M,\n",
    "                                        sample.class = temp$sample.class,\n",
    "                                        alteration.class = temp$alteration.class,\n",
    "                                        n.cores = 15,\n",
    "                                        min.freq = round(0.001*length(temp$sample.class)),\n",
    "                                        n.permut = 1000,\n",
    "                                        lambda = 0.3,\n",
    "                                        tao = 1,\n",
    "                                        save.object = FALSE,\n",
    "                                        verbose = FALSE,\n",
    "                                        estimate_pairwise = FALSE,\n",
    "                                        maxFDR = 0.25,\n",
    "                                        seed = 42)\n",
    "                    label<-paste('../results/','msk_panel_',finalname,'_primary_result.rds',sep=\"\")\n",
    "                    saveRDS(msk_result,file = label,compress = TRUE)\n",
    "                    rm(msk_result)                \n",
    "                cat('---Tumor Group---',tumor_group,\"--Done--\\n\")        \n",
    "                \n",
    "            }\n",
    "        }   \n",
    "    }\n",
    " cat('\\n---Done---\\n')\n",
    "}"
   ]
  },
  {
   "cell_type": "markdown",
   "id": "b80e8f13-7bb5-4041-b106-3b50813c3366",
   "metadata": {},
   "source": [
    "## MSK-Metastasis"
   ]
  },
  {
   "cell_type": "code",
   "execution_count": 34,
   "id": "0c56f9a6-eecb-4e6a-86c7-0cb388f13fda",
   "metadata": {},
   "outputs": [
    {
     "data": {
      "text/html": [
       "<table class=\"dataframe\">\n",
       "<caption>A data.frame: 1 × 22</caption>\n",
       "<thead>\n",
       "\t<tr><th></th><th scope=col>PATIENT_ID</th><th scope=col>SEX</th><th scope=col>PRIMARY_RACE</th><th scope=col>ETHNICITY</th><th scope=col>CENTER</th><th scope=col>INT_CONTACT</th><th scope=col>INT_DOD</th><th scope=col>YEAR_CONTACT</th><th scope=col>DEAD</th><th scope=col>YEAR_DEATH</th><th scope=col>⋯</th><th scope=col>ONCOTREE_CODE</th><th scope=col>SAMPLE_TYPE</th><th scope=col>SEQ_ASSAY_ID</th><th scope=col>CANCER_TYPE</th><th scope=col>CANCER_TYPE_DETAILED</th><th scope=col>SAMPLE_TYPE_DETAILED</th><th scope=col>class</th><th scope=col>Tumor_run_group</th><th scope=col>final_class</th><th scope=col>final_run_group</th></tr>\n",
       "\t<tr><th></th><th scope=col>&lt;chr&gt;</th><th scope=col>&lt;chr&gt;</th><th scope=col>&lt;chr&gt;</th><th scope=col>&lt;chr&gt;</th><th scope=col>&lt;chr&gt;</th><th scope=col>&lt;chr&gt;</th><th scope=col>&lt;chr&gt;</th><th scope=col>&lt;chr&gt;</th><th scope=col>&lt;chr&gt;</th><th scope=col>&lt;chr&gt;</th><th scope=col>⋯</th><th scope=col>&lt;chr&gt;</th><th scope=col>&lt;chr&gt;</th><th scope=col>&lt;chr&gt;</th><th scope=col>&lt;chr&gt;</th><th scope=col>&lt;chr&gt;</th><th scope=col>&lt;chr&gt;</th><th scope=col>&lt;chr&gt;</th><th scope=col>&lt;chr&gt;</th><th scope=col>&lt;chr&gt;</th><th scope=col>&lt;chr&gt;</th></tr>\n",
       "</thead>\n",
       "<tbody>\n",
       "\t<tr><th scope=row>1</th><td>GENIE-MSK-P-0000223</td><td>Female</td><td>White</td><td>Non-Spanish/non-Hispanic</td><td>MSK</td><td>11142</td><td>11142</td><td>2016</td><td>TRUE</td><td>2016</td><td>⋯</td><td>AASTR</td><td>Primary</td><td>MSK-IMPACT341</td><td>Glioma</td><td>Anaplastic Astrocytoma</td><td>Primary tumor</td><td>AASTR</td><td>AASTR</td><td>Glioma_low_grade</td><td>Glioma</td></tr>\n",
       "</tbody>\n",
       "</table>\n"
      ],
      "text/latex": [
       "A data.frame: 1 × 22\n",
       "\\begin{tabular}{r|lllllllllllllllllllll}\n",
       "  & PATIENT\\_ID & SEX & PRIMARY\\_RACE & ETHNICITY & CENTER & INT\\_CONTACT & INT\\_DOD & YEAR\\_CONTACT & DEAD & YEAR\\_DEATH & ⋯ & ONCOTREE\\_CODE & SAMPLE\\_TYPE & SEQ\\_ASSAY\\_ID & CANCER\\_TYPE & CANCER\\_TYPE\\_DETAILED & SAMPLE\\_TYPE\\_DETAILED & class & Tumor\\_run\\_group & final\\_class & final\\_run\\_group\\\\\n",
       "  & <chr> & <chr> & <chr> & <chr> & <chr> & <chr> & <chr> & <chr> & <chr> & <chr> & ⋯ & <chr> & <chr> & <chr> & <chr> & <chr> & <chr> & <chr> & <chr> & <chr> & <chr>\\\\\n",
       "\\hline\n",
       "\t1 & GENIE-MSK-P-0000223 & Female & White & Non-Spanish/non-Hispanic & MSK & 11142 & 11142 & 2016 & TRUE & 2016 & ⋯ & AASTR & Primary & MSK-IMPACT341 & Glioma & Anaplastic Astrocytoma & Primary tumor & AASTR & AASTR & Glioma\\_low\\_grade & Glioma\\\\\n",
       "\\end{tabular}\n"
      ],
      "text/markdown": [
       "\n",
       "A data.frame: 1 × 22\n",
       "\n",
       "| <!--/--> | PATIENT_ID &lt;chr&gt; | SEX &lt;chr&gt; | PRIMARY_RACE &lt;chr&gt; | ETHNICITY &lt;chr&gt; | CENTER &lt;chr&gt; | INT_CONTACT &lt;chr&gt; | INT_DOD &lt;chr&gt; | YEAR_CONTACT &lt;chr&gt; | DEAD &lt;chr&gt; | YEAR_DEATH &lt;chr&gt; | ⋯ ⋯ | ONCOTREE_CODE &lt;chr&gt; | SAMPLE_TYPE &lt;chr&gt; | SEQ_ASSAY_ID &lt;chr&gt; | CANCER_TYPE &lt;chr&gt; | CANCER_TYPE_DETAILED &lt;chr&gt; | SAMPLE_TYPE_DETAILED &lt;chr&gt; | class &lt;chr&gt; | Tumor_run_group &lt;chr&gt; | final_class &lt;chr&gt; | final_run_group &lt;chr&gt; |\n",
       "|---|---|---|---|---|---|---|---|---|---|---|---|---|---|---|---|---|---|---|---|---|---|\n",
       "| 1 | GENIE-MSK-P-0000223 | Female | White | Non-Spanish/non-Hispanic | MSK | 11142 | 11142 | 2016 | TRUE | 2016 | ⋯ | AASTR | Primary | MSK-IMPACT341 | Glioma | Anaplastic Astrocytoma | Primary tumor | AASTR | AASTR | Glioma_low_grade | Glioma |\n",
       "\n"
      ],
      "text/plain": [
       "  PATIENT_ID          SEX    PRIMARY_RACE ETHNICITY                CENTER\n",
       "1 GENIE-MSK-P-0000223 Female White        Non-Spanish/non-Hispanic MSK   \n",
       "  INT_CONTACT INT_DOD YEAR_CONTACT DEAD YEAR_DEATH ⋯ ONCOTREE_CODE SAMPLE_TYPE\n",
       "1 11142       11142   2016         TRUE 2016       ⋯ AASTR         Primary    \n",
       "  SEQ_ASSAY_ID  CANCER_TYPE CANCER_TYPE_DETAILED   SAMPLE_TYPE_DETAILED class\n",
       "1 MSK-IMPACT341 Glioma      Anaplastic Astrocytoma Primary tumor        AASTR\n",
       "  Tumor_run_group final_class      final_run_group\n",
       "1 AASTR           Glioma_low_grade Glioma         "
      ]
     },
     "metadata": {},
     "output_type": "display_data"
    }
   ],
   "source": [
    "genie_metadata_15_msk_with_mutation_selected_final_atleast_100_samples %>% head(1)"
   ]
  },
  {
   "cell_type": "code",
   "execution_count": 35,
   "id": "bf68e8d0-dcd5-403e-892e-ec403e8aed5d",
   "metadata": {},
   "outputs": [
    {
     "name": "stdout",
     "output_type": "stream",
     "text": [
      "List of 6\n",
      " $ all   : chr [1:202] \"MTOR\" \"NRAS\" \"NTRK1\" \"SDHC\" ...\n",
      " $ p_505 : chr [1:327] \"MTOR\" \"NRAS\" \"RIT1\" \"NTRK1\" ...\n",
      " $ p_468 : chr [1:306] \"MTOR\" \"NRAS\" \"RIT1\" \"NTRK1\" ...\n",
      " $ p_410 : chr [1:282] \"MTOR\" \"NRAS\" \"RIT1\" \"NTRK1\" ...\n",
      " $ p_341 : chr [1:249] \"MTOR\" \"NRAS\" \"RIT1\" \"NTRK1\" ...\n",
      " $ p_heme: chr [1:267] \"MTOR\" \"NRAS\" \"CD58\" \"NTRK1\" ...\n"
     ]
    }
   ],
   "source": [
    "str(msk_run_gene_list)"
   ]
  },
  {
   "cell_type": "code",
   "execution_count": 36,
   "id": "40b7ad1a-75c6-40a3-b13d-df049f94a4b8",
   "metadata": {},
   "outputs": [],
   "source": [
    "assay_id<-unique(genie_metadata_15_msk_with_mutation_selected_final_atleast_100_samples$SEQ_ASSAY_ID)"
   ]
  },
  {
   "cell_type": "code",
   "execution_count": 37,
   "id": "ce6574ce-35ad-4b2e-8001-070afb6f62b9",
   "metadata": {},
   "outputs": [
    {
     "data": {
      "text/html": [
       "<style>\n",
       ".list-inline {list-style: none; margin:0; padding: 0}\n",
       ".list-inline>li {display: inline-block}\n",
       ".list-inline>li:not(:last-child)::after {content: \"\\00b7\"; padding: 0 .5ex}\n",
       "</style>\n",
       "<ol class=list-inline><li>'MSK-IMPACT341'</li><li>'MSK-IMPACT410'</li><li>'MSK-IMPACT468'</li><li>'MSK-IMPACT505'</li><li>'MSK-IMPACT-HEME-400'</li><li>'MSK-IMPACT-HEME-468'</li></ol>\n"
      ],
      "text/latex": [
       "\\begin{enumerate*}\n",
       "\\item 'MSK-IMPACT341'\n",
       "\\item 'MSK-IMPACT410'\n",
       "\\item 'MSK-IMPACT468'\n",
       "\\item 'MSK-IMPACT505'\n",
       "\\item 'MSK-IMPACT-HEME-400'\n",
       "\\item 'MSK-IMPACT-HEME-468'\n",
       "\\end{enumerate*}\n"
      ],
      "text/markdown": [
       "1. 'MSK-IMPACT341'\n",
       "2. 'MSK-IMPACT410'\n",
       "3. 'MSK-IMPACT468'\n",
       "4. 'MSK-IMPACT505'\n",
       "5. 'MSK-IMPACT-HEME-400'\n",
       "6. 'MSK-IMPACT-HEME-468'\n",
       "\n",
       "\n"
      ],
      "text/plain": [
       "[1] \"MSK-IMPACT341\"       \"MSK-IMPACT410\"       \"MSK-IMPACT468\"      \n",
       "[4] \"MSK-IMPACT505\"       \"MSK-IMPACT-HEME-400\" \"MSK-IMPACT-HEME-468\""
      ]
     },
     "metadata": {},
     "output_type": "display_data"
    }
   ],
   "source": [
    "assay_id"
   ]
  },
  {
   "cell_type": "code",
   "execution_count": 38,
   "id": "aeef3e31-131b-49af-b102-8205ea00b1e9",
   "metadata": {},
   "outputs": [
    {
     "data": {
      "text/html": [
       "<table class=\"dataframe\">\n",
       "<caption>A data.frame: 2 × 22</caption>\n",
       "<thead>\n",
       "\t<tr><th></th><th scope=col>PATIENT_ID</th><th scope=col>SEX</th><th scope=col>PRIMARY_RACE</th><th scope=col>ETHNICITY</th><th scope=col>CENTER</th><th scope=col>INT_CONTACT</th><th scope=col>INT_DOD</th><th scope=col>YEAR_CONTACT</th><th scope=col>DEAD</th><th scope=col>YEAR_DEATH</th><th scope=col>⋯</th><th scope=col>ONCOTREE_CODE</th><th scope=col>SAMPLE_TYPE</th><th scope=col>SEQ_ASSAY_ID</th><th scope=col>CANCER_TYPE</th><th scope=col>CANCER_TYPE_DETAILED</th><th scope=col>SAMPLE_TYPE_DETAILED</th><th scope=col>class</th><th scope=col>Tumor_run_group</th><th scope=col>final_class</th><th scope=col>final_run_group</th></tr>\n",
       "\t<tr><th></th><th scope=col>&lt;chr&gt;</th><th scope=col>&lt;chr&gt;</th><th scope=col>&lt;chr&gt;</th><th scope=col>&lt;chr&gt;</th><th scope=col>&lt;chr&gt;</th><th scope=col>&lt;chr&gt;</th><th scope=col>&lt;chr&gt;</th><th scope=col>&lt;chr&gt;</th><th scope=col>&lt;chr&gt;</th><th scope=col>&lt;chr&gt;</th><th scope=col>⋯</th><th scope=col>&lt;chr&gt;</th><th scope=col>&lt;chr&gt;</th><th scope=col>&lt;chr&gt;</th><th scope=col>&lt;chr&gt;</th><th scope=col>&lt;chr&gt;</th><th scope=col>&lt;chr&gt;</th><th scope=col>&lt;chr&gt;</th><th scope=col>&lt;chr&gt;</th><th scope=col>&lt;chr&gt;</th><th scope=col>&lt;chr&gt;</th></tr>\n",
       "</thead>\n",
       "<tbody>\n",
       "\t<tr><th scope=row>1</th><td>GENIE-MSK-P-0000223</td><td>Female</td><td>White</td><td>Non-Spanish/non-Hispanic</td><td>MSK</td><td>11142</td><td>11142</td><td>2016</td><td>TRUE</td><td>2016</td><td>⋯</td><td>AASTR</td><td>Primary</td><td>MSK-IMPACT341</td><td>Glioma</td><td>Anaplastic Astrocytoma</td><td>Primary tumor</td><td>AASTR</td><td>AASTR</td><td>Glioma_low_grade</td><td>Glioma</td></tr>\n",
       "\t<tr><th scope=row>2</th><td>GENIE-MSK-P-0000679</td><td>Female</td><td>White</td><td>Non-Spanish/non-Hispanic</td><td>MSK</td><td>22267</td><td>22267</td><td>2015</td><td>TRUE</td><td>2015</td><td>⋯</td><td>AASTR</td><td>Primary</td><td>MSK-IMPACT341</td><td>Glioma</td><td>Anaplastic Astrocytoma</td><td>Primary tumor</td><td>AASTR</td><td>AASTR</td><td>Glioma_low_grade</td><td>Glioma</td></tr>\n",
       "</tbody>\n",
       "</table>\n"
      ],
      "text/latex": [
       "A data.frame: 2 × 22\n",
       "\\begin{tabular}{r|lllllllllllllllllllll}\n",
       "  & PATIENT\\_ID & SEX & PRIMARY\\_RACE & ETHNICITY & CENTER & INT\\_CONTACT & INT\\_DOD & YEAR\\_CONTACT & DEAD & YEAR\\_DEATH & ⋯ & ONCOTREE\\_CODE & SAMPLE\\_TYPE & SEQ\\_ASSAY\\_ID & CANCER\\_TYPE & CANCER\\_TYPE\\_DETAILED & SAMPLE\\_TYPE\\_DETAILED & class & Tumor\\_run\\_group & final\\_class & final\\_run\\_group\\\\\n",
       "  & <chr> & <chr> & <chr> & <chr> & <chr> & <chr> & <chr> & <chr> & <chr> & <chr> & ⋯ & <chr> & <chr> & <chr> & <chr> & <chr> & <chr> & <chr> & <chr> & <chr> & <chr>\\\\\n",
       "\\hline\n",
       "\t1 & GENIE-MSK-P-0000223 & Female & White & Non-Spanish/non-Hispanic & MSK & 11142 & 11142 & 2016 & TRUE & 2016 & ⋯ & AASTR & Primary & MSK-IMPACT341 & Glioma & Anaplastic Astrocytoma & Primary tumor & AASTR & AASTR & Glioma\\_low\\_grade & Glioma\\\\\n",
       "\t2 & GENIE-MSK-P-0000679 & Female & White & Non-Spanish/non-Hispanic & MSK & 22267 & 22267 & 2015 & TRUE & 2015 & ⋯ & AASTR & Primary & MSK-IMPACT341 & Glioma & Anaplastic Astrocytoma & Primary tumor & AASTR & AASTR & Glioma\\_low\\_grade & Glioma\\\\\n",
       "\\end{tabular}\n"
      ],
      "text/markdown": [
       "\n",
       "A data.frame: 2 × 22\n",
       "\n",
       "| <!--/--> | PATIENT_ID &lt;chr&gt; | SEX &lt;chr&gt; | PRIMARY_RACE &lt;chr&gt; | ETHNICITY &lt;chr&gt; | CENTER &lt;chr&gt; | INT_CONTACT &lt;chr&gt; | INT_DOD &lt;chr&gt; | YEAR_CONTACT &lt;chr&gt; | DEAD &lt;chr&gt; | YEAR_DEATH &lt;chr&gt; | ⋯ ⋯ | ONCOTREE_CODE &lt;chr&gt; | SAMPLE_TYPE &lt;chr&gt; | SEQ_ASSAY_ID &lt;chr&gt; | CANCER_TYPE &lt;chr&gt; | CANCER_TYPE_DETAILED &lt;chr&gt; | SAMPLE_TYPE_DETAILED &lt;chr&gt; | class &lt;chr&gt; | Tumor_run_group &lt;chr&gt; | final_class &lt;chr&gt; | final_run_group &lt;chr&gt; |\n",
       "|---|---|---|---|---|---|---|---|---|---|---|---|---|---|---|---|---|---|---|---|---|---|\n",
       "| 1 | GENIE-MSK-P-0000223 | Female | White | Non-Spanish/non-Hispanic | MSK | 11142 | 11142 | 2016 | TRUE | 2016 | ⋯ | AASTR | Primary | MSK-IMPACT341 | Glioma | Anaplastic Astrocytoma | Primary tumor | AASTR | AASTR | Glioma_low_grade | Glioma |\n",
       "| 2 | GENIE-MSK-P-0000679 | Female | White | Non-Spanish/non-Hispanic | MSK | 22267 | 22267 | 2015 | TRUE | 2015 | ⋯ | AASTR | Primary | MSK-IMPACT341 | Glioma | Anaplastic Astrocytoma | Primary tumor | AASTR | AASTR | Glioma_low_grade | Glioma |\n",
       "\n"
      ],
      "text/plain": [
       "  PATIENT_ID          SEX    PRIMARY_RACE ETHNICITY                CENTER\n",
       "1 GENIE-MSK-P-0000223 Female White        Non-Spanish/non-Hispanic MSK   \n",
       "2 GENIE-MSK-P-0000679 Female White        Non-Spanish/non-Hispanic MSK   \n",
       "  INT_CONTACT INT_DOD YEAR_CONTACT DEAD YEAR_DEATH ⋯ ONCOTREE_CODE SAMPLE_TYPE\n",
       "1 11142       11142   2016         TRUE 2016       ⋯ AASTR         Primary    \n",
       "2 22267       22267   2015         TRUE 2015       ⋯ AASTR         Primary    \n",
       "  SEQ_ASSAY_ID  CANCER_TYPE CANCER_TYPE_DETAILED   SAMPLE_TYPE_DETAILED class\n",
       "1 MSK-IMPACT341 Glioma      Anaplastic Astrocytoma Primary tumor        AASTR\n",
       "2 MSK-IMPACT341 Glioma      Anaplastic Astrocytoma Primary tumor        AASTR\n",
       "  Tumor_run_group final_class      final_run_group\n",
       "1 AASTR           Glioma_low_grade Glioma         \n",
       "2 AASTR           Glioma_low_grade Glioma         "
      ]
     },
     "metadata": {},
     "output_type": "display_data"
    }
   ],
   "source": [
    "genie_metadata_15_msk_with_mutation_selected_final_atleast_100_samples %>% head(2)"
   ]
  },
  {
   "cell_type": "code",
   "execution_count": 39,
   "id": "a5b33e99-49bd-46f2-83f6-b025d336c062",
   "metadata": {},
   "outputs": [],
   "source": [
    "tumor_groups<-unique(genie_metadata_15_msk_with_mutation_selected_final_atleast_100_samples$final_run_group)"
   ]
  },
  {
   "cell_type": "code",
   "execution_count": 40,
   "id": "8d2e6e63-9d0f-4544-82f6-812615758c58",
   "metadata": {},
   "outputs": [],
   "source": [
    "cleaned_tumor_groups <- tolower(gsub(\"[[:space:]/-]\", \"_\", tumor_groups))"
   ]
  },
  {
   "cell_type": "code",
   "execution_count": 41,
   "id": "d6b75b06-0ede-434c-8d07-fef05316decd",
   "metadata": {},
   "outputs": [],
   "source": [
    "mapped_tumor_groups <- cleaned_tumor_groups\n",
    "names(mapped_tumor_groups)<-tumor_groups"
   ]
  },
  {
   "cell_type": "code",
   "execution_count": 42,
   "id": "8b559e88-abf1-404b-b967-e70040f906ed",
   "metadata": {},
   "outputs": [
    {
     "name": "stdout",
     "output_type": "stream",
     "text": [
      " Named chr [1:33] \"glioma\" \"melanoma\" \"salivary_gland_cancer\" \"leukemia\" ...\n",
      " - attr(*, \"names\")= chr [1:33] \"Glioma\" \"Melanoma\" \"Salivary Gland Cancer\" \"Leukemia\" ...\n"
     ]
    }
   ],
   "source": [
    "str(mapped_tumor_groups)"
   ]
  },
  {
   "cell_type": "code",
   "execution_count": null,
   "id": "a8df41f6-e53f-4649-b0f4-4f2feb79b504",
   "metadata": {
    "scrolled": true
   },
   "outputs": [],
   "source": [
    "for(name in names(msk_run_gene_list)){\n",
    "    cat('--Running:',name,\"--\\n\")\n",
    "    if(name=='all'){\n",
    "        for(tumor_group in names(mapped_tumor_groups)){\n",
    "            samples<-(genie_metadata_15_msk_with_mutation_selected_final_atleast_100_samples %>% \n",
    "                      filter(SAMPLE_TYPE!='Primary' & final_run_group==tumor_group)%>% group_by(final_class) %>% filter(n()>=30) %>% ungroup())$SAMPLE_ID\n",
    "            if(length(samples)>=30){\n",
    "                cat('---Tumor Group---',tumor_group,\"--\\n\")\n",
    "                    temp<- filter_run_data(run_data = msk_run_m_data,\n",
    "                                           gene_order = msk_run_gene_list$all,\n",
    "                                           sample_order =samples ) \n",
    "                    finalname<-paste(mapped_tumor_groups[tumor_group],name,sep=\"_\")\n",
    "                    label<-paste('../data/','msk_panel_',finalname,'_meta_run_data.rds',sep=\"\")\n",
    "                    saveRDS(temp,file = label,compress = TRUE)\n",
    "                    msk_result <- selectX(M = temp$M,\n",
    "                                        sample.class = temp$sample.class,\n",
    "                                        alteration.class = temp$alteration.class,\n",
    "                                        n.cores = 15,\n",
    "                                        min.freq = round(0.001*length(temp$sample.class)),\n",
    "                                        n.permut = 1000,\n",
    "                                        lambda = 0.3,\n",
    "                                        tao = 1,\n",
    "                                        save.object = FALSE,\n",
    "                                        verbose = FALSE,\n",
    "                                        estimate_pairwise = FALSE,\n",
    "                                        maxFDR = 0.25,\n",
    "                                        seed = 42)\n",
    "                    label<-paste('../results/','msk_panel_',finalname,'_meta_result.rds',sep=\"\")\n",
    "                    saveRDS(msk_result,file = label,compress = TRUE)\n",
    "                    rm(msk_result)                \n",
    "                cat('---Tumor Group---',tumor_group,\"--Done--\\n\")        \n",
    "                \n",
    "            }\n",
    "        }    \n",
    "\n",
    "    }\n",
    "    else if(name=='p_505'){\n",
    "        for(tumor_group in names(mapped_tumor_groups)){\n",
    "            samples<-(genie_metadata_15_msk_with_mutation_selected_final_atleast_100_samples %>% \n",
    "                      filter(SAMPLE_TYPE!='Primary' & SEQ_ASSAY_ID=='MSK-IMPACT505'& final_run_group==tumor_group)%>% group_by(final_class) %>% filter(n()>=30) %>% ungroup())$SAMPLE_ID\n",
    "            if(length(samples)>=30){\n",
    "                cat('---Tumor Group---',tumor_group,\"--\\n\")\n",
    "                    temp<- filter_run_data(run_data = msk_run_m_data,\n",
    "                                           gene_order = msk_run_gene_list$p_505,\n",
    "                                           sample_order =samples ) \n",
    "                    finalname<-paste(mapped_tumor_groups[tumor_group],name,sep=\"_\")\n",
    "                    label<-paste('../data/','msk_panel_',finalname,'_meta_run_data.rds',sep=\"\")\n",
    "                    saveRDS(temp,file = label,compress = TRUE)\n",
    "                    msk_result <- selectX(M = temp$M,\n",
    "                                        sample.class = temp$sample.class,\n",
    "                                        alteration.class = temp$alteration.class,\n",
    "                                        n.cores = 15,\n",
    "                                        min.freq = round(0.001*length(temp$sample.class)),\n",
    "                                        n.permut = 1000,\n",
    "                                        lambda = 0.3,\n",
    "                                        tao = 1,\n",
    "                                        save.object = FALSE,\n",
    "                                        verbose = FALSE,\n",
    "                                        estimate_pairwise = FALSE,\n",
    "                                        maxFDR = 0.25,\n",
    "                                        seed = 42)\n",
    "                    label<-paste('../results/','msk_panel_',finalname,'_meta_result.rds',sep=\"\")\n",
    "                    saveRDS(msk_result,file = label,compress = TRUE)\n",
    "                    rm(msk_result)                \n",
    "                cat('---Tumor Group---',tumor_group,\"--Done--\\n\")        \n",
    "                \n",
    "            }\n",
    "        }    \n",
    "\n",
    "    }\n",
    "    else if(name=='p_468'){\n",
    "        for(tumor_group in names(mapped_tumor_groups)){\n",
    "            samples<-(genie_metadata_15_msk_with_mutation_selected_final_atleast_100_samples %>% \n",
    "                      filter(SAMPLE_TYPE!='Primary' & SEQ_ASSAY_ID=='MSK-IMPACT468'& final_run_group==tumor_group)%>% group_by(final_class) %>% filter(n()>=30) %>% ungroup())$SAMPLE_ID\n",
    "            if(length(samples)>=30){\n",
    "                cat('---Tumor Group---',tumor_group,\"--\\n\")\n",
    "                    temp<- filter_run_data(run_data = msk_run_m_data,\n",
    "                                           gene_order = msk_run_gene_list$p_468,\n",
    "                                           sample_order =samples ) \n",
    "                    finalname<-paste(mapped_tumor_groups[tumor_group],name,sep=\"_\")\n",
    "                    label<-paste('../data/','msk_panel_',finalname,'_meta_run_data.rds',sep=\"\")\n",
    "                    saveRDS(temp,file = label,compress = TRUE)\n",
    "                    msk_result <- selectX(M = temp$M,\n",
    "                                        sample.class = temp$sample.class,\n",
    "                                        alteration.class = temp$alteration.class,\n",
    "                                        n.cores = 15,\n",
    "                                        min.freq = round(0.001*length(temp$sample.class)),\n",
    "                                        n.permut = 1000,\n",
    "                                        lambda = 0.3,\n",
    "                                        tao = 1,\n",
    "                                        save.object = FALSE,\n",
    "                                        verbose = FALSE,\n",
    "                                        estimate_pairwise = FALSE,\n",
    "                                        maxFDR = 0.25,\n",
    "                                        seed = 42)\n",
    "                    label<-paste('../results/','msk_panel_',finalname,'_meta_result.rds',sep=\"\")\n",
    "                    saveRDS(msk_result,file = label,compress = TRUE)\n",
    "                    rm(msk_result)                \n",
    "                cat('---Tumor Group---',tumor_group,\"--Done--\\n\")        \n",
    "                \n",
    "            }\n",
    "        } \n",
    "    }\n",
    "    else if(name=='p_410'){\n",
    "        for(tumor_group in names(mapped_tumor_groups)){\n",
    "            samples<-(genie_metadata_15_msk_with_mutation_selected_final_atleast_100_samples %>% \n",
    "                      filter(SAMPLE_TYPE!='Primary' & SEQ_ASSAY_ID=='MSK-IMPACT410'& final_run_group==tumor_group)%>% group_by(final_class) %>% filter(n()>=30) %>% ungroup())$SAMPLE_ID\n",
    "            if(length(samples)>=30){\n",
    "                cat('---Tumor Group---',tumor_group,\"--\\n\")\n",
    "                    temp<- filter_run_data(run_data = msk_run_m_data,\n",
    "                                           gene_order = msk_run_gene_list$p_410,\n",
    "                                           sample_order =samples ) \n",
    "                    finalname<-paste(mapped_tumor_groups[tumor_group],name,sep=\"_\")\n",
    "                    label<-paste('../data/','msk_panel_',finalname,'_meta_run_data.rds',sep=\"\")\n",
    "                    saveRDS(temp,file = label,compress = TRUE)\n",
    "                    msk_result <- selectX(M = temp$M,\n",
    "                                        sample.class = temp$sample.class,\n",
    "                                        alteration.class = temp$alteration.class,\n",
    "                                        n.cores = 15,\n",
    "                                        min.freq = round(0.001*length(temp$sample.class)),\n",
    "                                        n.permut = 1000,\n",
    "                                        lambda = 0.3,\n",
    "                                        tao = 1,\n",
    "                                        save.object = FALSE,\n",
    "                                        verbose = FALSE,\n",
    "                                        estimate_pairwise = FALSE,\n",
    "                                        maxFDR = 0.25,\n",
    "                                        seed = 42)\n",
    "                    label<-paste('../results/','msk_panel_',finalname,'_meta_result.rds',sep=\"\")\n",
    "                    saveRDS(msk_result,file = label,compress = TRUE)\n",
    "                    rm(msk_result)                \n",
    "                cat('---Tumor Group---',tumor_group,\"--Done--\\n\")        \n",
    "                \n",
    "            }\n",
    "        }   \n",
    "\n",
    "    }\n",
    "    else if(name=='p_341'){\n",
    "        for(tumor_group in names(mapped_tumor_groups)){\n",
    "            samples<-(genie_metadata_15_msk_with_mutation_selected_final_atleast_100_samples %>% \n",
    "                      filter(SAMPLE_TYPE!='Primary' & SEQ_ASSAY_ID=='MSK-IMPACT341'& final_run_group==tumor_group)%>% group_by(final_class) %>% filter(n()>=30) %>% ungroup())$SAMPLE_ID\n",
    "            if(length(samples)>=30){\n",
    "                cat('---Tumor Group---',tumor_group,\"--\\n\")\n",
    "                    temp<- filter_run_data(run_data = msk_run_m_data,\n",
    "                                           gene_order = msk_run_gene_list$p_341,\n",
    "                                           sample_order =samples ) \n",
    "                    finalname<-paste(mapped_tumor_groups[tumor_group],name,sep=\"_\")\n",
    "                    label<-paste('../data/','msk_panel_',finalname,'_meta_run_data.rds',sep=\"\")\n",
    "                    saveRDS(temp,file = label,compress = TRUE)\n",
    "                    msk_result <- selectX(M = temp$M,\n",
    "                                        sample.class = temp$sample.class,\n",
    "                                        alteration.class = temp$alteration.class,\n",
    "                                        n.cores = 15,\n",
    "                                        min.freq = round(0.001*length(temp$sample.class)),\n",
    "                                        n.permut = 1000,\n",
    "                                        lambda = 0.3,\n",
    "                                        tao = 1,\n",
    "                                        save.object = FALSE,\n",
    "                                        verbose = FALSE,\n",
    "                                        estimate_pairwise = FALSE,\n",
    "                                        maxFDR = 0.25,\n",
    "                                        seed = 42)\n",
    "                    label<-paste('../results/','msk_panel_',finalname,'_meta_result.rds',sep=\"\")\n",
    "                    saveRDS(msk_result,file = label,compress = TRUE)\n",
    "                    rm(msk_result)                \n",
    "                cat('---Tumor Group---',tumor_group,\"--Done--\\n\")        \n",
    "                \n",
    "            }\n",
    "        }   \n",
    "    }\n",
    "    else{\n",
    "        for(tumor_group in names(mapped_tumor_groups)){\n",
    "            samples<-(genie_metadata_15_msk_with_mutation_selected_final_atleast_100_samples %>% \n",
    "                      filter(SAMPLE_TYPE!='Primary' & SEQ_ASSAY_ID %in% c('MSK-IMPACT-HEME-400','MSK-IMPACT-HEME-468') & final_run_group==tumor_group)%>% group_by(final_class) %>% filter(n()>=30) %>% ungroup())$SAMPLE_ID\n",
    "            if(length(samples)>=30){\n",
    "                cat('---Tumor Group---',tumor_group,\"--\\n\")\n",
    "                    temp<- filter_run_data(run_data = msk_run_m_data,\n",
    "                                           gene_order = msk_run_gene_list$p_heme,\n",
    "                                           sample_order =samples ) \n",
    "                    finalname<-paste(mapped_tumor_groups[tumor_group],'heme',sep=\"_\")\n",
    "                    label<-paste('../data/','msk_panel_',finalname,'_meta_run_data.rds',sep=\"\")\n",
    "                    saveRDS(temp,file = label,compress = TRUE)\n",
    "                    msk_result <- selectX(M = temp$M,\n",
    "                                        sample.class = temp$sample.class,\n",
    "                                        alteration.class = temp$alteration.class,\n",
    "                                        n.cores = 15,\n",
    "                                        min.freq = round(0.001*length(temp$sample.class)),\n",
    "                                        n.permut = 1000,\n",
    "                                        lambda = 0.3,\n",
    "                                        tao = 1,\n",
    "                                        save.object = FALSE,\n",
    "                                        verbose = FALSE,\n",
    "                                        estimate_pairwise = FALSE,\n",
    "                                        maxFDR = 0.25,\n",
    "                                        seed = 42)\n",
    "                    label<-paste('../results/','msk_panel_',finalname,'_meta_result.rds',sep=\"\")\n",
    "                    saveRDS(msk_result,file = label,compress = TRUE)\n",
    "                    rm(msk_result)                \n",
    "                cat('---Tumor Group---',tumor_group,\"--Done--\\n\")        \n",
    "                \n",
    "            }\n",
    "        }   \n",
    "    }\n",
    " cat('\\n---Done---\\n')\n",
    "}"
   ]
  }
 ],
 "metadata": {
  "kernelspec": {
   "display_name": "R",
   "language": "R",
   "name": "ir"
  },
  "language_info": {
   "codemirror_mode": "r",
   "file_extension": ".r",
   "mimetype": "text/x-r-source",
   "name": "R",
   "pygments_lexer": "r",
   "version": "4.3.2"
  }
 },
 "nbformat": 4,
 "nbformat_minor": 5
}
