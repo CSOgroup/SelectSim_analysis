{
 "cells": [
  {
   "cell_type": "code",
   "execution_count": 1,
   "id": "92b93563-b022-4344-abc5-b5b55fc1b0f0",
   "metadata": {},
   "outputs": [
    {
     "name": "stderr",
     "output_type": "stream",
     "text": [
      "── \u001b[1mAttaching core tidyverse packages\u001b[22m ───────────────────────────────────────────────────────────────────────────────────────────────────────────────────────────────────── tidyverse 2.0.0 ──\n",
      "\u001b[32m✔\u001b[39m \u001b[34mdplyr    \u001b[39m 1.1.4     \u001b[32m✔\u001b[39m \u001b[34mreadr    \u001b[39m 2.1.5\n",
      "\u001b[32m✔\u001b[39m \u001b[34mforcats  \u001b[39m 1.0.0     \u001b[32m✔\u001b[39m \u001b[34mstringr  \u001b[39m 1.5.1\n",
      "\u001b[32m✔\u001b[39m \u001b[34mggplot2  \u001b[39m 3.4.4     \u001b[32m✔\u001b[39m \u001b[34mtibble   \u001b[39m 3.2.1\n",
      "\u001b[32m✔\u001b[39m \u001b[34mlubridate\u001b[39m 1.9.3     \u001b[32m✔\u001b[39m \u001b[34mtidyr    \u001b[39m 1.3.0\n",
      "\u001b[32m✔\u001b[39m \u001b[34mpurrr    \u001b[39m 1.0.2     \n",
      "── \u001b[1mConflicts\u001b[22m ─────────────────────────────────────────────────────────────────────────────────────────────────────────────────────────────────────────────────────── tidyverse_conflicts() ──\n",
      "\u001b[31m✖\u001b[39m \u001b[34mdplyr\u001b[39m::\u001b[32mfilter()\u001b[39m masks \u001b[34mstats\u001b[39m::filter()\n",
      "\u001b[31m✖\u001b[39m \u001b[34mdplyr\u001b[39m::\u001b[32mlag()\u001b[39m    masks \u001b[34mstats\u001b[39m::lag()\n",
      "\u001b[36mℹ\u001b[39m Use the conflicted package (\u001b[3m\u001b[34m<http://conflicted.r-lib.org/>\u001b[39m\u001b[23m) to force all conflicts to become errors\n"
     ]
    }
   ],
   "source": [
    "library('SelectSim')\n",
    "library('tidyverse')\n",
    "library('tictoc')"
   ]
  },
  {
   "cell_type": "code",
   "execution_count": 2,
   "id": "ff84cb9f-3d7a-404f-9b11-8dcbd99c65a6",
   "metadata": {
    "scrolled": true
   },
   "outputs": [
    {
     "data": {
      "text/plain": [
       "R version 4.3.2 (2023-10-31)\n",
       "Platform: x86_64-conda-linux-gnu (64-bit)\n",
       "Running under: CentOS Linux 7 (Core)\n",
       "\n",
       "Matrix products: default\n",
       "BLAS/LAPACK: /mnt/ndata/arvind/envs/R_4/lib/libopenblasp-r0.3.25.so;  LAPACK version 3.11.0\n",
       "\n",
       "locale:\n",
       " [1] LC_CTYPE=en_US.UTF-8       LC_NUMERIC=C              \n",
       " [3] LC_TIME=en_US.UTF-8        LC_COLLATE=en_US.UTF-8    \n",
       " [5] LC_MONETARY=en_US.UTF-8    LC_MESSAGES=en_US.UTF-8   \n",
       " [7] LC_PAPER=en_US.UTF-8       LC_NAME=C                 \n",
       " [9] LC_ADDRESS=C               LC_TELEPHONE=C            \n",
       "[11] LC_MEASUREMENT=en_US.UTF-8 LC_IDENTIFICATION=C       \n",
       "\n",
       "time zone: Europe/Zurich\n",
       "tzcode source: system (glibc)\n",
       "\n",
       "attached base packages:\n",
       "[1] stats     graphics  grDevices utils     datasets  methods   base     \n",
       "\n",
       "other attached packages:\n",
       " [1] tictoc_1.2        lubridate_1.9.3   forcats_1.0.0     stringr_1.5.1    \n",
       " [5] dplyr_1.1.4       purrr_1.0.2       readr_2.1.5       tidyr_1.3.0      \n",
       " [9] tibble_3.2.1      ggplot2_3.4.4     tidyverse_2.0.0   SelectSim_0.0.1.3\n",
       "\n",
       "loaded via a namespace (and not attached):\n",
       " [1] gtable_0.3.4       rstatix_0.7.2      lattice_0.22-5     tzdb_0.4.0        \n",
       " [5] vctrs_0.6.5        tools_4.3.2        generics_0.1.3     parallel_4.3.2    \n",
       " [9] fansi_1.0.6        pkgconfig_2.0.3    Matrix_1.6-5       ggridges_0.5.5    \n",
       "[13] rngtools_1.5.2     RcppParallel_5.1.6 uuid_1.2-0         lifecycle_1.0.4   \n",
       "[17] compiler_4.3.2     munsell_0.5.0      repr_1.1.6         codetools_0.2-19  \n",
       "[21] carData_3.0-5      htmltools_0.5.7    pillar_1.9.0       car_3.1-2         \n",
       "[25] ggpubr_0.6.0       crayon_1.5.2       doRNG_1.8.6        iterators_1.0.14  \n",
       "[29] abind_1.4-5        foreach_1.5.2      tidyselect_1.2.0   digest_0.6.34     \n",
       "[33] stringi_1.8.3      reshape2_1.4.4     fastmap_1.1.1      grid_4.3.2        \n",
       "[37] colorspace_2.1-0   cli_3.6.2          magrittr_2.0.3     base64enc_0.1-3   \n",
       "[41] Rfast_2.1.0        utf8_1.2.4         IRdisplay_1.1      broom_1.0.5       \n",
       "[45] withr_3.0.0        scales_1.3.0       backports_1.4.1    IRkernel_1.3.2    \n",
       "[49] RcppZiggurat_0.1.6 timechange_0.3.0   pbdZMQ_0.3-11      ggsignif_0.6.4    \n",
       "[53] hms_1.1.3          evaluate_0.23      doParallel_1.0.17  rlang_1.1.3       \n",
       "[57] Rcpp_1.0.12        glue_1.7.0         jsonlite_1.8.8     R6_2.5.1          \n",
       "[61] plyr_1.8.9        "
      ]
     },
     "metadata": {},
     "output_type": "display_data"
    }
   ],
   "source": [
    "sessionInfo()"
   ]
  },
  {
   "cell_type": "markdown",
   "id": "220c4f97-7cbf-4352-90e0-2ab9d8355d14",
   "metadata": {},
   "source": [
    "# Metadata and Results"
   ]
  },
  {
   "cell_type": "code",
   "execution_count": 3,
   "id": "cd981bbb-b60a-4ffe-b487-76912325a778",
   "metadata": {},
   "outputs": [],
   "source": [
    "all_merged_metadata <- readRDS(file='/mnt/ndata/arvind/co_mutation_project/data/processed/all_merged_data_genie_v15.rds')"
   ]
  },
  {
   "cell_type": "code",
   "execution_count": 4,
   "id": "a7ac6a6b-efea-480b-bf33-4f93cf657ac4",
   "metadata": {},
   "outputs": [],
   "source": [
    "all_merged_result<- readRDS(file='/mnt/ndata/arvind/co_mutation_project/analysis/catalogue/results/all_merged_results_v15.rds')"
   ]
  },
  {
   "cell_type": "code",
   "execution_count": 5,
   "id": "c784f30d-5cc7-40ff-aa1b-6a2cecf1a05f",
   "metadata": {},
   "outputs": [],
   "source": [
    "msk_gene_list <- readRDS('/mnt/ndata/arvind/co_mutation_project/analysis/catalogue/data/msk_oncokb_gene_run_list.rds')\n",
    "dfci_gene_list <- readRDS('/mnt/ndata/arvind/co_mutation_project/analysis/catalogue/data/dfci_oncokb_gene_run_list.rds')"
   ]
  },
  {
   "cell_type": "markdown",
   "id": "d8777cc7-36ae-4070-8982-ccf6fc86e3c1",
   "metadata": {},
   "source": [
    "# Analysis"
   ]
  },
  {
   "cell_type": "code",
   "execution_count": 6,
   "id": "4825a0b7-a853-4bd5-b217-eafaf7dbc6a6",
   "metadata": {},
   "outputs": [
    {
     "data": {
      "text/html": [
       "<table class=\"dataframe\">\n",
       "<caption>A data.frame: 2 × 10</caption>\n",
       "<thead>\n",
       "\t<tr><th></th><th scope=col>sample</th><th scope=col>class</th><th scope=col>tumor_run</th><th scope=col>oncotree</th><th scope=col>cancer_type</th><th scope=col>race</th><th scope=col>cohort</th><th scope=col>tumor_run_mapped</th><th scope=col>Tissue</th><th scope=col>final_tumor_run_mapped</th></tr>\n",
       "\t<tr><th></th><th scope=col>&lt;chr&gt;</th><th scope=col>&lt;chr&gt;</th><th scope=col>&lt;chr&gt;</th><th scope=col>&lt;chr&gt;</th><th scope=col>&lt;chr&gt;</th><th scope=col>&lt;chr&gt;</th><th scope=col>&lt;chr&gt;</th><th scope=col>&lt;chr&gt;</th><th scope=col>&lt;chr&gt;</th><th scope=col>&lt;chr&gt;</th></tr>\n",
       "</thead>\n",
       "<tbody>\n",
       "\t<tr><th scope=row>1</th><td>TCGA-OR-A5J5-01</td><td>ACC</td><td>ACC</td><td>ACC</td><td>Adrenocortical Carcinoma</td><td>White</td><td>TCGA</td><td>No mapping</td><td>Adrenal Gland</td><td>ACC</td></tr>\n",
       "\t<tr><th scope=row>2</th><td>TCGA-OR-A5JB-01</td><td>ACC</td><td>ACC</td><td>ACC</td><td>Adrenocortical Carcinoma</td><td>White</td><td>TCGA</td><td>No mapping</td><td>Adrenal Gland</td><td>ACC</td></tr>\n",
       "</tbody>\n",
       "</table>\n"
      ],
      "text/latex": [
       "A data.frame: 2 × 10\n",
       "\\begin{tabular}{r|llllllllll}\n",
       "  & sample & class & tumor\\_run & oncotree & cancer\\_type & race & cohort & tumor\\_run\\_mapped & Tissue & final\\_tumor\\_run\\_mapped\\\\\n",
       "  & <chr> & <chr> & <chr> & <chr> & <chr> & <chr> & <chr> & <chr> & <chr> & <chr>\\\\\n",
       "\\hline\n",
       "\t1 & TCGA-OR-A5J5-01 & ACC & ACC & ACC & Adrenocortical Carcinoma & White & TCGA & No mapping & Adrenal Gland & ACC\\\\\n",
       "\t2 & TCGA-OR-A5JB-01 & ACC & ACC & ACC & Adrenocortical Carcinoma & White & TCGA & No mapping & Adrenal Gland & ACC\\\\\n",
       "\\end{tabular}\n"
      ],
      "text/markdown": [
       "\n",
       "A data.frame: 2 × 10\n",
       "\n",
       "| <!--/--> | sample &lt;chr&gt; | class &lt;chr&gt; | tumor_run &lt;chr&gt; | oncotree &lt;chr&gt; | cancer_type &lt;chr&gt; | race &lt;chr&gt; | cohort &lt;chr&gt; | tumor_run_mapped &lt;chr&gt; | Tissue &lt;chr&gt; | final_tumor_run_mapped &lt;chr&gt; |\n",
       "|---|---|---|---|---|---|---|---|---|---|---|\n",
       "| 1 | TCGA-OR-A5J5-01 | ACC | ACC | ACC | Adrenocortical Carcinoma | White | TCGA | No mapping | Adrenal Gland | ACC |\n",
       "| 2 | TCGA-OR-A5JB-01 | ACC | ACC | ACC | Adrenocortical Carcinoma | White | TCGA | No mapping | Adrenal Gland | ACC |\n",
       "\n"
      ],
      "text/plain": [
       "  sample          class tumor_run oncotree cancer_type              race \n",
       "1 TCGA-OR-A5J5-01 ACC   ACC       ACC      Adrenocortical Carcinoma White\n",
       "2 TCGA-OR-A5JB-01 ACC   ACC       ACC      Adrenocortical Carcinoma White\n",
       "  cohort tumor_run_mapped Tissue        final_tumor_run_mapped\n",
       "1 TCGA   No mapping       Adrenal Gland ACC                   \n",
       "2 TCGA   No mapping       Adrenal Gland ACC                   "
      ]
     },
     "metadata": {},
     "output_type": "display_data"
    }
   ],
   "source": [
    "head(all_merged_metadata,2)"
   ]
  },
  {
   "cell_type": "code",
   "execution_count": 7,
   "id": "dce71e3e-1b32-465e-ab20-28afa3d7024d",
   "metadata": {},
   "outputs": [
    {
     "data": {
      "text/html": [
       "<table class=\"dataframe\">\n",
       "<caption>A data.frame: 2 × 26</caption>\n",
       "<thead>\n",
       "\t<tr><th></th><th scope=col>SFE_1</th><th scope=col>SFE_2</th><th scope=col>name</th><th scope=col>support_1</th><th scope=col>support_2</th><th scope=col>freq_1</th><th scope=col>freq_2</th><th scope=col>overlap</th><th scope=col>w_overlap</th><th scope=col>max_overlap</th><th scope=col>⋯</th><th scope=col>mean_r_nES</th><th scope=col>nFDR</th><th scope=col>cum_freq</th><th scope=col>nFDR2</th><th scope=col>type</th><th scope=col>FDR</th><th scope=col>Cohort</th><th scope=col>Panel</th><th scope=col>Tumor_run</th><th scope=col>Mapped_Tumor_run</th></tr>\n",
       "\t<tr><th></th><th scope=col>&lt;chr&gt;</th><th scope=col>&lt;chr&gt;</th><th scope=col>&lt;chr&gt;</th><th scope=col>&lt;dbl&gt;</th><th scope=col>&lt;dbl&gt;</th><th scope=col>&lt;dbl&gt;</th><th scope=col>&lt;dbl&gt;</th><th scope=col>&lt;dbl&gt;</th><th scope=col>&lt;dbl&gt;</th><th scope=col>&lt;dbl&gt;</th><th scope=col>⋯</th><th scope=col>&lt;dbl&gt;</th><th scope=col>&lt;dbl&gt;</th><th scope=col>&lt;dbl&gt;</th><th scope=col>&lt;dbl&gt;</th><th scope=col>&lt;chr&gt;</th><th scope=col>&lt;lgl&gt;</th><th scope=col>&lt;chr&gt;</th><th scope=col>&lt;chr&gt;</th><th scope=col>&lt;chr&gt;</th><th scope=col>&lt;chr&gt;</th></tr>\n",
       "</thead>\n",
       "<tbody>\n",
       "\t<tr><th scope=row>1</th><td>PIK3CA</td><td>TP53</td><td>PIK3CA - TP53</td><td>1136</td><td>3030</td><td>0.12508258</td><td>0.333627</td><td>357</td><td>317.52971</td><td>669</td><td>⋯</td><td>-7.357413</td><td>0</td><td>4166</td><td>0</td><td>ME</td><td>TRUE</td><td>TCGA</td><td>WES</td><td>Pan-can</td><td>Pan-can</td></tr>\n",
       "\t<tr><th scope=row>2</th><td>BRAF  </td><td>TP53</td><td>BRAF - TP53  </td><td> 611</td><td>3030</td><td>0.06727593</td><td>0.333627</td><td> 82</td><td> 53.39755</td><td>180</td><td>⋯</td><td>-4.784206</td><td>0</td><td>3641</td><td>0</td><td>ME</td><td>TRUE</td><td>TCGA</td><td>WES</td><td>Pan-can</td><td>Pan-can</td></tr>\n",
       "</tbody>\n",
       "</table>\n"
      ],
      "text/latex": [
       "A data.frame: 2 × 26\n",
       "\\begin{tabular}{r|lllllllllllllllllllll}\n",
       "  & SFE\\_1 & SFE\\_2 & name & support\\_1 & support\\_2 & freq\\_1 & freq\\_2 & overlap & w\\_overlap & max\\_overlap & ⋯ & mean\\_r\\_nES & nFDR & cum\\_freq & nFDR2 & type & FDR & Cohort & Panel & Tumor\\_run & Mapped\\_Tumor\\_run\\\\\n",
       "  & <chr> & <chr> & <chr> & <dbl> & <dbl> & <dbl> & <dbl> & <dbl> & <dbl> & <dbl> & ⋯ & <dbl> & <dbl> & <dbl> & <dbl> & <chr> & <lgl> & <chr> & <chr> & <chr> & <chr>\\\\\n",
       "\\hline\n",
       "\t1 & PIK3CA & TP53 & PIK3CA - TP53 & 1136 & 3030 & 0.12508258 & 0.333627 & 357 & 317.52971 & 669 & ⋯ & -7.357413 & 0 & 4166 & 0 & ME & TRUE & TCGA & WES & Pan-can & Pan-can\\\\\n",
       "\t2 & BRAF   & TP53 & BRAF - TP53   &  611 & 3030 & 0.06727593 & 0.333627 &  82 &  53.39755 & 180 & ⋯ & -4.784206 & 0 & 3641 & 0 & ME & TRUE & TCGA & WES & Pan-can & Pan-can\\\\\n",
       "\\end{tabular}\n"
      ],
      "text/markdown": [
       "\n",
       "A data.frame: 2 × 26\n",
       "\n",
       "| <!--/--> | SFE_1 &lt;chr&gt; | SFE_2 &lt;chr&gt; | name &lt;chr&gt; | support_1 &lt;dbl&gt; | support_2 &lt;dbl&gt; | freq_1 &lt;dbl&gt; | freq_2 &lt;dbl&gt; | overlap &lt;dbl&gt; | w_overlap &lt;dbl&gt; | max_overlap &lt;dbl&gt; | ⋯ ⋯ | mean_r_nES &lt;dbl&gt; | nFDR &lt;dbl&gt; | cum_freq &lt;dbl&gt; | nFDR2 &lt;dbl&gt; | type &lt;chr&gt; | FDR &lt;lgl&gt; | Cohort &lt;chr&gt; | Panel &lt;chr&gt; | Tumor_run &lt;chr&gt; | Mapped_Tumor_run &lt;chr&gt; |\n",
       "|---|---|---|---|---|---|---|---|---|---|---|---|---|---|---|---|---|---|---|---|---|---|\n",
       "| 1 | PIK3CA | TP53 | PIK3CA - TP53 | 1136 | 3030 | 0.12508258 | 0.333627 | 357 | 317.52971 | 669 | ⋯ | -7.357413 | 0 | 4166 | 0 | ME | TRUE | TCGA | WES | Pan-can | Pan-can |\n",
       "| 2 | BRAF   | TP53 | BRAF - TP53   |  611 | 3030 | 0.06727593 | 0.333627 |  82 |  53.39755 | 180 | ⋯ | -4.784206 | 0 | 3641 | 0 | ME | TRUE | TCGA | WES | Pan-can | Pan-can |\n",
       "\n"
      ],
      "text/plain": [
       "  SFE_1  SFE_2 name          support_1 support_2 freq_1     freq_2   overlap\n",
       "1 PIK3CA TP53  PIK3CA - TP53 1136      3030      0.12508258 0.333627 357    \n",
       "2 BRAF   TP53  BRAF - TP53    611      3030      0.06727593 0.333627  82    \n",
       "  w_overlap max_overlap ⋯ mean_r_nES nFDR cum_freq nFDR2 type FDR  Cohort Panel\n",
       "1 317.52971 669         ⋯ -7.357413  0    4166     0     ME   TRUE TCGA   WES  \n",
       "2  53.39755 180         ⋯ -4.784206  0    3641     0     ME   TRUE TCGA   WES  \n",
       "  Tumor_run Mapped_Tumor_run\n",
       "1 Pan-can   Pan-can         \n",
       "2 Pan-can   Pan-can         "
      ]
     },
     "metadata": {},
     "output_type": "display_data"
    }
   ],
   "source": [
    "head(all_merged_result,2)"
   ]
  },
  {
   "cell_type": "markdown",
   "id": "ad802b21-1083-44fa-ae82-5b698db0da1d",
   "metadata": {},
   "source": [
    "# Pan-Can Consistent Hits Strategy\n",
    "- Extract the significant hits (pair+type) at eFDR <=0.25\n",
    "    - For MSK-P and DFCI-P found in all gene panel + hits found from specific panels (refer methods for more details)  \n",
    "- Found in at-least 2 dataset (TCGA, MSK-P, DFCI-P)"
   ]
  },
  {
   "cell_type": "code",
   "execution_count": 8,
   "id": "2403d8bd-7223-4737-b449-470a85efc7b9",
   "metadata": {},
   "outputs": [],
   "source": [
    "all_merged_result_pan_can <- all_merged_result %>% filter(Tumor_run=='Pan-can')"
   ]
  },
  {
   "cell_type": "code",
   "execution_count": 9,
   "id": "81b2ae86-7116-4872-9b89-e678991c4149",
   "metadata": {},
   "outputs": [
    {
     "data": {
      "text/html": [
       "<style>\n",
       ".list-inline {list-style: none; margin:0; padding: 0}\n",
       ".list-inline>li {display: inline-block}\n",
       ".list-inline>li:not(:last-child)::after {content: \"\\00b7\"; padding: 0 .5ex}\n",
       "</style>\n",
       "<ol class=list-inline><li>445055</li><li>26</li></ol>\n"
      ],
      "text/latex": [
       "\\begin{enumerate*}\n",
       "\\item 445055\n",
       "\\item 26\n",
       "\\end{enumerate*}\n"
      ],
      "text/markdown": [
       "1. 445055\n",
       "2. 26\n",
       "\n",
       "\n"
      ],
      "text/plain": [
       "[1] 445055     26"
      ]
     },
     "metadata": {},
     "output_type": "display_data"
    }
   ],
   "source": [
    "dim(all_merged_result_pan_can)"
   ]
  },
  {
   "cell_type": "code",
   "execution_count": 10,
   "id": "aa58a0fa-de37-4268-ac68-517dbf2bc75c",
   "metadata": {},
   "outputs": [],
   "source": [
    "all_merged_result_pan_can<-all_merged_result_pan_can %>% mutate(id=case_when(SFE_1>SFE_2 ~paste(SFE_2,SFE_1,sep=\" - \"),\n",
    "                                                  SFE_1<SFE_2 ~paste(SFE_1,SFE_2,sep=\" - \"))) %>% mutate(id_type=paste(id,type,sep=\"_\"))"
   ]
  },
  {
   "cell_type": "code",
   "execution_count": 11,
   "id": "dc85c9d2-5341-4b84-87fc-f61ced4fd0b4",
   "metadata": {},
   "outputs": [
    {
     "data": {
      "text/html": [
       "<style>\n",
       ".list-inline {list-style: none; margin:0; padding: 0}\n",
       ".list-inline>li {display: inline-block}\n",
       ".list-inline>li:not(:last-child)::after {content: \"\\00b7\"; padding: 0 .5ex}\n",
       "</style>\n",
       "<ol class=list-inline><li>445055</li><li>28</li></ol>\n"
      ],
      "text/latex": [
       "\\begin{enumerate*}\n",
       "\\item 445055\n",
       "\\item 28\n",
       "\\end{enumerate*}\n"
      ],
      "text/markdown": [
       "1. 445055\n",
       "2. 28\n",
       "\n",
       "\n"
      ],
      "text/plain": [
       "[1] 445055     28"
      ]
     },
     "metadata": {},
     "output_type": "display_data"
    }
   ],
   "source": [
    "dim(all_merged_result_pan_can)"
   ]
  },
  {
   "cell_type": "code",
   "execution_count": 12,
   "id": "34c60d48-80d8-4292-ac3a-ccb1b97c21f5",
   "metadata": {},
   "outputs": [
    {
     "data": {
      "text/html": [
       "<table class=\"dataframe\">\n",
       "<caption>A data.frame: 2 × 28</caption>\n",
       "<thead>\n",
       "\t<tr><th></th><th scope=col>SFE_1</th><th scope=col>SFE_2</th><th scope=col>name</th><th scope=col>support_1</th><th scope=col>support_2</th><th scope=col>freq_1</th><th scope=col>freq_2</th><th scope=col>overlap</th><th scope=col>w_overlap</th><th scope=col>max_overlap</th><th scope=col>⋯</th><th scope=col>cum_freq</th><th scope=col>nFDR2</th><th scope=col>type</th><th scope=col>FDR</th><th scope=col>Cohort</th><th scope=col>Panel</th><th scope=col>Tumor_run</th><th scope=col>Mapped_Tumor_run</th><th scope=col>id</th><th scope=col>id_type</th></tr>\n",
       "\t<tr><th></th><th scope=col>&lt;chr&gt;</th><th scope=col>&lt;chr&gt;</th><th scope=col>&lt;chr&gt;</th><th scope=col>&lt;dbl&gt;</th><th scope=col>&lt;dbl&gt;</th><th scope=col>&lt;dbl&gt;</th><th scope=col>&lt;dbl&gt;</th><th scope=col>&lt;dbl&gt;</th><th scope=col>&lt;dbl&gt;</th><th scope=col>&lt;dbl&gt;</th><th scope=col>⋯</th><th scope=col>&lt;dbl&gt;</th><th scope=col>&lt;dbl&gt;</th><th scope=col>&lt;chr&gt;</th><th scope=col>&lt;lgl&gt;</th><th scope=col>&lt;chr&gt;</th><th scope=col>&lt;chr&gt;</th><th scope=col>&lt;chr&gt;</th><th scope=col>&lt;chr&gt;</th><th scope=col>&lt;chr&gt;</th><th scope=col>&lt;chr&gt;</th></tr>\n",
       "</thead>\n",
       "<tbody>\n",
       "\t<tr><th scope=row>1</th><td>PIK3CA</td><td>TP53</td><td>PIK3CA - TP53</td><td>1136</td><td>3030</td><td>0.12508258</td><td>0.333627</td><td>357</td><td>317.52971</td><td>669</td><td>⋯</td><td>4166</td><td>0</td><td>ME</td><td>TRUE</td><td>TCGA</td><td>WES</td><td>Pan-can</td><td>Pan-can</td><td>PIK3CA - TP53</td><td>PIK3CA - TP53_ME</td></tr>\n",
       "\t<tr><th scope=row>2</th><td>BRAF  </td><td>TP53</td><td>BRAF - TP53  </td><td> 611</td><td>3030</td><td>0.06727593</td><td>0.333627</td><td> 82</td><td> 53.39755</td><td>180</td><td>⋯</td><td>3641</td><td>0</td><td>ME</td><td>TRUE</td><td>TCGA</td><td>WES</td><td>Pan-can</td><td>Pan-can</td><td>BRAF - TP53  </td><td>BRAF - TP53_ME  </td></tr>\n",
       "</tbody>\n",
       "</table>\n"
      ],
      "text/latex": [
       "A data.frame: 2 × 28\n",
       "\\begin{tabular}{r|lllllllllllllllllllll}\n",
       "  & SFE\\_1 & SFE\\_2 & name & support\\_1 & support\\_2 & freq\\_1 & freq\\_2 & overlap & w\\_overlap & max\\_overlap & ⋯ & cum\\_freq & nFDR2 & type & FDR & Cohort & Panel & Tumor\\_run & Mapped\\_Tumor\\_run & id & id\\_type\\\\\n",
       "  & <chr> & <chr> & <chr> & <dbl> & <dbl> & <dbl> & <dbl> & <dbl> & <dbl> & <dbl> & ⋯ & <dbl> & <dbl> & <chr> & <lgl> & <chr> & <chr> & <chr> & <chr> & <chr> & <chr>\\\\\n",
       "\\hline\n",
       "\t1 & PIK3CA & TP53 & PIK3CA - TP53 & 1136 & 3030 & 0.12508258 & 0.333627 & 357 & 317.52971 & 669 & ⋯ & 4166 & 0 & ME & TRUE & TCGA & WES & Pan-can & Pan-can & PIK3CA - TP53 & PIK3CA - TP53\\_ME\\\\\n",
       "\t2 & BRAF   & TP53 & BRAF - TP53   &  611 & 3030 & 0.06727593 & 0.333627 &  82 &  53.39755 & 180 & ⋯ & 3641 & 0 & ME & TRUE & TCGA & WES & Pan-can & Pan-can & BRAF - TP53   & BRAF - TP53\\_ME  \\\\\n",
       "\\end{tabular}\n"
      ],
      "text/markdown": [
       "\n",
       "A data.frame: 2 × 28\n",
       "\n",
       "| <!--/--> | SFE_1 &lt;chr&gt; | SFE_2 &lt;chr&gt; | name &lt;chr&gt; | support_1 &lt;dbl&gt; | support_2 &lt;dbl&gt; | freq_1 &lt;dbl&gt; | freq_2 &lt;dbl&gt; | overlap &lt;dbl&gt; | w_overlap &lt;dbl&gt; | max_overlap &lt;dbl&gt; | ⋯ ⋯ | cum_freq &lt;dbl&gt; | nFDR2 &lt;dbl&gt; | type &lt;chr&gt; | FDR &lt;lgl&gt; | Cohort &lt;chr&gt; | Panel &lt;chr&gt; | Tumor_run &lt;chr&gt; | Mapped_Tumor_run &lt;chr&gt; | id &lt;chr&gt; | id_type &lt;chr&gt; |\n",
       "|---|---|---|---|---|---|---|---|---|---|---|---|---|---|---|---|---|---|---|---|---|---|\n",
       "| 1 | PIK3CA | TP53 | PIK3CA - TP53 | 1136 | 3030 | 0.12508258 | 0.333627 | 357 | 317.52971 | 669 | ⋯ | 4166 | 0 | ME | TRUE | TCGA | WES | Pan-can | Pan-can | PIK3CA - TP53 | PIK3CA - TP53_ME |\n",
       "| 2 | BRAF   | TP53 | BRAF - TP53   |  611 | 3030 | 0.06727593 | 0.333627 |  82 |  53.39755 | 180 | ⋯ | 3641 | 0 | ME | TRUE | TCGA | WES | Pan-can | Pan-can | BRAF - TP53   | BRAF - TP53_ME   |\n",
       "\n"
      ],
      "text/plain": [
       "  SFE_1  SFE_2 name          support_1 support_2 freq_1     freq_2   overlap\n",
       "1 PIK3CA TP53  PIK3CA - TP53 1136      3030      0.12508258 0.333627 357    \n",
       "2 BRAF   TP53  BRAF - TP53    611      3030      0.06727593 0.333627  82    \n",
       "  w_overlap max_overlap ⋯ cum_freq nFDR2 type FDR  Cohort Panel Tumor_run\n",
       "1 317.52971 669         ⋯ 4166     0     ME   TRUE TCGA   WES   Pan-can  \n",
       "2  53.39755 180         ⋯ 3641     0     ME   TRUE TCGA   WES   Pan-can  \n",
       "  Mapped_Tumor_run id            id_type         \n",
       "1 Pan-can          PIK3CA - TP53 PIK3CA - TP53_ME\n",
       "2 Pan-can          BRAF - TP53   BRAF - TP53_ME  "
      ]
     },
     "metadata": {},
     "output_type": "display_data"
    }
   ],
   "source": [
    "head(all_merged_result_pan_can,2)"
   ]
  },
  {
   "cell_type": "code",
   "execution_count": 13,
   "id": "cd1aa190-06ee-43fd-93b8-343cde3fb5d1",
   "metadata": {},
   "outputs": [],
   "source": [
    "all<-all_merged_result_pan_can"
   ]
  },
  {
   "cell_type": "code",
   "execution_count": 14,
   "id": "617e92d7-f4d2-4ae1-ab7b-fde9d39b4b4a",
   "metadata": {
    "scrolled": true
   },
   "outputs": [],
   "source": [
    "pan_can_dfci_hits<- unique(all$id_type[ all$Cohort =='DFCI Primary' & all$nFDR2 <=0.25 & all$Tumor_run == 'Pan-can'])\n",
    "to_remove <- unique(all$id_type[ all$Cohort =='DFCI Primary' & all$nFDR2 > 0.25 & all$Tumor_run == 'Pan-can' & all$Panel=='all'])\n",
    "pan_can_dfci_hits<- pan_can_dfci_hits[ !(pan_can_dfci_hits %in% to_remove)]"
   ]
  },
  {
   "cell_type": "code",
   "execution_count": 15,
   "id": "75e150c9-9976-4cd8-8ec3-9cc7edf19c06",
   "metadata": {},
   "outputs": [],
   "source": [
    "pan_can_msk_hits<- unique(all_merged_result_pan_can$id_type[ all$Cohort =='MSK Primary' & all$nFDR2 <=0.25 & all$Tumor_run == 'Pan-can'])\n",
    "to_remove <- unique(all_merged_result_pan_can$id_type[ all$Cohort =='MSK Primary' & all$nFDR2 > 0.25 & all$Tumor_run == 'Pan-can' & all$Panel=='all'])\n",
    "pan_can_msk_hits<- pan_can_msk_hits[ !(pan_can_msk_hits %in% to_remove)]"
   ]
  },
  {
   "cell_type": "code",
   "execution_count": 16,
   "id": "15b13bfc-1aef-444c-a4dd-318d63deff08",
   "metadata": {},
   "outputs": [],
   "source": [
    "pan_can_tcga_hits<- unique(all_merged_result_pan_can$id_type[ all$Cohort =='TCGA' & all$nFDR2 <=0.25 & all$Tumor_run == 'Pan-can'])"
   ]
  },
  {
   "cell_type": "code",
   "execution_count": 17,
   "id": "5ae53a77-a072-46f9-b39d-219b860bb82a",
   "metadata": {},
   "outputs": [
    {
     "data": {
      "text/html": [
       "222"
      ],
      "text/latex": [
       "222"
      ],
      "text/markdown": [
       "222"
      ],
      "text/plain": [
       "[1] 222"
      ]
     },
     "metadata": {},
     "output_type": "display_data"
    },
    {
     "data": {
      "text/html": [
       "332"
      ],
      "text/latex": [
       "332"
      ],
      "text/markdown": [
       "332"
      ],
      "text/plain": [
       "[1] 332"
      ]
     },
     "metadata": {},
     "output_type": "display_data"
    },
    {
     "data": {
      "text/html": [
       "974"
      ],
      "text/latex": [
       "974"
      ],
      "text/markdown": [
       "974"
      ],
      "text/plain": [
       "[1] 974"
      ]
     },
     "metadata": {},
     "output_type": "display_data"
    }
   ],
   "source": [
    "length(pan_can_tcga_hits)\n",
    "length(pan_can_dfci_hits)\n",
    "length(pan_can_msk_hits)"
   ]
  },
  {
   "cell_type": "code",
   "execution_count": 18,
   "id": "0564c50c-a5aa-4bae-a479-2fdff126c41f",
   "metadata": {},
   "outputs": [],
   "source": [
    "pan_select <- table(c(pan_can_tcga_hits,pan_can_dfci_hits,pan_can_msk_hits))"
   ]
  },
  {
   "cell_type": "code",
   "execution_count": 19,
   "id": "c6ded3b0-4499-4367-969b-9bbd24436754",
   "metadata": {},
   "outputs": [
    {
     "data": {
      "text/html": [
       "321"
      ],
      "text/latex": [
       "321"
      ],
      "text/markdown": [
       "321"
      ],
      "text/plain": [
       "[1] 321"
      ]
     },
     "metadata": {},
     "output_type": "display_data"
    }
   ],
   "source": [
    "length(names(pan_select)[pan_select>1])"
   ]
  },
  {
   "cell_type": "code",
   "execution_count": 20,
   "id": "0b76ec1a-94fe-40e9-bb32-14e697e7c855",
   "metadata": {},
   "outputs": [],
   "source": [
    "consistent_hit <- list('fdr_25'=list('tcga'=all_merged_result_pan_can %>% filter(nFDR2<=0.25 & Cohort=='TCGA') %>% filter(id_type %in% pan_can_tcga_hits),\n",
    "                                    'msk_p'=all_merged_result_pan_can %>% filter(nFDR2<=0.25 & Cohort=='MSK Primary') %>% filter(id_type %in% pan_can_msk_hits),\n",
    "                                    'dfci_p'=all_merged_result_pan_can %>% filter(nFDR2<=0.25 & Cohort=='DFCI Primary') %>% filter(id_type %in% pan_can_dfci_hits)))"
   ]
  },
  {
   "cell_type": "code",
   "execution_count": 21,
   "id": "34715bce-fcdd-4093-8a86-75cc3c60061f",
   "metadata": {
    "scrolled": true
   },
   "outputs": [
    {
     "name": "stdout",
     "output_type": "stream",
     "text": [
      "List of 1\n",
      " $ fdr_25:List of 3\n",
      "  ..$ tcga  :'data.frame':\t222 obs. of  28 variables:\n",
      "  .. ..$ SFE_1           : chr [1:222] \"PIK3CA\" \"BRAF\" \"TP53\" \"BRAF\" ...\n",
      "  .. ..$ SFE_2           : chr [1:222] \"TP53\" \"TP53\" \"ARID1A\" \"NRAS\" ...\n",
      "  .. ..$ name            : chr [1:222] \"PIK3CA - TP53\" \"BRAF - TP53\" \"TP53 - ARID1A\" \"BRAF - NRAS\" ...\n",
      "  .. ..$ support_1       : num [1:222] 1136 611 3030 611 334 ...\n",
      "  .. ..$ support_2       : num [1:222] 3030 3030 571 240 3030 3030 3030 286 571 684 ...\n",
      "  .. ..$ freq_1          : num [1:222] 0.1251 0.0673 0.3336 0.0673 0.0368 ...\n",
      "  .. ..$ freq_2          : num [1:222] 0.3336 0.3336 0.0629 0.0264 0.3336 ...\n",
      "  .. ..$ overlap         : num [1:222] 357 82 147 13 225 158 50 162 201 16 ...\n",
      "  .. ..$ w_overlap       : num [1:222] 317.53 53.4 115.19 6.35 202.01 ...\n",
      "  .. ..$ max_overlap     : num [1:222] 669 180 371 191 334 385 229 193 359 125 ...\n",
      "  .. ..$ freq_overlap    : num [1:222] 0.5336 0.4556 0.3962 0.0681 0.6737 ...\n",
      "  .. ..$ r_overlap       : num [1:222] 485.2 181.9 243.4 99.8 199.3 ...\n",
      "  .. ..$ w_r_overlap     : num [1:222] 393.6 122.7 170.5 55.1 154.3 ...\n",
      "  .. ..$ wES             : num [1:222] -53.8 -49 -39.1 -34.5 33.7 ...\n",
      "  .. ..$ wFDR            : num [1:222] 0 0 0 0 0 ...\n",
      "  .. ..$ nES             : num [1:222] -46.4 -44.2 -34.1 -31.8 29.4 ...\n",
      "  .. ..$ mean_r_nES      : num [1:222] -7.36 -4.78 -4.99 -2.7 4.33 ...\n",
      "  .. ..$ nFDR            : num [1:222] 0 0 0 0 0 ...\n",
      "  .. ..$ cum_freq        : num [1:222] 4166 3641 3601 851 3364 ...\n",
      "  .. ..$ nFDR2           : num [1:222] 0 0 0 0 0 0 0 0 0 0 ...\n",
      "  .. ..$ type            : chr [1:222] \"ME\" \"ME\" \"ME\" \"ME\" ...\n",
      "  .. ..$ FDR             : logi [1:222] TRUE TRUE TRUE TRUE TRUE TRUE ...\n",
      "  .. ..$ Cohort          : chr [1:222] \"TCGA\" \"TCGA\" \"TCGA\" \"TCGA\" ...\n",
      "  .. ..$ Panel           : chr [1:222] \"WES\" \"WES\" \"WES\" \"WES\" ...\n",
      "  .. ..$ Tumor_run       : Named chr [1:222] \"Pan-can\" \"Pan-can\" \"Pan-can\" \"Pan-can\" ...\n",
      "  .. .. ..- attr(*, \"names\")= chr [1:222] NA NA NA NA ...\n",
      "  .. ..$ Mapped_Tumor_run: Named chr [1:222] \"Pan-can\" \"Pan-can\" \"Pan-can\" \"Pan-can\" ...\n",
      "  .. .. ..- attr(*, \"names\")= chr [1:222] \"\" \"\" \"\" \"\" ...\n",
      "  .. ..$ id              : chr [1:222] \"PIK3CA - TP53\" \"BRAF - TP53\" \"ARID1A - TP53\" \"BRAF - NRAS\" ...\n",
      "  .. ..$ id_type         : chr [1:222] \"PIK3CA - TP53_ME\" \"BRAF - TP53_ME\" \"ARID1A - TP53_ME\" \"BRAF - NRAS_ME\" ...\n",
      "  ..$ msk_p :'data.frame':\t1813 obs. of  28 variables:\n",
      "  .. ..$ SFE_1           : chr [1:1813] \"TP53\" \"KRAS\" \"PTEN\" \"ARID1A\" ...\n",
      "  .. ..$ SFE_2           : chr [1:1813] \"PIK3CA\" \"EGFR\" \"TP53\" \"TP53\" ...\n",
      "  .. ..$ name            : chr [1:1813] \"TP53 - PIK3CA\" \"KRAS - EGFR\" \"PTEN - TP53\" \"ARID1A - TP53\" ...\n",
      "  .. ..$ support_1       : num [1:1813] 12075 5622 2469 2866 5622 ...\n",
      "  .. ..$ support_2       : num [1:1813] 3970 1259 12075 12075 12075 ...\n",
      "  .. ..$ freq_1          : num [1:1813] 0.434 0.202 0.0887 0.103 0.202 ...\n",
      "  .. ..$ freq_2          : num [1:1813] 0.1427 0.0452 0.434 0.434 0.434 ...\n",
      "  .. ..$ overlap         : num [1:1813] 1429 36 695 988 2773 ...\n",
      "  .. ..$ w_overlap       : num [1:1813] 1055.3 15.1 468.9 630.9 2418.5 ...\n",
      "  .. ..$ max_overlap     : num [1:1813] 3243 1032 1655 2150 5013 ...\n",
      "  .. ..$ freq_overlap    : num [1:1813] 0.4406 0.0349 0.4199 0.4595 0.5532 ...\n",
      "  .. ..$ r_overlap       : num [1:1813] 2173 487 1136 1469 3415 ...\n",
      "  .. ..$ w_r_overlap     : num [1:1813] 1493 296 727 884 2628 ...\n",
      "  .. ..$ wES             : num [1:1813] -309 -199 -182 -179 -148 ...\n",
      "  .. ..$ wFDR            : num [1:1813] 0 0 0 0 0 0 0 0 0 0 ...\n",
      "  .. ..$ nES             : num [1:1813] -296 -192 -172 -168 -133 ...\n",
      "  .. ..$ mean_r_nES      : num [1:1813] -13.02 -6.25 -9.87 -10.76 -15.03 ...\n",
      "  .. ..$ nFDR            : num [1:1813] 0 0 0 0 0 0 0 0 0 0 ...\n",
      "  .. ..$ cum_freq        : num [1:1813] 16045 6881 14544 14941 17697 ...\n",
      "  .. ..$ nFDR2           : num [1:1813] 0 0 0 0 0 0 0 0 0 0 ...\n",
      "  .. ..$ type            : chr [1:1813] \"ME\" \"ME\" \"ME\" \"ME\" ...\n",
      "  .. ..$ FDR             : logi [1:1813] TRUE TRUE TRUE TRUE TRUE TRUE ...\n",
      "  .. ..$ Cohort          : chr [1:1813] \"MSK Primary\" \"MSK Primary\" \"MSK Primary\" \"MSK Primary\" ...\n",
      "  .. ..$ Panel           : chr [1:1813] \"all\" \"all\" \"all\" \"all\" ...\n",
      "  .. ..$ Tumor_run       : Named chr [1:1813] \"Pan-can\" \"Pan-can\" \"Pan-can\" \"Pan-can\" ...\n",
      "  .. .. ..- attr(*, \"names\")= chr [1:1813] NA NA NA NA ...\n",
      "  .. ..$ Mapped_Tumor_run: Named chr [1:1813] \"Pan-can\" \"Pan-can\" \"Pan-can\" \"Pan-can\" ...\n",
      "  .. .. ..- attr(*, \"names\")= chr [1:1813] \"\" \"\" \"\" \"\" ...\n",
      "  .. ..$ id              : chr [1:1813] \"PIK3CA - TP53\" \"EGFR - KRAS\" \"PTEN - TP53\" \"ARID1A - TP53\" ...\n",
      "  .. ..$ id_type         : chr [1:1813] \"PIK3CA - TP53_ME\" \"EGFR - KRAS_ME\" \"PTEN - TP53_ME\" \"ARID1A - TP53_ME\" ...\n",
      "  ..$ dfci_p:'data.frame':\t618 obs. of  28 variables:\n",
      "  .. ..$ SFE_1           : chr [1:618] \"TP53\" \"KRAS\" \"TP53\" \"PTEN\" ...\n",
      "  .. ..$ SFE_2           : chr [1:618] \"PIK3CA\" \"EGFR\" \"APC\" \"TP53\" ...\n",
      "  .. ..$ name            : chr [1:618] \"TP53 - PIK3CA\" \"KRAS - EGFR\" \"TP53 - APC\" \"PTEN - TP53\" ...\n",
      "  .. ..$ support_1       : num [1:618] 6217 2773 6217 1367 2773 ...\n",
      "  .. ..$ support_2       : num [1:618] 1968 739 2000 6217 922 ...\n",
      "  .. ..$ freq_1          : num [1:618] 0.4242 0.1892 0.4242 0.0933 0.1892 ...\n",
      "  .. ..$ freq_2          : num [1:618] 0.1343 0.0504 0.1365 0.4242 0.0629 ...\n",
      "  .. ..$ overlap         : num [1:618] 738 31 1329 436 65 ...\n",
      "  .. ..$ w_overlap       : num [1:618] 579.5 19.1 1124.4 336.7 43.7 ...\n",
      "  .. ..$ max_overlap     : num [1:618] 1631 500 1802 1081 531 ...\n",
      "  .. ..$ freq_overlap    : num [1:618] 0.452 0.062 0.738 0.403 0.122 ...\n",
      "  .. ..$ r_overlap       : num [1:618] 1025 234 1267 619 244 ...\n",
      "  .. ..$ w_r_overlap     : num [1:618] 765 157 990 456 157 ...\n",
      "  .. ..$ wES             : num [1:618] -131.2 -97.6 95.3 -84.1 -80.3 ...\n",
      "  .. ..$ wFDR            : num [1:618] 0 0 0 0 0 0 0 0 0 0 ...\n",
      "  .. ..$ nES             : num [1:618] -121.8 -92.8 85.9 -76.3 -75 ...\n",
      "  .. ..$ mean_r_nES      : num [1:618] -9.36 -4.81 9.4 -7.78 -5.3 ...\n",
      "  .. ..$ nFDR            : num [1:618] 0 0 0 0 0 0 0 0 0 0 ...\n",
      "  .. ..$ cum_freq        : num [1:618] 8185 3512 8217 7584 3695 ...\n",
      "  .. ..$ nFDR2           : num [1:618] 0 0 0 0 0 0 0 0 0 0 ...\n",
      "  .. ..$ type            : chr [1:618] \"ME\" \"ME\" \"CO\" \"ME\" ...\n",
      "  .. ..$ FDR             : logi [1:618] TRUE TRUE TRUE TRUE TRUE TRUE ...\n",
      "  .. ..$ Cohort          : chr [1:618] \"DFCI Primary\" \"DFCI Primary\" \"DFCI Primary\" \"DFCI Primary\" ...\n",
      "  .. ..$ Panel           : chr [1:618] \"all\" \"all\" \"all\" \"all\" ...\n",
      "  .. ..$ Tumor_run       : Named chr [1:618] \"Pan-can\" \"Pan-can\" \"Pan-can\" \"Pan-can\" ...\n",
      "  .. .. ..- attr(*, \"names\")= chr [1:618] NA NA NA NA ...\n",
      "  .. ..$ Mapped_Tumor_run: Named chr [1:618] \"Pan-can\" \"Pan-can\" \"Pan-can\" \"Pan-can\" ...\n",
      "  .. .. ..- attr(*, \"names\")= chr [1:618] \"\" \"\" \"\" \"\" ...\n",
      "  .. ..$ id              : chr [1:618] \"PIK3CA - TP53\" \"EGFR - KRAS\" \"APC - TP53\" \"PTEN - TP53\" ...\n",
      "  .. ..$ id_type         : chr [1:618] \"PIK3CA - TP53_ME\" \"EGFR - KRAS_ME\" \"APC - TP53_CO\" \"PTEN - TP53_ME\" ...\n"
     ]
    }
   ],
   "source": [
    "str(consistent_hit)"
   ]
  },
  {
   "cell_type": "code",
   "execution_count": 22,
   "id": "2434e2cd-2648-43ba-91e1-ca99cd67f20f",
   "metadata": {},
   "outputs": [],
   "source": [
    "all_merged_result_pan_can_significant <- bind_rows(consistent_hit$fdr_25$tcga,consistent_hit$fdr_25$msk_p,consistent_hit$fdr_25$dfci_p)\n",
    "rownames(all_merged_result_pan_can_significant)<-c(1:nrow(all_merged_result_pan_can_significant))"
   ]
  },
  {
   "cell_type": "code",
   "execution_count": 23,
   "id": "a8020280-7d2c-4b27-85ae-77fe2fda4118",
   "metadata": {},
   "outputs": [
    {
     "data": {
      "text/html": [
       "<table class=\"dataframe\">\n",
       "<caption>A data.frame: 2 × 28</caption>\n",
       "<thead>\n",
       "\t<tr><th></th><th scope=col>SFE_1</th><th scope=col>SFE_2</th><th scope=col>name</th><th scope=col>support_1</th><th scope=col>support_2</th><th scope=col>freq_1</th><th scope=col>freq_2</th><th scope=col>overlap</th><th scope=col>w_overlap</th><th scope=col>max_overlap</th><th scope=col>⋯</th><th scope=col>cum_freq</th><th scope=col>nFDR2</th><th scope=col>type</th><th scope=col>FDR</th><th scope=col>Cohort</th><th scope=col>Panel</th><th scope=col>Tumor_run</th><th scope=col>Mapped_Tumor_run</th><th scope=col>id</th><th scope=col>id_type</th></tr>\n",
       "\t<tr><th></th><th scope=col>&lt;chr&gt;</th><th scope=col>&lt;chr&gt;</th><th scope=col>&lt;chr&gt;</th><th scope=col>&lt;dbl&gt;</th><th scope=col>&lt;dbl&gt;</th><th scope=col>&lt;dbl&gt;</th><th scope=col>&lt;dbl&gt;</th><th scope=col>&lt;dbl&gt;</th><th scope=col>&lt;dbl&gt;</th><th scope=col>&lt;dbl&gt;</th><th scope=col>⋯</th><th scope=col>&lt;dbl&gt;</th><th scope=col>&lt;dbl&gt;</th><th scope=col>&lt;chr&gt;</th><th scope=col>&lt;lgl&gt;</th><th scope=col>&lt;chr&gt;</th><th scope=col>&lt;chr&gt;</th><th scope=col>&lt;chr&gt;</th><th scope=col>&lt;chr&gt;</th><th scope=col>&lt;chr&gt;</th><th scope=col>&lt;chr&gt;</th></tr>\n",
       "</thead>\n",
       "<tbody>\n",
       "\t<tr><th scope=row>1</th><td>PIK3CA</td><td>TP53</td><td>PIK3CA - TP53</td><td>1136</td><td>3030</td><td>0.12508258</td><td>0.333627</td><td>357</td><td>317.52971</td><td>669</td><td>⋯</td><td>4166</td><td>0</td><td>ME</td><td>TRUE</td><td>TCGA</td><td>WES</td><td>Pan-can</td><td>Pan-can</td><td>PIK3CA - TP53</td><td>PIK3CA - TP53_ME</td></tr>\n",
       "\t<tr><th scope=row>2</th><td>BRAF  </td><td>TP53</td><td>BRAF - TP53  </td><td> 611</td><td>3030</td><td>0.06727593</td><td>0.333627</td><td> 82</td><td> 53.39755</td><td>180</td><td>⋯</td><td>3641</td><td>0</td><td>ME</td><td>TRUE</td><td>TCGA</td><td>WES</td><td>Pan-can</td><td>Pan-can</td><td>BRAF - TP53  </td><td>BRAF - TP53_ME  </td></tr>\n",
       "</tbody>\n",
       "</table>\n"
      ],
      "text/latex": [
       "A data.frame: 2 × 28\n",
       "\\begin{tabular}{r|lllllllllllllllllllll}\n",
       "  & SFE\\_1 & SFE\\_2 & name & support\\_1 & support\\_2 & freq\\_1 & freq\\_2 & overlap & w\\_overlap & max\\_overlap & ⋯ & cum\\_freq & nFDR2 & type & FDR & Cohort & Panel & Tumor\\_run & Mapped\\_Tumor\\_run & id & id\\_type\\\\\n",
       "  & <chr> & <chr> & <chr> & <dbl> & <dbl> & <dbl> & <dbl> & <dbl> & <dbl> & <dbl> & ⋯ & <dbl> & <dbl> & <chr> & <lgl> & <chr> & <chr> & <chr> & <chr> & <chr> & <chr>\\\\\n",
       "\\hline\n",
       "\t1 & PIK3CA & TP53 & PIK3CA - TP53 & 1136 & 3030 & 0.12508258 & 0.333627 & 357 & 317.52971 & 669 & ⋯ & 4166 & 0 & ME & TRUE & TCGA & WES & Pan-can & Pan-can & PIK3CA - TP53 & PIK3CA - TP53\\_ME\\\\\n",
       "\t2 & BRAF   & TP53 & BRAF - TP53   &  611 & 3030 & 0.06727593 & 0.333627 &  82 &  53.39755 & 180 & ⋯ & 3641 & 0 & ME & TRUE & TCGA & WES & Pan-can & Pan-can & BRAF - TP53   & BRAF - TP53\\_ME  \\\\\n",
       "\\end{tabular}\n"
      ],
      "text/markdown": [
       "\n",
       "A data.frame: 2 × 28\n",
       "\n",
       "| <!--/--> | SFE_1 &lt;chr&gt; | SFE_2 &lt;chr&gt; | name &lt;chr&gt; | support_1 &lt;dbl&gt; | support_2 &lt;dbl&gt; | freq_1 &lt;dbl&gt; | freq_2 &lt;dbl&gt; | overlap &lt;dbl&gt; | w_overlap &lt;dbl&gt; | max_overlap &lt;dbl&gt; | ⋯ ⋯ | cum_freq &lt;dbl&gt; | nFDR2 &lt;dbl&gt; | type &lt;chr&gt; | FDR &lt;lgl&gt; | Cohort &lt;chr&gt; | Panel &lt;chr&gt; | Tumor_run &lt;chr&gt; | Mapped_Tumor_run &lt;chr&gt; | id &lt;chr&gt; | id_type &lt;chr&gt; |\n",
       "|---|---|---|---|---|---|---|---|---|---|---|---|---|---|---|---|---|---|---|---|---|---|\n",
       "| 1 | PIK3CA | TP53 | PIK3CA - TP53 | 1136 | 3030 | 0.12508258 | 0.333627 | 357 | 317.52971 | 669 | ⋯ | 4166 | 0 | ME | TRUE | TCGA | WES | Pan-can | Pan-can | PIK3CA - TP53 | PIK3CA - TP53_ME |\n",
       "| 2 | BRAF   | TP53 | BRAF - TP53   |  611 | 3030 | 0.06727593 | 0.333627 |  82 |  53.39755 | 180 | ⋯ | 3641 | 0 | ME | TRUE | TCGA | WES | Pan-can | Pan-can | BRAF - TP53   | BRAF - TP53_ME   |\n",
       "\n"
      ],
      "text/plain": [
       "  SFE_1  SFE_2 name          support_1 support_2 freq_1     freq_2   overlap\n",
       "1 PIK3CA TP53  PIK3CA - TP53 1136      3030      0.12508258 0.333627 357    \n",
       "2 BRAF   TP53  BRAF - TP53    611      3030      0.06727593 0.333627  82    \n",
       "  w_overlap max_overlap ⋯ cum_freq nFDR2 type FDR  Cohort Panel Tumor_run\n",
       "1 317.52971 669         ⋯ 4166     0     ME   TRUE TCGA   WES   Pan-can  \n",
       "2  53.39755 180         ⋯ 3641     0     ME   TRUE TCGA   WES   Pan-can  \n",
       "  Mapped_Tumor_run id            id_type         \n",
       "1 Pan-can          PIK3CA - TP53 PIK3CA - TP53_ME\n",
       "2 Pan-can          BRAF - TP53   BRAF - TP53_ME  "
      ]
     },
     "metadata": {},
     "output_type": "display_data"
    }
   ],
   "source": [
    "head(all_merged_result_pan_can_significant,2)"
   ]
  },
  {
   "cell_type": "code",
   "execution_count": 24,
   "id": "691394f0-1705-4ec7-8a8d-42502f325e66",
   "metadata": {},
   "outputs": [],
   "source": [
    "pan_can_consistent_motifs<-((all_merged_result_pan_can_significant %>% select(id_type,Cohort) %>% filter(Cohort %in% c('DFCI Primary','MSK Primary','TCGA')) %>% \n",
    "distinct() %>% count(id_type) %>% filter(n>=2))$id_type)"
   ]
  },
  {
   "cell_type": "code",
   "execution_count": 25,
   "id": "7f50a305-2995-448c-9620-2c3a47ac5c80",
   "metadata": {},
   "outputs": [],
   "source": [
    "pan_can_consistent_motif_v15 <- list('motif'=pan_can_consistent_motifs)"
   ]
  },
  {
   "cell_type": "code",
   "execution_count": 26,
   "id": "e60615ac-f65a-4db1-9473-11a991fba79e",
   "metadata": {},
   "outputs": [],
   "source": [
    "pan_can_consistent_motif_v15$motif_data_df<-all_merged_result_pan_can_significant %>% filter(id_type %in% pan_can_consistent_motifs) %>% filter(Cohort %in% c('DFCI Primary','MSK Primary','TCGA'))"
   ]
  },
  {
   "cell_type": "code",
   "execution_count": 27,
   "id": "a2d9a5e4-8789-472e-8d41-3f0e1f32cca9",
   "metadata": {
    "scrolled": true
   },
   "outputs": [],
   "source": [
    "df<-all_merged_result_pan_can_significant %>% filter(Cohort %in% c('DFCI Primary','MSK Primary','TCGA')) %>% \n",
    "select(id_type,Cohort,wES) %>% \n",
    "group_by(id_type) %>% filter(id_type %in% pan_can_consistent_motifs)"
   ]
  },
  {
   "cell_type": "code",
   "execution_count": 28,
   "id": "1e91b474-09e2-49ac-82ef-8ba519ae9b14",
   "metadata": {},
   "outputs": [
    {
     "name": "stderr",
     "output_type": "stream",
     "text": [
      "\u001b[1m\u001b[22m`summarise()` has grouped output by 'Cohort'. You can override using the `.groups` argument.\n"
     ]
    }
   ],
   "source": [
    "# Group by 'Group' and 'ID' columns and summarize to get maximum effect size for each group and ID combination\n",
    "df_summary <- df %>%\n",
    "  group_by(Cohort, id_type) %>%\n",
    "  summarise(Max_Effect_Size = max(wES))\n",
    "\n",
    "# Create a wider dataframe\n",
    "effect_size_df <- pivot_wider(data = df_summary, names_from = Cohort, values_from = Max_Effect_Size) %>% arrange(id_type)"
   ]
  },
  {
   "cell_type": "code",
   "execution_count": 29,
   "id": "3399f28b-b178-4951-bb7f-f4c7980d35ec",
   "metadata": {
    "scrolled": true
   },
   "outputs": [
    {
     "data": {
      "text/html": [
       "<table class=\"dataframe\">\n",
       "<caption>A tibble: 321 × 4</caption>\n",
       "<thead>\n",
       "\t<tr><th scope=col>id_type</th><th scope=col>DFCI Primary</th><th scope=col>MSK Primary</th><th scope=col>TCGA</th></tr>\n",
       "\t<tr><th scope=col>&lt;chr&gt;</th><th scope=col>&lt;dbl&gt;</th><th scope=col>&lt;dbl&gt;</th><th scope=col>&lt;dbl&gt;</th></tr>\n",
       "</thead>\n",
       "<tbody>\n",
       "\t<tr><td>AKT1 - CTNNB1_CO  </td><td>  7.494383</td><td> 11.419997</td><td>        NA</td></tr>\n",
       "\t<tr><td>AKT1 - GATA3_CO   </td><td>        NA</td><td>  5.713433</td><td>  4.571769</td></tr>\n",
       "\t<tr><td>AKT1 - PIK3CA_ME  </td><td> -5.153629</td><td> -4.238303</td><td> -8.823168</td></tr>\n",
       "\t<tr><td>AKT1 - PTEN_ME    </td><td> -4.618466</td><td>-11.650723</td><td> -5.036551</td></tr>\n",
       "\t<tr><td>AKT1 - TP53_ME    </td><td> -4.065079</td><td> -4.484284</td><td> -6.032829</td></tr>\n",
       "\t<tr><td>APC - ARID1A_ME   </td><td> -4.571165</td><td> -3.947892</td><td>        NA</td></tr>\n",
       "\t<tr><td>APC - ARID1B_ME   </td><td> -5.957359</td><td> -5.412207</td><td>        NA</td></tr>\n",
       "\t<tr><td>APC - ATM_ME      </td><td> -8.163681</td><td>-10.255879</td><td>        NA</td></tr>\n",
       "\t<tr><td>APC - BCOR_ME     </td><td> -5.572633</td><td> -4.221691</td><td>        NA</td></tr>\n",
       "\t<tr><td>APC - BRAF_ME     </td><td> -7.694011</td><td> -4.792248</td><td>-10.606504</td></tr>\n",
       "\t<tr><td>APC - CARD11_ME   </td><td> -4.798606</td><td> -5.146882</td><td>        NA</td></tr>\n",
       "\t<tr><td>APC - CDH1_ME     </td><td> -4.860530</td><td> -4.493624</td><td>        NA</td></tr>\n",
       "\t<tr><td>APC - CTNNB1_ME   </td><td> -6.963007</td><td> -6.490478</td><td> -6.621421</td></tr>\n",
       "\t<tr><td>APC - EGFR_ME     </td><td> -9.292579</td><td> -6.544796</td><td>        NA</td></tr>\n",
       "\t<tr><td>APC - IDH1_ME     </td><td> -6.257071</td><td> -4.860912</td><td>        NA</td></tr>\n",
       "\t<tr><td>APC - KDM6A_ME    </td><td> -6.271546</td><td> -6.465225</td><td>        NA</td></tr>\n",
       "\t<tr><td>APC - KMT2A_ME    </td><td> -5.236007</td><td> -3.731948</td><td>        NA</td></tr>\n",
       "\t<tr><td>APC - KMT2D_ME    </td><td> -5.674438</td><td> -3.623284</td><td>        NA</td></tr>\n",
       "\t<tr><td>APC - KRAS_CO     </td><td> 71.026120</td><td> 71.808968</td><td>        NA</td></tr>\n",
       "\t<tr><td>APC - NRAS_CO     </td><td>  7.489623</td><td>  7.231815</td><td>        NA</td></tr>\n",
       "\t<tr><td>APC - PTEN_ME     </td><td> -7.978645</td><td>-13.438691</td><td> -7.376385</td></tr>\n",
       "\t<tr><td>APC - RB1_ME      </td><td> -5.231270</td><td> -8.743821</td><td>        NA</td></tr>\n",
       "\t<tr><td>APC - RBM10_ME    </td><td> -5.880145</td><td> -4.471634</td><td>        NA</td></tr>\n",
       "\t<tr><td>APC - RNF43_ME    </td><td>-26.948499</td><td> -6.775582</td><td> -5.756321</td></tr>\n",
       "\t<tr><td>APC - TCF7L2_CO   </td><td>  8.633148</td><td> 10.423576</td><td>        NA</td></tr>\n",
       "\t<tr><td>APC - TP53_CO     </td><td> 95.321970</td><td>142.501238</td><td>        NA</td></tr>\n",
       "\t<tr><td>APC - ZNRF3_ME    </td><td> -6.659260</td><td> -4.989378</td><td>        NA</td></tr>\n",
       "\t<tr><td>ARAF - TP53_ME    </td><td>        NA</td><td> -4.714897</td><td> -3.516443</td></tr>\n",
       "\t<tr><td>ARID1A - ARID1B_CO</td><td>        NA</td><td> 13.118811</td><td>  5.298792</td></tr>\n",
       "\t<tr><td>ARID1A - CCND1_CO </td><td>  6.152082</td><td> 22.231727</td><td>  6.014501</td></tr>\n",
       "\t<tr><td>⋮</td><td>⋮</td><td>⋮</td><td>⋮</td></tr>\n",
       "\t<tr><td>POLE - TP53_ME    </td><td> -5.772044</td><td> -7.168801</td><td>        NA</td></tr>\n",
       "\t<tr><td>PPP2R1A - PTEN_ME </td><td>        NA</td><td> -6.820075</td><td> -6.444205</td></tr>\n",
       "\t<tr><td>PPP2R1A - TP53_CO </td><td>  5.874348</td><td> 41.684578</td><td>  6.906322</td></tr>\n",
       "\t<tr><td>PTEN - RB1_CO     </td><td> 10.427096</td><td>        NA</td><td>  6.949711</td></tr>\n",
       "\t<tr><td>PTEN - RNF43_CO   </td><td>        NA</td><td> 10.887598</td><td>  5.466899</td></tr>\n",
       "\t<tr><td>PTEN - STAG2_CO   </td><td> 10.748183</td><td>  4.886626</td><td>        NA</td></tr>\n",
       "\t<tr><td>PTEN - STK11_ME   </td><td> -5.227968</td><td> -7.244814</td><td>        NA</td></tr>\n",
       "\t<tr><td>PTEN - TP53_ME    </td><td>-17.050419</td><td>-14.171047</td><td>-34.346792</td></tr>\n",
       "\t<tr><td>PTPN11 - TP53_ME  </td><td>-10.132856</td><td> -3.330913</td><td> -3.932335</td></tr>\n",
       "\t<tr><td>RB1 - STAG2_ME    </td><td> -2.108751</td><td> -3.905173</td><td>        NA</td></tr>\n",
       "\t<tr><td>RB1 - STK11_ME    </td><td> -4.453261</td><td> -5.449777</td><td>        NA</td></tr>\n",
       "\t<tr><td>RB1 - TP53_CO     </td><td> 63.036492</td><td> 86.411874</td><td> 20.359827</td></tr>\n",
       "\t<tr><td>RB1 - TSC1_ME     </td><td> -4.762860</td><td> -3.335193</td><td> -4.020966</td></tr>\n",
       "\t<tr><td>RBM10 - STK11_ME  </td><td> -4.742149</td><td> -6.777148</td><td>        NA</td></tr>\n",
       "\t<tr><td>RBM10 - TP53_ME   </td><td>-20.782818</td><td> -7.855273</td><td> -4.899656</td></tr>\n",
       "\t<tr><td>RNF43 - ZNRF3_CO  </td><td>  6.257275</td><td>  4.364503</td><td>        NA</td></tr>\n",
       "\t<tr><td>SETD2 - STK11_ME  </td><td> -5.293100</td><td> -4.741683</td><td>        NA</td></tr>\n",
       "\t<tr><td>SETD2 - TP53_ME   </td><td> -6.067017</td><td> -5.291506</td><td>-15.000318</td></tr>\n",
       "\t<tr><td>SF3B1 - TP53_ME   </td><td> -4.551248</td><td> -7.460470</td><td> -5.682865</td></tr>\n",
       "\t<tr><td>SMAD2 - TP53_ME   </td><td>-10.514780</td><td> -2.711892</td><td>        NA</td></tr>\n",
       "\t<tr><td>SMARCA4 - STK11_CO</td><td>  6.411970</td><td> 10.973987</td><td>        NA</td></tr>\n",
       "\t<tr><td>SMO - TP53_ME     </td><td> -5.117055</td><td> -4.609621</td><td>        NA</td></tr>\n",
       "\t<tr><td>SOX9 - TP53_ME    </td><td> -7.238752</td><td> -5.061877</td><td>        NA</td></tr>\n",
       "\t<tr><td>STAG2 - TP53_ME   </td><td> -2.811688</td><td> -7.986007</td><td>-12.617411</td></tr>\n",
       "\t<tr><td>STK11 - TP53_ME   </td><td> -4.163517</td><td> -2.399466</td><td>-10.695004</td></tr>\n",
       "\t<tr><td>TBX3 - TP53_ME    </td><td>        NA</td><td> -2.580053</td><td> -5.236052</td></tr>\n",
       "\t<tr><td>TET2 - TP53_ME    </td><td> -7.906587</td><td> -3.905813</td><td> -4.558638</td></tr>\n",
       "\t<tr><td>TP53 - TP53BP1_ME </td><td> -5.149809</td><td> -7.304072</td><td> -4.039496</td></tr>\n",
       "\t<tr><td>TP53 - TSC1_ME    </td><td> -9.464447</td><td> -3.296437</td><td>        NA</td></tr>\n",
       "\t<tr><td>TP53 - VHL_ME     </td><td> -2.652690</td><td> -6.893250</td><td>-14.494955</td></tr>\n",
       "</tbody>\n",
       "</table>\n"
      ],
      "text/latex": [
       "A tibble: 321 × 4\n",
       "\\begin{tabular}{llll}\n",
       " id\\_type & DFCI Primary & MSK Primary & TCGA\\\\\n",
       " <chr> & <dbl> & <dbl> & <dbl>\\\\\n",
       "\\hline\n",
       "\t AKT1 - CTNNB1\\_CO   &   7.494383 &  11.419997 &         NA\\\\\n",
       "\t AKT1 - GATA3\\_CO    &         NA &   5.713433 &   4.571769\\\\\n",
       "\t AKT1 - PIK3CA\\_ME   &  -5.153629 &  -4.238303 &  -8.823168\\\\\n",
       "\t AKT1 - PTEN\\_ME     &  -4.618466 & -11.650723 &  -5.036551\\\\\n",
       "\t AKT1 - TP53\\_ME     &  -4.065079 &  -4.484284 &  -6.032829\\\\\n",
       "\t APC - ARID1A\\_ME    &  -4.571165 &  -3.947892 &         NA\\\\\n",
       "\t APC - ARID1B\\_ME    &  -5.957359 &  -5.412207 &         NA\\\\\n",
       "\t APC - ATM\\_ME       &  -8.163681 & -10.255879 &         NA\\\\\n",
       "\t APC - BCOR\\_ME      &  -5.572633 &  -4.221691 &         NA\\\\\n",
       "\t APC - BRAF\\_ME      &  -7.694011 &  -4.792248 & -10.606504\\\\\n",
       "\t APC - CARD11\\_ME    &  -4.798606 &  -5.146882 &         NA\\\\\n",
       "\t APC - CDH1\\_ME      &  -4.860530 &  -4.493624 &         NA\\\\\n",
       "\t APC - CTNNB1\\_ME    &  -6.963007 &  -6.490478 &  -6.621421\\\\\n",
       "\t APC - EGFR\\_ME      &  -9.292579 &  -6.544796 &         NA\\\\\n",
       "\t APC - IDH1\\_ME      &  -6.257071 &  -4.860912 &         NA\\\\\n",
       "\t APC - KDM6A\\_ME     &  -6.271546 &  -6.465225 &         NA\\\\\n",
       "\t APC - KMT2A\\_ME     &  -5.236007 &  -3.731948 &         NA\\\\\n",
       "\t APC - KMT2D\\_ME     &  -5.674438 &  -3.623284 &         NA\\\\\n",
       "\t APC - KRAS\\_CO      &  71.026120 &  71.808968 &         NA\\\\\n",
       "\t APC - NRAS\\_CO      &   7.489623 &   7.231815 &         NA\\\\\n",
       "\t APC - PTEN\\_ME      &  -7.978645 & -13.438691 &  -7.376385\\\\\n",
       "\t APC - RB1\\_ME       &  -5.231270 &  -8.743821 &         NA\\\\\n",
       "\t APC - RBM10\\_ME     &  -5.880145 &  -4.471634 &         NA\\\\\n",
       "\t APC - RNF43\\_ME     & -26.948499 &  -6.775582 &  -5.756321\\\\\n",
       "\t APC - TCF7L2\\_CO    &   8.633148 &  10.423576 &         NA\\\\\n",
       "\t APC - TP53\\_CO      &  95.321970 & 142.501238 &         NA\\\\\n",
       "\t APC - ZNRF3\\_ME     &  -6.659260 &  -4.989378 &         NA\\\\\n",
       "\t ARAF - TP53\\_ME     &         NA &  -4.714897 &  -3.516443\\\\\n",
       "\t ARID1A - ARID1B\\_CO &         NA &  13.118811 &   5.298792\\\\\n",
       "\t ARID1A - CCND1\\_CO  &   6.152082 &  22.231727 &   6.014501\\\\\n",
       "\t ⋮ & ⋮ & ⋮ & ⋮\\\\\n",
       "\t POLE - TP53\\_ME     &  -5.772044 &  -7.168801 &         NA\\\\\n",
       "\t PPP2R1A - PTEN\\_ME  &         NA &  -6.820075 &  -6.444205\\\\\n",
       "\t PPP2R1A - TP53\\_CO  &   5.874348 &  41.684578 &   6.906322\\\\\n",
       "\t PTEN - RB1\\_CO      &  10.427096 &         NA &   6.949711\\\\\n",
       "\t PTEN - RNF43\\_CO    &         NA &  10.887598 &   5.466899\\\\\n",
       "\t PTEN - STAG2\\_CO    &  10.748183 &   4.886626 &         NA\\\\\n",
       "\t PTEN - STK11\\_ME    &  -5.227968 &  -7.244814 &         NA\\\\\n",
       "\t PTEN - TP53\\_ME     & -17.050419 & -14.171047 & -34.346792\\\\\n",
       "\t PTPN11 - TP53\\_ME   & -10.132856 &  -3.330913 &  -3.932335\\\\\n",
       "\t RB1 - STAG2\\_ME     &  -2.108751 &  -3.905173 &         NA\\\\\n",
       "\t RB1 - STK11\\_ME     &  -4.453261 &  -5.449777 &         NA\\\\\n",
       "\t RB1 - TP53\\_CO      &  63.036492 &  86.411874 &  20.359827\\\\\n",
       "\t RB1 - TSC1\\_ME      &  -4.762860 &  -3.335193 &  -4.020966\\\\\n",
       "\t RBM10 - STK11\\_ME   &  -4.742149 &  -6.777148 &         NA\\\\\n",
       "\t RBM10 - TP53\\_ME    & -20.782818 &  -7.855273 &  -4.899656\\\\\n",
       "\t RNF43 - ZNRF3\\_CO   &   6.257275 &   4.364503 &         NA\\\\\n",
       "\t SETD2 - STK11\\_ME   &  -5.293100 &  -4.741683 &         NA\\\\\n",
       "\t SETD2 - TP53\\_ME    &  -6.067017 &  -5.291506 & -15.000318\\\\\n",
       "\t SF3B1 - TP53\\_ME    &  -4.551248 &  -7.460470 &  -5.682865\\\\\n",
       "\t SMAD2 - TP53\\_ME    & -10.514780 &  -2.711892 &         NA\\\\\n",
       "\t SMARCA4 - STK11\\_CO &   6.411970 &  10.973987 &         NA\\\\\n",
       "\t SMO - TP53\\_ME      &  -5.117055 &  -4.609621 &         NA\\\\\n",
       "\t SOX9 - TP53\\_ME     &  -7.238752 &  -5.061877 &         NA\\\\\n",
       "\t STAG2 - TP53\\_ME    &  -2.811688 &  -7.986007 & -12.617411\\\\\n",
       "\t STK11 - TP53\\_ME    &  -4.163517 &  -2.399466 & -10.695004\\\\\n",
       "\t TBX3 - TP53\\_ME     &         NA &  -2.580053 &  -5.236052\\\\\n",
       "\t TET2 - TP53\\_ME     &  -7.906587 &  -3.905813 &  -4.558638\\\\\n",
       "\t TP53 - TP53BP1\\_ME  &  -5.149809 &  -7.304072 &  -4.039496\\\\\n",
       "\t TP53 - TSC1\\_ME     &  -9.464447 &  -3.296437 &         NA\\\\\n",
       "\t TP53 - VHL\\_ME      &  -2.652690 &  -6.893250 & -14.494955\\\\\n",
       "\\end{tabular}\n"
      ],
      "text/markdown": [
       "\n",
       "A tibble: 321 × 4\n",
       "\n",
       "| id_type &lt;chr&gt; | DFCI Primary &lt;dbl&gt; | MSK Primary &lt;dbl&gt; | TCGA &lt;dbl&gt; |\n",
       "|---|---|---|---|\n",
       "| AKT1 - CTNNB1_CO   |   7.494383 |  11.419997 |         NA |\n",
       "| AKT1 - GATA3_CO    |         NA |   5.713433 |   4.571769 |\n",
       "| AKT1 - PIK3CA_ME   |  -5.153629 |  -4.238303 |  -8.823168 |\n",
       "| AKT1 - PTEN_ME     |  -4.618466 | -11.650723 |  -5.036551 |\n",
       "| AKT1 - TP53_ME     |  -4.065079 |  -4.484284 |  -6.032829 |\n",
       "| APC - ARID1A_ME    |  -4.571165 |  -3.947892 |         NA |\n",
       "| APC - ARID1B_ME    |  -5.957359 |  -5.412207 |         NA |\n",
       "| APC - ATM_ME       |  -8.163681 | -10.255879 |         NA |\n",
       "| APC - BCOR_ME      |  -5.572633 |  -4.221691 |         NA |\n",
       "| APC - BRAF_ME      |  -7.694011 |  -4.792248 | -10.606504 |\n",
       "| APC - CARD11_ME    |  -4.798606 |  -5.146882 |         NA |\n",
       "| APC - CDH1_ME      |  -4.860530 |  -4.493624 |         NA |\n",
       "| APC - CTNNB1_ME    |  -6.963007 |  -6.490478 |  -6.621421 |\n",
       "| APC - EGFR_ME      |  -9.292579 |  -6.544796 |         NA |\n",
       "| APC - IDH1_ME      |  -6.257071 |  -4.860912 |         NA |\n",
       "| APC - KDM6A_ME     |  -6.271546 |  -6.465225 |         NA |\n",
       "| APC - KMT2A_ME     |  -5.236007 |  -3.731948 |         NA |\n",
       "| APC - KMT2D_ME     |  -5.674438 |  -3.623284 |         NA |\n",
       "| APC - KRAS_CO      |  71.026120 |  71.808968 |         NA |\n",
       "| APC - NRAS_CO      |   7.489623 |   7.231815 |         NA |\n",
       "| APC - PTEN_ME      |  -7.978645 | -13.438691 |  -7.376385 |\n",
       "| APC - RB1_ME       |  -5.231270 |  -8.743821 |         NA |\n",
       "| APC - RBM10_ME     |  -5.880145 |  -4.471634 |         NA |\n",
       "| APC - RNF43_ME     | -26.948499 |  -6.775582 |  -5.756321 |\n",
       "| APC - TCF7L2_CO    |   8.633148 |  10.423576 |         NA |\n",
       "| APC - TP53_CO      |  95.321970 | 142.501238 |         NA |\n",
       "| APC - ZNRF3_ME     |  -6.659260 |  -4.989378 |         NA |\n",
       "| ARAF - TP53_ME     |         NA |  -4.714897 |  -3.516443 |\n",
       "| ARID1A - ARID1B_CO |         NA |  13.118811 |   5.298792 |\n",
       "| ARID1A - CCND1_CO  |   6.152082 |  22.231727 |   6.014501 |\n",
       "| ⋮ | ⋮ | ⋮ | ⋮ |\n",
       "| POLE - TP53_ME     |  -5.772044 |  -7.168801 |         NA |\n",
       "| PPP2R1A - PTEN_ME  |         NA |  -6.820075 |  -6.444205 |\n",
       "| PPP2R1A - TP53_CO  |   5.874348 |  41.684578 |   6.906322 |\n",
       "| PTEN - RB1_CO      |  10.427096 |         NA |   6.949711 |\n",
       "| PTEN - RNF43_CO    |         NA |  10.887598 |   5.466899 |\n",
       "| PTEN - STAG2_CO    |  10.748183 |   4.886626 |         NA |\n",
       "| PTEN - STK11_ME    |  -5.227968 |  -7.244814 |         NA |\n",
       "| PTEN - TP53_ME     | -17.050419 | -14.171047 | -34.346792 |\n",
       "| PTPN11 - TP53_ME   | -10.132856 |  -3.330913 |  -3.932335 |\n",
       "| RB1 - STAG2_ME     |  -2.108751 |  -3.905173 |         NA |\n",
       "| RB1 - STK11_ME     |  -4.453261 |  -5.449777 |         NA |\n",
       "| RB1 - TP53_CO      |  63.036492 |  86.411874 |  20.359827 |\n",
       "| RB1 - TSC1_ME      |  -4.762860 |  -3.335193 |  -4.020966 |\n",
       "| RBM10 - STK11_ME   |  -4.742149 |  -6.777148 |         NA |\n",
       "| RBM10 - TP53_ME    | -20.782818 |  -7.855273 |  -4.899656 |\n",
       "| RNF43 - ZNRF3_CO   |   6.257275 |   4.364503 |         NA |\n",
       "| SETD2 - STK11_ME   |  -5.293100 |  -4.741683 |         NA |\n",
       "| SETD2 - TP53_ME    |  -6.067017 |  -5.291506 | -15.000318 |\n",
       "| SF3B1 - TP53_ME    |  -4.551248 |  -7.460470 |  -5.682865 |\n",
       "| SMAD2 - TP53_ME    | -10.514780 |  -2.711892 |         NA |\n",
       "| SMARCA4 - STK11_CO |   6.411970 |  10.973987 |         NA |\n",
       "| SMO - TP53_ME      |  -5.117055 |  -4.609621 |         NA |\n",
       "| SOX9 - TP53_ME     |  -7.238752 |  -5.061877 |         NA |\n",
       "| STAG2 - TP53_ME    |  -2.811688 |  -7.986007 | -12.617411 |\n",
       "| STK11 - TP53_ME    |  -4.163517 |  -2.399466 | -10.695004 |\n",
       "| TBX3 - TP53_ME     |         NA |  -2.580053 |  -5.236052 |\n",
       "| TET2 - TP53_ME     |  -7.906587 |  -3.905813 |  -4.558638 |\n",
       "| TP53 - TP53BP1_ME  |  -5.149809 |  -7.304072 |  -4.039496 |\n",
       "| TP53 - TSC1_ME     |  -9.464447 |  -3.296437 |         NA |\n",
       "| TP53 - VHL_ME      |  -2.652690 |  -6.893250 | -14.494955 |\n",
       "\n"
      ],
      "text/plain": [
       "    id_type            DFCI Primary MSK Primary TCGA      \n",
       "1   AKT1 - CTNNB1_CO     7.494383    11.419997          NA\n",
       "2   AKT1 - GATA3_CO            NA     5.713433    4.571769\n",
       "3   AKT1 - PIK3CA_ME    -5.153629    -4.238303   -8.823168\n",
       "4   AKT1 - PTEN_ME      -4.618466   -11.650723   -5.036551\n",
       "5   AKT1 - TP53_ME      -4.065079    -4.484284   -6.032829\n",
       "6   APC - ARID1A_ME     -4.571165    -3.947892          NA\n",
       "7   APC - ARID1B_ME     -5.957359    -5.412207          NA\n",
       "8   APC - ATM_ME        -8.163681   -10.255879          NA\n",
       "9   APC - BCOR_ME       -5.572633    -4.221691          NA\n",
       "10  APC - BRAF_ME       -7.694011    -4.792248  -10.606504\n",
       "11  APC - CARD11_ME     -4.798606    -5.146882          NA\n",
       "12  APC - CDH1_ME       -4.860530    -4.493624          NA\n",
       "13  APC - CTNNB1_ME     -6.963007    -6.490478   -6.621421\n",
       "14  APC - EGFR_ME       -9.292579    -6.544796          NA\n",
       "15  APC - IDH1_ME       -6.257071    -4.860912          NA\n",
       "16  APC - KDM6A_ME      -6.271546    -6.465225          NA\n",
       "17  APC - KMT2A_ME      -5.236007    -3.731948          NA\n",
       "18  APC - KMT2D_ME      -5.674438    -3.623284          NA\n",
       "19  APC - KRAS_CO       71.026120    71.808968          NA\n",
       "20  APC - NRAS_CO        7.489623     7.231815          NA\n",
       "21  APC - PTEN_ME       -7.978645   -13.438691   -7.376385\n",
       "22  APC - RB1_ME        -5.231270    -8.743821          NA\n",
       "23  APC - RBM10_ME      -5.880145    -4.471634          NA\n",
       "24  APC - RNF43_ME     -26.948499    -6.775582   -5.756321\n",
       "25  APC - TCF7L2_CO      8.633148    10.423576          NA\n",
       "26  APC - TP53_CO       95.321970   142.501238          NA\n",
       "27  APC - ZNRF3_ME      -6.659260    -4.989378          NA\n",
       "28  ARAF - TP53_ME             NA    -4.714897   -3.516443\n",
       "29  ARID1A - ARID1B_CO         NA    13.118811    5.298792\n",
       "30  ARID1A - CCND1_CO    6.152082    22.231727    6.014501\n",
       "⋮   ⋮                  ⋮            ⋮           ⋮         \n",
       "292 POLE - TP53_ME      -5.772044    -7.168801          NA\n",
       "293 PPP2R1A - PTEN_ME          NA    -6.820075   -6.444205\n",
       "294 PPP2R1A - TP53_CO    5.874348    41.684578    6.906322\n",
       "295 PTEN - RB1_CO       10.427096           NA    6.949711\n",
       "296 PTEN - RNF43_CO            NA    10.887598    5.466899\n",
       "297 PTEN - STAG2_CO     10.748183     4.886626          NA\n",
       "298 PTEN - STK11_ME     -5.227968    -7.244814          NA\n",
       "299 PTEN - TP53_ME     -17.050419   -14.171047  -34.346792\n",
       "300 PTPN11 - TP53_ME   -10.132856    -3.330913   -3.932335\n",
       "301 RB1 - STAG2_ME      -2.108751    -3.905173          NA\n",
       "302 RB1 - STK11_ME      -4.453261    -5.449777          NA\n",
       "303 RB1 - TP53_CO       63.036492    86.411874   20.359827\n",
       "304 RB1 - TSC1_ME       -4.762860    -3.335193   -4.020966\n",
       "305 RBM10 - STK11_ME    -4.742149    -6.777148          NA\n",
       "306 RBM10 - TP53_ME    -20.782818    -7.855273   -4.899656\n",
       "307 RNF43 - ZNRF3_CO     6.257275     4.364503          NA\n",
       "308 SETD2 - STK11_ME    -5.293100    -4.741683          NA\n",
       "309 SETD2 - TP53_ME     -6.067017    -5.291506  -15.000318\n",
       "310 SF3B1 - TP53_ME     -4.551248    -7.460470   -5.682865\n",
       "311 SMAD2 - TP53_ME    -10.514780    -2.711892          NA\n",
       "312 SMARCA4 - STK11_CO   6.411970    10.973987          NA\n",
       "313 SMO - TP53_ME       -5.117055    -4.609621          NA\n",
       "314 SOX9 - TP53_ME      -7.238752    -5.061877          NA\n",
       "315 STAG2 - TP53_ME     -2.811688    -7.986007  -12.617411\n",
       "316 STK11 - TP53_ME     -4.163517    -2.399466  -10.695004\n",
       "317 TBX3 - TP53_ME             NA    -2.580053   -5.236052\n",
       "318 TET2 - TP53_ME      -7.906587    -3.905813   -4.558638\n",
       "319 TP53 - TP53BP1_ME   -5.149809    -7.304072   -4.039496\n",
       "320 TP53 - TSC1_ME      -9.464447    -3.296437          NA\n",
       "321 TP53 - VHL_ME       -2.652690    -6.893250  -14.494955"
      ]
     },
     "metadata": {},
     "output_type": "display_data"
    }
   ],
   "source": [
    "effect_size_df "
   ]
  },
  {
   "cell_type": "code",
   "execution_count": 30,
   "id": "823398b0-542e-4f18-8243-4d6911ec3ea5",
   "metadata": {},
   "outputs": [],
   "source": [
    "effect_size_df$count <- (df %>% select(id_type,Cohort) %>% ungroup() %>% distinct() %>% count(id_type))$n"
   ]
  },
  {
   "cell_type": "code",
   "execution_count": 31,
   "id": "6761c910-dfb9-4d36-b9c2-eab17ca810be",
   "metadata": {},
   "outputs": [
    {
     "data": {
      "text/html": [
       "<table class=\"dataframe\">\n",
       "<caption>A tibble: 6 × 5</caption>\n",
       "<thead>\n",
       "\t<tr><th scope=col>id_type</th><th scope=col>DFCI Primary</th><th scope=col>MSK Primary</th><th scope=col>TCGA</th><th scope=col>count</th></tr>\n",
       "\t<tr><th scope=col>&lt;chr&gt;</th><th scope=col>&lt;dbl&gt;</th><th scope=col>&lt;dbl&gt;</th><th scope=col>&lt;dbl&gt;</th><th scope=col>&lt;int&gt;</th></tr>\n",
       "</thead>\n",
       "<tbody>\n",
       "\t<tr><td>AKT1 - CTNNB1_CO</td><td> 7.494383</td><td> 11.419997</td><td>       NA</td><td>2</td></tr>\n",
       "\t<tr><td>AKT1 - GATA3_CO </td><td>       NA</td><td>  5.713433</td><td> 4.571769</td><td>2</td></tr>\n",
       "\t<tr><td>AKT1 - PIK3CA_ME</td><td>-5.153629</td><td> -4.238303</td><td>-8.823168</td><td>3</td></tr>\n",
       "\t<tr><td>AKT1 - PTEN_ME  </td><td>-4.618466</td><td>-11.650723</td><td>-5.036551</td><td>3</td></tr>\n",
       "\t<tr><td>AKT1 - TP53_ME  </td><td>-4.065079</td><td> -4.484284</td><td>-6.032829</td><td>3</td></tr>\n",
       "\t<tr><td>APC - ARID1A_ME </td><td>-4.571165</td><td> -3.947892</td><td>       NA</td><td>2</td></tr>\n",
       "</tbody>\n",
       "</table>\n"
      ],
      "text/latex": [
       "A tibble: 6 × 5\n",
       "\\begin{tabular}{lllll}\n",
       " id\\_type & DFCI Primary & MSK Primary & TCGA & count\\\\\n",
       " <chr> & <dbl> & <dbl> & <dbl> & <int>\\\\\n",
       "\\hline\n",
       "\t AKT1 - CTNNB1\\_CO &  7.494383 &  11.419997 &        NA & 2\\\\\n",
       "\t AKT1 - GATA3\\_CO  &        NA &   5.713433 &  4.571769 & 2\\\\\n",
       "\t AKT1 - PIK3CA\\_ME & -5.153629 &  -4.238303 & -8.823168 & 3\\\\\n",
       "\t AKT1 - PTEN\\_ME   & -4.618466 & -11.650723 & -5.036551 & 3\\\\\n",
       "\t AKT1 - TP53\\_ME   & -4.065079 &  -4.484284 & -6.032829 & 3\\\\\n",
       "\t APC - ARID1A\\_ME  & -4.571165 &  -3.947892 &        NA & 2\\\\\n",
       "\\end{tabular}\n"
      ],
      "text/markdown": [
       "\n",
       "A tibble: 6 × 5\n",
       "\n",
       "| id_type &lt;chr&gt; | DFCI Primary &lt;dbl&gt; | MSK Primary &lt;dbl&gt; | TCGA &lt;dbl&gt; | count &lt;int&gt; |\n",
       "|---|---|---|---|---|\n",
       "| AKT1 - CTNNB1_CO |  7.494383 |  11.419997 |        NA | 2 |\n",
       "| AKT1 - GATA3_CO  |        NA |   5.713433 |  4.571769 | 2 |\n",
       "| AKT1 - PIK3CA_ME | -5.153629 |  -4.238303 | -8.823168 | 3 |\n",
       "| AKT1 - PTEN_ME   | -4.618466 | -11.650723 | -5.036551 | 3 |\n",
       "| AKT1 - TP53_ME   | -4.065079 |  -4.484284 | -6.032829 | 3 |\n",
       "| APC - ARID1A_ME  | -4.571165 |  -3.947892 |        NA | 2 |\n",
       "\n"
      ],
      "text/plain": [
       "  id_type          DFCI Primary MSK Primary TCGA      count\n",
       "1 AKT1 - CTNNB1_CO  7.494383     11.419997         NA 2    \n",
       "2 AKT1 - GATA3_CO         NA      5.713433   4.571769 2    \n",
       "3 AKT1 - PIK3CA_ME -5.153629     -4.238303  -8.823168 3    \n",
       "4 AKT1 - PTEN_ME   -4.618466    -11.650723  -5.036551 3    \n",
       "5 AKT1 - TP53_ME   -4.065079     -4.484284  -6.032829 3    \n",
       "6 APC - ARID1A_ME  -4.571165     -3.947892         NA 2    "
      ]
     },
     "metadata": {},
     "output_type": "display_data"
    }
   ],
   "source": [
    "head(effect_size_df)"
   ]
  },
  {
   "cell_type": "code",
   "execution_count": 32,
   "id": "6edfa02a-685a-49ae-abb4-d228cb537798",
   "metadata": {},
   "outputs": [],
   "source": [
    "mean_values <- rowMeans(effect_size_df[, c('DFCI Primary','MSK Primary','TCGA')], na.rm = TRUE)"
   ]
  },
  {
   "cell_type": "code",
   "execution_count": 33,
   "id": "8dd6aae1-93c6-4902-ae55-2224f7f3bfc8",
   "metadata": {},
   "outputs": [],
   "source": [
    "effect_size_df$mean_ES <- mean_values"
   ]
  },
  {
   "cell_type": "code",
   "execution_count": 34,
   "id": "262d0628-0ff2-4738-8b4a-b7e2de137f9c",
   "metadata": {
    "scrolled": true
   },
   "outputs": [
    {
     "data": {
      "text/html": [
       "<table class=\"dataframe\">\n",
       "<caption>A tibble: 6 × 6</caption>\n",
       "<thead>\n",
       "\t<tr><th scope=col>id_type</th><th scope=col>DFCI Primary</th><th scope=col>MSK Primary</th><th scope=col>TCGA</th><th scope=col>count</th><th scope=col>mean_ES</th></tr>\n",
       "\t<tr><th scope=col>&lt;chr&gt;</th><th scope=col>&lt;dbl&gt;</th><th scope=col>&lt;dbl&gt;</th><th scope=col>&lt;dbl&gt;</th><th scope=col>&lt;int&gt;</th><th scope=col>&lt;dbl&gt;</th></tr>\n",
       "</thead>\n",
       "<tbody>\n",
       "\t<tr><td>AKT1 - CTNNB1_CO</td><td> 7.494383</td><td> 11.419997</td><td>       NA</td><td>2</td><td> 9.457190</td></tr>\n",
       "\t<tr><td>AKT1 - GATA3_CO </td><td>       NA</td><td>  5.713433</td><td> 4.571769</td><td>2</td><td> 5.142601</td></tr>\n",
       "\t<tr><td>AKT1 - PIK3CA_ME</td><td>-5.153629</td><td> -4.238303</td><td>-8.823168</td><td>3</td><td>-6.071700</td></tr>\n",
       "\t<tr><td>AKT1 - PTEN_ME  </td><td>-4.618466</td><td>-11.650723</td><td>-5.036551</td><td>3</td><td>-7.101914</td></tr>\n",
       "\t<tr><td>AKT1 - TP53_ME  </td><td>-4.065079</td><td> -4.484284</td><td>-6.032829</td><td>3</td><td>-4.860730</td></tr>\n",
       "\t<tr><td>APC - ARID1A_ME </td><td>-4.571165</td><td> -3.947892</td><td>       NA</td><td>2</td><td>-4.259529</td></tr>\n",
       "</tbody>\n",
       "</table>\n"
      ],
      "text/latex": [
       "A tibble: 6 × 6\n",
       "\\begin{tabular}{llllll}\n",
       " id\\_type & DFCI Primary & MSK Primary & TCGA & count & mean\\_ES\\\\\n",
       " <chr> & <dbl> & <dbl> & <dbl> & <int> & <dbl>\\\\\n",
       "\\hline\n",
       "\t AKT1 - CTNNB1\\_CO &  7.494383 &  11.419997 &        NA & 2 &  9.457190\\\\\n",
       "\t AKT1 - GATA3\\_CO  &        NA &   5.713433 &  4.571769 & 2 &  5.142601\\\\\n",
       "\t AKT1 - PIK3CA\\_ME & -5.153629 &  -4.238303 & -8.823168 & 3 & -6.071700\\\\\n",
       "\t AKT1 - PTEN\\_ME   & -4.618466 & -11.650723 & -5.036551 & 3 & -7.101914\\\\\n",
       "\t AKT1 - TP53\\_ME   & -4.065079 &  -4.484284 & -6.032829 & 3 & -4.860730\\\\\n",
       "\t APC - ARID1A\\_ME  & -4.571165 &  -3.947892 &        NA & 2 & -4.259529\\\\\n",
       "\\end{tabular}\n"
      ],
      "text/markdown": [
       "\n",
       "A tibble: 6 × 6\n",
       "\n",
       "| id_type &lt;chr&gt; | DFCI Primary &lt;dbl&gt; | MSK Primary &lt;dbl&gt; | TCGA &lt;dbl&gt; | count &lt;int&gt; | mean_ES &lt;dbl&gt; |\n",
       "|---|---|---|---|---|---|\n",
       "| AKT1 - CTNNB1_CO |  7.494383 |  11.419997 |        NA | 2 |  9.457190 |\n",
       "| AKT1 - GATA3_CO  |        NA |   5.713433 |  4.571769 | 2 |  5.142601 |\n",
       "| AKT1 - PIK3CA_ME | -5.153629 |  -4.238303 | -8.823168 | 3 | -6.071700 |\n",
       "| AKT1 - PTEN_ME   | -4.618466 | -11.650723 | -5.036551 | 3 | -7.101914 |\n",
       "| AKT1 - TP53_ME   | -4.065079 |  -4.484284 | -6.032829 | 3 | -4.860730 |\n",
       "| APC - ARID1A_ME  | -4.571165 |  -3.947892 |        NA | 2 | -4.259529 |\n",
       "\n"
      ],
      "text/plain": [
       "  id_type          DFCI Primary MSK Primary TCGA      count mean_ES  \n",
       "1 AKT1 - CTNNB1_CO  7.494383     11.419997         NA 2      9.457190\n",
       "2 AKT1 - GATA3_CO         NA      5.713433   4.571769 2      5.142601\n",
       "3 AKT1 - PIK3CA_ME -5.153629     -4.238303  -8.823168 3     -6.071700\n",
       "4 AKT1 - PTEN_ME   -4.618466    -11.650723  -5.036551 3     -7.101914\n",
       "5 AKT1 - TP53_ME   -4.065079     -4.484284  -6.032829 3     -4.860730\n",
       "6 APC - ARID1A_ME  -4.571165     -3.947892         NA 2     -4.259529"
      ]
     },
     "metadata": {},
     "output_type": "display_data"
    }
   ],
   "source": [
    "head(effect_size_df)"
   ]
  },
  {
   "cell_type": "code",
   "execution_count": 35,
   "id": "7b9729c5-a390-4388-ad19-c1ba97ed3953",
   "metadata": {},
   "outputs": [],
   "source": [
    "pan_can_consistent_motif_v15$motif_mean_ES_df<-effect_size_df"
   ]
  },
  {
   "cell_type": "code",
   "execution_count": 36,
   "id": "f9b52cb1-317d-46df-b1cb-5b8e472a6914",
   "metadata": {
    "scrolled": true
   },
   "outputs": [
    {
     "name": "stdout",
     "output_type": "stream",
     "text": [
      "List of 3\n",
      " $ motif           : chr [1:321] \"AKT1 - CTNNB1_CO\" \"AKT1 - GATA3_CO\" \"AKT1 - PIK3CA_ME\" \"AKT1 - PTEN_ME\" ...\n",
      " $ motif_data_df   :'data.frame':\t1513 obs. of  28 variables:\n",
      "  ..$ SFE_1           : chr [1:1513] \"PIK3CA\" \"BRAF\" \"TP53\" \"BRAF\" ...\n",
      "  ..$ SFE_2           : chr [1:1513] \"TP53\" \"TP53\" \"ARID1A\" \"NRAS\" ...\n",
      "  ..$ name            : chr [1:1513] \"PIK3CA - TP53\" \"BRAF - TP53\" \"TP53 - ARID1A\" \"BRAF - NRAS\" ...\n",
      "  ..$ support_1       : num [1:1513] 1136 611 3030 611 334 ...\n",
      "  ..$ support_2       : num [1:1513] 3030 3030 571 240 3030 3030 3030 286 571 684 ...\n",
      "  ..$ freq_1          : num [1:1513] 0.1251 0.0673 0.3336 0.0673 0.0368 ...\n",
      "  ..$ freq_2          : num [1:1513] 0.3336 0.3336 0.0629 0.0264 0.3336 ...\n",
      "  ..$ overlap         : num [1:1513] 357 82 147 13 225 158 50 162 201 16 ...\n",
      "  ..$ w_overlap       : num [1:1513] 317.53 53.4 115.19 6.35 202.01 ...\n",
      "  ..$ max_overlap     : num [1:1513] 669 180 371 191 334 385 229 193 359 125 ...\n",
      "  ..$ freq_overlap    : num [1:1513] 0.5336 0.4556 0.3962 0.0681 0.6737 ...\n",
      "  ..$ r_overlap       : num [1:1513] 485.2 181.9 243.4 99.8 199.3 ...\n",
      "  ..$ w_r_overlap     : num [1:1513] 393.6 122.7 170.5 55.1 154.3 ...\n",
      "  ..$ wES             : num [1:1513] -53.8 -49 -39.1 -34.5 33.7 ...\n",
      "  ..$ wFDR            : num [1:1513] 0 0 0 0 0 ...\n",
      "  ..$ nES             : num [1:1513] -46.4 -44.2 -34.1 -31.8 29.4 ...\n",
      "  ..$ mean_r_nES      : num [1:1513] -7.36 -4.78 -4.99 -2.7 4.33 ...\n",
      "  ..$ nFDR            : num [1:1513] 0 0 0 0 0 ...\n",
      "  ..$ cum_freq        : num [1:1513] 4166 3641 3601 851 3364 ...\n",
      "  ..$ nFDR2           : num [1:1513] 0 0 0 0 0 0 0 0 0 0 ...\n",
      "  ..$ type            : chr [1:1513] \"ME\" \"ME\" \"ME\" \"ME\" ...\n",
      "  ..$ FDR             : logi [1:1513] TRUE TRUE TRUE TRUE TRUE TRUE ...\n",
      "  ..$ Cohort          : chr [1:1513] \"TCGA\" \"TCGA\" \"TCGA\" \"TCGA\" ...\n",
      "  ..$ Panel           : chr [1:1513] \"WES\" \"WES\" \"WES\" \"WES\" ...\n",
      "  ..$ Tumor_run       : Named chr [1:1513] \"Pan-can\" \"Pan-can\" \"Pan-can\" \"Pan-can\" ...\n",
      "  .. ..- attr(*, \"names\")= chr [1:1513] NA NA NA NA ...\n",
      "  ..$ Mapped_Tumor_run: Named chr [1:1513] \"Pan-can\" \"Pan-can\" \"Pan-can\" \"Pan-can\" ...\n",
      "  .. ..- attr(*, \"names\")= chr [1:1513] \"\" \"\" \"\" \"\" ...\n",
      "  ..$ id              : chr [1:1513] \"PIK3CA - TP53\" \"BRAF - TP53\" \"ARID1A - TP53\" \"BRAF - NRAS\" ...\n",
      "  ..$ id_type         : chr [1:1513] \"PIK3CA - TP53_ME\" \"BRAF - TP53_ME\" \"ARID1A - TP53_ME\" \"BRAF - NRAS_ME\" ...\n",
      " $ motif_mean_ES_df: tibble [321 × 6] (S3: tbl_df/tbl/data.frame)\n",
      "  ..$ id_type     : chr [1:321] \"AKT1 - CTNNB1_CO\" \"AKT1 - GATA3_CO\" \"AKT1 - PIK3CA_ME\" \"AKT1 - PTEN_ME\" ...\n",
      "  ..$ DFCI Primary: num [1:321] 7.49 NA -5.15 -4.62 -4.07 ...\n",
      "  ..$ MSK Primary : num [1:321] 11.42 5.71 -4.24 -11.65 -4.48 ...\n",
      "  ..$ TCGA        : num [1:321] NA 4.57 -8.82 -5.04 -6.03 ...\n",
      "  ..$ count       : int [1:321] 2 2 3 3 3 2 2 2 2 3 ...\n",
      "  ..$ mean_ES     : num [1:321] 9.46 5.14 -6.07 -7.1 -4.86 ...\n"
     ]
    }
   ],
   "source": [
    "str(pan_can_consistent_motif_v15)"
   ]
  },
  {
   "cell_type": "code",
   "execution_count": null,
   "id": "60d69c18-ab94-488a-b1ce-4a09144b4da2",
   "metadata": {},
   "outputs": [],
   "source": [
    "saveRDS(pan_can_consistent_motif_v15,file='../results/pan_can_consistent_motif_v15_fdr_25_update.rds')"
   ]
  },
  {
   "cell_type": "markdown",
   "id": "3bfbacfc-4812-4b48-afcf-ee52386049b1",
   "metadata": {},
   "source": [
    "# Tumor Classes Consistent Hits Strategy\n",
    "- Extract the significant hits (pair+type) at eFDR <=0.25\n",
    "    - For MSK-P and DFCI-P found in all gene panel + hits found from specific panels (refer methods for more details)  \n",
    "- Mapping of TCGA tumor runs to MSK and DFCI tumor runs\n",
    "- Common Tumor groups across primary cohort\n",
    "- Found in at-least 2 dataset (TCGA, MSK-P, DFCI-P)"
   ]
  },
  {
   "cell_type": "code",
   "execution_count": 37,
   "id": "23a87222-9597-44a8-8e2b-ee5da3b6d130",
   "metadata": {},
   "outputs": [],
   "source": [
    "all_merged_result_tumor_can <- all_merged_result %>% filter(Tumor_run!='Pan-can') %>% mutate(id=case_when(SFE_1>SFE_2 ~paste(SFE_2,SFE_1,sep=\" - \"),\n",
    "                                                  SFE_1<SFE_2 ~paste(SFE_1,SFE_2,sep=\" - \"))) %>% mutate(id_type=paste(id,type,sep=\"_\"))"
   ]
  },
  {
   "cell_type": "code",
   "execution_count": 38,
   "id": "bddcdce8-75de-40a9-a892-a512f873f5e1",
   "metadata": {},
   "outputs": [],
   "source": [
    "tumor_mapped <- (all_merged_metadata %>% filter(cohort=='TCGA') %>% select(tumor_run,tumor_run_mapped) %>% distinct())$tumor_run_mapped\n",
    "names(tumor_mapped)<-(all_merged_metadata %>% filter(cohort=='TCGA') %>% select(tumor_run,tumor_run_mapped) %>% distinct())$tumor_run"
   ]
  },
  {
   "cell_type": "code",
   "execution_count": 39,
   "id": "abd1ee22-a858-484b-b312-c37ac59448a0",
   "metadata": {},
   "outputs": [],
   "source": [
    "temp<-unlist((all_merged_metadata %>% filter(cohort=='TCGA') %>% select(tumor_run,tumor_run_mapped) %>% distinct())$tumor_run_mapped)"
   ]
  },
  {
   "cell_type": "code",
   "execution_count": 40,
   "id": "f8280d1d-3a27-4b0c-8874-2753f8107af5",
   "metadata": {},
   "outputs": [],
   "source": [
    "cleaned_tumor_groups <- tolower(gsub(\"[[:space:]/-]\", \"_\", temp))"
   ]
  },
  {
   "cell_type": "code",
   "execution_count": 41,
   "id": "33189686-4c8a-4588-bdff-8a004118dd26",
   "metadata": {},
   "outputs": [],
   "source": [
    "tumor_mapped <- cleaned_tumor_groups\n",
    "names(tumor_mapped)<-(all_merged_metadata %>% filter(cohort=='TCGA') %>% select(tumor_run,tumor_run_mapped) %>% distinct())$tumor_run"
   ]
  },
  {
   "cell_type": "code",
   "execution_count": 42,
   "id": "944ec582-d11b-47c5-b26c-367cf5f63c70",
   "metadata": {},
   "outputs": [
    {
     "data": {
      "text/html": [
       "<style>\n",
       ".dl-inline {width: auto; margin:0; padding: 0}\n",
       ".dl-inline>dt, .dl-inline>dd {float: none; width: auto; display: inline-block}\n",
       ".dl-inline>dt::after {content: \":\\0020\"; padding-right: .5ex}\n",
       ".dl-inline>dt:not(:first-of-type) {padding-left: .5ex}\n",
       "</style><dl class=dl-inline><dt>ACC</dt><dd>'no_mapping'</dd><dt>BLCA</dt><dd>'bladder_cancer'</dd><dt>Breast</dt><dd>'breast_cancer'</dd><dt>CESC</dt><dd>'cervical_cancer'</dd><dt>CHOL</dt><dd>'billary_tract_cancer'</dd><dt>CRC</dt><dd>'colorectal_cancer'</dd><dt>Lymphoma</dt><dd>'mature_b_cell_neoplasms'</dd><dt>ESCA</dt><dd>'esophagogastric_cancer'</dd><dt>GB</dt><dd>'glioma'</dd><dt>HNSC</dt><dd>'head_and_neck_cancer'</dd><dt>NCCRCC</dt><dd>'renal_cell_carcinoma'</dd><dt>CCRCC</dt><dd>'renal_cell_carcinoma'</dd><dt>AML</dt><dd>'leukemia'</dd><dt>DIFG</dt><dd>'glioma'</dd><dt>HCC</dt><dd>'liver_cancer'</dd><dt>Lung</dt><dd>'non_small_cell_lung_cancer'</dd><dt>PLMESO</dt><dd>'mesothelioma'</dd><dt>SOC</dt><dd>'ovarian_cancer'</dd><dt>PAAD</dt><dd>'pancreatic_cancer'</dd><dt>PCPG</dt><dd>'no_mapping'</dd><dt>Prostrate</dt><dd>'prostate_cancer'</dd><dt>SARC</dt><dd>'soft_tissue_sarcoma'</dd><dt>MEL</dt><dd>'melanoma'</dd><dt>STAD</dt><dd>'esophagogastric_cancer'</dd><dt>TGCT</dt><dd>'germ_cell_tumor'</dd><dt>THPA</dt><dd>'thyroid_cancer'</dd><dt>THYM</dt><dd>'no_mapping'</dd><dt>UCEC</dt><dd>'endometrial_cancer'</dd><dt>UM</dt><dd>'melanoma'</dd></dl>\n"
      ],
      "text/latex": [
       "\\begin{description*}\n",
       "\\item[ACC] 'no\\_mapping'\n",
       "\\item[BLCA] 'bladder\\_cancer'\n",
       "\\item[Breast] 'breast\\_cancer'\n",
       "\\item[CESC] 'cervical\\_cancer'\n",
       "\\item[CHOL] 'billary\\_tract\\_cancer'\n",
       "\\item[CRC] 'colorectal\\_cancer'\n",
       "\\item[Lymphoma] 'mature\\_b\\_cell\\_neoplasms'\n",
       "\\item[ESCA] 'esophagogastric\\_cancer'\n",
       "\\item[GB] 'glioma'\n",
       "\\item[HNSC] 'head\\_and\\_neck\\_cancer'\n",
       "\\item[NCCRCC] 'renal\\_cell\\_carcinoma'\n",
       "\\item[CCRCC] 'renal\\_cell\\_carcinoma'\n",
       "\\item[AML] 'leukemia'\n",
       "\\item[DIFG] 'glioma'\n",
       "\\item[HCC] 'liver\\_cancer'\n",
       "\\item[Lung] 'non\\_small\\_cell\\_lung\\_cancer'\n",
       "\\item[PLMESO] 'mesothelioma'\n",
       "\\item[SOC] 'ovarian\\_cancer'\n",
       "\\item[PAAD] 'pancreatic\\_cancer'\n",
       "\\item[PCPG] 'no\\_mapping'\n",
       "\\item[Prostrate] 'prostate\\_cancer'\n",
       "\\item[SARC] 'soft\\_tissue\\_sarcoma'\n",
       "\\item[MEL] 'melanoma'\n",
       "\\item[STAD] 'esophagogastric\\_cancer'\n",
       "\\item[TGCT] 'germ\\_cell\\_tumor'\n",
       "\\item[THPA] 'thyroid\\_cancer'\n",
       "\\item[THYM] 'no\\_mapping'\n",
       "\\item[UCEC] 'endometrial\\_cancer'\n",
       "\\item[UM] 'melanoma'\n",
       "\\end{description*}\n"
      ],
      "text/markdown": [
       "ACC\n",
       ":   'no_mapping'BLCA\n",
       ":   'bladder_cancer'Breast\n",
       ":   'breast_cancer'CESC\n",
       ":   'cervical_cancer'CHOL\n",
       ":   'billary_tract_cancer'CRC\n",
       ":   'colorectal_cancer'Lymphoma\n",
       ":   'mature_b_cell_neoplasms'ESCA\n",
       ":   'esophagogastric_cancer'GB\n",
       ":   'glioma'HNSC\n",
       ":   'head_and_neck_cancer'NCCRCC\n",
       ":   'renal_cell_carcinoma'CCRCC\n",
       ":   'renal_cell_carcinoma'AML\n",
       ":   'leukemia'DIFG\n",
       ":   'glioma'HCC\n",
       ":   'liver_cancer'Lung\n",
       ":   'non_small_cell_lung_cancer'PLMESO\n",
       ":   'mesothelioma'SOC\n",
       ":   'ovarian_cancer'PAAD\n",
       ":   'pancreatic_cancer'PCPG\n",
       ":   'no_mapping'Prostrate\n",
       ":   'prostate_cancer'SARC\n",
       ":   'soft_tissue_sarcoma'MEL\n",
       ":   'melanoma'STAD\n",
       ":   'esophagogastric_cancer'TGCT\n",
       ":   'germ_cell_tumor'THPA\n",
       ":   'thyroid_cancer'THYM\n",
       ":   'no_mapping'UCEC\n",
       ":   'endometrial_cancer'UM\n",
       ":   'melanoma'\n",
       "\n"
      ],
      "text/plain": [
       "                         ACC                         BLCA \n",
       "                \"no_mapping\"             \"bladder_cancer\" \n",
       "                      Breast                         CESC \n",
       "             \"breast_cancer\"            \"cervical_cancer\" \n",
       "                        CHOL                          CRC \n",
       "      \"billary_tract_cancer\"          \"colorectal_cancer\" \n",
       "                    Lymphoma                         ESCA \n",
       "   \"mature_b_cell_neoplasms\"     \"esophagogastric_cancer\" \n",
       "                          GB                         HNSC \n",
       "                    \"glioma\"       \"head_and_neck_cancer\" \n",
       "                      NCCRCC                        CCRCC \n",
       "      \"renal_cell_carcinoma\"       \"renal_cell_carcinoma\" \n",
       "                         AML                         DIFG \n",
       "                  \"leukemia\"                     \"glioma\" \n",
       "                         HCC                         Lung \n",
       "              \"liver_cancer\" \"non_small_cell_lung_cancer\" \n",
       "                      PLMESO                          SOC \n",
       "              \"mesothelioma\"             \"ovarian_cancer\" \n",
       "                        PAAD                         PCPG \n",
       "         \"pancreatic_cancer\"                 \"no_mapping\" \n",
       "                   Prostrate                         SARC \n",
       "           \"prostate_cancer\"        \"soft_tissue_sarcoma\" \n",
       "                         MEL                         STAD \n",
       "                  \"melanoma\"     \"esophagogastric_cancer\" \n",
       "                        TGCT                         THPA \n",
       "           \"germ_cell_tumor\"             \"thyroid_cancer\" \n",
       "                        THYM                         UCEC \n",
       "                \"no_mapping\"         \"endometrial_cancer\" \n",
       "                          UM \n",
       "                  \"melanoma\" "
      ]
     },
     "metadata": {},
     "output_type": "display_data"
    }
   ],
   "source": [
    "tumor_mapped"
   ]
  },
  {
   "cell_type": "code",
   "execution_count": 43,
   "id": "65fa445a-4b88-48de-960b-9aa4b29920b6",
   "metadata": {},
   "outputs": [],
   "source": [
    "all_merged_result_tumor_can <- all_merged_result %>% filter(Tumor_run!='Pan-can') %>% mutate(id=case_when(SFE_1>SFE_2 ~paste(SFE_2,SFE_1,sep=\" - \"),\n",
    "                                                  SFE_1<SFE_2 ~paste(SFE_1,SFE_2,sep=\" - \"))) %>% mutate(id_type=paste(id,type,sep=\"_\"))"
   ]
  },
  {
   "cell_type": "code",
   "execution_count": 44,
   "id": "b3ce2d35-ae5e-4496-b9e2-ae215ba4842c",
   "metadata": {
    "scrolled": true
   },
   "outputs": [
    {
     "data": {
      "text/html": [
       "<table class=\"dataframe\">\n",
       "<caption>A data.frame: 6 × 28</caption>\n",
       "<thead>\n",
       "\t<tr><th></th><th scope=col>SFE_1</th><th scope=col>SFE_2</th><th scope=col>name</th><th scope=col>support_1</th><th scope=col>support_2</th><th scope=col>freq_1</th><th scope=col>freq_2</th><th scope=col>overlap</th><th scope=col>w_overlap</th><th scope=col>max_overlap</th><th scope=col>⋯</th><th scope=col>cum_freq</th><th scope=col>nFDR2</th><th scope=col>type</th><th scope=col>FDR</th><th scope=col>Cohort</th><th scope=col>Panel</th><th scope=col>Tumor_run</th><th scope=col>Mapped_Tumor_run</th><th scope=col>id</th><th scope=col>id_type</th></tr>\n",
       "\t<tr><th></th><th scope=col>&lt;chr&gt;</th><th scope=col>&lt;chr&gt;</th><th scope=col>&lt;chr&gt;</th><th scope=col>&lt;dbl&gt;</th><th scope=col>&lt;dbl&gt;</th><th scope=col>&lt;dbl&gt;</th><th scope=col>&lt;dbl&gt;</th><th scope=col>&lt;dbl&gt;</th><th scope=col>&lt;dbl&gt;</th><th scope=col>&lt;dbl&gt;</th><th scope=col>⋯</th><th scope=col>&lt;dbl&gt;</th><th scope=col>&lt;dbl&gt;</th><th scope=col>&lt;chr&gt;</th><th scope=col>&lt;lgl&gt;</th><th scope=col>&lt;chr&gt;</th><th scope=col>&lt;chr&gt;</th><th scope=col>&lt;chr&gt;</th><th scope=col>&lt;chr&gt;</th><th scope=col>&lt;chr&gt;</th><th scope=col>&lt;chr&gt;</th></tr>\n",
       "</thead>\n",
       "<tbody>\n",
       "\t<tr><th scope=row>1</th><td>NF1   </td><td>TP53  </td><td>NF1 - TP53     </td><td>4</td><td>15</td><td>0.05263158</td><td>0.19736842</td><td>4</td><td>1.7289765</td><td>4</td><td>⋯</td><td>19</td><td>0.1050847</td><td>CO</td><td> TRUE</td><td>TCGA</td><td>WES</td><td>ACC</td><td>no_mapping</td><td>NF1 - TP53     </td><td>NF1 - TP53_CO     </td></tr>\n",
       "\t<tr><th scope=row>2</th><td>U2AF1 </td><td>BCORL1</td><td>U2AF1 - BCORL1 </td><td>1</td><td> 1</td><td>0.01315789</td><td>0.01315789</td><td>1</td><td>0.7692308</td><td>1</td><td>⋯</td><td> 2</td><td>1.0000000</td><td>CO</td><td>FALSE</td><td>TCGA</td><td>WES</td><td>ACC</td><td>no_mapping</td><td>BCORL1 - U2AF1 </td><td>BCORL1 - U2AF1_CO </td></tr>\n",
       "\t<tr><th scope=row>3</th><td>ARID3A</td><td>ARID4A</td><td>ARID3A - ARID4A</td><td>1</td><td> 1</td><td>0.01315789</td><td>0.01315789</td><td>1</td><td>0.7692308</td><td>1</td><td>⋯</td><td> 2</td><td>1.0000000</td><td>CO</td><td>FALSE</td><td>TCGA</td><td>WES</td><td>ACC</td><td>no_mapping</td><td>ARID3A - ARID4A</td><td>ARID3A - ARID4A_CO</td></tr>\n",
       "\t<tr><th scope=row>4</th><td>PIK3CA</td><td>ROS1  </td><td>PIK3CA - ROS1  </td><td>1</td><td> 1</td><td>0.01315789</td><td>0.01315789</td><td>1</td><td>0.7692308</td><td>1</td><td>⋯</td><td> 2</td><td>1.0000000</td><td>CO</td><td>FALSE</td><td>TCGA</td><td>WES</td><td>ACC</td><td>no_mapping</td><td>PIK3CA - ROS1  </td><td>PIK3CA - ROS1_CO  </td></tr>\n",
       "\t<tr><th scope=row>5</th><td>RB1   </td><td>DICER1</td><td>RB1 - DICER1   </td><td>2</td><td> 1</td><td>0.02631579</td><td>0.01315789</td><td>1</td><td>0.7692308</td><td>1</td><td>⋯</td><td> 3</td><td>1.0000000</td><td>CO</td><td>FALSE</td><td>TCGA</td><td>WES</td><td>ACC</td><td>no_mapping</td><td>DICER1 - RB1   </td><td>DICER1 - RB1_CO   </td></tr>\n",
       "\t<tr><th scope=row>6</th><td>ATM   </td><td>MEN1  </td><td>ATM - MEN1     </td><td>2</td><td> 6</td><td>0.02631579</td><td>0.07894737</td><td>1</td><td>1.0000000</td><td>2</td><td>⋯</td><td> 8</td><td>0.7717514</td><td>CO</td><td>FALSE</td><td>TCGA</td><td>WES</td><td>ACC</td><td>no_mapping</td><td>ATM - MEN1     </td><td>ATM - MEN1_CO     </td></tr>\n",
       "</tbody>\n",
       "</table>\n"
      ],
      "text/latex": [
       "A data.frame: 6 × 28\n",
       "\\begin{tabular}{r|lllllllllllllllllllll}\n",
       "  & SFE\\_1 & SFE\\_2 & name & support\\_1 & support\\_2 & freq\\_1 & freq\\_2 & overlap & w\\_overlap & max\\_overlap & ⋯ & cum\\_freq & nFDR2 & type & FDR & Cohort & Panel & Tumor\\_run & Mapped\\_Tumor\\_run & id & id\\_type\\\\\n",
       "  & <chr> & <chr> & <chr> & <dbl> & <dbl> & <dbl> & <dbl> & <dbl> & <dbl> & <dbl> & ⋯ & <dbl> & <dbl> & <chr> & <lgl> & <chr> & <chr> & <chr> & <chr> & <chr> & <chr>\\\\\n",
       "\\hline\n",
       "\t1 & NF1    & TP53   & NF1 - TP53      & 4 & 15 & 0.05263158 & 0.19736842 & 4 & 1.7289765 & 4 & ⋯ & 19 & 0.1050847 & CO &  TRUE & TCGA & WES & ACC & no\\_mapping & NF1 - TP53      & NF1 - TP53\\_CO     \\\\\n",
       "\t2 & U2AF1  & BCORL1 & U2AF1 - BCORL1  & 1 &  1 & 0.01315789 & 0.01315789 & 1 & 0.7692308 & 1 & ⋯ &  2 & 1.0000000 & CO & FALSE & TCGA & WES & ACC & no\\_mapping & BCORL1 - U2AF1  & BCORL1 - U2AF1\\_CO \\\\\n",
       "\t3 & ARID3A & ARID4A & ARID3A - ARID4A & 1 &  1 & 0.01315789 & 0.01315789 & 1 & 0.7692308 & 1 & ⋯ &  2 & 1.0000000 & CO & FALSE & TCGA & WES & ACC & no\\_mapping & ARID3A - ARID4A & ARID3A - ARID4A\\_CO\\\\\n",
       "\t4 & PIK3CA & ROS1   & PIK3CA - ROS1   & 1 &  1 & 0.01315789 & 0.01315789 & 1 & 0.7692308 & 1 & ⋯ &  2 & 1.0000000 & CO & FALSE & TCGA & WES & ACC & no\\_mapping & PIK3CA - ROS1   & PIK3CA - ROS1\\_CO  \\\\\n",
       "\t5 & RB1    & DICER1 & RB1 - DICER1    & 2 &  1 & 0.02631579 & 0.01315789 & 1 & 0.7692308 & 1 & ⋯ &  3 & 1.0000000 & CO & FALSE & TCGA & WES & ACC & no\\_mapping & DICER1 - RB1    & DICER1 - RB1\\_CO   \\\\\n",
       "\t6 & ATM    & MEN1   & ATM - MEN1      & 2 &  6 & 0.02631579 & 0.07894737 & 1 & 1.0000000 & 2 & ⋯ &  8 & 0.7717514 & CO & FALSE & TCGA & WES & ACC & no\\_mapping & ATM - MEN1      & ATM - MEN1\\_CO     \\\\\n",
       "\\end{tabular}\n"
      ],
      "text/markdown": [
       "\n",
       "A data.frame: 6 × 28\n",
       "\n",
       "| <!--/--> | SFE_1 &lt;chr&gt; | SFE_2 &lt;chr&gt; | name &lt;chr&gt; | support_1 &lt;dbl&gt; | support_2 &lt;dbl&gt; | freq_1 &lt;dbl&gt; | freq_2 &lt;dbl&gt; | overlap &lt;dbl&gt; | w_overlap &lt;dbl&gt; | max_overlap &lt;dbl&gt; | ⋯ ⋯ | cum_freq &lt;dbl&gt; | nFDR2 &lt;dbl&gt; | type &lt;chr&gt; | FDR &lt;lgl&gt; | Cohort &lt;chr&gt; | Panel &lt;chr&gt; | Tumor_run &lt;chr&gt; | Mapped_Tumor_run &lt;chr&gt; | id &lt;chr&gt; | id_type &lt;chr&gt; |\n",
       "|---|---|---|---|---|---|---|---|---|---|---|---|---|---|---|---|---|---|---|---|---|---|\n",
       "| 1 | NF1    | TP53   | NF1 - TP53      | 4 | 15 | 0.05263158 | 0.19736842 | 4 | 1.7289765 | 4 | ⋯ | 19 | 0.1050847 | CO |  TRUE | TCGA | WES | ACC | no_mapping | NF1 - TP53      | NF1 - TP53_CO      |\n",
       "| 2 | U2AF1  | BCORL1 | U2AF1 - BCORL1  | 1 |  1 | 0.01315789 | 0.01315789 | 1 | 0.7692308 | 1 | ⋯ |  2 | 1.0000000 | CO | FALSE | TCGA | WES | ACC | no_mapping | BCORL1 - U2AF1  | BCORL1 - U2AF1_CO  |\n",
       "| 3 | ARID3A | ARID4A | ARID3A - ARID4A | 1 |  1 | 0.01315789 | 0.01315789 | 1 | 0.7692308 | 1 | ⋯ |  2 | 1.0000000 | CO | FALSE | TCGA | WES | ACC | no_mapping | ARID3A - ARID4A | ARID3A - ARID4A_CO |\n",
       "| 4 | PIK3CA | ROS1   | PIK3CA - ROS1   | 1 |  1 | 0.01315789 | 0.01315789 | 1 | 0.7692308 | 1 | ⋯ |  2 | 1.0000000 | CO | FALSE | TCGA | WES | ACC | no_mapping | PIK3CA - ROS1   | PIK3CA - ROS1_CO   |\n",
       "| 5 | RB1    | DICER1 | RB1 - DICER1    | 2 |  1 | 0.02631579 | 0.01315789 | 1 | 0.7692308 | 1 | ⋯ |  3 | 1.0000000 | CO | FALSE | TCGA | WES | ACC | no_mapping | DICER1 - RB1    | DICER1 - RB1_CO    |\n",
       "| 6 | ATM    | MEN1   | ATM - MEN1      | 2 |  6 | 0.02631579 | 0.07894737 | 1 | 1.0000000 | 2 | ⋯ |  8 | 0.7717514 | CO | FALSE | TCGA | WES | ACC | no_mapping | ATM - MEN1      | ATM - MEN1_CO      |\n",
       "\n"
      ],
      "text/plain": [
       "  SFE_1  SFE_2  name            support_1 support_2 freq_1     freq_2    \n",
       "1 NF1    TP53   NF1 - TP53      4         15        0.05263158 0.19736842\n",
       "2 U2AF1  BCORL1 U2AF1 - BCORL1  1          1        0.01315789 0.01315789\n",
       "3 ARID3A ARID4A ARID3A - ARID4A 1          1        0.01315789 0.01315789\n",
       "4 PIK3CA ROS1   PIK3CA - ROS1   1          1        0.01315789 0.01315789\n",
       "5 RB1    DICER1 RB1 - DICER1    2          1        0.02631579 0.01315789\n",
       "6 ATM    MEN1   ATM - MEN1      2          6        0.02631579 0.07894737\n",
       "  overlap w_overlap max_overlap ⋯ cum_freq nFDR2     type FDR   Cohort Panel\n",
       "1 4       1.7289765 4           ⋯ 19       0.1050847 CO    TRUE TCGA   WES  \n",
       "2 1       0.7692308 1           ⋯  2       1.0000000 CO   FALSE TCGA   WES  \n",
       "3 1       0.7692308 1           ⋯  2       1.0000000 CO   FALSE TCGA   WES  \n",
       "4 1       0.7692308 1           ⋯  2       1.0000000 CO   FALSE TCGA   WES  \n",
       "5 1       0.7692308 1           ⋯  3       1.0000000 CO   FALSE TCGA   WES  \n",
       "6 1       1.0000000 2           ⋯  8       0.7717514 CO   FALSE TCGA   WES  \n",
       "  Tumor_run Mapped_Tumor_run id              id_type           \n",
       "1 ACC       no_mapping       NF1 - TP53      NF1 - TP53_CO     \n",
       "2 ACC       no_mapping       BCORL1 - U2AF1  BCORL1 - U2AF1_CO \n",
       "3 ACC       no_mapping       ARID3A - ARID4A ARID3A - ARID4A_CO\n",
       "4 ACC       no_mapping       PIK3CA - ROS1   PIK3CA - ROS1_CO  \n",
       "5 ACC       no_mapping       DICER1 - RB1    DICER1 - RB1_CO   \n",
       "6 ACC       no_mapping       ATM - MEN1      ATM - MEN1_CO     "
      ]
     },
     "metadata": {},
     "output_type": "display_data"
    }
   ],
   "source": [
    "head(all_merged_result_tumor_can)"
   ]
  },
  {
   "cell_type": "code",
   "execution_count": 45,
   "id": "fc4629bc-3713-448e-8c4c-f23560f5131a",
   "metadata": {},
   "outputs": [],
   "source": [
    "tcga_tumor_runs <- unique((all_merged_result_tumor_can %>% filter(Cohort %in% c('TCGA')))$Mapped_Tumor_run)\n",
    "msk_tumor_runs <- unique((all_merged_result_tumor_can %>% filter(Cohort %in% c('MSK Primary')))$Mapped_Tumor_run)\n",
    "dfci_tumor_runs <- unique((all_merged_result_tumor_can %>% filter(Cohort %in% c('DFCI Primary')))$Mapped_Tumor_run)"
   ]
  },
  {
   "cell_type": "code",
   "execution_count": 46,
   "id": "cce8b4d9-21c3-422c-93ea-b602b8a23f04",
   "metadata": {},
   "outputs": [],
   "source": [
    "all_primary_tumor_runs <- (Reduce(intersect,list(tcga_tumor_runs,msk_tumor_runs,dfci_tumor_runs)))"
   ]
  },
  {
   "cell_type": "code",
   "execution_count": 47,
   "id": "64eabf95-2cf3-48ef-b8c5-b208ef38632a",
   "metadata": {},
   "outputs": [
    {
     "data": {
      "text/html": [
       "19"
      ],
      "text/latex": [
       "19"
      ],
      "text/markdown": [
       "19"
      ],
      "text/plain": [
       "[1] 19"
      ]
     },
     "metadata": {},
     "output_type": "display_data"
    }
   ],
   "source": [
    "length(all_primary_tumor_runs)"
   ]
  },
  {
   "cell_type": "code",
   "execution_count": 48,
   "id": "867d94bb-bdd8-4cd1-93c4-4664780edcdb",
   "metadata": {},
   "outputs": [
    {
     "data": {
      "text/html": [
       "<style>\n",
       ".list-inline {list-style: none; margin:0; padding: 0}\n",
       ".list-inline>li {display: inline-block}\n",
       ".list-inline>li:not(:last-child)::after {content: \"\\00b7\"; padding: 0 .5ex}\n",
       "</style>\n",
       "<ol class=list-inline><li>'bladder_cancer'</li><li>'breast_cancer'</li><li>'billary_tract_cancer'</li><li>'colorectal_cancer'</li><li>'mature_b_cell_neoplasms'</li><li>'esophagogastric_cancer'</li><li>'glioma'</li><li>'head_and_neck_cancer'</li><li>'renal_cell_carcinoma'</li><li>'leukemia'</li><li>'non_small_cell_lung_cancer'</li><li>'mesothelioma'</li><li>'ovarian_cancer'</li><li>'pancreatic_cancer'</li><li>'prostate_cancer'</li><li>'soft_tissue_sarcoma'</li><li>'melanoma'</li><li>'thyroid_cancer'</li><li>'endometrial_cancer'</li></ol>\n"
      ],
      "text/latex": [
       "\\begin{enumerate*}\n",
       "\\item 'bladder\\_cancer'\n",
       "\\item 'breast\\_cancer'\n",
       "\\item 'billary\\_tract\\_cancer'\n",
       "\\item 'colorectal\\_cancer'\n",
       "\\item 'mature\\_b\\_cell\\_neoplasms'\n",
       "\\item 'esophagogastric\\_cancer'\n",
       "\\item 'glioma'\n",
       "\\item 'head\\_and\\_neck\\_cancer'\n",
       "\\item 'renal\\_cell\\_carcinoma'\n",
       "\\item 'leukemia'\n",
       "\\item 'non\\_small\\_cell\\_lung\\_cancer'\n",
       "\\item 'mesothelioma'\n",
       "\\item 'ovarian\\_cancer'\n",
       "\\item 'pancreatic\\_cancer'\n",
       "\\item 'prostate\\_cancer'\n",
       "\\item 'soft\\_tissue\\_sarcoma'\n",
       "\\item 'melanoma'\n",
       "\\item 'thyroid\\_cancer'\n",
       "\\item 'endometrial\\_cancer'\n",
       "\\end{enumerate*}\n"
      ],
      "text/markdown": [
       "1. 'bladder_cancer'\n",
       "2. 'breast_cancer'\n",
       "3. 'billary_tract_cancer'\n",
       "4. 'colorectal_cancer'\n",
       "5. 'mature_b_cell_neoplasms'\n",
       "6. 'esophagogastric_cancer'\n",
       "7. 'glioma'\n",
       "8. 'head_and_neck_cancer'\n",
       "9. 'renal_cell_carcinoma'\n",
       "10. 'leukemia'\n",
       "11. 'non_small_cell_lung_cancer'\n",
       "12. 'mesothelioma'\n",
       "13. 'ovarian_cancer'\n",
       "14. 'pancreatic_cancer'\n",
       "15. 'prostate_cancer'\n",
       "16. 'soft_tissue_sarcoma'\n",
       "17. 'melanoma'\n",
       "18. 'thyroid_cancer'\n",
       "19. 'endometrial_cancer'\n",
       "\n",
       "\n"
      ],
      "text/plain": [
       " [1] \"bladder_cancer\"             \"breast_cancer\"             \n",
       " [3] \"billary_tract_cancer\"       \"colorectal_cancer\"         \n",
       " [5] \"mature_b_cell_neoplasms\"    \"esophagogastric_cancer\"    \n",
       " [7] \"glioma\"                     \"head_and_neck_cancer\"      \n",
       " [9] \"renal_cell_carcinoma\"       \"leukemia\"                  \n",
       "[11] \"non_small_cell_lung_cancer\" \"mesothelioma\"              \n",
       "[13] \"ovarian_cancer\"             \"pancreatic_cancer\"         \n",
       "[15] \"prostate_cancer\"            \"soft_tissue_sarcoma\"       \n",
       "[17] \"melanoma\"                   \"thyroid_cancer\"            \n",
       "[19] \"endometrial_cancer\"        "
      ]
     },
     "metadata": {},
     "output_type": "display_data"
    }
   ],
   "source": [
    "all_primary_tumor_runs"
   ]
  },
  {
   "cell_type": "code",
   "execution_count": 49,
   "id": "e269eb86-d8a0-41c5-a141-3d5227325e38",
   "metadata": {},
   "outputs": [],
   "source": [
    "all_merged_result_tumor_can <- all_merged_result_tumor_can %>% filter(Mapped_Tumor_run %in% all_primary_tumor_runs)"
   ]
  },
  {
   "cell_type": "code",
   "execution_count": 50,
   "id": "1f1d5d6d-65a1-47c1-96be-b11082bd08b0",
   "metadata": {},
   "outputs": [],
   "source": [
    "tcga_all_ids <- (all_merged_result_tumor_can %>% filter(Cohort=='TCGA' & nFDR2<=0.25 ) %>% select(id_type) %>% distinct())$id_type"
   ]
  },
  {
   "cell_type": "code",
   "execution_count": 51,
   "id": "fd9218b3-0e12-4bc0-b237-148c411ba6de",
   "metadata": {},
   "outputs": [],
   "source": [
    "not_in_all<-setdiff((unique(Reduce(union,msk_gene_list[2:6]))),msk_gene_list$all)\n",
    "msk_all_significant_ids_1<-(all_merged_result_tumor_can %>% filter(Cohort=='MSK Primary' & nFDR2<=0.25) %>% filter(Panel=='all') %>% select(id_type) %>% distinct())$id_type\n",
    "msk_all_significant_ids_2<-(all_merged_result_tumor_can %>% filter(Cohort=='MSK Primary' & nFDR2<=0.25) %>% filter(SFE_1 %in% not_in_all | SFE_2 %in% not_in_all) %>% select(id_type) %>% distinct())$id_type\n",
    "msk_all_significant<-unique(c(msk_all_significant_ids_1,msk_all_significant_ids_2))"
   ]
  },
  {
   "cell_type": "code",
   "execution_count": 52,
   "id": "6df833b1-58fa-4f8f-9ec2-1b5ead7fe6f6",
   "metadata": {},
   "outputs": [],
   "source": [
    "not_in_all<-setdiff(unique(c(dfci_gene_list$p_1,dfci_gene_list$p_2,dfci_gene_list$p_3)),dfci_gene_list$all)\n",
    "dfci_all_significant_ids_1<-(all_merged_result_tumor_can %>% filter(Cohort=='DFCI Primary' & nFDR2<=0.25) %>% filter(Panel=='all' ) %>% select(id_type) %>% distinct())$id_type\n",
    "dfci_all_significant_ids_2<-(all_merged_result_tumor_can %>% filter(Cohort=='DFCI Primary' & nFDR2<=0.25)  %>% filter(SFE_1 %in% not_in_all | SFE_2 %in% not_in_all) %>% select(id_type) %>% distinct())$id_type\n",
    "dfci_all_significant<-unique(c(dfci_all_significant_ids_1,dfci_all_significant_ids_2))"
   ]
  },
  {
   "cell_type": "code",
   "execution_count": 53,
   "id": "4f5483b9-aa2d-4898-aaf0-aac2fd8fd146",
   "metadata": {},
   "outputs": [
    {
     "data": {
      "text/html": [
       "445"
      ],
      "text/latex": [
       "445"
      ],
      "text/markdown": [
       "445"
      ],
      "text/plain": [
       "[1] 445"
      ]
     },
     "metadata": {},
     "output_type": "display_data"
    },
    {
     "data": {
      "text/html": [
       "1390"
      ],
      "text/latex": [
       "1390"
      ],
      "text/markdown": [
       "1390"
      ],
      "text/plain": [
       "[1] 1390"
      ]
     },
     "metadata": {},
     "output_type": "display_data"
    },
    {
     "data": {
      "text/html": [
       "517"
      ],
      "text/latex": [
       "517"
      ],
      "text/markdown": [
       "517"
      ],
      "text/plain": [
       "[1] 517"
      ]
     },
     "metadata": {},
     "output_type": "display_data"
    }
   ],
   "source": [
    "length(tcga_all_ids)\n",
    "length(msk_all_significant)\n",
    "length(dfci_all_significant)"
   ]
  },
  {
   "cell_type": "code",
   "execution_count": 54,
   "id": "7333fc9a-576d-4092-9dc8-7c61405dca74",
   "metadata": {},
   "outputs": [],
   "source": [
    "all_significant_ids <- list('TCGA'=tcga_all_ids,\n",
    "                            'MSK_P'=msk_all_significant,\n",
    "                            'DFCI_P'=dfci_all_significant)"
   ]
  },
  {
   "cell_type": "code",
   "execution_count": 55,
   "id": "4735e1b6-ced5-451f-9c4b-dda318d9dc58",
   "metadata": {},
   "outputs": [],
   "source": [
    "tumor_consistent_hit <- list('fdr_25'=list('tcga'=all_merged_result_tumor_can %>% filter(nFDR2<=0.25 & Mapped_Tumor_run!='no_mapping'&Cohort=='TCGA') %>% filter(id_type %in% all_significant_ids$TCGA),\n",
    "                                    'msk_p'=all_merged_result_tumor_can %>% filter(nFDR2<=0.25 & Mapped_Tumor_run!='no_mapping'&Cohort=='MSK Primary') %>% filter(id_type %in% all_significant_ids$MSK_P),\n",
    "                                    'dfci_p'=all_merged_result_tumor_can %>% filter(nFDR2<=0.25 &Mapped_Tumor_run!='no_mapping'& Cohort=='DFCI Primary') %>% filter(id_type %in% all_significant_ids$DFCI_P)))"
   ]
  },
  {
   "cell_type": "code",
   "execution_count": 56,
   "id": "d835e2fd-af90-4d70-a074-fa76acd8c80b",
   "metadata": {},
   "outputs": [],
   "source": [
    "all_merged_result_tumor_can_significant <- bind_rows(tumor_consistent_hit$fdr_25$tcga,tumor_consistent_hit$fdr_25$msk_p,tumor_consistent_hit$fdr_25$dfci_p)\n",
    "rownames(all_merged_result_tumor_can_significant)<-c(1:nrow(all_merged_result_tumor_can_significant))"
   ]
  },
  {
   "cell_type": "code",
   "execution_count": 58,
   "id": "30ad4562-29e1-4ebf-9673-2b186c35df48",
   "metadata": {},
   "outputs": [
    {
     "data": {
      "text/html": [
       "<table class=\"dataframe\">\n",
       "<caption>A data.frame: 2 × 28</caption>\n",
       "<thead>\n",
       "\t<tr><th></th><th scope=col>SFE_1</th><th scope=col>SFE_2</th><th scope=col>name</th><th scope=col>support_1</th><th scope=col>support_2</th><th scope=col>freq_1</th><th scope=col>freq_2</th><th scope=col>overlap</th><th scope=col>w_overlap</th><th scope=col>max_overlap</th><th scope=col>⋯</th><th scope=col>cum_freq</th><th scope=col>nFDR2</th><th scope=col>type</th><th scope=col>FDR</th><th scope=col>Cohort</th><th scope=col>Panel</th><th scope=col>Tumor_run</th><th scope=col>Mapped_Tumor_run</th><th scope=col>id</th><th scope=col>id_type</th></tr>\n",
       "\t<tr><th></th><th scope=col>&lt;chr&gt;</th><th scope=col>&lt;chr&gt;</th><th scope=col>&lt;chr&gt;</th><th scope=col>&lt;dbl&gt;</th><th scope=col>&lt;dbl&gt;</th><th scope=col>&lt;dbl&gt;</th><th scope=col>&lt;dbl&gt;</th><th scope=col>&lt;dbl&gt;</th><th scope=col>&lt;dbl&gt;</th><th scope=col>&lt;dbl&gt;</th><th scope=col>⋯</th><th scope=col>&lt;dbl&gt;</th><th scope=col>&lt;dbl&gt;</th><th scope=col>&lt;chr&gt;</th><th scope=col>&lt;lgl&gt;</th><th scope=col>&lt;chr&gt;</th><th scope=col>&lt;chr&gt;</th><th scope=col>&lt;chr&gt;</th><th scope=col>&lt;chr&gt;</th><th scope=col>&lt;chr&gt;</th><th scope=col>&lt;chr&gt;</th></tr>\n",
       "</thead>\n",
       "<tbody>\n",
       "\t<tr><th scope=row>1</th><td>RB1  </td><td>TP53</td><td>RB1 - TP53  </td><td>70</td><td>175</td><td>0.17587940</td><td>0.4396985</td><td>52</td><td>41.818108</td><td>70</td><td>⋯</td><td>245</td><td>0</td><td>CO</td><td>TRUE</td><td>TCGA</td><td>WES</td><td>BLCA</td><td>bladder_cancer</td><td>RB1 - TP53  </td><td>RB1 - TP53_CO  </td></tr>\n",
       "\t<tr><th scope=row>2</th><td>FGFR3</td><td>TP53</td><td>FGFR3 - TP53</td><td>38</td><td>175</td><td>0.09547739</td><td>0.4396985</td><td> 6</td><td> 4.387238</td><td>38</td><td>⋯</td><td>213</td><td>0</td><td>ME</td><td>TRUE</td><td>TCGA</td><td>WES</td><td>BLCA</td><td>bladder_cancer</td><td>FGFR3 - TP53</td><td>FGFR3 - TP53_ME</td></tr>\n",
       "</tbody>\n",
       "</table>\n"
      ],
      "text/latex": [
       "A data.frame: 2 × 28\n",
       "\\begin{tabular}{r|lllllllllllllllllllll}\n",
       "  & SFE\\_1 & SFE\\_2 & name & support\\_1 & support\\_2 & freq\\_1 & freq\\_2 & overlap & w\\_overlap & max\\_overlap & ⋯ & cum\\_freq & nFDR2 & type & FDR & Cohort & Panel & Tumor\\_run & Mapped\\_Tumor\\_run & id & id\\_type\\\\\n",
       "  & <chr> & <chr> & <chr> & <dbl> & <dbl> & <dbl> & <dbl> & <dbl> & <dbl> & <dbl> & ⋯ & <dbl> & <dbl> & <chr> & <lgl> & <chr> & <chr> & <chr> & <chr> & <chr> & <chr>\\\\\n",
       "\\hline\n",
       "\t1 & RB1   & TP53 & RB1 - TP53   & 70 & 175 & 0.17587940 & 0.4396985 & 52 & 41.818108 & 70 & ⋯ & 245 & 0 & CO & TRUE & TCGA & WES & BLCA & bladder\\_cancer & RB1 - TP53   & RB1 - TP53\\_CO  \\\\\n",
       "\t2 & FGFR3 & TP53 & FGFR3 - TP53 & 38 & 175 & 0.09547739 & 0.4396985 &  6 &  4.387238 & 38 & ⋯ & 213 & 0 & ME & TRUE & TCGA & WES & BLCA & bladder\\_cancer & FGFR3 - TP53 & FGFR3 - TP53\\_ME\\\\\n",
       "\\end{tabular}\n"
      ],
      "text/markdown": [
       "\n",
       "A data.frame: 2 × 28\n",
       "\n",
       "| <!--/--> | SFE_1 &lt;chr&gt; | SFE_2 &lt;chr&gt; | name &lt;chr&gt; | support_1 &lt;dbl&gt; | support_2 &lt;dbl&gt; | freq_1 &lt;dbl&gt; | freq_2 &lt;dbl&gt; | overlap &lt;dbl&gt; | w_overlap &lt;dbl&gt; | max_overlap &lt;dbl&gt; | ⋯ ⋯ | cum_freq &lt;dbl&gt; | nFDR2 &lt;dbl&gt; | type &lt;chr&gt; | FDR &lt;lgl&gt; | Cohort &lt;chr&gt; | Panel &lt;chr&gt; | Tumor_run &lt;chr&gt; | Mapped_Tumor_run &lt;chr&gt; | id &lt;chr&gt; | id_type &lt;chr&gt; |\n",
       "|---|---|---|---|---|---|---|---|---|---|---|---|---|---|---|---|---|---|---|---|---|---|\n",
       "| 1 | RB1   | TP53 | RB1 - TP53   | 70 | 175 | 0.17587940 | 0.4396985 | 52 | 41.818108 | 70 | ⋯ | 245 | 0 | CO | TRUE | TCGA | WES | BLCA | bladder_cancer | RB1 - TP53   | RB1 - TP53_CO   |\n",
       "| 2 | FGFR3 | TP53 | FGFR3 - TP53 | 38 | 175 | 0.09547739 | 0.4396985 |  6 |  4.387238 | 38 | ⋯ | 213 | 0 | ME | TRUE | TCGA | WES | BLCA | bladder_cancer | FGFR3 - TP53 | FGFR3 - TP53_ME |\n",
       "\n"
      ],
      "text/plain": [
       "  SFE_1 SFE_2 name         support_1 support_2 freq_1     freq_2    overlap\n",
       "1 RB1   TP53  RB1 - TP53   70        175       0.17587940 0.4396985 52     \n",
       "2 FGFR3 TP53  FGFR3 - TP53 38        175       0.09547739 0.4396985  6     \n",
       "  w_overlap max_overlap ⋯ cum_freq nFDR2 type FDR  Cohort Panel Tumor_run\n",
       "1 41.818108 70          ⋯ 245      0     CO   TRUE TCGA   WES   BLCA     \n",
       "2  4.387238 38          ⋯ 213      0     ME   TRUE TCGA   WES   BLCA     \n",
       "  Mapped_Tumor_run id           id_type        \n",
       "1 bladder_cancer   RB1 - TP53   RB1 - TP53_CO  \n",
       "2 bladder_cancer   FGFR3 - TP53 FGFR3 - TP53_ME"
      ]
     },
     "metadata": {},
     "output_type": "display_data"
    }
   ],
   "source": [
    "head(all_merged_result_tumor_can_significant,2)"
   ]
  },
  {
   "cell_type": "code",
   "execution_count": 61,
   "id": "0db152ca-a374-43a3-a2b1-cc2cdff73b68",
   "metadata": {},
   "outputs": [],
   "source": [
    "primary_consider_tumor_runs <- unique((all_merged_result_tumor_can_significant %>% filter(Cohort %in% c('DFCI Primary','MSK Primary','TCGA')))$Mapped_Tumor_run)"
   ]
  },
  {
   "cell_type": "code",
   "execution_count": 63,
   "id": "e43f6bd0-8d99-49b1-8d60-1fd74a24abac",
   "metadata": {},
   "outputs": [
    {
     "data": {
      "text/html": [
       "19"
      ],
      "text/latex": [
       "19"
      ],
      "text/markdown": [
       "19"
      ],
      "text/plain": [
       "[1] 19"
      ]
     },
     "metadata": {},
     "output_type": "display_data"
    }
   ],
   "source": [
    "length(primary_consider_tumor_runs)"
   ]
  },
  {
   "cell_type": "code",
   "execution_count": 64,
   "id": "41bb8e0c-e35c-44c6-b0f9-e9d06d1fae29",
   "metadata": {},
   "outputs": [],
   "source": [
    "tcga_tumor_runs <- unique((all_merged_result_tumor_can_significant %>% filter(Cohort %in% c('TCGA')))$Mapped_Tumor_run)\n",
    "msk_tumor_runs <- unique((all_merged_result_tumor_can_significant %>% filter(Cohort %in% c('MSK Primary')))$Mapped_Tumor_run)\n",
    "dfci_tumor_runs <- unique((all_merged_result_tumor_can_significant %>% filter(Cohort %in% c('DFCI Primary')))$Mapped_Tumor_run)"
   ]
  },
  {
   "cell_type": "code",
   "execution_count": 65,
   "id": "f6d402a3-ffe1-42e0-855f-0f2c9a63a842",
   "metadata": {},
   "outputs": [],
   "source": [
    "all_primary_tumor_runs <- (Reduce(intersect,list(tcga_tumor_runs,msk_tumor_runs,dfci_tumor_runs)))"
   ]
  },
  {
   "cell_type": "code",
   "execution_count": 66,
   "id": "720c483b-df9d-4382-824e-b91ea2ff0502",
   "metadata": {},
   "outputs": [
    {
     "data": {
      "text/html": [
       "17"
      ],
      "text/latex": [
       "17"
      ],
      "text/markdown": [
       "17"
      ],
      "text/plain": [
       "[1] 17"
      ]
     },
     "metadata": {},
     "output_type": "display_data"
    }
   ],
   "source": [
    "length(all_primary_tumor_runs)"
   ]
  },
  {
   "cell_type": "code",
   "execution_count": 67,
   "id": "4859682b-1667-4878-9ff0-f8fa98d274a4",
   "metadata": {},
   "outputs": [
    {
     "data": {
      "text/html": [
       "<style>\n",
       ".list-inline {list-style: none; margin:0; padding: 0}\n",
       ".list-inline>li {display: inline-block}\n",
       ".list-inline>li:not(:last-child)::after {content: \"\\00b7\"; padding: 0 .5ex}\n",
       "</style>\n",
       "<ol class=list-inline><li>'bladder_cancer'</li><li>'breast_cancer'</li><li>'billary_tract_cancer'</li><li>'colorectal_cancer'</li><li>'esophagogastric_cancer'</li><li>'glioma'</li><li>'head_and_neck_cancer'</li><li>'renal_cell_carcinoma'</li><li>'leukemia'</li><li>'non_small_cell_lung_cancer'</li><li>'ovarian_cancer'</li><li>'pancreatic_cancer'</li><li>'prostate_cancer'</li><li>'soft_tissue_sarcoma'</li><li>'melanoma'</li><li>'thyroid_cancer'</li><li>'endometrial_cancer'</li></ol>\n"
      ],
      "text/latex": [
       "\\begin{enumerate*}\n",
       "\\item 'bladder\\_cancer'\n",
       "\\item 'breast\\_cancer'\n",
       "\\item 'billary\\_tract\\_cancer'\n",
       "\\item 'colorectal\\_cancer'\n",
       "\\item 'esophagogastric\\_cancer'\n",
       "\\item 'glioma'\n",
       "\\item 'head\\_and\\_neck\\_cancer'\n",
       "\\item 'renal\\_cell\\_carcinoma'\n",
       "\\item 'leukemia'\n",
       "\\item 'non\\_small\\_cell\\_lung\\_cancer'\n",
       "\\item 'ovarian\\_cancer'\n",
       "\\item 'pancreatic\\_cancer'\n",
       "\\item 'prostate\\_cancer'\n",
       "\\item 'soft\\_tissue\\_sarcoma'\n",
       "\\item 'melanoma'\n",
       "\\item 'thyroid\\_cancer'\n",
       "\\item 'endometrial\\_cancer'\n",
       "\\end{enumerate*}\n"
      ],
      "text/markdown": [
       "1. 'bladder_cancer'\n",
       "2. 'breast_cancer'\n",
       "3. 'billary_tract_cancer'\n",
       "4. 'colorectal_cancer'\n",
       "5. 'esophagogastric_cancer'\n",
       "6. 'glioma'\n",
       "7. 'head_and_neck_cancer'\n",
       "8. 'renal_cell_carcinoma'\n",
       "9. 'leukemia'\n",
       "10. 'non_small_cell_lung_cancer'\n",
       "11. 'ovarian_cancer'\n",
       "12. 'pancreatic_cancer'\n",
       "13. 'prostate_cancer'\n",
       "14. 'soft_tissue_sarcoma'\n",
       "15. 'melanoma'\n",
       "16. 'thyroid_cancer'\n",
       "17. 'endometrial_cancer'\n",
       "\n",
       "\n"
      ],
      "text/plain": [
       " [1] \"bladder_cancer\"             \"breast_cancer\"             \n",
       " [3] \"billary_tract_cancer\"       \"colorectal_cancer\"         \n",
       " [5] \"esophagogastric_cancer\"     \"glioma\"                    \n",
       " [7] \"head_and_neck_cancer\"       \"renal_cell_carcinoma\"      \n",
       " [9] \"leukemia\"                   \"non_small_cell_lung_cancer\"\n",
       "[11] \"ovarian_cancer\"             \"pancreatic_cancer\"         \n",
       "[13] \"prostate_cancer\"            \"soft_tissue_sarcoma\"       \n",
       "[15] \"melanoma\"                   \"thyroid_cancer\"            \n",
       "[17] \"endometrial_cancer\"        "
      ]
     },
     "metadata": {},
     "output_type": "display_data"
    }
   ],
   "source": [
    "all_primary_tumor_runs"
   ]
  },
  {
   "cell_type": "code",
   "execution_count": 68,
   "id": "839fc11a-175e-4f98-ae54-d8479899c575",
   "metadata": {},
   "outputs": [],
   "source": [
    "tumor_can_consistent_motif <- list()\n",
    "all_motifs <- c()"
   ]
  },
  {
   "cell_type": "code",
   "execution_count": 69,
   "id": "0f35bcfb-06fb-43c7-9a48-fa0e1b16df96",
   "metadata": {
    "scrolled": true
   },
   "outputs": [
    {
     "name": "stdout",
     "output_type": "stream",
     "text": [
      "--Running-- bladder_cancer \n"
     ]
    },
    {
     "name": "stderr",
     "output_type": "stream",
     "text": [
      "\u001b[1m\u001b[22m`summarise()` has grouped output by 'Cohort'. You can override using the `.groups` argument.\n"
     ]
    },
    {
     "name": "stdout",
     "output_type": "stream",
     "text": [
      "--Running Done-- bladder_cancer \n",
      "--Running-- breast_cancer \n"
     ]
    },
    {
     "name": "stderr",
     "output_type": "stream",
     "text": [
      "\u001b[1m\u001b[22m`summarise()` has grouped output by 'Cohort'. You can override using the `.groups` argument.\n"
     ]
    },
    {
     "name": "stdout",
     "output_type": "stream",
     "text": [
      "--Running Done-- breast_cancer \n",
      "--Running-- billary_tract_cancer \n"
     ]
    },
    {
     "name": "stderr",
     "output_type": "stream",
     "text": [
      "\u001b[1m\u001b[22m`summarise()` has grouped output by 'Cohort'. You can override using the `.groups` argument.\n"
     ]
    },
    {
     "name": "stdout",
     "output_type": "stream",
     "text": [
      "--Running Done-- billary_tract_cancer \n",
      "--Running-- colorectal_cancer \n"
     ]
    },
    {
     "name": "stderr",
     "output_type": "stream",
     "text": [
      "\u001b[1m\u001b[22m`summarise()` has grouped output by 'Cohort'. You can override using the `.groups` argument.\n"
     ]
    },
    {
     "name": "stdout",
     "output_type": "stream",
     "text": [
      "--Running Done-- colorectal_cancer \n",
      "--Running-- esophagogastric_cancer \n"
     ]
    },
    {
     "name": "stderr",
     "output_type": "stream",
     "text": [
      "\u001b[1m\u001b[22m`summarise()` has grouped output by 'Cohort'. You can override using the `.groups` argument.\n"
     ]
    },
    {
     "name": "stdout",
     "output_type": "stream",
     "text": [
      "--Running Done-- esophagogastric_cancer \n",
      "--Running-- glioma \n"
     ]
    },
    {
     "name": "stderr",
     "output_type": "stream",
     "text": [
      "\u001b[1m\u001b[22m`summarise()` has grouped output by 'Cohort'. You can override using the `.groups` argument.\n"
     ]
    },
    {
     "name": "stdout",
     "output_type": "stream",
     "text": [
      "--Running Done-- glioma \n",
      "--Running-- head_and_neck_cancer \n"
     ]
    },
    {
     "name": "stderr",
     "output_type": "stream",
     "text": [
      "\u001b[1m\u001b[22m`summarise()` has grouped output by 'Cohort'. You can override using the `.groups` argument.\n"
     ]
    },
    {
     "name": "stdout",
     "output_type": "stream",
     "text": [
      "--Running Done-- head_and_neck_cancer \n",
      "--Running-- renal_cell_carcinoma \n"
     ]
    },
    {
     "name": "stderr",
     "output_type": "stream",
     "text": [
      "\u001b[1m\u001b[22m`summarise()` has grouped output by 'Cohort'. You can override using the `.groups` argument.\n"
     ]
    },
    {
     "name": "stdout",
     "output_type": "stream",
     "text": [
      "--Running Done-- renal_cell_carcinoma \n",
      "--Running-- leukemia \n"
     ]
    },
    {
     "name": "stderr",
     "output_type": "stream",
     "text": [
      "\u001b[1m\u001b[22m`summarise()` has grouped output by 'Cohort'. You can override using the `.groups` argument.\n"
     ]
    },
    {
     "name": "stdout",
     "output_type": "stream",
     "text": [
      "--Running Done-- leukemia \n",
      "--Running-- non_small_cell_lung_cancer \n"
     ]
    },
    {
     "name": "stderr",
     "output_type": "stream",
     "text": [
      "\u001b[1m\u001b[22m`summarise()` has grouped output by 'Cohort'. You can override using the `.groups` argument.\n"
     ]
    },
    {
     "name": "stdout",
     "output_type": "stream",
     "text": [
      "--Running Done-- non_small_cell_lung_cancer \n",
      "--Running-- ovarian_cancer \n"
     ]
    },
    {
     "name": "stderr",
     "output_type": "stream",
     "text": [
      "\u001b[1m\u001b[22m`summarise()` has grouped output by 'Cohort'. You can override using the `.groups` argument.\n"
     ]
    },
    {
     "name": "stdout",
     "output_type": "stream",
     "text": [
      "--Running Done-- ovarian_cancer \n",
      "--Running-- pancreatic_cancer \n"
     ]
    },
    {
     "name": "stderr",
     "output_type": "stream",
     "text": [
      "\u001b[1m\u001b[22m`summarise()` has grouped output by 'Cohort'. You can override using the `.groups` argument.\n"
     ]
    },
    {
     "name": "stdout",
     "output_type": "stream",
     "text": [
      "--Running Done-- pancreatic_cancer \n",
      "--Running-- prostate_cancer \n"
     ]
    },
    {
     "name": "stderr",
     "output_type": "stream",
     "text": [
      "\u001b[1m\u001b[22m`summarise()` has grouped output by 'Cohort'. You can override using the `.groups` argument.\n"
     ]
    },
    {
     "name": "stdout",
     "output_type": "stream",
     "text": [
      "--Running Done-- prostate_cancer \n",
      "--Running-- soft_tissue_sarcoma \n",
      "--Running Done-- soft_tissue_sarcoma \n",
      "--Running-- melanoma \n"
     ]
    },
    {
     "name": "stderr",
     "output_type": "stream",
     "text": [
      "\u001b[1m\u001b[22m`summarise()` has grouped output by 'Cohort'. You can override using the `.groups` argument.\n"
     ]
    },
    {
     "name": "stdout",
     "output_type": "stream",
     "text": [
      "--Running Done-- melanoma \n",
      "--Running-- thyroid_cancer \n"
     ]
    },
    {
     "name": "stderr",
     "output_type": "stream",
     "text": [
      "\u001b[1m\u001b[22m`summarise()` has grouped output by 'Cohort'. You can override using the `.groups` argument.\n"
     ]
    },
    {
     "name": "stdout",
     "output_type": "stream",
     "text": [
      "--Running Done-- thyroid_cancer \n",
      "--Running-- endometrial_cancer \n"
     ]
    },
    {
     "name": "stderr",
     "output_type": "stream",
     "text": [
      "\u001b[1m\u001b[22m`summarise()` has grouped output by 'Cohort'. You can override using the `.groups` argument.\n"
     ]
    },
    {
     "name": "stdout",
     "output_type": "stream",
     "text": [
      "--Running Done-- endometrial_cancer \n"
     ]
    }
   ],
   "source": [
    "for(tumor_run in all_primary_tumor_runs){\n",
    "    cat('--Running--',tumor_run,\"\\n\")\n",
    "    cancer_df <- all_merged_result_tumor_can_significant %>% filter(Cohort %in% c('DFCI Primary','MSK Primary','TCGA')) %>% \n",
    "                 filter(Mapped_Tumor_run==tumor_run)\n",
    "    cancer_all_motif_list <- (cancer_df%>% select(id_type,Cohort)%>% distinct() %>% count(id_type) %>% filter(n>=2))$id_type\n",
    "    cancer_all <-     (cancer_df%>% select(id_type,Cohort)%>% distinct() %>% count(id_type) %>% filter(n>=3))$id_type\n",
    "    cancer_atleast_two <-     (cancer_df%>% select(id_type,Cohort)%>% distinct() %>% count(id_type) %>% filter(n==2))$id_type\n",
    "    if(length(cancer_all_motif_list)>=1){\n",
    "        df<-cancer_df %>% select(id_type,Cohort,wES) %>% group_by(id_type) %>% filter(id_type %in% cancer_all_motif_list)\n",
    "        df_summary <- df %>% group_by(Cohort, id_type) %>% summarise(Max_Effect_Size = max(wES))\n",
    "        effect_size_df <- pivot_wider(data = df_summary, names_from = Cohort, values_from = Max_Effect_Size) %>% arrange(id_type)\n",
    "        effect_size_df$count <- (df %>% select(id_type,Cohort) %>% ungroup() %>% distinct() %>% count(id_type))$n\n",
    "        intersect_cols <- intersect(c('DFCI Primary','MSK Primary','TCGA'),colnames(effect_size_df))\n",
    "        mean_values <- rowMeans(effect_size_df[, intersect_cols], na.rm = TRUE)\n",
    "        effect_size_df$mean_ES <- mean_values\n",
    "        tumor_can_consistent_motif[[tumor_run]]<-list('all_motif'=cancer_all_motif_list,\n",
    "                                                      'motif_list'=list('all'=cancer_all,'atleast_two'=cancer_atleast_two),\n",
    "                                                      'motif_data_df'=cancer_df,\n",
    "                                                      'motif_mean_ES_df'=effect_size_df)\n",
    "        all_motifs<-unique(c(all_motifs,cancer_all_motif_list))\n",
    "    }\n",
    "    cat('--Running Done--',tumor_run,\"\\n\")\n",
    "}"
   ]
  },
  {
   "cell_type": "code",
   "execution_count": 70,
   "id": "d3303e5d-cfb4-4835-becd-cfa3e1e268dd",
   "metadata": {},
   "outputs": [
    {
     "data": {
      "text/html": [
       "441"
      ],
      "text/latex": [
       "441"
      ],
      "text/markdown": [
       "441"
      ],
      "text/plain": [
       "[1] 441"
      ]
     },
     "metadata": {},
     "output_type": "display_data"
    }
   ],
   "source": [
    "length(unique(all_motifs))"
   ]
  },
  {
   "cell_type": "code",
   "execution_count": 72,
   "id": "c860fbc5-6bb8-4062-97f3-e360f251a3c7",
   "metadata": {
    "scrolled": true
   },
   "outputs": [
    {
     "name": "stdout",
     "output_type": "stream",
     "text": [
      "List of 16\n",
      " $ bladder_cancer            :List of 4\n",
      "  ..$ all_motif       : chr [1:66] \"AKT1 - TP53_ME\" \"ARID1A - CTNNB1_CO\" \"ARID1A - FAT1_ME\" \"ARID1A - FGFR3_ME\" ...\n",
      "  ..$ motif_list      :List of 2\n",
      "  ..$ motif_data_df   :'data.frame':\t515 obs. of  28 variables:\n",
      "  ..$ motif_mean_ES_df: tibble [66 × 6] (S3: tbl_df/tbl/data.frame)\n",
      " $ breast_cancer             :List of 4\n",
      "  ..$ all_motif       : chr [1:44] \"AKT1 - GATA3_CO\" \"AKT1 - PIK3CA_ME\" \"AKT1 - TP53_ME\" \"ARID1A - TP53_ME\" ...\n",
      "  ..$ motif_list      :List of 2\n",
      "  ..$ motif_data_df   :'data.frame':\t331 obs. of  28 variables:\n",
      "  ..$ motif_mean_ES_df: tibble [44 × 6] (S3: tbl_df/tbl/data.frame)\n",
      " $ billary_tract_cancer      :List of 4\n",
      "  ..$ all_motif       : chr [1:6] \"ARID1A - KRAS_ME\" \"ARID1A - TP53_ME\" \"BAP1 - TP53_ME\" \"IDH1 - KRAS_ME\" ...\n",
      "  ..$ motif_list      :List of 2\n",
      "  ..$ motif_data_df   :'data.frame':\t91 obs. of  28 variables:\n",
      "  ..$ motif_mean_ES_df: tibble [6 × 5] (S3: tbl_df/tbl/data.frame)\n",
      " $ colorectal_cancer         :List of 4\n",
      "  ..$ all_motif       : chr [1:133] \"AKT1 - TP53_ME\" \"AMER1 - KRAS_CO\" \"APC - ARAF_ME\" \"APC - ARHGAP35_ME\" ...\n",
      "  ..$ motif_list      :List of 2\n",
      "  ..$ motif_data_df   :'data.frame':\t1048 obs. of  28 variables:\n",
      "  ..$ motif_mean_ES_df: tibble [133 × 6] (S3: tbl_df/tbl/data.frame)\n",
      " $ esophagogastric_cancer    :List of 4\n",
      "  ..$ all_motif       : chr [1:28] \"APC - ARID1A_ME\" \"APC - KRAS_CO\" \"ARAF - TP53_ME\" \"ARID1A - PIK3CA_CO\" ...\n",
      "  ..$ motif_list      :List of 2\n",
      "  ..$ motif_data_df   :'data.frame':\t227 obs. of  28 variables:\n",
      "  ..$ motif_mean_ES_df: tibble [28 × 6] (S3: tbl_df/tbl/data.frame)\n",
      " $ glioma                    :List of 4\n",
      "  ..$ all_motif       : chr [1:50] \"ARID1A - TP53_ME\" \"ATM - PTEN_ME\" \"ATRX - CIC_ME\" \"ATRX - EGFR_ME\" ...\n",
      "  ..$ motif_list      :List of 2\n",
      "  ..$ motif_data_df   :'data.frame':\t330 obs. of  28 variables:\n",
      "  ..$ motif_mean_ES_df: tibble [50 × 6] (S3: tbl_df/tbl/data.frame)\n",
      " $ head_and_neck_cancer      :List of 4\n",
      "  ..$ all_motif       : chr [1:5] \"CASP8 - CDKN2A_CO\" \"CDKN2A - TP53_CO\" \"EP300 - TP53_ME\" \"FBXW7 - TP53_ME\" ...\n",
      "  ..$ motif_list      :List of 2\n",
      "  ..$ motif_data_df   :'data.frame':\t60 obs. of  28 variables:\n",
      "  ..$ motif_mean_ES_df: tibble [5 × 6] (S3: tbl_df/tbl/data.frame)\n",
      " $ renal_cell_carcinoma      :List of 4\n",
      "  ..$ all_motif       : chr [1:4] \"BAP1 - PBRM1_ME\" \"PBRM1 - SETD2_CO\" \"PBRM1 - VHL_CO\" \"TP53 - VHL_ME\"\n",
      "  ..$ motif_list      :List of 2\n",
      "  ..$ motif_data_df   :'data.frame':\t38 obs. of  28 variables:\n",
      "  ..$ motif_mean_ES_df: tibble [4 × 6] (S3: tbl_df/tbl/data.frame)\n",
      " $ leukemia                  :List of 4\n",
      "  ..$ all_motif       : chr [1:6] \"ASXL1 - SRSF2_CO\" \"DNMT3A - IDH1_CO\" \"DNMT3A - NPM1_CO\" \"FLT3 - NPM1_CO\" ...\n",
      "  ..$ motif_list      :List of 2\n",
      "  ..$ motif_data_df   :'data.frame':\t50 obs. of  28 variables:\n",
      "  ..$ motif_mean_ES_df: tibble [6 × 6] (S3: tbl_df/tbl/data.frame)\n",
      " $ non_small_cell_lung_cancer:List of 4\n",
      "  ..$ all_motif       : chr [1:75] \"ARID1A - EGFR_ME\" \"ARID1A - STK11_ME\" \"ATM - EGFR_ME\" \"ATM - KRAS_CO\" ...\n",
      "  ..$ motif_list      :List of 2\n",
      "  ..$ motif_data_df   :'data.frame':\t633 obs. of  28 variables:\n",
      "  ..$ motif_mean_ES_df: tibble [75 × 6] (S3: tbl_df/tbl/data.frame)\n",
      " $ ovarian_cancer            :List of 4\n",
      "  ..$ all_motif       : chr [1:3] \"ARID1A - PIK3CA_CO\" \"ARID1A - TP53_ME\" \"PIK3CA - TP53_ME\"\n",
      "  ..$ motif_list      :List of 2\n",
      "  ..$ motif_data_df   :'data.frame':\t50 obs. of  28 variables:\n",
      "  ..$ motif_mean_ES_df: tibble [3 × 5] (S3: tbl_df/tbl/data.frame)\n",
      " $ pancreatic_cancer         :List of 4\n",
      "  ..$ all_motif       : chr [1:15] \"ATM - TP53_ME\" \"BRAF - KRAS_ME\" \"BRCA2 - TP53_ME\" \"CDKN2A - KRAS_CO\" ...\n",
      "  ..$ motif_list      :List of 2\n",
      "  ..$ motif_data_df   :'data.frame':\t184 obs. of  28 variables:\n",
      "  ..$ motif_mean_ES_df: tibble [15 × 6] (S3: tbl_df/tbl/data.frame)\n",
      " $ prostate_cancer           :List of 4\n",
      "  ..$ all_motif       : chr [1:3] \"ATM - TP53_ME\" \"BRCA2 - TP53_ME\" \"KMT2D - TP53_ME\"\n",
      "  ..$ motif_list      :List of 2\n",
      "  ..$ motif_data_df   :'data.frame':\t84 obs. of  28 variables:\n",
      "  ..$ motif_mean_ES_df: tibble [3 × 5] (S3: tbl_df/tbl/data.frame)\n",
      " $ melanoma                  :List of 4\n",
      "  ..$ all_motif       : chr [1:15] \"ARID1A - BRAF_ME\" \"ARID1A - NRAS_ME\" \"BAP1 - GNAQ_CO\" \"BRAF - CDK4_CO\" ...\n",
      "  ..$ motif_list      :List of 2\n",
      "  ..$ motif_data_df   :'data.frame':\t158 obs. of  28 variables:\n",
      "  ..$ motif_mean_ES_df: tibble [15 × 6] (S3: tbl_df/tbl/data.frame)\n",
      " $ thyroid_cancer            :List of 4\n",
      "  ..$ all_motif       : chr [1:3] \"BRAF - HRAS_ME\" \"BRAF - KRAS_ME\" \"BRAF - NRAS_ME\"\n",
      "  ..$ motif_list      :List of 2\n",
      "  ..$ motif_data_df   :'data.frame':\t40 obs. of  28 variables:\n",
      "  ..$ motif_mean_ES_df: tibble [3 × 6] (S3: tbl_df/tbl/data.frame)\n",
      " $ endometrial_cancer        :List of 4\n",
      "  ..$ all_motif       : chr [1:103] \"AKT1 - ARID1A_ME\" \"AKT1 - CTNNB1_CO\" \"AKT1 - PIK3CA_ME\" \"AKT1 - PIK3R1_ME\" ...\n",
      "  ..$ motif_list      :List of 2\n",
      "  ..$ motif_data_df   :'data.frame':\t1085 obs. of  28 variables:\n",
      "  ..$ motif_mean_ES_df: tibble [103 × 6] (S3: tbl_df/tbl/data.frame)\n"
     ]
    }
   ],
   "source": [
    "str(tumor_can_consistent_motif,max.level = 2)"
   ]
  },
  {
   "cell_type": "code",
   "execution_count": 73,
   "id": "977ec2ea-645f-4274-a994-9830e240a1c3",
   "metadata": {},
   "outputs": [],
   "source": [
    "tumor_can_consistent_motif_v15<- list('tumor_types'=names(tumor_can_consistent_motif),\n",
    "                                       'all_motif'=all_motifs,\n",
    "                                       'tumor_run_lists'=tumor_can_consistent_motif)"
   ]
  },
  {
   "cell_type": "code",
   "execution_count": 74,
   "id": "28b56c90-8205-4b2f-b397-c2ba29d89ea1",
   "metadata": {
    "scrolled": true
   },
   "outputs": [
    {
     "name": "stdout",
     "output_type": "stream",
     "text": [
      "List of 3\n",
      " $ tumor_types    : chr [1:16] \"bladder_cancer\" \"breast_cancer\" \"billary_tract_cancer\" \"colorectal_cancer\" ...\n",
      " $ all_motif      : chr [1:441] \"AKT1 - TP53_ME\" \"ARID1A - CTNNB1_CO\" \"ARID1A - FAT1_ME\" \"ARID1A - FGFR3_ME\" ...\n",
      " $ tumor_run_lists:List of 16\n",
      "  ..$ bladder_cancer            :List of 4\n",
      "  .. ..$ all_motif       : chr [1:66] \"AKT1 - TP53_ME\" \"ARID1A - CTNNB1_CO\" \"ARID1A - FAT1_ME\" \"ARID1A - FGFR3_ME\" ...\n",
      "  .. ..$ motif_list      :List of 2\n",
      "  .. ..$ motif_data_df   :'data.frame':\t515 obs. of  28 variables:\n",
      "  .. ..$ motif_mean_ES_df: tibble [66 × 6] (S3: tbl_df/tbl/data.frame)\n",
      "  ..$ breast_cancer             :List of 4\n",
      "  .. ..$ all_motif       : chr [1:44] \"AKT1 - GATA3_CO\" \"AKT1 - PIK3CA_ME\" \"AKT1 - TP53_ME\" \"ARID1A - TP53_ME\" ...\n",
      "  .. ..$ motif_list      :List of 2\n",
      "  .. ..$ motif_data_df   :'data.frame':\t331 obs. of  28 variables:\n",
      "  .. ..$ motif_mean_ES_df: tibble [44 × 6] (S3: tbl_df/tbl/data.frame)\n",
      "  ..$ billary_tract_cancer      :List of 4\n",
      "  .. ..$ all_motif       : chr [1:6] \"ARID1A - KRAS_ME\" \"ARID1A - TP53_ME\" \"BAP1 - TP53_ME\" \"IDH1 - KRAS_ME\" ...\n",
      "  .. ..$ motif_list      :List of 2\n",
      "  .. ..$ motif_data_df   :'data.frame':\t91 obs. of  28 variables:\n",
      "  .. ..$ motif_mean_ES_df: tibble [6 × 5] (S3: tbl_df/tbl/data.frame)\n",
      "  ..$ colorectal_cancer         :List of 4\n",
      "  .. ..$ all_motif       : chr [1:133] \"AKT1 - TP53_ME\" \"AMER1 - KRAS_CO\" \"APC - ARAF_ME\" \"APC - ARHGAP35_ME\" ...\n",
      "  .. ..$ motif_list      :List of 2\n",
      "  .. ..$ motif_data_df   :'data.frame':\t1048 obs. of  28 variables:\n",
      "  .. ..$ motif_mean_ES_df: tibble [133 × 6] (S3: tbl_df/tbl/data.frame)\n",
      "  ..$ esophagogastric_cancer    :List of 4\n",
      "  .. ..$ all_motif       : chr [1:28] \"APC - ARID1A_ME\" \"APC - KRAS_CO\" \"ARAF - TP53_ME\" \"ARID1A - PIK3CA_CO\" ...\n",
      "  .. ..$ motif_list      :List of 2\n",
      "  .. ..$ motif_data_df   :'data.frame':\t227 obs. of  28 variables:\n",
      "  .. ..$ motif_mean_ES_df: tibble [28 × 6] (S3: tbl_df/tbl/data.frame)\n",
      "  ..$ glioma                    :List of 4\n",
      "  .. ..$ all_motif       : chr [1:50] \"ARID1A - TP53_ME\" \"ATM - PTEN_ME\" \"ATRX - CIC_ME\" \"ATRX - EGFR_ME\" ...\n",
      "  .. ..$ motif_list      :List of 2\n",
      "  .. ..$ motif_data_df   :'data.frame':\t330 obs. of  28 variables:\n",
      "  .. ..$ motif_mean_ES_df: tibble [50 × 6] (S3: tbl_df/tbl/data.frame)\n",
      "  ..$ head_and_neck_cancer      :List of 4\n",
      "  .. ..$ all_motif       : chr [1:5] \"CASP8 - CDKN2A_CO\" \"CDKN2A - TP53_CO\" \"EP300 - TP53_ME\" \"FBXW7 - TP53_ME\" ...\n",
      "  .. ..$ motif_list      :List of 2\n",
      "  .. ..$ motif_data_df   :'data.frame':\t60 obs. of  28 variables:\n",
      "  .. ..$ motif_mean_ES_df: tibble [5 × 6] (S3: tbl_df/tbl/data.frame)\n",
      "  ..$ renal_cell_carcinoma      :List of 4\n",
      "  .. ..$ all_motif       : chr [1:4] \"BAP1 - PBRM1_ME\" \"PBRM1 - SETD2_CO\" \"PBRM1 - VHL_CO\" \"TP53 - VHL_ME\"\n",
      "  .. ..$ motif_list      :List of 2\n",
      "  .. ..$ motif_data_df   :'data.frame':\t38 obs. of  28 variables:\n",
      "  .. ..$ motif_mean_ES_df: tibble [4 × 6] (S3: tbl_df/tbl/data.frame)\n",
      "  ..$ leukemia                  :List of 4\n",
      "  .. ..$ all_motif       : chr [1:6] \"ASXL1 - SRSF2_CO\" \"DNMT3A - IDH1_CO\" \"DNMT3A - NPM1_CO\" \"FLT3 - NPM1_CO\" ...\n",
      "  .. ..$ motif_list      :List of 2\n",
      "  .. ..$ motif_data_df   :'data.frame':\t50 obs. of  28 variables:\n",
      "  .. ..$ motif_mean_ES_df: tibble [6 × 6] (S3: tbl_df/tbl/data.frame)\n",
      "  ..$ non_small_cell_lung_cancer:List of 4\n",
      "  .. ..$ all_motif       : chr [1:75] \"ARID1A - EGFR_ME\" \"ARID1A - STK11_ME\" \"ATM - EGFR_ME\" \"ATM - KRAS_CO\" ...\n",
      "  .. ..$ motif_list      :List of 2\n",
      "  .. ..$ motif_data_df   :'data.frame':\t633 obs. of  28 variables:\n",
      "  .. ..$ motif_mean_ES_df: tibble [75 × 6] (S3: tbl_df/tbl/data.frame)\n",
      "  ..$ ovarian_cancer            :List of 4\n",
      "  .. ..$ all_motif       : chr [1:3] \"ARID1A - PIK3CA_CO\" \"ARID1A - TP53_ME\" \"PIK3CA - TP53_ME\"\n",
      "  .. ..$ motif_list      :List of 2\n",
      "  .. ..$ motif_data_df   :'data.frame':\t50 obs. of  28 variables:\n",
      "  .. ..$ motif_mean_ES_df: tibble [3 × 5] (S3: tbl_df/tbl/data.frame)\n",
      "  ..$ pancreatic_cancer         :List of 4\n",
      "  .. ..$ all_motif       : chr [1:15] \"ATM - TP53_ME\" \"BRAF - KRAS_ME\" \"BRCA2 - TP53_ME\" \"CDKN2A - KRAS_CO\" ...\n",
      "  .. ..$ motif_list      :List of 2\n",
      "  .. ..$ motif_data_df   :'data.frame':\t184 obs. of  28 variables:\n",
      "  .. ..$ motif_mean_ES_df: tibble [15 × 6] (S3: tbl_df/tbl/data.frame)\n",
      "  ..$ prostate_cancer           :List of 4\n",
      "  .. ..$ all_motif       : chr [1:3] \"ATM - TP53_ME\" \"BRCA2 - TP53_ME\" \"KMT2D - TP53_ME\"\n",
      "  .. ..$ motif_list      :List of 2\n",
      "  .. ..$ motif_data_df   :'data.frame':\t84 obs. of  28 variables:\n",
      "  .. ..$ motif_mean_ES_df: tibble [3 × 5] (S3: tbl_df/tbl/data.frame)\n",
      "  ..$ melanoma                  :List of 4\n",
      "  .. ..$ all_motif       : chr [1:15] \"ARID1A - BRAF_ME\" \"ARID1A - NRAS_ME\" \"BAP1 - GNAQ_CO\" \"BRAF - CDK4_CO\" ...\n",
      "  .. ..$ motif_list      :List of 2\n",
      "  .. ..$ motif_data_df   :'data.frame':\t158 obs. of  28 variables:\n",
      "  .. ..$ motif_mean_ES_df: tibble [15 × 6] (S3: tbl_df/tbl/data.frame)\n",
      "  ..$ thyroid_cancer            :List of 4\n",
      "  .. ..$ all_motif       : chr [1:3] \"BRAF - HRAS_ME\" \"BRAF - KRAS_ME\" \"BRAF - NRAS_ME\"\n",
      "  .. ..$ motif_list      :List of 2\n",
      "  .. ..$ motif_data_df   :'data.frame':\t40 obs. of  28 variables:\n",
      "  .. ..$ motif_mean_ES_df: tibble [3 × 6] (S3: tbl_df/tbl/data.frame)\n",
      "  ..$ endometrial_cancer        :List of 4\n",
      "  .. ..$ all_motif       : chr [1:103] \"AKT1 - ARID1A_ME\" \"AKT1 - CTNNB1_CO\" \"AKT1 - PIK3CA_ME\" \"AKT1 - PIK3R1_ME\" ...\n",
      "  .. ..$ motif_list      :List of 2\n",
      "  .. ..$ motif_data_df   :'data.frame':\t1085 obs. of  28 variables:\n",
      "  .. ..$ motif_mean_ES_df: tibble [103 × 6] (S3: tbl_df/tbl/data.frame)\n"
     ]
    }
   ],
   "source": [
    "str(tumor_can_consistent_motif_v15,max.level = 3)"
   ]
  },
  {
   "cell_type": "code",
   "execution_count": null,
   "id": "d41b4c3a-788a-489e-bfe7-9b8938a88aa2",
   "metadata": {},
   "outputs": [],
   "source": [
    "saveRDS(tumor_can_consistent_motif_v15,file='../results/tumor_can_consistent_motif_v15_fdr_25_update.rds')"
   ]
  },
  {
   "cell_type": "code",
   "execution_count": null,
   "id": "4e6c4cd1-92aa-4f4d-a1d5-6c9a87c6bd03",
   "metadata": {},
   "outputs": [],
   "source": []
  }
 ],
 "metadata": {
  "kernelspec": {
   "display_name": "R",
   "language": "R",
   "name": "ir"
  },
  "language_info": {
   "codemirror_mode": "r",
   "file_extension": ".r",
   "mimetype": "text/x-r-source",
   "name": "R",
   "pygments_lexer": "r",
   "version": "4.3.2"
  }
 },
 "nbformat": 4,
 "nbformat_minor": 5
}
