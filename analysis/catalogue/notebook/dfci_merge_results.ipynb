{
 "cells": [
  {
   "cell_type": "code",
   "execution_count": 1,
   "id": "16e3d253-bb56-4bfd-a2c6-687a5b109b84",
   "metadata": {
    "scrolled": true
   },
   "outputs": [
    {
     "name": "stderr",
     "output_type": "stream",
     "text": [
      "── \u001b[1mAttaching core tidyverse packages\u001b[22m ───────────────────────────────────────────────────────────────────────────────────────────────────────────────────────────────────── tidyverse 2.0.0 ──\n",
      "\u001b[32m✔\u001b[39m \u001b[34mdplyr    \u001b[39m 1.1.4     \u001b[32m✔\u001b[39m \u001b[34mreadr    \u001b[39m 2.1.5\n",
      "\u001b[32m✔\u001b[39m \u001b[34mforcats  \u001b[39m 1.0.0     \u001b[32m✔\u001b[39m \u001b[34mstringr  \u001b[39m 1.5.1\n",
      "\u001b[32m✔\u001b[39m \u001b[34mggplot2  \u001b[39m 3.4.4     \u001b[32m✔\u001b[39m \u001b[34mtibble   \u001b[39m 3.2.1\n",
      "\u001b[32m✔\u001b[39m \u001b[34mlubridate\u001b[39m 1.9.3     \u001b[32m✔\u001b[39m \u001b[34mtidyr    \u001b[39m 1.3.0\n",
      "\u001b[32m✔\u001b[39m \u001b[34mpurrr    \u001b[39m 1.0.2     \n",
      "── \u001b[1mConflicts\u001b[22m ─────────────────────────────────────────────────────────────────────────────────────────────────────────────────────────────────────────────────────── tidyverse_conflicts() ──\n",
      "\u001b[31m✖\u001b[39m \u001b[34mdplyr\u001b[39m::\u001b[32mfilter()\u001b[39m masks \u001b[34mstats\u001b[39m::filter()\n",
      "\u001b[31m✖\u001b[39m \u001b[34mdplyr\u001b[39m::\u001b[32mlag()\u001b[39m    masks \u001b[34mstats\u001b[39m::lag()\n",
      "\u001b[36mℹ\u001b[39m Use the conflicted package (\u001b[3m\u001b[34m<http://conflicted.r-lib.org/>\u001b[39m\u001b[23m) to force all conflicts to become errors\n"
     ]
    }
   ],
   "source": [
    "library('SelectX')\n",
    "library('tidyverse')"
   ]
  },
  {
   "cell_type": "code",
   "execution_count": 2,
   "id": "80085231-a5fa-48f2-bf2d-9431f5ccfd8a",
   "metadata": {
    "scrolled": true
   },
   "outputs": [
    {
     "data": {
      "text/plain": [
       "R version 4.3.2 (2023-10-31)\n",
       "Platform: x86_64-conda-linux-gnu (64-bit)\n",
       "Running under: CentOS Linux 7 (Core)\n",
       "\n",
       "Matrix products: default\n",
       "BLAS/LAPACK: /mnt/ndata/arvind/envs/R_4/lib/libopenblasp-r0.3.25.so;  LAPACK version 3.11.0\n",
       "\n",
       "locale:\n",
       " [1] LC_CTYPE=en_US.UTF-8       LC_NUMERIC=C              \n",
       " [3] LC_TIME=en_US.UTF-8        LC_COLLATE=en_US.UTF-8    \n",
       " [5] LC_MONETARY=en_US.UTF-8    LC_MESSAGES=en_US.UTF-8   \n",
       " [7] LC_PAPER=en_US.UTF-8       LC_NAME=C                 \n",
       " [9] LC_ADDRESS=C               LC_TELEPHONE=C            \n",
       "[11] LC_MEASUREMENT=en_US.UTF-8 LC_IDENTIFICATION=C       \n",
       "\n",
       "time zone: Europe/Zurich\n",
       "tzcode source: system (glibc)\n",
       "\n",
       "attached base packages:\n",
       "[1] stats     graphics  grDevices utils     datasets  methods   base     \n",
       "\n",
       "other attached packages:\n",
       " [1] lubridate_1.9.3 forcats_1.0.0   stringr_1.5.1   dplyr_1.1.4    \n",
       " [5] purrr_1.0.2     readr_2.1.5     tidyr_1.3.0     tibble_3.2.1   \n",
       " [9] ggplot2_3.4.4   tidyverse_2.0.0 SelectX_0.0.1.3\n",
       "\n",
       "loaded via a namespace (and not attached):\n",
       " [1] utf8_1.2.4         generics_0.1.3     rstatix_0.7.2      stringi_1.8.3     \n",
       " [5] lattice_0.22-5     hms_1.1.3          digest_0.6.34      magrittr_2.0.3    \n",
       " [9] timechange_0.3.0   evaluate_0.23      grid_4.3.2         pbdZMQ_0.3-11     \n",
       "[13] iterators_1.0.14   fastmap_1.1.1      plyr_1.8.9         foreach_1.5.2     \n",
       "[17] doParallel_1.0.17  jsonlite_1.8.8     Matrix_1.6-5       backports_1.4.1   \n",
       "[21] fansi_1.0.6        doRNG_1.8.6        scales_1.3.0       codetools_0.2-19  \n",
       "[25] abind_1.4-5        cli_3.6.2          rlang_1.1.3        crayon_1.5.2      \n",
       "[29] munsell_0.5.0      withr_3.0.0        base64enc_0.1-3    repr_1.1.6        \n",
       "[33] tools_4.3.2        parallel_4.3.2     tzdb_0.4.0         reshape2_1.4.4    \n",
       "[37] uuid_1.2-0         ggsignif_0.6.4     colorspace_2.1-0   ggpubr_0.6.0      \n",
       "[41] rngtools_1.5.2     Rfast_2.1.0        RcppZiggurat_0.1.6 broom_1.0.5       \n",
       "[45] IRdisplay_1.1      vctrs_0.6.5        R6_2.5.1           ggridges_0.5.5    \n",
       "[49] lifecycle_1.0.4    tictoc_1.2         car_3.1-2          pkgconfig_2.0.3   \n",
       "[53] RcppParallel_5.1.6 pillar_1.9.0       gtable_0.3.4       glue_1.7.0        \n",
       "[57] Rcpp_1.0.12        tidyselect_1.2.0   IRkernel_1.3.2     htmltools_0.5.7   \n",
       "[61] carData_3.0-5      compiler_4.3.2    "
      ]
     },
     "metadata": {},
     "output_type": "display_data"
    }
   ],
   "source": [
    "sessionInfo()"
   ]
  },
  {
   "cell_type": "markdown",
   "id": "0b484d87-95b8-4a67-8bcb-e8ee649ea795",
   "metadata": {},
   "source": [
    "# Metadata"
   ]
  },
  {
   "cell_type": "code",
   "execution_count": 3,
   "id": "959593ed-69b5-4e43-ad7b-6fba2c2777fc",
   "metadata": {},
   "outputs": [],
   "source": [
    "all_merged_metdata <- readRDS(file='/mnt/ndata/arvind/co_mutation_project/data/processed/all_merged_data_genie_v15.rds')\n",
    "genie_metadata_15_dfci_with_mutation_selected_final_atleast_100_samples<-readRDS(file='/mnt/ndata/arvind/co_mutation_project/data/processed/genie/dfci_one_patient_one_sample_final.rds')"
   ]
  },
  {
   "cell_type": "code",
   "execution_count": 4,
   "id": "5135c86a-1389-4118-a8fa-5db922b17b0d",
   "metadata": {},
   "outputs": [],
   "source": [
    "dfci_run_gene_list <- readRDS(file='/mnt/ndata/arvind/co_mutation_project/analysis/catalogue/data/dfci_oncokb_gene_run_list.rds')"
   ]
  },
  {
   "cell_type": "code",
   "execution_count": 5,
   "id": "abc185ab-6d8d-422f-87e8-31f0b9ee902e",
   "metadata": {},
   "outputs": [
    {
     "data": {
      "text/html": [
       "<table class=\"dataframe\">\n",
       "<caption>A data.frame: 1 × 10</caption>\n",
       "<thead>\n",
       "\t<tr><th></th><th scope=col>sample</th><th scope=col>class</th><th scope=col>tumor_run</th><th scope=col>oncotree</th><th scope=col>cancer_type</th><th scope=col>race</th><th scope=col>cohort</th><th scope=col>tumor_run_mapped</th><th scope=col>Tissue</th><th scope=col>final_tumor_run_mapped</th></tr>\n",
       "\t<tr><th></th><th scope=col>&lt;chr&gt;</th><th scope=col>&lt;chr&gt;</th><th scope=col>&lt;chr&gt;</th><th scope=col>&lt;chr&gt;</th><th scope=col>&lt;chr&gt;</th><th scope=col>&lt;chr&gt;</th><th scope=col>&lt;chr&gt;</th><th scope=col>&lt;chr&gt;</th><th scope=col>&lt;chr&gt;</th><th scope=col>&lt;chr&gt;</th></tr>\n",
       "</thead>\n",
       "<tbody>\n",
       "\t<tr><th scope=row>1</th><td>TCGA-OR-A5J5-01</td><td>ACC</td><td>ACC</td><td>ACC</td><td>Adrenocortical Carcinoma</td><td>White</td><td>TCGA</td><td>No mapping</td><td>Adrenal Gland</td><td>ACC</td></tr>\n",
       "</tbody>\n",
       "</table>\n"
      ],
      "text/latex": [
       "A data.frame: 1 × 10\n",
       "\\begin{tabular}{r|llllllllll}\n",
       "  & sample & class & tumor\\_run & oncotree & cancer\\_type & race & cohort & tumor\\_run\\_mapped & Tissue & final\\_tumor\\_run\\_mapped\\\\\n",
       "  & <chr> & <chr> & <chr> & <chr> & <chr> & <chr> & <chr> & <chr> & <chr> & <chr>\\\\\n",
       "\\hline\n",
       "\t1 & TCGA-OR-A5J5-01 & ACC & ACC & ACC & Adrenocortical Carcinoma & White & TCGA & No mapping & Adrenal Gland & ACC\\\\\n",
       "\\end{tabular}\n"
      ],
      "text/markdown": [
       "\n",
       "A data.frame: 1 × 10\n",
       "\n",
       "| <!--/--> | sample &lt;chr&gt; | class &lt;chr&gt; | tumor_run &lt;chr&gt; | oncotree &lt;chr&gt; | cancer_type &lt;chr&gt; | race &lt;chr&gt; | cohort &lt;chr&gt; | tumor_run_mapped &lt;chr&gt; | Tissue &lt;chr&gt; | final_tumor_run_mapped &lt;chr&gt; |\n",
       "|---|---|---|---|---|---|---|---|---|---|---|\n",
       "| 1 | TCGA-OR-A5J5-01 | ACC | ACC | ACC | Adrenocortical Carcinoma | White | TCGA | No mapping | Adrenal Gland | ACC |\n",
       "\n"
      ],
      "text/plain": [
       "  sample          class tumor_run oncotree cancer_type              race \n",
       "1 TCGA-OR-A5J5-01 ACC   ACC       ACC      Adrenocortical Carcinoma White\n",
       "  cohort tumor_run_mapped Tissue        final_tumor_run_mapped\n",
       "1 TCGA   No mapping       Adrenal Gland ACC                   "
      ]
     },
     "metadata": {},
     "output_type": "display_data"
    }
   ],
   "source": [
    "head(all_merged_metdata,1)"
   ]
  },
  {
   "cell_type": "code",
   "execution_count": 6,
   "id": "1c3e3527-564f-4b7f-8f1b-5960fe043e0b",
   "metadata": {},
   "outputs": [
    {
     "name": "stdout",
     "output_type": "stream",
     "text": [
      "List of 4\n",
      " $ all: chr [1:177] \"MTOR\" \"NRAS\" \"NTRK1\" \"SDHC\" ...\n",
      " $ p_2: chr [1:194] \"MTOR\" \"NRAS\" \"CD58\" \"NTRK1\" ...\n",
      " $ p_3: chr [1:257] \"MTOR\" \"NRAS\" \"RIT1\" \"NTRK1\" ...\n",
      " $ p_1: chr [1:183] \"MTOR\" \"NRAS\" \"CD58\" \"NTRK1\" ...\n"
     ]
    }
   ],
   "source": [
    "str(dfci_run_gene_list)"
   ]
  },
  {
   "cell_type": "markdown",
   "id": "e01d913d-abac-4aa5-ba0f-d49ae4d832ed",
   "metadata": {},
   "source": [
    "# Primary run"
   ]
  },
  {
   "cell_type": "code",
   "execution_count": 7,
   "id": "7530a7d1-0ede-46a6-8a68-bf6e70d41df0",
   "metadata": {},
   "outputs": [],
   "source": [
    "dfci_run_p_data <- readRDS('/mnt/ndata/arvind/co_mutation_project/data/processed/gams/pan_can_dfci_primary_run_data_v15.rds')"
   ]
  },
  {
   "cell_type": "code",
   "execution_count": 8,
   "id": "48abff7b-5c2f-43f3-aafd-8807efe09487",
   "metadata": {
    "scrolled": true
   },
   "outputs": [
    {
     "name": "stdout",
     "output_type": "stream",
     "text": [
      "List of 3\n",
      " $ M               :List of 2\n",
      "  ..$ M  :List of 2\n",
      "  .. ..$ missense  : num [1:396, 1:14657] 0 0 0 0 0 0 0 0 0 0 ...\n",
      "  .. .. ..- attr(*, \"dimnames\")=List of 2\n",
      "  .. .. .. ..$ : chr [1:396] \"AKT1\" \"ALK\" \"APC\" \"AR\" ...\n",
      "  .. .. .. ..$ : chr [1:14657] \"GENIE-DFCI-000018-4015\" \"GENIE-DFCI-003388-5143\" \"GENIE-DFCI-001376-5688\" \"GENIE-DFCI-001329-1827\" ...\n",
      "  .. ..$ truncating: num [1:396, 1:14657] 0 0 0 0 0 0 0 0 0 0 ...\n",
      "  .. .. ..- attr(*, \"dimnames\")=List of 2\n",
      "  .. .. .. ..$ : chr [1:396] \"AKT1\" \"ALK\" \"APC\" \"AR\" ...\n",
      "  .. .. .. ..$ : chr [1:14657] \"GENIE-DFCI-000018-4015\" \"GENIE-DFCI-003388-5143\" \"GENIE-DFCI-001376-5688\" \"GENIE-DFCI-001329-1827\" ...\n",
      "  ..$ tmb:List of 2\n",
      "  .. ..$ missense  :'data.frame':\t14657 obs. of  2 variables:\n",
      "  .. .. ..$ sample  : chr [1:14657] \"GENIE-DFCI-000018-4015\" \"GENIE-DFCI-003388-5143\" \"GENIE-DFCI-001376-5688\" \"GENIE-DFCI-001329-1827\" ...\n",
      "  .. .. ..$ mutation: num [1:14657] 6 9 3 5 1 1 7 5 0 2 ...\n",
      "  .. ..$ truncating:'data.frame':\t14657 obs. of  2 variables:\n",
      "  .. .. ..$ sample  : chr [1:14657] \"GENIE-DFCI-000018-4015\" \"GENIE-DFCI-003388-5143\" \"GENIE-DFCI-001376-5688\" \"GENIE-DFCI-001329-1827\" ...\n",
      "  .. .. ..$ mutation: num [1:14657] 0 2 1 3 2 5 1 1 1 1 ...\n",
      " $ sample.class    : Named chr [1:14657] \"BLCA\" \"LUSC\" \"THPA\" \"UCEC_LM\" ...\n",
      "  ..- attr(*, \"names\")= chr [1:14657] \"GENIE-DFCI-000018-4015\" \"GENIE-DFCI-003388-5143\" \"GENIE-DFCI-001376-5688\" \"GENIE-DFCI-001329-1827\" ...\n",
      " $ alteration.class: Named chr [1:396] \"MUT\" \"MUT\" \"MUT\" \"MUT\" ...\n",
      "  ..- attr(*, \"names\")= chr [1:396] \"AKT1\" \"ALK\" \"APC\" \"AR\" ...\n"
     ]
    }
   ],
   "source": [
    "str(dfci_run_p_data)"
   ]
  },
  {
   "cell_type": "code",
   "execution_count": 9,
   "id": "c32b8781-18f7-469e-ac43-ae95a35883ca",
   "metadata": {},
   "outputs": [
    {
     "name": "stdout",
     "output_type": "stream",
     "text": [
      " Named chr [1:14657] \"BLCA\" \"LUSC\" \"THPA\" \"UCEC_LM\" \"SCLC\" \"LUAD\" \"HNSC\" ...\n",
      " - attr(*, \"names\")= chr [1:14657] \"GENIE-DFCI-000018-4015\" \"GENIE-DFCI-003388-5143\" \"GENIE-DFCI-001376-5688\" \"GENIE-DFCI-001329-1827\" ...\n"
     ]
    }
   ],
   "source": [
    "str(dfci_run_p_data$sample.class)"
   ]
  },
  {
   "cell_type": "code",
   "execution_count": 10,
   "id": "6d98b99b-1641-4f79-9de7-5ac8574c48ae",
   "metadata": {},
   "outputs": [
    {
     "data": {
      "text/html": [
       "<table class=\"dataframe\">\n",
       "<caption>A data.frame: 1 × 20</caption>\n",
       "<thead>\n",
       "\t<tr><th></th><th scope=col>PATIENT_ID</th><th scope=col>SEX</th><th scope=col>PRIMARY_RACE</th><th scope=col>ETHNICITY</th><th scope=col>CENTER</th><th scope=col>INT_CONTACT</th><th scope=col>INT_DOD</th><th scope=col>YEAR_CONTACT</th><th scope=col>DEAD</th><th scope=col>YEAR_DEATH</th><th scope=col>SAMPLE_ID</th><th scope=col>AGE_AT_SEQ_REPORT</th><th scope=col>ONCOTREE_CODE</th><th scope=col>SAMPLE_TYPE</th><th scope=col>SEQ_ASSAY_ID</th><th scope=col>CANCER_TYPE</th><th scope=col>CANCER_TYPE_DETAILED</th><th scope=col>SAMPLE_TYPE_DETAILED</th><th scope=col>final_class</th><th scope=col>final_run_group</th></tr>\n",
       "\t<tr><th></th><th scope=col>&lt;chr&gt;</th><th scope=col>&lt;chr&gt;</th><th scope=col>&lt;chr&gt;</th><th scope=col>&lt;chr&gt;</th><th scope=col>&lt;chr&gt;</th><th scope=col>&lt;chr&gt;</th><th scope=col>&lt;chr&gt;</th><th scope=col>&lt;chr&gt;</th><th scope=col>&lt;chr&gt;</th><th scope=col>&lt;chr&gt;</th><th scope=col>&lt;chr&gt;</th><th scope=col>&lt;chr&gt;</th><th scope=col>&lt;chr&gt;</th><th scope=col>&lt;chr&gt;</th><th scope=col>&lt;chr&gt;</th><th scope=col>&lt;chr&gt;</th><th scope=col>&lt;chr&gt;</th><th scope=col>&lt;chr&gt;</th><th scope=col>&lt;chr&gt;</th><th scope=col>&lt;chr&gt;</th></tr>\n",
       "</thead>\n",
       "<tbody>\n",
       "\t<tr><th scope=row>1</th><td>GENIE-DFCI-000145</td><td>Male</td><td>White</td><td>Non-Spanish/non-Hispanic</td><td>DFCI</td><td>26418</td><td>Not Applicable</td><td>2022</td><td>False</td><td>Not Applicable</td><td>GENIE-DFCI-000145-3971</td><td>64</td><td>LUAD</td><td>Metastasis</td><td>DFCI-ONCOPANEL-2</td><td>Non-Small Cell Lung Cancer</td><td>Lung Adenocarcinoma</td><td>Metastasis site unspecified</td><td>LUAD</td><td>Non-Small Cell Lung Cancer</td></tr>\n",
       "</tbody>\n",
       "</table>\n"
      ],
      "text/latex": [
       "A data.frame: 1 × 20\n",
       "\\begin{tabular}{r|llllllllllllllllllll}\n",
       "  & PATIENT\\_ID & SEX & PRIMARY\\_RACE & ETHNICITY & CENTER & INT\\_CONTACT & INT\\_DOD & YEAR\\_CONTACT & DEAD & YEAR\\_DEATH & SAMPLE\\_ID & AGE\\_AT\\_SEQ\\_REPORT & ONCOTREE\\_CODE & SAMPLE\\_TYPE & SEQ\\_ASSAY\\_ID & CANCER\\_TYPE & CANCER\\_TYPE\\_DETAILED & SAMPLE\\_TYPE\\_DETAILED & final\\_class & final\\_run\\_group\\\\\n",
       "  & <chr> & <chr> & <chr> & <chr> & <chr> & <chr> & <chr> & <chr> & <chr> & <chr> & <chr> & <chr> & <chr> & <chr> & <chr> & <chr> & <chr> & <chr> & <chr> & <chr>\\\\\n",
       "\\hline\n",
       "\t1 & GENIE-DFCI-000145 & Male & White & Non-Spanish/non-Hispanic & DFCI & 26418 & Not Applicable & 2022 & False & Not Applicable & GENIE-DFCI-000145-3971 & 64 & LUAD & Metastasis & DFCI-ONCOPANEL-2 & Non-Small Cell Lung Cancer & Lung Adenocarcinoma & Metastasis site unspecified & LUAD & Non-Small Cell Lung Cancer\\\\\n",
       "\\end{tabular}\n"
      ],
      "text/markdown": [
       "\n",
       "A data.frame: 1 × 20\n",
       "\n",
       "| <!--/--> | PATIENT_ID &lt;chr&gt; | SEX &lt;chr&gt; | PRIMARY_RACE &lt;chr&gt; | ETHNICITY &lt;chr&gt; | CENTER &lt;chr&gt; | INT_CONTACT &lt;chr&gt; | INT_DOD &lt;chr&gt; | YEAR_CONTACT &lt;chr&gt; | DEAD &lt;chr&gt; | YEAR_DEATH &lt;chr&gt; | SAMPLE_ID &lt;chr&gt; | AGE_AT_SEQ_REPORT &lt;chr&gt; | ONCOTREE_CODE &lt;chr&gt; | SAMPLE_TYPE &lt;chr&gt; | SEQ_ASSAY_ID &lt;chr&gt; | CANCER_TYPE &lt;chr&gt; | CANCER_TYPE_DETAILED &lt;chr&gt; | SAMPLE_TYPE_DETAILED &lt;chr&gt; | final_class &lt;chr&gt; | final_run_group &lt;chr&gt; |\n",
       "|---|---|---|---|---|---|---|---|---|---|---|---|---|---|---|---|---|---|---|---|---|\n",
       "| 1 | GENIE-DFCI-000145 | Male | White | Non-Spanish/non-Hispanic | DFCI | 26418 | Not Applicable | 2022 | False | Not Applicable | GENIE-DFCI-000145-3971 | 64 | LUAD | Metastasis | DFCI-ONCOPANEL-2 | Non-Small Cell Lung Cancer | Lung Adenocarcinoma | Metastasis site unspecified | LUAD | Non-Small Cell Lung Cancer |\n",
       "\n"
      ],
      "text/plain": [
       "  PATIENT_ID        SEX  PRIMARY_RACE ETHNICITY                CENTER\n",
       "1 GENIE-DFCI-000145 Male White        Non-Spanish/non-Hispanic DFCI  \n",
       "  INT_CONTACT INT_DOD        YEAR_CONTACT DEAD  YEAR_DEATH    \n",
       "1 26418       Not Applicable 2022         False Not Applicable\n",
       "  SAMPLE_ID              AGE_AT_SEQ_REPORT ONCOTREE_CODE SAMPLE_TYPE\n",
       "1 GENIE-DFCI-000145-3971 64                LUAD          Metastasis \n",
       "  SEQ_ASSAY_ID     CANCER_TYPE                CANCER_TYPE_DETAILED\n",
       "1 DFCI-ONCOPANEL-2 Non-Small Cell Lung Cancer Lung Adenocarcinoma \n",
       "  SAMPLE_TYPE_DETAILED        final_class final_run_group           \n",
       "1 Metastasis site unspecified LUAD        Non-Small Cell Lung Cancer"
      ]
     },
     "metadata": {},
     "output_type": "display_data"
    }
   ],
   "source": [
    "genie_metadata_15_dfci_with_mutation_selected_final_atleast_100_samples %>% head(1)"
   ]
  },
  {
   "cell_type": "code",
   "execution_count": 11,
   "id": "210615b4-7a5c-4d31-84c1-f159f7b8f13b",
   "metadata": {},
   "outputs": [
    {
     "name": "stdout",
     "output_type": "stream",
     "text": [
      "List of 4\n",
      " $ all: chr [1:177] \"MTOR\" \"NRAS\" \"NTRK1\" \"SDHC\" ...\n",
      " $ p_2: chr [1:194] \"MTOR\" \"NRAS\" \"CD58\" \"NTRK1\" ...\n",
      " $ p_3: chr [1:257] \"MTOR\" \"NRAS\" \"RIT1\" \"NTRK1\" ...\n",
      " $ p_1: chr [1:183] \"MTOR\" \"NRAS\" \"CD58\" \"NTRK1\" ...\n"
     ]
    }
   ],
   "source": [
    "str(dfci_run_gene_list)"
   ]
  },
  {
   "cell_type": "code",
   "execution_count": 12,
   "id": "8bc8be30-09f7-4ae8-932b-f3f4aa621ac7",
   "metadata": {},
   "outputs": [],
   "source": [
    "assay_id<-unique(genie_metadata_15_dfci_with_mutation_selected_final_atleast_100_samples$SEQ_ASSAY_ID)"
   ]
  },
  {
   "cell_type": "code",
   "execution_count": 13,
   "id": "74ef31ba-54c2-4c78-915a-fd06fb584de7",
   "metadata": {},
   "outputs": [
    {
     "data": {
      "text/html": [
       "<style>\n",
       ".list-inline {list-style: none; margin:0; padding: 0}\n",
       ".list-inline>li {display: inline-block}\n",
       ".list-inline>li:not(:last-child)::after {content: \"\\00b7\"; padding: 0 .5ex}\n",
       "</style>\n",
       "<ol class=list-inline><li>'DFCI-ONCOPANEL-2'</li><li>'DFCI-ONCOPANEL-1'</li><li>'DFCI-ONCOPANEL-3.1'</li><li>'DFCI-ONCOPANEL-3'</li></ol>\n"
      ],
      "text/latex": [
       "\\begin{enumerate*}\n",
       "\\item 'DFCI-ONCOPANEL-2'\n",
       "\\item 'DFCI-ONCOPANEL-1'\n",
       "\\item 'DFCI-ONCOPANEL-3.1'\n",
       "\\item 'DFCI-ONCOPANEL-3'\n",
       "\\end{enumerate*}\n"
      ],
      "text/markdown": [
       "1. 'DFCI-ONCOPANEL-2'\n",
       "2. 'DFCI-ONCOPANEL-1'\n",
       "3. 'DFCI-ONCOPANEL-3.1'\n",
       "4. 'DFCI-ONCOPANEL-3'\n",
       "\n",
       "\n"
      ],
      "text/plain": [
       "[1] \"DFCI-ONCOPANEL-2\"   \"DFCI-ONCOPANEL-1\"   \"DFCI-ONCOPANEL-3.1\"\n",
       "[4] \"DFCI-ONCOPANEL-3\"  "
      ]
     },
     "metadata": {},
     "output_type": "display_data"
    }
   ],
   "source": [
    "assay_id"
   ]
  },
  {
   "cell_type": "code",
   "execution_count": 14,
   "id": "37f95bdd-0755-450b-a3ac-b35884bf95da",
   "metadata": {},
   "outputs": [],
   "source": [
    "pan_can_result <- list()"
   ]
  },
  {
   "cell_type": "code",
   "execution_count": 16,
   "id": "995d8e5f-fde5-429d-9e2f-8776203b5b5e",
   "metadata": {},
   "outputs": [
    {
     "name": "stdout",
     "output_type": "stream",
     "text": [
      "--Running: all --\n",
      "\n",
      "---Done---\n",
      "--Running: p_2 --\n",
      "\n",
      "---Done---\n",
      "--Running: p_3 --\n",
      "\n",
      "---Done---\n",
      "--Running: p_1 --\n",
      "\n",
      "---Done---\n"
     ]
    }
   ],
   "source": [
    "k=1\n",
    "dir='/mnt/ndata/arvind/co_mutation_project/analysis/catalogue/'\n",
    "for(name in names(dfci_run_gene_list)){\n",
    "    cat('--Running:',name,\"--\\n\")\n",
    "    if(name=='all'){\n",
    "        label<-paste(dir,'/results/','dfci_panel_',name,'_primary_result.rds',sep=\"\")\n",
    "        msk_result<-readRDS(file = label)\n",
    "        result_df <- msk_result$result\n",
    "        result_df <- result_df %>% mutate('Cohort'='DFCI Primary') %>% mutate('Panel'='all') %>% mutate('Tumor_run'='Pan-can')\n",
    "        pan_can_result[[k]]<-result_df\n",
    "        rm(msk_result)\n",
    "        k=k+1\n",
    "        label<-paste(dir,'/results/','dfci_panel_',name,'_meta_result.rds',sep=\"\")\n",
    "        msk_result<-readRDS(file = label)\n",
    "        result_df <- msk_result$result\n",
    "        result_df <- result_df %>% mutate('Cohort'='DFCI Metastasis') %>% mutate('Panel'='all') %>% mutate('Tumor_run'='Pan-can')\n",
    "        pan_can_result[[k]]<-result_df\n",
    "        rm(msk_result)\n",
    "        k=k+1\n",
    "    }\n",
    "    else if(name=='p_2'){\n",
    "        label<-paste(dir,'/results/','dfci_panel_',name,'_primary_result.rds',sep=\"\")\n",
    "        msk_result<-readRDS(file = label)\n",
    "        result_df <- msk_result$result\n",
    "        result_df <- result_df %>% mutate('Cohort'='DFCI Primary') %>% mutate('Panel'='p_2') %>% mutate('Tumor_run'='Pan-can')\n",
    "        pan_can_result[[k]]<-result_df\n",
    "        rm(msk_result)\n",
    "        k=k+1\n",
    "        label<-paste(dir,'/results/','dfci_panel_',name,'_meta_result.rds',sep=\"\")\n",
    "        msk_result<-readRDS(file = label)\n",
    "        result_df <- msk_result$result\n",
    "        result_df <- result_df %>% mutate('Cohort'='DFCI Metastasis') %>% mutate('Panel'='p_2') %>% mutate('Tumor_run'='Pan-can')\n",
    "        pan_can_result[[k]]<-result_df\n",
    "        rm(msk_result)\n",
    "        k=k+1\n",
    "    }\n",
    "    else if(name=='p_1'){\n",
    "        label<-paste(dir,'/results/','dfci_panel_',name,'_primary_result.rds',sep=\"\")\n",
    "        msk_result<-readRDS(file = label)\n",
    "        result_df <- msk_result$result\n",
    "        result_df <- result_df %>% mutate('Cohort'='DFCI Primary') %>% mutate('Panel'='p_1') %>% mutate('Tumor_run'='Pan-can')\n",
    "        pan_can_result[[k]]<-result_df\n",
    "        rm(msk_result)\n",
    "        k=k+1\n",
    "        label<-paste(dir,'/results/','dfci_panel_',name,'_meta_result.rds',sep=\"\")\n",
    "        msk_result<-readRDS(file = label)\n",
    "        result_df <- msk_result$result\n",
    "        result_df <- result_df %>% mutate('Cohort'='DFCI Metastasis') %>% mutate('Panel'='p_1') %>% mutate('Tumor_run'='Pan-can')\n",
    "        pan_can_result[[k]]<-result_df\n",
    "        rm(msk_result)\n",
    "        k=k+1\n",
    "    }\n",
    "    else{\n",
    "        label<-paste(dir,'/results/','dfci_panel_',name,'_primary_result.rds',sep=\"\")\n",
    "        msk_result<-readRDS(file = label)\n",
    "        result_df <- msk_result$result\n",
    "        result_df <- result_df %>% mutate('Cohort'='DFCI Primary') %>% mutate('Panel'='p_3') %>% mutate('Tumor_run'='Pan-can')\n",
    "        pan_can_result[[k]]<-result_df\n",
    "        rm(msk_result)\n",
    "        k=k+1\n",
    "        label<-paste(dir,'/results/','dfci_panel_',name,'_meta_result.rds',sep=\"\")\n",
    "        msk_result<-readRDS(file = label)\n",
    "        result_df <- msk_result$result\n",
    "        result_df <- result_df %>% mutate('Cohort'='DFCI Metastasis') %>% mutate('Panel'='p_3') %>% mutate('Tumor_run'='Pan-can')\n",
    "        pan_can_result[[k]]<-result_df\n",
    "        rm(msk_result)\n",
    "        k=k+1\n",
    "    }\n",
    " cat('\\n---Done---\\n')\n",
    "}"
   ]
  },
  {
   "cell_type": "code",
   "execution_count": 17,
   "id": "0ff773e2-a0f6-4e21-936c-213a3dd2590a",
   "metadata": {},
   "outputs": [
    {
     "data": {
      "text/html": [
       "8"
      ],
      "text/latex": [
       "8"
      ],
      "text/markdown": [
       "8"
      ],
      "text/plain": [
       "[1] 8"
      ]
     },
     "metadata": {},
     "output_type": "display_data"
    }
   ],
   "source": [
    "length(pan_can_result)"
   ]
  },
  {
   "cell_type": "code",
   "execution_count": 18,
   "id": "1771e644-9fa6-43ad-8730-a74c5f3c7c20",
   "metadata": {},
   "outputs": [],
   "source": [
    "pan_can_result_dfci <- bind_rows(pan_can_result)\n",
    "rownames(pan_can_result_dfci) <- c(1:nrow(pan_can_result_dfci))"
   ]
  },
  {
   "cell_type": "code",
   "execution_count": 19,
   "id": "45d43480-8f25-4597-ba9f-d04c2b8265fa",
   "metadata": {},
   "outputs": [
    {
     "data": {
      "text/html": [
       "<table class=\"dataframe\">\n",
       "<caption>A data.frame: 2 × 25</caption>\n",
       "<thead>\n",
       "\t<tr><th></th><th scope=col>SFE_1</th><th scope=col>SFE_2</th><th scope=col>name</th><th scope=col>support_1</th><th scope=col>support_2</th><th scope=col>freq_1</th><th scope=col>freq_2</th><th scope=col>overlap</th><th scope=col>w_overlap</th><th scope=col>max_overlap</th><th scope=col>⋯</th><th scope=col>nES</th><th scope=col>mean_r_nES</th><th scope=col>nFDR</th><th scope=col>cum_freq</th><th scope=col>nFDR2</th><th scope=col>type</th><th scope=col>FDR</th><th scope=col>Cohort</th><th scope=col>Panel</th><th scope=col>Tumor_run</th></tr>\n",
       "\t<tr><th></th><th scope=col>&lt;chr&gt;</th><th scope=col>&lt;chr&gt;</th><th scope=col>&lt;chr&gt;</th><th scope=col>&lt;dbl&gt;</th><th scope=col>&lt;dbl&gt;</th><th scope=col>&lt;dbl&gt;</th><th scope=col>&lt;dbl&gt;</th><th scope=col>&lt;dbl&gt;</th><th scope=col>&lt;dbl&gt;</th><th scope=col>&lt;dbl&gt;</th><th scope=col>⋯</th><th scope=col>&lt;dbl&gt;</th><th scope=col>&lt;dbl&gt;</th><th scope=col>&lt;dbl&gt;</th><th scope=col>&lt;dbl&gt;</th><th scope=col>&lt;dbl&gt;</th><th scope=col>&lt;chr&gt;</th><th scope=col>&lt;lgl&gt;</th><th scope=col>&lt;chr&gt;</th><th scope=col>&lt;chr&gt;</th><th scope=col>&lt;chr&gt;</th></tr>\n",
       "</thead>\n",
       "<tbody>\n",
       "\t<tr><th scope=row>1</th><td>TP53</td><td>PIK3CA</td><td>TP53 - PIK3CA</td><td>6217</td><td>1968</td><td>0.4241659</td><td>0.13427031</td><td>738</td><td>579.50401</td><td>1631</td><td>⋯</td><td>-121.84183</td><td>-9.356520</td><td>0</td><td>8185</td><td>0</td><td>ME</td><td>TRUE</td><td>DFCI Primary</td><td>all</td><td>Pan-can</td></tr>\n",
       "\t<tr><th scope=row>2</th><td>KRAS</td><td>EGFR  </td><td>KRAS - EGFR  </td><td>2773</td><td> 739</td><td>0.1891929</td><td>0.05041959</td><td> 31</td><td> 19.06614</td><td> 500</td><td>⋯</td><td> -92.81281</td><td>-4.806473</td><td>0</td><td>3512</td><td>0</td><td>ME</td><td>TRUE</td><td>DFCI Primary</td><td>all</td><td>Pan-can</td></tr>\n",
       "</tbody>\n",
       "</table>\n"
      ],
      "text/latex": [
       "A data.frame: 2 × 25\n",
       "\\begin{tabular}{r|lllllllllllllllllllll}\n",
       "  & SFE\\_1 & SFE\\_2 & name & support\\_1 & support\\_2 & freq\\_1 & freq\\_2 & overlap & w\\_overlap & max\\_overlap & ⋯ & nES & mean\\_r\\_nES & nFDR & cum\\_freq & nFDR2 & type & FDR & Cohort & Panel & Tumor\\_run\\\\\n",
       "  & <chr> & <chr> & <chr> & <dbl> & <dbl> & <dbl> & <dbl> & <dbl> & <dbl> & <dbl> & ⋯ & <dbl> & <dbl> & <dbl> & <dbl> & <dbl> & <chr> & <lgl> & <chr> & <chr> & <chr>\\\\\n",
       "\\hline\n",
       "\t1 & TP53 & PIK3CA & TP53 - PIK3CA & 6217 & 1968 & 0.4241659 & 0.13427031 & 738 & 579.50401 & 1631 & ⋯ & -121.84183 & -9.356520 & 0 & 8185 & 0 & ME & TRUE & DFCI Primary & all & Pan-can\\\\\n",
       "\t2 & KRAS & EGFR   & KRAS - EGFR   & 2773 &  739 & 0.1891929 & 0.05041959 &  31 &  19.06614 &  500 & ⋯ &  -92.81281 & -4.806473 & 0 & 3512 & 0 & ME & TRUE & DFCI Primary & all & Pan-can\\\\\n",
       "\\end{tabular}\n"
      ],
      "text/markdown": [
       "\n",
       "A data.frame: 2 × 25\n",
       "\n",
       "| <!--/--> | SFE_1 &lt;chr&gt; | SFE_2 &lt;chr&gt; | name &lt;chr&gt; | support_1 &lt;dbl&gt; | support_2 &lt;dbl&gt; | freq_1 &lt;dbl&gt; | freq_2 &lt;dbl&gt; | overlap &lt;dbl&gt; | w_overlap &lt;dbl&gt; | max_overlap &lt;dbl&gt; | ⋯ ⋯ | nES &lt;dbl&gt; | mean_r_nES &lt;dbl&gt; | nFDR &lt;dbl&gt; | cum_freq &lt;dbl&gt; | nFDR2 &lt;dbl&gt; | type &lt;chr&gt; | FDR &lt;lgl&gt; | Cohort &lt;chr&gt; | Panel &lt;chr&gt; | Tumor_run &lt;chr&gt; |\n",
       "|---|---|---|---|---|---|---|---|---|---|---|---|---|---|---|---|---|---|---|---|---|---|\n",
       "| 1 | TP53 | PIK3CA | TP53 - PIK3CA | 6217 | 1968 | 0.4241659 | 0.13427031 | 738 | 579.50401 | 1631 | ⋯ | -121.84183 | -9.356520 | 0 | 8185 | 0 | ME | TRUE | DFCI Primary | all | Pan-can |\n",
       "| 2 | KRAS | EGFR   | KRAS - EGFR   | 2773 |  739 | 0.1891929 | 0.05041959 |  31 |  19.06614 |  500 | ⋯ |  -92.81281 | -4.806473 | 0 | 3512 | 0 | ME | TRUE | DFCI Primary | all | Pan-can |\n",
       "\n"
      ],
      "text/plain": [
       "  SFE_1 SFE_2  name          support_1 support_2 freq_1    freq_2     overlap\n",
       "1 TP53  PIK3CA TP53 - PIK3CA 6217      1968      0.4241659 0.13427031 738    \n",
       "2 KRAS  EGFR   KRAS - EGFR   2773       739      0.1891929 0.05041959  31    \n",
       "  w_overlap max_overlap ⋯ nES        mean_r_nES nFDR cum_freq nFDR2 type FDR \n",
       "1 579.50401 1631        ⋯ -121.84183 -9.356520  0    8185     0     ME   TRUE\n",
       "2  19.06614  500        ⋯  -92.81281 -4.806473  0    3512     0     ME   TRUE\n",
       "  Cohort       Panel Tumor_run\n",
       "1 DFCI Primary all   Pan-can  \n",
       "2 DFCI Primary all   Pan-can  "
      ]
     },
     "metadata": {},
     "output_type": "display_data"
    }
   ],
   "source": [
    "head(pan_can_result_dfci,2)"
   ]
  },
  {
   "cell_type": "markdown",
   "id": "ed586878-490d-4550-9994-de9ee15f20e6",
   "metadata": {},
   "source": [
    "# Tumor Group Runs"
   ]
  },
  {
   "cell_type": "markdown",
   "id": "b911f335-a4fa-432a-a7dd-753e17e8be82",
   "metadata": {},
   "source": [
    "### Primary"
   ]
  },
  {
   "cell_type": "code",
   "execution_count": 20,
   "id": "5e948d11-1dc3-4aed-b0a9-604e6d7700ac",
   "metadata": {},
   "outputs": [
    {
     "data": {
      "text/html": [
       "<table class=\"dataframe\">\n",
       "<caption>A data.frame: 1 × 20</caption>\n",
       "<thead>\n",
       "\t<tr><th></th><th scope=col>PATIENT_ID</th><th scope=col>SEX</th><th scope=col>PRIMARY_RACE</th><th scope=col>ETHNICITY</th><th scope=col>CENTER</th><th scope=col>INT_CONTACT</th><th scope=col>INT_DOD</th><th scope=col>YEAR_CONTACT</th><th scope=col>DEAD</th><th scope=col>YEAR_DEATH</th><th scope=col>SAMPLE_ID</th><th scope=col>AGE_AT_SEQ_REPORT</th><th scope=col>ONCOTREE_CODE</th><th scope=col>SAMPLE_TYPE</th><th scope=col>SEQ_ASSAY_ID</th><th scope=col>CANCER_TYPE</th><th scope=col>CANCER_TYPE_DETAILED</th><th scope=col>SAMPLE_TYPE_DETAILED</th><th scope=col>final_class</th><th scope=col>final_run_group</th></tr>\n",
       "\t<tr><th></th><th scope=col>&lt;chr&gt;</th><th scope=col>&lt;chr&gt;</th><th scope=col>&lt;chr&gt;</th><th scope=col>&lt;chr&gt;</th><th scope=col>&lt;chr&gt;</th><th scope=col>&lt;chr&gt;</th><th scope=col>&lt;chr&gt;</th><th scope=col>&lt;chr&gt;</th><th scope=col>&lt;chr&gt;</th><th scope=col>&lt;chr&gt;</th><th scope=col>&lt;chr&gt;</th><th scope=col>&lt;chr&gt;</th><th scope=col>&lt;chr&gt;</th><th scope=col>&lt;chr&gt;</th><th scope=col>&lt;chr&gt;</th><th scope=col>&lt;chr&gt;</th><th scope=col>&lt;chr&gt;</th><th scope=col>&lt;chr&gt;</th><th scope=col>&lt;chr&gt;</th><th scope=col>&lt;chr&gt;</th></tr>\n",
       "</thead>\n",
       "<tbody>\n",
       "\t<tr><th scope=row>1</th><td>GENIE-DFCI-000145</td><td>Male</td><td>White</td><td>Non-Spanish/non-Hispanic</td><td>DFCI</td><td>26418</td><td>Not Applicable</td><td>2022</td><td>False</td><td>Not Applicable</td><td>GENIE-DFCI-000145-3971</td><td>64</td><td>LUAD</td><td>Metastasis</td><td>DFCI-ONCOPANEL-2</td><td>Non-Small Cell Lung Cancer</td><td>Lung Adenocarcinoma</td><td>Metastasis site unspecified</td><td>LUAD</td><td>Non-Small Cell Lung Cancer</td></tr>\n",
       "</tbody>\n",
       "</table>\n"
      ],
      "text/latex": [
       "A data.frame: 1 × 20\n",
       "\\begin{tabular}{r|llllllllllllllllllll}\n",
       "  & PATIENT\\_ID & SEX & PRIMARY\\_RACE & ETHNICITY & CENTER & INT\\_CONTACT & INT\\_DOD & YEAR\\_CONTACT & DEAD & YEAR\\_DEATH & SAMPLE\\_ID & AGE\\_AT\\_SEQ\\_REPORT & ONCOTREE\\_CODE & SAMPLE\\_TYPE & SEQ\\_ASSAY\\_ID & CANCER\\_TYPE & CANCER\\_TYPE\\_DETAILED & SAMPLE\\_TYPE\\_DETAILED & final\\_class & final\\_run\\_group\\\\\n",
       "  & <chr> & <chr> & <chr> & <chr> & <chr> & <chr> & <chr> & <chr> & <chr> & <chr> & <chr> & <chr> & <chr> & <chr> & <chr> & <chr> & <chr> & <chr> & <chr> & <chr>\\\\\n",
       "\\hline\n",
       "\t1 & GENIE-DFCI-000145 & Male & White & Non-Spanish/non-Hispanic & DFCI & 26418 & Not Applicable & 2022 & False & Not Applicable & GENIE-DFCI-000145-3971 & 64 & LUAD & Metastasis & DFCI-ONCOPANEL-2 & Non-Small Cell Lung Cancer & Lung Adenocarcinoma & Metastasis site unspecified & LUAD & Non-Small Cell Lung Cancer\\\\\n",
       "\\end{tabular}\n"
      ],
      "text/markdown": [
       "\n",
       "A data.frame: 1 × 20\n",
       "\n",
       "| <!--/--> | PATIENT_ID &lt;chr&gt; | SEX &lt;chr&gt; | PRIMARY_RACE &lt;chr&gt; | ETHNICITY &lt;chr&gt; | CENTER &lt;chr&gt; | INT_CONTACT &lt;chr&gt; | INT_DOD &lt;chr&gt; | YEAR_CONTACT &lt;chr&gt; | DEAD &lt;chr&gt; | YEAR_DEATH &lt;chr&gt; | SAMPLE_ID &lt;chr&gt; | AGE_AT_SEQ_REPORT &lt;chr&gt; | ONCOTREE_CODE &lt;chr&gt; | SAMPLE_TYPE &lt;chr&gt; | SEQ_ASSAY_ID &lt;chr&gt; | CANCER_TYPE &lt;chr&gt; | CANCER_TYPE_DETAILED &lt;chr&gt; | SAMPLE_TYPE_DETAILED &lt;chr&gt; | final_class &lt;chr&gt; | final_run_group &lt;chr&gt; |\n",
       "|---|---|---|---|---|---|---|---|---|---|---|---|---|---|---|---|---|---|---|---|---|\n",
       "| 1 | GENIE-DFCI-000145 | Male | White | Non-Spanish/non-Hispanic | DFCI | 26418 | Not Applicable | 2022 | False | Not Applicable | GENIE-DFCI-000145-3971 | 64 | LUAD | Metastasis | DFCI-ONCOPANEL-2 | Non-Small Cell Lung Cancer | Lung Adenocarcinoma | Metastasis site unspecified | LUAD | Non-Small Cell Lung Cancer |\n",
       "\n"
      ],
      "text/plain": [
       "  PATIENT_ID        SEX  PRIMARY_RACE ETHNICITY                CENTER\n",
       "1 GENIE-DFCI-000145 Male White        Non-Spanish/non-Hispanic DFCI  \n",
       "  INT_CONTACT INT_DOD        YEAR_CONTACT DEAD  YEAR_DEATH    \n",
       "1 26418       Not Applicable 2022         False Not Applicable\n",
       "  SAMPLE_ID              AGE_AT_SEQ_REPORT ONCOTREE_CODE SAMPLE_TYPE\n",
       "1 GENIE-DFCI-000145-3971 64                LUAD          Metastasis \n",
       "  SEQ_ASSAY_ID     CANCER_TYPE                CANCER_TYPE_DETAILED\n",
       "1 DFCI-ONCOPANEL-2 Non-Small Cell Lung Cancer Lung Adenocarcinoma \n",
       "  SAMPLE_TYPE_DETAILED        final_class final_run_group           \n",
       "1 Metastasis site unspecified LUAD        Non-Small Cell Lung Cancer"
      ]
     },
     "metadata": {},
     "output_type": "display_data"
    }
   ],
   "source": [
    "genie_metadata_15_dfci_with_mutation_selected_final_atleast_100_samples %>% head(1)"
   ]
  },
  {
   "cell_type": "code",
   "execution_count": 21,
   "id": "573f7312-e37a-43ed-bbb5-64f3bb8fd23f",
   "metadata": {},
   "outputs": [
    {
     "name": "stdout",
     "output_type": "stream",
     "text": [
      "List of 4\n",
      " $ all: chr [1:177] \"MTOR\" \"NRAS\" \"NTRK1\" \"SDHC\" ...\n",
      " $ p_2: chr [1:194] \"MTOR\" \"NRAS\" \"CD58\" \"NTRK1\" ...\n",
      " $ p_3: chr [1:257] \"MTOR\" \"NRAS\" \"RIT1\" \"NTRK1\" ...\n",
      " $ p_1: chr [1:183] \"MTOR\" \"NRAS\" \"CD58\" \"NTRK1\" ...\n"
     ]
    }
   ],
   "source": [
    "str(dfci_run_gene_list)"
   ]
  },
  {
   "cell_type": "code",
   "execution_count": 22,
   "id": "596d620b-e4e8-4643-8e02-bc8e568d940c",
   "metadata": {},
   "outputs": [
    {
     "data": {
      "text/html": [
       "<table class=\"dataframe\">\n",
       "<caption>A data.frame: 2 × 20</caption>\n",
       "<thead>\n",
       "\t<tr><th></th><th scope=col>PATIENT_ID</th><th scope=col>SEX</th><th scope=col>PRIMARY_RACE</th><th scope=col>ETHNICITY</th><th scope=col>CENTER</th><th scope=col>INT_CONTACT</th><th scope=col>INT_DOD</th><th scope=col>YEAR_CONTACT</th><th scope=col>DEAD</th><th scope=col>YEAR_DEATH</th><th scope=col>SAMPLE_ID</th><th scope=col>AGE_AT_SEQ_REPORT</th><th scope=col>ONCOTREE_CODE</th><th scope=col>SAMPLE_TYPE</th><th scope=col>SEQ_ASSAY_ID</th><th scope=col>CANCER_TYPE</th><th scope=col>CANCER_TYPE_DETAILED</th><th scope=col>SAMPLE_TYPE_DETAILED</th><th scope=col>final_class</th><th scope=col>final_run_group</th></tr>\n",
       "\t<tr><th></th><th scope=col>&lt;chr&gt;</th><th scope=col>&lt;chr&gt;</th><th scope=col>&lt;chr&gt;</th><th scope=col>&lt;chr&gt;</th><th scope=col>&lt;chr&gt;</th><th scope=col>&lt;chr&gt;</th><th scope=col>&lt;chr&gt;</th><th scope=col>&lt;chr&gt;</th><th scope=col>&lt;chr&gt;</th><th scope=col>&lt;chr&gt;</th><th scope=col>&lt;chr&gt;</th><th scope=col>&lt;chr&gt;</th><th scope=col>&lt;chr&gt;</th><th scope=col>&lt;chr&gt;</th><th scope=col>&lt;chr&gt;</th><th scope=col>&lt;chr&gt;</th><th scope=col>&lt;chr&gt;</th><th scope=col>&lt;chr&gt;</th><th scope=col>&lt;chr&gt;</th><th scope=col>&lt;chr&gt;</th></tr>\n",
       "</thead>\n",
       "<tbody>\n",
       "\t<tr><th scope=row>1</th><td>GENIE-DFCI-000145</td><td>Male</td><td>White</td><td>Non-Spanish/non-Hispanic</td><td>DFCI</td><td>26418</td><td>Not Applicable</td><td>2022</td><td>False</td><td>Not Applicable</td><td>GENIE-DFCI-000145-3971</td><td>64</td><td>LUAD</td><td>Metastasis</td><td>DFCI-ONCOPANEL-2</td><td>Non-Small Cell Lung Cancer</td><td>Lung Adenocarcinoma</td><td>Metastasis site unspecified</td><td>LUAD</td><td>Non-Small Cell Lung Cancer</td></tr>\n",
       "\t<tr><th scope=row>2</th><td>GENIE-DFCI-007383</td><td>Male</td><td>White</td><td>Non-Spanish/non-Hispanic</td><td>DFCI</td><td>23668</td><td>23673         </td><td>2015</td><td>True </td><td>2015          </td><td>GENIE-DFCI-007383-3930</td><td>64</td><td>LUAD</td><td>Metastasis</td><td>DFCI-ONCOPANEL-2</td><td>Non-Small Cell Lung Cancer</td><td>Lung Adenocarcinoma</td><td>Metastasis site unspecified</td><td>LUAD</td><td>Non-Small Cell Lung Cancer</td></tr>\n",
       "</tbody>\n",
       "</table>\n"
      ],
      "text/latex": [
       "A data.frame: 2 × 20\n",
       "\\begin{tabular}{r|llllllllllllllllllll}\n",
       "  & PATIENT\\_ID & SEX & PRIMARY\\_RACE & ETHNICITY & CENTER & INT\\_CONTACT & INT\\_DOD & YEAR\\_CONTACT & DEAD & YEAR\\_DEATH & SAMPLE\\_ID & AGE\\_AT\\_SEQ\\_REPORT & ONCOTREE\\_CODE & SAMPLE\\_TYPE & SEQ\\_ASSAY\\_ID & CANCER\\_TYPE & CANCER\\_TYPE\\_DETAILED & SAMPLE\\_TYPE\\_DETAILED & final\\_class & final\\_run\\_group\\\\\n",
       "  & <chr> & <chr> & <chr> & <chr> & <chr> & <chr> & <chr> & <chr> & <chr> & <chr> & <chr> & <chr> & <chr> & <chr> & <chr> & <chr> & <chr> & <chr> & <chr> & <chr>\\\\\n",
       "\\hline\n",
       "\t1 & GENIE-DFCI-000145 & Male & White & Non-Spanish/non-Hispanic & DFCI & 26418 & Not Applicable & 2022 & False & Not Applicable & GENIE-DFCI-000145-3971 & 64 & LUAD & Metastasis & DFCI-ONCOPANEL-2 & Non-Small Cell Lung Cancer & Lung Adenocarcinoma & Metastasis site unspecified & LUAD & Non-Small Cell Lung Cancer\\\\\n",
       "\t2 & GENIE-DFCI-007383 & Male & White & Non-Spanish/non-Hispanic & DFCI & 23668 & 23673          & 2015 & True  & 2015           & GENIE-DFCI-007383-3930 & 64 & LUAD & Metastasis & DFCI-ONCOPANEL-2 & Non-Small Cell Lung Cancer & Lung Adenocarcinoma & Metastasis site unspecified & LUAD & Non-Small Cell Lung Cancer\\\\\n",
       "\\end{tabular}\n"
      ],
      "text/markdown": [
       "\n",
       "A data.frame: 2 × 20\n",
       "\n",
       "| <!--/--> | PATIENT_ID &lt;chr&gt; | SEX &lt;chr&gt; | PRIMARY_RACE &lt;chr&gt; | ETHNICITY &lt;chr&gt; | CENTER &lt;chr&gt; | INT_CONTACT &lt;chr&gt; | INT_DOD &lt;chr&gt; | YEAR_CONTACT &lt;chr&gt; | DEAD &lt;chr&gt; | YEAR_DEATH &lt;chr&gt; | SAMPLE_ID &lt;chr&gt; | AGE_AT_SEQ_REPORT &lt;chr&gt; | ONCOTREE_CODE &lt;chr&gt; | SAMPLE_TYPE &lt;chr&gt; | SEQ_ASSAY_ID &lt;chr&gt; | CANCER_TYPE &lt;chr&gt; | CANCER_TYPE_DETAILED &lt;chr&gt; | SAMPLE_TYPE_DETAILED &lt;chr&gt; | final_class &lt;chr&gt; | final_run_group &lt;chr&gt; |\n",
       "|---|---|---|---|---|---|---|---|---|---|---|---|---|---|---|---|---|---|---|---|---|\n",
       "| 1 | GENIE-DFCI-000145 | Male | White | Non-Spanish/non-Hispanic | DFCI | 26418 | Not Applicable | 2022 | False | Not Applicable | GENIE-DFCI-000145-3971 | 64 | LUAD | Metastasis | DFCI-ONCOPANEL-2 | Non-Small Cell Lung Cancer | Lung Adenocarcinoma | Metastasis site unspecified | LUAD | Non-Small Cell Lung Cancer |\n",
       "| 2 | GENIE-DFCI-007383 | Male | White | Non-Spanish/non-Hispanic | DFCI | 23668 | 23673          | 2015 | True  | 2015           | GENIE-DFCI-007383-3930 | 64 | LUAD | Metastasis | DFCI-ONCOPANEL-2 | Non-Small Cell Lung Cancer | Lung Adenocarcinoma | Metastasis site unspecified | LUAD | Non-Small Cell Lung Cancer |\n",
       "\n"
      ],
      "text/plain": [
       "  PATIENT_ID        SEX  PRIMARY_RACE ETHNICITY                CENTER\n",
       "1 GENIE-DFCI-000145 Male White        Non-Spanish/non-Hispanic DFCI  \n",
       "2 GENIE-DFCI-007383 Male White        Non-Spanish/non-Hispanic DFCI  \n",
       "  INT_CONTACT INT_DOD        YEAR_CONTACT DEAD  YEAR_DEATH    \n",
       "1 26418       Not Applicable 2022         False Not Applicable\n",
       "2 23668       23673          2015         True  2015          \n",
       "  SAMPLE_ID              AGE_AT_SEQ_REPORT ONCOTREE_CODE SAMPLE_TYPE\n",
       "1 GENIE-DFCI-000145-3971 64                LUAD          Metastasis \n",
       "2 GENIE-DFCI-007383-3930 64                LUAD          Metastasis \n",
       "  SEQ_ASSAY_ID     CANCER_TYPE                CANCER_TYPE_DETAILED\n",
       "1 DFCI-ONCOPANEL-2 Non-Small Cell Lung Cancer Lung Adenocarcinoma \n",
       "2 DFCI-ONCOPANEL-2 Non-Small Cell Lung Cancer Lung Adenocarcinoma \n",
       "  SAMPLE_TYPE_DETAILED        final_class final_run_group           \n",
       "1 Metastasis site unspecified LUAD        Non-Small Cell Lung Cancer\n",
       "2 Metastasis site unspecified LUAD        Non-Small Cell Lung Cancer"
      ]
     },
     "metadata": {},
     "output_type": "display_data"
    }
   ],
   "source": [
    "genie_metadata_15_dfci_with_mutation_selected_final_atleast_100_samples %>% head(2)"
   ]
  },
  {
   "cell_type": "code",
   "execution_count": 23,
   "id": "5569e2f8-14c8-4343-8df7-4ce9e120a712",
   "metadata": {},
   "outputs": [],
   "source": [
    "tumor_groups<-unique(genie_metadata_15_dfci_with_mutation_selected_final_atleast_100_samples$final_run_group)"
   ]
  },
  {
   "cell_type": "code",
   "execution_count": 24,
   "id": "a3291fed-5c7e-4595-8c35-d65f6ad2f34b",
   "metadata": {},
   "outputs": [],
   "source": [
    "cleaned_tumor_groups <- tolower(gsub(\"[[:space:]/-]\", \"_\", tumor_groups))"
   ]
  },
  {
   "cell_type": "code",
   "execution_count": 25,
   "id": "9aff1357-31f9-4358-911d-e78678ca9e9c",
   "metadata": {},
   "outputs": [],
   "source": [
    "mapped_tumor_groups <- cleaned_tumor_groups\n",
    "names(mapped_tumor_groups)<-tumor_groups"
   ]
  },
  {
   "cell_type": "code",
   "execution_count": 26,
   "id": "16ce13e2-00af-4f4f-85d3-f3ce38448865",
   "metadata": {},
   "outputs": [
    {
     "name": "stdout",
     "output_type": "stream",
     "text": [
      " Named chr [1:26] \"non_small_cell_lung_cancer\" \"bladder_cancer\" ...\n",
      " - attr(*, \"names\")= chr [1:26] \"Non-Small Cell Lung Cancer\" \"Bladder Cancer\" \"Thyroid Cancer\" \"Esophagogastric Cancer\" ...\n"
     ]
    }
   ],
   "source": [
    "str(mapped_tumor_groups)"
   ]
  },
  {
   "cell_type": "code",
   "execution_count": 27,
   "id": "31e1fa31-b872-46eb-b0ec-942e3a15dcfb",
   "metadata": {},
   "outputs": [],
   "source": [
    "tumor_run_result_primary <- list()"
   ]
  },
  {
   "cell_type": "code",
   "execution_count": 28,
   "id": "f27a2703-7a8c-4222-80f3-04f7f3bc6423",
   "metadata": {
    "scrolled": true
   },
   "outputs": [
    {
     "name": "stdout",
     "output_type": "stream",
     "text": [
      "--Running: all --\n",
      "---Tumor Group--- Non-Small Cell Lung Cancer --\n",
      "---Tumor Group--- Non-Small Cell Lung Cancer --Done--\n",
      "---Tumor Group--- Bladder Cancer --\n",
      "---Tumor Group--- Bladder Cancer --Done--\n",
      "---Tumor Group--- Thyroid Cancer --\n",
      "---Tumor Group--- Thyroid Cancer --Done--\n",
      "---Tumor Group--- Esophagogastric Cancer --\n",
      "---Tumor Group--- Esophagogastric Cancer --Done--\n",
      "---Tumor Group--- Breast Cancer --\n",
      "---Tumor Group--- Breast Cancer --Done--\n",
      "---Tumor Group--- Endometrial Cancer --\n",
      "---Tumor Group--- Endometrial Cancer --Done--\n",
      "---Tumor Group--- Small Cell Lung Cancer --\n",
      "---Tumor Group--- Small Cell Lung Cancer --Done--\n",
      "---Tumor Group--- Head and Neck Cancer --\n",
      "---Tumor Group--- Head and Neck Cancer --Done--\n",
      "---Tumor Group--- CNS Cancer --\n",
      "---Tumor Group--- CNS Cancer --Done--\n",
      "---Tumor Group--- Glioma --\n",
      "---Tumor Group--- Glioma --Done--\n",
      "---Tumor Group--- Colorectal Cancer --\n",
      "---Tumor Group--- Colorectal Cancer --Done--\n",
      "---Tumor Group--- Billary Tract Cancer --\n",
      "---Tumor Group--- Billary Tract Cancer --Done--\n",
      "---Tumor Group--- Ovarian Cancer --\n",
      "---Tumor Group--- Ovarian Cancer --Done--\n",
      "---Tumor Group--- Mesothelioma --\n",
      "---Tumor Group--- Mesothelioma --Done--\n",
      "---Tumor Group--- Prostate Cancer --\n",
      "---Tumor Group--- Prostate Cancer --Done--\n",
      "---Tumor Group--- Mature B-Cell Neoplasms --\n",
      "---Tumor Group--- Mature B-Cell Neoplasms --Done--\n",
      "---Tumor Group--- Melanoma --\n",
      "---Tumor Group--- Melanoma --Done--\n",
      "---Tumor Group--- Skin Cancer, Non-Melanoma --\n",
      "---Tumor Group--- Skin Cancer, Non-Melanoma --Done--\n",
      "---Tumor Group--- Pancreatic Cancer --\n",
      "---Tumor Group--- Pancreatic Cancer --Done--\n",
      "---Tumor Group--- Soft Tissue Sarcoma --\n",
      "---Tumor Group--- Soft Tissue Sarcoma --Done--\n",
      "---Tumor Group--- Gastrointestinal Stromal Tumor --\n",
      "---Tumor Group--- Gastrointestinal Stromal Tumor --Done--\n",
      "---Tumor Group--- Gastrointestinal Neuroendocrine Tumor --\n",
      "---Tumor Group--- Gastrointestinal Neuroendocrine Tumor --Done--\n",
      "---Tumor Group--- Renal Cell Carcinoma --\n",
      "---Tumor Group--- Renal Cell Carcinoma --Done--\n",
      "---Tumor Group--- Sellar Tumor --\n",
      "---Tumor Group--- Sellar Tumor --Done--\n",
      "---Tumor Group--- Anal Cancer --\n",
      "---Tumor Group--- Anal Cancer --Done--\n",
      "---Tumor Group--- Leukemia --\n",
      "---Tumor Group--- Leukemia --Done--\n",
      "\n",
      "---Done---\n",
      "--Running: p_2 --\n",
      "---Tumor Group--- Non-Small Cell Lung Cancer --\n",
      "---Tumor Group--- Non-Small Cell Lung Cancer --Done--\n",
      "---Tumor Group--- Bladder Cancer --\n",
      "---Tumor Group--- Bladder Cancer --Done--\n",
      "---Tumor Group--- Thyroid Cancer --\n",
      "---Tumor Group--- Thyroid Cancer --Done--\n",
      "---Tumor Group--- Esophagogastric Cancer --\n",
      "---Tumor Group--- Esophagogastric Cancer --Done--\n",
      "---Tumor Group--- Breast Cancer --\n",
      "---Tumor Group--- Breast Cancer --Done--\n",
      "---Tumor Group--- Endometrial Cancer --\n",
      "---Tumor Group--- Endometrial Cancer --Done--\n",
      "---Tumor Group--- Head and Neck Cancer --\n",
      "---Tumor Group--- Head and Neck Cancer --Done--\n",
      "---Tumor Group--- CNS Cancer --\n",
      "---Tumor Group--- CNS Cancer --Done--\n",
      "---Tumor Group--- Glioma --\n",
      "---Tumor Group--- Glioma --Done--\n",
      "---Tumor Group--- Colorectal Cancer --\n",
      "---Tumor Group--- Colorectal Cancer --Done--\n",
      "---Tumor Group--- Billary Tract Cancer --\n",
      "---Tumor Group--- Billary Tract Cancer --Done--\n",
      "---Tumor Group--- Ovarian Cancer --\n",
      "---Tumor Group--- Ovarian Cancer --Done--\n",
      "---Tumor Group--- Mesothelioma --\n",
      "---Tumor Group--- Mesothelioma --Done--\n",
      "---Tumor Group--- Prostate Cancer --\n",
      "---Tumor Group--- Prostate Cancer --Done--\n",
      "---Tumor Group--- Mature B-Cell Neoplasms --\n",
      "---Tumor Group--- Mature B-Cell Neoplasms --Done--\n",
      "---Tumor Group--- Melanoma --\n",
      "---Tumor Group--- Melanoma --Done--\n",
      "---Tumor Group--- Skin Cancer, Non-Melanoma --\n",
      "---Tumor Group--- Skin Cancer, Non-Melanoma --Done--\n",
      "---Tumor Group--- Pancreatic Cancer --\n",
      "---Tumor Group--- Pancreatic Cancer --Done--\n",
      "---Tumor Group--- Gastrointestinal Stromal Tumor --\n",
      "---Tumor Group--- Gastrointestinal Stromal Tumor --Done--\n",
      "---Tumor Group--- Renal Cell Carcinoma --\n",
      "---Tumor Group--- Renal Cell Carcinoma --Done--\n",
      "---Tumor Group--- Sellar Tumor --\n",
      "---Tumor Group--- Sellar Tumor --Done--\n",
      "---Tumor Group--- Leukemia --\n",
      "---Tumor Group--- Leukemia --Done--\n",
      "\n",
      "---Done---\n",
      "--Running: p_3 --\n",
      "---Tumor Group--- Non-Small Cell Lung Cancer --\n",
      "---Tumor Group--- Non-Small Cell Lung Cancer --Done--\n",
      "---Tumor Group--- Bladder Cancer --\n",
      "---Tumor Group--- Bladder Cancer --Done--\n",
      "---Tumor Group--- Thyroid Cancer --\n",
      "---Tumor Group--- Thyroid Cancer --Done--\n",
      "---Tumor Group--- Esophagogastric Cancer --\n",
      "---Tumor Group--- Esophagogastric Cancer --Done--\n",
      "---Tumor Group--- Breast Cancer --\n",
      "---Tumor Group--- Breast Cancer --Done--\n",
      "---Tumor Group--- Endometrial Cancer --\n",
      "---Tumor Group--- Endometrial Cancer --Done--\n",
      "---Tumor Group--- Head and Neck Cancer --\n",
      "---Tumor Group--- Head and Neck Cancer --Done--\n",
      "---Tumor Group--- CNS Cancer --\n",
      "---Tumor Group--- CNS Cancer --Done--\n",
      "---Tumor Group--- Glioma --\n",
      "---Tumor Group--- Glioma --Done--\n",
      "---Tumor Group--- Colorectal Cancer --\n",
      "---Tumor Group--- Colorectal Cancer --Done--\n",
      "---Tumor Group--- Billary Tract Cancer --\n",
      "---Tumor Group--- Billary Tract Cancer --Done--\n",
      "---Tumor Group--- Ovarian Cancer --\n",
      "---Tumor Group--- Ovarian Cancer --Done--\n",
      "---Tumor Group--- Mesothelioma --\n",
      "---Tumor Group--- Mesothelioma --Done--\n",
      "---Tumor Group--- Prostate Cancer --\n",
      "---Tumor Group--- Prostate Cancer --Done--\n",
      "---Tumor Group--- Mature B-Cell Neoplasms --\n",
      "---Tumor Group--- Mature B-Cell Neoplasms --Done--\n",
      "---Tumor Group--- Melanoma --\n",
      "---Tumor Group--- Melanoma --Done--\n",
      "---Tumor Group--- Skin Cancer, Non-Melanoma --\n",
      "---Tumor Group--- Skin Cancer, Non-Melanoma --Done--\n",
      "---Tumor Group--- Pancreatic Cancer --\n",
      "---Tumor Group--- Pancreatic Cancer --Done--\n",
      "---Tumor Group--- Soft Tissue Sarcoma --\n",
      "---Tumor Group--- Soft Tissue Sarcoma --Done--\n",
      "---Tumor Group--- Gastrointestinal Stromal Tumor --\n",
      "---Tumor Group--- Gastrointestinal Stromal Tumor --Done--\n",
      "---Tumor Group--- Gastrointestinal Neuroendocrine Tumor --\n",
      "---Tumor Group--- Gastrointestinal Neuroendocrine Tumor --Done--\n",
      "---Tumor Group--- Renal Cell Carcinoma --\n",
      "---Tumor Group--- Renal Cell Carcinoma --Done--\n",
      "---Tumor Group--- Anal Cancer --\n",
      "---Tumor Group--- Anal Cancer --Done--\n",
      "---Tumor Group--- Leukemia --\n",
      "---Tumor Group--- Leukemia --Done--\n",
      "\n",
      "---Done---\n",
      "--Running: p_1 --\n",
      "---Tumor Group--- Non-Small Cell Lung Cancer --\n",
      "---Tumor Group--- Non-Small Cell Lung Cancer --Done--\n",
      "---Tumor Group--- Bladder Cancer --\n",
      "---Tumor Group--- Bladder Cancer --Done--\n",
      "---Tumor Group--- Thyroid Cancer --\n",
      "---Tumor Group--- Thyroid Cancer --Done--\n",
      "---Tumor Group--- Breast Cancer --\n",
      "---Tumor Group--- Breast Cancer --Done--\n",
      "---Tumor Group--- Endometrial Cancer --\n",
      "---Tumor Group--- Endometrial Cancer --Done--\n",
      "---Tumor Group--- Head and Neck Cancer --\n",
      "---Tumor Group--- Head and Neck Cancer --Done--\n",
      "---Tumor Group--- Glioma --\n",
      "---Tumor Group--- Glioma --Done--\n",
      "---Tumor Group--- Colorectal Cancer --\n",
      "---Tumor Group--- Colorectal Cancer --Done--\n",
      "---Tumor Group--- Prostate Cancer --\n",
      "---Tumor Group--- Prostate Cancer --Done--\n",
      "---Tumor Group--- Renal Cell Carcinoma --\n",
      "---Tumor Group--- Renal Cell Carcinoma --Done--\n",
      "\n",
      "---Done---\n"
     ]
    }
   ],
   "source": [
    "k=1\n",
    "dir='/mnt/ndata/arvind/co_mutation_project/analysis/catalogue/'\n",
    "for(name in names(dfci_run_gene_list)){\n",
    "    cat('--Running:',name,\"--\\n\")\n",
    "    if(name=='all'){\n",
    "        for(tumor_group in names(mapped_tumor_groups)){\n",
    "            samples<-(genie_metadata_15_dfci_with_mutation_selected_final_atleast_100_samples %>% \n",
    "                      filter(SAMPLE_TYPE=='Primary' & final_run_group==tumor_group)%>% group_by(final_class) %>% filter(n()>=30) %>% ungroup())$SAMPLE_ID\n",
    "            if(length(samples)>=30){\n",
    "                cat('---Tumor Group---',tumor_group,\"--\\n\")\n",
    "                    finalname<-paste(mapped_tumor_groups[tumor_group],name,sep=\"_\")\n",
    "                    label<-paste(dir,'/results/','dfci_panel_',finalname,'_primary_result.rds',sep=\"\")\n",
    "                    msk_result<-readRDS(file = label)\n",
    "                    result_df <- msk_result$result\n",
    "                    result_df <- result_df %>% mutate('Cohort'='DFCI Primary') %>% mutate('Panel'='all') %>% mutate('Tumor_run'=mapped_tumor_groups[tumor_group])\n",
    "                    tumor_run_result_primary[[k]]<-result_df\n",
    "                    rm(msk_result)\n",
    "                    k=k+1\n",
    "                cat('---Tumor Group---',tumor_group,\"--Done--\\n\")        \n",
    "                \n",
    "            }\n",
    "        }    \n",
    "    }\n",
    "    else if(name=='p_2'){\n",
    "        for(tumor_group in names(mapped_tumor_groups)){\n",
    "            samples<-(genie_metadata_15_dfci_with_mutation_selected_final_atleast_100_samples %>% \n",
    "                      filter(SAMPLE_TYPE=='Primary' &SEQ_ASSAY_ID=='DFCI-ONCOPANEL-2' & final_run_group==tumor_group)%>% group_by(final_class) %>% filter(n()>=30) %>% ungroup())$SAMPLE_ID\n",
    "            if(length(samples)>=30){\n",
    "                cat('---Tumor Group---',tumor_group,\"--\\n\")\n",
    "                    finalname<-paste(mapped_tumor_groups[tumor_group],name,sep=\"_\")\n",
    "                    label<-paste(dir,'/results/','dfci_panel_',finalname,'_primary_result.rds',sep=\"\")\n",
    "                    msk_result<-readRDS(file = label)\n",
    "                    result_df <- msk_result$result\n",
    "                    result_df <- result_df %>% mutate('Cohort'='DFCI Primary') %>% mutate('Panel'='p_2') %>% mutate('Tumor_run'=mapped_tumor_groups[tumor_group])\n",
    "                    tumor_run_result_primary[[k]]<-result_df\n",
    "                    rm(msk_result)\n",
    "                    k=k+1\n",
    "                cat('---Tumor Group---',tumor_group,\"--Done--\\n\")        \n",
    "                \n",
    "            }\n",
    "        }\n",
    "    }\n",
    "    else if(name=='p_1'){\n",
    "        for(tumor_group in names(mapped_tumor_groups)){\n",
    "            samples<-(genie_metadata_15_dfci_with_mutation_selected_final_atleast_100_samples %>% \n",
    "                      filter(SAMPLE_TYPE=='Primary' &SEQ_ASSAY_ID=='DFCI-ONCOPANEL-1' & final_run_group==tumor_group)%>% group_by(final_class) %>% filter(n()>=30) %>% ungroup())$SAMPLE_ID\n",
    "            if(length(samples)>=30){\n",
    "                cat('---Tumor Group---',tumor_group,\"--\\n\")\n",
    "                    finalname<-paste(mapped_tumor_groups[tumor_group],name,sep=\"_\")\n",
    "                    label<-paste(dir,'/results/','dfci_panel_',finalname,'_primary_result.rds',sep=\"\")\n",
    "                    msk_result<-readRDS(file = label)\n",
    "                    result_df <- msk_result$result\n",
    "                    result_df <- result_df %>% mutate('Cohort'='DFCI Primary') %>% mutate('Panel'='p_1') %>% mutate('Tumor_run'=mapped_tumor_groups[tumor_group])\n",
    "                    tumor_run_result_primary[[k]]<-result_df\n",
    "                    rm(msk_result)\n",
    "                    k=k+1\n",
    "                cat('---Tumor Group---',tumor_group,\"--Done--\\n\")        \n",
    "                \n",
    "            }\n",
    "        }\n",
    "        \n",
    "    }\n",
    "    else{\n",
    "        for(tumor_group in names(mapped_tumor_groups)){\n",
    "            samples<-(genie_metadata_15_dfci_with_mutation_selected_final_atleast_100_samples %>% \n",
    "                      filter(SAMPLE_TYPE=='Primary' & SEQ_ASSAY_ID %in% c('DFCI-ONCOPANEL-3.1','DFCI-ONCOPANEL-3') & final_run_group==tumor_group)%>% group_by(final_class) %>% filter(n()>=30) %>% ungroup())$SAMPLE_ID\n",
    "            if(length(samples)>=30){\n",
    "                cat('---Tumor Group---',tumor_group,\"--\\n\")\n",
    "                    finalname<-paste(mapped_tumor_groups[tumor_group],name,sep=\"_\")\n",
    "                    label<-paste(dir,'/results/','dfci_panel_',finalname,'_primary_result.rds',sep=\"\")\n",
    "                    msk_result<-readRDS(file = label)\n",
    "                    result_df <- msk_result$result\n",
    "                    result_df <- result_df %>% mutate('Cohort'='DFCI Primary') %>% mutate('Panel'='p_3') %>% mutate('Tumor_run'=mapped_tumor_groups[tumor_group])\n",
    "                    tumor_run_result_primary[[k]]<-result_df\n",
    "                    rm(msk_result)\n",
    "                    k=k+1\n",
    "                cat('---Tumor Group---',tumor_group,\"--Done--\\n\")        \n",
    "                \n",
    "            }\n",
    "        }\n",
    "    }\n",
    " cat('\\n---Done---\\n')\n",
    "}"
   ]
  },
  {
   "cell_type": "code",
   "execution_count": 29,
   "id": "76b57096-805a-47e3-aceb-ef36e1b4d9f4",
   "metadata": {},
   "outputs": [
    {
     "data": {
      "text/html": [
       "82"
      ],
      "text/latex": [
       "82"
      ],
      "text/markdown": [
       "82"
      ],
      "text/plain": [
       "[1] 82"
      ]
     },
     "metadata": {},
     "output_type": "display_data"
    }
   ],
   "source": [
    "length(tumor_run_result_primary)"
   ]
  },
  {
   "cell_type": "code",
   "execution_count": 30,
   "id": "7534ceb9-053b-4591-a82d-2528cafd92e3",
   "metadata": {},
   "outputs": [],
   "source": [
    "tumor_can_result_dfci_primary <- bind_rows(tumor_run_result_primary)\n",
    "rownames(tumor_can_result_dfci_primary) <- c(1:nrow(tumor_can_result_dfci_primary))"
   ]
  },
  {
   "cell_type": "code",
   "execution_count": 31,
   "id": "a0f13678-878f-4301-bc21-12ca715419eb",
   "metadata": {},
   "outputs": [
    {
     "data": {
      "text/html": [
       "<table class=\"dataframe\">\n",
       "<caption>A data.frame: 2 × 25</caption>\n",
       "<thead>\n",
       "\t<tr><th></th><th scope=col>SFE_1</th><th scope=col>SFE_2</th><th scope=col>name</th><th scope=col>support_1</th><th scope=col>support_2</th><th scope=col>freq_1</th><th scope=col>freq_2</th><th scope=col>overlap</th><th scope=col>w_overlap</th><th scope=col>max_overlap</th><th scope=col>⋯</th><th scope=col>nES</th><th scope=col>mean_r_nES</th><th scope=col>nFDR</th><th scope=col>cum_freq</th><th scope=col>nFDR2</th><th scope=col>type</th><th scope=col>FDR</th><th scope=col>Cohort</th><th scope=col>Panel</th><th scope=col>Tumor_run</th></tr>\n",
       "\t<tr><th></th><th scope=col>&lt;chr&gt;</th><th scope=col>&lt;chr&gt;</th><th scope=col>&lt;chr&gt;</th><th scope=col>&lt;dbl&gt;</th><th scope=col>&lt;dbl&gt;</th><th scope=col>&lt;dbl&gt;</th><th scope=col>&lt;dbl&gt;</th><th scope=col>&lt;dbl&gt;</th><th scope=col>&lt;dbl&gt;</th><th scope=col>&lt;dbl&gt;</th><th scope=col>⋯</th><th scope=col>&lt;dbl&gt;</th><th scope=col>&lt;dbl&gt;</th><th scope=col>&lt;dbl&gt;</th><th scope=col>&lt;dbl&gt;</th><th scope=col>&lt;dbl&gt;</th><th scope=col>&lt;chr&gt;</th><th scope=col>&lt;lgl&gt;</th><th scope=col>&lt;chr&gt;</th><th scope=col>&lt;chr&gt;</th><th scope=col>&lt;chr&gt;</th></tr>\n",
       "</thead>\n",
       "<tbody>\n",
       "\t<tr><th scope=row>1</th><td>KRAS</td><td>EGFR</td><td>KRAS - EGFR</td><td>736</td><td>384</td><td>0.3424849</td><td>0.1786878</td><td>  9</td><td>  6.62247</td><td>384</td><td>⋯</td><td>-94.52743</td><td>-4.125610</td><td>0</td><td>1120</td><td>0</td><td>ME</td><td>TRUE</td><td>DFCI Primary</td><td>all</td><td>non_small_cell_lung_cancer</td></tr>\n",
       "\t<tr><th scope=row>2</th><td>KRAS</td><td>TP53</td><td>KRAS - TP53</td><td>736</td><td>961</td><td>0.3424849</td><td>0.4471847</td><td>217</td><td>183.57080</td><td>661</td><td>⋯</td><td>-68.06642</td><td>-5.285569</td><td>0</td><td>1697</td><td>0</td><td>ME</td><td>TRUE</td><td>DFCI Primary</td><td>all</td><td>non_small_cell_lung_cancer</td></tr>\n",
       "</tbody>\n",
       "</table>\n"
      ],
      "text/latex": [
       "A data.frame: 2 × 25\n",
       "\\begin{tabular}{r|lllllllllllllllllllll}\n",
       "  & SFE\\_1 & SFE\\_2 & name & support\\_1 & support\\_2 & freq\\_1 & freq\\_2 & overlap & w\\_overlap & max\\_overlap & ⋯ & nES & mean\\_r\\_nES & nFDR & cum\\_freq & nFDR2 & type & FDR & Cohort & Panel & Tumor\\_run\\\\\n",
       "  & <chr> & <chr> & <chr> & <dbl> & <dbl> & <dbl> & <dbl> & <dbl> & <dbl> & <dbl> & ⋯ & <dbl> & <dbl> & <dbl> & <dbl> & <dbl> & <chr> & <lgl> & <chr> & <chr> & <chr>\\\\\n",
       "\\hline\n",
       "\t1 & KRAS & EGFR & KRAS - EGFR & 736 & 384 & 0.3424849 & 0.1786878 &   9 &   6.62247 & 384 & ⋯ & -94.52743 & -4.125610 & 0 & 1120 & 0 & ME & TRUE & DFCI Primary & all & non\\_small\\_cell\\_lung\\_cancer\\\\\n",
       "\t2 & KRAS & TP53 & KRAS - TP53 & 736 & 961 & 0.3424849 & 0.4471847 & 217 & 183.57080 & 661 & ⋯ & -68.06642 & -5.285569 & 0 & 1697 & 0 & ME & TRUE & DFCI Primary & all & non\\_small\\_cell\\_lung\\_cancer\\\\\n",
       "\\end{tabular}\n"
      ],
      "text/markdown": [
       "\n",
       "A data.frame: 2 × 25\n",
       "\n",
       "| <!--/--> | SFE_1 &lt;chr&gt; | SFE_2 &lt;chr&gt; | name &lt;chr&gt; | support_1 &lt;dbl&gt; | support_2 &lt;dbl&gt; | freq_1 &lt;dbl&gt; | freq_2 &lt;dbl&gt; | overlap &lt;dbl&gt; | w_overlap &lt;dbl&gt; | max_overlap &lt;dbl&gt; | ⋯ ⋯ | nES &lt;dbl&gt; | mean_r_nES &lt;dbl&gt; | nFDR &lt;dbl&gt; | cum_freq &lt;dbl&gt; | nFDR2 &lt;dbl&gt; | type &lt;chr&gt; | FDR &lt;lgl&gt; | Cohort &lt;chr&gt; | Panel &lt;chr&gt; | Tumor_run &lt;chr&gt; |\n",
       "|---|---|---|---|---|---|---|---|---|---|---|---|---|---|---|---|---|---|---|---|---|---|\n",
       "| 1 | KRAS | EGFR | KRAS - EGFR | 736 | 384 | 0.3424849 | 0.1786878 |   9 |   6.62247 | 384 | ⋯ | -94.52743 | -4.125610 | 0 | 1120 | 0 | ME | TRUE | DFCI Primary | all | non_small_cell_lung_cancer |\n",
       "| 2 | KRAS | TP53 | KRAS - TP53 | 736 | 961 | 0.3424849 | 0.4471847 | 217 | 183.57080 | 661 | ⋯ | -68.06642 | -5.285569 | 0 | 1697 | 0 | ME | TRUE | DFCI Primary | all | non_small_cell_lung_cancer |\n",
       "\n"
      ],
      "text/plain": [
       "  SFE_1 SFE_2 name        support_1 support_2 freq_1    freq_2    overlap\n",
       "1 KRAS  EGFR  KRAS - EGFR 736       384       0.3424849 0.1786878   9    \n",
       "2 KRAS  TP53  KRAS - TP53 736       961       0.3424849 0.4471847 217    \n",
       "  w_overlap max_overlap ⋯ nES       mean_r_nES nFDR cum_freq nFDR2 type FDR \n",
       "1   6.62247 384         ⋯ -94.52743 -4.125610  0    1120     0     ME   TRUE\n",
       "2 183.57080 661         ⋯ -68.06642 -5.285569  0    1697     0     ME   TRUE\n",
       "  Cohort       Panel Tumor_run                 \n",
       "1 DFCI Primary all   non_small_cell_lung_cancer\n",
       "2 DFCI Primary all   non_small_cell_lung_cancer"
      ]
     },
     "metadata": {},
     "output_type": "display_data"
    }
   ],
   "source": [
    "head(tumor_can_result_dfci_primary,2)"
   ]
  },
  {
   "cell_type": "markdown",
   "id": "917fccbd-103d-48f5-8def-994a4324eae7",
   "metadata": {},
   "source": [
    "### Metastasis"
   ]
  },
  {
   "cell_type": "code",
   "execution_count": 32,
   "id": "3b96b91b-27dc-4862-b654-da23aa7ef3d6",
   "metadata": {},
   "outputs": [],
   "source": [
    "dfci_run_m_data <- readRDS('/mnt/ndata/arvind/co_mutation_project/data/processed/gams/pan_can_dfci_meta_run_data_v15.rds')"
   ]
  },
  {
   "cell_type": "code",
   "execution_count": 33,
   "id": "31d60c9d-5eeb-4a18-8a8d-17952b983658",
   "metadata": {},
   "outputs": [],
   "source": [
    "tumor_groups<-unique(genie_metadata_15_dfci_with_mutation_selected_final_atleast_100_samples$final_run_group)"
   ]
  },
  {
   "cell_type": "code",
   "execution_count": 34,
   "id": "c33447ac-c0e6-40f6-9b9d-e8e3c2635a95",
   "metadata": {},
   "outputs": [],
   "source": [
    "cleaned_tumor_groups <- tolower(gsub(\"[[:space:]/-]\", \"_\", tumor_groups))"
   ]
  },
  {
   "cell_type": "code",
   "execution_count": 35,
   "id": "683aad7e-a04e-4159-bd83-872312072f53",
   "metadata": {},
   "outputs": [],
   "source": [
    "mapped_tumor_groups <- cleaned_tumor_groups\n",
    "names(mapped_tumor_groups)<-tumor_groups"
   ]
  },
  {
   "cell_type": "code",
   "execution_count": 36,
   "id": "f8995d16-a6a8-4e2b-95ed-4334e3bc2cb6",
   "metadata": {},
   "outputs": [
    {
     "name": "stdout",
     "output_type": "stream",
     "text": [
      " Named chr [1:26] \"non_small_cell_lung_cancer\" \"bladder_cancer\" ...\n",
      " - attr(*, \"names\")= chr [1:26] \"Non-Small Cell Lung Cancer\" \"Bladder Cancer\" \"Thyroid Cancer\" \"Esophagogastric Cancer\" ...\n"
     ]
    }
   ],
   "source": [
    "str(mapped_tumor_groups)"
   ]
  },
  {
   "cell_type": "code",
   "execution_count": 37,
   "id": "1267396d-64c2-4c0e-8788-9a33aaf0060a",
   "metadata": {},
   "outputs": [],
   "source": [
    "tumor_run_result_meta <- list()"
   ]
  },
  {
   "cell_type": "code",
   "execution_count": 38,
   "id": "2e4ae032-9233-443c-978e-71c05e91ebc0",
   "metadata": {
    "scrolled": true
   },
   "outputs": [
    {
     "name": "stdout",
     "output_type": "stream",
     "text": [
      "--Running: all --\n",
      "---Tumor Group--- Non-Small Cell Lung Cancer --\n",
      "---Tumor Group--- Non-Small Cell Lung Cancer --Done--\n",
      "---Tumor Group--- Bladder Cancer --\n",
      "---Tumor Group--- Bladder Cancer --Done--\n",
      "---Tumor Group--- Thyroid Cancer --\n",
      "---Tumor Group--- Thyroid Cancer --Done--\n",
      "---Tumor Group--- Esophagogastric Cancer --\n",
      "---Tumor Group--- Esophagogastric Cancer --Done--\n",
      "---Tumor Group--- Breast Cancer --\n",
      "---Tumor Group--- Breast Cancer --Done--\n",
      "---Tumor Group--- Endometrial Cancer --\n",
      "---Tumor Group--- Endometrial Cancer --Done--\n",
      "---Tumor Group--- Small Cell Lung Cancer --\n",
      "---Tumor Group--- Small Cell Lung Cancer --Done--\n",
      "---Tumor Group--- Head and Neck Cancer --\n",
      "---Tumor Group--- Head and Neck Cancer --Done--\n",
      "---Tumor Group--- Glioma --\n",
      "---Tumor Group--- Glioma --Done--\n",
      "---Tumor Group--- Colorectal Cancer --\n",
      "---Tumor Group--- Colorectal Cancer --Done--\n",
      "---Tumor Group--- Billary Tract Cancer --\n",
      "---Tumor Group--- Billary Tract Cancer --Done--\n",
      "---Tumor Group--- Ovarian Cancer --\n",
      "---Tumor Group--- Ovarian Cancer --Done--\n",
      "---Tumor Group--- Prostate Cancer --\n",
      "---Tumor Group--- Prostate Cancer --Done--\n",
      "---Tumor Group--- Melanoma --\n",
      "---Tumor Group--- Melanoma --Done--\n",
      "---Tumor Group--- Skin Cancer, Non-Melanoma --\n",
      "---Tumor Group--- Skin Cancer, Non-Melanoma --Done--\n",
      "---Tumor Group--- Pancreatic Cancer --\n",
      "---Tumor Group--- Pancreatic Cancer --Done--\n",
      "---Tumor Group--- Soft Tissue Sarcoma --\n",
      "---Tumor Group--- Soft Tissue Sarcoma --Done--\n",
      "---Tumor Group--- Gastrointestinal Stromal Tumor --\n",
      "---Tumor Group--- Gastrointestinal Stromal Tumor --Done--\n",
      "---Tumor Group--- Gastrointestinal Neuroendocrine Tumor --\n",
      "---Tumor Group--- Gastrointestinal Neuroendocrine Tumor --Done--\n",
      "---Tumor Group--- Renal Cell Carcinoma --\n",
      "---Tumor Group--- Renal Cell Carcinoma --Done--\n",
      "\n",
      "---Done---\n",
      "--Running: p_2 --\n",
      "---Tumor Group--- Non-Small Cell Lung Cancer --\n",
      "---Tumor Group--- Non-Small Cell Lung Cancer --Done--\n",
      "---Tumor Group--- Breast Cancer --\n",
      "---Tumor Group--- Breast Cancer --Done--\n",
      "---Tumor Group--- Head and Neck Cancer --\n",
      "---Tumor Group--- Head and Neck Cancer --Done--\n",
      "---Tumor Group--- Glioma --\n",
      "---Tumor Group--- Glioma --Done--\n",
      "---Tumor Group--- Colorectal Cancer --\n",
      "---Tumor Group--- Colorectal Cancer --Done--\n",
      "---Tumor Group--- Ovarian Cancer --\n",
      "---Tumor Group--- Ovarian Cancer --Done--\n",
      "---Tumor Group--- Melanoma --\n",
      "---Tumor Group--- Melanoma --Done--\n",
      "---Tumor Group--- Pancreatic Cancer --\n",
      "---Tumor Group--- Pancreatic Cancer --Done--\n",
      "---Tumor Group--- Renal Cell Carcinoma --\n",
      "---Tumor Group--- Renal Cell Carcinoma --Done--\n",
      "\n",
      "---Done---\n",
      "--Running: p_3 --\n",
      "---Tumor Group--- Non-Small Cell Lung Cancer --\n",
      "---Tumor Group--- Non-Small Cell Lung Cancer --Done--\n",
      "---Tumor Group--- Bladder Cancer --\n",
      "---Tumor Group--- Bladder Cancer --Done--\n",
      "---Tumor Group--- Thyroid Cancer --\n",
      "---Tumor Group--- Thyroid Cancer --Done--\n",
      "---Tumor Group--- Esophagogastric Cancer --\n",
      "---Tumor Group--- Esophagogastric Cancer --Done--\n",
      "---Tumor Group--- Breast Cancer --\n",
      "---Tumor Group--- Breast Cancer --Done--\n",
      "---Tumor Group--- Endometrial Cancer --\n",
      "---Tumor Group--- Endometrial Cancer --Done--\n",
      "---Tumor Group--- Small Cell Lung Cancer --\n",
      "---Tumor Group--- Small Cell Lung Cancer --Done--\n",
      "---Tumor Group--- Head and Neck Cancer --\n",
      "---Tumor Group--- Head and Neck Cancer --Done--\n",
      "---Tumor Group--- Glioma --\n",
      "---Tumor Group--- Glioma --Done--\n",
      "---Tumor Group--- Colorectal Cancer --\n",
      "---Tumor Group--- Colorectal Cancer --Done--\n",
      "---Tumor Group--- Billary Tract Cancer --\n",
      "---Tumor Group--- Billary Tract Cancer --Done--\n",
      "---Tumor Group--- Ovarian Cancer --\n",
      "---Tumor Group--- Ovarian Cancer --Done--\n",
      "---Tumor Group--- Prostate Cancer --\n",
      "---Tumor Group--- Prostate Cancer --Done--\n",
      "---Tumor Group--- Melanoma --\n",
      "---Tumor Group--- Melanoma --Done--\n",
      "---Tumor Group--- Skin Cancer, Non-Melanoma --\n",
      "---Tumor Group--- Skin Cancer, Non-Melanoma --Done--\n",
      "---Tumor Group--- Pancreatic Cancer --\n",
      "---Tumor Group--- Pancreatic Cancer --Done--\n",
      "---Tumor Group--- Soft Tissue Sarcoma --\n",
      "---Tumor Group--- Soft Tissue Sarcoma --Done--\n",
      "---Tumor Group--- Gastrointestinal Stromal Tumor --\n",
      "---Tumor Group--- Gastrointestinal Stromal Tumor --Done--\n",
      "---Tumor Group--- Gastrointestinal Neuroendocrine Tumor --\n",
      "---Tumor Group--- Gastrointestinal Neuroendocrine Tumor --Done--\n",
      "---Tumor Group--- Renal Cell Carcinoma --\n",
      "---Tumor Group--- Renal Cell Carcinoma --Done--\n",
      "\n",
      "---Done---\n",
      "--Running: p_1 --\n",
      "---Tumor Group--- Non-Small Cell Lung Cancer --\n",
      "---Tumor Group--- Non-Small Cell Lung Cancer --Done--\n",
      "---Tumor Group--- Breast Cancer --\n",
      "---Tumor Group--- Breast Cancer --Done--\n",
      "---Tumor Group--- Colorectal Cancer --\n",
      "---Tumor Group--- Colorectal Cancer --Done--\n",
      "---Tumor Group--- Ovarian Cancer --\n",
      "---Tumor Group--- Ovarian Cancer --Done--\n",
      "\n",
      "---Done---\n"
     ]
    }
   ],
   "source": [
    "k=1\n",
    "dir='/mnt/ndata/arvind/co_mutation_project/analysis/catalogue/'\n",
    "for(name in names(dfci_run_gene_list)){\n",
    "    cat('--Running:',name,\"--\\n\")\n",
    "    if(name=='all'){\n",
    "        for(tumor_group in names(mapped_tumor_groups)){\n",
    "            samples<-(genie_metadata_15_dfci_with_mutation_selected_final_atleast_100_samples %>% \n",
    "                      filter(SAMPLE_TYPE!='Primary' & final_run_group==tumor_group)%>% group_by(final_class) %>% filter(n()>=30) %>% ungroup())$SAMPLE_ID\n",
    "            if(length(samples)>=30){\n",
    "                cat('---Tumor Group---',tumor_group,\"--\\n\")\n",
    "                    finalname<-paste(mapped_tumor_groups[tumor_group],name,sep=\"_\")\n",
    "                    label<-paste(dir,'/results/','dfci_panel_',finalname,'_meta_result.rds',sep=\"\")\n",
    "                    msk_result<-readRDS(file = label)\n",
    "                    result_df <- msk_result$result\n",
    "                    result_df <- result_df %>% mutate('Cohort'='DFCI Metastasis') %>% mutate('Panel'='all') %>% mutate('Tumor_run'=mapped_tumor_groups[tumor_group])\n",
    "                    tumor_run_result_meta[[k]]<-result_df\n",
    "                    rm(msk_result)\n",
    "                    k=k+1                \n",
    "                cat('---Tumor Group---',tumor_group,\"--Done--\\n\")        \n",
    "                \n",
    "            }\n",
    "        }    \n",
    "    }\n",
    "    else if(name=='p_2'){\n",
    "        for(tumor_group in names(mapped_tumor_groups)){\n",
    "            samples<-(genie_metadata_15_dfci_with_mutation_selected_final_atleast_100_samples %>% \n",
    "                      filter(SAMPLE_TYPE!='Primary' &SEQ_ASSAY_ID=='DFCI-ONCOPANEL-2' & final_run_group==tumor_group)%>% group_by(final_class) %>% filter(n()>=30) %>% ungroup())$SAMPLE_ID\n",
    "            if(length(samples)>=30){\n",
    "                cat('---Tumor Group---',tumor_group,\"--\\n\")\n",
    "                    finalname<-paste(mapped_tumor_groups[tumor_group],name,sep=\"_\")\n",
    "                    label<-paste(dir,'/results/','dfci_panel_',finalname,'_meta_result.rds',sep=\"\")\n",
    "                    msk_result<-readRDS(file = label)\n",
    "                    result_df <- msk_result$result\n",
    "                    result_df <- result_df %>% mutate('Cohort'='DFCI Metastasis') %>% mutate('Panel'='p_2') %>% mutate('Tumor_run'=mapped_tumor_groups[tumor_group])\n",
    "                    tumor_run_result_meta[[k]]<-result_df\n",
    "                    rm(msk_result)\n",
    "                    k=k+1                \n",
    "                cat('---Tumor Group---',tumor_group,\"--Done--\\n\")        \n",
    "                \n",
    "            }\n",
    "        }\n",
    "    }\n",
    "    else if(name=='p_1'){\n",
    "        for(tumor_group in names(mapped_tumor_groups)){\n",
    "            samples<-(genie_metadata_15_dfci_with_mutation_selected_final_atleast_100_samples %>% \n",
    "                      filter(SAMPLE_TYPE!='Primary' &SEQ_ASSAY_ID=='DFCI-ONCOPANEL-1' & final_run_group==tumor_group)%>% group_by(final_class) %>% filter(n()>=30) %>% ungroup())$SAMPLE_ID\n",
    "            if(length(samples)>=30){\n",
    "                cat('---Tumor Group---',tumor_group,\"--\\n\")\n",
    "                    finalname<-paste(mapped_tumor_groups[tumor_group],name,sep=\"_\")\n",
    "                    label<-paste(dir,'/results/','dfci_panel_',finalname,'_meta_result.rds',sep=\"\")\n",
    "                    msk_result<-readRDS(file = label)\n",
    "                    result_df <- msk_result$result\n",
    "                    result_df <- result_df %>% mutate('Cohort'='DFCI Metastasis') %>% mutate('Panel'='p_1') %>% mutate('Tumor_run'=mapped_tumor_groups[tumor_group])\n",
    "                    tumor_run_result_meta[[k]]<-result_df\n",
    "                    rm(msk_result)\n",
    "                    k=k+1                \n",
    "                cat('---Tumor Group---',tumor_group,\"--Done--\\n\")        \n",
    "                \n",
    "            }\n",
    "        }\n",
    "        \n",
    "    }\n",
    "    else{\n",
    "        for(tumor_group in names(mapped_tumor_groups)){\n",
    "            samples<-(genie_metadata_15_dfci_with_mutation_selected_final_atleast_100_samples %>% \n",
    "                      filter(SAMPLE_TYPE!='Primary' & SEQ_ASSAY_ID %in% c('DFCI-ONCOPANEL-3.1','DFCI-ONCOPANEL-3') & final_run_group==tumor_group)%>% group_by(final_class) %>% filter(n()>=30) %>% ungroup())$SAMPLE_ID\n",
    "            if(length(samples)>=30){\n",
    "                cat('---Tumor Group---',tumor_group,\"--\\n\")\n",
    "                    finalname<-paste(mapped_tumor_groups[tumor_group],name,sep=\"_\")\n",
    "                    label<-paste(dir,'/results/','dfci_panel_',finalname,'_meta_result.rds',sep=\"\")\n",
    "                    msk_result<-readRDS(file = label)\n",
    "                    result_df <- msk_result$result\n",
    "                    result_df <- result_df %>% mutate('Cohort'='DFCI Metastasis') %>% mutate('Panel'='p_3') %>% mutate('Tumor_run'=mapped_tumor_groups[tumor_group])\n",
    "                    tumor_run_result_meta[[k]]<-result_df\n",
    "                    rm(msk_result)\n",
    "                    k=k+1                \n",
    "                cat('---Tumor Group---',tumor_group,\"--Done--\\n\")        \n",
    "                \n",
    "            }\n",
    "        }\n",
    "    }\n",
    " cat('\\n---Done---\\n')\n",
    "}"
   ]
  },
  {
   "cell_type": "code",
   "execution_count": 39,
   "id": "7589a9c4-76ef-4fc8-9f9d-ce9216848da7",
   "metadata": {},
   "outputs": [
    {
     "data": {
      "text/html": [
       "53"
      ],
      "text/latex": [
       "53"
      ],
      "text/markdown": [
       "53"
      ],
      "text/plain": [
       "[1] 53"
      ]
     },
     "metadata": {},
     "output_type": "display_data"
    }
   ],
   "source": [
    "length(tumor_run_result_meta)"
   ]
  },
  {
   "cell_type": "code",
   "execution_count": 40,
   "id": "dbeb7aa0-576c-4cd9-a2db-c9e63f7eb09f",
   "metadata": {},
   "outputs": [],
   "source": [
    "tumor_can_result_dfci_meta <- bind_rows(tumor_run_result_meta)\n",
    "rownames(tumor_can_result_dfci_meta) <- c(1:nrow(tumor_can_result_dfci_meta))"
   ]
  },
  {
   "cell_type": "code",
   "execution_count": 41,
   "id": "9c3c8dfd-3656-4486-bd54-296166ac61de",
   "metadata": {},
   "outputs": [
    {
     "data": {
      "text/html": [
       "<table class=\"dataframe\">\n",
       "<caption>A data.frame: 2 × 25</caption>\n",
       "<thead>\n",
       "\t<tr><th></th><th scope=col>SFE_1</th><th scope=col>SFE_2</th><th scope=col>name</th><th scope=col>support_1</th><th scope=col>support_2</th><th scope=col>freq_1</th><th scope=col>freq_2</th><th scope=col>overlap</th><th scope=col>w_overlap</th><th scope=col>max_overlap</th><th scope=col>⋯</th><th scope=col>nES</th><th scope=col>mean_r_nES</th><th scope=col>nFDR</th><th scope=col>cum_freq</th><th scope=col>nFDR2</th><th scope=col>type</th><th scope=col>FDR</th><th scope=col>Cohort</th><th scope=col>Panel</th><th scope=col>Tumor_run</th></tr>\n",
       "\t<tr><th></th><th scope=col>&lt;chr&gt;</th><th scope=col>&lt;chr&gt;</th><th scope=col>&lt;chr&gt;</th><th scope=col>&lt;dbl&gt;</th><th scope=col>&lt;dbl&gt;</th><th scope=col>&lt;dbl&gt;</th><th scope=col>&lt;dbl&gt;</th><th scope=col>&lt;dbl&gt;</th><th scope=col>&lt;dbl&gt;</th><th scope=col>&lt;dbl&gt;</th><th scope=col>⋯</th><th scope=col>&lt;dbl&gt;</th><th scope=col>&lt;dbl&gt;</th><th scope=col>&lt;dbl&gt;</th><th scope=col>&lt;dbl&gt;</th><th scope=col>&lt;dbl&gt;</th><th scope=col>&lt;chr&gt;</th><th scope=col>&lt;lgl&gt;</th><th scope=col>&lt;chr&gt;</th><th scope=col>&lt;chr&gt;</th><th scope=col>&lt;chr&gt;</th></tr>\n",
       "</thead>\n",
       "<tbody>\n",
       "\t<tr><th scope=row>1</th><td>KRAS</td><td>EGFR</td><td>KRAS - EGFR</td><td>503</td><td>311</td><td>0.3216113</td><td>0.1988491</td><td>  5</td><td>  3.932692</td><td>311</td><td>⋯</td><td>-66.70008</td><td>-3.275151</td><td>0</td><td> 814</td><td>0</td><td>ME</td><td>TRUE</td><td>DFCI Metastasis</td><td>all</td><td>non_small_cell_lung_cancer</td></tr>\n",
       "\t<tr><th scope=row>2</th><td>KRAS</td><td>TP53</td><td>KRAS - TP53</td><td>503</td><td>863</td><td>0.3216113</td><td>0.5517903</td><td>226</td><td>186.462247</td><td>503</td><td>⋯</td><td>-43.83465</td><td>-4.133740</td><td>0</td><td>1366</td><td>0</td><td>ME</td><td>TRUE</td><td>DFCI Metastasis</td><td>all</td><td>non_small_cell_lung_cancer</td></tr>\n",
       "</tbody>\n",
       "</table>\n"
      ],
      "text/latex": [
       "A data.frame: 2 × 25\n",
       "\\begin{tabular}{r|lllllllllllllllllllll}\n",
       "  & SFE\\_1 & SFE\\_2 & name & support\\_1 & support\\_2 & freq\\_1 & freq\\_2 & overlap & w\\_overlap & max\\_overlap & ⋯ & nES & mean\\_r\\_nES & nFDR & cum\\_freq & nFDR2 & type & FDR & Cohort & Panel & Tumor\\_run\\\\\n",
       "  & <chr> & <chr> & <chr> & <dbl> & <dbl> & <dbl> & <dbl> & <dbl> & <dbl> & <dbl> & ⋯ & <dbl> & <dbl> & <dbl> & <dbl> & <dbl> & <chr> & <lgl> & <chr> & <chr> & <chr>\\\\\n",
       "\\hline\n",
       "\t1 & KRAS & EGFR & KRAS - EGFR & 503 & 311 & 0.3216113 & 0.1988491 &   5 &   3.932692 & 311 & ⋯ & -66.70008 & -3.275151 & 0 &  814 & 0 & ME & TRUE & DFCI Metastasis & all & non\\_small\\_cell\\_lung\\_cancer\\\\\n",
       "\t2 & KRAS & TP53 & KRAS - TP53 & 503 & 863 & 0.3216113 & 0.5517903 & 226 & 186.462247 & 503 & ⋯ & -43.83465 & -4.133740 & 0 & 1366 & 0 & ME & TRUE & DFCI Metastasis & all & non\\_small\\_cell\\_lung\\_cancer\\\\\n",
       "\\end{tabular}\n"
      ],
      "text/markdown": [
       "\n",
       "A data.frame: 2 × 25\n",
       "\n",
       "| <!--/--> | SFE_1 &lt;chr&gt; | SFE_2 &lt;chr&gt; | name &lt;chr&gt; | support_1 &lt;dbl&gt; | support_2 &lt;dbl&gt; | freq_1 &lt;dbl&gt; | freq_2 &lt;dbl&gt; | overlap &lt;dbl&gt; | w_overlap &lt;dbl&gt; | max_overlap &lt;dbl&gt; | ⋯ ⋯ | nES &lt;dbl&gt; | mean_r_nES &lt;dbl&gt; | nFDR &lt;dbl&gt; | cum_freq &lt;dbl&gt; | nFDR2 &lt;dbl&gt; | type &lt;chr&gt; | FDR &lt;lgl&gt; | Cohort &lt;chr&gt; | Panel &lt;chr&gt; | Tumor_run &lt;chr&gt; |\n",
       "|---|---|---|---|---|---|---|---|---|---|---|---|---|---|---|---|---|---|---|---|---|---|\n",
       "| 1 | KRAS | EGFR | KRAS - EGFR | 503 | 311 | 0.3216113 | 0.1988491 |   5 |   3.932692 | 311 | ⋯ | -66.70008 | -3.275151 | 0 |  814 | 0 | ME | TRUE | DFCI Metastasis | all | non_small_cell_lung_cancer |\n",
       "| 2 | KRAS | TP53 | KRAS - TP53 | 503 | 863 | 0.3216113 | 0.5517903 | 226 | 186.462247 | 503 | ⋯ | -43.83465 | -4.133740 | 0 | 1366 | 0 | ME | TRUE | DFCI Metastasis | all | non_small_cell_lung_cancer |\n",
       "\n"
      ],
      "text/plain": [
       "  SFE_1 SFE_2 name        support_1 support_2 freq_1    freq_2    overlap\n",
       "1 KRAS  EGFR  KRAS - EGFR 503       311       0.3216113 0.1988491   5    \n",
       "2 KRAS  TP53  KRAS - TP53 503       863       0.3216113 0.5517903 226    \n",
       "  w_overlap  max_overlap ⋯ nES       mean_r_nES nFDR cum_freq nFDR2 type FDR \n",
       "1   3.932692 311         ⋯ -66.70008 -3.275151  0     814     0     ME   TRUE\n",
       "2 186.462247 503         ⋯ -43.83465 -4.133740  0    1366     0     ME   TRUE\n",
       "  Cohort          Panel Tumor_run                 \n",
       "1 DFCI Metastasis all   non_small_cell_lung_cancer\n",
       "2 DFCI Metastasis all   non_small_cell_lung_cancer"
      ]
     },
     "metadata": {},
     "output_type": "display_data"
    }
   ],
   "source": [
    "head(tumor_can_result_dfci_meta,2)"
   ]
  },
  {
   "cell_type": "markdown",
   "id": "e459b87b-686f-423f-84d1-8a94811106e6",
   "metadata": {},
   "source": [
    "# Merge all result into one dataframe"
   ]
  },
  {
   "cell_type": "code",
   "execution_count": 42,
   "id": "0a4bff01-c19e-4986-b515-b1cfeacd727d",
   "metadata": {},
   "outputs": [
    {
     "data": {
      "text/html": [
       "<style>\n",
       ".list-inline {list-style: none; margin:0; padding: 0}\n",
       ".list-inline>li {display: inline-block}\n",
       ".list-inline>li:not(:last-child)::after {content: \"\\00b7\"; padding: 0 .5ex}\n",
       "</style>\n",
       "<ol class=list-inline><li>124766</li><li>25</li></ol>\n"
      ],
      "text/latex": [
       "\\begin{enumerate*}\n",
       "\\item 124766\n",
       "\\item 25\n",
       "\\end{enumerate*}\n"
      ],
      "text/markdown": [
       "1. 124766\n",
       "2. 25\n",
       "\n",
       "\n"
      ],
      "text/plain": [
       "[1] 124766     25"
      ]
     },
     "metadata": {},
     "output_type": "display_data"
    }
   ],
   "source": [
    "dim(pan_can_result_dfci)"
   ]
  },
  {
   "cell_type": "code",
   "execution_count": 43,
   "id": "66a6e955-b2d3-4e3a-aef4-c64fdc97a03c",
   "metadata": {},
   "outputs": [
    {
     "data": {
      "text/html": [
       "<style>\n",
       ".list-inline {list-style: none; margin:0; padding: 0}\n",
       ".list-inline>li {display: inline-block}\n",
       ".list-inline>li:not(:last-child)::after {content: \"\\00b7\"; padding: 0 .5ex}\n",
       "</style>\n",
       "<ol class=list-inline><li>479461</li><li>25</li></ol>\n"
      ],
      "text/latex": [
       "\\begin{enumerate*}\n",
       "\\item 479461\n",
       "\\item 25\n",
       "\\end{enumerate*}\n"
      ],
      "text/markdown": [
       "1. 479461\n",
       "2. 25\n",
       "\n",
       "\n"
      ],
      "text/plain": [
       "[1] 479461     25"
      ]
     },
     "metadata": {},
     "output_type": "display_data"
    }
   ],
   "source": [
    "dim(tumor_can_result_dfci_primary)"
   ]
  },
  {
   "cell_type": "code",
   "execution_count": 44,
   "id": "9ebf207f-3eb6-4616-a7ec-05850bfb42db",
   "metadata": {},
   "outputs": [
    {
     "data": {
      "text/html": [
       "<style>\n",
       ".list-inline {list-style: none; margin:0; padding: 0}\n",
       ".list-inline>li {display: inline-block}\n",
       ".list-inline>li:not(:last-child)::after {content: \"\\00b7\"; padding: 0 .5ex}\n",
       "</style>\n",
       "<ol class=list-inline><li>296254</li><li>25</li></ol>\n"
      ],
      "text/latex": [
       "\\begin{enumerate*}\n",
       "\\item 296254\n",
       "\\item 25\n",
       "\\end{enumerate*}\n"
      ],
      "text/markdown": [
       "1. 296254\n",
       "2. 25\n",
       "\n",
       "\n"
      ],
      "text/plain": [
       "[1] 296254     25"
      ]
     },
     "metadata": {},
     "output_type": "display_data"
    }
   ],
   "source": [
    "dim(tumor_can_result_dfci_meta)"
   ]
  },
  {
   "cell_type": "code",
   "execution_count": 45,
   "id": "f33edcb0-c909-4d4b-9a75-7424c5d9ee58",
   "metadata": {},
   "outputs": [],
   "source": [
    "all_result_merged_dfci <- rbind(pan_can_result_dfci,tumor_can_result_dfci_primary,tumor_can_result_dfci_meta)"
   ]
  },
  {
   "cell_type": "code",
   "execution_count": null,
   "id": "fc06eee3-f51b-402c-992e-40ef19481f08",
   "metadata": {},
   "outputs": [],
   "source": [
    "saveRDS(all_result_merged_dfci,file='../results/all_merged_result_dfci_v15.rds')"
   ]
  }
 ],
 "metadata": {
  "kernelspec": {
   "display_name": "R",
   "language": "R",
   "name": "ir"
  },
  "language_info": {
   "codemirror_mode": "r",
   "file_extension": ".r",
   "mimetype": "text/x-r-source",
   "name": "R",
   "pygments_lexer": "r",
   "version": "4.3.2"
  }
 },
 "nbformat": 4,
 "nbformat_minor": 5
}
