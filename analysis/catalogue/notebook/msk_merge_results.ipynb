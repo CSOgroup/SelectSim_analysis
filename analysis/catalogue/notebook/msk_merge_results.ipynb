{
 "cells": [
  {
   "cell_type": "code",
   "execution_count": 1,
   "id": "5b57db66-e0ab-4ebf-853e-dde74b382c76",
   "metadata": {},
   "outputs": [
    {
     "name": "stderr",
     "output_type": "stream",
     "text": [
      "── \u001b[1mAttaching core tidyverse packages\u001b[22m ───────────────────────────────────────────────────────────────────────────────────────────────────────────────────────────────────── tidyverse 2.0.0 ──\n",
      "\u001b[32m✔\u001b[39m \u001b[34mdplyr    \u001b[39m 1.1.4     \u001b[32m✔\u001b[39m \u001b[34mreadr    \u001b[39m 2.1.5\n",
      "\u001b[32m✔\u001b[39m \u001b[34mforcats  \u001b[39m 1.0.0     \u001b[32m✔\u001b[39m \u001b[34mstringr  \u001b[39m 1.5.1\n",
      "\u001b[32m✔\u001b[39m \u001b[34mggplot2  \u001b[39m 3.4.4     \u001b[32m✔\u001b[39m \u001b[34mtibble   \u001b[39m 3.2.1\n",
      "\u001b[32m✔\u001b[39m \u001b[34mlubridate\u001b[39m 1.9.3     \u001b[32m✔\u001b[39m \u001b[34mtidyr    \u001b[39m 1.3.0\n",
      "\u001b[32m✔\u001b[39m \u001b[34mpurrr    \u001b[39m 1.0.2     \n",
      "── \u001b[1mConflicts\u001b[22m ─────────────────────────────────────────────────────────────────────────────────────────────────────────────────────────────────────────────────────── tidyverse_conflicts() ──\n",
      "\u001b[31m✖\u001b[39m \u001b[34mdplyr\u001b[39m::\u001b[32mfilter()\u001b[39m masks \u001b[34mstats\u001b[39m::filter()\n",
      "\u001b[31m✖\u001b[39m \u001b[34mdplyr\u001b[39m::\u001b[32mlag()\u001b[39m    masks \u001b[34mstats\u001b[39m::lag()\n",
      "\u001b[36mℹ\u001b[39m Use the conflicted package (\u001b[3m\u001b[34m<http://conflicted.r-lib.org/>\u001b[39m\u001b[23m) to force all conflicts to become errors\n"
     ]
    }
   ],
   "source": [
    "library('SelectSim')\n",
    "library('tidyverse')\n",
    "library('tictoc')"
   ]
  },
  {
   "cell_type": "code",
   "execution_count": 2,
   "id": "98d044f3-7aee-4d39-839e-e441c975fe1f",
   "metadata": {
    "scrolled": true
   },
   "outputs": [
    {
     "data": {
      "text/plain": [
       "R version 4.3.2 (2023-10-31)\n",
       "Platform: x86_64-conda-linux-gnu (64-bit)\n",
       "Running under: CentOS Linux 7 (Core)\n",
       "\n",
       "Matrix products: default\n",
       "BLAS/LAPACK: /mnt/ndata/arvind/envs/R_4/lib/libopenblasp-r0.3.25.so;  LAPACK version 3.11.0\n",
       "\n",
       "locale:\n",
       " [1] LC_CTYPE=en_US.UTF-8       LC_NUMERIC=C              \n",
       " [3] LC_TIME=en_US.UTF-8        LC_COLLATE=en_US.UTF-8    \n",
       " [5] LC_MONETARY=en_US.UTF-8    LC_MESSAGES=en_US.UTF-8   \n",
       " [7] LC_PAPER=en_US.UTF-8       LC_NAME=C                 \n",
       " [9] LC_ADDRESS=C               LC_TELEPHONE=C            \n",
       "[11] LC_MEASUREMENT=en_US.UTF-8 LC_IDENTIFICATION=C       \n",
       "\n",
       "time zone: Europe/Zurich\n",
       "tzcode source: system (glibc)\n",
       "\n",
       "attached base packages:\n",
       "[1] stats     graphics  grDevices utils     datasets  methods   base     \n",
       "\n",
       "other attached packages:\n",
       " [1] tictoc_1.2        lubridate_1.9.3   forcats_1.0.0     stringr_1.5.1    \n",
       " [5] dplyr_1.1.4       purrr_1.0.2       readr_2.1.5       tidyr_1.3.0      \n",
       " [9] tibble_3.2.1      ggplot2_3.4.4     tidyverse_2.0.0   SelectSim_0.0.1.3\n",
       "\n",
       "loaded via a namespace (and not attached):\n",
       " [1] gtable_0.3.4       rstatix_0.7.2      lattice_0.22-5     tzdb_0.4.0        \n",
       " [5] vctrs_0.6.5        tools_4.3.2        generics_0.1.3     parallel_4.3.2    \n",
       " [9] fansi_1.0.6        pkgconfig_2.0.3    Matrix_1.6-5       ggridges_0.5.5    \n",
       "[13] rngtools_1.5.2     RcppParallel_5.1.6 uuid_1.2-0         lifecycle_1.0.4   \n",
       "[17] compiler_4.3.2     munsell_0.5.0      repr_1.1.6         codetools_0.2-19  \n",
       "[21] carData_3.0-5      htmltools_0.5.7    pillar_1.9.0       car_3.1-2         \n",
       "[25] ggpubr_0.6.0       crayon_1.5.2       doRNG_1.8.6        iterators_1.0.14  \n",
       "[29] abind_1.4-5        foreach_1.5.2      tidyselect_1.2.0   digest_0.6.34     \n",
       "[33] stringi_1.8.3      reshape2_1.4.4     fastmap_1.1.1      grid_4.3.2        \n",
       "[37] colorspace_2.1-0   cli_3.6.2          magrittr_2.0.3     base64enc_0.1-3   \n",
       "[41] Rfast_2.1.0        utf8_1.2.4         IRdisplay_1.1      broom_1.0.5       \n",
       "[45] withr_3.0.0        scales_1.3.0       backports_1.4.1    IRkernel_1.3.2    \n",
       "[49] RcppZiggurat_0.1.6 timechange_0.3.0   pbdZMQ_0.3-11      ggsignif_0.6.4    \n",
       "[53] hms_1.1.3          evaluate_0.23      doParallel_1.0.17  rlang_1.1.3       \n",
       "[57] Rcpp_1.0.12        glue_1.7.0         jsonlite_1.8.8     R6_2.5.1          \n",
       "[61] plyr_1.8.9        "
      ]
     },
     "metadata": {},
     "output_type": "display_data"
    }
   ],
   "source": [
    "sessionInfo()"
   ]
  },
  {
   "cell_type": "markdown",
   "id": "af642fe5-1b57-4335-b57b-f82e6ebf7384",
   "metadata": {},
   "source": [
    "# Metadata"
   ]
  },
  {
   "cell_type": "code",
   "execution_count": 3,
   "id": "8dd222d1-9d39-4740-84a0-944f5851d619",
   "metadata": {},
   "outputs": [],
   "source": [
    "all_merged_metdata <- readRDS(file='/mnt/ndata/arvind/co_mutation_project/data/processed/all_merged_data_genie_v15.rds')\n",
    "genie_metadata_15_msk_with_mutation_selected_final_atleast_100_samples<-readRDS(file='/mnt/ndata/arvind/co_mutation_project/data/processed/genie/msk_one_patient_one_sample_final.rds')"
   ]
  },
  {
   "cell_type": "code",
   "execution_count": 4,
   "id": "389340ea-83d7-43ab-a688-022c15883bad",
   "metadata": {},
   "outputs": [],
   "source": [
    "msk_run_gene_list <- readRDS(file='/mnt/ndata/arvind/co_mutation_project/analysis/catalogue/data/msk_oncokb_gene_run_list.rds')"
   ]
  },
  {
   "cell_type": "code",
   "execution_count": 5,
   "id": "31ad094b-7ad1-4698-be8e-87f1faf2c305",
   "metadata": {},
   "outputs": [
    {
     "data": {
      "text/html": [
       "<table class=\"dataframe\">\n",
       "<caption>A data.frame: 1 × 10</caption>\n",
       "<thead>\n",
       "\t<tr><th></th><th scope=col>sample</th><th scope=col>class</th><th scope=col>tumor_run</th><th scope=col>oncotree</th><th scope=col>cancer_type</th><th scope=col>race</th><th scope=col>cohort</th><th scope=col>tumor_run_mapped</th><th scope=col>Tissue</th><th scope=col>final_tumor_run_mapped</th></tr>\n",
       "\t<tr><th></th><th scope=col>&lt;chr&gt;</th><th scope=col>&lt;chr&gt;</th><th scope=col>&lt;chr&gt;</th><th scope=col>&lt;chr&gt;</th><th scope=col>&lt;chr&gt;</th><th scope=col>&lt;chr&gt;</th><th scope=col>&lt;chr&gt;</th><th scope=col>&lt;chr&gt;</th><th scope=col>&lt;chr&gt;</th><th scope=col>&lt;chr&gt;</th></tr>\n",
       "</thead>\n",
       "<tbody>\n",
       "\t<tr><th scope=row>1</th><td>TCGA-OR-A5J5-01</td><td>ACC</td><td>ACC</td><td>ACC</td><td>Adrenocortical Carcinoma</td><td>White</td><td>TCGA</td><td>No mapping</td><td>Adrenal Gland</td><td>ACC</td></tr>\n",
       "</tbody>\n",
       "</table>\n"
      ],
      "text/latex": [
       "A data.frame: 1 × 10\n",
       "\\begin{tabular}{r|llllllllll}\n",
       "  & sample & class & tumor\\_run & oncotree & cancer\\_type & race & cohort & tumor\\_run\\_mapped & Tissue & final\\_tumor\\_run\\_mapped\\\\\n",
       "  & <chr> & <chr> & <chr> & <chr> & <chr> & <chr> & <chr> & <chr> & <chr> & <chr>\\\\\n",
       "\\hline\n",
       "\t1 & TCGA-OR-A5J5-01 & ACC & ACC & ACC & Adrenocortical Carcinoma & White & TCGA & No mapping & Adrenal Gland & ACC\\\\\n",
       "\\end{tabular}\n"
      ],
      "text/markdown": [
       "\n",
       "A data.frame: 1 × 10\n",
       "\n",
       "| <!--/--> | sample &lt;chr&gt; | class &lt;chr&gt; | tumor_run &lt;chr&gt; | oncotree &lt;chr&gt; | cancer_type &lt;chr&gt; | race &lt;chr&gt; | cohort &lt;chr&gt; | tumor_run_mapped &lt;chr&gt; | Tissue &lt;chr&gt; | final_tumor_run_mapped &lt;chr&gt; |\n",
       "|---|---|---|---|---|---|---|---|---|---|---|\n",
       "| 1 | TCGA-OR-A5J5-01 | ACC | ACC | ACC | Adrenocortical Carcinoma | White | TCGA | No mapping | Adrenal Gland | ACC |\n",
       "\n"
      ],
      "text/plain": [
       "  sample          class tumor_run oncotree cancer_type              race \n",
       "1 TCGA-OR-A5J5-01 ACC   ACC       ACC      Adrenocortical Carcinoma White\n",
       "  cohort tumor_run_mapped Tissue        final_tumor_run_mapped\n",
       "1 TCGA   No mapping       Adrenal Gland ACC                   "
      ]
     },
     "metadata": {},
     "output_type": "display_data"
    }
   ],
   "source": [
    "head(all_merged_metdata,1)"
   ]
  },
  {
   "cell_type": "code",
   "execution_count": 6,
   "id": "a87a8087-c85a-489f-96ad-d3a59b2c3dfd",
   "metadata": {},
   "outputs": [
    {
     "name": "stdout",
     "output_type": "stream",
     "text": [
      "List of 6\n",
      " $ all   : chr [1:202] \"MTOR\" \"NRAS\" \"NTRK1\" \"SDHC\" ...\n",
      " $ p_505 : chr [1:327] \"MTOR\" \"NRAS\" \"RIT1\" \"NTRK1\" ...\n",
      " $ p_468 : chr [1:306] \"MTOR\" \"NRAS\" \"RIT1\" \"NTRK1\" ...\n",
      " $ p_410 : chr [1:282] \"MTOR\" \"NRAS\" \"RIT1\" \"NTRK1\" ...\n",
      " $ p_341 : chr [1:249] \"MTOR\" \"NRAS\" \"RIT1\" \"NTRK1\" ...\n",
      " $ p_heme: chr [1:267] \"MTOR\" \"NRAS\" \"CD58\" \"NTRK1\" ...\n"
     ]
    }
   ],
   "source": [
    "str(msk_run_gene_list)"
   ]
  },
  {
   "cell_type": "markdown",
   "id": "bd28629e-1491-426a-9708-0a46a437d903",
   "metadata": {},
   "source": [
    "## All panel gams runs"
   ]
  },
  {
   "cell_type": "code",
   "execution_count": 7,
   "id": "c67c5572-116e-41c4-9f1b-4dde64692e54",
   "metadata": {},
   "outputs": [
    {
     "data": {
      "text/html": [
       "<table class=\"dataframe\">\n",
       "<caption>A data.frame: 1 × 22</caption>\n",
       "<thead>\n",
       "\t<tr><th></th><th scope=col>PATIENT_ID</th><th scope=col>SEX</th><th scope=col>PRIMARY_RACE</th><th scope=col>ETHNICITY</th><th scope=col>CENTER</th><th scope=col>INT_CONTACT</th><th scope=col>INT_DOD</th><th scope=col>YEAR_CONTACT</th><th scope=col>DEAD</th><th scope=col>YEAR_DEATH</th><th scope=col>⋯</th><th scope=col>ONCOTREE_CODE</th><th scope=col>SAMPLE_TYPE</th><th scope=col>SEQ_ASSAY_ID</th><th scope=col>CANCER_TYPE</th><th scope=col>CANCER_TYPE_DETAILED</th><th scope=col>SAMPLE_TYPE_DETAILED</th><th scope=col>class</th><th scope=col>Tumor_run_group</th><th scope=col>final_class</th><th scope=col>final_run_group</th></tr>\n",
       "\t<tr><th></th><th scope=col>&lt;chr&gt;</th><th scope=col>&lt;chr&gt;</th><th scope=col>&lt;chr&gt;</th><th scope=col>&lt;chr&gt;</th><th scope=col>&lt;chr&gt;</th><th scope=col>&lt;chr&gt;</th><th scope=col>&lt;chr&gt;</th><th scope=col>&lt;chr&gt;</th><th scope=col>&lt;chr&gt;</th><th scope=col>&lt;chr&gt;</th><th scope=col>⋯</th><th scope=col>&lt;chr&gt;</th><th scope=col>&lt;chr&gt;</th><th scope=col>&lt;chr&gt;</th><th scope=col>&lt;chr&gt;</th><th scope=col>&lt;chr&gt;</th><th scope=col>&lt;chr&gt;</th><th scope=col>&lt;chr&gt;</th><th scope=col>&lt;chr&gt;</th><th scope=col>&lt;chr&gt;</th><th scope=col>&lt;chr&gt;</th></tr>\n",
       "</thead>\n",
       "<tbody>\n",
       "\t<tr><th scope=row>1</th><td>GENIE-MSK-P-0000223</td><td>Female</td><td>White</td><td>Non-Spanish/non-Hispanic</td><td>MSK</td><td>11142</td><td>11142</td><td>2016</td><td>TRUE</td><td>2016</td><td>⋯</td><td>AASTR</td><td>Primary</td><td>MSK-IMPACT341</td><td>Glioma</td><td>Anaplastic Astrocytoma</td><td>Primary tumor</td><td>AASTR</td><td>AASTR</td><td>Glioma_low_grade</td><td>Glioma</td></tr>\n",
       "</tbody>\n",
       "</table>\n"
      ],
      "text/latex": [
       "A data.frame: 1 × 22\n",
       "\\begin{tabular}{r|lllllllllllllllllllll}\n",
       "  & PATIENT\\_ID & SEX & PRIMARY\\_RACE & ETHNICITY & CENTER & INT\\_CONTACT & INT\\_DOD & YEAR\\_CONTACT & DEAD & YEAR\\_DEATH & ⋯ & ONCOTREE\\_CODE & SAMPLE\\_TYPE & SEQ\\_ASSAY\\_ID & CANCER\\_TYPE & CANCER\\_TYPE\\_DETAILED & SAMPLE\\_TYPE\\_DETAILED & class & Tumor\\_run\\_group & final\\_class & final\\_run\\_group\\\\\n",
       "  & <chr> & <chr> & <chr> & <chr> & <chr> & <chr> & <chr> & <chr> & <chr> & <chr> & ⋯ & <chr> & <chr> & <chr> & <chr> & <chr> & <chr> & <chr> & <chr> & <chr> & <chr>\\\\\n",
       "\\hline\n",
       "\t1 & GENIE-MSK-P-0000223 & Female & White & Non-Spanish/non-Hispanic & MSK & 11142 & 11142 & 2016 & TRUE & 2016 & ⋯ & AASTR & Primary & MSK-IMPACT341 & Glioma & Anaplastic Astrocytoma & Primary tumor & AASTR & AASTR & Glioma\\_low\\_grade & Glioma\\\\\n",
       "\\end{tabular}\n"
      ],
      "text/markdown": [
       "\n",
       "A data.frame: 1 × 22\n",
       "\n",
       "| <!--/--> | PATIENT_ID &lt;chr&gt; | SEX &lt;chr&gt; | PRIMARY_RACE &lt;chr&gt; | ETHNICITY &lt;chr&gt; | CENTER &lt;chr&gt; | INT_CONTACT &lt;chr&gt; | INT_DOD &lt;chr&gt; | YEAR_CONTACT &lt;chr&gt; | DEAD &lt;chr&gt; | YEAR_DEATH &lt;chr&gt; | ⋯ ⋯ | ONCOTREE_CODE &lt;chr&gt; | SAMPLE_TYPE &lt;chr&gt; | SEQ_ASSAY_ID &lt;chr&gt; | CANCER_TYPE &lt;chr&gt; | CANCER_TYPE_DETAILED &lt;chr&gt; | SAMPLE_TYPE_DETAILED &lt;chr&gt; | class &lt;chr&gt; | Tumor_run_group &lt;chr&gt; | final_class &lt;chr&gt; | final_run_group &lt;chr&gt; |\n",
       "|---|---|---|---|---|---|---|---|---|---|---|---|---|---|---|---|---|---|---|---|---|---|\n",
       "| 1 | GENIE-MSK-P-0000223 | Female | White | Non-Spanish/non-Hispanic | MSK | 11142 | 11142 | 2016 | TRUE | 2016 | ⋯ | AASTR | Primary | MSK-IMPACT341 | Glioma | Anaplastic Astrocytoma | Primary tumor | AASTR | AASTR | Glioma_low_grade | Glioma |\n",
       "\n"
      ],
      "text/plain": [
       "  PATIENT_ID          SEX    PRIMARY_RACE ETHNICITY                CENTER\n",
       "1 GENIE-MSK-P-0000223 Female White        Non-Spanish/non-Hispanic MSK   \n",
       "  INT_CONTACT INT_DOD YEAR_CONTACT DEAD YEAR_DEATH ⋯ ONCOTREE_CODE SAMPLE_TYPE\n",
       "1 11142       11142   2016         TRUE 2016       ⋯ AASTR         Primary    \n",
       "  SEQ_ASSAY_ID  CANCER_TYPE CANCER_TYPE_DETAILED   SAMPLE_TYPE_DETAILED class\n",
       "1 MSK-IMPACT341 Glioma      Anaplastic Astrocytoma Primary tumor        AASTR\n",
       "  Tumor_run_group final_class      final_run_group\n",
       "1 AASTR           Glioma_low_grade Glioma         "
      ]
     },
     "metadata": {},
     "output_type": "display_data"
    }
   ],
   "source": [
    "genie_metadata_15_msk_with_mutation_selected_final_atleast_100_samples %>% head(1)"
   ]
  },
  {
   "cell_type": "code",
   "execution_count": 8,
   "id": "d2b9fbf1-9ff6-4d04-8f9a-54807971abee",
   "metadata": {},
   "outputs": [
    {
     "name": "stdout",
     "output_type": "stream",
     "text": [
      "List of 6\n",
      " $ all   : chr [1:202] \"MTOR\" \"NRAS\" \"NTRK1\" \"SDHC\" ...\n",
      " $ p_505 : chr [1:327] \"MTOR\" \"NRAS\" \"RIT1\" \"NTRK1\" ...\n",
      " $ p_468 : chr [1:306] \"MTOR\" \"NRAS\" \"RIT1\" \"NTRK1\" ...\n",
      " $ p_410 : chr [1:282] \"MTOR\" \"NRAS\" \"RIT1\" \"NTRK1\" ...\n",
      " $ p_341 : chr [1:249] \"MTOR\" \"NRAS\" \"RIT1\" \"NTRK1\" ...\n",
      " $ p_heme: chr [1:267] \"MTOR\" \"NRAS\" \"CD58\" \"NTRK1\" ...\n"
     ]
    }
   ],
   "source": [
    "str(msk_run_gene_list)"
   ]
  },
  {
   "cell_type": "code",
   "execution_count": 9,
   "id": "311ebc04-358b-48db-a245-f77751f41a34",
   "metadata": {},
   "outputs": [],
   "source": [
    "assay_id<-unique(genie_metadata_15_msk_with_mutation_selected_final_atleast_100_samples$SEQ_ASSAY_ID)"
   ]
  },
  {
   "cell_type": "code",
   "execution_count": 10,
   "id": "d0732a63-7acf-4a8c-a564-dfb53b1a1e4c",
   "metadata": {},
   "outputs": [],
   "source": [
    "tumor_groups<-unique(genie_metadata_15_msk_with_mutation_selected_final_atleast_100_samples$final_run_group)"
   ]
  },
  {
   "cell_type": "code",
   "execution_count": 11,
   "id": "b8daab82-a753-4cd2-adc4-276ab23724bd",
   "metadata": {},
   "outputs": [],
   "source": [
    "cleaned_tumor_groups <- tolower(gsub(\"[[:space:]/-]\", \"_\", tumor_groups))"
   ]
  },
  {
   "cell_type": "code",
   "execution_count": 12,
   "id": "6d17a5ed-ed17-46fd-accd-af3f69a1cbe3",
   "metadata": {},
   "outputs": [],
   "source": [
    "mapped_tumor_groups <- cleaned_tumor_groups\n",
    "names(mapped_tumor_groups)<-tumor_groups"
   ]
  },
  {
   "cell_type": "code",
   "execution_count": 13,
   "id": "52d0b67c-614b-451a-8415-5989a71d562a",
   "metadata": {},
   "outputs": [
    {
     "name": "stdout",
     "output_type": "stream",
     "text": [
      " Named chr [1:33] \"glioma\" \"melanoma\" \"salivary_gland_cancer\" \"leukemia\" ...\n",
      " - attr(*, \"names\")= chr [1:33] \"Glioma\" \"Melanoma\" \"Salivary Gland Cancer\" \"Leukemia\" ...\n"
     ]
    }
   ],
   "source": [
    "str(mapped_tumor_groups)"
   ]
  },
  {
   "cell_type": "code",
   "execution_count": 14,
   "id": "acd41885-6887-4c5a-8754-bf2fc9733423",
   "metadata": {},
   "outputs": [],
   "source": [
    "pan_can_result <- list()"
   ]
  },
  {
   "cell_type": "code",
   "execution_count": 16,
   "id": "5b7d92b8-7ab9-441e-b804-2aa3b36b05a8",
   "metadata": {},
   "outputs": [
    {
     "name": "stdout",
     "output_type": "stream",
     "text": [
      "--Running: all --\n",
      "\n",
      "---Done---\n",
      "--Running: p_505 --\n",
      "\n",
      "---Done---\n",
      "--Running: p_468 --\n",
      "\n",
      "---Done---\n",
      "--Running: p_410 --\n",
      "\n",
      "---Done---\n",
      "--Running: p_341 --\n",
      "\n",
      "---Done---\n",
      "--Running: p_heme --\n",
      "\n",
      "---Done---\n",
      "Total Time: 397.595 sec elapsed\n"
     ]
    }
   ],
   "source": [
    "k=1\n",
    "dir='/mnt/ndata/arvind/co_mutation_project/analysis/catalogue/'\n",
    "tic('Total Time')\n",
    "for(name in names(msk_run_gene_list)){\n",
    "    cat('--Running:',name,\"--\\n\")\n",
    "    if(name=='all'){\n",
    "        label<-paste(dir,'/results/','msk_panel_',name,'_primary_result.rds',sep=\"\")\n",
    "        msk_result<-readRDS(file = label)\n",
    "        result_df <- msk_result$result\n",
    "        result_df <- result_df %>% mutate('Cohort'='MSK Primary') %>% mutate('Panel'='all') %>% mutate('Tumor_run'='Pan-can')\n",
    "        pan_can_result[[k]]<-result_df\n",
    "        rm(msk_result)\n",
    "        k=k+1\n",
    "        label<-paste(dir,'/results/','msk_panel_',name,'_meta_result.rds',sep=\"\")\n",
    "        msk_result<-readRDS(file = label)\n",
    "        result_df <- msk_result$result\n",
    "        result_df <- result_df %>% mutate('Cohort'='MSK Metastasis') %>% mutate('Panel'='all') %>% mutate('Tumor_run'='Pan-can')\n",
    "        pan_can_result[[k]]<-result_df\n",
    "        rm(msk_result)\n",
    "        k=k+1\n",
    "    }\n",
    "    else if(name=='p_505'){\n",
    "        label<-paste(dir,'/results/','msk_panel_',name,'_primary_result.rds',sep=\"\")\n",
    "        msk_result<-readRDS(file = label)\n",
    "        result_df <- msk_result$result\n",
    "        result_df <- result_df %>% mutate('Cohort'='MSK Primary') %>% mutate('Panel'='p_505') %>% mutate('Tumor_run'='Pan-can')\n",
    "        pan_can_result[[k]]<-result_df\n",
    "        rm(msk_result)\n",
    "        k=k+1\n",
    "        label<-paste(dir,'/results/','msk_panel_',name,'_meta_result.rds',sep=\"\")\n",
    "        msk_result<-readRDS(file = label)\n",
    "        result_df <- msk_result$result\n",
    "        result_df <- result_df %>% mutate('Cohort'='MSK Metastasis') %>% mutate('Panel'='p_505') %>% mutate('Tumor_run'='Pan-can')\n",
    "        pan_can_result[[k]]<-result_df\n",
    "        rm(msk_result)\n",
    "        k=k+1\n",
    "    }\n",
    "    else if(name=='p_468'){\n",
    "        label<-paste(dir,'/results/','msk_panel_',name,'_primary_result.rds',sep=\"\")\n",
    "        msk_result<-readRDS(file = label)\n",
    "        result_df <- msk_result$result\n",
    "        result_df <- result_df %>% mutate('Cohort'='MSK Primary') %>% mutate('Panel'='p_468') %>% mutate('Tumor_run'='Pan-can')\n",
    "        pan_can_result[[k]]<-result_df\n",
    "        rm(msk_result)\n",
    "        k=k+1\n",
    "        label<-paste(dir,'/results/','msk_panel_',name,'_meta_result.rds',sep=\"\")\n",
    "        msk_result<-readRDS(file = label)\n",
    "        result_df <- msk_result$result\n",
    "        result_df <- result_df %>% mutate('Cohort'='MSK Metastasis') %>% mutate('Panel'='p_468') %>% mutate('Tumor_run'='Pan-can')\n",
    "        pan_can_result[[k]]<-result_df\n",
    "        rm(msk_result)\n",
    "        k=k+1\n",
    "    }\n",
    "    else if(name=='p_410'){\n",
    "        label<-paste(dir,'/results/','msk_panel_',name,'_primary_result.rds',sep=\"\")\n",
    "        msk_result<-readRDS(file = label)\n",
    "        result_df <- msk_result$result\n",
    "        result_df <- result_df %>% mutate('Cohort'='MSK Primary') %>% mutate('Panel'='p_410') %>% mutate('Tumor_run'='Pan-can')\n",
    "        pan_can_result[[k]]<-result_df\n",
    "        rm(msk_result)\n",
    "        k=k+1\n",
    "        label<-paste(dir,'/results/','msk_panel_',name,'_meta_result.rds',sep=\"\")\n",
    "        msk_result<-readRDS(file = label)\n",
    "        result_df <- msk_result$result\n",
    "        result_df <- result_df %>% mutate('Cohort'='MSK Metastasis') %>% mutate('Panel'='p_410') %>% mutate('Tumor_run'='Pan-can')\n",
    "        pan_can_result[[k]]<-result_df\n",
    "        rm(msk_result)\n",
    "        k=k+1\n",
    "    }\n",
    "    else if(name=='p_341'){\n",
    "        label<-paste(dir,'/results/','msk_panel_',name,'_primary_result.rds',sep=\"\")\n",
    "        msk_result<-readRDS(file = label)\n",
    "        result_df <- msk_result$result\n",
    "        result_df <- result_df %>% mutate('Cohort'='MSK Primary') %>% mutate('Panel'='p_341') %>% mutate('Tumor_run'='Pan-can')\n",
    "        pan_can_result[[k]]<-result_df\n",
    "        rm(msk_result)\n",
    "        k=k+1\n",
    "        label<-paste(dir,'/results/','msk_panel_',name,'_meta_result.rds',sep=\"\")\n",
    "        msk_result<-readRDS(file = label)\n",
    "        result_df <- msk_result$result\n",
    "        result_df <- result_df %>% mutate('Cohort'='MSK Metastasis') %>% mutate('Panel'='p_341') %>% mutate('Tumor_run'='Pan-can')\n",
    "        pan_can_result[[k]]<-result_df\n",
    "        rm(msk_result)\n",
    "        k=k+1\n",
    "    }\n",
    "    else{\n",
    "        name<-'heme'\n",
    "        label<-paste(dir,'/results/','msk_panel_',name,'_primary_result.rds',sep=\"\")\n",
    "        msk_result<-readRDS(file = label)\n",
    "        result_df <- msk_result$result\n",
    "        result_df <- result_df %>% mutate('Cohort'='MSK Primary') %>% mutate('Panel'='heme') %>% mutate('Tumor_run'='Pan-can')\n",
    "        pan_can_result[[k]]<-result_df\n",
    "        rm(msk_result)\n",
    "        k=k+1\n",
    "        label<-paste(dir,'/results/','msk_panel_',name,'_meta_result.rds',sep=\"\")\n",
    "        msk_result<-readRDS(file = label)\n",
    "        result_df <- msk_result$result\n",
    "        result_df <- result_df %>% mutate('Cohort'='MSK Metastasis') %>% mutate('Panel'='heme') %>% mutate('Tumor_run'='Pan-can')\n",
    "        pan_can_result[[k]]<-result_df\n",
    "        rm(msk_result)\n",
    "        k=k+1\n",
    "    }\n",
    " cat('\\n---Done---\\n')\n",
    "}\n",
    "toc()"
   ]
  },
  {
   "cell_type": "code",
   "execution_count": 17,
   "id": "517244c6-b1f7-4155-aad9-b3a0d1ce0d50",
   "metadata": {},
   "outputs": [
    {
     "data": {
      "text/html": [
       "12"
      ],
      "text/latex": [
       "12"
      ],
      "text/markdown": [
       "12"
      ],
      "text/plain": [
       "[1] 12"
      ]
     },
     "metadata": {},
     "output_type": "display_data"
    }
   ],
   "source": [
    "length(pan_can_result)"
   ]
  },
  {
   "cell_type": "code",
   "execution_count": 18,
   "id": "1abfec4e-cf74-41dc-b653-adb979ee1b41",
   "metadata": {},
   "outputs": [],
   "source": [
    "pan_can_result_msk <- bind_rows(pan_can_result)\n",
    "rownames(pan_can_result_msk) <- c(1:nrow(pan_can_result_msk))"
   ]
  },
  {
   "cell_type": "code",
   "execution_count": 19,
   "id": "523a0be6-48f0-40d3-bd6c-91ad43f4d512",
   "metadata": {},
   "outputs": [
    {
     "data": {
      "text/html": [
       "<table class=\"dataframe\">\n",
       "<caption>A data.frame: 2 × 25</caption>\n",
       "<thead>\n",
       "\t<tr><th></th><th scope=col>SFE_1</th><th scope=col>SFE_2</th><th scope=col>name</th><th scope=col>support_1</th><th scope=col>support_2</th><th scope=col>freq_1</th><th scope=col>freq_2</th><th scope=col>overlap</th><th scope=col>w_overlap</th><th scope=col>max_overlap</th><th scope=col>⋯</th><th scope=col>nES</th><th scope=col>mean_r_nES</th><th scope=col>nFDR</th><th scope=col>cum_freq</th><th scope=col>nFDR2</th><th scope=col>type</th><th scope=col>FDR</th><th scope=col>Cohort</th><th scope=col>Panel</th><th scope=col>Tumor_run</th></tr>\n",
       "\t<tr><th></th><th scope=col>&lt;chr&gt;</th><th scope=col>&lt;chr&gt;</th><th scope=col>&lt;chr&gt;</th><th scope=col>&lt;dbl&gt;</th><th scope=col>&lt;dbl&gt;</th><th scope=col>&lt;dbl&gt;</th><th scope=col>&lt;dbl&gt;</th><th scope=col>&lt;dbl&gt;</th><th scope=col>&lt;dbl&gt;</th><th scope=col>&lt;dbl&gt;</th><th scope=col>⋯</th><th scope=col>&lt;dbl&gt;</th><th scope=col>&lt;dbl&gt;</th><th scope=col>&lt;dbl&gt;</th><th scope=col>&lt;dbl&gt;</th><th scope=col>&lt;dbl&gt;</th><th scope=col>&lt;chr&gt;</th><th scope=col>&lt;lgl&gt;</th><th scope=col>&lt;chr&gt;</th><th scope=col>&lt;chr&gt;</th><th scope=col>&lt;chr&gt;</th></tr>\n",
       "</thead>\n",
       "<tbody>\n",
       "\t<tr><th scope=row>1</th><td>TP53</td><td>PIK3CA</td><td>TP53 - PIK3CA</td><td>12075</td><td>3970</td><td>0.4339623</td><td>0.14267745</td><td>1429</td><td>1055.34778</td><td>3243</td><td>⋯</td><td>-296.1027</td><td>-13.019157</td><td>0</td><td>16045</td><td>0</td><td>ME</td><td>TRUE</td><td>MSK Primary</td><td>all</td><td>Pan-can</td></tr>\n",
       "\t<tr><th scope=row>2</th><td>KRAS</td><td>EGFR  </td><td>KRAS - EGFR  </td><td> 5622</td><td>1259</td><td>0.2020485</td><td>0.04524708</td><td>  36</td><td>  15.12377</td><td>1032</td><td>⋯</td><td>-192.4016</td><td> -6.245916</td><td>0</td><td> 6881</td><td>0</td><td>ME</td><td>TRUE</td><td>MSK Primary</td><td>all</td><td>Pan-can</td></tr>\n",
       "</tbody>\n",
       "</table>\n"
      ],
      "text/latex": [
       "A data.frame: 2 × 25\n",
       "\\begin{tabular}{r|lllllllllllllllllllll}\n",
       "  & SFE\\_1 & SFE\\_2 & name & support\\_1 & support\\_2 & freq\\_1 & freq\\_2 & overlap & w\\_overlap & max\\_overlap & ⋯ & nES & mean\\_r\\_nES & nFDR & cum\\_freq & nFDR2 & type & FDR & Cohort & Panel & Tumor\\_run\\\\\n",
       "  & <chr> & <chr> & <chr> & <dbl> & <dbl> & <dbl> & <dbl> & <dbl> & <dbl> & <dbl> & ⋯ & <dbl> & <dbl> & <dbl> & <dbl> & <dbl> & <chr> & <lgl> & <chr> & <chr> & <chr>\\\\\n",
       "\\hline\n",
       "\t1 & TP53 & PIK3CA & TP53 - PIK3CA & 12075 & 3970 & 0.4339623 & 0.14267745 & 1429 & 1055.34778 & 3243 & ⋯ & -296.1027 & -13.019157 & 0 & 16045 & 0 & ME & TRUE & MSK Primary & all & Pan-can\\\\\n",
       "\t2 & KRAS & EGFR   & KRAS - EGFR   &  5622 & 1259 & 0.2020485 & 0.04524708 &   36 &   15.12377 & 1032 & ⋯ & -192.4016 &  -6.245916 & 0 &  6881 & 0 & ME & TRUE & MSK Primary & all & Pan-can\\\\\n",
       "\\end{tabular}\n"
      ],
      "text/markdown": [
       "\n",
       "A data.frame: 2 × 25\n",
       "\n",
       "| <!--/--> | SFE_1 &lt;chr&gt; | SFE_2 &lt;chr&gt; | name &lt;chr&gt; | support_1 &lt;dbl&gt; | support_2 &lt;dbl&gt; | freq_1 &lt;dbl&gt; | freq_2 &lt;dbl&gt; | overlap &lt;dbl&gt; | w_overlap &lt;dbl&gt; | max_overlap &lt;dbl&gt; | ⋯ ⋯ | nES &lt;dbl&gt; | mean_r_nES &lt;dbl&gt; | nFDR &lt;dbl&gt; | cum_freq &lt;dbl&gt; | nFDR2 &lt;dbl&gt; | type &lt;chr&gt; | FDR &lt;lgl&gt; | Cohort &lt;chr&gt; | Panel &lt;chr&gt; | Tumor_run &lt;chr&gt; |\n",
       "|---|---|---|---|---|---|---|---|---|---|---|---|---|---|---|---|---|---|---|---|---|---|\n",
       "| 1 | TP53 | PIK3CA | TP53 - PIK3CA | 12075 | 3970 | 0.4339623 | 0.14267745 | 1429 | 1055.34778 | 3243 | ⋯ | -296.1027 | -13.019157 | 0 | 16045 | 0 | ME | TRUE | MSK Primary | all | Pan-can |\n",
       "| 2 | KRAS | EGFR   | KRAS - EGFR   |  5622 | 1259 | 0.2020485 | 0.04524708 |   36 |   15.12377 | 1032 | ⋯ | -192.4016 |  -6.245916 | 0 |  6881 | 0 | ME | TRUE | MSK Primary | all | Pan-can |\n",
       "\n"
      ],
      "text/plain": [
       "  SFE_1 SFE_2  name          support_1 support_2 freq_1    freq_2     overlap\n",
       "1 TP53  PIK3CA TP53 - PIK3CA 12075     3970      0.4339623 0.14267745 1429   \n",
       "2 KRAS  EGFR   KRAS - EGFR    5622     1259      0.2020485 0.04524708   36   \n",
       "  w_overlap  max_overlap ⋯ nES       mean_r_nES nFDR cum_freq nFDR2 type FDR \n",
       "1 1055.34778 3243        ⋯ -296.1027 -13.019157 0    16045    0     ME   TRUE\n",
       "2   15.12377 1032        ⋯ -192.4016  -6.245916 0     6881    0     ME   TRUE\n",
       "  Cohort      Panel Tumor_run\n",
       "1 MSK Primary all   Pan-can  \n",
       "2 MSK Primary all   Pan-can  "
      ]
     },
     "metadata": {},
     "output_type": "display_data"
    }
   ],
   "source": [
    "head(pan_can_result_msk,2)"
   ]
  },
  {
   "cell_type": "markdown",
   "id": "d5d73496-1cd3-4892-a517-8f78ebe9df11",
   "metadata": {},
   "source": [
    "# Tumor Group Runs"
   ]
  },
  {
   "cell_type": "markdown",
   "id": "4ab3a3fe-d5b8-4efd-95bd-7ba70de9c373",
   "metadata": {},
   "source": [
    "## Primary"
   ]
  },
  {
   "cell_type": "code",
   "execution_count": 21,
   "id": "361b6dac-7333-4fb2-b806-110029291419",
   "metadata": {},
   "outputs": [],
   "source": [
    "tumor_can_result_primary <- list()"
   ]
  },
  {
   "cell_type": "code",
   "execution_count": 22,
   "id": "8a92792b-ea5c-4652-816f-43e85fc08c0e",
   "metadata": {
    "scrolled": true
   },
   "outputs": [
    {
     "name": "stdout",
     "output_type": "stream",
     "text": [
      "--Running: all --\n",
      "---Tumor Group--- Glioma --\n",
      "---Tumor Group--- Glioma --Done--\n",
      "---Tumor Group--- Melanoma --\n",
      "---Tumor Group--- Melanoma --Done--\n",
      "---Tumor Group--- Salivary Gland Cancer --\n",
      "---Tumor Group--- Salivary Gland Cancer --Done--\n",
      "---Tumor Group--- Leukemia --\n",
      "---Tumor Group--- Leukemia --Done--\n",
      "---Tumor Group--- Anal Cancer --\n",
      "---Tumor Group--- Anal Cancer --Done--\n",
      "---Tumor Group--- Appendiceal Cancer --\n",
      "---Tumor Group--- Appendiceal Cancer --Done--\n",
      "---Tumor Group--- Bladder Cancer --\n",
      "---Tumor Group--- Bladder Cancer --Done--\n",
      "---Tumor Group--- B-Lymphoblastic Leukemia/Lymphoma --\n",
      "---Tumor Group--- B-Lymphoblastic Leukemia/Lymphoma --Done--\n",
      "---Tumor Group--- Breast Cancer --\n",
      "---Tumor Group--- Breast Cancer --Done--\n",
      "---Tumor Group--- Ovarian Cancer --\n",
      "---Tumor Group--- Ovarian Cancer --Done--\n",
      "---Tumor Group--- Renal Cell Carcinoma --\n",
      "---Tumor Group--- Renal Cell Carcinoma --Done--\n",
      "---Tumor Group--- Cervical Cancer --\n",
      "---Tumor Group--- Cervical Cancer --Done--\n",
      "---Tumor Group--- Billary Tract Cancer --\n",
      "---Tumor Group--- Billary Tract Cancer --Done--\n",
      "---Tumor Group--- Mature B-Cell Neoplasms --\n",
      "---Tumor Group--- Mature B-Cell Neoplasms --Done--\n",
      "---Tumor Group--- Colorectal Cancer --\n",
      "---Tumor Group--- Colorectal Cancer --Done--\n",
      "---Tumor Group--- Skin Cancer, Non-Melanoma --\n",
      "---Tumor Group--- Skin Cancer, Non-Melanoma --Done--\n",
      "---Tumor Group--- Soft Tissue Sarcoma --\n",
      "---Tumor Group--- Soft Tissue Sarcoma --Done--\n",
      "---Tumor Group--- Esophagogastric Cancer --\n",
      "---Tumor Group--- Esophagogastric Cancer --Done--\n",
      "---Tumor Group--- Gastrointestinal Stromal Tumor --\n",
      "---Tumor Group--- Gastrointestinal Stromal Tumor --Done--\n",
      "---Tumor Group--- Liver Cancer --\n",
      "---Tumor Group--- Liver Cancer --Done--\n",
      "---Tumor Group--- Head and Neck Cancer --\n",
      "---Tumor Group--- Head and Neck Cancer --Done--\n",
      "---Tumor Group--- Non-Small Cell Lung Cancer --\n",
      "---Tumor Group--- Non-Small Cell Lung Cancer --Done--\n",
      "---Tumor Group--- Germ Cell Tumor --\n",
      "---Tumor Group--- Germ Cell Tumor --Done--\n",
      "---Tumor Group--- Myeloproliferative Neoplasms --\n",
      "---Tumor Group--- Myeloproliferative Neoplasms --Done--\n",
      "---Tumor Group--- Peripheral Nervous System --\n",
      "---Tumor Group--- Peripheral Nervous System --Done--\n",
      "---Tumor Group--- Bone Cancer --\n",
      "---Tumor Group--- Bone Cancer --Done--\n",
      "---Tumor Group--- Pancreatic Cancer --\n",
      "---Tumor Group--- Pancreatic Cancer --Done--\n",
      "---Tumor Group--- Mesothelioma --\n",
      "---Tumor Group--- Mesothelioma --Done--\n",
      "---Tumor Group--- Prostate Cancer --\n",
      "---Tumor Group--- Prostate Cancer --Done--\n",
      "---Tumor Group--- Small Cell Lung Cancer --\n",
      "---Tumor Group--- Small Cell Lung Cancer --Done--\n",
      "---Tumor Group--- Thyroid Cancer --\n",
      "---Tumor Group--- Thyroid Cancer --Done--\n",
      "---Tumor Group--- Endometrial Cancer --\n",
      "---Tumor Group--- Endometrial Cancer --Done--\n",
      "---Tumor Group--- Uterine Sarcoma --\n",
      "---Tumor Group--- Uterine Sarcoma --Done--\n",
      "\n",
      "---Done---\n",
      "--Running: p_505 --\n",
      "---Tumor Group--- Glioma --\n",
      "---Tumor Group--- Glioma --Done--\n",
      "---Tumor Group--- Melanoma --\n",
      "---Tumor Group--- Melanoma --Done--\n",
      "---Tumor Group--- Anal Cancer --\n",
      "---Tumor Group--- Anal Cancer --Done--\n",
      "---Tumor Group--- Bladder Cancer --\n",
      "---Tumor Group--- Bladder Cancer --Done--\n",
      "---Tumor Group--- Breast Cancer --\n",
      "---Tumor Group--- Breast Cancer --Done--\n",
      "---Tumor Group--- Ovarian Cancer --\n",
      "---Tumor Group--- Ovarian Cancer --Done--\n",
      "---Tumor Group--- Renal Cell Carcinoma --\n",
      "---Tumor Group--- Renal Cell Carcinoma --Done--\n",
      "---Tumor Group--- Cervical Cancer --\n",
      "---Tumor Group--- Cervical Cancer --Done--\n",
      "---Tumor Group--- Billary Tract Cancer --\n",
      "---Tumor Group--- Billary Tract Cancer --Done--\n",
      "---Tumor Group--- Colorectal Cancer --\n",
      "---Tumor Group--- Colorectal Cancer --Done--\n",
      "---Tumor Group--- Soft Tissue Sarcoma --\n",
      "---Tumor Group--- Soft Tissue Sarcoma --Done--\n",
      "---Tumor Group--- Esophagogastric Cancer --\n",
      "---Tumor Group--- Esophagogastric Cancer --Done--\n",
      "---Tumor Group--- Gastrointestinal Stromal Tumor --\n",
      "---Tumor Group--- Gastrointestinal Stromal Tumor --Done--\n",
      "---Tumor Group--- Liver Cancer --\n",
      "---Tumor Group--- Liver Cancer --Done--\n",
      "---Tumor Group--- Head and Neck Cancer --\n",
      "---Tumor Group--- Head and Neck Cancer --Done--\n",
      "---Tumor Group--- Non-Small Cell Lung Cancer --\n",
      "---Tumor Group--- Non-Small Cell Lung Cancer --Done--\n",
      "---Tumor Group--- Peripheral Nervous System --\n",
      "---Tumor Group--- Peripheral Nervous System --Done--\n",
      "---Tumor Group--- Pancreatic Cancer --\n",
      "---Tumor Group--- Pancreatic Cancer --Done--\n",
      "---Tumor Group--- Prostate Cancer --\n",
      "---Tumor Group--- Prostate Cancer --Done--\n",
      "---Tumor Group--- Small Cell Lung Cancer --\n",
      "---Tumor Group--- Small Cell Lung Cancer --Done--\n",
      "---Tumor Group--- Thyroid Cancer --\n",
      "---Tumor Group--- Thyroid Cancer --Done--\n",
      "---Tumor Group--- Endometrial Cancer --\n",
      "---Tumor Group--- Endometrial Cancer --Done--\n",
      "\n",
      "---Done---\n",
      "--Running: p_468 --\n",
      "---Tumor Group--- Glioma --\n",
      "---Tumor Group--- Glioma --Done--\n",
      "---Tumor Group--- Melanoma --\n",
      "---Tumor Group--- Melanoma --Done--\n",
      "---Tumor Group--- Salivary Gland Cancer --\n",
      "---Tumor Group--- Salivary Gland Cancer --Done--\n",
      "---Tumor Group--- Anal Cancer --\n",
      "---Tumor Group--- Anal Cancer --Done--\n",
      "---Tumor Group--- Appendiceal Cancer --\n",
      "---Tumor Group--- Appendiceal Cancer --Done--\n",
      "---Tumor Group--- Bladder Cancer --\n",
      "---Tumor Group--- Bladder Cancer --Done--\n",
      "---Tumor Group--- Breast Cancer --\n",
      "---Tumor Group--- Breast Cancer --Done--\n",
      "---Tumor Group--- Ovarian Cancer --\n",
      "---Tumor Group--- Ovarian Cancer --Done--\n",
      "---Tumor Group--- Renal Cell Carcinoma --\n",
      "---Tumor Group--- Renal Cell Carcinoma --Done--\n",
      "---Tumor Group--- Cervical Cancer --\n",
      "---Tumor Group--- Cervical Cancer --Done--\n",
      "---Tumor Group--- Billary Tract Cancer --\n",
      "---Tumor Group--- Billary Tract Cancer --Done--\n",
      "---Tumor Group--- Colorectal Cancer --\n",
      "---Tumor Group--- Colorectal Cancer --Done--\n",
      "---Tumor Group--- Soft Tissue Sarcoma --\n",
      "---Tumor Group--- Soft Tissue Sarcoma --Done--\n",
      "---Tumor Group--- Esophagogastric Cancer --\n",
      "---Tumor Group--- Esophagogastric Cancer --Done--\n",
      "---Tumor Group--- Gastrointestinal Stromal Tumor --\n",
      "---Tumor Group--- Gastrointestinal Stromal Tumor --Done--\n",
      "---Tumor Group--- Liver Cancer --\n",
      "---Tumor Group--- Liver Cancer --Done--\n",
      "---Tumor Group--- Head and Neck Cancer --\n",
      "---Tumor Group--- Head and Neck Cancer --Done--\n",
      "---Tumor Group--- Non-Small Cell Lung Cancer --\n",
      "---Tumor Group--- Non-Small Cell Lung Cancer --Done--\n",
      "---Tumor Group--- Germ Cell Tumor --\n",
      "---Tumor Group--- Germ Cell Tumor --Done--\n",
      "---Tumor Group--- Peripheral Nervous System --\n",
      "---Tumor Group--- Peripheral Nervous System --Done--\n",
      "---Tumor Group--- Bone Cancer --\n",
      "---Tumor Group--- Bone Cancer --Done--\n",
      "---Tumor Group--- Pancreatic Cancer --\n",
      "---Tumor Group--- Pancreatic Cancer --Done--\n",
      "---Tumor Group--- Mesothelioma --\n",
      "---Tumor Group--- Mesothelioma --Done--\n",
      "---Tumor Group--- Prostate Cancer --\n",
      "---Tumor Group--- Prostate Cancer --Done--\n",
      "---Tumor Group--- Small Cell Lung Cancer --\n",
      "---Tumor Group--- Small Cell Lung Cancer --Done--\n",
      "---Tumor Group--- Thyroid Cancer --\n",
      "---Tumor Group--- Thyroid Cancer --Done--\n",
      "---Tumor Group--- Endometrial Cancer --\n",
      "---Tumor Group--- Endometrial Cancer --Done--\n",
      "---Tumor Group--- Uterine Sarcoma --\n",
      "---Tumor Group--- Uterine Sarcoma --Done--\n",
      "\n",
      "---Done---\n",
      "--Running: p_410 --\n",
      "---Tumor Group--- Glioma --\n",
      "---Tumor Group--- Glioma --Done--\n",
      "---Tumor Group--- Bladder Cancer --\n",
      "---Tumor Group--- Bladder Cancer --Done--\n",
      "---Tumor Group--- Breast Cancer --\n",
      "---Tumor Group--- Breast Cancer --Done--\n",
      "---Tumor Group--- Renal Cell Carcinoma --\n",
      "---Tumor Group--- Renal Cell Carcinoma --Done--\n",
      "---Tumor Group--- Billary Tract Cancer --\n",
      "---Tumor Group--- Billary Tract Cancer --Done--\n",
      "---Tumor Group--- Mature B-Cell Neoplasms --\n",
      "---Tumor Group--- Mature B-Cell Neoplasms --Done--\n",
      "---Tumor Group--- Colorectal Cancer --\n",
      "---Tumor Group--- Colorectal Cancer --Done--\n",
      "---Tumor Group--- Esophagogastric Cancer --\n",
      "---Tumor Group--- Esophagogastric Cancer --Done--\n",
      "---Tumor Group--- Gastrointestinal Stromal Tumor --\n",
      "---Tumor Group--- Gastrointestinal Stromal Tumor --Done--\n",
      "---Tumor Group--- Liver Cancer --\n",
      "---Tumor Group--- Liver Cancer --Done--\n",
      "---Tumor Group--- Head and Neck Cancer --\n",
      "---Tumor Group--- Head and Neck Cancer --Done--\n",
      "---Tumor Group--- Non-Small Cell Lung Cancer --\n",
      "---Tumor Group--- Non-Small Cell Lung Cancer --Done--\n",
      "---Tumor Group--- Pancreatic Cancer --\n",
      "---Tumor Group--- Pancreatic Cancer --Done--\n",
      "---Tumor Group--- Prostate Cancer --\n",
      "---Tumor Group--- Prostate Cancer --Done--\n",
      "---Tumor Group--- Endometrial Cancer --\n",
      "---Tumor Group--- Endometrial Cancer --Done--\n",
      "\n",
      "---Done---\n",
      "--Running: p_341 --\n",
      "---Tumor Group--- Glioma --\n",
      "---Tumor Group--- Glioma --Done--\n",
      "---Tumor Group--- Bladder Cancer --\n",
      "---Tumor Group--- Bladder Cancer --Done--\n",
      "---Tumor Group--- Breast Cancer --\n",
      "---Tumor Group--- Breast Cancer --Done--\n",
      "---Tumor Group--- Colorectal Cancer --\n",
      "---Tumor Group--- Colorectal Cancer --Done--\n",
      "---Tumor Group--- Esophagogastric Cancer --\n",
      "---Tumor Group--- Esophagogastric Cancer --Done--\n",
      "---Tumor Group--- Non-Small Cell Lung Cancer --\n",
      "---Tumor Group--- Non-Small Cell Lung Cancer --Done--\n",
      "---Tumor Group--- Prostate Cancer --\n",
      "---Tumor Group--- Prostate Cancer --Done--\n",
      "\n",
      "---Done---\n",
      "--Running: p_heme --\n",
      "---Tumor Group--- Leukemia --\n",
      "---Tumor Group--- Leukemia --Done--\n",
      "---Tumor Group--- B-Lymphoblastic Leukemia/Lymphoma --\n",
      "---Tumor Group--- B-Lymphoblastic Leukemia/Lymphoma --Done--\n",
      "---Tumor Group--- Mature B-Cell Neoplasms --\n",
      "---Tumor Group--- Mature B-Cell Neoplasms --Done--\n",
      "---Tumor Group--- Myeloproliferative Neoplasms --\n",
      "---Tumor Group--- Myeloproliferative Neoplasms --Done--\n",
      "\n",
      "---Done---\n"
     ]
    }
   ],
   "source": [
    "k=1\n",
    "dir='/mnt/ndata/arvind/co_mutation_project/analysis/catalogue/'\n",
    "for(name in names(msk_run_gene_list)){\n",
    "    cat('--Running:',name,\"--\\n\")\n",
    "    if(name=='all'){\n",
    "        for(tumor_group in names(mapped_tumor_groups)){\n",
    "            samples<-(genie_metadata_15_msk_with_mutation_selected_final_atleast_100_samples %>% \n",
    "                      filter(SAMPLE_TYPE=='Primary' & final_run_group==tumor_group)%>% group_by(final_class) %>% filter(n()>=30) %>% ungroup())$SAMPLE_ID\n",
    "            if(length(samples)>=30){\n",
    "                cat('---Tumor Group---',tumor_group,\"--\\n\")\n",
    "                    finalname<-paste(mapped_tumor_groups[tumor_group],name,sep=\"_\")\n",
    "                    label<-paste(dir,'/results/','msk_panel_',finalname,'_primary_result.rds',sep=\"\")\n",
    "                    msk_result<-readRDS(file = label)\n",
    "                    result_df <- msk_result$result\n",
    "                    result_df <- result_df %>% mutate('Cohort'='MSK Primary') %>% mutate('Panel'='all') %>% mutate('Tumor_run'=mapped_tumor_groups[tumor_group])\n",
    "                    tumor_can_result_primary[[k]]<-result_df\n",
    "                    rm(msk_result)\n",
    "                    k=k+1\n",
    "                cat('---Tumor Group---',tumor_group,\"--Done--\\n\")        \n",
    "                \n",
    "            }\n",
    "        }    \n",
    "\n",
    "    }\n",
    "    else if(name=='p_505'){\n",
    "        for(tumor_group in names(mapped_tumor_groups)){\n",
    "            samples<-(genie_metadata_15_msk_with_mutation_selected_final_atleast_100_samples %>% \n",
    "                      filter(SAMPLE_TYPE=='Primary' & SEQ_ASSAY_ID=='MSK-IMPACT505'& final_run_group==tumor_group)%>% group_by(final_class) %>% filter(n()>=30) %>% ungroup())$SAMPLE_ID\n",
    "            if(length(samples)>=30){\n",
    "                cat('---Tumor Group---',tumor_group,\"--\\n\")\n",
    "                    finalname<-paste(mapped_tumor_groups[tumor_group],name,sep=\"_\")\n",
    "                    label<-paste(dir,'/results/','msk_panel_',finalname,'_primary_result.rds',sep=\"\")\n",
    "                    msk_result<-readRDS(file = label)\n",
    "                    result_df <- msk_result$result\n",
    "                    result_df <- result_df %>% mutate('Cohort'='MSK Primary') %>% mutate('Panel'='p_505') %>% mutate('Tumor_run'=mapped_tumor_groups[tumor_group])\n",
    "                    tumor_can_result_primary[[k]]<-result_df\n",
    "                    rm(msk_result)\n",
    "                    k=k+1\n",
    "                cat('---Tumor Group---',tumor_group,\"--Done--\\n\")        \n",
    "                \n",
    "            }\n",
    "        }    \n",
    "\n",
    "    }\n",
    "    else if(name=='p_468'){\n",
    "        for(tumor_group in names(mapped_tumor_groups)){\n",
    "            samples<-(genie_metadata_15_msk_with_mutation_selected_final_atleast_100_samples %>% \n",
    "                      filter(SAMPLE_TYPE=='Primary' & SEQ_ASSAY_ID=='MSK-IMPACT468'& final_run_group==tumor_group)%>% group_by(final_class) %>% filter(n()>=30) %>% ungroup())$SAMPLE_ID\n",
    "            if(length(samples)>=30){\n",
    "                cat('---Tumor Group---',tumor_group,\"--\\n\")\n",
    "                    finalname<-paste(mapped_tumor_groups[tumor_group],name,sep=\"_\")\n",
    "                    label<-paste(dir,'/results/','msk_panel_',finalname,'_primary_result.rds',sep=\"\")\n",
    "                    msk_result<-readRDS(file = label)\n",
    "                    result_df <- msk_result$result\n",
    "                    result_df <- result_df %>% mutate('Cohort'='MSK Primary') %>% mutate('Panel'='p_468') %>% mutate('Tumor_run'=mapped_tumor_groups[tumor_group])\n",
    "                    tumor_can_result_primary[[k]]<-result_df\n",
    "                    rm(msk_result)\n",
    "                    k=k+1\n",
    "                cat('---Tumor Group---',tumor_group,\"--Done--\\n\")        \n",
    "                \n",
    "            }\n",
    "        } \n",
    "    }\n",
    "    else if(name=='p_410'){\n",
    "        for(tumor_group in names(mapped_tumor_groups)){\n",
    "            samples<-(genie_metadata_15_msk_with_mutation_selected_final_atleast_100_samples %>% \n",
    "                      filter(SAMPLE_TYPE=='Primary' & SEQ_ASSAY_ID=='MSK-IMPACT410'& final_run_group==tumor_group)%>% group_by(final_class) %>% filter(n()>=30) %>% ungroup())$SAMPLE_ID\n",
    "            if(length(samples)>=30){\n",
    "                cat('---Tumor Group---',tumor_group,\"--\\n\")\n",
    "                    finalname<-paste(mapped_tumor_groups[tumor_group],name,sep=\"_\")\n",
    "                    label<-paste(dir,'/results/','msk_panel_',finalname,'_primary_result.rds',sep=\"\")\n",
    "                    msk_result<-readRDS(file = label)\n",
    "                    result_df <- msk_result$result\n",
    "                    result_df <- result_df %>% mutate('Cohort'='MSK Primary') %>% mutate('Panel'='p_410') %>% mutate('Tumor_run'=mapped_tumor_groups[tumor_group])\n",
    "                    tumor_can_result_primary[[k]]<-result_df\n",
    "                    rm(msk_result)\n",
    "                    k=k+1\n",
    "                cat('---Tumor Group---',tumor_group,\"--Done--\\n\")        \n",
    "                \n",
    "            }\n",
    "        }   \n",
    "\n",
    "    }\n",
    "    else if(name=='p_341'){\n",
    "        for(tumor_group in names(mapped_tumor_groups)){\n",
    "            samples<-(genie_metadata_15_msk_with_mutation_selected_final_atleast_100_samples %>% \n",
    "                      filter(SAMPLE_TYPE=='Primary' & SEQ_ASSAY_ID=='MSK-IMPACT341'& final_run_group==tumor_group)%>% group_by(final_class) %>% filter(n()>=30) %>% ungroup())$SAMPLE_ID\n",
    "            if(length(samples)>=30){\n",
    "                cat('---Tumor Group---',tumor_group,\"--\\n\")\n",
    "                    finalname<-paste(mapped_tumor_groups[tumor_group],name,sep=\"_\")\n",
    "                    label<-paste(dir,'/results/','msk_panel_',finalname,'_primary_result.rds',sep=\"\")\n",
    "                    msk_result<-readRDS(file = label)\n",
    "                    result_df <- msk_result$result\n",
    "                    result_df <- result_df %>% mutate('Cohort'='MSK Primary') %>% mutate('Panel'='p_341') %>% mutate('Tumor_run'=mapped_tumor_groups[tumor_group])\n",
    "                    tumor_can_result_primary[[k]]<-result_df\n",
    "                    rm(msk_result)\n",
    "                    k=k+1\n",
    "                cat('---Tumor Group---',tumor_group,\"--Done--\\n\")        \n",
    "                \n",
    "            }\n",
    "        }   \n",
    "    }\n",
    "    else{\n",
    "        for(tumor_group in names(mapped_tumor_groups)){\n",
    "            samples<-(genie_metadata_15_msk_with_mutation_selected_final_atleast_100_samples %>% \n",
    "                      filter(SAMPLE_TYPE=='Primary' & SEQ_ASSAY_ID %in% c('MSK-IMPACT-HEME-400','MSK-IMPACT-HEME-468') & final_run_group==tumor_group)%>% group_by(final_class) %>% filter(n()>=30) %>% ungroup())$SAMPLE_ID\n",
    "            if(length(samples)>=30){\n",
    "                cat('---Tumor Group---',tumor_group,\"--\\n\")\n",
    "                    finalname<-paste(mapped_tumor_groups[tumor_group],'heme',sep=\"_\")\n",
    "                    label<-paste(dir,'/results/','msk_panel_',finalname,'_primary_result.rds',sep=\"\")\n",
    "                    msk_result<-readRDS(file = label)\n",
    "                    result_df <- msk_result$result\n",
    "                    result_df <- result_df %>% mutate('Cohort'='MSK Primary') %>% mutate('Panel'='heme') %>% mutate('Tumor_run'=mapped_tumor_groups[tumor_group])\n",
    "                    tumor_can_result_primary[[k]]<-result_df\n",
    "                    rm(msk_result)\n",
    "                    k=k+1\n",
    "                cat('---Tumor Group---',tumor_group,\"--Done--\\n\")        \n",
    "                \n",
    "            }\n",
    "        }   \n",
    "    }\n",
    " cat('\\n---Done---\\n')\n",
    "}"
   ]
  },
  {
   "cell_type": "code",
   "execution_count": 23,
   "id": "f5bf1d6a-b054-4c40-aac2-2cf04a047d32",
   "metadata": {},
   "outputs": [
    {
     "data": {
      "text/html": [
       "109"
      ],
      "text/latex": [
       "109"
      ],
      "text/markdown": [
       "109"
      ],
      "text/plain": [
       "[1] 109"
      ]
     },
     "metadata": {},
     "output_type": "display_data"
    }
   ],
   "source": [
    "length(tumor_can_result_primary)"
   ]
  },
  {
   "cell_type": "code",
   "execution_count": 24,
   "id": "dcabc3c9-f72e-4729-858b-f12f2d5788be",
   "metadata": {},
   "outputs": [],
   "source": [
    "tumor_can_result_msk_primary <- bind_rows(tumor_can_result_primary)\n",
    "rownames(tumor_can_result_msk_primary) <- c(1:nrow(tumor_can_result_msk_primary))"
   ]
  },
  {
   "cell_type": "code",
   "execution_count": 25,
   "id": "4d3a8787-e528-4d3e-9da0-6e17e799b317",
   "metadata": {},
   "outputs": [
    {
     "data": {
      "text/html": [
       "<table class=\"dataframe\">\n",
       "<caption>A data.frame: 2 × 25</caption>\n",
       "<thead>\n",
       "\t<tr><th></th><th scope=col>SFE_1</th><th scope=col>SFE_2</th><th scope=col>name</th><th scope=col>support_1</th><th scope=col>support_2</th><th scope=col>freq_1</th><th scope=col>freq_2</th><th scope=col>overlap</th><th scope=col>w_overlap</th><th scope=col>max_overlap</th><th scope=col>⋯</th><th scope=col>nES</th><th scope=col>mean_r_nES</th><th scope=col>nFDR</th><th scope=col>cum_freq</th><th scope=col>nFDR2</th><th scope=col>type</th><th scope=col>FDR</th><th scope=col>Cohort</th><th scope=col>Panel</th><th scope=col>Tumor_run</th></tr>\n",
       "\t<tr><th></th><th scope=col>&lt;chr&gt;</th><th scope=col>&lt;chr&gt;</th><th scope=col>&lt;chr&gt;</th><th scope=col>&lt;dbl&gt;</th><th scope=col>&lt;dbl&gt;</th><th scope=col>&lt;dbl&gt;</th><th scope=col>&lt;dbl&gt;</th><th scope=col>&lt;dbl&gt;</th><th scope=col>&lt;dbl&gt;</th><th scope=col>&lt;dbl&gt;</th><th scope=col>⋯</th><th scope=col>&lt;dbl&gt;</th><th scope=col>&lt;dbl&gt;</th><th scope=col>&lt;dbl&gt;</th><th scope=col>&lt;dbl&gt;</th><th scope=col>&lt;dbl&gt;</th><th scope=col>&lt;chr&gt;</th><th scope=col>&lt;lgl&gt;</th><th scope=col>&lt;chr&gt;</th><th scope=col>&lt;chr&gt;</th><th scope=col>&lt;chr&gt;</th></tr>\n",
       "</thead>\n",
       "<tbody>\n",
       "\t<tr><th scope=row>1</th><td>IDH1</td><td>ATRX</td><td>IDH1 - ATRX</td><td>338</td><td>222</td><td>0.2282242</td><td>0.1498987</td><td>178</td><td>138.0818</td><td>215</td><td>⋯</td><td>47.22300</td><td>2.629192</td><td>0</td><td>560</td><td>0</td><td>CO</td><td>TRUE</td><td>MSK Primary</td><td>all</td><td>glioma</td></tr>\n",
       "\t<tr><th scope=row>2</th><td>TP53</td><td>ATRX</td><td>TP53 - ATRX</td><td>517</td><td>222</td><td>0.3490885</td><td>0.1498987</td><td>186</td><td>140.9091</td><td>222</td><td>⋯</td><td>42.66629</td><td>2.895769</td><td>0</td><td>739</td><td>0</td><td>CO</td><td>TRUE</td><td>MSK Primary</td><td>all</td><td>glioma</td></tr>\n",
       "</tbody>\n",
       "</table>\n"
      ],
      "text/latex": [
       "A data.frame: 2 × 25\n",
       "\\begin{tabular}{r|lllllllllllllllllllll}\n",
       "  & SFE\\_1 & SFE\\_2 & name & support\\_1 & support\\_2 & freq\\_1 & freq\\_2 & overlap & w\\_overlap & max\\_overlap & ⋯ & nES & mean\\_r\\_nES & nFDR & cum\\_freq & nFDR2 & type & FDR & Cohort & Panel & Tumor\\_run\\\\\n",
       "  & <chr> & <chr> & <chr> & <dbl> & <dbl> & <dbl> & <dbl> & <dbl> & <dbl> & <dbl> & ⋯ & <dbl> & <dbl> & <dbl> & <dbl> & <dbl> & <chr> & <lgl> & <chr> & <chr> & <chr>\\\\\n",
       "\\hline\n",
       "\t1 & IDH1 & ATRX & IDH1 - ATRX & 338 & 222 & 0.2282242 & 0.1498987 & 178 & 138.0818 & 215 & ⋯ & 47.22300 & 2.629192 & 0 & 560 & 0 & CO & TRUE & MSK Primary & all & glioma\\\\\n",
       "\t2 & TP53 & ATRX & TP53 - ATRX & 517 & 222 & 0.3490885 & 0.1498987 & 186 & 140.9091 & 222 & ⋯ & 42.66629 & 2.895769 & 0 & 739 & 0 & CO & TRUE & MSK Primary & all & glioma\\\\\n",
       "\\end{tabular}\n"
      ],
      "text/markdown": [
       "\n",
       "A data.frame: 2 × 25\n",
       "\n",
       "| <!--/--> | SFE_1 &lt;chr&gt; | SFE_2 &lt;chr&gt; | name &lt;chr&gt; | support_1 &lt;dbl&gt; | support_2 &lt;dbl&gt; | freq_1 &lt;dbl&gt; | freq_2 &lt;dbl&gt; | overlap &lt;dbl&gt; | w_overlap &lt;dbl&gt; | max_overlap &lt;dbl&gt; | ⋯ ⋯ | nES &lt;dbl&gt; | mean_r_nES &lt;dbl&gt; | nFDR &lt;dbl&gt; | cum_freq &lt;dbl&gt; | nFDR2 &lt;dbl&gt; | type &lt;chr&gt; | FDR &lt;lgl&gt; | Cohort &lt;chr&gt; | Panel &lt;chr&gt; | Tumor_run &lt;chr&gt; |\n",
       "|---|---|---|---|---|---|---|---|---|---|---|---|---|---|---|---|---|---|---|---|---|---|\n",
       "| 1 | IDH1 | ATRX | IDH1 - ATRX | 338 | 222 | 0.2282242 | 0.1498987 | 178 | 138.0818 | 215 | ⋯ | 47.22300 | 2.629192 | 0 | 560 | 0 | CO | TRUE | MSK Primary | all | glioma |\n",
       "| 2 | TP53 | ATRX | TP53 - ATRX | 517 | 222 | 0.3490885 | 0.1498987 | 186 | 140.9091 | 222 | ⋯ | 42.66629 | 2.895769 | 0 | 739 | 0 | CO | TRUE | MSK Primary | all | glioma |\n",
       "\n"
      ],
      "text/plain": [
       "  SFE_1 SFE_2 name        support_1 support_2 freq_1    freq_2    overlap\n",
       "1 IDH1  ATRX  IDH1 - ATRX 338       222       0.2282242 0.1498987 178    \n",
       "2 TP53  ATRX  TP53 - ATRX 517       222       0.3490885 0.1498987 186    \n",
       "  w_overlap max_overlap ⋯ nES      mean_r_nES nFDR cum_freq nFDR2 type FDR \n",
       "1 138.0818  215         ⋯ 47.22300 2.629192   0    560      0     CO   TRUE\n",
       "2 140.9091  222         ⋯ 42.66629 2.895769   0    739      0     CO   TRUE\n",
       "  Cohort      Panel Tumor_run\n",
       "1 MSK Primary all   glioma   \n",
       "2 MSK Primary all   glioma   "
      ]
     },
     "metadata": {},
     "output_type": "display_data"
    }
   ],
   "source": [
    "head(tumor_can_result_msk_primary,2)"
   ]
  },
  {
   "cell_type": "markdown",
   "id": "012017d6-1b3b-496f-ba53-b6db55913b3f",
   "metadata": {},
   "source": [
    "## Metastasis"
   ]
  },
  {
   "cell_type": "code",
   "execution_count": 26,
   "id": "4d332c15-8b5a-40af-b76d-eb736e1f2816",
   "metadata": {},
   "outputs": [],
   "source": [
    "tumor_can_result_met <- list()"
   ]
  },
  {
   "cell_type": "code",
   "execution_count": 27,
   "id": "1dd9a5ca-f81f-4e46-952b-0b9a896a299b",
   "metadata": {
    "scrolled": true
   },
   "outputs": [
    {
     "name": "stdout",
     "output_type": "stream",
     "text": [
      "--Running: all --\n",
      "---Tumor Group--- Melanoma --\n",
      "---Tumor Group--- Melanoma --Done--\n",
      "---Tumor Group--- Salivary Gland Cancer --\n",
      "---Tumor Group--- Salivary Gland Cancer --Done--\n",
      "---Tumor Group--- Anal Cancer --\n",
      "---Tumor Group--- Anal Cancer --Done--\n",
      "---Tumor Group--- Appendiceal Cancer --\n",
      "---Tumor Group--- Appendiceal Cancer --Done--\n",
      "---Tumor Group--- Bladder Cancer --\n",
      "---Tumor Group--- Bladder Cancer --Done--\n",
      "---Tumor Group--- B-Lymphoblastic Leukemia/Lymphoma --\n",
      "---Tumor Group--- B-Lymphoblastic Leukemia/Lymphoma --Done--\n",
      "---Tumor Group--- Breast Cancer --\n",
      "---Tumor Group--- Breast Cancer --Done--\n",
      "---Tumor Group--- Ovarian Cancer --\n",
      "---Tumor Group--- Ovarian Cancer --Done--\n",
      "---Tumor Group--- Renal Cell Carcinoma --\n",
      "---Tumor Group--- Renal Cell Carcinoma --Done--\n",
      "---Tumor Group--- Cervical Cancer --\n",
      "---Tumor Group--- Cervical Cancer --Done--\n",
      "---Tumor Group--- Billary Tract Cancer --\n",
      "---Tumor Group--- Billary Tract Cancer --Done--\n",
      "---Tumor Group--- Mature B-Cell Neoplasms --\n",
      "---Tumor Group--- Mature B-Cell Neoplasms --Done--\n",
      "---Tumor Group--- Colorectal Cancer --\n",
      "---Tumor Group--- Colorectal Cancer --Done--\n",
      "---Tumor Group--- Skin Cancer, Non-Melanoma --\n",
      "---Tumor Group--- Skin Cancer, Non-Melanoma --Done--\n",
      "---Tumor Group--- Soft Tissue Sarcoma --\n",
      "---Tumor Group--- Soft Tissue Sarcoma --Done--\n",
      "---Tumor Group--- Esophagogastric Cancer --\n",
      "---Tumor Group--- Esophagogastric Cancer --Done--\n",
      "---Tumor Group--- Gastrointestinal Stromal Tumor --\n",
      "---Tumor Group--- Gastrointestinal Stromal Tumor --Done--\n",
      "---Tumor Group--- Liver Cancer --\n",
      "---Tumor Group--- Liver Cancer --Done--\n",
      "---Tumor Group--- Head and Neck Cancer --\n",
      "---Tumor Group--- Head and Neck Cancer --Done--\n",
      "---Tumor Group--- Non-Small Cell Lung Cancer --\n",
      "---Tumor Group--- Non-Small Cell Lung Cancer --Done--\n",
      "---Tumor Group--- Germ Cell Tumor --\n",
      "---Tumor Group--- Germ Cell Tumor --Done--\n",
      "---Tumor Group--- Peripheral Nervous System --\n",
      "---Tumor Group--- Peripheral Nervous System --Done--\n",
      "---Tumor Group--- Bone Cancer --\n",
      "---Tumor Group--- Bone Cancer --Done--\n",
      "---Tumor Group--- Pancreatic Cancer --\n",
      "---Tumor Group--- Pancreatic Cancer --Done--\n",
      "---Tumor Group--- Prostate Cancer --\n",
      "---Tumor Group--- Prostate Cancer --Done--\n",
      "---Tumor Group--- Small Cell Lung Cancer --\n",
      "---Tumor Group--- Small Cell Lung Cancer --Done--\n",
      "---Tumor Group--- Thyroid Cancer --\n",
      "---Tumor Group--- Thyroid Cancer --Done--\n",
      "---Tumor Group--- Endometrial Cancer --\n",
      "---Tumor Group--- Endometrial Cancer --Done--\n",
      "---Tumor Group--- Uterine Sarcoma --\n",
      "---Tumor Group--- Uterine Sarcoma --Done--\n",
      "\n",
      "---Done---\n",
      "--Running: p_505 --\n",
      "---Tumor Group--- Melanoma --\n",
      "---Tumor Group--- Melanoma --Done--\n",
      "---Tumor Group--- Bladder Cancer --\n",
      "---Tumor Group--- Bladder Cancer --Done--\n",
      "---Tumor Group--- Breast Cancer --\n",
      "---Tumor Group--- Breast Cancer --Done--\n",
      "---Tumor Group--- Ovarian Cancer --\n",
      "---Tumor Group--- Ovarian Cancer --Done--\n",
      "---Tumor Group--- Renal Cell Carcinoma --\n",
      "---Tumor Group--- Renal Cell Carcinoma --Done--\n",
      "---Tumor Group--- Billary Tract Cancer --\n",
      "---Tumor Group--- Billary Tract Cancer --Done--\n",
      "---Tumor Group--- Colorectal Cancer --\n",
      "---Tumor Group--- Colorectal Cancer --Done--\n",
      "---Tumor Group--- Soft Tissue Sarcoma --\n",
      "---Tumor Group--- Soft Tissue Sarcoma --Done--\n",
      "---Tumor Group--- Esophagogastric Cancer --\n",
      "---Tumor Group--- Esophagogastric Cancer --Done--\n",
      "---Tumor Group--- Head and Neck Cancer --\n",
      "---Tumor Group--- Head and Neck Cancer --Done--\n",
      "---Tumor Group--- Non-Small Cell Lung Cancer --\n",
      "---Tumor Group--- Non-Small Cell Lung Cancer --Done--\n",
      "---Tumor Group--- Pancreatic Cancer --\n",
      "---Tumor Group--- Pancreatic Cancer --Done--\n",
      "---Tumor Group--- Prostate Cancer --\n",
      "---Tumor Group--- Prostate Cancer --Done--\n",
      "---Tumor Group--- Small Cell Lung Cancer --\n",
      "---Tumor Group--- Small Cell Lung Cancer --Done--\n",
      "---Tumor Group--- Thyroid Cancer --\n",
      "---Tumor Group--- Thyroid Cancer --Done--\n",
      "---Tumor Group--- Endometrial Cancer --\n",
      "---Tumor Group--- Endometrial Cancer --Done--\n",
      "\n",
      "---Done---\n",
      "--Running: p_468 --\n",
      "---Tumor Group--- Melanoma --\n",
      "---Tumor Group--- Melanoma --Done--\n",
      "---Tumor Group--- Salivary Gland Cancer --\n",
      "---Tumor Group--- Salivary Gland Cancer --Done--\n",
      "---Tumor Group--- Appendiceal Cancer --\n",
      "---Tumor Group--- Appendiceal Cancer --Done--\n",
      "---Tumor Group--- Bladder Cancer --\n",
      "---Tumor Group--- Bladder Cancer --Done--\n",
      "---Tumor Group--- Breast Cancer --\n",
      "---Tumor Group--- Breast Cancer --Done--\n",
      "---Tumor Group--- Ovarian Cancer --\n",
      "---Tumor Group--- Ovarian Cancer --Done--\n",
      "---Tumor Group--- Renal Cell Carcinoma --\n",
      "---Tumor Group--- Renal Cell Carcinoma --Done--\n",
      "---Tumor Group--- Cervical Cancer --\n",
      "---Tumor Group--- Cervical Cancer --Done--\n",
      "---Tumor Group--- Billary Tract Cancer --\n",
      "---Tumor Group--- Billary Tract Cancer --Done--\n",
      "---Tumor Group--- Colorectal Cancer --\n",
      "---Tumor Group--- Colorectal Cancer --Done--\n",
      "---Tumor Group--- Soft Tissue Sarcoma --\n",
      "---Tumor Group--- Soft Tissue Sarcoma --Done--\n",
      "---Tumor Group--- Esophagogastric Cancer --\n",
      "---Tumor Group--- Esophagogastric Cancer --Done--\n",
      "---Tumor Group--- Gastrointestinal Stromal Tumor --\n",
      "---Tumor Group--- Gastrointestinal Stromal Tumor --Done--\n",
      "---Tumor Group--- Head and Neck Cancer --\n",
      "---Tumor Group--- Head and Neck Cancer --Done--\n",
      "---Tumor Group--- Non-Small Cell Lung Cancer --\n",
      "---Tumor Group--- Non-Small Cell Lung Cancer --Done--\n",
      "---Tumor Group--- Peripheral Nervous System --\n",
      "---Tumor Group--- Peripheral Nervous System --Done--\n",
      "---Tumor Group--- Pancreatic Cancer --\n",
      "---Tumor Group--- Pancreatic Cancer --Done--\n",
      "---Tumor Group--- Prostate Cancer --\n",
      "---Tumor Group--- Prostate Cancer --Done--\n",
      "---Tumor Group--- Small Cell Lung Cancer --\n",
      "---Tumor Group--- Small Cell Lung Cancer --Done--\n",
      "---Tumor Group--- Thyroid Cancer --\n",
      "---Tumor Group--- Thyroid Cancer --Done--\n",
      "---Tumor Group--- Endometrial Cancer --\n",
      "---Tumor Group--- Endometrial Cancer --Done--\n",
      "---Tumor Group--- Uterine Sarcoma --\n",
      "---Tumor Group--- Uterine Sarcoma --Done--\n",
      "\n",
      "---Done---\n",
      "--Running: p_410 --\n",
      "---Tumor Group--- Melanoma --\n",
      "---Tumor Group--- Melanoma --Done--\n",
      "---Tumor Group--- Bladder Cancer --\n",
      "---Tumor Group--- Bladder Cancer --Done--\n",
      "---Tumor Group--- Breast Cancer --\n",
      "---Tumor Group--- Breast Cancer --Done--\n",
      "---Tumor Group--- Ovarian Cancer --\n",
      "---Tumor Group--- Ovarian Cancer --Done--\n",
      "---Tumor Group--- Renal Cell Carcinoma --\n",
      "---Tumor Group--- Renal Cell Carcinoma --Done--\n",
      "---Tumor Group--- Colorectal Cancer --\n",
      "---Tumor Group--- Colorectal Cancer --Done--\n",
      "---Tumor Group--- Gastrointestinal Stromal Tumor --\n",
      "---Tumor Group--- Gastrointestinal Stromal Tumor --Done--\n",
      "---Tumor Group--- Head and Neck Cancer --\n",
      "---Tumor Group--- Head and Neck Cancer --Done--\n",
      "---Tumor Group--- Non-Small Cell Lung Cancer --\n",
      "---Tumor Group--- Non-Small Cell Lung Cancer --Done--\n",
      "---Tumor Group--- Pancreatic Cancer --\n",
      "---Tumor Group--- Pancreatic Cancer --Done--\n",
      "---Tumor Group--- Prostate Cancer --\n",
      "---Tumor Group--- Prostate Cancer --Done--\n",
      "---Tumor Group--- Small Cell Lung Cancer --\n",
      "---Tumor Group--- Small Cell Lung Cancer --Done--\n",
      "---Tumor Group--- Thyroid Cancer --\n",
      "---Tumor Group--- Thyroid Cancer --Done--\n",
      "\n",
      "---Done---\n",
      "--Running: p_341 --\n",
      "---Tumor Group--- Melanoma --\n",
      "---Tumor Group--- Melanoma --Done--\n",
      "---Tumor Group--- Breast Cancer --\n",
      "---Tumor Group--- Breast Cancer --Done--\n",
      "---Tumor Group--- Ovarian Cancer --\n",
      "---Tumor Group--- Ovarian Cancer --Done--\n",
      "---Tumor Group--- Colorectal Cancer --\n",
      "---Tumor Group--- Colorectal Cancer --Done--\n",
      "---Tumor Group--- Non-Small Cell Lung Cancer --\n",
      "---Tumor Group--- Non-Small Cell Lung Cancer --Done--\n",
      "---Tumor Group--- Prostate Cancer --\n",
      "---Tumor Group--- Prostate Cancer --Done--\n",
      "\n",
      "---Done---\n",
      "--Running: p_heme --\n",
      "---Tumor Group--- Mature B-Cell Neoplasms --\n",
      "---Tumor Group--- Mature B-Cell Neoplasms --Done--\n",
      "\n",
      "---Done---\n"
     ]
    }
   ],
   "source": [
    "k=1\n",
    "dir='/mnt/ndata/arvind/co_mutation_project/analysis/catalogue/'\n",
    "for(name in names(msk_run_gene_list)){\n",
    "    cat('--Running:',name,\"--\\n\")\n",
    "    if(name=='all'){\n",
    "        for(tumor_group in names(mapped_tumor_groups)){\n",
    "            samples<-(genie_metadata_15_msk_with_mutation_selected_final_atleast_100_samples %>% \n",
    "                      filter(SAMPLE_TYPE!='Primary' & final_run_group==tumor_group)%>% group_by(final_class) %>% filter(n()>=30) %>% ungroup())$SAMPLE_ID\n",
    "            if(length(samples)>=30){\n",
    "                cat('---Tumor Group---',tumor_group,\"--\\n\")\n",
    "                    finalname<-paste(mapped_tumor_groups[tumor_group],name,sep=\"_\")\n",
    "                    label<-paste(dir,'/results/','msk_panel_',finalname,'_meta_result.rds',sep=\"\")\n",
    "                    msk_result<-readRDS(file = label)\n",
    "                    result_df <- msk_result$result\n",
    "                    result_df <- result_df %>% mutate('Cohort'='MSK Metastasis') %>% mutate('Panel'='all') %>% mutate('Tumor_run'=mapped_tumor_groups[tumor_group])\n",
    "                    tumor_can_result_met[[k]]<-result_df\n",
    "                    rm(msk_result)\n",
    "                    k=k+1\n",
    "                cat('---Tumor Group---',tumor_group,\"--Done--\\n\")        \n",
    "                \n",
    "            }\n",
    "        }    \n",
    "\n",
    "    }\n",
    "    else if(name=='p_505'){\n",
    "        for(tumor_group in names(mapped_tumor_groups)){\n",
    "            samples<-(genie_metadata_15_msk_with_mutation_selected_final_atleast_100_samples %>% \n",
    "                      filter(SAMPLE_TYPE!='Primary' & SEQ_ASSAY_ID=='MSK-IMPACT505'& final_run_group==tumor_group)%>% group_by(final_class) %>% filter(n()>=30) %>% ungroup())$SAMPLE_ID\n",
    "            if(length(samples)>=30){\n",
    "                cat('---Tumor Group---',tumor_group,\"--\\n\")\n",
    "                    finalname<-paste(mapped_tumor_groups[tumor_group],name,sep=\"_\")\n",
    "                    label<-paste(dir,'/results/','msk_panel_',finalname,'_meta_result.rds',sep=\"\")\n",
    "                    msk_result<-readRDS(file = label)\n",
    "                    result_df <- msk_result$result\n",
    "                    result_df <- result_df %>% mutate('Cohort'='MSK Metastasis') %>% mutate('Panel'='p_505') %>% mutate('Tumor_run'=mapped_tumor_groups[tumor_group])\n",
    "                    tumor_can_result_met[[k]]<-result_df\n",
    "                    rm(msk_result)\n",
    "                    k=k+1\n",
    "                cat('---Tumor Group---',tumor_group,\"--Done--\\n\")        \n",
    "                \n",
    "            }\n",
    "        }    \n",
    "\n",
    "    }\n",
    "    else if(name=='p_468'){\n",
    "        for(tumor_group in names(mapped_tumor_groups)){\n",
    "            samples<-(genie_metadata_15_msk_with_mutation_selected_final_atleast_100_samples %>% \n",
    "                      filter(SAMPLE_TYPE!='Primary' & SEQ_ASSAY_ID=='MSK-IMPACT468'& final_run_group==tumor_group)%>% group_by(final_class) %>% filter(n()>=30) %>% ungroup())$SAMPLE_ID\n",
    "            if(length(samples)>=30){\n",
    "                cat('---Tumor Group---',tumor_group,\"--\\n\")\n",
    "                    finalname<-paste(mapped_tumor_groups[tumor_group],name,sep=\"_\")\n",
    "                    label<-paste(dir,'/results/','msk_panel_',finalname,'_meta_result.rds',sep=\"\")\n",
    "                    msk_result<-readRDS(file = label)\n",
    "                    result_df <- msk_result$result\n",
    "                    result_df <- result_df %>% mutate('Cohort'='MSK Metastasis') %>% mutate('Panel'='p_468') %>% mutate('Tumor_run'=mapped_tumor_groups[tumor_group])\n",
    "                    tumor_can_result_met[[k]]<-result_df\n",
    "                    rm(msk_result)\n",
    "                    k=k+1\n",
    "                cat('---Tumor Group---',tumor_group,\"--Done--\\n\")        \n",
    "                \n",
    "            }\n",
    "        } \n",
    "    }\n",
    "    else if(name=='p_410'){\n",
    "        for(tumor_group in names(mapped_tumor_groups)){\n",
    "            samples<-(genie_metadata_15_msk_with_mutation_selected_final_atleast_100_samples %>% \n",
    "                      filter(SAMPLE_TYPE!='Primary' & SEQ_ASSAY_ID=='MSK-IMPACT410'& final_run_group==tumor_group)%>% group_by(final_class) %>% filter(n()>=30) %>% ungroup())$SAMPLE_ID\n",
    "            if(length(samples)>=30){\n",
    "                cat('---Tumor Group---',tumor_group,\"--\\n\")\n",
    "                    finalname<-paste(mapped_tumor_groups[tumor_group],name,sep=\"_\")\n",
    "                    label<-paste(dir,'/results/','msk_panel_',finalname,'_meta_result.rds',sep=\"\")\n",
    "                    msk_result<-readRDS(file = label)\n",
    "                    result_df <- msk_result$result\n",
    "                    result_df <- result_df %>% mutate('Cohort'='MSK Metastasis') %>% mutate('Panel'='p_410') %>% mutate('Tumor_run'=mapped_tumor_groups[tumor_group])\n",
    "                    tumor_can_result_met[[k]]<-result_df\n",
    "                    rm(msk_result)\n",
    "                    k=k+1\n",
    "                cat('---Tumor Group---',tumor_group,\"--Done--\\n\")        \n",
    "                \n",
    "            }\n",
    "        }   \n",
    "\n",
    "    }\n",
    "    else if(name=='p_341'){\n",
    "        for(tumor_group in names(mapped_tumor_groups)){\n",
    "            samples<-(genie_metadata_15_msk_with_mutation_selected_final_atleast_100_samples %>% \n",
    "                      filter(SAMPLE_TYPE!='Primary' & SEQ_ASSAY_ID=='MSK-IMPACT341'& final_run_group==tumor_group)%>% group_by(final_class) %>% filter(n()>=30) %>% ungroup())$SAMPLE_ID\n",
    "            if(length(samples)>=30){\n",
    "                cat('---Tumor Group---',tumor_group,\"--\\n\")\n",
    "                    finalname<-paste(mapped_tumor_groups[tumor_group],name,sep=\"_\")\n",
    "                    label<-paste(dir,'/results/','msk_panel_',finalname,'_meta_result.rds',sep=\"\")\n",
    "                    msk_result<-readRDS(file = label)\n",
    "                    result_df <- msk_result$result\n",
    "                    result_df <- result_df %>% mutate('Cohort'='MSK Metastasis') %>% mutate('Panel'='p_341') %>% mutate('Tumor_run'=mapped_tumor_groups[tumor_group])\n",
    "                    tumor_can_result_met[[k]]<-result_df\n",
    "                    rm(msk_result)\n",
    "                    k=k+1\n",
    "                cat('---Tumor Group---',tumor_group,\"--Done--\\n\")        \n",
    "                \n",
    "            }\n",
    "        }   \n",
    "    }\n",
    "    else{\n",
    "        for(tumor_group in names(mapped_tumor_groups)){\n",
    "            samples<-(genie_metadata_15_msk_with_mutation_selected_final_atleast_100_samples %>% \n",
    "                      filter(SAMPLE_TYPE!='Primary' & SEQ_ASSAY_ID %in% c('MSK-IMPACT-HEME-400','MSK-IMPACT-HEME-468') & final_run_group==tumor_group)%>% group_by(final_class) %>% filter(n()>=30) %>% ungroup())$SAMPLE_ID\n",
    "            if(length(samples)>=30){\n",
    "                cat('---Tumor Group---',tumor_group,\"--\\n\")\n",
    "                    finalname<-paste(mapped_tumor_groups[tumor_group],'heme',sep=\"_\")\n",
    "                    label<-paste(dir,'/results/','msk_panel_',finalname,'_meta_result.rds',sep=\"\")\n",
    "                    msk_result<-readRDS(file = label)\n",
    "                    result_df <- msk_result$result\n",
    "                    result_df <- result_df %>% mutate('Cohort'='MSK Metastasis') %>% mutate('Panel'='heme') %>% mutate('Tumor_run'=mapped_tumor_groups[tumor_group])\n",
    "                    tumor_can_result_met[[k]]<-result_df\n",
    "                    rm(msk_result)\n",
    "                    k=k+1\n",
    "                cat('---Tumor Group---',tumor_group,\"--Done--\\n\")        \n",
    "                \n",
    "            }\n",
    "        }   \n",
    "    }\n",
    " cat('\\n---Done---\\n')\n",
    "}"
   ]
  },
  {
   "cell_type": "code",
   "execution_count": 28,
   "id": "ca6a52de-6e4b-4442-8e1e-fd13da08c050",
   "metadata": {},
   "outputs": [
    {
     "data": {
      "text/html": [
       "87"
      ],
      "text/latex": [
       "87"
      ],
      "text/markdown": [
       "87"
      ],
      "text/plain": [
       "[1] 87"
      ]
     },
     "metadata": {},
     "output_type": "display_data"
    }
   ],
   "source": [
    "length(tumor_can_result_met)"
   ]
  },
  {
   "cell_type": "code",
   "execution_count": 29,
   "id": "3bf4865e-21d4-4edb-85f1-101a8f4ccea8",
   "metadata": {},
   "outputs": [],
   "source": [
    "tumor_can_result_msk_met <- bind_rows(tumor_can_result_met)\n",
    "rownames(tumor_can_result_msk_met) <- c(1:nrow(tumor_can_result_msk_met))"
   ]
  },
  {
   "cell_type": "code",
   "execution_count": 30,
   "id": "c25cbadb-06a6-4233-9514-e4289b7c977f",
   "metadata": {},
   "outputs": [
    {
     "data": {
      "text/html": [
       "<table class=\"dataframe\">\n",
       "<caption>A data.frame: 2 × 25</caption>\n",
       "<thead>\n",
       "\t<tr><th></th><th scope=col>SFE_1</th><th scope=col>SFE_2</th><th scope=col>name</th><th scope=col>support_1</th><th scope=col>support_2</th><th scope=col>freq_1</th><th scope=col>freq_2</th><th scope=col>overlap</th><th scope=col>w_overlap</th><th scope=col>max_overlap</th><th scope=col>⋯</th><th scope=col>nES</th><th scope=col>mean_r_nES</th><th scope=col>nFDR</th><th scope=col>cum_freq</th><th scope=col>nFDR2</th><th scope=col>type</th><th scope=col>FDR</th><th scope=col>Cohort</th><th scope=col>Panel</th><th scope=col>Tumor_run</th></tr>\n",
       "\t<tr><th></th><th scope=col>&lt;chr&gt;</th><th scope=col>&lt;chr&gt;</th><th scope=col>&lt;chr&gt;</th><th scope=col>&lt;dbl&gt;</th><th scope=col>&lt;dbl&gt;</th><th scope=col>&lt;dbl&gt;</th><th scope=col>&lt;dbl&gt;</th><th scope=col>&lt;dbl&gt;</th><th scope=col>&lt;dbl&gt;</th><th scope=col>&lt;dbl&gt;</th><th scope=col>⋯</th><th scope=col>&lt;dbl&gt;</th><th scope=col>&lt;dbl&gt;</th><th scope=col>&lt;dbl&gt;</th><th scope=col>&lt;dbl&gt;</th><th scope=col>&lt;dbl&gt;</th><th scope=col>&lt;chr&gt;</th><th scope=col>&lt;lgl&gt;</th><th scope=col>&lt;chr&gt;</th><th scope=col>&lt;chr&gt;</th><th scope=col>&lt;chr&gt;</th></tr>\n",
       "</thead>\n",
       "<tbody>\n",
       "\t<tr><th scope=row>1</th><td>NRAS</td><td>BRAF</td><td>NRAS - BRAF</td><td>323</td><td>404</td><td>0.2868561</td><td>0.3587922</td><td>17</td><td> 9.913468</td><td>322</td><td>⋯</td><td>-39.23042</td><td>-2.025085</td><td>0</td><td>727</td><td>0</td><td>ME</td><td>TRUE</td><td>MSK Metastasis</td><td>all</td><td>melanoma</td></tr>\n",
       "\t<tr><th scope=row>2</th><td>NF1 </td><td>BRAF</td><td>NF1 - BRAF </td><td>222</td><td>404</td><td>0.1971581</td><td>0.3587922</td><td>31</td><td>11.569570</td><td>222</td><td>⋯</td><td>-21.98325</td><td>-1.617025</td><td>0</td><td>626</td><td>0</td><td>ME</td><td>TRUE</td><td>MSK Metastasis</td><td>all</td><td>melanoma</td></tr>\n",
       "</tbody>\n",
       "</table>\n"
      ],
      "text/latex": [
       "A data.frame: 2 × 25\n",
       "\\begin{tabular}{r|lllllllllllllllllllll}\n",
       "  & SFE\\_1 & SFE\\_2 & name & support\\_1 & support\\_2 & freq\\_1 & freq\\_2 & overlap & w\\_overlap & max\\_overlap & ⋯ & nES & mean\\_r\\_nES & nFDR & cum\\_freq & nFDR2 & type & FDR & Cohort & Panel & Tumor\\_run\\\\\n",
       "  & <chr> & <chr> & <chr> & <dbl> & <dbl> & <dbl> & <dbl> & <dbl> & <dbl> & <dbl> & ⋯ & <dbl> & <dbl> & <dbl> & <dbl> & <dbl> & <chr> & <lgl> & <chr> & <chr> & <chr>\\\\\n",
       "\\hline\n",
       "\t1 & NRAS & BRAF & NRAS - BRAF & 323 & 404 & 0.2868561 & 0.3587922 & 17 &  9.913468 & 322 & ⋯ & -39.23042 & -2.025085 & 0 & 727 & 0 & ME & TRUE & MSK Metastasis & all & melanoma\\\\\n",
       "\t2 & NF1  & BRAF & NF1 - BRAF  & 222 & 404 & 0.1971581 & 0.3587922 & 31 & 11.569570 & 222 & ⋯ & -21.98325 & -1.617025 & 0 & 626 & 0 & ME & TRUE & MSK Metastasis & all & melanoma\\\\\n",
       "\\end{tabular}\n"
      ],
      "text/markdown": [
       "\n",
       "A data.frame: 2 × 25\n",
       "\n",
       "| <!--/--> | SFE_1 &lt;chr&gt; | SFE_2 &lt;chr&gt; | name &lt;chr&gt; | support_1 &lt;dbl&gt; | support_2 &lt;dbl&gt; | freq_1 &lt;dbl&gt; | freq_2 &lt;dbl&gt; | overlap &lt;dbl&gt; | w_overlap &lt;dbl&gt; | max_overlap &lt;dbl&gt; | ⋯ ⋯ | nES &lt;dbl&gt; | mean_r_nES &lt;dbl&gt; | nFDR &lt;dbl&gt; | cum_freq &lt;dbl&gt; | nFDR2 &lt;dbl&gt; | type &lt;chr&gt; | FDR &lt;lgl&gt; | Cohort &lt;chr&gt; | Panel &lt;chr&gt; | Tumor_run &lt;chr&gt; |\n",
       "|---|---|---|---|---|---|---|---|---|---|---|---|---|---|---|---|---|---|---|---|---|---|\n",
       "| 1 | NRAS | BRAF | NRAS - BRAF | 323 | 404 | 0.2868561 | 0.3587922 | 17 |  9.913468 | 322 | ⋯ | -39.23042 | -2.025085 | 0 | 727 | 0 | ME | TRUE | MSK Metastasis | all | melanoma |\n",
       "| 2 | NF1  | BRAF | NF1 - BRAF  | 222 | 404 | 0.1971581 | 0.3587922 | 31 | 11.569570 | 222 | ⋯ | -21.98325 | -1.617025 | 0 | 626 | 0 | ME | TRUE | MSK Metastasis | all | melanoma |\n",
       "\n"
      ],
      "text/plain": [
       "  SFE_1 SFE_2 name        support_1 support_2 freq_1    freq_2    overlap\n",
       "1 NRAS  BRAF  NRAS - BRAF 323       404       0.2868561 0.3587922 17     \n",
       "2 NF1   BRAF  NF1 - BRAF  222       404       0.1971581 0.3587922 31     \n",
       "  w_overlap max_overlap ⋯ nES       mean_r_nES nFDR cum_freq nFDR2 type FDR \n",
       "1  9.913468 322         ⋯ -39.23042 -2.025085  0    727      0     ME   TRUE\n",
       "2 11.569570 222         ⋯ -21.98325 -1.617025  0    626      0     ME   TRUE\n",
       "  Cohort         Panel Tumor_run\n",
       "1 MSK Metastasis all   melanoma \n",
       "2 MSK Metastasis all   melanoma "
      ]
     },
     "metadata": {},
     "output_type": "display_data"
    }
   ],
   "source": [
    "head(tumor_can_result_msk_met,2)"
   ]
  },
  {
   "cell_type": "markdown",
   "id": "1d333265-0ca8-42e7-803d-7502ff884a82",
   "metadata": {},
   "source": [
    "# Merge all result into one dataframe"
   ]
  },
  {
   "cell_type": "code",
   "execution_count": 31,
   "id": "167b7c26-db94-40d3-91fd-ed3a3974c416",
   "metadata": {},
   "outputs": [
    {
     "data": {
      "text/html": [
       "<style>\n",
       ".list-inline {list-style: none; margin:0; padding: 0}\n",
       ".list-inline>li {display: inline-block}\n",
       ".list-inline>li:not(:last-child)::after {content: \"\\00b7\"; padding: 0 .5ex}\n",
       "</style>\n",
       "<ol class=list-inline><li>267963</li><li>25</li></ol>\n"
      ],
      "text/latex": [
       "\\begin{enumerate*}\n",
       "\\item 267963\n",
       "\\item 25\n",
       "\\end{enumerate*}\n"
      ],
      "text/markdown": [
       "1. 267963\n",
       "2. 25\n",
       "\n",
       "\n"
      ],
      "text/plain": [
       "[1] 267963     25"
      ]
     },
     "metadata": {},
     "output_type": "display_data"
    }
   ],
   "source": [
    "dim(pan_can_result_msk)"
   ]
  },
  {
   "cell_type": "code",
   "execution_count": 32,
   "id": "65c05e78-c11f-4166-9c80-27d2d6892808",
   "metadata": {},
   "outputs": [
    {
     "data": {
      "text/html": [
       "<style>\n",
       ".list-inline {list-style: none; margin:0; padding: 0}\n",
       ".list-inline>li {display: inline-block}\n",
       ".list-inline>li:not(:last-child)::after {content: \"\\00b7\"; padding: 0 .5ex}\n",
       "</style>\n",
       "<ol class=list-inline><li>767015</li><li>25</li></ol>\n"
      ],
      "text/latex": [
       "\\begin{enumerate*}\n",
       "\\item 767015\n",
       "\\item 25\n",
       "\\end{enumerate*}\n"
      ],
      "text/markdown": [
       "1. 767015\n",
       "2. 25\n",
       "\n",
       "\n"
      ],
      "text/plain": [
       "[1] 767015     25"
      ]
     },
     "metadata": {},
     "output_type": "display_data"
    }
   ],
   "source": [
    "dim(tumor_can_result_msk_primary)"
   ]
  },
  {
   "cell_type": "code",
   "execution_count": 33,
   "id": "4ad67124-1576-41e9-b61c-306d98275a09",
   "metadata": {},
   "outputs": [
    {
     "data": {
      "text/html": [
       "<style>\n",
       ".list-inline {list-style: none; margin:0; padding: 0}\n",
       ".list-inline>li {display: inline-block}\n",
       ".list-inline>li:not(:last-child)::after {content: \"\\00b7\"; padding: 0 .5ex}\n",
       "</style>\n",
       "<ol class=list-inline><li>457018</li><li>25</li></ol>\n"
      ],
      "text/latex": [
       "\\begin{enumerate*}\n",
       "\\item 457018\n",
       "\\item 25\n",
       "\\end{enumerate*}\n"
      ],
      "text/markdown": [
       "1. 457018\n",
       "2. 25\n",
       "\n",
       "\n"
      ],
      "text/plain": [
       "[1] 457018     25"
      ]
     },
     "metadata": {},
     "output_type": "display_data"
    }
   ],
   "source": [
    "dim(tumor_can_result_msk_met)"
   ]
  },
  {
   "cell_type": "code",
   "execution_count": 34,
   "id": "5d6d0995-030c-4482-89f0-f12a32477c06",
   "metadata": {},
   "outputs": [],
   "source": [
    "all_result_merged_msk <- rbind(pan_can_result_msk,tumor_can_result_msk_primary,tumor_can_result_msk_met)"
   ]
  },
  {
   "cell_type": "code",
   "execution_count": 35,
   "id": "988d56b5-da6e-45a6-bd77-494888f9d92c",
   "metadata": {},
   "outputs": [
    {
     "data": {
      "text/html": [
       "<table class=\"dataframe\">\n",
       "<caption>A data.frame: 6 × 25</caption>\n",
       "<thead>\n",
       "\t<tr><th></th><th scope=col>SFE_1</th><th scope=col>SFE_2</th><th scope=col>name</th><th scope=col>support_1</th><th scope=col>support_2</th><th scope=col>freq_1</th><th scope=col>freq_2</th><th scope=col>overlap</th><th scope=col>w_overlap</th><th scope=col>max_overlap</th><th scope=col>⋯</th><th scope=col>nES</th><th scope=col>mean_r_nES</th><th scope=col>nFDR</th><th scope=col>cum_freq</th><th scope=col>nFDR2</th><th scope=col>type</th><th scope=col>FDR</th><th scope=col>Cohort</th><th scope=col>Panel</th><th scope=col>Tumor_run</th></tr>\n",
       "\t<tr><th></th><th scope=col>&lt;chr&gt;</th><th scope=col>&lt;chr&gt;</th><th scope=col>&lt;chr&gt;</th><th scope=col>&lt;dbl&gt;</th><th scope=col>&lt;dbl&gt;</th><th scope=col>&lt;dbl&gt;</th><th scope=col>&lt;dbl&gt;</th><th scope=col>&lt;dbl&gt;</th><th scope=col>&lt;dbl&gt;</th><th scope=col>&lt;dbl&gt;</th><th scope=col>⋯</th><th scope=col>&lt;dbl&gt;</th><th scope=col>&lt;dbl&gt;</th><th scope=col>&lt;dbl&gt;</th><th scope=col>&lt;dbl&gt;</th><th scope=col>&lt;dbl&gt;</th><th scope=col>&lt;chr&gt;</th><th scope=col>&lt;lgl&gt;</th><th scope=col>&lt;chr&gt;</th><th scope=col>&lt;chr&gt;</th><th scope=col>&lt;chr&gt;</th></tr>\n",
       "</thead>\n",
       "<tbody>\n",
       "\t<tr><th scope=row>1</th><td>TP53  </td><td>PIK3CA</td><td>TP53 - PIK3CA</td><td>12075</td><td> 3970</td><td>0.43396226</td><td>0.14267745</td><td>1429</td><td>1055.34778</td><td>3243</td><td>⋯</td><td>-296.1027</td><td>-13.019157</td><td>0</td><td>16045</td><td>0</td><td>ME</td><td>TRUE</td><td>MSK Primary</td><td>all</td><td>Pan-can</td></tr>\n",
       "\t<tr><th scope=row>2</th><td>KRAS  </td><td>EGFR  </td><td>KRAS - EGFR  </td><td> 5622</td><td> 1259</td><td>0.20204852</td><td>0.04524708</td><td>  36</td><td>  15.12377</td><td>1032</td><td>⋯</td><td>-192.4016</td><td> -6.245916</td><td>0</td><td> 6881</td><td>0</td><td>ME</td><td>TRUE</td><td>MSK Primary</td><td>all</td><td>Pan-can</td></tr>\n",
       "\t<tr><th scope=row>3</th><td>PTEN  </td><td>TP53  </td><td>PTEN - TP53  </td><td> 2469</td><td>12075</td><td>0.08873315</td><td>0.43396226</td><td> 695</td><td> 468.87573</td><td>1655</td><td>⋯</td><td>-172.3259</td><td> -9.869776</td><td>0</td><td>14544</td><td>0</td><td>ME</td><td>TRUE</td><td>MSK Primary</td><td>all</td><td>Pan-can</td></tr>\n",
       "\t<tr><th scope=row>4</th><td>ARID1A</td><td>TP53  </td><td>ARID1A - TP53</td><td> 2866</td><td>12075</td><td>0.10300090</td><td>0.43396226</td><td> 988</td><td> 630.94088</td><td>2150</td><td>⋯</td><td>-168.1535</td><td>-10.759211</td><td>0</td><td>14941</td><td>0</td><td>ME</td><td>TRUE</td><td>MSK Primary</td><td>all</td><td>Pan-can</td></tr>\n",
       "\t<tr><th scope=row>5</th><td>KRAS  </td><td>TP53  </td><td>KRAS - TP53  </td><td> 5622</td><td>12075</td><td>0.20204852</td><td>0.43396226</td><td>2773</td><td>2418.48500</td><td>5013</td><td>⋯</td><td>-132.9546</td><td>-15.025226</td><td>0</td><td>17697</td><td>0</td><td>ME</td><td>TRUE</td><td>MSK Primary</td><td>all</td><td>Pan-can</td></tr>\n",
       "\t<tr><th scope=row>6</th><td>TP53  </td><td>APC   </td><td>TP53 - APC   </td><td>12075</td><td> 3486</td><td>0.43396226</td><td>0.12528302</td><td>2302</td><td>1905.36483</td><td>3239</td><td>⋯</td><td> 130.2265</td><td> 12.274751</td><td>0</td><td>15561</td><td>0</td><td>CO</td><td>TRUE</td><td>MSK Primary</td><td>all</td><td>Pan-can</td></tr>\n",
       "</tbody>\n",
       "</table>\n"
      ],
      "text/latex": [
       "A data.frame: 6 × 25\n",
       "\\begin{tabular}{r|lllllllllllllllllllll}\n",
       "  & SFE\\_1 & SFE\\_2 & name & support\\_1 & support\\_2 & freq\\_1 & freq\\_2 & overlap & w\\_overlap & max\\_overlap & ⋯ & nES & mean\\_r\\_nES & nFDR & cum\\_freq & nFDR2 & type & FDR & Cohort & Panel & Tumor\\_run\\\\\n",
       "  & <chr> & <chr> & <chr> & <dbl> & <dbl> & <dbl> & <dbl> & <dbl> & <dbl> & <dbl> & ⋯ & <dbl> & <dbl> & <dbl> & <dbl> & <dbl> & <chr> & <lgl> & <chr> & <chr> & <chr>\\\\\n",
       "\\hline\n",
       "\t1 & TP53   & PIK3CA & TP53 - PIK3CA & 12075 &  3970 & 0.43396226 & 0.14267745 & 1429 & 1055.34778 & 3243 & ⋯ & -296.1027 & -13.019157 & 0 & 16045 & 0 & ME & TRUE & MSK Primary & all & Pan-can\\\\\n",
       "\t2 & KRAS   & EGFR   & KRAS - EGFR   &  5622 &  1259 & 0.20204852 & 0.04524708 &   36 &   15.12377 & 1032 & ⋯ & -192.4016 &  -6.245916 & 0 &  6881 & 0 & ME & TRUE & MSK Primary & all & Pan-can\\\\\n",
       "\t3 & PTEN   & TP53   & PTEN - TP53   &  2469 & 12075 & 0.08873315 & 0.43396226 &  695 &  468.87573 & 1655 & ⋯ & -172.3259 &  -9.869776 & 0 & 14544 & 0 & ME & TRUE & MSK Primary & all & Pan-can\\\\\n",
       "\t4 & ARID1A & TP53   & ARID1A - TP53 &  2866 & 12075 & 0.10300090 & 0.43396226 &  988 &  630.94088 & 2150 & ⋯ & -168.1535 & -10.759211 & 0 & 14941 & 0 & ME & TRUE & MSK Primary & all & Pan-can\\\\\n",
       "\t5 & KRAS   & TP53   & KRAS - TP53   &  5622 & 12075 & 0.20204852 & 0.43396226 & 2773 & 2418.48500 & 5013 & ⋯ & -132.9546 & -15.025226 & 0 & 17697 & 0 & ME & TRUE & MSK Primary & all & Pan-can\\\\\n",
       "\t6 & TP53   & APC    & TP53 - APC    & 12075 &  3486 & 0.43396226 & 0.12528302 & 2302 & 1905.36483 & 3239 & ⋯ &  130.2265 &  12.274751 & 0 & 15561 & 0 & CO & TRUE & MSK Primary & all & Pan-can\\\\\n",
       "\\end{tabular}\n"
      ],
      "text/markdown": [
       "\n",
       "A data.frame: 6 × 25\n",
       "\n",
       "| <!--/--> | SFE_1 &lt;chr&gt; | SFE_2 &lt;chr&gt; | name &lt;chr&gt; | support_1 &lt;dbl&gt; | support_2 &lt;dbl&gt; | freq_1 &lt;dbl&gt; | freq_2 &lt;dbl&gt; | overlap &lt;dbl&gt; | w_overlap &lt;dbl&gt; | max_overlap &lt;dbl&gt; | ⋯ ⋯ | nES &lt;dbl&gt; | mean_r_nES &lt;dbl&gt; | nFDR &lt;dbl&gt; | cum_freq &lt;dbl&gt; | nFDR2 &lt;dbl&gt; | type &lt;chr&gt; | FDR &lt;lgl&gt; | Cohort &lt;chr&gt; | Panel &lt;chr&gt; | Tumor_run &lt;chr&gt; |\n",
       "|---|---|---|---|---|---|---|---|---|---|---|---|---|---|---|---|---|---|---|---|---|---|\n",
       "| 1 | TP53   | PIK3CA | TP53 - PIK3CA | 12075 |  3970 | 0.43396226 | 0.14267745 | 1429 | 1055.34778 | 3243 | ⋯ | -296.1027 | -13.019157 | 0 | 16045 | 0 | ME | TRUE | MSK Primary | all | Pan-can |\n",
       "| 2 | KRAS   | EGFR   | KRAS - EGFR   |  5622 |  1259 | 0.20204852 | 0.04524708 |   36 |   15.12377 | 1032 | ⋯ | -192.4016 |  -6.245916 | 0 |  6881 | 0 | ME | TRUE | MSK Primary | all | Pan-can |\n",
       "| 3 | PTEN   | TP53   | PTEN - TP53   |  2469 | 12075 | 0.08873315 | 0.43396226 |  695 |  468.87573 | 1655 | ⋯ | -172.3259 |  -9.869776 | 0 | 14544 | 0 | ME | TRUE | MSK Primary | all | Pan-can |\n",
       "| 4 | ARID1A | TP53   | ARID1A - TP53 |  2866 | 12075 | 0.10300090 | 0.43396226 |  988 |  630.94088 | 2150 | ⋯ | -168.1535 | -10.759211 | 0 | 14941 | 0 | ME | TRUE | MSK Primary | all | Pan-can |\n",
       "| 5 | KRAS   | TP53   | KRAS - TP53   |  5622 | 12075 | 0.20204852 | 0.43396226 | 2773 | 2418.48500 | 5013 | ⋯ | -132.9546 | -15.025226 | 0 | 17697 | 0 | ME | TRUE | MSK Primary | all | Pan-can |\n",
       "| 6 | TP53   | APC    | TP53 - APC    | 12075 |  3486 | 0.43396226 | 0.12528302 | 2302 | 1905.36483 | 3239 | ⋯ |  130.2265 |  12.274751 | 0 | 15561 | 0 | CO | TRUE | MSK Primary | all | Pan-can |\n",
       "\n"
      ],
      "text/plain": [
       "  SFE_1  SFE_2  name          support_1 support_2 freq_1     freq_2     overlap\n",
       "1 TP53   PIK3CA TP53 - PIK3CA 12075      3970     0.43396226 0.14267745 1429   \n",
       "2 KRAS   EGFR   KRAS - EGFR    5622      1259     0.20204852 0.04524708   36   \n",
       "3 PTEN   TP53   PTEN - TP53    2469     12075     0.08873315 0.43396226  695   \n",
       "4 ARID1A TP53   ARID1A - TP53  2866     12075     0.10300090 0.43396226  988   \n",
       "5 KRAS   TP53   KRAS - TP53    5622     12075     0.20204852 0.43396226 2773   \n",
       "6 TP53   APC    TP53 - APC    12075      3486     0.43396226 0.12528302 2302   \n",
       "  w_overlap  max_overlap ⋯ nES       mean_r_nES nFDR cum_freq nFDR2 type FDR \n",
       "1 1055.34778 3243        ⋯ -296.1027 -13.019157 0    16045    0     ME   TRUE\n",
       "2   15.12377 1032        ⋯ -192.4016  -6.245916 0     6881    0     ME   TRUE\n",
       "3  468.87573 1655        ⋯ -172.3259  -9.869776 0    14544    0     ME   TRUE\n",
       "4  630.94088 2150        ⋯ -168.1535 -10.759211 0    14941    0     ME   TRUE\n",
       "5 2418.48500 5013        ⋯ -132.9546 -15.025226 0    17697    0     ME   TRUE\n",
       "6 1905.36483 3239        ⋯  130.2265  12.274751 0    15561    0     CO   TRUE\n",
       "  Cohort      Panel Tumor_run\n",
       "1 MSK Primary all   Pan-can  \n",
       "2 MSK Primary all   Pan-can  \n",
       "3 MSK Primary all   Pan-can  \n",
       "4 MSK Primary all   Pan-can  \n",
       "5 MSK Primary all   Pan-can  \n",
       "6 MSK Primary all   Pan-can  "
      ]
     },
     "metadata": {},
     "output_type": "display_data"
    }
   ],
   "source": [
    "head(all_result_merged_msk)"
   ]
  },
  {
   "cell_type": "code",
   "execution_count": null,
   "id": "8f1ddedb-52a9-4898-9179-0f3a5bc76123",
   "metadata": {},
   "outputs": [],
   "source": [
    "saveRDS(all_result_merged_msk,file='/mnt/ndata/arvind/co_mutation_project/analysis/catalogue/results/all_merged_result_msk_v15.rds')"
   ]
  }
 ],
 "metadata": {
  "kernelspec": {
   "display_name": "R",
   "language": "R",
   "name": "ir"
  },
  "language_info": {
   "codemirror_mode": "r",
   "file_extension": ".r",
   "mimetype": "text/x-r-source",
   "name": "R",
   "pygments_lexer": "r",
   "version": "4.3.2"
  }
 },
 "nbformat": 4,
 "nbformat_minor": 5
}
