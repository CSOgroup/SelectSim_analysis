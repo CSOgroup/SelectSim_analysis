{
 "cells": [
  {
   "cell_type": "code",
   "execution_count": 1,
   "id": "2d5f2b15-e9b6-4588-a8e8-5111601aee31",
   "metadata": {
    "tags": []
   },
   "outputs": [
    {
     "name": "stderr",
     "output_type": "stream",
     "text": [
      "── \u001b[1mAttaching core tidyverse packages\u001b[22m ───────────────────────────────────────────────────────────────────────────────────────────────────────────────────────────────────── tidyverse 2.0.0 ──\n",
      "\u001b[32m✔\u001b[39m \u001b[34mdplyr    \u001b[39m 1.1.4     \u001b[32m✔\u001b[39m \u001b[34mreadr    \u001b[39m 2.1.5\n",
      "\u001b[32m✔\u001b[39m \u001b[34mforcats  \u001b[39m 1.0.0     \u001b[32m✔\u001b[39m \u001b[34mstringr  \u001b[39m 1.5.1\n",
      "\u001b[32m✔\u001b[39m \u001b[34mggplot2  \u001b[39m 3.4.4     \u001b[32m✔\u001b[39m \u001b[34mtibble   \u001b[39m 3.2.1\n",
      "\u001b[32m✔\u001b[39m \u001b[34mlubridate\u001b[39m 1.9.3     \u001b[32m✔\u001b[39m \u001b[34mtidyr    \u001b[39m 1.3.0\n",
      "\u001b[32m✔\u001b[39m \u001b[34mpurrr    \u001b[39m 1.0.2     \n",
      "── \u001b[1mConflicts\u001b[22m ─────────────────────────────────────────────────────────────────────────────────────────────────────────────────────────────────────────────────────── tidyverse_conflicts() ──\n",
      "\u001b[31m✖\u001b[39m \u001b[34mdplyr\u001b[39m::\u001b[32mfilter()\u001b[39m masks \u001b[34mstats\u001b[39m::filter()\n",
      "\u001b[31m✖\u001b[39m \u001b[34mdplyr\u001b[39m::\u001b[32mlag()\u001b[39m    masks \u001b[34mstats\u001b[39m::lag()\n",
      "\u001b[36mℹ\u001b[39m Use the conflicted package (\u001b[3m\u001b[34m<http://conflicted.r-lib.org/>\u001b[39m\u001b[23m) to force all conflicts to become errors\n"
     ]
    }
   ],
   "source": [
    "library('SelectSim')\n",
    "library('tidyverse')"
   ]
  },
  {
   "cell_type": "code",
   "execution_count": 2,
   "id": "9670d483-eab5-4414-b3f1-8e785e9286c0",
   "metadata": {
    "scrolled": true,
    "tags": []
   },
   "outputs": [
    {
     "data": {
      "text/plain": [
       "R version 4.3.2 (2023-10-31)\n",
       "Platform: x86_64-conda-linux-gnu (64-bit)\n",
       "Running under: CentOS Linux 7 (Core)\n",
       "\n",
       "Matrix products: default\n",
       "BLAS/LAPACK: /mnt/ndata/arvind/envs/R_4/lib/libopenblasp-r0.3.25.so;  LAPACK version 3.11.0\n",
       "\n",
       "locale:\n",
       " [1] LC_CTYPE=en_US.UTF-8       LC_NUMERIC=C              \n",
       " [3] LC_TIME=en_US.UTF-8        LC_COLLATE=en_US.UTF-8    \n",
       " [5] LC_MONETARY=en_US.UTF-8    LC_MESSAGES=en_US.UTF-8   \n",
       " [7] LC_PAPER=en_US.UTF-8       LC_NAME=C                 \n",
       " [9] LC_ADDRESS=C               LC_TELEPHONE=C            \n",
       "[11] LC_MEASUREMENT=en_US.UTF-8 LC_IDENTIFICATION=C       \n",
       "\n",
       "time zone: Europe/Zurich\n",
       "tzcode source: system (glibc)\n",
       "\n",
       "attached base packages:\n",
       "[1] stats     graphics  grDevices utils     datasets  methods   base     \n",
       "\n",
       "other attached packages:\n",
       " [1] lubridate_1.9.3   forcats_1.0.0     stringr_1.5.1     dplyr_1.1.4      \n",
       " [5] purrr_1.0.2       readr_2.1.5       tidyr_1.3.0       tibble_3.2.1     \n",
       " [9] ggplot2_3.4.4     tidyverse_2.0.0   SelectSim_0.0.1.3\n",
       "\n",
       "loaded via a namespace (and not attached):\n",
       " [1] gtable_0.3.4       rstatix_0.7.2      lattice_0.22-5     tzdb_0.4.0        \n",
       " [5] vctrs_0.6.5        tools_4.3.2        generics_0.1.3     parallel_4.3.2    \n",
       " [9] fansi_1.0.6        pkgconfig_2.0.3    Matrix_1.6-5       ggridges_0.5.5    \n",
       "[13] rngtools_1.5.2     RcppParallel_5.1.6 uuid_1.2-0         lifecycle_1.0.4   \n",
       "[17] compiler_4.3.2     tictoc_1.2         munsell_0.5.0      repr_1.1.6        \n",
       "[21] codetools_0.2-19   carData_3.0-5      htmltools_0.5.7    pillar_1.9.0      \n",
       "[25] car_3.1-2          ggpubr_0.6.0       crayon_1.5.2       doRNG_1.8.6       \n",
       "[29] iterators_1.0.14   abind_1.4-5        foreach_1.5.2      tidyselect_1.2.0  \n",
       "[33] digest_0.6.34      stringi_1.8.3      reshape2_1.4.4     fastmap_1.1.1     \n",
       "[37] grid_4.3.2         colorspace_2.1-0   cli_3.6.2          magrittr_2.0.3    \n",
       "[41] base64enc_0.1-3    Rfast_2.1.0        utf8_1.2.4         IRdisplay_1.1     \n",
       "[45] broom_1.0.5        withr_3.0.0        scales_1.3.0       backports_1.4.1   \n",
       "[49] IRkernel_1.3.2     RcppZiggurat_0.1.6 timechange_0.3.0   pbdZMQ_0.3-11     \n",
       "[53] ggsignif_0.6.4     hms_1.1.3          evaluate_0.23      doParallel_1.0.17 \n",
       "[57] rlang_1.1.3        Rcpp_1.0.12        glue_1.7.0         jsonlite_1.8.8    \n",
       "[61] R6_2.5.1           plyr_1.8.9        "
      ]
     },
     "metadata": {},
     "output_type": "display_data"
    }
   ],
   "source": [
    "sessionInfo()"
   ]
  },
  {
   "cell_type": "markdown",
   "id": "85a524c3-c6cc-451a-8ae0-afb6beecd820",
   "metadata": {},
   "source": [
    "# Metadata"
   ]
  },
  {
   "cell_type": "code",
   "execution_count": 3,
   "id": "e9438d8c-4bd8-4610-a59e-16ab21d6e6d0",
   "metadata": {
    "tags": []
   },
   "outputs": [],
   "source": [
    "all_merged_metdata <- readRDS(file='/mnt/ndata/arvind/co_mutation_project/data/processed/all_merged_data_genie_v15.rds')"
   ]
  },
  {
   "cell_type": "code",
   "execution_count": 4,
   "id": "5bb0e6c7-7afc-4720-80cd-d74c09e89973",
   "metadata": {
    "tags": []
   },
   "outputs": [
    {
     "data": {
      "text/html": [
       "<table class=\"dataframe\">\n",
       "<caption>A data.frame: 2 × 10</caption>\n",
       "<thead>\n",
       "\t<tr><th></th><th scope=col>sample</th><th scope=col>class</th><th scope=col>tumor_run</th><th scope=col>oncotree</th><th scope=col>cancer_type</th><th scope=col>race</th><th scope=col>cohort</th><th scope=col>tumor_run_mapped</th><th scope=col>Tissue</th><th scope=col>final_tumor_run_mapped</th></tr>\n",
       "\t<tr><th></th><th scope=col>&lt;chr&gt;</th><th scope=col>&lt;chr&gt;</th><th scope=col>&lt;chr&gt;</th><th scope=col>&lt;chr&gt;</th><th scope=col>&lt;chr&gt;</th><th scope=col>&lt;chr&gt;</th><th scope=col>&lt;chr&gt;</th><th scope=col>&lt;chr&gt;</th><th scope=col>&lt;chr&gt;</th><th scope=col>&lt;chr&gt;</th></tr>\n",
       "</thead>\n",
       "<tbody>\n",
       "\t<tr><th scope=row>1</th><td>TCGA-OR-A5J5-01</td><td>ACC</td><td>ACC</td><td>ACC</td><td>Adrenocortical Carcinoma</td><td>White</td><td>TCGA</td><td>No mapping</td><td>Adrenal Gland</td><td>ACC</td></tr>\n",
       "\t<tr><th scope=row>2</th><td>TCGA-OR-A5JB-01</td><td>ACC</td><td>ACC</td><td>ACC</td><td>Adrenocortical Carcinoma</td><td>White</td><td>TCGA</td><td>No mapping</td><td>Adrenal Gland</td><td>ACC</td></tr>\n",
       "</tbody>\n",
       "</table>\n"
      ],
      "text/latex": [
       "A data.frame: 2 × 10\n",
       "\\begin{tabular}{r|llllllllll}\n",
       "  & sample & class & tumor\\_run & oncotree & cancer\\_type & race & cohort & tumor\\_run\\_mapped & Tissue & final\\_tumor\\_run\\_mapped\\\\\n",
       "  & <chr> & <chr> & <chr> & <chr> & <chr> & <chr> & <chr> & <chr> & <chr> & <chr>\\\\\n",
       "\\hline\n",
       "\t1 & TCGA-OR-A5J5-01 & ACC & ACC & ACC & Adrenocortical Carcinoma & White & TCGA & No mapping & Adrenal Gland & ACC\\\\\n",
       "\t2 & TCGA-OR-A5JB-01 & ACC & ACC & ACC & Adrenocortical Carcinoma & White & TCGA & No mapping & Adrenal Gland & ACC\\\\\n",
       "\\end{tabular}\n"
      ],
      "text/markdown": [
       "\n",
       "A data.frame: 2 × 10\n",
       "\n",
       "| <!--/--> | sample &lt;chr&gt; | class &lt;chr&gt; | tumor_run &lt;chr&gt; | oncotree &lt;chr&gt; | cancer_type &lt;chr&gt; | race &lt;chr&gt; | cohort &lt;chr&gt; | tumor_run_mapped &lt;chr&gt; | Tissue &lt;chr&gt; | final_tumor_run_mapped &lt;chr&gt; |\n",
       "|---|---|---|---|---|---|---|---|---|---|---|\n",
       "| 1 | TCGA-OR-A5J5-01 | ACC | ACC | ACC | Adrenocortical Carcinoma | White | TCGA | No mapping | Adrenal Gland | ACC |\n",
       "| 2 | TCGA-OR-A5JB-01 | ACC | ACC | ACC | Adrenocortical Carcinoma | White | TCGA | No mapping | Adrenal Gland | ACC |\n",
       "\n"
      ],
      "text/plain": [
       "  sample          class tumor_run oncotree cancer_type              race \n",
       "1 TCGA-OR-A5J5-01 ACC   ACC       ACC      Adrenocortical Carcinoma White\n",
       "2 TCGA-OR-A5JB-01 ACC   ACC       ACC      Adrenocortical Carcinoma White\n",
       "  cohort tumor_run_mapped Tissue        final_tumor_run_mapped\n",
       "1 TCGA   No mapping       Adrenal Gland ACC                   \n",
       "2 TCGA   No mapping       Adrenal Gland ACC                   "
      ]
     },
     "metadata": {},
     "output_type": "display_data"
    }
   ],
   "source": [
    "head(all_merged_metdata,2)"
   ]
  },
  {
   "cell_type": "markdown",
   "id": "4385c59a-4521-4dbb-926d-5bce67113abd",
   "metadata": {},
   "source": [
    "## TCGA Pan-Cancer "
   ]
  },
  {
   "cell_type": "code",
   "execution_count": 5,
   "id": "42433971-fbee-448c-897b-69cce7d12f73",
   "metadata": {
    "tags": []
   },
   "outputs": [],
   "source": [
    "run_data<-readRDS('/mnt/ndata/arvind/co_mutation_project/data/processed/gams/pan_can_tcga_run_data.rds')"
   ]
  },
  {
   "cell_type": "code",
   "execution_count": 6,
   "id": "4c1da033-a224-4aef-94ec-3662930f6300",
   "metadata": {
    "tags": []
   },
   "outputs": [
    {
     "name": "stdout",
     "output_type": "stream",
     "text": [
      "List of 3\n",
      " $ M               :List of 2\n",
      "  ..$ M  :List of 2\n",
      "  .. ..$ missense  : num [1:396, 1:9082] 0 0 0 0 0 0 0 0 0 0 ...\n",
      "  .. .. ..- attr(*, \"dimnames\")=List of 2\n",
      "  .. .. .. ..$ : chr [1:396] \"AKT1\" \"ALK\" \"APC\" \"AR\" ...\n",
      "  .. .. .. ..$ : chr [1:9082] \"TCGA-02-0047-01\" \"TCGA-02-0055-01\" \"TCGA-AB-2805-03\" \"TCGA-AB-2806-03\" ...\n",
      "  .. ..$ truncating: num [1:396, 1:9082] 0 0 0 0 0 0 0 0 0 0 ...\n",
      "  .. .. ..- attr(*, \"dimnames\")=List of 2\n",
      "  .. .. .. ..$ : chr [1:396] \"AKT1\" \"ALK\" \"APC\" \"AR\" ...\n",
      "  .. .. .. ..$ : chr [1:9082] \"TCGA-02-0047-01\" \"TCGA-02-0055-01\" \"TCGA-AB-2805-03\" \"TCGA-AB-2806-03\" ...\n",
      "  ..$ tmb:List of 2\n",
      "  .. ..$ missense  :'data.frame':\t9082 obs. of  2 variables:\n",
      "  .. .. ..$ sample  : chr [1:9082] \"TCGA-02-0047-01\" \"TCGA-02-0055-01\" \"TCGA-AB-2805-03\" \"TCGA-AB-2806-03\" ...\n",
      "  .. .. ..$ mutation: num [1:9082] 56 47 40 422 214 588 14 8 19 8 ...\n",
      "  .. ..$ truncating:'data.frame':\t9082 obs. of  2 variables:\n",
      "  .. .. ..$ sample  : chr [1:9082] \"TCGA-02-0047-01\" \"TCGA-02-0055-01\" \"TCGA-AB-2805-03\" \"TCGA-AB-2806-03\" ...\n",
      "  .. .. ..$ mutation: num [1:9082] 7 3 17 85 47 183 3 3 1 2 ...\n",
      " $ sample.class    : Named chr [1:9082] \"GBM\" \"GBM\" \"LAML\" \"LAML\" ...\n",
      "  ..- attr(*, \"names\")= chr [1:9082] \"TCGA-02-0047-01\" \"TCGA-02-0055-01\" \"TCGA-AB-2805-03\" \"TCGA-AB-2806-03\" ...\n",
      " $ alteration.class: Named chr [1:396] \"MUT\" \"MUT\" \"MUT\" \"MUT\" ...\n",
      "  ..- attr(*, \"names\")= chr [1:396] \"AKT1\" \"ALK\" \"APC\" \"AR\" ...\n"
     ]
    }
   ],
   "source": [
    "str(run_data)"
   ]
  },
  {
   "cell_type": "code",
   "execution_count": 7,
   "id": "361b2075-a4da-4c94-9977-cc7cd3f6edbe",
   "metadata": {
    "tags": []
   },
   "outputs": [
    {
     "data": {
      "text/plain": [
       "\n",
       "                   ACC                   BLCA             BRCA_Basal \n",
       "                    76                    398                    171 \n",
       "             BRCA_Her2              BRCA_LumA              BRCA_LumB \n",
       "                    78                    499                    197 \n",
       "           BRCA_Normal    CESC_AdenoCarcinoma CESC_SquamousCarcinoma \n",
       "                    36                     43                    229 \n",
       "                  CHOL                CRC_CIN                 CRC_GS \n",
       "                    36                    328                     58 \n",
       "               CRC_MSI                   DLBC               ESCA_CIN \n",
       "                    63                     37                     74 \n",
       "             ESCA_ESCC                    GBM              HNSC_HPV- \n",
       "                    90                    126                    415 \n",
       "             HNSC_HPV+                   KICH                   KIRC \n",
       "                    72                     65                    352 \n",
       "                  KIRP                   LAML       LGG_IDHmut-codel \n",
       "                   271                    162                    167 \n",
       "  LGG_IDHmut-non-codel              LGG_IDHwt                   LIHC \n",
       "                   248                     92                    348 \n",
       "                  LUAD                   LUSC                   MESO \n",
       "                   502                    464                     82 \n",
       "                    OV                   PAAD                   PCPG \n",
       "                   177                    152                    161 \n",
       "                  PRAD             SARC_DDLPS               SARC_LMS \n",
       "                   479                     46                     83 \n",
       "          SARC_MFS/UPS             SARC_Other                   SKCM \n",
       "                    80                     20                    363 \n",
       "              STAD_CIN               STAD_EBV                STAD_GS \n",
       "                   223                     30                     50 \n",
       "              STAD_MSI      TGCT_non-seminoma          TGCT_seminoma \n",
       "                    73                     82                     62 \n",
       "                  THCA                   THYM           UCEC_CN_HIGH \n",
       "                   480                    119                    163 \n",
       "           UCEC_CN_LOW               UCEC_MSI              UCEC_POLE \n",
       "                   147                    144                     33 \n",
       "                   UCS                    UVM \n",
       "                    56                     80 "
      ]
     },
     "metadata": {},
     "output_type": "display_data"
    }
   ],
   "source": [
    "table(run_data$sample.class)"
   ]
  },
  {
   "cell_type": "code",
   "execution_count": null,
   "id": "5b3a9ab8-dfc9-4553-9c30-dd3e009d6234",
   "metadata": {
    "scrolled": true
   },
   "outputs": [],
   "source": [
    "obj <- selectX( M = run_data$M,\n",
    "                sample.class = run_data$sample.class,\n",
    "                alteration.class = run_data$alteration.class,\n",
    "                n.cores = 30,\n",
    "                min.freq = (0.001*9082),\n",
    "                n.permut = 1000,\n",
    "                lambda = 0.3,\n",
    "                tao = 1,\n",
    "                save.object = FALSE,\n",
    "                verbose = FALSE,\n",
    "                estimate_pairwise = FALSE,\n",
    "                maxFDR = 0.25)"
   ]
  },
  {
   "cell_type": "code",
   "execution_count": null,
   "id": "c9618567-5c5b-4363-a6a3-a65c9354d221",
   "metadata": {},
   "outputs": [],
   "source": [
    "# Save the result\n",
    "saveRDS(obj,'../results/pan_can_tcga_run_result.rds')"
   ]
  },
  {
   "cell_type": "markdown",
   "id": "55f145c8-f40c-4f9d-a33c-dc1cc6018a77",
   "metadata": {
    "tags": []
   },
   "source": [
    "## TCGA Tumor Type Runs"
   ]
  },
  {
   "cell_type": "code",
   "execution_count": 8,
   "id": "78060c75-3a65-4a37-b3a9-4f9dd753fa07",
   "metadata": {
    "scrolled": true
   },
   "outputs": [
    {
     "data": {
      "text/plain": [
       "\n",
       "                   ACC                   BLCA             BRCA_Basal \n",
       "                    76                    398                    171 \n",
       "             BRCA_Her2              BRCA_LumA              BRCA_LumB \n",
       "                    78                    499                    197 \n",
       "           BRCA_Normal    CESC_AdenoCarcinoma CESC_SquamousCarcinoma \n",
       "                    36                     43                    229 \n",
       "                  CHOL                CRC_CIN                 CRC_GS \n",
       "                    36                    328                     58 \n",
       "               CRC_MSI                   DLBC               ESCA_CIN \n",
       "                    63                     37                     74 \n",
       "             ESCA_ESCC                    GBM              HNSC_HPV- \n",
       "                    90                    126                    415 \n",
       "             HNSC_HPV+                   KICH                   KIRC \n",
       "                    72                     65                    352 \n",
       "                  KIRP                   LAML       LGG_IDHmut-codel \n",
       "                   271                    162                    167 \n",
       "  LGG_IDHmut-non-codel              LGG_IDHwt                   LIHC \n",
       "                   248                     92                    348 \n",
       "                  LUAD                   LUSC                   MESO \n",
       "                   502                    464                     82 \n",
       "                    OV                   PAAD                   PCPG \n",
       "                   177                    152                    161 \n",
       "                  PRAD             SARC_DDLPS               SARC_LMS \n",
       "                   479                     46                     83 \n",
       "          SARC_MFS/UPS             SARC_Other                   SKCM \n",
       "                    80                     20                    363 \n",
       "              STAD_CIN               STAD_EBV                STAD_GS \n",
       "                   223                     30                     50 \n",
       "              STAD_MSI      TGCT_non-seminoma          TGCT_seminoma \n",
       "                    73                     82                     62 \n",
       "                  THCA                   THYM           UCEC_CN_HIGH \n",
       "                   480                    119                    163 \n",
       "           UCEC_CN_LOW               UCEC_MSI              UCEC_POLE \n",
       "                   147                    144                     33 \n",
       "                   UCS                    UVM \n",
       "                    56                     80 "
      ]
     },
     "metadata": {},
     "output_type": "display_data"
    }
   ],
   "source": [
    "table(run_data$sample.class)"
   ]
  },
  {
   "cell_type": "code",
   "execution_count": 10,
   "id": "4480e667-180e-4cba-bd90-d6658af750d6",
   "metadata": {},
   "outputs": [
    {
     "data": {
      "text/html": [
       "<table class=\"dataframe\">\n",
       "<caption>A data.frame: 6 × 10</caption>\n",
       "<thead>\n",
       "\t<tr><th></th><th scope=col>sample</th><th scope=col>class</th><th scope=col>tumor_run</th><th scope=col>oncotree</th><th scope=col>cancer_type</th><th scope=col>race</th><th scope=col>cohort</th><th scope=col>tumor_run_mapped</th><th scope=col>Tissue</th><th scope=col>final_tumor_run_mapped</th></tr>\n",
       "\t<tr><th></th><th scope=col>&lt;chr&gt;</th><th scope=col>&lt;chr&gt;</th><th scope=col>&lt;chr&gt;</th><th scope=col>&lt;chr&gt;</th><th scope=col>&lt;chr&gt;</th><th scope=col>&lt;chr&gt;</th><th scope=col>&lt;chr&gt;</th><th scope=col>&lt;chr&gt;</th><th scope=col>&lt;chr&gt;</th><th scope=col>&lt;chr&gt;</th></tr>\n",
       "</thead>\n",
       "<tbody>\n",
       "\t<tr><th scope=row>1</th><td>TCGA-OR-A5J5-01</td><td>ACC</td><td>ACC</td><td>ACC</td><td>Adrenocortical Carcinoma</td><td>White</td><td>TCGA</td><td>No mapping</td><td>Adrenal Gland</td><td>ACC</td></tr>\n",
       "\t<tr><th scope=row>2</th><td>TCGA-OR-A5JB-01</td><td>ACC</td><td>ACC</td><td>ACC</td><td>Adrenocortical Carcinoma</td><td>White</td><td>TCGA</td><td>No mapping</td><td>Adrenal Gland</td><td>ACC</td></tr>\n",
       "\t<tr><th scope=row>3</th><td>TCGA-OR-A5JJ-01</td><td>ACC</td><td>ACC</td><td>ACC</td><td>Adrenocortical Carcinoma</td><td>White</td><td>TCGA</td><td>No mapping</td><td>Adrenal Gland</td><td>ACC</td></tr>\n",
       "\t<tr><th scope=row>4</th><td>TCGA-OR-A5JS-01</td><td>ACC</td><td>ACC</td><td>ACC</td><td>Adrenocortical Carcinoma</td><td>White</td><td>TCGA</td><td>No mapping</td><td>Adrenal Gland</td><td>ACC</td></tr>\n",
       "\t<tr><th scope=row>5</th><td>TCGA-OR-A5JY-01</td><td>ACC</td><td>ACC</td><td>ACC</td><td>Adrenocortical Carcinoma</td><td>White</td><td>TCGA</td><td>No mapping</td><td>Adrenal Gland</td><td>ACC</td></tr>\n",
       "\t<tr><th scope=row>6</th><td>TCGA-OR-A5K4-01</td><td>ACC</td><td>ACC</td><td>ACC</td><td>Adrenocortical Carcinoma</td><td>White</td><td>TCGA</td><td>No mapping</td><td>Adrenal Gland</td><td>ACC</td></tr>\n",
       "</tbody>\n",
       "</table>\n"
      ],
      "text/latex": [
       "A data.frame: 6 × 10\n",
       "\\begin{tabular}{r|llllllllll}\n",
       "  & sample & class & tumor\\_run & oncotree & cancer\\_type & race & cohort & tumor\\_run\\_mapped & Tissue & final\\_tumor\\_run\\_mapped\\\\\n",
       "  & <chr> & <chr> & <chr> & <chr> & <chr> & <chr> & <chr> & <chr> & <chr> & <chr>\\\\\n",
       "\\hline\n",
       "\t1 & TCGA-OR-A5J5-01 & ACC & ACC & ACC & Adrenocortical Carcinoma & White & TCGA & No mapping & Adrenal Gland & ACC\\\\\n",
       "\t2 & TCGA-OR-A5JB-01 & ACC & ACC & ACC & Adrenocortical Carcinoma & White & TCGA & No mapping & Adrenal Gland & ACC\\\\\n",
       "\t3 & TCGA-OR-A5JJ-01 & ACC & ACC & ACC & Adrenocortical Carcinoma & White & TCGA & No mapping & Adrenal Gland & ACC\\\\\n",
       "\t4 & TCGA-OR-A5JS-01 & ACC & ACC & ACC & Adrenocortical Carcinoma & White & TCGA & No mapping & Adrenal Gland & ACC\\\\\n",
       "\t5 & TCGA-OR-A5JY-01 & ACC & ACC & ACC & Adrenocortical Carcinoma & White & TCGA & No mapping & Adrenal Gland & ACC\\\\\n",
       "\t6 & TCGA-OR-A5K4-01 & ACC & ACC & ACC & Adrenocortical Carcinoma & White & TCGA & No mapping & Adrenal Gland & ACC\\\\\n",
       "\\end{tabular}\n"
      ],
      "text/markdown": [
       "\n",
       "A data.frame: 6 × 10\n",
       "\n",
       "| <!--/--> | sample &lt;chr&gt; | class &lt;chr&gt; | tumor_run &lt;chr&gt; | oncotree &lt;chr&gt; | cancer_type &lt;chr&gt; | race &lt;chr&gt; | cohort &lt;chr&gt; | tumor_run_mapped &lt;chr&gt; | Tissue &lt;chr&gt; | final_tumor_run_mapped &lt;chr&gt; |\n",
       "|---|---|---|---|---|---|---|---|---|---|---|\n",
       "| 1 | TCGA-OR-A5J5-01 | ACC | ACC | ACC | Adrenocortical Carcinoma | White | TCGA | No mapping | Adrenal Gland | ACC |\n",
       "| 2 | TCGA-OR-A5JB-01 | ACC | ACC | ACC | Adrenocortical Carcinoma | White | TCGA | No mapping | Adrenal Gland | ACC |\n",
       "| 3 | TCGA-OR-A5JJ-01 | ACC | ACC | ACC | Adrenocortical Carcinoma | White | TCGA | No mapping | Adrenal Gland | ACC |\n",
       "| 4 | TCGA-OR-A5JS-01 | ACC | ACC | ACC | Adrenocortical Carcinoma | White | TCGA | No mapping | Adrenal Gland | ACC |\n",
       "| 5 | TCGA-OR-A5JY-01 | ACC | ACC | ACC | Adrenocortical Carcinoma | White | TCGA | No mapping | Adrenal Gland | ACC |\n",
       "| 6 | TCGA-OR-A5K4-01 | ACC | ACC | ACC | Adrenocortical Carcinoma | White | TCGA | No mapping | Adrenal Gland | ACC |\n",
       "\n"
      ],
      "text/plain": [
       "  sample          class tumor_run oncotree cancer_type              race \n",
       "1 TCGA-OR-A5J5-01 ACC   ACC       ACC      Adrenocortical Carcinoma White\n",
       "2 TCGA-OR-A5JB-01 ACC   ACC       ACC      Adrenocortical Carcinoma White\n",
       "3 TCGA-OR-A5JJ-01 ACC   ACC       ACC      Adrenocortical Carcinoma White\n",
       "4 TCGA-OR-A5JS-01 ACC   ACC       ACC      Adrenocortical Carcinoma White\n",
       "5 TCGA-OR-A5JY-01 ACC   ACC       ACC      Adrenocortical Carcinoma White\n",
       "6 TCGA-OR-A5K4-01 ACC   ACC       ACC      Adrenocortical Carcinoma White\n",
       "  cohort tumor_run_mapped Tissue        final_tumor_run_mapped\n",
       "1 TCGA   No mapping       Adrenal Gland ACC                   \n",
       "2 TCGA   No mapping       Adrenal Gland ACC                   \n",
       "3 TCGA   No mapping       Adrenal Gland ACC                   \n",
       "4 TCGA   No mapping       Adrenal Gland ACC                   \n",
       "5 TCGA   No mapping       Adrenal Gland ACC                   \n",
       "6 TCGA   No mapping       Adrenal Gland ACC                   "
      ]
     },
     "metadata": {},
     "output_type": "display_data"
    }
   ],
   "source": [
    "(all_merged_metdata %>% filter(cohort=='TCGA')) %>% head()"
   ]
  },
  {
   "cell_type": "code",
   "execution_count": 12,
   "id": "90b33ffe-a07c-44f8-b0a8-d5f74f8a2eea",
   "metadata": {},
   "outputs": [
    {
     "data": {
      "text/plain": [
       "\n",
       "      ACC       AML      BLCA    Breast     CCRCC      CESC      CHOL       CRC \n",
       "       76       162       398       981       352       272        36       449 \n",
       "     DIFG      ESCA        GB       HCC      HNSC      Lung  Lymphoma       MEL \n",
       "      507       164       126       348       487       966        37       363 \n",
       "   NCCRCC      PAAD      PCPG    PLMESO Prostrate      SARC       SOC      STAD \n",
       "      336       152       161        82       479       229       177       376 \n",
       "     TGCT      THPA      THYM      UCEC        UM \n",
       "      144       480       119       543        80 "
      ]
     },
     "metadata": {},
     "output_type": "display_data"
    }
   ],
   "source": [
    "(table((all_merged_metdata %>% filter(cohort=='TCGA'))$tumor_run))"
   ]
  },
  {
   "cell_type": "code",
   "execution_count": 13,
   "id": "ec792f11-d365-4745-b17e-8e16cb04df13",
   "metadata": {},
   "outputs": [
    {
     "name": "stdout",
     "output_type": "stream",
     "text": [
      "List of 3\n",
      " $ M               :List of 2\n",
      "  ..$ M  :List of 2\n",
      "  .. ..$ missense  : num [1:396, 1:9082] 0 0 0 0 0 0 0 0 0 0 ...\n",
      "  .. .. ..- attr(*, \"dimnames\")=List of 2\n",
      "  .. .. .. ..$ : chr [1:396] \"AKT1\" \"ALK\" \"APC\" \"AR\" ...\n",
      "  .. .. .. ..$ : chr [1:9082] \"TCGA-02-0047-01\" \"TCGA-02-0055-01\" \"TCGA-AB-2805-03\" \"TCGA-AB-2806-03\" ...\n",
      "  .. ..$ truncating: num [1:396, 1:9082] 0 0 0 0 0 0 0 0 0 0 ...\n",
      "  .. .. ..- attr(*, \"dimnames\")=List of 2\n",
      "  .. .. .. ..$ : chr [1:396] \"AKT1\" \"ALK\" \"APC\" \"AR\" ...\n",
      "  .. .. .. ..$ : chr [1:9082] \"TCGA-02-0047-01\" \"TCGA-02-0055-01\" \"TCGA-AB-2805-03\" \"TCGA-AB-2806-03\" ...\n",
      "  ..$ tmb:List of 2\n",
      "  .. ..$ missense  :'data.frame':\t9082 obs. of  2 variables:\n",
      "  .. .. ..$ sample  : chr [1:9082] \"TCGA-02-0047-01\" \"TCGA-02-0055-01\" \"TCGA-AB-2805-03\" \"TCGA-AB-2806-03\" ...\n",
      "  .. .. ..$ mutation: num [1:9082] 56 47 40 422 214 588 14 8 19 8 ...\n",
      "  .. ..$ truncating:'data.frame':\t9082 obs. of  2 variables:\n",
      "  .. .. ..$ sample  : chr [1:9082] \"TCGA-02-0047-01\" \"TCGA-02-0055-01\" \"TCGA-AB-2805-03\" \"TCGA-AB-2806-03\" ...\n",
      "  .. .. ..$ mutation: num [1:9082] 7 3 17 85 47 183 3 3 1 2 ...\n",
      " $ sample.class    : Named chr [1:9082] \"GBM\" \"GBM\" \"LAML\" \"LAML\" ...\n",
      "  ..- attr(*, \"names\")= chr [1:9082] \"TCGA-02-0047-01\" \"TCGA-02-0055-01\" \"TCGA-AB-2805-03\" \"TCGA-AB-2806-03\" ...\n",
      " $ alteration.class: Named chr [1:396] \"MUT\" \"MUT\" \"MUT\" \"MUT\" ...\n",
      "  ..- attr(*, \"names\")= chr [1:396] \"AKT1\" \"ALK\" \"APC\" \"AR\" ...\n"
     ]
    }
   ],
   "source": [
    "str(run_data)"
   ]
  },
  {
   "cell_type": "code",
   "execution_count": 15,
   "id": "ea4c24e8-e483-4f09-838a-a96d7ad45342",
   "metadata": {
    "scrolled": true
   },
   "outputs": [],
   "source": [
    "global_sample_covariates <-(all_merged_metdata %>% filter(cohort=='TCGA'))$class\n",
    "names(global_sample_covariates)<-(all_merged_metdata %>% filter(cohort=='TCGA'))$sample"
   ]
  },
  {
   "cell_type": "code",
   "execution_count": 18,
   "id": "15c36dcd-883f-426c-a9b9-d5a674963422",
   "metadata": {},
   "outputs": [],
   "source": [
    "tumor_run_group <- names((table((all_merged_metdata %>% filter(cohort=='TCGA'))$tumor_run)))"
   ]
  },
  {
   "cell_type": "code",
   "execution_count": 19,
   "id": "87cb1b71-d91b-46b4-8edd-f68d56348453",
   "metadata": {
    "scrolled": true
   },
   "outputs": [
    {
     "name": "stdout",
     "output_type": "stream",
     "text": [
      "[1] \"ACC\"\n",
      "[1] \"AML\"\n",
      "[1] \"BLCA\"\n",
      "[1] \"Breast\"\n",
      "[1] \"CCRCC\"\n",
      "[1] \"CESC\"\n",
      "[1] \"CHOL\"\n",
      "[1] \"CRC\"\n",
      "[1] \"DIFG\"\n",
      "[1] \"ESCA\"\n",
      "[1] \"GB\"\n",
      "[1] \"HCC\"\n",
      "[1] \"HNSC\"\n",
      "[1] \"Lung\"\n",
      "[1] \"Lymphoma\"\n",
      "[1] \"MEL\"\n",
      "[1] \"NCCRCC\"\n",
      "[1] \"PAAD\"\n",
      "[1] \"PCPG\"\n",
      "[1] \"PLMESO\"\n",
      "[1] \"Prostrate\"\n",
      "[1] \"SARC\"\n",
      "[1] \"SOC\"\n",
      "[1] \"STAD\"\n",
      "[1] \"TGCT\"\n",
      "[1] \"THPA\"\n",
      "[1] \"THYM\"\n",
      "[1] \"UCEC\"\n",
      "[1] \"UM\"\n"
     ]
    }
   ],
   "source": [
    "tumor_type_run <- list()\n",
    "for(i in unique(tumor_run_group)){\n",
    "    samples <- ((all_merged_metdata %>% filter(cohort=='TCGA')) %>% filter(tumor_run==i))$sample\n",
    "    print(i)\n",
    "    gene_to_take <- rownames(run_data$M$M$missense)\n",
    "    order <- samples\n",
    "    data <- run_data\n",
    "    data$M$M$missense <- run_data$M$M$missense[gene_to_take,order]\n",
    "    data$M$M$truncating <- run_data$M$M$truncating[gene_to_take,order]\n",
    "    data$M$tmb$missense <- run_data$M$tmb$missense[order,]    \n",
    "    data$M$tmb$truncating <- run_data$M$tmb$truncating[order,]    \n",
    "\n",
    "    sample_covariates<-global_sample_covariates[samples]\n",
    "    data$sample.class<-sample_covariates\n",
    "    data$alteration.class<-run_data$alteration.class\n",
    "    tumor_type_run[[i]]<-data\n",
    "}"
   ]
  },
  {
   "cell_type": "code",
   "execution_count": 20,
   "id": "39f18358-4904-459b-a27e-b85516cbdbd4",
   "metadata": {},
   "outputs": [
    {
     "data": {
      "text/html": [
       "29"
      ],
      "text/latex": [
       "29"
      ],
      "text/markdown": [
       "29"
      ],
      "text/plain": [
       "[1] 29"
      ]
     },
     "metadata": {},
     "output_type": "display_data"
    }
   ],
   "source": [
    "length(tumor_type_run)"
   ]
  },
  {
   "cell_type": "code",
   "execution_count": 21,
   "id": "254b4526-34b3-4375-8e13-b4ec73208765",
   "metadata": {
    "scrolled": true
   },
   "outputs": [
    {
     "name": "stdout",
     "output_type": "stream",
     "text": [
      "[1] \"ACC 0.076\"\n",
      "[1] \"AML 0.162\"\n",
      "[1] \"BLCA 0.398\"\n",
      "[1] \"Breast 0.981\"\n",
      "[1] \"CCRCC 0.352\"\n",
      "[1] \"CESC 0.272\"\n",
      "[1] \"CHOL 0.036\"\n",
      "[1] \"CRC 0.449\"\n",
      "[1] \"DIFG 0.507\"\n",
      "[1] \"ESCA 0.164\"\n",
      "[1] \"GB 0.126\"\n",
      "[1] \"HCC 0.348\"\n",
      "[1] \"HNSC 0.487\"\n",
      "[1] \"Lung 0.966\"\n",
      "[1] \"Lymphoma 0.037\"\n",
      "[1] \"MEL 0.363\"\n",
      "[1] \"NCCRCC 0.336\"\n",
      "[1] \"PAAD 0.152\"\n",
      "[1] \"PCPG 0.161\"\n",
      "[1] \"PLMESO 0.082\"\n",
      "[1] \"Prostrate 0.479\"\n",
      "[1] \"SARC 0.229\"\n",
      "[1] \"SOC 0.177\"\n",
      "[1] \"STAD 0.376\"\n",
      "[1] \"TGCT 0.144\"\n",
      "[1] \"THPA 0.48\"\n",
      "[1] \"THYM 0.119\"\n",
      "[1] \"UCEC 0.543\"\n",
      "[1] \"UM 0.08\"\n"
     ]
    }
   ],
   "source": [
    "for(cancer in names(tumor_type_run)){\n",
    "    filter <- (0.001)*length(tumor_type_run[[cancer]]$sample.class)\n",
    "    print(paste(cancer,filter))\n",
    "}"
   ]
  },
  {
   "cell_type": "code",
   "execution_count": null,
   "id": "f51748c4-a68d-4428-8053-fb6fe0be6e1c",
   "metadata": {},
   "outputs": [],
   "source": [
    "for(cancer in names(tumor_type_run)){\n",
    "    cat('Running:',cancer)\n",
    "    cat('\\n')\n",
    "    obj <- selectX( M = tumor_type_run[[cancer]]$M,\n",
    "                sample.class = tumor_type_run[[cancer]]$sample.class,\n",
    "                alteration.class = tumor_type_run[[cancer]]$alteration.class,\n",
    "                n.cores = 20,\n",
    "                min.freq = (0.001*length(tumor_type_run[[cancer]]$sample.class)),\n",
    "                n.permut = 1000,\n",
    "                lambda = 0.3,\n",
    "                tao = 1,\n",
    "                save.object = FALSE,\n",
    "                verbose = FALSE,\n",
    "                estimate_pairwise = FALSE,\n",
    "                maxFDR = 0.25)\n",
    "\n",
    "    saveRDS(obj,paste('../results/tcga_',cancer,'.rds',sep=\"\"))\n",
    "    cat('\\n Running done:',cancer)\n",
    "    cat('\\n')\n",
    "    rm(obj)\n",
    "}"
   ]
  }
 ],
 "metadata": {
  "kernelspec": {
   "display_name": "R",
   "language": "R",
   "name": "ir"
  },
  "language_info": {
   "codemirror_mode": "r",
   "file_extension": ".r",
   "mimetype": "text/x-r-source",
   "name": "R",
   "pygments_lexer": "r",
   "version": "4.3.2"
  }
 },
 "nbformat": 4,
 "nbformat_minor": 5
}
