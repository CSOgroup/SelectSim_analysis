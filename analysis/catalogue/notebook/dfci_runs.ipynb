{
 "cells": [
  {
   "cell_type": "code",
   "execution_count": 1,
   "id": "4c9aa64b-ef3a-4210-8d20-2a61dcf1818f",
   "metadata": {
    "scrolled": true
   },
   "outputs": [
    {
     "name": "stderr",
     "output_type": "stream",
     "text": [
      "── \u001b[1mAttaching core tidyverse packages\u001b[22m ───────────────────────────────────────────────────────────────────────────────────────────────────────────────────────────────────── tidyverse 2.0.0 ──\n",
      "\u001b[32m✔\u001b[39m \u001b[34mdplyr    \u001b[39m 1.1.4     \u001b[32m✔\u001b[39m \u001b[34mreadr    \u001b[39m 2.1.5\n",
      "\u001b[32m✔\u001b[39m \u001b[34mforcats  \u001b[39m 1.0.0     \u001b[32m✔\u001b[39m \u001b[34mstringr  \u001b[39m 1.5.1\n",
      "\u001b[32m✔\u001b[39m \u001b[34mggplot2  \u001b[39m 3.4.4     \u001b[32m✔\u001b[39m \u001b[34mtibble   \u001b[39m 3.2.1\n",
      "\u001b[32m✔\u001b[39m \u001b[34mlubridate\u001b[39m 1.9.3     \u001b[32m✔\u001b[39m \u001b[34mtidyr    \u001b[39m 1.3.0\n",
      "\u001b[32m✔\u001b[39m \u001b[34mpurrr    \u001b[39m 1.0.2     \n",
      "── \u001b[1mConflicts\u001b[22m ─────────────────────────────────────────────────────────────────────────────────────────────────────────────────────────────────────────────────────── tidyverse_conflicts() ──\n",
      "\u001b[31m✖\u001b[39m \u001b[34mdplyr\u001b[39m::\u001b[32mfilter()\u001b[39m masks \u001b[34mstats\u001b[39m::filter()\n",
      "\u001b[31m✖\u001b[39m \u001b[34mdplyr\u001b[39m::\u001b[32mlag()\u001b[39m    masks \u001b[34mstats\u001b[39m::lag()\n",
      "\u001b[36mℹ\u001b[39m Use the conflicted package (\u001b[3m\u001b[34m<http://conflicted.r-lib.org/>\u001b[39m\u001b[23m) to force all conflicts to become errors\n"
     ]
    }
   ],
   "source": [
    "library('SelectSim')\n",
    "library('tidyverse')"
   ]
  },
  {
   "cell_type": "code",
   "execution_count": 2,
   "id": "d918ca4a-e55f-46aa-8efa-44097f64219f",
   "metadata": {
    "scrolled": true
   },
   "outputs": [
    {
     "data": {
      "text/plain": [
       "R version 4.3.2 (2023-10-31)\n",
       "Platform: x86_64-conda-linux-gnu (64-bit)\n",
       "Running under: CentOS Linux 7 (Core)\n",
       "\n",
       "Matrix products: default\n",
       "BLAS/LAPACK: /mnt/ndata/arvind/envs/R_4/lib/libopenblasp-r0.3.25.so;  LAPACK version 3.11.0\n",
       "\n",
       "locale:\n",
       " [1] LC_CTYPE=en_US.UTF-8       LC_NUMERIC=C              \n",
       " [3] LC_TIME=en_US.UTF-8        LC_COLLATE=en_US.UTF-8    \n",
       " [5] LC_MONETARY=en_US.UTF-8    LC_MESSAGES=en_US.UTF-8   \n",
       " [7] LC_PAPER=en_US.UTF-8       LC_NAME=C                 \n",
       " [9] LC_ADDRESS=C               LC_TELEPHONE=C            \n",
       "[11] LC_MEASUREMENT=en_US.UTF-8 LC_IDENTIFICATION=C       \n",
       "\n",
       "time zone: Europe/Zurich\n",
       "tzcode source: system (glibc)\n",
       "\n",
       "attached base packages:\n",
       "[1] stats     graphics  grDevices utils     datasets  methods   base     \n",
       "\n",
       "other attached packages:\n",
       " [1] lubridate_1.9.3   forcats_1.0.0     stringr_1.5.1     dplyr_1.1.4      \n",
       " [5] purrr_1.0.2       readr_2.1.5       tidyr_1.3.0       tibble_3.2.1     \n",
       " [9] ggplot2_3.4.4     tidyverse_2.0.0   SelectSim_0.0.1.3\n",
       "\n",
       "loaded via a namespace (and not attached):\n",
       " [1] gtable_0.3.4       rstatix_0.7.2      lattice_0.22-5     tzdb_0.4.0        \n",
       " [5] vctrs_0.6.5        tools_4.3.2        generics_0.1.3     parallel_4.3.2    \n",
       " [9] fansi_1.0.6        pkgconfig_2.0.3    Matrix_1.6-5       ggridges_0.5.5    \n",
       "[13] rngtools_1.5.2     RcppParallel_5.1.6 uuid_1.2-0         lifecycle_1.0.4   \n",
       "[17] compiler_4.3.2     tictoc_1.2         munsell_0.5.0      repr_1.1.6        \n",
       "[21] codetools_0.2-19   carData_3.0-5      htmltools_0.5.7    pillar_1.9.0      \n",
       "[25] car_3.1-2          ggpubr_0.6.0       crayon_1.5.2       doRNG_1.8.6       \n",
       "[29] iterators_1.0.14   abind_1.4-5        foreach_1.5.2      tidyselect_1.2.0  \n",
       "[33] digest_0.6.34      stringi_1.8.3      reshape2_1.4.4     fastmap_1.1.1     \n",
       "[37] grid_4.3.2         colorspace_2.1-0   cli_3.6.2          magrittr_2.0.3    \n",
       "[41] base64enc_0.1-3    Rfast_2.1.0        utf8_1.2.4         IRdisplay_1.1     \n",
       "[45] broom_1.0.5        withr_3.0.0        scales_1.3.0       backports_1.4.1   \n",
       "[49] IRkernel_1.3.2     RcppZiggurat_0.1.6 timechange_0.3.0   pbdZMQ_0.3-11     \n",
       "[53] ggsignif_0.6.4     hms_1.1.3          evaluate_0.23      doParallel_1.0.17 \n",
       "[57] rlang_1.1.3        Rcpp_1.0.12        glue_1.7.0         jsonlite_1.8.8    \n",
       "[61] R6_2.5.1           plyr_1.8.9        "
      ]
     },
     "metadata": {},
     "output_type": "display_data"
    }
   ],
   "source": [
    "sessionInfo()"
   ]
  },
  {
   "cell_type": "markdown",
   "id": "f937dbf9-3037-4579-aff7-b60349057338",
   "metadata": {},
   "source": [
    "#  Functions"
   ]
  },
  {
   "cell_type": "code",
   "execution_count": 3,
   "id": "6da4d73c-3c0d-4ee1-a448-03c25cc5cbc8",
   "metadata": {},
   "outputs": [],
   "source": [
    "# Filter the pan_can_run data object to required needs.\n",
    "filter_run_data <- function(run_data,gene_order,sample_order){\n",
    "    final_run_data<-run_data\n",
    "    final_run_data$M$M$missense<-run_data$M$M$missense[gene_order,sample_order]\n",
    "    final_run_data$M$M$truncating<-run_data$M$M$truncating[gene_order,sample_order]\n",
    "    final_run_data$alteration.class<- run_data$alteration.class[gene_order]\n",
    "    final_run_data$sample.class<-run_data$sample.class[sample_order]\n",
    "    final_run_data$M$tmb$missense<-run_data$M$tmb$missense[sample_order,]\n",
    "    final_run_data$M$tmb$truncating<-run_data$M$tmb$truncating[sample_order,]\n",
    "    return(final_run_data)\n",
    "}"
   ]
  },
  {
   "cell_type": "markdown",
   "id": "d7b6900e-49bf-4787-8ec8-07a1ebf4c2e0",
   "metadata": {},
   "source": [
    "# Metadata"
   ]
  },
  {
   "cell_type": "code",
   "execution_count": 4,
   "id": "220c6049-8fce-4e54-b10a-a5cb80eed4e1",
   "metadata": {},
   "outputs": [],
   "source": [
    "all_merged_metdata <- readRDS(file='/mnt/ndata/arvind/co_mutation_project/data/processed/all_merged_data_genie_v15.rds')\n",
    "genie_metadata_15_dfci_with_mutation_selected_final_atleast_100_samples<-readRDS(file='/mnt/ndata/arvind/co_mutation_project/data/processed/genie/dfci_one_patient_one_sample_final.rds')"
   ]
  },
  {
   "cell_type": "code",
   "execution_count": 5,
   "id": "079ca552-548b-48c7-9cca-6053dd20f47b",
   "metadata": {},
   "outputs": [],
   "source": [
    "dfci_run_gene_list <- readRDS(file='/mnt/ndata/arvind/co_mutation_project/analysis/catalogue/data/dfci_oncokb_gene_run_list.rds')"
   ]
  },
  {
   "cell_type": "code",
   "execution_count": 6,
   "id": "3deb1d2f-b786-4c2a-b3c7-4c1d426408cd",
   "metadata": {},
   "outputs": [
    {
     "data": {
      "text/html": [
       "<table class=\"dataframe\">\n",
       "<caption>A data.frame: 1 × 10</caption>\n",
       "<thead>\n",
       "\t<tr><th></th><th scope=col>sample</th><th scope=col>class</th><th scope=col>tumor_run</th><th scope=col>oncotree</th><th scope=col>cancer_type</th><th scope=col>race</th><th scope=col>cohort</th><th scope=col>tumor_run_mapped</th><th scope=col>Tissue</th><th scope=col>final_tumor_run_mapped</th></tr>\n",
       "\t<tr><th></th><th scope=col>&lt;chr&gt;</th><th scope=col>&lt;chr&gt;</th><th scope=col>&lt;chr&gt;</th><th scope=col>&lt;chr&gt;</th><th scope=col>&lt;chr&gt;</th><th scope=col>&lt;chr&gt;</th><th scope=col>&lt;chr&gt;</th><th scope=col>&lt;chr&gt;</th><th scope=col>&lt;chr&gt;</th><th scope=col>&lt;chr&gt;</th></tr>\n",
       "</thead>\n",
       "<tbody>\n",
       "\t<tr><th scope=row>1</th><td>TCGA-OR-A5J5-01</td><td>ACC</td><td>ACC</td><td>ACC</td><td>Adrenocortical Carcinoma</td><td>White</td><td>TCGA</td><td>No mapping</td><td>Adrenal Gland</td><td>ACC</td></tr>\n",
       "</tbody>\n",
       "</table>\n"
      ],
      "text/latex": [
       "A data.frame: 1 × 10\n",
       "\\begin{tabular}{r|llllllllll}\n",
       "  & sample & class & tumor\\_run & oncotree & cancer\\_type & race & cohort & tumor\\_run\\_mapped & Tissue & final\\_tumor\\_run\\_mapped\\\\\n",
       "  & <chr> & <chr> & <chr> & <chr> & <chr> & <chr> & <chr> & <chr> & <chr> & <chr>\\\\\n",
       "\\hline\n",
       "\t1 & TCGA-OR-A5J5-01 & ACC & ACC & ACC & Adrenocortical Carcinoma & White & TCGA & No mapping & Adrenal Gland & ACC\\\\\n",
       "\\end{tabular}\n"
      ],
      "text/markdown": [
       "\n",
       "A data.frame: 1 × 10\n",
       "\n",
       "| <!--/--> | sample &lt;chr&gt; | class &lt;chr&gt; | tumor_run &lt;chr&gt; | oncotree &lt;chr&gt; | cancer_type &lt;chr&gt; | race &lt;chr&gt; | cohort &lt;chr&gt; | tumor_run_mapped &lt;chr&gt; | Tissue &lt;chr&gt; | final_tumor_run_mapped &lt;chr&gt; |\n",
       "|---|---|---|---|---|---|---|---|---|---|---|\n",
       "| 1 | TCGA-OR-A5J5-01 | ACC | ACC | ACC | Adrenocortical Carcinoma | White | TCGA | No mapping | Adrenal Gland | ACC |\n",
       "\n"
      ],
      "text/plain": [
       "  sample          class tumor_run oncotree cancer_type              race \n",
       "1 TCGA-OR-A5J5-01 ACC   ACC       ACC      Adrenocortical Carcinoma White\n",
       "  cohort tumor_run_mapped Tissue        final_tumor_run_mapped\n",
       "1 TCGA   No mapping       Adrenal Gland ACC                   "
      ]
     },
     "metadata": {},
     "output_type": "display_data"
    }
   ],
   "source": [
    "head(all_merged_metdata,1)"
   ]
  },
  {
   "cell_type": "code",
   "execution_count": 7,
   "id": "68968728-92dc-4401-b369-82dd86cdbf8f",
   "metadata": {},
   "outputs": [
    {
     "name": "stdout",
     "output_type": "stream",
     "text": [
      "List of 4\n",
      " $ all: chr [1:177] \"MTOR\" \"NRAS\" \"NTRK1\" \"SDHC\" ...\n",
      " $ p_2: chr [1:194] \"MTOR\" \"NRAS\" \"CD58\" \"NTRK1\" ...\n",
      " $ p_3: chr [1:257] \"MTOR\" \"NRAS\" \"RIT1\" \"NTRK1\" ...\n",
      " $ p_1: chr [1:183] \"MTOR\" \"NRAS\" \"CD58\" \"NTRK1\" ...\n"
     ]
    }
   ],
   "source": [
    "str(dfci_run_gene_list)"
   ]
  },
  {
   "cell_type": "markdown",
   "id": "ece4b434-c56d-405e-82e3-051889669742",
   "metadata": {},
   "source": [
    "# Pan-Cancer Runs"
   ]
  },
  {
   "cell_type": "markdown",
   "id": "db28dc66-9b96-4659-a485-9044e92fe56b",
   "metadata": {},
   "source": [
    "##  DFCI Primary"
   ]
  },
  {
   "cell_type": "code",
   "execution_count": 8,
   "id": "075ba544-aabe-48c6-bc9a-df6aedaeab46",
   "metadata": {},
   "outputs": [],
   "source": [
    "dfci_run_p_data <- readRDS('/mnt/ndata/arvind/co_mutation_project/data/processed/gams/pan_can_dfci_primary_run_data_v15.rds')"
   ]
  },
  {
   "cell_type": "code",
   "execution_count": 9,
   "id": "0913e458-1c2d-4c55-8aa5-705f7ac25a39",
   "metadata": {
    "scrolled": true
   },
   "outputs": [
    {
     "name": "stdout",
     "output_type": "stream",
     "text": [
      "List of 3\n",
      " $ M               :List of 2\n",
      "  ..$ M  :List of 2\n",
      "  .. ..$ missense  : num [1:396, 1:14657] 0 0 0 0 0 0 0 0 0 0 ...\n",
      "  .. .. ..- attr(*, \"dimnames\")=List of 2\n",
      "  .. .. .. ..$ : chr [1:396] \"AKT1\" \"ALK\" \"APC\" \"AR\" ...\n",
      "  .. .. .. ..$ : chr [1:14657] \"GENIE-DFCI-000018-4015\" \"GENIE-DFCI-003388-5143\" \"GENIE-DFCI-001376-5688\" \"GENIE-DFCI-001329-1827\" ...\n",
      "  .. ..$ truncating: num [1:396, 1:14657] 0 0 0 0 0 0 0 0 0 0 ...\n",
      "  .. .. ..- attr(*, \"dimnames\")=List of 2\n",
      "  .. .. .. ..$ : chr [1:396] \"AKT1\" \"ALK\" \"APC\" \"AR\" ...\n",
      "  .. .. .. ..$ : chr [1:14657] \"GENIE-DFCI-000018-4015\" \"GENIE-DFCI-003388-5143\" \"GENIE-DFCI-001376-5688\" \"GENIE-DFCI-001329-1827\" ...\n",
      "  ..$ tmb:List of 2\n",
      "  .. ..$ missense  :'data.frame':\t14657 obs. of  2 variables:\n",
      "  .. .. ..$ sample  : chr [1:14657] \"GENIE-DFCI-000018-4015\" \"GENIE-DFCI-003388-5143\" \"GENIE-DFCI-001376-5688\" \"GENIE-DFCI-001329-1827\" ...\n",
      "  .. .. ..$ mutation: num [1:14657] 6 9 3 5 1 1 7 5 0 2 ...\n",
      "  .. ..$ truncating:'data.frame':\t14657 obs. of  2 variables:\n",
      "  .. .. ..$ sample  : chr [1:14657] \"GENIE-DFCI-000018-4015\" \"GENIE-DFCI-003388-5143\" \"GENIE-DFCI-001376-5688\" \"GENIE-DFCI-001329-1827\" ...\n",
      "  .. .. ..$ mutation: num [1:14657] 0 2 1 3 2 5 1 1 1 1 ...\n",
      " $ sample.class    : Named chr [1:14657] \"BLCA\" \"LUSC\" \"THPA\" \"UCEC_LM\" ...\n",
      "  ..- attr(*, \"names\")= chr [1:14657] \"GENIE-DFCI-000018-4015\" \"GENIE-DFCI-003388-5143\" \"GENIE-DFCI-001376-5688\" \"GENIE-DFCI-001329-1827\" ...\n",
      " $ alteration.class: Named chr [1:396] \"MUT\" \"MUT\" \"MUT\" \"MUT\" ...\n",
      "  ..- attr(*, \"names\")= chr [1:396] \"AKT1\" \"ALK\" \"APC\" \"AR\" ...\n"
     ]
    }
   ],
   "source": [
    "str(dfci_run_p_data)"
   ]
  },
  {
   "cell_type": "code",
   "execution_count": 10,
   "id": "6d47bc98-1c8b-49d7-861e-b37b24ee8b8d",
   "metadata": {
    "scrolled": true
   },
   "outputs": [
    {
     "data": {
      "text/plain": [
       "\n",
       "             AML             ANSC             BLCA             CHOL \n",
       "             122               74              469              137 \n",
       "          CLLSLL           CRC_HM           CRC_LM             DIFG \n",
       "             136              294             1990              100 \n",
       "        DLBCLNOS             ESCA              GBM            GINET \n",
       "              95              664             1423               93 \n",
       "            GIST Glioma_low_grade             HEMA           HGGNOS \n",
       "             215              309              173              160 \n",
       "           HGSOC             HNSC              IDC             IHCH \n",
       "             335              343              957               98 \n",
       "             ILC           LGGNOS              LMS             LUAD \n",
       "             214              111              101             1658 \n",
       "            LUSC              MCC             MDLC              MEL \n",
       "             322              100               98              357 \n",
       "             MNG            NSCLC             PAAD            PANET \n",
       "             154              169              717               94 \n",
       "         PLEMESO             PRAD             PTAD              RCC \n",
       "             152              475              110              263 \n",
       "            SCLC             STAD             THPA          UCEC_HM \n",
       "              50              195              323              166 \n",
       "         UCEC_LM              UCS              USC \n",
       "             368               99              174 "
      ]
     },
     "metadata": {},
     "output_type": "display_data"
    },
    {
     "data": {
      "text/html": [
       "43"
      ],
      "text/latex": [
       "43"
      ],
      "text/markdown": [
       "43"
      ],
      "text/plain": [
       "[1] 43"
      ]
     },
     "metadata": {},
     "output_type": "display_data"
    }
   ],
   "source": [
    "table(dfci_run_p_data$sample.class)\n",
    "length(table(dfci_run_p_data$sample.class))"
   ]
  },
  {
   "cell_type": "code",
   "execution_count": 11,
   "id": "395fd9ba-45f7-4e26-afb2-010291f78696",
   "metadata": {},
   "outputs": [
    {
     "name": "stdout",
     "output_type": "stream",
     "text": [
      " Named chr [1:14657] \"BLCA\" \"LUSC\" \"THPA\" \"UCEC_LM\" \"SCLC\" \"LUAD\" \"HNSC\" ...\n",
      " - attr(*, \"names\")= chr [1:14657] \"GENIE-DFCI-000018-4015\" \"GENIE-DFCI-003388-5143\" \"GENIE-DFCI-001376-5688\" \"GENIE-DFCI-001329-1827\" ...\n"
     ]
    }
   ],
   "source": [
    "str(dfci_run_p_data$sample.class)"
   ]
  },
  {
   "cell_type": "code",
   "execution_count": 12,
   "id": "09d49aa3-bc38-4001-84d5-202b29920748",
   "metadata": {},
   "outputs": [
    {
     "data": {
      "text/html": [
       "<table class=\"dataframe\">\n",
       "<caption>A data.frame: 1 × 20</caption>\n",
       "<thead>\n",
       "\t<tr><th></th><th scope=col>PATIENT_ID</th><th scope=col>SEX</th><th scope=col>PRIMARY_RACE</th><th scope=col>ETHNICITY</th><th scope=col>CENTER</th><th scope=col>INT_CONTACT</th><th scope=col>INT_DOD</th><th scope=col>YEAR_CONTACT</th><th scope=col>DEAD</th><th scope=col>YEAR_DEATH</th><th scope=col>SAMPLE_ID</th><th scope=col>AGE_AT_SEQ_REPORT</th><th scope=col>ONCOTREE_CODE</th><th scope=col>SAMPLE_TYPE</th><th scope=col>SEQ_ASSAY_ID</th><th scope=col>CANCER_TYPE</th><th scope=col>CANCER_TYPE_DETAILED</th><th scope=col>SAMPLE_TYPE_DETAILED</th><th scope=col>final_class</th><th scope=col>final_run_group</th></tr>\n",
       "\t<tr><th></th><th scope=col>&lt;chr&gt;</th><th scope=col>&lt;chr&gt;</th><th scope=col>&lt;chr&gt;</th><th scope=col>&lt;chr&gt;</th><th scope=col>&lt;chr&gt;</th><th scope=col>&lt;chr&gt;</th><th scope=col>&lt;chr&gt;</th><th scope=col>&lt;chr&gt;</th><th scope=col>&lt;chr&gt;</th><th scope=col>&lt;chr&gt;</th><th scope=col>&lt;chr&gt;</th><th scope=col>&lt;chr&gt;</th><th scope=col>&lt;chr&gt;</th><th scope=col>&lt;chr&gt;</th><th scope=col>&lt;chr&gt;</th><th scope=col>&lt;chr&gt;</th><th scope=col>&lt;chr&gt;</th><th scope=col>&lt;chr&gt;</th><th scope=col>&lt;chr&gt;</th><th scope=col>&lt;chr&gt;</th></tr>\n",
       "</thead>\n",
       "<tbody>\n",
       "\t<tr><th scope=row>1</th><td>GENIE-DFCI-000145</td><td>Male</td><td>White</td><td>Non-Spanish/non-Hispanic</td><td>DFCI</td><td>26418</td><td>Not Applicable</td><td>2022</td><td>False</td><td>Not Applicable</td><td>GENIE-DFCI-000145-3971</td><td>64</td><td>LUAD</td><td>Metastasis</td><td>DFCI-ONCOPANEL-2</td><td>Non-Small Cell Lung Cancer</td><td>Lung Adenocarcinoma</td><td>Metastasis site unspecified</td><td>LUAD</td><td>Non-Small Cell Lung Cancer</td></tr>\n",
       "</tbody>\n",
       "</table>\n"
      ],
      "text/latex": [
       "A data.frame: 1 × 20\n",
       "\\begin{tabular}{r|llllllllllllllllllll}\n",
       "  & PATIENT\\_ID & SEX & PRIMARY\\_RACE & ETHNICITY & CENTER & INT\\_CONTACT & INT\\_DOD & YEAR\\_CONTACT & DEAD & YEAR\\_DEATH & SAMPLE\\_ID & AGE\\_AT\\_SEQ\\_REPORT & ONCOTREE\\_CODE & SAMPLE\\_TYPE & SEQ\\_ASSAY\\_ID & CANCER\\_TYPE & CANCER\\_TYPE\\_DETAILED & SAMPLE\\_TYPE\\_DETAILED & final\\_class & final\\_run\\_group\\\\\n",
       "  & <chr> & <chr> & <chr> & <chr> & <chr> & <chr> & <chr> & <chr> & <chr> & <chr> & <chr> & <chr> & <chr> & <chr> & <chr> & <chr> & <chr> & <chr> & <chr> & <chr>\\\\\n",
       "\\hline\n",
       "\t1 & GENIE-DFCI-000145 & Male & White & Non-Spanish/non-Hispanic & DFCI & 26418 & Not Applicable & 2022 & False & Not Applicable & GENIE-DFCI-000145-3971 & 64 & LUAD & Metastasis & DFCI-ONCOPANEL-2 & Non-Small Cell Lung Cancer & Lung Adenocarcinoma & Metastasis site unspecified & LUAD & Non-Small Cell Lung Cancer\\\\\n",
       "\\end{tabular}\n"
      ],
      "text/markdown": [
       "\n",
       "A data.frame: 1 × 20\n",
       "\n",
       "| <!--/--> | PATIENT_ID &lt;chr&gt; | SEX &lt;chr&gt; | PRIMARY_RACE &lt;chr&gt; | ETHNICITY &lt;chr&gt; | CENTER &lt;chr&gt; | INT_CONTACT &lt;chr&gt; | INT_DOD &lt;chr&gt; | YEAR_CONTACT &lt;chr&gt; | DEAD &lt;chr&gt; | YEAR_DEATH &lt;chr&gt; | SAMPLE_ID &lt;chr&gt; | AGE_AT_SEQ_REPORT &lt;chr&gt; | ONCOTREE_CODE &lt;chr&gt; | SAMPLE_TYPE &lt;chr&gt; | SEQ_ASSAY_ID &lt;chr&gt; | CANCER_TYPE &lt;chr&gt; | CANCER_TYPE_DETAILED &lt;chr&gt; | SAMPLE_TYPE_DETAILED &lt;chr&gt; | final_class &lt;chr&gt; | final_run_group &lt;chr&gt; |\n",
       "|---|---|---|---|---|---|---|---|---|---|---|---|---|---|---|---|---|---|---|---|---|\n",
       "| 1 | GENIE-DFCI-000145 | Male | White | Non-Spanish/non-Hispanic | DFCI | 26418 | Not Applicable | 2022 | False | Not Applicable | GENIE-DFCI-000145-3971 | 64 | LUAD | Metastasis | DFCI-ONCOPANEL-2 | Non-Small Cell Lung Cancer | Lung Adenocarcinoma | Metastasis site unspecified | LUAD | Non-Small Cell Lung Cancer |\n",
       "\n"
      ],
      "text/plain": [
       "  PATIENT_ID        SEX  PRIMARY_RACE ETHNICITY                CENTER\n",
       "1 GENIE-DFCI-000145 Male White        Non-Spanish/non-Hispanic DFCI  \n",
       "  INT_CONTACT INT_DOD        YEAR_CONTACT DEAD  YEAR_DEATH    \n",
       "1 26418       Not Applicable 2022         False Not Applicable\n",
       "  SAMPLE_ID              AGE_AT_SEQ_REPORT ONCOTREE_CODE SAMPLE_TYPE\n",
       "1 GENIE-DFCI-000145-3971 64                LUAD          Metastasis \n",
       "  SEQ_ASSAY_ID     CANCER_TYPE                CANCER_TYPE_DETAILED\n",
       "1 DFCI-ONCOPANEL-2 Non-Small Cell Lung Cancer Lung Adenocarcinoma \n",
       "  SAMPLE_TYPE_DETAILED        final_class final_run_group           \n",
       "1 Metastasis site unspecified LUAD        Non-Small Cell Lung Cancer"
      ]
     },
     "metadata": {},
     "output_type": "display_data"
    }
   ],
   "source": [
    "genie_metadata_15_dfci_with_mutation_selected_final_atleast_100_samples %>% head(1)"
   ]
  },
  {
   "cell_type": "code",
   "execution_count": 13,
   "id": "132bd37e-46c6-4651-ab34-40f5dd8eb478",
   "metadata": {},
   "outputs": [
    {
     "name": "stdout",
     "output_type": "stream",
     "text": [
      "List of 4\n",
      " $ all: chr [1:177] \"MTOR\" \"NRAS\" \"NTRK1\" \"SDHC\" ...\n",
      " $ p_2: chr [1:194] \"MTOR\" \"NRAS\" \"CD58\" \"NTRK1\" ...\n",
      " $ p_3: chr [1:257] \"MTOR\" \"NRAS\" \"RIT1\" \"NTRK1\" ...\n",
      " $ p_1: chr [1:183] \"MTOR\" \"NRAS\" \"CD58\" \"NTRK1\" ...\n"
     ]
    }
   ],
   "source": [
    "str(dfci_run_gene_list)"
   ]
  },
  {
   "cell_type": "code",
   "execution_count": 14,
   "id": "601f1029-c073-43e1-a282-c0d6b338fadd",
   "metadata": {},
   "outputs": [],
   "source": [
    "assay_id<-unique(genie_metadata_15_dfci_with_mutation_selected_final_atleast_100_samples$SEQ_ASSAY_ID)"
   ]
  },
  {
   "cell_type": "code",
   "execution_count": 15,
   "id": "e8660f41-5927-4e4b-b9c4-38babdc46ff5",
   "metadata": {},
   "outputs": [
    {
     "data": {
      "text/html": [
       "<style>\n",
       ".list-inline {list-style: none; margin:0; padding: 0}\n",
       ".list-inline>li {display: inline-block}\n",
       ".list-inline>li:not(:last-child)::after {content: \"\\00b7\"; padding: 0 .5ex}\n",
       "</style>\n",
       "<ol class=list-inline><li>'DFCI-ONCOPANEL-2'</li><li>'DFCI-ONCOPANEL-1'</li><li>'DFCI-ONCOPANEL-3.1'</li><li>'DFCI-ONCOPANEL-3'</li></ol>\n"
      ],
      "text/latex": [
       "\\begin{enumerate*}\n",
       "\\item 'DFCI-ONCOPANEL-2'\n",
       "\\item 'DFCI-ONCOPANEL-1'\n",
       "\\item 'DFCI-ONCOPANEL-3.1'\n",
       "\\item 'DFCI-ONCOPANEL-3'\n",
       "\\end{enumerate*}\n"
      ],
      "text/markdown": [
       "1. 'DFCI-ONCOPANEL-2'\n",
       "2. 'DFCI-ONCOPANEL-1'\n",
       "3. 'DFCI-ONCOPANEL-3.1'\n",
       "4. 'DFCI-ONCOPANEL-3'\n",
       "\n",
       "\n"
      ],
      "text/plain": [
       "[1] \"DFCI-ONCOPANEL-2\"   \"DFCI-ONCOPANEL-1\"   \"DFCI-ONCOPANEL-3.1\"\n",
       "[4] \"DFCI-ONCOPANEL-3\"  "
      ]
     },
     "metadata": {},
     "output_type": "display_data"
    }
   ],
   "source": [
    "assay_id"
   ]
  },
  {
   "cell_type": "code",
   "execution_count": null,
   "id": "44a81feb-a777-48bb-b899-fee5fbc83acf",
   "metadata": {},
   "outputs": [],
   "source": [
    "for(name in names(dfci_run_gene_list)){\n",
    "    cat('--Running:',name,\"--\\n\")\n",
    "    if(name=='all'){\n",
    "        samples<-(genie_metadata_15_dfci_with_mutation_selected_final_atleast_100_samples %>% filter(SAMPLE_TYPE=='Primary'))$SAMPLE_ID\n",
    "        temp<- filter_run_data(run_data = dfci_run_p_data,\n",
    "                               gene_order = dfci_run_gene_list$all,\n",
    "                               sample_order =samples ) \n",
    "        label<-paste('../data/','dfci_panel_',name,'_primary_run_data.rds',sep=\"\")\n",
    "        saveRDS(temp,file = label,compress = TRUE)\n",
    "        dfci_result <- selectX(M = temp$M,\n",
    "                            sample.class = temp$sample.class,\n",
    "                            alteration.class = temp$alteration.class,\n",
    "                            n.cores = 15,\n",
    "                            min.freq = round(0.001*length(temp$sample.class)),\n",
    "                            n.permut = 1000,\n",
    "                            lambda = 0.3,\n",
    "                            tao = 1,\n",
    "                            save.object = FALSE,\n",
    "                            verbose = FALSE,\n",
    "                            estimate_pairwise = FALSE,\n",
    "                            maxFDR = 0.25,\n",
    "                            seed = 42)\n",
    "        label<-paste('../results/','dfci_panel_',name,'_primary_result.rds',sep=\"\")\n",
    "        saveRDS(dfci_result,file = label,compress = TRUE)\n",
    "        rm(dfci_result)\n",
    "    }\n",
    "    else if(name=='p_2'){\n",
    "        samples<-(genie_metadata_15_dfci_with_mutation_selected_final_atleast_100_samples %>% \n",
    "                  filter(SAMPLE_TYPE=='Primary' &SEQ_ASSAY_ID=='DFCI-ONCOPANEL-2') %>% group_by(final_class) %>% filter(n()>=30) %>% ungroup())$SAMPLE_ID\n",
    "        temp<- filter_run_data(run_data = dfci_run_p_data,\n",
    "                               gene_order = dfci_run_gene_list$p_2,\n",
    "                               sample_order =samples) \n",
    "        label<-paste('../data/','dfci_panel_',name,'_primary_run_data.rds',sep=\"\")\n",
    "        saveRDS(temp,file = label,compress = TRUE)\n",
    "        dfci_result <- selectX(M = temp$M,\n",
    "                            sample.class = temp$sample.class,\n",
    "                            alteration.class = temp$alteration.class,\n",
    "                            n.cores = 15,\n",
    "                            min.freq = round(0.001*length(temp$sample.class)),\n",
    "                            n.permut = 1000,\n",
    "                            lambda = 0.3,\n",
    "                            tao = 1,\n",
    "                            save.object = FALSE,\n",
    "                            verbose = FALSE,\n",
    "                            estimate_pairwise = FALSE,\n",
    "                            maxFDR = 0.25,\n",
    "                            seed = 42)\n",
    "\n",
    "        label<-paste('../results/','dfci_panel_',name,'_primary_result.rds',sep=\"\")\n",
    "        saveRDS(dfci_result,file = label,compress = TRUE)\n",
    "        rm(dfci_result)\n",
    "    }\n",
    "    else if(name=='p_1'){\n",
    "        samples<-(genie_metadata_15_dfci_with_mutation_selected_final_atleast_100_samples %>% \n",
    "                  filter(SAMPLE_TYPE=='Primary' &SEQ_ASSAY_ID=='DFCI-ONCOPANEL-1') %>% group_by(final_class) %>% filter(n()>=30) %>% ungroup())$SAMPLE_ID\n",
    "        temp<- filter_run_data(run_data = dfci_run_p_data,\n",
    "                               gene_order = dfci_run_gene_list$p_1,\n",
    "                               sample_order =samples) \n",
    "        label<-paste('../data/','dfci_panel_',name,'_primary_run_data.rds',sep=\"\")\n",
    "        saveRDS(temp,file = label,compress = TRUE)\n",
    "        dfci_result <- selectX(M = temp$M,\n",
    "                            sample.class = temp$sample.class,\n",
    "                            alteration.class = temp$alteration.class,\n",
    "                            n.cores = 15,\n",
    "                            min.freq = round(0.001*length(temp$sample.class)),\n",
    "                            n.permut = 1000,\n",
    "                            lambda = 0.3,\n",
    "                            tao = 1,\n",
    "                            save.object = FALSE,\n",
    "                            verbose = FALSE,\n",
    "                            estimate_pairwise = FALSE,\n",
    "                            maxFDR = 0.25,\n",
    "                            seed = 42)\n",
    "\n",
    "        label<-paste('../results/','dfci_panel_',name,'_primary_result.rds',sep=\"\")\n",
    "        saveRDS(dfci_result,file = label,compress = TRUE)\n",
    "        rm(dfci_result)\n",
    "    }\n",
    "    else{\n",
    "        samples<-(genie_metadata_15_dfci_with_mutation_selected_final_atleast_100_samples %>% \n",
    "        filter(SAMPLE_TYPE=='Primary' & SEQ_ASSAY_ID %in% c('DFCI-ONCOPANEL-3.1','DFCI-ONCOPANEL-3')) %>% group_by(final_class) %>% filter(n()>=30) %>% ungroup())$SAMPLE_ID\n",
    "        temp<- filter_run_data(run_data = dfci_run_p_data,\n",
    "                               gene_order = dfci_run_gene_list$p_3,\n",
    "                               sample_order =samples) \n",
    "        name<-'p3'\n",
    "        label<-paste('../data/','dfci_panel_',name,'_primary_run_data.rds',sep=\"\")\n",
    "        saveRDS(temp,file = label,compress = TRUE)\n",
    "        dfci_result <- selectX(M = temp$M,\n",
    "                            sample.class = temp$sample.class,\n",
    "                            alteration.class = temp$alteration.class,\n",
    "                            n.cores = 15,\n",
    "                            min.freq = round(0.001*length(temp$sample.class)),\n",
    "                            n.permut = 1000,\n",
    "                            lambda = 0.3,\n",
    "                            tao = 1,\n",
    "                            save.object = FALSE,\n",
    "                            verbose = FALSE,\n",
    "                            estimate_pairwise = FALSE,\n",
    "                            maxFDR = 0.25,\n",
    "                            seed = 42)\n",
    "\n",
    "        label<-paste('../results/','dfci_panel_',name,'_primary_result.rds',sep=\"\")\n",
    "        saveRDS(dfci_result,file = label,compress = TRUE)\n",
    "        rm(dfci_result)\n",
    "    }\n",
    " cat('\\n---Done---\\n')\n",
    "}"
   ]
  },
  {
   "cell_type": "markdown",
   "id": "1c36986d-0923-4eff-a3ff-be03fc50f0b7",
   "metadata": {},
   "source": [
    "## DFCI Metastatsis "
   ]
  },
  {
   "cell_type": "code",
   "execution_count": 16,
   "id": "5e1867f5-eb92-4e8d-b115-068b2dac390e",
   "metadata": {},
   "outputs": [],
   "source": [
    "dfci_run_m_data <- readRDS('/mnt/ndata/arvind/co_mutation_project/data/processed/gams/pan_can_dfci_meta_run_data_v15.rds')"
   ]
  },
  {
   "cell_type": "code",
   "execution_count": 17,
   "id": "b4757705-ce73-4ee9-a4df-af19a894fc7e",
   "metadata": {
    "scrolled": true
   },
   "outputs": [
    {
     "name": "stdout",
     "output_type": "stream",
     "text": [
      "List of 3\n",
      " $ M               :List of 2\n",
      "  ..$ M  :List of 2\n",
      "  .. ..$ missense  : num [1:396, 1:7607] 0 0 0 0 0 0 0 0 0 0 ...\n",
      "  .. .. ..- attr(*, \"dimnames\")=List of 2\n",
      "  .. .. .. ..$ : chr [1:396] \"AKT1\" \"ALK\" \"APC\" \"AR\" ...\n",
      "  .. .. .. ..$ : chr [1:7607] \"GENIE-DFCI-000145-3971\" \"GENIE-DFCI-007383-3930\" \"GENIE-DFCI-000544-5758\" \"GENIE-DFCI-008041-5875\" ...\n",
      "  .. ..$ truncating: num [1:396, 1:7607] 0 0 0 0 0 0 0 0 0 0 ...\n",
      "  .. .. ..- attr(*, \"dimnames\")=List of 2\n",
      "  .. .. .. ..$ : chr [1:396] \"AKT1\" \"ALK\" \"APC\" \"AR\" ...\n",
      "  .. .. .. ..$ : chr [1:7607] \"GENIE-DFCI-000145-3971\" \"GENIE-DFCI-007383-3930\" \"GENIE-DFCI-000544-5758\" \"GENIE-DFCI-008041-5875\" ...\n",
      "  ..$ tmb:List of 2\n",
      "  .. ..$ missense  :'data.frame':\t7607 obs. of  2 variables:\n",
      "  .. .. ..$ sample  : chr [1:7607] \"GENIE-DFCI-000145-3971\" \"GENIE-DFCI-007383-3930\" \"GENIE-DFCI-000544-5758\" \"GENIE-DFCI-008041-5875\" ...\n",
      "  .. .. ..$ mutation: num [1:7607] 2 5 11 1 2 4 4 5 4 5 ...\n",
      "  .. ..$ truncating:'data.frame':\t7607 obs. of  2 variables:\n",
      "  .. .. ..$ sample  : chr [1:7607] \"GENIE-DFCI-000145-3971\" \"GENIE-DFCI-007383-3930\" \"GENIE-DFCI-000544-5758\" \"GENIE-DFCI-008041-5875\" ...\n",
      "  .. .. ..$ mutation: num [1:7607] 1 1 3 0 1 0 0 1 1 3 ...\n",
      " $ sample.class    : Named chr [1:7607] \"LUAD\" \"LUAD\" \"LUAD\" \"STAD\" ...\n",
      "  ..- attr(*, \"names\")= chr [1:7607] \"GENIE-DFCI-000145-3971\" \"GENIE-DFCI-007383-3930\" \"GENIE-DFCI-000544-5758\" \"GENIE-DFCI-008041-5875\" ...\n",
      " $ alteration.class: Named chr [1:396] \"MUT\" \"MUT\" \"MUT\" \"MUT\" ...\n",
      "  ..- attr(*, \"names\")= chr [1:396] \"AKT1\" \"ALK\" \"APC\" \"AR\" ...\n"
     ]
    }
   ],
   "source": [
    "str(dfci_run_m_data)"
   ]
  },
  {
   "cell_type": "code",
   "execution_count": 18,
   "id": "5b2e70ce-e5f2-436e-af27-3bcff8442dcf",
   "metadata": {
    "scrolled": true
   },
   "outputs": [
    {
     "data": {
      "text/plain": [
       "\n",
       "             AML             ANSC             BLCA             CHOL \n",
       "               9               26              144               55 \n",
       "          CLLSLL           CRC_HM           CRC_LM             DIFG \n",
       "               4               51              846               13 \n",
       "        DLBCLNOS             ESCA              GBM            GINET \n",
       "              27              159              212               75 \n",
       "            GIST Glioma_low_grade             HEMA           HGGNOS \n",
       "              90               74                1               25 \n",
       "           HGSOC             HNSC              IDC             IHCH \n",
       "             550               90              985               14 \n",
       "             ILC           LGGNOS              LMS             LUAD \n",
       "             353                9               93             1243 \n",
       "            LUSC              MCC             MDLC              MEL \n",
       "             124               57               16              584 \n",
       "             MNG            NSCLC             PAAD            PANET \n",
       "              12              197              602               50 \n",
       "         PLEMESO             PRAD             PTAD              RCC \n",
       "              22              293               15              119 \n",
       "            SCLC             STAD             THPA          UCEC_HM \n",
       "              76               71               82               28 \n",
       "         UCEC_LM              UCS              USC \n",
       "              71               11               29 "
      ]
     },
     "metadata": {},
     "output_type": "display_data"
    },
    {
     "data": {
      "text/html": [
       "43"
      ],
      "text/latex": [
       "43"
      ],
      "text/markdown": [
       "43"
      ],
      "text/plain": [
       "[1] 43"
      ]
     },
     "metadata": {},
     "output_type": "display_data"
    }
   ],
   "source": [
    "table(dfci_run_m_data$sample.class)\n",
    "length(table(dfci_run_m_data$sample.class))"
   ]
  },
  {
   "cell_type": "code",
   "execution_count": 19,
   "id": "51bea435-501c-47a2-93bf-df6ff0722510",
   "metadata": {},
   "outputs": [
    {
     "name": "stdout",
     "output_type": "stream",
     "text": [
      " Named chr [1:7607] \"LUAD\" \"LUAD\" \"LUAD\" \"STAD\" \"IDC\" \"UCEC_LM\" \"IDC\" \"IDC\" ...\n",
      " - attr(*, \"names\")= chr [1:7607] \"GENIE-DFCI-000145-3971\" \"GENIE-DFCI-007383-3930\" \"GENIE-DFCI-000544-5758\" \"GENIE-DFCI-008041-5875\" ...\n"
     ]
    }
   ],
   "source": [
    "str(dfci_run_m_data$sample.class)"
   ]
  },
  {
   "cell_type": "code",
   "execution_count": 20,
   "id": "0eaaab08-b2ce-47b2-bfed-3a0d44b03ceb",
   "metadata": {},
   "outputs": [
    {
     "data": {
      "text/html": [
       "<table class=\"dataframe\">\n",
       "<caption>A data.frame: 1 × 20</caption>\n",
       "<thead>\n",
       "\t<tr><th></th><th scope=col>PATIENT_ID</th><th scope=col>SEX</th><th scope=col>PRIMARY_RACE</th><th scope=col>ETHNICITY</th><th scope=col>CENTER</th><th scope=col>INT_CONTACT</th><th scope=col>INT_DOD</th><th scope=col>YEAR_CONTACT</th><th scope=col>DEAD</th><th scope=col>YEAR_DEATH</th><th scope=col>SAMPLE_ID</th><th scope=col>AGE_AT_SEQ_REPORT</th><th scope=col>ONCOTREE_CODE</th><th scope=col>SAMPLE_TYPE</th><th scope=col>SEQ_ASSAY_ID</th><th scope=col>CANCER_TYPE</th><th scope=col>CANCER_TYPE_DETAILED</th><th scope=col>SAMPLE_TYPE_DETAILED</th><th scope=col>final_class</th><th scope=col>final_run_group</th></tr>\n",
       "\t<tr><th></th><th scope=col>&lt;chr&gt;</th><th scope=col>&lt;chr&gt;</th><th scope=col>&lt;chr&gt;</th><th scope=col>&lt;chr&gt;</th><th scope=col>&lt;chr&gt;</th><th scope=col>&lt;chr&gt;</th><th scope=col>&lt;chr&gt;</th><th scope=col>&lt;chr&gt;</th><th scope=col>&lt;chr&gt;</th><th scope=col>&lt;chr&gt;</th><th scope=col>&lt;chr&gt;</th><th scope=col>&lt;chr&gt;</th><th scope=col>&lt;chr&gt;</th><th scope=col>&lt;chr&gt;</th><th scope=col>&lt;chr&gt;</th><th scope=col>&lt;chr&gt;</th><th scope=col>&lt;chr&gt;</th><th scope=col>&lt;chr&gt;</th><th scope=col>&lt;chr&gt;</th><th scope=col>&lt;chr&gt;</th></tr>\n",
       "</thead>\n",
       "<tbody>\n",
       "\t<tr><th scope=row>1</th><td>GENIE-DFCI-000145</td><td>Male</td><td>White</td><td>Non-Spanish/non-Hispanic</td><td>DFCI</td><td>26418</td><td>Not Applicable</td><td>2022</td><td>False</td><td>Not Applicable</td><td>GENIE-DFCI-000145-3971</td><td>64</td><td>LUAD</td><td>Metastasis</td><td>DFCI-ONCOPANEL-2</td><td>Non-Small Cell Lung Cancer</td><td>Lung Adenocarcinoma</td><td>Metastasis site unspecified</td><td>LUAD</td><td>Non-Small Cell Lung Cancer</td></tr>\n",
       "</tbody>\n",
       "</table>\n"
      ],
      "text/latex": [
       "A data.frame: 1 × 20\n",
       "\\begin{tabular}{r|llllllllllllllllllll}\n",
       "  & PATIENT\\_ID & SEX & PRIMARY\\_RACE & ETHNICITY & CENTER & INT\\_CONTACT & INT\\_DOD & YEAR\\_CONTACT & DEAD & YEAR\\_DEATH & SAMPLE\\_ID & AGE\\_AT\\_SEQ\\_REPORT & ONCOTREE\\_CODE & SAMPLE\\_TYPE & SEQ\\_ASSAY\\_ID & CANCER\\_TYPE & CANCER\\_TYPE\\_DETAILED & SAMPLE\\_TYPE\\_DETAILED & final\\_class & final\\_run\\_group\\\\\n",
       "  & <chr> & <chr> & <chr> & <chr> & <chr> & <chr> & <chr> & <chr> & <chr> & <chr> & <chr> & <chr> & <chr> & <chr> & <chr> & <chr> & <chr> & <chr> & <chr> & <chr>\\\\\n",
       "\\hline\n",
       "\t1 & GENIE-DFCI-000145 & Male & White & Non-Spanish/non-Hispanic & DFCI & 26418 & Not Applicable & 2022 & False & Not Applicable & GENIE-DFCI-000145-3971 & 64 & LUAD & Metastasis & DFCI-ONCOPANEL-2 & Non-Small Cell Lung Cancer & Lung Adenocarcinoma & Metastasis site unspecified & LUAD & Non-Small Cell Lung Cancer\\\\\n",
       "\\end{tabular}\n"
      ],
      "text/markdown": [
       "\n",
       "A data.frame: 1 × 20\n",
       "\n",
       "| <!--/--> | PATIENT_ID &lt;chr&gt; | SEX &lt;chr&gt; | PRIMARY_RACE &lt;chr&gt; | ETHNICITY &lt;chr&gt; | CENTER &lt;chr&gt; | INT_CONTACT &lt;chr&gt; | INT_DOD &lt;chr&gt; | YEAR_CONTACT &lt;chr&gt; | DEAD &lt;chr&gt; | YEAR_DEATH &lt;chr&gt; | SAMPLE_ID &lt;chr&gt; | AGE_AT_SEQ_REPORT &lt;chr&gt; | ONCOTREE_CODE &lt;chr&gt; | SAMPLE_TYPE &lt;chr&gt; | SEQ_ASSAY_ID &lt;chr&gt; | CANCER_TYPE &lt;chr&gt; | CANCER_TYPE_DETAILED &lt;chr&gt; | SAMPLE_TYPE_DETAILED &lt;chr&gt; | final_class &lt;chr&gt; | final_run_group &lt;chr&gt; |\n",
       "|---|---|---|---|---|---|---|---|---|---|---|---|---|---|---|---|---|---|---|---|---|\n",
       "| 1 | GENIE-DFCI-000145 | Male | White | Non-Spanish/non-Hispanic | DFCI | 26418 | Not Applicable | 2022 | False | Not Applicable | GENIE-DFCI-000145-3971 | 64 | LUAD | Metastasis | DFCI-ONCOPANEL-2 | Non-Small Cell Lung Cancer | Lung Adenocarcinoma | Metastasis site unspecified | LUAD | Non-Small Cell Lung Cancer |\n",
       "\n"
      ],
      "text/plain": [
       "  PATIENT_ID        SEX  PRIMARY_RACE ETHNICITY                CENTER\n",
       "1 GENIE-DFCI-000145 Male White        Non-Spanish/non-Hispanic DFCI  \n",
       "  INT_CONTACT INT_DOD        YEAR_CONTACT DEAD  YEAR_DEATH    \n",
       "1 26418       Not Applicable 2022         False Not Applicable\n",
       "  SAMPLE_ID              AGE_AT_SEQ_REPORT ONCOTREE_CODE SAMPLE_TYPE\n",
       "1 GENIE-DFCI-000145-3971 64                LUAD          Metastasis \n",
       "  SEQ_ASSAY_ID     CANCER_TYPE                CANCER_TYPE_DETAILED\n",
       "1 DFCI-ONCOPANEL-2 Non-Small Cell Lung Cancer Lung Adenocarcinoma \n",
       "  SAMPLE_TYPE_DETAILED        final_class final_run_group           \n",
       "1 Metastasis site unspecified LUAD        Non-Small Cell Lung Cancer"
      ]
     },
     "metadata": {},
     "output_type": "display_data"
    }
   ],
   "source": [
    "genie_metadata_15_dfci_with_mutation_selected_final_atleast_100_samples %>% head(1)"
   ]
  },
  {
   "cell_type": "code",
   "execution_count": 21,
   "id": "9b46ad7e-31a0-4274-b0bf-906bb05edc4e",
   "metadata": {},
   "outputs": [
    {
     "name": "stdout",
     "output_type": "stream",
     "text": [
      "List of 4\n",
      " $ all: chr [1:177] \"MTOR\" \"NRAS\" \"NTRK1\" \"SDHC\" ...\n",
      " $ p_2: chr [1:194] \"MTOR\" \"NRAS\" \"CD58\" \"NTRK1\" ...\n",
      " $ p_3: chr [1:257] \"MTOR\" \"NRAS\" \"RIT1\" \"NTRK1\" ...\n",
      " $ p_1: chr [1:183] \"MTOR\" \"NRAS\" \"CD58\" \"NTRK1\" ...\n"
     ]
    }
   ],
   "source": [
    "str(dfci_run_gene_list)"
   ]
  },
  {
   "cell_type": "code",
   "execution_count": 22,
   "id": "2d37c47a-7c33-48f7-a65e-55d3958db1c7",
   "metadata": {},
   "outputs": [],
   "source": [
    "assay_id<-unique(genie_metadata_15_dfci_with_mutation_selected_final_atleast_100_samples$SEQ_ASSAY_ID)"
   ]
  },
  {
   "cell_type": "code",
   "execution_count": 23,
   "id": "9746db41-fe93-4490-8fba-dc65b9af2468",
   "metadata": {},
   "outputs": [
    {
     "data": {
      "text/html": [
       "<style>\n",
       ".list-inline {list-style: none; margin:0; padding: 0}\n",
       ".list-inline>li {display: inline-block}\n",
       ".list-inline>li:not(:last-child)::after {content: \"\\00b7\"; padding: 0 .5ex}\n",
       "</style>\n",
       "<ol class=list-inline><li>'DFCI-ONCOPANEL-2'</li><li>'DFCI-ONCOPANEL-1'</li><li>'DFCI-ONCOPANEL-3.1'</li><li>'DFCI-ONCOPANEL-3'</li></ol>\n"
      ],
      "text/latex": [
       "\\begin{enumerate*}\n",
       "\\item 'DFCI-ONCOPANEL-2'\n",
       "\\item 'DFCI-ONCOPANEL-1'\n",
       "\\item 'DFCI-ONCOPANEL-3.1'\n",
       "\\item 'DFCI-ONCOPANEL-3'\n",
       "\\end{enumerate*}\n"
      ],
      "text/markdown": [
       "1. 'DFCI-ONCOPANEL-2'\n",
       "2. 'DFCI-ONCOPANEL-1'\n",
       "3. 'DFCI-ONCOPANEL-3.1'\n",
       "4. 'DFCI-ONCOPANEL-3'\n",
       "\n",
       "\n"
      ],
      "text/plain": [
       "[1] \"DFCI-ONCOPANEL-2\"   \"DFCI-ONCOPANEL-1\"   \"DFCI-ONCOPANEL-3.1\"\n",
       "[4] \"DFCI-ONCOPANEL-3\"  "
      ]
     },
     "metadata": {},
     "output_type": "display_data"
    }
   ],
   "source": [
    "assay_id"
   ]
  },
  {
   "cell_type": "code",
   "execution_count": null,
   "id": "508dd127-017b-419c-8240-2f780997bed8",
   "metadata": {
    "scrolled": true
   },
   "outputs": [],
   "source": [
    "for(name in names(dfci_run_gene_list)){\n",
    "    cat('--Running:',name,\"--\\n\")\n",
    "    if(name=='all'){\n",
    "        samples<-(genie_metadata_15_dfci_with_mutation_selected_final_atleast_100_samples %>% filter(SAMPLE_TYPE!='Primary') %>% \n",
    "                  group_by(final_class) %>% filter(n()>=30) %>% ungroup())$SAMPLE_ID\n",
    "        temp<- filter_run_data(run_data = dfci_run_m_data,\n",
    "                               gene_order = dfci_run_gene_list$all,\n",
    "                               sample_order =samples ) \n",
    "        label<-paste('../data/','dfci_panel_',name,'_meta_run_data.rds',sep=\"\")\n",
    "        saveRDS(temp,file = label,compress = TRUE)\n",
    "        dfci_result <- selectX(M = temp$M,\n",
    "                            sample.class = temp$sample.class,\n",
    "                            alteration.class = temp$alteration.class,\n",
    "                            n.cores = 15,\n",
    "                            min.freq = round(0.001*length(temp$sample.class)),\n",
    "                            n.permut = 1000,\n",
    "                            lambda = 0.3,\n",
    "                            tao = 1,\n",
    "                            save.object = FALSE,\n",
    "                            verbose = FALSE,\n",
    "                            estimate_pairwise = FALSE,\n",
    "                            maxFDR = 0.25,\n",
    "                            seed = 42)\n",
    "        label<-paste('../results/','dfci_panel_',name,'_meta_result.rds',sep=\"\")\n",
    "        saveRDS(dfci_result,file = label,compress = TRUE)\n",
    "        rm(dfci_result)\n",
    "    }\n",
    "    else if(name=='p_2'){\n",
    "        samples<-(genie_metadata_15_dfci_with_mutation_selected_final_atleast_100_samples %>% \n",
    "                  filter(SAMPLE_TYPE!='Primary' &SEQ_ASSAY_ID=='DFCI-ONCOPANEL-2') %>% group_by(final_class) %>% filter(n()>=30) %>% ungroup())$SAMPLE_ID\n",
    "        temp<- filter_run_data(run_data = dfci_run_m_data,\n",
    "                               gene_order = dfci_run_gene_list$p_2,\n",
    "                               sample_order =samples) \n",
    "        label<-paste('../data/','dfci_panel_',name,'_meta_run_data.rds',sep=\"\")\n",
    "        saveRDS(temp,file = label,compress = TRUE)\n",
    "        dfci_result <- selectX(M = temp$M,\n",
    "                            sample.class = temp$sample.class,\n",
    "                            alteration.class = temp$alteration.class,\n",
    "                            n.cores = 15,\n",
    "                            min.freq = round(0.001*length(temp$sample.class)),\n",
    "                            n.permut = 1000,\n",
    "                            lambda = 0.3,\n",
    "                            tao = 1,\n",
    "                            save.object = FALSE,\n",
    "                            verbose = FALSE,\n",
    "                            estimate_pairwise = FALSE,\n",
    "                            maxFDR = 0.25,\n",
    "                            seed = 42)\n",
    "\n",
    "        label<-paste('../results/','dfci_panel_',name,'_meta_result.rds',sep=\"\")\n",
    "        saveRDS(dfci_result,file = label,compress = TRUE)\n",
    "        rm(dfci_result)\n",
    "    }\n",
    "    else if(name=='p_1'){\n",
    "        samples<-(genie_metadata_15_dfci_with_mutation_selected_final_atleast_100_samples %>% \n",
    "                  filter(SAMPLE_TYPE!='Primary' &SEQ_ASSAY_ID=='DFCI-ONCOPANEL-1') %>% group_by(final_class) %>% filter(n()>=30) %>% ungroup())$SAMPLE_ID\n",
    "        temp<- filter_run_data(run_data = dfci_run_m_data,\n",
    "                               gene_order = dfci_run_gene_list$p_1,\n",
    "                               sample_order =samples) \n",
    "        label<-paste('../data/','dfci_panel_',name,'_meta_run_data.rds',sep=\"\")\n",
    "        saveRDS(temp,file = label,compress = TRUE)\n",
    "        dfci_result <- selectX(M = temp$M,\n",
    "                            sample.class = temp$sample.class,\n",
    "                            alteration.class = temp$alteration.class,\n",
    "                            n.cores = 15,\n",
    "                            min.freq = round(0.001*length(temp$sample.class)),\n",
    "                            n.permut = 1000,\n",
    "                            lambda = 0.3,\n",
    "                            tao = 1,\n",
    "                            save.object = FALSE,\n",
    "                            verbose = FALSE,\n",
    "                            estimate_pairwise = FALSE,\n",
    "                            maxFDR = 0.25,\n",
    "                            seed = 42)\n",
    "\n",
    "        label<-paste('../results/','dfci_panel_',name,'_meta_result.rds',sep=\"\")\n",
    "        saveRDS(dfci_result,file = label,compress = TRUE)\n",
    "        rm(dfci_result)\n",
    "    }\n",
    "    else{\n",
    "        samples<-(genie_metadata_15_dfci_with_mutation_selected_final_atleast_100_samples %>% \n",
    "        filter(SAMPLE_TYPE!='Primary' & SEQ_ASSAY_ID %in% c('DFCI-ONCOPANEL-3.1','DFCI-ONCOPANEL-3')) %>% group_by(final_class) %>% filter(n()>=30) %>% ungroup())$SAMPLE_ID\n",
    "        temp<- filter_run_data(run_data = dfci_run_m_data,\n",
    "                               gene_order = dfci_run_gene_list$p_3,\n",
    "                               sample_order =samples) \n",
    "        name<-'p3'\n",
    "        label<-paste('../data/','dfci_panel_',name,'_meta_run_data.rds',sep=\"\")\n",
    "        saveRDS(temp,file = label,compress = TRUE)\n",
    "        dfci_result <- selectX(M = temp$M,\n",
    "                            sample.class = temp$sample.class,\n",
    "                            alteration.class = temp$alteration.class,\n",
    "                            n.cores = 15,\n",
    "                            min.freq = round(0.001*length(temp$sample.class)),\n",
    "                            n.permut = 1000,\n",
    "                            lambda = 0.3,\n",
    "                            tao = 1,\n",
    "                            save.object = FALSE,\n",
    "                            verbose = FALSE,\n",
    "                            estimate_pairwise = FALSE,\n",
    "                            maxFDR = 0.25,\n",
    "                            seed = 42)\n",
    "\n",
    "        label<-paste('../results/','dfci_panel_',name,'_meta_result.rds',sep=\"\")\n",
    "        saveRDS(dfci_result,file = label,compress = TRUE)\n",
    "        rm(dfci_result)\n",
    "    }\n",
    " cat('\\n---Done---\\n')\n",
    "}"
   ]
  },
  {
   "cell_type": "markdown",
   "id": "40f3bd04-ceca-4241-973e-1e11cdb4990f",
   "metadata": {
    "jp-MarkdownHeadingCollapsed": true
   },
   "source": [
    "# Tumor Group Runs"
   ]
  },
  {
   "cell_type": "markdown",
   "id": "73a10b14-e782-4905-b5b7-2c0b0822de54",
   "metadata": {},
   "source": [
    "## DFCI Primary"
   ]
  },
  {
   "cell_type": "code",
   "execution_count": 24,
   "id": "ef443a5b-fd95-4c8c-a275-8bd270b95fbf",
   "metadata": {},
   "outputs": [
    {
     "data": {
      "text/html": [
       "<table class=\"dataframe\">\n",
       "<caption>A data.frame: 1 × 20</caption>\n",
       "<thead>\n",
       "\t<tr><th></th><th scope=col>PATIENT_ID</th><th scope=col>SEX</th><th scope=col>PRIMARY_RACE</th><th scope=col>ETHNICITY</th><th scope=col>CENTER</th><th scope=col>INT_CONTACT</th><th scope=col>INT_DOD</th><th scope=col>YEAR_CONTACT</th><th scope=col>DEAD</th><th scope=col>YEAR_DEATH</th><th scope=col>SAMPLE_ID</th><th scope=col>AGE_AT_SEQ_REPORT</th><th scope=col>ONCOTREE_CODE</th><th scope=col>SAMPLE_TYPE</th><th scope=col>SEQ_ASSAY_ID</th><th scope=col>CANCER_TYPE</th><th scope=col>CANCER_TYPE_DETAILED</th><th scope=col>SAMPLE_TYPE_DETAILED</th><th scope=col>final_class</th><th scope=col>final_run_group</th></tr>\n",
       "\t<tr><th></th><th scope=col>&lt;chr&gt;</th><th scope=col>&lt;chr&gt;</th><th scope=col>&lt;chr&gt;</th><th scope=col>&lt;chr&gt;</th><th scope=col>&lt;chr&gt;</th><th scope=col>&lt;chr&gt;</th><th scope=col>&lt;chr&gt;</th><th scope=col>&lt;chr&gt;</th><th scope=col>&lt;chr&gt;</th><th scope=col>&lt;chr&gt;</th><th scope=col>&lt;chr&gt;</th><th scope=col>&lt;chr&gt;</th><th scope=col>&lt;chr&gt;</th><th scope=col>&lt;chr&gt;</th><th scope=col>&lt;chr&gt;</th><th scope=col>&lt;chr&gt;</th><th scope=col>&lt;chr&gt;</th><th scope=col>&lt;chr&gt;</th><th scope=col>&lt;chr&gt;</th><th scope=col>&lt;chr&gt;</th></tr>\n",
       "</thead>\n",
       "<tbody>\n",
       "\t<tr><th scope=row>1</th><td>GENIE-DFCI-000145</td><td>Male</td><td>White</td><td>Non-Spanish/non-Hispanic</td><td>DFCI</td><td>26418</td><td>Not Applicable</td><td>2022</td><td>False</td><td>Not Applicable</td><td>GENIE-DFCI-000145-3971</td><td>64</td><td>LUAD</td><td>Metastasis</td><td>DFCI-ONCOPANEL-2</td><td>Non-Small Cell Lung Cancer</td><td>Lung Adenocarcinoma</td><td>Metastasis site unspecified</td><td>LUAD</td><td>Non-Small Cell Lung Cancer</td></tr>\n",
       "</tbody>\n",
       "</table>\n"
      ],
      "text/latex": [
       "A data.frame: 1 × 20\n",
       "\\begin{tabular}{r|llllllllllllllllllll}\n",
       "  & PATIENT\\_ID & SEX & PRIMARY\\_RACE & ETHNICITY & CENTER & INT\\_CONTACT & INT\\_DOD & YEAR\\_CONTACT & DEAD & YEAR\\_DEATH & SAMPLE\\_ID & AGE\\_AT\\_SEQ\\_REPORT & ONCOTREE\\_CODE & SAMPLE\\_TYPE & SEQ\\_ASSAY\\_ID & CANCER\\_TYPE & CANCER\\_TYPE\\_DETAILED & SAMPLE\\_TYPE\\_DETAILED & final\\_class & final\\_run\\_group\\\\\n",
       "  & <chr> & <chr> & <chr> & <chr> & <chr> & <chr> & <chr> & <chr> & <chr> & <chr> & <chr> & <chr> & <chr> & <chr> & <chr> & <chr> & <chr> & <chr> & <chr> & <chr>\\\\\n",
       "\\hline\n",
       "\t1 & GENIE-DFCI-000145 & Male & White & Non-Spanish/non-Hispanic & DFCI & 26418 & Not Applicable & 2022 & False & Not Applicable & GENIE-DFCI-000145-3971 & 64 & LUAD & Metastasis & DFCI-ONCOPANEL-2 & Non-Small Cell Lung Cancer & Lung Adenocarcinoma & Metastasis site unspecified & LUAD & Non-Small Cell Lung Cancer\\\\\n",
       "\\end{tabular}\n"
      ],
      "text/markdown": [
       "\n",
       "A data.frame: 1 × 20\n",
       "\n",
       "| <!--/--> | PATIENT_ID &lt;chr&gt; | SEX &lt;chr&gt; | PRIMARY_RACE &lt;chr&gt; | ETHNICITY &lt;chr&gt; | CENTER &lt;chr&gt; | INT_CONTACT &lt;chr&gt; | INT_DOD &lt;chr&gt; | YEAR_CONTACT &lt;chr&gt; | DEAD &lt;chr&gt; | YEAR_DEATH &lt;chr&gt; | SAMPLE_ID &lt;chr&gt; | AGE_AT_SEQ_REPORT &lt;chr&gt; | ONCOTREE_CODE &lt;chr&gt; | SAMPLE_TYPE &lt;chr&gt; | SEQ_ASSAY_ID &lt;chr&gt; | CANCER_TYPE &lt;chr&gt; | CANCER_TYPE_DETAILED &lt;chr&gt; | SAMPLE_TYPE_DETAILED &lt;chr&gt; | final_class &lt;chr&gt; | final_run_group &lt;chr&gt; |\n",
       "|---|---|---|---|---|---|---|---|---|---|---|---|---|---|---|---|---|---|---|---|---|\n",
       "| 1 | GENIE-DFCI-000145 | Male | White | Non-Spanish/non-Hispanic | DFCI | 26418 | Not Applicable | 2022 | False | Not Applicable | GENIE-DFCI-000145-3971 | 64 | LUAD | Metastasis | DFCI-ONCOPANEL-2 | Non-Small Cell Lung Cancer | Lung Adenocarcinoma | Metastasis site unspecified | LUAD | Non-Small Cell Lung Cancer |\n",
       "\n"
      ],
      "text/plain": [
       "  PATIENT_ID        SEX  PRIMARY_RACE ETHNICITY                CENTER\n",
       "1 GENIE-DFCI-000145 Male White        Non-Spanish/non-Hispanic DFCI  \n",
       "  INT_CONTACT INT_DOD        YEAR_CONTACT DEAD  YEAR_DEATH    \n",
       "1 26418       Not Applicable 2022         False Not Applicable\n",
       "  SAMPLE_ID              AGE_AT_SEQ_REPORT ONCOTREE_CODE SAMPLE_TYPE\n",
       "1 GENIE-DFCI-000145-3971 64                LUAD          Metastasis \n",
       "  SEQ_ASSAY_ID     CANCER_TYPE                CANCER_TYPE_DETAILED\n",
       "1 DFCI-ONCOPANEL-2 Non-Small Cell Lung Cancer Lung Adenocarcinoma \n",
       "  SAMPLE_TYPE_DETAILED        final_class final_run_group           \n",
       "1 Metastasis site unspecified LUAD        Non-Small Cell Lung Cancer"
      ]
     },
     "metadata": {},
     "output_type": "display_data"
    }
   ],
   "source": [
    "genie_metadata_15_dfci_with_mutation_selected_final_atleast_100_samples %>% head(1)"
   ]
  },
  {
   "cell_type": "code",
   "execution_count": 25,
   "id": "7b6b72c6-a90d-4e84-b328-39234b3d4e86",
   "metadata": {},
   "outputs": [
    {
     "name": "stdout",
     "output_type": "stream",
     "text": [
      "List of 4\n",
      " $ all: chr [1:177] \"MTOR\" \"NRAS\" \"NTRK1\" \"SDHC\" ...\n",
      " $ p_2: chr [1:194] \"MTOR\" \"NRAS\" \"CD58\" \"NTRK1\" ...\n",
      " $ p_3: chr [1:257] \"MTOR\" \"NRAS\" \"RIT1\" \"NTRK1\" ...\n",
      " $ p_1: chr [1:183] \"MTOR\" \"NRAS\" \"CD58\" \"NTRK1\" ...\n"
     ]
    }
   ],
   "source": [
    "str(dfci_run_gene_list)"
   ]
  },
  {
   "cell_type": "code",
   "execution_count": 26,
   "id": "491ce850-f03e-4cb6-aeb7-245dd9beebef",
   "metadata": {},
   "outputs": [],
   "source": [
    "assay_id<-unique(genie_metadata_15_dfci_with_mutation_selected_final_atleast_100_samples$SEQ_ASSAY_ID)"
   ]
  },
  {
   "cell_type": "code",
   "execution_count": 27,
   "id": "e7de7caa-ca96-4fd7-9686-8f4d6b96b8e7",
   "metadata": {},
   "outputs": [
    {
     "data": {
      "text/html": [
       "<style>\n",
       ".list-inline {list-style: none; margin:0; padding: 0}\n",
       ".list-inline>li {display: inline-block}\n",
       ".list-inline>li:not(:last-child)::after {content: \"\\00b7\"; padding: 0 .5ex}\n",
       "</style>\n",
       "<ol class=list-inline><li>'DFCI-ONCOPANEL-2'</li><li>'DFCI-ONCOPANEL-1'</li><li>'DFCI-ONCOPANEL-3.1'</li><li>'DFCI-ONCOPANEL-3'</li></ol>\n"
      ],
      "text/latex": [
       "\\begin{enumerate*}\n",
       "\\item 'DFCI-ONCOPANEL-2'\n",
       "\\item 'DFCI-ONCOPANEL-1'\n",
       "\\item 'DFCI-ONCOPANEL-3.1'\n",
       "\\item 'DFCI-ONCOPANEL-3'\n",
       "\\end{enumerate*}\n"
      ],
      "text/markdown": [
       "1. 'DFCI-ONCOPANEL-2'\n",
       "2. 'DFCI-ONCOPANEL-1'\n",
       "3. 'DFCI-ONCOPANEL-3.1'\n",
       "4. 'DFCI-ONCOPANEL-3'\n",
       "\n",
       "\n"
      ],
      "text/plain": [
       "[1] \"DFCI-ONCOPANEL-2\"   \"DFCI-ONCOPANEL-1\"   \"DFCI-ONCOPANEL-3.1\"\n",
       "[4] \"DFCI-ONCOPANEL-3\"  "
      ]
     },
     "metadata": {},
     "output_type": "display_data"
    }
   ],
   "source": [
    "assay_id"
   ]
  },
  {
   "cell_type": "code",
   "execution_count": 28,
   "id": "f30a4e7c-f7c9-4334-90de-bfa6157640ec",
   "metadata": {},
   "outputs": [
    {
     "data": {
      "text/html": [
       "<table class=\"dataframe\">\n",
       "<caption>A data.frame: 2 × 20</caption>\n",
       "<thead>\n",
       "\t<tr><th></th><th scope=col>PATIENT_ID</th><th scope=col>SEX</th><th scope=col>PRIMARY_RACE</th><th scope=col>ETHNICITY</th><th scope=col>CENTER</th><th scope=col>INT_CONTACT</th><th scope=col>INT_DOD</th><th scope=col>YEAR_CONTACT</th><th scope=col>DEAD</th><th scope=col>YEAR_DEATH</th><th scope=col>SAMPLE_ID</th><th scope=col>AGE_AT_SEQ_REPORT</th><th scope=col>ONCOTREE_CODE</th><th scope=col>SAMPLE_TYPE</th><th scope=col>SEQ_ASSAY_ID</th><th scope=col>CANCER_TYPE</th><th scope=col>CANCER_TYPE_DETAILED</th><th scope=col>SAMPLE_TYPE_DETAILED</th><th scope=col>final_class</th><th scope=col>final_run_group</th></tr>\n",
       "\t<tr><th></th><th scope=col>&lt;chr&gt;</th><th scope=col>&lt;chr&gt;</th><th scope=col>&lt;chr&gt;</th><th scope=col>&lt;chr&gt;</th><th scope=col>&lt;chr&gt;</th><th scope=col>&lt;chr&gt;</th><th scope=col>&lt;chr&gt;</th><th scope=col>&lt;chr&gt;</th><th scope=col>&lt;chr&gt;</th><th scope=col>&lt;chr&gt;</th><th scope=col>&lt;chr&gt;</th><th scope=col>&lt;chr&gt;</th><th scope=col>&lt;chr&gt;</th><th scope=col>&lt;chr&gt;</th><th scope=col>&lt;chr&gt;</th><th scope=col>&lt;chr&gt;</th><th scope=col>&lt;chr&gt;</th><th scope=col>&lt;chr&gt;</th><th scope=col>&lt;chr&gt;</th><th scope=col>&lt;chr&gt;</th></tr>\n",
       "</thead>\n",
       "<tbody>\n",
       "\t<tr><th scope=row>1</th><td>GENIE-DFCI-000145</td><td>Male</td><td>White</td><td>Non-Spanish/non-Hispanic</td><td>DFCI</td><td>26418</td><td>Not Applicable</td><td>2022</td><td>False</td><td>Not Applicable</td><td>GENIE-DFCI-000145-3971</td><td>64</td><td>LUAD</td><td>Metastasis</td><td>DFCI-ONCOPANEL-2</td><td>Non-Small Cell Lung Cancer</td><td>Lung Adenocarcinoma</td><td>Metastasis site unspecified</td><td>LUAD</td><td>Non-Small Cell Lung Cancer</td></tr>\n",
       "\t<tr><th scope=row>2</th><td>GENIE-DFCI-007383</td><td>Male</td><td>White</td><td>Non-Spanish/non-Hispanic</td><td>DFCI</td><td>23668</td><td>23673         </td><td>2015</td><td>True </td><td>2015          </td><td>GENIE-DFCI-007383-3930</td><td>64</td><td>LUAD</td><td>Metastasis</td><td>DFCI-ONCOPANEL-2</td><td>Non-Small Cell Lung Cancer</td><td>Lung Adenocarcinoma</td><td>Metastasis site unspecified</td><td>LUAD</td><td>Non-Small Cell Lung Cancer</td></tr>\n",
       "</tbody>\n",
       "</table>\n"
      ],
      "text/latex": [
       "A data.frame: 2 × 20\n",
       "\\begin{tabular}{r|llllllllllllllllllll}\n",
       "  & PATIENT\\_ID & SEX & PRIMARY\\_RACE & ETHNICITY & CENTER & INT\\_CONTACT & INT\\_DOD & YEAR\\_CONTACT & DEAD & YEAR\\_DEATH & SAMPLE\\_ID & AGE\\_AT\\_SEQ\\_REPORT & ONCOTREE\\_CODE & SAMPLE\\_TYPE & SEQ\\_ASSAY\\_ID & CANCER\\_TYPE & CANCER\\_TYPE\\_DETAILED & SAMPLE\\_TYPE\\_DETAILED & final\\_class & final\\_run\\_group\\\\\n",
       "  & <chr> & <chr> & <chr> & <chr> & <chr> & <chr> & <chr> & <chr> & <chr> & <chr> & <chr> & <chr> & <chr> & <chr> & <chr> & <chr> & <chr> & <chr> & <chr> & <chr>\\\\\n",
       "\\hline\n",
       "\t1 & GENIE-DFCI-000145 & Male & White & Non-Spanish/non-Hispanic & DFCI & 26418 & Not Applicable & 2022 & False & Not Applicable & GENIE-DFCI-000145-3971 & 64 & LUAD & Metastasis & DFCI-ONCOPANEL-2 & Non-Small Cell Lung Cancer & Lung Adenocarcinoma & Metastasis site unspecified & LUAD & Non-Small Cell Lung Cancer\\\\\n",
       "\t2 & GENIE-DFCI-007383 & Male & White & Non-Spanish/non-Hispanic & DFCI & 23668 & 23673          & 2015 & True  & 2015           & GENIE-DFCI-007383-3930 & 64 & LUAD & Metastasis & DFCI-ONCOPANEL-2 & Non-Small Cell Lung Cancer & Lung Adenocarcinoma & Metastasis site unspecified & LUAD & Non-Small Cell Lung Cancer\\\\\n",
       "\\end{tabular}\n"
      ],
      "text/markdown": [
       "\n",
       "A data.frame: 2 × 20\n",
       "\n",
       "| <!--/--> | PATIENT_ID &lt;chr&gt; | SEX &lt;chr&gt; | PRIMARY_RACE &lt;chr&gt; | ETHNICITY &lt;chr&gt; | CENTER &lt;chr&gt; | INT_CONTACT &lt;chr&gt; | INT_DOD &lt;chr&gt; | YEAR_CONTACT &lt;chr&gt; | DEAD &lt;chr&gt; | YEAR_DEATH &lt;chr&gt; | SAMPLE_ID &lt;chr&gt; | AGE_AT_SEQ_REPORT &lt;chr&gt; | ONCOTREE_CODE &lt;chr&gt; | SAMPLE_TYPE &lt;chr&gt; | SEQ_ASSAY_ID &lt;chr&gt; | CANCER_TYPE &lt;chr&gt; | CANCER_TYPE_DETAILED &lt;chr&gt; | SAMPLE_TYPE_DETAILED &lt;chr&gt; | final_class &lt;chr&gt; | final_run_group &lt;chr&gt; |\n",
       "|---|---|---|---|---|---|---|---|---|---|---|---|---|---|---|---|---|---|---|---|---|\n",
       "| 1 | GENIE-DFCI-000145 | Male | White | Non-Spanish/non-Hispanic | DFCI | 26418 | Not Applicable | 2022 | False | Not Applicable | GENIE-DFCI-000145-3971 | 64 | LUAD | Metastasis | DFCI-ONCOPANEL-2 | Non-Small Cell Lung Cancer | Lung Adenocarcinoma | Metastasis site unspecified | LUAD | Non-Small Cell Lung Cancer |\n",
       "| 2 | GENIE-DFCI-007383 | Male | White | Non-Spanish/non-Hispanic | DFCI | 23668 | 23673          | 2015 | True  | 2015           | GENIE-DFCI-007383-3930 | 64 | LUAD | Metastasis | DFCI-ONCOPANEL-2 | Non-Small Cell Lung Cancer | Lung Adenocarcinoma | Metastasis site unspecified | LUAD | Non-Small Cell Lung Cancer |\n",
       "\n"
      ],
      "text/plain": [
       "  PATIENT_ID        SEX  PRIMARY_RACE ETHNICITY                CENTER\n",
       "1 GENIE-DFCI-000145 Male White        Non-Spanish/non-Hispanic DFCI  \n",
       "2 GENIE-DFCI-007383 Male White        Non-Spanish/non-Hispanic DFCI  \n",
       "  INT_CONTACT INT_DOD        YEAR_CONTACT DEAD  YEAR_DEATH    \n",
       "1 26418       Not Applicable 2022         False Not Applicable\n",
       "2 23668       23673          2015         True  2015          \n",
       "  SAMPLE_ID              AGE_AT_SEQ_REPORT ONCOTREE_CODE SAMPLE_TYPE\n",
       "1 GENIE-DFCI-000145-3971 64                LUAD          Metastasis \n",
       "2 GENIE-DFCI-007383-3930 64                LUAD          Metastasis \n",
       "  SEQ_ASSAY_ID     CANCER_TYPE                CANCER_TYPE_DETAILED\n",
       "1 DFCI-ONCOPANEL-2 Non-Small Cell Lung Cancer Lung Adenocarcinoma \n",
       "2 DFCI-ONCOPANEL-2 Non-Small Cell Lung Cancer Lung Adenocarcinoma \n",
       "  SAMPLE_TYPE_DETAILED        final_class final_run_group           \n",
       "1 Metastasis site unspecified LUAD        Non-Small Cell Lung Cancer\n",
       "2 Metastasis site unspecified LUAD        Non-Small Cell Lung Cancer"
      ]
     },
     "metadata": {},
     "output_type": "display_data"
    }
   ],
   "source": [
    "genie_metadata_15_dfci_with_mutation_selected_final_atleast_100_samples %>% head(2)"
   ]
  },
  {
   "cell_type": "code",
   "execution_count": 29,
   "id": "3400f5b5-2026-4f26-9704-039adbc2cee7",
   "metadata": {},
   "outputs": [],
   "source": [
    "tumor_groups<-unique(genie_metadata_15_dfci_with_mutation_selected_final_atleast_100_samples$final_run_group)"
   ]
  },
  {
   "cell_type": "code",
   "execution_count": 30,
   "id": "0c3c7da4-aa10-4dc8-95a4-8fb9fda63cc7",
   "metadata": {},
   "outputs": [],
   "source": [
    "cleaned_tumor_groups <- tolower(gsub(\"[[:space:]/-]\", \"_\", tumor_groups))"
   ]
  },
  {
   "cell_type": "code",
   "execution_count": 31,
   "id": "67f34b4c-9a58-4c96-ba9c-714a6b75d32a",
   "metadata": {},
   "outputs": [],
   "source": [
    "mapped_tumor_groups <- cleaned_tumor_groups\n",
    "names(mapped_tumor_groups)<-tumor_groups"
   ]
  },
  {
   "cell_type": "code",
   "execution_count": 32,
   "id": "c78937ac-630c-4c00-88b5-eec35891a859",
   "metadata": {},
   "outputs": [
    {
     "name": "stdout",
     "output_type": "stream",
     "text": [
      " Named chr [1:26] \"non_small_cell_lung_cancer\" \"bladder_cancer\" ...\n",
      " - attr(*, \"names\")= chr [1:26] \"Non-Small Cell Lung Cancer\" \"Bladder Cancer\" \"Thyroid Cancer\" \"Esophagogastric Cancer\" ...\n"
     ]
    }
   ],
   "source": [
    "str(mapped_tumor_groups)"
   ]
  },
  {
   "cell_type": "code",
   "execution_count": null,
   "id": "8de26d54-9b46-4d2a-b142-964fb8af63c5",
   "metadata": {},
   "outputs": [],
   "source": [
    "for(name in names(dfci_run_gene_list)){\n",
    "    cat('--Running:',name,\"--\\n\")\n",
    "    if(name=='all'){\n",
    "        for(tumor_group in names(mapped_tumor_groups)){\n",
    "            samples<-(genie_metadata_15_dfci_with_mutation_selected_final_atleast_100_samples %>% \n",
    "                      filter(SAMPLE_TYPE=='Primary' & final_run_group==tumor_group)%>% group_by(final_class) %>% filter(n()>=30) %>% ungroup())$SAMPLE_ID\n",
    "            if(length(samples)>=30){\n",
    "                cat('---Tumor Group---',tumor_group,\"--\\n\")\n",
    "                    temp<- filter_run_data(run_data = dfci_run_p_data,\n",
    "                                           gene_order = dfci_run_gene_list$all,\n",
    "                                           sample_order =samples ) \n",
    "                    finalname<-paste(mapped_tumor_groups[tumor_group],name,sep=\"_\")\n",
    "                    label<-paste('../data/','dfci_panel_',finalname,'_primary_run_data.rds',sep=\"\")\n",
    "                    saveRDS(temp,file = label,compress = TRUE)\n",
    "                    dfci_result <- selectX(M = temp$M,\n",
    "                                        sample.class = temp$sample.class,\n",
    "                                        alteration.class = temp$alteration.class,\n",
    "                                        n.cores = 15,\n",
    "                                        min.freq = round(0.001*length(temp$sample.class)),\n",
    "                                        n.permut = 1000,\n",
    "                                        lambda = 0.3,\n",
    "                                        tao = 1,\n",
    "                                        save.object = FALSE,\n",
    "                                        verbose = FALSE,\n",
    "                                        estimate_pairwise = FALSE,\n",
    "                                        maxFDR = 0.25,\n",
    "                                        seed = 42)\n",
    "                    label<-paste('../results/','dfci_panel_',finalname,'_primary_result.rds',sep=\"\")\n",
    "                    saveRDS(dfci_result,file = label,compress = TRUE)\n",
    "                    rm(dfci_result)                \n",
    "                cat('---Tumor Group---',tumor_group,\"--Done--\\n\")        \n",
    "                \n",
    "            }\n",
    "        }    \n",
    "    }\n",
    "    else if(name=='p_2'){\n",
    "        for(tumor_group in names(mapped_tumor_groups)){\n",
    "            samples<-(genie_metadata_15_dfci_with_mutation_selected_final_atleast_100_samples %>% \n",
    "                      filter(SAMPLE_TYPE=='Primary' &SEQ_ASSAY_ID=='DFCI-ONCOPANEL-2' & final_run_group==tumor_group)%>% group_by(final_class) %>% filter(n()>=30) %>% ungroup())$SAMPLE_ID\n",
    "            if(length(samples)>=30){\n",
    "                cat('---Tumor Group---',tumor_group,\"--\\n\")\n",
    "                    temp<- filter_run_data(run_data = dfci_run_p_data,\n",
    "                                           gene_order = dfci_run_gene_list$p_2,\n",
    "                                           sample_order =samples ) \n",
    "                    finalname<-paste(mapped_tumor_groups[tumor_group],name,sep=\"_\")\n",
    "                    label<-paste('../data/','dfci_panel_',finalname,'_primary_run_data.rds',sep=\"\")\n",
    "                    saveRDS(temp,file = label,compress = TRUE)\n",
    "                    dfci_result <- selectX(M = temp$M,\n",
    "                                        sample.class = temp$sample.class,\n",
    "                                        alteration.class = temp$alteration.class,\n",
    "                                        n.cores = 15,\n",
    "                                        min.freq = round(0.001*length(temp$sample.class)),\n",
    "                                        n.permut = 1000,\n",
    "                                        lambda = 0.3,\n",
    "                                        tao = 1,\n",
    "                                        save.object = FALSE,\n",
    "                                        verbose = FALSE,\n",
    "                                        estimate_pairwise = FALSE,\n",
    "                                        maxFDR = 0.25,\n",
    "                                        seed = 42)\n",
    "                    label<-paste('../results/','dfci_panel_',finalname,'_primary_result.rds',sep=\"\")\n",
    "                    saveRDS(dfci_result,file = label,compress = TRUE)\n",
    "                    rm(dfci_result)                \n",
    "                cat('---Tumor Group---',tumor_group,\"--Done--\\n\")        \n",
    "                \n",
    "            }\n",
    "        }\n",
    "    }\n",
    "    else if(name=='p_1'){\n",
    "        for(tumor_group in names(mapped_tumor_groups)){\n",
    "            samples<-(genie_metadata_15_dfci_with_mutation_selected_final_atleast_100_samples %>% \n",
    "                      filter(SAMPLE_TYPE=='Primary' &SEQ_ASSAY_ID=='DFCI-ONCOPANEL-1' & final_run_group==tumor_group)%>% group_by(final_class) %>% filter(n()>=30) %>% ungroup())$SAMPLE_ID\n",
    "            if(length(samples)>=30){\n",
    "                cat('---Tumor Group---',tumor_group,\"--\\n\")\n",
    "                    temp<- filter_run_data(run_data = dfci_run_p_data,\n",
    "                                           gene_order = dfci_run_gene_list$p_1,\n",
    "                                           sample_order =samples ) \n",
    "                    finalname<-paste(mapped_tumor_groups[tumor_group],name,sep=\"_\")\n",
    "                    label<-paste('../data/','dfci_panel_',finalname,'_primary_run_data.rds',sep=\"\")\n",
    "                    saveRDS(temp,file = label,compress = TRUE)\n",
    "                    dfci_result <- selectX(M = temp$M,\n",
    "                                        sample.class = temp$sample.class,\n",
    "                                        alteration.class = temp$alteration.class,\n",
    "                                        n.cores = 15,\n",
    "                                        min.freq = round(0.001*length(temp$sample.class)),\n",
    "                                        n.permut = 1000,\n",
    "                                        lambda = 0.3,\n",
    "                                        tao = 1,\n",
    "                                        save.object = FALSE,\n",
    "                                        verbose = FALSE,\n",
    "                                        estimate_pairwise = FALSE,\n",
    "                                        maxFDR = 0.25,\n",
    "                                        seed = 42)\n",
    "                    label<-paste('../results/','dfci_panel_',finalname,'_primary_result.rds',sep=\"\")\n",
    "                    saveRDS(dfci_result,file = label,compress = TRUE)\n",
    "                    rm(dfci_result)                \n",
    "                cat('---Tumor Group---',tumor_group,\"--Done--\\n\")        \n",
    "                \n",
    "            }\n",
    "        }\n",
    "        \n",
    "    }\n",
    "    else{\n",
    "        for(tumor_group in names(mapped_tumor_groups)){\n",
    "            samples<-(genie_metadata_15_dfci_with_mutation_selected_final_atleast_100_samples %>% \n",
    "                      filter(SAMPLE_TYPE=='Primary' & SEQ_ASSAY_ID %in% c('DFCI-ONCOPANEL-3.1','DFCI-ONCOPANEL-3') & final_run_group==tumor_group)%>% group_by(final_class) %>% filter(n()>=30) %>% ungroup())$SAMPLE_ID\n",
    "            if(length(samples)>=30){\n",
    "                cat('---Tumor Group---',tumor_group,\"--\\n\")\n",
    "                    temp<- filter_run_data(run_data = dfci_run_p_data,\n",
    "                                           gene_order = dfci_run_gene_list$p_3,\n",
    "                                           sample_order =samples ) \n",
    "                    finalname<-paste(mapped_tumor_groups[tumor_group],'p_3',sep=\"_\")\n",
    "                    label<-paste('../data/','dfci_panel_',finalname,'_primary_run_data.rds',sep=\"\")\n",
    "                    saveRDS(temp,file = label,compress = TRUE)\n",
    "                    dfci_result <- selectX(M = temp$M,\n",
    "                                        sample.class = temp$sample.class,\n",
    "                                        alteration.class = temp$alteration.class,\n",
    "                                        n.cores = 15,\n",
    "                                        min.freq = round(0.001*length(temp$sample.class)),\n",
    "                                        n.permut = 1000,\n",
    "                                        lambda = 0.3,\n",
    "                                        tao = 1,\n",
    "                                        save.object = FALSE,\n",
    "                                        verbose = FALSE,\n",
    "                                        estimate_pairwise = FALSE,\n",
    "                                        maxFDR = 0.25,\n",
    "                                        seed = 42)\n",
    "                    label<-paste('../results/','dfci_panel_',finalname,'_primary_result.rds',sep=\"\")\n",
    "                    saveRDS(dfci_result,file = label,compress = TRUE)\n",
    "                    rm(dfci_result)                \n",
    "                cat('---Tumor Group---',tumor_group,\"--Done--\\n\")        \n",
    "                \n",
    "            }\n",
    "        }\n",
    "    }\n",
    " cat('\\n---Done---\\n')\n",
    "}"
   ]
  },
  {
   "cell_type": "markdown",
   "id": "5a1b4988-bde1-4fd5-9496-dcac5abb45ad",
   "metadata": {},
   "source": [
    "## DFCI Metastasis"
   ]
  },
  {
   "cell_type": "code",
   "execution_count": 33,
   "id": "944b63ad-e844-4b42-b36d-f512348ea962",
   "metadata": {},
   "outputs": [
    {
     "data": {
      "text/html": [
       "<table class=\"dataframe\">\n",
       "<caption>A data.frame: 1 × 20</caption>\n",
       "<thead>\n",
       "\t<tr><th></th><th scope=col>PATIENT_ID</th><th scope=col>SEX</th><th scope=col>PRIMARY_RACE</th><th scope=col>ETHNICITY</th><th scope=col>CENTER</th><th scope=col>INT_CONTACT</th><th scope=col>INT_DOD</th><th scope=col>YEAR_CONTACT</th><th scope=col>DEAD</th><th scope=col>YEAR_DEATH</th><th scope=col>SAMPLE_ID</th><th scope=col>AGE_AT_SEQ_REPORT</th><th scope=col>ONCOTREE_CODE</th><th scope=col>SAMPLE_TYPE</th><th scope=col>SEQ_ASSAY_ID</th><th scope=col>CANCER_TYPE</th><th scope=col>CANCER_TYPE_DETAILED</th><th scope=col>SAMPLE_TYPE_DETAILED</th><th scope=col>final_class</th><th scope=col>final_run_group</th></tr>\n",
       "\t<tr><th></th><th scope=col>&lt;chr&gt;</th><th scope=col>&lt;chr&gt;</th><th scope=col>&lt;chr&gt;</th><th scope=col>&lt;chr&gt;</th><th scope=col>&lt;chr&gt;</th><th scope=col>&lt;chr&gt;</th><th scope=col>&lt;chr&gt;</th><th scope=col>&lt;chr&gt;</th><th scope=col>&lt;chr&gt;</th><th scope=col>&lt;chr&gt;</th><th scope=col>&lt;chr&gt;</th><th scope=col>&lt;chr&gt;</th><th scope=col>&lt;chr&gt;</th><th scope=col>&lt;chr&gt;</th><th scope=col>&lt;chr&gt;</th><th scope=col>&lt;chr&gt;</th><th scope=col>&lt;chr&gt;</th><th scope=col>&lt;chr&gt;</th><th scope=col>&lt;chr&gt;</th><th scope=col>&lt;chr&gt;</th></tr>\n",
       "</thead>\n",
       "<tbody>\n",
       "\t<tr><th scope=row>1</th><td>GENIE-DFCI-000145</td><td>Male</td><td>White</td><td>Non-Spanish/non-Hispanic</td><td>DFCI</td><td>26418</td><td>Not Applicable</td><td>2022</td><td>False</td><td>Not Applicable</td><td>GENIE-DFCI-000145-3971</td><td>64</td><td>LUAD</td><td>Metastasis</td><td>DFCI-ONCOPANEL-2</td><td>Non-Small Cell Lung Cancer</td><td>Lung Adenocarcinoma</td><td>Metastasis site unspecified</td><td>LUAD</td><td>Non-Small Cell Lung Cancer</td></tr>\n",
       "</tbody>\n",
       "</table>\n"
      ],
      "text/latex": [
       "A data.frame: 1 × 20\n",
       "\\begin{tabular}{r|llllllllllllllllllll}\n",
       "  & PATIENT\\_ID & SEX & PRIMARY\\_RACE & ETHNICITY & CENTER & INT\\_CONTACT & INT\\_DOD & YEAR\\_CONTACT & DEAD & YEAR\\_DEATH & SAMPLE\\_ID & AGE\\_AT\\_SEQ\\_REPORT & ONCOTREE\\_CODE & SAMPLE\\_TYPE & SEQ\\_ASSAY\\_ID & CANCER\\_TYPE & CANCER\\_TYPE\\_DETAILED & SAMPLE\\_TYPE\\_DETAILED & final\\_class & final\\_run\\_group\\\\\n",
       "  & <chr> & <chr> & <chr> & <chr> & <chr> & <chr> & <chr> & <chr> & <chr> & <chr> & <chr> & <chr> & <chr> & <chr> & <chr> & <chr> & <chr> & <chr> & <chr> & <chr>\\\\\n",
       "\\hline\n",
       "\t1 & GENIE-DFCI-000145 & Male & White & Non-Spanish/non-Hispanic & DFCI & 26418 & Not Applicable & 2022 & False & Not Applicable & GENIE-DFCI-000145-3971 & 64 & LUAD & Metastasis & DFCI-ONCOPANEL-2 & Non-Small Cell Lung Cancer & Lung Adenocarcinoma & Metastasis site unspecified & LUAD & Non-Small Cell Lung Cancer\\\\\n",
       "\\end{tabular}\n"
      ],
      "text/markdown": [
       "\n",
       "A data.frame: 1 × 20\n",
       "\n",
       "| <!--/--> | PATIENT_ID &lt;chr&gt; | SEX &lt;chr&gt; | PRIMARY_RACE &lt;chr&gt; | ETHNICITY &lt;chr&gt; | CENTER &lt;chr&gt; | INT_CONTACT &lt;chr&gt; | INT_DOD &lt;chr&gt; | YEAR_CONTACT &lt;chr&gt; | DEAD &lt;chr&gt; | YEAR_DEATH &lt;chr&gt; | SAMPLE_ID &lt;chr&gt; | AGE_AT_SEQ_REPORT &lt;chr&gt; | ONCOTREE_CODE &lt;chr&gt; | SAMPLE_TYPE &lt;chr&gt; | SEQ_ASSAY_ID &lt;chr&gt; | CANCER_TYPE &lt;chr&gt; | CANCER_TYPE_DETAILED &lt;chr&gt; | SAMPLE_TYPE_DETAILED &lt;chr&gt; | final_class &lt;chr&gt; | final_run_group &lt;chr&gt; |\n",
       "|---|---|---|---|---|---|---|---|---|---|---|---|---|---|---|---|---|---|---|---|---|\n",
       "| 1 | GENIE-DFCI-000145 | Male | White | Non-Spanish/non-Hispanic | DFCI | 26418 | Not Applicable | 2022 | False | Not Applicable | GENIE-DFCI-000145-3971 | 64 | LUAD | Metastasis | DFCI-ONCOPANEL-2 | Non-Small Cell Lung Cancer | Lung Adenocarcinoma | Metastasis site unspecified | LUAD | Non-Small Cell Lung Cancer |\n",
       "\n"
      ],
      "text/plain": [
       "  PATIENT_ID        SEX  PRIMARY_RACE ETHNICITY                CENTER\n",
       "1 GENIE-DFCI-000145 Male White        Non-Spanish/non-Hispanic DFCI  \n",
       "  INT_CONTACT INT_DOD        YEAR_CONTACT DEAD  YEAR_DEATH    \n",
       "1 26418       Not Applicable 2022         False Not Applicable\n",
       "  SAMPLE_ID              AGE_AT_SEQ_REPORT ONCOTREE_CODE SAMPLE_TYPE\n",
       "1 GENIE-DFCI-000145-3971 64                LUAD          Metastasis \n",
       "  SEQ_ASSAY_ID     CANCER_TYPE                CANCER_TYPE_DETAILED\n",
       "1 DFCI-ONCOPANEL-2 Non-Small Cell Lung Cancer Lung Adenocarcinoma \n",
       "  SAMPLE_TYPE_DETAILED        final_class final_run_group           \n",
       "1 Metastasis site unspecified LUAD        Non-Small Cell Lung Cancer"
      ]
     },
     "metadata": {},
     "output_type": "display_data"
    }
   ],
   "source": [
    "genie_metadata_15_dfci_with_mutation_selected_final_atleast_100_samples %>% head(1)"
   ]
  },
  {
   "cell_type": "code",
   "execution_count": 34,
   "id": "9b65e6a4-7c38-498a-9a89-86ae50406540",
   "metadata": {},
   "outputs": [
    {
     "name": "stdout",
     "output_type": "stream",
     "text": [
      "List of 4\n",
      " $ all: chr [1:177] \"MTOR\" \"NRAS\" \"NTRK1\" \"SDHC\" ...\n",
      " $ p_2: chr [1:194] \"MTOR\" \"NRAS\" \"CD58\" \"NTRK1\" ...\n",
      " $ p_3: chr [1:257] \"MTOR\" \"NRAS\" \"RIT1\" \"NTRK1\" ...\n",
      " $ p_1: chr [1:183] \"MTOR\" \"NRAS\" \"CD58\" \"NTRK1\" ...\n"
     ]
    }
   ],
   "source": [
    "str(dfci_run_gene_list)"
   ]
  },
  {
   "cell_type": "code",
   "execution_count": 35,
   "id": "a7acc5b0-7125-401a-8f59-c69d243764cf",
   "metadata": {},
   "outputs": [],
   "source": [
    "assay_id<-unique(genie_metadata_15_dfci_with_mutation_selected_final_atleast_100_samples$SEQ_ASSAY_ID)"
   ]
  },
  {
   "cell_type": "code",
   "execution_count": 36,
   "id": "0871241e-aa75-442e-8125-eba0c0ded7ee",
   "metadata": {},
   "outputs": [
    {
     "data": {
      "text/html": [
       "<style>\n",
       ".list-inline {list-style: none; margin:0; padding: 0}\n",
       ".list-inline>li {display: inline-block}\n",
       ".list-inline>li:not(:last-child)::after {content: \"\\00b7\"; padding: 0 .5ex}\n",
       "</style>\n",
       "<ol class=list-inline><li>'DFCI-ONCOPANEL-2'</li><li>'DFCI-ONCOPANEL-1'</li><li>'DFCI-ONCOPANEL-3.1'</li><li>'DFCI-ONCOPANEL-3'</li></ol>\n"
      ],
      "text/latex": [
       "\\begin{enumerate*}\n",
       "\\item 'DFCI-ONCOPANEL-2'\n",
       "\\item 'DFCI-ONCOPANEL-1'\n",
       "\\item 'DFCI-ONCOPANEL-3.1'\n",
       "\\item 'DFCI-ONCOPANEL-3'\n",
       "\\end{enumerate*}\n"
      ],
      "text/markdown": [
       "1. 'DFCI-ONCOPANEL-2'\n",
       "2. 'DFCI-ONCOPANEL-1'\n",
       "3. 'DFCI-ONCOPANEL-3.1'\n",
       "4. 'DFCI-ONCOPANEL-3'\n",
       "\n",
       "\n"
      ],
      "text/plain": [
       "[1] \"DFCI-ONCOPANEL-2\"   \"DFCI-ONCOPANEL-1\"   \"DFCI-ONCOPANEL-3.1\"\n",
       "[4] \"DFCI-ONCOPANEL-3\"  "
      ]
     },
     "metadata": {},
     "output_type": "display_data"
    }
   ],
   "source": [
    "assay_id"
   ]
  },
  {
   "cell_type": "code",
   "execution_count": 37,
   "id": "e050f401-96bc-4a9c-b120-86dacbb447f4",
   "metadata": {},
   "outputs": [
    {
     "data": {
      "text/html": [
       "<table class=\"dataframe\">\n",
       "<caption>A data.frame: 2 × 20</caption>\n",
       "<thead>\n",
       "\t<tr><th></th><th scope=col>PATIENT_ID</th><th scope=col>SEX</th><th scope=col>PRIMARY_RACE</th><th scope=col>ETHNICITY</th><th scope=col>CENTER</th><th scope=col>INT_CONTACT</th><th scope=col>INT_DOD</th><th scope=col>YEAR_CONTACT</th><th scope=col>DEAD</th><th scope=col>YEAR_DEATH</th><th scope=col>SAMPLE_ID</th><th scope=col>AGE_AT_SEQ_REPORT</th><th scope=col>ONCOTREE_CODE</th><th scope=col>SAMPLE_TYPE</th><th scope=col>SEQ_ASSAY_ID</th><th scope=col>CANCER_TYPE</th><th scope=col>CANCER_TYPE_DETAILED</th><th scope=col>SAMPLE_TYPE_DETAILED</th><th scope=col>final_class</th><th scope=col>final_run_group</th></tr>\n",
       "\t<tr><th></th><th scope=col>&lt;chr&gt;</th><th scope=col>&lt;chr&gt;</th><th scope=col>&lt;chr&gt;</th><th scope=col>&lt;chr&gt;</th><th scope=col>&lt;chr&gt;</th><th scope=col>&lt;chr&gt;</th><th scope=col>&lt;chr&gt;</th><th scope=col>&lt;chr&gt;</th><th scope=col>&lt;chr&gt;</th><th scope=col>&lt;chr&gt;</th><th scope=col>&lt;chr&gt;</th><th scope=col>&lt;chr&gt;</th><th scope=col>&lt;chr&gt;</th><th scope=col>&lt;chr&gt;</th><th scope=col>&lt;chr&gt;</th><th scope=col>&lt;chr&gt;</th><th scope=col>&lt;chr&gt;</th><th scope=col>&lt;chr&gt;</th><th scope=col>&lt;chr&gt;</th><th scope=col>&lt;chr&gt;</th></tr>\n",
       "</thead>\n",
       "<tbody>\n",
       "\t<tr><th scope=row>1</th><td>GENIE-DFCI-000145</td><td>Male</td><td>White</td><td>Non-Spanish/non-Hispanic</td><td>DFCI</td><td>26418</td><td>Not Applicable</td><td>2022</td><td>False</td><td>Not Applicable</td><td>GENIE-DFCI-000145-3971</td><td>64</td><td>LUAD</td><td>Metastasis</td><td>DFCI-ONCOPANEL-2</td><td>Non-Small Cell Lung Cancer</td><td>Lung Adenocarcinoma</td><td>Metastasis site unspecified</td><td>LUAD</td><td>Non-Small Cell Lung Cancer</td></tr>\n",
       "\t<tr><th scope=row>2</th><td>GENIE-DFCI-007383</td><td>Male</td><td>White</td><td>Non-Spanish/non-Hispanic</td><td>DFCI</td><td>23668</td><td>23673         </td><td>2015</td><td>True </td><td>2015          </td><td>GENIE-DFCI-007383-3930</td><td>64</td><td>LUAD</td><td>Metastasis</td><td>DFCI-ONCOPANEL-2</td><td>Non-Small Cell Lung Cancer</td><td>Lung Adenocarcinoma</td><td>Metastasis site unspecified</td><td>LUAD</td><td>Non-Small Cell Lung Cancer</td></tr>\n",
       "</tbody>\n",
       "</table>\n"
      ],
      "text/latex": [
       "A data.frame: 2 × 20\n",
       "\\begin{tabular}{r|llllllllllllllllllll}\n",
       "  & PATIENT\\_ID & SEX & PRIMARY\\_RACE & ETHNICITY & CENTER & INT\\_CONTACT & INT\\_DOD & YEAR\\_CONTACT & DEAD & YEAR\\_DEATH & SAMPLE\\_ID & AGE\\_AT\\_SEQ\\_REPORT & ONCOTREE\\_CODE & SAMPLE\\_TYPE & SEQ\\_ASSAY\\_ID & CANCER\\_TYPE & CANCER\\_TYPE\\_DETAILED & SAMPLE\\_TYPE\\_DETAILED & final\\_class & final\\_run\\_group\\\\\n",
       "  & <chr> & <chr> & <chr> & <chr> & <chr> & <chr> & <chr> & <chr> & <chr> & <chr> & <chr> & <chr> & <chr> & <chr> & <chr> & <chr> & <chr> & <chr> & <chr> & <chr>\\\\\n",
       "\\hline\n",
       "\t1 & GENIE-DFCI-000145 & Male & White & Non-Spanish/non-Hispanic & DFCI & 26418 & Not Applicable & 2022 & False & Not Applicable & GENIE-DFCI-000145-3971 & 64 & LUAD & Metastasis & DFCI-ONCOPANEL-2 & Non-Small Cell Lung Cancer & Lung Adenocarcinoma & Metastasis site unspecified & LUAD & Non-Small Cell Lung Cancer\\\\\n",
       "\t2 & GENIE-DFCI-007383 & Male & White & Non-Spanish/non-Hispanic & DFCI & 23668 & 23673          & 2015 & True  & 2015           & GENIE-DFCI-007383-3930 & 64 & LUAD & Metastasis & DFCI-ONCOPANEL-2 & Non-Small Cell Lung Cancer & Lung Adenocarcinoma & Metastasis site unspecified & LUAD & Non-Small Cell Lung Cancer\\\\\n",
       "\\end{tabular}\n"
      ],
      "text/markdown": [
       "\n",
       "A data.frame: 2 × 20\n",
       "\n",
       "| <!--/--> | PATIENT_ID &lt;chr&gt; | SEX &lt;chr&gt; | PRIMARY_RACE &lt;chr&gt; | ETHNICITY &lt;chr&gt; | CENTER &lt;chr&gt; | INT_CONTACT &lt;chr&gt; | INT_DOD &lt;chr&gt; | YEAR_CONTACT &lt;chr&gt; | DEAD &lt;chr&gt; | YEAR_DEATH &lt;chr&gt; | SAMPLE_ID &lt;chr&gt; | AGE_AT_SEQ_REPORT &lt;chr&gt; | ONCOTREE_CODE &lt;chr&gt; | SAMPLE_TYPE &lt;chr&gt; | SEQ_ASSAY_ID &lt;chr&gt; | CANCER_TYPE &lt;chr&gt; | CANCER_TYPE_DETAILED &lt;chr&gt; | SAMPLE_TYPE_DETAILED &lt;chr&gt; | final_class &lt;chr&gt; | final_run_group &lt;chr&gt; |\n",
       "|---|---|---|---|---|---|---|---|---|---|---|---|---|---|---|---|---|---|---|---|---|\n",
       "| 1 | GENIE-DFCI-000145 | Male | White | Non-Spanish/non-Hispanic | DFCI | 26418 | Not Applicable | 2022 | False | Not Applicable | GENIE-DFCI-000145-3971 | 64 | LUAD | Metastasis | DFCI-ONCOPANEL-2 | Non-Small Cell Lung Cancer | Lung Adenocarcinoma | Metastasis site unspecified | LUAD | Non-Small Cell Lung Cancer |\n",
       "| 2 | GENIE-DFCI-007383 | Male | White | Non-Spanish/non-Hispanic | DFCI | 23668 | 23673          | 2015 | True  | 2015           | GENIE-DFCI-007383-3930 | 64 | LUAD | Metastasis | DFCI-ONCOPANEL-2 | Non-Small Cell Lung Cancer | Lung Adenocarcinoma | Metastasis site unspecified | LUAD | Non-Small Cell Lung Cancer |\n",
       "\n"
      ],
      "text/plain": [
       "  PATIENT_ID        SEX  PRIMARY_RACE ETHNICITY                CENTER\n",
       "1 GENIE-DFCI-000145 Male White        Non-Spanish/non-Hispanic DFCI  \n",
       "2 GENIE-DFCI-007383 Male White        Non-Spanish/non-Hispanic DFCI  \n",
       "  INT_CONTACT INT_DOD        YEAR_CONTACT DEAD  YEAR_DEATH    \n",
       "1 26418       Not Applicable 2022         False Not Applicable\n",
       "2 23668       23673          2015         True  2015          \n",
       "  SAMPLE_ID              AGE_AT_SEQ_REPORT ONCOTREE_CODE SAMPLE_TYPE\n",
       "1 GENIE-DFCI-000145-3971 64                LUAD          Metastasis \n",
       "2 GENIE-DFCI-007383-3930 64                LUAD          Metastasis \n",
       "  SEQ_ASSAY_ID     CANCER_TYPE                CANCER_TYPE_DETAILED\n",
       "1 DFCI-ONCOPANEL-2 Non-Small Cell Lung Cancer Lung Adenocarcinoma \n",
       "2 DFCI-ONCOPANEL-2 Non-Small Cell Lung Cancer Lung Adenocarcinoma \n",
       "  SAMPLE_TYPE_DETAILED        final_class final_run_group           \n",
       "1 Metastasis site unspecified LUAD        Non-Small Cell Lung Cancer\n",
       "2 Metastasis site unspecified LUAD        Non-Small Cell Lung Cancer"
      ]
     },
     "metadata": {},
     "output_type": "display_data"
    }
   ],
   "source": [
    "genie_metadata_15_dfci_with_mutation_selected_final_atleast_100_samples %>% head(2)"
   ]
  },
  {
   "cell_type": "code",
   "execution_count": 38,
   "id": "2c1dc2b7-ee84-4d00-94cf-fafd88b56fe6",
   "metadata": {},
   "outputs": [],
   "source": [
    "tumor_groups<-unique(genie_metadata_15_dfci_with_mutation_selected_final_atleast_100_samples$final_run_group)"
   ]
  },
  {
   "cell_type": "code",
   "execution_count": 39,
   "id": "8ec6b4c1-9476-478d-8bb0-ec8579d47d57",
   "metadata": {},
   "outputs": [],
   "source": [
    "cleaned_tumor_groups <- tolower(gsub(\"[[:space:]/-]\", \"_\", tumor_groups))"
   ]
  },
  {
   "cell_type": "code",
   "execution_count": 40,
   "id": "10050b25-1c6e-4769-a5d9-9810eafaef2b",
   "metadata": {},
   "outputs": [],
   "source": [
    "mapped_tumor_groups <- cleaned_tumor_groups\n",
    "names(mapped_tumor_groups)<-tumor_groups"
   ]
  },
  {
   "cell_type": "code",
   "execution_count": 41,
   "id": "b68fabdd-e547-4d3e-9426-73de7a9bc627",
   "metadata": {},
   "outputs": [
    {
     "name": "stdout",
     "output_type": "stream",
     "text": [
      " Named chr [1:26] \"non_small_cell_lung_cancer\" \"bladder_cancer\" ...\n",
      " - attr(*, \"names\")= chr [1:26] \"Non-Small Cell Lung Cancer\" \"Bladder Cancer\" \"Thyroid Cancer\" \"Esophagogastric Cancer\" ...\n"
     ]
    }
   ],
   "source": [
    "str(mapped_tumor_groups)"
   ]
  },
  {
   "cell_type": "code",
   "execution_count": null,
   "id": "40e2203c-7e4a-48d1-9ebc-6476620e79d1",
   "metadata": {},
   "outputs": [],
   "source": [
    "for(name in names(dfci_run_gene_list)){\n",
    "    cat('--Running:',name,\"--\\n\")\n",
    "    if(name=='all'){\n",
    "        for(tumor_group in names(mapped_tumor_groups)){\n",
    "            samples<-(genie_metadata_15_dfci_with_mutation_selected_final_atleast_100_samples %>% \n",
    "                      filter(SAMPLE_TYPE!='Primary' & final_run_group==tumor_group)%>% group_by(final_class) %>% filter(n()>=30) %>% ungroup())$SAMPLE_ID\n",
    "            if(length(samples)>=30){\n",
    "                cat('---Tumor Group---',tumor_group,\"--\\n\")\n",
    "                    temp<- filter_run_data(run_data = dfci_run_m_data,\n",
    "                                           gene_order = dfci_run_gene_list$all,\n",
    "                                           sample_order =samples ) \n",
    "                    finalname<-paste(mapped_tumor_groups[tumor_group],name,sep=\"_\")\n",
    "                    label<-paste('../data/','dfci_panel_',finalname,'_meta_run_data.rds',sep=\"\")\n",
    "                    saveRDS(temp,file = label,compress = TRUE)\n",
    "                    dfci_result <- selectX(M = temp$M,\n",
    "                                        sample.class = temp$sample.class,\n",
    "                                        alteration.class = temp$alteration.class,\n",
    "                                        n.cores = 15,\n",
    "                                        min.freq = round(0.001*length(temp$sample.class)),\n",
    "                                        n.permut = 1000,\n",
    "                                        lambda = 0.3,\n",
    "                                        tao = 1,\n",
    "                                        save.object = FALSE,\n",
    "                                        verbose = FALSE,\n",
    "                                        estimate_pairwise = FALSE,\n",
    "                                        maxFDR = 0.25,\n",
    "                                        seed = 42)\n",
    "                    label<-paste('../results/','dfci_panel_',finalname,'_meta_result.rds',sep=\"\")\n",
    "                    saveRDS(dfci_result,file = label,compress = TRUE)\n",
    "                    rm(dfci_result)                \n",
    "                cat('---Tumor Group---',tumor_group,\"--Done--\\n\")        \n",
    "                \n",
    "            }\n",
    "        }    \n",
    "    }\n",
    "    else if(name=='p_2'){\n",
    "        for(tumor_group in names(mapped_tumor_groups)){\n",
    "            samples<-(genie_metadata_15_dfci_with_mutation_selected_final_atleast_100_samples %>% \n",
    "                      filter(SAMPLE_TYPE!='Primary' &SEQ_ASSAY_ID=='DFCI-ONCOPANEL-2' & final_run_group==tumor_group)%>% group_by(final_class) %>% filter(n()>=30) %>% ungroup())$SAMPLE_ID\n",
    "            if(length(samples)>=30){\n",
    "                cat('---Tumor Group---',tumor_group,\"--\\n\")\n",
    "                    temp<- filter_run_data(run_data = dfci_run_m_data,\n",
    "                                           gene_order = dfci_run_gene_list$p_2,\n",
    "                                           sample_order =samples ) \n",
    "                    finalname<-paste(mapped_tumor_groups[tumor_group],name,sep=\"_\")\n",
    "                    label<-paste('../data/','dfci_panel_',finalname,'_meta_run_data.rds',sep=\"\")\n",
    "                    saveRDS(temp,file = label,compress = TRUE)\n",
    "                    dfci_result <- selectX(M = temp$M,\n",
    "                                        sample.class = temp$sample.class,\n",
    "                                        alteration.class = temp$alteration.class,\n",
    "                                        n.cores = 15,\n",
    "                                        min.freq = round(0.001*length(temp$sample.class)),\n",
    "                                        n.permut = 1000,\n",
    "                                        lambda = 0.3,\n",
    "                                        tao = 1,\n",
    "                                        save.object = FALSE,\n",
    "                                        verbose = FALSE,\n",
    "                                        estimate_pairwise = FALSE,\n",
    "                                        maxFDR = 0.25,\n",
    "                                        seed = 42)\n",
    "                    label<-paste('../results/','dfci_panel_',finalname,'_meta_result.rds',sep=\"\")\n",
    "                    saveRDS(dfci_result,file = label,compress = TRUE)\n",
    "                    rm(dfci_result)                \n",
    "                cat('---Tumor Group---',tumor_group,\"--Done--\\n\")        \n",
    "                \n",
    "            }\n",
    "        }\n",
    "    }\n",
    "    else if(name=='p_1'){\n",
    "        for(tumor_group in names(mapped_tumor_groups)){\n",
    "            samples<-(genie_metadata_15_dfci_with_mutation_selected_final_atleast_100_samples %>% \n",
    "                      filter(SAMPLE_TYPE!='Primary' &SEQ_ASSAY_ID=='DFCI-ONCOPANEL-1' & final_run_group==tumor_group)%>% group_by(final_class) %>% filter(n()>=30) %>% ungroup())$SAMPLE_ID\n",
    "            if(length(samples)>=30){\n",
    "                cat('---Tumor Group---',tumor_group,\"--\\n\")\n",
    "                    temp<- filter_run_data(run_data = dfci_run_m_data,\n",
    "                                           gene_order = dfci_run_gene_list$p_1,\n",
    "                                           sample_order =samples ) \n",
    "                    finalname<-paste(mapped_tumor_groups[tumor_group],name,sep=\"_\")\n",
    "                    label<-paste('../data/','dfci_panel_',finalname,'_meta_run_data.rds',sep=\"\")\n",
    "                    saveRDS(temp,file = label,compress = TRUE)\n",
    "                    dfci_result <- selectX(M = temp$M,\n",
    "                                        sample.class = temp$sample.class,\n",
    "                                        alteration.class = temp$alteration.class,\n",
    "                                        n.cores = 15,\n",
    "                                        min.freq = round(0.001*length(temp$sample.class)),\n",
    "                                        n.permut = 1000,\n",
    "                                        lambda = 0.3,\n",
    "                                        tao = 1,\n",
    "                                        save.object = FALSE,\n",
    "                                        verbose = FALSE,\n",
    "                                        estimate_pairwise = FALSE,\n",
    "                                        maxFDR = 0.25,\n",
    "                                        seed = 42)\n",
    "                    label<-paste('../results/','dfci_panel_',finalname,'_meta_result.rds',sep=\"\")\n",
    "                    saveRDS(dfci_result,file = label,compress = TRUE)\n",
    "                    rm(dfci_result)                \n",
    "                cat('---Tumor Group---',tumor_group,\"--Done--\\n\")        \n",
    "                \n",
    "            }\n",
    "        }\n",
    "        \n",
    "    }\n",
    "    else{\n",
    "        for(tumor_group in names(mapped_tumor_groups)){\n",
    "            samples<-(genie_metadata_15_dfci_with_mutation_selected_final_atleast_100_samples %>% \n",
    "                      filter(SAMPLE_TYPE!='Primary' & SEQ_ASSAY_ID %in% c('DFCI-ONCOPANEL-3.1','DFCI-ONCOPANEL-3') & final_run_group==tumor_group)%>% group_by(final_class) %>% filter(n()>=30) %>% ungroup())$SAMPLE_ID\n",
    "            if(length(samples)>=30){\n",
    "                cat('---Tumor Group---',tumor_group,\"--\\n\")\n",
    "                    temp<- filter_run_data(run_data = dfci_run_m_data,\n",
    "                                           gene_order = dfci_run_gene_list$p_3,\n",
    "                                           sample_order =samples ) \n",
    "                    finalname<-paste(mapped_tumor_groups[tumor_group],'p_3',sep=\"_\")\n",
    "                    label<-paste('../data/','dfci_panel_',finalname,'_meta_run_data.rds',sep=\"\")\n",
    "                    saveRDS(temp,file = label,compress = TRUE)\n",
    "                    dfci_result <- selectX(M = temp$M,\n",
    "                                        sample.class = temp$sample.class,\n",
    "                                        alteration.class = temp$alteration.class,\n",
    "                                        n.cores = 15,\n",
    "                                        min.freq = round(0.001*length(temp$sample.class)),\n",
    "                                        n.permut = 1000,\n",
    "                                        lambda = 0.3,\n",
    "                                        tao = 1,\n",
    "                                        save.object = FALSE,\n",
    "                                        verbose = FALSE,\n",
    "                                        estimate_pairwise = FALSE,\n",
    "                                        maxFDR = 0.25,\n",
    "                                        seed = 42)\n",
    "                    label<-paste('../results/','dfci_panel_',finalname,'_meta_result.rds',sep=\"\")\n",
    "                    saveRDS(dfci_result,file = label,compress = TRUE)\n",
    "                    rm(dfci_result)                \n",
    "                cat('---Tumor Group---',tumor_group,\"--Done--\\n\")        \n",
    "                \n",
    "            }\n",
    "        }\n",
    "    }\n",
    " cat('\\n---Done---\\n')\n",
    "}"
   ]
  }
 ],
 "metadata": {
  "kernelspec": {
   "display_name": "R",
   "language": "R",
   "name": "ir"
  },
  "language_info": {
   "codemirror_mode": "r",
   "file_extension": ".r",
   "mimetype": "text/x-r-source",
   "name": "R",
   "pygments_lexer": "r",
   "version": "4.3.2"
  }
 },
 "nbformat": 4,
 "nbformat_minor": 5
}
