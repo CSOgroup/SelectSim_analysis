{
 "cells": [
  {
   "cell_type": "code",
   "execution_count": 1,
   "id": "90b6766e-28af-4718-aab6-0cfe302398a9",
   "metadata": {},
   "outputs": [
    {
     "name": "stderr",
     "output_type": "stream",
     "text": [
      "── \u001b[1mAttaching core tidyverse packages\u001b[22m ───────────────────────────────────────────────────────────────────────────────────────────────────────────────────────────────────── tidyverse 2.0.0 ──\n",
      "\u001b[32m✔\u001b[39m \u001b[34mdplyr    \u001b[39m 1.1.4     \u001b[32m✔\u001b[39m \u001b[34mreadr    \u001b[39m 2.1.5\n",
      "\u001b[32m✔\u001b[39m \u001b[34mforcats  \u001b[39m 1.0.0     \u001b[32m✔\u001b[39m \u001b[34mstringr  \u001b[39m 1.5.1\n",
      "\u001b[32m✔\u001b[39m \u001b[34mggplot2  \u001b[39m 3.4.4     \u001b[32m✔\u001b[39m \u001b[34mtibble   \u001b[39m 3.2.1\n",
      "\u001b[32m✔\u001b[39m \u001b[34mlubridate\u001b[39m 1.9.3     \u001b[32m✔\u001b[39m \u001b[34mtidyr    \u001b[39m 1.3.0\n",
      "\u001b[32m✔\u001b[39m \u001b[34mpurrr    \u001b[39m 1.0.2     \n",
      "── \u001b[1mConflicts\u001b[22m ─────────────────────────────────────────────────────────────────────────────────────────────────────────────────────────────────────────────────────── tidyverse_conflicts() ──\n",
      "\u001b[31m✖\u001b[39m \u001b[34mdplyr\u001b[39m::\u001b[32mfilter()\u001b[39m masks \u001b[34mstats\u001b[39m::filter()\n",
      "\u001b[31m✖\u001b[39m \u001b[34mdplyr\u001b[39m::\u001b[32mlag()\u001b[39m    masks \u001b[34mstats\u001b[39m::lag()\n",
      "\u001b[36mℹ\u001b[39m Use the conflicted package (\u001b[3m\u001b[34m<http://conflicted.r-lib.org/>\u001b[39m\u001b[23m) to force all conflicts to become errors\n"
     ]
    }
   ],
   "source": [
    "library('tidyverse')\n",
    "library('SelectSim')"
   ]
  },
  {
   "cell_type": "code",
   "execution_count": 2,
   "id": "4f9c1a04-d2fa-4fe1-bbfd-da95aad250b2",
   "metadata": {
    "scrolled": true
   },
   "outputs": [
    {
     "data": {
      "text/plain": [
       "R version 4.3.2 (2023-10-31)\n",
       "Platform: x86_64-conda-linux-gnu (64-bit)\n",
       "Running under: CentOS Linux 7 (Core)\n",
       "\n",
       "Matrix products: default\n",
       "BLAS/LAPACK: /mnt/ndata/arvind/envs/R_4/lib/libopenblasp-r0.3.25.so;  LAPACK version 3.11.0\n",
       "\n",
       "locale:\n",
       " [1] LC_CTYPE=en_US.UTF-8       LC_NUMERIC=C              \n",
       " [3] LC_TIME=en_US.UTF-8        LC_COLLATE=en_US.UTF-8    \n",
       " [5] LC_MONETARY=en_US.UTF-8    LC_MESSAGES=en_US.UTF-8   \n",
       " [7] LC_PAPER=en_US.UTF-8       LC_NAME=C                 \n",
       " [9] LC_ADDRESS=C               LC_TELEPHONE=C            \n",
       "[11] LC_MEASUREMENT=en_US.UTF-8 LC_IDENTIFICATION=C       \n",
       "\n",
       "time zone: Europe/Zurich\n",
       "tzcode source: system (glibc)\n",
       "\n",
       "attached base packages:\n",
       "[1] stats     graphics  grDevices utils     datasets  methods   base     \n",
       "\n",
       "other attached packages:\n",
       " [1] SelectSim_0.0.1.3 lubridate_1.9.3   forcats_1.0.0     stringr_1.5.1    \n",
       " [5] dplyr_1.1.4       purrr_1.0.2       readr_2.1.5       tidyr_1.3.0      \n",
       " [9] tibble_3.2.1      ggplot2_3.4.4     tidyverse_2.0.0  \n",
       "\n",
       "loaded via a namespace (and not attached):\n",
       " [1] gtable_0.3.4       rstatix_0.7.2      lattice_0.22-5     tzdb_0.4.0        \n",
       " [5] vctrs_0.6.5        tools_4.3.2        generics_0.1.3     parallel_4.3.2    \n",
       " [9] fansi_1.0.6        pkgconfig_2.0.3    Matrix_1.6-5       ggridges_0.5.5    \n",
       "[13] rngtools_1.5.2     RcppParallel_5.1.6 uuid_1.2-0         lifecycle_1.0.4   \n",
       "[17] compiler_4.3.2     tictoc_1.2         munsell_0.5.0      repr_1.1.6        \n",
       "[21] codetools_0.2-19   carData_3.0-5      htmltools_0.5.7    pillar_1.9.0      \n",
       "[25] car_3.1-2          ggpubr_0.6.0       crayon_1.5.2       doRNG_1.8.6       \n",
       "[29] iterators_1.0.14   abind_1.4-5        foreach_1.5.2      tidyselect_1.2.0  \n",
       "[33] digest_0.6.34      stringi_1.8.3      reshape2_1.4.4     fastmap_1.1.1     \n",
       "[37] grid_4.3.2         colorspace_2.1-0   cli_3.6.2          magrittr_2.0.3    \n",
       "[41] base64enc_0.1-3    Rfast_2.1.0        utf8_1.2.4         IRdisplay_1.1     \n",
       "[45] broom_1.0.5        withr_3.0.0        scales_1.3.0       backports_1.4.1   \n",
       "[49] IRkernel_1.3.2     RcppZiggurat_0.1.6 timechange_0.3.0   pbdZMQ_0.3-11     \n",
       "[53] ggsignif_0.6.4     hms_1.1.3          evaluate_0.23      doParallel_1.0.17 \n",
       "[57] rlang_1.1.3        Rcpp_1.0.12        glue_1.7.0         jsonlite_1.8.8    \n",
       "[61] R6_2.5.1           plyr_1.8.9        "
      ]
     },
     "metadata": {},
     "output_type": "display_data"
    }
   ],
   "source": [
    "sessionInfo()"
   ]
  },
  {
   "cell_type": "markdown",
   "id": "867b6ed0-9fbe-4b68-a5c9-d0854e5fbda8",
   "metadata": {},
   "source": [
    "# Metadata"
   ]
  },
  {
   "cell_type": "code",
   "execution_count": 3,
   "id": "2042aa37-d55b-498e-b489-84ff4b592906",
   "metadata": {},
   "outputs": [],
   "source": [
    "all_merged_metdata <- readRDS(file='/mnt/ndata/arvind/co_mutation_project/data/processed/all_merged_data_genie_v15.rds')"
   ]
  },
  {
   "cell_type": "markdown",
   "id": "2cd4dbbe-2339-45b9-826e-8eef9ccba81e",
   "metadata": {},
   "source": [
    "# TCGA "
   ]
  },
  {
   "cell_type": "code",
   "execution_count": 4,
   "id": "8d6bd38c-d1ce-4ff2-8c89-bad84cc9ce97",
   "metadata": {},
   "outputs": [],
   "source": [
    "pan_can <- readRDS('/mnt/ptemp/arvind/catalogue_work_update/data/results/pan_can/pan_can_tcga_run_result.rds')"
   ]
  },
  {
   "cell_type": "code",
   "execution_count": 5,
   "id": "9eb827ae-4b78-4c89-80c0-ae1fcc22f391",
   "metadata": {},
   "outputs": [
    {
     "data": {
      "text/html": [
       "<table class=\"dataframe\">\n",
       "<caption>A data.frame: 2 × 2</caption>\n",
       "<thead>\n",
       "\t<tr><th scope=col>FDR</th><th scope=col>n</th></tr>\n",
       "\t<tr><th scope=col>&lt;lgl&gt;</th><th scope=col>&lt;int&gt;</th></tr>\n",
       "</thead>\n",
       "<tbody>\n",
       "\t<tr><td>FALSE</td><td>52104</td></tr>\n",
       "\t<tr><td> TRUE</td><td>  222</td></tr>\n",
       "</tbody>\n",
       "</table>\n"
      ],
      "text/latex": [
       "A data.frame: 2 × 2\n",
       "\\begin{tabular}{ll}\n",
       " FDR & n\\\\\n",
       " <lgl> & <int>\\\\\n",
       "\\hline\n",
       "\t FALSE & 52104\\\\\n",
       "\t  TRUE &   222\\\\\n",
       "\\end{tabular}\n"
      ],
      "text/markdown": [
       "\n",
       "A data.frame: 2 × 2\n",
       "\n",
       "| FDR &lt;lgl&gt; | n &lt;int&gt; |\n",
       "|---|---|\n",
       "| FALSE | 52104 |\n",
       "|  TRUE |   222 |\n",
       "\n"
      ],
      "text/plain": [
       "  FDR   n    \n",
       "1 FALSE 52104\n",
       "2  TRUE   222"
      ]
     },
     "metadata": {},
     "output_type": "display_data"
    }
   ],
   "source": [
    "pan_can %>% dplyr::count(FDR)"
   ]
  },
  {
   "cell_type": "code",
   "execution_count": 6,
   "id": "160a24e1-b663-4cdf-99ad-e8726472b636",
   "metadata": {},
   "outputs": [
    {
     "data": {
      "text/html": [
       "<table class=\"dataframe\">\n",
       "<caption>A data.frame: 2 × 2</caption>\n",
       "<thead>\n",
       "\t<tr><th scope=col>type</th><th scope=col>n</th></tr>\n",
       "\t<tr><th scope=col>&lt;chr&gt;</th><th scope=col>&lt;int&gt;</th></tr>\n",
       "</thead>\n",
       "<tbody>\n",
       "\t<tr><td>CO</td><td> 78</td></tr>\n",
       "\t<tr><td>ME</td><td>144</td></tr>\n",
       "</tbody>\n",
       "</table>\n"
      ],
      "text/latex": [
       "A data.frame: 2 × 2\n",
       "\\begin{tabular}{ll}\n",
       " type & n\\\\\n",
       " <chr> & <int>\\\\\n",
       "\\hline\n",
       "\t CO &  78\\\\\n",
       "\t ME & 144\\\\\n",
       "\\end{tabular}\n"
      ],
      "text/markdown": [
       "\n",
       "A data.frame: 2 × 2\n",
       "\n",
       "| type &lt;chr&gt; | n &lt;int&gt; |\n",
       "|---|---|\n",
       "| CO |  78 |\n",
       "| ME | 144 |\n",
       "\n"
      ],
      "text/plain": [
       "  type n  \n",
       "1 CO    78\n",
       "2 ME   144"
      ]
     },
     "metadata": {},
     "output_type": "display_data"
    }
   ],
   "source": [
    "pan_can %>% filter(FDR) %>% dplyr::count(type)"
   ]
  },
  {
   "cell_type": "code",
   "execution_count": 7,
   "id": "65fedddf-fdde-441f-8e58-44dc92c34e1b",
   "metadata": {},
   "outputs": [
    {
     "data": {
      "text/html": [
       "<table class=\"dataframe\">\n",
       "<caption>A data.frame: 6 × 22</caption>\n",
       "<thead>\n",
       "\t<tr><th></th><th scope=col>SFE_1</th><th scope=col>SFE_2</th><th scope=col>name</th><th scope=col>support_1</th><th scope=col>support_2</th><th scope=col>freq_1</th><th scope=col>freq_2</th><th scope=col>overlap</th><th scope=col>w_overlap</th><th scope=col>max_overlap</th><th scope=col>⋯</th><th scope=col>w_r_overlap</th><th scope=col>wES</th><th scope=col>wFDR</th><th scope=col>nES</th><th scope=col>mean_r_nES</th><th scope=col>nFDR</th><th scope=col>cum_freq</th><th scope=col>nFDR2</th><th scope=col>type</th><th scope=col>FDR</th></tr>\n",
       "\t<tr><th></th><th scope=col>&lt;chr&gt;</th><th scope=col>&lt;chr&gt;</th><th scope=col>&lt;chr&gt;</th><th scope=col>&lt;dbl&gt;</th><th scope=col>&lt;dbl&gt;</th><th scope=col>&lt;dbl&gt;</th><th scope=col>&lt;dbl&gt;</th><th scope=col>&lt;dbl&gt;</th><th scope=col>&lt;dbl&gt;</th><th scope=col>&lt;dbl&gt;</th><th scope=col>⋯</th><th scope=col>&lt;dbl&gt;</th><th scope=col>&lt;dbl&gt;</th><th scope=col>&lt;dbl&gt;</th><th scope=col>&lt;dbl&gt;</th><th scope=col>&lt;dbl&gt;</th><th scope=col>&lt;dbl&gt;</th><th scope=col>&lt;dbl&gt;</th><th scope=col>&lt;dbl&gt;</th><th scope=col>&lt;chr&gt;</th><th scope=col>&lt;lgl&gt;</th></tr>\n",
       "</thead>\n",
       "<tbody>\n",
       "\t<tr><th scope=row>PIK3CA - TP53</th><td>PIK3CA</td><td>TP53  </td><td>PIK3CA - TP53</td><td>1136</td><td>3030</td><td>0.12508258</td><td>0.33362695</td><td>357</td><td>317.529713</td><td>669</td><td>⋯</td><td>393.57963</td><td>-53.77541</td><td>0</td><td>-46.41800</td><td>-7.357413</td><td>0</td><td>4166</td><td>0</td><td>ME</td><td>TRUE</td></tr>\n",
       "\t<tr><th scope=row>BRAF - TP53</th><td>BRAF  </td><td>TP53  </td><td>BRAF - TP53  </td><td> 611</td><td>3030</td><td>0.06727593</td><td>0.33362695</td><td> 82</td><td> 53.397547</td><td>180</td><td>⋯</td><td>122.74030</td><td>-49.03273</td><td>0</td><td>-44.24852</td><td>-4.784206</td><td>0</td><td>3641</td><td>0</td><td>ME</td><td>TRUE</td></tr>\n",
       "\t<tr><th scope=row>TP53 - ARID1A</th><td>TP53  </td><td>ARID1A</td><td>TP53 - ARID1A</td><td>3030</td><td> 571</td><td>0.33362695</td><td>0.06287161</td><td>147</td><td>115.192451</td><td>371</td><td>⋯</td><td>170.51311</td><td>-39.11761</td><td>0</td><td>-34.12723</td><td>-4.990387</td><td>0</td><td>3601</td><td>0</td><td>ME</td><td>TRUE</td></tr>\n",
       "\t<tr><th scope=row>BRAF - NRAS</th><td>BRAF  </td><td>NRAS  </td><td>BRAF - NRAS  </td><td> 611</td><td> 240</td><td>0.06727593</td><td>0.02642590</td><td> 13</td><td>  6.352379</td><td>191</td><td>⋯</td><td> 55.07884</td><td>-34.45481</td><td>0</td><td>-31.75002</td><td>-2.704795</td><td>0</td><td> 851</td><td>0</td><td>ME</td><td>TRUE</td></tr>\n",
       "\t<tr><th scope=row>CDKN2A - TP53</th><td>CDKN2A</td><td>TP53  </td><td>CDKN2A - TP53</td><td> 334</td><td>3030</td><td>0.03677604</td><td>0.33362695</td><td>225</td><td>202.011705</td><td>334</td><td>⋯</td><td>154.34263</td><td> 33.70713</td><td>0</td><td> 29.37771</td><td> 4.329415</td><td>0</td><td>3364</td><td>0</td><td>CO</td><td>TRUE</td></tr>\n",
       "\t<tr><th scope=row>PTEN - TP53</th><td>PTEN  </td><td>TP53  </td><td>PTEN - TP53  </td><td> 635</td><td>3030</td><td>0.06991852</td><td>0.33362695</td><td>158</td><td>133.797790</td><td>385</td><td>⋯</td><td>182.37149</td><td>-34.34679</td><td>0</td><td>-28.99619</td><td>-5.350602</td><td>0</td><td>3665</td><td>0</td><td>ME</td><td>TRUE</td></tr>\n",
       "</tbody>\n",
       "</table>\n"
      ],
      "text/latex": [
       "A data.frame: 6 × 22\n",
       "\\begin{tabular}{r|lllllllllllllllllllll}\n",
       "  & SFE\\_1 & SFE\\_2 & name & support\\_1 & support\\_2 & freq\\_1 & freq\\_2 & overlap & w\\_overlap & max\\_overlap & ⋯ & w\\_r\\_overlap & wES & wFDR & nES & mean\\_r\\_nES & nFDR & cum\\_freq & nFDR2 & type & FDR\\\\\n",
       "  & <chr> & <chr> & <chr> & <dbl> & <dbl> & <dbl> & <dbl> & <dbl> & <dbl> & <dbl> & ⋯ & <dbl> & <dbl> & <dbl> & <dbl> & <dbl> & <dbl> & <dbl> & <dbl> & <chr> & <lgl>\\\\\n",
       "\\hline\n",
       "\tPIK3CA - TP53 & PIK3CA & TP53   & PIK3CA - TP53 & 1136 & 3030 & 0.12508258 & 0.33362695 & 357 & 317.529713 & 669 & ⋯ & 393.57963 & -53.77541 & 0 & -46.41800 & -7.357413 & 0 & 4166 & 0 & ME & TRUE\\\\\n",
       "\tBRAF - TP53 & BRAF   & TP53   & BRAF - TP53   &  611 & 3030 & 0.06727593 & 0.33362695 &  82 &  53.397547 & 180 & ⋯ & 122.74030 & -49.03273 & 0 & -44.24852 & -4.784206 & 0 & 3641 & 0 & ME & TRUE\\\\\n",
       "\tTP53 - ARID1A & TP53   & ARID1A & TP53 - ARID1A & 3030 &  571 & 0.33362695 & 0.06287161 & 147 & 115.192451 & 371 & ⋯ & 170.51311 & -39.11761 & 0 & -34.12723 & -4.990387 & 0 & 3601 & 0 & ME & TRUE\\\\\n",
       "\tBRAF - NRAS & BRAF   & NRAS   & BRAF - NRAS   &  611 &  240 & 0.06727593 & 0.02642590 &  13 &   6.352379 & 191 & ⋯ &  55.07884 & -34.45481 & 0 & -31.75002 & -2.704795 & 0 &  851 & 0 & ME & TRUE\\\\\n",
       "\tCDKN2A - TP53 & CDKN2A & TP53   & CDKN2A - TP53 &  334 & 3030 & 0.03677604 & 0.33362695 & 225 & 202.011705 & 334 & ⋯ & 154.34263 &  33.70713 & 0 &  29.37771 &  4.329415 & 0 & 3364 & 0 & CO & TRUE\\\\\n",
       "\tPTEN - TP53 & PTEN   & TP53   & PTEN - TP53   &  635 & 3030 & 0.06991852 & 0.33362695 & 158 & 133.797790 & 385 & ⋯ & 182.37149 & -34.34679 & 0 & -28.99619 & -5.350602 & 0 & 3665 & 0 & ME & TRUE\\\\\n",
       "\\end{tabular}\n"
      ],
      "text/markdown": [
       "\n",
       "A data.frame: 6 × 22\n",
       "\n",
       "| <!--/--> | SFE_1 &lt;chr&gt; | SFE_2 &lt;chr&gt; | name &lt;chr&gt; | support_1 &lt;dbl&gt; | support_2 &lt;dbl&gt; | freq_1 &lt;dbl&gt; | freq_2 &lt;dbl&gt; | overlap &lt;dbl&gt; | w_overlap &lt;dbl&gt; | max_overlap &lt;dbl&gt; | ⋯ ⋯ | w_r_overlap &lt;dbl&gt; | wES &lt;dbl&gt; | wFDR &lt;dbl&gt; | nES &lt;dbl&gt; | mean_r_nES &lt;dbl&gt; | nFDR &lt;dbl&gt; | cum_freq &lt;dbl&gt; | nFDR2 &lt;dbl&gt; | type &lt;chr&gt; | FDR &lt;lgl&gt; |\n",
       "|---|---|---|---|---|---|---|---|---|---|---|---|---|---|---|---|---|---|---|---|---|---|\n",
       "| PIK3CA - TP53 | PIK3CA | TP53   | PIK3CA - TP53 | 1136 | 3030 | 0.12508258 | 0.33362695 | 357 | 317.529713 | 669 | ⋯ | 393.57963 | -53.77541 | 0 | -46.41800 | -7.357413 | 0 | 4166 | 0 | ME | TRUE |\n",
       "| BRAF - TP53 | BRAF   | TP53   | BRAF - TP53   |  611 | 3030 | 0.06727593 | 0.33362695 |  82 |  53.397547 | 180 | ⋯ | 122.74030 | -49.03273 | 0 | -44.24852 | -4.784206 | 0 | 3641 | 0 | ME | TRUE |\n",
       "| TP53 - ARID1A | TP53   | ARID1A | TP53 - ARID1A | 3030 |  571 | 0.33362695 | 0.06287161 | 147 | 115.192451 | 371 | ⋯ | 170.51311 | -39.11761 | 0 | -34.12723 | -4.990387 | 0 | 3601 | 0 | ME | TRUE |\n",
       "| BRAF - NRAS | BRAF   | NRAS   | BRAF - NRAS   |  611 |  240 | 0.06727593 | 0.02642590 |  13 |   6.352379 | 191 | ⋯ |  55.07884 | -34.45481 | 0 | -31.75002 | -2.704795 | 0 |  851 | 0 | ME | TRUE |\n",
       "| CDKN2A - TP53 | CDKN2A | TP53   | CDKN2A - TP53 |  334 | 3030 | 0.03677604 | 0.33362695 | 225 | 202.011705 | 334 | ⋯ | 154.34263 |  33.70713 | 0 |  29.37771 |  4.329415 | 0 | 3364 | 0 | CO | TRUE |\n",
       "| PTEN - TP53 | PTEN   | TP53   | PTEN - TP53   |  635 | 3030 | 0.06991852 | 0.33362695 | 158 | 133.797790 | 385 | ⋯ | 182.37149 | -34.34679 | 0 | -28.99619 | -5.350602 | 0 | 3665 | 0 | ME | TRUE |\n",
       "\n"
      ],
      "text/plain": [
       "              SFE_1  SFE_2  name          support_1 support_2 freq_1    \n",
       "PIK3CA - TP53 PIK3CA TP53   PIK3CA - TP53 1136      3030      0.12508258\n",
       "BRAF - TP53   BRAF   TP53   BRAF - TP53    611      3030      0.06727593\n",
       "TP53 - ARID1A TP53   ARID1A TP53 - ARID1A 3030       571      0.33362695\n",
       "BRAF - NRAS   BRAF   NRAS   BRAF - NRAS    611       240      0.06727593\n",
       "CDKN2A - TP53 CDKN2A TP53   CDKN2A - TP53  334      3030      0.03677604\n",
       "PTEN - TP53   PTEN   TP53   PTEN - TP53    635      3030      0.06991852\n",
       "              freq_2     overlap w_overlap  max_overlap ⋯ w_r_overlap wES      \n",
       "PIK3CA - TP53 0.33362695 357     317.529713 669         ⋯ 393.57963   -53.77541\n",
       "BRAF - TP53   0.33362695  82      53.397547 180         ⋯ 122.74030   -49.03273\n",
       "TP53 - ARID1A 0.06287161 147     115.192451 371         ⋯ 170.51311   -39.11761\n",
       "BRAF - NRAS   0.02642590  13       6.352379 191         ⋯  55.07884   -34.45481\n",
       "CDKN2A - TP53 0.33362695 225     202.011705 334         ⋯ 154.34263    33.70713\n",
       "PTEN - TP53   0.33362695 158     133.797790 385         ⋯ 182.37149   -34.34679\n",
       "              wFDR nES       mean_r_nES nFDR cum_freq nFDR2 type FDR \n",
       "PIK3CA - TP53 0    -46.41800 -7.357413  0    4166     0     ME   TRUE\n",
       "BRAF - TP53   0    -44.24852 -4.784206  0    3641     0     ME   TRUE\n",
       "TP53 - ARID1A 0    -34.12723 -4.990387  0    3601     0     ME   TRUE\n",
       "BRAF - NRAS   0    -31.75002 -2.704795  0     851     0     ME   TRUE\n",
       "CDKN2A - TP53 0     29.37771  4.329415  0    3364     0     CO   TRUE\n",
       "PTEN - TP53   0    -28.99619 -5.350602  0    3665     0     ME   TRUE"
      ]
     },
     "metadata": {},
     "output_type": "display_data"
    }
   ],
   "source": [
    "head(pan_can)"
   ]
  },
  {
   "cell_type": "code",
   "execution_count": 8,
   "id": "00aefe6f-0292-4318-aae5-13d63ec2db9b",
   "metadata": {},
   "outputs": [],
   "source": [
    "pan_can$datatype <- 'Pan-can'\n",
    "pan_can$cohort <- 'TCGA'"
   ]
  },
  {
   "cell_type": "code",
   "execution_count": 12,
   "id": "e1c40d08-077c-4b1b-86fd-4d9117dd7023",
   "metadata": {},
   "outputs": [
    {
     "data": {
      "text/html": [
       "<table class=\"dataframe\">\n",
       "<caption>A data.frame: 6 × 10</caption>\n",
       "<thead>\n",
       "\t<tr><th></th><th scope=col>sample</th><th scope=col>class</th><th scope=col>tumor_run</th><th scope=col>oncotree</th><th scope=col>cancer_type</th><th scope=col>race</th><th scope=col>cohort</th><th scope=col>tumor_run_mapped</th><th scope=col>Tissue</th><th scope=col>final_tumor_run_mapped</th></tr>\n",
       "\t<tr><th></th><th scope=col>&lt;chr&gt;</th><th scope=col>&lt;chr&gt;</th><th scope=col>&lt;chr&gt;</th><th scope=col>&lt;chr&gt;</th><th scope=col>&lt;chr&gt;</th><th scope=col>&lt;chr&gt;</th><th scope=col>&lt;chr&gt;</th><th scope=col>&lt;chr&gt;</th><th scope=col>&lt;chr&gt;</th><th scope=col>&lt;chr&gt;</th></tr>\n",
       "</thead>\n",
       "<tbody>\n",
       "\t<tr><th scope=row>1</th><td>TCGA-OR-A5J5-01</td><td>ACC</td><td>ACC</td><td>ACC</td><td>Adrenocortical Carcinoma</td><td>White</td><td>TCGA</td><td>No mapping</td><td>Adrenal Gland</td><td>ACC</td></tr>\n",
       "\t<tr><th scope=row>2</th><td>TCGA-OR-A5JB-01</td><td>ACC</td><td>ACC</td><td>ACC</td><td>Adrenocortical Carcinoma</td><td>White</td><td>TCGA</td><td>No mapping</td><td>Adrenal Gland</td><td>ACC</td></tr>\n",
       "\t<tr><th scope=row>3</th><td>TCGA-OR-A5JJ-01</td><td>ACC</td><td>ACC</td><td>ACC</td><td>Adrenocortical Carcinoma</td><td>White</td><td>TCGA</td><td>No mapping</td><td>Adrenal Gland</td><td>ACC</td></tr>\n",
       "\t<tr><th scope=row>4</th><td>TCGA-OR-A5JS-01</td><td>ACC</td><td>ACC</td><td>ACC</td><td>Adrenocortical Carcinoma</td><td>White</td><td>TCGA</td><td>No mapping</td><td>Adrenal Gland</td><td>ACC</td></tr>\n",
       "\t<tr><th scope=row>5</th><td>TCGA-OR-A5JY-01</td><td>ACC</td><td>ACC</td><td>ACC</td><td>Adrenocortical Carcinoma</td><td>White</td><td>TCGA</td><td>No mapping</td><td>Adrenal Gland</td><td>ACC</td></tr>\n",
       "\t<tr><th scope=row>6</th><td>TCGA-OR-A5K4-01</td><td>ACC</td><td>ACC</td><td>ACC</td><td>Adrenocortical Carcinoma</td><td>White</td><td>TCGA</td><td>No mapping</td><td>Adrenal Gland</td><td>ACC</td></tr>\n",
       "</tbody>\n",
       "</table>\n"
      ],
      "text/latex": [
       "A data.frame: 6 × 10\n",
       "\\begin{tabular}{r|llllllllll}\n",
       "  & sample & class & tumor\\_run & oncotree & cancer\\_type & race & cohort & tumor\\_run\\_mapped & Tissue & final\\_tumor\\_run\\_mapped\\\\\n",
       "  & <chr> & <chr> & <chr> & <chr> & <chr> & <chr> & <chr> & <chr> & <chr> & <chr>\\\\\n",
       "\\hline\n",
       "\t1 & TCGA-OR-A5J5-01 & ACC & ACC & ACC & Adrenocortical Carcinoma & White & TCGA & No mapping & Adrenal Gland & ACC\\\\\n",
       "\t2 & TCGA-OR-A5JB-01 & ACC & ACC & ACC & Adrenocortical Carcinoma & White & TCGA & No mapping & Adrenal Gland & ACC\\\\\n",
       "\t3 & TCGA-OR-A5JJ-01 & ACC & ACC & ACC & Adrenocortical Carcinoma & White & TCGA & No mapping & Adrenal Gland & ACC\\\\\n",
       "\t4 & TCGA-OR-A5JS-01 & ACC & ACC & ACC & Adrenocortical Carcinoma & White & TCGA & No mapping & Adrenal Gland & ACC\\\\\n",
       "\t5 & TCGA-OR-A5JY-01 & ACC & ACC & ACC & Adrenocortical Carcinoma & White & TCGA & No mapping & Adrenal Gland & ACC\\\\\n",
       "\t6 & TCGA-OR-A5K4-01 & ACC & ACC & ACC & Adrenocortical Carcinoma & White & TCGA & No mapping & Adrenal Gland & ACC\\\\\n",
       "\\end{tabular}\n"
      ],
      "text/markdown": [
       "\n",
       "A data.frame: 6 × 10\n",
       "\n",
       "| <!--/--> | sample &lt;chr&gt; | class &lt;chr&gt; | tumor_run &lt;chr&gt; | oncotree &lt;chr&gt; | cancer_type &lt;chr&gt; | race &lt;chr&gt; | cohort &lt;chr&gt; | tumor_run_mapped &lt;chr&gt; | Tissue &lt;chr&gt; | final_tumor_run_mapped &lt;chr&gt; |\n",
       "|---|---|---|---|---|---|---|---|---|---|---|\n",
       "| 1 | TCGA-OR-A5J5-01 | ACC | ACC | ACC | Adrenocortical Carcinoma | White | TCGA | No mapping | Adrenal Gland | ACC |\n",
       "| 2 | TCGA-OR-A5JB-01 | ACC | ACC | ACC | Adrenocortical Carcinoma | White | TCGA | No mapping | Adrenal Gland | ACC |\n",
       "| 3 | TCGA-OR-A5JJ-01 | ACC | ACC | ACC | Adrenocortical Carcinoma | White | TCGA | No mapping | Adrenal Gland | ACC |\n",
       "| 4 | TCGA-OR-A5JS-01 | ACC | ACC | ACC | Adrenocortical Carcinoma | White | TCGA | No mapping | Adrenal Gland | ACC |\n",
       "| 5 | TCGA-OR-A5JY-01 | ACC | ACC | ACC | Adrenocortical Carcinoma | White | TCGA | No mapping | Adrenal Gland | ACC |\n",
       "| 6 | TCGA-OR-A5K4-01 | ACC | ACC | ACC | Adrenocortical Carcinoma | White | TCGA | No mapping | Adrenal Gland | ACC |\n",
       "\n"
      ],
      "text/plain": [
       "  sample          class tumor_run oncotree cancer_type              race \n",
       "1 TCGA-OR-A5J5-01 ACC   ACC       ACC      Adrenocortical Carcinoma White\n",
       "2 TCGA-OR-A5JB-01 ACC   ACC       ACC      Adrenocortical Carcinoma White\n",
       "3 TCGA-OR-A5JJ-01 ACC   ACC       ACC      Adrenocortical Carcinoma White\n",
       "4 TCGA-OR-A5JS-01 ACC   ACC       ACC      Adrenocortical Carcinoma White\n",
       "5 TCGA-OR-A5JY-01 ACC   ACC       ACC      Adrenocortical Carcinoma White\n",
       "6 TCGA-OR-A5K4-01 ACC   ACC       ACC      Adrenocortical Carcinoma White\n",
       "  cohort tumor_run_mapped Tissue        final_tumor_run_mapped\n",
       "1 TCGA   No mapping       Adrenal Gland ACC                   \n",
       "2 TCGA   No mapping       Adrenal Gland ACC                   \n",
       "3 TCGA   No mapping       Adrenal Gland ACC                   \n",
       "4 TCGA   No mapping       Adrenal Gland ACC                   \n",
       "5 TCGA   No mapping       Adrenal Gland ACC                   \n",
       "6 TCGA   No mapping       Adrenal Gland ACC                   "
      ]
     },
     "metadata": {},
     "output_type": "display_data"
    }
   ],
   "source": [
    "head(all_merged_metdata)"
   ]
  },
  {
   "cell_type": "code",
   "execution_count": 13,
   "id": "dbb02bcd-267d-4276-9b1e-4539bd66fab0",
   "metadata": {},
   "outputs": [
    {
     "data": {
      "text/plain": [
       "\n",
       "      ACC       AML      BLCA    Breast     CCRCC      CESC      CHOL       CRC \n",
       "       76       162       398       981       352       272        36       449 \n",
       "     DIFG      ESCA        GB       HCC      HNSC      Lung  Lymphoma       MEL \n",
       "      507       164       126       348       487       966        37       363 \n",
       "   NCCRCC      PAAD      PCPG    PLMESO Prostrate      SARC       SOC      STAD \n",
       "      336       152       161        82       479       229       177       376 \n",
       "     TGCT      THPA      THYM      UCEC        UM \n",
       "      144       480       119       543        80 "
      ]
     },
     "metadata": {},
     "output_type": "display_data"
    }
   ],
   "source": [
    "(table((all_merged_metdata %>% filter(cohort=='TCGA'))$tumor_run))"
   ]
  },
  {
   "cell_type": "code",
   "execution_count": 14,
   "id": "46675791-7941-4802-9e23-e31f3a150c14",
   "metadata": {
    "scrolled": true
   },
   "outputs": [
    {
     "name": "stdout",
     "output_type": "stream",
     "text": [
      "[1] \"ACC\"\n",
      "[1] \"BLCA\"\n",
      "[1] \"Breast\"\n",
      "[1] \"CESC\"\n",
      "[1] \"CHOL\"\n",
      "[1] \"CRC\"\n",
      "[1] \"Lymphoma\"\n",
      "[1] \"ESCA\"\n",
      "[1] \"GB\"\n",
      "[1] \"HNSC\"\n",
      "[1] \"NCCRCC\"\n",
      "[1] \"CCRCC\"\n",
      "[1] \"AML\"\n",
      "[1] \"DIFG\"\n",
      "[1] \"HCC\"\n",
      "[1] \"Lung\"\n",
      "[1] \"PLMESO\"\n",
      "[1] \"SOC\"\n",
      "[1] \"PAAD\"\n",
      "[1] \"PCPG\"\n",
      "[1] \"Prostrate\"\n",
      "[1] \"SARC\"\n",
      "[1] \"MEL\"\n",
      "[1] \"STAD\"\n",
      "[1] \"TGCT\"\n",
      "[1] \"THPA\"\n",
      "[1] \"THYM\"\n",
      "[1] \"UCEC\"\n",
      "[1] \"UM\"\n"
     ]
    }
   ],
   "source": [
    "tumor_type_run <- list()\n",
    "for(i in unique((all_merged_metdata %>% filter(cohort=='TCGA'))$tumor_run)){\n",
    "    print(i)\n",
    "    tumor_type_run[[i]]<-(readRDS(paste('/mnt/ptemp/arvind/catalogue_work_update/data/results/tumor_run/tcga/tcga_',i,'.rds',sep=\"\")))$result\n",
    "    tumor_type_run[[i]]$datatype <- i\n",
    "    tumor_type_run[[i]]$cohort  <- 'TCGA'\n",
    "\n",
    "}"
   ]
  },
  {
   "cell_type": "code",
   "execution_count": 15,
   "id": "7fe43b7b-f8c2-4e9b-87e7-c613986a819e",
   "metadata": {},
   "outputs": [
    {
     "data": {
      "text/html": [
       "29"
      ],
      "text/latex": [
       "29"
      ],
      "text/markdown": [
       "29"
      ],
      "text/plain": [
       "[1] 29"
      ]
     },
     "metadata": {},
     "output_type": "display_data"
    }
   ],
   "source": [
    "length(tumor_type_run)"
   ]
  },
  {
   "cell_type": "code",
   "execution_count": 16,
   "id": "0b681c0e-7605-44d5-961c-448f5dca3875",
   "metadata": {},
   "outputs": [],
   "source": [
    "merged_df <- bind_rows(tumor_type_run)"
   ]
  },
  {
   "cell_type": "code",
   "execution_count": 17,
   "id": "d74a4eb0-be18-4871-a68c-423f399a3522",
   "metadata": {},
   "outputs": [],
   "source": [
    "final_merge<- bind_rows(pan_can,merged_df)"
   ]
  },
  {
   "cell_type": "code",
   "execution_count": 18,
   "id": "f48247cc-25a7-4c74-a207-d672984c2a3a",
   "metadata": {},
   "outputs": [
    {
     "data": {
      "text/html": [
       "<style>\n",
       ".list-inline {list-style: none; margin:0; padding: 0}\n",
       ".list-inline>li {display: inline-block}\n",
       ".list-inline>li:not(:last-child)::after {content: \"\\00b7\"; padding: 0 .5ex}\n",
       "</style>\n",
       "<ol class=list-inline><li>476882</li><li>24</li></ol>\n"
      ],
      "text/latex": [
       "\\begin{enumerate*}\n",
       "\\item 476882\n",
       "\\item 24\n",
       "\\end{enumerate*}\n"
      ],
      "text/markdown": [
       "1. 476882\n",
       "2. 24\n",
       "\n",
       "\n"
      ],
      "text/plain": [
       "[1] 476882     24"
      ]
     },
     "metadata": {},
     "output_type": "display_data"
    }
   ],
   "source": [
    "dim(final_merge)"
   ]
  },
  {
   "cell_type": "code",
   "execution_count": 19,
   "id": "0e8506be-1900-4c20-b601-22e0ef8e4e13",
   "metadata": {},
   "outputs": [
    {
     "data": {
      "text/html": [
       "<table class=\"dataframe\">\n",
       "<caption>A data.frame: 6 × 24</caption>\n",
       "<thead>\n",
       "\t<tr><th></th><th scope=col>SFE_1</th><th scope=col>SFE_2</th><th scope=col>name</th><th scope=col>support_1</th><th scope=col>support_2</th><th scope=col>freq_1</th><th scope=col>freq_2</th><th scope=col>overlap</th><th scope=col>w_overlap</th><th scope=col>max_overlap</th><th scope=col>⋯</th><th scope=col>wFDR</th><th scope=col>nES</th><th scope=col>mean_r_nES</th><th scope=col>nFDR</th><th scope=col>cum_freq</th><th scope=col>nFDR2</th><th scope=col>type</th><th scope=col>FDR</th><th scope=col>datatype</th><th scope=col>cohort</th></tr>\n",
       "\t<tr><th></th><th scope=col>&lt;chr&gt;</th><th scope=col>&lt;chr&gt;</th><th scope=col>&lt;chr&gt;</th><th scope=col>&lt;dbl&gt;</th><th scope=col>&lt;dbl&gt;</th><th scope=col>&lt;dbl&gt;</th><th scope=col>&lt;dbl&gt;</th><th scope=col>&lt;dbl&gt;</th><th scope=col>&lt;dbl&gt;</th><th scope=col>&lt;dbl&gt;</th><th scope=col>⋯</th><th scope=col>&lt;dbl&gt;</th><th scope=col>&lt;dbl&gt;</th><th scope=col>&lt;dbl&gt;</th><th scope=col>&lt;dbl&gt;</th><th scope=col>&lt;dbl&gt;</th><th scope=col>&lt;dbl&gt;</th><th scope=col>&lt;chr&gt;</th><th scope=col>&lt;lgl&gt;</th><th scope=col>&lt;chr&gt;</th><th scope=col>&lt;chr&gt;</th></tr>\n",
       "</thead>\n",
       "<tbody>\n",
       "\t<tr><th scope=row>PIK3CA - TP53...1</th><td>PIK3CA</td><td>TP53  </td><td>PIK3CA - TP53</td><td>1136</td><td>3030</td><td>0.12508258</td><td>0.33362695</td><td>357</td><td>317.529713</td><td>669</td><td>⋯</td><td>0</td><td>-46.41800</td><td>-7.357413</td><td>0</td><td>4166</td><td>0</td><td>ME</td><td>TRUE</td><td>Pan-can</td><td>TCGA</td></tr>\n",
       "\t<tr><th scope=row>BRAF - TP53...2</th><td>BRAF  </td><td>TP53  </td><td>BRAF - TP53  </td><td> 611</td><td>3030</td><td>0.06727593</td><td>0.33362695</td><td> 82</td><td> 53.397547</td><td>180</td><td>⋯</td><td>0</td><td>-44.24852</td><td>-4.784206</td><td>0</td><td>3641</td><td>0</td><td>ME</td><td>TRUE</td><td>Pan-can</td><td>TCGA</td></tr>\n",
       "\t<tr><th scope=row>TP53 - ARID1A...3</th><td>TP53  </td><td>ARID1A</td><td>TP53 - ARID1A</td><td>3030</td><td> 571</td><td>0.33362695</td><td>0.06287161</td><td>147</td><td>115.192451</td><td>371</td><td>⋯</td><td>0</td><td>-34.12723</td><td>-4.990387</td><td>0</td><td>3601</td><td>0</td><td>ME</td><td>TRUE</td><td>Pan-can</td><td>TCGA</td></tr>\n",
       "\t<tr><th scope=row>BRAF - NRAS...4</th><td>BRAF  </td><td>NRAS  </td><td>BRAF - NRAS  </td><td> 611</td><td> 240</td><td>0.06727593</td><td>0.02642590</td><td> 13</td><td>  6.352379</td><td>191</td><td>⋯</td><td>0</td><td>-31.75002</td><td>-2.704795</td><td>0</td><td> 851</td><td>0</td><td>ME</td><td>TRUE</td><td>Pan-can</td><td>TCGA</td></tr>\n",
       "\t<tr><th scope=row>CDKN2A - TP53...5</th><td>CDKN2A</td><td>TP53  </td><td>CDKN2A - TP53</td><td> 334</td><td>3030</td><td>0.03677604</td><td>0.33362695</td><td>225</td><td>202.011705</td><td>334</td><td>⋯</td><td>0</td><td> 29.37771</td><td> 4.329415</td><td>0</td><td>3364</td><td>0</td><td>CO</td><td>TRUE</td><td>Pan-can</td><td>TCGA</td></tr>\n",
       "\t<tr><th scope=row>PTEN - TP53...6</th><td>PTEN  </td><td>TP53  </td><td>PTEN - TP53  </td><td> 635</td><td>3030</td><td>0.06991852</td><td>0.33362695</td><td>158</td><td>133.797790</td><td>385</td><td>⋯</td><td>0</td><td>-28.99619</td><td>-5.350602</td><td>0</td><td>3665</td><td>0</td><td>ME</td><td>TRUE</td><td>Pan-can</td><td>TCGA</td></tr>\n",
       "</tbody>\n",
       "</table>\n"
      ],
      "text/latex": [
       "A data.frame: 6 × 24\n",
       "\\begin{tabular}{r|lllllllllllllllllllll}\n",
       "  & SFE\\_1 & SFE\\_2 & name & support\\_1 & support\\_2 & freq\\_1 & freq\\_2 & overlap & w\\_overlap & max\\_overlap & ⋯ & wFDR & nES & mean\\_r\\_nES & nFDR & cum\\_freq & nFDR2 & type & FDR & datatype & cohort\\\\\n",
       "  & <chr> & <chr> & <chr> & <dbl> & <dbl> & <dbl> & <dbl> & <dbl> & <dbl> & <dbl> & ⋯ & <dbl> & <dbl> & <dbl> & <dbl> & <dbl> & <dbl> & <chr> & <lgl> & <chr> & <chr>\\\\\n",
       "\\hline\n",
       "\tPIK3CA - TP53...1 & PIK3CA & TP53   & PIK3CA - TP53 & 1136 & 3030 & 0.12508258 & 0.33362695 & 357 & 317.529713 & 669 & ⋯ & 0 & -46.41800 & -7.357413 & 0 & 4166 & 0 & ME & TRUE & Pan-can & TCGA\\\\\n",
       "\tBRAF - TP53...2 & BRAF   & TP53   & BRAF - TP53   &  611 & 3030 & 0.06727593 & 0.33362695 &  82 &  53.397547 & 180 & ⋯ & 0 & -44.24852 & -4.784206 & 0 & 3641 & 0 & ME & TRUE & Pan-can & TCGA\\\\\n",
       "\tTP53 - ARID1A...3 & TP53   & ARID1A & TP53 - ARID1A & 3030 &  571 & 0.33362695 & 0.06287161 & 147 & 115.192451 & 371 & ⋯ & 0 & -34.12723 & -4.990387 & 0 & 3601 & 0 & ME & TRUE & Pan-can & TCGA\\\\\n",
       "\tBRAF - NRAS...4 & BRAF   & NRAS   & BRAF - NRAS   &  611 &  240 & 0.06727593 & 0.02642590 &  13 &   6.352379 & 191 & ⋯ & 0 & -31.75002 & -2.704795 & 0 &  851 & 0 & ME & TRUE & Pan-can & TCGA\\\\\n",
       "\tCDKN2A - TP53...5 & CDKN2A & TP53   & CDKN2A - TP53 &  334 & 3030 & 0.03677604 & 0.33362695 & 225 & 202.011705 & 334 & ⋯ & 0 &  29.37771 &  4.329415 & 0 & 3364 & 0 & CO & TRUE & Pan-can & TCGA\\\\\n",
       "\tPTEN - TP53...6 & PTEN   & TP53   & PTEN - TP53   &  635 & 3030 & 0.06991852 & 0.33362695 & 158 & 133.797790 & 385 & ⋯ & 0 & -28.99619 & -5.350602 & 0 & 3665 & 0 & ME & TRUE & Pan-can & TCGA\\\\\n",
       "\\end{tabular}\n"
      ],
      "text/markdown": [
       "\n",
       "A data.frame: 6 × 24\n",
       "\n",
       "| <!--/--> | SFE_1 &lt;chr&gt; | SFE_2 &lt;chr&gt; | name &lt;chr&gt; | support_1 &lt;dbl&gt; | support_2 &lt;dbl&gt; | freq_1 &lt;dbl&gt; | freq_2 &lt;dbl&gt; | overlap &lt;dbl&gt; | w_overlap &lt;dbl&gt; | max_overlap &lt;dbl&gt; | ⋯ ⋯ | wFDR &lt;dbl&gt; | nES &lt;dbl&gt; | mean_r_nES &lt;dbl&gt; | nFDR &lt;dbl&gt; | cum_freq &lt;dbl&gt; | nFDR2 &lt;dbl&gt; | type &lt;chr&gt; | FDR &lt;lgl&gt; | datatype &lt;chr&gt; | cohort &lt;chr&gt; |\n",
       "|---|---|---|---|---|---|---|---|---|---|---|---|---|---|---|---|---|---|---|---|---|---|\n",
       "| PIK3CA - TP53...1 | PIK3CA | TP53   | PIK3CA - TP53 | 1136 | 3030 | 0.12508258 | 0.33362695 | 357 | 317.529713 | 669 | ⋯ | 0 | -46.41800 | -7.357413 | 0 | 4166 | 0 | ME | TRUE | Pan-can | TCGA |\n",
       "| BRAF - TP53...2 | BRAF   | TP53   | BRAF - TP53   |  611 | 3030 | 0.06727593 | 0.33362695 |  82 |  53.397547 | 180 | ⋯ | 0 | -44.24852 | -4.784206 | 0 | 3641 | 0 | ME | TRUE | Pan-can | TCGA |\n",
       "| TP53 - ARID1A...3 | TP53   | ARID1A | TP53 - ARID1A | 3030 |  571 | 0.33362695 | 0.06287161 | 147 | 115.192451 | 371 | ⋯ | 0 | -34.12723 | -4.990387 | 0 | 3601 | 0 | ME | TRUE | Pan-can | TCGA |\n",
       "| BRAF - NRAS...4 | BRAF   | NRAS   | BRAF - NRAS   |  611 |  240 | 0.06727593 | 0.02642590 |  13 |   6.352379 | 191 | ⋯ | 0 | -31.75002 | -2.704795 | 0 |  851 | 0 | ME | TRUE | Pan-can | TCGA |\n",
       "| CDKN2A - TP53...5 | CDKN2A | TP53   | CDKN2A - TP53 |  334 | 3030 | 0.03677604 | 0.33362695 | 225 | 202.011705 | 334 | ⋯ | 0 |  29.37771 |  4.329415 | 0 | 3364 | 0 | CO | TRUE | Pan-can | TCGA |\n",
       "| PTEN - TP53...6 | PTEN   | TP53   | PTEN - TP53   |  635 | 3030 | 0.06991852 | 0.33362695 | 158 | 133.797790 | 385 | ⋯ | 0 | -28.99619 | -5.350602 | 0 | 3665 | 0 | ME | TRUE | Pan-can | TCGA |\n",
       "\n"
      ],
      "text/plain": [
       "                  SFE_1  SFE_2  name          support_1 support_2 freq_1    \n",
       "PIK3CA - TP53...1 PIK3CA TP53   PIK3CA - TP53 1136      3030      0.12508258\n",
       "BRAF - TP53...2   BRAF   TP53   BRAF - TP53    611      3030      0.06727593\n",
       "TP53 - ARID1A...3 TP53   ARID1A TP53 - ARID1A 3030       571      0.33362695\n",
       "BRAF - NRAS...4   BRAF   NRAS   BRAF - NRAS    611       240      0.06727593\n",
       "CDKN2A - TP53...5 CDKN2A TP53   CDKN2A - TP53  334      3030      0.03677604\n",
       "PTEN - TP53...6   PTEN   TP53   PTEN - TP53    635      3030      0.06991852\n",
       "                  freq_2     overlap w_overlap  max_overlap ⋯ wFDR nES      \n",
       "PIK3CA - TP53...1 0.33362695 357     317.529713 669         ⋯ 0    -46.41800\n",
       "BRAF - TP53...2   0.33362695  82      53.397547 180         ⋯ 0    -44.24852\n",
       "TP53 - ARID1A...3 0.06287161 147     115.192451 371         ⋯ 0    -34.12723\n",
       "BRAF - NRAS...4   0.02642590  13       6.352379 191         ⋯ 0    -31.75002\n",
       "CDKN2A - TP53...5 0.33362695 225     202.011705 334         ⋯ 0     29.37771\n",
       "PTEN - TP53...6   0.33362695 158     133.797790 385         ⋯ 0    -28.99619\n",
       "                  mean_r_nES nFDR cum_freq nFDR2 type FDR  datatype cohort\n",
       "PIK3CA - TP53...1 -7.357413  0    4166     0     ME   TRUE Pan-can  TCGA  \n",
       "BRAF - TP53...2   -4.784206  0    3641     0     ME   TRUE Pan-can  TCGA  \n",
       "TP53 - ARID1A...3 -4.990387  0    3601     0     ME   TRUE Pan-can  TCGA  \n",
       "BRAF - NRAS...4   -2.704795  0     851     0     ME   TRUE Pan-can  TCGA  \n",
       "CDKN2A - TP53...5  4.329415  0    3364     0     CO   TRUE Pan-can  TCGA  \n",
       "PTEN - TP53...6   -5.350602  0    3665     0     ME   TRUE Pan-can  TCGA  "
      ]
     },
     "metadata": {},
     "output_type": "display_data"
    }
   ],
   "source": [
    "head(final_merge)"
   ]
  },
  {
   "cell_type": "code",
   "execution_count": 20,
   "id": "80ed0dc2-8495-452b-97d7-4360b0b7ba67",
   "metadata": {},
   "outputs": [],
   "source": [
    "rownames(final_merge)<- c(1:nrow(final_merge))"
   ]
  },
  {
   "cell_type": "code",
   "execution_count": 21,
   "id": "f5879114-cbfd-4961-a8aa-b76905905747",
   "metadata": {},
   "outputs": [
    {
     "data": {
      "text/html": [
       "<style>\n",
       ".list-inline {list-style: none; margin:0; padding: 0}\n",
       ".list-inline>li {display: inline-block}\n",
       ".list-inline>li:not(:last-child)::after {content: \"\\00b7\"; padding: 0 .5ex}\n",
       "</style>\n",
       "<ol class=list-inline><li>476882</li><li>24</li></ol>\n"
      ],
      "text/latex": [
       "\\begin{enumerate*}\n",
       "\\item 476882\n",
       "\\item 24\n",
       "\\end{enumerate*}\n"
      ],
      "text/markdown": [
       "1. 476882\n",
       "2. 24\n",
       "\n",
       "\n"
      ],
      "text/plain": [
       "[1] 476882     24"
      ]
     },
     "metadata": {},
     "output_type": "display_data"
    }
   ],
   "source": [
    "dim(final_merge)"
   ]
  },
  {
   "cell_type": "code",
   "execution_count": null,
   "id": "bea5884d-04a4-42a3-a8a9-2a369fe8e5c1",
   "metadata": {},
   "outputs": [],
   "source": [
    "saveRDS(final_merge,file='/mnt/ptemp/arvind/catalogue_work_update/data/results/tcga_merged_result.rds')"
   ]
  }
 ],
 "metadata": {
  "kernelspec": {
   "display_name": "R",
   "language": "R",
   "name": "ir"
  },
  "language_info": {
   "codemirror_mode": "r",
   "file_extension": ".r",
   "mimetype": "text/x-r-source",
   "name": "R",
   "pygments_lexer": "r",
   "version": "4.3.2"
  }
 },
 "nbformat": 4,
 "nbformat_minor": 5
}
